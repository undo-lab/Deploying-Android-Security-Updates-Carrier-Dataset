{
 "cells": [
  {
   "cell_type": "code",
   "execution_count": 1,
   "metadata": {},
   "outputs": [
    {
     "data": {
      "text/html": [
       "        <script type=\"text/javascript\">\n",
       "        window.PlotlyConfig = {MathJaxConfig: 'local'};\n",
       "        if (window.MathJax) {MathJax.Hub.Config({SVG: {font: \"STIX-Web\"}});}\n",
       "        if (typeof require !== 'undefined') {\n",
       "        require.undef(\"plotly\");\n",
       "        requirejs.config({\n",
       "            paths: {\n",
       "                'plotly': ['https://cdn.plot.ly/plotly-latest.min']\n",
       "            }\n",
       "        });\n",
       "        require(['plotly'], function(Plotly) {\n",
       "            window._Plotly = Plotly;\n",
       "        });\n",
       "        }\n",
       "        </script>\n",
       "        "
      ]
     },
     "metadata": {},
     "output_type": "display_data"
    }
   ],
   "source": [
    "import pandas as pd\n",
    "import numpy as np\n",
    "import matplotlib.pyplot as plt \n",
    "import re\n",
    "\n",
    "#import plotly\n",
    "import plotly as py\n",
    "import plotly.graph_objs as go\n",
    "py.offline.init_notebook_mode(connected=True)\n",
    "import plotly.io as pio\n",
    "%config InlineBackend.figure_format = 'svg'"
   ]
  },
  {
   "cell_type": "code",
   "execution_count": 2,
   "metadata": {},
   "outputs": [
    {
     "name": "stdout",
     "output_type": "stream",
     "text": [
      "            Model  Carrier android_os Release_Date Bulletin_Level  difference  \\\n",
      "0  Galaxy S7 edge  TMobile      8.0.0   2019-04-03     2019-03-01        30.0   \n",
      "1       Galaxy S9  TMobile          9   2019-03-22     2019-03-01        18.0   \n",
      "2   Galaxy Note 8   Sprint          9   2019-03-26     2019-03-01        22.0   \n",
      "3      Galaxy S9+   Sprint          9   2019-04-08     2019-03-01        35.0   \n",
      "4     Galaxy S10+  Verizon          9   2019-04-12     2019-03-01        39.0   \n",
      "\n",
      "  locked Year_Patch_Release Bulletin_Publish_Date  \n",
      "0   True               2019            2019-03-04  \n",
      "1   True               2019            2019-03-04  \n",
      "2   True               2019            2019-03-04  \n",
      "3   True               2019            2019-03-04  \n",
      "4  False               2019            2019-03-04  \n"
     ]
    }
   ],
   "source": [
    "# First, get the published year and readjust difference\n",
    "samsungDF=pd.read_csv('../data/samsung_final.csv')\n",
    "samsungDF.columns=['Model', 'Carrier','android_os', 'Release_Date', 'Bulletin_Level', 'difference','locked']\n",
    "samsungDF['Year_Patch_Release']=samsungDF.Release_Date.copy()\n",
    "samsungDF['Year_Patch_Release']=samsungDF.Year_Patch_Release.apply(lambda x: x[:4])\n",
    "\n",
    "bulletinPublished=pd.read_csv('../data/androidBulletin_release.csv',header=None)\n",
    "bulletinPublished.columns=['Bulletin','Bulletin_Publish_Date']\n",
    "bulletinPublished['Bulletin_Level']=bulletinPublished.Bulletin.str.replace(r\"^([^ ]*) ([^ ]*)$\",r\"\\1 1, \\2\")\n",
    "bulletinPublished['Bulletin_Level']=pd.to_datetime(bulletinPublished['Bulletin_Level'])\n",
    "bulletinPublished['Bulletin_Publish_Date']=pd.to_datetime(bulletinPublished['Bulletin_Publish_Date'])\n",
    "bulletinPublished.drop(columns=['Bulletin'],inplace=True)\n",
    "bulletinPublished['Bulletin_Level']=bulletinPublished['Bulletin_Level'].astype(str)\n",
    "bulletinPublished=bulletinPublished[bulletinPublished.Bulletin_Level!=\"2020-02-01\"]\n",
    "bulletinPublished=bulletinPublished[bulletinPublished.Bulletin_Level!=\"2020-01-01\"]\n",
    "bulletinPublished['Bulletin_Publish_Date']=pd.to_datetime(bulletinPublished['Bulletin_Publish_Date'])\n",
    "\n",
    "##### Recalculate the difference #####\n",
    "samsungDF=pd.merge(samsungDF,bulletinPublished,on=\"Bulletin_Level\",how='outer') # Merge properly\n",
    "\n",
    "# Remove extraneous bulletins not in corpus\n",
    "samsungDF.Model=samsungDF.Model.astype(str)\n",
    "samsungDF=samsungDF[samsungDF.Model!=\"nan\"]\n",
    "\n",
    "# # Calculate the new difference\n",
    "samsungDF.Bulletin_Publish_Date=pd.to_datetime(samsungDF.Bulletin_Publish_Date)\n",
    "samsungDF.Release_Date=pd.to_datetime(samsungDF.Release_Date)\n",
    "\n",
    "newDif=samsungDF.Release_Date-samsungDF.Bulletin_Publish_Date\n",
    "newDif=newDif.apply(lambda x: x.days)\n",
    "samsungDF['difference']=newDif.copy()\n",
    "\n",
    "\n",
    "print(samsungDF.head())"
   ]
  },
  {
   "cell_type": "code",
   "execution_count": 3,
   "metadata": {},
   "outputs": [
    {
     "name": "stdout",
     "output_type": "stream",
     "text": [
      "-----------------------------\n",
      "            Model  Carrier android_os Release_Date Bulletin_Level  difference  \\\n",
      "0  Galaxy S7 edge  TMobile      8.0.0   2019-04-03     2019-03-01        30.0   \n",
      "1       Galaxy S9  TMobile          9   2019-03-22     2019-03-01        18.0   \n",
      "2   Galaxy Note 8   Sprint          9   2019-03-26     2019-03-01        22.0   \n",
      "3      Galaxy S9+   Sprint          9   2019-04-08     2019-03-01        35.0   \n",
      "6     Galaxy S10+   Sprint          9   2019-04-12     2019-03-01        39.0   \n",
      "\n",
      "  locked Year_Patch_Release Bulletin_Publish_Date  \n",
      "0   True               2019            2019-03-04  \n",
      "1   True               2019            2019-03-04  \n",
      "2   True               2019            2019-03-04  \n",
      "3   True               2019            2019-03-04  \n",
      "6  False               2019            2019-03-04  \n",
      "---------------------------------------------------------------------------------\n",
      "---------------------------------------------------------------------------------\n",
      "SAMSUNG: All Updates: 705\n",
      "SAMSUNG: Unique Phones : 15\n"
     ]
    }
   ],
   "source": [
    "\n",
    "print(\"-----------------------------\")\n",
    "# Filter to only T-Mobile, Sprint and Unbranded\n",
    "samsungDF=samsungDF[samsungDF.Carrier!=\"AT&T\"]\n",
    "samsungDF=samsungDF[samsungDF.Carrier!=\"Verizon\"]\n",
    "samsungDF=samsungDF[samsungDF.Bulletin_Level!=\"2020-01-01\"] # remove 2020-01-01\n",
    "allCarriers=samsungDF.Carrier.unique()\n",
    "allModels_Sam=samsungDF.Model.unique()\n",
    "allBulletin_Sam=samsungDF.Bulletin_Level.unique()\n",
    "allPatchYears_Sam=samsungDF.Year_Patch_Release.unique()\n",
    "print(samsungDF.head())\n",
    "print(\"---------------------------------------------------------------------------------\")\n",
    "print(\"---------------------------------------------------------------------------------\")\n",
    "print(\"SAMSUNG: All Updates: \"+ str(len(samsungDF)))\n",
    "print(\"SAMSUNG: Unique Phones : \"+ str(len(allModels_Sam)))\n",
    "\n",
    "\n",
    "samsungDF_locked=samsungDF[samsungDF.locked==True]\n",
    "samsungDF_unlocked=samsungDF[samsungDF.locked==False]"
   ]
  },
  {
   "cell_type": "code",
   "execution_count": 4,
   "metadata": {},
   "outputs": [
    {
     "name": "stdout",
     "output_type": "stream",
     "text": [
      "['Galaxy S7 edge' 'Galaxy S9' 'Galaxy Note 8' 'Galaxy S9+' 'Galaxy S10+'\n",
      " 'Galaxy S8' 'Galaxy Note9' 'Galaxy S10' 'Galaxy S8+' 'Galaxy S7'\n",
      " 'Galaxy A10e' 'Galaxy Note 10' 'Galaxy A50' 'Galaxy Note 10+'\n",
      " 'Galaxy A20']\n"
     ]
    }
   ],
   "source": [
    "print(allModels_Sam)"
   ]
  },
  {
   "cell_type": "code",
   "execution_count": 5,
   "metadata": {},
   "outputs": [
    {
     "name": "stdout",
     "output_type": "stream",
     "text": [
      "     Carrier  locked  Num_Updates  Unique_Models  Unique_Bulletins  \\\n",
      "0    TMobile    True          129             14                18   \n",
      "1    TMobile   False          124             14                18   \n",
      "2     Sprint    True          143             15                18   \n",
      "3     Sprint   False          154             14                18   \n",
      "4  Unbranded   False          155             14                18   \n",
      "\n",
      "  Earliest_Release Latest_Release Earliest_Bulletin Latest_Bulletin  \\\n",
      "0       2018-08-13     2019-12-30        2018-07-01      2019-12-01   \n",
      "1       2018-07-25     2020-01-31        2018-07-01      2019-12-01   \n",
      "2       2018-08-06     2020-01-02        2018-07-01      2019-12-01   \n",
      "3       2018-07-25     2020-01-14        2018-07-01      2019-12-01   \n",
      "4       2018-07-25     2020-01-14        2018-07-01      2019-12-01   \n",
      "\n",
      "   Bulletins_per_Model  \n",
      "0             1.285714  \n",
      "1             1.285714  \n",
      "2             1.200000  \n",
      "3             1.285714  \n",
      "4             1.285714  \n"
     ]
    }
   ],
   "source": [
    "############### Stats for Samsung Locked vs Unlocked ###############\n",
    "samsungDF.locked=samsungDF.locked.astype('bool')\n",
    "allRows=[]\n",
    "length=0\n",
    "for carrier in allCarriers:\n",
    "    for lock in [True,False]:\n",
    "        tmpdf=samsungDF[samsungDF.locked==lock]\n",
    "        tmpdf=tmpdf[tmpdf.Carrier==carrier]\n",
    "        if len(tmpdf)>0:\n",
    "            length=len(tmpdf)\n",
    "            allRows.append([str(carrier),lock,length])\n",
    "    \n",
    "statsDF_Sam_filtered=pd.DataFrame(allRows,columns=['Carrier','locked','Num_Updates'])\n",
    "\n",
    "newCol=[]\n",
    "length=0\n",
    "for carrier in allCarriers:\n",
    "    for lock in [True,False]:\n",
    "        dfTemp=samsungDF[samsungDF.Carrier==carrier]\n",
    "        dfTemp=dfTemp[dfTemp.locked==lock]\n",
    "        if len(dfTemp)>0:\n",
    "            length=len(dfTemp.Model.unique())\n",
    "            newCol.append(length)\n",
    "\n",
    "statsDF_Sam_filtered['Unique_Models']=newCol.copy()\n",
    "\n",
    "# Unique Number of Bulletins\n",
    "newCol=[]\n",
    "length=0\n",
    "for carrier in allCarriers:\n",
    "    for lock in [True,False]:\n",
    "        dfTemp=samsungDF[samsungDF.Carrier==carrier]\n",
    "        dfTemp=dfTemp[dfTemp.locked==lock]\n",
    "        if len(dfTemp)>0:\n",
    "            length=len(dfTemp.Bulletin_Level.unique())\n",
    "            newCol.append(length)\n",
    "\n",
    "statsDF_Sam_filtered['Unique_Bulletins']=newCol.copy()\n",
    "\n",
    "# Timeline: Earliest Release date\n",
    "newCol=[]\n",
    "length=0\n",
    "for carrier in allCarriers:\n",
    "    for lock in [True,False]:\n",
    "        tempDF=samsungDF[samsungDF.Carrier==carrier]\n",
    "        tempDF=tempDF[tempDF.locked==lock]\n",
    "        if len(tempDF)>0: \n",
    "            minDifIndex=np.argmin(tempDF.Release_Date.values)\n",
    "            newCol.append(tempDF.iloc[minDifIndex].Release_Date)\n",
    "            \n",
    "    \n",
    "statsDF_Sam_filtered['Earliest_Release']=newCol.copy()\n",
    "\n",
    "# Timeline: Latest Release date\n",
    "newCol=[]\n",
    "length=0\n",
    "for carrier in allCarriers:\n",
    "    for lock in [True,False]:\n",
    "        tempDF=samsungDF[samsungDF.Carrier==carrier]\n",
    "        tempDF=tempDF[tempDF.locked==lock]\n",
    "        if len(tempDF)>0: \n",
    "            minDifIndex=np.argmax(tempDF.Release_Date.values)\n",
    "            newCol.append(tempDF.iloc[minDifIndex].Release_Date)\n",
    "    \n",
    "statsDF_Sam_filtered['Latest_Release']=newCol.copy()\n",
    "\n",
    "\n",
    "# Timeline: Earliest Bulletin date\n",
    "newCol=[]\n",
    "length=0\n",
    "for carrier in allCarriers:\n",
    "    for lock in [True,False]:\n",
    "        tempDF=samsungDF[samsungDF.Carrier==carrier]\n",
    "        tempDF=tempDF[tempDF.locked==lock]\n",
    "        if len(tempDF)>0: \n",
    "            minDifIndex=np.argmin(tempDF.Bulletin_Level.values)\n",
    "            newCol.append(tempDF.iloc[minDifIndex].Bulletin_Level)\n",
    "    \n",
    "statsDF_Sam_filtered['Earliest_Bulletin']=newCol.copy()\n",
    "\n",
    "# Timeline: Latest Bulletin date\n",
    "newCol=[]\n",
    "length=0\n",
    "for carrier in allCarriers:\n",
    "    for lock in [True,False]:\n",
    "        tempDF=samsungDF[samsungDF.Carrier==carrier]\n",
    "        tempDF=tempDF[tempDF.locked==lock]\n",
    "        if len(tempDF)>0: \n",
    "            minDifIndex=np.argmax(tempDF.Bulletin_Level.values)\n",
    "            newCol.append(tempDF.iloc[minDifIndex].Bulletin_Level)\n",
    "    \n",
    "statsDF_Sam_filtered['Latest_Bulletin']=newCol.copy()\n",
    "    \n",
    "# Average bulletins per model\n",
    "newCol=[]\n",
    "length=0\n",
    "for carrier in allCarriers:\n",
    "    for lock in [True,False]:\n",
    "        tempDF=statsDF_Sam_filtered[statsDF_Sam_filtered.Carrier==carrier]\n",
    "        tempDF=tempDF[tempDF.locked==lock]\n",
    "        if len(tempDF)>0: \n",
    "            calc=tempDF.Unique_Bulletins/tempDF.Unique_Models\n",
    "            newCol.append(calc.iloc[0])\n",
    "\n",
    "statsDF_Sam_filtered['Bulletins_per_Model']=newCol.copy()\n",
    "\n",
    "\n",
    "print(statsDF_Sam_filtered.head())"
   ]
  },
  {
   "cell_type": "code",
   "execution_count": 6,
   "metadata": {},
   "outputs": [
    {
     "name": "stdout",
     "output_type": "stream",
     "text": [
      "705\n",
      "Number of Updates: 465\n",
      "Unique Models: 14\n",
      "Unique Bulletins: 18\n",
      "            Model  Carrier android_os Release_Date Bulletin_Level  difference  \\\n",
      "0  Galaxy S7 edge  TMobile      8.0.0   2019-04-03     2019-03-01        30.0   \n",
      "3      Galaxy S9+   Sprint          9   2019-04-08     2019-03-01        35.0   \n",
      "4     Galaxy S10+   Sprint          9   2019-04-12     2019-03-01        39.0   \n",
      "6  Galaxy S7 edge   Sprint      8.0.0   2019-04-29     2019-03-01        56.0   \n",
      "7    Galaxy Note9  TMobile          9   2019-04-15     2019-03-01        42.0   \n",
      "\n",
      "   locked Year_Patch_Release Bulletin_Publish_Date  \n",
      "0    True               2019            2019-03-04  \n",
      "3    True               2019            2019-03-04  \n",
      "4   False               2019            2019-03-04  \n",
      "6    True               2019            2019-03-04  \n",
      "7    True               2019            2019-03-04  \n"
     ]
    }
   ],
   "source": [
    "# Let's look at security bulletins address by only both locked and unlocked\n",
    "\n",
    "# for each phone device, only consider updates on both locked and unlocked entities\n",
    "\n",
    "samsungDF=samsungDF.reset_index(drop=True)\n",
    "goodindices=[]\n",
    "for model in samsungDF.Model.unique():\n",
    "    tmp=samsungDF[samsungDF.Model==model]\n",
    "    \n",
    "    if \"TMobile\" in tmp.Carrier.unique():\n",
    "        tmp2=tmp[tmp.Carrier==\"TMobile\"]\n",
    "        if len(tmp2.locked.unique())>1: # Meaning locked and unlocked present\n",
    "            lockedLst=set(tmp2[tmp2.locked==True].Bulletin_Level.unique()) # get locked\n",
    "            unlockedLst=set(tmp2[tmp2.locked==False].Bulletin_Level.unique()) # get unlocked\n",
    "            result=list(lockedLst & unlockedLst) # Locate only same bulletins covered\n",
    "            for bul2 in result: # Record only those bulletins\n",
    "                tmp4=tmp2[tmp2.Bulletin_Level==bul2]\n",
    "                goodindices.extend(tmp4.index)\n",
    "            \n",
    "            \n",
    "    if \"Sprint\" in tmp.Carrier.unique():\n",
    "        tmp2=tmp[tmp.Carrier==\"Sprint\"]\n",
    "        if len(tmp2.locked.unique())>1: # Meaning locked and unlocked present\n",
    "            lockedLst=set(tmp2[tmp2.locked==True].Bulletin_Level.unique())\n",
    "            unlockedLst=set(tmp2[tmp2.locked==False].Bulletin_Level.unique())\n",
    "            result=list(lockedLst & unlockedLst) # Locate only same bulletins covered\n",
    "            for bul2 in result:  # Record only those bulletins\n",
    "                tmp4=tmp2[tmp2.Bulletin_Level==bul2]\n",
    "                goodindices.extend(tmp4.index)\n",
    "              \n",
    "            \n",
    "print(len(samsungDF))\n",
    "goodindices=list(set(goodindices))\n",
    "normalizedDF=samsungDF.iloc[goodindices]\n",
    "print(\"Number of Updates: \"+str(len(goodindices)))\n",
    "print(\"Unique Models: \"+str(len(normalizedDF.Model.unique())))\n",
    "print(\"Unique Bulletins: \"+str(len(normalizedDF.Bulletin_Level.unique())))\n",
    "print(normalizedDF.head())\n",
    "\n"
   ]
  },
  {
   "cell_type": "code",
   "execution_count": 7,
   "metadata": {},
   "outputs": [
    {
     "name": "stdout",
     "output_type": "stream",
     "text": [
      "['TMobile' 'Sprint' 'Sprint_U' 'Unbranded' 'Tmobile_U']\n",
      "Galaxy S7 edge\n",
      "Galaxy S9\n",
      "Galaxy Note 8\n",
      "Galaxy S9+\n",
      "Galaxy S10+\n",
      "Galaxy S8\n",
      "Galaxy Note9\n",
      "Galaxy S10\n",
      "Galaxy S8+\n",
      "Galaxy S7\n",
      "Galaxy Note 10\n",
      "Galaxy Note 10+\n",
      "Galaxy A20\n",
      "----------------------\n",
      "Total Amount of Values\n",
      "T-Mobile: locked(127), unlocked(120)\n",
      "Sprint: locked(136), unlocked(150)\n",
      "Unbranded: 151\n",
      "Unique Phones: 13\n",
      "----------------------\n"
     ]
    },
    {
     "data": {
      "application/vnd.plotly.v1+json": {
       "config": {
        "linkText": "Export to plot.ly",
        "plotlyServerURL": "https://plot.ly",
        "showLink": false
       },
       "data": [
        {
         "boxpoints": "all",
         "marker": {
          "color": "rgb(204, 61, 202)"
         },
         "name": "T-Mobile",
         "showlegend": false,
         "type": "box",
         "y": [
          30,
          18,
          9,
          37,
          32,
          11,
          26,
          19,
          37,
          14,
          15,
          37,
          21,
          12,
          42,
          33,
          11,
          24,
          27,
          19,
          54,
          32,
          14,
          11,
          25,
          49,
          29,
          11,
          35,
          34,
          18,
          9,
          37,
          32,
          11,
          26,
          19,
          37,
          14,
          15,
          37,
          21,
          12,
          42,
          33,
          14,
          14,
          40,
          25,
          11,
          39,
          9,
          -2,
          21,
          25,
          30,
          25,
          21,
          24,
          54,
          33,
          28,
          28,
          49,
          21,
          40,
          15,
          66,
          18,
          42,
          14,
          34,
          42,
          21,
          21,
          19,
          35,
          18,
          44,
          11,
          5,
          19,
          14,
          26,
          17,
          33,
          14,
          14,
          40,
          25,
          11,
          39,
          9,
          -2,
          21,
          25,
          30,
          25,
          21,
          24,
          54,
          33,
          28,
          28,
          49,
          21,
          40,
          15,
          66,
          18,
          30,
          28,
          18,
          -2,
          25,
          5,
          16,
          28,
          18,
          -2,
          25,
          5,
          16,
          41,
          20,
          50,
          42
         ]
        },
        {
         "boxpoints": "all",
         "marker": {
          "color": "rgb(235, 122, 233)"
         },
         "name": "T-Mobile Unlocked",
         "showlegend": false,
         "type": "box",
         "y": [
          35,
          21,
          42,
          64,
          15,
          35,
          42,
          32,
          25,
          66,
          23,
          35,
          60,
          21,
          27,
          28,
          29,
          53,
          42,
          36,
          39,
          32,
          60,
          23,
          24,
          16,
          36,
          23,
          21,
          42,
          64,
          15,
          35,
          42,
          32,
          25,
          66,
          23,
          39,
          21,
          4,
          17,
          49,
          22,
          43,
          -2,
          23,
          3,
          35,
          33,
          35,
          21,
          29,
          28,
          63,
          28,
          39,
          39,
          29,
          18,
          37,
          24,
          23,
          42,
          11,
          34,
          36,
          24,
          42,
          22,
          39,
          42,
          15,
          21,
          37,
          36,
          17,
          39,
          21,
          4,
          17,
          49,
          22,
          43,
          -2,
          23,
          3,
          35,
          33,
          35,
          21,
          29,
          28,
          63,
          28,
          39,
          39,
          29,
          18,
          37,
          24,
          23,
          35,
          29,
          2,
          20,
          -2,
          25,
          4,
          16,
          29,
          2,
          20,
          15,
          -2,
          25,
          4,
          16,
          43,
          85
         ]
        },
        {
         "boxpoints": "all",
         "marker": {
          "color": "rgb(212, 164, 21)"
         },
         "name": "Sprint",
         "showlegend": false,
         "type": "box",
         "y": [
          56,
          35,
          10,
          13,
          42,
          35,
          16,
          24,
          14,
          12,
          37,
          18,
          42,
          25,
          35,
          17,
          23,
          16,
          22,
          14,
          23,
          17,
          21,
          25,
          18,
          22,
          14,
          10,
          18,
          24,
          42,
          28,
          17,
          21,
          28,
          36,
          16,
          35,
          10,
          13,
          42,
          35,
          16,
          24,
          14,
          12,
          37,
          18,
          42,
          25,
          35,
          17,
          23,
          16,
          23,
          14,
          27,
          56,
          11,
          15,
          -3,
          14,
          21,
          26,
          21,
          28,
          23,
          28,
          32,
          25,
          19,
          21,
          30,
          28,
          2,
          22,
          35,
          17,
          17,
          28,
          23,
          10,
          27,
          42,
          24,
          42,
          16,
          28,
          37,
          10,
          28,
          11,
          10,
          15,
          28,
          15,
          23,
          14,
          27,
          56,
          11,
          15,
          -3,
          14,
          21,
          26,
          21,
          28,
          23,
          28,
          32,
          25,
          19,
          21,
          30,
          28,
          2,
          22,
          35,
          17,
          17,
          28,
          56,
          31,
          7,
          -3,
          21,
          14,
          31,
          7,
          -3,
          21,
          14,
          20,
          52,
          37
         ]
        },
        {
         "boxpoints": "all",
         "marker": {
          "color": "rgb(252, 211, 86)"
         },
         "name": "Sprint Unlocked",
         "showlegend": false,
         "type": "box",
         "y": [
          35,
          36,
          21,
          15,
          28,
          36,
          29,
          42,
          42,
          32,
          15,
          35,
          42,
          28,
          25,
          31,
          14,
          29,
          23,
          43,
          21,
          27,
          28,
          30,
          36,
          25,
          25,
          42,
          36,
          39,
          32,
          60,
          23,
          22,
          16,
          36,
          22,
          29,
          23,
          36,
          21,
          15,
          28,
          36,
          29,
          42,
          42,
          32,
          15,
          35,
          42,
          28,
          25,
          31,
          14,
          29,
          23,
          39,
          21,
          1,
          17,
          37,
          22,
          43,
          15,
          -2,
          23,
          3,
          35,
          14,
          33,
          21,
          27,
          28,
          29,
          24,
          30,
          39,
          39,
          29,
          18,
          37,
          16,
          22,
          29,
          23,
          42,
          11,
          23,
          29,
          30,
          42,
          24,
          42,
          22,
          39,
          42,
          15,
          10,
          21,
          30,
          36,
          17,
          39,
          21,
          1,
          17,
          37,
          22,
          43,
          15,
          -2,
          23,
          3,
          35,
          14,
          33,
          21,
          27,
          28,
          29,
          24,
          28,
          39,
          39,
          29,
          18,
          37,
          16,
          22,
          29,
          23,
          35,
          29,
          1,
          20,
          -2,
          24,
          3,
          16,
          29,
          1,
          20,
          15,
          -2,
          24,
          3,
          16,
          43,
          85
         ]
        },
        {
         "boxpoints": "all",
         "marker": {
          "color": "rgb(30, 179, 70)"
         },
         "name": "Unbranded",
         "showlegend": false,
         "type": "box",
         "y": [
          35,
          36,
          21,
          15,
          28,
          36,
          29,
          42,
          42,
          32,
          15,
          35,
          42,
          28,
          25,
          31,
          14,
          29,
          23,
          35,
          43,
          21,
          27,
          28,
          29,
          36,
          53,
          24,
          42,
          36,
          39,
          32,
          60,
          23,
          22,
          16,
          36,
          22,
          29,
          23,
          36,
          21,
          15,
          28,
          36,
          29,
          42,
          42,
          32,
          15,
          35,
          42,
          28,
          25,
          31,
          14,
          29,
          23,
          39,
          21,
          1,
          15,
          37,
          22,
          43,
          -2,
          23,
          3,
          35,
          14,
          33,
          35,
          21,
          27,
          28,
          29,
          63,
          28,
          39,
          39,
          29,
          18,
          37,
          16,
          22,
          29,
          23,
          42,
          11,
          23,
          29,
          30,
          42,
          24,
          42,
          22,
          39,
          42,
          15,
          10,
          21,
          30,
          36,
          17,
          39,
          21,
          1,
          15,
          39,
          22,
          43,
          -2,
          23,
          3,
          35,
          14,
          33,
          35,
          21,
          27,
          28,
          29,
          63,
          28,
          39,
          39,
          29,
          18,
          37,
          16,
          22,
          29,
          23,
          35,
          29,
          1,
          20,
          -2,
          24,
          3,
          16,
          29,
          1,
          20,
          15,
          -2,
          24,
          3,
          16,
          43,
          85
         ]
        }
       ],
       "layout": {
        "font": {
         "size": 20
        },
        "legend": {
         "orientation": "h",
         "x": 0,
         "y": -0.25
        },
        "plot_bgcolor": "rgba(0,0,0,0)",
        "template": {
         "data": {
          "bar": [
           {
            "error_x": {
             "color": "#2a3f5f"
            },
            "error_y": {
             "color": "#2a3f5f"
            },
            "marker": {
             "line": {
              "color": "#E5ECF6",
              "width": 0.5
             }
            },
            "type": "bar"
           }
          ],
          "barpolar": [
           {
            "marker": {
             "line": {
              "color": "#E5ECF6",
              "width": 0.5
             }
            },
            "type": "barpolar"
           }
          ],
          "carpet": [
           {
            "aaxis": {
             "endlinecolor": "#2a3f5f",
             "gridcolor": "white",
             "linecolor": "white",
             "minorgridcolor": "white",
             "startlinecolor": "#2a3f5f"
            },
            "baxis": {
             "endlinecolor": "#2a3f5f",
             "gridcolor": "white",
             "linecolor": "white",
             "minorgridcolor": "white",
             "startlinecolor": "#2a3f5f"
            },
            "type": "carpet"
           }
          ],
          "choropleth": [
           {
            "colorbar": {
             "outlinewidth": 0,
             "ticks": ""
            },
            "type": "choropleth"
           }
          ],
          "contour": [
           {
            "colorbar": {
             "outlinewidth": 0,
             "ticks": ""
            },
            "colorscale": [
             [
              0,
              "#0d0887"
             ],
             [
              0.1111111111111111,
              "#46039f"
             ],
             [
              0.2222222222222222,
              "#7201a8"
             ],
             [
              0.3333333333333333,
              "#9c179e"
             ],
             [
              0.4444444444444444,
              "#bd3786"
             ],
             [
              0.5555555555555556,
              "#d8576b"
             ],
             [
              0.6666666666666666,
              "#ed7953"
             ],
             [
              0.7777777777777778,
              "#fb9f3a"
             ],
             [
              0.8888888888888888,
              "#fdca26"
             ],
             [
              1,
              "#f0f921"
             ]
            ],
            "type": "contour"
           }
          ],
          "contourcarpet": [
           {
            "colorbar": {
             "outlinewidth": 0,
             "ticks": ""
            },
            "type": "contourcarpet"
           }
          ],
          "heatmap": [
           {
            "colorbar": {
             "outlinewidth": 0,
             "ticks": ""
            },
            "colorscale": [
             [
              0,
              "#0d0887"
             ],
             [
              0.1111111111111111,
              "#46039f"
             ],
             [
              0.2222222222222222,
              "#7201a8"
             ],
             [
              0.3333333333333333,
              "#9c179e"
             ],
             [
              0.4444444444444444,
              "#bd3786"
             ],
             [
              0.5555555555555556,
              "#d8576b"
             ],
             [
              0.6666666666666666,
              "#ed7953"
             ],
             [
              0.7777777777777778,
              "#fb9f3a"
             ],
             [
              0.8888888888888888,
              "#fdca26"
             ],
             [
              1,
              "#f0f921"
             ]
            ],
            "type": "heatmap"
           }
          ],
          "heatmapgl": [
           {
            "colorbar": {
             "outlinewidth": 0,
             "ticks": ""
            },
            "colorscale": [
             [
              0,
              "#0d0887"
             ],
             [
              0.1111111111111111,
              "#46039f"
             ],
             [
              0.2222222222222222,
              "#7201a8"
             ],
             [
              0.3333333333333333,
              "#9c179e"
             ],
             [
              0.4444444444444444,
              "#bd3786"
             ],
             [
              0.5555555555555556,
              "#d8576b"
             ],
             [
              0.6666666666666666,
              "#ed7953"
             ],
             [
              0.7777777777777778,
              "#fb9f3a"
             ],
             [
              0.8888888888888888,
              "#fdca26"
             ],
             [
              1,
              "#f0f921"
             ]
            ],
            "type": "heatmapgl"
           }
          ],
          "histogram": [
           {
            "marker": {
             "colorbar": {
              "outlinewidth": 0,
              "ticks": ""
             }
            },
            "type": "histogram"
           }
          ],
          "histogram2d": [
           {
            "colorbar": {
             "outlinewidth": 0,
             "ticks": ""
            },
            "colorscale": [
             [
              0,
              "#0d0887"
             ],
             [
              0.1111111111111111,
              "#46039f"
             ],
             [
              0.2222222222222222,
              "#7201a8"
             ],
             [
              0.3333333333333333,
              "#9c179e"
             ],
             [
              0.4444444444444444,
              "#bd3786"
             ],
             [
              0.5555555555555556,
              "#d8576b"
             ],
             [
              0.6666666666666666,
              "#ed7953"
             ],
             [
              0.7777777777777778,
              "#fb9f3a"
             ],
             [
              0.8888888888888888,
              "#fdca26"
             ],
             [
              1,
              "#f0f921"
             ]
            ],
            "type": "histogram2d"
           }
          ],
          "histogram2dcontour": [
           {
            "colorbar": {
             "outlinewidth": 0,
             "ticks": ""
            },
            "colorscale": [
             [
              0,
              "#0d0887"
             ],
             [
              0.1111111111111111,
              "#46039f"
             ],
             [
              0.2222222222222222,
              "#7201a8"
             ],
             [
              0.3333333333333333,
              "#9c179e"
             ],
             [
              0.4444444444444444,
              "#bd3786"
             ],
             [
              0.5555555555555556,
              "#d8576b"
             ],
             [
              0.6666666666666666,
              "#ed7953"
             ],
             [
              0.7777777777777778,
              "#fb9f3a"
             ],
             [
              0.8888888888888888,
              "#fdca26"
             ],
             [
              1,
              "#f0f921"
             ]
            ],
            "type": "histogram2dcontour"
           }
          ],
          "mesh3d": [
           {
            "colorbar": {
             "outlinewidth": 0,
             "ticks": ""
            },
            "type": "mesh3d"
           }
          ],
          "parcoords": [
           {
            "line": {
             "colorbar": {
              "outlinewidth": 0,
              "ticks": ""
             }
            },
            "type": "parcoords"
           }
          ],
          "pie": [
           {
            "automargin": true,
            "type": "pie"
           }
          ],
          "scatter": [
           {
            "marker": {
             "colorbar": {
              "outlinewidth": 0,
              "ticks": ""
             }
            },
            "type": "scatter"
           }
          ],
          "scatter3d": [
           {
            "line": {
             "colorbar": {
              "outlinewidth": 0,
              "ticks": ""
             }
            },
            "marker": {
             "colorbar": {
              "outlinewidth": 0,
              "ticks": ""
             }
            },
            "type": "scatter3d"
           }
          ],
          "scattercarpet": [
           {
            "marker": {
             "colorbar": {
              "outlinewidth": 0,
              "ticks": ""
             }
            },
            "type": "scattercarpet"
           }
          ],
          "scattergeo": [
           {
            "marker": {
             "colorbar": {
              "outlinewidth": 0,
              "ticks": ""
             }
            },
            "type": "scattergeo"
           }
          ],
          "scattergl": [
           {
            "marker": {
             "colorbar": {
              "outlinewidth": 0,
              "ticks": ""
             }
            },
            "type": "scattergl"
           }
          ],
          "scattermapbox": [
           {
            "marker": {
             "colorbar": {
              "outlinewidth": 0,
              "ticks": ""
             }
            },
            "type": "scattermapbox"
           }
          ],
          "scatterpolar": [
           {
            "marker": {
             "colorbar": {
              "outlinewidth": 0,
              "ticks": ""
             }
            },
            "type": "scatterpolar"
           }
          ],
          "scatterpolargl": [
           {
            "marker": {
             "colorbar": {
              "outlinewidth": 0,
              "ticks": ""
             }
            },
            "type": "scatterpolargl"
           }
          ],
          "scatterternary": [
           {
            "marker": {
             "colorbar": {
              "outlinewidth": 0,
              "ticks": ""
             }
            },
            "type": "scatterternary"
           }
          ],
          "surface": [
           {
            "colorbar": {
             "outlinewidth": 0,
             "ticks": ""
            },
            "colorscale": [
             [
              0,
              "#0d0887"
             ],
             [
              0.1111111111111111,
              "#46039f"
             ],
             [
              0.2222222222222222,
              "#7201a8"
             ],
             [
              0.3333333333333333,
              "#9c179e"
             ],
             [
              0.4444444444444444,
              "#bd3786"
             ],
             [
              0.5555555555555556,
              "#d8576b"
             ],
             [
              0.6666666666666666,
              "#ed7953"
             ],
             [
              0.7777777777777778,
              "#fb9f3a"
             ],
             [
              0.8888888888888888,
              "#fdca26"
             ],
             [
              1,
              "#f0f921"
             ]
            ],
            "type": "surface"
           }
          ],
          "table": [
           {
            "cells": {
             "fill": {
              "color": "#EBF0F8"
             },
             "line": {
              "color": "white"
             }
            },
            "header": {
             "fill": {
              "color": "#C8D4E3"
             },
             "line": {
              "color": "white"
             }
            },
            "type": "table"
           }
          ]
         },
         "layout": {
          "annotationdefaults": {
           "arrowcolor": "#2a3f5f",
           "arrowhead": 0,
           "arrowwidth": 1
          },
          "coloraxis": {
           "colorbar": {
            "outlinewidth": 0,
            "ticks": ""
           }
          },
          "colorscale": {
           "diverging": [
            [
             0,
             "#8e0152"
            ],
            [
             0.1,
             "#c51b7d"
            ],
            [
             0.2,
             "#de77ae"
            ],
            [
             0.3,
             "#f1b6da"
            ],
            [
             0.4,
             "#fde0ef"
            ],
            [
             0.5,
             "#f7f7f7"
            ],
            [
             0.6,
             "#e6f5d0"
            ],
            [
             0.7,
             "#b8e186"
            ],
            [
             0.8,
             "#7fbc41"
            ],
            [
             0.9,
             "#4d9221"
            ],
            [
             1,
             "#276419"
            ]
           ],
           "sequential": [
            [
             0,
             "#0d0887"
            ],
            [
             0.1111111111111111,
             "#46039f"
            ],
            [
             0.2222222222222222,
             "#7201a8"
            ],
            [
             0.3333333333333333,
             "#9c179e"
            ],
            [
             0.4444444444444444,
             "#bd3786"
            ],
            [
             0.5555555555555556,
             "#d8576b"
            ],
            [
             0.6666666666666666,
             "#ed7953"
            ],
            [
             0.7777777777777778,
             "#fb9f3a"
            ],
            [
             0.8888888888888888,
             "#fdca26"
            ],
            [
             1,
             "#f0f921"
            ]
           ],
           "sequentialminus": [
            [
             0,
             "#0d0887"
            ],
            [
             0.1111111111111111,
             "#46039f"
            ],
            [
             0.2222222222222222,
             "#7201a8"
            ],
            [
             0.3333333333333333,
             "#9c179e"
            ],
            [
             0.4444444444444444,
             "#bd3786"
            ],
            [
             0.5555555555555556,
             "#d8576b"
            ],
            [
             0.6666666666666666,
             "#ed7953"
            ],
            [
             0.7777777777777778,
             "#fb9f3a"
            ],
            [
             0.8888888888888888,
             "#fdca26"
            ],
            [
             1,
             "#f0f921"
            ]
           ]
          },
          "colorway": [
           "#636efa",
           "#EF553B",
           "#00cc96",
           "#ab63fa",
           "#FFA15A",
           "#19d3f3",
           "#FF6692",
           "#B6E880",
           "#FF97FF",
           "#FECB52"
          ],
          "font": {
           "color": "#2a3f5f"
          },
          "geo": {
           "bgcolor": "white",
           "lakecolor": "white",
           "landcolor": "#E5ECF6",
           "showlakes": true,
           "showland": true,
           "subunitcolor": "white"
          },
          "hoverlabel": {
           "align": "left"
          },
          "hovermode": "closest",
          "mapbox": {
           "style": "light"
          },
          "paper_bgcolor": "white",
          "plot_bgcolor": "#E5ECF6",
          "polar": {
           "angularaxis": {
            "gridcolor": "white",
            "linecolor": "white",
            "ticks": ""
           },
           "bgcolor": "#E5ECF6",
           "radialaxis": {
            "gridcolor": "white",
            "linecolor": "white",
            "ticks": ""
           }
          },
          "scene": {
           "xaxis": {
            "backgroundcolor": "#E5ECF6",
            "gridcolor": "white",
            "gridwidth": 2,
            "linecolor": "white",
            "showbackground": true,
            "ticks": "",
            "zerolinecolor": "white"
           },
           "yaxis": {
            "backgroundcolor": "#E5ECF6",
            "gridcolor": "white",
            "gridwidth": 2,
            "linecolor": "white",
            "showbackground": true,
            "ticks": "",
            "zerolinecolor": "white"
           },
           "zaxis": {
            "backgroundcolor": "#E5ECF6",
            "gridcolor": "white",
            "gridwidth": 2,
            "linecolor": "white",
            "showbackground": true,
            "ticks": "",
            "zerolinecolor": "white"
           }
          },
          "shapedefaults": {
           "line": {
            "color": "#2a3f5f"
           }
          },
          "ternary": {
           "aaxis": {
            "gridcolor": "white",
            "linecolor": "white",
            "ticks": ""
           },
           "baxis": {
            "gridcolor": "white",
            "linecolor": "white",
            "ticks": ""
           },
           "bgcolor": "#E5ECF6",
           "caxis": {
            "gridcolor": "white",
            "linecolor": "white",
            "ticks": ""
           }
          },
          "title": {
           "x": 0.05
          },
          "xaxis": {
           "automargin": true,
           "gridcolor": "white",
           "linecolor": "white",
           "ticks": "",
           "title": {
            "standoff": 15
           },
           "zerolinecolor": "white",
           "zerolinewidth": 2
          },
          "yaxis": {
           "automargin": true,
           "gridcolor": "white",
           "linecolor": "white",
           "ticks": "",
           "title": {
            "standoff": 15
           },
           "zerolinecolor": "white",
           "zerolinewidth": 2
          }
         }
        },
        "yaxis": {
         "gridcolor": "rgb(219, 219, 219)",
         "showgrid": true,
         "title": {
          "text": "Days"
         }
        }
       }
      },
      "text/html": [
       "<div>\n",
       "        \n",
       "        \n",
       "            <div id=\"4a7507a3-3b35-42e1-bddb-c786cd7f5a6f\" class=\"plotly-graph-div\" style=\"height:525px; width:100%;\"></div>\n",
       "            <script type=\"text/javascript\">\n",
       "                require([\"plotly\"], function(Plotly) {\n",
       "                    window.PLOTLYENV=window.PLOTLYENV || {};\n",
       "                    \n",
       "                if (document.getElementById(\"4a7507a3-3b35-42e1-bddb-c786cd7f5a6f\")) {\n",
       "                    Plotly.newPlot(\n",
       "                        '4a7507a3-3b35-42e1-bddb-c786cd7f5a6f',\n",
       "                        [{\"boxpoints\": \"all\", \"marker\": {\"color\": \"rgb(204, 61, 202)\"}, \"name\": \"T-Mobile\", \"showlegend\": false, \"type\": \"box\", \"y\": [30.0, 18.0, 9.0, 37.0, 32.0, 11.0, 26.0, 19.0, 37.0, 14.0, 15.0, 37.0, 21.0, 12.0, 42.0, 33.0, 11.0, 24.0, 27.0, 19.0, 54.0, 32.0, 14.0, 11.0, 25.0, 49.0, 29.0, 11.0, 35.0, 34.0, 18.0, 9.0, 37.0, 32.0, 11.0, 26.0, 19.0, 37.0, 14.0, 15.0, 37.0, 21.0, 12.0, 42.0, 33.0, 14.0, 14.0, 40.0, 25.0, 11.0, 39.0, 9.0, -2.0, 21.0, 25.0, 30.0, 25.0, 21.0, 24.0, 54.0, 33.0, 28.0, 28.0, 49.0, 21.0, 40.0, 15.0, 66.0, 18.0, 42.0, 14.0, 34.0, 42.0, 21.0, 21.0, 19.0, 35.0, 18.0, 44.0, 11.0, 5.0, 19.0, 14.0, 26.0, 17.0, 33.0, 14.0, 14.0, 40.0, 25.0, 11.0, 39.0, 9.0, -2.0, 21.0, 25.0, 30.0, 25.0, 21.0, 24.0, 54.0, 33.0, 28.0, 28.0, 49.0, 21.0, 40.0, 15.0, 66.0, 18.0, 30.0, 28.0, 18.0, -2.0, 25.0, 5.0, 16.0, 28.0, 18.0, -2.0, 25.0, 5.0, 16.0, 41.0, 20.0, 50.0, 42.0]}, {\"boxpoints\": \"all\", \"marker\": {\"color\": \"rgb(235, 122, 233)\"}, \"name\": \"T-Mobile Unlocked\", \"showlegend\": false, \"type\": \"box\", \"y\": [35.0, 21.0, 42.0, 64.0, 15.0, 35.0, 42.0, 32.0, 25.0, 66.0, 23.0, 35.0, 60.0, 21.0, 27.0, 28.0, 29.0, 53.0, 42.0, 36.0, 39.0, 32.0, 60.0, 23.0, 24.0, 16.0, 36.0, 23.0, 21.0, 42.0, 64.0, 15.0, 35.0, 42.0, 32.0, 25.0, 66.0, 23.0, 39.0, 21.0, 4.0, 17.0, 49.0, 22.0, 43.0, -2.0, 23.0, 3.0, 35.0, 33.0, 35.0, 21.0, 29.0, 28.0, 63.0, 28.0, 39.0, 39.0, 29.0, 18.0, 37.0, 24.0, 23.0, 42.0, 11.0, 34.0, 36.0, 24.0, 42.0, 22.0, 39.0, 42.0, 15.0, 21.0, 37.0, 36.0, 17.0, 39.0, 21.0, 4.0, 17.0, 49.0, 22.0, 43.0, -2.0, 23.0, 3.0, 35.0, 33.0, 35.0, 21.0, 29.0, 28.0, 63.0, 28.0, 39.0, 39.0, 29.0, 18.0, 37.0, 24.0, 23.0, 35.0, 29.0, 2.0, 20.0, -2.0, 25.0, 4.0, 16.0, 29.0, 2.0, 20.0, 15.0, -2.0, 25.0, 4.0, 16.0, 43.0, 85.0]}, {\"boxpoints\": \"all\", \"marker\": {\"color\": \"rgb(212, 164, 21)\"}, \"name\": \"Sprint\", \"showlegend\": false, \"type\": \"box\", \"y\": [56.0, 35.0, 10.0, 13.0, 42.0, 35.0, 16.0, 24.0, 14.0, 12.0, 37.0, 18.0, 42.0, 25.0, 35.0, 17.0, 23.0, 16.0, 22.0, 14.0, 23.0, 17.0, 21.0, 25.0, 18.0, 22.0, 14.0, 10.0, 18.0, 24.0, 42.0, 28.0, 17.0, 21.0, 28.0, 36.0, 16.0, 35.0, 10.0, 13.0, 42.0, 35.0, 16.0, 24.0, 14.0, 12.0, 37.0, 18.0, 42.0, 25.0, 35.0, 17.0, 23.0, 16.0, 23.0, 14.0, 27.0, 56.0, 11.0, 15.0, -3.0, 14.0, 21.0, 26.0, 21.0, 28.0, 23.0, 28.0, 32.0, 25.0, 19.0, 21.0, 30.0, 28.0, 2.0, 22.0, 35.0, 17.0, 17.0, 28.0, 23.0, 10.0, 27.0, 42.0, 24.0, 42.0, 16.0, 28.0, 37.0, 10.0, 28.0, 11.0, 10.0, 15.0, 28.0, 15.0, 23.0, 14.0, 27.0, 56.0, 11.0, 15.0, -3.0, 14.0, 21.0, 26.0, 21.0, 28.0, 23.0, 28.0, 32.0, 25.0, 19.0, 21.0, 30.0, 28.0, 2.0, 22.0, 35.0, 17.0, 17.0, 28.0, 56.0, 31.0, 7.0, -3.0, 21.0, 14.0, 31.0, 7.0, -3.0, 21.0, 14.0, 20.0, 52.0, 37.0]}, {\"boxpoints\": \"all\", \"marker\": {\"color\": \"rgb(252, 211, 86)\"}, \"name\": \"Sprint Unlocked\", \"showlegend\": false, \"type\": \"box\", \"y\": [35.0, 36.0, 21.0, 15.0, 28.0, 36.0, 29.0, 42.0, 42.0, 32.0, 15.0, 35.0, 42.0, 28.0, 25.0, 31.0, 14.0, 29.0, 23.0, 43.0, 21.0, 27.0, 28.0, 30.0, 36.0, 25.0, 25.0, 42.0, 36.0, 39.0, 32.0, 60.0, 23.0, 22.0, 16.0, 36.0, 22.0, 29.0, 23.0, 36.0, 21.0, 15.0, 28.0, 36.0, 29.0, 42.0, 42.0, 32.0, 15.0, 35.0, 42.0, 28.0, 25.0, 31.0, 14.0, 29.0, 23.0, 39.0, 21.0, 1.0, 17.0, 37.0, 22.0, 43.0, 15.0, -2.0, 23.0, 3.0, 35.0, 14.0, 33.0, 21.0, 27.0, 28.0, 29.0, 24.0, 30.0, 39.0, 39.0, 29.0, 18.0, 37.0, 16.0, 22.0, 29.0, 23.0, 42.0, 11.0, 23.0, 29.0, 30.0, 42.0, 24.0, 42.0, 22.0, 39.0, 42.0, 15.0, 10.0, 21.0, 30.0, 36.0, 17.0, 39.0, 21.0, 1.0, 17.0, 37.0, 22.0, 43.0, 15.0, -2.0, 23.0, 3.0, 35.0, 14.0, 33.0, 21.0, 27.0, 28.0, 29.0, 24.0, 28.0, 39.0, 39.0, 29.0, 18.0, 37.0, 16.0, 22.0, 29.0, 23.0, 35.0, 29.0, 1.0, 20.0, -2.0, 24.0, 3.0, 16.0, 29.0, 1.0, 20.0, 15.0, -2.0, 24.0, 3.0, 16.0, 43.0, 85.0]}, {\"boxpoints\": \"all\", \"marker\": {\"color\": \"rgb(30, 179, 70)\"}, \"name\": \"Unbranded\", \"showlegend\": false, \"type\": \"box\", \"y\": [35.0, 36.0, 21.0, 15.0, 28.0, 36.0, 29.0, 42.0, 42.0, 32.0, 15.0, 35.0, 42.0, 28.0, 25.0, 31.0, 14.0, 29.0, 23.0, 35.0, 43.0, 21.0, 27.0, 28.0, 29.0, 36.0, 53.0, 24.0, 42.0, 36.0, 39.0, 32.0, 60.0, 23.0, 22.0, 16.0, 36.0, 22.0, 29.0, 23.0, 36.0, 21.0, 15.0, 28.0, 36.0, 29.0, 42.0, 42.0, 32.0, 15.0, 35.0, 42.0, 28.0, 25.0, 31.0, 14.0, 29.0, 23.0, 39.0, 21.0, 1.0, 15.0, 37.0, 22.0, 43.0, -2.0, 23.0, 3.0, 35.0, 14.0, 33.0, 35.0, 21.0, 27.0, 28.0, 29.0, 63.0, 28.0, 39.0, 39.0, 29.0, 18.0, 37.0, 16.0, 22.0, 29.0, 23.0, 42.0, 11.0, 23.0, 29.0, 30.0, 42.0, 24.0, 42.0, 22.0, 39.0, 42.0, 15.0, 10.0, 21.0, 30.0, 36.0, 17.0, 39.0, 21.0, 1.0, 15.0, 39.0, 22.0, 43.0, -2.0, 23.0, 3.0, 35.0, 14.0, 33.0, 35.0, 21.0, 27.0, 28.0, 29.0, 63.0, 28.0, 39.0, 39.0, 29.0, 18.0, 37.0, 16.0, 22.0, 29.0, 23.0, 35.0, 29.0, 1.0, 20.0, -2.0, 24.0, 3.0, 16.0, 29.0, 1.0, 20.0, 15.0, -2.0, 24.0, 3.0, 16.0, 43.0, 85.0]}],\n",
       "                        {\"font\": {\"size\": 20}, \"legend\": {\"orientation\": \"h\", \"x\": 0, \"y\": -0.25}, \"plot_bgcolor\": \"rgba(0,0,0,0)\", \"template\": {\"data\": {\"bar\": [{\"error_x\": {\"color\": \"#2a3f5f\"}, \"error_y\": {\"color\": \"#2a3f5f\"}, \"marker\": {\"line\": {\"color\": \"#E5ECF6\", \"width\": 0.5}}, \"type\": \"bar\"}], \"barpolar\": [{\"marker\": {\"line\": {\"color\": \"#E5ECF6\", \"width\": 0.5}}, \"type\": \"barpolar\"}], \"carpet\": [{\"aaxis\": {\"endlinecolor\": \"#2a3f5f\", \"gridcolor\": \"white\", \"linecolor\": \"white\", \"minorgridcolor\": \"white\", \"startlinecolor\": \"#2a3f5f\"}, \"baxis\": {\"endlinecolor\": \"#2a3f5f\", \"gridcolor\": \"white\", \"linecolor\": \"white\", \"minorgridcolor\": \"white\", \"startlinecolor\": \"#2a3f5f\"}, \"type\": \"carpet\"}], \"choropleth\": [{\"colorbar\": {\"outlinewidth\": 0, \"ticks\": \"\"}, \"type\": \"choropleth\"}], \"contour\": [{\"colorbar\": {\"outlinewidth\": 0, \"ticks\": \"\"}, \"colorscale\": [[0.0, \"#0d0887\"], [0.1111111111111111, \"#46039f\"], [0.2222222222222222, \"#7201a8\"], [0.3333333333333333, \"#9c179e\"], [0.4444444444444444, \"#bd3786\"], [0.5555555555555556, \"#d8576b\"], [0.6666666666666666, \"#ed7953\"], [0.7777777777777778, \"#fb9f3a\"], [0.8888888888888888, \"#fdca26\"], [1.0, \"#f0f921\"]], \"type\": \"contour\"}], \"contourcarpet\": [{\"colorbar\": {\"outlinewidth\": 0, \"ticks\": \"\"}, \"type\": \"contourcarpet\"}], \"heatmap\": [{\"colorbar\": {\"outlinewidth\": 0, \"ticks\": \"\"}, \"colorscale\": [[0.0, \"#0d0887\"], [0.1111111111111111, \"#46039f\"], [0.2222222222222222, \"#7201a8\"], [0.3333333333333333, \"#9c179e\"], [0.4444444444444444, \"#bd3786\"], [0.5555555555555556, \"#d8576b\"], [0.6666666666666666, \"#ed7953\"], [0.7777777777777778, \"#fb9f3a\"], [0.8888888888888888, \"#fdca26\"], [1.0, \"#f0f921\"]], \"type\": \"heatmap\"}], \"heatmapgl\": [{\"colorbar\": {\"outlinewidth\": 0, \"ticks\": \"\"}, \"colorscale\": [[0.0, \"#0d0887\"], [0.1111111111111111, \"#46039f\"], [0.2222222222222222, \"#7201a8\"], [0.3333333333333333, \"#9c179e\"], [0.4444444444444444, \"#bd3786\"], [0.5555555555555556, \"#d8576b\"], [0.6666666666666666, \"#ed7953\"], [0.7777777777777778, \"#fb9f3a\"], [0.8888888888888888, \"#fdca26\"], [1.0, \"#f0f921\"]], \"type\": \"heatmapgl\"}], \"histogram\": [{\"marker\": {\"colorbar\": {\"outlinewidth\": 0, \"ticks\": \"\"}}, \"type\": \"histogram\"}], \"histogram2d\": [{\"colorbar\": {\"outlinewidth\": 0, \"ticks\": \"\"}, \"colorscale\": [[0.0, \"#0d0887\"], [0.1111111111111111, \"#46039f\"], [0.2222222222222222, \"#7201a8\"], [0.3333333333333333, \"#9c179e\"], [0.4444444444444444, \"#bd3786\"], [0.5555555555555556, \"#d8576b\"], [0.6666666666666666, \"#ed7953\"], [0.7777777777777778, \"#fb9f3a\"], [0.8888888888888888, \"#fdca26\"], [1.0, \"#f0f921\"]], \"type\": \"histogram2d\"}], \"histogram2dcontour\": [{\"colorbar\": {\"outlinewidth\": 0, \"ticks\": \"\"}, \"colorscale\": [[0.0, \"#0d0887\"], [0.1111111111111111, \"#46039f\"], [0.2222222222222222, \"#7201a8\"], [0.3333333333333333, \"#9c179e\"], [0.4444444444444444, \"#bd3786\"], [0.5555555555555556, \"#d8576b\"], [0.6666666666666666, \"#ed7953\"], [0.7777777777777778, \"#fb9f3a\"], [0.8888888888888888, \"#fdca26\"], [1.0, \"#f0f921\"]], \"type\": \"histogram2dcontour\"}], \"mesh3d\": [{\"colorbar\": {\"outlinewidth\": 0, \"ticks\": \"\"}, \"type\": \"mesh3d\"}], \"parcoords\": [{\"line\": {\"colorbar\": {\"outlinewidth\": 0, \"ticks\": \"\"}}, \"type\": \"parcoords\"}], \"pie\": [{\"automargin\": true, \"type\": \"pie\"}], \"scatter\": [{\"marker\": {\"colorbar\": {\"outlinewidth\": 0, \"ticks\": \"\"}}, \"type\": \"scatter\"}], \"scatter3d\": [{\"line\": {\"colorbar\": {\"outlinewidth\": 0, \"ticks\": \"\"}}, \"marker\": {\"colorbar\": {\"outlinewidth\": 0, \"ticks\": \"\"}}, \"type\": \"scatter3d\"}], \"scattercarpet\": [{\"marker\": {\"colorbar\": {\"outlinewidth\": 0, \"ticks\": \"\"}}, \"type\": \"scattercarpet\"}], \"scattergeo\": [{\"marker\": {\"colorbar\": {\"outlinewidth\": 0, \"ticks\": \"\"}}, \"type\": \"scattergeo\"}], \"scattergl\": [{\"marker\": {\"colorbar\": {\"outlinewidth\": 0, \"ticks\": \"\"}}, \"type\": \"scattergl\"}], \"scattermapbox\": [{\"marker\": {\"colorbar\": {\"outlinewidth\": 0, \"ticks\": \"\"}}, \"type\": \"scattermapbox\"}], \"scatterpolar\": [{\"marker\": {\"colorbar\": {\"outlinewidth\": 0, \"ticks\": \"\"}}, \"type\": \"scatterpolar\"}], \"scatterpolargl\": [{\"marker\": {\"colorbar\": {\"outlinewidth\": 0, \"ticks\": \"\"}}, \"type\": \"scatterpolargl\"}], \"scatterternary\": [{\"marker\": {\"colorbar\": {\"outlinewidth\": 0, \"ticks\": \"\"}}, \"type\": \"scatterternary\"}], \"surface\": [{\"colorbar\": {\"outlinewidth\": 0, \"ticks\": \"\"}, \"colorscale\": [[0.0, \"#0d0887\"], [0.1111111111111111, \"#46039f\"], [0.2222222222222222, \"#7201a8\"], [0.3333333333333333, \"#9c179e\"], [0.4444444444444444, \"#bd3786\"], [0.5555555555555556, \"#d8576b\"], [0.6666666666666666, \"#ed7953\"], [0.7777777777777778, \"#fb9f3a\"], [0.8888888888888888, \"#fdca26\"], [1.0, \"#f0f921\"]], \"type\": \"surface\"}], \"table\": [{\"cells\": {\"fill\": {\"color\": \"#EBF0F8\"}, \"line\": {\"color\": \"white\"}}, \"header\": {\"fill\": {\"color\": \"#C8D4E3\"}, \"line\": {\"color\": \"white\"}}, \"type\": \"table\"}]}, \"layout\": {\"annotationdefaults\": {\"arrowcolor\": \"#2a3f5f\", \"arrowhead\": 0, \"arrowwidth\": 1}, \"coloraxis\": {\"colorbar\": {\"outlinewidth\": 0, \"ticks\": \"\"}}, \"colorscale\": {\"diverging\": [[0, \"#8e0152\"], [0.1, \"#c51b7d\"], [0.2, \"#de77ae\"], [0.3, \"#f1b6da\"], [0.4, \"#fde0ef\"], [0.5, \"#f7f7f7\"], [0.6, \"#e6f5d0\"], [0.7, \"#b8e186\"], [0.8, \"#7fbc41\"], [0.9, \"#4d9221\"], [1, \"#276419\"]], \"sequential\": [[0.0, \"#0d0887\"], [0.1111111111111111, \"#46039f\"], [0.2222222222222222, \"#7201a8\"], [0.3333333333333333, \"#9c179e\"], [0.4444444444444444, \"#bd3786\"], [0.5555555555555556, \"#d8576b\"], [0.6666666666666666, \"#ed7953\"], [0.7777777777777778, \"#fb9f3a\"], [0.8888888888888888, \"#fdca26\"], [1.0, \"#f0f921\"]], \"sequentialminus\": [[0.0, \"#0d0887\"], [0.1111111111111111, \"#46039f\"], [0.2222222222222222, \"#7201a8\"], [0.3333333333333333, \"#9c179e\"], [0.4444444444444444, \"#bd3786\"], [0.5555555555555556, \"#d8576b\"], [0.6666666666666666, \"#ed7953\"], [0.7777777777777778, \"#fb9f3a\"], [0.8888888888888888, \"#fdca26\"], [1.0, \"#f0f921\"]]}, \"colorway\": [\"#636efa\", \"#EF553B\", \"#00cc96\", \"#ab63fa\", \"#FFA15A\", \"#19d3f3\", \"#FF6692\", \"#B6E880\", \"#FF97FF\", \"#FECB52\"], \"font\": {\"color\": \"#2a3f5f\"}, \"geo\": {\"bgcolor\": \"white\", \"lakecolor\": \"white\", \"landcolor\": \"#E5ECF6\", \"showlakes\": true, \"showland\": true, \"subunitcolor\": \"white\"}, \"hoverlabel\": {\"align\": \"left\"}, \"hovermode\": \"closest\", \"mapbox\": {\"style\": \"light\"}, \"paper_bgcolor\": \"white\", \"plot_bgcolor\": \"#E5ECF6\", \"polar\": {\"angularaxis\": {\"gridcolor\": \"white\", \"linecolor\": \"white\", \"ticks\": \"\"}, \"bgcolor\": \"#E5ECF6\", \"radialaxis\": {\"gridcolor\": \"white\", \"linecolor\": \"white\", \"ticks\": \"\"}}, \"scene\": {\"xaxis\": {\"backgroundcolor\": \"#E5ECF6\", \"gridcolor\": \"white\", \"gridwidth\": 2, \"linecolor\": \"white\", \"showbackground\": true, \"ticks\": \"\", \"zerolinecolor\": \"white\"}, \"yaxis\": {\"backgroundcolor\": \"#E5ECF6\", \"gridcolor\": \"white\", \"gridwidth\": 2, \"linecolor\": \"white\", \"showbackground\": true, \"ticks\": \"\", \"zerolinecolor\": \"white\"}, \"zaxis\": {\"backgroundcolor\": \"#E5ECF6\", \"gridcolor\": \"white\", \"gridwidth\": 2, \"linecolor\": \"white\", \"showbackground\": true, \"ticks\": \"\", \"zerolinecolor\": \"white\"}}, \"shapedefaults\": {\"line\": {\"color\": \"#2a3f5f\"}}, \"ternary\": {\"aaxis\": {\"gridcolor\": \"white\", \"linecolor\": \"white\", \"ticks\": \"\"}, \"baxis\": {\"gridcolor\": \"white\", \"linecolor\": \"white\", \"ticks\": \"\"}, \"bgcolor\": \"#E5ECF6\", \"caxis\": {\"gridcolor\": \"white\", \"linecolor\": \"white\", \"ticks\": \"\"}}, \"title\": {\"x\": 0.05}, \"xaxis\": {\"automargin\": true, \"gridcolor\": \"white\", \"linecolor\": \"white\", \"ticks\": \"\", \"title\": {\"standoff\": 15}, \"zerolinecolor\": \"white\", \"zerolinewidth\": 2}, \"yaxis\": {\"automargin\": true, \"gridcolor\": \"white\", \"linecolor\": \"white\", \"ticks\": \"\", \"title\": {\"standoff\": 15}, \"zerolinecolor\": \"white\", \"zerolinewidth\": 2}}}, \"yaxis\": {\"gridcolor\": \"rgb(219, 219, 219)\", \"showgrid\": true, \"title\": {\"text\": \"Days\"}}},\n",
       "                        {\"responsive\": true}\n",
       "                    ).then(function(){\n",
       "                            \n",
       "var gd = document.getElementById('4a7507a3-3b35-42e1-bddb-c786cd7f5a6f');\n",
       "var x = new MutationObserver(function (mutations, observer) {{\n",
       "        var display = window.getComputedStyle(gd).display;\n",
       "        if (!display || display === 'none') {{\n",
       "            console.log([gd, 'removed!']);\n",
       "            Plotly.purge(gd);\n",
       "            observer.disconnect();\n",
       "        }}\n",
       "}});\n",
       "\n",
       "// Listen for the removal of the full notebook cells\n",
       "var notebookContainer = gd.closest('#notebook-container');\n",
       "if (notebookContainer) {{\n",
       "    x.observe(notebookContainer, {childList: true});\n",
       "}}\n",
       "\n",
       "// Listen for the clearing of the current output cell\n",
       "var outputEl = gd.closest('.output');\n",
       "if (outputEl) {{\n",
       "    x.observe(outputEl, {childList: true});\n",
       "}}\n",
       "\n",
       "                        })\n",
       "                };\n",
       "                });\n",
       "            </script>\n",
       "        </div>"
      ]
     },
     "metadata": {},
     "output_type": "display_data"
    },
    {
     "name": "stdout",
     "output_type": "stream",
     "text": [
      "25.236220472440944\n",
      "29.441666666666666\n",
      "23.022058823529413\n",
      "26.35333333333333\n",
      "\n",
      "Average locked\n",
      "24.129139647985177\n",
      "Average unlocked\n",
      "27.8975\n"
     ]
    }
   ],
   "source": [
    "# print(\"Unique Models: \"+str(len(normalizedDF.Model.unique())))\n",
    "# print(\"Unique Bulletins: \"+str(len(normalizedDF.Bulletin_Level.unique())))\n",
    "carrierNormDF=samsungDF.copy()\n",
    "lockedIndex=carrierNormDF[(carrierNormDF.locked==False) & (carrierNormDF.Carrier==\"Sprint\")].index\n",
    "carrierNormDF.at[lockedIndex,'Carrier']=\"Sprint_U\"\n",
    "lockedIndex=carrierNormDF[(carrierNormDF.locked==False) & (carrierNormDF.Carrier==\"TMobile\")].index\n",
    "carrierNormDF.at[lockedIndex,'Carrier']=\"Tmobile_U\"\n",
    "print(carrierNormDF.Carrier.unique())\n",
    "goodModels=[]\n",
    "for model in samsungDF.Model.unique():\n",
    "    tmp2=carrierNormDF[carrierNormDF.Model==model]\n",
    "    if len(tmp2.Carrier.unique())==5: # if all the phones were updated\n",
    "        goodModels.append(model)\n",
    "#             if len(tmp2)>5:\n",
    "#                 print(tmp2)\n",
    "            \n",
    "\n",
    "\n",
    "dftmob_U=samsungDF[samsungDF.Carrier=='TMobile']\n",
    "dftmob=dftmob_U[dftmob_U.locked==True]\n",
    "dftmob_U=dftmob_U[dftmob_U.locked==False]\n",
    "\n",
    "dfsprnt_U=samsungDF[samsungDF.Carrier=='Sprint']\n",
    "dfsprnt=dfsprnt_U[dfsprnt_U.locked==True]\n",
    "dfsprnt_U=dfsprnt_U[dfsprnt_U.locked==False]\n",
    "\n",
    "dfunlocked_U=samsungDF[samsungDF.Carrier=='Unbranded']\n",
    "dfunlocked_U=dfunlocked_U[dfunlocked_U.locked==False]\n",
    "\n",
    "\n",
    "######################################################\n",
    "######## Without time restriction ########\n",
    "######################################################\n",
    "tmobile=[[] for _ in range(2)]\n",
    "spt=[[] for _ in range(2)]\n",
    "\n",
    "tmobile_U=[[] for _ in range(2)]\n",
    "spt_U=[[] for _ in range(2)]\n",
    "unbrand_U=[[] for _ in range(2)]\n",
    "\n",
    "for model in goodModels:\n",
    "    print(model)\n",
    "    # check tmobile\n",
    "    newtmb=dftmob[dftmob.Model==model]\n",
    "    tmobile[0].extend(newtmb.difference.values)\n",
    "    tmobile[1].extend(newtmb.Model)\n",
    "    \n",
    "    newtmb_U=dftmob_U[dftmob_U.Model==model]\n",
    "    tmobile_U[0].extend(newtmb_U.difference.values)\n",
    "    tmobile_U[1].extend(newtmb_U.Model)\n",
    "    \n",
    "    \n",
    "    # check sprint\n",
    "    newspt=dfsprnt[dfsprnt.Model==model]\n",
    "    spt[0].extend(newspt.difference.values)\n",
    "    spt[1].extend(newspt.Model)\n",
    "    \n",
    "    newspt_U=dfsprnt_U[dfsprnt_U.Model==model]\n",
    "    spt_U[0].extend(newspt_U.difference.values)\n",
    "    spt_U[1].extend(newspt_U.Model)\n",
    "    \n",
    "    # check unbranded\n",
    "    newunlock_U=dfunlocked_U[dfunlocked_U.Model==model]\n",
    "    unbrand_U[0].extend(newunlock_U.difference.values)\n",
    "    unbrand_U[1].extend(newunlock_U.Model)\n",
    "\n",
    "\n",
    "\n",
    "# Print counts\n",
    "print(\"----------------------\")\n",
    "print(\"Total Amount of Values\")\n",
    "print(\"T-Mobile: locked(\" + str(len(tmobile[0])) + \"), unlocked(\" + str(len(tmobile_U[0]))+\")\")\n",
    "print(\"Sprint: locked(\" + str(len(spt[0])) + \"), unlocked(\" + str(len(spt_U[0]))+\")\")\n",
    "print(\"Unbranded: \" + str(len(unbrand_U[0])))\n",
    "print(\"Unique Phones: \" + str(len(goodModels)))\n",
    "print(\"----------------------\")\n",
    "        \n",
    "##### Plotting #####\n",
    "data=[]\n",
    "\n",
    "data.append(go.Box(\n",
    "    #x=tmobile[1],\n",
    "    y=tmobile[0],\n",
    "    name=\"T-Mobile\",\n",
    "    boxpoints = 'all',\n",
    "    marker_color='rgb(204, 61, 202)',\n",
    "    showlegend=False\n",
    "))\n",
    "data.append(go.Box(\n",
    "    #x=tmobile_U[1],\n",
    "    y=tmobile_U[0],\n",
    "    name=\"T-Mobile Unlocked\",\n",
    "    boxpoints = 'all',\n",
    "    marker_color='rgb(235, 122, 233)',\n",
    "    showlegend=False\n",
    "))\n",
    "\n",
    "data.append(go.Box(\n",
    "    #x=spt[1],\n",
    "    y=spt[0],\n",
    "    name=\"Sprint\",\n",
    "    boxpoints = 'all',\n",
    "    marker_color='rgb(212, 164, 21)',\n",
    "    showlegend=False\n",
    "))\n",
    "data.append(go.Box(\n",
    "    #x=spt_U[1],\n",
    "    y=spt_U[0],\n",
    "    name=\"Sprint Unlocked\",\n",
    "    boxpoints = 'all',\n",
    "    marker_color='rgb(252, 211, 86)',\n",
    "    showlegend=False\n",
    "))\n",
    "\n",
    "data.append(go.Box(\n",
    "    #x=unbrand_U[1],\n",
    "    y=unbrand_U[0],\n",
    "    name=\"Unbranded\",\n",
    "    boxpoints = 'all',\n",
    "    marker_color='rgb(30, 179, 70)',\n",
    "    showlegend=False\n",
    "))\n",
    "\n",
    "\n",
    "# Edit the layout\n",
    "layout = dict(#title = \"Average Days from Bulletins Samsung Release Dates\",\n",
    "              yaxis = dict(title = 'Days',showgrid=True, gridcolor='rgb(219, 219, 219)'),\n",
    "              #xaxis=dict(title=\"Carrier Locked or Unlocked\"),\n",
    "              plot_bgcolor='rgba(0,0,0,0)',\n",
    "              legend_orientation=\"h\",\n",
    "              legend=dict(x=0, y=-.25),\n",
    "              font=dict(size=20)\n",
    "              \n",
    "              )\n",
    "\n",
    "fig = dict(data=data, layout=layout)\n",
    "py.offline.iplot(fig)\n",
    "# \n",
    "# pio.write_image(fig, 'samsung-locked-vs-unlocked-allSamsung.pdf', width=1100, height=600)\n",
    "\n",
    "\n",
    "import statistics\n",
    "\n",
    "locked=statistics.mean(tmobile[0])\n",
    "locked+=statistics.mean(spt[0])\n",
    "locked=locked/2\n",
    "\n",
    "unlocked=statistics.mean(tmobile_U[0])\n",
    "unlocked+=statistics.mean(spt_U[0])\n",
    "# unlocked+=statistics.mean(unbrand_U[0])\n",
    "unlocked=unlocked/2\n",
    "\n",
    "print(statistics.mean(tmobile[0]))\n",
    "print(statistics.mean(tmobile_U[0]))\n",
    "print(statistics.mean(spt[0]))\n",
    "print(statistics.mean(spt_U[0]))\n",
    "# print(statistics.mean(unbrand_U[0]))\n",
    "\n",
    "print()     \n",
    "print(\"Average locked\")\n",
    "print(locked)\n",
    "\n",
    "print(\"Average unlocked\")\n",
    "print(unlocked)\n",
    "\n",
    "similarBulsDF=normalizedDF.copy()\n"
   ]
  },
  {
   "cell_type": "code",
   "execution_count": 8,
   "metadata": {},
   "outputs": [
    {
     "name": "stdout",
     "output_type": "stream",
     "text": [
      "684\n"
     ]
    }
   ],
   "source": [
    "definiteIndex=[]\n",
    "for model in goodModels:\n",
    "    definiteIndex.extend(samsungDF[samsungDF.Model==model].index)\n",
    "    \n",
    "final=samsungDF.iloc[definiteIndex,:]\n",
    "print(len(final))\n",
    "\n"
   ]
  },
  {
   "cell_type": "code",
   "execution_count": 9,
   "metadata": {},
   "outputs": [
    {
     "name": "stdout",
     "output_type": "stream",
     "text": [
      "     Carrier  locked Latest_Release Latest_Bulletin\n",
      "0    TMobile    True     2019-12-30      2019-12-01\n",
      "1    TMobile   False     2020-01-31      2019-12-01\n",
      "2     Sprint    True     2020-01-02      2019-12-01\n",
      "3     Sprint   False     2020-01-14      2019-12-01\n",
      "4  Unbranded   False     2020-01-14      2019-12-01\n"
     ]
    },
    {
     "name": "stderr",
     "output_type": "stream",
     "text": [
      "/Users/kjo/anaconda3/lib/python3.6/site-packages/pandas/core/generic.py:5303: SettingWithCopyWarning:\n",
      "\n",
      "\n",
      "A value is trying to be set on a copy of a slice from a DataFrame.\n",
      "Try using .loc[row_indexer,col_indexer] = value instead\n",
      "\n",
      "See the caveats in the documentation: https://pandas.pydata.org/pandas-docs/stable/user_guide/indexing.html#returning-a-view-versus-a-copy\n",
      "\n"
     ]
    }
   ],
   "source": [
    "############### Stats for Samsung Locked vs Unlocked ###############\n",
    "final.locked=final.locked.astype('bool')\n",
    "allRows=[]\n",
    "length=0\n",
    "for carrier in allCarriers:\n",
    "    for lock in [True,False]:\n",
    "        tmpdf=final[final.locked==lock]\n",
    "        tmpdf=tmpdf[tmpdf.Carrier==carrier]\n",
    "        if len(tmpdf)>0:\n",
    "            length=len(tmpdf)\n",
    "            allRows.append([str(carrier),lock,length])\n",
    "    \n",
    "statsDF_Sam_filtered=pd.DataFrame(allRows,columns=['Carrier','locked','Num_Updates'])\n",
    "\n",
    "uniqModels=[]\n",
    "uniqBuls=[]\n",
    "earlyRels=[]\n",
    "lateRels=[]\n",
    "earlyBuls=[]\n",
    "lateBuls=[]\n",
    "length=0\n",
    "for carrier in allCarriers:\n",
    "    for lock in [True,False]:\n",
    "        dfTemp=final[final.Carrier==carrier]\n",
    "        dfTemp=dfTemp[dfTemp.locked==lock]\n",
    "        if len(dfTemp)>0:\n",
    "            length=len(dfTemp.Model.unique())\n",
    "            uniqModels.append(length)\n",
    "            length=len(dfTemp.Bulletin_Level.unique())\n",
    "            uniqBuls.append(length)\n",
    "            minDifIndex=np.argmin(dfTemp.Release_Date.values)\n",
    "            earlyRels.append(dfTemp.iloc[minDifIndex].Release_Date)\n",
    "            minDifIndex=np.argmax(dfTemp.Release_Date.values)\n",
    "            lateRels.append(dfTemp.iloc[minDifIndex].Release_Date)\n",
    "            minDifIndex=np.argmin(dfTemp.Bulletin_Level.values)\n",
    "            earlyBuls.append(dfTemp.iloc[minDifIndex].Bulletin_Level)\n",
    "            minDifIndex=np.argmax(dfTemp.Bulletin_Level.values)\n",
    "            lateBuls.append(dfTemp.iloc[minDifIndex].Bulletin_Level)\n",
    "            \n",
    "statsDF_Sam_filtered['Unique_Models']=uniqModels\n",
    "statsDF_Sam_filtered['Unique_Bulletins']=uniqBuls\n",
    "statsDF_Sam_filtered['Earliest_Release']=earlyRels\n",
    "statsDF_Sam_filtered['Latest_Release']=lateRels\n",
    "statsDF_Sam_filtered['Earliest_Bulletin']=earlyBuls\n",
    "statsDF_Sam_filtered['Latest_Bulletin']=lateBuls\n",
    "\n",
    "    \n",
    "# Average bulletins per model\n",
    "newCol=[]\n",
    "length=0\n",
    "for carrier in allCarriers:\n",
    "    for lock in [True,False]:\n",
    "        tempDF=statsDF_Sam_filtered[statsDF_Sam_filtered.Carrier==carrier]\n",
    "        tempDF=tempDF[tempDF.locked==lock]\n",
    "        if len(tempDF)>0: \n",
    "            calc=tempDF.Unique_Bulletins/tempDF.Unique_Models\n",
    "            newCol.append(calc.iloc[0])\n",
    "\n",
    "statsDF_Sam_filtered['Bulletins_per_Model']=newCol.copy()\n",
    "\n",
    "\n",
    "print(statsDF_Sam_filtered.loc[:,[\"Carrier\",\"locked\",\"Latest_Release\",\"Latest_Bulletin\"]].head())"
   ]
  },
  {
   "cell_type": "code",
   "execution_count": 10,
   "metadata": {},
   "outputs": [
    {
     "name": "stdout",
     "output_type": "stream",
     "text": [
      "['Galaxy A20' 'Galaxy Note10' 'Galaxy Note10+' 'Galaxy Note8'\n",
      " 'Galaxy Note9' 'Galaxy S10' 'Galaxy S10+' 'Galaxy S7' 'Galaxy S7 Edge'\n",
      " 'Galaxy S8' 'Galaxy S8+' 'Galaxy S9' 'Galaxy S9+']\n"
     ]
    }
   ],
   "source": [
    "# No calculate frequency for the first four years on the market meaning introduce the month and year released\n",
    "normalizedDF2=samsungDF.copy()\n",
    "\n",
    "# Split out carriers for better plotting and logic\n",
    "indices=normalizedDF2[(normalizedDF2.Carrier==\"Sprint\") & (normalizedDF2.locked==False)].index\n",
    "normalizedDF2.at[indices,'Carrier']=\"Sprint_U\"\n",
    "indices=normalizedDF2[(normalizedDF2.Carrier==\"TMobile\") & (normalizedDF2.locked==False)].index\n",
    "normalizedDF2.at[indices,'Carrier']=\"TMobile_U\"\n",
    "\n",
    "normalizedDF2=normalizedDF2.sort_values(by=['Carrier','Model','Bulletin_Level','Release_Date'])# Sort to properly drop duplicates if bulletins were normalized to the same (e.g., level 1 and 5 were both patched thus keep the first date)\n",
    "normalizedDF2.drop_duplicates(subset=['Carrier','Model','Bulletin_Level'],keep='first', inplace=True ) # drop the duplicates and keep the lowest difference\n",
    "\n",
    "\n",
    "# Grab similar across all five carrier devices only \n",
    "normalizedDF2.reset_index(drop=True,inplace=True)\n",
    "goodindices=[]\n",
    "for model in normalizedDF2.Model.unique():\n",
    "    tmp2=normalizedDF2[normalizedDF2.Model==model]\n",
    "    if len(tmp2.Carrier.unique())==5: # if all the phones were updated\n",
    "        goodindices.extend(tmp2.index)\n",
    "normalizedDF2=normalizedDF2.iloc[goodindices]\n",
    "\n",
    "# Normalize as needed for merge\n",
    "normalizedDF2.Model=normalizedDF2.Model.str.replace(r'Galaxy Note ([0-9]{1,2})',r'Galaxy Note\\1')\n",
    "normalizedDF2.Model=normalizedDF2.Model.str.replace(r'Galaxy S7 edge',r'Galaxy S7 Edge')\n",
    "print(normalizedDF2.Model.unique())\n",
    "\n",
    "# Get dataframe with release years\n",
    "carrierDF=pd.read_csv('../data/allCarrierData_final.csv')\n",
    "carrierDFSam=carrierDF[carrierDF.Manufacture==\"Samsung\"]\n",
    "\n",
    "# Set release years\n",
    "allReleaseYears={}\n",
    "allReleaseMonth={}\n",
    "for model in normalizedDF2.Model.unique(): # get the release years for each model\n",
    "    releaseYr=carrierDFSam[carrierDFSam.Model==model] \n",
    "    if len(releaseYr)==0:\n",
    "        print(model)\n",
    "    else:\n",
    "        allReleaseYears[model]=releaseYr.iloc[0].Year_Phone_Release\n",
    "        allReleaseMonth[model]=releaseYr.iloc[0].Month_Phone_Release\n",
    "\n",
    "normalizedDF2['Year_Phone_Release']=normalizedDF2.Model.apply(lambda x: allReleaseYears[x])\n",
    "normalizedDF2['Month_Phone_Release']=normalizedDF2.Model.apply(lambda x: allReleaseMonth[x])\n"
   ]
  },
  {
   "cell_type": "code",
   "execution_count": 11,
   "metadata": {},
   "outputs": [
    {
     "name": "stdout",
     "output_type": "stream",
     "text": [
      "          Model   Carrier android_os Release_Date Bulletin_Level  difference  \\\n",
      "3    Galaxy A20    Sprint          9   2019-07-25     2019-06-01        52.0   \n",
      "4    Galaxy A20    Sprint          9   2019-09-23     2019-09-01        20.0   \n",
      "5    Galaxy A20    Sprint          9   2019-12-11     2019-11-01        37.0   \n",
      "138  Galaxy A20  Sprint_U          9   2019-10-29     2019-08-01        85.0   \n",
      "139  Galaxy A20  Sprint_U          9   2019-12-17     2019-11-01        43.0   \n",
      "\n",
      "     locked Year_Patch_Release Bulletin_Publish_Date  Year_Phone_Release  \\\n",
      "3      True               2019            2019-06-03                2019   \n",
      "4      True               2019            2019-09-03                2019   \n",
      "5      True               2019            2019-11-04                2019   \n",
      "138   False               2019            2019-08-05                2019   \n",
      "139   False               2019            2019-11-04                2019   \n",
      "\n",
      "     Month_Phone_Release  \n",
      "3                      4  \n",
      "4                      4  \n",
      "5                      4  \n",
      "138                    4  \n",
      "139                    4  \n"
     ]
    }
   ],
   "source": [
    "print(normalizedDF2.head())"
   ]
  },
  {
   "cell_type": "code",
   "execution_count": 12,
   "metadata": {
    "scrolled": false
   },
   "outputs": [
    {
     "name": "stdout",
     "output_type": "stream",
     "text": [
      "131\n",
      "127\n",
      "116\n",
      "104\n",
      "10.0\n",
      "          Model  Carrier android_os Release_Date Bulletin_Level  difference  \\\n",
      "324  Galaxy S10  TMobile         10   2019-12-16     2019-12-01        14.0   \n",
      "323  Galaxy S10  TMobile          9   2019-11-02     2019-11-01        -2.0   \n",
      "322  Galaxy S10  TMobile          9   2019-10-28     2019-10-01        21.0   \n",
      "321  Galaxy S10  TMobile          9   2019-09-17     2019-09-01        14.0   \n",
      "320  Galaxy S10  TMobile          9   2019-08-30     2019-08-01        25.0   \n",
      "319  Galaxy S10  TMobile          9   2019-08-10     2019-07-01        40.0   \n",
      "318  Galaxy S10  TMobile          9   2019-06-28     2019-06-01        25.0   \n",
      "317  Galaxy S10  TMobile          9   2019-05-17     2019-05-01        11.0   \n",
      "316  Galaxy S10  TMobile          9   2019-05-10     2019-04-01        39.0   \n",
      "315  Galaxy S10  TMobile          9   2019-04-06     2019-03-01        33.0   \n",
      "314  Galaxy S10  TMobile          9   2019-03-06     2019-02-01        30.0   \n",
      "\n",
      "     locked Year_Patch_Release Bulletin_Publish_Date  Year_Phone_Release  \\\n",
      "324    True               2019            2019-12-02                2019   \n",
      "323    True               2019            2019-11-04                2019   \n",
      "322    True               2019            2019-10-07                2019   \n",
      "321    True               2019            2019-09-03                2019   \n",
      "320    True               2019            2019-08-05                2019   \n",
      "319    True               2019            2019-07-01                2019   \n",
      "318    True               2019            2019-06-03                2019   \n",
      "317    True               2019            2019-05-06                2019   \n",
      "316    True               2019            2019-04-01                2019   \n",
      "315    True               2019            2019-03-04                2019   \n",
      "314    True               2019            2019-02-04                2019   \n",
      "\n",
      "     Month_Phone_Release Phone_Published  \n",
      "324                    3      2019-03-01  \n",
      "323                    3      2019-03-01  \n",
      "322                    3      2019-03-01  \n",
      "321                    3      2019-03-01  \n",
      "320                    3      2019-03-01  \n",
      "319                    3      2019-03-01  \n",
      "318                    3      2019-03-01  \n",
      "317                    3      2019-03-01  \n",
      "316                    3      2019-03-01  \n",
      "315                    3      2019-03-01  \n",
      "314                    3      2019-03-01  \n",
      "\n",
      "10.0\n",
      "           Model  Carrier android_os Release_Date Bulletin_Level  difference  \\\n",
      "335  Galaxy S10+  TMobile         10   2019-12-16     2019-12-01        14.0   \n",
      "334  Galaxy S10+  TMobile          9   2019-11-02     2019-11-01        -2.0   \n",
      "333  Galaxy S10+  TMobile          9   2019-10-28     2019-10-01        21.0   \n",
      "332  Galaxy S10+  TMobile          9   2019-09-17     2019-09-01        14.0   \n",
      "331  Galaxy S10+  TMobile          9   2019-08-30     2019-08-01        25.0   \n",
      "330  Galaxy S10+  TMobile          9   2019-08-10     2019-07-01        40.0   \n",
      "329  Galaxy S10+  TMobile          9   2019-06-28     2019-06-01        25.0   \n",
      "328  Galaxy S10+  TMobile          9   2019-05-17     2019-05-01        11.0   \n",
      "327  Galaxy S10+  TMobile          9   2019-05-10     2019-04-01        39.0   \n",
      "326  Galaxy S10+  TMobile          9   2019-04-06     2019-03-01        33.0   \n",
      "325  Galaxy S10+  TMobile          9   2019-03-06     2019-02-01        30.0   \n",
      "\n",
      "     locked Year_Patch_Release Bulletin_Publish_Date  Year_Phone_Release  \\\n",
      "335    True               2019            2019-12-02                2019   \n",
      "334    True               2019            2019-11-04                2019   \n",
      "333    True               2019            2019-10-07                2019   \n",
      "332    True               2019            2019-09-03                2019   \n",
      "331    True               2019            2019-08-05                2019   \n",
      "330    True               2019            2019-07-01                2019   \n",
      "329    True               2019            2019-06-03                2019   \n",
      "328    True               2019            2019-05-06                2019   \n",
      "327    True               2019            2019-04-01                2019   \n",
      "326    True               2019            2019-03-04                2019   \n",
      "325    True               2019            2019-02-04                2019   \n",
      "\n",
      "     Month_Phone_Release Phone_Published  \n",
      "335                    3      2019-03-01  \n",
      "334                    3      2019-03-01  \n",
      "333                    3      2019-03-01  \n",
      "332                    3      2019-03-01  \n",
      "331                    3      2019-03-01  \n",
      "330                    3      2019-03-01  \n",
      "329                    3      2019-03-01  \n",
      "328                    3      2019-03-01  \n",
      "327                    3      2019-03-01  \n",
      "326                    3      2019-03-01  \n",
      "325                    3      2019-03-01  \n",
      "\n"
     ]
    },
    {
     "name": "stderr",
     "output_type": "stream",
     "text": [
      "/Users/kjo/anaconda3/lib/python3.6/site-packages/ipykernel_launcher.py:46: SettingWithCopyWarning:\n",
      "\n",
      "\n",
      "A value is trying to be set on a copy of a slice from a DataFrame\n",
      "\n",
      "See the caveats in the documentation: https://pandas.pydata.org/pandas-docs/stable/user_guide/indexing.html#returning-a-view-versus-a-copy\n",
      "\n",
      "/Users/kjo/anaconda3/lib/python3.6/site-packages/ipykernel_launcher.py:46: SettingWithCopyWarning:\n",
      "\n",
      "\n",
      "A value is trying to be set on a copy of a slice from a DataFrame\n",
      "\n",
      "See the caveats in the documentation: https://pandas.pydata.org/pandas-docs/stable/user_guide/indexing.html#returning-a-view-versus-a-copy\n",
      "\n",
      "/Users/kjo/anaconda3/lib/python3.6/site-packages/ipykernel_launcher.py:46: SettingWithCopyWarning:\n",
      "\n",
      "\n",
      "A value is trying to be set on a copy of a slice from a DataFrame\n",
      "\n",
      "See the caveats in the documentation: https://pandas.pydata.org/pandas-docs/stable/user_guide/indexing.html#returning-a-view-versus-a-copy\n",
      "\n"
     ]
    },
    {
     "data": {
      "application/vnd.plotly.v1+json": {
       "config": {
        "linkText": "Export to plot.ly",
        "plotlyServerURL": "https://plot.ly",
        "showLink": false
       },
       "data": [
        {
         "marker": {
          "color": "rgb(212, 164, 21)"
         },
         "name": "Sprint",
         "type": "scatter",
         "x": [
          0.02631578947368421,
          0.02631578947368421,
          0.3333333333333333,
          0.48484848484848486,
          0.48484848484848486,
          0.6206896551724138,
          0.6818181818181818,
          0.6818181818181818,
          0.8333333333333334,
          0.8333333333333334,
          0.9411764705882353,
          1,
          1
         ],
         "y": [
          0.07692307692307693,
          0.15384615384615385,
          0.23076923076923078,
          0.3076923076923077,
          0.38461538461538464,
          0.46153846153846156,
          0.5384615384615384,
          0.6153846153846154,
          0.6923076923076923,
          0.7692307692307693,
          0.8461538461538461,
          0.9230769230769231,
          1
         ]
        },
        {
         "marker": {
          "color": "rgb(252, 211, 86)"
         },
         "name": "Sprint_U",
         "type": "scatter",
         "x": [
          0.02631578947368421,
          0.02631578947368421,
          0.2222222222222222,
          0.42424242424242425,
          0.42424242424242425,
          0.5862068965517241,
          0.7272727272727273,
          0.7272727272727273,
          0.9411764705882353,
          1,
          1,
          1,
          1
         ],
         "y": [
          0.07692307692307693,
          0.15384615384615385,
          0.23076923076923078,
          0.3076923076923077,
          0.38461538461538464,
          0.46153846153846156,
          0.5384615384615384,
          0.6153846153846154,
          0.6923076923076923,
          0.7692307692307693,
          0.8461538461538461,
          0.9230769230769231,
          1
         ]
        },
        {
         "marker": {
          "color": "rgb(204, 61, 202)"
         },
         "name": "TMobile",
         "type": "scatter",
         "x": [
          0.02631578947368421,
          0.02631578947368421,
          0.3333333333333333,
          0.3333333333333333,
          0.3333333333333333,
          0.5172413793103449,
          0.5909090909090909,
          0.5909090909090909,
          0.9411764705882353,
          1,
          1,
          1.1,
          1.1
         ],
         "y": [
          0.07692307692307693,
          0.15384615384615385,
          0.23076923076923078,
          0.3076923076923077,
          0.38461538461538464,
          0.46153846153846156,
          0.5384615384615384,
          0.6153846153846154,
          0.6923076923076923,
          0.7692307692307693,
          0.8461538461538461,
          0.9230769230769231,
          1
         ]
        },
        {
         "marker": {
          "color": "rgb(235, 122, 233)"
         },
         "name": "TMobile_U",
         "type": "scatter",
         "x": [
          0.02631578947368421,
          0.02631578947368421,
          0.2222222222222222,
          0.36363636363636365,
          0.36363636363636365,
          0.4090909090909091,
          0.4090909090909091,
          0.5172413793103449,
          0.7647058823529411,
          1,
          1,
          1,
          1
         ],
         "y": [
          0.07692307692307693,
          0.15384615384615385,
          0.23076923076923078,
          0.3076923076923077,
          0.38461538461538464,
          0.46153846153846156,
          0.5384615384615384,
          0.6153846153846154,
          0.6923076923076923,
          0.7692307692307693,
          0.8461538461538461,
          0.9230769230769231,
          1
         ]
        },
        {
         "marker": {
          "color": "rgb(30, 179, 70)"
         },
         "name": "Unbranded",
         "type": "scatter",
         "x": [
          0.02631578947368421,
          0.02631578947368421,
          0.2222222222222222,
          0.45454545454545453,
          0.45454545454545453,
          0.6206896551724138,
          0.7272727272727273,
          0.7272727272727273,
          0.9411764705882353,
          1,
          1,
          1,
          1
         ],
         "y": [
          0.07692307692307693,
          0.15384615384615385,
          0.23076923076923078,
          0.3076923076923077,
          0.38461538461538464,
          0.46153846153846156,
          0.5384615384615384,
          0.6153846153846154,
          0.6923076923076923,
          0.7692307692307693,
          0.8461538461538461,
          0.9230769230769231,
          1
         ]
        }
       ],
       "layout": {
        "boxmode": "group",
        "font": {
         "size": 20
        },
        "legend": {
         "orientation": "h",
         "x": 0.25,
         "y": 1.1
        },
        "plot_bgcolor": "rgba(0,0,0,0)",
        "template": {
         "data": {
          "bar": [
           {
            "error_x": {
             "color": "#2a3f5f"
            },
            "error_y": {
             "color": "#2a3f5f"
            },
            "marker": {
             "line": {
              "color": "#E5ECF6",
              "width": 0.5
             }
            },
            "type": "bar"
           }
          ],
          "barpolar": [
           {
            "marker": {
             "line": {
              "color": "#E5ECF6",
              "width": 0.5
             }
            },
            "type": "barpolar"
           }
          ],
          "carpet": [
           {
            "aaxis": {
             "endlinecolor": "#2a3f5f",
             "gridcolor": "white",
             "linecolor": "white",
             "minorgridcolor": "white",
             "startlinecolor": "#2a3f5f"
            },
            "baxis": {
             "endlinecolor": "#2a3f5f",
             "gridcolor": "white",
             "linecolor": "white",
             "minorgridcolor": "white",
             "startlinecolor": "#2a3f5f"
            },
            "type": "carpet"
           }
          ],
          "choropleth": [
           {
            "colorbar": {
             "outlinewidth": 0,
             "ticks": ""
            },
            "type": "choropleth"
           }
          ],
          "contour": [
           {
            "colorbar": {
             "outlinewidth": 0,
             "ticks": ""
            },
            "colorscale": [
             [
              0,
              "#0d0887"
             ],
             [
              0.1111111111111111,
              "#46039f"
             ],
             [
              0.2222222222222222,
              "#7201a8"
             ],
             [
              0.3333333333333333,
              "#9c179e"
             ],
             [
              0.4444444444444444,
              "#bd3786"
             ],
             [
              0.5555555555555556,
              "#d8576b"
             ],
             [
              0.6666666666666666,
              "#ed7953"
             ],
             [
              0.7777777777777778,
              "#fb9f3a"
             ],
             [
              0.8888888888888888,
              "#fdca26"
             ],
             [
              1,
              "#f0f921"
             ]
            ],
            "type": "contour"
           }
          ],
          "contourcarpet": [
           {
            "colorbar": {
             "outlinewidth": 0,
             "ticks": ""
            },
            "type": "contourcarpet"
           }
          ],
          "heatmap": [
           {
            "colorbar": {
             "outlinewidth": 0,
             "ticks": ""
            },
            "colorscale": [
             [
              0,
              "#0d0887"
             ],
             [
              0.1111111111111111,
              "#46039f"
             ],
             [
              0.2222222222222222,
              "#7201a8"
             ],
             [
              0.3333333333333333,
              "#9c179e"
             ],
             [
              0.4444444444444444,
              "#bd3786"
             ],
             [
              0.5555555555555556,
              "#d8576b"
             ],
             [
              0.6666666666666666,
              "#ed7953"
             ],
             [
              0.7777777777777778,
              "#fb9f3a"
             ],
             [
              0.8888888888888888,
              "#fdca26"
             ],
             [
              1,
              "#f0f921"
             ]
            ],
            "type": "heatmap"
           }
          ],
          "heatmapgl": [
           {
            "colorbar": {
             "outlinewidth": 0,
             "ticks": ""
            },
            "colorscale": [
             [
              0,
              "#0d0887"
             ],
             [
              0.1111111111111111,
              "#46039f"
             ],
             [
              0.2222222222222222,
              "#7201a8"
             ],
             [
              0.3333333333333333,
              "#9c179e"
             ],
             [
              0.4444444444444444,
              "#bd3786"
             ],
             [
              0.5555555555555556,
              "#d8576b"
             ],
             [
              0.6666666666666666,
              "#ed7953"
             ],
             [
              0.7777777777777778,
              "#fb9f3a"
             ],
             [
              0.8888888888888888,
              "#fdca26"
             ],
             [
              1,
              "#f0f921"
             ]
            ],
            "type": "heatmapgl"
           }
          ],
          "histogram": [
           {
            "marker": {
             "colorbar": {
              "outlinewidth": 0,
              "ticks": ""
             }
            },
            "type": "histogram"
           }
          ],
          "histogram2d": [
           {
            "colorbar": {
             "outlinewidth": 0,
             "ticks": ""
            },
            "colorscale": [
             [
              0,
              "#0d0887"
             ],
             [
              0.1111111111111111,
              "#46039f"
             ],
             [
              0.2222222222222222,
              "#7201a8"
             ],
             [
              0.3333333333333333,
              "#9c179e"
             ],
             [
              0.4444444444444444,
              "#bd3786"
             ],
             [
              0.5555555555555556,
              "#d8576b"
             ],
             [
              0.6666666666666666,
              "#ed7953"
             ],
             [
              0.7777777777777778,
              "#fb9f3a"
             ],
             [
              0.8888888888888888,
              "#fdca26"
             ],
             [
              1,
              "#f0f921"
             ]
            ],
            "type": "histogram2d"
           }
          ],
          "histogram2dcontour": [
           {
            "colorbar": {
             "outlinewidth": 0,
             "ticks": ""
            },
            "colorscale": [
             [
              0,
              "#0d0887"
             ],
             [
              0.1111111111111111,
              "#46039f"
             ],
             [
              0.2222222222222222,
              "#7201a8"
             ],
             [
              0.3333333333333333,
              "#9c179e"
             ],
             [
              0.4444444444444444,
              "#bd3786"
             ],
             [
              0.5555555555555556,
              "#d8576b"
             ],
             [
              0.6666666666666666,
              "#ed7953"
             ],
             [
              0.7777777777777778,
              "#fb9f3a"
             ],
             [
              0.8888888888888888,
              "#fdca26"
             ],
             [
              1,
              "#f0f921"
             ]
            ],
            "type": "histogram2dcontour"
           }
          ],
          "mesh3d": [
           {
            "colorbar": {
             "outlinewidth": 0,
             "ticks": ""
            },
            "type": "mesh3d"
           }
          ],
          "parcoords": [
           {
            "line": {
             "colorbar": {
              "outlinewidth": 0,
              "ticks": ""
             }
            },
            "type": "parcoords"
           }
          ],
          "pie": [
           {
            "automargin": true,
            "type": "pie"
           }
          ],
          "scatter": [
           {
            "marker": {
             "colorbar": {
              "outlinewidth": 0,
              "ticks": ""
             }
            },
            "type": "scatter"
           }
          ],
          "scatter3d": [
           {
            "line": {
             "colorbar": {
              "outlinewidth": 0,
              "ticks": ""
             }
            },
            "marker": {
             "colorbar": {
              "outlinewidth": 0,
              "ticks": ""
             }
            },
            "type": "scatter3d"
           }
          ],
          "scattercarpet": [
           {
            "marker": {
             "colorbar": {
              "outlinewidth": 0,
              "ticks": ""
             }
            },
            "type": "scattercarpet"
           }
          ],
          "scattergeo": [
           {
            "marker": {
             "colorbar": {
              "outlinewidth": 0,
              "ticks": ""
             }
            },
            "type": "scattergeo"
           }
          ],
          "scattergl": [
           {
            "marker": {
             "colorbar": {
              "outlinewidth": 0,
              "ticks": ""
             }
            },
            "type": "scattergl"
           }
          ],
          "scattermapbox": [
           {
            "marker": {
             "colorbar": {
              "outlinewidth": 0,
              "ticks": ""
             }
            },
            "type": "scattermapbox"
           }
          ],
          "scatterpolar": [
           {
            "marker": {
             "colorbar": {
              "outlinewidth": 0,
              "ticks": ""
             }
            },
            "type": "scatterpolar"
           }
          ],
          "scatterpolargl": [
           {
            "marker": {
             "colorbar": {
              "outlinewidth": 0,
              "ticks": ""
             }
            },
            "type": "scatterpolargl"
           }
          ],
          "scatterternary": [
           {
            "marker": {
             "colorbar": {
              "outlinewidth": 0,
              "ticks": ""
             }
            },
            "type": "scatterternary"
           }
          ],
          "surface": [
           {
            "colorbar": {
             "outlinewidth": 0,
             "ticks": ""
            },
            "colorscale": [
             [
              0,
              "#0d0887"
             ],
             [
              0.1111111111111111,
              "#46039f"
             ],
             [
              0.2222222222222222,
              "#7201a8"
             ],
             [
              0.3333333333333333,
              "#9c179e"
             ],
             [
              0.4444444444444444,
              "#bd3786"
             ],
             [
              0.5555555555555556,
              "#d8576b"
             ],
             [
              0.6666666666666666,
              "#ed7953"
             ],
             [
              0.7777777777777778,
              "#fb9f3a"
             ],
             [
              0.8888888888888888,
              "#fdca26"
             ],
             [
              1,
              "#f0f921"
             ]
            ],
            "type": "surface"
           }
          ],
          "table": [
           {
            "cells": {
             "fill": {
              "color": "#EBF0F8"
             },
             "line": {
              "color": "white"
             }
            },
            "header": {
             "fill": {
              "color": "#C8D4E3"
             },
             "line": {
              "color": "white"
             }
            },
            "type": "table"
           }
          ]
         },
         "layout": {
          "annotationdefaults": {
           "arrowcolor": "#2a3f5f",
           "arrowhead": 0,
           "arrowwidth": 1
          },
          "coloraxis": {
           "colorbar": {
            "outlinewidth": 0,
            "ticks": ""
           }
          },
          "colorscale": {
           "diverging": [
            [
             0,
             "#8e0152"
            ],
            [
             0.1,
             "#c51b7d"
            ],
            [
             0.2,
             "#de77ae"
            ],
            [
             0.3,
             "#f1b6da"
            ],
            [
             0.4,
             "#fde0ef"
            ],
            [
             0.5,
             "#f7f7f7"
            ],
            [
             0.6,
             "#e6f5d0"
            ],
            [
             0.7,
             "#b8e186"
            ],
            [
             0.8,
             "#7fbc41"
            ],
            [
             0.9,
             "#4d9221"
            ],
            [
             1,
             "#276419"
            ]
           ],
           "sequential": [
            [
             0,
             "#0d0887"
            ],
            [
             0.1111111111111111,
             "#46039f"
            ],
            [
             0.2222222222222222,
             "#7201a8"
            ],
            [
             0.3333333333333333,
             "#9c179e"
            ],
            [
             0.4444444444444444,
             "#bd3786"
            ],
            [
             0.5555555555555556,
             "#d8576b"
            ],
            [
             0.6666666666666666,
             "#ed7953"
            ],
            [
             0.7777777777777778,
             "#fb9f3a"
            ],
            [
             0.8888888888888888,
             "#fdca26"
            ],
            [
             1,
             "#f0f921"
            ]
           ],
           "sequentialminus": [
            [
             0,
             "#0d0887"
            ],
            [
             0.1111111111111111,
             "#46039f"
            ],
            [
             0.2222222222222222,
             "#7201a8"
            ],
            [
             0.3333333333333333,
             "#9c179e"
            ],
            [
             0.4444444444444444,
             "#bd3786"
            ],
            [
             0.5555555555555556,
             "#d8576b"
            ],
            [
             0.6666666666666666,
             "#ed7953"
            ],
            [
             0.7777777777777778,
             "#fb9f3a"
            ],
            [
             0.8888888888888888,
             "#fdca26"
            ],
            [
             1,
             "#f0f921"
            ]
           ]
          },
          "colorway": [
           "#636efa",
           "#EF553B",
           "#00cc96",
           "#ab63fa",
           "#FFA15A",
           "#19d3f3",
           "#FF6692",
           "#B6E880",
           "#FF97FF",
           "#FECB52"
          ],
          "font": {
           "color": "#2a3f5f"
          },
          "geo": {
           "bgcolor": "white",
           "lakecolor": "white",
           "landcolor": "#E5ECF6",
           "showlakes": true,
           "showland": true,
           "subunitcolor": "white"
          },
          "hoverlabel": {
           "align": "left"
          },
          "hovermode": "closest",
          "mapbox": {
           "style": "light"
          },
          "paper_bgcolor": "white",
          "plot_bgcolor": "#E5ECF6",
          "polar": {
           "angularaxis": {
            "gridcolor": "white",
            "linecolor": "white",
            "ticks": ""
           },
           "bgcolor": "#E5ECF6",
           "radialaxis": {
            "gridcolor": "white",
            "linecolor": "white",
            "ticks": ""
           }
          },
          "scene": {
           "xaxis": {
            "backgroundcolor": "#E5ECF6",
            "gridcolor": "white",
            "gridwidth": 2,
            "linecolor": "white",
            "showbackground": true,
            "ticks": "",
            "zerolinecolor": "white"
           },
           "yaxis": {
            "backgroundcolor": "#E5ECF6",
            "gridcolor": "white",
            "gridwidth": 2,
            "linecolor": "white",
            "showbackground": true,
            "ticks": "",
            "zerolinecolor": "white"
           },
           "zaxis": {
            "backgroundcolor": "#E5ECF6",
            "gridcolor": "white",
            "gridwidth": 2,
            "linecolor": "white",
            "showbackground": true,
            "ticks": "",
            "zerolinecolor": "white"
           }
          },
          "shapedefaults": {
           "line": {
            "color": "#2a3f5f"
           }
          },
          "ternary": {
           "aaxis": {
            "gridcolor": "white",
            "linecolor": "white",
            "ticks": ""
           },
           "baxis": {
            "gridcolor": "white",
            "linecolor": "white",
            "ticks": ""
           },
           "bgcolor": "#E5ECF6",
           "caxis": {
            "gridcolor": "white",
            "linecolor": "white",
            "ticks": ""
           }
          },
          "title": {
           "x": 0.05
          },
          "xaxis": {
           "automargin": true,
           "gridcolor": "white",
           "linecolor": "white",
           "ticks": "",
           "title": {
            "standoff": 15
           },
           "zerolinecolor": "white",
           "zerolinewidth": 2
          },
          "yaxis": {
           "automargin": true,
           "gridcolor": "white",
           "linecolor": "white",
           "ticks": "",
           "title": {
            "standoff": 15
           },
           "zerolinecolor": "white",
           "zerolinewidth": 2
          }
         }
        },
        "violinmode": "group",
        "yaxis": {
         "gridcolor": "rgb(219, 219, 219)",
         "showgrid": true,
         "title": {
          "text": "Cumulative Fraction of Models"
         }
        }
       }
      },
      "text/html": [
       "<div>\n",
       "        \n",
       "        \n",
       "            <div id=\"cca98695-a8f2-4dd3-93b3-ddd3eb48abef\" class=\"plotly-graph-div\" style=\"height:525px; width:100%;\"></div>\n",
       "            <script type=\"text/javascript\">\n",
       "                require([\"plotly\"], function(Plotly) {\n",
       "                    window.PLOTLYENV=window.PLOTLYENV || {};\n",
       "                    \n",
       "                if (document.getElementById(\"cca98695-a8f2-4dd3-93b3-ddd3eb48abef\")) {\n",
       "                    Plotly.newPlot(\n",
       "                        'cca98695-a8f2-4dd3-93b3-ddd3eb48abef',\n",
       "                        [{\"marker\": {\"color\": \"rgb(212, 164, 21)\"}, \"name\": \"Sprint\", \"type\": \"scatter\", \"x\": [0.02631578947368421, 0.02631578947368421, 0.3333333333333333, 0.48484848484848486, 0.48484848484848486, 0.6206896551724138, 0.6818181818181818, 0.6818181818181818, 0.8333333333333334, 0.8333333333333334, 0.9411764705882353, 1.0, 1.0], \"y\": [0.07692307692307693, 0.15384615384615385, 0.23076923076923078, 0.3076923076923077, 0.38461538461538464, 0.46153846153846156, 0.5384615384615384, 0.6153846153846154, 0.6923076923076923, 0.7692307692307693, 0.8461538461538461, 0.9230769230769231, 1.0]}, {\"marker\": {\"color\": \"rgb(252, 211, 86)\"}, \"name\": \"Sprint_U\", \"type\": \"scatter\", \"x\": [0.02631578947368421, 0.02631578947368421, 0.2222222222222222, 0.42424242424242425, 0.42424242424242425, 0.5862068965517241, 0.7272727272727273, 0.7272727272727273, 0.9411764705882353, 1.0, 1.0, 1.0, 1.0], \"y\": [0.07692307692307693, 0.15384615384615385, 0.23076923076923078, 0.3076923076923077, 0.38461538461538464, 0.46153846153846156, 0.5384615384615384, 0.6153846153846154, 0.6923076923076923, 0.7692307692307693, 0.8461538461538461, 0.9230769230769231, 1.0]}, {\"marker\": {\"color\": \"rgb(204, 61, 202)\"}, \"name\": \"TMobile\", \"type\": \"scatter\", \"x\": [0.02631578947368421, 0.02631578947368421, 0.3333333333333333, 0.3333333333333333, 0.3333333333333333, 0.5172413793103449, 0.5909090909090909, 0.5909090909090909, 0.9411764705882353, 1.0, 1.0, 1.1, 1.1], \"y\": [0.07692307692307693, 0.15384615384615385, 0.23076923076923078, 0.3076923076923077, 0.38461538461538464, 0.46153846153846156, 0.5384615384615384, 0.6153846153846154, 0.6923076923076923, 0.7692307692307693, 0.8461538461538461, 0.9230769230769231, 1.0]}, {\"marker\": {\"color\": \"rgb(235, 122, 233)\"}, \"name\": \"TMobile_U\", \"type\": \"scatter\", \"x\": [0.02631578947368421, 0.02631578947368421, 0.2222222222222222, 0.36363636363636365, 0.36363636363636365, 0.4090909090909091, 0.4090909090909091, 0.5172413793103449, 0.7647058823529411, 1.0, 1.0, 1.0, 1.0], \"y\": [0.07692307692307693, 0.15384615384615385, 0.23076923076923078, 0.3076923076923077, 0.38461538461538464, 0.46153846153846156, 0.5384615384615384, 0.6153846153846154, 0.6923076923076923, 0.7692307692307693, 0.8461538461538461, 0.9230769230769231, 1.0]}, {\"marker\": {\"color\": \"rgb(30, 179, 70)\"}, \"name\": \"Unbranded\", \"type\": \"scatter\", \"x\": [0.02631578947368421, 0.02631578947368421, 0.2222222222222222, 0.45454545454545453, 0.45454545454545453, 0.6206896551724138, 0.7272727272727273, 0.7272727272727273, 0.9411764705882353, 1.0, 1.0, 1.0, 1.0], \"y\": [0.07692307692307693, 0.15384615384615385, 0.23076923076923078, 0.3076923076923077, 0.38461538461538464, 0.46153846153846156, 0.5384615384615384, 0.6153846153846154, 0.6923076923076923, 0.7692307692307693, 0.8461538461538461, 0.9230769230769231, 1.0]}],\n",
       "                        {\"boxmode\": \"group\", \"font\": {\"size\": 20}, \"legend\": {\"orientation\": \"h\", \"x\": 0.25, \"y\": 1.1}, \"plot_bgcolor\": \"rgba(0,0,0,0)\", \"template\": {\"data\": {\"bar\": [{\"error_x\": {\"color\": \"#2a3f5f\"}, \"error_y\": {\"color\": \"#2a3f5f\"}, \"marker\": {\"line\": {\"color\": \"#E5ECF6\", \"width\": 0.5}}, \"type\": \"bar\"}], \"barpolar\": [{\"marker\": {\"line\": {\"color\": \"#E5ECF6\", \"width\": 0.5}}, \"type\": \"barpolar\"}], \"carpet\": [{\"aaxis\": {\"endlinecolor\": \"#2a3f5f\", \"gridcolor\": \"white\", \"linecolor\": \"white\", \"minorgridcolor\": \"white\", \"startlinecolor\": \"#2a3f5f\"}, \"baxis\": {\"endlinecolor\": \"#2a3f5f\", \"gridcolor\": \"white\", \"linecolor\": \"white\", \"minorgridcolor\": \"white\", \"startlinecolor\": \"#2a3f5f\"}, \"type\": \"carpet\"}], \"choropleth\": [{\"colorbar\": {\"outlinewidth\": 0, \"ticks\": \"\"}, \"type\": \"choropleth\"}], \"contour\": [{\"colorbar\": {\"outlinewidth\": 0, \"ticks\": \"\"}, \"colorscale\": [[0.0, \"#0d0887\"], [0.1111111111111111, \"#46039f\"], [0.2222222222222222, \"#7201a8\"], [0.3333333333333333, \"#9c179e\"], [0.4444444444444444, \"#bd3786\"], [0.5555555555555556, \"#d8576b\"], [0.6666666666666666, \"#ed7953\"], [0.7777777777777778, \"#fb9f3a\"], [0.8888888888888888, \"#fdca26\"], [1.0, \"#f0f921\"]], \"type\": \"contour\"}], \"contourcarpet\": [{\"colorbar\": {\"outlinewidth\": 0, \"ticks\": \"\"}, \"type\": \"contourcarpet\"}], \"heatmap\": [{\"colorbar\": {\"outlinewidth\": 0, \"ticks\": \"\"}, \"colorscale\": [[0.0, \"#0d0887\"], [0.1111111111111111, \"#46039f\"], [0.2222222222222222, \"#7201a8\"], [0.3333333333333333, \"#9c179e\"], [0.4444444444444444, \"#bd3786\"], [0.5555555555555556, \"#d8576b\"], [0.6666666666666666, \"#ed7953\"], [0.7777777777777778, \"#fb9f3a\"], [0.8888888888888888, \"#fdca26\"], [1.0, \"#f0f921\"]], \"type\": \"heatmap\"}], \"heatmapgl\": [{\"colorbar\": {\"outlinewidth\": 0, \"ticks\": \"\"}, \"colorscale\": [[0.0, \"#0d0887\"], [0.1111111111111111, \"#46039f\"], [0.2222222222222222, \"#7201a8\"], [0.3333333333333333, \"#9c179e\"], [0.4444444444444444, \"#bd3786\"], [0.5555555555555556, \"#d8576b\"], [0.6666666666666666, \"#ed7953\"], [0.7777777777777778, \"#fb9f3a\"], [0.8888888888888888, \"#fdca26\"], [1.0, \"#f0f921\"]], \"type\": \"heatmapgl\"}], \"histogram\": [{\"marker\": {\"colorbar\": {\"outlinewidth\": 0, \"ticks\": \"\"}}, \"type\": \"histogram\"}], \"histogram2d\": [{\"colorbar\": {\"outlinewidth\": 0, \"ticks\": \"\"}, \"colorscale\": [[0.0, \"#0d0887\"], [0.1111111111111111, \"#46039f\"], [0.2222222222222222, \"#7201a8\"], [0.3333333333333333, \"#9c179e\"], [0.4444444444444444, \"#bd3786\"], [0.5555555555555556, \"#d8576b\"], [0.6666666666666666, \"#ed7953\"], [0.7777777777777778, \"#fb9f3a\"], [0.8888888888888888, \"#fdca26\"], [1.0, \"#f0f921\"]], \"type\": \"histogram2d\"}], \"histogram2dcontour\": [{\"colorbar\": {\"outlinewidth\": 0, \"ticks\": \"\"}, \"colorscale\": [[0.0, \"#0d0887\"], [0.1111111111111111, \"#46039f\"], [0.2222222222222222, \"#7201a8\"], [0.3333333333333333, \"#9c179e\"], [0.4444444444444444, \"#bd3786\"], [0.5555555555555556, \"#d8576b\"], [0.6666666666666666, \"#ed7953\"], [0.7777777777777778, \"#fb9f3a\"], [0.8888888888888888, \"#fdca26\"], [1.0, \"#f0f921\"]], \"type\": \"histogram2dcontour\"}], \"mesh3d\": [{\"colorbar\": {\"outlinewidth\": 0, \"ticks\": \"\"}, \"type\": \"mesh3d\"}], \"parcoords\": [{\"line\": {\"colorbar\": {\"outlinewidth\": 0, \"ticks\": \"\"}}, \"type\": \"parcoords\"}], \"pie\": [{\"automargin\": true, \"type\": \"pie\"}], \"scatter\": [{\"marker\": {\"colorbar\": {\"outlinewidth\": 0, \"ticks\": \"\"}}, \"type\": \"scatter\"}], \"scatter3d\": [{\"line\": {\"colorbar\": {\"outlinewidth\": 0, \"ticks\": \"\"}}, \"marker\": {\"colorbar\": {\"outlinewidth\": 0, \"ticks\": \"\"}}, \"type\": \"scatter3d\"}], \"scattercarpet\": [{\"marker\": {\"colorbar\": {\"outlinewidth\": 0, \"ticks\": \"\"}}, \"type\": \"scattercarpet\"}], \"scattergeo\": [{\"marker\": {\"colorbar\": {\"outlinewidth\": 0, \"ticks\": \"\"}}, \"type\": \"scattergeo\"}], \"scattergl\": [{\"marker\": {\"colorbar\": {\"outlinewidth\": 0, \"ticks\": \"\"}}, \"type\": \"scattergl\"}], \"scattermapbox\": [{\"marker\": {\"colorbar\": {\"outlinewidth\": 0, \"ticks\": \"\"}}, \"type\": \"scattermapbox\"}], \"scatterpolar\": [{\"marker\": {\"colorbar\": {\"outlinewidth\": 0, \"ticks\": \"\"}}, \"type\": \"scatterpolar\"}], \"scatterpolargl\": [{\"marker\": {\"colorbar\": {\"outlinewidth\": 0, \"ticks\": \"\"}}, \"type\": \"scatterpolargl\"}], \"scatterternary\": [{\"marker\": {\"colorbar\": {\"outlinewidth\": 0, \"ticks\": \"\"}}, \"type\": \"scatterternary\"}], \"surface\": [{\"colorbar\": {\"outlinewidth\": 0, \"ticks\": \"\"}, \"colorscale\": [[0.0, \"#0d0887\"], [0.1111111111111111, \"#46039f\"], [0.2222222222222222, \"#7201a8\"], [0.3333333333333333, \"#9c179e\"], [0.4444444444444444, \"#bd3786\"], [0.5555555555555556, \"#d8576b\"], [0.6666666666666666, \"#ed7953\"], [0.7777777777777778, \"#fb9f3a\"], [0.8888888888888888, \"#fdca26\"], [1.0, \"#f0f921\"]], \"type\": \"surface\"}], \"table\": [{\"cells\": {\"fill\": {\"color\": \"#EBF0F8\"}, \"line\": {\"color\": \"white\"}}, \"header\": {\"fill\": {\"color\": \"#C8D4E3\"}, \"line\": {\"color\": \"white\"}}, \"type\": \"table\"}]}, \"layout\": {\"annotationdefaults\": {\"arrowcolor\": \"#2a3f5f\", \"arrowhead\": 0, \"arrowwidth\": 1}, \"coloraxis\": {\"colorbar\": {\"outlinewidth\": 0, \"ticks\": \"\"}}, \"colorscale\": {\"diverging\": [[0, \"#8e0152\"], [0.1, \"#c51b7d\"], [0.2, \"#de77ae\"], [0.3, \"#f1b6da\"], [0.4, \"#fde0ef\"], [0.5, \"#f7f7f7\"], [0.6, \"#e6f5d0\"], [0.7, \"#b8e186\"], [0.8, \"#7fbc41\"], [0.9, \"#4d9221\"], [1, \"#276419\"]], \"sequential\": [[0.0, \"#0d0887\"], [0.1111111111111111, \"#46039f\"], [0.2222222222222222, \"#7201a8\"], [0.3333333333333333, \"#9c179e\"], [0.4444444444444444, \"#bd3786\"], [0.5555555555555556, \"#d8576b\"], [0.6666666666666666, \"#ed7953\"], [0.7777777777777778, \"#fb9f3a\"], [0.8888888888888888, \"#fdca26\"], [1.0, \"#f0f921\"]], \"sequentialminus\": [[0.0, \"#0d0887\"], [0.1111111111111111, \"#46039f\"], [0.2222222222222222, \"#7201a8\"], [0.3333333333333333, \"#9c179e\"], [0.4444444444444444, \"#bd3786\"], [0.5555555555555556, \"#d8576b\"], [0.6666666666666666, \"#ed7953\"], [0.7777777777777778, \"#fb9f3a\"], [0.8888888888888888, \"#fdca26\"], [1.0, \"#f0f921\"]]}, \"colorway\": [\"#636efa\", \"#EF553B\", \"#00cc96\", \"#ab63fa\", \"#FFA15A\", \"#19d3f3\", \"#FF6692\", \"#B6E880\", \"#FF97FF\", \"#FECB52\"], \"font\": {\"color\": \"#2a3f5f\"}, \"geo\": {\"bgcolor\": \"white\", \"lakecolor\": \"white\", \"landcolor\": \"#E5ECF6\", \"showlakes\": true, \"showland\": true, \"subunitcolor\": \"white\"}, \"hoverlabel\": {\"align\": \"left\"}, \"hovermode\": \"closest\", \"mapbox\": {\"style\": \"light\"}, \"paper_bgcolor\": \"white\", \"plot_bgcolor\": \"#E5ECF6\", \"polar\": {\"angularaxis\": {\"gridcolor\": \"white\", \"linecolor\": \"white\", \"ticks\": \"\"}, \"bgcolor\": \"#E5ECF6\", \"radialaxis\": {\"gridcolor\": \"white\", \"linecolor\": \"white\", \"ticks\": \"\"}}, \"scene\": {\"xaxis\": {\"backgroundcolor\": \"#E5ECF6\", \"gridcolor\": \"white\", \"gridwidth\": 2, \"linecolor\": \"white\", \"showbackground\": true, \"ticks\": \"\", \"zerolinecolor\": \"white\"}, \"yaxis\": {\"backgroundcolor\": \"#E5ECF6\", \"gridcolor\": \"white\", \"gridwidth\": 2, \"linecolor\": \"white\", \"showbackground\": true, \"ticks\": \"\", \"zerolinecolor\": \"white\"}, \"zaxis\": {\"backgroundcolor\": \"#E5ECF6\", \"gridcolor\": \"white\", \"gridwidth\": 2, \"linecolor\": \"white\", \"showbackground\": true, \"ticks\": \"\", \"zerolinecolor\": \"white\"}}, \"shapedefaults\": {\"line\": {\"color\": \"#2a3f5f\"}}, \"ternary\": {\"aaxis\": {\"gridcolor\": \"white\", \"linecolor\": \"white\", \"ticks\": \"\"}, \"baxis\": {\"gridcolor\": \"white\", \"linecolor\": \"white\", \"ticks\": \"\"}, \"bgcolor\": \"#E5ECF6\", \"caxis\": {\"gridcolor\": \"white\", \"linecolor\": \"white\", \"ticks\": \"\"}}, \"title\": {\"x\": 0.05}, \"xaxis\": {\"automargin\": true, \"gridcolor\": \"white\", \"linecolor\": \"white\", \"ticks\": \"\", \"title\": {\"standoff\": 15}, \"zerolinecolor\": \"white\", \"zerolinewidth\": 2}, \"yaxis\": {\"automargin\": true, \"gridcolor\": \"white\", \"linecolor\": \"white\", \"ticks\": \"\", \"title\": {\"standoff\": 15}, \"zerolinecolor\": \"white\", \"zerolinewidth\": 2}}}, \"violinmode\": \"group\", \"yaxis\": {\"gridcolor\": \"rgb(219, 219, 219)\", \"showgrid\": true, \"title\": {\"text\": \"Cumulative Fraction of Models\"}}},\n",
       "                        {\"responsive\": true}\n",
       "                    ).then(function(){\n",
       "                            \n",
       "var gd = document.getElementById('cca98695-a8f2-4dd3-93b3-ddd3eb48abef');\n",
       "var x = new MutationObserver(function (mutations, observer) {{\n",
       "        var display = window.getComputedStyle(gd).display;\n",
       "        if (!display || display === 'none') {{\n",
       "            console.log([gd, 'removed!']);\n",
       "            Plotly.purge(gd);\n",
       "            observer.disconnect();\n",
       "        }}\n",
       "}});\n",
       "\n",
       "// Listen for the removal of the full notebook cells\n",
       "var notebookContainer = gd.closest('#notebook-container');\n",
       "if (notebookContainer) {{\n",
       "    x.observe(notebookContainer, {childList: true});\n",
       "}}\n",
       "\n",
       "// Listen for the clearing of the current output cell\n",
       "var outputEl = gd.closest('.output');\n",
       "if (outputEl) {{\n",
       "    x.observe(outputEl, {childList: true});\n",
       "}}\n",
       "\n",
       "                        })\n",
       "                };\n",
       "                });\n",
       "            </script>\n",
       "        </div>"
      ]
     },
     "metadata": {},
     "output_type": "display_data"
    }
   ],
   "source": [
    "# NEW METHODOLOGY FOR FREQUENCY\n",
    "freqDF=normalizedDF2.copy()\n",
    "\n",
    "\n",
    "print(len(normalizedDF2[normalizedDF2.Carrier==\"Sprint\"]))\n",
    "print(len(normalizedDF2[normalizedDF2.Carrier==\"Sprint_U\"]))\n",
    "print(len(normalizedDF2[normalizedDF2.Carrier==\"TMobile\"]))\n",
    "print(len(normalizedDF2[normalizedDF2.Carrier==\"TMobile_U\"]))\n",
    "\n",
    "\n",
    "# Map released times to devices\n",
    "def mapPublish(row):\n",
    "    if row.Model=='Galaxy A20': return \"2019/04/01\"\n",
    "    elif row.Model=='Galaxy Note10': return \"2019/08/01\"\n",
    "    elif row.Model=='Galaxy Note10+': return \"2019/08/01\"\n",
    "    elif row.Model== 'Galaxy Note8': return \"2017/08/01\"\n",
    "    elif row.Model=='Galaxy Note9': return \"2018/08/01\"\n",
    "    elif row.Model=='Galaxy S10' : return \"2019/03/01\"\n",
    "    elif row.Model=='Galaxy S10+': return \"2019/03/01\"\n",
    "    elif row.Model=='Galaxy S7' : return \"2016/03/01\"\n",
    "    elif row.Model=='Galaxy S7 Edge': return \"2016/03/01\"\n",
    "    elif row.Model=='Galaxy S8': return \"2017/04/01\"\n",
    "    elif row.Model=='Galaxy S8+': return \"2017/04/01\"\n",
    "    elif row.Model=='Galaxy S9': return \"2018/03/01\"\n",
    "    elif row.Model=='Galaxy S9+': return \"2018/03/01\"\n",
    "\n",
    "\n",
    "# Append the new stuff\n",
    "appendMe=[]\n",
    "for index,row in freqDF.iterrows():\n",
    "    appendMe.append(mapPublish(row))\n",
    "\n",
    "\n",
    "freqDF[\"Phone_Published\"]=appendMe.copy()\n",
    "freqDF[\"Phone_Published\"]=pd.to_datetime(freqDF[\"Phone_Published\"])\n",
    "freqDF[\"Release_Date\"]=pd.to_datetime(freqDF[\"Release_Date\"])\n",
    "\n",
    "# freqDF=freqDF[freqDF.Phone_Published>=pd.to_datetime(\"2015/08/01\")] # Remove models released before the first bulletin\n",
    "freqDF=freqDF[freqDF.Phone_Published<=freqDF.Release_Date] # Remove updates happening prior to phone release\n",
    "\n",
    "counts=[]\n",
    "for car in freqDF.Carrier.unique():\n",
    "    tmp=freqDF[freqDF.Carrier==car]\n",
    "    for mod in tmp.Model.unique():\n",
    "        tmp3=tmp[tmp.Model==mod]\n",
    "        tmp3.sort_values(by=['Release_Date'],inplace=True,ascending=False) \n",
    "        totalReceived=len(tmp3) # total number of updates received for the model\n",
    "        shouldReceive=tmp3.iloc[0,:] # grab the first row\n",
    "        shouldReceive=(shouldReceive.Release_Date.year-shouldReceive.Phone_Published.year)*12.0+(shouldReceive.Release_Date.month+1)-shouldReceive.Phone_Published.month # account for the WHOLE last month\n",
    "        if shouldReceive>0: # we skip any updates released prior to phone's release\n",
    "            counts.append([car,mod,totalReceived,shouldReceive])\n",
    "            if totalReceived>shouldReceive:\n",
    "                print(shouldReceive)\n",
    "                print(tmp3)\n",
    "                print()\n",
    "        elif shouldReceive==0: \n",
    "            counts.append([car,mod,totalReceived,1]) # account for less than a month...\n",
    "#         else:\n",
    "#             print(shouldReceive)\n",
    "#             print(tmp3)\n",
    "#             print()\n",
    "\n",
    "                \n",
    "counts=pd.DataFrame(counts,columns=['Carrier','Model','Actual','Potential'])\n",
    "counts['Actual']=counts['Actual'].astype(int)\n",
    "counts['Potential']=counts['Potential'].astype(int)\n",
    "counts['Received_Rate']=counts['Actual']/counts['Potential']\n",
    "\n",
    "\n",
    "# For each manu\n",
    "tempoMan=counts.copy()\n",
    "# tempoMan.sort_values(by=['Carrier','Potential'],inplace=True,ascending=True)\n",
    "tempoMan.sort_values(by=['Carrier','Received_Rate'],inplace=True,ascending=True)\n",
    "# tempoMan.sort_values(by=['Carrier','Actual'],inplace=True,ascending=True)\n",
    "data=[]\n",
    "for car in tempoMan.Carrier.unique():\n",
    "    tmp=tempoMan[tempoMan.Carrier==car]\n",
    "    y_value=[(i+1)/len(tmp) for i in range(len(tmp))]\n",
    "    \n",
    "    if car==\"Sprint\": coler= 'rgb(212, 164, 21)'\n",
    "    elif car==\"Sprint_U\": coler='rgb(252, 211, 86)'\n",
    "    elif car==\"TMobile\": coler='rgb(204, 61, 202)'\n",
    "    elif car==\"TMobile_U\": coler='rgb(235, 122, 233)'\n",
    "    elif car==\"Unbranded\": coler='rgb(30, 179, 70)'\n",
    "\n",
    "    data.append(go.Scatter(\n",
    "#             x=tmp.Potential,\n",
    "            x=tmp.Received_Rate,\n",
    "#             x = tmp.Actual,\n",
    "            y=y_value.copy(),\n",
    "            name=str(car),\n",
    "            marker=dict(color=coler)\n",
    "        ))\n",
    "\n",
    "# Edit the layout\n",
    "layout = dict(#title = \"Number of Updates per 6 Month Period after Release per Carrier\",\n",
    "#               xaxis= dict(range=[0,1.0],dtick=0.1),\n",
    "              yaxis = dict(title = 'Cumulative Fraction of Models',showgrid=True, gridcolor='rgb(219, 219, 219)'),\n",
    "              #xaxis = dict(title = '6 Month Period'),\n",
    "              plot_bgcolor='rgba(0,0,0,0)',\n",
    "              boxmode='group',\n",
    "              violinmode='group',\n",
    "              legend_orientation=\"h\",\n",
    "              legend=dict(x=0.25, y=1.1),\n",
    "              font=dict(size=20)\n",
    "              )\n",
    "\n",
    "fig = dict(data=data, layout=layout)\n",
    "py.offline.iplot(fig, filename='release-years-frequency-per-carrier-median.png')\n",
    "pio.write_image(fig, 'samsung-data-cumulative-frequency.pdf', width=1000, height=600)\n",
    "        \n",
    "        "
   ]
  },
  {
   "cell_type": "code",
   "execution_count": 13,
   "metadata": {},
   "outputs": [
    {
     "data": {
      "application/vnd.plotly.v1+json": {
       "config": {
        "linkText": "Export to plot.ly",
        "plotlyServerURL": "https://plot.ly",
        "showLink": false
       },
       "data": [
        {
         "name": "Sprint",
         "type": "box",
         "y": [
          0.02631578947368421,
          0.02631578947368421,
          0.3333333333333333,
          0.48484848484848486,
          0.48484848484848486,
          0.6206896551724138,
          0.6818181818181818,
          0.6818181818181818,
          0.8333333333333334,
          0.8333333333333334,
          0.9411764705882353,
          1,
          1
         ]
        },
        {
         "name": "Sprint_U",
         "type": "box",
         "y": [
          0.02631578947368421,
          0.02631578947368421,
          0.2222222222222222,
          0.42424242424242425,
          0.42424242424242425,
          0.5862068965517241,
          0.7272727272727273,
          0.7272727272727273,
          0.9411764705882353,
          1,
          1,
          1,
          1
         ]
        },
        {
         "name": "TMobile",
         "type": "box",
         "y": [
          0.02631578947368421,
          0.02631578947368421,
          0.3333333333333333,
          0.3333333333333333,
          0.3333333333333333,
          0.5172413793103449,
          0.5909090909090909,
          0.5909090909090909,
          0.9411764705882353,
          1,
          1,
          1.1,
          1.1
         ]
        },
        {
         "name": "TMobile_U",
         "type": "box",
         "y": [
          0.02631578947368421,
          0.02631578947368421,
          0.2222222222222222,
          0.36363636363636365,
          0.36363636363636365,
          0.4090909090909091,
          0.4090909090909091,
          0.5172413793103449,
          0.7647058823529411,
          1,
          1,
          1,
          1
         ]
        },
        {
         "name": "Unbranded",
         "type": "box",
         "y": [
          0.02631578947368421,
          0.02631578947368421,
          0.2222222222222222,
          0.45454545454545453,
          0.45454545454545453,
          0.6206896551724138,
          0.7272727272727273,
          0.7272727272727273,
          0.9411764705882353,
          1,
          1,
          1,
          1
         ]
        }
       ],
       "layout": {
        "boxmode": "group",
        "font": {
         "size": 20
        },
        "legend": {
         "orientation": "h",
         "x": 0.25,
         "y": 1.1
        },
        "plot_bgcolor": "rgba(0,0,0,0)",
        "template": {
         "data": {
          "bar": [
           {
            "error_x": {
             "color": "#2a3f5f"
            },
            "error_y": {
             "color": "#2a3f5f"
            },
            "marker": {
             "line": {
              "color": "#E5ECF6",
              "width": 0.5
             }
            },
            "type": "bar"
           }
          ],
          "barpolar": [
           {
            "marker": {
             "line": {
              "color": "#E5ECF6",
              "width": 0.5
             }
            },
            "type": "barpolar"
           }
          ],
          "carpet": [
           {
            "aaxis": {
             "endlinecolor": "#2a3f5f",
             "gridcolor": "white",
             "linecolor": "white",
             "minorgridcolor": "white",
             "startlinecolor": "#2a3f5f"
            },
            "baxis": {
             "endlinecolor": "#2a3f5f",
             "gridcolor": "white",
             "linecolor": "white",
             "minorgridcolor": "white",
             "startlinecolor": "#2a3f5f"
            },
            "type": "carpet"
           }
          ],
          "choropleth": [
           {
            "colorbar": {
             "outlinewidth": 0,
             "ticks": ""
            },
            "type": "choropleth"
           }
          ],
          "contour": [
           {
            "colorbar": {
             "outlinewidth": 0,
             "ticks": ""
            },
            "colorscale": [
             [
              0,
              "#0d0887"
             ],
             [
              0.1111111111111111,
              "#46039f"
             ],
             [
              0.2222222222222222,
              "#7201a8"
             ],
             [
              0.3333333333333333,
              "#9c179e"
             ],
             [
              0.4444444444444444,
              "#bd3786"
             ],
             [
              0.5555555555555556,
              "#d8576b"
             ],
             [
              0.6666666666666666,
              "#ed7953"
             ],
             [
              0.7777777777777778,
              "#fb9f3a"
             ],
             [
              0.8888888888888888,
              "#fdca26"
             ],
             [
              1,
              "#f0f921"
             ]
            ],
            "type": "contour"
           }
          ],
          "contourcarpet": [
           {
            "colorbar": {
             "outlinewidth": 0,
             "ticks": ""
            },
            "type": "contourcarpet"
           }
          ],
          "heatmap": [
           {
            "colorbar": {
             "outlinewidth": 0,
             "ticks": ""
            },
            "colorscale": [
             [
              0,
              "#0d0887"
             ],
             [
              0.1111111111111111,
              "#46039f"
             ],
             [
              0.2222222222222222,
              "#7201a8"
             ],
             [
              0.3333333333333333,
              "#9c179e"
             ],
             [
              0.4444444444444444,
              "#bd3786"
             ],
             [
              0.5555555555555556,
              "#d8576b"
             ],
             [
              0.6666666666666666,
              "#ed7953"
             ],
             [
              0.7777777777777778,
              "#fb9f3a"
             ],
             [
              0.8888888888888888,
              "#fdca26"
             ],
             [
              1,
              "#f0f921"
             ]
            ],
            "type": "heatmap"
           }
          ],
          "heatmapgl": [
           {
            "colorbar": {
             "outlinewidth": 0,
             "ticks": ""
            },
            "colorscale": [
             [
              0,
              "#0d0887"
             ],
             [
              0.1111111111111111,
              "#46039f"
             ],
             [
              0.2222222222222222,
              "#7201a8"
             ],
             [
              0.3333333333333333,
              "#9c179e"
             ],
             [
              0.4444444444444444,
              "#bd3786"
             ],
             [
              0.5555555555555556,
              "#d8576b"
             ],
             [
              0.6666666666666666,
              "#ed7953"
             ],
             [
              0.7777777777777778,
              "#fb9f3a"
             ],
             [
              0.8888888888888888,
              "#fdca26"
             ],
             [
              1,
              "#f0f921"
             ]
            ],
            "type": "heatmapgl"
           }
          ],
          "histogram": [
           {
            "marker": {
             "colorbar": {
              "outlinewidth": 0,
              "ticks": ""
             }
            },
            "type": "histogram"
           }
          ],
          "histogram2d": [
           {
            "colorbar": {
             "outlinewidth": 0,
             "ticks": ""
            },
            "colorscale": [
             [
              0,
              "#0d0887"
             ],
             [
              0.1111111111111111,
              "#46039f"
             ],
             [
              0.2222222222222222,
              "#7201a8"
             ],
             [
              0.3333333333333333,
              "#9c179e"
             ],
             [
              0.4444444444444444,
              "#bd3786"
             ],
             [
              0.5555555555555556,
              "#d8576b"
             ],
             [
              0.6666666666666666,
              "#ed7953"
             ],
             [
              0.7777777777777778,
              "#fb9f3a"
             ],
             [
              0.8888888888888888,
              "#fdca26"
             ],
             [
              1,
              "#f0f921"
             ]
            ],
            "type": "histogram2d"
           }
          ],
          "histogram2dcontour": [
           {
            "colorbar": {
             "outlinewidth": 0,
             "ticks": ""
            },
            "colorscale": [
             [
              0,
              "#0d0887"
             ],
             [
              0.1111111111111111,
              "#46039f"
             ],
             [
              0.2222222222222222,
              "#7201a8"
             ],
             [
              0.3333333333333333,
              "#9c179e"
             ],
             [
              0.4444444444444444,
              "#bd3786"
             ],
             [
              0.5555555555555556,
              "#d8576b"
             ],
             [
              0.6666666666666666,
              "#ed7953"
             ],
             [
              0.7777777777777778,
              "#fb9f3a"
             ],
             [
              0.8888888888888888,
              "#fdca26"
             ],
             [
              1,
              "#f0f921"
             ]
            ],
            "type": "histogram2dcontour"
           }
          ],
          "mesh3d": [
           {
            "colorbar": {
             "outlinewidth": 0,
             "ticks": ""
            },
            "type": "mesh3d"
           }
          ],
          "parcoords": [
           {
            "line": {
             "colorbar": {
              "outlinewidth": 0,
              "ticks": ""
             }
            },
            "type": "parcoords"
           }
          ],
          "pie": [
           {
            "automargin": true,
            "type": "pie"
           }
          ],
          "scatter": [
           {
            "marker": {
             "colorbar": {
              "outlinewidth": 0,
              "ticks": ""
             }
            },
            "type": "scatter"
           }
          ],
          "scatter3d": [
           {
            "line": {
             "colorbar": {
              "outlinewidth": 0,
              "ticks": ""
             }
            },
            "marker": {
             "colorbar": {
              "outlinewidth": 0,
              "ticks": ""
             }
            },
            "type": "scatter3d"
           }
          ],
          "scattercarpet": [
           {
            "marker": {
             "colorbar": {
              "outlinewidth": 0,
              "ticks": ""
             }
            },
            "type": "scattercarpet"
           }
          ],
          "scattergeo": [
           {
            "marker": {
             "colorbar": {
              "outlinewidth": 0,
              "ticks": ""
             }
            },
            "type": "scattergeo"
           }
          ],
          "scattergl": [
           {
            "marker": {
             "colorbar": {
              "outlinewidth": 0,
              "ticks": ""
             }
            },
            "type": "scattergl"
           }
          ],
          "scattermapbox": [
           {
            "marker": {
             "colorbar": {
              "outlinewidth": 0,
              "ticks": ""
             }
            },
            "type": "scattermapbox"
           }
          ],
          "scatterpolar": [
           {
            "marker": {
             "colorbar": {
              "outlinewidth": 0,
              "ticks": ""
             }
            },
            "type": "scatterpolar"
           }
          ],
          "scatterpolargl": [
           {
            "marker": {
             "colorbar": {
              "outlinewidth": 0,
              "ticks": ""
             }
            },
            "type": "scatterpolargl"
           }
          ],
          "scatterternary": [
           {
            "marker": {
             "colorbar": {
              "outlinewidth": 0,
              "ticks": ""
             }
            },
            "type": "scatterternary"
           }
          ],
          "surface": [
           {
            "colorbar": {
             "outlinewidth": 0,
             "ticks": ""
            },
            "colorscale": [
             [
              0,
              "#0d0887"
             ],
             [
              0.1111111111111111,
              "#46039f"
             ],
             [
              0.2222222222222222,
              "#7201a8"
             ],
             [
              0.3333333333333333,
              "#9c179e"
             ],
             [
              0.4444444444444444,
              "#bd3786"
             ],
             [
              0.5555555555555556,
              "#d8576b"
             ],
             [
              0.6666666666666666,
              "#ed7953"
             ],
             [
              0.7777777777777778,
              "#fb9f3a"
             ],
             [
              0.8888888888888888,
              "#fdca26"
             ],
             [
              1,
              "#f0f921"
             ]
            ],
            "type": "surface"
           }
          ],
          "table": [
           {
            "cells": {
             "fill": {
              "color": "#EBF0F8"
             },
             "line": {
              "color": "white"
             }
            },
            "header": {
             "fill": {
              "color": "#C8D4E3"
             },
             "line": {
              "color": "white"
             }
            },
            "type": "table"
           }
          ]
         },
         "layout": {
          "annotationdefaults": {
           "arrowcolor": "#2a3f5f",
           "arrowhead": 0,
           "arrowwidth": 1
          },
          "coloraxis": {
           "colorbar": {
            "outlinewidth": 0,
            "ticks": ""
           }
          },
          "colorscale": {
           "diverging": [
            [
             0,
             "#8e0152"
            ],
            [
             0.1,
             "#c51b7d"
            ],
            [
             0.2,
             "#de77ae"
            ],
            [
             0.3,
             "#f1b6da"
            ],
            [
             0.4,
             "#fde0ef"
            ],
            [
             0.5,
             "#f7f7f7"
            ],
            [
             0.6,
             "#e6f5d0"
            ],
            [
             0.7,
             "#b8e186"
            ],
            [
             0.8,
             "#7fbc41"
            ],
            [
             0.9,
             "#4d9221"
            ],
            [
             1,
             "#276419"
            ]
           ],
           "sequential": [
            [
             0,
             "#0d0887"
            ],
            [
             0.1111111111111111,
             "#46039f"
            ],
            [
             0.2222222222222222,
             "#7201a8"
            ],
            [
             0.3333333333333333,
             "#9c179e"
            ],
            [
             0.4444444444444444,
             "#bd3786"
            ],
            [
             0.5555555555555556,
             "#d8576b"
            ],
            [
             0.6666666666666666,
             "#ed7953"
            ],
            [
             0.7777777777777778,
             "#fb9f3a"
            ],
            [
             0.8888888888888888,
             "#fdca26"
            ],
            [
             1,
             "#f0f921"
            ]
           ],
           "sequentialminus": [
            [
             0,
             "#0d0887"
            ],
            [
             0.1111111111111111,
             "#46039f"
            ],
            [
             0.2222222222222222,
             "#7201a8"
            ],
            [
             0.3333333333333333,
             "#9c179e"
            ],
            [
             0.4444444444444444,
             "#bd3786"
            ],
            [
             0.5555555555555556,
             "#d8576b"
            ],
            [
             0.6666666666666666,
             "#ed7953"
            ],
            [
             0.7777777777777778,
             "#fb9f3a"
            ],
            [
             0.8888888888888888,
             "#fdca26"
            ],
            [
             1,
             "#f0f921"
            ]
           ]
          },
          "colorway": [
           "#636efa",
           "#EF553B",
           "#00cc96",
           "#ab63fa",
           "#FFA15A",
           "#19d3f3",
           "#FF6692",
           "#B6E880",
           "#FF97FF",
           "#FECB52"
          ],
          "font": {
           "color": "#2a3f5f"
          },
          "geo": {
           "bgcolor": "white",
           "lakecolor": "white",
           "landcolor": "#E5ECF6",
           "showlakes": true,
           "showland": true,
           "subunitcolor": "white"
          },
          "hoverlabel": {
           "align": "left"
          },
          "hovermode": "closest",
          "mapbox": {
           "style": "light"
          },
          "paper_bgcolor": "white",
          "plot_bgcolor": "#E5ECF6",
          "polar": {
           "angularaxis": {
            "gridcolor": "white",
            "linecolor": "white",
            "ticks": ""
           },
           "bgcolor": "#E5ECF6",
           "radialaxis": {
            "gridcolor": "white",
            "linecolor": "white",
            "ticks": ""
           }
          },
          "scene": {
           "xaxis": {
            "backgroundcolor": "#E5ECF6",
            "gridcolor": "white",
            "gridwidth": 2,
            "linecolor": "white",
            "showbackground": true,
            "ticks": "",
            "zerolinecolor": "white"
           },
           "yaxis": {
            "backgroundcolor": "#E5ECF6",
            "gridcolor": "white",
            "gridwidth": 2,
            "linecolor": "white",
            "showbackground": true,
            "ticks": "",
            "zerolinecolor": "white"
           },
           "zaxis": {
            "backgroundcolor": "#E5ECF6",
            "gridcolor": "white",
            "gridwidth": 2,
            "linecolor": "white",
            "showbackground": true,
            "ticks": "",
            "zerolinecolor": "white"
           }
          },
          "shapedefaults": {
           "line": {
            "color": "#2a3f5f"
           }
          },
          "ternary": {
           "aaxis": {
            "gridcolor": "white",
            "linecolor": "white",
            "ticks": ""
           },
           "baxis": {
            "gridcolor": "white",
            "linecolor": "white",
            "ticks": ""
           },
           "bgcolor": "#E5ECF6",
           "caxis": {
            "gridcolor": "white",
            "linecolor": "white",
            "ticks": ""
           }
          },
          "title": {
           "x": 0.05
          },
          "xaxis": {
           "automargin": true,
           "gridcolor": "white",
           "linecolor": "white",
           "ticks": "",
           "title": {
            "standoff": 15
           },
           "zerolinecolor": "white",
           "zerolinewidth": 2
          },
          "yaxis": {
           "automargin": true,
           "gridcolor": "white",
           "linecolor": "white",
           "ticks": "",
           "title": {
            "standoff": 15
           },
           "zerolinecolor": "white",
           "zerolinewidth": 2
          }
         }
        },
        "violinmode": "group",
        "yaxis": {
         "gridcolor": "rgb(219, 219, 219)",
         "showgrid": true,
         "title": {
          "text": "Received Rate"
         }
        }
       }
      },
      "text/html": [
       "<div>\n",
       "        \n",
       "        \n",
       "            <div id=\"0d6f7b74-1995-4df3-8e9b-308e07220f4e\" class=\"plotly-graph-div\" style=\"height:525px; width:100%;\"></div>\n",
       "            <script type=\"text/javascript\">\n",
       "                require([\"plotly\"], function(Plotly) {\n",
       "                    window.PLOTLYENV=window.PLOTLYENV || {};\n",
       "                    \n",
       "                if (document.getElementById(\"0d6f7b74-1995-4df3-8e9b-308e07220f4e\")) {\n",
       "                    Plotly.newPlot(\n",
       "                        '0d6f7b74-1995-4df3-8e9b-308e07220f4e',\n",
       "                        [{\"name\": \"Sprint\", \"type\": \"box\", \"y\": [0.02631578947368421, 0.02631578947368421, 0.3333333333333333, 0.48484848484848486, 0.48484848484848486, 0.6206896551724138, 0.6818181818181818, 0.6818181818181818, 0.8333333333333334, 0.8333333333333334, 0.9411764705882353, 1.0, 1.0]}, {\"name\": \"Sprint_U\", \"type\": \"box\", \"y\": [0.02631578947368421, 0.02631578947368421, 0.2222222222222222, 0.42424242424242425, 0.42424242424242425, 0.5862068965517241, 0.7272727272727273, 0.7272727272727273, 0.9411764705882353, 1.0, 1.0, 1.0, 1.0]}, {\"name\": \"TMobile\", \"type\": \"box\", \"y\": [0.02631578947368421, 0.02631578947368421, 0.3333333333333333, 0.3333333333333333, 0.3333333333333333, 0.5172413793103449, 0.5909090909090909, 0.5909090909090909, 0.9411764705882353, 1.0, 1.0, 1.1, 1.1]}, {\"name\": \"TMobile_U\", \"type\": \"box\", \"y\": [0.02631578947368421, 0.02631578947368421, 0.2222222222222222, 0.36363636363636365, 0.36363636363636365, 0.4090909090909091, 0.4090909090909091, 0.5172413793103449, 0.7647058823529411, 1.0, 1.0, 1.0, 1.0]}, {\"name\": \"Unbranded\", \"type\": \"box\", \"y\": [0.02631578947368421, 0.02631578947368421, 0.2222222222222222, 0.45454545454545453, 0.45454545454545453, 0.6206896551724138, 0.7272727272727273, 0.7272727272727273, 0.9411764705882353, 1.0, 1.0, 1.0, 1.0]}],\n",
       "                        {\"boxmode\": \"group\", \"font\": {\"size\": 20}, \"legend\": {\"orientation\": \"h\", \"x\": 0.25, \"y\": 1.1}, \"plot_bgcolor\": \"rgba(0,0,0,0)\", \"template\": {\"data\": {\"bar\": [{\"error_x\": {\"color\": \"#2a3f5f\"}, \"error_y\": {\"color\": \"#2a3f5f\"}, \"marker\": {\"line\": {\"color\": \"#E5ECF6\", \"width\": 0.5}}, \"type\": \"bar\"}], \"barpolar\": [{\"marker\": {\"line\": {\"color\": \"#E5ECF6\", \"width\": 0.5}}, \"type\": \"barpolar\"}], \"carpet\": [{\"aaxis\": {\"endlinecolor\": \"#2a3f5f\", \"gridcolor\": \"white\", \"linecolor\": \"white\", \"minorgridcolor\": \"white\", \"startlinecolor\": \"#2a3f5f\"}, \"baxis\": {\"endlinecolor\": \"#2a3f5f\", \"gridcolor\": \"white\", \"linecolor\": \"white\", \"minorgridcolor\": \"white\", \"startlinecolor\": \"#2a3f5f\"}, \"type\": \"carpet\"}], \"choropleth\": [{\"colorbar\": {\"outlinewidth\": 0, \"ticks\": \"\"}, \"type\": \"choropleth\"}], \"contour\": [{\"colorbar\": {\"outlinewidth\": 0, \"ticks\": \"\"}, \"colorscale\": [[0.0, \"#0d0887\"], [0.1111111111111111, \"#46039f\"], [0.2222222222222222, \"#7201a8\"], [0.3333333333333333, \"#9c179e\"], [0.4444444444444444, \"#bd3786\"], [0.5555555555555556, \"#d8576b\"], [0.6666666666666666, \"#ed7953\"], [0.7777777777777778, \"#fb9f3a\"], [0.8888888888888888, \"#fdca26\"], [1.0, \"#f0f921\"]], \"type\": \"contour\"}], \"contourcarpet\": [{\"colorbar\": {\"outlinewidth\": 0, \"ticks\": \"\"}, \"type\": \"contourcarpet\"}], \"heatmap\": [{\"colorbar\": {\"outlinewidth\": 0, \"ticks\": \"\"}, \"colorscale\": [[0.0, \"#0d0887\"], [0.1111111111111111, \"#46039f\"], [0.2222222222222222, \"#7201a8\"], [0.3333333333333333, \"#9c179e\"], [0.4444444444444444, \"#bd3786\"], [0.5555555555555556, \"#d8576b\"], [0.6666666666666666, \"#ed7953\"], [0.7777777777777778, \"#fb9f3a\"], [0.8888888888888888, \"#fdca26\"], [1.0, \"#f0f921\"]], \"type\": \"heatmap\"}], \"heatmapgl\": [{\"colorbar\": {\"outlinewidth\": 0, \"ticks\": \"\"}, \"colorscale\": [[0.0, \"#0d0887\"], [0.1111111111111111, \"#46039f\"], [0.2222222222222222, \"#7201a8\"], [0.3333333333333333, \"#9c179e\"], [0.4444444444444444, \"#bd3786\"], [0.5555555555555556, \"#d8576b\"], [0.6666666666666666, \"#ed7953\"], [0.7777777777777778, \"#fb9f3a\"], [0.8888888888888888, \"#fdca26\"], [1.0, \"#f0f921\"]], \"type\": \"heatmapgl\"}], \"histogram\": [{\"marker\": {\"colorbar\": {\"outlinewidth\": 0, \"ticks\": \"\"}}, \"type\": \"histogram\"}], \"histogram2d\": [{\"colorbar\": {\"outlinewidth\": 0, \"ticks\": \"\"}, \"colorscale\": [[0.0, \"#0d0887\"], [0.1111111111111111, \"#46039f\"], [0.2222222222222222, \"#7201a8\"], [0.3333333333333333, \"#9c179e\"], [0.4444444444444444, \"#bd3786\"], [0.5555555555555556, \"#d8576b\"], [0.6666666666666666, \"#ed7953\"], [0.7777777777777778, \"#fb9f3a\"], [0.8888888888888888, \"#fdca26\"], [1.0, \"#f0f921\"]], \"type\": \"histogram2d\"}], \"histogram2dcontour\": [{\"colorbar\": {\"outlinewidth\": 0, \"ticks\": \"\"}, \"colorscale\": [[0.0, \"#0d0887\"], [0.1111111111111111, \"#46039f\"], [0.2222222222222222, \"#7201a8\"], [0.3333333333333333, \"#9c179e\"], [0.4444444444444444, \"#bd3786\"], [0.5555555555555556, \"#d8576b\"], [0.6666666666666666, \"#ed7953\"], [0.7777777777777778, \"#fb9f3a\"], [0.8888888888888888, \"#fdca26\"], [1.0, \"#f0f921\"]], \"type\": \"histogram2dcontour\"}], \"mesh3d\": [{\"colorbar\": {\"outlinewidth\": 0, \"ticks\": \"\"}, \"type\": \"mesh3d\"}], \"parcoords\": [{\"line\": {\"colorbar\": {\"outlinewidth\": 0, \"ticks\": \"\"}}, \"type\": \"parcoords\"}], \"pie\": [{\"automargin\": true, \"type\": \"pie\"}], \"scatter\": [{\"marker\": {\"colorbar\": {\"outlinewidth\": 0, \"ticks\": \"\"}}, \"type\": \"scatter\"}], \"scatter3d\": [{\"line\": {\"colorbar\": {\"outlinewidth\": 0, \"ticks\": \"\"}}, \"marker\": {\"colorbar\": {\"outlinewidth\": 0, \"ticks\": \"\"}}, \"type\": \"scatter3d\"}], \"scattercarpet\": [{\"marker\": {\"colorbar\": {\"outlinewidth\": 0, \"ticks\": \"\"}}, \"type\": \"scattercarpet\"}], \"scattergeo\": [{\"marker\": {\"colorbar\": {\"outlinewidth\": 0, \"ticks\": \"\"}}, \"type\": \"scattergeo\"}], \"scattergl\": [{\"marker\": {\"colorbar\": {\"outlinewidth\": 0, \"ticks\": \"\"}}, \"type\": \"scattergl\"}], \"scattermapbox\": [{\"marker\": {\"colorbar\": {\"outlinewidth\": 0, \"ticks\": \"\"}}, \"type\": \"scattermapbox\"}], \"scatterpolar\": [{\"marker\": {\"colorbar\": {\"outlinewidth\": 0, \"ticks\": \"\"}}, \"type\": \"scatterpolar\"}], \"scatterpolargl\": [{\"marker\": {\"colorbar\": {\"outlinewidth\": 0, \"ticks\": \"\"}}, \"type\": \"scatterpolargl\"}], \"scatterternary\": [{\"marker\": {\"colorbar\": {\"outlinewidth\": 0, \"ticks\": \"\"}}, \"type\": \"scatterternary\"}], \"surface\": [{\"colorbar\": {\"outlinewidth\": 0, \"ticks\": \"\"}, \"colorscale\": [[0.0, \"#0d0887\"], [0.1111111111111111, \"#46039f\"], [0.2222222222222222, \"#7201a8\"], [0.3333333333333333, \"#9c179e\"], [0.4444444444444444, \"#bd3786\"], [0.5555555555555556, \"#d8576b\"], [0.6666666666666666, \"#ed7953\"], [0.7777777777777778, \"#fb9f3a\"], [0.8888888888888888, \"#fdca26\"], [1.0, \"#f0f921\"]], \"type\": \"surface\"}], \"table\": [{\"cells\": {\"fill\": {\"color\": \"#EBF0F8\"}, \"line\": {\"color\": \"white\"}}, \"header\": {\"fill\": {\"color\": \"#C8D4E3\"}, \"line\": {\"color\": \"white\"}}, \"type\": \"table\"}]}, \"layout\": {\"annotationdefaults\": {\"arrowcolor\": \"#2a3f5f\", \"arrowhead\": 0, \"arrowwidth\": 1}, \"coloraxis\": {\"colorbar\": {\"outlinewidth\": 0, \"ticks\": \"\"}}, \"colorscale\": {\"diverging\": [[0, \"#8e0152\"], [0.1, \"#c51b7d\"], [0.2, \"#de77ae\"], [0.3, \"#f1b6da\"], [0.4, \"#fde0ef\"], [0.5, \"#f7f7f7\"], [0.6, \"#e6f5d0\"], [0.7, \"#b8e186\"], [0.8, \"#7fbc41\"], [0.9, \"#4d9221\"], [1, \"#276419\"]], \"sequential\": [[0.0, \"#0d0887\"], [0.1111111111111111, \"#46039f\"], [0.2222222222222222, \"#7201a8\"], [0.3333333333333333, \"#9c179e\"], [0.4444444444444444, \"#bd3786\"], [0.5555555555555556, \"#d8576b\"], [0.6666666666666666, \"#ed7953\"], [0.7777777777777778, \"#fb9f3a\"], [0.8888888888888888, \"#fdca26\"], [1.0, \"#f0f921\"]], \"sequentialminus\": [[0.0, \"#0d0887\"], [0.1111111111111111, \"#46039f\"], [0.2222222222222222, \"#7201a8\"], [0.3333333333333333, \"#9c179e\"], [0.4444444444444444, \"#bd3786\"], [0.5555555555555556, \"#d8576b\"], [0.6666666666666666, \"#ed7953\"], [0.7777777777777778, \"#fb9f3a\"], [0.8888888888888888, \"#fdca26\"], [1.0, \"#f0f921\"]]}, \"colorway\": [\"#636efa\", \"#EF553B\", \"#00cc96\", \"#ab63fa\", \"#FFA15A\", \"#19d3f3\", \"#FF6692\", \"#B6E880\", \"#FF97FF\", \"#FECB52\"], \"font\": {\"color\": \"#2a3f5f\"}, \"geo\": {\"bgcolor\": \"white\", \"lakecolor\": \"white\", \"landcolor\": \"#E5ECF6\", \"showlakes\": true, \"showland\": true, \"subunitcolor\": \"white\"}, \"hoverlabel\": {\"align\": \"left\"}, \"hovermode\": \"closest\", \"mapbox\": {\"style\": \"light\"}, \"paper_bgcolor\": \"white\", \"plot_bgcolor\": \"#E5ECF6\", \"polar\": {\"angularaxis\": {\"gridcolor\": \"white\", \"linecolor\": \"white\", \"ticks\": \"\"}, \"bgcolor\": \"#E5ECF6\", \"radialaxis\": {\"gridcolor\": \"white\", \"linecolor\": \"white\", \"ticks\": \"\"}}, \"scene\": {\"xaxis\": {\"backgroundcolor\": \"#E5ECF6\", \"gridcolor\": \"white\", \"gridwidth\": 2, \"linecolor\": \"white\", \"showbackground\": true, \"ticks\": \"\", \"zerolinecolor\": \"white\"}, \"yaxis\": {\"backgroundcolor\": \"#E5ECF6\", \"gridcolor\": \"white\", \"gridwidth\": 2, \"linecolor\": \"white\", \"showbackground\": true, \"ticks\": \"\", \"zerolinecolor\": \"white\"}, \"zaxis\": {\"backgroundcolor\": \"#E5ECF6\", \"gridcolor\": \"white\", \"gridwidth\": 2, \"linecolor\": \"white\", \"showbackground\": true, \"ticks\": \"\", \"zerolinecolor\": \"white\"}}, \"shapedefaults\": {\"line\": {\"color\": \"#2a3f5f\"}}, \"ternary\": {\"aaxis\": {\"gridcolor\": \"white\", \"linecolor\": \"white\", \"ticks\": \"\"}, \"baxis\": {\"gridcolor\": \"white\", \"linecolor\": \"white\", \"ticks\": \"\"}, \"bgcolor\": \"#E5ECF6\", \"caxis\": {\"gridcolor\": \"white\", \"linecolor\": \"white\", \"ticks\": \"\"}}, \"title\": {\"x\": 0.05}, \"xaxis\": {\"automargin\": true, \"gridcolor\": \"white\", \"linecolor\": \"white\", \"ticks\": \"\", \"title\": {\"standoff\": 15}, \"zerolinecolor\": \"white\", \"zerolinewidth\": 2}, \"yaxis\": {\"automargin\": true, \"gridcolor\": \"white\", \"linecolor\": \"white\", \"ticks\": \"\", \"title\": {\"standoff\": 15}, \"zerolinecolor\": \"white\", \"zerolinewidth\": 2}}}, \"violinmode\": \"group\", \"yaxis\": {\"gridcolor\": \"rgb(219, 219, 219)\", \"showgrid\": true, \"title\": {\"text\": \"Received Rate\"}}},\n",
       "                        {\"responsive\": true}\n",
       "                    ).then(function(){\n",
       "                            \n",
       "var gd = document.getElementById('0d6f7b74-1995-4df3-8e9b-308e07220f4e');\n",
       "var x = new MutationObserver(function (mutations, observer) {{\n",
       "        var display = window.getComputedStyle(gd).display;\n",
       "        if (!display || display === 'none') {{\n",
       "            console.log([gd, 'removed!']);\n",
       "            Plotly.purge(gd);\n",
       "            observer.disconnect();\n",
       "        }}\n",
       "}});\n",
       "\n",
       "// Listen for the removal of the full notebook cells\n",
       "var notebookContainer = gd.closest('#notebook-container');\n",
       "if (notebookContainer) {{\n",
       "    x.observe(notebookContainer, {childList: true});\n",
       "}}\n",
       "\n",
       "// Listen for the clearing of the current output cell\n",
       "var outputEl = gd.closest('.output');\n",
       "if (outputEl) {{\n",
       "    x.observe(outputEl, {childList: true});\n",
       "}}\n",
       "\n",
       "                        })\n",
       "                };\n",
       "                });\n",
       "            </script>\n",
       "        </div>"
      ]
     },
     "metadata": {},
     "output_type": "display_data"
    }
   ],
   "source": [
    "# For each manu\n",
    "tempoMan=counts.copy()\n",
    "# tempoMan.sort_values(by=['Carrier','Potential'],inplace=True,ascending=True)\n",
    "tempoMan.sort_values(by=['Carrier','Received_Rate'],inplace=True,ascending=True)\n",
    "# tempoMan.sort_values(by=['Carrier','Actual'],inplace=True,ascending=True)\n",
    "\n",
    "\n",
    "\n",
    "data=[]\n",
    "for car in tempoMan.Carrier.unique():\n",
    "    tmp=tempoMan[tempoMan.Carrier==car]\n",
    "\n",
    "    data.append(go.Box(\n",
    "#             x=tmp.Potential,\n",
    "#             x=tmp.Received_Rate,\n",
    "#             x = tmp.Actual,\n",
    "            y=tmp.Received_Rate,\n",
    "            name=str(car),\n",
    "#             marker=dict(color='rgb'+str(lvlColor[car]))\n",
    "        ))\n",
    "\n",
    "# Edit the layout\n",
    "layout = dict(#title = \"Number of Updates per 6 Month Period after Release per Carrier\",\n",
    "#               xaxis= dict(range=[0,1.0],dtick=0.1),\n",
    "              yaxis = dict(title = 'Received Rate',showgrid=True, gridcolor='rgb(219, 219, 219)'),\n",
    "              #xaxis = dict(title = '6 Month Period'),\n",
    "              plot_bgcolor='rgba(0,0,0,0)',\n",
    "              boxmode='group',\n",
    "              violinmode='group',\n",
    "              legend_orientation=\"h\",\n",
    "              legend=dict(x=0.25, y=1.1),\n",
    "              font=dict(size=20)\n",
    "              )\n",
    "\n",
    "fig = dict(data=data, layout=layout)\n",
    "py.offline.iplot(fig, filename='release-years-frequency-per-carrier-median.png')\n",
    "# pio.write_image(fig, 'samsung-data-cumulative-frequency.pdf', width=1000, height=600)\n",
    "        "
   ]
  },
  {
   "cell_type": "code",
   "execution_count": null,
   "metadata": {},
   "outputs": [],
   "source": []
  }
 ],
 "metadata": {
  "kernelspec": {
   "display_name": "Python 3",
   "language": "python",
   "name": "python3"
  },
  "language_info": {
   "codemirror_mode": {
    "name": "ipython",
    "version": 3
   },
   "file_extension": ".py",
   "mimetype": "text/x-python",
   "name": "python",
   "nbconvert_exporter": "python",
   "pygments_lexer": "ipython3",
   "version": "3.6.10"
  }
 },
 "nbformat": 4,
 "nbformat_minor": 2
}
