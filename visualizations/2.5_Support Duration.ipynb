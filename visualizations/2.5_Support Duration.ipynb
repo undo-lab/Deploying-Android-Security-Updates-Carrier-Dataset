{
 "cells": [
  {
   "cell_type": "code",
   "execution_count": 1,
   "metadata": {},
   "outputs": [
    {
     "data": {
      "text/html": [
       "        <script type=\"text/javascript\">\n",
       "        window.PlotlyConfig = {MathJaxConfig: 'local'};\n",
       "        if (window.MathJax) {MathJax.Hub.Config({SVG: {font: \"STIX-Web\"}});}\n",
       "        if (typeof require !== 'undefined') {\n",
       "        require.undef(\"plotly\");\n",
       "        requirejs.config({\n",
       "            paths: {\n",
       "                'plotly': ['https://cdn.plot.ly/plotly-latest.min']\n",
       "            }\n",
       "        });\n",
       "        require(['plotly'], function(Plotly) {\n",
       "            window._Plotly = Plotly;\n",
       "        });\n",
       "        }\n",
       "        </script>\n",
       "        "
      ]
     },
     "metadata": {},
     "output_type": "display_data"
    }
   ],
   "source": [
    "# Libraries from 3rd parties\n",
    "import pandas as pd\n",
    "import numpy as np\n",
    "import statistics\n",
    "import plotly as py\n",
    "import plotly.graph_objs as go\n",
    "py.offline.init_notebook_mode(connected=True)\n",
    "import plotly.io as pio\n",
    "pio.orca.config.executable = '/Users/kjo/anaconda3/bin/orca'\n",
    "%config InlineBackend.figure_format = 'svg'\n",
    "\n",
    "# For all models, the number of updates between it's time on the market and it's last security update"
   ]
  },
  {
   "cell_type": "code",
   "execution_count": 2,
   "metadata": {},
   "outputs": [],
   "source": [
    "# Calculate the number of SHOULD received updates\n",
    "# Calculate the number of actual received updates\n",
    "# For each Carrier, Manufacture, Model"
   ]
  },
  {
   "cell_type": "code",
   "execution_count": 3,
   "metadata": {},
   "outputs": [
    {
     "name": "stdout",
     "output_type": "stream",
     "text": [
      "Index(['Carrier', 'Manufacture', 'Model', 'Release_Date', 'Bulletin_Level',\n",
      "       'difference', 'Android_Level_Guessed', 'build', 'Year_Phone_Release',\n",
      "       'Month_Phone_Release', 'checker'],\n",
      "      dtype='object')\n",
      "  Carrier Manufacture               Model         Release_Date  \\\n",
      "0    AT&T     Alcatel  Alcatel IdealXCITE  2018-04-03 00:00:00   \n",
      "1    AT&T     Alcatel  Alcatel IdealXCITE  2018-04-03 00:00:00   \n",
      "2    AT&T     Alcatel  Alcatel IdealXCITE  2018-10-24 00:00:00   \n",
      "3    AT&T     Alcatel  Alcatel IdealXCITE  2018-12-18 00:00:00   \n",
      "4    AT&T  BlackBerry   BlackBerry KEYone  2017-09-26 00:00:00   \n",
      "\n",
      "        Bulletin_Level  difference Phone_Published  \n",
      "0  2018-02-01 00:00:00        61.0       2017-6-01  \n",
      "1  2018-04-01 00:00:00         2.0       2017-6-01  \n",
      "2  2018-08-01 00:00:00        84.0       2017-6-01  \n",
      "3  2018-10-01 00:00:00        78.0       2017-6-01  \n",
      "4  2017-09-01 00:00:00        25.0       2017-4-01  \n"
     ]
    }
   ],
   "source": [
    "# Import carrier dataset and cleanup\n",
    "carrierDF=pd.read_csv('../data/allCarrierData_final.csv')\n",
    "carrierDF.Manufacture=carrierDF.Manufacture.str.replace(\"Samgung\",\"Samsung\")\n",
    "carrierDF.difference=carrierDF.difference.astype('float')\n",
    "# carrierDF=carrierDF[carrierDF.Carrier!=\"Verizon\"] # remove verizon\n",
    "\n",
    "print(carrierDF.columns)\n",
    "carrierDF.drop(columns=['Android_Level_Guessed','build','checker'],inplace=True)\n",
    "# carrierDF.drop(columns=['Android_Level_Guessed','build','checker','Bulletin_Publish_Date'],inplace=True)\n",
    "\n",
    "def upMonth(x):\n",
    "    x=int(x)\n",
    "    if x==12: return \"01\"\n",
    "    elif x>=9: return str(x+1)\n",
    "    else: return \"0\"+str(x+1)\n",
    "    \n",
    "# Normalized dataset    \n",
    "# carrierDF['Month_Phone_Release']=carrierDF['Month_Phone_Release'].apply(lambda x: upMonth(x))\n",
    "carrierDF['Phone_Published']=carrierDF.Year_Phone_Release.astype(str)+ \"-\"+carrierDF.Month_Phone_Release.astype(str) + \"-01\"\n",
    "carrierDF.drop(columns=['Year_Phone_Release','Month_Phone_Release'],inplace=True)\n",
    "print(carrierDF.head())"
   ]
  },
  {
   "cell_type": "code",
   "execution_count": 4,
   "metadata": {},
   "outputs": [
    {
     "name": "stdout",
     "output_type": "stream",
     "text": [
      "      Carrier Manufacture             Model Release_Date       Bulletin_Level  \\\n",
      "20       AT&T         HTC        Desire 626   2015-09-10  2015-09-01 00:00:00   \n",
      "21       AT&T         HTC            One M9   2015-10-19  2015-10-01 00:00:00   \n",
      "22       AT&T         HTC            One M9   2016-09-12  2016-08-01 00:00:00   \n",
      "23       AT&T         HTC            One M9   2016-10-06  2016-09-01 00:00:00   \n",
      "24       AT&T         HTC            One M9   2016-10-28  2016-10-01 00:00:00   \n",
      "...       ...         ...               ...          ...                  ...   \n",
      "1886  Verizon     Samsung     Galaxy Tab S2   2019-09-26  2019-08-01 00:00:01   \n",
      "1903  Verizon        Sony  Xperia Z2 Tablet   2016-02-24  2016-02-01 00:00:01   \n",
      "1904  Verizon        Sony        Xperia Z3v   2016-03-14  2016-03-07 00:00:01   \n",
      "1913  Verizon     Verizon        Ellipsis 8   2016-05-18  2016-05-01 00:00:01   \n",
      "1920  Verizon     Verizon     Ellipsis Kids   2016-06-07  2016-06-01 00:00:01   \n",
      "\n",
      "      difference Phone_Published  \n",
      "20           9.0      2015-03-01  \n",
      "21          18.0      2015-03-01  \n",
      "22          42.0      2015-03-01  \n",
      "23          35.0      2015-03-01  \n",
      "24          27.0      2015-03-01  \n",
      "...          ...             ...  \n",
      "1886        55.0      2015-07-01  \n",
      "1903        22.0      2014-07-01  \n",
      "1904         6.0      2014-10-01  \n",
      "1913        16.0      2014-11-01  \n",
      "1920         5.0      2014-11-01  \n",
      "\n",
      "[444 rows x 7 columns]\n",
      "81\n",
      "444\n",
      "188\n",
      "1488\n"
     ]
    }
   ],
   "source": [
    "# For each Carrier, Manufacture, Model\n",
    "# 1) Calculate the number of actual received updates\n",
    "# 2) Calculate the number of SHOULD received updates\n",
    "\n",
    "carrierDF.Release_Date=pd.to_datetime(carrierDF.Release_Date)\n",
    "carrierDF.Phone_Published=pd.to_datetime(carrierDF.Phone_Published)\n",
    "\n",
    "# Me trying to troubleshoot lol\n",
    "hmm=carrierDF[carrierDF.Phone_Published<pd.to_datetime(\"2015/08/01\")]\n",
    "print(hmm)\n",
    "print(len(hmm.Model.unique()))\n",
    "print(len(hmm))\n",
    "\n",
    "print(len(carrierDF.Model.unique())-len(hmm.Model.unique()))\n",
    "print(len(carrierDF)-len(hmm))\n"
   ]
  },
  {
   "cell_type": "code",
   "execution_count": 5,
   "metadata": {},
   "outputs": [
    {
     "name": "stdout",
     "output_type": "stream",
     "text": [
      "['AT&T' 'Sprint' 'T-Mobile' 'Verizon']\n"
     ]
    }
   ],
   "source": [
    "print(carrierDF.Carrier.unique())"
   ]
  },
  {
   "cell_type": "code",
   "execution_count": 6,
   "metadata": {},
   "outputs": [
    {
     "name": "stdout",
     "output_type": "stream",
     "text": [
      "1.0\n",
      "    Carrier Manufacture             Model Release_Date       Bulletin_Level  \\\n",
      "118    AT&T         RED  RED Hydrogen One   2018-11-01  2018-09-01 00:00:00   \n",
      "119    AT&T         RED  RED Hydrogen One   2018-11-01  2018-11-01 00:00:00   \n",
      "\n",
      "     difference Phone_Published  \n",
      "118        61.0      2018-11-01  \n",
      "119         0.0      2018-11-01  \n",
      "\n",
      "  Carrier Manufacture               Model  Actual  Potential  Received_Rate\n",
      "0    AT&T     Alcatel  Alcatel IdealXCITE       4         19       0.210526\n",
      "1    AT&T  BlackBerry   BlackBerry KEYone      16         25       0.640000\n",
      "2    AT&T      Huawei    Huawei Ascend XT       5         19       0.263158\n",
      "3    AT&T     Kyocera     DuraForce PRO 2       1          6       0.166667\n",
      "4    AT&T     Kyocera       DuraForce Pro       6         41       0.146341\n"
     ]
    },
    {
     "name": "stderr",
     "output_type": "stream",
     "text": [
      "/Users/kjo/anaconda3/lib/python3.6/site-packages/ipykernel_launcher.py:12: SettingWithCopyWarning:\n",
      "\n",
      "\n",
      "A value is trying to be set on a copy of a slice from a DataFrame\n",
      "\n",
      "See the caveats in the documentation: https://pandas.pydata.org/pandas-docs/stable/user_guide/indexing.html#returning-a-view-versus-a-copy\n",
      "\n",
      "/Users/kjo/anaconda3/lib/python3.6/site-packages/ipykernel_launcher.py:12: SettingWithCopyWarning:\n",
      "\n",
      "\n",
      "A value is trying to be set on a copy of a slice from a DataFrame\n",
      "\n",
      "See the caveats in the documentation: https://pandas.pydata.org/pandas-docs/stable/user_guide/indexing.html#returning-a-view-versus-a-copy\n",
      "\n"
     ]
    }
   ],
   "source": [
    " \n",
    "# Normalizing/calculating frequency of updates for each phone model\n",
    "carrierDF=carrierDF[carrierDF.Phone_Published>=pd.to_datetime(\"2015/08/01\")] # Remove models released before the first bulletin\n",
    "carrierDF=carrierDF[carrierDF.Phone_Published<=carrierDF.Release_Date] # Remove updates happening prior to phone release\n",
    "\n",
    "counts=[]\n",
    "for car in carrierDF.Carrier.unique():\n",
    "    tmp=carrierDF[carrierDF.Carrier==car]\n",
    "    for man in tmp.Manufacture.unique():\n",
    "        tmp2=tmp[tmp.Manufacture==man]\n",
    "        for mod in tmp2.Model.unique():\n",
    "            tmp3=tmp2[tmp2.Model==mod]\n",
    "            tmp3.sort_values(by=['Release_Date'],inplace=True,ascending=False) \n",
    "            totalReceived=len(tmp3) # total number of updates received for the model\n",
    "            shouldReceive=tmp3.iloc[0,:] # grab the first row\n",
    "            shouldReceive=(shouldReceive.Release_Date.year-shouldReceive.Phone_Published.year)*12.0+(shouldReceive.Release_Date.month+1)-shouldReceive.Phone_Published.month # account for the WHOLE last month\n",
    "            if shouldReceive>0: # we skip any updates released prior to phone's release\n",
    "                counts.append([car,man,mod,totalReceived,shouldReceive])\n",
    "                if totalReceived>shouldReceive:\n",
    "                    print(shouldReceive)\n",
    "                    print(tmp3)\n",
    "                    print()\n",
    "            elif shouldReceive==0: \n",
    "                counts.append([car,man,mod,totalReceived,1]) # account for less than a month...\n",
    "            else:\n",
    "                print(shouldReceive)\n",
    "                print(tmp3)\n",
    "                print()\n",
    "                \n",
    "counts=pd.DataFrame(counts,columns=['Carrier','Manufacture','Model','Actual','Potential'])\n",
    "counts['Actual']=counts['Actual'].astype(int)\n",
    "counts['Potential']=counts['Potential'].astype(int)\n",
    "counts['Received_Rate']=counts['Actual']/counts['Potential']\n",
    "print(counts.head())"
   ]
  },
  {
   "cell_type": "code",
   "execution_count": 7,
   "metadata": {},
   "outputs": [
    {
     "name": "stdout",
     "output_type": "stream",
     "text": [
      "0.36178953239704426\n",
      "0.2962962962962963\n"
     ]
    }
   ],
   "source": [
    "print(counts.Received_Rate.mean())\n",
    "print(counts.Received_Rate.median())"
   ]
  },
  {
   "cell_type": "code",
   "execution_count": 8,
   "metadata": {},
   "outputs": [
    {
     "data": {
      "application/vnd.plotly.v1+json": {
       "config": {
        "linkText": "Export to plot.ly",
        "plotlyServerURL": "https://plot.ly",
        "showLink": false
       },
       "data": [
        {
         "boxpoints": "all",
         "marker": {
          "color": "rgb(31, 119, 180)"
         },
         "name": "Rate",
         "showlegend": false,
         "type": "box",
         "y": [
          0.21052631578947367,
          0.64,
          0.2631578947368421,
          0.16666666666666666,
          0.14634146341463414,
          0.43478260869565216,
          0.23529411764705882,
          0.3333333333333333,
          0.15,
          0.4444444444444444,
          0.5833333333333334,
          0.5,
          0.6,
          0.3333333333333333,
          0.5,
          0.38461538461538464,
          0.18518518518518517,
          0.5,
          0.47058823529411764,
          0.14285714285714285,
          2,
          0.3333333333333333,
          0.14285714285714285,
          0.2777777777777778,
          0.03225806451612903,
          0.21428571428571427,
          0.23809523809523808,
          0.5,
          0.25,
          0.5,
          0.5,
          0.5,
          0.6470588235294118,
          1,
          1,
          0.6470588235294118,
          1,
          0.6296296296296297,
          0.3333333333333333,
          0.8846153846153846,
          1,
          0.8846153846153846,
          1,
          1,
          0.17391304347826086,
          0.08333333333333333,
          0.12,
          0.2857142857142857,
          0.4,
          0.27586206896551724,
          0.14285714285714285,
          0.14285714285714285,
          0.2,
          0.125,
          0.3333333333333333,
          0.47368421052631576,
          0.1111111111111111,
          0.1,
          0.391304347826087,
          1,
          0.3333333333333333,
          0.3333333333333333,
          0.1,
          0.34782608695652173,
          0.21052631578947367,
          0.21052631578947367,
          0.6428571428571429,
          0.26666666666666666,
          0.6,
          0.09090909090909091,
          0.25,
          0.19047619047619047,
          0.5,
          0.5,
          0.23809523809523808,
          0.08333333333333333,
          0.25,
          0.25,
          0.3,
          0.09523809523809523,
          0.16666666666666666,
          0.07407407407407407,
          0.1875,
          0.07142857142857142,
          0.16666666666666666,
          0.2,
          0.07692307692307693,
          0.5,
          0.125,
          0.25,
          0.12,
          0.2727272727272727,
          0.30434782608695654,
          0.3333333333333333,
          0.2,
          0.3333333333333333,
          0.5909090909090909,
          0.8181818181818182,
          1,
          1,
          1,
          0.25,
          0.3333333333333333,
          0.3333333333333333,
          0.3076923076923077,
          0.36363636363636365,
          0.19230769230769232,
          0.7142857142857143,
          0.3333333333333333,
          0.1,
          0.3333333333333333,
          0.16666666666666666,
          0.15384615384615385,
          0.5,
          0.13333333333333333,
          0.125,
          0.1111111111111111,
          0.1111111111111111,
          0.6666666666666666,
          0.6666666666666666,
          0.3,
          0.16666666666666666,
          1,
          0.5,
          0.4782608695652174,
          0.4,
          0.5652173913043478,
          0.25,
          0.4,
          0.32,
          0.5789473684210527,
          0.14285714285714285,
          0.5,
          0.5,
          0.5263157894736842,
          0.4117647058823529,
          0.24324324324324326,
          0.34782608695652173,
          0.5294117647058824,
          0.16666666666666666,
          0.18181818181818182,
          0.4230769230769231,
          0.37037037037037035,
          0.5,
          0.08333333333333333,
          0.2916666666666667,
          0.14285714285714285,
          1,
          0.5,
          0.14285714285714285,
          0.5,
          0.6666666666666666,
          0.14285714285714285,
          0.5,
          0.2222222222222222,
          0.05263157894736842,
          0.3333333333333333,
          0.25,
          0.375,
          0.05405405405405406,
          1,
          1,
          0.5555555555555556,
          0.4482758620689655,
          0.75,
          0.7,
          0.8,
          0.5,
          0.5365853658536586,
          0.5121951219512195,
          0.21875,
          0.6428571428571429,
          0.1875,
          0.6818181818181818,
          0.7272727272727273,
          0.23076923076923078,
          0.09090909090909091,
          0.375,
          0.2,
          0.1,
          0.1111111111111111,
          0.075,
          0.2,
          0.3125,
          0.2222222222222222,
          0.26666666666666666,
          0.047619047619047616,
          0.09523809523809523,
          0.5714285714285714,
          0.16666666666666666,
          0.09375,
          0.15384615384615385,
          0.2692307692307692,
          0.2962962962962963,
          0.5,
          0.5,
          0.5,
          0.5,
          1,
          1,
          0.15384615384615385,
          0.12,
          0.07692307692307693,
          0.05263157894736842,
          0.3,
          0.14285714285714285,
          0.46153846153846156,
          0.14285714285714285,
          0.03571428571428571,
          0.13043478260869565,
          0.0967741935483871,
          0.16129032258064516,
          0.5,
          0.12,
          0.07407407407407407,
          0.125,
          0.3684210526315789,
          0.06818181818181818,
          0.2857142857142857,
          0.09090909090909091,
          0.07142857142857142,
          0.11538461538461539,
          0.24,
          0.5,
          0.5,
          0.1,
          0.3181818181818182,
          0.034482758620689655,
          0.07692307692307693,
          0.17391304347826086,
          0.16666666666666666,
          0.1111111111111111,
          0.1111111111111111,
          0.1111111111111111,
          0.15384615384615385,
          0.2857142857142857,
          0.1724137931034483,
          0.15384615384615385,
          0.3125,
          0.29411764705882354,
          0.6666666666666666,
          0.3,
          0.3157894736842105,
          0.4444444444444444,
          0.35714285714285715,
          0.5,
          0.6666666666666666,
          0.4375,
          0.36363636363636365,
          0.2857142857142857,
          1,
          0.3333333333333333,
          0.14285714285714285,
          0.4,
          0.03571428571428571,
          0.375,
          0.375,
          0.11764705882352941,
          0.25,
          0.4,
          0.4,
          0.12903225806451613,
          1,
          1,
          0.08108108108108109,
          0.23076923076923078,
          0.5294117647058824,
          0.875,
          0.875,
          0.875,
          0.08108108108108109,
          0.11363636363636363,
          0.11363636363636363,
          0.22580645161290322,
          0.22580645161290322,
          0.7272727272727273,
          0.36363636363636365,
          0.3333333333333333,
          0.4666666666666667,
          0.06451612903225806,
          0.1,
          0.4,
          0.25,
          0.6,
          0.05555555555555555,
          0.07142857142857142,
          0.09523809523809523,
          0.15789473684210525,
          0.2727272727272727,
          0.2857142857142857,
          0.22727272727272727
         ]
        }
       ],
       "layout": {
        "font": {
         "size": 20
        },
        "plot_bgcolor": "rgba(0,0,0,0)",
        "template": {
         "data": {
          "bar": [
           {
            "error_x": {
             "color": "#2a3f5f"
            },
            "error_y": {
             "color": "#2a3f5f"
            },
            "marker": {
             "line": {
              "color": "#E5ECF6",
              "width": 0.5
             }
            },
            "type": "bar"
           }
          ],
          "barpolar": [
           {
            "marker": {
             "line": {
              "color": "#E5ECF6",
              "width": 0.5
             }
            },
            "type": "barpolar"
           }
          ],
          "carpet": [
           {
            "aaxis": {
             "endlinecolor": "#2a3f5f",
             "gridcolor": "white",
             "linecolor": "white",
             "minorgridcolor": "white",
             "startlinecolor": "#2a3f5f"
            },
            "baxis": {
             "endlinecolor": "#2a3f5f",
             "gridcolor": "white",
             "linecolor": "white",
             "minorgridcolor": "white",
             "startlinecolor": "#2a3f5f"
            },
            "type": "carpet"
           }
          ],
          "choropleth": [
           {
            "colorbar": {
             "outlinewidth": 0,
             "ticks": ""
            },
            "type": "choropleth"
           }
          ],
          "contour": [
           {
            "colorbar": {
             "outlinewidth": 0,
             "ticks": ""
            },
            "colorscale": [
             [
              0,
              "#0d0887"
             ],
             [
              0.1111111111111111,
              "#46039f"
             ],
             [
              0.2222222222222222,
              "#7201a8"
             ],
             [
              0.3333333333333333,
              "#9c179e"
             ],
             [
              0.4444444444444444,
              "#bd3786"
             ],
             [
              0.5555555555555556,
              "#d8576b"
             ],
             [
              0.6666666666666666,
              "#ed7953"
             ],
             [
              0.7777777777777778,
              "#fb9f3a"
             ],
             [
              0.8888888888888888,
              "#fdca26"
             ],
             [
              1,
              "#f0f921"
             ]
            ],
            "type": "contour"
           }
          ],
          "contourcarpet": [
           {
            "colorbar": {
             "outlinewidth": 0,
             "ticks": ""
            },
            "type": "contourcarpet"
           }
          ],
          "heatmap": [
           {
            "colorbar": {
             "outlinewidth": 0,
             "ticks": ""
            },
            "colorscale": [
             [
              0,
              "#0d0887"
             ],
             [
              0.1111111111111111,
              "#46039f"
             ],
             [
              0.2222222222222222,
              "#7201a8"
             ],
             [
              0.3333333333333333,
              "#9c179e"
             ],
             [
              0.4444444444444444,
              "#bd3786"
             ],
             [
              0.5555555555555556,
              "#d8576b"
             ],
             [
              0.6666666666666666,
              "#ed7953"
             ],
             [
              0.7777777777777778,
              "#fb9f3a"
             ],
             [
              0.8888888888888888,
              "#fdca26"
             ],
             [
              1,
              "#f0f921"
             ]
            ],
            "type": "heatmap"
           }
          ],
          "heatmapgl": [
           {
            "colorbar": {
             "outlinewidth": 0,
             "ticks": ""
            },
            "colorscale": [
             [
              0,
              "#0d0887"
             ],
             [
              0.1111111111111111,
              "#46039f"
             ],
             [
              0.2222222222222222,
              "#7201a8"
             ],
             [
              0.3333333333333333,
              "#9c179e"
             ],
             [
              0.4444444444444444,
              "#bd3786"
             ],
             [
              0.5555555555555556,
              "#d8576b"
             ],
             [
              0.6666666666666666,
              "#ed7953"
             ],
             [
              0.7777777777777778,
              "#fb9f3a"
             ],
             [
              0.8888888888888888,
              "#fdca26"
             ],
             [
              1,
              "#f0f921"
             ]
            ],
            "type": "heatmapgl"
           }
          ],
          "histogram": [
           {
            "marker": {
             "colorbar": {
              "outlinewidth": 0,
              "ticks": ""
             }
            },
            "type": "histogram"
           }
          ],
          "histogram2d": [
           {
            "colorbar": {
             "outlinewidth": 0,
             "ticks": ""
            },
            "colorscale": [
             [
              0,
              "#0d0887"
             ],
             [
              0.1111111111111111,
              "#46039f"
             ],
             [
              0.2222222222222222,
              "#7201a8"
             ],
             [
              0.3333333333333333,
              "#9c179e"
             ],
             [
              0.4444444444444444,
              "#bd3786"
             ],
             [
              0.5555555555555556,
              "#d8576b"
             ],
             [
              0.6666666666666666,
              "#ed7953"
             ],
             [
              0.7777777777777778,
              "#fb9f3a"
             ],
             [
              0.8888888888888888,
              "#fdca26"
             ],
             [
              1,
              "#f0f921"
             ]
            ],
            "type": "histogram2d"
           }
          ],
          "histogram2dcontour": [
           {
            "colorbar": {
             "outlinewidth": 0,
             "ticks": ""
            },
            "colorscale": [
             [
              0,
              "#0d0887"
             ],
             [
              0.1111111111111111,
              "#46039f"
             ],
             [
              0.2222222222222222,
              "#7201a8"
             ],
             [
              0.3333333333333333,
              "#9c179e"
             ],
             [
              0.4444444444444444,
              "#bd3786"
             ],
             [
              0.5555555555555556,
              "#d8576b"
             ],
             [
              0.6666666666666666,
              "#ed7953"
             ],
             [
              0.7777777777777778,
              "#fb9f3a"
             ],
             [
              0.8888888888888888,
              "#fdca26"
             ],
             [
              1,
              "#f0f921"
             ]
            ],
            "type": "histogram2dcontour"
           }
          ],
          "mesh3d": [
           {
            "colorbar": {
             "outlinewidth": 0,
             "ticks": ""
            },
            "type": "mesh3d"
           }
          ],
          "parcoords": [
           {
            "line": {
             "colorbar": {
              "outlinewidth": 0,
              "ticks": ""
             }
            },
            "type": "parcoords"
           }
          ],
          "pie": [
           {
            "automargin": true,
            "type": "pie"
           }
          ],
          "scatter": [
           {
            "marker": {
             "colorbar": {
              "outlinewidth": 0,
              "ticks": ""
             }
            },
            "type": "scatter"
           }
          ],
          "scatter3d": [
           {
            "line": {
             "colorbar": {
              "outlinewidth": 0,
              "ticks": ""
             }
            },
            "marker": {
             "colorbar": {
              "outlinewidth": 0,
              "ticks": ""
             }
            },
            "type": "scatter3d"
           }
          ],
          "scattercarpet": [
           {
            "marker": {
             "colorbar": {
              "outlinewidth": 0,
              "ticks": ""
             }
            },
            "type": "scattercarpet"
           }
          ],
          "scattergeo": [
           {
            "marker": {
             "colorbar": {
              "outlinewidth": 0,
              "ticks": ""
             }
            },
            "type": "scattergeo"
           }
          ],
          "scattergl": [
           {
            "marker": {
             "colorbar": {
              "outlinewidth": 0,
              "ticks": ""
             }
            },
            "type": "scattergl"
           }
          ],
          "scattermapbox": [
           {
            "marker": {
             "colorbar": {
              "outlinewidth": 0,
              "ticks": ""
             }
            },
            "type": "scattermapbox"
           }
          ],
          "scatterpolar": [
           {
            "marker": {
             "colorbar": {
              "outlinewidth": 0,
              "ticks": ""
             }
            },
            "type": "scatterpolar"
           }
          ],
          "scatterpolargl": [
           {
            "marker": {
             "colorbar": {
              "outlinewidth": 0,
              "ticks": ""
             }
            },
            "type": "scatterpolargl"
           }
          ],
          "scatterternary": [
           {
            "marker": {
             "colorbar": {
              "outlinewidth": 0,
              "ticks": ""
             }
            },
            "type": "scatterternary"
           }
          ],
          "surface": [
           {
            "colorbar": {
             "outlinewidth": 0,
             "ticks": ""
            },
            "colorscale": [
             [
              0,
              "#0d0887"
             ],
             [
              0.1111111111111111,
              "#46039f"
             ],
             [
              0.2222222222222222,
              "#7201a8"
             ],
             [
              0.3333333333333333,
              "#9c179e"
             ],
             [
              0.4444444444444444,
              "#bd3786"
             ],
             [
              0.5555555555555556,
              "#d8576b"
             ],
             [
              0.6666666666666666,
              "#ed7953"
             ],
             [
              0.7777777777777778,
              "#fb9f3a"
             ],
             [
              0.8888888888888888,
              "#fdca26"
             ],
             [
              1,
              "#f0f921"
             ]
            ],
            "type": "surface"
           }
          ],
          "table": [
           {
            "cells": {
             "fill": {
              "color": "#EBF0F8"
             },
             "line": {
              "color": "white"
             }
            },
            "header": {
             "fill": {
              "color": "#C8D4E3"
             },
             "line": {
              "color": "white"
             }
            },
            "type": "table"
           }
          ]
         },
         "layout": {
          "annotationdefaults": {
           "arrowcolor": "#2a3f5f",
           "arrowhead": 0,
           "arrowwidth": 1
          },
          "coloraxis": {
           "colorbar": {
            "outlinewidth": 0,
            "ticks": ""
           }
          },
          "colorscale": {
           "diverging": [
            [
             0,
             "#8e0152"
            ],
            [
             0.1,
             "#c51b7d"
            ],
            [
             0.2,
             "#de77ae"
            ],
            [
             0.3,
             "#f1b6da"
            ],
            [
             0.4,
             "#fde0ef"
            ],
            [
             0.5,
             "#f7f7f7"
            ],
            [
             0.6,
             "#e6f5d0"
            ],
            [
             0.7,
             "#b8e186"
            ],
            [
             0.8,
             "#7fbc41"
            ],
            [
             0.9,
             "#4d9221"
            ],
            [
             1,
             "#276419"
            ]
           ],
           "sequential": [
            [
             0,
             "#0d0887"
            ],
            [
             0.1111111111111111,
             "#46039f"
            ],
            [
             0.2222222222222222,
             "#7201a8"
            ],
            [
             0.3333333333333333,
             "#9c179e"
            ],
            [
             0.4444444444444444,
             "#bd3786"
            ],
            [
             0.5555555555555556,
             "#d8576b"
            ],
            [
             0.6666666666666666,
             "#ed7953"
            ],
            [
             0.7777777777777778,
             "#fb9f3a"
            ],
            [
             0.8888888888888888,
             "#fdca26"
            ],
            [
             1,
             "#f0f921"
            ]
           ],
           "sequentialminus": [
            [
             0,
             "#0d0887"
            ],
            [
             0.1111111111111111,
             "#46039f"
            ],
            [
             0.2222222222222222,
             "#7201a8"
            ],
            [
             0.3333333333333333,
             "#9c179e"
            ],
            [
             0.4444444444444444,
             "#bd3786"
            ],
            [
             0.5555555555555556,
             "#d8576b"
            ],
            [
             0.6666666666666666,
             "#ed7953"
            ],
            [
             0.7777777777777778,
             "#fb9f3a"
            ],
            [
             0.8888888888888888,
             "#fdca26"
            ],
            [
             1,
             "#f0f921"
            ]
           ]
          },
          "colorway": [
           "#636efa",
           "#EF553B",
           "#00cc96",
           "#ab63fa",
           "#FFA15A",
           "#19d3f3",
           "#FF6692",
           "#B6E880",
           "#FF97FF",
           "#FECB52"
          ],
          "font": {
           "color": "#2a3f5f"
          },
          "geo": {
           "bgcolor": "white",
           "lakecolor": "white",
           "landcolor": "#E5ECF6",
           "showlakes": true,
           "showland": true,
           "subunitcolor": "white"
          },
          "hoverlabel": {
           "align": "left"
          },
          "hovermode": "closest",
          "mapbox": {
           "style": "light"
          },
          "paper_bgcolor": "white",
          "plot_bgcolor": "#E5ECF6",
          "polar": {
           "angularaxis": {
            "gridcolor": "white",
            "linecolor": "white",
            "ticks": ""
           },
           "bgcolor": "#E5ECF6",
           "radialaxis": {
            "gridcolor": "white",
            "linecolor": "white",
            "ticks": ""
           }
          },
          "scene": {
           "xaxis": {
            "backgroundcolor": "#E5ECF6",
            "gridcolor": "white",
            "gridwidth": 2,
            "linecolor": "white",
            "showbackground": true,
            "ticks": "",
            "zerolinecolor": "white"
           },
           "yaxis": {
            "backgroundcolor": "#E5ECF6",
            "gridcolor": "white",
            "gridwidth": 2,
            "linecolor": "white",
            "showbackground": true,
            "ticks": "",
            "zerolinecolor": "white"
           },
           "zaxis": {
            "backgroundcolor": "#E5ECF6",
            "gridcolor": "white",
            "gridwidth": 2,
            "linecolor": "white",
            "showbackground": true,
            "ticks": "",
            "zerolinecolor": "white"
           }
          },
          "shapedefaults": {
           "line": {
            "color": "#2a3f5f"
           }
          },
          "ternary": {
           "aaxis": {
            "gridcolor": "white",
            "linecolor": "white",
            "ticks": ""
           },
           "baxis": {
            "gridcolor": "white",
            "linecolor": "white",
            "ticks": ""
           },
           "bgcolor": "#E5ECF6",
           "caxis": {
            "gridcolor": "white",
            "linecolor": "white",
            "ticks": ""
           }
          },
          "title": {
           "x": 0.05
          },
          "xaxis": {
           "automargin": true,
           "gridcolor": "white",
           "linecolor": "white",
           "ticks": "",
           "title": {
            "standoff": 15
           },
           "zerolinecolor": "white",
           "zerolinewidth": 2
          },
          "yaxis": {
           "automargin": true,
           "gridcolor": "white",
           "linecolor": "white",
           "ticks": "",
           "title": {
            "standoff": 15
           },
           "zerolinecolor": "white",
           "zerolinewidth": 2
          }
         }
        },
        "yaxis": {
         "gridcolor": "rgb(219, 219, 219)",
         "showgrid": true,
         "title": {
          "text": "Ratio of Received Updates vs Potential"
         }
        }
       }
      },
      "text/html": [
       "<div>\n",
       "        \n",
       "        \n",
       "            <div id=\"2e15c31c-35c4-433d-9311-03cad5948099\" class=\"plotly-graph-div\" style=\"height:525px; width:100%;\"></div>\n",
       "            <script type=\"text/javascript\">\n",
       "                require([\"plotly\"], function(Plotly) {\n",
       "                    window.PLOTLYENV=window.PLOTLYENV || {};\n",
       "                    \n",
       "                if (document.getElementById(\"2e15c31c-35c4-433d-9311-03cad5948099\")) {\n",
       "                    Plotly.newPlot(\n",
       "                        '2e15c31c-35c4-433d-9311-03cad5948099',\n",
       "                        [{\"boxpoints\": \"all\", \"marker\": {\"color\": \"rgb(31, 119, 180)\"}, \"name\": \"Rate\", \"showlegend\": false, \"type\": \"box\", \"y\": [0.21052631578947367, 0.64, 0.2631578947368421, 0.16666666666666666, 0.14634146341463414, 0.43478260869565216, 0.23529411764705882, 0.3333333333333333, 0.15, 0.4444444444444444, 0.5833333333333334, 0.5, 0.6, 0.3333333333333333, 0.5, 0.38461538461538464, 0.18518518518518517, 0.5, 0.47058823529411764, 0.14285714285714285, 2.0, 0.3333333333333333, 0.14285714285714285, 0.2777777777777778, 0.03225806451612903, 0.21428571428571427, 0.23809523809523808, 0.5, 0.25, 0.5, 0.5, 0.5, 0.6470588235294118, 1.0, 1.0, 0.6470588235294118, 1.0, 0.6296296296296297, 0.3333333333333333, 0.8846153846153846, 1.0, 0.8846153846153846, 1.0, 1.0, 0.17391304347826086, 0.08333333333333333, 0.12, 0.2857142857142857, 0.4, 0.27586206896551724, 0.14285714285714285, 0.14285714285714285, 0.2, 0.125, 0.3333333333333333, 0.47368421052631576, 0.1111111111111111, 0.1, 0.391304347826087, 1.0, 0.3333333333333333, 0.3333333333333333, 0.1, 0.34782608695652173, 0.21052631578947367, 0.21052631578947367, 0.6428571428571429, 0.26666666666666666, 0.6, 0.09090909090909091, 0.25, 0.19047619047619047, 0.5, 0.5, 0.23809523809523808, 0.08333333333333333, 0.25, 0.25, 0.3, 0.09523809523809523, 0.16666666666666666, 0.07407407407407407, 0.1875, 0.07142857142857142, 0.16666666666666666, 0.2, 0.07692307692307693, 0.5, 0.125, 0.25, 0.12, 0.2727272727272727, 0.30434782608695654, 0.3333333333333333, 0.2, 0.3333333333333333, 0.5909090909090909, 0.8181818181818182, 1.0, 1.0, 1.0, 0.25, 0.3333333333333333, 0.3333333333333333, 0.3076923076923077, 0.36363636363636365, 0.19230769230769232, 0.7142857142857143, 0.3333333333333333, 0.1, 0.3333333333333333, 0.16666666666666666, 0.15384615384615385, 0.5, 0.13333333333333333, 0.125, 0.1111111111111111, 0.1111111111111111, 0.6666666666666666, 0.6666666666666666, 0.3, 0.16666666666666666, 1.0, 0.5, 0.4782608695652174, 0.4, 0.5652173913043478, 0.25, 0.4, 0.32, 0.5789473684210527, 0.14285714285714285, 0.5, 0.5, 0.5263157894736842, 0.4117647058823529, 0.24324324324324326, 0.34782608695652173, 0.5294117647058824, 0.16666666666666666, 0.18181818181818182, 0.4230769230769231, 0.37037037037037035, 0.5, 0.08333333333333333, 0.2916666666666667, 0.14285714285714285, 1.0, 0.5, 0.14285714285714285, 0.5, 0.6666666666666666, 0.14285714285714285, 0.5, 0.2222222222222222, 0.05263157894736842, 0.3333333333333333, 0.25, 0.375, 0.05405405405405406, 1.0, 1.0, 0.5555555555555556, 0.4482758620689655, 0.75, 0.7, 0.8, 0.5, 0.5365853658536586, 0.5121951219512195, 0.21875, 0.6428571428571429, 0.1875, 0.6818181818181818, 0.7272727272727273, 0.23076923076923078, 0.09090909090909091, 0.375, 0.2, 0.1, 0.1111111111111111, 0.075, 0.2, 0.3125, 0.2222222222222222, 0.26666666666666666, 0.047619047619047616, 0.09523809523809523, 0.5714285714285714, 0.16666666666666666, 0.09375, 0.15384615384615385, 0.2692307692307692, 0.2962962962962963, 0.5, 0.5, 0.5, 0.5, 1.0, 1.0, 0.15384615384615385, 0.12, 0.07692307692307693, 0.05263157894736842, 0.3, 0.14285714285714285, 0.46153846153846156, 0.14285714285714285, 0.03571428571428571, 0.13043478260869565, 0.0967741935483871, 0.16129032258064516, 0.5, 0.12, 0.07407407407407407, 0.125, 0.3684210526315789, 0.06818181818181818, 0.2857142857142857, 0.09090909090909091, 0.07142857142857142, 0.11538461538461539, 0.24, 0.5, 0.5, 0.1, 0.3181818181818182, 0.034482758620689655, 0.07692307692307693, 0.17391304347826086, 0.16666666666666666, 0.1111111111111111, 0.1111111111111111, 0.1111111111111111, 0.15384615384615385, 0.2857142857142857, 0.1724137931034483, 0.15384615384615385, 0.3125, 0.29411764705882354, 0.6666666666666666, 0.3, 0.3157894736842105, 0.4444444444444444, 0.35714285714285715, 0.5, 0.6666666666666666, 0.4375, 0.36363636363636365, 0.2857142857142857, 1.0, 0.3333333333333333, 0.14285714285714285, 0.4, 0.03571428571428571, 0.375, 0.375, 0.11764705882352941, 0.25, 0.4, 0.4, 0.12903225806451613, 1.0, 1.0, 0.08108108108108109, 0.23076923076923078, 0.5294117647058824, 0.875, 0.875, 0.875, 0.08108108108108109, 0.11363636363636363, 0.11363636363636363, 0.22580645161290322, 0.22580645161290322, 0.7272727272727273, 0.36363636363636365, 0.3333333333333333, 0.4666666666666667, 0.06451612903225806, 0.1, 0.4, 0.25, 0.6, 0.05555555555555555, 0.07142857142857142, 0.09523809523809523, 0.15789473684210525, 0.2727272727272727, 0.2857142857142857, 0.22727272727272727]}],\n",
       "                        {\"font\": {\"size\": 20}, \"plot_bgcolor\": \"rgba(0,0,0,0)\", \"template\": {\"data\": {\"bar\": [{\"error_x\": {\"color\": \"#2a3f5f\"}, \"error_y\": {\"color\": \"#2a3f5f\"}, \"marker\": {\"line\": {\"color\": \"#E5ECF6\", \"width\": 0.5}}, \"type\": \"bar\"}], \"barpolar\": [{\"marker\": {\"line\": {\"color\": \"#E5ECF6\", \"width\": 0.5}}, \"type\": \"barpolar\"}], \"carpet\": [{\"aaxis\": {\"endlinecolor\": \"#2a3f5f\", \"gridcolor\": \"white\", \"linecolor\": \"white\", \"minorgridcolor\": \"white\", \"startlinecolor\": \"#2a3f5f\"}, \"baxis\": {\"endlinecolor\": \"#2a3f5f\", \"gridcolor\": \"white\", \"linecolor\": \"white\", \"minorgridcolor\": \"white\", \"startlinecolor\": \"#2a3f5f\"}, \"type\": \"carpet\"}], \"choropleth\": [{\"colorbar\": {\"outlinewidth\": 0, \"ticks\": \"\"}, \"type\": \"choropleth\"}], \"contour\": [{\"colorbar\": {\"outlinewidth\": 0, \"ticks\": \"\"}, \"colorscale\": [[0.0, \"#0d0887\"], [0.1111111111111111, \"#46039f\"], [0.2222222222222222, \"#7201a8\"], [0.3333333333333333, \"#9c179e\"], [0.4444444444444444, \"#bd3786\"], [0.5555555555555556, \"#d8576b\"], [0.6666666666666666, \"#ed7953\"], [0.7777777777777778, \"#fb9f3a\"], [0.8888888888888888, \"#fdca26\"], [1.0, \"#f0f921\"]], \"type\": \"contour\"}], \"contourcarpet\": [{\"colorbar\": {\"outlinewidth\": 0, \"ticks\": \"\"}, \"type\": \"contourcarpet\"}], \"heatmap\": [{\"colorbar\": {\"outlinewidth\": 0, \"ticks\": \"\"}, \"colorscale\": [[0.0, \"#0d0887\"], [0.1111111111111111, \"#46039f\"], [0.2222222222222222, \"#7201a8\"], [0.3333333333333333, \"#9c179e\"], [0.4444444444444444, \"#bd3786\"], [0.5555555555555556, \"#d8576b\"], [0.6666666666666666, \"#ed7953\"], [0.7777777777777778, \"#fb9f3a\"], [0.8888888888888888, \"#fdca26\"], [1.0, \"#f0f921\"]], \"type\": \"heatmap\"}], \"heatmapgl\": [{\"colorbar\": {\"outlinewidth\": 0, \"ticks\": \"\"}, \"colorscale\": [[0.0, \"#0d0887\"], [0.1111111111111111, \"#46039f\"], [0.2222222222222222, \"#7201a8\"], [0.3333333333333333, \"#9c179e\"], [0.4444444444444444, \"#bd3786\"], [0.5555555555555556, \"#d8576b\"], [0.6666666666666666, \"#ed7953\"], [0.7777777777777778, \"#fb9f3a\"], [0.8888888888888888, \"#fdca26\"], [1.0, \"#f0f921\"]], \"type\": \"heatmapgl\"}], \"histogram\": [{\"marker\": {\"colorbar\": {\"outlinewidth\": 0, \"ticks\": \"\"}}, \"type\": \"histogram\"}], \"histogram2d\": [{\"colorbar\": {\"outlinewidth\": 0, \"ticks\": \"\"}, \"colorscale\": [[0.0, \"#0d0887\"], [0.1111111111111111, \"#46039f\"], [0.2222222222222222, \"#7201a8\"], [0.3333333333333333, \"#9c179e\"], [0.4444444444444444, \"#bd3786\"], [0.5555555555555556, \"#d8576b\"], [0.6666666666666666, \"#ed7953\"], [0.7777777777777778, \"#fb9f3a\"], [0.8888888888888888, \"#fdca26\"], [1.0, \"#f0f921\"]], \"type\": \"histogram2d\"}], \"histogram2dcontour\": [{\"colorbar\": {\"outlinewidth\": 0, \"ticks\": \"\"}, \"colorscale\": [[0.0, \"#0d0887\"], [0.1111111111111111, \"#46039f\"], [0.2222222222222222, \"#7201a8\"], [0.3333333333333333, \"#9c179e\"], [0.4444444444444444, \"#bd3786\"], [0.5555555555555556, \"#d8576b\"], [0.6666666666666666, \"#ed7953\"], [0.7777777777777778, \"#fb9f3a\"], [0.8888888888888888, \"#fdca26\"], [1.0, \"#f0f921\"]], \"type\": \"histogram2dcontour\"}], \"mesh3d\": [{\"colorbar\": {\"outlinewidth\": 0, \"ticks\": \"\"}, \"type\": \"mesh3d\"}], \"parcoords\": [{\"line\": {\"colorbar\": {\"outlinewidth\": 0, \"ticks\": \"\"}}, \"type\": \"parcoords\"}], \"pie\": [{\"automargin\": true, \"type\": \"pie\"}], \"scatter\": [{\"marker\": {\"colorbar\": {\"outlinewidth\": 0, \"ticks\": \"\"}}, \"type\": \"scatter\"}], \"scatter3d\": [{\"line\": {\"colorbar\": {\"outlinewidth\": 0, \"ticks\": \"\"}}, \"marker\": {\"colorbar\": {\"outlinewidth\": 0, \"ticks\": \"\"}}, \"type\": \"scatter3d\"}], \"scattercarpet\": [{\"marker\": {\"colorbar\": {\"outlinewidth\": 0, \"ticks\": \"\"}}, \"type\": \"scattercarpet\"}], \"scattergeo\": [{\"marker\": {\"colorbar\": {\"outlinewidth\": 0, \"ticks\": \"\"}}, \"type\": \"scattergeo\"}], \"scattergl\": [{\"marker\": {\"colorbar\": {\"outlinewidth\": 0, \"ticks\": \"\"}}, \"type\": \"scattergl\"}], \"scattermapbox\": [{\"marker\": {\"colorbar\": {\"outlinewidth\": 0, \"ticks\": \"\"}}, \"type\": \"scattermapbox\"}], \"scatterpolar\": [{\"marker\": {\"colorbar\": {\"outlinewidth\": 0, \"ticks\": \"\"}}, \"type\": \"scatterpolar\"}], \"scatterpolargl\": [{\"marker\": {\"colorbar\": {\"outlinewidth\": 0, \"ticks\": \"\"}}, \"type\": \"scatterpolargl\"}], \"scatterternary\": [{\"marker\": {\"colorbar\": {\"outlinewidth\": 0, \"ticks\": \"\"}}, \"type\": \"scatterternary\"}], \"surface\": [{\"colorbar\": {\"outlinewidth\": 0, \"ticks\": \"\"}, \"colorscale\": [[0.0, \"#0d0887\"], [0.1111111111111111, \"#46039f\"], [0.2222222222222222, \"#7201a8\"], [0.3333333333333333, \"#9c179e\"], [0.4444444444444444, \"#bd3786\"], [0.5555555555555556, \"#d8576b\"], [0.6666666666666666, \"#ed7953\"], [0.7777777777777778, \"#fb9f3a\"], [0.8888888888888888, \"#fdca26\"], [1.0, \"#f0f921\"]], \"type\": \"surface\"}], \"table\": [{\"cells\": {\"fill\": {\"color\": \"#EBF0F8\"}, \"line\": {\"color\": \"white\"}}, \"header\": {\"fill\": {\"color\": \"#C8D4E3\"}, \"line\": {\"color\": \"white\"}}, \"type\": \"table\"}]}, \"layout\": {\"annotationdefaults\": {\"arrowcolor\": \"#2a3f5f\", \"arrowhead\": 0, \"arrowwidth\": 1}, \"coloraxis\": {\"colorbar\": {\"outlinewidth\": 0, \"ticks\": \"\"}}, \"colorscale\": {\"diverging\": [[0, \"#8e0152\"], [0.1, \"#c51b7d\"], [0.2, \"#de77ae\"], [0.3, \"#f1b6da\"], [0.4, \"#fde0ef\"], [0.5, \"#f7f7f7\"], [0.6, \"#e6f5d0\"], [0.7, \"#b8e186\"], [0.8, \"#7fbc41\"], [0.9, \"#4d9221\"], [1, \"#276419\"]], \"sequential\": [[0.0, \"#0d0887\"], [0.1111111111111111, \"#46039f\"], [0.2222222222222222, \"#7201a8\"], [0.3333333333333333, \"#9c179e\"], [0.4444444444444444, \"#bd3786\"], [0.5555555555555556, \"#d8576b\"], [0.6666666666666666, \"#ed7953\"], [0.7777777777777778, \"#fb9f3a\"], [0.8888888888888888, \"#fdca26\"], [1.0, \"#f0f921\"]], \"sequentialminus\": [[0.0, \"#0d0887\"], [0.1111111111111111, \"#46039f\"], [0.2222222222222222, \"#7201a8\"], [0.3333333333333333, \"#9c179e\"], [0.4444444444444444, \"#bd3786\"], [0.5555555555555556, \"#d8576b\"], [0.6666666666666666, \"#ed7953\"], [0.7777777777777778, \"#fb9f3a\"], [0.8888888888888888, \"#fdca26\"], [1.0, \"#f0f921\"]]}, \"colorway\": [\"#636efa\", \"#EF553B\", \"#00cc96\", \"#ab63fa\", \"#FFA15A\", \"#19d3f3\", \"#FF6692\", \"#B6E880\", \"#FF97FF\", \"#FECB52\"], \"font\": {\"color\": \"#2a3f5f\"}, \"geo\": {\"bgcolor\": \"white\", \"lakecolor\": \"white\", \"landcolor\": \"#E5ECF6\", \"showlakes\": true, \"showland\": true, \"subunitcolor\": \"white\"}, \"hoverlabel\": {\"align\": \"left\"}, \"hovermode\": \"closest\", \"mapbox\": {\"style\": \"light\"}, \"paper_bgcolor\": \"white\", \"plot_bgcolor\": \"#E5ECF6\", \"polar\": {\"angularaxis\": {\"gridcolor\": \"white\", \"linecolor\": \"white\", \"ticks\": \"\"}, \"bgcolor\": \"#E5ECF6\", \"radialaxis\": {\"gridcolor\": \"white\", \"linecolor\": \"white\", \"ticks\": \"\"}}, \"scene\": {\"xaxis\": {\"backgroundcolor\": \"#E5ECF6\", \"gridcolor\": \"white\", \"gridwidth\": 2, \"linecolor\": \"white\", \"showbackground\": true, \"ticks\": \"\", \"zerolinecolor\": \"white\"}, \"yaxis\": {\"backgroundcolor\": \"#E5ECF6\", \"gridcolor\": \"white\", \"gridwidth\": 2, \"linecolor\": \"white\", \"showbackground\": true, \"ticks\": \"\", \"zerolinecolor\": \"white\"}, \"zaxis\": {\"backgroundcolor\": \"#E5ECF6\", \"gridcolor\": \"white\", \"gridwidth\": 2, \"linecolor\": \"white\", \"showbackground\": true, \"ticks\": \"\", \"zerolinecolor\": \"white\"}}, \"shapedefaults\": {\"line\": {\"color\": \"#2a3f5f\"}}, \"ternary\": {\"aaxis\": {\"gridcolor\": \"white\", \"linecolor\": \"white\", \"ticks\": \"\"}, \"baxis\": {\"gridcolor\": \"white\", \"linecolor\": \"white\", \"ticks\": \"\"}, \"bgcolor\": \"#E5ECF6\", \"caxis\": {\"gridcolor\": \"white\", \"linecolor\": \"white\", \"ticks\": \"\"}}, \"title\": {\"x\": 0.05}, \"xaxis\": {\"automargin\": true, \"gridcolor\": \"white\", \"linecolor\": \"white\", \"ticks\": \"\", \"title\": {\"standoff\": 15}, \"zerolinecolor\": \"white\", \"zerolinewidth\": 2}, \"yaxis\": {\"automargin\": true, \"gridcolor\": \"white\", \"linecolor\": \"white\", \"ticks\": \"\", \"title\": {\"standoff\": 15}, \"zerolinecolor\": \"white\", \"zerolinewidth\": 2}}}, \"yaxis\": {\"gridcolor\": \"rgb(219, 219, 219)\", \"showgrid\": true, \"title\": {\"text\": \"Ratio of Received Updates vs Potential\"}}},\n",
       "                        {\"responsive\": true}\n",
       "                    ).then(function(){\n",
       "                            \n",
       "var gd = document.getElementById('2e15c31c-35c4-433d-9311-03cad5948099');\n",
       "var x = new MutationObserver(function (mutations, observer) {{\n",
       "        var display = window.getComputedStyle(gd).display;\n",
       "        if (!display || display === 'none') {{\n",
       "            console.log([gd, 'removed!']);\n",
       "            Plotly.purge(gd);\n",
       "            observer.disconnect();\n",
       "        }}\n",
       "}});\n",
       "\n",
       "// Listen for the removal of the full notebook cells\n",
       "var notebookContainer = gd.closest('#notebook-container');\n",
       "if (notebookContainer) {{\n",
       "    x.observe(notebookContainer, {childList: true});\n",
       "}}\n",
       "\n",
       "// Listen for the clearing of the current output cell\n",
       "var outputEl = gd.closest('.output');\n",
       "if (outputEl) {{\n",
       "    x.observe(outputEl, {childList: true});\n",
       "}}\n",
       "\n",
       "                        })\n",
       "                };\n",
       "                });\n",
       "            </script>\n",
       "        </div>"
      ]
     },
     "metadata": {},
     "output_type": "display_data"
    }
   ],
   "source": [
    "data=[]\n",
    "# for each severity, calculate the counts on each bulletin\n",
    "\n",
    "\n",
    "data.append(go.Box(\n",
    "    y=counts.Received_Rate.values,\n",
    "    name=\"Rate\",\n",
    "    boxpoints = 'all',\n",
    "    showlegend=False,\n",
    "    marker=dict(color=\"rgb(31, 119, 180)\")\n",
    "))\n",
    "\n",
    "# Edit the layout\n",
    "layout = dict(#title = \"Number of Updates after Release\",\n",
    "              yaxis = dict(title = 'Ratio of Received Updates vs Potential',showgrid=True, gridcolor='rgb(219, 219, 219)'),\n",
    "              #xaxis = dict(title = '6 Month Period '),\n",
    "              plot_bgcolor='rgba(0,0,0,0)',\n",
    "              font=dict(size=20)\n",
    "              )\n",
    "\n",
    "fig = dict(data=data, layout=layout)\n",
    "py.offline.iplot(fig, filename='frequency-since-release-years.png')"
   ]
  },
  {
   "cell_type": "code",
   "execution_count": 20,
   "metadata": {
    "scrolled": false
   },
   "outputs": [
    {
     "name": "stdout",
     "output_type": "stream",
     "text": [
      "AT&T 0.4444444444444444\n",
      "Verizon 0.25\n",
      "T-Mobile 0.3875\n",
      "Sprint 0.25\n",
      "---------------------------\n",
      "---------------------------\n",
      "Samsung 0.36363636363636365\n",
      "Motorola 0.17391304347826086\n",
      "Kyocera 0.14459930313588848\n",
      "ASUS 0.24444444444444444\n",
      "HTC 0.16666666666666666\n",
      "Sonim 0.07142857142857142\n",
      "LG 0.3333333333333333\n",
      "ZTE 0.1111111111111111\n",
      "BlackBerry 0.12\n",
      "Verizon 0.21531100478468898\n",
      "Google 0.39814814814814814\n",
      "Coolpad 0.2625\n",
      "Alcatel 0.18859649122807015\n",
      "Revvl(T-Mobile) 0.3214285714285714\n",
      "Huawei 0.3684210526315789\n",
      "Essential 0.27586206896551724\n",
      "CAT 0.2857142857142857\n",
      "Palm 0.2857142857142857\n",
      "KYOCERA 0.3\n",
      "Razer 0.3333333333333333\n",
      "Orbic 0.36363636363636365\n",
      "Nokia 0.5520833333333333\n",
      "OnePlus 0.75\n",
      "RED 1.0\n",
      "---------------------------\n",
      "---------------------------\n",
      "Samsung 45\n",
      "Motorola 29\n",
      "Kyocera 41\n",
      "ASUS 21\n",
      "HTC 26\n",
      "Sonim 18\n",
      "LG 44\n",
      "ZTE 40\n",
      "BlackBerry 32\n",
      "Verizon 38\n",
      "Google 39\n",
      "Coolpad 8\n",
      "Alcatel 19\n",
      "Revvl(T-Mobile) 21\n",
      "Huawei 19\n",
      "Essential 29\n",
      "CAT 7\n",
      "Palm 14\n",
      "KYOCERA 10\n",
      "Razer 3\n",
      "Orbic 11\n",
      "Nokia 16\n",
      "OnePlus 8\n",
      "RED 3\n"
     ]
    }
   ],
   "source": [
    "# Show how the ratio alters per carrier?\n",
    "for car in counts.Carrier.unique():\n",
    "    tmp=counts[counts.Carrier==car]\n",
    "    print(str(car)+\" \"+str(tmp.Received_Rate.median()))\n",
    "    \n",
    "print(\"---------------------------\")\n",
    "print(\"---------------------------\")\n",
    "# Show how the ratio alters per manufacturer?\n",
    "for man in counts.Manufacture.unique():\n",
    "    tmp=counts[counts.Manufacture==man]\n",
    "    uniqueMods=len(tmp.Model.unique())\n",
    "    print(str(man)+\" \"+str(tmp.Received_Rate.median()))\n",
    "    \n",
    "print(\"---------------------------\")\n",
    "print(\"---------------------------\")\n",
    "# Show how the duration alters per manufacturer?\n",
    "for man in counts.Manufacture.unique():\n",
    "    tmp=counts[counts.Manufacture==man]\n",
    "    uniqueMods=len(tmp.Model.unique())\n",
    "    print(str(man)+\" \"+str(tmp.Potential.max()))\n"
   ]
  },
  {
   "cell_type": "code",
   "execution_count": 10,
   "metadata": {},
   "outputs": [
    {
     "name": "stdout",
     "output_type": "stream",
     "text": [
      "  Carrier Manufacture               Model Release_Date       Bulletin_Level  \\\n",
      "0    AT&T     Alcatel  Alcatel IdealXCITE   2018-04-03  2018-02-01 00:00:00   \n",
      "1    AT&T     Alcatel  Alcatel IdealXCITE   2018-04-03  2018-04-01 00:00:00   \n",
      "2    AT&T     Alcatel  Alcatel IdealXCITE   2018-10-24  2018-08-01 00:00:00   \n",
      "3    AT&T     Alcatel  Alcatel IdealXCITE   2018-12-18  2018-10-01 00:00:00   \n",
      "4    AT&T  BlackBerry   BlackBerry KEYone   2017-09-26  2017-09-01 00:00:00   \n",
      "\n",
      "   difference Phone_Published  \n",
      "0        61.0      2017-06-01  \n",
      "1         2.0      2017-06-01  \n",
      "2        84.0      2017-06-01  \n",
      "3        78.0      2017-06-01  \n",
      "4        25.0      2017-04-01  \n"
     ]
    }
   ],
   "source": [
    "# For each update, how does ratio change?\n",
    "print(carrierDF.head())\n"
   ]
  },
  {
   "cell_type": "code",
   "execution_count": 17,
   "metadata": {},
   "outputs": [
    {
     "name": "stdout",
     "output_type": "stream",
     "text": [
      "                   r value p-value     N\n",
      "Ratio & Phone_Age  -0.6722  0.0000  1461\n",
      "-------------------------------------\n"
     ]
    }
   ],
   "source": [
    "import researchpy\n",
    "carrierDF.Release_Date=pd.to_datetime(carrierDF.Release_Date)\n",
    "carrierDF.Phone_Published=pd.to_datetime(carrierDF.Phone_Published)\n",
    "# carrierDF['Potential']=(carrierDF.Release_Date.year-carrierDF.Phone_Published.year)*12.0+(carrierDF.Release_Date.month+1)-carrierDF.Phone_Published.month # account for the WHOLE last month\n",
    "\n",
    "\n",
    "newVal_actual=[]\n",
    "newVal_potential=[]\n",
    "newVal_age=[]\n",
    "carrierDF.sort_values(by=['Carrier','Manufacture','Model','Release_Date'],inplace=True,ascending=True) \n",
    "for car in carrierDF.Carrier.unique():\n",
    "    tmp=carrierDF[carrierDF.Carrier==car]\n",
    "    for man in tmp.Manufacture.unique():\n",
    "        tmp2=tmp[tmp.Manufacture==man]\n",
    "        for mod in tmp2.Model.unique():\n",
    "            tmp3=tmp2[tmp2.Model==mod]\n",
    "            for index,val in tmp3.iterrows(): # at index 0, this is the first security update since its release\n",
    "                newVal_actual.append(index+1)\n",
    "                newVal_potential.append((val.Release_Date.year-val.Phone_Published.year)*12.0+(val.Release_Date.month+1)-val.Phone_Published.month)\n",
    "                newVal_age.append((val.Release_Date-val.Phone_Published).days)\n",
    "                \n",
    "                \n",
    "carrierDF['Actual']=newVal_actual  \n",
    "carrierDF['Potential']=newVal_potential  \n",
    "carrierDF['Ratio']=carrierDF['Actual'] / carrierDF['Potential']\n",
    "carrierDF['Phone_Age']=newVal_age     \n",
    "    \n",
    "\n",
    "goods=carrierDF.copy()\n",
    "\n",
    "dfTemp=researchpy.correlation.corr_pair(goods.loc[:,['Ratio','Phone_Age']],\"spearman\")\n",
    "print(dfTemp)\n",
    "print(\"-------------------------------------\")\n",
    "\n",
    "# # For all manufacturers\n",
    "# pd.set_option('mode.chained_assignment', None)\n",
    "# for man in goods.Manufacture.unique():\n",
    "#     tmp=goods[goods.Manufacture==man]\n",
    "#     tmp['Ratio']=tmp['Ratio'].astype('float')\n",
    "#     tmp['Phone_Age']=tmp['Phone_Age'].astype('float')\n",
    "#     dfTemp=researchpy.correlation.corr_pair(tmp.loc[:,['Ratio','Phone_Age']],\"spearman\")\n",
    "#     dfTemp['p-value']=dfTemp['p-value'].astype(float)\n",
    "#     if float(dfTemp.iloc[0,1])<=0.05:\n",
    "#         print(man)\n",
    "#         print(dfTemp)\n",
    "#         print()\n",
    "# pd.reset_option('mode.chained_assignment')\n",
    "    \n",
    "            \n",
    "# statistics. If phone age correlated with frequency       "
   ]
  },
  {
   "cell_type": "code",
   "execution_count": 13,
   "metadata": {},
   "outputs": [
    {
     "name": "stdout",
     "output_type": "stream",
     "text": [
      "290\n",
      "[0.0, 0.0034482758620689655, 0.006896551724137931, 0.010344827586206896, 0.013793103448275862]\n"
     ]
    },
    {
     "data": {
      "application/vnd.plotly.v1+json": {
       "config": {
        "linkText": "Export to plot.ly",
        "plotlyServerURL": "https://plot.ly",
        "showLink": false
       },
       "data": [
        {
         "marker": {
          "color": "rgb(31, 119, 180)"
         },
         "mode": "lines+markers",
         "name": "Rate",
         "showlegend": false,
         "type": "scatter",
         "x": [
          0.03225806451612903,
          0.034482758620689655,
          0.03571428571428571,
          0.03571428571428571,
          0.047619047619047616,
          0.05263157894736842,
          0.05263157894736842,
          0.05405405405405406,
          0.05555555555555555,
          0.06451612903225806,
          0.06818181818181818,
          0.07142857142857142,
          0.07142857142857142,
          0.07142857142857142,
          0.07407407407407407,
          0.07407407407407407,
          0.075,
          0.07692307692307693,
          0.07692307692307693,
          0.07692307692307693,
          0.08108108108108109,
          0.08108108108108109,
          0.08333333333333333,
          0.08333333333333333,
          0.08333333333333333,
          0.09090909090909091,
          0.09090909090909091,
          0.09090909090909091,
          0.09375,
          0.09523809523809523,
          0.09523809523809523,
          0.09523809523809523,
          0.0967741935483871,
          0.1,
          0.1,
          0.1,
          0.1,
          0.1,
          0.1,
          0.1111111111111111,
          0.1111111111111111,
          0.1111111111111111,
          0.1111111111111111,
          0.1111111111111111,
          0.1111111111111111,
          0.1111111111111111,
          0.11363636363636363,
          0.11363636363636363,
          0.11538461538461539,
          0.11764705882352941,
          0.12,
          0.12,
          0.12,
          0.12,
          0.125,
          0.125,
          0.125,
          0.125,
          0.12903225806451613,
          0.13043478260869565,
          0.13333333333333333,
          0.14285714285714285,
          0.14285714285714285,
          0.14285714285714285,
          0.14285714285714285,
          0.14285714285714285,
          0.14285714285714285,
          0.14285714285714285,
          0.14285714285714285,
          0.14285714285714285,
          0.14285714285714285,
          0.14285714285714285,
          0.14634146341463414,
          0.15,
          0.15384615384615385,
          0.15384615384615385,
          0.15384615384615385,
          0.15384615384615385,
          0.15384615384615385,
          0.15789473684210525,
          0.16129032258064516,
          0.16666666666666666,
          0.16666666666666666,
          0.16666666666666666,
          0.16666666666666666,
          0.16666666666666666,
          0.16666666666666666,
          0.16666666666666666,
          0.16666666666666666,
          0.1724137931034483,
          0.17391304347826086,
          0.17391304347826086,
          0.18181818181818182,
          0.18518518518518517,
          0.1875,
          0.1875,
          0.19047619047619047,
          0.19230769230769232,
          0.2,
          0.2,
          0.2,
          0.2,
          0.2,
          0.21052631578947367,
          0.21052631578947367,
          0.21052631578947367,
          0.21428571428571427,
          0.21875,
          0.2222222222222222,
          0.2222222222222222,
          0.22580645161290322,
          0.22580645161290322,
          0.22727272727272727,
          0.23076923076923078,
          0.23076923076923078,
          0.23529411764705882,
          0.23809523809523808,
          0.23809523809523808,
          0.24,
          0.24324324324324326,
          0.25,
          0.25,
          0.25,
          0.25,
          0.25,
          0.25,
          0.25,
          0.25,
          0.25,
          0.25,
          0.2631578947368421,
          0.26666666666666666,
          0.26666666666666666,
          0.2692307692307692,
          0.2727272727272727,
          0.2727272727272727,
          0.27586206896551724,
          0.2777777777777778,
          0.2857142857142857,
          0.2857142857142857,
          0.2857142857142857,
          0.2857142857142857,
          0.2857142857142857,
          0.2916666666666667,
          0.29411764705882354,
          0.2962962962962963,
          0.3,
          0.3,
          0.3,
          0.3,
          0.30434782608695654,
          0.3076923076923077,
          0.3125,
          0.3125,
          0.3157894736842105,
          0.3181818181818182,
          0.32,
          0.3333333333333333,
          0.3333333333333333,
          0.3333333333333333,
          0.3333333333333333,
          0.3333333333333333,
          0.3333333333333333,
          0.3333333333333333,
          0.3333333333333333,
          0.3333333333333333,
          0.3333333333333333,
          0.3333333333333333,
          0.3333333333333333,
          0.3333333333333333,
          0.3333333333333333,
          0.3333333333333333,
          0.3333333333333333,
          0.34782608695652173,
          0.34782608695652173,
          0.35714285714285715,
          0.36363636363636365,
          0.36363636363636365,
          0.36363636363636365,
          0.3684210526315789,
          0.37037037037037035,
          0.375,
          0.375,
          0.375,
          0.375,
          0.38461538461538464,
          0.391304347826087,
          0.4,
          0.4,
          0.4,
          0.4,
          0.4,
          0.4,
          0.4,
          0.4117647058823529,
          0.4230769230769231,
          0.43478260869565216,
          0.4375,
          0.4444444444444444,
          0.4444444444444444,
          0.4482758620689655,
          0.46153846153846156,
          0.4666666666666667,
          0.47058823529411764,
          0.47368421052631576,
          0.4782608695652174,
          0.5,
          0.5,
          0.5,
          0.5,
          0.5,
          0.5,
          0.5,
          0.5,
          0.5,
          0.5,
          0.5,
          0.5,
          0.5,
          0.5,
          0.5,
          0.5,
          0.5,
          0.5,
          0.5,
          0.5,
          0.5,
          0.5,
          0.5,
          0.5,
          0.5,
          0.5,
          0.5,
          0.5121951219512195,
          0.5263157894736842,
          0.5294117647058824,
          0.5294117647058824,
          0.5365853658536586,
          0.5555555555555556,
          0.5652173913043478,
          0.5714285714285714,
          0.5789473684210527,
          0.5833333333333334,
          0.5909090909090909,
          0.6,
          0.6,
          0.6,
          0.6296296296296297,
          0.64,
          0.6428571428571429,
          0.6428571428571429,
          0.6470588235294118,
          0.6470588235294118,
          0.6666666666666666,
          0.6666666666666666,
          0.6666666666666666,
          0.6666666666666666,
          0.6666666666666666,
          0.6818181818181818,
          0.7,
          0.7142857142857143,
          0.7272727272727273,
          0.7272727272727273,
          0.75,
          0.8,
          0.8181818181818182,
          0.875,
          0.875,
          0.875,
          0.8846153846153846,
          0.8846153846153846,
          1,
          1,
          1,
          1,
          1,
          1,
          1,
          1,
          1,
          1,
          1,
          1,
          1,
          1,
          1,
          1,
          1,
          1,
          1
         ],
         "y": [
          0,
          0.0034482758620689655,
          0.006896551724137931,
          0.010344827586206896,
          0.013793103448275862,
          0.017241379310344827,
          0.020689655172413793,
          0.02413793103448276,
          0.027586206896551724,
          0.03103448275862069,
          0.034482758620689655,
          0.03793103448275862,
          0.041379310344827586,
          0.04482758620689655,
          0.04827586206896552,
          0.05172413793103448,
          0.05517241379310345,
          0.05862068965517241,
          0.06206896551724138,
          0.06551724137931035,
          0.06896551724137931,
          0.07241379310344828,
          0.07586206896551724,
          0.07931034482758621,
          0.08275862068965517,
          0.08620689655172414,
          0.0896551724137931,
          0.09310344827586207,
          0.09655172413793103,
          0.1,
          0.10344827586206896,
          0.10689655172413794,
          0.1103448275862069,
          0.11379310344827587,
          0.11724137931034483,
          0.1206896551724138,
          0.12413793103448276,
          0.12758620689655173,
          0.1310344827586207,
          0.13448275862068965,
          0.13793103448275862,
          0.1413793103448276,
          0.14482758620689656,
          0.1482758620689655,
          0.15172413793103448,
          0.15517241379310345,
          0.15862068965517243,
          0.16206896551724137,
          0.16551724137931034,
          0.16896551724137931,
          0.1724137931034483,
          0.17586206896551723,
          0.1793103448275862,
          0.18275862068965518,
          0.18620689655172415,
          0.1896551724137931,
          0.19310344827586207,
          0.19655172413793104,
          0.2,
          0.20344827586206896,
          0.20689655172413793,
          0.2103448275862069,
          0.21379310344827587,
          0.21724137931034482,
          0.2206896551724138,
          0.22413793103448276,
          0.22758620689655173,
          0.23103448275862068,
          0.23448275862068965,
          0.23793103448275862,
          0.2413793103448276,
          0.24482758620689654,
          0.2482758620689655,
          0.2517241379310345,
          0.25517241379310346,
          0.25862068965517243,
          0.2620689655172414,
          0.2655172413793103,
          0.2689655172413793,
          0.27241379310344827,
          0.27586206896551724,
          0.2793103448275862,
          0.2827586206896552,
          0.28620689655172415,
          0.2896551724137931,
          0.29310344827586204,
          0.296551724137931,
          0.3,
          0.30344827586206896,
          0.30689655172413793,
          0.3103448275862069,
          0.3137931034482759,
          0.31724137931034485,
          0.32068965517241377,
          0.32413793103448274,
          0.3275862068965517,
          0.3310344827586207,
          0.33448275862068966,
          0.33793103448275863,
          0.3413793103448276,
          0.3448275862068966,
          0.3482758620689655,
          0.35172413793103446,
          0.35517241379310344,
          0.3586206896551724,
          0.3620689655172414,
          0.36551724137931035,
          0.3689655172413793,
          0.3724137931034483,
          0.3758620689655172,
          0.3793103448275862,
          0.38275862068965516,
          0.38620689655172413,
          0.3896551724137931,
          0.3931034482758621,
          0.39655172413793105,
          0.4,
          0.40344827586206894,
          0.4068965517241379,
          0.4103448275862069,
          0.41379310344827586,
          0.41724137931034483,
          0.4206896551724138,
          0.4241379310344828,
          0.42758620689655175,
          0.43103448275862066,
          0.43448275862068964,
          0.4379310344827586,
          0.4413793103448276,
          0.44482758620689655,
          0.4482758620689655,
          0.4517241379310345,
          0.45517241379310347,
          0.4586206896551724,
          0.46206896551724136,
          0.46551724137931033,
          0.4689655172413793,
          0.4724137931034483,
          0.47586206896551725,
          0.4793103448275862,
          0.4827586206896552,
          0.4862068965517241,
          0.4896551724137931,
          0.49310344827586206,
          0.496551724137931,
          0.5,
          0.503448275862069,
          0.506896551724138,
          0.5103448275862069,
          0.5137931034482759,
          0.5172413793103449,
          0.5206896551724138,
          0.5241379310344828,
          0.5275862068965518,
          0.5310344827586206,
          0.5344827586206896,
          0.5379310344827586,
          0.5413793103448276,
          0.5448275862068965,
          0.5482758620689655,
          0.5517241379310345,
          0.5551724137931034,
          0.5586206896551724,
          0.5620689655172414,
          0.5655172413793104,
          0.5689655172413793,
          0.5724137931034483,
          0.5758620689655173,
          0.5793103448275863,
          0.5827586206896552,
          0.5862068965517241,
          0.5896551724137931,
          0.593103448275862,
          0.596551724137931,
          0.6,
          0.603448275862069,
          0.6068965517241379,
          0.6103448275862069,
          0.6137931034482759,
          0.6172413793103448,
          0.6206896551724138,
          0.6241379310344828,
          0.6275862068965518,
          0.6310344827586207,
          0.6344827586206897,
          0.6379310344827587,
          0.6413793103448275,
          0.6448275862068965,
          0.6482758620689655,
          0.6517241379310345,
          0.6551724137931034,
          0.6586206896551724,
          0.6620689655172414,
          0.6655172413793103,
          0.6689655172413793,
          0.6724137931034483,
          0.6758620689655173,
          0.6793103448275862,
          0.6827586206896552,
          0.6862068965517242,
          0.6896551724137931,
          0.6931034482758621,
          0.696551724137931,
          0.7,
          0.7034482758620689,
          0.7068965517241379,
          0.7103448275862069,
          0.7137931034482758,
          0.7172413793103448,
          0.7206896551724138,
          0.7241379310344828,
          0.7275862068965517,
          0.7310344827586207,
          0.7344827586206897,
          0.7379310344827587,
          0.7413793103448276,
          0.7448275862068966,
          0.7482758620689656,
          0.7517241379310344,
          0.7551724137931034,
          0.7586206896551724,
          0.7620689655172413,
          0.7655172413793103,
          0.7689655172413793,
          0.7724137931034483,
          0.7758620689655172,
          0.7793103448275862,
          0.7827586206896552,
          0.7862068965517242,
          0.7896551724137931,
          0.7931034482758621,
          0.7965517241379311,
          0.8,
          0.803448275862069,
          0.8068965517241379,
          0.8103448275862069,
          0.8137931034482758,
          0.8172413793103448,
          0.8206896551724138,
          0.8241379310344827,
          0.8275862068965517,
          0.8310344827586207,
          0.8344827586206897,
          0.8379310344827586,
          0.8413793103448276,
          0.8448275862068966,
          0.8482758620689655,
          0.8517241379310345,
          0.8551724137931035,
          0.8586206896551725,
          0.8620689655172413,
          0.8655172413793103,
          0.8689655172413793,
          0.8724137931034482,
          0.8758620689655172,
          0.8793103448275862,
          0.8827586206896552,
          0.8862068965517241,
          0.8896551724137931,
          0.8931034482758621,
          0.896551724137931,
          0.9,
          0.903448275862069,
          0.906896551724138,
          0.9103448275862069,
          0.9137931034482759,
          0.9172413793103448,
          0.9206896551724137,
          0.9241379310344827,
          0.9275862068965517,
          0.9310344827586207,
          0.9344827586206896,
          0.9379310344827586,
          0.9413793103448276,
          0.9448275862068966,
          0.9482758620689655,
          0.9517241379310345,
          0.9551724137931035,
          0.9586206896551724,
          0.9620689655172414,
          0.9655172413793104,
          0.9689655172413794,
          0.9724137931034482,
          0.9758620689655172,
          0.9793103448275862,
          0.9827586206896551,
          0.9862068965517241,
          0.9896551724137931,
          0.993103448275862,
          0.996551724137931
         ]
        }
       ],
       "layout": {
        "font": {
         "size": 20
        },
        "plot_bgcolor": "rgba(0,0,0,0)",
        "template": {
         "data": {
          "bar": [
           {
            "error_x": {
             "color": "#2a3f5f"
            },
            "error_y": {
             "color": "#2a3f5f"
            },
            "marker": {
             "line": {
              "color": "#E5ECF6",
              "width": 0.5
             }
            },
            "type": "bar"
           }
          ],
          "barpolar": [
           {
            "marker": {
             "line": {
              "color": "#E5ECF6",
              "width": 0.5
             }
            },
            "type": "barpolar"
           }
          ],
          "carpet": [
           {
            "aaxis": {
             "endlinecolor": "#2a3f5f",
             "gridcolor": "white",
             "linecolor": "white",
             "minorgridcolor": "white",
             "startlinecolor": "#2a3f5f"
            },
            "baxis": {
             "endlinecolor": "#2a3f5f",
             "gridcolor": "white",
             "linecolor": "white",
             "minorgridcolor": "white",
             "startlinecolor": "#2a3f5f"
            },
            "type": "carpet"
           }
          ],
          "choropleth": [
           {
            "colorbar": {
             "outlinewidth": 0,
             "ticks": ""
            },
            "type": "choropleth"
           }
          ],
          "contour": [
           {
            "colorbar": {
             "outlinewidth": 0,
             "ticks": ""
            },
            "colorscale": [
             [
              0,
              "#0d0887"
             ],
             [
              0.1111111111111111,
              "#46039f"
             ],
             [
              0.2222222222222222,
              "#7201a8"
             ],
             [
              0.3333333333333333,
              "#9c179e"
             ],
             [
              0.4444444444444444,
              "#bd3786"
             ],
             [
              0.5555555555555556,
              "#d8576b"
             ],
             [
              0.6666666666666666,
              "#ed7953"
             ],
             [
              0.7777777777777778,
              "#fb9f3a"
             ],
             [
              0.8888888888888888,
              "#fdca26"
             ],
             [
              1,
              "#f0f921"
             ]
            ],
            "type": "contour"
           }
          ],
          "contourcarpet": [
           {
            "colorbar": {
             "outlinewidth": 0,
             "ticks": ""
            },
            "type": "contourcarpet"
           }
          ],
          "heatmap": [
           {
            "colorbar": {
             "outlinewidth": 0,
             "ticks": ""
            },
            "colorscale": [
             [
              0,
              "#0d0887"
             ],
             [
              0.1111111111111111,
              "#46039f"
             ],
             [
              0.2222222222222222,
              "#7201a8"
             ],
             [
              0.3333333333333333,
              "#9c179e"
             ],
             [
              0.4444444444444444,
              "#bd3786"
             ],
             [
              0.5555555555555556,
              "#d8576b"
             ],
             [
              0.6666666666666666,
              "#ed7953"
             ],
             [
              0.7777777777777778,
              "#fb9f3a"
             ],
             [
              0.8888888888888888,
              "#fdca26"
             ],
             [
              1,
              "#f0f921"
             ]
            ],
            "type": "heatmap"
           }
          ],
          "heatmapgl": [
           {
            "colorbar": {
             "outlinewidth": 0,
             "ticks": ""
            },
            "colorscale": [
             [
              0,
              "#0d0887"
             ],
             [
              0.1111111111111111,
              "#46039f"
             ],
             [
              0.2222222222222222,
              "#7201a8"
             ],
             [
              0.3333333333333333,
              "#9c179e"
             ],
             [
              0.4444444444444444,
              "#bd3786"
             ],
             [
              0.5555555555555556,
              "#d8576b"
             ],
             [
              0.6666666666666666,
              "#ed7953"
             ],
             [
              0.7777777777777778,
              "#fb9f3a"
             ],
             [
              0.8888888888888888,
              "#fdca26"
             ],
             [
              1,
              "#f0f921"
             ]
            ],
            "type": "heatmapgl"
           }
          ],
          "histogram": [
           {
            "marker": {
             "colorbar": {
              "outlinewidth": 0,
              "ticks": ""
             }
            },
            "type": "histogram"
           }
          ],
          "histogram2d": [
           {
            "colorbar": {
             "outlinewidth": 0,
             "ticks": ""
            },
            "colorscale": [
             [
              0,
              "#0d0887"
             ],
             [
              0.1111111111111111,
              "#46039f"
             ],
             [
              0.2222222222222222,
              "#7201a8"
             ],
             [
              0.3333333333333333,
              "#9c179e"
             ],
             [
              0.4444444444444444,
              "#bd3786"
             ],
             [
              0.5555555555555556,
              "#d8576b"
             ],
             [
              0.6666666666666666,
              "#ed7953"
             ],
             [
              0.7777777777777778,
              "#fb9f3a"
             ],
             [
              0.8888888888888888,
              "#fdca26"
             ],
             [
              1,
              "#f0f921"
             ]
            ],
            "type": "histogram2d"
           }
          ],
          "histogram2dcontour": [
           {
            "colorbar": {
             "outlinewidth": 0,
             "ticks": ""
            },
            "colorscale": [
             [
              0,
              "#0d0887"
             ],
             [
              0.1111111111111111,
              "#46039f"
             ],
             [
              0.2222222222222222,
              "#7201a8"
             ],
             [
              0.3333333333333333,
              "#9c179e"
             ],
             [
              0.4444444444444444,
              "#bd3786"
             ],
             [
              0.5555555555555556,
              "#d8576b"
             ],
             [
              0.6666666666666666,
              "#ed7953"
             ],
             [
              0.7777777777777778,
              "#fb9f3a"
             ],
             [
              0.8888888888888888,
              "#fdca26"
             ],
             [
              1,
              "#f0f921"
             ]
            ],
            "type": "histogram2dcontour"
           }
          ],
          "mesh3d": [
           {
            "colorbar": {
             "outlinewidth": 0,
             "ticks": ""
            },
            "type": "mesh3d"
           }
          ],
          "parcoords": [
           {
            "line": {
             "colorbar": {
              "outlinewidth": 0,
              "ticks": ""
             }
            },
            "type": "parcoords"
           }
          ],
          "pie": [
           {
            "automargin": true,
            "type": "pie"
           }
          ],
          "scatter": [
           {
            "marker": {
             "colorbar": {
              "outlinewidth": 0,
              "ticks": ""
             }
            },
            "type": "scatter"
           }
          ],
          "scatter3d": [
           {
            "line": {
             "colorbar": {
              "outlinewidth": 0,
              "ticks": ""
             }
            },
            "marker": {
             "colorbar": {
              "outlinewidth": 0,
              "ticks": ""
             }
            },
            "type": "scatter3d"
           }
          ],
          "scattercarpet": [
           {
            "marker": {
             "colorbar": {
              "outlinewidth": 0,
              "ticks": ""
             }
            },
            "type": "scattercarpet"
           }
          ],
          "scattergeo": [
           {
            "marker": {
             "colorbar": {
              "outlinewidth": 0,
              "ticks": ""
             }
            },
            "type": "scattergeo"
           }
          ],
          "scattergl": [
           {
            "marker": {
             "colorbar": {
              "outlinewidth": 0,
              "ticks": ""
             }
            },
            "type": "scattergl"
           }
          ],
          "scattermapbox": [
           {
            "marker": {
             "colorbar": {
              "outlinewidth": 0,
              "ticks": ""
             }
            },
            "type": "scattermapbox"
           }
          ],
          "scatterpolar": [
           {
            "marker": {
             "colorbar": {
              "outlinewidth": 0,
              "ticks": ""
             }
            },
            "type": "scatterpolar"
           }
          ],
          "scatterpolargl": [
           {
            "marker": {
             "colorbar": {
              "outlinewidth": 0,
              "ticks": ""
             }
            },
            "type": "scatterpolargl"
           }
          ],
          "scatterternary": [
           {
            "marker": {
             "colorbar": {
              "outlinewidth": 0,
              "ticks": ""
             }
            },
            "type": "scatterternary"
           }
          ],
          "surface": [
           {
            "colorbar": {
             "outlinewidth": 0,
             "ticks": ""
            },
            "colorscale": [
             [
              0,
              "#0d0887"
             ],
             [
              0.1111111111111111,
              "#46039f"
             ],
             [
              0.2222222222222222,
              "#7201a8"
             ],
             [
              0.3333333333333333,
              "#9c179e"
             ],
             [
              0.4444444444444444,
              "#bd3786"
             ],
             [
              0.5555555555555556,
              "#d8576b"
             ],
             [
              0.6666666666666666,
              "#ed7953"
             ],
             [
              0.7777777777777778,
              "#fb9f3a"
             ],
             [
              0.8888888888888888,
              "#fdca26"
             ],
             [
              1,
              "#f0f921"
             ]
            ],
            "type": "surface"
           }
          ],
          "table": [
           {
            "cells": {
             "fill": {
              "color": "#EBF0F8"
             },
             "line": {
              "color": "white"
             }
            },
            "header": {
             "fill": {
              "color": "#C8D4E3"
             },
             "line": {
              "color": "white"
             }
            },
            "type": "table"
           }
          ]
         },
         "layout": {
          "annotationdefaults": {
           "arrowcolor": "#2a3f5f",
           "arrowhead": 0,
           "arrowwidth": 1
          },
          "coloraxis": {
           "colorbar": {
            "outlinewidth": 0,
            "ticks": ""
           }
          },
          "colorscale": {
           "diverging": [
            [
             0,
             "#8e0152"
            ],
            [
             0.1,
             "#c51b7d"
            ],
            [
             0.2,
             "#de77ae"
            ],
            [
             0.3,
             "#f1b6da"
            ],
            [
             0.4,
             "#fde0ef"
            ],
            [
             0.5,
             "#f7f7f7"
            ],
            [
             0.6,
             "#e6f5d0"
            ],
            [
             0.7,
             "#b8e186"
            ],
            [
             0.8,
             "#7fbc41"
            ],
            [
             0.9,
             "#4d9221"
            ],
            [
             1,
             "#276419"
            ]
           ],
           "sequential": [
            [
             0,
             "#0d0887"
            ],
            [
             0.1111111111111111,
             "#46039f"
            ],
            [
             0.2222222222222222,
             "#7201a8"
            ],
            [
             0.3333333333333333,
             "#9c179e"
            ],
            [
             0.4444444444444444,
             "#bd3786"
            ],
            [
             0.5555555555555556,
             "#d8576b"
            ],
            [
             0.6666666666666666,
             "#ed7953"
            ],
            [
             0.7777777777777778,
             "#fb9f3a"
            ],
            [
             0.8888888888888888,
             "#fdca26"
            ],
            [
             1,
             "#f0f921"
            ]
           ],
           "sequentialminus": [
            [
             0,
             "#0d0887"
            ],
            [
             0.1111111111111111,
             "#46039f"
            ],
            [
             0.2222222222222222,
             "#7201a8"
            ],
            [
             0.3333333333333333,
             "#9c179e"
            ],
            [
             0.4444444444444444,
             "#bd3786"
            ],
            [
             0.5555555555555556,
             "#d8576b"
            ],
            [
             0.6666666666666666,
             "#ed7953"
            ],
            [
             0.7777777777777778,
             "#fb9f3a"
            ],
            [
             0.8888888888888888,
             "#fdca26"
            ],
            [
             1,
             "#f0f921"
            ]
           ]
          },
          "colorway": [
           "#636efa",
           "#EF553B",
           "#00cc96",
           "#ab63fa",
           "#FFA15A",
           "#19d3f3",
           "#FF6692",
           "#B6E880",
           "#FF97FF",
           "#FECB52"
          ],
          "font": {
           "color": "#2a3f5f"
          },
          "geo": {
           "bgcolor": "white",
           "lakecolor": "white",
           "landcolor": "#E5ECF6",
           "showlakes": true,
           "showland": true,
           "subunitcolor": "white"
          },
          "hoverlabel": {
           "align": "left"
          },
          "hovermode": "closest",
          "mapbox": {
           "style": "light"
          },
          "paper_bgcolor": "white",
          "plot_bgcolor": "#E5ECF6",
          "polar": {
           "angularaxis": {
            "gridcolor": "white",
            "linecolor": "white",
            "ticks": ""
           },
           "bgcolor": "#E5ECF6",
           "radialaxis": {
            "gridcolor": "white",
            "linecolor": "white",
            "ticks": ""
           }
          },
          "scene": {
           "xaxis": {
            "backgroundcolor": "#E5ECF6",
            "gridcolor": "white",
            "gridwidth": 2,
            "linecolor": "white",
            "showbackground": true,
            "ticks": "",
            "zerolinecolor": "white"
           },
           "yaxis": {
            "backgroundcolor": "#E5ECF6",
            "gridcolor": "white",
            "gridwidth": 2,
            "linecolor": "white",
            "showbackground": true,
            "ticks": "",
            "zerolinecolor": "white"
           },
           "zaxis": {
            "backgroundcolor": "#E5ECF6",
            "gridcolor": "white",
            "gridwidth": 2,
            "linecolor": "white",
            "showbackground": true,
            "ticks": "",
            "zerolinecolor": "white"
           }
          },
          "shapedefaults": {
           "line": {
            "color": "#2a3f5f"
           }
          },
          "ternary": {
           "aaxis": {
            "gridcolor": "white",
            "linecolor": "white",
            "ticks": ""
           },
           "baxis": {
            "gridcolor": "white",
            "linecolor": "white",
            "ticks": ""
           },
           "bgcolor": "#E5ECF6",
           "caxis": {
            "gridcolor": "white",
            "linecolor": "white",
            "ticks": ""
           }
          },
          "title": {
           "x": 0.05
          },
          "xaxis": {
           "automargin": true,
           "gridcolor": "white",
           "linecolor": "white",
           "ticks": "",
           "title": {
            "standoff": 15
           },
           "zerolinecolor": "white",
           "zerolinewidth": 2
          },
          "yaxis": {
           "automargin": true,
           "gridcolor": "white",
           "linecolor": "white",
           "ticks": "",
           "title": {
            "standoff": 15
           },
           "zerolinecolor": "white",
           "zerolinewidth": 2
          }
         }
        },
        "xaxis": {
         "gridcolor": "rgb(219, 219, 219)",
         "linecolor": "rgb(219, 219, 219)",
         "mirror": true,
         "range": [
          0,
          1
         ],
         "showgrid": true,
         "tickfont": {
          "size": 17
         },
         "title": {
          "font": {
           "size": 17
          },
          "text": "Normalized Update Frequency"
         },
         "zeroline": true
        },
        "yaxis": {
         "gridcolor": "rgb(219, 219, 219)",
         "linecolor": "rgb(219, 219, 219)",
         "mirror": true,
         "range": [
          0,
          1
         ],
         "showgrid": true,
         "tickfont": {
          "size": 17
         },
         "title": {
          "font": {
           "size": 17
          },
          "text": "Cumulatived Fraction of Carrier-Supported Devices"
         },
         "zeroline": true
        }
       }
      },
      "text/html": [
       "<div>\n",
       "        \n",
       "        \n",
       "            <div id=\"a2c48972-7dda-4eed-9b98-5d6fad66b888\" class=\"plotly-graph-div\" style=\"height:525px; width:100%;\"></div>\n",
       "            <script type=\"text/javascript\">\n",
       "                require([\"plotly\"], function(Plotly) {\n",
       "                    window.PLOTLYENV=window.PLOTLYENV || {};\n",
       "                    \n",
       "                if (document.getElementById(\"a2c48972-7dda-4eed-9b98-5d6fad66b888\")) {\n",
       "                    Plotly.newPlot(\n",
       "                        'a2c48972-7dda-4eed-9b98-5d6fad66b888',\n",
       "                        [{\"marker\": {\"color\": \"rgb(31, 119, 180)\"}, \"mode\": \"lines+markers\", \"name\": \"Rate\", \"showlegend\": false, \"type\": \"scatter\", \"x\": [0.03225806451612903, 0.034482758620689655, 0.03571428571428571, 0.03571428571428571, 0.047619047619047616, 0.05263157894736842, 0.05263157894736842, 0.05405405405405406, 0.05555555555555555, 0.06451612903225806, 0.06818181818181818, 0.07142857142857142, 0.07142857142857142, 0.07142857142857142, 0.07407407407407407, 0.07407407407407407, 0.075, 0.07692307692307693, 0.07692307692307693, 0.07692307692307693, 0.08108108108108109, 0.08108108108108109, 0.08333333333333333, 0.08333333333333333, 0.08333333333333333, 0.09090909090909091, 0.09090909090909091, 0.09090909090909091, 0.09375, 0.09523809523809523, 0.09523809523809523, 0.09523809523809523, 0.0967741935483871, 0.1, 0.1, 0.1, 0.1, 0.1, 0.1, 0.1111111111111111, 0.1111111111111111, 0.1111111111111111, 0.1111111111111111, 0.1111111111111111, 0.1111111111111111, 0.1111111111111111, 0.11363636363636363, 0.11363636363636363, 0.11538461538461539, 0.11764705882352941, 0.12, 0.12, 0.12, 0.12, 0.125, 0.125, 0.125, 0.125, 0.12903225806451613, 0.13043478260869565, 0.13333333333333333, 0.14285714285714285, 0.14285714285714285, 0.14285714285714285, 0.14285714285714285, 0.14285714285714285, 0.14285714285714285, 0.14285714285714285, 0.14285714285714285, 0.14285714285714285, 0.14285714285714285, 0.14285714285714285, 0.14634146341463414, 0.15, 0.15384615384615385, 0.15384615384615385, 0.15384615384615385, 0.15384615384615385, 0.15384615384615385, 0.15789473684210525, 0.16129032258064516, 0.16666666666666666, 0.16666666666666666, 0.16666666666666666, 0.16666666666666666, 0.16666666666666666, 0.16666666666666666, 0.16666666666666666, 0.16666666666666666, 0.1724137931034483, 0.17391304347826086, 0.17391304347826086, 0.18181818181818182, 0.18518518518518517, 0.1875, 0.1875, 0.19047619047619047, 0.19230769230769232, 0.2, 0.2, 0.2, 0.2, 0.2, 0.21052631578947367, 0.21052631578947367, 0.21052631578947367, 0.21428571428571427, 0.21875, 0.2222222222222222, 0.2222222222222222, 0.22580645161290322, 0.22580645161290322, 0.22727272727272727, 0.23076923076923078, 0.23076923076923078, 0.23529411764705882, 0.23809523809523808, 0.23809523809523808, 0.24, 0.24324324324324326, 0.25, 0.25, 0.25, 0.25, 0.25, 0.25, 0.25, 0.25, 0.25, 0.25, 0.2631578947368421, 0.26666666666666666, 0.26666666666666666, 0.2692307692307692, 0.2727272727272727, 0.2727272727272727, 0.27586206896551724, 0.2777777777777778, 0.2857142857142857, 0.2857142857142857, 0.2857142857142857, 0.2857142857142857, 0.2857142857142857, 0.2916666666666667, 0.29411764705882354, 0.2962962962962963, 0.3, 0.3, 0.3, 0.3, 0.30434782608695654, 0.3076923076923077, 0.3125, 0.3125, 0.3157894736842105, 0.3181818181818182, 0.32, 0.3333333333333333, 0.3333333333333333, 0.3333333333333333, 0.3333333333333333, 0.3333333333333333, 0.3333333333333333, 0.3333333333333333, 0.3333333333333333, 0.3333333333333333, 0.3333333333333333, 0.3333333333333333, 0.3333333333333333, 0.3333333333333333, 0.3333333333333333, 0.3333333333333333, 0.3333333333333333, 0.34782608695652173, 0.34782608695652173, 0.35714285714285715, 0.36363636363636365, 0.36363636363636365, 0.36363636363636365, 0.3684210526315789, 0.37037037037037035, 0.375, 0.375, 0.375, 0.375, 0.38461538461538464, 0.391304347826087, 0.4, 0.4, 0.4, 0.4, 0.4, 0.4, 0.4, 0.4117647058823529, 0.4230769230769231, 0.43478260869565216, 0.4375, 0.4444444444444444, 0.4444444444444444, 0.4482758620689655, 0.46153846153846156, 0.4666666666666667, 0.47058823529411764, 0.47368421052631576, 0.4782608695652174, 0.5, 0.5, 0.5, 0.5, 0.5, 0.5, 0.5, 0.5, 0.5, 0.5, 0.5, 0.5, 0.5, 0.5, 0.5, 0.5, 0.5, 0.5, 0.5, 0.5, 0.5, 0.5, 0.5, 0.5, 0.5, 0.5, 0.5, 0.5121951219512195, 0.5263157894736842, 0.5294117647058824, 0.5294117647058824, 0.5365853658536586, 0.5555555555555556, 0.5652173913043478, 0.5714285714285714, 0.5789473684210527, 0.5833333333333334, 0.5909090909090909, 0.6, 0.6, 0.6, 0.6296296296296297, 0.64, 0.6428571428571429, 0.6428571428571429, 0.6470588235294118, 0.6470588235294118, 0.6666666666666666, 0.6666666666666666, 0.6666666666666666, 0.6666666666666666, 0.6666666666666666, 0.6818181818181818, 0.7, 0.7142857142857143, 0.7272727272727273, 0.7272727272727273, 0.75, 0.8, 0.8181818181818182, 0.875, 0.875, 0.875, 0.8846153846153846, 0.8846153846153846, 1.0, 1.0, 1.0, 1.0, 1.0, 1.0, 1.0, 1.0, 1.0, 1.0, 1.0, 1.0, 1.0, 1.0, 1.0, 1.0, 1.0, 1.0, 1.0], \"y\": [0.0, 0.0034482758620689655, 0.006896551724137931, 0.010344827586206896, 0.013793103448275862, 0.017241379310344827, 0.020689655172413793, 0.02413793103448276, 0.027586206896551724, 0.03103448275862069, 0.034482758620689655, 0.03793103448275862, 0.041379310344827586, 0.04482758620689655, 0.04827586206896552, 0.05172413793103448, 0.05517241379310345, 0.05862068965517241, 0.06206896551724138, 0.06551724137931035, 0.06896551724137931, 0.07241379310344828, 0.07586206896551724, 0.07931034482758621, 0.08275862068965517, 0.08620689655172414, 0.0896551724137931, 0.09310344827586207, 0.09655172413793103, 0.1, 0.10344827586206896, 0.10689655172413794, 0.1103448275862069, 0.11379310344827587, 0.11724137931034483, 0.1206896551724138, 0.12413793103448276, 0.12758620689655173, 0.1310344827586207, 0.13448275862068965, 0.13793103448275862, 0.1413793103448276, 0.14482758620689656, 0.1482758620689655, 0.15172413793103448, 0.15517241379310345, 0.15862068965517243, 0.16206896551724137, 0.16551724137931034, 0.16896551724137931, 0.1724137931034483, 0.17586206896551723, 0.1793103448275862, 0.18275862068965518, 0.18620689655172415, 0.1896551724137931, 0.19310344827586207, 0.19655172413793104, 0.2, 0.20344827586206896, 0.20689655172413793, 0.2103448275862069, 0.21379310344827587, 0.21724137931034482, 0.2206896551724138, 0.22413793103448276, 0.22758620689655173, 0.23103448275862068, 0.23448275862068965, 0.23793103448275862, 0.2413793103448276, 0.24482758620689654, 0.2482758620689655, 0.2517241379310345, 0.25517241379310346, 0.25862068965517243, 0.2620689655172414, 0.2655172413793103, 0.2689655172413793, 0.27241379310344827, 0.27586206896551724, 0.2793103448275862, 0.2827586206896552, 0.28620689655172415, 0.2896551724137931, 0.29310344827586204, 0.296551724137931, 0.3, 0.30344827586206896, 0.30689655172413793, 0.3103448275862069, 0.3137931034482759, 0.31724137931034485, 0.32068965517241377, 0.32413793103448274, 0.3275862068965517, 0.3310344827586207, 0.33448275862068966, 0.33793103448275863, 0.3413793103448276, 0.3448275862068966, 0.3482758620689655, 0.35172413793103446, 0.35517241379310344, 0.3586206896551724, 0.3620689655172414, 0.36551724137931035, 0.3689655172413793, 0.3724137931034483, 0.3758620689655172, 0.3793103448275862, 0.38275862068965516, 0.38620689655172413, 0.3896551724137931, 0.3931034482758621, 0.39655172413793105, 0.4, 0.40344827586206894, 0.4068965517241379, 0.4103448275862069, 0.41379310344827586, 0.41724137931034483, 0.4206896551724138, 0.4241379310344828, 0.42758620689655175, 0.43103448275862066, 0.43448275862068964, 0.4379310344827586, 0.4413793103448276, 0.44482758620689655, 0.4482758620689655, 0.4517241379310345, 0.45517241379310347, 0.4586206896551724, 0.46206896551724136, 0.46551724137931033, 0.4689655172413793, 0.4724137931034483, 0.47586206896551725, 0.4793103448275862, 0.4827586206896552, 0.4862068965517241, 0.4896551724137931, 0.49310344827586206, 0.496551724137931, 0.5, 0.503448275862069, 0.506896551724138, 0.5103448275862069, 0.5137931034482759, 0.5172413793103449, 0.5206896551724138, 0.5241379310344828, 0.5275862068965518, 0.5310344827586206, 0.5344827586206896, 0.5379310344827586, 0.5413793103448276, 0.5448275862068965, 0.5482758620689655, 0.5517241379310345, 0.5551724137931034, 0.5586206896551724, 0.5620689655172414, 0.5655172413793104, 0.5689655172413793, 0.5724137931034483, 0.5758620689655173, 0.5793103448275863, 0.5827586206896552, 0.5862068965517241, 0.5896551724137931, 0.593103448275862, 0.596551724137931, 0.6, 0.603448275862069, 0.6068965517241379, 0.6103448275862069, 0.6137931034482759, 0.6172413793103448, 0.6206896551724138, 0.6241379310344828, 0.6275862068965518, 0.6310344827586207, 0.6344827586206897, 0.6379310344827587, 0.6413793103448275, 0.6448275862068965, 0.6482758620689655, 0.6517241379310345, 0.6551724137931034, 0.6586206896551724, 0.6620689655172414, 0.6655172413793103, 0.6689655172413793, 0.6724137931034483, 0.6758620689655173, 0.6793103448275862, 0.6827586206896552, 0.6862068965517242, 0.6896551724137931, 0.6931034482758621, 0.696551724137931, 0.7, 0.7034482758620689, 0.7068965517241379, 0.7103448275862069, 0.7137931034482758, 0.7172413793103448, 0.7206896551724138, 0.7241379310344828, 0.7275862068965517, 0.7310344827586207, 0.7344827586206897, 0.7379310344827587, 0.7413793103448276, 0.7448275862068966, 0.7482758620689656, 0.7517241379310344, 0.7551724137931034, 0.7586206896551724, 0.7620689655172413, 0.7655172413793103, 0.7689655172413793, 0.7724137931034483, 0.7758620689655172, 0.7793103448275862, 0.7827586206896552, 0.7862068965517242, 0.7896551724137931, 0.7931034482758621, 0.7965517241379311, 0.8, 0.803448275862069, 0.8068965517241379, 0.8103448275862069, 0.8137931034482758, 0.8172413793103448, 0.8206896551724138, 0.8241379310344827, 0.8275862068965517, 0.8310344827586207, 0.8344827586206897, 0.8379310344827586, 0.8413793103448276, 0.8448275862068966, 0.8482758620689655, 0.8517241379310345, 0.8551724137931035, 0.8586206896551725, 0.8620689655172413, 0.8655172413793103, 0.8689655172413793, 0.8724137931034482, 0.8758620689655172, 0.8793103448275862, 0.8827586206896552, 0.8862068965517241, 0.8896551724137931, 0.8931034482758621, 0.896551724137931, 0.9, 0.903448275862069, 0.906896551724138, 0.9103448275862069, 0.9137931034482759, 0.9172413793103448, 0.9206896551724137, 0.9241379310344827, 0.9275862068965517, 0.9310344827586207, 0.9344827586206896, 0.9379310344827586, 0.9413793103448276, 0.9448275862068966, 0.9482758620689655, 0.9517241379310345, 0.9551724137931035, 0.9586206896551724, 0.9620689655172414, 0.9655172413793104, 0.9689655172413794, 0.9724137931034482, 0.9758620689655172, 0.9793103448275862, 0.9827586206896551, 0.9862068965517241, 0.9896551724137931, 0.993103448275862, 0.996551724137931]}],\n",
       "                        {\"font\": {\"size\": 20}, \"plot_bgcolor\": \"rgba(0,0,0,0)\", \"template\": {\"data\": {\"bar\": [{\"error_x\": {\"color\": \"#2a3f5f\"}, \"error_y\": {\"color\": \"#2a3f5f\"}, \"marker\": {\"line\": {\"color\": \"#E5ECF6\", \"width\": 0.5}}, \"type\": \"bar\"}], \"barpolar\": [{\"marker\": {\"line\": {\"color\": \"#E5ECF6\", \"width\": 0.5}}, \"type\": \"barpolar\"}], \"carpet\": [{\"aaxis\": {\"endlinecolor\": \"#2a3f5f\", \"gridcolor\": \"white\", \"linecolor\": \"white\", \"minorgridcolor\": \"white\", \"startlinecolor\": \"#2a3f5f\"}, \"baxis\": {\"endlinecolor\": \"#2a3f5f\", \"gridcolor\": \"white\", \"linecolor\": \"white\", \"minorgridcolor\": \"white\", \"startlinecolor\": \"#2a3f5f\"}, \"type\": \"carpet\"}], \"choropleth\": [{\"colorbar\": {\"outlinewidth\": 0, \"ticks\": \"\"}, \"type\": \"choropleth\"}], \"contour\": [{\"colorbar\": {\"outlinewidth\": 0, \"ticks\": \"\"}, \"colorscale\": [[0.0, \"#0d0887\"], [0.1111111111111111, \"#46039f\"], [0.2222222222222222, \"#7201a8\"], [0.3333333333333333, \"#9c179e\"], [0.4444444444444444, \"#bd3786\"], [0.5555555555555556, \"#d8576b\"], [0.6666666666666666, \"#ed7953\"], [0.7777777777777778, \"#fb9f3a\"], [0.8888888888888888, \"#fdca26\"], [1.0, \"#f0f921\"]], \"type\": \"contour\"}], \"contourcarpet\": [{\"colorbar\": {\"outlinewidth\": 0, \"ticks\": \"\"}, \"type\": \"contourcarpet\"}], \"heatmap\": [{\"colorbar\": {\"outlinewidth\": 0, \"ticks\": \"\"}, \"colorscale\": [[0.0, \"#0d0887\"], [0.1111111111111111, \"#46039f\"], [0.2222222222222222, \"#7201a8\"], [0.3333333333333333, \"#9c179e\"], [0.4444444444444444, \"#bd3786\"], [0.5555555555555556, \"#d8576b\"], [0.6666666666666666, \"#ed7953\"], [0.7777777777777778, \"#fb9f3a\"], [0.8888888888888888, \"#fdca26\"], [1.0, \"#f0f921\"]], \"type\": \"heatmap\"}], \"heatmapgl\": [{\"colorbar\": {\"outlinewidth\": 0, \"ticks\": \"\"}, \"colorscale\": [[0.0, \"#0d0887\"], [0.1111111111111111, \"#46039f\"], [0.2222222222222222, \"#7201a8\"], [0.3333333333333333, \"#9c179e\"], [0.4444444444444444, \"#bd3786\"], [0.5555555555555556, \"#d8576b\"], [0.6666666666666666, \"#ed7953\"], [0.7777777777777778, \"#fb9f3a\"], [0.8888888888888888, \"#fdca26\"], [1.0, \"#f0f921\"]], \"type\": \"heatmapgl\"}], \"histogram\": [{\"marker\": {\"colorbar\": {\"outlinewidth\": 0, \"ticks\": \"\"}}, \"type\": \"histogram\"}], \"histogram2d\": [{\"colorbar\": {\"outlinewidth\": 0, \"ticks\": \"\"}, \"colorscale\": [[0.0, \"#0d0887\"], [0.1111111111111111, \"#46039f\"], [0.2222222222222222, \"#7201a8\"], [0.3333333333333333, \"#9c179e\"], [0.4444444444444444, \"#bd3786\"], [0.5555555555555556, \"#d8576b\"], [0.6666666666666666, \"#ed7953\"], [0.7777777777777778, \"#fb9f3a\"], [0.8888888888888888, \"#fdca26\"], [1.0, \"#f0f921\"]], \"type\": \"histogram2d\"}], \"histogram2dcontour\": [{\"colorbar\": {\"outlinewidth\": 0, \"ticks\": \"\"}, \"colorscale\": [[0.0, \"#0d0887\"], [0.1111111111111111, \"#46039f\"], [0.2222222222222222, \"#7201a8\"], [0.3333333333333333, \"#9c179e\"], [0.4444444444444444, \"#bd3786\"], [0.5555555555555556, \"#d8576b\"], [0.6666666666666666, \"#ed7953\"], [0.7777777777777778, \"#fb9f3a\"], [0.8888888888888888, \"#fdca26\"], [1.0, \"#f0f921\"]], \"type\": \"histogram2dcontour\"}], \"mesh3d\": [{\"colorbar\": {\"outlinewidth\": 0, \"ticks\": \"\"}, \"type\": \"mesh3d\"}], \"parcoords\": [{\"line\": {\"colorbar\": {\"outlinewidth\": 0, \"ticks\": \"\"}}, \"type\": \"parcoords\"}], \"pie\": [{\"automargin\": true, \"type\": \"pie\"}], \"scatter\": [{\"marker\": {\"colorbar\": {\"outlinewidth\": 0, \"ticks\": \"\"}}, \"type\": \"scatter\"}], \"scatter3d\": [{\"line\": {\"colorbar\": {\"outlinewidth\": 0, \"ticks\": \"\"}}, \"marker\": {\"colorbar\": {\"outlinewidth\": 0, \"ticks\": \"\"}}, \"type\": \"scatter3d\"}], \"scattercarpet\": [{\"marker\": {\"colorbar\": {\"outlinewidth\": 0, \"ticks\": \"\"}}, \"type\": \"scattercarpet\"}], \"scattergeo\": [{\"marker\": {\"colorbar\": {\"outlinewidth\": 0, \"ticks\": \"\"}}, \"type\": \"scattergeo\"}], \"scattergl\": [{\"marker\": {\"colorbar\": {\"outlinewidth\": 0, \"ticks\": \"\"}}, \"type\": \"scattergl\"}], \"scattermapbox\": [{\"marker\": {\"colorbar\": {\"outlinewidth\": 0, \"ticks\": \"\"}}, \"type\": \"scattermapbox\"}], \"scatterpolar\": [{\"marker\": {\"colorbar\": {\"outlinewidth\": 0, \"ticks\": \"\"}}, \"type\": \"scatterpolar\"}], \"scatterpolargl\": [{\"marker\": {\"colorbar\": {\"outlinewidth\": 0, \"ticks\": \"\"}}, \"type\": \"scatterpolargl\"}], \"scatterternary\": [{\"marker\": {\"colorbar\": {\"outlinewidth\": 0, \"ticks\": \"\"}}, \"type\": \"scatterternary\"}], \"surface\": [{\"colorbar\": {\"outlinewidth\": 0, \"ticks\": \"\"}, \"colorscale\": [[0.0, \"#0d0887\"], [0.1111111111111111, \"#46039f\"], [0.2222222222222222, \"#7201a8\"], [0.3333333333333333, \"#9c179e\"], [0.4444444444444444, \"#bd3786\"], [0.5555555555555556, \"#d8576b\"], [0.6666666666666666, \"#ed7953\"], [0.7777777777777778, \"#fb9f3a\"], [0.8888888888888888, \"#fdca26\"], [1.0, \"#f0f921\"]], \"type\": \"surface\"}], \"table\": [{\"cells\": {\"fill\": {\"color\": \"#EBF0F8\"}, \"line\": {\"color\": \"white\"}}, \"header\": {\"fill\": {\"color\": \"#C8D4E3\"}, \"line\": {\"color\": \"white\"}}, \"type\": \"table\"}]}, \"layout\": {\"annotationdefaults\": {\"arrowcolor\": \"#2a3f5f\", \"arrowhead\": 0, \"arrowwidth\": 1}, \"coloraxis\": {\"colorbar\": {\"outlinewidth\": 0, \"ticks\": \"\"}}, \"colorscale\": {\"diverging\": [[0, \"#8e0152\"], [0.1, \"#c51b7d\"], [0.2, \"#de77ae\"], [0.3, \"#f1b6da\"], [0.4, \"#fde0ef\"], [0.5, \"#f7f7f7\"], [0.6, \"#e6f5d0\"], [0.7, \"#b8e186\"], [0.8, \"#7fbc41\"], [0.9, \"#4d9221\"], [1, \"#276419\"]], \"sequential\": [[0.0, \"#0d0887\"], [0.1111111111111111, \"#46039f\"], [0.2222222222222222, \"#7201a8\"], [0.3333333333333333, \"#9c179e\"], [0.4444444444444444, \"#bd3786\"], [0.5555555555555556, \"#d8576b\"], [0.6666666666666666, \"#ed7953\"], [0.7777777777777778, \"#fb9f3a\"], [0.8888888888888888, \"#fdca26\"], [1.0, \"#f0f921\"]], \"sequentialminus\": [[0.0, \"#0d0887\"], [0.1111111111111111, \"#46039f\"], [0.2222222222222222, \"#7201a8\"], [0.3333333333333333, \"#9c179e\"], [0.4444444444444444, \"#bd3786\"], [0.5555555555555556, \"#d8576b\"], [0.6666666666666666, \"#ed7953\"], [0.7777777777777778, \"#fb9f3a\"], [0.8888888888888888, \"#fdca26\"], [1.0, \"#f0f921\"]]}, \"colorway\": [\"#636efa\", \"#EF553B\", \"#00cc96\", \"#ab63fa\", \"#FFA15A\", \"#19d3f3\", \"#FF6692\", \"#B6E880\", \"#FF97FF\", \"#FECB52\"], \"font\": {\"color\": \"#2a3f5f\"}, \"geo\": {\"bgcolor\": \"white\", \"lakecolor\": \"white\", \"landcolor\": \"#E5ECF6\", \"showlakes\": true, \"showland\": true, \"subunitcolor\": \"white\"}, \"hoverlabel\": {\"align\": \"left\"}, \"hovermode\": \"closest\", \"mapbox\": {\"style\": \"light\"}, \"paper_bgcolor\": \"white\", \"plot_bgcolor\": \"#E5ECF6\", \"polar\": {\"angularaxis\": {\"gridcolor\": \"white\", \"linecolor\": \"white\", \"ticks\": \"\"}, \"bgcolor\": \"#E5ECF6\", \"radialaxis\": {\"gridcolor\": \"white\", \"linecolor\": \"white\", \"ticks\": \"\"}}, \"scene\": {\"xaxis\": {\"backgroundcolor\": \"#E5ECF6\", \"gridcolor\": \"white\", \"gridwidth\": 2, \"linecolor\": \"white\", \"showbackground\": true, \"ticks\": \"\", \"zerolinecolor\": \"white\"}, \"yaxis\": {\"backgroundcolor\": \"#E5ECF6\", \"gridcolor\": \"white\", \"gridwidth\": 2, \"linecolor\": \"white\", \"showbackground\": true, \"ticks\": \"\", \"zerolinecolor\": \"white\"}, \"zaxis\": {\"backgroundcolor\": \"#E5ECF6\", \"gridcolor\": \"white\", \"gridwidth\": 2, \"linecolor\": \"white\", \"showbackground\": true, \"ticks\": \"\", \"zerolinecolor\": \"white\"}}, \"shapedefaults\": {\"line\": {\"color\": \"#2a3f5f\"}}, \"ternary\": {\"aaxis\": {\"gridcolor\": \"white\", \"linecolor\": \"white\", \"ticks\": \"\"}, \"baxis\": {\"gridcolor\": \"white\", \"linecolor\": \"white\", \"ticks\": \"\"}, \"bgcolor\": \"#E5ECF6\", \"caxis\": {\"gridcolor\": \"white\", \"linecolor\": \"white\", \"ticks\": \"\"}}, \"title\": {\"x\": 0.05}, \"xaxis\": {\"automargin\": true, \"gridcolor\": \"white\", \"linecolor\": \"white\", \"ticks\": \"\", \"title\": {\"standoff\": 15}, \"zerolinecolor\": \"white\", \"zerolinewidth\": 2}, \"yaxis\": {\"automargin\": true, \"gridcolor\": \"white\", \"linecolor\": \"white\", \"ticks\": \"\", \"title\": {\"standoff\": 15}, \"zerolinecolor\": \"white\", \"zerolinewidth\": 2}}}, \"xaxis\": {\"gridcolor\": \"rgb(219, 219, 219)\", \"linecolor\": \"rgb(219, 219, 219)\", \"mirror\": true, \"range\": [0, 1], \"showgrid\": true, \"tickfont\": {\"size\": 17}, \"title\": {\"font\": {\"size\": 17}, \"text\": \"Normalized Update Frequency\"}, \"zeroline\": true}, \"yaxis\": {\"gridcolor\": \"rgb(219, 219, 219)\", \"linecolor\": \"rgb(219, 219, 219)\", \"mirror\": true, \"range\": [0, 1], \"showgrid\": true, \"tickfont\": {\"size\": 17}, \"title\": {\"font\": {\"size\": 17}, \"text\": \"Cumulatived Fraction of Carrier-Supported Devices\"}, \"zeroline\": true}},\n",
       "                        {\"responsive\": true}\n",
       "                    ).then(function(){\n",
       "                            \n",
       "var gd = document.getElementById('a2c48972-7dda-4eed-9b98-5d6fad66b888');\n",
       "var x = new MutationObserver(function (mutations, observer) {{\n",
       "        var display = window.getComputedStyle(gd).display;\n",
       "        if (!display || display === 'none') {{\n",
       "            console.log([gd, 'removed!']);\n",
       "            Plotly.purge(gd);\n",
       "            observer.disconnect();\n",
       "        }}\n",
       "}});\n",
       "\n",
       "// Listen for the removal of the full notebook cells\n",
       "var notebookContainer = gd.closest('#notebook-container');\n",
       "if (notebookContainer) {{\n",
       "    x.observe(notebookContainer, {childList: true});\n",
       "}}\n",
       "\n",
       "// Listen for the clearing of the current output cell\n",
       "var outputEl = gd.closest('.output');\n",
       "if (outputEl) {{\n",
       "    x.observe(outputEl, {childList: true});\n",
       "}}\n",
       "\n",
       "                        })\n",
       "                };\n",
       "                });\n",
       "            </script>\n",
       "        </div>"
      ]
     },
     "metadata": {},
     "output_type": "display_data"
    }
   ],
   "source": [
    "# Graph noramlized frequency for each phone model... upon shared models (will be duplicated...),\n",
    "    # Each device = carrier+model\n",
    "\n",
    "# CDF for frequency... \n",
    "    # x-axis = normalized frequency\n",
    "    # y-axis = percentage of counts\n",
    "\n",
    "# for each row, count percentage of devices up to last row\n",
    "counts.sort_values(by=[\"Received_Rate\"],inplace=True)\n",
    "counts=counts[counts.Received_Rate<=1.0]\n",
    "\n",
    "total=len(counts)\n",
    "\n",
    "runningCount=0\n",
    "yaxis=[x/total for x in range(len(counts))] # fraction of devices\n",
    "xaxis=[x[\"Received_Rate\"] for index,x in counts.iterrows()]\n",
    "# for index,row in counts.iterrows(): \n",
    "#     runningCount=runningCount+row[\"Received_Rate\"]\n",
    "#     xaxis.append(runningCount)\n",
    "\n",
    "print(total)\n",
    "print(yaxis[:5])\n",
    "    \n",
    "\n",
    "data=[]\n",
    "\n",
    "data.append(go.Scatter(\n",
    "    x=xaxis,\n",
    "    y=yaxis,\n",
    "    name=\"Rate\",\n",
    "    showlegend=False,\n",
    "    marker=dict(color=\"rgb(31, 119, 180)\"),\n",
    "    mode='lines+markers'\n",
    "))\n",
    "\n",
    "# Edit the layout\n",
    "layout = dict(#title = \"Number of Updates after Release\",\n",
    "              yaxis = dict(title = 'Cumulatived Fraction of Carrier-Supported Devices',showgrid=True,zeroline=True,linecolor='rgb(219, 219, 219)',gridcolor='rgb(219, 219, 219)', mirror=True,range=[0,1],title_font=dict(size=17),tickfont=dict(size=17)),\n",
    "              xaxis = dict(title = 'Normalized Update Frequency',showgrid=True,zeroline=True,linecolor='rgb(219, 219, 219)', gridcolor='rgb(219, 219, 219)', mirror=True,range=[0,1],title_font=dict(size=17),tickfont=dict(size=17)),\n",
    "              plot_bgcolor='rgba(0,0,0,0)',\n",
    "              font=dict(size=20)\n",
    "              )\n",
    "\n",
    "fig = dict(data=data, layout=layout)\n",
    "py.offline.iplot(fig, filename='frequency-all-devices.png')\n",
    "pio.write_image(fig, 'all-devices-cumulative-frequency.pdf', width=1000, height=600)\n",
    "\n",
    "# What I did:\n",
    "# 1. For all devices (carrier + model), calculated the frequency ratio\n",
    "    # Meaning each device could be a duplicate model (i.e., Samsung Galaxy S9 on T-Mobile and Verizon)\n",
    "# 2. Sorted via frequency rate and increased y-axis as more models are added (CDF graph)\n",
    "# 3. Because of data messiness, I removed ONE model that reported 2 as a frequency which shouldn't be feasible..."
   ]
  },
  {
   "cell_type": "code",
   "execution_count": null,
   "metadata": {},
   "outputs": [],
   "source": []
  }
 ],
 "metadata": {
  "kernelspec": {
   "display_name": "Python 3",
   "language": "python",
   "name": "python3"
  },
  "language_info": {
   "codemirror_mode": {
    "name": "ipython",
    "version": 3
   },
   "file_extension": ".py",
   "mimetype": "text/x-python",
   "name": "python",
   "nbconvert_exporter": "python",
   "pygments_lexer": "ipython3",
   "version": "3.6.10"
  }
 },
 "nbformat": 4,
 "nbformat_minor": 4
}
