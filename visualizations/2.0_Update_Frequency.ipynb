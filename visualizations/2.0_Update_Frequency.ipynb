{
 "cells": [
  {
   "cell_type": "markdown",
   "metadata": {},
   "source": [
    "# TODO: REMOVE VERIZON!!!"
   ]
  },
  {
   "cell_type": "code",
   "execution_count": 1,
   "metadata": {},
   "outputs": [
    {
     "data": {
      "text/html": [
       "        <script type=\"text/javascript\">\n",
       "        window.PlotlyConfig = {MathJaxConfig: 'local'};\n",
       "        if (window.MathJax) {MathJax.Hub.Config({SVG: {font: \"STIX-Web\"}});}\n",
       "        if (typeof require !== 'undefined') {\n",
       "        require.undef(\"plotly\");\n",
       "        requirejs.config({\n",
       "            paths: {\n",
       "                'plotly': ['https://cdn.plot.ly/plotly-latest.min']\n",
       "            }\n",
       "        });\n",
       "        require(['plotly'], function(Plotly) {\n",
       "            window._Plotly = Plotly;\n",
       "        });\n",
       "        }\n",
       "        </script>\n",
       "        "
      ]
     },
     "metadata": {},
     "output_type": "display_data"
    },
    {
     "name": "stdout",
     "output_type": "stream",
     "text": [
      "  Carrier Manufacture               Model Release_Date Bulletin_Level  \\\n",
      "0    AT&T        ASUS      ASUS PadFone X   2015-12-30     2015-12-01   \n",
      "1    AT&T     Alcatel  Alcatel IdealXCITE   2018-04-03     2018-02-01   \n",
      "2    AT&T     Alcatel  Alcatel IdealXCITE   2018-10-24     2018-08-01   \n",
      "3    AT&T     Alcatel  Alcatel IdealXCITE   2018-12-18     2018-10-01   \n",
      "4    AT&T  BlackBerry   BlackBerry KEYone   2017-09-26     2017-09-01   \n",
      "\n",
      "   difference Android_Level_Guessed  \\\n",
      "0        23.0                  True   \n",
      "1        57.0                 False   \n",
      "2        79.0                 False   \n",
      "3        78.0                 False   \n",
      "4        21.0                 False   \n",
      "\n",
      "                                               build  Year_Phone_Release  \\\n",
      "0              M3.15.53.P5 ATT_11.10.11.1 11.10.11.1                2014   \n",
      "1        JO.2.0.c1-00150-8909_GEN_PACK-1 nan YAMUAM0                2017   \n",
      "2        JO.2.0.c1-00267-8909_GEN_PACK-2 nan YAYUAY0                2017   \n",
      "3        JO.2.0.c1-00267-8909_GEN_PACK-2 YB3UA30 nan                2017   \n",
      "4  MPSS.TA.2.3.c1-00333-8953_GEN_PACK-1.103777.4....                2017   \n",
      "\n",
      "   Month_Phone_Release Bulletin_Publish_Date  \n",
      "0                    7            2015-12-07  \n",
      "1                    6            2018-02-05  \n",
      "2                    6            2018-08-06  \n",
      "3                    6            2018-10-01  \n",
      "4                    4            2017-09-05  \n"
     ]
    }
   ],
   "source": [
    "import pandas as pd\n",
    "import numpy as np\n",
    "import researchpy # pip install researchpy\n",
    "import statistics\n",
    "\n",
    "import plotly as py\n",
    "import plotly.graph_objs as go\n",
    "py.offline.init_notebook_mode(connected=True)\n",
    "import plotly.io as pio\n",
    "pio.orca.config.executable = '/Users/kjo/anaconda3/bin/orca'\n",
    "%config InlineBackend.figure_format = 'svg'\n",
    "\n",
    "\n",
    "carrierDF=pd.read_csv('../data/allCarrierData_final.csv')\n",
    "carrierDF.Manufacture=carrierDF.Manufacture.str.replace(\"Samgung\",\"Samsung\")\n",
    "carrierDF.difference=carrierDF.difference.astype('float')\n",
    "\n",
    "\n",
    "carrierDF=carrierDF[carrierDF.Carrier!=\"Verizon\"] # remove verizon\n",
    "\n",
    "\n",
    "#save the figures?\n",
    "saveFigs=True\n",
    "\n",
    "print(carrierDF.head())"
   ]
  },
  {
   "cell_type": "code",
   "execution_count": 8,
   "metadata": {},
   "outputs": [
    {
     "name": "stdout",
     "output_type": "stream",
     "text": [
      "      Carrier Manufacture        Model Release_Date Bulletin_Level  \\\n",
      "20       AT&T      Google      Pixel 4   2019-12-16     2019-11-01   \n",
      "21       AT&T      Google   Pixel 4 XL   2019-12-16     2019-11-01   \n",
      "409    Sprint      Google      Pixel 3   2019-05-08     2019-05-01   \n",
      "410    Sprint      Google   Pixel 3 XL   2019-05-08     2019-05-01   \n",
      "773  T-Mobile      Google      Pixel 3   2019-07-26     2019-08-01   \n",
      "774  T-Mobile      Google   Pixel 3 XL   2019-07-26     2019-08-01   \n",
      "775  T-Mobile      Google     Pixel 3a   2019-05-30     2019-05-01   \n",
      "776  T-Mobile      Google     Pixel 3a   2019-07-26     2019-08-01   \n",
      "777  T-Mobile      Google  Pixel 3a XL   2019-05-30     2019-05-01   \n",
      "778  T-Mobile      Google  Pixel 3a XL   2019-07-26     2019-08-01   \n",
      "\n",
      "     difference Android_Level_Guessed  \\\n",
      "20         42.0                   NaN   \n",
      "21         42.0                   NaN   \n",
      "409         2.0                 False   \n",
      "410         2.0                 False   \n",
      "773       -10.0                  True   \n",
      "774       -10.0                  True   \n",
      "775        24.0                  True   \n",
      "776       -10.0                  True   \n",
      "777        24.0                  True   \n",
      "778       -10.0                  True   \n",
      "\n",
      "                                        build  Year_Phone_Release  \\\n",
      "20                                nan nan nan                2019   \n",
      "21                                nan nan nan                2019   \n",
      "409                           PQ3A.190505.002                2018   \n",
      "410                           PQ3A.190505.002                2018   \n",
      "773  android 9.0build number: pq3a.190801.002                2018   \n",
      "774  android 9.0build number: pq3a.190801.002                2018   \n",
      "775  android 9.0build number: pq3b.190605.006                2019   \n",
      "776  android 9.0build number: pq3b.190801.002                2019   \n",
      "777   android 9.0build number:pq3b.190605.006                2019   \n",
      "778  android 9.0build number: pq3b.190801.002                2019   \n",
      "\n",
      "     Month_Phone_Release Bulletin_Publish_Date  \n",
      "20                    10            2019-11-04  \n",
      "21                    10            2019-11-04  \n",
      "409                   11            2019-05-06  \n",
      "410                   11            2019-05-06  \n",
      "773                   11            2019-08-05  \n",
      "774                   11            2019-08-05  \n",
      "775                    5            2019-05-06  \n",
      "776                    5            2019-08-05  \n",
      "777                    5            2019-05-06  \n",
      "778                    5            2019-08-05  \n"
     ]
    }
   ],
   "source": [
    "print(carrierDF[(carrierDF.Manufacture==\"Google\")])"
   ]
  },
  {
   "cell_type": "code",
   "execution_count": 2,
   "metadata": {},
   "outputs": [],
   "source": [
    "lvlColor={}\n",
    "carrierColors={'AT&T':[64, 190, 245],'Sprint':[255,162,0],'T-Mobile':[255,0,238],'Verizon':[255,21,0]}\n",
    "for index,carrier in enumerate(carrierDF.Carrier.unique()):\n",
    "    if not carrier in lvlColor:\n",
    "        #randx=random.randint(0,255)\n",
    "        #randy=random.randint(0,255)\n",
    "        #randz=random.randint(0,255)\n",
    "        #lvlColor[carrier]=(randx, randy, randz)\n",
    "        lvlColor[carrier]=(carrierColors[carrier][0], carrierColors[carrier][1], carrierColors[carrier][2])"
   ]
  },
  {
   "cell_type": "code",
   "execution_count": 3,
   "metadata": {},
   "outputs": [
    {
     "name": "stdout",
     "output_type": "stream",
     "text": [
      "['AT&T' 'Sprint' 'T-Mobile']\n",
      "['ASUS' 'Alcatel' 'BlackBerry' 'Google' 'HTC' 'Huawei' 'Kyocera' 'LG'\n",
      " 'Motorola' 'RED' 'Razer' 'Samsung' 'ZTE' 'CAT' 'Coolpad' 'Essential'\n",
      " 'Slate' 'Sonim' 'OnePlus' 'Revvl(T-Mobile)' 'Sony']\n"
     ]
    }
   ],
   "source": [
    "uniqueCarriers=carrierDF.Carrier.unique()\n",
    "uniqueManufactures=carrierDF.Manufacture.unique()\n",
    "\n",
    "lvlColor={}\n",
    "carrierColors={'AT&T':[64, 190, 245],'Sprint':[255,162,0],'T-Mobile':[255,0,238],'Verizon':[255,21,0]}\n",
    "print(uniqueCarriers)\n",
    "for index,carrier in enumerate(uniqueCarriers):\n",
    "    if not carrier in lvlColor:\n",
    "        lvlColor[carrier]=(carrierColors[carrier][0], carrierColors[carrier][1], carrierColors[carrier][2])\n",
    "\n",
    "manufactureColors={'BlackBerry':[38, 38, 38],'HTC':[189, 15, 108],'LG':[245, 17, 108],'Motorola':[1, 11, 120],\n",
    "                   'Samsung':[10, 63, 148],'Google':[137, 214, 60],'Huawei':[191, 11, 11],\n",
    "                   'Kyocera':[245, 118, 118],'ZTE':[102, 255, 247],'Essential':[20, 10, 46],\n",
    "                   'ASUS':[12, 55, 59],'OnePlus':[227, 34, 73],'Alcatel':[0, 188, 217],\n",
    "                   'RED':[219, 0, 0],'Razer':[219, 0, 0],'CAT':[255, 179, 0],'Coolpad':[237, 150, 0],\n",
    "                   'Slate':[50, 0, 61],\"Sonim\":[219, 0, 22],\"Sony\":[23, 23, 23],'Revvl(T-Mobile)':[255,0,238],\n",
    "                   \"Nokia\":[14, 0, 171],'Orbic':[139, 214, 0],\"Palm\":[255,21,0]}\n",
    "print(uniqueManufactures)\n",
    "# colors to work with: https://www.google.com/search?q=rgb+color+picker&oq=rgb+colo&aqs=chrome.0.69i59j0j69i57j0l3.1905j1j7&sourceid=chrome&ie=UTF-8\n",
    "for index,manufacture in enumerate(uniqueManufactures):\n",
    "    if not manufacture in lvlColor:\n",
    "        lvlColor[manufacture]=(manufactureColors[manufacture][0], manufactureColors[manufacture][1], manufactureColors[manufacture][2])\n",
    "        \n",
    "        "
   ]
  },
  {
   "cell_type": "code",
   "execution_count": 4,
   "metadata": {
    "scrolled": false
   },
   "outputs": [],
   "source": [
    "# Number of bulletins per year for a phone\n",
    "\n",
    "# Calculate the dates of the first year which consists of the NEXT month from the release into the next year.\n",
    "nextMonth=carrierDF.Month_Phone_Release.copy()\n",
    "nextMonth=nextMonth.add(1)\n",
    "nextYear=carrierDF.Year_Phone_Release.copy()\n",
    "nextYear=nextYear.add(1)\n",
    "for index, month in enumerate(nextMonth):\n",
    "        if month > 12: # meaning a new year!\n",
    "            nextMonth.iloc[index]=1\n",
    "            nextYear.iloc[index]+=1\n",
    "\n",
    "\n",
    "# #print(carrierDF.head())\n",
    "\n",
    "######################################################################### \n",
    "################## SET HOW MANY MONTHS OF UPDATES HERE ################## \n",
    "######################################################################### \n",
    "#howManyMonths=12 # # For year 1 through 4...\n",
    "howManyMonths=6 # For every 6 months\n",
    "#howManyMonths=3 # For every 3 months after release\n",
    "######################################################################### \n",
    "if howManyMonths==12:\n",
    "    latencyPointsCar_total={}\n",
    "    for car in carrierDF.Carrier.unique():\n",
    "        latencyPointsCar_total[car]={}\n",
    "        for yr in range(4):\n",
    "            latencyPointsCar_total[car][yr]=0\n",
    "    #For each month that is greater than 12, set to 1 and add 1 to the year\n",
    "    carrierDF['First_Year_Start']=carrierDF.Year_Phone_Release.map(str)+\"-\"+nextMonth.map(str)+\"-01\"\n",
    "    carrierDF['First_Year_Start']=pd.to_datetime(carrierDF['First_Year_Start'])\n",
    "    carrierDF['First_Year_End']=nextYear.map(str)+\"-\"+nextMonth.map(str)+\"-01\"\n",
    "    carrierDF['First_Year_End']=pd.to_datetime(carrierDF['First_Year_End'])\n",
    "\n",
    "    carrierDF['Second_Year_Start']=nextYear.map(str)+\"-\"+nextMonth.map(str)+\"-01\"\n",
    "    carrierDF['Second_Year_Start']=pd.to_datetime(carrierDF['Second_Year_Start'])\n",
    "    nextYear=nextYear.copy().add(1)\n",
    "    carrierDF['Second_Year_End']=nextYear.map(str)+\"-\"+nextMonth.map(str)+\"-01\"\n",
    "    carrierDF['Second_Year_End']=pd.to_datetime(carrierDF['Second_Year_End'])\n",
    "\n",
    "    carrierDF['Third_Year_Start']=nextYear.map(str)+\"-\"+nextMonth.map(str)+\"-01\"\n",
    "    carrierDF['Third_Year_Start']=pd.to_datetime(carrierDF['Third_Year_Start'])\n",
    "    nextYear=nextYear.copy().add(1)\n",
    "    carrierDF['Third_Year_End']=nextYear.map(str)+\"-\"+nextMonth.map(str)+\"-01\"\n",
    "    carrierDF['Third_Year_End']=pd.to_datetime(carrierDF['Third_Year_End'])\n",
    "\n",
    "    carrierDF['Fourth_Year_Start']=nextYear.map(str)+\"-\"+nextMonth.map(str)+\"-01\"\n",
    "    carrierDF['Fourth_Year_Start']=pd.to_datetime(carrierDF['Fourth_Year_Start'])\n",
    "    nextYear=nextYear.copy().add(1)\n",
    "    carrierDF['Fourth_Year_End']=nextYear.map(str)+\"-\"+nextMonth.map(str)+\"-01\"\n",
    "    carrierDF['Fourth_Year_End']=pd.to_datetime(carrierDF['Fourth_Year_End'])\n",
    "\n",
    "    importantCols=[['First_Year_Start','First_Year_End'],['Second_Year_Start','Second_Year_End'],['Third_Year_Start','Third_Year_End'],['Fourth_Year_Start','Fourth_Year_End']]\n",
    "    counts=[[0,0],[0,0],[0,0],[0,0]] # Each list represents a year with the number of phones followed by overall updates\n",
    "    indvCounts=[[],[],[],[]]\n",
    "    latencyPoints=[[],[],[],[]]\n",
    "    noUpdates=[0,0,0,0]\n",
    "elif howManyMonths==6:\n",
    "    latencyPointsCar_total={}\n",
    "    for car in carrierDF.Carrier.unique():\n",
    "        latencyPointsCar_total[car]={}\n",
    "        for hfyear in range(8):\n",
    "            latencyPointsCar_total[car][hfyear]=0\n",
    "            \n",
    "    carrierDF['Mobile_Release_Date']=carrierDF.Year_Phone_Release.map(str)+\"-\"+carrierDF.Month_Phone_Release.map(str)+\"-01\"\n",
    "    carrierDF['Mobile_Release_Date']=pd.to_datetime(carrierDF['Mobile_Release_Date'])\n",
    "    carrierDF['Mobile_Release_Date']=carrierDF['Mobile_Release_Date']+ pd.offsets.MonthOffset(1)\n",
    "    \n",
    "    importantCols=[['First_1Year_Start','First_1Year_End'],['Second_1Year_Start','Second_1Year_End'],['First_2Year_Start','First_2Year_End'],['Second_2Year_Start','Second_2Year_End'],['First_3Year_Start','First_3Year_End'],['Second_3Year_Start','Second_3Year_End'],['First_4Year_Start','First_4Year_End'],['Second_4Year_Start','Second_4Year_End']]\n",
    "    \n",
    "    carrierDF['First_1Year_Start']=carrierDF.Year_Phone_Release.map(str)+\"-\"+nextMonth.map(str)+\"-01\"\n",
    "    carrierDF['First_1Year_Start']=pd.to_datetime(carrierDF['First_1Year_Start'])\n",
    "    carrierDF['First_1Year_End']=carrierDF['First_1Year_Start'] + pd.offsets.MonthOffset(6)\n",
    "\n",
    "    carrierDF['Second_1Year_Start']=carrierDF['First_1Year_End'].copy()\n",
    "    carrierDF['Second_1Year_End']=carrierDF['Second_1Year_Start'] + pd.offsets.MonthOffset(6)\n",
    "\n",
    "    carrierDF['First_2Year_Start']=carrierDF['Second_1Year_End'].copy()\n",
    "    carrierDF['First_2Year_End']=carrierDF['First_2Year_Start'] + pd.offsets.MonthOffset(6)\n",
    "\n",
    "    carrierDF['Second_2Year_Start']=carrierDF['First_2Year_End'].copy()\n",
    "    carrierDF['Second_2Year_End']=carrierDF['Second_2Year_Start'] + pd.offsets.MonthOffset(6)\n",
    "            \n",
    "    carrierDF['First_3Year_Start']=carrierDF['Second_2Year_End'].copy()\n",
    "    carrierDF['First_3Year_End']=carrierDF['First_3Year_Start'] + pd.offsets.MonthOffset(6)\n",
    "\n",
    "    carrierDF['Second_3Year_Start']=carrierDF['First_3Year_End'].copy()\n",
    "    carrierDF['Second_3Year_End']=carrierDF['Second_3Year_Start'] + pd.offsets.MonthOffset(6)\n",
    "\n",
    "    carrierDF['First_4Year_Start']=carrierDF['Second_3Year_End'].copy()\n",
    "    carrierDF['First_4Year_End']=carrierDF['First_4Year_Start'] + pd.offsets.MonthOffset(6)\n",
    "\n",
    "    carrierDF['Second_4Year_Start']=carrierDF['First_4Year_End'].copy()\n",
    "    carrierDF['Second_4Year_End']=carrierDF['Second_4Year_Start'] + pd.offsets.MonthOffset(6)\n",
    "    \n",
    "    counts=[[0,0],[0,0],[0,0],[0,0],[0,0],[0,0],[0,0],[0,0]] # Each list represents a year with the number of phones followed by overall updates\n",
    "    indvCounts=[[],[],[],[],[],[],[],[]]\n",
    "    indvCounts_all=[[],[],[],[],[],[],[],[]]\n",
    "    latencyPoints=[[],[],[],[],[],[],[],[]]\n",
    "    noUpdates=[0,0,0,0,0,0,0,0]\n",
    "    \n",
    "elif howManyMonths==3:\n",
    "    latencyPointsCar_total={}\n",
    "    for car in carrierDF.Carrier.unique():\n",
    "        latencyPointsCar_total[car]={}\n",
    "        for hfyear in range(int((12/howManyMonths)*4)):\n",
    "            latencyPointsCar_total[car][hfyear]=0\n",
    "            \n",
    "    carrierDF['Mobile_Release_Date']=carrierDF.Year_Phone_Release.map(str)+\"-\"+carrierDF.Month_Phone_Release.map(str)+\"-01\"\n",
    "    carrierDF['Mobile_Release_Date']=pd.to_datetime(carrierDF['Mobile_Release_Date'])\n",
    "    carrierDF['Mobile_Release_Date']=carrierDF['Mobile_Release_Date']+ pd.offsets.MonthOffset(1)\n",
    "    \n",
    "    importantCols=[['1_1Year_Start','1_1Year_End'],['2_1Year_Start','2_1Year_End'],['3_1Year_Start','3_1Year_End'],['4_1Year_Start','4_1Year_End'],\n",
    "                   ['1_2Year_Start','1_2Year_End'],['2_2Year_Start','2_2Year_End'],['3_2Year_Start','3_2Year_End'],['4_2Year_Start','4_2Year_End'],\n",
    "                   ['1_3Year_Start','1_3Year_End'],['2_3Year_Start','2_3Year_End'],['3_3Year_Start','3_3Year_End'],['4_3Year_Start','4_3Year_End'],\n",
    "                   ['1_4Year_Start','1_4Year_End'],['2_4Year_Start','2_4Year_End'],['3_4Year_Start','3_4Year_End'],['4_4Year_Start','4_4Year_End']\n",
    "                  ]\n",
    "    \n",
    "    for index,value in enumerate(importantCols):\n",
    "        if index==0:\n",
    "            carrierDF[str(value[0])]=carrierDF.Year_Phone_Release.map(str)+\"-\"+nextMonth.map(str)+\"-01\"\n",
    "            carrierDF[str(value[0])]=pd.to_datetime(carrierDF[str(value[0])])\n",
    "            carrierDF[str(value[1])]=carrierDF[str(value[0])] + pd.offsets.MonthOffset(3)\n",
    "        else:\n",
    "            carrierDF[str(value[0])]=carrierDF[importantCols[index-1][1]].copy()\n",
    "            carrierDF[str(value[1])]=carrierDF[str(value[0])] + pd.offsets.MonthOffset(3)\n",
    "                    \n",
    "    counts=[[0,0] for _ in range(int(12/howManyMonths)*4)] # Each list represents a year with the number of phones followed by overall updates\n",
    "    indvCounts=[[] for _ in range(int(12/howManyMonths)*4)]\n",
    "    latencyPoints=[[] for _ in range(int(12/howManyMonths)*4)]\n",
    "    noUpdates=[0 for _ in range(int(12/howManyMonths)*4)]\n",
    "    \n",
    "carrierDF.Bulletin_Level=pd.to_datetime(carrierDF.Bulletin_Level)\n",
    "carrierDF.Release_Date=pd.to_datetime(carrierDF.Release_Date)\n",
    "THE_START_OF_TIMELINE=np.argmin(carrierDF.Bulletin_Level.values)\n",
    "THE_START_OF_TIMELINE=carrierDF.iloc[THE_START_OF_TIMELINE].Bulletin_Level\n",
    "\n",
    "THE_END_OF_TIMELINE=np.argmax(carrierDF.Bulletin_Level.values)\n",
    "THE_END_OF_TIMELINE=carrierDF.iloc[THE_END_OF_TIMELINE].Bulletin_Level\n",
    "# print(THE_START_OF_TIMELINE)\n",
    "# print(THE_END_OF_TIMELINE)\n",
    "\n",
    "allModels=[]\n",
    "allModelsperDuration={}\n",
    "for yr in range(int(12/howManyMonths)*4):\n",
    "    allModelsperDuration[yr]=list()\n",
    "\n",
    "uniqueCars=carrierDF.Carrier.unique()\n",
    "count=0\n",
    "for model in carrierDF.Model.unique():\n",
    "    tempDFs=carrierDF[carrierDF.Model==model]\n",
    "    for index, year in enumerate(importantCols): # traverse through section\n",
    "        yrBEG=tempDFs[year[0]].iloc[0]#.unique()[0]\n",
    "        yrEND=tempDFs[year[1]].iloc[0]#.unique()[0]\n",
    "\n",
    "        #print(str(yrBEG)+\" ; \"+str(yrEND))\n",
    "        if yrBEG >= THE_START_OF_TIMELINE and yrEND < THE_END_OF_TIMELINE: #the particular year is fully within our timeline :)\n",
    "            counts[index][1]+=1 # add a mobile device to count even if it wasn't updated within this time frame\n",
    "            \n",
    "            # IF WE WERE TO CHANGE HOW WE MEASURE, this would be on bulletins NOT the release dates\n",
    "            #tempDF=tempDFs[(tempDFs.Release_Date >= yrBEG) & (tempDFs.Release_Date < yrEND)]# filtered release dates accordingly\n",
    "            \n",
    "            tempDF=tempDFs[(tempDFs.Bulletin_Level >= yrBEG) & (tempDFs.Bulletin_Level < yrEND)]\n",
    "            \n",
    "            actualUpdates=0\n",
    "            if len(tempDF)>0: # meaning an update was reported but if DF==0, it didn't fall within that year\n",
    "                for bul in tempDF.Bulletin_Level.unique(): # for all updated bulletins\n",
    "                    #if pd.to_datetime(bul) >= yrBEG and pd.to_datetime(bul) < yrEND: #the bulletin was released within this timeframe\n",
    "                    if True: # for the above\n",
    "                        tmp=tempDF[tempDF.Bulletin_Level==bul]\n",
    "                        if len(tmp)>1:\n",
    "                            if len(tmp.Carrier.unique())>1:\n",
    "                                for car in tmp.Carrier.unique(): \n",
    "                                    latencyPointsCar_total[car][index]=latencyPointsCar_total[car][index]+1\n",
    "                            avgs=tmp.difference.mean()\n",
    "                            latencyPoints[index].append(avgs)\n",
    "                        else:\n",
    "                            latencyPoints[index].extend(tmp.difference.values)\n",
    "                            for car in tmp.Carrier.unique():\n",
    "                                latencyPointsCar_total[car][index]=latencyPointsCar_total[car][index]+1\n",
    "                        actualUpdates+=1 # for each update\n",
    "                if actualUpdates>6:\n",
    "                    print(str(yrBEG)+\" : \"+str(yrEND))\n",
    "                    print(tempDF)\n",
    "                    print()\n",
    "                counts[index][0]+=actualUpdates\n",
    "                indvCounts[index].append(actualUpdates)\n",
    "                if actualUpdates == 0:\n",
    "                    noUpdates[index]+=1\n",
    "                else:\n",
    "                    allModels.append(model)\n",
    "                    allModelsperDuration[index].append(model)\n",
    "            else:\n",
    "                noUpdates[index]+=1\n",
    "            indvCounts_all[index].append(actualUpdates)\n",
    "            "
   ]
  },
  {
   "cell_type": "code",
   "execution_count": 5,
   "metadata": {},
   "outputs": [
    {
     "name": "stdout",
     "output_type": "stream",
     "text": [
      "Number of updates, Number of phones\n",
      "[[213, 120], [210, 116], [177, 102], [167, 111], [111, 100], [84, 93], [9, 81], [6, 63]]\n",
      "Phones Updating:\n",
      "[85, 88, 64, 66, 42, 29, 8, 5]\n",
      "No Updates:\n",
      "[35, 28, 38, 45, 58, 64, 73, 58]\n",
      "----------------------------\n",
      "Avg bulletins at half year 0 1.775\n",
      "Avg bulletins at half year 0 1.8103448275862069\n",
      "Avg bulletins at half year 1 1.7352941176470589\n",
      "Avg bulletins at half year 1 1.5045045045045045\n",
      "Avg bulletins at half year 2 1.11\n",
      "Avg bulletins at half year 2 0.9032258064516129\n",
      "Avg bulletins at half year 3 0.1111111111111111\n",
      "Avg bulletins at half year 3 0.09523809523809523\n",
      "Average bulletins per 6 months: 1.1305898078173235\n",
      "Number of Unique Models Across Frequency: \n",
      "159\n"
     ]
    }
   ],
   "source": [
    "if not \"Verizon\" in carrierDF.Carrier.values: # only output if no Verizon\n",
    "    if howManyMonths == 12:\n",
    "        # Calculate general stats\n",
    "        print(\"Number of updates, Number of phones\")\n",
    "        print(counts)\n",
    "        print(\"Phones Updating:\")\n",
    "        updatedPh=[]\n",
    "        for i in range(len(noUpdates)):\n",
    "            updatedPh.append(counts[i][1]-value[i])\n",
    "        print(updatedPh)\n",
    "        print(\"No Updates:\")\n",
    "        print(noUpdates)\n",
    "        print(\"Number of Updates Across each Year: \")\n",
    "        print(indvCounts)\n",
    "\n",
    "        for car in carrierDF.Carrier.unique():\n",
    "            print(latencyPointsCar_total[car])\n",
    "        print()\n",
    "        #print(\"Updates with Difference Across each Year: \")\n",
    "        #print(latencyPoints)\n",
    "        print(\"----------------------------\")\n",
    "        totals=0\n",
    "        for index, values in enumerate(counts):\n",
    "            avg=values[0]/values[1]\n",
    "            print(\"Avg bulletins at year \" + str(index+1) + \" \" + str(avg))\n",
    "            totals+=avg\n",
    "        print(\"Average bulletins per year: \" + str(totals/4))\n",
    "    elif howManyMonths == 6:\n",
    "        # Calculate general stats\n",
    "        print(\"Number of updates, Number of phones\")\n",
    "        print(counts)\n",
    "        print(\"Phones Updating:\")\n",
    "        updatedPh=[]\n",
    "        for i in range(len(noUpdates)):\n",
    "            updatedPh.append(counts[i][1]-noUpdates[i])\n",
    "        print(updatedPh)\n",
    "        print(\"No Updates:\")\n",
    "        print(noUpdates)\n",
    "        print(\"----------------------------\")\n",
    "        totals=0\n",
    "        for index, values in enumerate(counts):\n",
    "            avg=values[0]/values[1]\n",
    "            print(\"Avg bulletins at half year \" + str(int((int(index+1)/2)-.3)) + \" \" + str(avg))\n",
    "            totals+=avg\n",
    "        print(\"Average bulletins per 6 months: \" + str(totals/int((12/howManyMonths)*4)))\n",
    "\n",
    "    elif howManyMonths == 3:\n",
    "        # Calculate general stats\n",
    "        print(\"Number of updates, Number of phones\")\n",
    "        print(counts)\n",
    "\n",
    "        print(\"Phones Updating:\")\n",
    "        updatedPh=[]\n",
    "        for i,value in range(len(noUpdates)):\n",
    "            updatedPh.append(counts[i][1]-value)\n",
    "        print(updatedPh)\n",
    "        print(\"Phones Not Updating:\")\n",
    "        print(noUpdates)\n",
    "\n",
    "        for car in carrierDF.Carrier.unique():\n",
    "            print(latencyPointsCar_total[car])\n",
    "        print()\n",
    "        #print(\"Updates with Difference Across each Year: \")\n",
    "        #print(latencyPoints)\n",
    "        print(\"----------------------------\")\n",
    "        totals=0\n",
    "        year=0\n",
    "        for index, values in enumerate(counts):\n",
    "            avg=values[0]/values[1]\n",
    "            print(\"Avg bulletins at \"+str(int(index%(12/howManyMonths))+1)+\" partial year \" + str(year+1) + \" : \" + str(avg))\n",
    "            totals+=avg\n",
    "            if int(index%(12/howManyMonths)+1)==4:\n",
    "                year+=1\n",
    "        print(\"Average bulletins per 3 months: \" + str(totals/int((12/howManyMonths)*4)))\n",
    "\n",
    "\n",
    "    print(\"Number of Unique Models Across Frequency: \")\n",
    "    print(len(set(allModels)))\n",
    "\n",
    "if howManyMonths == 12:\n",
    "    latencyPointsCar={}\n",
    "    for car in carrierDF.Carrier.unique():\n",
    "        latencyPointsCar[car]={}\n",
    "        for yr in range(4):\n",
    "            latencyPointsCar[car][yr]=list()\n",
    "\n",
    "    freqPointsCar={}\n",
    "    for car in carrierDF.Carrier.unique():\n",
    "        freqPointsCar[car]={}\n",
    "        for yr in range(4):\n",
    "            freqPointsCar[car][yr]=list()\n",
    "elif howManyMonths==6 or howManyMonths==3:\n",
    "    latencyPointsCar={}\n",
    "    for car in carrierDF.Carrier.unique():\n",
    "        latencyPointsCar[car]={}\n",
    "        for yr in range(int(12/howManyMonths)*4):\n",
    "            latencyPointsCar[car][yr]=list()\n",
    "\n",
    "    freqPointsCar={}\n",
    "    freqPointsCarAllDevices={}\n",
    "    for car in carrierDF.Carrier.unique():\n",
    "        freqPointsCar[car]={}\n",
    "        freqPointsCarAllDevices[car]={}\n",
    "        for yr in range(int(12/howManyMonths)*4):\n",
    "            freqPointsCar[car][yr]=list()\n",
    "            freqPointsCarAllDevices[car][yr]=list()\n",
    "        \n",
    "count=0\n",
    "# for each mobile in row (2017-07-01 TO 2019-06-01 (if year fits within this time line, we calculate accordingly))\n",
    "for car in carrierDF.Carrier.unique():\n",
    "    tmpCar=carrierDF[carrierDF.Carrier==car]\n",
    "    for model in tmpCar.Model.unique():\n",
    "        tempDFs=tmpCar[tmpCar.Model==model]\n",
    "        for index, year in enumerate(importantCols): # traverse through each year\n",
    "            yrBEG=tempDFs[year[0]].iloc[0]#.unique()[0]\n",
    "            yrEND=tempDFs[year[1]].iloc[0]#.unique()[0]\n",
    "\n",
    "            if yrBEG >= THE_START_OF_TIMELINE and yrEND < THE_END_OF_TIMELINE: #the particular year is fully within our timeline :)\n",
    "                # filtered release dates accordingly\n",
    "                #tempDF=tempDFs[(tempDFs.Release_Date >= yrBEG) & (tempDFs.Release_Date < yrEND)]\n",
    "                tempDF=tempDFs[(tempDFs.Bulletin_Level >= yrBEG) & (tempDFs.Bulletin_Level < yrEND)]\n",
    "                \n",
    "                actualUpdates=0\n",
    "                if len(tempDF)>0: # meaning an update was reported but if DF==0, it didn't fall within that year\n",
    "                    for bul in tempDF.Bulletin_Level.unique():\n",
    "                        #if pd.to_datetime(bul) >= yrBEG and pd.to_datetime(bul) < yrEND:\n",
    "                        if True: # comment this out if we filter OG by release date and not bulletin\n",
    "                            tmp=tempDF[tempDF.Bulletin_Level==bul]\n",
    "                            if len(tmp)>1:\n",
    "                                print(\"how\")\n",
    "                            if len(tmp)>0:\n",
    "                                actualUpdates+=1 # for each update  \n",
    "                                latencyPointsCar[car][index].extend(tmp.difference.values)\n",
    "                    if actualUpdates>0:\n",
    "                        freqPointsCar[car][index].append(actualUpdates)\n",
    "                freqPointsCarAllDevices[car][index].append(actualUpdates) # this includes devices within the timeframe but maybe no updates\n",
    "               \n",
    "    "
   ]
  },
  {
   "cell_type": "code",
   "execution_count": 6,
   "metadata": {
    "scrolled": false
   },
   "outputs": [
    {
     "name": "stdout",
     "output_type": "stream",
     "text": [
      "0\n",
      "18.927230046948356\n",
      "\n",
      "1\n",
      "21.79206349206349\n",
      "\n",
      "2\n",
      "21.27024482109228\n",
      "\n",
      "3\n",
      "22.74750499001996\n",
      "\n",
      "4\n",
      "21.01801801801802\n",
      "\n",
      "5\n",
      "23.886904761904763\n",
      "\n",
      "6\n",
      "12.777777777777779\n",
      "\n",
      "7\n",
      "9.0\n",
      "\n"
     ]
    },
    {
     "data": {
      "application/vnd.plotly.v1+json": {
       "config": {
        "linkText": "Export to plot.ly",
        "plotlyServerURL": "https://plot.ly",
        "showLink": false
       },
       "data": [
        {
         "boxpoints": "all",
         "marker": {
          "color": "rgb(31, 119, 180)"
         },
         "name": "1st",
         "showlegend": false,
         "type": "box",
         "y": [
          21,
          29,
          42,
          32,
          64,
          29,
          45,
          3,
          18.5,
          1,
          21,
          28,
          22,
          10,
          15,
          19,
          1,
          25,
          29,
          4,
          36.666666666666664,
          25.5,
          25.5,
          11,
          25,
          28,
          37,
          9,
          23,
          36,
          6.5,
          14,
          2,
          29,
          21.5,
          49,
          18,
          15,
          16,
          1,
          16,
          23,
          36,
          18,
          56,
          36,
          10,
          11,
          15,
          12.5,
          32,
          10,
          17,
          0,
          26,
          3.5,
          0,
          43,
          15.666666666666666,
          20.5,
          25.5,
          16.666666666666668,
          10,
          15.5,
          35.5,
          13.5,
          37,
          28,
          28,
          15,
          10.5,
          25,
          4,
          14,
          15,
          11,
          26.5,
          10.5,
          39,
          24,
          14,
          6,
          21,
          8.5,
          14.5,
          0,
          2,
          6,
          16,
          24,
          20.5,
          8.5,
          21.5,
          6,
          9,
          14,
          43,
          20.5,
          19,
          17,
          21.5,
          25,
          9,
          14,
          37,
          29,
          17,
          20.5,
          16,
          11,
          11,
          29,
          17,
          16,
          11,
          6,
          11,
          20,
          36,
          52,
          91,
          35,
          57,
          46,
          29,
          2,
          2,
          30,
          -5,
          1,
          14,
          23,
          35,
          0,
          0,
          28,
          15.5,
          29,
          -3,
          2,
          7,
          24,
          46,
          32,
          21,
          0,
          0,
          0,
          25,
          22,
          28,
          13,
          1,
          32,
          29,
          19,
          24,
          15,
          0,
          22,
          30,
          -6,
          7,
          3,
          25,
          23,
          5,
          11,
          3.5,
          -6,
          0,
          42,
          29,
          17,
          23,
          9,
          7,
          17,
          25,
          0,
          18,
          18,
          7,
          7,
          14,
          21,
          18,
          7,
          14,
          0,
          7,
          43,
          42,
          49,
          13,
          9,
          29,
          7,
          -4,
          -4,
          5,
          88,
          5,
          16,
          21,
          21,
          10,
          13,
          18,
          16,
          19,
          22,
          14
         ]
        },
        {
         "boxpoints": "all",
         "marker": {
          "color": "rgb(31, 119, 180)"
         },
         "name": "2nd",
         "showlegend": false,
         "type": "box",
         "y": [
          57,
          9,
          20,
          22,
          21,
          57,
          9,
          14,
          15,
          77,
          105,
          31,
          19,
          58,
          23,
          14,
          17,
          3,
          39,
          14,
          27,
          15,
          18,
          21,
          33,
          29.5,
          23,
          78,
          29,
          29,
          30,
          23,
          23.5,
          21,
          21,
          7,
          56,
          14,
          36,
          51,
          51,
          22,
          36,
          17,
          20,
          18,
          0,
          3,
          20,
          18,
          24,
          17,
          14.5,
          17,
          7,
          23.5,
          28,
          15,
          22,
          21,
          25,
          17,
          30,
          21.5,
          -3,
          41,
          13,
          12.666666666666666,
          11,
          7,
          12.666666666666666,
          11,
          7,
          24,
          -2,
          14,
          14,
          36,
          4.5,
          12.5,
          17.5,
          32,
          23,
          32,
          26,
          37,
          23.5,
          24,
          27,
          24,
          24,
          17,
          32,
          23,
          32,
          26,
          37,
          19,
          13.5,
          16,
          26,
          -1,
          13.5,
          16,
          20,
          -1,
          17,
          16,
          86,
          43,
          2,
          28,
          0,
          0,
          25,
          21,
          24,
          0,
          19,
          64,
          47,
          63,
          8,
          14,
          0,
          20,
          24.5,
          13,
          11,
          51,
          43,
          21,
          23,
          28,
          0,
          0,
          21,
          29,
          30,
          9,
          16.5,
          22,
          16,
          25,
          28,
          33,
          1,
          -6,
          51,
          15,
          76,
          24,
          -3,
          20,
          11,
          11,
          0,
          14,
          11,
          17,
          14.5,
          17,
          14,
          -3,
          27,
          15,
          28,
          12,
          55,
          25,
          75,
          16,
          24,
          0,
          7,
          2,
          14,
          13,
          14,
          16,
          8,
          10,
          10,
          21,
          -4,
          2,
          6,
          11,
          17,
          53,
          18,
          16,
          22,
          14,
          17,
          14,
          17,
          18,
          14,
          12,
          14,
          7,
          21,
          24,
          21,
          15,
          9,
          12,
          28,
          70
         ]
        },
        {
         "boxpoints": "all",
         "marker": {
          "color": "rgb(31, 119, 180)"
         },
         "name": "3rd",
         "showlegend": false,
         "type": "box",
         "y": [
          23,
          79,
          78,
          8,
          44,
          20,
          35,
          36,
          25,
          1,
          24,
          46,
          29,
          21,
          0,
          1,
          56,
          30.5,
          13,
          25,
          79,
          20,
          21,
          22.5,
          24.5,
          28.5,
          1,
          35,
          33.5,
          39,
          11,
          22,
          38,
          16,
          65,
          51,
          22,
          51,
          30.5,
          23,
          28,
          17,
          2,
          14,
          0,
          28,
          15.5,
          0,
          17,
          8,
          23,
          25.5,
          42,
          36,
          9,
          22,
          22,
          23,
          16,
          22,
          20,
          36.5,
          24,
          23,
          17,
          21,
          22,
          36.5,
          24,
          23,
          17,
          21,
          22,
          30,
          21,
          22,
          42,
          38,
          14,
          23,
          22,
          42,
          36,
          42,
          27,
          20,
          25,
          9,
          37,
          16.333333333333332,
          27.5,
          26.5,
          21,
          9,
          16.5,
          15,
          24.5,
          24,
          21,
          25,
          16,
          18,
          21.5,
          24,
          13,
          16.5,
          15,
          14,
          24,
          21,
          25,
          17,
          9,
          -4,
          17,
          9,
          -4,
          24,
          35,
          0,
          4,
          7,
          0,
          0,
          29,
          13,
          7,
          6,
          2,
          1,
          16,
          0,
          22,
          15,
          29,
          29,
          48,
          17,
          14,
          22,
          3.5,
          7,
          0,
          7,
          7,
          14,
          28,
          44,
          37,
          5,
          29,
          -5,
          20,
          9,
          9,
          20,
          2,
          1,
          5,
          64,
          24,
          2,
          17,
          29,
          16,
          18,
          25,
          28,
          1,
          28,
          21,
          2,
          4,
          21,
          0,
          21,
          28
         ]
        },
        {
         "boxpoints": "all",
         "marker": {
          "color": "rgb(31, 119, 180)"
         },
         "name": "4th",
         "showlegend": false,
         "type": "box",
         "y": [
          28,
          23,
          13,
          15.5,
          25,
          19.5,
          12.5,
          7,
          95,
          35,
          32,
          25.5,
          34,
          32.5,
          29,
          17,
          30,
          18,
          25,
          72,
          28,
          22,
          29,
          30,
          24,
          25,
          28,
          48,
          25,
          58,
          16,
          65,
          37,
          48,
          11,
          14,
          18,
          17.5,
          17,
          29,
          25.5,
          23,
          17,
          20,
          21,
          15.5,
          26.5,
          21,
          36,
          9.333333333333334,
          22.333333333333332,
          20,
          20.5,
          6,
          21,
          17,
          25,
          19,
          3,
          0,
          7,
          7,
          19,
          38,
          35,
          32,
          24,
          14.5,
          19,
          38,
          31.5,
          21,
          14.5,
          36,
          30,
          30,
          25,
          18,
          36,
          24,
          24,
          22,
          26,
          18,
          63,
          11,
          17,
          17,
          33,
          23.666666666666668,
          63,
          17,
          17,
          29,
          28,
          21,
          29,
          24,
          27.5,
          24,
          60,
          22,
          25,
          29,
          28,
          21,
          29,
          24,
          27.5,
          15,
          14,
          0,
          0,
          0,
          -4,
          8,
          9.5,
          8,
          23,
          0,
          22,
          17,
          8,
          22.5,
          64,
          29,
          73,
          72,
          13,
          24,
          35,
          23,
          23,
          2,
          0,
          15,
          -6,
          0,
          7,
          18,
          0,
          15,
          24,
          9,
          0,
          0,
          18,
          28,
          24,
          0,
          19,
          44,
          24,
          17,
          29,
          26,
          0,
          1,
          14,
          22,
          2,
          17,
          19,
          13,
          4,
          21,
          28
         ]
        },
        {
         "boxpoints": "all",
         "marker": {
          "color": "rgb(31, 119, 180)"
         },
         "name": "5th",
         "showlegend": false,
         "type": "box",
         "y": [
          43,
          24,
          21,
          35.5,
          25,
          25,
          25,
          15,
          3,
          18,
          27,
          12.5,
          17,
          36.5,
          38,
          26.5,
          26.5,
          10.5,
          21,
          33,
          38,
          34,
          26.5,
          10.5,
          17,
          36,
          19.5,
          10.5,
          26.5,
          27,
          10,
          20.5,
          23,
          10,
          17.5,
          21,
          10,
          13,
          23,
          42,
          24,
          9,
          16.5,
          18,
          40,
          24,
          13,
          16.5,
          18,
          40,
          22,
          17,
          39,
          17,
          36,
          37,
          23,
          31,
          32,
          14,
          44,
          10,
          14,
          44,
          10,
          25,
          65,
          14,
          25,
          65,
          14,
          35,
          36,
          16,
          0,
          7,
          27,
          35,
          0,
          0,
          25,
          28,
          16,
          21,
          11,
          28,
          21,
          15.5,
          22,
          7,
          27,
          25,
          -4,
          -1,
          0,
          7,
          9,
          11,
          8,
          0,
          0,
          28,
          0,
          19,
          16,
          48,
          11,
          15,
          11,
          9,
          8
         ]
        },
        {
         "boxpoints": "all",
         "marker": {
          "color": "rgb(31, 119, 180)"
         },
         "name": "6th",
         "showlegend": false,
         "type": "box",
         "y": [
          99,
          17,
          26,
          15,
          22.5,
          44,
          26,
          15,
          22.5,
          44,
          19,
          27.5,
          17.5,
          26,
          23.333333333333332,
          26.5,
          32,
          22,
          38,
          -1,
          38,
          29,
          32,
          25,
          20,
          23.333333333333332,
          29,
          27.5,
          16,
          12.333333333333334,
          23,
          29,
          27.5,
          16,
          20,
          24,
          32,
          30,
          35,
          22,
          22,
          35,
          22,
          24,
          24,
          26.5,
          21,
          15,
          17,
          22.5,
          41,
          26.5,
          21,
          15,
          17,
          22.5,
          41,
          0,
          0,
          0,
          38,
          23,
          30,
          23,
          16,
          17,
          24,
          -5,
          -5,
          -4,
          12,
          7,
          7,
          24,
          60,
          24,
          120,
          20,
          25,
          9,
          1,
          27,
          21,
          7
         ]
        },
        {
         "boxpoints": "all",
         "marker": {
          "color": "rgb(31, 119, 180)"
         },
         "name": "7th",
         "showlegend": false,
         "type": "box",
         "y": [
          25,
          25,
          22,
          0,
          15,
          15,
          -5,
          -5,
          23
         ]
        },
        {
         "boxpoints": "all",
         "marker": {
          "color": "rgb(31, 119, 180)"
         },
         "name": "8th",
         "showlegend": false,
         "type": "box",
         "y": [
          25,
          -1,
          26,
          0,
          2,
          2
         ]
        }
       ],
       "layout": {
        "font": {
         "size": 20
        },
        "plot_bgcolor": "rgba(0,0,0,0)",
        "template": {
         "data": {
          "bar": [
           {
            "error_x": {
             "color": "#2a3f5f"
            },
            "error_y": {
             "color": "#2a3f5f"
            },
            "marker": {
             "line": {
              "color": "#E5ECF6",
              "width": 0.5
             }
            },
            "type": "bar"
           }
          ],
          "barpolar": [
           {
            "marker": {
             "line": {
              "color": "#E5ECF6",
              "width": 0.5
             }
            },
            "type": "barpolar"
           }
          ],
          "carpet": [
           {
            "aaxis": {
             "endlinecolor": "#2a3f5f",
             "gridcolor": "white",
             "linecolor": "white",
             "minorgridcolor": "white",
             "startlinecolor": "#2a3f5f"
            },
            "baxis": {
             "endlinecolor": "#2a3f5f",
             "gridcolor": "white",
             "linecolor": "white",
             "minorgridcolor": "white",
             "startlinecolor": "#2a3f5f"
            },
            "type": "carpet"
           }
          ],
          "choropleth": [
           {
            "colorbar": {
             "outlinewidth": 0,
             "ticks": ""
            },
            "type": "choropleth"
           }
          ],
          "contour": [
           {
            "colorbar": {
             "outlinewidth": 0,
             "ticks": ""
            },
            "colorscale": [
             [
              0,
              "#0d0887"
             ],
             [
              0.1111111111111111,
              "#46039f"
             ],
             [
              0.2222222222222222,
              "#7201a8"
             ],
             [
              0.3333333333333333,
              "#9c179e"
             ],
             [
              0.4444444444444444,
              "#bd3786"
             ],
             [
              0.5555555555555556,
              "#d8576b"
             ],
             [
              0.6666666666666666,
              "#ed7953"
             ],
             [
              0.7777777777777778,
              "#fb9f3a"
             ],
             [
              0.8888888888888888,
              "#fdca26"
             ],
             [
              1,
              "#f0f921"
             ]
            ],
            "type": "contour"
           }
          ],
          "contourcarpet": [
           {
            "colorbar": {
             "outlinewidth": 0,
             "ticks": ""
            },
            "type": "contourcarpet"
           }
          ],
          "heatmap": [
           {
            "colorbar": {
             "outlinewidth": 0,
             "ticks": ""
            },
            "colorscale": [
             [
              0,
              "#0d0887"
             ],
             [
              0.1111111111111111,
              "#46039f"
             ],
             [
              0.2222222222222222,
              "#7201a8"
             ],
             [
              0.3333333333333333,
              "#9c179e"
             ],
             [
              0.4444444444444444,
              "#bd3786"
             ],
             [
              0.5555555555555556,
              "#d8576b"
             ],
             [
              0.6666666666666666,
              "#ed7953"
             ],
             [
              0.7777777777777778,
              "#fb9f3a"
             ],
             [
              0.8888888888888888,
              "#fdca26"
             ],
             [
              1,
              "#f0f921"
             ]
            ],
            "type": "heatmap"
           }
          ],
          "heatmapgl": [
           {
            "colorbar": {
             "outlinewidth": 0,
             "ticks": ""
            },
            "colorscale": [
             [
              0,
              "#0d0887"
             ],
             [
              0.1111111111111111,
              "#46039f"
             ],
             [
              0.2222222222222222,
              "#7201a8"
             ],
             [
              0.3333333333333333,
              "#9c179e"
             ],
             [
              0.4444444444444444,
              "#bd3786"
             ],
             [
              0.5555555555555556,
              "#d8576b"
             ],
             [
              0.6666666666666666,
              "#ed7953"
             ],
             [
              0.7777777777777778,
              "#fb9f3a"
             ],
             [
              0.8888888888888888,
              "#fdca26"
             ],
             [
              1,
              "#f0f921"
             ]
            ],
            "type": "heatmapgl"
           }
          ],
          "histogram": [
           {
            "marker": {
             "colorbar": {
              "outlinewidth": 0,
              "ticks": ""
             }
            },
            "type": "histogram"
           }
          ],
          "histogram2d": [
           {
            "colorbar": {
             "outlinewidth": 0,
             "ticks": ""
            },
            "colorscale": [
             [
              0,
              "#0d0887"
             ],
             [
              0.1111111111111111,
              "#46039f"
             ],
             [
              0.2222222222222222,
              "#7201a8"
             ],
             [
              0.3333333333333333,
              "#9c179e"
             ],
             [
              0.4444444444444444,
              "#bd3786"
             ],
             [
              0.5555555555555556,
              "#d8576b"
             ],
             [
              0.6666666666666666,
              "#ed7953"
             ],
             [
              0.7777777777777778,
              "#fb9f3a"
             ],
             [
              0.8888888888888888,
              "#fdca26"
             ],
             [
              1,
              "#f0f921"
             ]
            ],
            "type": "histogram2d"
           }
          ],
          "histogram2dcontour": [
           {
            "colorbar": {
             "outlinewidth": 0,
             "ticks": ""
            },
            "colorscale": [
             [
              0,
              "#0d0887"
             ],
             [
              0.1111111111111111,
              "#46039f"
             ],
             [
              0.2222222222222222,
              "#7201a8"
             ],
             [
              0.3333333333333333,
              "#9c179e"
             ],
             [
              0.4444444444444444,
              "#bd3786"
             ],
             [
              0.5555555555555556,
              "#d8576b"
             ],
             [
              0.6666666666666666,
              "#ed7953"
             ],
             [
              0.7777777777777778,
              "#fb9f3a"
             ],
             [
              0.8888888888888888,
              "#fdca26"
             ],
             [
              1,
              "#f0f921"
             ]
            ],
            "type": "histogram2dcontour"
           }
          ],
          "mesh3d": [
           {
            "colorbar": {
             "outlinewidth": 0,
             "ticks": ""
            },
            "type": "mesh3d"
           }
          ],
          "parcoords": [
           {
            "line": {
             "colorbar": {
              "outlinewidth": 0,
              "ticks": ""
             }
            },
            "type": "parcoords"
           }
          ],
          "pie": [
           {
            "automargin": true,
            "type": "pie"
           }
          ],
          "scatter": [
           {
            "marker": {
             "colorbar": {
              "outlinewidth": 0,
              "ticks": ""
             }
            },
            "type": "scatter"
           }
          ],
          "scatter3d": [
           {
            "line": {
             "colorbar": {
              "outlinewidth": 0,
              "ticks": ""
             }
            },
            "marker": {
             "colorbar": {
              "outlinewidth": 0,
              "ticks": ""
             }
            },
            "type": "scatter3d"
           }
          ],
          "scattercarpet": [
           {
            "marker": {
             "colorbar": {
              "outlinewidth": 0,
              "ticks": ""
             }
            },
            "type": "scattercarpet"
           }
          ],
          "scattergeo": [
           {
            "marker": {
             "colorbar": {
              "outlinewidth": 0,
              "ticks": ""
             }
            },
            "type": "scattergeo"
           }
          ],
          "scattergl": [
           {
            "marker": {
             "colorbar": {
              "outlinewidth": 0,
              "ticks": ""
             }
            },
            "type": "scattergl"
           }
          ],
          "scattermapbox": [
           {
            "marker": {
             "colorbar": {
              "outlinewidth": 0,
              "ticks": ""
             }
            },
            "type": "scattermapbox"
           }
          ],
          "scatterpolar": [
           {
            "marker": {
             "colorbar": {
              "outlinewidth": 0,
              "ticks": ""
             }
            },
            "type": "scatterpolar"
           }
          ],
          "scatterpolargl": [
           {
            "marker": {
             "colorbar": {
              "outlinewidth": 0,
              "ticks": ""
             }
            },
            "type": "scatterpolargl"
           }
          ],
          "scatterternary": [
           {
            "marker": {
             "colorbar": {
              "outlinewidth": 0,
              "ticks": ""
             }
            },
            "type": "scatterternary"
           }
          ],
          "surface": [
           {
            "colorbar": {
             "outlinewidth": 0,
             "ticks": ""
            },
            "colorscale": [
             [
              0,
              "#0d0887"
             ],
             [
              0.1111111111111111,
              "#46039f"
             ],
             [
              0.2222222222222222,
              "#7201a8"
             ],
             [
              0.3333333333333333,
              "#9c179e"
             ],
             [
              0.4444444444444444,
              "#bd3786"
             ],
             [
              0.5555555555555556,
              "#d8576b"
             ],
             [
              0.6666666666666666,
              "#ed7953"
             ],
             [
              0.7777777777777778,
              "#fb9f3a"
             ],
             [
              0.8888888888888888,
              "#fdca26"
             ],
             [
              1,
              "#f0f921"
             ]
            ],
            "type": "surface"
           }
          ],
          "table": [
           {
            "cells": {
             "fill": {
              "color": "#EBF0F8"
             },
             "line": {
              "color": "white"
             }
            },
            "header": {
             "fill": {
              "color": "#C8D4E3"
             },
             "line": {
              "color": "white"
             }
            },
            "type": "table"
           }
          ]
         },
         "layout": {
          "annotationdefaults": {
           "arrowcolor": "#2a3f5f",
           "arrowhead": 0,
           "arrowwidth": 1
          },
          "coloraxis": {
           "colorbar": {
            "outlinewidth": 0,
            "ticks": ""
           }
          },
          "colorscale": {
           "diverging": [
            [
             0,
             "#8e0152"
            ],
            [
             0.1,
             "#c51b7d"
            ],
            [
             0.2,
             "#de77ae"
            ],
            [
             0.3,
             "#f1b6da"
            ],
            [
             0.4,
             "#fde0ef"
            ],
            [
             0.5,
             "#f7f7f7"
            ],
            [
             0.6,
             "#e6f5d0"
            ],
            [
             0.7,
             "#b8e186"
            ],
            [
             0.8,
             "#7fbc41"
            ],
            [
             0.9,
             "#4d9221"
            ],
            [
             1,
             "#276419"
            ]
           ],
           "sequential": [
            [
             0,
             "#0d0887"
            ],
            [
             0.1111111111111111,
             "#46039f"
            ],
            [
             0.2222222222222222,
             "#7201a8"
            ],
            [
             0.3333333333333333,
             "#9c179e"
            ],
            [
             0.4444444444444444,
             "#bd3786"
            ],
            [
             0.5555555555555556,
             "#d8576b"
            ],
            [
             0.6666666666666666,
             "#ed7953"
            ],
            [
             0.7777777777777778,
             "#fb9f3a"
            ],
            [
             0.8888888888888888,
             "#fdca26"
            ],
            [
             1,
             "#f0f921"
            ]
           ],
           "sequentialminus": [
            [
             0,
             "#0d0887"
            ],
            [
             0.1111111111111111,
             "#46039f"
            ],
            [
             0.2222222222222222,
             "#7201a8"
            ],
            [
             0.3333333333333333,
             "#9c179e"
            ],
            [
             0.4444444444444444,
             "#bd3786"
            ],
            [
             0.5555555555555556,
             "#d8576b"
            ],
            [
             0.6666666666666666,
             "#ed7953"
            ],
            [
             0.7777777777777778,
             "#fb9f3a"
            ],
            [
             0.8888888888888888,
             "#fdca26"
            ],
            [
             1,
             "#f0f921"
            ]
           ]
          },
          "colorway": [
           "#636efa",
           "#EF553B",
           "#00cc96",
           "#ab63fa",
           "#FFA15A",
           "#19d3f3",
           "#FF6692",
           "#B6E880",
           "#FF97FF",
           "#FECB52"
          ],
          "font": {
           "color": "#2a3f5f"
          },
          "geo": {
           "bgcolor": "white",
           "lakecolor": "white",
           "landcolor": "#E5ECF6",
           "showlakes": true,
           "showland": true,
           "subunitcolor": "white"
          },
          "hoverlabel": {
           "align": "left"
          },
          "hovermode": "closest",
          "mapbox": {
           "style": "light"
          },
          "paper_bgcolor": "white",
          "plot_bgcolor": "#E5ECF6",
          "polar": {
           "angularaxis": {
            "gridcolor": "white",
            "linecolor": "white",
            "ticks": ""
           },
           "bgcolor": "#E5ECF6",
           "radialaxis": {
            "gridcolor": "white",
            "linecolor": "white",
            "ticks": ""
           }
          },
          "scene": {
           "xaxis": {
            "backgroundcolor": "#E5ECF6",
            "gridcolor": "white",
            "gridwidth": 2,
            "linecolor": "white",
            "showbackground": true,
            "ticks": "",
            "zerolinecolor": "white"
           },
           "yaxis": {
            "backgroundcolor": "#E5ECF6",
            "gridcolor": "white",
            "gridwidth": 2,
            "linecolor": "white",
            "showbackground": true,
            "ticks": "",
            "zerolinecolor": "white"
           },
           "zaxis": {
            "backgroundcolor": "#E5ECF6",
            "gridcolor": "white",
            "gridwidth": 2,
            "linecolor": "white",
            "showbackground": true,
            "ticks": "",
            "zerolinecolor": "white"
           }
          },
          "shapedefaults": {
           "line": {
            "color": "#2a3f5f"
           }
          },
          "ternary": {
           "aaxis": {
            "gridcolor": "white",
            "linecolor": "white",
            "ticks": ""
           },
           "baxis": {
            "gridcolor": "white",
            "linecolor": "white",
            "ticks": ""
           },
           "bgcolor": "#E5ECF6",
           "caxis": {
            "gridcolor": "white",
            "linecolor": "white",
            "ticks": ""
           }
          },
          "title": {
           "x": 0.05
          },
          "xaxis": {
           "automargin": true,
           "gridcolor": "white",
           "linecolor": "white",
           "ticks": "",
           "title": {
            "standoff": 15
           },
           "zerolinecolor": "white",
           "zerolinewidth": 2
          },
          "yaxis": {
           "automargin": true,
           "gridcolor": "white",
           "linecolor": "white",
           "ticks": "",
           "title": {
            "standoff": 15
           },
           "zerolinecolor": "white",
           "zerolinewidth": 2
          }
         }
        },
        "yaxis": {
         "gridcolor": "rgb(219, 219, 219)",
         "showgrid": true,
         "title": {
          "text": "Days"
         }
        }
       }
      },
      "text/html": [
       "<div>\n",
       "        \n",
       "        \n",
       "            <div id=\"b1cc0133-b5cd-44c8-8db4-e02baaa656df\" class=\"plotly-graph-div\" style=\"height:525px; width:100%;\"></div>\n",
       "            <script type=\"text/javascript\">\n",
       "                require([\"plotly\"], function(Plotly) {\n",
       "                    window.PLOTLYENV=window.PLOTLYENV || {};\n",
       "                    \n",
       "                if (document.getElementById(\"b1cc0133-b5cd-44c8-8db4-e02baaa656df\")) {\n",
       "                    Plotly.newPlot(\n",
       "                        'b1cc0133-b5cd-44c8-8db4-e02baaa656df',\n",
       "                        [{\"boxpoints\": \"all\", \"marker\": {\"color\": \"rgb(31, 119, 180)\"}, \"name\": \"1st\", \"showlegend\": false, \"type\": \"box\", \"y\": [21.0, 29.0, 42.0, 32.0, 64.0, 29.0, 45.0, 3.0, 18.5, 1.0, 21.0, 28.0, 22.0, 10.0, 15.0, 19.0, 1.0, 25.0, 29.0, 4.0, 36.666666666666664, 25.5, 25.5, 11.0, 25.0, 28.0, 37.0, 9.0, 23.0, 36.0, 6.5, 14.0, 2.0, 29.0, 21.5, 49.0, 18.0, 15.0, 16.0, 1.0, 16.0, 23.0, 36.0, 18.0, 56.0, 36.0, 10.0, 11.0, 15.0, 12.5, 32.0, 10.0, 17.0, 0.0, 26.0, 3.5, 0.0, 43.0, 15.666666666666666, 20.5, 25.5, 16.666666666666668, 10.0, 15.5, 35.5, 13.5, 37.0, 28.0, 28.0, 15.0, 10.5, 25.0, 4.0, 14.0, 15.0, 11.0, 26.5, 10.5, 39.0, 24.0, 14.0, 6.0, 21.0, 8.5, 14.5, 0.0, 2.0, 6.0, 16.0, 24.0, 20.5, 8.5, 21.5, 6.0, 9.0, 14.0, 43.0, 20.5, 19.0, 17.0, 21.5, 25.0, 9.0, 14.0, 37.0, 29.0, 17.0, 20.5, 16.0, 11.0, 11.0, 29.0, 17.0, 16.0, 11.0, 6.0, 11.0, 20.0, 36.0, 52.0, 91.0, 35.0, 57.0, 46.0, 29.0, 2.0, 2.0, 30.0, -5.0, 1.0, 14.0, 23.0, 35.0, 0.0, 0.0, 28.0, 15.5, 29.0, -3.0, 2.0, 7.0, 24.0, 46.0, 32.0, 21.0, 0.0, 0.0, 0.0, 25.0, 22.0, 28.0, 13.0, 1.0, 32.0, 29.0, 19.0, 24.0, 15.0, 0.0, 22.0, 30.0, -6.0, 7.0, 3.0, 25.0, 23.0, 5.0, 11.0, 3.5, -6.0, 0.0, 42.0, 29.0, 17.0, 23.0, 9.0, 7.0, 17.0, 25.0, 0.0, 18.0, 18.0, 7.0, 7.0, 14.0, 21.0, 18.0, 7.0, 14.0, 0.0, 7.0, 43.0, 42.0, 49.0, 13.0, 9.0, 29.0, 7.0, -4.0, -4.0, 5.0, 88.0, 5.0, 16.0, 21.0, 21.0, 10.0, 13.0, 18.0, 16.0, 19.0, 22.0, 14.0]}, {\"boxpoints\": \"all\", \"marker\": {\"color\": \"rgb(31, 119, 180)\"}, \"name\": \"2nd\", \"showlegend\": false, \"type\": \"box\", \"y\": [57.0, 9.0, 20.0, 22.0, 21.0, 57.0, 9.0, 14.0, 15.0, 77.0, 105.0, 31.0, 19.0, 58.0, 23.0, 14.0, 17.0, 3.0, 39.0, 14.0, 27.0, 15.0, 18.0, 21.0, 33.0, 29.5, 23.0, 78.0, 29.0, 29.0, 30.0, 23.0, 23.5, 21.0, 21.0, 7.0, 56.0, 14.0, 36.0, 51.0, 51.0, 22.0, 36.0, 17.0, 20.0, 18.0, 0.0, 3.0, 20.0, 18.0, 24.0, 17.0, 14.5, 17.0, 7.0, 23.5, 28.0, 15.0, 22.0, 21.0, 25.0, 17.0, 30.0, 21.5, -3.0, 41.0, 13.0, 12.666666666666666, 11.0, 7.0, 12.666666666666666, 11.0, 7.0, 24.0, -2.0, 14.0, 14.0, 36.0, 4.5, 12.5, 17.5, 32.0, 23.0, 32.0, 26.0, 37.0, 23.5, 24.0, 27.0, 24.0, 24.0, 17.0, 32.0, 23.0, 32.0, 26.0, 37.0, 19.0, 13.5, 16.0, 26.0, -1.0, 13.5, 16.0, 20.0, -1.0, 17.0, 16.0, 86.0, 43.0, 2.0, 28.0, 0.0, 0.0, 25.0, 21.0, 24.0, 0.0, 19.0, 64.0, 47.0, 63.0, 8.0, 14.0, 0.0, 20.0, 24.5, 13.0, 11.0, 51.0, 43.0, 21.0, 23.0, 28.0, 0.0, 0.0, 21.0, 29.0, 30.0, 9.0, 16.5, 22.0, 16.0, 25.0, 28.0, 33.0, 1.0, -6.0, 51.0, 15.0, 76.0, 24.0, -3.0, 20.0, 11.0, 11.0, 0.0, 14.0, 11.0, 17.0, 14.5, 17.0, 14.0, -3.0, 27.0, 15.0, 28.0, 12.0, 55.0, 25.0, 75.0, 16.0, 24.0, 0.0, 7.0, 2.0, 14.0, 13.0, 14.0, 16.0, 8.0, 10.0, 10.0, 21.0, -4.0, 2.0, 6.0, 11.0, 17.0, 53.0, 18.0, 16.0, 22.0, 14.0, 17.0, 14.0, 17.0, 18.0, 14.0, 12.0, 14.0, 7.0, 21.0, 24.0, 21.0, 15.0, 9.0, 12.0, 28.0, 70.0]}, {\"boxpoints\": \"all\", \"marker\": {\"color\": \"rgb(31, 119, 180)\"}, \"name\": \"3rd\", \"showlegend\": false, \"type\": \"box\", \"y\": [23.0, 79.0, 78.0, 8.0, 44.0, 20.0, 35.0, 36.0, 25.0, 1.0, 24.0, 46.0, 29.0, 21.0, 0.0, 1.0, 56.0, 30.5, 13.0, 25.0, 79.0, 20.0, 21.0, 22.5, 24.5, 28.5, 1.0, 35.0, 33.5, 39.0, 11.0, 22.0, 38.0, 16.0, 65.0, 51.0, 22.0, 51.0, 30.5, 23.0, 28.0, 17.0, 2.0, 14.0, 0.0, 28.0, 15.5, 0.0, 17.0, 8.0, 23.0, 25.5, 42.0, 36.0, 9.0, 22.0, 22.0, 23.0, 16.0, 22.0, 20.0, 36.5, 24.0, 23.0, 17.0, 21.0, 22.0, 36.5, 24.0, 23.0, 17.0, 21.0, 22.0, 30.0, 21.0, 22.0, 42.0, 38.0, 14.0, 23.0, 22.0, 42.0, 36.0, 42.0, 27.0, 20.0, 25.0, 9.0, 37.0, 16.333333333333332, 27.5, 26.5, 21.0, 9.0, 16.5, 15.0, 24.5, 24.0, 21.0, 25.0, 16.0, 18.0, 21.5, 24.0, 13.0, 16.5, 15.0, 14.0, 24.0, 21.0, 25.0, 17.0, 9.0, -4.0, 17.0, 9.0, -4.0, 24.0, 35.0, 0.0, 4.0, 7.0, 0.0, 0.0, 29.0, 13.0, 7.0, 6.0, 2.0, 1.0, 16.0, 0.0, 22.0, 15.0, 29.0, 29.0, 48.0, 17.0, 14.0, 22.0, 3.5, 7.0, 0.0, 7.0, 7.0, 14.0, 28.0, 44.0, 37.0, 5.0, 29.0, -5.0, 20.0, 9.0, 9.0, 20.0, 2.0, 1.0, 5.0, 64.0, 24.0, 2.0, 17.0, 29.0, 16.0, 18.0, 25.0, 28.0, 1.0, 28.0, 21.0, 2.0, 4.0, 21.0, 0.0, 21.0, 28.0]}, {\"boxpoints\": \"all\", \"marker\": {\"color\": \"rgb(31, 119, 180)\"}, \"name\": \"4th\", \"showlegend\": false, \"type\": \"box\", \"y\": [28.0, 23.0, 13.0, 15.5, 25.0, 19.5, 12.5, 7.0, 95.0, 35.0, 32.0, 25.5, 34.0, 32.5, 29.0, 17.0, 30.0, 18.0, 25.0, 72.0, 28.0, 22.0, 29.0, 30.0, 24.0, 25.0, 28.0, 48.0, 25.0, 58.0, 16.0, 65.0, 37.0, 48.0, 11.0, 14.0, 18.0, 17.5, 17.0, 29.0, 25.5, 23.0, 17.0, 20.0, 21.0, 15.5, 26.5, 21.0, 36.0, 9.333333333333334, 22.333333333333332, 20.0, 20.5, 6.0, 21.0, 17.0, 25.0, 19.0, 3.0, 0.0, 7.0, 7.0, 19.0, 38.0, 35.0, 32.0, 24.0, 14.5, 19.0, 38.0, 31.5, 21.0, 14.5, 36.0, 30.0, 30.0, 25.0, 18.0, 36.0, 24.0, 24.0, 22.0, 26.0, 18.0, 63.0, 11.0, 17.0, 17.0, 33.0, 23.666666666666668, 63.0, 17.0, 17.0, 29.0, 28.0, 21.0, 29.0, 24.0, 27.5, 24.0, 60.0, 22.0, 25.0, 29.0, 28.0, 21.0, 29.0, 24.0, 27.5, 15.0, 14.0, 0.0, 0.0, 0.0, -4.0, 8.0, 9.5, 8.0, 23.0, 0.0, 22.0, 17.0, 8.0, 22.5, 64.0, 29.0, 73.0, 72.0, 13.0, 24.0, 35.0, 23.0, 23.0, 2.0, 0.0, 15.0, -6.0, 0.0, 7.0, 18.0, 0.0, 15.0, 24.0, 9.0, 0.0, 0.0, 18.0, 28.0, 24.0, 0.0, 19.0, 44.0, 24.0, 17.0, 29.0, 26.0, 0.0, 1.0, 14.0, 22.0, 2.0, 17.0, 19.0, 13.0, 4.0, 21.0, 28.0]}, {\"boxpoints\": \"all\", \"marker\": {\"color\": \"rgb(31, 119, 180)\"}, \"name\": \"5th\", \"showlegend\": false, \"type\": \"box\", \"y\": [43.0, 24.0, 21.0, 35.5, 25.0, 25.0, 25.0, 15.0, 3.0, 18.0, 27.0, 12.5, 17.0, 36.5, 38.0, 26.5, 26.5, 10.5, 21.0, 33.0, 38.0, 34.0, 26.5, 10.5, 17.0, 36.0, 19.5, 10.5, 26.5, 27.0, 10.0, 20.5, 23.0, 10.0, 17.5, 21.0, 10.0, 13.0, 23.0, 42.0, 24.0, 9.0, 16.5, 18.0, 40.0, 24.0, 13.0, 16.5, 18.0, 40.0, 22.0, 17.0, 39.0, 17.0, 36.0, 37.0, 23.0, 31.0, 32.0, 14.0, 44.0, 10.0, 14.0, 44.0, 10.0, 25.0, 65.0, 14.0, 25.0, 65.0, 14.0, 35.0, 36.0, 16.0, 0.0, 7.0, 27.0, 35.0, 0.0, 0.0, 25.0, 28.0, 16.0, 21.0, 11.0, 28.0, 21.0, 15.5, 22.0, 7.0, 27.0, 25.0, -4.0, -1.0, 0.0, 7.0, 9.0, 11.0, 8.0, 0.0, 0.0, 28.0, 0.0, 19.0, 16.0, 48.0, 11.0, 15.0, 11.0, 9.0, 8.0]}, {\"boxpoints\": \"all\", \"marker\": {\"color\": \"rgb(31, 119, 180)\"}, \"name\": \"6th\", \"showlegend\": false, \"type\": \"box\", \"y\": [99.0, 17.0, 26.0, 15.0, 22.5, 44.0, 26.0, 15.0, 22.5, 44.0, 19.0, 27.5, 17.5, 26.0, 23.333333333333332, 26.5, 32.0, 22.0, 38.0, -1.0, 38.0, 29.0, 32.0, 25.0, 20.0, 23.333333333333332, 29.0, 27.5, 16.0, 12.333333333333334, 23.0, 29.0, 27.5, 16.0, 20.0, 24.0, 32.0, 30.0, 35.0, 22.0, 22.0, 35.0, 22.0, 24.0, 24.0, 26.5, 21.0, 15.0, 17.0, 22.5, 41.0, 26.5, 21.0, 15.0, 17.0, 22.5, 41.0, 0.0, 0.0, 0.0, 38.0, 23.0, 30.0, 23.0, 16.0, 17.0, 24.0, -5.0, -5.0, -4.0, 12.0, 7.0, 7.0, 24.0, 60.0, 24.0, 120.0, 20.0, 25.0, 9.0, 1.0, 27.0, 21.0, 7.0]}, {\"boxpoints\": \"all\", \"marker\": {\"color\": \"rgb(31, 119, 180)\"}, \"name\": \"7th\", \"showlegend\": false, \"type\": \"box\", \"y\": [25.0, 25.0, 22.0, 0.0, 15.0, 15.0, -5.0, -5.0, 23.0]}, {\"boxpoints\": \"all\", \"marker\": {\"color\": \"rgb(31, 119, 180)\"}, \"name\": \"8th\", \"showlegend\": false, \"type\": \"box\", \"y\": [25.0, -1.0, 26.0, 0.0, 2.0, 2.0]}],\n",
       "                        {\"font\": {\"size\": 20}, \"plot_bgcolor\": \"rgba(0,0,0,0)\", \"template\": {\"data\": {\"bar\": [{\"error_x\": {\"color\": \"#2a3f5f\"}, \"error_y\": {\"color\": \"#2a3f5f\"}, \"marker\": {\"line\": {\"color\": \"#E5ECF6\", \"width\": 0.5}}, \"type\": \"bar\"}], \"barpolar\": [{\"marker\": {\"line\": {\"color\": \"#E5ECF6\", \"width\": 0.5}}, \"type\": \"barpolar\"}], \"carpet\": [{\"aaxis\": {\"endlinecolor\": \"#2a3f5f\", \"gridcolor\": \"white\", \"linecolor\": \"white\", \"minorgridcolor\": \"white\", \"startlinecolor\": \"#2a3f5f\"}, \"baxis\": {\"endlinecolor\": \"#2a3f5f\", \"gridcolor\": \"white\", \"linecolor\": \"white\", \"minorgridcolor\": \"white\", \"startlinecolor\": \"#2a3f5f\"}, \"type\": \"carpet\"}], \"choropleth\": [{\"colorbar\": {\"outlinewidth\": 0, \"ticks\": \"\"}, \"type\": \"choropleth\"}], \"contour\": [{\"colorbar\": {\"outlinewidth\": 0, \"ticks\": \"\"}, \"colorscale\": [[0.0, \"#0d0887\"], [0.1111111111111111, \"#46039f\"], [0.2222222222222222, \"#7201a8\"], [0.3333333333333333, \"#9c179e\"], [0.4444444444444444, \"#bd3786\"], [0.5555555555555556, \"#d8576b\"], [0.6666666666666666, \"#ed7953\"], [0.7777777777777778, \"#fb9f3a\"], [0.8888888888888888, \"#fdca26\"], [1.0, \"#f0f921\"]], \"type\": \"contour\"}], \"contourcarpet\": [{\"colorbar\": {\"outlinewidth\": 0, \"ticks\": \"\"}, \"type\": \"contourcarpet\"}], \"heatmap\": [{\"colorbar\": {\"outlinewidth\": 0, \"ticks\": \"\"}, \"colorscale\": [[0.0, \"#0d0887\"], [0.1111111111111111, \"#46039f\"], [0.2222222222222222, \"#7201a8\"], [0.3333333333333333, \"#9c179e\"], [0.4444444444444444, \"#bd3786\"], [0.5555555555555556, \"#d8576b\"], [0.6666666666666666, \"#ed7953\"], [0.7777777777777778, \"#fb9f3a\"], [0.8888888888888888, \"#fdca26\"], [1.0, \"#f0f921\"]], \"type\": \"heatmap\"}], \"heatmapgl\": [{\"colorbar\": {\"outlinewidth\": 0, \"ticks\": \"\"}, \"colorscale\": [[0.0, \"#0d0887\"], [0.1111111111111111, \"#46039f\"], [0.2222222222222222, \"#7201a8\"], [0.3333333333333333, \"#9c179e\"], [0.4444444444444444, \"#bd3786\"], [0.5555555555555556, \"#d8576b\"], [0.6666666666666666, \"#ed7953\"], [0.7777777777777778, \"#fb9f3a\"], [0.8888888888888888, \"#fdca26\"], [1.0, \"#f0f921\"]], \"type\": \"heatmapgl\"}], \"histogram\": [{\"marker\": {\"colorbar\": {\"outlinewidth\": 0, \"ticks\": \"\"}}, \"type\": \"histogram\"}], \"histogram2d\": [{\"colorbar\": {\"outlinewidth\": 0, \"ticks\": \"\"}, \"colorscale\": [[0.0, \"#0d0887\"], [0.1111111111111111, \"#46039f\"], [0.2222222222222222, \"#7201a8\"], [0.3333333333333333, \"#9c179e\"], [0.4444444444444444, \"#bd3786\"], [0.5555555555555556, \"#d8576b\"], [0.6666666666666666, \"#ed7953\"], [0.7777777777777778, \"#fb9f3a\"], [0.8888888888888888, \"#fdca26\"], [1.0, \"#f0f921\"]], \"type\": \"histogram2d\"}], \"histogram2dcontour\": [{\"colorbar\": {\"outlinewidth\": 0, \"ticks\": \"\"}, \"colorscale\": [[0.0, \"#0d0887\"], [0.1111111111111111, \"#46039f\"], [0.2222222222222222, \"#7201a8\"], [0.3333333333333333, \"#9c179e\"], [0.4444444444444444, \"#bd3786\"], [0.5555555555555556, \"#d8576b\"], [0.6666666666666666, \"#ed7953\"], [0.7777777777777778, \"#fb9f3a\"], [0.8888888888888888, \"#fdca26\"], [1.0, \"#f0f921\"]], \"type\": \"histogram2dcontour\"}], \"mesh3d\": [{\"colorbar\": {\"outlinewidth\": 0, \"ticks\": \"\"}, \"type\": \"mesh3d\"}], \"parcoords\": [{\"line\": {\"colorbar\": {\"outlinewidth\": 0, \"ticks\": \"\"}}, \"type\": \"parcoords\"}], \"pie\": [{\"automargin\": true, \"type\": \"pie\"}], \"scatter\": [{\"marker\": {\"colorbar\": {\"outlinewidth\": 0, \"ticks\": \"\"}}, \"type\": \"scatter\"}], \"scatter3d\": [{\"line\": {\"colorbar\": {\"outlinewidth\": 0, \"ticks\": \"\"}}, \"marker\": {\"colorbar\": {\"outlinewidth\": 0, \"ticks\": \"\"}}, \"type\": \"scatter3d\"}], \"scattercarpet\": [{\"marker\": {\"colorbar\": {\"outlinewidth\": 0, \"ticks\": \"\"}}, \"type\": \"scattercarpet\"}], \"scattergeo\": [{\"marker\": {\"colorbar\": {\"outlinewidth\": 0, \"ticks\": \"\"}}, \"type\": \"scattergeo\"}], \"scattergl\": [{\"marker\": {\"colorbar\": {\"outlinewidth\": 0, \"ticks\": \"\"}}, \"type\": \"scattergl\"}], \"scattermapbox\": [{\"marker\": {\"colorbar\": {\"outlinewidth\": 0, \"ticks\": \"\"}}, \"type\": \"scattermapbox\"}], \"scatterpolar\": [{\"marker\": {\"colorbar\": {\"outlinewidth\": 0, \"ticks\": \"\"}}, \"type\": \"scatterpolar\"}], \"scatterpolargl\": [{\"marker\": {\"colorbar\": {\"outlinewidth\": 0, \"ticks\": \"\"}}, \"type\": \"scatterpolargl\"}], \"scatterternary\": [{\"marker\": {\"colorbar\": {\"outlinewidth\": 0, \"ticks\": \"\"}}, \"type\": \"scatterternary\"}], \"surface\": [{\"colorbar\": {\"outlinewidth\": 0, \"ticks\": \"\"}, \"colorscale\": [[0.0, \"#0d0887\"], [0.1111111111111111, \"#46039f\"], [0.2222222222222222, \"#7201a8\"], [0.3333333333333333, \"#9c179e\"], [0.4444444444444444, \"#bd3786\"], [0.5555555555555556, \"#d8576b\"], [0.6666666666666666, \"#ed7953\"], [0.7777777777777778, \"#fb9f3a\"], [0.8888888888888888, \"#fdca26\"], [1.0, \"#f0f921\"]], \"type\": \"surface\"}], \"table\": [{\"cells\": {\"fill\": {\"color\": \"#EBF0F8\"}, \"line\": {\"color\": \"white\"}}, \"header\": {\"fill\": {\"color\": \"#C8D4E3\"}, \"line\": {\"color\": \"white\"}}, \"type\": \"table\"}]}, \"layout\": {\"annotationdefaults\": {\"arrowcolor\": \"#2a3f5f\", \"arrowhead\": 0, \"arrowwidth\": 1}, \"coloraxis\": {\"colorbar\": {\"outlinewidth\": 0, \"ticks\": \"\"}}, \"colorscale\": {\"diverging\": [[0, \"#8e0152\"], [0.1, \"#c51b7d\"], [0.2, \"#de77ae\"], [0.3, \"#f1b6da\"], [0.4, \"#fde0ef\"], [0.5, \"#f7f7f7\"], [0.6, \"#e6f5d0\"], [0.7, \"#b8e186\"], [0.8, \"#7fbc41\"], [0.9, \"#4d9221\"], [1, \"#276419\"]], \"sequential\": [[0.0, \"#0d0887\"], [0.1111111111111111, \"#46039f\"], [0.2222222222222222, \"#7201a8\"], [0.3333333333333333, \"#9c179e\"], [0.4444444444444444, \"#bd3786\"], [0.5555555555555556, \"#d8576b\"], [0.6666666666666666, \"#ed7953\"], [0.7777777777777778, \"#fb9f3a\"], [0.8888888888888888, \"#fdca26\"], [1.0, \"#f0f921\"]], \"sequentialminus\": [[0.0, \"#0d0887\"], [0.1111111111111111, \"#46039f\"], [0.2222222222222222, \"#7201a8\"], [0.3333333333333333, \"#9c179e\"], [0.4444444444444444, \"#bd3786\"], [0.5555555555555556, \"#d8576b\"], [0.6666666666666666, \"#ed7953\"], [0.7777777777777778, \"#fb9f3a\"], [0.8888888888888888, \"#fdca26\"], [1.0, \"#f0f921\"]]}, \"colorway\": [\"#636efa\", \"#EF553B\", \"#00cc96\", \"#ab63fa\", \"#FFA15A\", \"#19d3f3\", \"#FF6692\", \"#B6E880\", \"#FF97FF\", \"#FECB52\"], \"font\": {\"color\": \"#2a3f5f\"}, \"geo\": {\"bgcolor\": \"white\", \"lakecolor\": \"white\", \"landcolor\": \"#E5ECF6\", \"showlakes\": true, \"showland\": true, \"subunitcolor\": \"white\"}, \"hoverlabel\": {\"align\": \"left\"}, \"hovermode\": \"closest\", \"mapbox\": {\"style\": \"light\"}, \"paper_bgcolor\": \"white\", \"plot_bgcolor\": \"#E5ECF6\", \"polar\": {\"angularaxis\": {\"gridcolor\": \"white\", \"linecolor\": \"white\", \"ticks\": \"\"}, \"bgcolor\": \"#E5ECF6\", \"radialaxis\": {\"gridcolor\": \"white\", \"linecolor\": \"white\", \"ticks\": \"\"}}, \"scene\": {\"xaxis\": {\"backgroundcolor\": \"#E5ECF6\", \"gridcolor\": \"white\", \"gridwidth\": 2, \"linecolor\": \"white\", \"showbackground\": true, \"ticks\": \"\", \"zerolinecolor\": \"white\"}, \"yaxis\": {\"backgroundcolor\": \"#E5ECF6\", \"gridcolor\": \"white\", \"gridwidth\": 2, \"linecolor\": \"white\", \"showbackground\": true, \"ticks\": \"\", \"zerolinecolor\": \"white\"}, \"zaxis\": {\"backgroundcolor\": \"#E5ECF6\", \"gridcolor\": \"white\", \"gridwidth\": 2, \"linecolor\": \"white\", \"showbackground\": true, \"ticks\": \"\", \"zerolinecolor\": \"white\"}}, \"shapedefaults\": {\"line\": {\"color\": \"#2a3f5f\"}}, \"ternary\": {\"aaxis\": {\"gridcolor\": \"white\", \"linecolor\": \"white\", \"ticks\": \"\"}, \"baxis\": {\"gridcolor\": \"white\", \"linecolor\": \"white\", \"ticks\": \"\"}, \"bgcolor\": \"#E5ECF6\", \"caxis\": {\"gridcolor\": \"white\", \"linecolor\": \"white\", \"ticks\": \"\"}}, \"title\": {\"x\": 0.05}, \"xaxis\": {\"automargin\": true, \"gridcolor\": \"white\", \"linecolor\": \"white\", \"ticks\": \"\", \"title\": {\"standoff\": 15}, \"zerolinecolor\": \"white\", \"zerolinewidth\": 2}, \"yaxis\": {\"automargin\": true, \"gridcolor\": \"white\", \"linecolor\": \"white\", \"ticks\": \"\", \"title\": {\"standoff\": 15}, \"zerolinecolor\": \"white\", \"zerolinewidth\": 2}}}, \"yaxis\": {\"gridcolor\": \"rgb(219, 219, 219)\", \"showgrid\": true, \"title\": {\"text\": \"Days\"}}},\n",
       "                        {\"responsive\": true}\n",
       "                    ).then(function(){\n",
       "                            \n",
       "var gd = document.getElementById('b1cc0133-b5cd-44c8-8db4-e02baaa656df');\n",
       "var x = new MutationObserver(function (mutations, observer) {{\n",
       "        var display = window.getComputedStyle(gd).display;\n",
       "        if (!display || display === 'none') {{\n",
       "            console.log([gd, 'removed!']);\n",
       "            Plotly.purge(gd);\n",
       "            observer.disconnect();\n",
       "        }}\n",
       "}});\n",
       "\n",
       "// Listen for the removal of the full notebook cells\n",
       "var notebookContainer = gd.closest('#notebook-container');\n",
       "if (notebookContainer) {{\n",
       "    x.observe(notebookContainer, {childList: true});\n",
       "}}\n",
       "\n",
       "// Listen for the clearing of the current output cell\n",
       "var outputEl = gd.closest('.output');\n",
       "if (outputEl) {{\n",
       "    x.observe(outputEl, {childList: true});\n",
       "}}\n",
       "\n",
       "                        })\n",
       "                };\n",
       "                });\n",
       "            </script>\n",
       "        </div>"
      ]
     },
     "metadata": {},
     "output_type": "display_data"
    },
    {
     "data": {
      "application/vnd.plotly.v1+json": {
       "config": {
        "linkText": "Export to plot.ly",
        "plotlyServerURL": "https://plot.ly",
        "showLink": false
       },
       "data": [
        {
         "type": "scatter",
         "x": [
          "1st",
          "2nd",
          "3rd",
          "4th",
          "5th",
          "6th",
          "7th",
          "8th"
         ],
         "y": [
          17,
          18,
          21,
          22,
          20.5,
          23,
          15,
          2
         ]
        }
       ],
       "layout": {
        "boxmode": "group",
        "font": {
         "size": 20
        },
        "legend": {
         "orientation": "h",
         "x": 0.25,
         "y": 1.1
        },
        "plot_bgcolor": "rgba(0,0,0,0)",
        "template": {
         "data": {
          "bar": [
           {
            "error_x": {
             "color": "#2a3f5f"
            },
            "error_y": {
             "color": "#2a3f5f"
            },
            "marker": {
             "line": {
              "color": "#E5ECF6",
              "width": 0.5
             }
            },
            "type": "bar"
           }
          ],
          "barpolar": [
           {
            "marker": {
             "line": {
              "color": "#E5ECF6",
              "width": 0.5
             }
            },
            "type": "barpolar"
           }
          ],
          "carpet": [
           {
            "aaxis": {
             "endlinecolor": "#2a3f5f",
             "gridcolor": "white",
             "linecolor": "white",
             "minorgridcolor": "white",
             "startlinecolor": "#2a3f5f"
            },
            "baxis": {
             "endlinecolor": "#2a3f5f",
             "gridcolor": "white",
             "linecolor": "white",
             "minorgridcolor": "white",
             "startlinecolor": "#2a3f5f"
            },
            "type": "carpet"
           }
          ],
          "choropleth": [
           {
            "colorbar": {
             "outlinewidth": 0,
             "ticks": ""
            },
            "type": "choropleth"
           }
          ],
          "contour": [
           {
            "colorbar": {
             "outlinewidth": 0,
             "ticks": ""
            },
            "colorscale": [
             [
              0,
              "#0d0887"
             ],
             [
              0.1111111111111111,
              "#46039f"
             ],
             [
              0.2222222222222222,
              "#7201a8"
             ],
             [
              0.3333333333333333,
              "#9c179e"
             ],
             [
              0.4444444444444444,
              "#bd3786"
             ],
             [
              0.5555555555555556,
              "#d8576b"
             ],
             [
              0.6666666666666666,
              "#ed7953"
             ],
             [
              0.7777777777777778,
              "#fb9f3a"
             ],
             [
              0.8888888888888888,
              "#fdca26"
             ],
             [
              1,
              "#f0f921"
             ]
            ],
            "type": "contour"
           }
          ],
          "contourcarpet": [
           {
            "colorbar": {
             "outlinewidth": 0,
             "ticks": ""
            },
            "type": "contourcarpet"
           }
          ],
          "heatmap": [
           {
            "colorbar": {
             "outlinewidth": 0,
             "ticks": ""
            },
            "colorscale": [
             [
              0,
              "#0d0887"
             ],
             [
              0.1111111111111111,
              "#46039f"
             ],
             [
              0.2222222222222222,
              "#7201a8"
             ],
             [
              0.3333333333333333,
              "#9c179e"
             ],
             [
              0.4444444444444444,
              "#bd3786"
             ],
             [
              0.5555555555555556,
              "#d8576b"
             ],
             [
              0.6666666666666666,
              "#ed7953"
             ],
             [
              0.7777777777777778,
              "#fb9f3a"
             ],
             [
              0.8888888888888888,
              "#fdca26"
             ],
             [
              1,
              "#f0f921"
             ]
            ],
            "type": "heatmap"
           }
          ],
          "heatmapgl": [
           {
            "colorbar": {
             "outlinewidth": 0,
             "ticks": ""
            },
            "colorscale": [
             [
              0,
              "#0d0887"
             ],
             [
              0.1111111111111111,
              "#46039f"
             ],
             [
              0.2222222222222222,
              "#7201a8"
             ],
             [
              0.3333333333333333,
              "#9c179e"
             ],
             [
              0.4444444444444444,
              "#bd3786"
             ],
             [
              0.5555555555555556,
              "#d8576b"
             ],
             [
              0.6666666666666666,
              "#ed7953"
             ],
             [
              0.7777777777777778,
              "#fb9f3a"
             ],
             [
              0.8888888888888888,
              "#fdca26"
             ],
             [
              1,
              "#f0f921"
             ]
            ],
            "type": "heatmapgl"
           }
          ],
          "histogram": [
           {
            "marker": {
             "colorbar": {
              "outlinewidth": 0,
              "ticks": ""
             }
            },
            "type": "histogram"
           }
          ],
          "histogram2d": [
           {
            "colorbar": {
             "outlinewidth": 0,
             "ticks": ""
            },
            "colorscale": [
             [
              0,
              "#0d0887"
             ],
             [
              0.1111111111111111,
              "#46039f"
             ],
             [
              0.2222222222222222,
              "#7201a8"
             ],
             [
              0.3333333333333333,
              "#9c179e"
             ],
             [
              0.4444444444444444,
              "#bd3786"
             ],
             [
              0.5555555555555556,
              "#d8576b"
             ],
             [
              0.6666666666666666,
              "#ed7953"
             ],
             [
              0.7777777777777778,
              "#fb9f3a"
             ],
             [
              0.8888888888888888,
              "#fdca26"
             ],
             [
              1,
              "#f0f921"
             ]
            ],
            "type": "histogram2d"
           }
          ],
          "histogram2dcontour": [
           {
            "colorbar": {
             "outlinewidth": 0,
             "ticks": ""
            },
            "colorscale": [
             [
              0,
              "#0d0887"
             ],
             [
              0.1111111111111111,
              "#46039f"
             ],
             [
              0.2222222222222222,
              "#7201a8"
             ],
             [
              0.3333333333333333,
              "#9c179e"
             ],
             [
              0.4444444444444444,
              "#bd3786"
             ],
             [
              0.5555555555555556,
              "#d8576b"
             ],
             [
              0.6666666666666666,
              "#ed7953"
             ],
             [
              0.7777777777777778,
              "#fb9f3a"
             ],
             [
              0.8888888888888888,
              "#fdca26"
             ],
             [
              1,
              "#f0f921"
             ]
            ],
            "type": "histogram2dcontour"
           }
          ],
          "mesh3d": [
           {
            "colorbar": {
             "outlinewidth": 0,
             "ticks": ""
            },
            "type": "mesh3d"
           }
          ],
          "parcoords": [
           {
            "line": {
             "colorbar": {
              "outlinewidth": 0,
              "ticks": ""
             }
            },
            "type": "parcoords"
           }
          ],
          "pie": [
           {
            "automargin": true,
            "type": "pie"
           }
          ],
          "scatter": [
           {
            "marker": {
             "colorbar": {
              "outlinewidth": 0,
              "ticks": ""
             }
            },
            "type": "scatter"
           }
          ],
          "scatter3d": [
           {
            "line": {
             "colorbar": {
              "outlinewidth": 0,
              "ticks": ""
             }
            },
            "marker": {
             "colorbar": {
              "outlinewidth": 0,
              "ticks": ""
             }
            },
            "type": "scatter3d"
           }
          ],
          "scattercarpet": [
           {
            "marker": {
             "colorbar": {
              "outlinewidth": 0,
              "ticks": ""
             }
            },
            "type": "scattercarpet"
           }
          ],
          "scattergeo": [
           {
            "marker": {
             "colorbar": {
              "outlinewidth": 0,
              "ticks": ""
             }
            },
            "type": "scattergeo"
           }
          ],
          "scattergl": [
           {
            "marker": {
             "colorbar": {
              "outlinewidth": 0,
              "ticks": ""
             }
            },
            "type": "scattergl"
           }
          ],
          "scattermapbox": [
           {
            "marker": {
             "colorbar": {
              "outlinewidth": 0,
              "ticks": ""
             }
            },
            "type": "scattermapbox"
           }
          ],
          "scatterpolar": [
           {
            "marker": {
             "colorbar": {
              "outlinewidth": 0,
              "ticks": ""
             }
            },
            "type": "scatterpolar"
           }
          ],
          "scatterpolargl": [
           {
            "marker": {
             "colorbar": {
              "outlinewidth": 0,
              "ticks": ""
             }
            },
            "type": "scatterpolargl"
           }
          ],
          "scatterternary": [
           {
            "marker": {
             "colorbar": {
              "outlinewidth": 0,
              "ticks": ""
             }
            },
            "type": "scatterternary"
           }
          ],
          "surface": [
           {
            "colorbar": {
             "outlinewidth": 0,
             "ticks": ""
            },
            "colorscale": [
             [
              0,
              "#0d0887"
             ],
             [
              0.1111111111111111,
              "#46039f"
             ],
             [
              0.2222222222222222,
              "#7201a8"
             ],
             [
              0.3333333333333333,
              "#9c179e"
             ],
             [
              0.4444444444444444,
              "#bd3786"
             ],
             [
              0.5555555555555556,
              "#d8576b"
             ],
             [
              0.6666666666666666,
              "#ed7953"
             ],
             [
              0.7777777777777778,
              "#fb9f3a"
             ],
             [
              0.8888888888888888,
              "#fdca26"
             ],
             [
              1,
              "#f0f921"
             ]
            ],
            "type": "surface"
           }
          ],
          "table": [
           {
            "cells": {
             "fill": {
              "color": "#EBF0F8"
             },
             "line": {
              "color": "white"
             }
            },
            "header": {
             "fill": {
              "color": "#C8D4E3"
             },
             "line": {
              "color": "white"
             }
            },
            "type": "table"
           }
          ]
         },
         "layout": {
          "annotationdefaults": {
           "arrowcolor": "#2a3f5f",
           "arrowhead": 0,
           "arrowwidth": 1
          },
          "coloraxis": {
           "colorbar": {
            "outlinewidth": 0,
            "ticks": ""
           }
          },
          "colorscale": {
           "diverging": [
            [
             0,
             "#8e0152"
            ],
            [
             0.1,
             "#c51b7d"
            ],
            [
             0.2,
             "#de77ae"
            ],
            [
             0.3,
             "#f1b6da"
            ],
            [
             0.4,
             "#fde0ef"
            ],
            [
             0.5,
             "#f7f7f7"
            ],
            [
             0.6,
             "#e6f5d0"
            ],
            [
             0.7,
             "#b8e186"
            ],
            [
             0.8,
             "#7fbc41"
            ],
            [
             0.9,
             "#4d9221"
            ],
            [
             1,
             "#276419"
            ]
           ],
           "sequential": [
            [
             0,
             "#0d0887"
            ],
            [
             0.1111111111111111,
             "#46039f"
            ],
            [
             0.2222222222222222,
             "#7201a8"
            ],
            [
             0.3333333333333333,
             "#9c179e"
            ],
            [
             0.4444444444444444,
             "#bd3786"
            ],
            [
             0.5555555555555556,
             "#d8576b"
            ],
            [
             0.6666666666666666,
             "#ed7953"
            ],
            [
             0.7777777777777778,
             "#fb9f3a"
            ],
            [
             0.8888888888888888,
             "#fdca26"
            ],
            [
             1,
             "#f0f921"
            ]
           ],
           "sequentialminus": [
            [
             0,
             "#0d0887"
            ],
            [
             0.1111111111111111,
             "#46039f"
            ],
            [
             0.2222222222222222,
             "#7201a8"
            ],
            [
             0.3333333333333333,
             "#9c179e"
            ],
            [
             0.4444444444444444,
             "#bd3786"
            ],
            [
             0.5555555555555556,
             "#d8576b"
            ],
            [
             0.6666666666666666,
             "#ed7953"
            ],
            [
             0.7777777777777778,
             "#fb9f3a"
            ],
            [
             0.8888888888888888,
             "#fdca26"
            ],
            [
             1,
             "#f0f921"
            ]
           ]
          },
          "colorway": [
           "#636efa",
           "#EF553B",
           "#00cc96",
           "#ab63fa",
           "#FFA15A",
           "#19d3f3",
           "#FF6692",
           "#B6E880",
           "#FF97FF",
           "#FECB52"
          ],
          "font": {
           "color": "#2a3f5f"
          },
          "geo": {
           "bgcolor": "white",
           "lakecolor": "white",
           "landcolor": "#E5ECF6",
           "showlakes": true,
           "showland": true,
           "subunitcolor": "white"
          },
          "hoverlabel": {
           "align": "left"
          },
          "hovermode": "closest",
          "mapbox": {
           "style": "light"
          },
          "paper_bgcolor": "white",
          "plot_bgcolor": "#E5ECF6",
          "polar": {
           "angularaxis": {
            "gridcolor": "white",
            "linecolor": "white",
            "ticks": ""
           },
           "bgcolor": "#E5ECF6",
           "radialaxis": {
            "gridcolor": "white",
            "linecolor": "white",
            "ticks": ""
           }
          },
          "scene": {
           "xaxis": {
            "backgroundcolor": "#E5ECF6",
            "gridcolor": "white",
            "gridwidth": 2,
            "linecolor": "white",
            "showbackground": true,
            "ticks": "",
            "zerolinecolor": "white"
           },
           "yaxis": {
            "backgroundcolor": "#E5ECF6",
            "gridcolor": "white",
            "gridwidth": 2,
            "linecolor": "white",
            "showbackground": true,
            "ticks": "",
            "zerolinecolor": "white"
           },
           "zaxis": {
            "backgroundcolor": "#E5ECF6",
            "gridcolor": "white",
            "gridwidth": 2,
            "linecolor": "white",
            "showbackground": true,
            "ticks": "",
            "zerolinecolor": "white"
           }
          },
          "shapedefaults": {
           "line": {
            "color": "#2a3f5f"
           }
          },
          "ternary": {
           "aaxis": {
            "gridcolor": "white",
            "linecolor": "white",
            "ticks": ""
           },
           "baxis": {
            "gridcolor": "white",
            "linecolor": "white",
            "ticks": ""
           },
           "bgcolor": "#E5ECF6",
           "caxis": {
            "gridcolor": "white",
            "linecolor": "white",
            "ticks": ""
           }
          },
          "title": {
           "x": 0.05
          },
          "xaxis": {
           "automargin": true,
           "gridcolor": "white",
           "linecolor": "white",
           "ticks": "",
           "title": {
            "standoff": 15
           },
           "zerolinecolor": "white",
           "zerolinewidth": 2
          },
          "yaxis": {
           "automargin": true,
           "gridcolor": "white",
           "linecolor": "white",
           "ticks": "",
           "title": {
            "standoff": 15
           },
           "zerolinecolor": "white",
           "zerolinewidth": 2
          }
         }
        },
        "violinmode": "group",
        "yaxis": {
         "gridcolor": "rgb(219, 219, 219)",
         "range": [
          0,
          25
         ],
         "showgrid": true,
         "title": {
          "text": "Median Latency of Updates"
         }
        }
       }
      },
      "text/html": [
       "<div>\n",
       "        \n",
       "        \n",
       "            <div id=\"f668b57f-0b5f-4f82-b168-de0e56887f3c\" class=\"plotly-graph-div\" style=\"height:525px; width:100%;\"></div>\n",
       "            <script type=\"text/javascript\">\n",
       "                require([\"plotly\"], function(Plotly) {\n",
       "                    window.PLOTLYENV=window.PLOTLYENV || {};\n",
       "                    \n",
       "                if (document.getElementById(\"f668b57f-0b5f-4f82-b168-de0e56887f3c\")) {\n",
       "                    Plotly.newPlot(\n",
       "                        'f668b57f-0b5f-4f82-b168-de0e56887f3c',\n",
       "                        [{\"type\": \"scatter\", \"x\": [\"1st\", \"2nd\", \"3rd\", \"4th\", \"5th\", \"6th\", \"7th\", \"8th\"], \"y\": [17.0, 18.0, 21.0, 22.0, 20.5, 23.0, 15.0, 2.0]}],\n",
       "                        {\"boxmode\": \"group\", \"font\": {\"size\": 20}, \"legend\": {\"orientation\": \"h\", \"x\": 0.25, \"y\": 1.1}, \"plot_bgcolor\": \"rgba(0,0,0,0)\", \"template\": {\"data\": {\"bar\": [{\"error_x\": {\"color\": \"#2a3f5f\"}, \"error_y\": {\"color\": \"#2a3f5f\"}, \"marker\": {\"line\": {\"color\": \"#E5ECF6\", \"width\": 0.5}}, \"type\": \"bar\"}], \"barpolar\": [{\"marker\": {\"line\": {\"color\": \"#E5ECF6\", \"width\": 0.5}}, \"type\": \"barpolar\"}], \"carpet\": [{\"aaxis\": {\"endlinecolor\": \"#2a3f5f\", \"gridcolor\": \"white\", \"linecolor\": \"white\", \"minorgridcolor\": \"white\", \"startlinecolor\": \"#2a3f5f\"}, \"baxis\": {\"endlinecolor\": \"#2a3f5f\", \"gridcolor\": \"white\", \"linecolor\": \"white\", \"minorgridcolor\": \"white\", \"startlinecolor\": \"#2a3f5f\"}, \"type\": \"carpet\"}], \"choropleth\": [{\"colorbar\": {\"outlinewidth\": 0, \"ticks\": \"\"}, \"type\": \"choropleth\"}], \"contour\": [{\"colorbar\": {\"outlinewidth\": 0, \"ticks\": \"\"}, \"colorscale\": [[0.0, \"#0d0887\"], [0.1111111111111111, \"#46039f\"], [0.2222222222222222, \"#7201a8\"], [0.3333333333333333, \"#9c179e\"], [0.4444444444444444, \"#bd3786\"], [0.5555555555555556, \"#d8576b\"], [0.6666666666666666, \"#ed7953\"], [0.7777777777777778, \"#fb9f3a\"], [0.8888888888888888, \"#fdca26\"], [1.0, \"#f0f921\"]], \"type\": \"contour\"}], \"contourcarpet\": [{\"colorbar\": {\"outlinewidth\": 0, \"ticks\": \"\"}, \"type\": \"contourcarpet\"}], \"heatmap\": [{\"colorbar\": {\"outlinewidth\": 0, \"ticks\": \"\"}, \"colorscale\": [[0.0, \"#0d0887\"], [0.1111111111111111, \"#46039f\"], [0.2222222222222222, \"#7201a8\"], [0.3333333333333333, \"#9c179e\"], [0.4444444444444444, \"#bd3786\"], [0.5555555555555556, \"#d8576b\"], [0.6666666666666666, \"#ed7953\"], [0.7777777777777778, \"#fb9f3a\"], [0.8888888888888888, \"#fdca26\"], [1.0, \"#f0f921\"]], \"type\": \"heatmap\"}], \"heatmapgl\": [{\"colorbar\": {\"outlinewidth\": 0, \"ticks\": \"\"}, \"colorscale\": [[0.0, \"#0d0887\"], [0.1111111111111111, \"#46039f\"], [0.2222222222222222, \"#7201a8\"], [0.3333333333333333, \"#9c179e\"], [0.4444444444444444, \"#bd3786\"], [0.5555555555555556, \"#d8576b\"], [0.6666666666666666, \"#ed7953\"], [0.7777777777777778, \"#fb9f3a\"], [0.8888888888888888, \"#fdca26\"], [1.0, \"#f0f921\"]], \"type\": \"heatmapgl\"}], \"histogram\": [{\"marker\": {\"colorbar\": {\"outlinewidth\": 0, \"ticks\": \"\"}}, \"type\": \"histogram\"}], \"histogram2d\": [{\"colorbar\": {\"outlinewidth\": 0, \"ticks\": \"\"}, \"colorscale\": [[0.0, \"#0d0887\"], [0.1111111111111111, \"#46039f\"], [0.2222222222222222, \"#7201a8\"], [0.3333333333333333, \"#9c179e\"], [0.4444444444444444, \"#bd3786\"], [0.5555555555555556, \"#d8576b\"], [0.6666666666666666, \"#ed7953\"], [0.7777777777777778, \"#fb9f3a\"], [0.8888888888888888, \"#fdca26\"], [1.0, \"#f0f921\"]], \"type\": \"histogram2d\"}], \"histogram2dcontour\": [{\"colorbar\": {\"outlinewidth\": 0, \"ticks\": \"\"}, \"colorscale\": [[0.0, \"#0d0887\"], [0.1111111111111111, \"#46039f\"], [0.2222222222222222, \"#7201a8\"], [0.3333333333333333, \"#9c179e\"], [0.4444444444444444, \"#bd3786\"], [0.5555555555555556, \"#d8576b\"], [0.6666666666666666, \"#ed7953\"], [0.7777777777777778, \"#fb9f3a\"], [0.8888888888888888, \"#fdca26\"], [1.0, \"#f0f921\"]], \"type\": \"histogram2dcontour\"}], \"mesh3d\": [{\"colorbar\": {\"outlinewidth\": 0, \"ticks\": \"\"}, \"type\": \"mesh3d\"}], \"parcoords\": [{\"line\": {\"colorbar\": {\"outlinewidth\": 0, \"ticks\": \"\"}}, \"type\": \"parcoords\"}], \"pie\": [{\"automargin\": true, \"type\": \"pie\"}], \"scatter\": [{\"marker\": {\"colorbar\": {\"outlinewidth\": 0, \"ticks\": \"\"}}, \"type\": \"scatter\"}], \"scatter3d\": [{\"line\": {\"colorbar\": {\"outlinewidth\": 0, \"ticks\": \"\"}}, \"marker\": {\"colorbar\": {\"outlinewidth\": 0, \"ticks\": \"\"}}, \"type\": \"scatter3d\"}], \"scattercarpet\": [{\"marker\": {\"colorbar\": {\"outlinewidth\": 0, \"ticks\": \"\"}}, \"type\": \"scattercarpet\"}], \"scattergeo\": [{\"marker\": {\"colorbar\": {\"outlinewidth\": 0, \"ticks\": \"\"}}, \"type\": \"scattergeo\"}], \"scattergl\": [{\"marker\": {\"colorbar\": {\"outlinewidth\": 0, \"ticks\": \"\"}}, \"type\": \"scattergl\"}], \"scattermapbox\": [{\"marker\": {\"colorbar\": {\"outlinewidth\": 0, \"ticks\": \"\"}}, \"type\": \"scattermapbox\"}], \"scatterpolar\": [{\"marker\": {\"colorbar\": {\"outlinewidth\": 0, \"ticks\": \"\"}}, \"type\": \"scatterpolar\"}], \"scatterpolargl\": [{\"marker\": {\"colorbar\": {\"outlinewidth\": 0, \"ticks\": \"\"}}, \"type\": \"scatterpolargl\"}], \"scatterternary\": [{\"marker\": {\"colorbar\": {\"outlinewidth\": 0, \"ticks\": \"\"}}, \"type\": \"scatterternary\"}], \"surface\": [{\"colorbar\": {\"outlinewidth\": 0, \"ticks\": \"\"}, \"colorscale\": [[0.0, \"#0d0887\"], [0.1111111111111111, \"#46039f\"], [0.2222222222222222, \"#7201a8\"], [0.3333333333333333, \"#9c179e\"], [0.4444444444444444, \"#bd3786\"], [0.5555555555555556, \"#d8576b\"], [0.6666666666666666, \"#ed7953\"], [0.7777777777777778, \"#fb9f3a\"], [0.8888888888888888, \"#fdca26\"], [1.0, \"#f0f921\"]], \"type\": \"surface\"}], \"table\": [{\"cells\": {\"fill\": {\"color\": \"#EBF0F8\"}, \"line\": {\"color\": \"white\"}}, \"header\": {\"fill\": {\"color\": \"#C8D4E3\"}, \"line\": {\"color\": \"white\"}}, \"type\": \"table\"}]}, \"layout\": {\"annotationdefaults\": {\"arrowcolor\": \"#2a3f5f\", \"arrowhead\": 0, \"arrowwidth\": 1}, \"coloraxis\": {\"colorbar\": {\"outlinewidth\": 0, \"ticks\": \"\"}}, \"colorscale\": {\"diverging\": [[0, \"#8e0152\"], [0.1, \"#c51b7d\"], [0.2, \"#de77ae\"], [0.3, \"#f1b6da\"], [0.4, \"#fde0ef\"], [0.5, \"#f7f7f7\"], [0.6, \"#e6f5d0\"], [0.7, \"#b8e186\"], [0.8, \"#7fbc41\"], [0.9, \"#4d9221\"], [1, \"#276419\"]], \"sequential\": [[0.0, \"#0d0887\"], [0.1111111111111111, \"#46039f\"], [0.2222222222222222, \"#7201a8\"], [0.3333333333333333, \"#9c179e\"], [0.4444444444444444, \"#bd3786\"], [0.5555555555555556, \"#d8576b\"], [0.6666666666666666, \"#ed7953\"], [0.7777777777777778, \"#fb9f3a\"], [0.8888888888888888, \"#fdca26\"], [1.0, \"#f0f921\"]], \"sequentialminus\": [[0.0, \"#0d0887\"], [0.1111111111111111, \"#46039f\"], [0.2222222222222222, \"#7201a8\"], [0.3333333333333333, \"#9c179e\"], [0.4444444444444444, \"#bd3786\"], [0.5555555555555556, \"#d8576b\"], [0.6666666666666666, \"#ed7953\"], [0.7777777777777778, \"#fb9f3a\"], [0.8888888888888888, \"#fdca26\"], [1.0, \"#f0f921\"]]}, \"colorway\": [\"#636efa\", \"#EF553B\", \"#00cc96\", \"#ab63fa\", \"#FFA15A\", \"#19d3f3\", \"#FF6692\", \"#B6E880\", \"#FF97FF\", \"#FECB52\"], \"font\": {\"color\": \"#2a3f5f\"}, \"geo\": {\"bgcolor\": \"white\", \"lakecolor\": \"white\", \"landcolor\": \"#E5ECF6\", \"showlakes\": true, \"showland\": true, \"subunitcolor\": \"white\"}, \"hoverlabel\": {\"align\": \"left\"}, \"hovermode\": \"closest\", \"mapbox\": {\"style\": \"light\"}, \"paper_bgcolor\": \"white\", \"plot_bgcolor\": \"#E5ECF6\", \"polar\": {\"angularaxis\": {\"gridcolor\": \"white\", \"linecolor\": \"white\", \"ticks\": \"\"}, \"bgcolor\": \"#E5ECF6\", \"radialaxis\": {\"gridcolor\": \"white\", \"linecolor\": \"white\", \"ticks\": \"\"}}, \"scene\": {\"xaxis\": {\"backgroundcolor\": \"#E5ECF6\", \"gridcolor\": \"white\", \"gridwidth\": 2, \"linecolor\": \"white\", \"showbackground\": true, \"ticks\": \"\", \"zerolinecolor\": \"white\"}, \"yaxis\": {\"backgroundcolor\": \"#E5ECF6\", \"gridcolor\": \"white\", \"gridwidth\": 2, \"linecolor\": \"white\", \"showbackground\": true, \"ticks\": \"\", \"zerolinecolor\": \"white\"}, \"zaxis\": {\"backgroundcolor\": \"#E5ECF6\", \"gridcolor\": \"white\", \"gridwidth\": 2, \"linecolor\": \"white\", \"showbackground\": true, \"ticks\": \"\", \"zerolinecolor\": \"white\"}}, \"shapedefaults\": {\"line\": {\"color\": \"#2a3f5f\"}}, \"ternary\": {\"aaxis\": {\"gridcolor\": \"white\", \"linecolor\": \"white\", \"ticks\": \"\"}, \"baxis\": {\"gridcolor\": \"white\", \"linecolor\": \"white\", \"ticks\": \"\"}, \"bgcolor\": \"#E5ECF6\", \"caxis\": {\"gridcolor\": \"white\", \"linecolor\": \"white\", \"ticks\": \"\"}}, \"title\": {\"x\": 0.05}, \"xaxis\": {\"automargin\": true, \"gridcolor\": \"white\", \"linecolor\": \"white\", \"ticks\": \"\", \"title\": {\"standoff\": 15}, \"zerolinecolor\": \"white\", \"zerolinewidth\": 2}, \"yaxis\": {\"automargin\": true, \"gridcolor\": \"white\", \"linecolor\": \"white\", \"ticks\": \"\", \"title\": {\"standoff\": 15}, \"zerolinecolor\": \"white\", \"zerolinewidth\": 2}}}, \"violinmode\": \"group\", \"yaxis\": {\"gridcolor\": \"rgb(219, 219, 219)\", \"range\": [0, 25], \"showgrid\": true, \"title\": {\"text\": \"Median Latency of Updates\"}}},\n",
       "                        {\"responsive\": true}\n",
       "                    ).then(function(){\n",
       "                            \n",
       "var gd = document.getElementById('f668b57f-0b5f-4f82-b168-de0e56887f3c');\n",
       "var x = new MutationObserver(function (mutations, observer) {{\n",
       "        var display = window.getComputedStyle(gd).display;\n",
       "        if (!display || display === 'none') {{\n",
       "            console.log([gd, 'removed!']);\n",
       "            Plotly.purge(gd);\n",
       "            observer.disconnect();\n",
       "        }}\n",
       "}});\n",
       "\n",
       "// Listen for the removal of the full notebook cells\n",
       "var notebookContainer = gd.closest('#notebook-container');\n",
       "if (notebookContainer) {{\n",
       "    x.observe(notebookContainer, {childList: true});\n",
       "}}\n",
       "\n",
       "// Listen for the clearing of the current output cell\n",
       "var outputEl = gd.closest('.output');\n",
       "if (outputEl) {{\n",
       "    x.observe(outputEl, {childList: true});\n",
       "}}\n",
       "\n",
       "                        })\n",
       "                };\n",
       "                });\n",
       "            </script>\n",
       "        </div>"
      ]
     },
     "metadata": {},
     "output_type": "display_data"
    }
   ],
   "source": [
    "# Plot latency points per update within year 1, 2, 3 etc...\n",
    "data=[]\n",
    "medians=[]\n",
    "# for each severity, calculate the counts on each bulletin\n",
    "for yr in range(int(12/howManyMonths)*4):\n",
    "    print(yr)\n",
    "    print(statistics.mean(latencyPoints[yr]))\n",
    "    medians.append(statistics.median(latencyPoints[yr]))\n",
    "    print()\n",
    "    formatGood=\"th\"\n",
    "    if yr==0:\n",
    "        formatGood=\"st\"\n",
    "    elif yr==1:\n",
    "        formatGood=\"nd\"\n",
    "    elif yr==2:\n",
    "        formatGood=\"rd\"\n",
    "\n",
    "    data.append(go.Box(\n",
    "            y=latencyPoints[yr],\n",
    "            name=str(yr+1) +formatGood, #+\" period\"\n",
    "            boxpoints = 'all',\n",
    "            showlegend=False,\n",
    "            marker=dict(color=\"rgb(31, 119, 180)\")\n",
    "        ))\n",
    "\n",
    "\n",
    "# Edit the layout\n",
    "layout = dict(#title = \"Average Latency per 6 Month Periods after Release\",\n",
    "              yaxis = dict(title = 'Days',showgrid=True, gridcolor='rgb(219, 219, 219)'),\n",
    "              #xaxis = dict(title = '6 Month Period'),\n",
    "              plot_bgcolor='rgba(0,0,0,0)',\n",
    "              font=dict(size=20))\n",
    "\n",
    "fig = dict(data=data, layout=layout)\n",
    "py.offline.iplot(fig, filename='avg-latency-since-release-years.png')\n",
    "# print(\"REMEMBER TO ADD VERIZON\")\n",
    "# print(\"REMEMBER TO ADD VERIZON\")\n",
    "# print(\"REMEMBER TO ADD VERIZON\")\n",
    "\n",
    "if \"Verizon\" in carrierDF.Carrier.values and saveFigs==True: # only save if no Verizon\n",
    "    pio.write_image(fig, 'avg-latency-since-release-years.pdf', width=1000, height=600)\n",
    "    \n",
    "    \n",
    "############################################################################################################################\n",
    "############################################################################################################################\n",
    "############################################################################################################################\n",
    "\n",
    "# LINE CHART INSTEAD\n",
    "data=[]\n",
    "\n",
    "quarters=[]\n",
    "for y in range(len(medians)):\n",
    "    x=y+1\n",
    "    if x==1: quarters.append(\"1st\")\n",
    "    elif x==2: quarters.append(\"2nd\")\n",
    "    elif x==3: quarters.append(\"3rd\")\n",
    "    else: quarters.append(str(x) + \"th\")\n",
    "\n",
    "\n",
    "data.append(go.Scatter(\n",
    "            x=quarters,\n",
    "            y=medians,\n",
    "        ))\n",
    "\n",
    "\n",
    "    \n",
    "# Edit the layout\n",
    "layout = dict(#title = \"Number of Updates per 6 Month Period after Release per Carrier\",\n",
    "              yaxis = dict(title = 'Median Latency of Updates',showgrid=True, gridcolor='rgb(219, 219, 219)',range=[0,25]),\n",
    "              #xaxis = dict(title = '6 Month Period'),\n",
    "              plot_bgcolor='rgba(0,0,0,0)',\n",
    "              boxmode='group',\n",
    "              violinmode='group',\n",
    "              legend_orientation=\"h\",\n",
    "              legend=dict(x=0.25, y=1.1),\n",
    "              font=dict(size=20)\n",
    "              )\n",
    "\n",
    "fig = dict(data=data, layout=layout)\n",
    "py.offline.iplot(fig, filename='release-years-frequency-per-carrier-median.png')\n",
    "\n",
    "\n",
    "if not \"Verizon\" in carrierDF.Carrier.values and saveFigs==True: # only save if no Verizon\n",
    "    pio.write_image(fig, 'carrier-number-updates-released-per-year.pdf', width=1000, height=600)\n"
   ]
  },
  {
   "cell_type": "code",
   "execution_count": 7,
   "metadata": {
    "scrolled": false
   },
   "outputs": [
    {
     "data": {
      "application/vnd.plotly.v1+json": {
       "config": {
        "linkText": "Export to plot.ly",
        "plotlyServerURL": "https://plot.ly",
        "showLink": false
       },
       "data": [
        {
         "boxpoints": "all",
         "marker": {
          "color": "rgb(31, 119, 180)"
         },
         "name": "1st",
         "showlegend": false,
         "type": "box",
         "y": [
          0,
          2,
          0,
          2,
          1,
          1,
          1,
          5,
          5,
          2,
          1,
          5,
          0,
          3,
          1,
          3,
          0,
          1,
          4,
          1,
          0,
          1,
          2,
          1,
          0,
          1,
          0,
          0,
          5,
          3,
          0,
          2,
          4,
          6,
          6,
          5,
          2,
          5,
          1,
          5,
          5,
          5,
          3,
          5,
          6,
          6,
          2,
          2,
          2,
          2,
          0,
          1,
          1,
          4,
          1,
          4,
          0,
          4,
          0,
          2,
          2,
          1,
          4,
          1,
          2,
          0,
          3,
          5,
          0,
          0,
          1,
          0,
          2,
          0,
          0,
          0,
          0,
          0,
          0,
          0,
          1,
          1,
          2,
          1,
          3,
          0,
          3,
          1,
          2,
          2,
          0,
          3,
          0,
          0,
          1,
          1,
          0,
          0,
          2,
          0,
          1,
          3,
          2,
          2,
          1,
          2,
          1,
          0,
          1,
          3,
          2,
          3,
          3,
          0,
          1,
          0,
          0,
          0,
          1,
          1
         ]
        },
        {
         "boxpoints": "all",
         "marker": {
          "color": "rgb(31, 119, 180)"
         },
         "name": "2nd",
         "showlegend": false,
         "type": "box",
         "y": [
          1,
          5,
          0,
          1,
          2,
          1,
          0,
          1,
          0,
          4,
          3,
          3,
          6,
          1,
          0,
          0,
          4,
          0,
          0,
          2,
          2,
          0,
          2,
          2,
          0,
          2,
          1,
          0,
          3,
          2,
          0,
          2,
          5,
          6,
          6,
          3,
          3,
          0,
          1,
          3,
          4,
          5,
          6,
          5,
          5,
          5,
          0,
          2,
          1,
          0,
          0,
          1,
          0,
          3,
          0,
          1,
          3,
          4,
          1,
          2,
          6,
          2,
          4,
          2,
          0,
          3,
          4,
          1,
          1,
          0,
          1,
          2,
          0,
          0,
          1,
          1,
          1,
          0,
          2,
          2,
          1,
          4,
          1,
          1,
          1,
          2,
          3,
          0,
          1,
          2,
          0,
          1,
          0,
          1,
          1,
          1,
          1,
          1,
          0,
          3,
          0,
          4,
          3,
          3,
          3,
          3,
          2,
          2,
          1,
          0,
          1,
          1,
          1,
          1,
          1,
          1
         ]
        },
        {
         "boxpoints": "all",
         "marker": {
          "color": "rgb(31, 119, 180)"
         },
         "name": "3rd",
         "showlegend": false,
         "type": "box",
         "y": [
          1,
          2,
          4,
          0,
          0,
          2,
          0,
          0,
          0,
          2,
          5,
          4,
          3,
          0,
          4,
          0,
          4,
          2,
          0,
          2,
          2,
          0,
          5,
          2,
          2,
          3,
          6,
          6,
          6,
          6,
          5,
          6,
          4,
          6,
          6,
          5,
          6,
          3,
          3,
          2,
          0,
          0,
          2,
          1,
          0,
          2,
          1,
          0,
          4,
          0,
          0,
          2,
          1,
          1,
          1,
          3,
          3,
          0,
          0,
          0,
          0,
          5,
          0,
          0,
          1,
          1,
          2,
          3,
          0,
          1,
          1,
          1,
          1,
          2,
          1,
          0,
          0,
          0,
          1,
          0,
          1,
          0,
          0,
          4,
          1,
          2,
          2,
          2,
          2,
          0,
          0,
          0,
          1,
          0,
          0,
          0,
          0,
          0,
          0,
          0,
          1,
          1
         ]
        },
        {
         "boxpoints": "all",
         "marker": {
          "color": "rgb(31, 119, 180)"
         },
         "name": "4th",
         "showlegend": false,
         "type": "box",
         "y": [
          0,
          0,
          5,
          0,
          0,
          3,
          0,
          0,
          1,
          2,
          5,
          2,
          4,
          0,
          4,
          1,
          2,
          1,
          0,
          0,
          2,
          0,
          2,
          2,
          6,
          6,
          6,
          4,
          4,
          0,
          6,
          5,
          5,
          6,
          4,
          5,
          6,
          4,
          6,
          2,
          0,
          3,
          1,
          0,
          0,
          0,
          1,
          0,
          0,
          3,
          1,
          0,
          0,
          2,
          0,
          1,
          2,
          1,
          0,
          0,
          0,
          1,
          0,
          1,
          0,
          1,
          1,
          2,
          0,
          5,
          0,
          1,
          1,
          2,
          0,
          0,
          0,
          0,
          1,
          1,
          0,
          0,
          0,
          1,
          2,
          0,
          0,
          0,
          0,
          2,
          2,
          3,
          2,
          1,
          1,
          1,
          2,
          0,
          1,
          0,
          1,
          0,
          1,
          0,
          1,
          0,
          1,
          0,
          1,
          0,
          1
         ]
        },
        {
         "boxpoints": "all",
         "marker": {
          "color": "rgb(31, 119, 180)"
         },
         "name": "5th",
         "showlegend": false,
         "type": "box",
         "y": [
          0,
          0,
          0,
          0,
          0,
          0,
          0,
          2,
          1,
          3,
          0,
          1,
          2,
          0,
          1,
          0,
          0,
          1,
          2,
          6,
          6,
          5,
          6,
          4,
          5,
          5,
          4,
          5,
          3,
          3,
          3,
          3,
          2,
          0,
          1,
          0,
          0,
          0,
          0,
          2,
          1,
          0,
          0,
          5,
          0,
          0,
          0,
          0,
          0,
          0,
          0,
          3,
          0,
          0,
          2,
          0,
          2,
          2,
          0,
          1,
          1,
          0,
          0,
          3,
          0,
          0,
          1,
          0,
          0,
          0,
          0,
          0,
          3,
          0,
          0,
          0,
          0,
          0,
          0,
          2,
          0,
          0,
          2,
          0,
          0,
          0,
          3,
          0,
          1,
          0,
          1,
          0,
          0,
          0,
          0,
          0,
          0,
          1,
          0,
          1
         ]
        },
        {
         "boxpoints": "all",
         "marker": {
          "color": "rgb(31, 119, 180)"
         },
         "name": "6th",
         "showlegend": false,
         "type": "box",
         "y": [
          0,
          0,
          0,
          0,
          0,
          0,
          0,
          0,
          0,
          0,
          0,
          1,
          0,
          0,
          0,
          0,
          0,
          5,
          4,
          5,
          5,
          4,
          5,
          6,
          5,
          5,
          6,
          6,
          0,
          0,
          0,
          0,
          0,
          0,
          0,
          0,
          0,
          0,
          3,
          0,
          0,
          0,
          0,
          0,
          0,
          0,
          1,
          0,
          2,
          0,
          4,
          1,
          0,
          1,
          2,
          0,
          0,
          1,
          0,
          0,
          0,
          0,
          0,
          0,
          0,
          0,
          0,
          1,
          0,
          0,
          0,
          0,
          0,
          3,
          1,
          0,
          1,
          1,
          2,
          0,
          1,
          0,
          1,
          1,
          0,
          0,
          0,
          0,
          0,
          0,
          0,
          0,
          0
         ]
        },
        {
         "boxpoints": "all",
         "marker": {
          "color": "rgb(31, 119, 180)"
         },
         "name": "7th",
         "showlegend": false,
         "type": "box",
         "y": [
          0,
          0,
          0,
          0,
          0,
          0,
          0,
          0,
          0,
          0,
          0,
          0,
          0,
          0,
          0,
          0,
          0,
          0,
          0,
          0,
          0,
          0,
          0,
          1,
          1,
          0,
          0,
          0,
          0,
          0,
          0,
          0,
          2,
          0,
          1,
          0,
          0,
          0,
          0,
          0,
          0,
          1,
          0,
          0,
          0,
          0,
          0,
          1,
          0,
          0,
          0,
          0,
          0,
          0,
          0,
          0,
          0,
          0,
          0,
          0,
          0,
          0,
          0,
          0,
          0,
          0,
          0,
          0,
          0,
          0,
          0,
          1,
          0,
          0,
          0,
          0,
          0,
          0,
          1,
          0,
          0
         ]
        },
        {
         "boxpoints": "all",
         "marker": {
          "color": "rgb(31, 119, 180)"
         },
         "name": "8th",
         "showlegend": false,
         "type": "box",
         "y": [
          0,
          0,
          0,
          0,
          0,
          0,
          0,
          0,
          0,
          0,
          0,
          0,
          0,
          0,
          0,
          0,
          0,
          0,
          0,
          0,
          0,
          0,
          0,
          0,
          0,
          0,
          0,
          0,
          1,
          0,
          0,
          0,
          0,
          2,
          0,
          0,
          0,
          0,
          0,
          0,
          0,
          0,
          0,
          0,
          0,
          0,
          0,
          0,
          0,
          0,
          0,
          0,
          0,
          1,
          0,
          1,
          1,
          0,
          0,
          0,
          0,
          0,
          0
         ]
        }
       ],
       "layout": {
        "font": {
         "size": 20
        },
        "plot_bgcolor": "rgba(0,0,0,0)",
        "template": {
         "data": {
          "bar": [
           {
            "error_x": {
             "color": "#2a3f5f"
            },
            "error_y": {
             "color": "#2a3f5f"
            },
            "marker": {
             "line": {
              "color": "#E5ECF6",
              "width": 0.5
             }
            },
            "type": "bar"
           }
          ],
          "barpolar": [
           {
            "marker": {
             "line": {
              "color": "#E5ECF6",
              "width": 0.5
             }
            },
            "type": "barpolar"
           }
          ],
          "carpet": [
           {
            "aaxis": {
             "endlinecolor": "#2a3f5f",
             "gridcolor": "white",
             "linecolor": "white",
             "minorgridcolor": "white",
             "startlinecolor": "#2a3f5f"
            },
            "baxis": {
             "endlinecolor": "#2a3f5f",
             "gridcolor": "white",
             "linecolor": "white",
             "minorgridcolor": "white",
             "startlinecolor": "#2a3f5f"
            },
            "type": "carpet"
           }
          ],
          "choropleth": [
           {
            "colorbar": {
             "outlinewidth": 0,
             "ticks": ""
            },
            "type": "choropleth"
           }
          ],
          "contour": [
           {
            "colorbar": {
             "outlinewidth": 0,
             "ticks": ""
            },
            "colorscale": [
             [
              0,
              "#0d0887"
             ],
             [
              0.1111111111111111,
              "#46039f"
             ],
             [
              0.2222222222222222,
              "#7201a8"
             ],
             [
              0.3333333333333333,
              "#9c179e"
             ],
             [
              0.4444444444444444,
              "#bd3786"
             ],
             [
              0.5555555555555556,
              "#d8576b"
             ],
             [
              0.6666666666666666,
              "#ed7953"
             ],
             [
              0.7777777777777778,
              "#fb9f3a"
             ],
             [
              0.8888888888888888,
              "#fdca26"
             ],
             [
              1,
              "#f0f921"
             ]
            ],
            "type": "contour"
           }
          ],
          "contourcarpet": [
           {
            "colorbar": {
             "outlinewidth": 0,
             "ticks": ""
            },
            "type": "contourcarpet"
           }
          ],
          "heatmap": [
           {
            "colorbar": {
             "outlinewidth": 0,
             "ticks": ""
            },
            "colorscale": [
             [
              0,
              "#0d0887"
             ],
             [
              0.1111111111111111,
              "#46039f"
             ],
             [
              0.2222222222222222,
              "#7201a8"
             ],
             [
              0.3333333333333333,
              "#9c179e"
             ],
             [
              0.4444444444444444,
              "#bd3786"
             ],
             [
              0.5555555555555556,
              "#d8576b"
             ],
             [
              0.6666666666666666,
              "#ed7953"
             ],
             [
              0.7777777777777778,
              "#fb9f3a"
             ],
             [
              0.8888888888888888,
              "#fdca26"
             ],
             [
              1,
              "#f0f921"
             ]
            ],
            "type": "heatmap"
           }
          ],
          "heatmapgl": [
           {
            "colorbar": {
             "outlinewidth": 0,
             "ticks": ""
            },
            "colorscale": [
             [
              0,
              "#0d0887"
             ],
             [
              0.1111111111111111,
              "#46039f"
             ],
             [
              0.2222222222222222,
              "#7201a8"
             ],
             [
              0.3333333333333333,
              "#9c179e"
             ],
             [
              0.4444444444444444,
              "#bd3786"
             ],
             [
              0.5555555555555556,
              "#d8576b"
             ],
             [
              0.6666666666666666,
              "#ed7953"
             ],
             [
              0.7777777777777778,
              "#fb9f3a"
             ],
             [
              0.8888888888888888,
              "#fdca26"
             ],
             [
              1,
              "#f0f921"
             ]
            ],
            "type": "heatmapgl"
           }
          ],
          "histogram": [
           {
            "marker": {
             "colorbar": {
              "outlinewidth": 0,
              "ticks": ""
             }
            },
            "type": "histogram"
           }
          ],
          "histogram2d": [
           {
            "colorbar": {
             "outlinewidth": 0,
             "ticks": ""
            },
            "colorscale": [
             [
              0,
              "#0d0887"
             ],
             [
              0.1111111111111111,
              "#46039f"
             ],
             [
              0.2222222222222222,
              "#7201a8"
             ],
             [
              0.3333333333333333,
              "#9c179e"
             ],
             [
              0.4444444444444444,
              "#bd3786"
             ],
             [
              0.5555555555555556,
              "#d8576b"
             ],
             [
              0.6666666666666666,
              "#ed7953"
             ],
             [
              0.7777777777777778,
              "#fb9f3a"
             ],
             [
              0.8888888888888888,
              "#fdca26"
             ],
             [
              1,
              "#f0f921"
             ]
            ],
            "type": "histogram2d"
           }
          ],
          "histogram2dcontour": [
           {
            "colorbar": {
             "outlinewidth": 0,
             "ticks": ""
            },
            "colorscale": [
             [
              0,
              "#0d0887"
             ],
             [
              0.1111111111111111,
              "#46039f"
             ],
             [
              0.2222222222222222,
              "#7201a8"
             ],
             [
              0.3333333333333333,
              "#9c179e"
             ],
             [
              0.4444444444444444,
              "#bd3786"
             ],
             [
              0.5555555555555556,
              "#d8576b"
             ],
             [
              0.6666666666666666,
              "#ed7953"
             ],
             [
              0.7777777777777778,
              "#fb9f3a"
             ],
             [
              0.8888888888888888,
              "#fdca26"
             ],
             [
              1,
              "#f0f921"
             ]
            ],
            "type": "histogram2dcontour"
           }
          ],
          "mesh3d": [
           {
            "colorbar": {
             "outlinewidth": 0,
             "ticks": ""
            },
            "type": "mesh3d"
           }
          ],
          "parcoords": [
           {
            "line": {
             "colorbar": {
              "outlinewidth": 0,
              "ticks": ""
             }
            },
            "type": "parcoords"
           }
          ],
          "pie": [
           {
            "automargin": true,
            "type": "pie"
           }
          ],
          "scatter": [
           {
            "marker": {
             "colorbar": {
              "outlinewidth": 0,
              "ticks": ""
             }
            },
            "type": "scatter"
           }
          ],
          "scatter3d": [
           {
            "line": {
             "colorbar": {
              "outlinewidth": 0,
              "ticks": ""
             }
            },
            "marker": {
             "colorbar": {
              "outlinewidth": 0,
              "ticks": ""
             }
            },
            "type": "scatter3d"
           }
          ],
          "scattercarpet": [
           {
            "marker": {
             "colorbar": {
              "outlinewidth": 0,
              "ticks": ""
             }
            },
            "type": "scattercarpet"
           }
          ],
          "scattergeo": [
           {
            "marker": {
             "colorbar": {
              "outlinewidth": 0,
              "ticks": ""
             }
            },
            "type": "scattergeo"
           }
          ],
          "scattergl": [
           {
            "marker": {
             "colorbar": {
              "outlinewidth": 0,
              "ticks": ""
             }
            },
            "type": "scattergl"
           }
          ],
          "scattermapbox": [
           {
            "marker": {
             "colorbar": {
              "outlinewidth": 0,
              "ticks": ""
             }
            },
            "type": "scattermapbox"
           }
          ],
          "scatterpolar": [
           {
            "marker": {
             "colorbar": {
              "outlinewidth": 0,
              "ticks": ""
             }
            },
            "type": "scatterpolar"
           }
          ],
          "scatterpolargl": [
           {
            "marker": {
             "colorbar": {
              "outlinewidth": 0,
              "ticks": ""
             }
            },
            "type": "scatterpolargl"
           }
          ],
          "scatterternary": [
           {
            "marker": {
             "colorbar": {
              "outlinewidth": 0,
              "ticks": ""
             }
            },
            "type": "scatterternary"
           }
          ],
          "surface": [
           {
            "colorbar": {
             "outlinewidth": 0,
             "ticks": ""
            },
            "colorscale": [
             [
              0,
              "#0d0887"
             ],
             [
              0.1111111111111111,
              "#46039f"
             ],
             [
              0.2222222222222222,
              "#7201a8"
             ],
             [
              0.3333333333333333,
              "#9c179e"
             ],
             [
              0.4444444444444444,
              "#bd3786"
             ],
             [
              0.5555555555555556,
              "#d8576b"
             ],
             [
              0.6666666666666666,
              "#ed7953"
             ],
             [
              0.7777777777777778,
              "#fb9f3a"
             ],
             [
              0.8888888888888888,
              "#fdca26"
             ],
             [
              1,
              "#f0f921"
             ]
            ],
            "type": "surface"
           }
          ],
          "table": [
           {
            "cells": {
             "fill": {
              "color": "#EBF0F8"
             },
             "line": {
              "color": "white"
             }
            },
            "header": {
             "fill": {
              "color": "#C8D4E3"
             },
             "line": {
              "color": "white"
             }
            },
            "type": "table"
           }
          ]
         },
         "layout": {
          "annotationdefaults": {
           "arrowcolor": "#2a3f5f",
           "arrowhead": 0,
           "arrowwidth": 1
          },
          "coloraxis": {
           "colorbar": {
            "outlinewidth": 0,
            "ticks": ""
           }
          },
          "colorscale": {
           "diverging": [
            [
             0,
             "#8e0152"
            ],
            [
             0.1,
             "#c51b7d"
            ],
            [
             0.2,
             "#de77ae"
            ],
            [
             0.3,
             "#f1b6da"
            ],
            [
             0.4,
             "#fde0ef"
            ],
            [
             0.5,
             "#f7f7f7"
            ],
            [
             0.6,
             "#e6f5d0"
            ],
            [
             0.7,
             "#b8e186"
            ],
            [
             0.8,
             "#7fbc41"
            ],
            [
             0.9,
             "#4d9221"
            ],
            [
             1,
             "#276419"
            ]
           ],
           "sequential": [
            [
             0,
             "#0d0887"
            ],
            [
             0.1111111111111111,
             "#46039f"
            ],
            [
             0.2222222222222222,
             "#7201a8"
            ],
            [
             0.3333333333333333,
             "#9c179e"
            ],
            [
             0.4444444444444444,
             "#bd3786"
            ],
            [
             0.5555555555555556,
             "#d8576b"
            ],
            [
             0.6666666666666666,
             "#ed7953"
            ],
            [
             0.7777777777777778,
             "#fb9f3a"
            ],
            [
             0.8888888888888888,
             "#fdca26"
            ],
            [
             1,
             "#f0f921"
            ]
           ],
           "sequentialminus": [
            [
             0,
             "#0d0887"
            ],
            [
             0.1111111111111111,
             "#46039f"
            ],
            [
             0.2222222222222222,
             "#7201a8"
            ],
            [
             0.3333333333333333,
             "#9c179e"
            ],
            [
             0.4444444444444444,
             "#bd3786"
            ],
            [
             0.5555555555555556,
             "#d8576b"
            ],
            [
             0.6666666666666666,
             "#ed7953"
            ],
            [
             0.7777777777777778,
             "#fb9f3a"
            ],
            [
             0.8888888888888888,
             "#fdca26"
            ],
            [
             1,
             "#f0f921"
            ]
           ]
          },
          "colorway": [
           "#636efa",
           "#EF553B",
           "#00cc96",
           "#ab63fa",
           "#FFA15A",
           "#19d3f3",
           "#FF6692",
           "#B6E880",
           "#FF97FF",
           "#FECB52"
          ],
          "font": {
           "color": "#2a3f5f"
          },
          "geo": {
           "bgcolor": "white",
           "lakecolor": "white",
           "landcolor": "#E5ECF6",
           "showlakes": true,
           "showland": true,
           "subunitcolor": "white"
          },
          "hoverlabel": {
           "align": "left"
          },
          "hovermode": "closest",
          "mapbox": {
           "style": "light"
          },
          "paper_bgcolor": "white",
          "plot_bgcolor": "#E5ECF6",
          "polar": {
           "angularaxis": {
            "gridcolor": "white",
            "linecolor": "white",
            "ticks": ""
           },
           "bgcolor": "#E5ECF6",
           "radialaxis": {
            "gridcolor": "white",
            "linecolor": "white",
            "ticks": ""
           }
          },
          "scene": {
           "xaxis": {
            "backgroundcolor": "#E5ECF6",
            "gridcolor": "white",
            "gridwidth": 2,
            "linecolor": "white",
            "showbackground": true,
            "ticks": "",
            "zerolinecolor": "white"
           },
           "yaxis": {
            "backgroundcolor": "#E5ECF6",
            "gridcolor": "white",
            "gridwidth": 2,
            "linecolor": "white",
            "showbackground": true,
            "ticks": "",
            "zerolinecolor": "white"
           },
           "zaxis": {
            "backgroundcolor": "#E5ECF6",
            "gridcolor": "white",
            "gridwidth": 2,
            "linecolor": "white",
            "showbackground": true,
            "ticks": "",
            "zerolinecolor": "white"
           }
          },
          "shapedefaults": {
           "line": {
            "color": "#2a3f5f"
           }
          },
          "ternary": {
           "aaxis": {
            "gridcolor": "white",
            "linecolor": "white",
            "ticks": ""
           },
           "baxis": {
            "gridcolor": "white",
            "linecolor": "white",
            "ticks": ""
           },
           "bgcolor": "#E5ECF6",
           "caxis": {
            "gridcolor": "white",
            "linecolor": "white",
            "ticks": ""
           }
          },
          "title": {
           "x": 0.05
          },
          "xaxis": {
           "automargin": true,
           "gridcolor": "white",
           "linecolor": "white",
           "ticks": "",
           "title": {
            "standoff": 15
           },
           "zerolinecolor": "white",
           "zerolinewidth": 2
          },
          "yaxis": {
           "automargin": true,
           "gridcolor": "white",
           "linecolor": "white",
           "ticks": "",
           "title": {
            "standoff": 15
           },
           "zerolinecolor": "white",
           "zerolinewidth": 2
          }
         }
        },
        "yaxis": {
         "gridcolor": "rgb(219, 219, 219)",
         "showgrid": true,
         "title": {
          "text": "Number of Updates"
         }
        }
       }
      },
      "text/html": [
       "<div>\n",
       "        \n",
       "        \n",
       "            <div id=\"845d6a2f-8d66-47d5-8c33-57f8d9e581a1\" class=\"plotly-graph-div\" style=\"height:525px; width:100%;\"></div>\n",
       "            <script type=\"text/javascript\">\n",
       "                require([\"plotly\"], function(Plotly) {\n",
       "                    window.PLOTLYENV=window.PLOTLYENV || {};\n",
       "                    \n",
       "                if (document.getElementById(\"845d6a2f-8d66-47d5-8c33-57f8d9e581a1\")) {\n",
       "                    Plotly.newPlot(\n",
       "                        '845d6a2f-8d66-47d5-8c33-57f8d9e581a1',\n",
       "                        [{\"boxpoints\": \"all\", \"marker\": {\"color\": \"rgb(31, 119, 180)\"}, \"name\": \"1st\", \"showlegend\": false, \"type\": \"box\", \"y\": [0, 2, 0, 2, 1, 1, 1, 5, 5, 2, 1, 5, 0, 3, 1, 3, 0, 1, 4, 1, 0, 1, 2, 1, 0, 1, 0, 0, 5, 3, 0, 2, 4, 6, 6, 5, 2, 5, 1, 5, 5, 5, 3, 5, 6, 6, 2, 2, 2, 2, 0, 1, 1, 4, 1, 4, 0, 4, 0, 2, 2, 1, 4, 1, 2, 0, 3, 5, 0, 0, 1, 0, 2, 0, 0, 0, 0, 0, 0, 0, 1, 1, 2, 1, 3, 0, 3, 1, 2, 2, 0, 3, 0, 0, 1, 1, 0, 0, 2, 0, 1, 3, 2, 2, 1, 2, 1, 0, 1, 3, 2, 3, 3, 0, 1, 0, 0, 0, 1, 1]}, {\"boxpoints\": \"all\", \"marker\": {\"color\": \"rgb(31, 119, 180)\"}, \"name\": \"2nd\", \"showlegend\": false, \"type\": \"box\", \"y\": [1, 5, 0, 1, 2, 1, 0, 1, 0, 4, 3, 3, 6, 1, 0, 0, 4, 0, 0, 2, 2, 0, 2, 2, 0, 2, 1, 0, 3, 2, 0, 2, 5, 6, 6, 3, 3, 0, 1, 3, 4, 5, 6, 5, 5, 5, 0, 2, 1, 0, 0, 1, 0, 3, 0, 1, 3, 4, 1, 2, 6, 2, 4, 2, 0, 3, 4, 1, 1, 0, 1, 2, 0, 0, 1, 1, 1, 0, 2, 2, 1, 4, 1, 1, 1, 2, 3, 0, 1, 2, 0, 1, 0, 1, 1, 1, 1, 1, 0, 3, 0, 4, 3, 3, 3, 3, 2, 2, 1, 0, 1, 1, 1, 1, 1, 1]}, {\"boxpoints\": \"all\", \"marker\": {\"color\": \"rgb(31, 119, 180)\"}, \"name\": \"3rd\", \"showlegend\": false, \"type\": \"box\", \"y\": [1, 2, 4, 0, 0, 2, 0, 0, 0, 2, 5, 4, 3, 0, 4, 0, 4, 2, 0, 2, 2, 0, 5, 2, 2, 3, 6, 6, 6, 6, 5, 6, 4, 6, 6, 5, 6, 3, 3, 2, 0, 0, 2, 1, 0, 2, 1, 0, 4, 0, 0, 2, 1, 1, 1, 3, 3, 0, 0, 0, 0, 5, 0, 0, 1, 1, 2, 3, 0, 1, 1, 1, 1, 2, 1, 0, 0, 0, 1, 0, 1, 0, 0, 4, 1, 2, 2, 2, 2, 0, 0, 0, 1, 0, 0, 0, 0, 0, 0, 0, 1, 1]}, {\"boxpoints\": \"all\", \"marker\": {\"color\": \"rgb(31, 119, 180)\"}, \"name\": \"4th\", \"showlegend\": false, \"type\": \"box\", \"y\": [0, 0, 5, 0, 0, 3, 0, 0, 1, 2, 5, 2, 4, 0, 4, 1, 2, 1, 0, 0, 2, 0, 2, 2, 6, 6, 6, 4, 4, 0, 6, 5, 5, 6, 4, 5, 6, 4, 6, 2, 0, 3, 1, 0, 0, 0, 1, 0, 0, 3, 1, 0, 0, 2, 0, 1, 2, 1, 0, 0, 0, 1, 0, 1, 0, 1, 1, 2, 0, 5, 0, 1, 1, 2, 0, 0, 0, 0, 1, 1, 0, 0, 0, 1, 2, 0, 0, 0, 0, 2, 2, 3, 2, 1, 1, 1, 2, 0, 1, 0, 1, 0, 1, 0, 1, 0, 1, 0, 1, 0, 1]}, {\"boxpoints\": \"all\", \"marker\": {\"color\": \"rgb(31, 119, 180)\"}, \"name\": \"5th\", \"showlegend\": false, \"type\": \"box\", \"y\": [0, 0, 0, 0, 0, 0, 0, 2, 1, 3, 0, 1, 2, 0, 1, 0, 0, 1, 2, 6, 6, 5, 6, 4, 5, 5, 4, 5, 3, 3, 3, 3, 2, 0, 1, 0, 0, 0, 0, 2, 1, 0, 0, 5, 0, 0, 0, 0, 0, 0, 0, 3, 0, 0, 2, 0, 2, 2, 0, 1, 1, 0, 0, 3, 0, 0, 1, 0, 0, 0, 0, 0, 3, 0, 0, 0, 0, 0, 0, 2, 0, 0, 2, 0, 0, 0, 3, 0, 1, 0, 1, 0, 0, 0, 0, 0, 0, 1, 0, 1]}, {\"boxpoints\": \"all\", \"marker\": {\"color\": \"rgb(31, 119, 180)\"}, \"name\": \"6th\", \"showlegend\": false, \"type\": \"box\", \"y\": [0, 0, 0, 0, 0, 0, 0, 0, 0, 0, 0, 1, 0, 0, 0, 0, 0, 5, 4, 5, 5, 4, 5, 6, 5, 5, 6, 6, 0, 0, 0, 0, 0, 0, 0, 0, 0, 0, 3, 0, 0, 0, 0, 0, 0, 0, 1, 0, 2, 0, 4, 1, 0, 1, 2, 0, 0, 1, 0, 0, 0, 0, 0, 0, 0, 0, 0, 1, 0, 0, 0, 0, 0, 3, 1, 0, 1, 1, 2, 0, 1, 0, 1, 1, 0, 0, 0, 0, 0, 0, 0, 0, 0]}, {\"boxpoints\": \"all\", \"marker\": {\"color\": \"rgb(31, 119, 180)\"}, \"name\": \"7th\", \"showlegend\": false, \"type\": \"box\", \"y\": [0, 0, 0, 0, 0, 0, 0, 0, 0, 0, 0, 0, 0, 0, 0, 0, 0, 0, 0, 0, 0, 0, 0, 1, 1, 0, 0, 0, 0, 0, 0, 0, 2, 0, 1, 0, 0, 0, 0, 0, 0, 1, 0, 0, 0, 0, 0, 1, 0, 0, 0, 0, 0, 0, 0, 0, 0, 0, 0, 0, 0, 0, 0, 0, 0, 0, 0, 0, 0, 0, 0, 1, 0, 0, 0, 0, 0, 0, 1, 0, 0]}, {\"boxpoints\": \"all\", \"marker\": {\"color\": \"rgb(31, 119, 180)\"}, \"name\": \"8th\", \"showlegend\": false, \"type\": \"box\", \"y\": [0, 0, 0, 0, 0, 0, 0, 0, 0, 0, 0, 0, 0, 0, 0, 0, 0, 0, 0, 0, 0, 0, 0, 0, 0, 0, 0, 0, 1, 0, 0, 0, 0, 2, 0, 0, 0, 0, 0, 0, 0, 0, 0, 0, 0, 0, 0, 0, 0, 0, 0, 0, 0, 1, 0, 1, 1, 0, 0, 0, 0, 0, 0]}],\n",
       "                        {\"font\": {\"size\": 20}, \"plot_bgcolor\": \"rgba(0,0,0,0)\", \"template\": {\"data\": {\"bar\": [{\"error_x\": {\"color\": \"#2a3f5f\"}, \"error_y\": {\"color\": \"#2a3f5f\"}, \"marker\": {\"line\": {\"color\": \"#E5ECF6\", \"width\": 0.5}}, \"type\": \"bar\"}], \"barpolar\": [{\"marker\": {\"line\": {\"color\": \"#E5ECF6\", \"width\": 0.5}}, \"type\": \"barpolar\"}], \"carpet\": [{\"aaxis\": {\"endlinecolor\": \"#2a3f5f\", \"gridcolor\": \"white\", \"linecolor\": \"white\", \"minorgridcolor\": \"white\", \"startlinecolor\": \"#2a3f5f\"}, \"baxis\": {\"endlinecolor\": \"#2a3f5f\", \"gridcolor\": \"white\", \"linecolor\": \"white\", \"minorgridcolor\": \"white\", \"startlinecolor\": \"#2a3f5f\"}, \"type\": \"carpet\"}], \"choropleth\": [{\"colorbar\": {\"outlinewidth\": 0, \"ticks\": \"\"}, \"type\": \"choropleth\"}], \"contour\": [{\"colorbar\": {\"outlinewidth\": 0, \"ticks\": \"\"}, \"colorscale\": [[0.0, \"#0d0887\"], [0.1111111111111111, \"#46039f\"], [0.2222222222222222, \"#7201a8\"], [0.3333333333333333, \"#9c179e\"], [0.4444444444444444, \"#bd3786\"], [0.5555555555555556, \"#d8576b\"], [0.6666666666666666, \"#ed7953\"], [0.7777777777777778, \"#fb9f3a\"], [0.8888888888888888, \"#fdca26\"], [1.0, \"#f0f921\"]], \"type\": \"contour\"}], \"contourcarpet\": [{\"colorbar\": {\"outlinewidth\": 0, \"ticks\": \"\"}, \"type\": \"contourcarpet\"}], \"heatmap\": [{\"colorbar\": {\"outlinewidth\": 0, \"ticks\": \"\"}, \"colorscale\": [[0.0, \"#0d0887\"], [0.1111111111111111, \"#46039f\"], [0.2222222222222222, \"#7201a8\"], [0.3333333333333333, \"#9c179e\"], [0.4444444444444444, \"#bd3786\"], [0.5555555555555556, \"#d8576b\"], [0.6666666666666666, \"#ed7953\"], [0.7777777777777778, \"#fb9f3a\"], [0.8888888888888888, \"#fdca26\"], [1.0, \"#f0f921\"]], \"type\": \"heatmap\"}], \"heatmapgl\": [{\"colorbar\": {\"outlinewidth\": 0, \"ticks\": \"\"}, \"colorscale\": [[0.0, \"#0d0887\"], [0.1111111111111111, \"#46039f\"], [0.2222222222222222, \"#7201a8\"], [0.3333333333333333, \"#9c179e\"], [0.4444444444444444, \"#bd3786\"], [0.5555555555555556, \"#d8576b\"], [0.6666666666666666, \"#ed7953\"], [0.7777777777777778, \"#fb9f3a\"], [0.8888888888888888, \"#fdca26\"], [1.0, \"#f0f921\"]], \"type\": \"heatmapgl\"}], \"histogram\": [{\"marker\": {\"colorbar\": {\"outlinewidth\": 0, \"ticks\": \"\"}}, \"type\": \"histogram\"}], \"histogram2d\": [{\"colorbar\": {\"outlinewidth\": 0, \"ticks\": \"\"}, \"colorscale\": [[0.0, \"#0d0887\"], [0.1111111111111111, \"#46039f\"], [0.2222222222222222, \"#7201a8\"], [0.3333333333333333, \"#9c179e\"], [0.4444444444444444, \"#bd3786\"], [0.5555555555555556, \"#d8576b\"], [0.6666666666666666, \"#ed7953\"], [0.7777777777777778, \"#fb9f3a\"], [0.8888888888888888, \"#fdca26\"], [1.0, \"#f0f921\"]], \"type\": \"histogram2d\"}], \"histogram2dcontour\": [{\"colorbar\": {\"outlinewidth\": 0, \"ticks\": \"\"}, \"colorscale\": [[0.0, \"#0d0887\"], [0.1111111111111111, \"#46039f\"], [0.2222222222222222, \"#7201a8\"], [0.3333333333333333, \"#9c179e\"], [0.4444444444444444, \"#bd3786\"], [0.5555555555555556, \"#d8576b\"], [0.6666666666666666, \"#ed7953\"], [0.7777777777777778, \"#fb9f3a\"], [0.8888888888888888, \"#fdca26\"], [1.0, \"#f0f921\"]], \"type\": \"histogram2dcontour\"}], \"mesh3d\": [{\"colorbar\": {\"outlinewidth\": 0, \"ticks\": \"\"}, \"type\": \"mesh3d\"}], \"parcoords\": [{\"line\": {\"colorbar\": {\"outlinewidth\": 0, \"ticks\": \"\"}}, \"type\": \"parcoords\"}], \"pie\": [{\"automargin\": true, \"type\": \"pie\"}], \"scatter\": [{\"marker\": {\"colorbar\": {\"outlinewidth\": 0, \"ticks\": \"\"}}, \"type\": \"scatter\"}], \"scatter3d\": [{\"line\": {\"colorbar\": {\"outlinewidth\": 0, \"ticks\": \"\"}}, \"marker\": {\"colorbar\": {\"outlinewidth\": 0, \"ticks\": \"\"}}, \"type\": \"scatter3d\"}], \"scattercarpet\": [{\"marker\": {\"colorbar\": {\"outlinewidth\": 0, \"ticks\": \"\"}}, \"type\": \"scattercarpet\"}], \"scattergeo\": [{\"marker\": {\"colorbar\": {\"outlinewidth\": 0, \"ticks\": \"\"}}, \"type\": \"scattergeo\"}], \"scattergl\": [{\"marker\": {\"colorbar\": {\"outlinewidth\": 0, \"ticks\": \"\"}}, \"type\": \"scattergl\"}], \"scattermapbox\": [{\"marker\": {\"colorbar\": {\"outlinewidth\": 0, \"ticks\": \"\"}}, \"type\": \"scattermapbox\"}], \"scatterpolar\": [{\"marker\": {\"colorbar\": {\"outlinewidth\": 0, \"ticks\": \"\"}}, \"type\": \"scatterpolar\"}], \"scatterpolargl\": [{\"marker\": {\"colorbar\": {\"outlinewidth\": 0, \"ticks\": \"\"}}, \"type\": \"scatterpolargl\"}], \"scatterternary\": [{\"marker\": {\"colorbar\": {\"outlinewidth\": 0, \"ticks\": \"\"}}, \"type\": \"scatterternary\"}], \"surface\": [{\"colorbar\": {\"outlinewidth\": 0, \"ticks\": \"\"}, \"colorscale\": [[0.0, \"#0d0887\"], [0.1111111111111111, \"#46039f\"], [0.2222222222222222, \"#7201a8\"], [0.3333333333333333, \"#9c179e\"], [0.4444444444444444, \"#bd3786\"], [0.5555555555555556, \"#d8576b\"], [0.6666666666666666, \"#ed7953\"], [0.7777777777777778, \"#fb9f3a\"], [0.8888888888888888, \"#fdca26\"], [1.0, \"#f0f921\"]], \"type\": \"surface\"}], \"table\": [{\"cells\": {\"fill\": {\"color\": \"#EBF0F8\"}, \"line\": {\"color\": \"white\"}}, \"header\": {\"fill\": {\"color\": \"#C8D4E3\"}, \"line\": {\"color\": \"white\"}}, \"type\": \"table\"}]}, \"layout\": {\"annotationdefaults\": {\"arrowcolor\": \"#2a3f5f\", \"arrowhead\": 0, \"arrowwidth\": 1}, \"coloraxis\": {\"colorbar\": {\"outlinewidth\": 0, \"ticks\": \"\"}}, \"colorscale\": {\"diverging\": [[0, \"#8e0152\"], [0.1, \"#c51b7d\"], [0.2, \"#de77ae\"], [0.3, \"#f1b6da\"], [0.4, \"#fde0ef\"], [0.5, \"#f7f7f7\"], [0.6, \"#e6f5d0\"], [0.7, \"#b8e186\"], [0.8, \"#7fbc41\"], [0.9, \"#4d9221\"], [1, \"#276419\"]], \"sequential\": [[0.0, \"#0d0887\"], [0.1111111111111111, \"#46039f\"], [0.2222222222222222, \"#7201a8\"], [0.3333333333333333, \"#9c179e\"], [0.4444444444444444, \"#bd3786\"], [0.5555555555555556, \"#d8576b\"], [0.6666666666666666, \"#ed7953\"], [0.7777777777777778, \"#fb9f3a\"], [0.8888888888888888, \"#fdca26\"], [1.0, \"#f0f921\"]], \"sequentialminus\": [[0.0, \"#0d0887\"], [0.1111111111111111, \"#46039f\"], [0.2222222222222222, \"#7201a8\"], [0.3333333333333333, \"#9c179e\"], [0.4444444444444444, \"#bd3786\"], [0.5555555555555556, \"#d8576b\"], [0.6666666666666666, \"#ed7953\"], [0.7777777777777778, \"#fb9f3a\"], [0.8888888888888888, \"#fdca26\"], [1.0, \"#f0f921\"]]}, \"colorway\": [\"#636efa\", \"#EF553B\", \"#00cc96\", \"#ab63fa\", \"#FFA15A\", \"#19d3f3\", \"#FF6692\", \"#B6E880\", \"#FF97FF\", \"#FECB52\"], \"font\": {\"color\": \"#2a3f5f\"}, \"geo\": {\"bgcolor\": \"white\", \"lakecolor\": \"white\", \"landcolor\": \"#E5ECF6\", \"showlakes\": true, \"showland\": true, \"subunitcolor\": \"white\"}, \"hoverlabel\": {\"align\": \"left\"}, \"hovermode\": \"closest\", \"mapbox\": {\"style\": \"light\"}, \"paper_bgcolor\": \"white\", \"plot_bgcolor\": \"#E5ECF6\", \"polar\": {\"angularaxis\": {\"gridcolor\": \"white\", \"linecolor\": \"white\", \"ticks\": \"\"}, \"bgcolor\": \"#E5ECF6\", \"radialaxis\": {\"gridcolor\": \"white\", \"linecolor\": \"white\", \"ticks\": \"\"}}, \"scene\": {\"xaxis\": {\"backgroundcolor\": \"#E5ECF6\", \"gridcolor\": \"white\", \"gridwidth\": 2, \"linecolor\": \"white\", \"showbackground\": true, \"ticks\": \"\", \"zerolinecolor\": \"white\"}, \"yaxis\": {\"backgroundcolor\": \"#E5ECF6\", \"gridcolor\": \"white\", \"gridwidth\": 2, \"linecolor\": \"white\", \"showbackground\": true, \"ticks\": \"\", \"zerolinecolor\": \"white\"}, \"zaxis\": {\"backgroundcolor\": \"#E5ECF6\", \"gridcolor\": \"white\", \"gridwidth\": 2, \"linecolor\": \"white\", \"showbackground\": true, \"ticks\": \"\", \"zerolinecolor\": \"white\"}}, \"shapedefaults\": {\"line\": {\"color\": \"#2a3f5f\"}}, \"ternary\": {\"aaxis\": {\"gridcolor\": \"white\", \"linecolor\": \"white\", \"ticks\": \"\"}, \"baxis\": {\"gridcolor\": \"white\", \"linecolor\": \"white\", \"ticks\": \"\"}, \"bgcolor\": \"#E5ECF6\", \"caxis\": {\"gridcolor\": \"white\", \"linecolor\": \"white\", \"ticks\": \"\"}}, \"title\": {\"x\": 0.05}, \"xaxis\": {\"automargin\": true, \"gridcolor\": \"white\", \"linecolor\": \"white\", \"ticks\": \"\", \"title\": {\"standoff\": 15}, \"zerolinecolor\": \"white\", \"zerolinewidth\": 2}, \"yaxis\": {\"automargin\": true, \"gridcolor\": \"white\", \"linecolor\": \"white\", \"ticks\": \"\", \"title\": {\"standoff\": 15}, \"zerolinecolor\": \"white\", \"zerolinewidth\": 2}}}, \"yaxis\": {\"gridcolor\": \"rgb(219, 219, 219)\", \"showgrid\": true, \"title\": {\"text\": \"Number of Updates\"}}},\n",
       "                        {\"responsive\": true}\n",
       "                    ).then(function(){\n",
       "                            \n",
       "var gd = document.getElementById('845d6a2f-8d66-47d5-8c33-57f8d9e581a1');\n",
       "var x = new MutationObserver(function (mutations, observer) {{\n",
       "        var display = window.getComputedStyle(gd).display;\n",
       "        if (!display || display === 'none') {{\n",
       "            console.log([gd, 'removed!']);\n",
       "            Plotly.purge(gd);\n",
       "            observer.disconnect();\n",
       "        }}\n",
       "}});\n",
       "\n",
       "// Listen for the removal of the full notebook cells\n",
       "var notebookContainer = gd.closest('#notebook-container');\n",
       "if (notebookContainer) {{\n",
       "    x.observe(notebookContainer, {childList: true});\n",
       "}}\n",
       "\n",
       "// Listen for the clearing of the current output cell\n",
       "var outputEl = gd.closest('.output');\n",
       "if (outputEl) {{\n",
       "    x.observe(outputEl, {childList: true});\n",
       "}}\n",
       "\n",
       "                        })\n",
       "                };\n",
       "                });\n",
       "            </script>\n",
       "        </div>"
      ]
     },
     "metadata": {},
     "output_type": "display_data"
    },
    {
     "data": {
      "application/vnd.plotly.v1+json": {
       "config": {
        "linkText": "Export to plot.ly",
        "plotlyServerURL": "https://plot.ly",
        "showLink": false
       },
       "data": [
        {
         "marker": {
          "color": "rgb(31, 119, 180)"
         },
         "type": "scatter",
         "x": [
          "1st",
          "2nd",
          "3rd",
          "4th",
          "5th",
          "6th",
          "7th",
          "8th"
         ],
         "y": [
          1,
          1,
          1,
          1,
          0,
          0,
          0,
          0
         ]
        }
       ],
       "layout": {
        "boxmode": "group",
        "font": {
         "size": 20
        },
        "legend": {
         "orientation": "h",
         "x": 0.25,
         "y": 1.1
        },
        "plot_bgcolor": "rgba(0,0,0,0)",
        "template": {
         "data": {
          "bar": [
           {
            "error_x": {
             "color": "#2a3f5f"
            },
            "error_y": {
             "color": "#2a3f5f"
            },
            "marker": {
             "line": {
              "color": "#E5ECF6",
              "width": 0.5
             }
            },
            "type": "bar"
           }
          ],
          "barpolar": [
           {
            "marker": {
             "line": {
              "color": "#E5ECF6",
              "width": 0.5
             }
            },
            "type": "barpolar"
           }
          ],
          "carpet": [
           {
            "aaxis": {
             "endlinecolor": "#2a3f5f",
             "gridcolor": "white",
             "linecolor": "white",
             "minorgridcolor": "white",
             "startlinecolor": "#2a3f5f"
            },
            "baxis": {
             "endlinecolor": "#2a3f5f",
             "gridcolor": "white",
             "linecolor": "white",
             "minorgridcolor": "white",
             "startlinecolor": "#2a3f5f"
            },
            "type": "carpet"
           }
          ],
          "choropleth": [
           {
            "colorbar": {
             "outlinewidth": 0,
             "ticks": ""
            },
            "type": "choropleth"
           }
          ],
          "contour": [
           {
            "colorbar": {
             "outlinewidth": 0,
             "ticks": ""
            },
            "colorscale": [
             [
              0,
              "#0d0887"
             ],
             [
              0.1111111111111111,
              "#46039f"
             ],
             [
              0.2222222222222222,
              "#7201a8"
             ],
             [
              0.3333333333333333,
              "#9c179e"
             ],
             [
              0.4444444444444444,
              "#bd3786"
             ],
             [
              0.5555555555555556,
              "#d8576b"
             ],
             [
              0.6666666666666666,
              "#ed7953"
             ],
             [
              0.7777777777777778,
              "#fb9f3a"
             ],
             [
              0.8888888888888888,
              "#fdca26"
             ],
             [
              1,
              "#f0f921"
             ]
            ],
            "type": "contour"
           }
          ],
          "contourcarpet": [
           {
            "colorbar": {
             "outlinewidth": 0,
             "ticks": ""
            },
            "type": "contourcarpet"
           }
          ],
          "heatmap": [
           {
            "colorbar": {
             "outlinewidth": 0,
             "ticks": ""
            },
            "colorscale": [
             [
              0,
              "#0d0887"
             ],
             [
              0.1111111111111111,
              "#46039f"
             ],
             [
              0.2222222222222222,
              "#7201a8"
             ],
             [
              0.3333333333333333,
              "#9c179e"
             ],
             [
              0.4444444444444444,
              "#bd3786"
             ],
             [
              0.5555555555555556,
              "#d8576b"
             ],
             [
              0.6666666666666666,
              "#ed7953"
             ],
             [
              0.7777777777777778,
              "#fb9f3a"
             ],
             [
              0.8888888888888888,
              "#fdca26"
             ],
             [
              1,
              "#f0f921"
             ]
            ],
            "type": "heatmap"
           }
          ],
          "heatmapgl": [
           {
            "colorbar": {
             "outlinewidth": 0,
             "ticks": ""
            },
            "colorscale": [
             [
              0,
              "#0d0887"
             ],
             [
              0.1111111111111111,
              "#46039f"
             ],
             [
              0.2222222222222222,
              "#7201a8"
             ],
             [
              0.3333333333333333,
              "#9c179e"
             ],
             [
              0.4444444444444444,
              "#bd3786"
             ],
             [
              0.5555555555555556,
              "#d8576b"
             ],
             [
              0.6666666666666666,
              "#ed7953"
             ],
             [
              0.7777777777777778,
              "#fb9f3a"
             ],
             [
              0.8888888888888888,
              "#fdca26"
             ],
             [
              1,
              "#f0f921"
             ]
            ],
            "type": "heatmapgl"
           }
          ],
          "histogram": [
           {
            "marker": {
             "colorbar": {
              "outlinewidth": 0,
              "ticks": ""
             }
            },
            "type": "histogram"
           }
          ],
          "histogram2d": [
           {
            "colorbar": {
             "outlinewidth": 0,
             "ticks": ""
            },
            "colorscale": [
             [
              0,
              "#0d0887"
             ],
             [
              0.1111111111111111,
              "#46039f"
             ],
             [
              0.2222222222222222,
              "#7201a8"
             ],
             [
              0.3333333333333333,
              "#9c179e"
             ],
             [
              0.4444444444444444,
              "#bd3786"
             ],
             [
              0.5555555555555556,
              "#d8576b"
             ],
             [
              0.6666666666666666,
              "#ed7953"
             ],
             [
              0.7777777777777778,
              "#fb9f3a"
             ],
             [
              0.8888888888888888,
              "#fdca26"
             ],
             [
              1,
              "#f0f921"
             ]
            ],
            "type": "histogram2d"
           }
          ],
          "histogram2dcontour": [
           {
            "colorbar": {
             "outlinewidth": 0,
             "ticks": ""
            },
            "colorscale": [
             [
              0,
              "#0d0887"
             ],
             [
              0.1111111111111111,
              "#46039f"
             ],
             [
              0.2222222222222222,
              "#7201a8"
             ],
             [
              0.3333333333333333,
              "#9c179e"
             ],
             [
              0.4444444444444444,
              "#bd3786"
             ],
             [
              0.5555555555555556,
              "#d8576b"
             ],
             [
              0.6666666666666666,
              "#ed7953"
             ],
             [
              0.7777777777777778,
              "#fb9f3a"
             ],
             [
              0.8888888888888888,
              "#fdca26"
             ],
             [
              1,
              "#f0f921"
             ]
            ],
            "type": "histogram2dcontour"
           }
          ],
          "mesh3d": [
           {
            "colorbar": {
             "outlinewidth": 0,
             "ticks": ""
            },
            "type": "mesh3d"
           }
          ],
          "parcoords": [
           {
            "line": {
             "colorbar": {
              "outlinewidth": 0,
              "ticks": ""
             }
            },
            "type": "parcoords"
           }
          ],
          "pie": [
           {
            "automargin": true,
            "type": "pie"
           }
          ],
          "scatter": [
           {
            "marker": {
             "colorbar": {
              "outlinewidth": 0,
              "ticks": ""
             }
            },
            "type": "scatter"
           }
          ],
          "scatter3d": [
           {
            "line": {
             "colorbar": {
              "outlinewidth": 0,
              "ticks": ""
             }
            },
            "marker": {
             "colorbar": {
              "outlinewidth": 0,
              "ticks": ""
             }
            },
            "type": "scatter3d"
           }
          ],
          "scattercarpet": [
           {
            "marker": {
             "colorbar": {
              "outlinewidth": 0,
              "ticks": ""
             }
            },
            "type": "scattercarpet"
           }
          ],
          "scattergeo": [
           {
            "marker": {
             "colorbar": {
              "outlinewidth": 0,
              "ticks": ""
             }
            },
            "type": "scattergeo"
           }
          ],
          "scattergl": [
           {
            "marker": {
             "colorbar": {
              "outlinewidth": 0,
              "ticks": ""
             }
            },
            "type": "scattergl"
           }
          ],
          "scattermapbox": [
           {
            "marker": {
             "colorbar": {
              "outlinewidth": 0,
              "ticks": ""
             }
            },
            "type": "scattermapbox"
           }
          ],
          "scatterpolar": [
           {
            "marker": {
             "colorbar": {
              "outlinewidth": 0,
              "ticks": ""
             }
            },
            "type": "scatterpolar"
           }
          ],
          "scatterpolargl": [
           {
            "marker": {
             "colorbar": {
              "outlinewidth": 0,
              "ticks": ""
             }
            },
            "type": "scatterpolargl"
           }
          ],
          "scatterternary": [
           {
            "marker": {
             "colorbar": {
              "outlinewidth": 0,
              "ticks": ""
             }
            },
            "type": "scatterternary"
           }
          ],
          "surface": [
           {
            "colorbar": {
             "outlinewidth": 0,
             "ticks": ""
            },
            "colorscale": [
             [
              0,
              "#0d0887"
             ],
             [
              0.1111111111111111,
              "#46039f"
             ],
             [
              0.2222222222222222,
              "#7201a8"
             ],
             [
              0.3333333333333333,
              "#9c179e"
             ],
             [
              0.4444444444444444,
              "#bd3786"
             ],
             [
              0.5555555555555556,
              "#d8576b"
             ],
             [
              0.6666666666666666,
              "#ed7953"
             ],
             [
              0.7777777777777778,
              "#fb9f3a"
             ],
             [
              0.8888888888888888,
              "#fdca26"
             ],
             [
              1,
              "#f0f921"
             ]
            ],
            "type": "surface"
           }
          ],
          "table": [
           {
            "cells": {
             "fill": {
              "color": "#EBF0F8"
             },
             "line": {
              "color": "white"
             }
            },
            "header": {
             "fill": {
              "color": "#C8D4E3"
             },
             "line": {
              "color": "white"
             }
            },
            "type": "table"
           }
          ]
         },
         "layout": {
          "annotationdefaults": {
           "arrowcolor": "#2a3f5f",
           "arrowhead": 0,
           "arrowwidth": 1
          },
          "coloraxis": {
           "colorbar": {
            "outlinewidth": 0,
            "ticks": ""
           }
          },
          "colorscale": {
           "diverging": [
            [
             0,
             "#8e0152"
            ],
            [
             0.1,
             "#c51b7d"
            ],
            [
             0.2,
             "#de77ae"
            ],
            [
             0.3,
             "#f1b6da"
            ],
            [
             0.4,
             "#fde0ef"
            ],
            [
             0.5,
             "#f7f7f7"
            ],
            [
             0.6,
             "#e6f5d0"
            ],
            [
             0.7,
             "#b8e186"
            ],
            [
             0.8,
             "#7fbc41"
            ],
            [
             0.9,
             "#4d9221"
            ],
            [
             1,
             "#276419"
            ]
           ],
           "sequential": [
            [
             0,
             "#0d0887"
            ],
            [
             0.1111111111111111,
             "#46039f"
            ],
            [
             0.2222222222222222,
             "#7201a8"
            ],
            [
             0.3333333333333333,
             "#9c179e"
            ],
            [
             0.4444444444444444,
             "#bd3786"
            ],
            [
             0.5555555555555556,
             "#d8576b"
            ],
            [
             0.6666666666666666,
             "#ed7953"
            ],
            [
             0.7777777777777778,
             "#fb9f3a"
            ],
            [
             0.8888888888888888,
             "#fdca26"
            ],
            [
             1,
             "#f0f921"
            ]
           ],
           "sequentialminus": [
            [
             0,
             "#0d0887"
            ],
            [
             0.1111111111111111,
             "#46039f"
            ],
            [
             0.2222222222222222,
             "#7201a8"
            ],
            [
             0.3333333333333333,
             "#9c179e"
            ],
            [
             0.4444444444444444,
             "#bd3786"
            ],
            [
             0.5555555555555556,
             "#d8576b"
            ],
            [
             0.6666666666666666,
             "#ed7953"
            ],
            [
             0.7777777777777778,
             "#fb9f3a"
            ],
            [
             0.8888888888888888,
             "#fdca26"
            ],
            [
             1,
             "#f0f921"
            ]
           ]
          },
          "colorway": [
           "#636efa",
           "#EF553B",
           "#00cc96",
           "#ab63fa",
           "#FFA15A",
           "#19d3f3",
           "#FF6692",
           "#B6E880",
           "#FF97FF",
           "#FECB52"
          ],
          "font": {
           "color": "#2a3f5f"
          },
          "geo": {
           "bgcolor": "white",
           "lakecolor": "white",
           "landcolor": "#E5ECF6",
           "showlakes": true,
           "showland": true,
           "subunitcolor": "white"
          },
          "hoverlabel": {
           "align": "left"
          },
          "hovermode": "closest",
          "mapbox": {
           "style": "light"
          },
          "paper_bgcolor": "white",
          "plot_bgcolor": "#E5ECF6",
          "polar": {
           "angularaxis": {
            "gridcolor": "white",
            "linecolor": "white",
            "ticks": ""
           },
           "bgcolor": "#E5ECF6",
           "radialaxis": {
            "gridcolor": "white",
            "linecolor": "white",
            "ticks": ""
           }
          },
          "scene": {
           "xaxis": {
            "backgroundcolor": "#E5ECF6",
            "gridcolor": "white",
            "gridwidth": 2,
            "linecolor": "white",
            "showbackground": true,
            "ticks": "",
            "zerolinecolor": "white"
           },
           "yaxis": {
            "backgroundcolor": "#E5ECF6",
            "gridcolor": "white",
            "gridwidth": 2,
            "linecolor": "white",
            "showbackground": true,
            "ticks": "",
            "zerolinecolor": "white"
           },
           "zaxis": {
            "backgroundcolor": "#E5ECF6",
            "gridcolor": "white",
            "gridwidth": 2,
            "linecolor": "white",
            "showbackground": true,
            "ticks": "",
            "zerolinecolor": "white"
           }
          },
          "shapedefaults": {
           "line": {
            "color": "#2a3f5f"
           }
          },
          "ternary": {
           "aaxis": {
            "gridcolor": "white",
            "linecolor": "white",
            "ticks": ""
           },
           "baxis": {
            "gridcolor": "white",
            "linecolor": "white",
            "ticks": ""
           },
           "bgcolor": "#E5ECF6",
           "caxis": {
            "gridcolor": "white",
            "linecolor": "white",
            "ticks": ""
           }
          },
          "title": {
           "x": 0.05
          },
          "xaxis": {
           "automargin": true,
           "gridcolor": "white",
           "linecolor": "white",
           "ticks": "",
           "title": {
            "standoff": 15
           },
           "zerolinecolor": "white",
           "zerolinewidth": 2
          },
          "yaxis": {
           "automargin": true,
           "gridcolor": "white",
           "linecolor": "white",
           "ticks": "",
           "title": {
            "standoff": 15
           },
           "zerolinecolor": "white",
           "zerolinewidth": 2
          }
         }
        },
        "violinmode": "group",
        "yaxis": {
         "gridcolor": "rgb(219, 219, 219)",
         "range": [
          0,
          2
         ],
         "showgrid": true,
         "title": {
          "text": "Median Frequency of Updates"
         }
        }
       }
      },
      "text/html": [
       "<div>\n",
       "        \n",
       "        \n",
       "            <div id=\"1ba9fa5d-7198-4513-ab8d-b84910c6b10d\" class=\"plotly-graph-div\" style=\"height:525px; width:100%;\"></div>\n",
       "            <script type=\"text/javascript\">\n",
       "                require([\"plotly\"], function(Plotly) {\n",
       "                    window.PLOTLYENV=window.PLOTLYENV || {};\n",
       "                    \n",
       "                if (document.getElementById(\"1ba9fa5d-7198-4513-ab8d-b84910c6b10d\")) {\n",
       "                    Plotly.newPlot(\n",
       "                        '1ba9fa5d-7198-4513-ab8d-b84910c6b10d',\n",
       "                        [{\"marker\": {\"color\": \"rgb(31, 119, 180)\"}, \"type\": \"scatter\", \"x\": [\"1st\", \"2nd\", \"3rd\", \"4th\", \"5th\", \"6th\", \"7th\", \"8th\"], \"y\": [1.0, 1.0, 1.0, 1, 0.0, 0, 0, 0]}],\n",
       "                        {\"boxmode\": \"group\", \"font\": {\"size\": 20}, \"legend\": {\"orientation\": \"h\", \"x\": 0.25, \"y\": 1.1}, \"plot_bgcolor\": \"rgba(0,0,0,0)\", \"template\": {\"data\": {\"bar\": [{\"error_x\": {\"color\": \"#2a3f5f\"}, \"error_y\": {\"color\": \"#2a3f5f\"}, \"marker\": {\"line\": {\"color\": \"#E5ECF6\", \"width\": 0.5}}, \"type\": \"bar\"}], \"barpolar\": [{\"marker\": {\"line\": {\"color\": \"#E5ECF6\", \"width\": 0.5}}, \"type\": \"barpolar\"}], \"carpet\": [{\"aaxis\": {\"endlinecolor\": \"#2a3f5f\", \"gridcolor\": \"white\", \"linecolor\": \"white\", \"minorgridcolor\": \"white\", \"startlinecolor\": \"#2a3f5f\"}, \"baxis\": {\"endlinecolor\": \"#2a3f5f\", \"gridcolor\": \"white\", \"linecolor\": \"white\", \"minorgridcolor\": \"white\", \"startlinecolor\": \"#2a3f5f\"}, \"type\": \"carpet\"}], \"choropleth\": [{\"colorbar\": {\"outlinewidth\": 0, \"ticks\": \"\"}, \"type\": \"choropleth\"}], \"contour\": [{\"colorbar\": {\"outlinewidth\": 0, \"ticks\": \"\"}, \"colorscale\": [[0.0, \"#0d0887\"], [0.1111111111111111, \"#46039f\"], [0.2222222222222222, \"#7201a8\"], [0.3333333333333333, \"#9c179e\"], [0.4444444444444444, \"#bd3786\"], [0.5555555555555556, \"#d8576b\"], [0.6666666666666666, \"#ed7953\"], [0.7777777777777778, \"#fb9f3a\"], [0.8888888888888888, \"#fdca26\"], [1.0, \"#f0f921\"]], \"type\": \"contour\"}], \"contourcarpet\": [{\"colorbar\": {\"outlinewidth\": 0, \"ticks\": \"\"}, \"type\": \"contourcarpet\"}], \"heatmap\": [{\"colorbar\": {\"outlinewidth\": 0, \"ticks\": \"\"}, \"colorscale\": [[0.0, \"#0d0887\"], [0.1111111111111111, \"#46039f\"], [0.2222222222222222, \"#7201a8\"], [0.3333333333333333, \"#9c179e\"], [0.4444444444444444, \"#bd3786\"], [0.5555555555555556, \"#d8576b\"], [0.6666666666666666, \"#ed7953\"], [0.7777777777777778, \"#fb9f3a\"], [0.8888888888888888, \"#fdca26\"], [1.0, \"#f0f921\"]], \"type\": \"heatmap\"}], \"heatmapgl\": [{\"colorbar\": {\"outlinewidth\": 0, \"ticks\": \"\"}, \"colorscale\": [[0.0, \"#0d0887\"], [0.1111111111111111, \"#46039f\"], [0.2222222222222222, \"#7201a8\"], [0.3333333333333333, \"#9c179e\"], [0.4444444444444444, \"#bd3786\"], [0.5555555555555556, \"#d8576b\"], [0.6666666666666666, \"#ed7953\"], [0.7777777777777778, \"#fb9f3a\"], [0.8888888888888888, \"#fdca26\"], [1.0, \"#f0f921\"]], \"type\": \"heatmapgl\"}], \"histogram\": [{\"marker\": {\"colorbar\": {\"outlinewidth\": 0, \"ticks\": \"\"}}, \"type\": \"histogram\"}], \"histogram2d\": [{\"colorbar\": {\"outlinewidth\": 0, \"ticks\": \"\"}, \"colorscale\": [[0.0, \"#0d0887\"], [0.1111111111111111, \"#46039f\"], [0.2222222222222222, \"#7201a8\"], [0.3333333333333333, \"#9c179e\"], [0.4444444444444444, \"#bd3786\"], [0.5555555555555556, \"#d8576b\"], [0.6666666666666666, \"#ed7953\"], [0.7777777777777778, \"#fb9f3a\"], [0.8888888888888888, \"#fdca26\"], [1.0, \"#f0f921\"]], \"type\": \"histogram2d\"}], \"histogram2dcontour\": [{\"colorbar\": {\"outlinewidth\": 0, \"ticks\": \"\"}, \"colorscale\": [[0.0, \"#0d0887\"], [0.1111111111111111, \"#46039f\"], [0.2222222222222222, \"#7201a8\"], [0.3333333333333333, \"#9c179e\"], [0.4444444444444444, \"#bd3786\"], [0.5555555555555556, \"#d8576b\"], [0.6666666666666666, \"#ed7953\"], [0.7777777777777778, \"#fb9f3a\"], [0.8888888888888888, \"#fdca26\"], [1.0, \"#f0f921\"]], \"type\": \"histogram2dcontour\"}], \"mesh3d\": [{\"colorbar\": {\"outlinewidth\": 0, \"ticks\": \"\"}, \"type\": \"mesh3d\"}], \"parcoords\": [{\"line\": {\"colorbar\": {\"outlinewidth\": 0, \"ticks\": \"\"}}, \"type\": \"parcoords\"}], \"pie\": [{\"automargin\": true, \"type\": \"pie\"}], \"scatter\": [{\"marker\": {\"colorbar\": {\"outlinewidth\": 0, \"ticks\": \"\"}}, \"type\": \"scatter\"}], \"scatter3d\": [{\"line\": {\"colorbar\": {\"outlinewidth\": 0, \"ticks\": \"\"}}, \"marker\": {\"colorbar\": {\"outlinewidth\": 0, \"ticks\": \"\"}}, \"type\": \"scatter3d\"}], \"scattercarpet\": [{\"marker\": {\"colorbar\": {\"outlinewidth\": 0, \"ticks\": \"\"}}, \"type\": \"scattercarpet\"}], \"scattergeo\": [{\"marker\": {\"colorbar\": {\"outlinewidth\": 0, \"ticks\": \"\"}}, \"type\": \"scattergeo\"}], \"scattergl\": [{\"marker\": {\"colorbar\": {\"outlinewidth\": 0, \"ticks\": \"\"}}, \"type\": \"scattergl\"}], \"scattermapbox\": [{\"marker\": {\"colorbar\": {\"outlinewidth\": 0, \"ticks\": \"\"}}, \"type\": \"scattermapbox\"}], \"scatterpolar\": [{\"marker\": {\"colorbar\": {\"outlinewidth\": 0, \"ticks\": \"\"}}, \"type\": \"scatterpolar\"}], \"scatterpolargl\": [{\"marker\": {\"colorbar\": {\"outlinewidth\": 0, \"ticks\": \"\"}}, \"type\": \"scatterpolargl\"}], \"scatterternary\": [{\"marker\": {\"colorbar\": {\"outlinewidth\": 0, \"ticks\": \"\"}}, \"type\": \"scatterternary\"}], \"surface\": [{\"colorbar\": {\"outlinewidth\": 0, \"ticks\": \"\"}, \"colorscale\": [[0.0, \"#0d0887\"], [0.1111111111111111, \"#46039f\"], [0.2222222222222222, \"#7201a8\"], [0.3333333333333333, \"#9c179e\"], [0.4444444444444444, \"#bd3786\"], [0.5555555555555556, \"#d8576b\"], [0.6666666666666666, \"#ed7953\"], [0.7777777777777778, \"#fb9f3a\"], [0.8888888888888888, \"#fdca26\"], [1.0, \"#f0f921\"]], \"type\": \"surface\"}], \"table\": [{\"cells\": {\"fill\": {\"color\": \"#EBF0F8\"}, \"line\": {\"color\": \"white\"}}, \"header\": {\"fill\": {\"color\": \"#C8D4E3\"}, \"line\": {\"color\": \"white\"}}, \"type\": \"table\"}]}, \"layout\": {\"annotationdefaults\": {\"arrowcolor\": \"#2a3f5f\", \"arrowhead\": 0, \"arrowwidth\": 1}, \"coloraxis\": {\"colorbar\": {\"outlinewidth\": 0, \"ticks\": \"\"}}, \"colorscale\": {\"diverging\": [[0, \"#8e0152\"], [0.1, \"#c51b7d\"], [0.2, \"#de77ae\"], [0.3, \"#f1b6da\"], [0.4, \"#fde0ef\"], [0.5, \"#f7f7f7\"], [0.6, \"#e6f5d0\"], [0.7, \"#b8e186\"], [0.8, \"#7fbc41\"], [0.9, \"#4d9221\"], [1, \"#276419\"]], \"sequential\": [[0.0, \"#0d0887\"], [0.1111111111111111, \"#46039f\"], [0.2222222222222222, \"#7201a8\"], [0.3333333333333333, \"#9c179e\"], [0.4444444444444444, \"#bd3786\"], [0.5555555555555556, \"#d8576b\"], [0.6666666666666666, \"#ed7953\"], [0.7777777777777778, \"#fb9f3a\"], [0.8888888888888888, \"#fdca26\"], [1.0, \"#f0f921\"]], \"sequentialminus\": [[0.0, \"#0d0887\"], [0.1111111111111111, \"#46039f\"], [0.2222222222222222, \"#7201a8\"], [0.3333333333333333, \"#9c179e\"], [0.4444444444444444, \"#bd3786\"], [0.5555555555555556, \"#d8576b\"], [0.6666666666666666, \"#ed7953\"], [0.7777777777777778, \"#fb9f3a\"], [0.8888888888888888, \"#fdca26\"], [1.0, \"#f0f921\"]]}, \"colorway\": [\"#636efa\", \"#EF553B\", \"#00cc96\", \"#ab63fa\", \"#FFA15A\", \"#19d3f3\", \"#FF6692\", \"#B6E880\", \"#FF97FF\", \"#FECB52\"], \"font\": {\"color\": \"#2a3f5f\"}, \"geo\": {\"bgcolor\": \"white\", \"lakecolor\": \"white\", \"landcolor\": \"#E5ECF6\", \"showlakes\": true, \"showland\": true, \"subunitcolor\": \"white\"}, \"hoverlabel\": {\"align\": \"left\"}, \"hovermode\": \"closest\", \"mapbox\": {\"style\": \"light\"}, \"paper_bgcolor\": \"white\", \"plot_bgcolor\": \"#E5ECF6\", \"polar\": {\"angularaxis\": {\"gridcolor\": \"white\", \"linecolor\": \"white\", \"ticks\": \"\"}, \"bgcolor\": \"#E5ECF6\", \"radialaxis\": {\"gridcolor\": \"white\", \"linecolor\": \"white\", \"ticks\": \"\"}}, \"scene\": {\"xaxis\": {\"backgroundcolor\": \"#E5ECF6\", \"gridcolor\": \"white\", \"gridwidth\": 2, \"linecolor\": \"white\", \"showbackground\": true, \"ticks\": \"\", \"zerolinecolor\": \"white\"}, \"yaxis\": {\"backgroundcolor\": \"#E5ECF6\", \"gridcolor\": \"white\", \"gridwidth\": 2, \"linecolor\": \"white\", \"showbackground\": true, \"ticks\": \"\", \"zerolinecolor\": \"white\"}, \"zaxis\": {\"backgroundcolor\": \"#E5ECF6\", \"gridcolor\": \"white\", \"gridwidth\": 2, \"linecolor\": \"white\", \"showbackground\": true, \"ticks\": \"\", \"zerolinecolor\": \"white\"}}, \"shapedefaults\": {\"line\": {\"color\": \"#2a3f5f\"}}, \"ternary\": {\"aaxis\": {\"gridcolor\": \"white\", \"linecolor\": \"white\", \"ticks\": \"\"}, \"baxis\": {\"gridcolor\": \"white\", \"linecolor\": \"white\", \"ticks\": \"\"}, \"bgcolor\": \"#E5ECF6\", \"caxis\": {\"gridcolor\": \"white\", \"linecolor\": \"white\", \"ticks\": \"\"}}, \"title\": {\"x\": 0.05}, \"xaxis\": {\"automargin\": true, \"gridcolor\": \"white\", \"linecolor\": \"white\", \"ticks\": \"\", \"title\": {\"standoff\": 15}, \"zerolinecolor\": \"white\", \"zerolinewidth\": 2}, \"yaxis\": {\"automargin\": true, \"gridcolor\": \"white\", \"linecolor\": \"white\", \"ticks\": \"\", \"title\": {\"standoff\": 15}, \"zerolinecolor\": \"white\", \"zerolinewidth\": 2}}}, \"violinmode\": \"group\", \"yaxis\": {\"gridcolor\": \"rgb(219, 219, 219)\", \"range\": [0, 2], \"showgrid\": true, \"title\": {\"text\": \"Median Frequency of Updates\"}}},\n",
       "                        {\"responsive\": true}\n",
       "                    ).then(function(){\n",
       "                            \n",
       "var gd = document.getElementById('1ba9fa5d-7198-4513-ab8d-b84910c6b10d');\n",
       "var x = new MutationObserver(function (mutations, observer) {{\n",
       "        var display = window.getComputedStyle(gd).display;\n",
       "        if (!display || display === 'none') {{\n",
       "            console.log([gd, 'removed!']);\n",
       "            Plotly.purge(gd);\n",
       "            observer.disconnect();\n",
       "        }}\n",
       "}});\n",
       "\n",
       "// Listen for the removal of the full notebook cells\n",
       "var notebookContainer = gd.closest('#notebook-container');\n",
       "if (notebookContainer) {{\n",
       "    x.observe(notebookContainer, {childList: true});\n",
       "}}\n",
       "\n",
       "// Listen for the clearing of the current output cell\n",
       "var outputEl = gd.closest('.output');\n",
       "if (outputEl) {{\n",
       "    x.observe(outputEl, {childList: true});\n",
       "}}\n",
       "\n",
       "                        })\n",
       "                };\n",
       "                });\n",
       "            </script>\n",
       "        </div>"
      ]
     },
     "metadata": {},
     "output_type": "display_data"
    }
   ],
   "source": [
    "\n",
    "data=[]\n",
    "# for each severity, calculate the counts on each bulletin\n",
    "medians=[]\n",
    "\n",
    "\n",
    "for yr in range(int(12/howManyMonths)*4): # create the line chart\n",
    "    formatGood=\"th\"\n",
    "    if yr==0:\n",
    "        formatGood=\"st\"\n",
    "    elif yr==1:\n",
    "        formatGood=\"nd\"\n",
    "    elif yr==2:\n",
    "        formatGood=\"rd\"\n",
    "\n",
    "    medians.append(statistics.median(indvCounts_all[yr]))\n",
    "    data.append(go.Box(\n",
    "        y=indvCounts_all[yr],\n",
    "        name=str(yr+1) +formatGood, #+\" period\"\n",
    "        boxpoints = 'all',\n",
    "        showlegend=False,\n",
    "        marker=dict(color=\"rgb(31, 119, 180)\")\n",
    "    ))\n",
    "\n",
    "# Edit the layout\n",
    "layout = dict(#title = \"Number of Updates after Release\",\n",
    "              yaxis = dict(title = 'Number of Updates',showgrid=True, gridcolor='rgb(219, 219, 219)'),\n",
    "              #xaxis = dict(title = '6 Month Period '),\n",
    "              plot_bgcolor='rgba(0,0,0,0)',\n",
    "              font=dict(size=20)\n",
    "              )\n",
    "\n",
    "fig = dict(data=data, layout=layout)\n",
    "py.offline.iplot(fig, filename='frequency-since-release-years.png')\n",
    "\n",
    "\n",
    "if not \"Verizon\" in carrierDF.Carrier.values and saveFigs==True: # only save if no Verizon\n",
    "    pio.write_image(fig, 'frequency-since-release-years.pdf', width=1000, height=600)\n",
    "\n",
    "    \n",
    "############################################################################################################################\n",
    "############################################################################################################################\n",
    "############################################################################################################################\n",
    "\n",
    "# LINE CHART INSTEAD\n",
    "data=[]\n",
    "quarters=[]\n",
    "for y in range(len(medians)):\n",
    "    x=y+1\n",
    "    if x==1: quarters.append(\"1st\")\n",
    "    elif x==2: quarters.append(\"2nd\")\n",
    "    elif x==3: quarters.append(\"3rd\")\n",
    "    else: quarters.append(str(x) + \"th\")\n",
    "\n",
    "\n",
    "data.append(go.Scatter(\n",
    "            x=quarters,\n",
    "            y=medians,\n",
    "            marker=dict(color=\"rgb(31, 119, 180)\")\n",
    "        ))\n",
    "\n",
    "\n",
    "    \n",
    "# Edit the layout\n",
    "layout = dict(#title = \"Number of Updates per 6 Month Period after Release per Carrier\",\n",
    "              yaxis = dict(title = 'Median Frequency of Updates',showgrid=True, gridcolor='rgb(219, 219, 219)',range=[0,2]),\n",
    "              #xaxis = dict(title = '6 Month Period'),\n",
    "              plot_bgcolor='rgba(0,0,0,0)',\n",
    "              boxmode='group',\n",
    "              violinmode='group',\n",
    "              legend_orientation=\"h\",\n",
    "              legend=dict(x=0.25, y=1.1),\n",
    "              font=dict(size=20)\n",
    "              )\n",
    "\n",
    "fig = dict(data=data, layout=layout)\n",
    "py.offline.iplot(fig, filename='release-years-frequency-per-carrier-median.png')\n",
    "\n",
    "\n",
    "# if not \"Verizon\" in carrierDF.Carrier.values and saveFigs==True: # only save if no Verizon\n",
    "#     pio.write_image(fig, 'carrier-number-updates-released-per-year.pdf', width=1000, height=600)\n",
    "\n",
    "\n",
    "    "
   ]
  },
  {
   "cell_type": "code",
   "execution_count": 8,
   "metadata": {},
   "outputs": [
    {
     "data": {
      "application/vnd.plotly.v1+json": {
       "config": {
        "linkText": "Export to plot.ly",
        "plotlyServerURL": "https://plot.ly",
        "showLink": false
       },
       "data": [
        {
         "name": "1st",
         "type": "box",
         "x": [
          "AT&T",
          "AT&T",
          "AT&T",
          "AT&T",
          "AT&T",
          "AT&T",
          "AT&T",
          "AT&T",
          "AT&T",
          "AT&T",
          "AT&T",
          "AT&T",
          "AT&T",
          "AT&T",
          "AT&T",
          "AT&T",
          "AT&T",
          "AT&T",
          "AT&T",
          "AT&T",
          "AT&T",
          "AT&T",
          "AT&T",
          "AT&T",
          "AT&T",
          "AT&T",
          "AT&T",
          "AT&T",
          "AT&T",
          "AT&T",
          "AT&T",
          "AT&T",
          "AT&T",
          "AT&T",
          "AT&T",
          "AT&T",
          "AT&T",
          "AT&T",
          "AT&T",
          "AT&T",
          "AT&T",
          "AT&T",
          "AT&T",
          "AT&T",
          "AT&T",
          "AT&T",
          "AT&T",
          "AT&T",
          "Sprint",
          "Sprint",
          "Sprint",
          "Sprint",
          "Sprint",
          "Sprint",
          "Sprint",
          "Sprint",
          "Sprint",
          "Sprint",
          "Sprint",
          "Sprint",
          "Sprint",
          "Sprint",
          "Sprint",
          "Sprint",
          "Sprint",
          "Sprint",
          "Sprint",
          "Sprint",
          "Sprint",
          "Sprint",
          "Sprint",
          "Sprint",
          "Sprint",
          "Sprint",
          "Sprint",
          "Sprint",
          "Sprint",
          "Sprint",
          "Sprint",
          "Sprint",
          "Sprint",
          "Sprint",
          "Sprint",
          "Sprint",
          "Sprint",
          "Sprint",
          "Sprint",
          "Sprint",
          "Sprint",
          "Sprint",
          "Sprint",
          "Sprint",
          "Sprint",
          "Sprint",
          "Sprint",
          "Sprint",
          "Sprint",
          "Sprint",
          "Sprint",
          "Sprint",
          "Sprint",
          "Sprint",
          "Sprint",
          "Sprint",
          "Sprint",
          "Sprint",
          "Sprint",
          "Sprint",
          "Sprint",
          "Sprint",
          "Sprint",
          "Sprint",
          "Sprint",
          "Sprint",
          "Sprint",
          "T-Mobile",
          "T-Mobile",
          "T-Mobile",
          "T-Mobile",
          "T-Mobile",
          "T-Mobile",
          "T-Mobile",
          "T-Mobile",
          "T-Mobile",
          "T-Mobile",
          "T-Mobile",
          "T-Mobile",
          "T-Mobile",
          "T-Mobile",
          "T-Mobile",
          "T-Mobile",
          "T-Mobile",
          "T-Mobile",
          "T-Mobile",
          "T-Mobile",
          "T-Mobile",
          "T-Mobile",
          "T-Mobile",
          "T-Mobile",
          "T-Mobile",
          "T-Mobile",
          "T-Mobile",
          "T-Mobile",
          "T-Mobile",
          "T-Mobile",
          "T-Mobile",
          "T-Mobile",
          "T-Mobile",
          "T-Mobile",
          "T-Mobile",
          "T-Mobile",
          "T-Mobile",
          "T-Mobile",
          "T-Mobile",
          "T-Mobile",
          "T-Mobile",
          "T-Mobile",
          "T-Mobile",
          "T-Mobile",
          "T-Mobile",
          "T-Mobile",
          "T-Mobile",
          "T-Mobile",
          "T-Mobile",
          "T-Mobile",
          "T-Mobile",
          "T-Mobile",
          "T-Mobile",
          "T-Mobile",
          "T-Mobile",
          "T-Mobile",
          "T-Mobile",
          "T-Mobile",
          "T-Mobile",
          "T-Mobile",
          "T-Mobile",
          "T-Mobile",
          "T-Mobile",
          "T-Mobile",
          "T-Mobile"
         ],
         "y": [
          0,
          2,
          0,
          2,
          1,
          1,
          1,
          2,
          0,
          0,
          0,
          2,
          0,
          3,
          1,
          2,
          0,
          1,
          3,
          1,
          0,
          1,
          1,
          1,
          0,
          1,
          0,
          0,
          3,
          1,
          0,
          1,
          1,
          5,
          0,
          0,
          0,
          0,
          1,
          0,
          4,
          5,
          0,
          5,
          0,
          0,
          2,
          2,
          0,
          2,
          2,
          0,
          1,
          1,
          1,
          0,
          1,
          4,
          0,
          1,
          3,
          0,
          2,
          2,
          0,
          2,
          0,
          1,
          4,
          1,
          2,
          0,
          1,
          1,
          3,
          0,
          0,
          1,
          0,
          2,
          0,
          0,
          0,
          0,
          0,
          0,
          0,
          0,
          0,
          1,
          1,
          1,
          1,
          2,
          1,
          2,
          3,
          6,
          2,
          2,
          2,
          1,
          3,
          2,
          2,
          2,
          1,
          4,
          3,
          0,
          1,
          1,
          1,
          0,
          0,
          3,
          0,
          0,
          0,
          0,
          3,
          1,
          1,
          0,
          0,
          2,
          3,
          3,
          2,
          1,
          0,
          5,
          1,
          3,
          2,
          4,
          2,
          1,
          2,
          2,
          1,
          1,
          2,
          3,
          0,
          2,
          1,
          3,
          2,
          3,
          3,
          0,
          1,
          0,
          2,
          2,
          0,
          2,
          0,
          3,
          4,
          3,
          4,
          5,
          3,
          4,
          3,
          3,
          3,
          2,
          4,
          4,
          2,
          0,
          1,
          2,
          0,
          0,
          1,
          1
         ]
        },
        {
         "name": "2nd",
         "type": "box",
         "x": [
          "AT&T",
          "AT&T",
          "AT&T",
          "AT&T",
          "AT&T",
          "AT&T",
          "AT&T",
          "AT&T",
          "AT&T",
          "AT&T",
          "AT&T",
          "AT&T",
          "AT&T",
          "AT&T",
          "AT&T",
          "AT&T",
          "AT&T",
          "AT&T",
          "AT&T",
          "AT&T",
          "AT&T",
          "AT&T",
          "AT&T",
          "AT&T",
          "AT&T",
          "AT&T",
          "AT&T",
          "AT&T",
          "AT&T",
          "AT&T",
          "AT&T",
          "AT&T",
          "AT&T",
          "AT&T",
          "AT&T",
          "AT&T",
          "AT&T",
          "AT&T",
          "AT&T",
          "AT&T",
          "AT&T",
          "AT&T",
          "AT&T",
          "AT&T",
          "AT&T",
          "AT&T",
          "AT&T",
          "AT&T",
          "AT&T",
          "Sprint",
          "Sprint",
          "Sprint",
          "Sprint",
          "Sprint",
          "Sprint",
          "Sprint",
          "Sprint",
          "Sprint",
          "Sprint",
          "Sprint",
          "Sprint",
          "Sprint",
          "Sprint",
          "Sprint",
          "Sprint",
          "Sprint",
          "Sprint",
          "Sprint",
          "Sprint",
          "Sprint",
          "Sprint",
          "Sprint",
          "Sprint",
          "Sprint",
          "Sprint",
          "Sprint",
          "Sprint",
          "Sprint",
          "Sprint",
          "Sprint",
          "Sprint",
          "Sprint",
          "Sprint",
          "Sprint",
          "Sprint",
          "Sprint",
          "Sprint",
          "Sprint",
          "Sprint",
          "Sprint",
          "Sprint",
          "Sprint",
          "Sprint",
          "Sprint",
          "Sprint",
          "Sprint",
          "Sprint",
          "Sprint",
          "Sprint",
          "Sprint",
          "Sprint",
          "Sprint",
          "Sprint",
          "Sprint",
          "Sprint",
          "Sprint",
          "Sprint",
          "Sprint",
          "Sprint",
          "Sprint",
          "Sprint",
          "Sprint",
          "Sprint",
          "Sprint",
          "T-Mobile",
          "T-Mobile",
          "T-Mobile",
          "T-Mobile",
          "T-Mobile",
          "T-Mobile",
          "T-Mobile",
          "T-Mobile",
          "T-Mobile",
          "T-Mobile",
          "T-Mobile",
          "T-Mobile",
          "T-Mobile",
          "T-Mobile",
          "T-Mobile",
          "T-Mobile",
          "T-Mobile",
          "T-Mobile",
          "T-Mobile",
          "T-Mobile",
          "T-Mobile",
          "T-Mobile",
          "T-Mobile",
          "T-Mobile",
          "T-Mobile",
          "T-Mobile",
          "T-Mobile",
          "T-Mobile",
          "T-Mobile",
          "T-Mobile",
          "T-Mobile",
          "T-Mobile",
          "T-Mobile",
          "T-Mobile",
          "T-Mobile",
          "T-Mobile",
          "T-Mobile",
          "T-Mobile",
          "T-Mobile",
          "T-Mobile",
          "T-Mobile",
          "T-Mobile",
          "T-Mobile",
          "T-Mobile",
          "T-Mobile",
          "T-Mobile",
          "T-Mobile",
          "T-Mobile",
          "T-Mobile",
          "T-Mobile",
          "T-Mobile",
          "T-Mobile",
          "T-Mobile",
          "T-Mobile",
          "T-Mobile",
          "T-Mobile",
          "T-Mobile",
          "T-Mobile",
          "T-Mobile",
          "T-Mobile",
          "T-Mobile"
         ],
         "y": [
          1,
          5,
          0,
          0,
          1,
          1,
          0,
          1,
          0,
          3,
          0,
          1,
          3,
          1,
          0,
          0,
          2,
          0,
          0,
          1,
          0,
          0,
          0,
          2,
          0,
          2,
          1,
          0,
          1,
          0,
          0,
          0,
          1,
          6,
          0,
          1,
          1,
          0,
          1,
          0,
          4,
          5,
          0,
          5,
          0,
          0,
          0,
          2,
          1,
          0,
          0,
          0,
          0,
          1,
          0,
          0,
          3,
          0,
          1,
          1,
          0,
          0,
          2,
          2,
          2,
          1,
          2,
          3,
          2,
          4,
          2,
          0,
          1,
          2,
          0,
          1,
          1,
          0,
          1,
          0,
          2,
          0,
          2,
          0,
          1,
          1,
          1,
          2,
          0,
          2,
          1,
          2,
          1,
          3,
          3,
          3,
          2,
          2,
          4,
          0,
          0,
          0,
          1,
          0,
          4,
          2,
          1,
          0,
          0,
          0,
          0,
          0,
          1,
          2,
          0,
          1,
          0,
          1,
          1,
          1,
          1,
          1,
          1,
          1,
          0,
          3,
          2,
          3,
          3,
          3,
          0,
          3,
          4,
          3,
          3,
          3,
          3,
          3,
          5,
          2,
          2,
          3,
          3,
          4,
          1,
          2,
          0,
          1,
          0,
          2,
          1,
          0,
          2,
          1,
          2,
          2,
          6,
          3,
          3,
          2,
          3,
          3,
          0,
          6,
          0,
          5,
          5,
          1,
          1,
          2,
          3,
          1,
          1,
          1,
          1
         ]
        },
        {
         "name": "3rd",
         "type": "box",
         "x": [
          "AT&T",
          "AT&T",
          "AT&T",
          "AT&T",
          "AT&T",
          "AT&T",
          "AT&T",
          "AT&T",
          "AT&T",
          "AT&T",
          "AT&T",
          "AT&T",
          "AT&T",
          "AT&T",
          "AT&T",
          "AT&T",
          "AT&T",
          "AT&T",
          "AT&T",
          "AT&T",
          "AT&T",
          "AT&T",
          "AT&T",
          "AT&T",
          "AT&T",
          "AT&T",
          "AT&T",
          "AT&T",
          "AT&T",
          "AT&T",
          "AT&T",
          "AT&T",
          "AT&T",
          "AT&T",
          "AT&T",
          "AT&T",
          "AT&T",
          "AT&T",
          "AT&T",
          "AT&T",
          "AT&T",
          "AT&T",
          "Sprint",
          "Sprint",
          "Sprint",
          "Sprint",
          "Sprint",
          "Sprint",
          "Sprint",
          "Sprint",
          "Sprint",
          "Sprint",
          "Sprint",
          "Sprint",
          "Sprint",
          "Sprint",
          "Sprint",
          "Sprint",
          "Sprint",
          "Sprint",
          "Sprint",
          "Sprint",
          "Sprint",
          "Sprint",
          "Sprint",
          "Sprint",
          "Sprint",
          "Sprint",
          "Sprint",
          "Sprint",
          "Sprint",
          "Sprint",
          "Sprint",
          "Sprint",
          "Sprint",
          "Sprint",
          "Sprint",
          "Sprint",
          "Sprint",
          "Sprint",
          "Sprint",
          "Sprint",
          "Sprint",
          "Sprint",
          "Sprint",
          "Sprint",
          "Sprint",
          "Sprint",
          "Sprint",
          "Sprint",
          "Sprint",
          "Sprint",
          "Sprint",
          "Sprint",
          "T-Mobile",
          "T-Mobile",
          "T-Mobile",
          "T-Mobile",
          "T-Mobile",
          "T-Mobile",
          "T-Mobile",
          "T-Mobile",
          "T-Mobile",
          "T-Mobile",
          "T-Mobile",
          "T-Mobile",
          "T-Mobile",
          "T-Mobile",
          "T-Mobile",
          "T-Mobile",
          "T-Mobile",
          "T-Mobile",
          "T-Mobile",
          "T-Mobile",
          "T-Mobile",
          "T-Mobile",
          "T-Mobile",
          "T-Mobile",
          "T-Mobile",
          "T-Mobile",
          "T-Mobile",
          "T-Mobile",
          "T-Mobile",
          "T-Mobile",
          "T-Mobile",
          "T-Mobile",
          "T-Mobile",
          "T-Mobile",
          "T-Mobile",
          "T-Mobile",
          "T-Mobile",
          "T-Mobile",
          "T-Mobile",
          "T-Mobile",
          "T-Mobile",
          "T-Mobile",
          "T-Mobile",
          "T-Mobile",
          "T-Mobile",
          "T-Mobile",
          "T-Mobile",
          "T-Mobile",
          "T-Mobile",
          "T-Mobile",
          "T-Mobile",
          "T-Mobile",
          "T-Mobile",
          "T-Mobile",
          "T-Mobile",
          "T-Mobile",
          "T-Mobile",
          "T-Mobile",
          "T-Mobile"
         ],
         "y": [
          1,
          2,
          4,
          0,
          0,
          2,
          0,
          0,
          0,
          2,
          2,
          0,
          2,
          0,
          2,
          0,
          2,
          2,
          0,
          2,
          2,
          0,
          0,
          0,
          0,
          0,
          6,
          6,
          3,
          3,
          5,
          6,
          0,
          5,
          6,
          0,
          6,
          0,
          0,
          2,
          0,
          0,
          0,
          2,
          0,
          0,
          1,
          0,
          2,
          1,
          0,
          1,
          0,
          0,
          3,
          0,
          0,
          2,
          1,
          1,
          1,
          2,
          0,
          3,
          0,
          0,
          0,
          1,
          0,
          5,
          0,
          0,
          1,
          1,
          4,
          2,
          1,
          3,
          2,
          4,
          3,
          3,
          1,
          2,
          1,
          2,
          3,
          1,
          1,
          1,
          0,
          0,
          1,
          1,
          1,
          2,
          1,
          0,
          0,
          1,
          0,
          1,
          0,
          1,
          1,
          0,
          0,
          4,
          3,
          3,
          4,
          2,
          1,
          2,
          2,
          2,
          2,
          0,
          3,
          3,
          0,
          2,
          1,
          0,
          1,
          0,
          0,
          2,
          2,
          0,
          1,
          1,
          3,
          1,
          2,
          2,
          3,
          4,
          4,
          0,
          3,
          0,
          3,
          3,
          0,
          1,
          0,
          0,
          0,
          0,
          0,
          1,
          1
         ]
        },
        {
         "name": "4th",
         "type": "box",
         "x": [
          "AT&T",
          "AT&T",
          "AT&T",
          "AT&T",
          "AT&T",
          "AT&T",
          "AT&T",
          "AT&T",
          "AT&T",
          "AT&T",
          "AT&T",
          "AT&T",
          "AT&T",
          "AT&T",
          "AT&T",
          "AT&T",
          "AT&T",
          "AT&T",
          "AT&T",
          "AT&T",
          "AT&T",
          "AT&T",
          "AT&T",
          "AT&T",
          "AT&T",
          "AT&T",
          "AT&T",
          "AT&T",
          "AT&T",
          "AT&T",
          "AT&T",
          "AT&T",
          "AT&T",
          "AT&T",
          "AT&T",
          "AT&T",
          "AT&T",
          "AT&T",
          "AT&T",
          "AT&T",
          "AT&T",
          "Sprint",
          "Sprint",
          "Sprint",
          "Sprint",
          "Sprint",
          "Sprint",
          "Sprint",
          "Sprint",
          "Sprint",
          "Sprint",
          "Sprint",
          "Sprint",
          "Sprint",
          "Sprint",
          "Sprint",
          "Sprint",
          "Sprint",
          "Sprint",
          "Sprint",
          "Sprint",
          "Sprint",
          "Sprint",
          "Sprint",
          "Sprint",
          "Sprint",
          "Sprint",
          "Sprint",
          "Sprint",
          "Sprint",
          "Sprint",
          "Sprint",
          "Sprint",
          "Sprint",
          "Sprint",
          "Sprint",
          "Sprint",
          "Sprint",
          "Sprint",
          "Sprint",
          "Sprint",
          "Sprint",
          "Sprint",
          "Sprint",
          "Sprint",
          "Sprint",
          "Sprint",
          "Sprint",
          "Sprint",
          "Sprint",
          "Sprint",
          "Sprint",
          "Sprint",
          "Sprint",
          "Sprint",
          "Sprint",
          "Sprint",
          "T-Mobile",
          "T-Mobile",
          "T-Mobile",
          "T-Mobile",
          "T-Mobile",
          "T-Mobile",
          "T-Mobile",
          "T-Mobile",
          "T-Mobile",
          "T-Mobile",
          "T-Mobile",
          "T-Mobile",
          "T-Mobile",
          "T-Mobile",
          "T-Mobile",
          "T-Mobile",
          "T-Mobile",
          "T-Mobile",
          "T-Mobile",
          "T-Mobile",
          "T-Mobile",
          "T-Mobile",
          "T-Mobile",
          "T-Mobile",
          "T-Mobile",
          "T-Mobile",
          "T-Mobile",
          "T-Mobile",
          "T-Mobile",
          "T-Mobile",
          "T-Mobile",
          "T-Mobile",
          "T-Mobile",
          "T-Mobile",
          "T-Mobile",
          "T-Mobile",
          "T-Mobile",
          "T-Mobile",
          "T-Mobile",
          "T-Mobile",
          "T-Mobile",
          "T-Mobile",
          "T-Mobile",
          "T-Mobile",
          "T-Mobile",
          "T-Mobile",
          "T-Mobile",
          "T-Mobile",
          "T-Mobile",
          "T-Mobile",
          "T-Mobile",
          "T-Mobile",
          "T-Mobile",
          "T-Mobile",
          "T-Mobile",
          "T-Mobile",
          "T-Mobile",
          "T-Mobile",
          "T-Mobile",
          "T-Mobile",
          "T-Mobile",
          "T-Mobile",
          "T-Mobile",
          "T-Mobile",
          "T-Mobile",
          "T-Mobile"
         ],
         "y": [
          0,
          0,
          5,
          0,
          0,
          2,
          0,
          0,
          1,
          2,
          4,
          0,
          3,
          0,
          1,
          1,
          0,
          1,
          0,
          0,
          2,
          0,
          0,
          0,
          2,
          2,
          6,
          2,
          0,
          0,
          6,
          5,
          5,
          6,
          0,
          2,
          6,
          0,
          6,
          2,
          0,
          3,
          3,
          0,
          0,
          0,
          0,
          0,
          0,
          1,
          0,
          0,
          1,
          0,
          0,
          1,
          1,
          0,
          0,
          2,
          0,
          1,
          0,
          1,
          1,
          0,
          0,
          0,
          1,
          1,
          0,
          1,
          0,
          1,
          1,
          1,
          2,
          5,
          3,
          3,
          3,
          1,
          0,
          0,
          0,
          1,
          1,
          3,
          3,
          2,
          2,
          0,
          0,
          0,
          0,
          0,
          0,
          0,
          0,
          1,
          1,
          0,
          0,
          1,
          0,
          1,
          2,
          0,
          3,
          0,
          0,
          0,
          2,
          3,
          1,
          2,
          1,
          3,
          2,
          3,
          2,
          1,
          1,
          1,
          2,
          3,
          2,
          0,
          1,
          0,
          1,
          0,
          1,
          1,
          1,
          2,
          0,
          2,
          3,
          4,
          2,
          3,
          3,
          3,
          4,
          3,
          3,
          0,
          3,
          0,
          0,
          1,
          1,
          2,
          1,
          0,
          1,
          0,
          1,
          0,
          1,
          0,
          1
         ]
        },
        {
         "name": "5th",
         "type": "box",
         "x": [
          "AT&T",
          "AT&T",
          "AT&T",
          "AT&T",
          "AT&T",
          "AT&T",
          "AT&T",
          "AT&T",
          "AT&T",
          "AT&T",
          "AT&T",
          "AT&T",
          "AT&T",
          "AT&T",
          "AT&T",
          "AT&T",
          "AT&T",
          "AT&T",
          "AT&T",
          "AT&T",
          "AT&T",
          "AT&T",
          "AT&T",
          "AT&T",
          "AT&T",
          "AT&T",
          "AT&T",
          "AT&T",
          "AT&T",
          "AT&T",
          "AT&T",
          "AT&T",
          "AT&T",
          "Sprint",
          "Sprint",
          "Sprint",
          "Sprint",
          "Sprint",
          "Sprint",
          "Sprint",
          "Sprint",
          "Sprint",
          "Sprint",
          "Sprint",
          "Sprint",
          "Sprint",
          "Sprint",
          "Sprint",
          "Sprint",
          "Sprint",
          "Sprint",
          "Sprint",
          "Sprint",
          "Sprint",
          "Sprint",
          "Sprint",
          "Sprint",
          "Sprint",
          "Sprint",
          "Sprint",
          "Sprint",
          "Sprint",
          "Sprint",
          "Sprint",
          "Sprint",
          "Sprint",
          "Sprint",
          "Sprint",
          "Sprint",
          "Sprint",
          "Sprint",
          "Sprint",
          "Sprint",
          "Sprint",
          "Sprint",
          "Sprint",
          "Sprint",
          "Sprint",
          "Sprint",
          "Sprint",
          "Sprint",
          "T-Mobile",
          "T-Mobile",
          "T-Mobile",
          "T-Mobile",
          "T-Mobile",
          "T-Mobile",
          "T-Mobile",
          "T-Mobile",
          "T-Mobile",
          "T-Mobile",
          "T-Mobile",
          "T-Mobile",
          "T-Mobile",
          "T-Mobile",
          "T-Mobile",
          "T-Mobile",
          "T-Mobile",
          "T-Mobile",
          "T-Mobile",
          "T-Mobile",
          "T-Mobile",
          "T-Mobile",
          "T-Mobile",
          "T-Mobile",
          "T-Mobile",
          "T-Mobile",
          "T-Mobile",
          "T-Mobile",
          "T-Mobile",
          "T-Mobile",
          "T-Mobile",
          "T-Mobile",
          "T-Mobile",
          "T-Mobile",
          "T-Mobile",
          "T-Mobile",
          "T-Mobile",
          "T-Mobile",
          "T-Mobile",
          "T-Mobile",
          "T-Mobile",
          "T-Mobile",
          "T-Mobile",
          "T-Mobile",
          "T-Mobile",
          "T-Mobile",
          "T-Mobile",
          "T-Mobile",
          "T-Mobile",
          "T-Mobile",
          "T-Mobile",
          "T-Mobile",
          "T-Mobile",
          "T-Mobile",
          "T-Mobile",
          "T-Mobile",
          "T-Mobile",
          "T-Mobile",
          "T-Mobile",
          "T-Mobile",
          "T-Mobile",
          "T-Mobile",
          "T-Mobile",
          "T-Mobile",
          "T-Mobile"
         ],
         "y": [
          0,
          0,
          0,
          0,
          0,
          0,
          0,
          0,
          0,
          1,
          0,
          0,
          1,
          0,
          1,
          0,
          0,
          0,
          1,
          5,
          6,
          5,
          3,
          4,
          5,
          5,
          4,
          5,
          0,
          0,
          0,
          0,
          2,
          0,
          0,
          0,
          1,
          0,
          0,
          0,
          0,
          0,
          1,
          2,
          0,
          1,
          0,
          0,
          5,
          0,
          0,
          0,
          0,
          0,
          1,
          0,
          0,
          0,
          0,
          0,
          0,
          0,
          2,
          1,
          1,
          1,
          2,
          0,
          1,
          2,
          1,
          2,
          2,
          1,
          1,
          1,
          0,
          1,
          0,
          0,
          0,
          3,
          0,
          0,
          1,
          0,
          0,
          0,
          0,
          0,
          0,
          3,
          0,
          0,
          0,
          0,
          0,
          0,
          0,
          0,
          1,
          1,
          3,
          2,
          0,
          0,
          2,
          0,
          0,
          0,
          1,
          0,
          0,
          3,
          3,
          1,
          2,
          0,
          1,
          0,
          3,
          1,
          3,
          3,
          3,
          2,
          2,
          2,
          2,
          2,
          2,
          2,
          1,
          1,
          0,
          0,
          1,
          0,
          0,
          0,
          0,
          0,
          0,
          1,
          0,
          1
         ]
        },
        {
         "name": "6th",
         "type": "box",
         "x": [
          "AT&T",
          "AT&T",
          "AT&T",
          "AT&T",
          "AT&T",
          "AT&T",
          "AT&T",
          "AT&T",
          "AT&T",
          "AT&T",
          "AT&T",
          "AT&T",
          "AT&T",
          "AT&T",
          "AT&T",
          "AT&T",
          "AT&T",
          "AT&T",
          "AT&T",
          "AT&T",
          "AT&T",
          "AT&T",
          "AT&T",
          "AT&T",
          "AT&T",
          "AT&T",
          "AT&T",
          "AT&T",
          "AT&T",
          "Sprint",
          "Sprint",
          "Sprint",
          "Sprint",
          "Sprint",
          "Sprint",
          "Sprint",
          "Sprint",
          "Sprint",
          "Sprint",
          "Sprint",
          "Sprint",
          "Sprint",
          "Sprint",
          "Sprint",
          "Sprint",
          "Sprint",
          "Sprint",
          "Sprint",
          "Sprint",
          "Sprint",
          "Sprint",
          "Sprint",
          "Sprint",
          "Sprint",
          "Sprint",
          "Sprint",
          "Sprint",
          "Sprint",
          "Sprint",
          "Sprint",
          "Sprint",
          "Sprint",
          "Sprint",
          "Sprint",
          "Sprint",
          "Sprint",
          "Sprint",
          "Sprint",
          "Sprint",
          "Sprint",
          "Sprint",
          "T-Mobile",
          "T-Mobile",
          "T-Mobile",
          "T-Mobile",
          "T-Mobile",
          "T-Mobile",
          "T-Mobile",
          "T-Mobile",
          "T-Mobile",
          "T-Mobile",
          "T-Mobile",
          "T-Mobile",
          "T-Mobile",
          "T-Mobile",
          "T-Mobile",
          "T-Mobile",
          "T-Mobile",
          "T-Mobile",
          "T-Mobile",
          "T-Mobile",
          "T-Mobile",
          "T-Mobile",
          "T-Mobile",
          "T-Mobile",
          "T-Mobile",
          "T-Mobile",
          "T-Mobile",
          "T-Mobile",
          "T-Mobile",
          "T-Mobile",
          "T-Mobile",
          "T-Mobile",
          "T-Mobile",
          "T-Mobile",
          "T-Mobile",
          "T-Mobile",
          "T-Mobile",
          "T-Mobile",
          "T-Mobile",
          "T-Mobile",
          "T-Mobile",
          "T-Mobile",
          "T-Mobile",
          "T-Mobile",
          "T-Mobile",
          "T-Mobile",
          "T-Mobile",
          "T-Mobile",
          "T-Mobile",
          "T-Mobile",
          "T-Mobile",
          "T-Mobile",
          "T-Mobile",
          "T-Mobile",
          "T-Mobile",
          "T-Mobile",
          "T-Mobile",
          "T-Mobile",
          "T-Mobile",
          "T-Mobile",
          "T-Mobile"
         ],
         "y": [
          0,
          0,
          0,
          0,
          0,
          0,
          0,
          0,
          0,
          0,
          0,
          0,
          0,
          0,
          0,
          0,
          0,
          4,
          3,
          5,
          3,
          4,
          3,
          3,
          5,
          5,
          0,
          0,
          0,
          0,
          0,
          0,
          0,
          0,
          0,
          0,
          0,
          0,
          0,
          0,
          0,
          0,
          3,
          0,
          0,
          0,
          0,
          0,
          1,
          0,
          0,
          0,
          0,
          0,
          0,
          1,
          0,
          1,
          1,
          0,
          3,
          2,
          1,
          6,
          6,
          0,
          0,
          0,
          0,
          0,
          0,
          1,
          0,
          0,
          0,
          0,
          0,
          0,
          0,
          0,
          0,
          0,
          1,
          0,
          0,
          0,
          0,
          0,
          0,
          0,
          0,
          0,
          0,
          3,
          1,
          0,
          0,
          1,
          1,
          0,
          0,
          2,
          0,
          1,
          0,
          1,
          0,
          1,
          4,
          1,
          3,
          5,
          1,
          2,
          3,
          5,
          4,
          4,
          4,
          0,
          1,
          0,
          1,
          2,
          0,
          0,
          0,
          0,
          0,
          0,
          0,
          0
         ]
        },
        {
         "name": "7th",
         "type": "box",
         "x": [
          "AT&T",
          "AT&T",
          "AT&T",
          "AT&T",
          "AT&T",
          "AT&T",
          "AT&T",
          "AT&T",
          "AT&T",
          "AT&T",
          "AT&T",
          "AT&T",
          "AT&T",
          "AT&T",
          "AT&T",
          "AT&T",
          "AT&T",
          "AT&T",
          "AT&T",
          "AT&T",
          "AT&T",
          "AT&T",
          "AT&T",
          "AT&T",
          "AT&T",
          "AT&T",
          "Sprint",
          "Sprint",
          "Sprint",
          "Sprint",
          "Sprint",
          "Sprint",
          "Sprint",
          "Sprint",
          "Sprint",
          "Sprint",
          "Sprint",
          "Sprint",
          "Sprint",
          "Sprint",
          "Sprint",
          "Sprint",
          "Sprint",
          "Sprint",
          "Sprint",
          "Sprint",
          "Sprint",
          "Sprint",
          "Sprint",
          "Sprint",
          "Sprint",
          "Sprint",
          "Sprint",
          "Sprint",
          "Sprint",
          "Sprint",
          "Sprint",
          "Sprint",
          "Sprint",
          "Sprint",
          "Sprint",
          "Sprint",
          "Sprint",
          "T-Mobile",
          "T-Mobile",
          "T-Mobile",
          "T-Mobile",
          "T-Mobile",
          "T-Mobile",
          "T-Mobile",
          "T-Mobile",
          "T-Mobile",
          "T-Mobile",
          "T-Mobile",
          "T-Mobile",
          "T-Mobile",
          "T-Mobile",
          "T-Mobile",
          "T-Mobile",
          "T-Mobile",
          "T-Mobile",
          "T-Mobile",
          "T-Mobile",
          "T-Mobile",
          "T-Mobile",
          "T-Mobile",
          "T-Mobile",
          "T-Mobile",
          "T-Mobile",
          "T-Mobile",
          "T-Mobile",
          "T-Mobile",
          "T-Mobile",
          "T-Mobile",
          "T-Mobile",
          "T-Mobile",
          "T-Mobile",
          "T-Mobile",
          "T-Mobile",
          "T-Mobile",
          "T-Mobile",
          "T-Mobile",
          "T-Mobile",
          "T-Mobile",
          "T-Mobile",
          "T-Mobile",
          "T-Mobile",
          "T-Mobile",
          "T-Mobile",
          "T-Mobile",
          "T-Mobile",
          "T-Mobile",
          "T-Mobile",
          "T-Mobile",
          "T-Mobile",
          "T-Mobile",
          "T-Mobile",
          "T-Mobile"
         ],
         "y": [
          0,
          0,
          0,
          0,
          0,
          0,
          0,
          0,
          0,
          0,
          0,
          0,
          0,
          0,
          0,
          0,
          0,
          0,
          0,
          0,
          0,
          0,
          0,
          0,
          0,
          0,
          0,
          0,
          0,
          0,
          0,
          0,
          0,
          0,
          1,
          0,
          0,
          0,
          0,
          0,
          0,
          0,
          0,
          0,
          0,
          0,
          0,
          0,
          0,
          0,
          0,
          0,
          0,
          0,
          0,
          0,
          0,
          0,
          0,
          0,
          0,
          0,
          0,
          0,
          0,
          0,
          0,
          0,
          0,
          0,
          0,
          0,
          0,
          0,
          0,
          0,
          0,
          0,
          0,
          0,
          1,
          0,
          0,
          0,
          0,
          1,
          0,
          0,
          0,
          0,
          0,
          0,
          0,
          0,
          1,
          0,
          1,
          0,
          0,
          0,
          0,
          0,
          0,
          0,
          1,
          1,
          0,
          0,
          0,
          0,
          1,
          0,
          0,
          0,
          0,
          1,
          0,
          0
         ]
        },
        {
         "name": "8th",
         "type": "box",
         "x": [
          "AT&T",
          "AT&T",
          "AT&T",
          "AT&T",
          "AT&T",
          "AT&T",
          "AT&T",
          "AT&T",
          "AT&T",
          "AT&T",
          "AT&T",
          "AT&T",
          "AT&T",
          "AT&T",
          "AT&T",
          "AT&T",
          "Sprint",
          "Sprint",
          "Sprint",
          "Sprint",
          "Sprint",
          "Sprint",
          "Sprint",
          "Sprint",
          "Sprint",
          "Sprint",
          "Sprint",
          "Sprint",
          "Sprint",
          "Sprint",
          "Sprint",
          "Sprint",
          "Sprint",
          "Sprint",
          "Sprint",
          "Sprint",
          "Sprint",
          "Sprint",
          "Sprint",
          "Sprint",
          "Sprint",
          "Sprint",
          "Sprint",
          "Sprint",
          "Sprint",
          "T-Mobile",
          "T-Mobile",
          "T-Mobile",
          "T-Mobile",
          "T-Mobile",
          "T-Mobile",
          "T-Mobile",
          "T-Mobile",
          "T-Mobile",
          "T-Mobile",
          "T-Mobile",
          "T-Mobile",
          "T-Mobile",
          "T-Mobile",
          "T-Mobile",
          "T-Mobile",
          "T-Mobile",
          "T-Mobile",
          "T-Mobile",
          "T-Mobile",
          "T-Mobile",
          "T-Mobile",
          "T-Mobile",
          "T-Mobile",
          "T-Mobile",
          "T-Mobile",
          "T-Mobile",
          "T-Mobile",
          "T-Mobile",
          "T-Mobile",
          "T-Mobile",
          "T-Mobile",
          "T-Mobile",
          "T-Mobile",
          "T-Mobile",
          "T-Mobile",
          "T-Mobile",
          "T-Mobile",
          "T-Mobile",
          "T-Mobile",
          "T-Mobile",
          "T-Mobile",
          "T-Mobile",
          "T-Mobile",
          "T-Mobile"
         ],
         "y": [
          0,
          0,
          0,
          0,
          0,
          0,
          0,
          0,
          0,
          0,
          0,
          0,
          0,
          0,
          0,
          0,
          0,
          0,
          0,
          0,
          0,
          0,
          0,
          0,
          0,
          0,
          0,
          0,
          0,
          0,
          0,
          0,
          0,
          0,
          0,
          0,
          0,
          0,
          0,
          0,
          0,
          0,
          0,
          0,
          0,
          0,
          0,
          0,
          0,
          0,
          0,
          0,
          0,
          0,
          0,
          0,
          0,
          0,
          0,
          0,
          0,
          0,
          0,
          0,
          0,
          0,
          0,
          0,
          0,
          1,
          0,
          0,
          1,
          0,
          0,
          1,
          0,
          0,
          0,
          0,
          1,
          0,
          0,
          2,
          0,
          0,
          0,
          0,
          0,
          0
         ]
        }
       ],
       "layout": {
        "boxmode": "group",
        "font": {
         "size": 20
        },
        "legend": {
         "orientation": "h",
         "x": 0.25,
         "y": 1.1
        },
        "plot_bgcolor": "rgba(0,0,0,0)",
        "template": {
         "data": {
          "bar": [
           {
            "error_x": {
             "color": "#2a3f5f"
            },
            "error_y": {
             "color": "#2a3f5f"
            },
            "marker": {
             "line": {
              "color": "#E5ECF6",
              "width": 0.5
             }
            },
            "type": "bar"
           }
          ],
          "barpolar": [
           {
            "marker": {
             "line": {
              "color": "#E5ECF6",
              "width": 0.5
             }
            },
            "type": "barpolar"
           }
          ],
          "carpet": [
           {
            "aaxis": {
             "endlinecolor": "#2a3f5f",
             "gridcolor": "white",
             "linecolor": "white",
             "minorgridcolor": "white",
             "startlinecolor": "#2a3f5f"
            },
            "baxis": {
             "endlinecolor": "#2a3f5f",
             "gridcolor": "white",
             "linecolor": "white",
             "minorgridcolor": "white",
             "startlinecolor": "#2a3f5f"
            },
            "type": "carpet"
           }
          ],
          "choropleth": [
           {
            "colorbar": {
             "outlinewidth": 0,
             "ticks": ""
            },
            "type": "choropleth"
           }
          ],
          "contour": [
           {
            "colorbar": {
             "outlinewidth": 0,
             "ticks": ""
            },
            "colorscale": [
             [
              0,
              "#0d0887"
             ],
             [
              0.1111111111111111,
              "#46039f"
             ],
             [
              0.2222222222222222,
              "#7201a8"
             ],
             [
              0.3333333333333333,
              "#9c179e"
             ],
             [
              0.4444444444444444,
              "#bd3786"
             ],
             [
              0.5555555555555556,
              "#d8576b"
             ],
             [
              0.6666666666666666,
              "#ed7953"
             ],
             [
              0.7777777777777778,
              "#fb9f3a"
             ],
             [
              0.8888888888888888,
              "#fdca26"
             ],
             [
              1,
              "#f0f921"
             ]
            ],
            "type": "contour"
           }
          ],
          "contourcarpet": [
           {
            "colorbar": {
             "outlinewidth": 0,
             "ticks": ""
            },
            "type": "contourcarpet"
           }
          ],
          "heatmap": [
           {
            "colorbar": {
             "outlinewidth": 0,
             "ticks": ""
            },
            "colorscale": [
             [
              0,
              "#0d0887"
             ],
             [
              0.1111111111111111,
              "#46039f"
             ],
             [
              0.2222222222222222,
              "#7201a8"
             ],
             [
              0.3333333333333333,
              "#9c179e"
             ],
             [
              0.4444444444444444,
              "#bd3786"
             ],
             [
              0.5555555555555556,
              "#d8576b"
             ],
             [
              0.6666666666666666,
              "#ed7953"
             ],
             [
              0.7777777777777778,
              "#fb9f3a"
             ],
             [
              0.8888888888888888,
              "#fdca26"
             ],
             [
              1,
              "#f0f921"
             ]
            ],
            "type": "heatmap"
           }
          ],
          "heatmapgl": [
           {
            "colorbar": {
             "outlinewidth": 0,
             "ticks": ""
            },
            "colorscale": [
             [
              0,
              "#0d0887"
             ],
             [
              0.1111111111111111,
              "#46039f"
             ],
             [
              0.2222222222222222,
              "#7201a8"
             ],
             [
              0.3333333333333333,
              "#9c179e"
             ],
             [
              0.4444444444444444,
              "#bd3786"
             ],
             [
              0.5555555555555556,
              "#d8576b"
             ],
             [
              0.6666666666666666,
              "#ed7953"
             ],
             [
              0.7777777777777778,
              "#fb9f3a"
             ],
             [
              0.8888888888888888,
              "#fdca26"
             ],
             [
              1,
              "#f0f921"
             ]
            ],
            "type": "heatmapgl"
           }
          ],
          "histogram": [
           {
            "marker": {
             "colorbar": {
              "outlinewidth": 0,
              "ticks": ""
             }
            },
            "type": "histogram"
           }
          ],
          "histogram2d": [
           {
            "colorbar": {
             "outlinewidth": 0,
             "ticks": ""
            },
            "colorscale": [
             [
              0,
              "#0d0887"
             ],
             [
              0.1111111111111111,
              "#46039f"
             ],
             [
              0.2222222222222222,
              "#7201a8"
             ],
             [
              0.3333333333333333,
              "#9c179e"
             ],
             [
              0.4444444444444444,
              "#bd3786"
             ],
             [
              0.5555555555555556,
              "#d8576b"
             ],
             [
              0.6666666666666666,
              "#ed7953"
             ],
             [
              0.7777777777777778,
              "#fb9f3a"
             ],
             [
              0.8888888888888888,
              "#fdca26"
             ],
             [
              1,
              "#f0f921"
             ]
            ],
            "type": "histogram2d"
           }
          ],
          "histogram2dcontour": [
           {
            "colorbar": {
             "outlinewidth": 0,
             "ticks": ""
            },
            "colorscale": [
             [
              0,
              "#0d0887"
             ],
             [
              0.1111111111111111,
              "#46039f"
             ],
             [
              0.2222222222222222,
              "#7201a8"
             ],
             [
              0.3333333333333333,
              "#9c179e"
             ],
             [
              0.4444444444444444,
              "#bd3786"
             ],
             [
              0.5555555555555556,
              "#d8576b"
             ],
             [
              0.6666666666666666,
              "#ed7953"
             ],
             [
              0.7777777777777778,
              "#fb9f3a"
             ],
             [
              0.8888888888888888,
              "#fdca26"
             ],
             [
              1,
              "#f0f921"
             ]
            ],
            "type": "histogram2dcontour"
           }
          ],
          "mesh3d": [
           {
            "colorbar": {
             "outlinewidth": 0,
             "ticks": ""
            },
            "type": "mesh3d"
           }
          ],
          "parcoords": [
           {
            "line": {
             "colorbar": {
              "outlinewidth": 0,
              "ticks": ""
             }
            },
            "type": "parcoords"
           }
          ],
          "pie": [
           {
            "automargin": true,
            "type": "pie"
           }
          ],
          "scatter": [
           {
            "marker": {
             "colorbar": {
              "outlinewidth": 0,
              "ticks": ""
             }
            },
            "type": "scatter"
           }
          ],
          "scatter3d": [
           {
            "line": {
             "colorbar": {
              "outlinewidth": 0,
              "ticks": ""
             }
            },
            "marker": {
             "colorbar": {
              "outlinewidth": 0,
              "ticks": ""
             }
            },
            "type": "scatter3d"
           }
          ],
          "scattercarpet": [
           {
            "marker": {
             "colorbar": {
              "outlinewidth": 0,
              "ticks": ""
             }
            },
            "type": "scattercarpet"
           }
          ],
          "scattergeo": [
           {
            "marker": {
             "colorbar": {
              "outlinewidth": 0,
              "ticks": ""
             }
            },
            "type": "scattergeo"
           }
          ],
          "scattergl": [
           {
            "marker": {
             "colorbar": {
              "outlinewidth": 0,
              "ticks": ""
             }
            },
            "type": "scattergl"
           }
          ],
          "scattermapbox": [
           {
            "marker": {
             "colorbar": {
              "outlinewidth": 0,
              "ticks": ""
             }
            },
            "type": "scattermapbox"
           }
          ],
          "scatterpolar": [
           {
            "marker": {
             "colorbar": {
              "outlinewidth": 0,
              "ticks": ""
             }
            },
            "type": "scatterpolar"
           }
          ],
          "scatterpolargl": [
           {
            "marker": {
             "colorbar": {
              "outlinewidth": 0,
              "ticks": ""
             }
            },
            "type": "scatterpolargl"
           }
          ],
          "scatterternary": [
           {
            "marker": {
             "colorbar": {
              "outlinewidth": 0,
              "ticks": ""
             }
            },
            "type": "scatterternary"
           }
          ],
          "surface": [
           {
            "colorbar": {
             "outlinewidth": 0,
             "ticks": ""
            },
            "colorscale": [
             [
              0,
              "#0d0887"
             ],
             [
              0.1111111111111111,
              "#46039f"
             ],
             [
              0.2222222222222222,
              "#7201a8"
             ],
             [
              0.3333333333333333,
              "#9c179e"
             ],
             [
              0.4444444444444444,
              "#bd3786"
             ],
             [
              0.5555555555555556,
              "#d8576b"
             ],
             [
              0.6666666666666666,
              "#ed7953"
             ],
             [
              0.7777777777777778,
              "#fb9f3a"
             ],
             [
              0.8888888888888888,
              "#fdca26"
             ],
             [
              1,
              "#f0f921"
             ]
            ],
            "type": "surface"
           }
          ],
          "table": [
           {
            "cells": {
             "fill": {
              "color": "#EBF0F8"
             },
             "line": {
              "color": "white"
             }
            },
            "header": {
             "fill": {
              "color": "#C8D4E3"
             },
             "line": {
              "color": "white"
             }
            },
            "type": "table"
           }
          ]
         },
         "layout": {
          "annotationdefaults": {
           "arrowcolor": "#2a3f5f",
           "arrowhead": 0,
           "arrowwidth": 1
          },
          "coloraxis": {
           "colorbar": {
            "outlinewidth": 0,
            "ticks": ""
           }
          },
          "colorscale": {
           "diverging": [
            [
             0,
             "#8e0152"
            ],
            [
             0.1,
             "#c51b7d"
            ],
            [
             0.2,
             "#de77ae"
            ],
            [
             0.3,
             "#f1b6da"
            ],
            [
             0.4,
             "#fde0ef"
            ],
            [
             0.5,
             "#f7f7f7"
            ],
            [
             0.6,
             "#e6f5d0"
            ],
            [
             0.7,
             "#b8e186"
            ],
            [
             0.8,
             "#7fbc41"
            ],
            [
             0.9,
             "#4d9221"
            ],
            [
             1,
             "#276419"
            ]
           ],
           "sequential": [
            [
             0,
             "#0d0887"
            ],
            [
             0.1111111111111111,
             "#46039f"
            ],
            [
             0.2222222222222222,
             "#7201a8"
            ],
            [
             0.3333333333333333,
             "#9c179e"
            ],
            [
             0.4444444444444444,
             "#bd3786"
            ],
            [
             0.5555555555555556,
             "#d8576b"
            ],
            [
             0.6666666666666666,
             "#ed7953"
            ],
            [
             0.7777777777777778,
             "#fb9f3a"
            ],
            [
             0.8888888888888888,
             "#fdca26"
            ],
            [
             1,
             "#f0f921"
            ]
           ],
           "sequentialminus": [
            [
             0,
             "#0d0887"
            ],
            [
             0.1111111111111111,
             "#46039f"
            ],
            [
             0.2222222222222222,
             "#7201a8"
            ],
            [
             0.3333333333333333,
             "#9c179e"
            ],
            [
             0.4444444444444444,
             "#bd3786"
            ],
            [
             0.5555555555555556,
             "#d8576b"
            ],
            [
             0.6666666666666666,
             "#ed7953"
            ],
            [
             0.7777777777777778,
             "#fb9f3a"
            ],
            [
             0.8888888888888888,
             "#fdca26"
            ],
            [
             1,
             "#f0f921"
            ]
           ]
          },
          "colorway": [
           "#636efa",
           "#EF553B",
           "#00cc96",
           "#ab63fa",
           "#FFA15A",
           "#19d3f3",
           "#FF6692",
           "#B6E880",
           "#FF97FF",
           "#FECB52"
          ],
          "font": {
           "color": "#2a3f5f"
          },
          "geo": {
           "bgcolor": "white",
           "lakecolor": "white",
           "landcolor": "#E5ECF6",
           "showlakes": true,
           "showland": true,
           "subunitcolor": "white"
          },
          "hoverlabel": {
           "align": "left"
          },
          "hovermode": "closest",
          "mapbox": {
           "style": "light"
          },
          "paper_bgcolor": "white",
          "plot_bgcolor": "#E5ECF6",
          "polar": {
           "angularaxis": {
            "gridcolor": "white",
            "linecolor": "white",
            "ticks": ""
           },
           "bgcolor": "#E5ECF6",
           "radialaxis": {
            "gridcolor": "white",
            "linecolor": "white",
            "ticks": ""
           }
          },
          "scene": {
           "xaxis": {
            "backgroundcolor": "#E5ECF6",
            "gridcolor": "white",
            "gridwidth": 2,
            "linecolor": "white",
            "showbackground": true,
            "ticks": "",
            "zerolinecolor": "white"
           },
           "yaxis": {
            "backgroundcolor": "#E5ECF6",
            "gridcolor": "white",
            "gridwidth": 2,
            "linecolor": "white",
            "showbackground": true,
            "ticks": "",
            "zerolinecolor": "white"
           },
           "zaxis": {
            "backgroundcolor": "#E5ECF6",
            "gridcolor": "white",
            "gridwidth": 2,
            "linecolor": "white",
            "showbackground": true,
            "ticks": "",
            "zerolinecolor": "white"
           }
          },
          "shapedefaults": {
           "line": {
            "color": "#2a3f5f"
           }
          },
          "ternary": {
           "aaxis": {
            "gridcolor": "white",
            "linecolor": "white",
            "ticks": ""
           },
           "baxis": {
            "gridcolor": "white",
            "linecolor": "white",
            "ticks": ""
           },
           "bgcolor": "#E5ECF6",
           "caxis": {
            "gridcolor": "white",
            "linecolor": "white",
            "ticks": ""
           }
          },
          "title": {
           "x": 0.05
          },
          "xaxis": {
           "automargin": true,
           "gridcolor": "white",
           "linecolor": "white",
           "ticks": "",
           "title": {
            "standoff": 15
           },
           "zerolinecolor": "white",
           "zerolinewidth": 2
          },
          "yaxis": {
           "automargin": true,
           "gridcolor": "white",
           "linecolor": "white",
           "ticks": "",
           "title": {
            "standoff": 15
           },
           "zerolinecolor": "white",
           "zerolinewidth": 2
          }
         }
        },
        "violinmode": "group",
        "yaxis": {
         "gridcolor": "rgb(219, 219, 219)",
         "showgrid": true,
         "title": {
          "text": "Number of Updates"
         }
        }
       }
      },
      "text/html": [
       "<div>\n",
       "        \n",
       "        \n",
       "            <div id=\"055e4dbf-bd12-4139-ad4c-e628862e140a\" class=\"plotly-graph-div\" style=\"height:525px; width:100%;\"></div>\n",
       "            <script type=\"text/javascript\">\n",
       "                require([\"plotly\"], function(Plotly) {\n",
       "                    window.PLOTLYENV=window.PLOTLYENV || {};\n",
       "                    \n",
       "                if (document.getElementById(\"055e4dbf-bd12-4139-ad4c-e628862e140a\")) {\n",
       "                    Plotly.newPlot(\n",
       "                        '055e4dbf-bd12-4139-ad4c-e628862e140a',\n",
       "                        [{\"name\": \"1st\", \"type\": \"box\", \"x\": [\"AT&T\", \"AT&T\", \"AT&T\", \"AT&T\", \"AT&T\", \"AT&T\", \"AT&T\", \"AT&T\", \"AT&T\", \"AT&T\", \"AT&T\", \"AT&T\", \"AT&T\", \"AT&T\", \"AT&T\", \"AT&T\", \"AT&T\", \"AT&T\", \"AT&T\", \"AT&T\", \"AT&T\", \"AT&T\", \"AT&T\", \"AT&T\", \"AT&T\", \"AT&T\", \"AT&T\", \"AT&T\", \"AT&T\", \"AT&T\", \"AT&T\", \"AT&T\", \"AT&T\", \"AT&T\", \"AT&T\", \"AT&T\", \"AT&T\", \"AT&T\", \"AT&T\", \"AT&T\", \"AT&T\", \"AT&T\", \"AT&T\", \"AT&T\", \"AT&T\", \"AT&T\", \"AT&T\", \"AT&T\", \"Sprint\", \"Sprint\", \"Sprint\", \"Sprint\", \"Sprint\", \"Sprint\", \"Sprint\", \"Sprint\", \"Sprint\", \"Sprint\", \"Sprint\", \"Sprint\", \"Sprint\", \"Sprint\", \"Sprint\", \"Sprint\", \"Sprint\", \"Sprint\", \"Sprint\", \"Sprint\", \"Sprint\", \"Sprint\", \"Sprint\", \"Sprint\", \"Sprint\", \"Sprint\", \"Sprint\", \"Sprint\", \"Sprint\", \"Sprint\", \"Sprint\", \"Sprint\", \"Sprint\", \"Sprint\", \"Sprint\", \"Sprint\", \"Sprint\", \"Sprint\", \"Sprint\", \"Sprint\", \"Sprint\", \"Sprint\", \"Sprint\", \"Sprint\", \"Sprint\", \"Sprint\", \"Sprint\", \"Sprint\", \"Sprint\", \"Sprint\", \"Sprint\", \"Sprint\", \"Sprint\", \"Sprint\", \"Sprint\", \"Sprint\", \"Sprint\", \"Sprint\", \"Sprint\", \"Sprint\", \"Sprint\", \"Sprint\", \"Sprint\", \"Sprint\", \"Sprint\", \"Sprint\", \"Sprint\", \"T-Mobile\", \"T-Mobile\", \"T-Mobile\", \"T-Mobile\", \"T-Mobile\", \"T-Mobile\", \"T-Mobile\", \"T-Mobile\", \"T-Mobile\", \"T-Mobile\", \"T-Mobile\", \"T-Mobile\", \"T-Mobile\", \"T-Mobile\", \"T-Mobile\", \"T-Mobile\", \"T-Mobile\", \"T-Mobile\", \"T-Mobile\", \"T-Mobile\", \"T-Mobile\", \"T-Mobile\", \"T-Mobile\", \"T-Mobile\", \"T-Mobile\", \"T-Mobile\", \"T-Mobile\", \"T-Mobile\", \"T-Mobile\", \"T-Mobile\", \"T-Mobile\", \"T-Mobile\", \"T-Mobile\", \"T-Mobile\", \"T-Mobile\", \"T-Mobile\", \"T-Mobile\", \"T-Mobile\", \"T-Mobile\", \"T-Mobile\", \"T-Mobile\", \"T-Mobile\", \"T-Mobile\", \"T-Mobile\", \"T-Mobile\", \"T-Mobile\", \"T-Mobile\", \"T-Mobile\", \"T-Mobile\", \"T-Mobile\", \"T-Mobile\", \"T-Mobile\", \"T-Mobile\", \"T-Mobile\", \"T-Mobile\", \"T-Mobile\", \"T-Mobile\", \"T-Mobile\", \"T-Mobile\", \"T-Mobile\", \"T-Mobile\", \"T-Mobile\", \"T-Mobile\", \"T-Mobile\", \"T-Mobile\"], \"y\": [0, 2, 0, 2, 1, 1, 1, 2, 0, 0, 0, 2, 0, 3, 1, 2, 0, 1, 3, 1, 0, 1, 1, 1, 0, 1, 0, 0, 3, 1, 0, 1, 1, 5, 0, 0, 0, 0, 1, 0, 4, 5, 0, 5, 0, 0, 2, 2, 0, 2, 2, 0, 1, 1, 1, 0, 1, 4, 0, 1, 3, 0, 2, 2, 0, 2, 0, 1, 4, 1, 2, 0, 1, 1, 3, 0, 0, 1, 0, 2, 0, 0, 0, 0, 0, 0, 0, 0, 0, 1, 1, 1, 1, 2, 1, 2, 3, 6, 2, 2, 2, 1, 3, 2, 2, 2, 1, 4, 3, 0, 1, 1, 1, 0, 0, 3, 0, 0, 0, 0, 3, 1, 1, 0, 0, 2, 3, 3, 2, 1, 0, 5, 1, 3, 2, 4, 2, 1, 2, 2, 1, 1, 2, 3, 0, 2, 1, 3, 2, 3, 3, 0, 1, 0, 2, 2, 0, 2, 0, 3, 4, 3, 4, 5, 3, 4, 3, 3, 3, 2, 4, 4, 2, 0, 1, 2, 0, 0, 1, 1]}, {\"name\": \"2nd\", \"type\": \"box\", \"x\": [\"AT&T\", \"AT&T\", \"AT&T\", \"AT&T\", \"AT&T\", \"AT&T\", \"AT&T\", \"AT&T\", \"AT&T\", \"AT&T\", \"AT&T\", \"AT&T\", \"AT&T\", \"AT&T\", \"AT&T\", \"AT&T\", \"AT&T\", \"AT&T\", \"AT&T\", \"AT&T\", \"AT&T\", \"AT&T\", \"AT&T\", \"AT&T\", \"AT&T\", \"AT&T\", \"AT&T\", \"AT&T\", \"AT&T\", \"AT&T\", \"AT&T\", \"AT&T\", \"AT&T\", \"AT&T\", \"AT&T\", \"AT&T\", \"AT&T\", \"AT&T\", \"AT&T\", \"AT&T\", \"AT&T\", \"AT&T\", \"AT&T\", \"AT&T\", \"AT&T\", \"AT&T\", \"AT&T\", \"AT&T\", \"AT&T\", \"Sprint\", \"Sprint\", \"Sprint\", \"Sprint\", \"Sprint\", \"Sprint\", \"Sprint\", \"Sprint\", \"Sprint\", \"Sprint\", \"Sprint\", \"Sprint\", \"Sprint\", \"Sprint\", \"Sprint\", \"Sprint\", \"Sprint\", \"Sprint\", \"Sprint\", \"Sprint\", \"Sprint\", \"Sprint\", \"Sprint\", \"Sprint\", \"Sprint\", \"Sprint\", \"Sprint\", \"Sprint\", \"Sprint\", \"Sprint\", \"Sprint\", \"Sprint\", \"Sprint\", \"Sprint\", \"Sprint\", \"Sprint\", \"Sprint\", \"Sprint\", \"Sprint\", \"Sprint\", \"Sprint\", \"Sprint\", \"Sprint\", \"Sprint\", \"Sprint\", \"Sprint\", \"Sprint\", \"Sprint\", \"Sprint\", \"Sprint\", \"Sprint\", \"Sprint\", \"Sprint\", \"Sprint\", \"Sprint\", \"Sprint\", \"Sprint\", \"Sprint\", \"Sprint\", \"Sprint\", \"Sprint\", \"Sprint\", \"Sprint\", \"Sprint\", \"Sprint\", \"T-Mobile\", \"T-Mobile\", \"T-Mobile\", \"T-Mobile\", \"T-Mobile\", \"T-Mobile\", \"T-Mobile\", \"T-Mobile\", \"T-Mobile\", \"T-Mobile\", \"T-Mobile\", \"T-Mobile\", \"T-Mobile\", \"T-Mobile\", \"T-Mobile\", \"T-Mobile\", \"T-Mobile\", \"T-Mobile\", \"T-Mobile\", \"T-Mobile\", \"T-Mobile\", \"T-Mobile\", \"T-Mobile\", \"T-Mobile\", \"T-Mobile\", \"T-Mobile\", \"T-Mobile\", \"T-Mobile\", \"T-Mobile\", \"T-Mobile\", \"T-Mobile\", \"T-Mobile\", \"T-Mobile\", \"T-Mobile\", \"T-Mobile\", \"T-Mobile\", \"T-Mobile\", \"T-Mobile\", \"T-Mobile\", \"T-Mobile\", \"T-Mobile\", \"T-Mobile\", \"T-Mobile\", \"T-Mobile\", \"T-Mobile\", \"T-Mobile\", \"T-Mobile\", \"T-Mobile\", \"T-Mobile\", \"T-Mobile\", \"T-Mobile\", \"T-Mobile\", \"T-Mobile\", \"T-Mobile\", \"T-Mobile\", \"T-Mobile\", \"T-Mobile\", \"T-Mobile\", \"T-Mobile\", \"T-Mobile\", \"T-Mobile\"], \"y\": [1, 5, 0, 0, 1, 1, 0, 1, 0, 3, 0, 1, 3, 1, 0, 0, 2, 0, 0, 1, 0, 0, 0, 2, 0, 2, 1, 0, 1, 0, 0, 0, 1, 6, 0, 1, 1, 0, 1, 0, 4, 5, 0, 5, 0, 0, 0, 2, 1, 0, 0, 0, 0, 1, 0, 0, 3, 0, 1, 1, 0, 0, 2, 2, 2, 1, 2, 3, 2, 4, 2, 0, 1, 2, 0, 1, 1, 0, 1, 0, 2, 0, 2, 0, 1, 1, 1, 2, 0, 2, 1, 2, 1, 3, 3, 3, 2, 2, 4, 0, 0, 0, 1, 0, 4, 2, 1, 0, 0, 0, 0, 0, 1, 2, 0, 1, 0, 1, 1, 1, 1, 1, 1, 1, 0, 3, 2, 3, 3, 3, 0, 3, 4, 3, 3, 3, 3, 3, 5, 2, 2, 3, 3, 4, 1, 2, 0, 1, 0, 2, 1, 0, 2, 1, 2, 2, 6, 3, 3, 2, 3, 3, 0, 6, 0, 5, 5, 1, 1, 2, 3, 1, 1, 1, 1]}, {\"name\": \"3rd\", \"type\": \"box\", \"x\": [\"AT&T\", \"AT&T\", \"AT&T\", \"AT&T\", \"AT&T\", \"AT&T\", \"AT&T\", \"AT&T\", \"AT&T\", \"AT&T\", \"AT&T\", \"AT&T\", \"AT&T\", \"AT&T\", \"AT&T\", \"AT&T\", \"AT&T\", \"AT&T\", \"AT&T\", \"AT&T\", \"AT&T\", \"AT&T\", \"AT&T\", \"AT&T\", \"AT&T\", \"AT&T\", \"AT&T\", \"AT&T\", \"AT&T\", \"AT&T\", \"AT&T\", \"AT&T\", \"AT&T\", \"AT&T\", \"AT&T\", \"AT&T\", \"AT&T\", \"AT&T\", \"AT&T\", \"AT&T\", \"AT&T\", \"AT&T\", \"Sprint\", \"Sprint\", \"Sprint\", \"Sprint\", \"Sprint\", \"Sprint\", \"Sprint\", \"Sprint\", \"Sprint\", \"Sprint\", \"Sprint\", \"Sprint\", \"Sprint\", \"Sprint\", \"Sprint\", \"Sprint\", \"Sprint\", \"Sprint\", \"Sprint\", \"Sprint\", \"Sprint\", \"Sprint\", \"Sprint\", \"Sprint\", \"Sprint\", \"Sprint\", \"Sprint\", \"Sprint\", \"Sprint\", \"Sprint\", \"Sprint\", \"Sprint\", \"Sprint\", \"Sprint\", \"Sprint\", \"Sprint\", \"Sprint\", \"Sprint\", \"Sprint\", \"Sprint\", \"Sprint\", \"Sprint\", \"Sprint\", \"Sprint\", \"Sprint\", \"Sprint\", \"Sprint\", \"Sprint\", \"Sprint\", \"Sprint\", \"Sprint\", \"Sprint\", \"T-Mobile\", \"T-Mobile\", \"T-Mobile\", \"T-Mobile\", \"T-Mobile\", \"T-Mobile\", \"T-Mobile\", \"T-Mobile\", \"T-Mobile\", \"T-Mobile\", \"T-Mobile\", \"T-Mobile\", \"T-Mobile\", \"T-Mobile\", \"T-Mobile\", \"T-Mobile\", \"T-Mobile\", \"T-Mobile\", \"T-Mobile\", \"T-Mobile\", \"T-Mobile\", \"T-Mobile\", \"T-Mobile\", \"T-Mobile\", \"T-Mobile\", \"T-Mobile\", \"T-Mobile\", \"T-Mobile\", \"T-Mobile\", \"T-Mobile\", \"T-Mobile\", \"T-Mobile\", \"T-Mobile\", \"T-Mobile\", \"T-Mobile\", \"T-Mobile\", \"T-Mobile\", \"T-Mobile\", \"T-Mobile\", \"T-Mobile\", \"T-Mobile\", \"T-Mobile\", \"T-Mobile\", \"T-Mobile\", \"T-Mobile\", \"T-Mobile\", \"T-Mobile\", \"T-Mobile\", \"T-Mobile\", \"T-Mobile\", \"T-Mobile\", \"T-Mobile\", \"T-Mobile\", \"T-Mobile\", \"T-Mobile\", \"T-Mobile\", \"T-Mobile\", \"T-Mobile\", \"T-Mobile\"], \"y\": [1, 2, 4, 0, 0, 2, 0, 0, 0, 2, 2, 0, 2, 0, 2, 0, 2, 2, 0, 2, 2, 0, 0, 0, 0, 0, 6, 6, 3, 3, 5, 6, 0, 5, 6, 0, 6, 0, 0, 2, 0, 0, 0, 2, 0, 0, 1, 0, 2, 1, 0, 1, 0, 0, 3, 0, 0, 2, 1, 1, 1, 2, 0, 3, 0, 0, 0, 1, 0, 5, 0, 0, 1, 1, 4, 2, 1, 3, 2, 4, 3, 3, 1, 2, 1, 2, 3, 1, 1, 1, 0, 0, 1, 1, 1, 2, 1, 0, 0, 1, 0, 1, 0, 1, 1, 0, 0, 4, 3, 3, 4, 2, 1, 2, 2, 2, 2, 0, 3, 3, 0, 2, 1, 0, 1, 0, 0, 2, 2, 0, 1, 1, 3, 1, 2, 2, 3, 4, 4, 0, 3, 0, 3, 3, 0, 1, 0, 0, 0, 0, 0, 1, 1]}, {\"name\": \"4th\", \"type\": \"box\", \"x\": [\"AT&T\", \"AT&T\", \"AT&T\", \"AT&T\", \"AT&T\", \"AT&T\", \"AT&T\", \"AT&T\", \"AT&T\", \"AT&T\", \"AT&T\", \"AT&T\", \"AT&T\", \"AT&T\", \"AT&T\", \"AT&T\", \"AT&T\", \"AT&T\", \"AT&T\", \"AT&T\", \"AT&T\", \"AT&T\", \"AT&T\", \"AT&T\", \"AT&T\", \"AT&T\", \"AT&T\", \"AT&T\", \"AT&T\", \"AT&T\", \"AT&T\", \"AT&T\", \"AT&T\", \"AT&T\", \"AT&T\", \"AT&T\", \"AT&T\", \"AT&T\", \"AT&T\", \"AT&T\", \"AT&T\", \"Sprint\", \"Sprint\", \"Sprint\", \"Sprint\", \"Sprint\", \"Sprint\", \"Sprint\", \"Sprint\", \"Sprint\", \"Sprint\", \"Sprint\", \"Sprint\", \"Sprint\", \"Sprint\", \"Sprint\", \"Sprint\", \"Sprint\", \"Sprint\", \"Sprint\", \"Sprint\", \"Sprint\", \"Sprint\", \"Sprint\", \"Sprint\", \"Sprint\", \"Sprint\", \"Sprint\", \"Sprint\", \"Sprint\", \"Sprint\", \"Sprint\", \"Sprint\", \"Sprint\", \"Sprint\", \"Sprint\", \"Sprint\", \"Sprint\", \"Sprint\", \"Sprint\", \"Sprint\", \"Sprint\", \"Sprint\", \"Sprint\", \"Sprint\", \"Sprint\", \"Sprint\", \"Sprint\", \"Sprint\", \"Sprint\", \"Sprint\", \"Sprint\", \"Sprint\", \"Sprint\", \"Sprint\", \"Sprint\", \"Sprint\", \"T-Mobile\", \"T-Mobile\", \"T-Mobile\", \"T-Mobile\", \"T-Mobile\", \"T-Mobile\", \"T-Mobile\", \"T-Mobile\", \"T-Mobile\", \"T-Mobile\", \"T-Mobile\", \"T-Mobile\", \"T-Mobile\", \"T-Mobile\", \"T-Mobile\", \"T-Mobile\", \"T-Mobile\", \"T-Mobile\", \"T-Mobile\", \"T-Mobile\", \"T-Mobile\", \"T-Mobile\", \"T-Mobile\", \"T-Mobile\", \"T-Mobile\", \"T-Mobile\", \"T-Mobile\", \"T-Mobile\", \"T-Mobile\", \"T-Mobile\", \"T-Mobile\", \"T-Mobile\", \"T-Mobile\", \"T-Mobile\", \"T-Mobile\", \"T-Mobile\", \"T-Mobile\", \"T-Mobile\", \"T-Mobile\", \"T-Mobile\", \"T-Mobile\", \"T-Mobile\", \"T-Mobile\", \"T-Mobile\", \"T-Mobile\", \"T-Mobile\", \"T-Mobile\", \"T-Mobile\", \"T-Mobile\", \"T-Mobile\", \"T-Mobile\", \"T-Mobile\", \"T-Mobile\", \"T-Mobile\", \"T-Mobile\", \"T-Mobile\", \"T-Mobile\", \"T-Mobile\", \"T-Mobile\", \"T-Mobile\", \"T-Mobile\", \"T-Mobile\", \"T-Mobile\", \"T-Mobile\", \"T-Mobile\", \"T-Mobile\"], \"y\": [0, 0, 5, 0, 0, 2, 0, 0, 1, 2, 4, 0, 3, 0, 1, 1, 0, 1, 0, 0, 2, 0, 0, 0, 2, 2, 6, 2, 0, 0, 6, 5, 5, 6, 0, 2, 6, 0, 6, 2, 0, 3, 3, 0, 0, 0, 0, 0, 0, 1, 0, 0, 1, 0, 0, 1, 1, 0, 0, 2, 0, 1, 0, 1, 1, 0, 0, 0, 1, 1, 0, 1, 0, 1, 1, 1, 2, 5, 3, 3, 3, 1, 0, 0, 0, 1, 1, 3, 3, 2, 2, 0, 0, 0, 0, 0, 0, 0, 0, 1, 1, 0, 0, 1, 0, 1, 2, 0, 3, 0, 0, 0, 2, 3, 1, 2, 1, 3, 2, 3, 2, 1, 1, 1, 2, 3, 2, 0, 1, 0, 1, 0, 1, 1, 1, 2, 0, 2, 3, 4, 2, 3, 3, 3, 4, 3, 3, 0, 3, 0, 0, 1, 1, 2, 1, 0, 1, 0, 1, 0, 1, 0, 1]}, {\"name\": \"5th\", \"type\": \"box\", \"x\": [\"AT&T\", \"AT&T\", \"AT&T\", \"AT&T\", \"AT&T\", \"AT&T\", \"AT&T\", \"AT&T\", \"AT&T\", \"AT&T\", \"AT&T\", \"AT&T\", \"AT&T\", \"AT&T\", \"AT&T\", \"AT&T\", \"AT&T\", \"AT&T\", \"AT&T\", \"AT&T\", \"AT&T\", \"AT&T\", \"AT&T\", \"AT&T\", \"AT&T\", \"AT&T\", \"AT&T\", \"AT&T\", \"AT&T\", \"AT&T\", \"AT&T\", \"AT&T\", \"AT&T\", \"Sprint\", \"Sprint\", \"Sprint\", \"Sprint\", \"Sprint\", \"Sprint\", \"Sprint\", \"Sprint\", \"Sprint\", \"Sprint\", \"Sprint\", \"Sprint\", \"Sprint\", \"Sprint\", \"Sprint\", \"Sprint\", \"Sprint\", \"Sprint\", \"Sprint\", \"Sprint\", \"Sprint\", \"Sprint\", \"Sprint\", \"Sprint\", \"Sprint\", \"Sprint\", \"Sprint\", \"Sprint\", \"Sprint\", \"Sprint\", \"Sprint\", \"Sprint\", \"Sprint\", \"Sprint\", \"Sprint\", \"Sprint\", \"Sprint\", \"Sprint\", \"Sprint\", \"Sprint\", \"Sprint\", \"Sprint\", \"Sprint\", \"Sprint\", \"Sprint\", \"Sprint\", \"Sprint\", \"Sprint\", \"T-Mobile\", \"T-Mobile\", \"T-Mobile\", \"T-Mobile\", \"T-Mobile\", \"T-Mobile\", \"T-Mobile\", \"T-Mobile\", \"T-Mobile\", \"T-Mobile\", \"T-Mobile\", \"T-Mobile\", \"T-Mobile\", \"T-Mobile\", \"T-Mobile\", \"T-Mobile\", \"T-Mobile\", \"T-Mobile\", \"T-Mobile\", \"T-Mobile\", \"T-Mobile\", \"T-Mobile\", \"T-Mobile\", \"T-Mobile\", \"T-Mobile\", \"T-Mobile\", \"T-Mobile\", \"T-Mobile\", \"T-Mobile\", \"T-Mobile\", \"T-Mobile\", \"T-Mobile\", \"T-Mobile\", \"T-Mobile\", \"T-Mobile\", \"T-Mobile\", \"T-Mobile\", \"T-Mobile\", \"T-Mobile\", \"T-Mobile\", \"T-Mobile\", \"T-Mobile\", \"T-Mobile\", \"T-Mobile\", \"T-Mobile\", \"T-Mobile\", \"T-Mobile\", \"T-Mobile\", \"T-Mobile\", \"T-Mobile\", \"T-Mobile\", \"T-Mobile\", \"T-Mobile\", \"T-Mobile\", \"T-Mobile\", \"T-Mobile\", \"T-Mobile\", \"T-Mobile\", \"T-Mobile\", \"T-Mobile\", \"T-Mobile\", \"T-Mobile\", \"T-Mobile\", \"T-Mobile\", \"T-Mobile\"], \"y\": [0, 0, 0, 0, 0, 0, 0, 0, 0, 1, 0, 0, 1, 0, 1, 0, 0, 0, 1, 5, 6, 5, 3, 4, 5, 5, 4, 5, 0, 0, 0, 0, 2, 0, 0, 0, 1, 0, 0, 0, 0, 0, 1, 2, 0, 1, 0, 0, 5, 0, 0, 0, 0, 0, 1, 0, 0, 0, 0, 0, 0, 0, 2, 1, 1, 1, 2, 0, 1, 2, 1, 2, 2, 1, 1, 1, 0, 1, 0, 0, 0, 3, 0, 0, 1, 0, 0, 0, 0, 0, 0, 3, 0, 0, 0, 0, 0, 0, 0, 0, 1, 1, 3, 2, 0, 0, 2, 0, 0, 0, 1, 0, 0, 3, 3, 1, 2, 0, 1, 0, 3, 1, 3, 3, 3, 2, 2, 2, 2, 2, 2, 2, 1, 1, 0, 0, 1, 0, 0, 0, 0, 0, 0, 1, 0, 1]}, {\"name\": \"6th\", \"type\": \"box\", \"x\": [\"AT&T\", \"AT&T\", \"AT&T\", \"AT&T\", \"AT&T\", \"AT&T\", \"AT&T\", \"AT&T\", \"AT&T\", \"AT&T\", \"AT&T\", \"AT&T\", \"AT&T\", \"AT&T\", \"AT&T\", \"AT&T\", \"AT&T\", \"AT&T\", \"AT&T\", \"AT&T\", \"AT&T\", \"AT&T\", \"AT&T\", \"AT&T\", \"AT&T\", \"AT&T\", \"AT&T\", \"AT&T\", \"AT&T\", \"Sprint\", \"Sprint\", \"Sprint\", \"Sprint\", \"Sprint\", \"Sprint\", \"Sprint\", \"Sprint\", \"Sprint\", \"Sprint\", \"Sprint\", \"Sprint\", \"Sprint\", \"Sprint\", \"Sprint\", \"Sprint\", \"Sprint\", \"Sprint\", \"Sprint\", \"Sprint\", \"Sprint\", \"Sprint\", \"Sprint\", \"Sprint\", \"Sprint\", \"Sprint\", \"Sprint\", \"Sprint\", \"Sprint\", \"Sprint\", \"Sprint\", \"Sprint\", \"Sprint\", \"Sprint\", \"Sprint\", \"Sprint\", \"Sprint\", \"Sprint\", \"Sprint\", \"Sprint\", \"Sprint\", \"Sprint\", \"T-Mobile\", \"T-Mobile\", \"T-Mobile\", \"T-Mobile\", \"T-Mobile\", \"T-Mobile\", \"T-Mobile\", \"T-Mobile\", \"T-Mobile\", \"T-Mobile\", \"T-Mobile\", \"T-Mobile\", \"T-Mobile\", \"T-Mobile\", \"T-Mobile\", \"T-Mobile\", \"T-Mobile\", \"T-Mobile\", \"T-Mobile\", \"T-Mobile\", \"T-Mobile\", \"T-Mobile\", \"T-Mobile\", \"T-Mobile\", \"T-Mobile\", \"T-Mobile\", \"T-Mobile\", \"T-Mobile\", \"T-Mobile\", \"T-Mobile\", \"T-Mobile\", \"T-Mobile\", \"T-Mobile\", \"T-Mobile\", \"T-Mobile\", \"T-Mobile\", \"T-Mobile\", \"T-Mobile\", \"T-Mobile\", \"T-Mobile\", \"T-Mobile\", \"T-Mobile\", \"T-Mobile\", \"T-Mobile\", \"T-Mobile\", \"T-Mobile\", \"T-Mobile\", \"T-Mobile\", \"T-Mobile\", \"T-Mobile\", \"T-Mobile\", \"T-Mobile\", \"T-Mobile\", \"T-Mobile\", \"T-Mobile\", \"T-Mobile\", \"T-Mobile\", \"T-Mobile\", \"T-Mobile\", \"T-Mobile\", \"T-Mobile\"], \"y\": [0, 0, 0, 0, 0, 0, 0, 0, 0, 0, 0, 0, 0, 0, 0, 0, 0, 4, 3, 5, 3, 4, 3, 3, 5, 5, 0, 0, 0, 0, 0, 0, 0, 0, 0, 0, 0, 0, 0, 0, 0, 0, 3, 0, 0, 0, 0, 0, 1, 0, 0, 0, 0, 0, 0, 1, 0, 1, 1, 0, 3, 2, 1, 6, 6, 0, 0, 0, 0, 0, 0, 1, 0, 0, 0, 0, 0, 0, 0, 0, 0, 0, 1, 0, 0, 0, 0, 0, 0, 0, 0, 0, 0, 3, 1, 0, 0, 1, 1, 0, 0, 2, 0, 1, 0, 1, 0, 1, 4, 1, 3, 5, 1, 2, 3, 5, 4, 4, 4, 0, 1, 0, 1, 2, 0, 0, 0, 0, 0, 0, 0, 0]}, {\"name\": \"7th\", \"type\": \"box\", \"x\": [\"AT&T\", \"AT&T\", \"AT&T\", \"AT&T\", \"AT&T\", \"AT&T\", \"AT&T\", \"AT&T\", \"AT&T\", \"AT&T\", \"AT&T\", \"AT&T\", \"AT&T\", \"AT&T\", \"AT&T\", \"AT&T\", \"AT&T\", \"AT&T\", \"AT&T\", \"AT&T\", \"AT&T\", \"AT&T\", \"AT&T\", \"AT&T\", \"AT&T\", \"AT&T\", \"Sprint\", \"Sprint\", \"Sprint\", \"Sprint\", \"Sprint\", \"Sprint\", \"Sprint\", \"Sprint\", \"Sprint\", \"Sprint\", \"Sprint\", \"Sprint\", \"Sprint\", \"Sprint\", \"Sprint\", \"Sprint\", \"Sprint\", \"Sprint\", \"Sprint\", \"Sprint\", \"Sprint\", \"Sprint\", \"Sprint\", \"Sprint\", \"Sprint\", \"Sprint\", \"Sprint\", \"Sprint\", \"Sprint\", \"Sprint\", \"Sprint\", \"Sprint\", \"Sprint\", \"Sprint\", \"Sprint\", \"Sprint\", \"Sprint\", \"T-Mobile\", \"T-Mobile\", \"T-Mobile\", \"T-Mobile\", \"T-Mobile\", \"T-Mobile\", \"T-Mobile\", \"T-Mobile\", \"T-Mobile\", \"T-Mobile\", \"T-Mobile\", \"T-Mobile\", \"T-Mobile\", \"T-Mobile\", \"T-Mobile\", \"T-Mobile\", \"T-Mobile\", \"T-Mobile\", \"T-Mobile\", \"T-Mobile\", \"T-Mobile\", \"T-Mobile\", \"T-Mobile\", \"T-Mobile\", \"T-Mobile\", \"T-Mobile\", \"T-Mobile\", \"T-Mobile\", \"T-Mobile\", \"T-Mobile\", \"T-Mobile\", \"T-Mobile\", \"T-Mobile\", \"T-Mobile\", \"T-Mobile\", \"T-Mobile\", \"T-Mobile\", \"T-Mobile\", \"T-Mobile\", \"T-Mobile\", \"T-Mobile\", \"T-Mobile\", \"T-Mobile\", \"T-Mobile\", \"T-Mobile\", \"T-Mobile\", \"T-Mobile\", \"T-Mobile\", \"T-Mobile\", \"T-Mobile\", \"T-Mobile\", \"T-Mobile\", \"T-Mobile\", \"T-Mobile\", \"T-Mobile\"], \"y\": [0, 0, 0, 0, 0, 0, 0, 0, 0, 0, 0, 0, 0, 0, 0, 0, 0, 0, 0, 0, 0, 0, 0, 0, 0, 0, 0, 0, 0, 0, 0, 0, 0, 0, 1, 0, 0, 0, 0, 0, 0, 0, 0, 0, 0, 0, 0, 0, 0, 0, 0, 0, 0, 0, 0, 0, 0, 0, 0, 0, 0, 0, 0, 0, 0, 0, 0, 0, 0, 0, 0, 0, 0, 0, 0, 0, 0, 0, 0, 0, 1, 0, 0, 0, 0, 1, 0, 0, 0, 0, 0, 0, 0, 0, 1, 0, 1, 0, 0, 0, 0, 0, 0, 0, 1, 1, 0, 0, 0, 0, 1, 0, 0, 0, 0, 1, 0, 0]}, {\"name\": \"8th\", \"type\": \"box\", \"x\": [\"AT&T\", \"AT&T\", \"AT&T\", \"AT&T\", \"AT&T\", \"AT&T\", \"AT&T\", \"AT&T\", \"AT&T\", \"AT&T\", \"AT&T\", \"AT&T\", \"AT&T\", \"AT&T\", \"AT&T\", \"AT&T\", \"Sprint\", \"Sprint\", \"Sprint\", \"Sprint\", \"Sprint\", \"Sprint\", \"Sprint\", \"Sprint\", \"Sprint\", \"Sprint\", \"Sprint\", \"Sprint\", \"Sprint\", \"Sprint\", \"Sprint\", \"Sprint\", \"Sprint\", \"Sprint\", \"Sprint\", \"Sprint\", \"Sprint\", \"Sprint\", \"Sprint\", \"Sprint\", \"Sprint\", \"Sprint\", \"Sprint\", \"Sprint\", \"Sprint\", \"T-Mobile\", \"T-Mobile\", \"T-Mobile\", \"T-Mobile\", \"T-Mobile\", \"T-Mobile\", \"T-Mobile\", \"T-Mobile\", \"T-Mobile\", \"T-Mobile\", \"T-Mobile\", \"T-Mobile\", \"T-Mobile\", \"T-Mobile\", \"T-Mobile\", \"T-Mobile\", \"T-Mobile\", \"T-Mobile\", \"T-Mobile\", \"T-Mobile\", \"T-Mobile\", \"T-Mobile\", \"T-Mobile\", \"T-Mobile\", \"T-Mobile\", \"T-Mobile\", \"T-Mobile\", \"T-Mobile\", \"T-Mobile\", \"T-Mobile\", \"T-Mobile\", \"T-Mobile\", \"T-Mobile\", \"T-Mobile\", \"T-Mobile\", \"T-Mobile\", \"T-Mobile\", \"T-Mobile\", \"T-Mobile\", \"T-Mobile\", \"T-Mobile\", \"T-Mobile\", \"T-Mobile\", \"T-Mobile\", \"T-Mobile\"], \"y\": [0, 0, 0, 0, 0, 0, 0, 0, 0, 0, 0, 0, 0, 0, 0, 0, 0, 0, 0, 0, 0, 0, 0, 0, 0, 0, 0, 0, 0, 0, 0, 0, 0, 0, 0, 0, 0, 0, 0, 0, 0, 0, 0, 0, 0, 0, 0, 0, 0, 0, 0, 0, 0, 0, 0, 0, 0, 0, 0, 0, 0, 0, 0, 0, 0, 0, 0, 0, 0, 1, 0, 0, 1, 0, 0, 1, 0, 0, 0, 0, 1, 0, 0, 2, 0, 0, 0, 0, 0, 0]}],\n",
       "                        {\"boxmode\": \"group\", \"font\": {\"size\": 20}, \"legend\": {\"orientation\": \"h\", \"x\": 0.25, \"y\": 1.1}, \"plot_bgcolor\": \"rgba(0,0,0,0)\", \"template\": {\"data\": {\"bar\": [{\"error_x\": {\"color\": \"#2a3f5f\"}, \"error_y\": {\"color\": \"#2a3f5f\"}, \"marker\": {\"line\": {\"color\": \"#E5ECF6\", \"width\": 0.5}}, \"type\": \"bar\"}], \"barpolar\": [{\"marker\": {\"line\": {\"color\": \"#E5ECF6\", \"width\": 0.5}}, \"type\": \"barpolar\"}], \"carpet\": [{\"aaxis\": {\"endlinecolor\": \"#2a3f5f\", \"gridcolor\": \"white\", \"linecolor\": \"white\", \"minorgridcolor\": \"white\", \"startlinecolor\": \"#2a3f5f\"}, \"baxis\": {\"endlinecolor\": \"#2a3f5f\", \"gridcolor\": \"white\", \"linecolor\": \"white\", \"minorgridcolor\": \"white\", \"startlinecolor\": \"#2a3f5f\"}, \"type\": \"carpet\"}], \"choropleth\": [{\"colorbar\": {\"outlinewidth\": 0, \"ticks\": \"\"}, \"type\": \"choropleth\"}], \"contour\": [{\"colorbar\": {\"outlinewidth\": 0, \"ticks\": \"\"}, \"colorscale\": [[0.0, \"#0d0887\"], [0.1111111111111111, \"#46039f\"], [0.2222222222222222, \"#7201a8\"], [0.3333333333333333, \"#9c179e\"], [0.4444444444444444, \"#bd3786\"], [0.5555555555555556, \"#d8576b\"], [0.6666666666666666, \"#ed7953\"], [0.7777777777777778, \"#fb9f3a\"], [0.8888888888888888, \"#fdca26\"], [1.0, \"#f0f921\"]], \"type\": \"contour\"}], \"contourcarpet\": [{\"colorbar\": {\"outlinewidth\": 0, \"ticks\": \"\"}, \"type\": \"contourcarpet\"}], \"heatmap\": [{\"colorbar\": {\"outlinewidth\": 0, \"ticks\": \"\"}, \"colorscale\": [[0.0, \"#0d0887\"], [0.1111111111111111, \"#46039f\"], [0.2222222222222222, \"#7201a8\"], [0.3333333333333333, \"#9c179e\"], [0.4444444444444444, \"#bd3786\"], [0.5555555555555556, \"#d8576b\"], [0.6666666666666666, \"#ed7953\"], [0.7777777777777778, \"#fb9f3a\"], [0.8888888888888888, \"#fdca26\"], [1.0, \"#f0f921\"]], \"type\": \"heatmap\"}], \"heatmapgl\": [{\"colorbar\": {\"outlinewidth\": 0, \"ticks\": \"\"}, \"colorscale\": [[0.0, \"#0d0887\"], [0.1111111111111111, \"#46039f\"], [0.2222222222222222, \"#7201a8\"], [0.3333333333333333, \"#9c179e\"], [0.4444444444444444, \"#bd3786\"], [0.5555555555555556, \"#d8576b\"], [0.6666666666666666, \"#ed7953\"], [0.7777777777777778, \"#fb9f3a\"], [0.8888888888888888, \"#fdca26\"], [1.0, \"#f0f921\"]], \"type\": \"heatmapgl\"}], \"histogram\": [{\"marker\": {\"colorbar\": {\"outlinewidth\": 0, \"ticks\": \"\"}}, \"type\": \"histogram\"}], \"histogram2d\": [{\"colorbar\": {\"outlinewidth\": 0, \"ticks\": \"\"}, \"colorscale\": [[0.0, \"#0d0887\"], [0.1111111111111111, \"#46039f\"], [0.2222222222222222, \"#7201a8\"], [0.3333333333333333, \"#9c179e\"], [0.4444444444444444, \"#bd3786\"], [0.5555555555555556, \"#d8576b\"], [0.6666666666666666, \"#ed7953\"], [0.7777777777777778, \"#fb9f3a\"], [0.8888888888888888, \"#fdca26\"], [1.0, \"#f0f921\"]], \"type\": \"histogram2d\"}], \"histogram2dcontour\": [{\"colorbar\": {\"outlinewidth\": 0, \"ticks\": \"\"}, \"colorscale\": [[0.0, \"#0d0887\"], [0.1111111111111111, \"#46039f\"], [0.2222222222222222, \"#7201a8\"], [0.3333333333333333, \"#9c179e\"], [0.4444444444444444, \"#bd3786\"], [0.5555555555555556, \"#d8576b\"], [0.6666666666666666, \"#ed7953\"], [0.7777777777777778, \"#fb9f3a\"], [0.8888888888888888, \"#fdca26\"], [1.0, \"#f0f921\"]], \"type\": \"histogram2dcontour\"}], \"mesh3d\": [{\"colorbar\": {\"outlinewidth\": 0, \"ticks\": \"\"}, \"type\": \"mesh3d\"}], \"parcoords\": [{\"line\": {\"colorbar\": {\"outlinewidth\": 0, \"ticks\": \"\"}}, \"type\": \"parcoords\"}], \"pie\": [{\"automargin\": true, \"type\": \"pie\"}], \"scatter\": [{\"marker\": {\"colorbar\": {\"outlinewidth\": 0, \"ticks\": \"\"}}, \"type\": \"scatter\"}], \"scatter3d\": [{\"line\": {\"colorbar\": {\"outlinewidth\": 0, \"ticks\": \"\"}}, \"marker\": {\"colorbar\": {\"outlinewidth\": 0, \"ticks\": \"\"}}, \"type\": \"scatter3d\"}], \"scattercarpet\": [{\"marker\": {\"colorbar\": {\"outlinewidth\": 0, \"ticks\": \"\"}}, \"type\": \"scattercarpet\"}], \"scattergeo\": [{\"marker\": {\"colorbar\": {\"outlinewidth\": 0, \"ticks\": \"\"}}, \"type\": \"scattergeo\"}], \"scattergl\": [{\"marker\": {\"colorbar\": {\"outlinewidth\": 0, \"ticks\": \"\"}}, \"type\": \"scattergl\"}], \"scattermapbox\": [{\"marker\": {\"colorbar\": {\"outlinewidth\": 0, \"ticks\": \"\"}}, \"type\": \"scattermapbox\"}], \"scatterpolar\": [{\"marker\": {\"colorbar\": {\"outlinewidth\": 0, \"ticks\": \"\"}}, \"type\": \"scatterpolar\"}], \"scatterpolargl\": [{\"marker\": {\"colorbar\": {\"outlinewidth\": 0, \"ticks\": \"\"}}, \"type\": \"scatterpolargl\"}], \"scatterternary\": [{\"marker\": {\"colorbar\": {\"outlinewidth\": 0, \"ticks\": \"\"}}, \"type\": \"scatterternary\"}], \"surface\": [{\"colorbar\": {\"outlinewidth\": 0, \"ticks\": \"\"}, \"colorscale\": [[0.0, \"#0d0887\"], [0.1111111111111111, \"#46039f\"], [0.2222222222222222, \"#7201a8\"], [0.3333333333333333, \"#9c179e\"], [0.4444444444444444, \"#bd3786\"], [0.5555555555555556, \"#d8576b\"], [0.6666666666666666, \"#ed7953\"], [0.7777777777777778, \"#fb9f3a\"], [0.8888888888888888, \"#fdca26\"], [1.0, \"#f0f921\"]], \"type\": \"surface\"}], \"table\": [{\"cells\": {\"fill\": {\"color\": \"#EBF0F8\"}, \"line\": {\"color\": \"white\"}}, \"header\": {\"fill\": {\"color\": \"#C8D4E3\"}, \"line\": {\"color\": \"white\"}}, \"type\": \"table\"}]}, \"layout\": {\"annotationdefaults\": {\"arrowcolor\": \"#2a3f5f\", \"arrowhead\": 0, \"arrowwidth\": 1}, \"coloraxis\": {\"colorbar\": {\"outlinewidth\": 0, \"ticks\": \"\"}}, \"colorscale\": {\"diverging\": [[0, \"#8e0152\"], [0.1, \"#c51b7d\"], [0.2, \"#de77ae\"], [0.3, \"#f1b6da\"], [0.4, \"#fde0ef\"], [0.5, \"#f7f7f7\"], [0.6, \"#e6f5d0\"], [0.7, \"#b8e186\"], [0.8, \"#7fbc41\"], [0.9, \"#4d9221\"], [1, \"#276419\"]], \"sequential\": [[0.0, \"#0d0887\"], [0.1111111111111111, \"#46039f\"], [0.2222222222222222, \"#7201a8\"], [0.3333333333333333, \"#9c179e\"], [0.4444444444444444, \"#bd3786\"], [0.5555555555555556, \"#d8576b\"], [0.6666666666666666, \"#ed7953\"], [0.7777777777777778, \"#fb9f3a\"], [0.8888888888888888, \"#fdca26\"], [1.0, \"#f0f921\"]], \"sequentialminus\": [[0.0, \"#0d0887\"], [0.1111111111111111, \"#46039f\"], [0.2222222222222222, \"#7201a8\"], [0.3333333333333333, \"#9c179e\"], [0.4444444444444444, \"#bd3786\"], [0.5555555555555556, \"#d8576b\"], [0.6666666666666666, \"#ed7953\"], [0.7777777777777778, \"#fb9f3a\"], [0.8888888888888888, \"#fdca26\"], [1.0, \"#f0f921\"]]}, \"colorway\": [\"#636efa\", \"#EF553B\", \"#00cc96\", \"#ab63fa\", \"#FFA15A\", \"#19d3f3\", \"#FF6692\", \"#B6E880\", \"#FF97FF\", \"#FECB52\"], \"font\": {\"color\": \"#2a3f5f\"}, \"geo\": {\"bgcolor\": \"white\", \"lakecolor\": \"white\", \"landcolor\": \"#E5ECF6\", \"showlakes\": true, \"showland\": true, \"subunitcolor\": \"white\"}, \"hoverlabel\": {\"align\": \"left\"}, \"hovermode\": \"closest\", \"mapbox\": {\"style\": \"light\"}, \"paper_bgcolor\": \"white\", \"plot_bgcolor\": \"#E5ECF6\", \"polar\": {\"angularaxis\": {\"gridcolor\": \"white\", \"linecolor\": \"white\", \"ticks\": \"\"}, \"bgcolor\": \"#E5ECF6\", \"radialaxis\": {\"gridcolor\": \"white\", \"linecolor\": \"white\", \"ticks\": \"\"}}, \"scene\": {\"xaxis\": {\"backgroundcolor\": \"#E5ECF6\", \"gridcolor\": \"white\", \"gridwidth\": 2, \"linecolor\": \"white\", \"showbackground\": true, \"ticks\": \"\", \"zerolinecolor\": \"white\"}, \"yaxis\": {\"backgroundcolor\": \"#E5ECF6\", \"gridcolor\": \"white\", \"gridwidth\": 2, \"linecolor\": \"white\", \"showbackground\": true, \"ticks\": \"\", \"zerolinecolor\": \"white\"}, \"zaxis\": {\"backgroundcolor\": \"#E5ECF6\", \"gridcolor\": \"white\", \"gridwidth\": 2, \"linecolor\": \"white\", \"showbackground\": true, \"ticks\": \"\", \"zerolinecolor\": \"white\"}}, \"shapedefaults\": {\"line\": {\"color\": \"#2a3f5f\"}}, \"ternary\": {\"aaxis\": {\"gridcolor\": \"white\", \"linecolor\": \"white\", \"ticks\": \"\"}, \"baxis\": {\"gridcolor\": \"white\", \"linecolor\": \"white\", \"ticks\": \"\"}, \"bgcolor\": \"#E5ECF6\", \"caxis\": {\"gridcolor\": \"white\", \"linecolor\": \"white\", \"ticks\": \"\"}}, \"title\": {\"x\": 0.05}, \"xaxis\": {\"automargin\": true, \"gridcolor\": \"white\", \"linecolor\": \"white\", \"ticks\": \"\", \"title\": {\"standoff\": 15}, \"zerolinecolor\": \"white\", \"zerolinewidth\": 2}, \"yaxis\": {\"automargin\": true, \"gridcolor\": \"white\", \"linecolor\": \"white\", \"ticks\": \"\", \"title\": {\"standoff\": 15}, \"zerolinecolor\": \"white\", \"zerolinewidth\": 2}}}, \"violinmode\": \"group\", \"yaxis\": {\"gridcolor\": \"rgb(219, 219, 219)\", \"showgrid\": true, \"title\": {\"text\": \"Number of Updates\"}}},\n",
       "                        {\"responsive\": true}\n",
       "                    ).then(function(){\n",
       "                            \n",
       "var gd = document.getElementById('055e4dbf-bd12-4139-ad4c-e628862e140a');\n",
       "var x = new MutationObserver(function (mutations, observer) {{\n",
       "        var display = window.getComputedStyle(gd).display;\n",
       "        if (!display || display === 'none') {{\n",
       "            console.log([gd, 'removed!']);\n",
       "            Plotly.purge(gd);\n",
       "            observer.disconnect();\n",
       "        }}\n",
       "}});\n",
       "\n",
       "// Listen for the removal of the full notebook cells\n",
       "var notebookContainer = gd.closest('#notebook-container');\n",
       "if (notebookContainer) {{\n",
       "    x.observe(notebookContainer, {childList: true});\n",
       "}}\n",
       "\n",
       "// Listen for the clearing of the current output cell\n",
       "var outputEl = gd.closest('.output');\n",
       "if (outputEl) {{\n",
       "    x.observe(outputEl, {childList: true});\n",
       "}}\n",
       "\n",
       "                        })\n",
       "                };\n",
       "                });\n",
       "            </script>\n",
       "        </div>"
      ]
     },
     "metadata": {},
     "output_type": "display_data"
    },
    {
     "data": {
      "application/vnd.plotly.v1+json": {
       "config": {
        "linkText": "Export to plot.ly",
        "plotlyServerURL": "https://plot.ly",
        "showLink": false
       },
       "data": [
        {
         "marker": {
          "color": "rgb(64, 190, 245)"
         },
         "name": "AT&T",
         "type": "scatter",
         "x": [
          0,
          1,
          2,
          3,
          4,
          5,
          6,
          7
         ],
         "y": [
          1,
          1,
          1.5,
          1,
          0,
          0,
          0,
          0
         ]
        },
        {
         "marker": {
          "color": "rgb(255, 162, 0)"
         },
         "name": "Sprint",
         "type": "scatter",
         "x": [
          0,
          1,
          2,
          3,
          4,
          5,
          6,
          7
         ],
         "y": [
          1,
          1,
          1,
          0.5,
          0,
          0,
          0,
          0
         ]
        },
        {
         "marker": {
          "color": "rgb(255, 0, 238)"
         },
         "name": "T-Mobile",
         "type": "scatter",
         "x": [
          0,
          1,
          2,
          3,
          4,
          5,
          6,
          7
         ],
         "y": [
          2,
          2,
          1,
          1,
          0,
          0,
          0,
          0
         ]
        }
       ],
       "layout": {
        "boxmode": "group",
        "font": {
         "size": 20
        },
        "legend": {
         "orientation": "h",
         "x": 0.25,
         "y": 1.1
        },
        "plot_bgcolor": "rgba(0,0,0,0)",
        "template": {
         "data": {
          "bar": [
           {
            "error_x": {
             "color": "#2a3f5f"
            },
            "error_y": {
             "color": "#2a3f5f"
            },
            "marker": {
             "line": {
              "color": "#E5ECF6",
              "width": 0.5
             }
            },
            "type": "bar"
           }
          ],
          "barpolar": [
           {
            "marker": {
             "line": {
              "color": "#E5ECF6",
              "width": 0.5
             }
            },
            "type": "barpolar"
           }
          ],
          "carpet": [
           {
            "aaxis": {
             "endlinecolor": "#2a3f5f",
             "gridcolor": "white",
             "linecolor": "white",
             "minorgridcolor": "white",
             "startlinecolor": "#2a3f5f"
            },
            "baxis": {
             "endlinecolor": "#2a3f5f",
             "gridcolor": "white",
             "linecolor": "white",
             "minorgridcolor": "white",
             "startlinecolor": "#2a3f5f"
            },
            "type": "carpet"
           }
          ],
          "choropleth": [
           {
            "colorbar": {
             "outlinewidth": 0,
             "ticks": ""
            },
            "type": "choropleth"
           }
          ],
          "contour": [
           {
            "colorbar": {
             "outlinewidth": 0,
             "ticks": ""
            },
            "colorscale": [
             [
              0,
              "#0d0887"
             ],
             [
              0.1111111111111111,
              "#46039f"
             ],
             [
              0.2222222222222222,
              "#7201a8"
             ],
             [
              0.3333333333333333,
              "#9c179e"
             ],
             [
              0.4444444444444444,
              "#bd3786"
             ],
             [
              0.5555555555555556,
              "#d8576b"
             ],
             [
              0.6666666666666666,
              "#ed7953"
             ],
             [
              0.7777777777777778,
              "#fb9f3a"
             ],
             [
              0.8888888888888888,
              "#fdca26"
             ],
             [
              1,
              "#f0f921"
             ]
            ],
            "type": "contour"
           }
          ],
          "contourcarpet": [
           {
            "colorbar": {
             "outlinewidth": 0,
             "ticks": ""
            },
            "type": "contourcarpet"
           }
          ],
          "heatmap": [
           {
            "colorbar": {
             "outlinewidth": 0,
             "ticks": ""
            },
            "colorscale": [
             [
              0,
              "#0d0887"
             ],
             [
              0.1111111111111111,
              "#46039f"
             ],
             [
              0.2222222222222222,
              "#7201a8"
             ],
             [
              0.3333333333333333,
              "#9c179e"
             ],
             [
              0.4444444444444444,
              "#bd3786"
             ],
             [
              0.5555555555555556,
              "#d8576b"
             ],
             [
              0.6666666666666666,
              "#ed7953"
             ],
             [
              0.7777777777777778,
              "#fb9f3a"
             ],
             [
              0.8888888888888888,
              "#fdca26"
             ],
             [
              1,
              "#f0f921"
             ]
            ],
            "type": "heatmap"
           }
          ],
          "heatmapgl": [
           {
            "colorbar": {
             "outlinewidth": 0,
             "ticks": ""
            },
            "colorscale": [
             [
              0,
              "#0d0887"
             ],
             [
              0.1111111111111111,
              "#46039f"
             ],
             [
              0.2222222222222222,
              "#7201a8"
             ],
             [
              0.3333333333333333,
              "#9c179e"
             ],
             [
              0.4444444444444444,
              "#bd3786"
             ],
             [
              0.5555555555555556,
              "#d8576b"
             ],
             [
              0.6666666666666666,
              "#ed7953"
             ],
             [
              0.7777777777777778,
              "#fb9f3a"
             ],
             [
              0.8888888888888888,
              "#fdca26"
             ],
             [
              1,
              "#f0f921"
             ]
            ],
            "type": "heatmapgl"
           }
          ],
          "histogram": [
           {
            "marker": {
             "colorbar": {
              "outlinewidth": 0,
              "ticks": ""
             }
            },
            "type": "histogram"
           }
          ],
          "histogram2d": [
           {
            "colorbar": {
             "outlinewidth": 0,
             "ticks": ""
            },
            "colorscale": [
             [
              0,
              "#0d0887"
             ],
             [
              0.1111111111111111,
              "#46039f"
             ],
             [
              0.2222222222222222,
              "#7201a8"
             ],
             [
              0.3333333333333333,
              "#9c179e"
             ],
             [
              0.4444444444444444,
              "#bd3786"
             ],
             [
              0.5555555555555556,
              "#d8576b"
             ],
             [
              0.6666666666666666,
              "#ed7953"
             ],
             [
              0.7777777777777778,
              "#fb9f3a"
             ],
             [
              0.8888888888888888,
              "#fdca26"
             ],
             [
              1,
              "#f0f921"
             ]
            ],
            "type": "histogram2d"
           }
          ],
          "histogram2dcontour": [
           {
            "colorbar": {
             "outlinewidth": 0,
             "ticks": ""
            },
            "colorscale": [
             [
              0,
              "#0d0887"
             ],
             [
              0.1111111111111111,
              "#46039f"
             ],
             [
              0.2222222222222222,
              "#7201a8"
             ],
             [
              0.3333333333333333,
              "#9c179e"
             ],
             [
              0.4444444444444444,
              "#bd3786"
             ],
             [
              0.5555555555555556,
              "#d8576b"
             ],
             [
              0.6666666666666666,
              "#ed7953"
             ],
             [
              0.7777777777777778,
              "#fb9f3a"
             ],
             [
              0.8888888888888888,
              "#fdca26"
             ],
             [
              1,
              "#f0f921"
             ]
            ],
            "type": "histogram2dcontour"
           }
          ],
          "mesh3d": [
           {
            "colorbar": {
             "outlinewidth": 0,
             "ticks": ""
            },
            "type": "mesh3d"
           }
          ],
          "parcoords": [
           {
            "line": {
             "colorbar": {
              "outlinewidth": 0,
              "ticks": ""
             }
            },
            "type": "parcoords"
           }
          ],
          "pie": [
           {
            "automargin": true,
            "type": "pie"
           }
          ],
          "scatter": [
           {
            "marker": {
             "colorbar": {
              "outlinewidth": 0,
              "ticks": ""
             }
            },
            "type": "scatter"
           }
          ],
          "scatter3d": [
           {
            "line": {
             "colorbar": {
              "outlinewidth": 0,
              "ticks": ""
             }
            },
            "marker": {
             "colorbar": {
              "outlinewidth": 0,
              "ticks": ""
             }
            },
            "type": "scatter3d"
           }
          ],
          "scattercarpet": [
           {
            "marker": {
             "colorbar": {
              "outlinewidth": 0,
              "ticks": ""
             }
            },
            "type": "scattercarpet"
           }
          ],
          "scattergeo": [
           {
            "marker": {
             "colorbar": {
              "outlinewidth": 0,
              "ticks": ""
             }
            },
            "type": "scattergeo"
           }
          ],
          "scattergl": [
           {
            "marker": {
             "colorbar": {
              "outlinewidth": 0,
              "ticks": ""
             }
            },
            "type": "scattergl"
           }
          ],
          "scattermapbox": [
           {
            "marker": {
             "colorbar": {
              "outlinewidth": 0,
              "ticks": ""
             }
            },
            "type": "scattermapbox"
           }
          ],
          "scatterpolar": [
           {
            "marker": {
             "colorbar": {
              "outlinewidth": 0,
              "ticks": ""
             }
            },
            "type": "scatterpolar"
           }
          ],
          "scatterpolargl": [
           {
            "marker": {
             "colorbar": {
              "outlinewidth": 0,
              "ticks": ""
             }
            },
            "type": "scatterpolargl"
           }
          ],
          "scatterternary": [
           {
            "marker": {
             "colorbar": {
              "outlinewidth": 0,
              "ticks": ""
             }
            },
            "type": "scatterternary"
           }
          ],
          "surface": [
           {
            "colorbar": {
             "outlinewidth": 0,
             "ticks": ""
            },
            "colorscale": [
             [
              0,
              "#0d0887"
             ],
             [
              0.1111111111111111,
              "#46039f"
             ],
             [
              0.2222222222222222,
              "#7201a8"
             ],
             [
              0.3333333333333333,
              "#9c179e"
             ],
             [
              0.4444444444444444,
              "#bd3786"
             ],
             [
              0.5555555555555556,
              "#d8576b"
             ],
             [
              0.6666666666666666,
              "#ed7953"
             ],
             [
              0.7777777777777778,
              "#fb9f3a"
             ],
             [
              0.8888888888888888,
              "#fdca26"
             ],
             [
              1,
              "#f0f921"
             ]
            ],
            "type": "surface"
           }
          ],
          "table": [
           {
            "cells": {
             "fill": {
              "color": "#EBF0F8"
             },
             "line": {
              "color": "white"
             }
            },
            "header": {
             "fill": {
              "color": "#C8D4E3"
             },
             "line": {
              "color": "white"
             }
            },
            "type": "table"
           }
          ]
         },
         "layout": {
          "annotationdefaults": {
           "arrowcolor": "#2a3f5f",
           "arrowhead": 0,
           "arrowwidth": 1
          },
          "coloraxis": {
           "colorbar": {
            "outlinewidth": 0,
            "ticks": ""
           }
          },
          "colorscale": {
           "diverging": [
            [
             0,
             "#8e0152"
            ],
            [
             0.1,
             "#c51b7d"
            ],
            [
             0.2,
             "#de77ae"
            ],
            [
             0.3,
             "#f1b6da"
            ],
            [
             0.4,
             "#fde0ef"
            ],
            [
             0.5,
             "#f7f7f7"
            ],
            [
             0.6,
             "#e6f5d0"
            ],
            [
             0.7,
             "#b8e186"
            ],
            [
             0.8,
             "#7fbc41"
            ],
            [
             0.9,
             "#4d9221"
            ],
            [
             1,
             "#276419"
            ]
           ],
           "sequential": [
            [
             0,
             "#0d0887"
            ],
            [
             0.1111111111111111,
             "#46039f"
            ],
            [
             0.2222222222222222,
             "#7201a8"
            ],
            [
             0.3333333333333333,
             "#9c179e"
            ],
            [
             0.4444444444444444,
             "#bd3786"
            ],
            [
             0.5555555555555556,
             "#d8576b"
            ],
            [
             0.6666666666666666,
             "#ed7953"
            ],
            [
             0.7777777777777778,
             "#fb9f3a"
            ],
            [
             0.8888888888888888,
             "#fdca26"
            ],
            [
             1,
             "#f0f921"
            ]
           ],
           "sequentialminus": [
            [
             0,
             "#0d0887"
            ],
            [
             0.1111111111111111,
             "#46039f"
            ],
            [
             0.2222222222222222,
             "#7201a8"
            ],
            [
             0.3333333333333333,
             "#9c179e"
            ],
            [
             0.4444444444444444,
             "#bd3786"
            ],
            [
             0.5555555555555556,
             "#d8576b"
            ],
            [
             0.6666666666666666,
             "#ed7953"
            ],
            [
             0.7777777777777778,
             "#fb9f3a"
            ],
            [
             0.8888888888888888,
             "#fdca26"
            ],
            [
             1,
             "#f0f921"
            ]
           ]
          },
          "colorway": [
           "#636efa",
           "#EF553B",
           "#00cc96",
           "#ab63fa",
           "#FFA15A",
           "#19d3f3",
           "#FF6692",
           "#B6E880",
           "#FF97FF",
           "#FECB52"
          ],
          "font": {
           "color": "#2a3f5f"
          },
          "geo": {
           "bgcolor": "white",
           "lakecolor": "white",
           "landcolor": "#E5ECF6",
           "showlakes": true,
           "showland": true,
           "subunitcolor": "white"
          },
          "hoverlabel": {
           "align": "left"
          },
          "hovermode": "closest",
          "mapbox": {
           "style": "light"
          },
          "paper_bgcolor": "white",
          "plot_bgcolor": "#E5ECF6",
          "polar": {
           "angularaxis": {
            "gridcolor": "white",
            "linecolor": "white",
            "ticks": ""
           },
           "bgcolor": "#E5ECF6",
           "radialaxis": {
            "gridcolor": "white",
            "linecolor": "white",
            "ticks": ""
           }
          },
          "scene": {
           "xaxis": {
            "backgroundcolor": "#E5ECF6",
            "gridcolor": "white",
            "gridwidth": 2,
            "linecolor": "white",
            "showbackground": true,
            "ticks": "",
            "zerolinecolor": "white"
           },
           "yaxis": {
            "backgroundcolor": "#E5ECF6",
            "gridcolor": "white",
            "gridwidth": 2,
            "linecolor": "white",
            "showbackground": true,
            "ticks": "",
            "zerolinecolor": "white"
           },
           "zaxis": {
            "backgroundcolor": "#E5ECF6",
            "gridcolor": "white",
            "gridwidth": 2,
            "linecolor": "white",
            "showbackground": true,
            "ticks": "",
            "zerolinecolor": "white"
           }
          },
          "shapedefaults": {
           "line": {
            "color": "#2a3f5f"
           }
          },
          "ternary": {
           "aaxis": {
            "gridcolor": "white",
            "linecolor": "white",
            "ticks": ""
           },
           "baxis": {
            "gridcolor": "white",
            "linecolor": "white",
            "ticks": ""
           },
           "bgcolor": "#E5ECF6",
           "caxis": {
            "gridcolor": "white",
            "linecolor": "white",
            "ticks": ""
           }
          },
          "title": {
           "x": 0.05
          },
          "xaxis": {
           "automargin": true,
           "gridcolor": "white",
           "linecolor": "white",
           "ticks": "",
           "title": {
            "standoff": 15
           },
           "zerolinecolor": "white",
           "zerolinewidth": 2
          },
          "yaxis": {
           "automargin": true,
           "gridcolor": "white",
           "linecolor": "white",
           "ticks": "",
           "title": {
            "standoff": 15
           },
           "zerolinecolor": "white",
           "zerolinewidth": 2
          }
         }
        },
        "violinmode": "group",
        "yaxis": {
         "gridcolor": "rgb(219, 219, 219)",
         "showgrid": true,
         "title": {
          "text": "Median Number of Updates"
         }
        }
       }
      },
      "text/html": [
       "<div>\n",
       "        \n",
       "        \n",
       "            <div id=\"3d31e0b3-c61b-46c8-8e83-6a283d6f8c58\" class=\"plotly-graph-div\" style=\"height:525px; width:100%;\"></div>\n",
       "            <script type=\"text/javascript\">\n",
       "                require([\"plotly\"], function(Plotly) {\n",
       "                    window.PLOTLYENV=window.PLOTLYENV || {};\n",
       "                    \n",
       "                if (document.getElementById(\"3d31e0b3-c61b-46c8-8e83-6a283d6f8c58\")) {\n",
       "                    Plotly.newPlot(\n",
       "                        '3d31e0b3-c61b-46c8-8e83-6a283d6f8c58',\n",
       "                        [{\"marker\": {\"color\": \"rgb(64, 190, 245)\"}, \"name\": \"AT&T\", \"type\": \"scatter\", \"x\": [0, 1, 2, 3, 4, 5, 6, 7], \"y\": [1.0, 1, 1.5, 1, 0, 0, 0.0, 0.0]}, {\"marker\": {\"color\": \"rgb(255, 162, 0)\"}, \"name\": \"Sprint\", \"type\": \"scatter\", \"x\": [0, 1, 2, 3, 4, 5, 6, 7], \"y\": [1, 1, 1.0, 0.5, 0.0, 0.0, 0, 0]}, {\"marker\": {\"color\": \"rgb(255, 0, 238)\"}, \"name\": \"T-Mobile\", \"type\": \"scatter\", \"x\": [0, 1, 2, 3, 4, 5, 6, 7], \"y\": [2, 2, 1, 1.0, 0, 0, 0, 0]}],\n",
       "                        {\"boxmode\": \"group\", \"font\": {\"size\": 20}, \"legend\": {\"orientation\": \"h\", \"x\": 0.25, \"y\": 1.1}, \"plot_bgcolor\": \"rgba(0,0,0,0)\", \"template\": {\"data\": {\"bar\": [{\"error_x\": {\"color\": \"#2a3f5f\"}, \"error_y\": {\"color\": \"#2a3f5f\"}, \"marker\": {\"line\": {\"color\": \"#E5ECF6\", \"width\": 0.5}}, \"type\": \"bar\"}], \"barpolar\": [{\"marker\": {\"line\": {\"color\": \"#E5ECF6\", \"width\": 0.5}}, \"type\": \"barpolar\"}], \"carpet\": [{\"aaxis\": {\"endlinecolor\": \"#2a3f5f\", \"gridcolor\": \"white\", \"linecolor\": \"white\", \"minorgridcolor\": \"white\", \"startlinecolor\": \"#2a3f5f\"}, \"baxis\": {\"endlinecolor\": \"#2a3f5f\", \"gridcolor\": \"white\", \"linecolor\": \"white\", \"minorgridcolor\": \"white\", \"startlinecolor\": \"#2a3f5f\"}, \"type\": \"carpet\"}], \"choropleth\": [{\"colorbar\": {\"outlinewidth\": 0, \"ticks\": \"\"}, \"type\": \"choropleth\"}], \"contour\": [{\"colorbar\": {\"outlinewidth\": 0, \"ticks\": \"\"}, \"colorscale\": [[0.0, \"#0d0887\"], [0.1111111111111111, \"#46039f\"], [0.2222222222222222, \"#7201a8\"], [0.3333333333333333, \"#9c179e\"], [0.4444444444444444, \"#bd3786\"], [0.5555555555555556, \"#d8576b\"], [0.6666666666666666, \"#ed7953\"], [0.7777777777777778, \"#fb9f3a\"], [0.8888888888888888, \"#fdca26\"], [1.0, \"#f0f921\"]], \"type\": \"contour\"}], \"contourcarpet\": [{\"colorbar\": {\"outlinewidth\": 0, \"ticks\": \"\"}, \"type\": \"contourcarpet\"}], \"heatmap\": [{\"colorbar\": {\"outlinewidth\": 0, \"ticks\": \"\"}, \"colorscale\": [[0.0, \"#0d0887\"], [0.1111111111111111, \"#46039f\"], [0.2222222222222222, \"#7201a8\"], [0.3333333333333333, \"#9c179e\"], [0.4444444444444444, \"#bd3786\"], [0.5555555555555556, \"#d8576b\"], [0.6666666666666666, \"#ed7953\"], [0.7777777777777778, \"#fb9f3a\"], [0.8888888888888888, \"#fdca26\"], [1.0, \"#f0f921\"]], \"type\": \"heatmap\"}], \"heatmapgl\": [{\"colorbar\": {\"outlinewidth\": 0, \"ticks\": \"\"}, \"colorscale\": [[0.0, \"#0d0887\"], [0.1111111111111111, \"#46039f\"], [0.2222222222222222, \"#7201a8\"], [0.3333333333333333, \"#9c179e\"], [0.4444444444444444, \"#bd3786\"], [0.5555555555555556, \"#d8576b\"], [0.6666666666666666, \"#ed7953\"], [0.7777777777777778, \"#fb9f3a\"], [0.8888888888888888, \"#fdca26\"], [1.0, \"#f0f921\"]], \"type\": \"heatmapgl\"}], \"histogram\": [{\"marker\": {\"colorbar\": {\"outlinewidth\": 0, \"ticks\": \"\"}}, \"type\": \"histogram\"}], \"histogram2d\": [{\"colorbar\": {\"outlinewidth\": 0, \"ticks\": \"\"}, \"colorscale\": [[0.0, \"#0d0887\"], [0.1111111111111111, \"#46039f\"], [0.2222222222222222, \"#7201a8\"], [0.3333333333333333, \"#9c179e\"], [0.4444444444444444, \"#bd3786\"], [0.5555555555555556, \"#d8576b\"], [0.6666666666666666, \"#ed7953\"], [0.7777777777777778, \"#fb9f3a\"], [0.8888888888888888, \"#fdca26\"], [1.0, \"#f0f921\"]], \"type\": \"histogram2d\"}], \"histogram2dcontour\": [{\"colorbar\": {\"outlinewidth\": 0, \"ticks\": \"\"}, \"colorscale\": [[0.0, \"#0d0887\"], [0.1111111111111111, \"#46039f\"], [0.2222222222222222, \"#7201a8\"], [0.3333333333333333, \"#9c179e\"], [0.4444444444444444, \"#bd3786\"], [0.5555555555555556, \"#d8576b\"], [0.6666666666666666, \"#ed7953\"], [0.7777777777777778, \"#fb9f3a\"], [0.8888888888888888, \"#fdca26\"], [1.0, \"#f0f921\"]], \"type\": \"histogram2dcontour\"}], \"mesh3d\": [{\"colorbar\": {\"outlinewidth\": 0, \"ticks\": \"\"}, \"type\": \"mesh3d\"}], \"parcoords\": [{\"line\": {\"colorbar\": {\"outlinewidth\": 0, \"ticks\": \"\"}}, \"type\": \"parcoords\"}], \"pie\": [{\"automargin\": true, \"type\": \"pie\"}], \"scatter\": [{\"marker\": {\"colorbar\": {\"outlinewidth\": 0, \"ticks\": \"\"}}, \"type\": \"scatter\"}], \"scatter3d\": [{\"line\": {\"colorbar\": {\"outlinewidth\": 0, \"ticks\": \"\"}}, \"marker\": {\"colorbar\": {\"outlinewidth\": 0, \"ticks\": \"\"}}, \"type\": \"scatter3d\"}], \"scattercarpet\": [{\"marker\": {\"colorbar\": {\"outlinewidth\": 0, \"ticks\": \"\"}}, \"type\": \"scattercarpet\"}], \"scattergeo\": [{\"marker\": {\"colorbar\": {\"outlinewidth\": 0, \"ticks\": \"\"}}, \"type\": \"scattergeo\"}], \"scattergl\": [{\"marker\": {\"colorbar\": {\"outlinewidth\": 0, \"ticks\": \"\"}}, \"type\": \"scattergl\"}], \"scattermapbox\": [{\"marker\": {\"colorbar\": {\"outlinewidth\": 0, \"ticks\": \"\"}}, \"type\": \"scattermapbox\"}], \"scatterpolar\": [{\"marker\": {\"colorbar\": {\"outlinewidth\": 0, \"ticks\": \"\"}}, \"type\": \"scatterpolar\"}], \"scatterpolargl\": [{\"marker\": {\"colorbar\": {\"outlinewidth\": 0, \"ticks\": \"\"}}, \"type\": \"scatterpolargl\"}], \"scatterternary\": [{\"marker\": {\"colorbar\": {\"outlinewidth\": 0, \"ticks\": \"\"}}, \"type\": \"scatterternary\"}], \"surface\": [{\"colorbar\": {\"outlinewidth\": 0, \"ticks\": \"\"}, \"colorscale\": [[0.0, \"#0d0887\"], [0.1111111111111111, \"#46039f\"], [0.2222222222222222, \"#7201a8\"], [0.3333333333333333, \"#9c179e\"], [0.4444444444444444, \"#bd3786\"], [0.5555555555555556, \"#d8576b\"], [0.6666666666666666, \"#ed7953\"], [0.7777777777777778, \"#fb9f3a\"], [0.8888888888888888, \"#fdca26\"], [1.0, \"#f0f921\"]], \"type\": \"surface\"}], \"table\": [{\"cells\": {\"fill\": {\"color\": \"#EBF0F8\"}, \"line\": {\"color\": \"white\"}}, \"header\": {\"fill\": {\"color\": \"#C8D4E3\"}, \"line\": {\"color\": \"white\"}}, \"type\": \"table\"}]}, \"layout\": {\"annotationdefaults\": {\"arrowcolor\": \"#2a3f5f\", \"arrowhead\": 0, \"arrowwidth\": 1}, \"coloraxis\": {\"colorbar\": {\"outlinewidth\": 0, \"ticks\": \"\"}}, \"colorscale\": {\"diverging\": [[0, \"#8e0152\"], [0.1, \"#c51b7d\"], [0.2, \"#de77ae\"], [0.3, \"#f1b6da\"], [0.4, \"#fde0ef\"], [0.5, \"#f7f7f7\"], [0.6, \"#e6f5d0\"], [0.7, \"#b8e186\"], [0.8, \"#7fbc41\"], [0.9, \"#4d9221\"], [1, \"#276419\"]], \"sequential\": [[0.0, \"#0d0887\"], [0.1111111111111111, \"#46039f\"], [0.2222222222222222, \"#7201a8\"], [0.3333333333333333, \"#9c179e\"], [0.4444444444444444, \"#bd3786\"], [0.5555555555555556, \"#d8576b\"], [0.6666666666666666, \"#ed7953\"], [0.7777777777777778, \"#fb9f3a\"], [0.8888888888888888, \"#fdca26\"], [1.0, \"#f0f921\"]], \"sequentialminus\": [[0.0, \"#0d0887\"], [0.1111111111111111, \"#46039f\"], [0.2222222222222222, \"#7201a8\"], [0.3333333333333333, \"#9c179e\"], [0.4444444444444444, \"#bd3786\"], [0.5555555555555556, \"#d8576b\"], [0.6666666666666666, \"#ed7953\"], [0.7777777777777778, \"#fb9f3a\"], [0.8888888888888888, \"#fdca26\"], [1.0, \"#f0f921\"]]}, \"colorway\": [\"#636efa\", \"#EF553B\", \"#00cc96\", \"#ab63fa\", \"#FFA15A\", \"#19d3f3\", \"#FF6692\", \"#B6E880\", \"#FF97FF\", \"#FECB52\"], \"font\": {\"color\": \"#2a3f5f\"}, \"geo\": {\"bgcolor\": \"white\", \"lakecolor\": \"white\", \"landcolor\": \"#E5ECF6\", \"showlakes\": true, \"showland\": true, \"subunitcolor\": \"white\"}, \"hoverlabel\": {\"align\": \"left\"}, \"hovermode\": \"closest\", \"mapbox\": {\"style\": \"light\"}, \"paper_bgcolor\": \"white\", \"plot_bgcolor\": \"#E5ECF6\", \"polar\": {\"angularaxis\": {\"gridcolor\": \"white\", \"linecolor\": \"white\", \"ticks\": \"\"}, \"bgcolor\": \"#E5ECF6\", \"radialaxis\": {\"gridcolor\": \"white\", \"linecolor\": \"white\", \"ticks\": \"\"}}, \"scene\": {\"xaxis\": {\"backgroundcolor\": \"#E5ECF6\", \"gridcolor\": \"white\", \"gridwidth\": 2, \"linecolor\": \"white\", \"showbackground\": true, \"ticks\": \"\", \"zerolinecolor\": \"white\"}, \"yaxis\": {\"backgroundcolor\": \"#E5ECF6\", \"gridcolor\": \"white\", \"gridwidth\": 2, \"linecolor\": \"white\", \"showbackground\": true, \"ticks\": \"\", \"zerolinecolor\": \"white\"}, \"zaxis\": {\"backgroundcolor\": \"#E5ECF6\", \"gridcolor\": \"white\", \"gridwidth\": 2, \"linecolor\": \"white\", \"showbackground\": true, \"ticks\": \"\", \"zerolinecolor\": \"white\"}}, \"shapedefaults\": {\"line\": {\"color\": \"#2a3f5f\"}}, \"ternary\": {\"aaxis\": {\"gridcolor\": \"white\", \"linecolor\": \"white\", \"ticks\": \"\"}, \"baxis\": {\"gridcolor\": \"white\", \"linecolor\": \"white\", \"ticks\": \"\"}, \"bgcolor\": \"#E5ECF6\", \"caxis\": {\"gridcolor\": \"white\", \"linecolor\": \"white\", \"ticks\": \"\"}}, \"title\": {\"x\": 0.05}, \"xaxis\": {\"automargin\": true, \"gridcolor\": \"white\", \"linecolor\": \"white\", \"ticks\": \"\", \"title\": {\"standoff\": 15}, \"zerolinecolor\": \"white\", \"zerolinewidth\": 2}, \"yaxis\": {\"automargin\": true, \"gridcolor\": \"white\", \"linecolor\": \"white\", \"ticks\": \"\", \"title\": {\"standoff\": 15}, \"zerolinecolor\": \"white\", \"zerolinewidth\": 2}}}, \"violinmode\": \"group\", \"yaxis\": {\"gridcolor\": \"rgb(219, 219, 219)\", \"showgrid\": true, \"title\": {\"text\": \"Median Number of Updates\"}}},\n",
       "                        {\"responsive\": true}\n",
       "                    ).then(function(){\n",
       "                            \n",
       "var gd = document.getElementById('3d31e0b3-c61b-46c8-8e83-6a283d6f8c58');\n",
       "var x = new MutationObserver(function (mutations, observer) {{\n",
       "        var display = window.getComputedStyle(gd).display;\n",
       "        if (!display || display === 'none') {{\n",
       "            console.log([gd, 'removed!']);\n",
       "            Plotly.purge(gd);\n",
       "            observer.disconnect();\n",
       "        }}\n",
       "}});\n",
       "\n",
       "// Listen for the removal of the full notebook cells\n",
       "var notebookContainer = gd.closest('#notebook-container');\n",
       "if (notebookContainer) {{\n",
       "    x.observe(notebookContainer, {childList: true});\n",
       "}}\n",
       "\n",
       "// Listen for the clearing of the current output cell\n",
       "var outputEl = gd.closest('.output');\n",
       "if (outputEl) {{\n",
       "    x.observe(outputEl, {childList: true});\n",
       "}}\n",
       "\n",
       "                        })\n",
       "                };\n",
       "                });\n",
       "            </script>\n",
       "        </div>"
      ]
     },
     "metadata": {},
     "output_type": "display_data"
    }
   ],
   "source": [
    "# exception here\n",
    "\n",
    "data=[]\n",
    "total_updates={}\n",
    "total_years={}\n",
    "\n",
    "total_updates_wZeroes={}\n",
    "total_years_wZeroes={}\n",
    "\n",
    "\n",
    "for yr in range(int(12/howManyMonths)*4):\n",
    "\n",
    "    properList_update=[]\n",
    "    properList_years=[]\n",
    "    properList_update_wZeroes=[]\n",
    "    properList_years_wZeroes=[]\n",
    "    for car in carrierDF.Carrier.unique():\n",
    "        properList_update_wZeroes.extend(freqPointsCarAllDevices[car][yr])\n",
    "        properList_years_wZeroes.extend([car for _ in range(len(freqPointsCarAllDevices[car][yr]))]) #+\" period\"\n",
    "    \n",
    "    total_updates_wZeroes[yr]=properList_update_wZeroes.copy()\n",
    "    total_years_wZeroes[yr]=properList_years_wZeroes.copy()\n",
    "    \n",
    "\n",
    "for yr in range(int(12/howManyMonths)*4):\n",
    "        formatGood=\"th\"\n",
    "        if yr==0:\n",
    "            formatGood=\"st\"\n",
    "        elif yr==1:\n",
    "            formatGood=\"nd\"\n",
    "        elif yr==2:\n",
    "            formatGood=\"rd\"\n",
    "            \n",
    "        data.append(go.Box(\n",
    "            x=total_years_wZeroes[yr],\n",
    "            y=total_updates_wZeroes[yr],\n",
    "            name=str(yr+1)+formatGood,\n",
    "#             marker=dict(color='rgb'+str(lvlColor[car]))\n",
    "        ))\n",
    "    \n",
    "    \n",
    "# Edit the layout\n",
    "layout = dict(#title = \"Number of Updates per 6 Month Period after Release per Carrier\",\n",
    "              yaxis = dict(title = 'Number of Updates',showgrid=True, gridcolor='rgb(219, 219, 219)'),\n",
    "              #xaxis = dict(title = '6 Month Period'),\n",
    "              plot_bgcolor='rgba(0,0,0,0)',\n",
    "              boxmode='group',\n",
    "              violinmode='group',\n",
    "              legend_orientation=\"h\",\n",
    "              legend=dict(x=0.25, y=1.1),\n",
    "              font=dict(size=20)\n",
    "              )\n",
    "\n",
    "fig = dict(data=data, layout=layout)\n",
    "py.offline.iplot(fig, filename='release-years-frequency-per-carrier.png')\n",
    "\n",
    "\n",
    "if not \"Verizon\" in carrierDF.Carrier.values and saveFigs==True: # only save if no Verizon\n",
    "    pio.write_image(fig, 'carrier-number-updates-released-per-year.pdf', width=1000, height=600)\n",
    "\n",
    "    \n",
    "############################################################################################################################\n",
    "############################################################################################################################\n",
    "############################################################################################################################\n",
    "\n",
    "# LINE CHART INSTEAD\n",
    "from statistics import median\n",
    "data=[]\n",
    "\n",
    "\n",
    "poperCars_yr=[]\n",
    "poperCars={}\n",
    "for car in carrierDF.Carrier.unique():\n",
    "    poperCars[car]=[]\n",
    "\n",
    "for yr in range(int(12/howManyMonths)*4):\n",
    "    poperCars_yr.append(yr)\n",
    "    for car in carrierDF.Carrier.unique():\n",
    "        poperCars[car].append(median(freqPointsCarAllDevices[car][yr])) # for each carrier, calculate median for ea section\n",
    "        \n",
    "for car in carrierDF.Carrier.unique():\n",
    "    data.append(go.Scatter(\n",
    "            x=poperCars_yr,\n",
    "            y=poperCars[car],\n",
    "            name=str(car),\n",
    "            marker=dict(color='rgb'+str(lvlColor[car]))\n",
    "        ))\n",
    "\n",
    "# Edit the layout\n",
    "layout = dict(#title = \"Number of Updates per 6 Month Period after Release per Carrier\",\n",
    "              yaxis = dict(title = 'Median Number of Updates',showgrid=True, gridcolor='rgb(219, 219, 219)'),\n",
    "              #xaxis = dict(title = '6 Month Period'),\n",
    "              plot_bgcolor='rgba(0,0,0,0)',\n",
    "              boxmode='group',\n",
    "              violinmode='group',\n",
    "              legend_orientation=\"h\",\n",
    "              legend=dict(x=0.25, y=1.1),\n",
    "              font=dict(size=20)\n",
    "              )\n",
    "\n",
    "fig = dict(data=data, layout=layout)\n",
    "py.offline.iplot(fig, filename='release-years-frequency-per-carrier-median.png')\n",
    "\n",
    "\n",
    "if not \"Verizon\" in carrierDF.Carrier.values and saveFigs==True: # only save if no Verizon\n",
    "    pio.write_image(fig, 'carrier-number-updates-released-per-year.pdf', width=1000, height=600)\n",
    "\n"
   ]
  },
  {
   "cell_type": "code",
   "execution_count": 29,
   "metadata": {},
   "outputs": [
    {
     "data": {
      "application/vnd.plotly.v1+json": {
       "config": {
        "linkText": "Export to plot.ly",
        "plotlyServerURL": "https://plot.ly",
        "showLink": false
       },
       "data": [
        {
         "marker": {
          "color": "rgb(31, 119, 180)"
         },
         "type": "box",
         "x": [
          "AT&T",
          "AT&T",
          "AT&T",
          "AT&T",
          "AT&T",
          "AT&T",
          "AT&T",
          "AT&T",
          "AT&T",
          "AT&T",
          "AT&T",
          "AT&T",
          "AT&T",
          "AT&T",
          "AT&T",
          "AT&T",
          "AT&T",
          "AT&T",
          "AT&T",
          "AT&T",
          "AT&T",
          "AT&T",
          "AT&T",
          "AT&T",
          "AT&T",
          "AT&T",
          "AT&T",
          "AT&T",
          "AT&T",
          "AT&T",
          "AT&T",
          "AT&T",
          "AT&T",
          "AT&T",
          "AT&T",
          "AT&T",
          "AT&T",
          "AT&T",
          "AT&T",
          "AT&T",
          "AT&T",
          "AT&T",
          "AT&T",
          "AT&T",
          "AT&T",
          "AT&T",
          "AT&T",
          "AT&T",
          "Sprint",
          "Sprint",
          "Sprint",
          "Sprint",
          "Sprint",
          "Sprint",
          "Sprint",
          "Sprint",
          "Sprint",
          "Sprint",
          "Sprint",
          "Sprint",
          "Sprint",
          "Sprint",
          "Sprint",
          "Sprint",
          "Sprint",
          "Sprint",
          "Sprint",
          "Sprint",
          "Sprint",
          "Sprint",
          "Sprint",
          "Sprint",
          "Sprint",
          "Sprint",
          "Sprint",
          "Sprint",
          "Sprint",
          "Sprint",
          "Sprint",
          "Sprint",
          "Sprint",
          "Sprint",
          "Sprint",
          "Sprint",
          "Sprint",
          "Sprint",
          "Sprint",
          "Sprint",
          "Sprint",
          "Sprint",
          "Sprint",
          "Sprint",
          "Sprint",
          "Sprint",
          "Sprint",
          "Sprint",
          "Sprint",
          "Sprint",
          "Sprint",
          "Sprint",
          "Sprint",
          "Sprint",
          "Sprint",
          "Sprint",
          "Sprint",
          "Sprint",
          "Sprint",
          "Sprint",
          "Sprint",
          "Sprint",
          "Sprint",
          "Sprint",
          "Sprint",
          "Sprint",
          "Sprint",
          "T-Mobile",
          "T-Mobile",
          "T-Mobile",
          "T-Mobile",
          "T-Mobile",
          "T-Mobile",
          "T-Mobile",
          "T-Mobile",
          "T-Mobile",
          "T-Mobile",
          "T-Mobile",
          "T-Mobile",
          "T-Mobile",
          "T-Mobile",
          "T-Mobile",
          "T-Mobile",
          "T-Mobile",
          "T-Mobile",
          "T-Mobile",
          "T-Mobile",
          "T-Mobile",
          "T-Mobile",
          "T-Mobile",
          "T-Mobile",
          "T-Mobile",
          "T-Mobile",
          "T-Mobile",
          "T-Mobile",
          "T-Mobile",
          "T-Mobile",
          "T-Mobile",
          "T-Mobile",
          "T-Mobile",
          "T-Mobile",
          "T-Mobile",
          "T-Mobile",
          "T-Mobile",
          "T-Mobile",
          "T-Mobile",
          "T-Mobile",
          "T-Mobile",
          "T-Mobile",
          "T-Mobile",
          "T-Mobile",
          "T-Mobile",
          "T-Mobile",
          "T-Mobile",
          "T-Mobile",
          "T-Mobile",
          "T-Mobile",
          "T-Mobile",
          "T-Mobile",
          "T-Mobile",
          "T-Mobile",
          "T-Mobile",
          "T-Mobile",
          "T-Mobile",
          "T-Mobile",
          "T-Mobile",
          "T-Mobile",
          "T-Mobile",
          "T-Mobile",
          "T-Mobile",
          "T-Mobile",
          "T-Mobile",
          "AT&T",
          "AT&T",
          "AT&T",
          "AT&T",
          "AT&T",
          "AT&T",
          "AT&T",
          "AT&T",
          "AT&T",
          "AT&T",
          "AT&T",
          "AT&T",
          "AT&T",
          "AT&T",
          "AT&T",
          "AT&T",
          "AT&T",
          "AT&T",
          "AT&T",
          "AT&T",
          "AT&T",
          "AT&T",
          "AT&T",
          "AT&T",
          "AT&T",
          "AT&T",
          "AT&T",
          "AT&T",
          "AT&T",
          "AT&T",
          "AT&T",
          "AT&T",
          "AT&T",
          "AT&T",
          "AT&T",
          "AT&T",
          "AT&T",
          "AT&T",
          "AT&T",
          "AT&T",
          "AT&T",
          "AT&T",
          "AT&T",
          "AT&T",
          "AT&T",
          "AT&T",
          "AT&T",
          "AT&T",
          "AT&T",
          "Sprint",
          "Sprint",
          "Sprint",
          "Sprint",
          "Sprint",
          "Sprint",
          "Sprint",
          "Sprint",
          "Sprint",
          "Sprint",
          "Sprint",
          "Sprint",
          "Sprint",
          "Sprint",
          "Sprint",
          "Sprint",
          "Sprint",
          "Sprint",
          "Sprint",
          "Sprint",
          "Sprint",
          "Sprint",
          "Sprint",
          "Sprint",
          "Sprint",
          "Sprint",
          "Sprint",
          "Sprint",
          "Sprint",
          "Sprint",
          "Sprint",
          "Sprint",
          "Sprint",
          "Sprint",
          "Sprint",
          "Sprint",
          "Sprint",
          "Sprint",
          "Sprint",
          "Sprint",
          "Sprint",
          "Sprint",
          "Sprint",
          "Sprint",
          "Sprint",
          "Sprint",
          "Sprint",
          "Sprint",
          "Sprint",
          "Sprint",
          "Sprint",
          "Sprint",
          "Sprint",
          "Sprint",
          "Sprint",
          "Sprint",
          "Sprint",
          "Sprint",
          "Sprint",
          "Sprint",
          "Sprint",
          "Sprint",
          "Sprint",
          "Sprint",
          "Sprint",
          "T-Mobile",
          "T-Mobile",
          "T-Mobile",
          "T-Mobile",
          "T-Mobile",
          "T-Mobile",
          "T-Mobile",
          "T-Mobile",
          "T-Mobile",
          "T-Mobile",
          "T-Mobile",
          "T-Mobile",
          "T-Mobile",
          "T-Mobile",
          "T-Mobile",
          "T-Mobile",
          "T-Mobile",
          "T-Mobile",
          "T-Mobile",
          "T-Mobile",
          "T-Mobile",
          "T-Mobile",
          "T-Mobile",
          "T-Mobile",
          "T-Mobile",
          "T-Mobile",
          "T-Mobile",
          "T-Mobile",
          "T-Mobile",
          "T-Mobile",
          "T-Mobile",
          "T-Mobile",
          "T-Mobile",
          "T-Mobile",
          "T-Mobile",
          "T-Mobile",
          "T-Mobile",
          "T-Mobile",
          "T-Mobile",
          "T-Mobile",
          "T-Mobile",
          "T-Mobile",
          "T-Mobile",
          "T-Mobile",
          "T-Mobile",
          "T-Mobile",
          "T-Mobile",
          "T-Mobile",
          "T-Mobile",
          "T-Mobile",
          "T-Mobile",
          "T-Mobile",
          "T-Mobile",
          "T-Mobile",
          "T-Mobile",
          "T-Mobile",
          "T-Mobile",
          "T-Mobile",
          "T-Mobile",
          "T-Mobile",
          "T-Mobile",
          "AT&T",
          "AT&T",
          "AT&T",
          "AT&T",
          "AT&T",
          "AT&T",
          "AT&T",
          "AT&T",
          "AT&T",
          "AT&T",
          "AT&T",
          "AT&T",
          "AT&T",
          "AT&T",
          "AT&T",
          "AT&T",
          "AT&T",
          "AT&T",
          "AT&T",
          "AT&T",
          "AT&T",
          "AT&T",
          "AT&T",
          "AT&T",
          "AT&T",
          "AT&T",
          "AT&T",
          "AT&T",
          "AT&T",
          "AT&T",
          "AT&T",
          "AT&T",
          "AT&T",
          "AT&T",
          "AT&T",
          "AT&T",
          "AT&T",
          "AT&T",
          "AT&T",
          "AT&T",
          "AT&T",
          "AT&T",
          "Sprint",
          "Sprint",
          "Sprint",
          "Sprint",
          "Sprint",
          "Sprint",
          "Sprint",
          "Sprint",
          "Sprint",
          "Sprint",
          "Sprint",
          "Sprint",
          "Sprint",
          "Sprint",
          "Sprint",
          "Sprint",
          "Sprint",
          "Sprint",
          "Sprint",
          "Sprint",
          "Sprint",
          "Sprint",
          "Sprint",
          "Sprint",
          "Sprint",
          "Sprint",
          "Sprint",
          "Sprint",
          "Sprint",
          "Sprint",
          "Sprint",
          "Sprint",
          "Sprint",
          "Sprint",
          "Sprint",
          "Sprint",
          "Sprint",
          "Sprint",
          "Sprint",
          "Sprint",
          "Sprint",
          "Sprint",
          "Sprint",
          "Sprint",
          "Sprint",
          "Sprint",
          "Sprint",
          "Sprint",
          "Sprint",
          "Sprint",
          "Sprint",
          "Sprint",
          "T-Mobile",
          "T-Mobile",
          "T-Mobile",
          "T-Mobile",
          "T-Mobile",
          "T-Mobile",
          "T-Mobile",
          "T-Mobile",
          "T-Mobile",
          "T-Mobile",
          "T-Mobile",
          "T-Mobile",
          "T-Mobile",
          "T-Mobile",
          "T-Mobile",
          "T-Mobile",
          "T-Mobile",
          "T-Mobile",
          "T-Mobile",
          "T-Mobile",
          "T-Mobile",
          "T-Mobile",
          "T-Mobile",
          "T-Mobile",
          "T-Mobile",
          "T-Mobile",
          "T-Mobile",
          "T-Mobile",
          "T-Mobile",
          "T-Mobile",
          "T-Mobile",
          "T-Mobile",
          "T-Mobile",
          "T-Mobile",
          "T-Mobile",
          "T-Mobile",
          "T-Mobile",
          "T-Mobile",
          "T-Mobile",
          "T-Mobile",
          "T-Mobile",
          "T-Mobile",
          "T-Mobile",
          "T-Mobile",
          "T-Mobile",
          "T-Mobile",
          "T-Mobile",
          "T-Mobile",
          "T-Mobile",
          "T-Mobile",
          "T-Mobile",
          "T-Mobile",
          "T-Mobile",
          "T-Mobile",
          "T-Mobile",
          "T-Mobile",
          "T-Mobile",
          "T-Mobile",
          "T-Mobile",
          "AT&T",
          "AT&T",
          "AT&T",
          "AT&T",
          "AT&T",
          "AT&T",
          "AT&T",
          "AT&T",
          "AT&T",
          "AT&T",
          "AT&T",
          "AT&T",
          "AT&T",
          "AT&T",
          "AT&T",
          "AT&T",
          "AT&T",
          "AT&T",
          "AT&T",
          "AT&T",
          "AT&T",
          "AT&T",
          "AT&T",
          "AT&T",
          "AT&T",
          "AT&T",
          "AT&T",
          "AT&T",
          "AT&T",
          "AT&T",
          "AT&T",
          "AT&T",
          "AT&T",
          "AT&T",
          "AT&T",
          "AT&T",
          "AT&T",
          "AT&T",
          "AT&T",
          "AT&T",
          "AT&T",
          "Sprint",
          "Sprint",
          "Sprint",
          "Sprint",
          "Sprint",
          "Sprint",
          "Sprint",
          "Sprint",
          "Sprint",
          "Sprint",
          "Sprint",
          "Sprint",
          "Sprint",
          "Sprint",
          "Sprint",
          "Sprint",
          "Sprint",
          "Sprint",
          "Sprint",
          "Sprint",
          "Sprint",
          "Sprint",
          "Sprint",
          "Sprint",
          "Sprint",
          "Sprint",
          "Sprint",
          "Sprint",
          "Sprint",
          "Sprint",
          "Sprint",
          "Sprint",
          "Sprint",
          "Sprint",
          "Sprint",
          "Sprint",
          "Sprint",
          "Sprint",
          "Sprint",
          "Sprint",
          "Sprint",
          "Sprint",
          "Sprint",
          "Sprint",
          "Sprint",
          "Sprint",
          "Sprint",
          "Sprint",
          "Sprint",
          "Sprint",
          "Sprint",
          "Sprint",
          "Sprint",
          "Sprint",
          "Sprint",
          "Sprint",
          "T-Mobile",
          "T-Mobile",
          "T-Mobile",
          "T-Mobile",
          "T-Mobile",
          "T-Mobile",
          "T-Mobile",
          "T-Mobile",
          "T-Mobile",
          "T-Mobile",
          "T-Mobile",
          "T-Mobile",
          "T-Mobile",
          "T-Mobile",
          "T-Mobile",
          "T-Mobile",
          "T-Mobile",
          "T-Mobile",
          "T-Mobile",
          "T-Mobile",
          "T-Mobile",
          "T-Mobile",
          "T-Mobile",
          "T-Mobile",
          "T-Mobile",
          "T-Mobile",
          "T-Mobile",
          "T-Mobile",
          "T-Mobile",
          "T-Mobile",
          "T-Mobile",
          "T-Mobile",
          "T-Mobile",
          "T-Mobile",
          "T-Mobile",
          "T-Mobile",
          "T-Mobile",
          "T-Mobile",
          "T-Mobile",
          "T-Mobile",
          "T-Mobile",
          "T-Mobile",
          "T-Mobile",
          "T-Mobile",
          "T-Mobile",
          "T-Mobile",
          "T-Mobile",
          "T-Mobile",
          "T-Mobile",
          "T-Mobile",
          "T-Mobile",
          "T-Mobile",
          "T-Mobile",
          "T-Mobile",
          "T-Mobile",
          "T-Mobile",
          "T-Mobile",
          "T-Mobile",
          "T-Mobile",
          "T-Mobile",
          "T-Mobile",
          "T-Mobile",
          "T-Mobile",
          "T-Mobile",
          "T-Mobile",
          "T-Mobile",
          "AT&T",
          "AT&T",
          "AT&T",
          "AT&T",
          "AT&T",
          "AT&T",
          "AT&T",
          "AT&T",
          "AT&T",
          "AT&T",
          "AT&T",
          "AT&T",
          "AT&T",
          "AT&T",
          "AT&T",
          "AT&T",
          "AT&T",
          "AT&T",
          "AT&T",
          "AT&T",
          "AT&T",
          "AT&T",
          "AT&T",
          "AT&T",
          "AT&T",
          "AT&T",
          "AT&T",
          "AT&T",
          "AT&T",
          "AT&T",
          "AT&T",
          "AT&T",
          "AT&T",
          "Sprint",
          "Sprint",
          "Sprint",
          "Sprint",
          "Sprint",
          "Sprint",
          "Sprint",
          "Sprint",
          "Sprint",
          "Sprint",
          "Sprint",
          "Sprint",
          "Sprint",
          "Sprint",
          "Sprint",
          "Sprint",
          "Sprint",
          "Sprint",
          "Sprint",
          "Sprint",
          "Sprint",
          "Sprint",
          "Sprint",
          "Sprint",
          "Sprint",
          "Sprint",
          "Sprint",
          "Sprint",
          "Sprint",
          "Sprint",
          "Sprint",
          "Sprint",
          "Sprint",
          "Sprint",
          "Sprint",
          "Sprint",
          "Sprint",
          "Sprint",
          "Sprint",
          "Sprint",
          "Sprint",
          "Sprint",
          "Sprint",
          "Sprint",
          "Sprint",
          "Sprint",
          "Sprint",
          "Sprint",
          "T-Mobile",
          "T-Mobile",
          "T-Mobile",
          "T-Mobile",
          "T-Mobile",
          "T-Mobile",
          "T-Mobile",
          "T-Mobile",
          "T-Mobile",
          "T-Mobile",
          "T-Mobile",
          "T-Mobile",
          "T-Mobile",
          "T-Mobile",
          "T-Mobile",
          "T-Mobile",
          "T-Mobile",
          "T-Mobile",
          "T-Mobile",
          "T-Mobile",
          "T-Mobile",
          "T-Mobile",
          "T-Mobile",
          "T-Mobile",
          "T-Mobile",
          "T-Mobile",
          "T-Mobile",
          "T-Mobile",
          "T-Mobile",
          "T-Mobile",
          "T-Mobile",
          "T-Mobile",
          "T-Mobile",
          "T-Mobile",
          "T-Mobile",
          "T-Mobile",
          "T-Mobile",
          "T-Mobile",
          "T-Mobile",
          "T-Mobile",
          "T-Mobile",
          "T-Mobile",
          "T-Mobile",
          "T-Mobile",
          "T-Mobile",
          "T-Mobile",
          "T-Mobile",
          "T-Mobile",
          "T-Mobile",
          "T-Mobile",
          "T-Mobile",
          "T-Mobile",
          "T-Mobile",
          "T-Mobile",
          "T-Mobile",
          "T-Mobile",
          "T-Mobile",
          "T-Mobile",
          "T-Mobile",
          "T-Mobile",
          "T-Mobile",
          "T-Mobile",
          "T-Mobile",
          "T-Mobile",
          "T-Mobile",
          "AT&T",
          "AT&T",
          "AT&T",
          "AT&T",
          "AT&T",
          "AT&T",
          "AT&T",
          "AT&T",
          "AT&T",
          "AT&T",
          "AT&T",
          "AT&T",
          "AT&T",
          "AT&T",
          "AT&T",
          "AT&T",
          "AT&T",
          "AT&T",
          "AT&T",
          "AT&T",
          "AT&T",
          "AT&T",
          "AT&T",
          "AT&T",
          "AT&T",
          "AT&T",
          "AT&T",
          "AT&T",
          "AT&T",
          "Sprint",
          "Sprint",
          "Sprint",
          "Sprint",
          "Sprint",
          "Sprint",
          "Sprint",
          "Sprint",
          "Sprint",
          "Sprint",
          "Sprint",
          "Sprint",
          "Sprint",
          "Sprint",
          "Sprint",
          "Sprint",
          "Sprint",
          "Sprint",
          "Sprint",
          "Sprint",
          "Sprint",
          "Sprint",
          "Sprint",
          "Sprint",
          "Sprint",
          "Sprint",
          "Sprint",
          "Sprint",
          "Sprint",
          "Sprint",
          "Sprint",
          "Sprint",
          "Sprint",
          "Sprint",
          "Sprint",
          "Sprint",
          "Sprint",
          "Sprint",
          "Sprint",
          "Sprint",
          "Sprint",
          "Sprint",
          "T-Mobile",
          "T-Mobile",
          "T-Mobile",
          "T-Mobile",
          "T-Mobile",
          "T-Mobile",
          "T-Mobile",
          "T-Mobile",
          "T-Mobile",
          "T-Mobile",
          "T-Mobile",
          "T-Mobile",
          "T-Mobile",
          "T-Mobile",
          "T-Mobile",
          "T-Mobile",
          "T-Mobile",
          "T-Mobile",
          "T-Mobile",
          "T-Mobile",
          "T-Mobile",
          "T-Mobile",
          "T-Mobile",
          "T-Mobile",
          "T-Mobile",
          "T-Mobile",
          "T-Mobile",
          "T-Mobile",
          "T-Mobile",
          "T-Mobile",
          "T-Mobile",
          "T-Mobile",
          "T-Mobile",
          "T-Mobile",
          "T-Mobile",
          "T-Mobile",
          "T-Mobile",
          "T-Mobile",
          "T-Mobile",
          "T-Mobile",
          "T-Mobile",
          "T-Mobile",
          "T-Mobile",
          "T-Mobile",
          "T-Mobile",
          "T-Mobile",
          "T-Mobile",
          "T-Mobile",
          "T-Mobile",
          "T-Mobile",
          "T-Mobile",
          "T-Mobile",
          "T-Mobile",
          "T-Mobile",
          "T-Mobile",
          "T-Mobile",
          "T-Mobile",
          "T-Mobile",
          "T-Mobile",
          "T-Mobile",
          "T-Mobile",
          "AT&T",
          "AT&T",
          "AT&T",
          "AT&T",
          "AT&T",
          "AT&T",
          "AT&T",
          "AT&T",
          "AT&T",
          "AT&T",
          "AT&T",
          "AT&T",
          "AT&T",
          "AT&T",
          "AT&T",
          "AT&T",
          "AT&T",
          "AT&T",
          "AT&T",
          "AT&T",
          "AT&T",
          "AT&T",
          "AT&T",
          "AT&T",
          "AT&T",
          "AT&T",
          "Sprint",
          "Sprint",
          "Sprint",
          "Sprint",
          "Sprint",
          "Sprint",
          "Sprint",
          "Sprint",
          "Sprint",
          "Sprint",
          "Sprint",
          "Sprint",
          "Sprint",
          "Sprint",
          "Sprint",
          "Sprint",
          "Sprint",
          "Sprint",
          "Sprint",
          "Sprint",
          "Sprint",
          "Sprint",
          "Sprint",
          "Sprint",
          "Sprint",
          "Sprint",
          "Sprint",
          "Sprint",
          "Sprint",
          "Sprint",
          "Sprint",
          "Sprint",
          "Sprint",
          "Sprint",
          "Sprint",
          "Sprint",
          "Sprint",
          "T-Mobile",
          "T-Mobile",
          "T-Mobile",
          "T-Mobile",
          "T-Mobile",
          "T-Mobile",
          "T-Mobile",
          "T-Mobile",
          "T-Mobile",
          "T-Mobile",
          "T-Mobile",
          "T-Mobile",
          "T-Mobile",
          "T-Mobile",
          "T-Mobile",
          "T-Mobile",
          "T-Mobile",
          "T-Mobile",
          "T-Mobile",
          "T-Mobile",
          "T-Mobile",
          "T-Mobile",
          "T-Mobile",
          "T-Mobile",
          "T-Mobile",
          "T-Mobile",
          "T-Mobile",
          "T-Mobile",
          "T-Mobile",
          "T-Mobile",
          "T-Mobile",
          "T-Mobile",
          "T-Mobile",
          "T-Mobile",
          "T-Mobile",
          "T-Mobile",
          "T-Mobile",
          "T-Mobile",
          "T-Mobile",
          "T-Mobile",
          "T-Mobile",
          "T-Mobile",
          "T-Mobile",
          "T-Mobile",
          "T-Mobile",
          "T-Mobile",
          "T-Mobile",
          "T-Mobile",
          "T-Mobile",
          "T-Mobile",
          "T-Mobile",
          "T-Mobile",
          "T-Mobile",
          "T-Mobile",
          "T-Mobile",
          "AT&T",
          "AT&T",
          "AT&T",
          "AT&T",
          "AT&T",
          "AT&T",
          "AT&T",
          "AT&T",
          "AT&T",
          "AT&T",
          "AT&T",
          "AT&T",
          "AT&T",
          "AT&T",
          "AT&T",
          "AT&T",
          "Sprint",
          "Sprint",
          "Sprint",
          "Sprint",
          "Sprint",
          "Sprint",
          "Sprint",
          "Sprint",
          "Sprint",
          "Sprint",
          "Sprint",
          "Sprint",
          "Sprint",
          "Sprint",
          "Sprint",
          "Sprint",
          "Sprint",
          "Sprint",
          "Sprint",
          "Sprint",
          "Sprint",
          "Sprint",
          "Sprint",
          "Sprint",
          "Sprint",
          "Sprint",
          "Sprint",
          "Sprint",
          "Sprint",
          "T-Mobile",
          "T-Mobile",
          "T-Mobile",
          "T-Mobile",
          "T-Mobile",
          "T-Mobile",
          "T-Mobile",
          "T-Mobile",
          "T-Mobile",
          "T-Mobile",
          "T-Mobile",
          "T-Mobile",
          "T-Mobile",
          "T-Mobile",
          "T-Mobile",
          "T-Mobile",
          "T-Mobile",
          "T-Mobile",
          "T-Mobile",
          "T-Mobile",
          "T-Mobile",
          "T-Mobile",
          "T-Mobile",
          "T-Mobile",
          "T-Mobile",
          "T-Mobile",
          "T-Mobile",
          "T-Mobile",
          "T-Mobile",
          "T-Mobile",
          "T-Mobile",
          "T-Mobile",
          "T-Mobile",
          "T-Mobile",
          "T-Mobile",
          "T-Mobile",
          "T-Mobile",
          "T-Mobile",
          "T-Mobile",
          "T-Mobile",
          "T-Mobile",
          "T-Mobile",
          "T-Mobile",
          "T-Mobile",
          "T-Mobile"
         ],
         "y": [
          0,
          2,
          0,
          2,
          1,
          1,
          1,
          2,
          0,
          0,
          0,
          2,
          0,
          3,
          1,
          2,
          0,
          1,
          3,
          1,
          0,
          1,
          1,
          1,
          0,
          1,
          0,
          0,
          3,
          1,
          0,
          1,
          1,
          5,
          0,
          0,
          0,
          0,
          1,
          0,
          4,
          5,
          0,
          5,
          0,
          0,
          2,
          2,
          0,
          2,
          2,
          0,
          1,
          1,
          1,
          0,
          1,
          4,
          0,
          1,
          3,
          0,
          2,
          2,
          0,
          2,
          0,
          1,
          4,
          1,
          2,
          0,
          1,
          1,
          3,
          0,
          0,
          1,
          0,
          2,
          0,
          0,
          0,
          0,
          0,
          0,
          0,
          0,
          0,
          1,
          1,
          1,
          1,
          2,
          1,
          2,
          3,
          6,
          2,
          2,
          2,
          1,
          3,
          2,
          2,
          2,
          1,
          4,
          3,
          0,
          1,
          1,
          1,
          0,
          0,
          3,
          0,
          0,
          0,
          0,
          3,
          1,
          1,
          0,
          0,
          2,
          3,
          3,
          2,
          1,
          0,
          5,
          1,
          3,
          2,
          4,
          2,
          1,
          2,
          2,
          1,
          1,
          2,
          3,
          0,
          2,
          1,
          3,
          2,
          3,
          3,
          0,
          1,
          0,
          2,
          2,
          0,
          2,
          0,
          3,
          4,
          3,
          4,
          5,
          3,
          4,
          3,
          3,
          3,
          2,
          4,
          4,
          2,
          0,
          1,
          2,
          0,
          0,
          1,
          1,
          1,
          5,
          0,
          0,
          1,
          1,
          0,
          1,
          0,
          3,
          0,
          1,
          3,
          1,
          0,
          0,
          2,
          0,
          0,
          1,
          0,
          0,
          0,
          2,
          0,
          2,
          1,
          0,
          1,
          0,
          0,
          0,
          1,
          6,
          0,
          1,
          1,
          0,
          1,
          0,
          4,
          5,
          0,
          5,
          0,
          0,
          0,
          2,
          1,
          0,
          0,
          0,
          0,
          1,
          0,
          0,
          3,
          0,
          1,
          1,
          0,
          0,
          2,
          2,
          2,
          1,
          2,
          3,
          2,
          4,
          2,
          0,
          1,
          2,
          0,
          1,
          1,
          0,
          1,
          0,
          2,
          0,
          2,
          0,
          1,
          1,
          1,
          2,
          0,
          2,
          1,
          2,
          1,
          3,
          3,
          3,
          2,
          2,
          4,
          0,
          0,
          0,
          1,
          0,
          4,
          2,
          1,
          0,
          0,
          0,
          0,
          0,
          1,
          2,
          0,
          1,
          0,
          1,
          1,
          1,
          1,
          1,
          1,
          1,
          0,
          3,
          2,
          3,
          3,
          3,
          0,
          3,
          4,
          3,
          3,
          3,
          3,
          3,
          5,
          2,
          2,
          3,
          3,
          4,
          1,
          2,
          0,
          1,
          0,
          2,
          1,
          0,
          2,
          1,
          2,
          2,
          6,
          3,
          3,
          2,
          3,
          3,
          0,
          6,
          0,
          5,
          5,
          1,
          1,
          2,
          3,
          1,
          1,
          1,
          1,
          1,
          2,
          4,
          0,
          0,
          2,
          0,
          0,
          0,
          2,
          2,
          0,
          2,
          0,
          2,
          0,
          2,
          2,
          0,
          2,
          2,
          0,
          0,
          0,
          0,
          0,
          6,
          6,
          3,
          3,
          5,
          6,
          0,
          5,
          6,
          0,
          6,
          0,
          0,
          2,
          0,
          0,
          0,
          2,
          0,
          0,
          1,
          0,
          2,
          1,
          0,
          1,
          0,
          0,
          3,
          0,
          0,
          2,
          1,
          1,
          1,
          2,
          0,
          3,
          0,
          0,
          0,
          1,
          0,
          5,
          0,
          0,
          1,
          1,
          4,
          2,
          1,
          3,
          2,
          4,
          3,
          3,
          1,
          2,
          1,
          2,
          3,
          1,
          1,
          1,
          0,
          0,
          1,
          1,
          1,
          2,
          1,
          0,
          0,
          1,
          0,
          1,
          0,
          1,
          1,
          0,
          0,
          4,
          3,
          3,
          4,
          2,
          1,
          2,
          2,
          2,
          2,
          0,
          3,
          3,
          0,
          2,
          1,
          0,
          1,
          0,
          0,
          2,
          2,
          0,
          1,
          1,
          3,
          1,
          2,
          2,
          3,
          4,
          4,
          0,
          3,
          0,
          3,
          3,
          0,
          1,
          0,
          0,
          0,
          0,
          0,
          1,
          1,
          0,
          0,
          5,
          0,
          0,
          2,
          0,
          0,
          1,
          2,
          4,
          0,
          3,
          0,
          1,
          1,
          0,
          1,
          0,
          0,
          2,
          0,
          0,
          0,
          2,
          2,
          6,
          2,
          0,
          0,
          6,
          5,
          5,
          6,
          0,
          2,
          6,
          0,
          6,
          2,
          0,
          3,
          3,
          0,
          0,
          0,
          0,
          0,
          0,
          1,
          0,
          0,
          1,
          0,
          0,
          1,
          1,
          0,
          0,
          2,
          0,
          1,
          0,
          1,
          1,
          0,
          0,
          0,
          1,
          1,
          0,
          1,
          0,
          1,
          1,
          1,
          2,
          5,
          3,
          3,
          3,
          1,
          0,
          0,
          0,
          1,
          1,
          3,
          3,
          2,
          2,
          0,
          0,
          0,
          0,
          0,
          0,
          0,
          0,
          1,
          1,
          0,
          0,
          1,
          0,
          1,
          2,
          0,
          3,
          0,
          0,
          0,
          2,
          3,
          1,
          2,
          1,
          3,
          2,
          3,
          2,
          1,
          1,
          1,
          2,
          3,
          2,
          0,
          1,
          0,
          1,
          0,
          1,
          1,
          1,
          2,
          0,
          2,
          3,
          4,
          2,
          3,
          3,
          3,
          4,
          3,
          3,
          0,
          3,
          0,
          0,
          1,
          1,
          2,
          1,
          0,
          1,
          0,
          1,
          0,
          1,
          0,
          1,
          0,
          0,
          0,
          0,
          0,
          0,
          0,
          0,
          0,
          1,
          0,
          0,
          1,
          0,
          1,
          0,
          0,
          0,
          1,
          5,
          6,
          5,
          3,
          4,
          5,
          5,
          4,
          5,
          0,
          0,
          0,
          0,
          2,
          0,
          0,
          0,
          1,
          0,
          0,
          0,
          0,
          0,
          1,
          2,
          0,
          1,
          0,
          0,
          5,
          0,
          0,
          0,
          0,
          0,
          1,
          0,
          0,
          0,
          0,
          0,
          0,
          0,
          2,
          1,
          1,
          1,
          2,
          0,
          1,
          2,
          1,
          2,
          2,
          1,
          1,
          1,
          0,
          1,
          0,
          0,
          0,
          3,
          0,
          0,
          1,
          0,
          0,
          0,
          0,
          0,
          0,
          3,
          0,
          0,
          0,
          0,
          0,
          0,
          0,
          0,
          1,
          1,
          3,
          2,
          0,
          0,
          2,
          0,
          0,
          0,
          1,
          0,
          0,
          3,
          3,
          1,
          2,
          0,
          1,
          0,
          3,
          1,
          3,
          3,
          3,
          2,
          2,
          2,
          2,
          2,
          2,
          2,
          1,
          1,
          0,
          0,
          1,
          0,
          0,
          0,
          0,
          0,
          0,
          1,
          0,
          1,
          0,
          0,
          0,
          0,
          0,
          0,
          0,
          0,
          0,
          0,
          0,
          0,
          0,
          0,
          0,
          0,
          0,
          4,
          3,
          5,
          3,
          4,
          3,
          3,
          5,
          5,
          0,
          0,
          0,
          0,
          0,
          0,
          0,
          0,
          0,
          0,
          0,
          0,
          0,
          0,
          0,
          0,
          3,
          0,
          0,
          0,
          0,
          0,
          1,
          0,
          0,
          0,
          0,
          0,
          0,
          1,
          0,
          1,
          1,
          0,
          3,
          2,
          1,
          6,
          6,
          0,
          0,
          0,
          0,
          0,
          0,
          1,
          0,
          0,
          0,
          0,
          0,
          0,
          0,
          0,
          0,
          0,
          1,
          0,
          0,
          0,
          0,
          0,
          0,
          0,
          0,
          0,
          0,
          3,
          1,
          0,
          0,
          1,
          1,
          0,
          0,
          2,
          0,
          1,
          0,
          1,
          0,
          1,
          4,
          1,
          3,
          5,
          1,
          2,
          3,
          5,
          4,
          4,
          4,
          0,
          1,
          0,
          1,
          2,
          0,
          0,
          0,
          0,
          0,
          0,
          0,
          0,
          0,
          0,
          0,
          0,
          0,
          0,
          0,
          0,
          0,
          0,
          0,
          0,
          0,
          0,
          0,
          0,
          0,
          0,
          0,
          0,
          0,
          0,
          0,
          0,
          0,
          0,
          0,
          0,
          0,
          0,
          0,
          0,
          0,
          0,
          1,
          0,
          0,
          0,
          0,
          0,
          0,
          0,
          0,
          0,
          0,
          0,
          0,
          0,
          0,
          0,
          0,
          0,
          0,
          0,
          0,
          0,
          0,
          0,
          0,
          0,
          0,
          0,
          0,
          0,
          0,
          0,
          0,
          0,
          0,
          0,
          0,
          0,
          0,
          0,
          0,
          0,
          0,
          0,
          0,
          0,
          1,
          0,
          0,
          0,
          0,
          1,
          0,
          0,
          0,
          0,
          0,
          0,
          0,
          0,
          1,
          0,
          1,
          0,
          0,
          0,
          0,
          0,
          0,
          0,
          1,
          1,
          0,
          0,
          0,
          0,
          1,
          0,
          0,
          0,
          0,
          1,
          0,
          0,
          0,
          0,
          0,
          0,
          0,
          0,
          0,
          0,
          0,
          0,
          0,
          0,
          0,
          0,
          0,
          0,
          0,
          0,
          0,
          0,
          0,
          0,
          0,
          0,
          0,
          0,
          0,
          0,
          0,
          0,
          0,
          0,
          0,
          0,
          0,
          0,
          0,
          0,
          0,
          0,
          0,
          0,
          0,
          0,
          0,
          0,
          0,
          0,
          0,
          0,
          0,
          0,
          0,
          0,
          0,
          0,
          0,
          0,
          0,
          0,
          0,
          0,
          0,
          0,
          0,
          0,
          0,
          0,
          0,
          1,
          0,
          0,
          1,
          0,
          0,
          1,
          0,
          0,
          0,
          0,
          1,
          0,
          0,
          2,
          0,
          0,
          0,
          0,
          0,
          0
         ]
        }
       ],
       "layout": {
        "boxmode": "group",
        "font": {
         "size": 20
        },
        "legend": {
         "orientation": "h",
         "x": 0.25,
         "y": 1.1
        },
        "plot_bgcolor": "rgba(0,0,0,0)",
        "template": {
         "data": {
          "bar": [
           {
            "error_x": {
             "color": "#2a3f5f"
            },
            "error_y": {
             "color": "#2a3f5f"
            },
            "marker": {
             "line": {
              "color": "#E5ECF6",
              "width": 0.5
             }
            },
            "type": "bar"
           }
          ],
          "barpolar": [
           {
            "marker": {
             "line": {
              "color": "#E5ECF6",
              "width": 0.5
             }
            },
            "type": "barpolar"
           }
          ],
          "carpet": [
           {
            "aaxis": {
             "endlinecolor": "#2a3f5f",
             "gridcolor": "white",
             "linecolor": "white",
             "minorgridcolor": "white",
             "startlinecolor": "#2a3f5f"
            },
            "baxis": {
             "endlinecolor": "#2a3f5f",
             "gridcolor": "white",
             "linecolor": "white",
             "minorgridcolor": "white",
             "startlinecolor": "#2a3f5f"
            },
            "type": "carpet"
           }
          ],
          "choropleth": [
           {
            "colorbar": {
             "outlinewidth": 0,
             "ticks": ""
            },
            "type": "choropleth"
           }
          ],
          "contour": [
           {
            "colorbar": {
             "outlinewidth": 0,
             "ticks": ""
            },
            "colorscale": [
             [
              0,
              "#0d0887"
             ],
             [
              0.1111111111111111,
              "#46039f"
             ],
             [
              0.2222222222222222,
              "#7201a8"
             ],
             [
              0.3333333333333333,
              "#9c179e"
             ],
             [
              0.4444444444444444,
              "#bd3786"
             ],
             [
              0.5555555555555556,
              "#d8576b"
             ],
             [
              0.6666666666666666,
              "#ed7953"
             ],
             [
              0.7777777777777778,
              "#fb9f3a"
             ],
             [
              0.8888888888888888,
              "#fdca26"
             ],
             [
              1,
              "#f0f921"
             ]
            ],
            "type": "contour"
           }
          ],
          "contourcarpet": [
           {
            "colorbar": {
             "outlinewidth": 0,
             "ticks": ""
            },
            "type": "contourcarpet"
           }
          ],
          "heatmap": [
           {
            "colorbar": {
             "outlinewidth": 0,
             "ticks": ""
            },
            "colorscale": [
             [
              0,
              "#0d0887"
             ],
             [
              0.1111111111111111,
              "#46039f"
             ],
             [
              0.2222222222222222,
              "#7201a8"
             ],
             [
              0.3333333333333333,
              "#9c179e"
             ],
             [
              0.4444444444444444,
              "#bd3786"
             ],
             [
              0.5555555555555556,
              "#d8576b"
             ],
             [
              0.6666666666666666,
              "#ed7953"
             ],
             [
              0.7777777777777778,
              "#fb9f3a"
             ],
             [
              0.8888888888888888,
              "#fdca26"
             ],
             [
              1,
              "#f0f921"
             ]
            ],
            "type": "heatmap"
           }
          ],
          "heatmapgl": [
           {
            "colorbar": {
             "outlinewidth": 0,
             "ticks": ""
            },
            "colorscale": [
             [
              0,
              "#0d0887"
             ],
             [
              0.1111111111111111,
              "#46039f"
             ],
             [
              0.2222222222222222,
              "#7201a8"
             ],
             [
              0.3333333333333333,
              "#9c179e"
             ],
             [
              0.4444444444444444,
              "#bd3786"
             ],
             [
              0.5555555555555556,
              "#d8576b"
             ],
             [
              0.6666666666666666,
              "#ed7953"
             ],
             [
              0.7777777777777778,
              "#fb9f3a"
             ],
             [
              0.8888888888888888,
              "#fdca26"
             ],
             [
              1,
              "#f0f921"
             ]
            ],
            "type": "heatmapgl"
           }
          ],
          "histogram": [
           {
            "marker": {
             "colorbar": {
              "outlinewidth": 0,
              "ticks": ""
             }
            },
            "type": "histogram"
           }
          ],
          "histogram2d": [
           {
            "colorbar": {
             "outlinewidth": 0,
             "ticks": ""
            },
            "colorscale": [
             [
              0,
              "#0d0887"
             ],
             [
              0.1111111111111111,
              "#46039f"
             ],
             [
              0.2222222222222222,
              "#7201a8"
             ],
             [
              0.3333333333333333,
              "#9c179e"
             ],
             [
              0.4444444444444444,
              "#bd3786"
             ],
             [
              0.5555555555555556,
              "#d8576b"
             ],
             [
              0.6666666666666666,
              "#ed7953"
             ],
             [
              0.7777777777777778,
              "#fb9f3a"
             ],
             [
              0.8888888888888888,
              "#fdca26"
             ],
             [
              1,
              "#f0f921"
             ]
            ],
            "type": "histogram2d"
           }
          ],
          "histogram2dcontour": [
           {
            "colorbar": {
             "outlinewidth": 0,
             "ticks": ""
            },
            "colorscale": [
             [
              0,
              "#0d0887"
             ],
             [
              0.1111111111111111,
              "#46039f"
             ],
             [
              0.2222222222222222,
              "#7201a8"
             ],
             [
              0.3333333333333333,
              "#9c179e"
             ],
             [
              0.4444444444444444,
              "#bd3786"
             ],
             [
              0.5555555555555556,
              "#d8576b"
             ],
             [
              0.6666666666666666,
              "#ed7953"
             ],
             [
              0.7777777777777778,
              "#fb9f3a"
             ],
             [
              0.8888888888888888,
              "#fdca26"
             ],
             [
              1,
              "#f0f921"
             ]
            ],
            "type": "histogram2dcontour"
           }
          ],
          "mesh3d": [
           {
            "colorbar": {
             "outlinewidth": 0,
             "ticks": ""
            },
            "type": "mesh3d"
           }
          ],
          "parcoords": [
           {
            "line": {
             "colorbar": {
              "outlinewidth": 0,
              "ticks": ""
             }
            },
            "type": "parcoords"
           }
          ],
          "pie": [
           {
            "automargin": true,
            "type": "pie"
           }
          ],
          "scatter": [
           {
            "marker": {
             "colorbar": {
              "outlinewidth": 0,
              "ticks": ""
             }
            },
            "type": "scatter"
           }
          ],
          "scatter3d": [
           {
            "line": {
             "colorbar": {
              "outlinewidth": 0,
              "ticks": ""
             }
            },
            "marker": {
             "colorbar": {
              "outlinewidth": 0,
              "ticks": ""
             }
            },
            "type": "scatter3d"
           }
          ],
          "scattercarpet": [
           {
            "marker": {
             "colorbar": {
              "outlinewidth": 0,
              "ticks": ""
             }
            },
            "type": "scattercarpet"
           }
          ],
          "scattergeo": [
           {
            "marker": {
             "colorbar": {
              "outlinewidth": 0,
              "ticks": ""
             }
            },
            "type": "scattergeo"
           }
          ],
          "scattergl": [
           {
            "marker": {
             "colorbar": {
              "outlinewidth": 0,
              "ticks": ""
             }
            },
            "type": "scattergl"
           }
          ],
          "scattermapbox": [
           {
            "marker": {
             "colorbar": {
              "outlinewidth": 0,
              "ticks": ""
             }
            },
            "type": "scattermapbox"
           }
          ],
          "scatterpolar": [
           {
            "marker": {
             "colorbar": {
              "outlinewidth": 0,
              "ticks": ""
             }
            },
            "type": "scatterpolar"
           }
          ],
          "scatterpolargl": [
           {
            "marker": {
             "colorbar": {
              "outlinewidth": 0,
              "ticks": ""
             }
            },
            "type": "scatterpolargl"
           }
          ],
          "scatterternary": [
           {
            "marker": {
             "colorbar": {
              "outlinewidth": 0,
              "ticks": ""
             }
            },
            "type": "scatterternary"
           }
          ],
          "surface": [
           {
            "colorbar": {
             "outlinewidth": 0,
             "ticks": ""
            },
            "colorscale": [
             [
              0,
              "#0d0887"
             ],
             [
              0.1111111111111111,
              "#46039f"
             ],
             [
              0.2222222222222222,
              "#7201a8"
             ],
             [
              0.3333333333333333,
              "#9c179e"
             ],
             [
              0.4444444444444444,
              "#bd3786"
             ],
             [
              0.5555555555555556,
              "#d8576b"
             ],
             [
              0.6666666666666666,
              "#ed7953"
             ],
             [
              0.7777777777777778,
              "#fb9f3a"
             ],
             [
              0.8888888888888888,
              "#fdca26"
             ],
             [
              1,
              "#f0f921"
             ]
            ],
            "type": "surface"
           }
          ],
          "table": [
           {
            "cells": {
             "fill": {
              "color": "#EBF0F8"
             },
             "line": {
              "color": "white"
             }
            },
            "header": {
             "fill": {
              "color": "#C8D4E3"
             },
             "line": {
              "color": "white"
             }
            },
            "type": "table"
           }
          ]
         },
         "layout": {
          "annotationdefaults": {
           "arrowcolor": "#2a3f5f",
           "arrowhead": 0,
           "arrowwidth": 1
          },
          "coloraxis": {
           "colorbar": {
            "outlinewidth": 0,
            "ticks": ""
           }
          },
          "colorscale": {
           "diverging": [
            [
             0,
             "#8e0152"
            ],
            [
             0.1,
             "#c51b7d"
            ],
            [
             0.2,
             "#de77ae"
            ],
            [
             0.3,
             "#f1b6da"
            ],
            [
             0.4,
             "#fde0ef"
            ],
            [
             0.5,
             "#f7f7f7"
            ],
            [
             0.6,
             "#e6f5d0"
            ],
            [
             0.7,
             "#b8e186"
            ],
            [
             0.8,
             "#7fbc41"
            ],
            [
             0.9,
             "#4d9221"
            ],
            [
             1,
             "#276419"
            ]
           ],
           "sequential": [
            [
             0,
             "#0d0887"
            ],
            [
             0.1111111111111111,
             "#46039f"
            ],
            [
             0.2222222222222222,
             "#7201a8"
            ],
            [
             0.3333333333333333,
             "#9c179e"
            ],
            [
             0.4444444444444444,
             "#bd3786"
            ],
            [
             0.5555555555555556,
             "#d8576b"
            ],
            [
             0.6666666666666666,
             "#ed7953"
            ],
            [
             0.7777777777777778,
             "#fb9f3a"
            ],
            [
             0.8888888888888888,
             "#fdca26"
            ],
            [
             1,
             "#f0f921"
            ]
           ],
           "sequentialminus": [
            [
             0,
             "#0d0887"
            ],
            [
             0.1111111111111111,
             "#46039f"
            ],
            [
             0.2222222222222222,
             "#7201a8"
            ],
            [
             0.3333333333333333,
             "#9c179e"
            ],
            [
             0.4444444444444444,
             "#bd3786"
            ],
            [
             0.5555555555555556,
             "#d8576b"
            ],
            [
             0.6666666666666666,
             "#ed7953"
            ],
            [
             0.7777777777777778,
             "#fb9f3a"
            ],
            [
             0.8888888888888888,
             "#fdca26"
            ],
            [
             1,
             "#f0f921"
            ]
           ]
          },
          "colorway": [
           "#636efa",
           "#EF553B",
           "#00cc96",
           "#ab63fa",
           "#FFA15A",
           "#19d3f3",
           "#FF6692",
           "#B6E880",
           "#FF97FF",
           "#FECB52"
          ],
          "font": {
           "color": "#2a3f5f"
          },
          "geo": {
           "bgcolor": "white",
           "lakecolor": "white",
           "landcolor": "#E5ECF6",
           "showlakes": true,
           "showland": true,
           "subunitcolor": "white"
          },
          "hoverlabel": {
           "align": "left"
          },
          "hovermode": "closest",
          "mapbox": {
           "style": "light"
          },
          "paper_bgcolor": "white",
          "plot_bgcolor": "#E5ECF6",
          "polar": {
           "angularaxis": {
            "gridcolor": "white",
            "linecolor": "white",
            "ticks": ""
           },
           "bgcolor": "#E5ECF6",
           "radialaxis": {
            "gridcolor": "white",
            "linecolor": "white",
            "ticks": ""
           }
          },
          "scene": {
           "xaxis": {
            "backgroundcolor": "#E5ECF6",
            "gridcolor": "white",
            "gridwidth": 2,
            "linecolor": "white",
            "showbackground": true,
            "ticks": "",
            "zerolinecolor": "white"
           },
           "yaxis": {
            "backgroundcolor": "#E5ECF6",
            "gridcolor": "white",
            "gridwidth": 2,
            "linecolor": "white",
            "showbackground": true,
            "ticks": "",
            "zerolinecolor": "white"
           },
           "zaxis": {
            "backgroundcolor": "#E5ECF6",
            "gridcolor": "white",
            "gridwidth": 2,
            "linecolor": "white",
            "showbackground": true,
            "ticks": "",
            "zerolinecolor": "white"
           }
          },
          "shapedefaults": {
           "line": {
            "color": "#2a3f5f"
           }
          },
          "ternary": {
           "aaxis": {
            "gridcolor": "white",
            "linecolor": "white",
            "ticks": ""
           },
           "baxis": {
            "gridcolor": "white",
            "linecolor": "white",
            "ticks": ""
           },
           "bgcolor": "#E5ECF6",
           "caxis": {
            "gridcolor": "white",
            "linecolor": "white",
            "ticks": ""
           }
          },
          "title": {
           "x": 0.05
          },
          "xaxis": {
           "automargin": true,
           "gridcolor": "white",
           "linecolor": "white",
           "ticks": "",
           "title": {
            "standoff": 15
           },
           "zerolinecolor": "white",
           "zerolinewidth": 2
          },
          "yaxis": {
           "automargin": true,
           "gridcolor": "white",
           "linecolor": "white",
           "ticks": "",
           "title": {
            "standoff": 15
           },
           "zerolinecolor": "white",
           "zerolinewidth": 2
          }
         }
        },
        "violinmode": "group",
        "yaxis": {
         "gridcolor": "rgb(219, 219, 219)",
         "showgrid": true,
         "title": {
          "text": "Updates per 6-Months"
         }
        }
       }
      },
      "text/html": [
       "<div>\n",
       "        \n",
       "        \n",
       "            <div id=\"6338b163-da58-4045-8053-de649433f9d5\" class=\"plotly-graph-div\" style=\"height:525px; width:100%;\"></div>\n",
       "            <script type=\"text/javascript\">\n",
       "                require([\"plotly\"], function(Plotly) {\n",
       "                    window.PLOTLYENV=window.PLOTLYENV || {};\n",
       "                    \n",
       "                if (document.getElementById(\"6338b163-da58-4045-8053-de649433f9d5\")) {\n",
       "                    Plotly.newPlot(\n",
       "                        '6338b163-da58-4045-8053-de649433f9d5',\n",
       "                        [{\"marker\": {\"color\": \"rgb(31, 119, 180)\"}, \"type\": \"box\", \"x\": [\"AT&T\", \"AT&T\", \"AT&T\", \"AT&T\", \"AT&T\", \"AT&T\", \"AT&T\", \"AT&T\", \"AT&T\", \"AT&T\", \"AT&T\", \"AT&T\", \"AT&T\", \"AT&T\", \"AT&T\", \"AT&T\", \"AT&T\", \"AT&T\", \"AT&T\", \"AT&T\", \"AT&T\", \"AT&T\", \"AT&T\", \"AT&T\", \"AT&T\", \"AT&T\", \"AT&T\", \"AT&T\", \"AT&T\", \"AT&T\", \"AT&T\", \"AT&T\", \"AT&T\", \"AT&T\", \"AT&T\", \"AT&T\", \"AT&T\", \"AT&T\", \"AT&T\", \"AT&T\", \"AT&T\", \"AT&T\", \"AT&T\", \"AT&T\", \"AT&T\", \"AT&T\", \"AT&T\", \"AT&T\", \"Sprint\", \"Sprint\", \"Sprint\", \"Sprint\", \"Sprint\", \"Sprint\", \"Sprint\", \"Sprint\", \"Sprint\", \"Sprint\", \"Sprint\", \"Sprint\", \"Sprint\", \"Sprint\", \"Sprint\", \"Sprint\", \"Sprint\", \"Sprint\", \"Sprint\", \"Sprint\", \"Sprint\", \"Sprint\", \"Sprint\", \"Sprint\", \"Sprint\", \"Sprint\", \"Sprint\", \"Sprint\", \"Sprint\", \"Sprint\", \"Sprint\", \"Sprint\", \"Sprint\", \"Sprint\", \"Sprint\", \"Sprint\", \"Sprint\", \"Sprint\", \"Sprint\", \"Sprint\", \"Sprint\", \"Sprint\", \"Sprint\", \"Sprint\", \"Sprint\", \"Sprint\", \"Sprint\", \"Sprint\", \"Sprint\", \"Sprint\", \"Sprint\", \"Sprint\", \"Sprint\", \"Sprint\", \"Sprint\", \"Sprint\", \"Sprint\", \"Sprint\", \"Sprint\", \"Sprint\", \"Sprint\", \"Sprint\", \"Sprint\", \"Sprint\", \"Sprint\", \"Sprint\", \"Sprint\", \"T-Mobile\", \"T-Mobile\", \"T-Mobile\", \"T-Mobile\", \"T-Mobile\", \"T-Mobile\", \"T-Mobile\", \"T-Mobile\", \"T-Mobile\", \"T-Mobile\", \"T-Mobile\", \"T-Mobile\", \"T-Mobile\", \"T-Mobile\", \"T-Mobile\", \"T-Mobile\", \"T-Mobile\", \"T-Mobile\", \"T-Mobile\", \"T-Mobile\", \"T-Mobile\", \"T-Mobile\", \"T-Mobile\", \"T-Mobile\", \"T-Mobile\", \"T-Mobile\", \"T-Mobile\", \"T-Mobile\", \"T-Mobile\", \"T-Mobile\", \"T-Mobile\", \"T-Mobile\", \"T-Mobile\", \"T-Mobile\", \"T-Mobile\", \"T-Mobile\", \"T-Mobile\", \"T-Mobile\", \"T-Mobile\", \"T-Mobile\", \"T-Mobile\", \"T-Mobile\", \"T-Mobile\", \"T-Mobile\", \"T-Mobile\", \"T-Mobile\", \"T-Mobile\", \"T-Mobile\", \"T-Mobile\", \"T-Mobile\", \"T-Mobile\", \"T-Mobile\", \"T-Mobile\", \"T-Mobile\", \"T-Mobile\", \"T-Mobile\", \"T-Mobile\", \"T-Mobile\", \"T-Mobile\", \"T-Mobile\", \"T-Mobile\", \"T-Mobile\", \"T-Mobile\", \"T-Mobile\", \"T-Mobile\", \"AT&T\", \"AT&T\", \"AT&T\", \"AT&T\", \"AT&T\", \"AT&T\", \"AT&T\", \"AT&T\", \"AT&T\", \"AT&T\", \"AT&T\", \"AT&T\", \"AT&T\", \"AT&T\", \"AT&T\", \"AT&T\", \"AT&T\", \"AT&T\", \"AT&T\", \"AT&T\", \"AT&T\", \"AT&T\", \"AT&T\", \"AT&T\", \"AT&T\", \"AT&T\", \"AT&T\", \"AT&T\", \"AT&T\", \"AT&T\", \"AT&T\", \"AT&T\", \"AT&T\", \"AT&T\", \"AT&T\", \"AT&T\", \"AT&T\", \"AT&T\", \"AT&T\", \"AT&T\", \"AT&T\", \"AT&T\", \"AT&T\", \"AT&T\", \"AT&T\", \"AT&T\", \"AT&T\", \"AT&T\", \"AT&T\", \"Sprint\", \"Sprint\", \"Sprint\", \"Sprint\", \"Sprint\", \"Sprint\", \"Sprint\", \"Sprint\", \"Sprint\", \"Sprint\", \"Sprint\", \"Sprint\", \"Sprint\", \"Sprint\", \"Sprint\", \"Sprint\", \"Sprint\", \"Sprint\", \"Sprint\", \"Sprint\", \"Sprint\", \"Sprint\", \"Sprint\", \"Sprint\", \"Sprint\", \"Sprint\", \"Sprint\", \"Sprint\", \"Sprint\", \"Sprint\", \"Sprint\", \"Sprint\", \"Sprint\", \"Sprint\", \"Sprint\", \"Sprint\", \"Sprint\", \"Sprint\", \"Sprint\", \"Sprint\", \"Sprint\", \"Sprint\", \"Sprint\", \"Sprint\", \"Sprint\", \"Sprint\", \"Sprint\", \"Sprint\", \"Sprint\", \"Sprint\", \"Sprint\", \"Sprint\", \"Sprint\", \"Sprint\", \"Sprint\", \"Sprint\", \"Sprint\", \"Sprint\", \"Sprint\", \"Sprint\", \"Sprint\", \"Sprint\", \"Sprint\", \"Sprint\", \"Sprint\", \"T-Mobile\", \"T-Mobile\", \"T-Mobile\", \"T-Mobile\", \"T-Mobile\", \"T-Mobile\", \"T-Mobile\", \"T-Mobile\", \"T-Mobile\", \"T-Mobile\", \"T-Mobile\", \"T-Mobile\", \"T-Mobile\", \"T-Mobile\", \"T-Mobile\", \"T-Mobile\", \"T-Mobile\", \"T-Mobile\", \"T-Mobile\", \"T-Mobile\", \"T-Mobile\", \"T-Mobile\", \"T-Mobile\", \"T-Mobile\", \"T-Mobile\", \"T-Mobile\", \"T-Mobile\", \"T-Mobile\", \"T-Mobile\", \"T-Mobile\", \"T-Mobile\", \"T-Mobile\", \"T-Mobile\", \"T-Mobile\", \"T-Mobile\", \"T-Mobile\", \"T-Mobile\", \"T-Mobile\", \"T-Mobile\", \"T-Mobile\", \"T-Mobile\", \"T-Mobile\", \"T-Mobile\", \"T-Mobile\", \"T-Mobile\", \"T-Mobile\", \"T-Mobile\", \"T-Mobile\", \"T-Mobile\", \"T-Mobile\", \"T-Mobile\", \"T-Mobile\", \"T-Mobile\", \"T-Mobile\", \"T-Mobile\", \"T-Mobile\", \"T-Mobile\", \"T-Mobile\", \"T-Mobile\", \"T-Mobile\", \"T-Mobile\", \"AT&T\", \"AT&T\", \"AT&T\", \"AT&T\", \"AT&T\", \"AT&T\", \"AT&T\", \"AT&T\", \"AT&T\", \"AT&T\", \"AT&T\", \"AT&T\", \"AT&T\", \"AT&T\", \"AT&T\", \"AT&T\", \"AT&T\", \"AT&T\", \"AT&T\", \"AT&T\", \"AT&T\", \"AT&T\", \"AT&T\", \"AT&T\", \"AT&T\", \"AT&T\", \"AT&T\", \"AT&T\", \"AT&T\", \"AT&T\", \"AT&T\", \"AT&T\", \"AT&T\", \"AT&T\", \"AT&T\", \"AT&T\", \"AT&T\", \"AT&T\", \"AT&T\", \"AT&T\", \"AT&T\", \"AT&T\", \"Sprint\", \"Sprint\", \"Sprint\", \"Sprint\", \"Sprint\", \"Sprint\", \"Sprint\", \"Sprint\", \"Sprint\", \"Sprint\", \"Sprint\", \"Sprint\", \"Sprint\", \"Sprint\", \"Sprint\", \"Sprint\", \"Sprint\", \"Sprint\", \"Sprint\", \"Sprint\", \"Sprint\", \"Sprint\", \"Sprint\", \"Sprint\", \"Sprint\", \"Sprint\", \"Sprint\", \"Sprint\", \"Sprint\", \"Sprint\", \"Sprint\", \"Sprint\", \"Sprint\", \"Sprint\", \"Sprint\", \"Sprint\", \"Sprint\", \"Sprint\", \"Sprint\", \"Sprint\", \"Sprint\", \"Sprint\", \"Sprint\", \"Sprint\", \"Sprint\", \"Sprint\", \"Sprint\", \"Sprint\", \"Sprint\", \"Sprint\", \"Sprint\", \"Sprint\", \"T-Mobile\", \"T-Mobile\", \"T-Mobile\", \"T-Mobile\", \"T-Mobile\", \"T-Mobile\", \"T-Mobile\", \"T-Mobile\", \"T-Mobile\", \"T-Mobile\", \"T-Mobile\", \"T-Mobile\", \"T-Mobile\", \"T-Mobile\", \"T-Mobile\", \"T-Mobile\", \"T-Mobile\", \"T-Mobile\", \"T-Mobile\", \"T-Mobile\", \"T-Mobile\", \"T-Mobile\", \"T-Mobile\", \"T-Mobile\", \"T-Mobile\", \"T-Mobile\", \"T-Mobile\", \"T-Mobile\", \"T-Mobile\", \"T-Mobile\", \"T-Mobile\", \"T-Mobile\", \"T-Mobile\", \"T-Mobile\", \"T-Mobile\", \"T-Mobile\", \"T-Mobile\", \"T-Mobile\", \"T-Mobile\", \"T-Mobile\", \"T-Mobile\", \"T-Mobile\", \"T-Mobile\", \"T-Mobile\", \"T-Mobile\", \"T-Mobile\", \"T-Mobile\", \"T-Mobile\", \"T-Mobile\", \"T-Mobile\", \"T-Mobile\", \"T-Mobile\", \"T-Mobile\", \"T-Mobile\", \"T-Mobile\", \"T-Mobile\", \"T-Mobile\", \"T-Mobile\", \"T-Mobile\", \"AT&T\", \"AT&T\", \"AT&T\", \"AT&T\", \"AT&T\", \"AT&T\", \"AT&T\", \"AT&T\", \"AT&T\", \"AT&T\", \"AT&T\", \"AT&T\", \"AT&T\", \"AT&T\", \"AT&T\", \"AT&T\", \"AT&T\", \"AT&T\", \"AT&T\", \"AT&T\", \"AT&T\", \"AT&T\", \"AT&T\", \"AT&T\", \"AT&T\", \"AT&T\", \"AT&T\", \"AT&T\", \"AT&T\", \"AT&T\", \"AT&T\", \"AT&T\", \"AT&T\", \"AT&T\", \"AT&T\", \"AT&T\", \"AT&T\", \"AT&T\", \"AT&T\", \"AT&T\", \"AT&T\", \"Sprint\", \"Sprint\", \"Sprint\", \"Sprint\", \"Sprint\", \"Sprint\", \"Sprint\", \"Sprint\", \"Sprint\", \"Sprint\", \"Sprint\", \"Sprint\", \"Sprint\", \"Sprint\", \"Sprint\", \"Sprint\", \"Sprint\", \"Sprint\", \"Sprint\", \"Sprint\", \"Sprint\", \"Sprint\", \"Sprint\", \"Sprint\", \"Sprint\", \"Sprint\", \"Sprint\", \"Sprint\", \"Sprint\", \"Sprint\", \"Sprint\", \"Sprint\", \"Sprint\", \"Sprint\", \"Sprint\", \"Sprint\", \"Sprint\", \"Sprint\", \"Sprint\", \"Sprint\", \"Sprint\", \"Sprint\", \"Sprint\", \"Sprint\", \"Sprint\", \"Sprint\", \"Sprint\", \"Sprint\", \"Sprint\", \"Sprint\", \"Sprint\", \"Sprint\", \"Sprint\", \"Sprint\", \"Sprint\", \"Sprint\", \"T-Mobile\", \"T-Mobile\", \"T-Mobile\", \"T-Mobile\", \"T-Mobile\", \"T-Mobile\", \"T-Mobile\", \"T-Mobile\", \"T-Mobile\", \"T-Mobile\", \"T-Mobile\", \"T-Mobile\", \"T-Mobile\", \"T-Mobile\", \"T-Mobile\", \"T-Mobile\", \"T-Mobile\", \"T-Mobile\", \"T-Mobile\", \"T-Mobile\", \"T-Mobile\", \"T-Mobile\", \"T-Mobile\", \"T-Mobile\", \"T-Mobile\", \"T-Mobile\", \"T-Mobile\", \"T-Mobile\", \"T-Mobile\", \"T-Mobile\", \"T-Mobile\", \"T-Mobile\", \"T-Mobile\", \"T-Mobile\", \"T-Mobile\", \"T-Mobile\", \"T-Mobile\", \"T-Mobile\", \"T-Mobile\", \"T-Mobile\", \"T-Mobile\", \"T-Mobile\", \"T-Mobile\", \"T-Mobile\", \"T-Mobile\", \"T-Mobile\", \"T-Mobile\", \"T-Mobile\", \"T-Mobile\", \"T-Mobile\", \"T-Mobile\", \"T-Mobile\", \"T-Mobile\", \"T-Mobile\", \"T-Mobile\", \"T-Mobile\", \"T-Mobile\", \"T-Mobile\", \"T-Mobile\", \"T-Mobile\", \"T-Mobile\", \"T-Mobile\", \"T-Mobile\", \"T-Mobile\", \"T-Mobile\", \"T-Mobile\", \"AT&T\", \"AT&T\", \"AT&T\", \"AT&T\", \"AT&T\", \"AT&T\", \"AT&T\", \"AT&T\", \"AT&T\", \"AT&T\", \"AT&T\", \"AT&T\", \"AT&T\", \"AT&T\", \"AT&T\", \"AT&T\", \"AT&T\", \"AT&T\", \"AT&T\", \"AT&T\", \"AT&T\", \"AT&T\", \"AT&T\", \"AT&T\", \"AT&T\", \"AT&T\", \"AT&T\", \"AT&T\", \"AT&T\", \"AT&T\", \"AT&T\", \"AT&T\", \"AT&T\", \"Sprint\", \"Sprint\", \"Sprint\", \"Sprint\", \"Sprint\", \"Sprint\", \"Sprint\", \"Sprint\", \"Sprint\", \"Sprint\", \"Sprint\", \"Sprint\", \"Sprint\", \"Sprint\", \"Sprint\", \"Sprint\", \"Sprint\", \"Sprint\", \"Sprint\", \"Sprint\", \"Sprint\", \"Sprint\", \"Sprint\", \"Sprint\", \"Sprint\", \"Sprint\", \"Sprint\", \"Sprint\", \"Sprint\", \"Sprint\", \"Sprint\", \"Sprint\", \"Sprint\", \"Sprint\", \"Sprint\", \"Sprint\", \"Sprint\", \"Sprint\", \"Sprint\", \"Sprint\", \"Sprint\", \"Sprint\", \"Sprint\", \"Sprint\", \"Sprint\", \"Sprint\", \"Sprint\", \"Sprint\", \"T-Mobile\", \"T-Mobile\", \"T-Mobile\", \"T-Mobile\", \"T-Mobile\", \"T-Mobile\", \"T-Mobile\", \"T-Mobile\", \"T-Mobile\", \"T-Mobile\", \"T-Mobile\", \"T-Mobile\", \"T-Mobile\", \"T-Mobile\", \"T-Mobile\", \"T-Mobile\", \"T-Mobile\", \"T-Mobile\", \"T-Mobile\", \"T-Mobile\", \"T-Mobile\", \"T-Mobile\", \"T-Mobile\", \"T-Mobile\", \"T-Mobile\", \"T-Mobile\", \"T-Mobile\", \"T-Mobile\", \"T-Mobile\", \"T-Mobile\", \"T-Mobile\", \"T-Mobile\", \"T-Mobile\", \"T-Mobile\", \"T-Mobile\", \"T-Mobile\", \"T-Mobile\", \"T-Mobile\", \"T-Mobile\", \"T-Mobile\", \"T-Mobile\", \"T-Mobile\", \"T-Mobile\", \"T-Mobile\", \"T-Mobile\", \"T-Mobile\", \"T-Mobile\", \"T-Mobile\", \"T-Mobile\", \"T-Mobile\", \"T-Mobile\", \"T-Mobile\", \"T-Mobile\", \"T-Mobile\", \"T-Mobile\", \"T-Mobile\", \"T-Mobile\", \"T-Mobile\", \"T-Mobile\", \"T-Mobile\", \"T-Mobile\", \"T-Mobile\", \"T-Mobile\", \"T-Mobile\", \"T-Mobile\", \"AT&T\", \"AT&T\", \"AT&T\", \"AT&T\", \"AT&T\", \"AT&T\", \"AT&T\", \"AT&T\", \"AT&T\", \"AT&T\", \"AT&T\", \"AT&T\", \"AT&T\", \"AT&T\", \"AT&T\", \"AT&T\", \"AT&T\", \"AT&T\", \"AT&T\", \"AT&T\", \"AT&T\", \"AT&T\", \"AT&T\", \"AT&T\", \"AT&T\", \"AT&T\", \"AT&T\", \"AT&T\", \"AT&T\", \"Sprint\", \"Sprint\", \"Sprint\", \"Sprint\", \"Sprint\", \"Sprint\", \"Sprint\", \"Sprint\", \"Sprint\", \"Sprint\", \"Sprint\", \"Sprint\", \"Sprint\", \"Sprint\", \"Sprint\", \"Sprint\", \"Sprint\", \"Sprint\", \"Sprint\", \"Sprint\", \"Sprint\", \"Sprint\", \"Sprint\", \"Sprint\", \"Sprint\", \"Sprint\", \"Sprint\", \"Sprint\", \"Sprint\", \"Sprint\", \"Sprint\", \"Sprint\", \"Sprint\", \"Sprint\", \"Sprint\", \"Sprint\", \"Sprint\", \"Sprint\", \"Sprint\", \"Sprint\", \"Sprint\", \"Sprint\", \"T-Mobile\", \"T-Mobile\", \"T-Mobile\", \"T-Mobile\", \"T-Mobile\", \"T-Mobile\", \"T-Mobile\", \"T-Mobile\", \"T-Mobile\", \"T-Mobile\", \"T-Mobile\", \"T-Mobile\", \"T-Mobile\", \"T-Mobile\", \"T-Mobile\", \"T-Mobile\", \"T-Mobile\", \"T-Mobile\", \"T-Mobile\", \"T-Mobile\", \"T-Mobile\", \"T-Mobile\", \"T-Mobile\", \"T-Mobile\", \"T-Mobile\", \"T-Mobile\", \"T-Mobile\", \"T-Mobile\", \"T-Mobile\", \"T-Mobile\", \"T-Mobile\", \"T-Mobile\", \"T-Mobile\", \"T-Mobile\", \"T-Mobile\", \"T-Mobile\", \"T-Mobile\", \"T-Mobile\", \"T-Mobile\", \"T-Mobile\", \"T-Mobile\", \"T-Mobile\", \"T-Mobile\", \"T-Mobile\", \"T-Mobile\", \"T-Mobile\", \"T-Mobile\", \"T-Mobile\", \"T-Mobile\", \"T-Mobile\", \"T-Mobile\", \"T-Mobile\", \"T-Mobile\", \"T-Mobile\", \"T-Mobile\", \"T-Mobile\", \"T-Mobile\", \"T-Mobile\", \"T-Mobile\", \"T-Mobile\", \"T-Mobile\", \"AT&T\", \"AT&T\", \"AT&T\", \"AT&T\", \"AT&T\", \"AT&T\", \"AT&T\", \"AT&T\", \"AT&T\", \"AT&T\", \"AT&T\", \"AT&T\", \"AT&T\", \"AT&T\", \"AT&T\", \"AT&T\", \"AT&T\", \"AT&T\", \"AT&T\", \"AT&T\", \"AT&T\", \"AT&T\", \"AT&T\", \"AT&T\", \"AT&T\", \"AT&T\", \"Sprint\", \"Sprint\", \"Sprint\", \"Sprint\", \"Sprint\", \"Sprint\", \"Sprint\", \"Sprint\", \"Sprint\", \"Sprint\", \"Sprint\", \"Sprint\", \"Sprint\", \"Sprint\", \"Sprint\", \"Sprint\", \"Sprint\", \"Sprint\", \"Sprint\", \"Sprint\", \"Sprint\", \"Sprint\", \"Sprint\", \"Sprint\", \"Sprint\", \"Sprint\", \"Sprint\", \"Sprint\", \"Sprint\", \"Sprint\", \"Sprint\", \"Sprint\", \"Sprint\", \"Sprint\", \"Sprint\", \"Sprint\", \"Sprint\", \"T-Mobile\", \"T-Mobile\", \"T-Mobile\", \"T-Mobile\", \"T-Mobile\", \"T-Mobile\", \"T-Mobile\", \"T-Mobile\", \"T-Mobile\", \"T-Mobile\", \"T-Mobile\", \"T-Mobile\", \"T-Mobile\", \"T-Mobile\", \"T-Mobile\", \"T-Mobile\", \"T-Mobile\", \"T-Mobile\", \"T-Mobile\", \"T-Mobile\", \"T-Mobile\", \"T-Mobile\", \"T-Mobile\", \"T-Mobile\", \"T-Mobile\", \"T-Mobile\", \"T-Mobile\", \"T-Mobile\", \"T-Mobile\", \"T-Mobile\", \"T-Mobile\", \"T-Mobile\", \"T-Mobile\", \"T-Mobile\", \"T-Mobile\", \"T-Mobile\", \"T-Mobile\", \"T-Mobile\", \"T-Mobile\", \"T-Mobile\", \"T-Mobile\", \"T-Mobile\", \"T-Mobile\", \"T-Mobile\", \"T-Mobile\", \"T-Mobile\", \"T-Mobile\", \"T-Mobile\", \"T-Mobile\", \"T-Mobile\", \"T-Mobile\", \"T-Mobile\", \"T-Mobile\", \"T-Mobile\", \"T-Mobile\", \"AT&T\", \"AT&T\", \"AT&T\", \"AT&T\", \"AT&T\", \"AT&T\", \"AT&T\", \"AT&T\", \"AT&T\", \"AT&T\", \"AT&T\", \"AT&T\", \"AT&T\", \"AT&T\", \"AT&T\", \"AT&T\", \"Sprint\", \"Sprint\", \"Sprint\", \"Sprint\", \"Sprint\", \"Sprint\", \"Sprint\", \"Sprint\", \"Sprint\", \"Sprint\", \"Sprint\", \"Sprint\", \"Sprint\", \"Sprint\", \"Sprint\", \"Sprint\", \"Sprint\", \"Sprint\", \"Sprint\", \"Sprint\", \"Sprint\", \"Sprint\", \"Sprint\", \"Sprint\", \"Sprint\", \"Sprint\", \"Sprint\", \"Sprint\", \"Sprint\", \"T-Mobile\", \"T-Mobile\", \"T-Mobile\", \"T-Mobile\", \"T-Mobile\", \"T-Mobile\", \"T-Mobile\", \"T-Mobile\", \"T-Mobile\", \"T-Mobile\", \"T-Mobile\", \"T-Mobile\", \"T-Mobile\", \"T-Mobile\", \"T-Mobile\", \"T-Mobile\", \"T-Mobile\", \"T-Mobile\", \"T-Mobile\", \"T-Mobile\", \"T-Mobile\", \"T-Mobile\", \"T-Mobile\", \"T-Mobile\", \"T-Mobile\", \"T-Mobile\", \"T-Mobile\", \"T-Mobile\", \"T-Mobile\", \"T-Mobile\", \"T-Mobile\", \"T-Mobile\", \"T-Mobile\", \"T-Mobile\", \"T-Mobile\", \"T-Mobile\", \"T-Mobile\", \"T-Mobile\", \"T-Mobile\", \"T-Mobile\", \"T-Mobile\", \"T-Mobile\", \"T-Mobile\", \"T-Mobile\", \"T-Mobile\"], \"y\": [0, 2, 0, 2, 1, 1, 1, 2, 0, 0, 0, 2, 0, 3, 1, 2, 0, 1, 3, 1, 0, 1, 1, 1, 0, 1, 0, 0, 3, 1, 0, 1, 1, 5, 0, 0, 0, 0, 1, 0, 4, 5, 0, 5, 0, 0, 2, 2, 0, 2, 2, 0, 1, 1, 1, 0, 1, 4, 0, 1, 3, 0, 2, 2, 0, 2, 0, 1, 4, 1, 2, 0, 1, 1, 3, 0, 0, 1, 0, 2, 0, 0, 0, 0, 0, 0, 0, 0, 0, 1, 1, 1, 1, 2, 1, 2, 3, 6, 2, 2, 2, 1, 3, 2, 2, 2, 1, 4, 3, 0, 1, 1, 1, 0, 0, 3, 0, 0, 0, 0, 3, 1, 1, 0, 0, 2, 3, 3, 2, 1, 0, 5, 1, 3, 2, 4, 2, 1, 2, 2, 1, 1, 2, 3, 0, 2, 1, 3, 2, 3, 3, 0, 1, 0, 2, 2, 0, 2, 0, 3, 4, 3, 4, 5, 3, 4, 3, 3, 3, 2, 4, 4, 2, 0, 1, 2, 0, 0, 1, 1, 1, 5, 0, 0, 1, 1, 0, 1, 0, 3, 0, 1, 3, 1, 0, 0, 2, 0, 0, 1, 0, 0, 0, 2, 0, 2, 1, 0, 1, 0, 0, 0, 1, 6, 0, 1, 1, 0, 1, 0, 4, 5, 0, 5, 0, 0, 0, 2, 1, 0, 0, 0, 0, 1, 0, 0, 3, 0, 1, 1, 0, 0, 2, 2, 2, 1, 2, 3, 2, 4, 2, 0, 1, 2, 0, 1, 1, 0, 1, 0, 2, 0, 2, 0, 1, 1, 1, 2, 0, 2, 1, 2, 1, 3, 3, 3, 2, 2, 4, 0, 0, 0, 1, 0, 4, 2, 1, 0, 0, 0, 0, 0, 1, 2, 0, 1, 0, 1, 1, 1, 1, 1, 1, 1, 0, 3, 2, 3, 3, 3, 0, 3, 4, 3, 3, 3, 3, 3, 5, 2, 2, 3, 3, 4, 1, 2, 0, 1, 0, 2, 1, 0, 2, 1, 2, 2, 6, 3, 3, 2, 3, 3, 0, 6, 0, 5, 5, 1, 1, 2, 3, 1, 1, 1, 1, 1, 2, 4, 0, 0, 2, 0, 0, 0, 2, 2, 0, 2, 0, 2, 0, 2, 2, 0, 2, 2, 0, 0, 0, 0, 0, 6, 6, 3, 3, 5, 6, 0, 5, 6, 0, 6, 0, 0, 2, 0, 0, 0, 2, 0, 0, 1, 0, 2, 1, 0, 1, 0, 0, 3, 0, 0, 2, 1, 1, 1, 2, 0, 3, 0, 0, 0, 1, 0, 5, 0, 0, 1, 1, 4, 2, 1, 3, 2, 4, 3, 3, 1, 2, 1, 2, 3, 1, 1, 1, 0, 0, 1, 1, 1, 2, 1, 0, 0, 1, 0, 1, 0, 1, 1, 0, 0, 4, 3, 3, 4, 2, 1, 2, 2, 2, 2, 0, 3, 3, 0, 2, 1, 0, 1, 0, 0, 2, 2, 0, 1, 1, 3, 1, 2, 2, 3, 4, 4, 0, 3, 0, 3, 3, 0, 1, 0, 0, 0, 0, 0, 1, 1, 0, 0, 5, 0, 0, 2, 0, 0, 1, 2, 4, 0, 3, 0, 1, 1, 0, 1, 0, 0, 2, 0, 0, 0, 2, 2, 6, 2, 0, 0, 6, 5, 5, 6, 0, 2, 6, 0, 6, 2, 0, 3, 3, 0, 0, 0, 0, 0, 0, 1, 0, 0, 1, 0, 0, 1, 1, 0, 0, 2, 0, 1, 0, 1, 1, 0, 0, 0, 1, 1, 0, 1, 0, 1, 1, 1, 2, 5, 3, 3, 3, 1, 0, 0, 0, 1, 1, 3, 3, 2, 2, 0, 0, 0, 0, 0, 0, 0, 0, 1, 1, 0, 0, 1, 0, 1, 2, 0, 3, 0, 0, 0, 2, 3, 1, 2, 1, 3, 2, 3, 2, 1, 1, 1, 2, 3, 2, 0, 1, 0, 1, 0, 1, 1, 1, 2, 0, 2, 3, 4, 2, 3, 3, 3, 4, 3, 3, 0, 3, 0, 0, 1, 1, 2, 1, 0, 1, 0, 1, 0, 1, 0, 1, 0, 0, 0, 0, 0, 0, 0, 0, 0, 1, 0, 0, 1, 0, 1, 0, 0, 0, 1, 5, 6, 5, 3, 4, 5, 5, 4, 5, 0, 0, 0, 0, 2, 0, 0, 0, 1, 0, 0, 0, 0, 0, 1, 2, 0, 1, 0, 0, 5, 0, 0, 0, 0, 0, 1, 0, 0, 0, 0, 0, 0, 0, 2, 1, 1, 1, 2, 0, 1, 2, 1, 2, 2, 1, 1, 1, 0, 1, 0, 0, 0, 3, 0, 0, 1, 0, 0, 0, 0, 0, 0, 3, 0, 0, 0, 0, 0, 0, 0, 0, 1, 1, 3, 2, 0, 0, 2, 0, 0, 0, 1, 0, 0, 3, 3, 1, 2, 0, 1, 0, 3, 1, 3, 3, 3, 2, 2, 2, 2, 2, 2, 2, 1, 1, 0, 0, 1, 0, 0, 0, 0, 0, 0, 1, 0, 1, 0, 0, 0, 0, 0, 0, 0, 0, 0, 0, 0, 0, 0, 0, 0, 0, 0, 4, 3, 5, 3, 4, 3, 3, 5, 5, 0, 0, 0, 0, 0, 0, 0, 0, 0, 0, 0, 0, 0, 0, 0, 0, 3, 0, 0, 0, 0, 0, 1, 0, 0, 0, 0, 0, 0, 1, 0, 1, 1, 0, 3, 2, 1, 6, 6, 0, 0, 0, 0, 0, 0, 1, 0, 0, 0, 0, 0, 0, 0, 0, 0, 0, 1, 0, 0, 0, 0, 0, 0, 0, 0, 0, 0, 3, 1, 0, 0, 1, 1, 0, 0, 2, 0, 1, 0, 1, 0, 1, 4, 1, 3, 5, 1, 2, 3, 5, 4, 4, 4, 0, 1, 0, 1, 2, 0, 0, 0, 0, 0, 0, 0, 0, 0, 0, 0, 0, 0, 0, 0, 0, 0, 0, 0, 0, 0, 0, 0, 0, 0, 0, 0, 0, 0, 0, 0, 0, 0, 0, 0, 0, 0, 0, 0, 0, 0, 0, 1, 0, 0, 0, 0, 0, 0, 0, 0, 0, 0, 0, 0, 0, 0, 0, 0, 0, 0, 0, 0, 0, 0, 0, 0, 0, 0, 0, 0, 0, 0, 0, 0, 0, 0, 0, 0, 0, 0, 0, 0, 0, 0, 0, 0, 0, 1, 0, 0, 0, 0, 1, 0, 0, 0, 0, 0, 0, 0, 0, 1, 0, 1, 0, 0, 0, 0, 0, 0, 0, 1, 1, 0, 0, 0, 0, 1, 0, 0, 0, 0, 1, 0, 0, 0, 0, 0, 0, 0, 0, 0, 0, 0, 0, 0, 0, 0, 0, 0, 0, 0, 0, 0, 0, 0, 0, 0, 0, 0, 0, 0, 0, 0, 0, 0, 0, 0, 0, 0, 0, 0, 0, 0, 0, 0, 0, 0, 0, 0, 0, 0, 0, 0, 0, 0, 0, 0, 0, 0, 0, 0, 0, 0, 0, 0, 0, 0, 0, 0, 0, 0, 0, 0, 1, 0, 0, 1, 0, 0, 1, 0, 0, 0, 0, 1, 0, 0, 2, 0, 0, 0, 0, 0, 0]}],\n",
       "                        {\"boxmode\": \"group\", \"font\": {\"size\": 20}, \"legend\": {\"orientation\": \"h\", \"x\": 0.25, \"y\": 1.1}, \"plot_bgcolor\": \"rgba(0,0,0,0)\", \"template\": {\"data\": {\"bar\": [{\"error_x\": {\"color\": \"#2a3f5f\"}, \"error_y\": {\"color\": \"#2a3f5f\"}, \"marker\": {\"line\": {\"color\": \"#E5ECF6\", \"width\": 0.5}}, \"type\": \"bar\"}], \"barpolar\": [{\"marker\": {\"line\": {\"color\": \"#E5ECF6\", \"width\": 0.5}}, \"type\": \"barpolar\"}], \"carpet\": [{\"aaxis\": {\"endlinecolor\": \"#2a3f5f\", \"gridcolor\": \"white\", \"linecolor\": \"white\", \"minorgridcolor\": \"white\", \"startlinecolor\": \"#2a3f5f\"}, \"baxis\": {\"endlinecolor\": \"#2a3f5f\", \"gridcolor\": \"white\", \"linecolor\": \"white\", \"minorgridcolor\": \"white\", \"startlinecolor\": \"#2a3f5f\"}, \"type\": \"carpet\"}], \"choropleth\": [{\"colorbar\": {\"outlinewidth\": 0, \"ticks\": \"\"}, \"type\": \"choropleth\"}], \"contour\": [{\"colorbar\": {\"outlinewidth\": 0, \"ticks\": \"\"}, \"colorscale\": [[0.0, \"#0d0887\"], [0.1111111111111111, \"#46039f\"], [0.2222222222222222, \"#7201a8\"], [0.3333333333333333, \"#9c179e\"], [0.4444444444444444, \"#bd3786\"], [0.5555555555555556, \"#d8576b\"], [0.6666666666666666, \"#ed7953\"], [0.7777777777777778, \"#fb9f3a\"], [0.8888888888888888, \"#fdca26\"], [1.0, \"#f0f921\"]], \"type\": \"contour\"}], \"contourcarpet\": [{\"colorbar\": {\"outlinewidth\": 0, \"ticks\": \"\"}, \"type\": \"contourcarpet\"}], \"heatmap\": [{\"colorbar\": {\"outlinewidth\": 0, \"ticks\": \"\"}, \"colorscale\": [[0.0, \"#0d0887\"], [0.1111111111111111, \"#46039f\"], [0.2222222222222222, \"#7201a8\"], [0.3333333333333333, \"#9c179e\"], [0.4444444444444444, \"#bd3786\"], [0.5555555555555556, \"#d8576b\"], [0.6666666666666666, \"#ed7953\"], [0.7777777777777778, \"#fb9f3a\"], [0.8888888888888888, \"#fdca26\"], [1.0, \"#f0f921\"]], \"type\": \"heatmap\"}], \"heatmapgl\": [{\"colorbar\": {\"outlinewidth\": 0, \"ticks\": \"\"}, \"colorscale\": [[0.0, \"#0d0887\"], [0.1111111111111111, \"#46039f\"], [0.2222222222222222, \"#7201a8\"], [0.3333333333333333, \"#9c179e\"], [0.4444444444444444, \"#bd3786\"], [0.5555555555555556, \"#d8576b\"], [0.6666666666666666, \"#ed7953\"], [0.7777777777777778, \"#fb9f3a\"], [0.8888888888888888, \"#fdca26\"], [1.0, \"#f0f921\"]], \"type\": \"heatmapgl\"}], \"histogram\": [{\"marker\": {\"colorbar\": {\"outlinewidth\": 0, \"ticks\": \"\"}}, \"type\": \"histogram\"}], \"histogram2d\": [{\"colorbar\": {\"outlinewidth\": 0, \"ticks\": \"\"}, \"colorscale\": [[0.0, \"#0d0887\"], [0.1111111111111111, \"#46039f\"], [0.2222222222222222, \"#7201a8\"], [0.3333333333333333, \"#9c179e\"], [0.4444444444444444, \"#bd3786\"], [0.5555555555555556, \"#d8576b\"], [0.6666666666666666, \"#ed7953\"], [0.7777777777777778, \"#fb9f3a\"], [0.8888888888888888, \"#fdca26\"], [1.0, \"#f0f921\"]], \"type\": \"histogram2d\"}], \"histogram2dcontour\": [{\"colorbar\": {\"outlinewidth\": 0, \"ticks\": \"\"}, \"colorscale\": [[0.0, \"#0d0887\"], [0.1111111111111111, \"#46039f\"], [0.2222222222222222, \"#7201a8\"], [0.3333333333333333, \"#9c179e\"], [0.4444444444444444, \"#bd3786\"], [0.5555555555555556, \"#d8576b\"], [0.6666666666666666, \"#ed7953\"], [0.7777777777777778, \"#fb9f3a\"], [0.8888888888888888, \"#fdca26\"], [1.0, \"#f0f921\"]], \"type\": \"histogram2dcontour\"}], \"mesh3d\": [{\"colorbar\": {\"outlinewidth\": 0, \"ticks\": \"\"}, \"type\": \"mesh3d\"}], \"parcoords\": [{\"line\": {\"colorbar\": {\"outlinewidth\": 0, \"ticks\": \"\"}}, \"type\": \"parcoords\"}], \"pie\": [{\"automargin\": true, \"type\": \"pie\"}], \"scatter\": [{\"marker\": {\"colorbar\": {\"outlinewidth\": 0, \"ticks\": \"\"}}, \"type\": \"scatter\"}], \"scatter3d\": [{\"line\": {\"colorbar\": {\"outlinewidth\": 0, \"ticks\": \"\"}}, \"marker\": {\"colorbar\": {\"outlinewidth\": 0, \"ticks\": \"\"}}, \"type\": \"scatter3d\"}], \"scattercarpet\": [{\"marker\": {\"colorbar\": {\"outlinewidth\": 0, \"ticks\": \"\"}}, \"type\": \"scattercarpet\"}], \"scattergeo\": [{\"marker\": {\"colorbar\": {\"outlinewidth\": 0, \"ticks\": \"\"}}, \"type\": \"scattergeo\"}], \"scattergl\": [{\"marker\": {\"colorbar\": {\"outlinewidth\": 0, \"ticks\": \"\"}}, \"type\": \"scattergl\"}], \"scattermapbox\": [{\"marker\": {\"colorbar\": {\"outlinewidth\": 0, \"ticks\": \"\"}}, \"type\": \"scattermapbox\"}], \"scatterpolar\": [{\"marker\": {\"colorbar\": {\"outlinewidth\": 0, \"ticks\": \"\"}}, \"type\": \"scatterpolar\"}], \"scatterpolargl\": [{\"marker\": {\"colorbar\": {\"outlinewidth\": 0, \"ticks\": \"\"}}, \"type\": \"scatterpolargl\"}], \"scatterternary\": [{\"marker\": {\"colorbar\": {\"outlinewidth\": 0, \"ticks\": \"\"}}, \"type\": \"scatterternary\"}], \"surface\": [{\"colorbar\": {\"outlinewidth\": 0, \"ticks\": \"\"}, \"colorscale\": [[0.0, \"#0d0887\"], [0.1111111111111111, \"#46039f\"], [0.2222222222222222, \"#7201a8\"], [0.3333333333333333, \"#9c179e\"], [0.4444444444444444, \"#bd3786\"], [0.5555555555555556, \"#d8576b\"], [0.6666666666666666, \"#ed7953\"], [0.7777777777777778, \"#fb9f3a\"], [0.8888888888888888, \"#fdca26\"], [1.0, \"#f0f921\"]], \"type\": \"surface\"}], \"table\": [{\"cells\": {\"fill\": {\"color\": \"#EBF0F8\"}, \"line\": {\"color\": \"white\"}}, \"header\": {\"fill\": {\"color\": \"#C8D4E3\"}, \"line\": {\"color\": \"white\"}}, \"type\": \"table\"}]}, \"layout\": {\"annotationdefaults\": {\"arrowcolor\": \"#2a3f5f\", \"arrowhead\": 0, \"arrowwidth\": 1}, \"coloraxis\": {\"colorbar\": {\"outlinewidth\": 0, \"ticks\": \"\"}}, \"colorscale\": {\"diverging\": [[0, \"#8e0152\"], [0.1, \"#c51b7d\"], [0.2, \"#de77ae\"], [0.3, \"#f1b6da\"], [0.4, \"#fde0ef\"], [0.5, \"#f7f7f7\"], [0.6, \"#e6f5d0\"], [0.7, \"#b8e186\"], [0.8, \"#7fbc41\"], [0.9, \"#4d9221\"], [1, \"#276419\"]], \"sequential\": [[0.0, \"#0d0887\"], [0.1111111111111111, \"#46039f\"], [0.2222222222222222, \"#7201a8\"], [0.3333333333333333, \"#9c179e\"], [0.4444444444444444, \"#bd3786\"], [0.5555555555555556, \"#d8576b\"], [0.6666666666666666, \"#ed7953\"], [0.7777777777777778, \"#fb9f3a\"], [0.8888888888888888, \"#fdca26\"], [1.0, \"#f0f921\"]], \"sequentialminus\": [[0.0, \"#0d0887\"], [0.1111111111111111, \"#46039f\"], [0.2222222222222222, \"#7201a8\"], [0.3333333333333333, \"#9c179e\"], [0.4444444444444444, \"#bd3786\"], [0.5555555555555556, \"#d8576b\"], [0.6666666666666666, \"#ed7953\"], [0.7777777777777778, \"#fb9f3a\"], [0.8888888888888888, \"#fdca26\"], [1.0, \"#f0f921\"]]}, \"colorway\": [\"#636efa\", \"#EF553B\", \"#00cc96\", \"#ab63fa\", \"#FFA15A\", \"#19d3f3\", \"#FF6692\", \"#B6E880\", \"#FF97FF\", \"#FECB52\"], \"font\": {\"color\": \"#2a3f5f\"}, \"geo\": {\"bgcolor\": \"white\", \"lakecolor\": \"white\", \"landcolor\": \"#E5ECF6\", \"showlakes\": true, \"showland\": true, \"subunitcolor\": \"white\"}, \"hoverlabel\": {\"align\": \"left\"}, \"hovermode\": \"closest\", \"mapbox\": {\"style\": \"light\"}, \"paper_bgcolor\": \"white\", \"plot_bgcolor\": \"#E5ECF6\", \"polar\": {\"angularaxis\": {\"gridcolor\": \"white\", \"linecolor\": \"white\", \"ticks\": \"\"}, \"bgcolor\": \"#E5ECF6\", \"radialaxis\": {\"gridcolor\": \"white\", \"linecolor\": \"white\", \"ticks\": \"\"}}, \"scene\": {\"xaxis\": {\"backgroundcolor\": \"#E5ECF6\", \"gridcolor\": \"white\", \"gridwidth\": 2, \"linecolor\": \"white\", \"showbackground\": true, \"ticks\": \"\", \"zerolinecolor\": \"white\"}, \"yaxis\": {\"backgroundcolor\": \"#E5ECF6\", \"gridcolor\": \"white\", \"gridwidth\": 2, \"linecolor\": \"white\", \"showbackground\": true, \"ticks\": \"\", \"zerolinecolor\": \"white\"}, \"zaxis\": {\"backgroundcolor\": \"#E5ECF6\", \"gridcolor\": \"white\", \"gridwidth\": 2, \"linecolor\": \"white\", \"showbackground\": true, \"ticks\": \"\", \"zerolinecolor\": \"white\"}}, \"shapedefaults\": {\"line\": {\"color\": \"#2a3f5f\"}}, \"ternary\": {\"aaxis\": {\"gridcolor\": \"white\", \"linecolor\": \"white\", \"ticks\": \"\"}, \"baxis\": {\"gridcolor\": \"white\", \"linecolor\": \"white\", \"ticks\": \"\"}, \"bgcolor\": \"#E5ECF6\", \"caxis\": {\"gridcolor\": \"white\", \"linecolor\": \"white\", \"ticks\": \"\"}}, \"title\": {\"x\": 0.05}, \"xaxis\": {\"automargin\": true, \"gridcolor\": \"white\", \"linecolor\": \"white\", \"ticks\": \"\", \"title\": {\"standoff\": 15}, \"zerolinecolor\": \"white\", \"zerolinewidth\": 2}, \"yaxis\": {\"automargin\": true, \"gridcolor\": \"white\", \"linecolor\": \"white\", \"ticks\": \"\", \"title\": {\"standoff\": 15}, \"zerolinecolor\": \"white\", \"zerolinewidth\": 2}}}, \"violinmode\": \"group\", \"yaxis\": {\"gridcolor\": \"rgb(219, 219, 219)\", \"showgrid\": true, \"title\": {\"text\": \"Updates per 6-Months\"}}},\n",
       "                        {\"responsive\": true}\n",
       "                    ).then(function(){\n",
       "                            \n",
       "var gd = document.getElementById('6338b163-da58-4045-8053-de649433f9d5');\n",
       "var x = new MutationObserver(function (mutations, observer) {{\n",
       "        var display = window.getComputedStyle(gd).display;\n",
       "        if (!display || display === 'none') {{\n",
       "            console.log([gd, 'removed!']);\n",
       "            Plotly.purge(gd);\n",
       "            observer.disconnect();\n",
       "        }}\n",
       "}});\n",
       "\n",
       "// Listen for the removal of the full notebook cells\n",
       "var notebookContainer = gd.closest('#notebook-container');\n",
       "if (notebookContainer) {{\n",
       "    x.observe(notebookContainer, {childList: true});\n",
       "}}\n",
       "\n",
       "// Listen for the clearing of the current output cell\n",
       "var outputEl = gd.closest('.output');\n",
       "if (outputEl) {{\n",
       "    x.observe(outputEl, {childList: true});\n",
       "}}\n",
       "\n",
       "                        })\n",
       "                };\n",
       "                });\n",
       "            </script>\n",
       "        </div>"
      ]
     },
     "metadata": {},
     "output_type": "display_data"
    }
   ],
   "source": [
    "# exception here\n",
    "\n",
    "data=[]\n",
    "total_updates={}\n",
    "total_years={}\n",
    "\n",
    "total_updates_wZeroes={}\n",
    "total_years_wZeroes={}\n",
    "\n",
    "\n",
    "for yr in range(int(12/howManyMonths)*4):\n",
    "\n",
    "    properList_update=[]\n",
    "    properList_years=[]\n",
    "    properList_update_wZeroes=[]\n",
    "    properList_years_wZeroes=[]\n",
    "    for car in carrierDF.Carrier.unique():\n",
    "        properList_update_wZeroes.extend(freqPointsCarAllDevices[car][yr])\n",
    "        properList_years_wZeroes.extend([car for _ in range(len(freqPointsCarAllDevices[car][yr]))]) #+\" period\"\n",
    "    \n",
    "    total_updates_wZeroes[yr]=properList_update_wZeroes.copy()\n",
    "    total_years_wZeroes[yr]=properList_years_wZeroes.copy()\n",
    "    \n",
    "total_x=[]\n",
    "total_y=[]\n",
    "for yr in range(int(12/howManyMonths)*4):\n",
    "    total_x.extend(total_years_wZeroes[yr])\n",
    "    total_y.extend(total_updates_wZeroes[yr])\n",
    "            \n",
    "data.append(go.Box(\n",
    "    x=total_x,\n",
    "    y=total_y,\n",
    "    marker=dict(color=\"rgb(31, 119, 180)\")\n",
    "))\n",
    "    \n",
    "    \n",
    "# Edit the layout\n",
    "layout = dict(#title = \"Number of Updates per 6 Month Period after Release per Carrier\",\n",
    "              yaxis = dict(title = 'Updates per 6-Months',showgrid=True, gridcolor='rgb(219, 219, 219)'),\n",
    "              #xaxis = dict(title = '6 Month Period'),\n",
    "              plot_bgcolor='rgba(0,0,0,0)',\n",
    "              boxmode='group',\n",
    "              violinmode='group',\n",
    "              legend_orientation=\"h\",\n",
    "              legend=dict(x=0.25, y=1.1),\n",
    "              font=dict(size=20)\n",
    "              )\n",
    "\n",
    "fig = dict(data=data, layout=layout)\n",
    "py.offline.iplot(fig, filename='release-years-frequency-per-carrier.png')\n",
    "\n",
    "\n",
    "if not \"Verizon\" in carrierDF.Carrier.values and saveFigs==True: # only save if no Verizon\n",
    "    pio.write_image(fig, 'carrier-number-updates-released-per-year-CARONLY.pdf', width=1000, height=600)\n"
   ]
  },
  {
   "cell_type": "code",
   "execution_count": 9,
   "metadata": {},
   "outputs": [],
   "source": [
    "# import statistics\n",
    "\n",
    "# if howManyMonths == 12:\n",
    "#     latencyPointsCar={}\n",
    "#     for car in carrierDF.Carrier.unique():\n",
    "#         latencyPointsCar[car]={}\n",
    "#         for yr in range(4):\n",
    "#             latencyPointsCar[car][yr]=list()\n",
    "\n",
    "#     freqPointsCar={}\n",
    "#     for car in carrierDF.Carrier.unique():\n",
    "#         freqPointsCar[car]={}\n",
    "#         for yr in range(4):\n",
    "#             freqPointsCar[car][yr]=list()\n",
    "\n",
    "\n",
    "if howManyMonths==6 or howManyMonths==3:\n",
    "    latencyPointsMan={}\n",
    "    freqPointsManAllDevices={}\n",
    "    for man in carrierDF.Manufacture.unique():\n",
    "        latencyPointsMan[man]={}\n",
    "        freqPointsManAllDevices[man]={}\n",
    "        for yr in range(int(12/howManyMonths)*4):\n",
    "            latencyPointsMan[man][yr]=list()\n",
    "            freqPointsManAllDevices[man][yr]=list()\n",
    "\n",
    "    freqPointsMan={}\n",
    "    for man in carrierDF.Manufacture.unique():\n",
    "        freqPointsMan[man]={}\n",
    "        for yr in range(int(12/howManyMonths)*4):\n",
    "            freqPointsMan[man][yr]=list()\n",
    "        \n",
    "count=0\n",
    "# for each mobile in row (2017-07-01 TO 2019-06-01 (if year fits within this time line, we calculate accordingly))\n",
    "for man in carrierDF.Manufacture.unique():\n",
    "    tmpMan=carrierDF[carrierDF.Manufacture==man]\n",
    "    for model in tmpMan.Model.unique():\n",
    "        tempDFs=tmpMan[tmpMan.Model==model]\n",
    "        for index, year in enumerate(importantCols): # traverse through each year\n",
    "            yrBEG=tempDFs[year[0]].iloc[0]#.unique()[0]\n",
    "            yrEND=tempDFs[year[1]].iloc[0]#.unique()[0]\n",
    "\n",
    "            if yrBEG >= THE_START_OF_TIMELINE and yrEND < THE_END_OF_TIMELINE: #the particular year/session is fully within our timeline :)\n",
    "                # filtered release dates accordingly\n",
    "                #tempDF=tempDFs[(tempDFs.Release_Date >= yrBEG) & (tempDFs.Release_Date < yrEND)]\n",
    "                tempDF=tempDFs[(tempDFs.Bulletin_Level >= yrBEG) & (tempDFs.Bulletin_Level < yrEND)]\n",
    "                \n",
    "                actualUpdates=0\n",
    "                if len(tempDF)>0: # meaning an update was reported but if DF==0, it didn't fall within that year\n",
    "                    for bul in tempDF.Bulletin_Level.unique():\n",
    "#                         if pd.to_datetime(bul) >= yrBEG and pd.to_datetime(bul) < yrEND:\n",
    "                        if True:\n",
    "                            tmp=tempDF[tempDF.Bulletin_Level==bul]\n",
    "                            if len(tmp)>1: #calculate the average\n",
    "                                actualUpdates+=1 # for each update  \n",
    "                                latencyPointsMan[man][index].append(statistics.mean(tmp.difference.values))\n",
    "                            elif len(tmp)==1:\n",
    "                                actualUpdates+=1 # for each update  \n",
    "                                latencyPointsMan[man][index].extend(tmp.difference.values)\n",
    "                        \n",
    "                    if actualUpdates>0:\n",
    "                        freqPointsMan[man][index].append(actualUpdates)\n",
    "                freqPointsManAllDevices[man][index].append(actualUpdates) # this includes devices within the timeframe but maybe no updates\n",
    "                "
   ]
  },
  {
   "cell_type": "code",
   "execution_count": 10,
   "metadata": {},
   "outputs": [
    {
     "data": {
      "application/vnd.plotly.v1+json": {
       "config": {
        "linkText": "Export to plot.ly",
        "plotlyServerURL": "https://plot.ly",
        "showLink": false
       },
       "data": [
        {
         "name": "1st",
         "type": "box",
         "x": [
          "Samsung",
          "Samsung",
          "Samsung",
          "Samsung",
          "Samsung",
          "Samsung",
          "Samsung",
          "Samsung",
          "Samsung",
          "Samsung",
          "Samsung",
          "Samsung",
          "Samsung",
          "Samsung",
          "Samsung",
          "Samsung",
          "Samsung",
          "Samsung",
          "Samsung",
          "Samsung",
          "Samsung",
          "Samsung",
          "Samsung",
          "Samsung",
          "Samsung",
          "Samsung",
          "Samsung",
          "Samsung",
          "Samsung",
          "Samsung",
          "Samsung",
          "Samsung",
          "Samsung",
          "Samsung",
          "Samsung",
          "Samsung",
          "Samsung",
          "Samsung",
          "LG",
          "LG",
          "LG",
          "LG",
          "LG",
          "LG",
          "LG",
          "LG",
          "LG",
          "LG",
          "LG",
          "LG",
          "LG",
          "LG",
          "LG",
          "LG",
          "LG",
          "LG",
          "LG",
          "LG",
          "LG",
          "LG",
          "LG",
          "LG",
          "LG",
          "LG",
          "LG",
          "LG",
          "LG",
          "LG",
          "LG",
          "LG",
          "LG",
          "Motorola",
          "Motorola",
          "Motorola",
          "Motorola",
          "Motorola",
          "Motorola",
          "Motorola",
          "Motorola",
          "Motorola",
          "Motorola",
          "Motorola",
          "Motorola",
          "Motorola",
          "HTC",
          "HTC",
          "HTC",
          "HTC",
          "HTC",
          "HTC",
          "ZTE",
          "ZTE",
          "ZTE",
          "ZTE",
          "ZTE",
          "ZTE",
          "Alcatel",
          "Alcatel",
          "Alcatel",
          "Huawei",
          "Huawei",
          "Huawei",
          "Revvl(T-Mobile)",
          "Revvl(T-Mobile)",
          "Revvl(T-Mobile)",
          "Revvl(T-Mobile)",
          "Google",
          "Google",
          "Kyocera",
          "Kyocera",
          "Kyocera",
          "Coolpad",
          "Coolpad"
         ],
         "y": [
          2,
          1,
          0,
          1,
          0,
          0,
          5,
          3,
          0,
          2,
          4,
          6,
          6,
          5,
          2,
          5,
          1,
          5,
          5,
          5,
          3,
          5,
          6,
          6,
          0,
          0,
          1,
          1,
          2,
          1,
          3,
          0,
          3,
          1,
          2,
          2,
          1,
          0,
          5,
          5,
          2,
          1,
          5,
          0,
          3,
          1,
          3,
          0,
          0,
          4,
          0,
          2,
          2,
          1,
          4,
          1,
          2,
          0,
          3,
          5,
          0,
          0,
          2,
          0,
          1,
          3,
          2,
          2,
          1,
          2,
          1,
          1,
          4,
          1,
          1,
          0,
          2,
          0,
          0,
          0,
          0,
          0,
          0,
          1,
          0,
          4,
          1,
          1,
          1,
          0,
          2,
          2,
          0,
          0,
          1,
          1,
          0,
          3,
          0,
          2,
          1,
          4,
          2,
          3,
          3,
          0,
          1,
          1,
          1,
          1,
          0,
          2,
          0
         ]
        },
        {
         "name": "2nd",
         "type": "box",
         "x": [
          "Samsung",
          "Samsung",
          "Samsung",
          "Samsung",
          "Samsung",
          "Samsung",
          "Samsung",
          "Samsung",
          "Samsung",
          "Samsung",
          "Samsung",
          "Samsung",
          "Samsung",
          "Samsung",
          "Samsung",
          "Samsung",
          "Samsung",
          "Samsung",
          "Samsung",
          "Samsung",
          "Samsung",
          "Samsung",
          "Samsung",
          "Samsung",
          "Samsung",
          "Samsung",
          "Samsung",
          "Samsung",
          "Samsung",
          "Samsung",
          "Samsung",
          "Samsung",
          "Samsung",
          "Samsung",
          "Samsung",
          "Samsung",
          "LG",
          "LG",
          "LG",
          "LG",
          "LG",
          "LG",
          "LG",
          "LG",
          "LG",
          "LG",
          "LG",
          "LG",
          "LG",
          "LG",
          "LG",
          "LG",
          "LG",
          "LG",
          "LG",
          "LG",
          "LG",
          "LG",
          "LG",
          "LG",
          "LG",
          "LG",
          "LG",
          "LG",
          "LG",
          "LG",
          "LG",
          "LG",
          "LG",
          "LG",
          "LG",
          "Motorola",
          "Motorola",
          "Motorola",
          "Motorola",
          "Motorola",
          "Motorola",
          "Motorola",
          "Motorola",
          "Motorola",
          "Motorola",
          "Motorola",
          "HTC",
          "HTC",
          "HTC",
          "HTC",
          "HTC",
          "HTC",
          "HTC",
          "HTC",
          "ZTE",
          "ZTE",
          "ZTE",
          "ZTE",
          "ZTE",
          "ZTE",
          "ZTE",
          "Alcatel",
          "Alcatel",
          "Alcatel",
          "Alcatel",
          "Huawei",
          "Huawei",
          "Huawei",
          "Revvl(T-Mobile)",
          "Revvl(T-Mobile)",
          "Kyocera",
          "Kyocera",
          "Coolpad",
          "Coolpad"
         ],
         "y": [
          2,
          2,
          0,
          2,
          1,
          0,
          3,
          2,
          0,
          2,
          5,
          6,
          6,
          3,
          3,
          0,
          1,
          3,
          4,
          5,
          6,
          5,
          5,
          5,
          1,
          0,
          2,
          2,
          1,
          4,
          1,
          1,
          1,
          2,
          3,
          1,
          0,
          4,
          3,
          3,
          6,
          1,
          0,
          0,
          4,
          0,
          0,
          1,
          3,
          4,
          1,
          2,
          6,
          2,
          4,
          2,
          0,
          3,
          4,
          1,
          1,
          0,
          3,
          0,
          4,
          3,
          3,
          3,
          3,
          2,
          2,
          0,
          2,
          2,
          0,
          1,
          2,
          0,
          0,
          1,
          1,
          1,
          0,
          1,
          2,
          1,
          0,
          1,
          1,
          1,
          0,
          2,
          1,
          1,
          1,
          1,
          1,
          1,
          0,
          1,
          0,
          1,
          0,
          3,
          0,
          1,
          1,
          1,
          0,
          1
         ]
        },
        {
         "name": "3rd",
         "type": "box",
         "x": [
          "Samsung",
          "Samsung",
          "Samsung",
          "Samsung",
          "Samsung",
          "Samsung",
          "Samsung",
          "Samsung",
          "Samsung",
          "Samsung",
          "Samsung",
          "Samsung",
          "Samsung",
          "Samsung",
          "Samsung",
          "Samsung",
          "Samsung",
          "Samsung",
          "Samsung",
          "Samsung",
          "Samsung",
          "Samsung",
          "Samsung",
          "Samsung",
          "Samsung",
          "Samsung",
          "Samsung",
          "Samsung",
          "Samsung",
          "Samsung",
          "Samsung",
          "LG",
          "LG",
          "LG",
          "LG",
          "LG",
          "LG",
          "LG",
          "LG",
          "LG",
          "LG",
          "LG",
          "LG",
          "LG",
          "LG",
          "LG",
          "LG",
          "LG",
          "LG",
          "LG",
          "LG",
          "LG",
          "LG",
          "LG",
          "LG",
          "LG",
          "LG",
          "LG",
          "Motorola",
          "Motorola",
          "Motorola",
          "Motorola",
          "Motorola",
          "Motorola",
          "Motorola",
          "HTC",
          "HTC",
          "HTC",
          "HTC",
          "HTC",
          "HTC",
          "HTC",
          "HTC",
          "HTC",
          "ZTE",
          "ZTE",
          "ZTE",
          "ZTE",
          "ZTE",
          "ZTE",
          "ZTE",
          "ZTE",
          "ZTE",
          "Alcatel",
          "Alcatel",
          "Alcatel",
          "Alcatel",
          "Alcatel",
          "Huawei",
          "Huawei",
          "Huawei",
          "Revvl(T-Mobile)",
          "Revvl(T-Mobile)",
          "Kyocera",
          "Kyocera",
          "Coolpad"
         ],
         "y": [
          2,
          0,
          2,
          2,
          0,
          5,
          2,
          2,
          3,
          6,
          6,
          6,
          6,
          5,
          6,
          4,
          6,
          6,
          5,
          6,
          3,
          3,
          0,
          1,
          1,
          2,
          3,
          0,
          1,
          0,
          0,
          2,
          5,
          4,
          3,
          0,
          4,
          0,
          1,
          0,
          4,
          0,
          0,
          2,
          1,
          1,
          1,
          3,
          3,
          0,
          0,
          4,
          1,
          2,
          2,
          2,
          2,
          0,
          4,
          0,
          0,
          0,
          5,
          0,
          0,
          0,
          0,
          2,
          1,
          0,
          0,
          1,
          0,
          1,
          2,
          0,
          0,
          0,
          0,
          0,
          0,
          1,
          1,
          2,
          1,
          2,
          1,
          0,
          0,
          0,
          2,
          0,
          1,
          0,
          0,
          0
         ]
        },
        {
         "name": "4th",
         "type": "box",
         "x": [
          "Samsung",
          "Samsung",
          "Samsung",
          "Samsung",
          "Samsung",
          "Samsung",
          "Samsung",
          "Samsung",
          "Samsung",
          "Samsung",
          "Samsung",
          "Samsung",
          "Samsung",
          "Samsung",
          "Samsung",
          "Samsung",
          "Samsung",
          "Samsung",
          "Samsung",
          "Samsung",
          "Samsung",
          "Samsung",
          "Samsung",
          "Samsung",
          "Samsung",
          "Samsung",
          "Samsung",
          "Samsung",
          "Samsung",
          "Samsung",
          "Samsung",
          "Samsung",
          "Samsung",
          "Samsung",
          "Samsung",
          "LG",
          "LG",
          "LG",
          "LG",
          "LG",
          "LG",
          "LG",
          "LG",
          "LG",
          "LG",
          "LG",
          "LG",
          "LG",
          "LG",
          "LG",
          "LG",
          "LG",
          "LG",
          "LG",
          "LG",
          "LG",
          "LG",
          "LG",
          "LG",
          "LG",
          "LG",
          "LG",
          "LG",
          "Motorola",
          "Motorola",
          "Motorola",
          "Motorola",
          "Motorola",
          "Motorola",
          "Motorola",
          "HTC",
          "HTC",
          "HTC",
          "HTC",
          "HTC",
          "HTC",
          "HTC",
          "HTC",
          "HTC",
          "HTC",
          "HTC",
          "ZTE",
          "ZTE",
          "ZTE",
          "ZTE",
          "ZTE",
          "ZTE",
          "ZTE",
          "ZTE",
          "ZTE",
          "Alcatel",
          "Alcatel",
          "Alcatel",
          "Alcatel",
          "Alcatel",
          "Alcatel",
          "Huawei",
          "Huawei",
          "Huawei",
          "Revvl(T-Mobile)",
          "Kyocera",
          "Kyocera",
          "Kyocera",
          "Coolpad"
         ],
         "y": [
          1,
          0,
          0,
          2,
          0,
          2,
          2,
          6,
          6,
          6,
          4,
          4,
          0,
          6,
          5,
          5,
          6,
          4,
          5,
          6,
          4,
          6,
          0,
          1,
          1,
          2,
          0,
          5,
          0,
          1,
          1,
          2,
          0,
          1,
          0,
          2,
          5,
          2,
          4,
          0,
          4,
          1,
          0,
          0,
          3,
          1,
          0,
          0,
          2,
          0,
          1,
          2,
          1,
          0,
          0,
          2,
          2,
          3,
          2,
          1,
          1,
          1,
          2,
          2,
          0,
          0,
          1,
          0,
          1,
          0,
          0,
          0,
          3,
          1,
          0,
          0,
          0,
          1,
          2,
          0,
          0,
          2,
          0,
          1,
          0,
          1,
          0,
          1,
          0,
          1,
          0,
          0,
          0,
          1,
          1,
          0,
          0,
          0,
          0,
          1,
          1,
          1,
          0,
          0
         ]
        },
        {
         "name": "5th",
         "type": "box",
         "x": [
          "Samsung",
          "Samsung",
          "Samsung",
          "Samsung",
          "Samsung",
          "Samsung",
          "Samsung",
          "Samsung",
          "Samsung",
          "Samsung",
          "Samsung",
          "Samsung",
          "Samsung",
          "Samsung",
          "Samsung",
          "Samsung",
          "Samsung",
          "Samsung",
          "Samsung",
          "Samsung",
          "Samsung",
          "Samsung",
          "Samsung",
          "Samsung",
          "Samsung",
          "Samsung",
          "Samsung",
          "Samsung",
          "Samsung",
          "Samsung",
          "Samsung",
          "Samsung",
          "Samsung",
          "Samsung",
          "Samsung",
          "Samsung",
          "LG",
          "LG",
          "LG",
          "LG",
          "LG",
          "LG",
          "LG",
          "LG",
          "LG",
          "LG",
          "LG",
          "LG",
          "LG",
          "LG",
          "LG",
          "LG",
          "LG",
          "LG",
          "LG",
          "LG",
          "LG",
          "LG",
          "LG",
          "LG",
          "Motorola",
          "Motorola",
          "Motorola",
          "Motorola",
          "HTC",
          "HTC",
          "HTC",
          "HTC",
          "HTC",
          "HTC",
          "HTC",
          "HTC",
          "HTC",
          "HTC",
          "ZTE",
          "ZTE",
          "ZTE",
          "ZTE",
          "ZTE",
          "ZTE",
          "ZTE",
          "ZTE",
          "Alcatel",
          "Alcatel",
          "Alcatel",
          "Alcatel",
          "Alcatel",
          "Huawei",
          "Huawei",
          "Kyocera",
          "Kyocera",
          "Kyocera",
          "Coolpad"
         ],
         "y": [
          0,
          1,
          0,
          0,
          1,
          2,
          6,
          6,
          5,
          6,
          4,
          5,
          5,
          4,
          5,
          3,
          3,
          3,
          3,
          0,
          3,
          0,
          0,
          2,
          0,
          2,
          2,
          0,
          1,
          1,
          0,
          3,
          0,
          1,
          0,
          1,
          2,
          1,
          3,
          0,
          1,
          0,
          0,
          2,
          1,
          0,
          0,
          5,
          0,
          0,
          0,
          0,
          0,
          0,
          2,
          0,
          0,
          2,
          0,
          0,
          2,
          0,
          0,
          0,
          0,
          0,
          0,
          0,
          1,
          0,
          0,
          3,
          0,
          0,
          2,
          0,
          0,
          0,
          0,
          1,
          0,
          1,
          0,
          0,
          1,
          0,
          0,
          0,
          0,
          0,
          0,
          0,
          0
         ]
        },
        {
         "name": "6th",
         "type": "box",
         "x": [
          "Samsung",
          "Samsung",
          "Samsung",
          "Samsung",
          "Samsung",
          "Samsung",
          "Samsung",
          "Samsung",
          "Samsung",
          "Samsung",
          "Samsung",
          "Samsung",
          "Samsung",
          "Samsung",
          "Samsung",
          "Samsung",
          "Samsung",
          "Samsung",
          "Samsung",
          "Samsung",
          "Samsung",
          "Samsung",
          "Samsung",
          "Samsung",
          "Samsung",
          "Samsung",
          "Samsung",
          "Samsung",
          "Samsung",
          "Samsung",
          "Samsung",
          "Samsung",
          "Samsung",
          "LG",
          "LG",
          "LG",
          "LG",
          "LG",
          "LG",
          "LG",
          "LG",
          "LG",
          "LG",
          "LG",
          "LG",
          "LG",
          "LG",
          "LG",
          "LG",
          "LG",
          "LG",
          "LG",
          "LG",
          "LG",
          "LG",
          "Motorola",
          "Motorola",
          "Motorola",
          "Motorola",
          "HTC",
          "HTC",
          "HTC",
          "HTC",
          "HTC",
          "HTC",
          "HTC",
          "HTC",
          "HTC",
          "HTC",
          "ZTE",
          "ZTE",
          "ZTE",
          "ZTE",
          "ZTE",
          "ZTE",
          "ZTE",
          "Alcatel",
          "Alcatel",
          "Alcatel",
          "Alcatel",
          "Alcatel",
          "Huawei",
          "Huawei",
          "Kyocera",
          "Kyocera",
          "Kyocera",
          "Coolpad"
         ],
         "y": [
          0,
          0,
          0,
          0,
          0,
          5,
          4,
          5,
          5,
          4,
          5,
          6,
          5,
          5,
          6,
          6,
          0,
          1,
          0,
          2,
          0,
          4,
          1,
          0,
          1,
          2,
          2,
          0,
          1,
          0,
          1,
          1,
          0,
          0,
          0,
          0,
          0,
          0,
          0,
          0,
          0,
          0,
          0,
          3,
          0,
          0,
          0,
          0,
          0,
          0,
          3,
          1,
          0,
          1,
          1,
          1,
          0,
          0,
          0,
          0,
          0,
          0,
          0,
          0,
          0,
          0,
          0,
          1,
          0,
          0,
          0,
          0,
          0,
          0,
          0,
          0,
          0,
          0,
          0,
          0,
          0,
          0,
          0,
          0,
          0,
          0,
          0
         ]
        },
        {
         "name": "7th",
         "type": "box",
         "x": [
          "Samsung",
          "Samsung",
          "Samsung",
          "Samsung",
          "Samsung",
          "Samsung",
          "Samsung",
          "Samsung",
          "Samsung",
          "Samsung",
          "Samsung",
          "Samsung",
          "Samsung",
          "Samsung",
          "Samsung",
          "Samsung",
          "Samsung",
          "Samsung",
          "Samsung",
          "Samsung",
          "Samsung",
          "Samsung",
          "Samsung",
          "Samsung",
          "Samsung",
          "Samsung",
          "Samsung",
          "Samsung",
          "Samsung",
          "Samsung",
          "Samsung",
          "Samsung",
          "LG",
          "LG",
          "LG",
          "LG",
          "LG",
          "LG",
          "LG",
          "LG",
          "LG",
          "LG",
          "LG",
          "LG",
          "LG",
          "LG",
          "LG",
          "LG",
          "Motorola",
          "Motorola",
          "Motorola",
          "HTC",
          "HTC",
          "HTC",
          "HTC",
          "HTC",
          "HTC",
          "HTC",
          "HTC",
          "HTC",
          "HTC",
          "ZTE",
          "ZTE",
          "ZTE",
          "ZTE",
          "ZTE",
          "ZTE",
          "Alcatel",
          "Alcatel",
          "Alcatel",
          "Alcatel",
          "Alcatel",
          "Huawei",
          "Kyocera",
          "Kyocera"
         ],
         "y": [
          0,
          0,
          0,
          0,
          0,
          0,
          0,
          0,
          0,
          0,
          0,
          0,
          0,
          0,
          1,
          1,
          0,
          0,
          0,
          1,
          0,
          0,
          0,
          0,
          0,
          1,
          0,
          0,
          0,
          1,
          0,
          0,
          0,
          0,
          0,
          0,
          0,
          0,
          2,
          0,
          1,
          0,
          0,
          0,
          0,
          0,
          0,
          0,
          0,
          0,
          0,
          0,
          0,
          0,
          0,
          0,
          0,
          0,
          0,
          0,
          0,
          0,
          0,
          0,
          1,
          0,
          0,
          0,
          0,
          0,
          0,
          0,
          0,
          0,
          0
         ]
        },
        {
         "name": "8th",
         "type": "box",
         "x": [
          "Samsung",
          "Samsung",
          "Samsung",
          "Samsung",
          "Samsung",
          "Samsung",
          "Samsung",
          "Samsung",
          "Samsung",
          "Samsung",
          "Samsung",
          "Samsung",
          "Samsung",
          "Samsung",
          "Samsung",
          "Samsung",
          "Samsung",
          "Samsung",
          "Samsung",
          "Samsung",
          "Samsung",
          "Samsung",
          "Samsung",
          "LG",
          "LG",
          "LG",
          "LG",
          "LG",
          "LG",
          "LG",
          "LG",
          "LG",
          "LG",
          "LG",
          "LG",
          "Motorola",
          "Motorola",
          "Motorola",
          "HTC",
          "HTC",
          "HTC",
          "HTC",
          "HTC",
          "HTC",
          "HTC",
          "ZTE",
          "ZTE",
          "ZTE",
          "ZTE",
          "ZTE",
          "Alcatel",
          "Alcatel",
          "Alcatel",
          "Alcatel",
          "Huawei",
          "Kyocera",
          "Kyocera"
         ],
         "y": [
          0,
          0,
          0,
          0,
          0,
          0,
          0,
          0,
          0,
          0,
          0,
          1,
          0,
          0,
          0,
          0,
          2,
          0,
          0,
          1,
          0,
          1,
          1,
          0,
          0,
          0,
          0,
          0,
          0,
          0,
          0,
          0,
          0,
          0,
          0,
          0,
          0,
          0,
          0,
          0,
          0,
          0,
          0,
          0,
          0,
          0,
          0,
          0,
          0,
          0,
          0,
          0,
          0,
          0,
          0,
          0,
          0
         ]
        }
       ],
       "layout": {
        "boxmode": "group",
        "colorway": [
         "rgb(60, 180, 75)",
         "rgb(230, 25, 75)",
         "rgb(0, 130, 200)",
         "rgb(245, 130, 48)",
         "rgb(145, 30, 180)",
         "rgb(240, 50, 230)",
         "rgb(0, 128, 128)",
         "rgb(170, 110, 40)",
         "rgb(0, 130, 200)",
         "rgb(128, 128, 128)",
         "rgb(128, 0, 0)",
         "rgb(170, 255, 195)",
         "rgb(128, 128, 0)",
         "rgb(255, 215, 180)",
         "rgb(0, 0, 128)",
         "rgb(128, 128, 128)",
         "rgb(255, 255, 255)",
         "rgb(230, 25, 75)",
         "rgb(0, 0, 0)",
         "rgb(255, 225, 25)",
         "rgb(255, 250, 200)",
         "rgb(250, 190, 190)"
        ],
        "font": {
         "size": 20
        },
        "legend": {
         "orientation": "h",
         "x": 0.24,
         "y": 1.15
        },
        "plot_bgcolor": "rgba(0,0,0,0)",
        "template": {
         "data": {
          "bar": [
           {
            "error_x": {
             "color": "#2a3f5f"
            },
            "error_y": {
             "color": "#2a3f5f"
            },
            "marker": {
             "line": {
              "color": "#E5ECF6",
              "width": 0.5
             }
            },
            "type": "bar"
           }
          ],
          "barpolar": [
           {
            "marker": {
             "line": {
              "color": "#E5ECF6",
              "width": 0.5
             }
            },
            "type": "barpolar"
           }
          ],
          "carpet": [
           {
            "aaxis": {
             "endlinecolor": "#2a3f5f",
             "gridcolor": "white",
             "linecolor": "white",
             "minorgridcolor": "white",
             "startlinecolor": "#2a3f5f"
            },
            "baxis": {
             "endlinecolor": "#2a3f5f",
             "gridcolor": "white",
             "linecolor": "white",
             "minorgridcolor": "white",
             "startlinecolor": "#2a3f5f"
            },
            "type": "carpet"
           }
          ],
          "choropleth": [
           {
            "colorbar": {
             "outlinewidth": 0,
             "ticks": ""
            },
            "type": "choropleth"
           }
          ],
          "contour": [
           {
            "colorbar": {
             "outlinewidth": 0,
             "ticks": ""
            },
            "colorscale": [
             [
              0,
              "#0d0887"
             ],
             [
              0.1111111111111111,
              "#46039f"
             ],
             [
              0.2222222222222222,
              "#7201a8"
             ],
             [
              0.3333333333333333,
              "#9c179e"
             ],
             [
              0.4444444444444444,
              "#bd3786"
             ],
             [
              0.5555555555555556,
              "#d8576b"
             ],
             [
              0.6666666666666666,
              "#ed7953"
             ],
             [
              0.7777777777777778,
              "#fb9f3a"
             ],
             [
              0.8888888888888888,
              "#fdca26"
             ],
             [
              1,
              "#f0f921"
             ]
            ],
            "type": "contour"
           }
          ],
          "contourcarpet": [
           {
            "colorbar": {
             "outlinewidth": 0,
             "ticks": ""
            },
            "type": "contourcarpet"
           }
          ],
          "heatmap": [
           {
            "colorbar": {
             "outlinewidth": 0,
             "ticks": ""
            },
            "colorscale": [
             [
              0,
              "#0d0887"
             ],
             [
              0.1111111111111111,
              "#46039f"
             ],
             [
              0.2222222222222222,
              "#7201a8"
             ],
             [
              0.3333333333333333,
              "#9c179e"
             ],
             [
              0.4444444444444444,
              "#bd3786"
             ],
             [
              0.5555555555555556,
              "#d8576b"
             ],
             [
              0.6666666666666666,
              "#ed7953"
             ],
             [
              0.7777777777777778,
              "#fb9f3a"
             ],
             [
              0.8888888888888888,
              "#fdca26"
             ],
             [
              1,
              "#f0f921"
             ]
            ],
            "type": "heatmap"
           }
          ],
          "heatmapgl": [
           {
            "colorbar": {
             "outlinewidth": 0,
             "ticks": ""
            },
            "colorscale": [
             [
              0,
              "#0d0887"
             ],
             [
              0.1111111111111111,
              "#46039f"
             ],
             [
              0.2222222222222222,
              "#7201a8"
             ],
             [
              0.3333333333333333,
              "#9c179e"
             ],
             [
              0.4444444444444444,
              "#bd3786"
             ],
             [
              0.5555555555555556,
              "#d8576b"
             ],
             [
              0.6666666666666666,
              "#ed7953"
             ],
             [
              0.7777777777777778,
              "#fb9f3a"
             ],
             [
              0.8888888888888888,
              "#fdca26"
             ],
             [
              1,
              "#f0f921"
             ]
            ],
            "type": "heatmapgl"
           }
          ],
          "histogram": [
           {
            "marker": {
             "colorbar": {
              "outlinewidth": 0,
              "ticks": ""
             }
            },
            "type": "histogram"
           }
          ],
          "histogram2d": [
           {
            "colorbar": {
             "outlinewidth": 0,
             "ticks": ""
            },
            "colorscale": [
             [
              0,
              "#0d0887"
             ],
             [
              0.1111111111111111,
              "#46039f"
             ],
             [
              0.2222222222222222,
              "#7201a8"
             ],
             [
              0.3333333333333333,
              "#9c179e"
             ],
             [
              0.4444444444444444,
              "#bd3786"
             ],
             [
              0.5555555555555556,
              "#d8576b"
             ],
             [
              0.6666666666666666,
              "#ed7953"
             ],
             [
              0.7777777777777778,
              "#fb9f3a"
             ],
             [
              0.8888888888888888,
              "#fdca26"
             ],
             [
              1,
              "#f0f921"
             ]
            ],
            "type": "histogram2d"
           }
          ],
          "histogram2dcontour": [
           {
            "colorbar": {
             "outlinewidth": 0,
             "ticks": ""
            },
            "colorscale": [
             [
              0,
              "#0d0887"
             ],
             [
              0.1111111111111111,
              "#46039f"
             ],
             [
              0.2222222222222222,
              "#7201a8"
             ],
             [
              0.3333333333333333,
              "#9c179e"
             ],
             [
              0.4444444444444444,
              "#bd3786"
             ],
             [
              0.5555555555555556,
              "#d8576b"
             ],
             [
              0.6666666666666666,
              "#ed7953"
             ],
             [
              0.7777777777777778,
              "#fb9f3a"
             ],
             [
              0.8888888888888888,
              "#fdca26"
             ],
             [
              1,
              "#f0f921"
             ]
            ],
            "type": "histogram2dcontour"
           }
          ],
          "mesh3d": [
           {
            "colorbar": {
             "outlinewidth": 0,
             "ticks": ""
            },
            "type": "mesh3d"
           }
          ],
          "parcoords": [
           {
            "line": {
             "colorbar": {
              "outlinewidth": 0,
              "ticks": ""
             }
            },
            "type": "parcoords"
           }
          ],
          "pie": [
           {
            "automargin": true,
            "type": "pie"
           }
          ],
          "scatter": [
           {
            "marker": {
             "colorbar": {
              "outlinewidth": 0,
              "ticks": ""
             }
            },
            "type": "scatter"
           }
          ],
          "scatter3d": [
           {
            "line": {
             "colorbar": {
              "outlinewidth": 0,
              "ticks": ""
             }
            },
            "marker": {
             "colorbar": {
              "outlinewidth": 0,
              "ticks": ""
             }
            },
            "type": "scatter3d"
           }
          ],
          "scattercarpet": [
           {
            "marker": {
             "colorbar": {
              "outlinewidth": 0,
              "ticks": ""
             }
            },
            "type": "scattercarpet"
           }
          ],
          "scattergeo": [
           {
            "marker": {
             "colorbar": {
              "outlinewidth": 0,
              "ticks": ""
             }
            },
            "type": "scattergeo"
           }
          ],
          "scattergl": [
           {
            "marker": {
             "colorbar": {
              "outlinewidth": 0,
              "ticks": ""
             }
            },
            "type": "scattergl"
           }
          ],
          "scattermapbox": [
           {
            "marker": {
             "colorbar": {
              "outlinewidth": 0,
              "ticks": ""
             }
            },
            "type": "scattermapbox"
           }
          ],
          "scatterpolar": [
           {
            "marker": {
             "colorbar": {
              "outlinewidth": 0,
              "ticks": ""
             }
            },
            "type": "scatterpolar"
           }
          ],
          "scatterpolargl": [
           {
            "marker": {
             "colorbar": {
              "outlinewidth": 0,
              "ticks": ""
             }
            },
            "type": "scatterpolargl"
           }
          ],
          "scatterternary": [
           {
            "marker": {
             "colorbar": {
              "outlinewidth": 0,
              "ticks": ""
             }
            },
            "type": "scatterternary"
           }
          ],
          "surface": [
           {
            "colorbar": {
             "outlinewidth": 0,
             "ticks": ""
            },
            "colorscale": [
             [
              0,
              "#0d0887"
             ],
             [
              0.1111111111111111,
              "#46039f"
             ],
             [
              0.2222222222222222,
              "#7201a8"
             ],
             [
              0.3333333333333333,
              "#9c179e"
             ],
             [
              0.4444444444444444,
              "#bd3786"
             ],
             [
              0.5555555555555556,
              "#d8576b"
             ],
             [
              0.6666666666666666,
              "#ed7953"
             ],
             [
              0.7777777777777778,
              "#fb9f3a"
             ],
             [
              0.8888888888888888,
              "#fdca26"
             ],
             [
              1,
              "#f0f921"
             ]
            ],
            "type": "surface"
           }
          ],
          "table": [
           {
            "cells": {
             "fill": {
              "color": "#EBF0F8"
             },
             "line": {
              "color": "white"
             }
            },
            "header": {
             "fill": {
              "color": "#C8D4E3"
             },
             "line": {
              "color": "white"
             }
            },
            "type": "table"
           }
          ]
         },
         "layout": {
          "annotationdefaults": {
           "arrowcolor": "#2a3f5f",
           "arrowhead": 0,
           "arrowwidth": 1
          },
          "coloraxis": {
           "colorbar": {
            "outlinewidth": 0,
            "ticks": ""
           }
          },
          "colorscale": {
           "diverging": [
            [
             0,
             "#8e0152"
            ],
            [
             0.1,
             "#c51b7d"
            ],
            [
             0.2,
             "#de77ae"
            ],
            [
             0.3,
             "#f1b6da"
            ],
            [
             0.4,
             "#fde0ef"
            ],
            [
             0.5,
             "#f7f7f7"
            ],
            [
             0.6,
             "#e6f5d0"
            ],
            [
             0.7,
             "#b8e186"
            ],
            [
             0.8,
             "#7fbc41"
            ],
            [
             0.9,
             "#4d9221"
            ],
            [
             1,
             "#276419"
            ]
           ],
           "sequential": [
            [
             0,
             "#0d0887"
            ],
            [
             0.1111111111111111,
             "#46039f"
            ],
            [
             0.2222222222222222,
             "#7201a8"
            ],
            [
             0.3333333333333333,
             "#9c179e"
            ],
            [
             0.4444444444444444,
             "#bd3786"
            ],
            [
             0.5555555555555556,
             "#d8576b"
            ],
            [
             0.6666666666666666,
             "#ed7953"
            ],
            [
             0.7777777777777778,
             "#fb9f3a"
            ],
            [
             0.8888888888888888,
             "#fdca26"
            ],
            [
             1,
             "#f0f921"
            ]
           ],
           "sequentialminus": [
            [
             0,
             "#0d0887"
            ],
            [
             0.1111111111111111,
             "#46039f"
            ],
            [
             0.2222222222222222,
             "#7201a8"
            ],
            [
             0.3333333333333333,
             "#9c179e"
            ],
            [
             0.4444444444444444,
             "#bd3786"
            ],
            [
             0.5555555555555556,
             "#d8576b"
            ],
            [
             0.6666666666666666,
             "#ed7953"
            ],
            [
             0.7777777777777778,
             "#fb9f3a"
            ],
            [
             0.8888888888888888,
             "#fdca26"
            ],
            [
             1,
             "#f0f921"
            ]
           ]
          },
          "colorway": [
           "#636efa",
           "#EF553B",
           "#00cc96",
           "#ab63fa",
           "#FFA15A",
           "#19d3f3",
           "#FF6692",
           "#B6E880",
           "#FF97FF",
           "#FECB52"
          ],
          "font": {
           "color": "#2a3f5f"
          },
          "geo": {
           "bgcolor": "white",
           "lakecolor": "white",
           "landcolor": "#E5ECF6",
           "showlakes": true,
           "showland": true,
           "subunitcolor": "white"
          },
          "hoverlabel": {
           "align": "left"
          },
          "hovermode": "closest",
          "mapbox": {
           "style": "light"
          },
          "paper_bgcolor": "white",
          "plot_bgcolor": "#E5ECF6",
          "polar": {
           "angularaxis": {
            "gridcolor": "white",
            "linecolor": "white",
            "ticks": ""
           },
           "bgcolor": "#E5ECF6",
           "radialaxis": {
            "gridcolor": "white",
            "linecolor": "white",
            "ticks": ""
           }
          },
          "scene": {
           "xaxis": {
            "backgroundcolor": "#E5ECF6",
            "gridcolor": "white",
            "gridwidth": 2,
            "linecolor": "white",
            "showbackground": true,
            "ticks": "",
            "zerolinecolor": "white"
           },
           "yaxis": {
            "backgroundcolor": "#E5ECF6",
            "gridcolor": "white",
            "gridwidth": 2,
            "linecolor": "white",
            "showbackground": true,
            "ticks": "",
            "zerolinecolor": "white"
           },
           "zaxis": {
            "backgroundcolor": "#E5ECF6",
            "gridcolor": "white",
            "gridwidth": 2,
            "linecolor": "white",
            "showbackground": true,
            "ticks": "",
            "zerolinecolor": "white"
           }
          },
          "shapedefaults": {
           "line": {
            "color": "#2a3f5f"
           }
          },
          "ternary": {
           "aaxis": {
            "gridcolor": "white",
            "linecolor": "white",
            "ticks": ""
           },
           "baxis": {
            "gridcolor": "white",
            "linecolor": "white",
            "ticks": ""
           },
           "bgcolor": "#E5ECF6",
           "caxis": {
            "gridcolor": "white",
            "linecolor": "white",
            "ticks": ""
           }
          },
          "title": {
           "x": 0.05
          },
          "xaxis": {
           "automargin": true,
           "gridcolor": "white",
           "linecolor": "white",
           "ticks": "",
           "title": {
            "standoff": 15
           },
           "zerolinecolor": "white",
           "zerolinewidth": 2
          },
          "yaxis": {
           "automargin": true,
           "gridcolor": "white",
           "linecolor": "white",
           "ticks": "",
           "title": {
            "standoff": 15
           },
           "zerolinecolor": "white",
           "zerolinewidth": 2
          }
         }
        },
        "yaxis": {
         "gridcolor": "rgb(219, 219, 219)",
         "showgrid": true,
         "title": {
          "text": "Number of Updates"
         }
        }
       }
      },
      "text/html": [
       "<div>\n",
       "        \n",
       "        \n",
       "            <div id=\"fee50df3-aa0a-40f6-9e58-f6035b4055b6\" class=\"plotly-graph-div\" style=\"height:525px; width:100%;\"></div>\n",
       "            <script type=\"text/javascript\">\n",
       "                require([\"plotly\"], function(Plotly) {\n",
       "                    window.PLOTLYENV=window.PLOTLYENV || {};\n",
       "                    \n",
       "                if (document.getElementById(\"fee50df3-aa0a-40f6-9e58-f6035b4055b6\")) {\n",
       "                    Plotly.newPlot(\n",
       "                        'fee50df3-aa0a-40f6-9e58-f6035b4055b6',\n",
       "                        [{\"name\": \"1st\", \"type\": \"box\", \"x\": [\"Samsung\", \"Samsung\", \"Samsung\", \"Samsung\", \"Samsung\", \"Samsung\", \"Samsung\", \"Samsung\", \"Samsung\", \"Samsung\", \"Samsung\", \"Samsung\", \"Samsung\", \"Samsung\", \"Samsung\", \"Samsung\", \"Samsung\", \"Samsung\", \"Samsung\", \"Samsung\", \"Samsung\", \"Samsung\", \"Samsung\", \"Samsung\", \"Samsung\", \"Samsung\", \"Samsung\", \"Samsung\", \"Samsung\", \"Samsung\", \"Samsung\", \"Samsung\", \"Samsung\", \"Samsung\", \"Samsung\", \"Samsung\", \"Samsung\", \"Samsung\", \"LG\", \"LG\", \"LG\", \"LG\", \"LG\", \"LG\", \"LG\", \"LG\", \"LG\", \"LG\", \"LG\", \"LG\", \"LG\", \"LG\", \"LG\", \"LG\", \"LG\", \"LG\", \"LG\", \"LG\", \"LG\", \"LG\", \"LG\", \"LG\", \"LG\", \"LG\", \"LG\", \"LG\", \"LG\", \"LG\", \"LG\", \"LG\", \"LG\", \"Motorola\", \"Motorola\", \"Motorola\", \"Motorola\", \"Motorola\", \"Motorola\", \"Motorola\", \"Motorola\", \"Motorola\", \"Motorola\", \"Motorola\", \"Motorola\", \"Motorola\", \"HTC\", \"HTC\", \"HTC\", \"HTC\", \"HTC\", \"HTC\", \"ZTE\", \"ZTE\", \"ZTE\", \"ZTE\", \"ZTE\", \"ZTE\", \"Alcatel\", \"Alcatel\", \"Alcatel\", \"Huawei\", \"Huawei\", \"Huawei\", \"Revvl(T-Mobile)\", \"Revvl(T-Mobile)\", \"Revvl(T-Mobile)\", \"Revvl(T-Mobile)\", \"Google\", \"Google\", \"Kyocera\", \"Kyocera\", \"Kyocera\", \"Coolpad\", \"Coolpad\"], \"y\": [2, 1, 0, 1, 0, 0, 5, 3, 0, 2, 4, 6, 6, 5, 2, 5, 1, 5, 5, 5, 3, 5, 6, 6, 0, 0, 1, 1, 2, 1, 3, 0, 3, 1, 2, 2, 1, 0, 5, 5, 2, 1, 5, 0, 3, 1, 3, 0, 0, 4, 0, 2, 2, 1, 4, 1, 2, 0, 3, 5, 0, 0, 2, 0, 1, 3, 2, 2, 1, 2, 1, 1, 4, 1, 1, 0, 2, 0, 0, 0, 0, 0, 0, 1, 0, 4, 1, 1, 1, 0, 2, 2, 0, 0, 1, 1, 0, 3, 0, 2, 1, 4, 2, 3, 3, 0, 1, 1, 1, 1, 0, 2, 0]}, {\"name\": \"2nd\", \"type\": \"box\", \"x\": [\"Samsung\", \"Samsung\", \"Samsung\", \"Samsung\", \"Samsung\", \"Samsung\", \"Samsung\", \"Samsung\", \"Samsung\", \"Samsung\", \"Samsung\", \"Samsung\", \"Samsung\", \"Samsung\", \"Samsung\", \"Samsung\", \"Samsung\", \"Samsung\", \"Samsung\", \"Samsung\", \"Samsung\", \"Samsung\", \"Samsung\", \"Samsung\", \"Samsung\", \"Samsung\", \"Samsung\", \"Samsung\", \"Samsung\", \"Samsung\", \"Samsung\", \"Samsung\", \"Samsung\", \"Samsung\", \"Samsung\", \"Samsung\", \"LG\", \"LG\", \"LG\", \"LG\", \"LG\", \"LG\", \"LG\", \"LG\", \"LG\", \"LG\", \"LG\", \"LG\", \"LG\", \"LG\", \"LG\", \"LG\", \"LG\", \"LG\", \"LG\", \"LG\", \"LG\", \"LG\", \"LG\", \"LG\", \"LG\", \"LG\", \"LG\", \"LG\", \"LG\", \"LG\", \"LG\", \"LG\", \"LG\", \"LG\", \"LG\", \"Motorola\", \"Motorola\", \"Motorola\", \"Motorola\", \"Motorola\", \"Motorola\", \"Motorola\", \"Motorola\", \"Motorola\", \"Motorola\", \"Motorola\", \"HTC\", \"HTC\", \"HTC\", \"HTC\", \"HTC\", \"HTC\", \"HTC\", \"HTC\", \"ZTE\", \"ZTE\", \"ZTE\", \"ZTE\", \"ZTE\", \"ZTE\", \"ZTE\", \"Alcatel\", \"Alcatel\", \"Alcatel\", \"Alcatel\", \"Huawei\", \"Huawei\", \"Huawei\", \"Revvl(T-Mobile)\", \"Revvl(T-Mobile)\", \"Kyocera\", \"Kyocera\", \"Coolpad\", \"Coolpad\"], \"y\": [2, 2, 0, 2, 1, 0, 3, 2, 0, 2, 5, 6, 6, 3, 3, 0, 1, 3, 4, 5, 6, 5, 5, 5, 1, 0, 2, 2, 1, 4, 1, 1, 1, 2, 3, 1, 0, 4, 3, 3, 6, 1, 0, 0, 4, 0, 0, 1, 3, 4, 1, 2, 6, 2, 4, 2, 0, 3, 4, 1, 1, 0, 3, 0, 4, 3, 3, 3, 3, 2, 2, 0, 2, 2, 0, 1, 2, 0, 0, 1, 1, 1, 0, 1, 2, 1, 0, 1, 1, 1, 0, 2, 1, 1, 1, 1, 1, 1, 0, 1, 0, 1, 0, 3, 0, 1, 1, 1, 0, 1]}, {\"name\": \"3rd\", \"type\": \"box\", \"x\": [\"Samsung\", \"Samsung\", \"Samsung\", \"Samsung\", \"Samsung\", \"Samsung\", \"Samsung\", \"Samsung\", \"Samsung\", \"Samsung\", \"Samsung\", \"Samsung\", \"Samsung\", \"Samsung\", \"Samsung\", \"Samsung\", \"Samsung\", \"Samsung\", \"Samsung\", \"Samsung\", \"Samsung\", \"Samsung\", \"Samsung\", \"Samsung\", \"Samsung\", \"Samsung\", \"Samsung\", \"Samsung\", \"Samsung\", \"Samsung\", \"Samsung\", \"LG\", \"LG\", \"LG\", \"LG\", \"LG\", \"LG\", \"LG\", \"LG\", \"LG\", \"LG\", \"LG\", \"LG\", \"LG\", \"LG\", \"LG\", \"LG\", \"LG\", \"LG\", \"LG\", \"LG\", \"LG\", \"LG\", \"LG\", \"LG\", \"LG\", \"LG\", \"LG\", \"Motorola\", \"Motorola\", \"Motorola\", \"Motorola\", \"Motorola\", \"Motorola\", \"Motorola\", \"HTC\", \"HTC\", \"HTC\", \"HTC\", \"HTC\", \"HTC\", \"HTC\", \"HTC\", \"HTC\", \"ZTE\", \"ZTE\", \"ZTE\", \"ZTE\", \"ZTE\", \"ZTE\", \"ZTE\", \"ZTE\", \"ZTE\", \"Alcatel\", \"Alcatel\", \"Alcatel\", \"Alcatel\", \"Alcatel\", \"Huawei\", \"Huawei\", \"Huawei\", \"Revvl(T-Mobile)\", \"Revvl(T-Mobile)\", \"Kyocera\", \"Kyocera\", \"Coolpad\"], \"y\": [2, 0, 2, 2, 0, 5, 2, 2, 3, 6, 6, 6, 6, 5, 6, 4, 6, 6, 5, 6, 3, 3, 0, 1, 1, 2, 3, 0, 1, 0, 0, 2, 5, 4, 3, 0, 4, 0, 1, 0, 4, 0, 0, 2, 1, 1, 1, 3, 3, 0, 0, 4, 1, 2, 2, 2, 2, 0, 4, 0, 0, 0, 5, 0, 0, 0, 0, 2, 1, 0, 0, 1, 0, 1, 2, 0, 0, 0, 0, 0, 0, 1, 1, 2, 1, 2, 1, 0, 0, 0, 2, 0, 1, 0, 0, 0]}, {\"name\": \"4th\", \"type\": \"box\", \"x\": [\"Samsung\", \"Samsung\", \"Samsung\", \"Samsung\", \"Samsung\", \"Samsung\", \"Samsung\", \"Samsung\", \"Samsung\", \"Samsung\", \"Samsung\", \"Samsung\", \"Samsung\", \"Samsung\", \"Samsung\", \"Samsung\", \"Samsung\", \"Samsung\", \"Samsung\", \"Samsung\", \"Samsung\", \"Samsung\", \"Samsung\", \"Samsung\", \"Samsung\", \"Samsung\", \"Samsung\", \"Samsung\", \"Samsung\", \"Samsung\", \"Samsung\", \"Samsung\", \"Samsung\", \"Samsung\", \"Samsung\", \"LG\", \"LG\", \"LG\", \"LG\", \"LG\", \"LG\", \"LG\", \"LG\", \"LG\", \"LG\", \"LG\", \"LG\", \"LG\", \"LG\", \"LG\", \"LG\", \"LG\", \"LG\", \"LG\", \"LG\", \"LG\", \"LG\", \"LG\", \"LG\", \"LG\", \"LG\", \"LG\", \"LG\", \"Motorola\", \"Motorola\", \"Motorola\", \"Motorola\", \"Motorola\", \"Motorola\", \"Motorola\", \"HTC\", \"HTC\", \"HTC\", \"HTC\", \"HTC\", \"HTC\", \"HTC\", \"HTC\", \"HTC\", \"HTC\", \"HTC\", \"ZTE\", \"ZTE\", \"ZTE\", \"ZTE\", \"ZTE\", \"ZTE\", \"ZTE\", \"ZTE\", \"ZTE\", \"Alcatel\", \"Alcatel\", \"Alcatel\", \"Alcatel\", \"Alcatel\", \"Alcatel\", \"Huawei\", \"Huawei\", \"Huawei\", \"Revvl(T-Mobile)\", \"Kyocera\", \"Kyocera\", \"Kyocera\", \"Coolpad\"], \"y\": [1, 0, 0, 2, 0, 2, 2, 6, 6, 6, 4, 4, 0, 6, 5, 5, 6, 4, 5, 6, 4, 6, 0, 1, 1, 2, 0, 5, 0, 1, 1, 2, 0, 1, 0, 2, 5, 2, 4, 0, 4, 1, 0, 0, 3, 1, 0, 0, 2, 0, 1, 2, 1, 0, 0, 2, 2, 3, 2, 1, 1, 1, 2, 2, 0, 0, 1, 0, 1, 0, 0, 0, 3, 1, 0, 0, 0, 1, 2, 0, 0, 2, 0, 1, 0, 1, 0, 1, 0, 1, 0, 0, 0, 1, 1, 0, 0, 0, 0, 1, 1, 1, 0, 0]}, {\"name\": \"5th\", \"type\": \"box\", \"x\": [\"Samsung\", \"Samsung\", \"Samsung\", \"Samsung\", \"Samsung\", \"Samsung\", \"Samsung\", \"Samsung\", \"Samsung\", \"Samsung\", \"Samsung\", \"Samsung\", \"Samsung\", \"Samsung\", \"Samsung\", \"Samsung\", \"Samsung\", \"Samsung\", \"Samsung\", \"Samsung\", \"Samsung\", \"Samsung\", \"Samsung\", \"Samsung\", \"Samsung\", \"Samsung\", \"Samsung\", \"Samsung\", \"Samsung\", \"Samsung\", \"Samsung\", \"Samsung\", \"Samsung\", \"Samsung\", \"Samsung\", \"Samsung\", \"LG\", \"LG\", \"LG\", \"LG\", \"LG\", \"LG\", \"LG\", \"LG\", \"LG\", \"LG\", \"LG\", \"LG\", \"LG\", \"LG\", \"LG\", \"LG\", \"LG\", \"LG\", \"LG\", \"LG\", \"LG\", \"LG\", \"LG\", \"LG\", \"Motorola\", \"Motorola\", \"Motorola\", \"Motorola\", \"HTC\", \"HTC\", \"HTC\", \"HTC\", \"HTC\", \"HTC\", \"HTC\", \"HTC\", \"HTC\", \"HTC\", \"ZTE\", \"ZTE\", \"ZTE\", \"ZTE\", \"ZTE\", \"ZTE\", \"ZTE\", \"ZTE\", \"Alcatel\", \"Alcatel\", \"Alcatel\", \"Alcatel\", \"Alcatel\", \"Huawei\", \"Huawei\", \"Kyocera\", \"Kyocera\", \"Kyocera\", \"Coolpad\"], \"y\": [0, 1, 0, 0, 1, 2, 6, 6, 5, 6, 4, 5, 5, 4, 5, 3, 3, 3, 3, 0, 3, 0, 0, 2, 0, 2, 2, 0, 1, 1, 0, 3, 0, 1, 0, 1, 2, 1, 3, 0, 1, 0, 0, 2, 1, 0, 0, 5, 0, 0, 0, 0, 0, 0, 2, 0, 0, 2, 0, 0, 2, 0, 0, 0, 0, 0, 0, 0, 1, 0, 0, 3, 0, 0, 2, 0, 0, 0, 0, 1, 0, 1, 0, 0, 1, 0, 0, 0, 0, 0, 0, 0, 0]}, {\"name\": \"6th\", \"type\": \"box\", \"x\": [\"Samsung\", \"Samsung\", \"Samsung\", \"Samsung\", \"Samsung\", \"Samsung\", \"Samsung\", \"Samsung\", \"Samsung\", \"Samsung\", \"Samsung\", \"Samsung\", \"Samsung\", \"Samsung\", \"Samsung\", \"Samsung\", \"Samsung\", \"Samsung\", \"Samsung\", \"Samsung\", \"Samsung\", \"Samsung\", \"Samsung\", \"Samsung\", \"Samsung\", \"Samsung\", \"Samsung\", \"Samsung\", \"Samsung\", \"Samsung\", \"Samsung\", \"Samsung\", \"Samsung\", \"LG\", \"LG\", \"LG\", \"LG\", \"LG\", \"LG\", \"LG\", \"LG\", \"LG\", \"LG\", \"LG\", \"LG\", \"LG\", \"LG\", \"LG\", \"LG\", \"LG\", \"LG\", \"LG\", \"LG\", \"LG\", \"LG\", \"Motorola\", \"Motorola\", \"Motorola\", \"Motorola\", \"HTC\", \"HTC\", \"HTC\", \"HTC\", \"HTC\", \"HTC\", \"HTC\", \"HTC\", \"HTC\", \"HTC\", \"ZTE\", \"ZTE\", \"ZTE\", \"ZTE\", \"ZTE\", \"ZTE\", \"ZTE\", \"Alcatel\", \"Alcatel\", \"Alcatel\", \"Alcatel\", \"Alcatel\", \"Huawei\", \"Huawei\", \"Kyocera\", \"Kyocera\", \"Kyocera\", \"Coolpad\"], \"y\": [0, 0, 0, 0, 0, 5, 4, 5, 5, 4, 5, 6, 5, 5, 6, 6, 0, 1, 0, 2, 0, 4, 1, 0, 1, 2, 2, 0, 1, 0, 1, 1, 0, 0, 0, 0, 0, 0, 0, 0, 0, 0, 0, 3, 0, 0, 0, 0, 0, 0, 3, 1, 0, 1, 1, 1, 0, 0, 0, 0, 0, 0, 0, 0, 0, 0, 0, 1, 0, 0, 0, 0, 0, 0, 0, 0, 0, 0, 0, 0, 0, 0, 0, 0, 0, 0, 0]}, {\"name\": \"7th\", \"type\": \"box\", \"x\": [\"Samsung\", \"Samsung\", \"Samsung\", \"Samsung\", \"Samsung\", \"Samsung\", \"Samsung\", \"Samsung\", \"Samsung\", \"Samsung\", \"Samsung\", \"Samsung\", \"Samsung\", \"Samsung\", \"Samsung\", \"Samsung\", \"Samsung\", \"Samsung\", \"Samsung\", \"Samsung\", \"Samsung\", \"Samsung\", \"Samsung\", \"Samsung\", \"Samsung\", \"Samsung\", \"Samsung\", \"Samsung\", \"Samsung\", \"Samsung\", \"Samsung\", \"Samsung\", \"LG\", \"LG\", \"LG\", \"LG\", \"LG\", \"LG\", \"LG\", \"LG\", \"LG\", \"LG\", \"LG\", \"LG\", \"LG\", \"LG\", \"LG\", \"LG\", \"Motorola\", \"Motorola\", \"Motorola\", \"HTC\", \"HTC\", \"HTC\", \"HTC\", \"HTC\", \"HTC\", \"HTC\", \"HTC\", \"HTC\", \"HTC\", \"ZTE\", \"ZTE\", \"ZTE\", \"ZTE\", \"ZTE\", \"ZTE\", \"Alcatel\", \"Alcatel\", \"Alcatel\", \"Alcatel\", \"Alcatel\", \"Huawei\", \"Kyocera\", \"Kyocera\"], \"y\": [0, 0, 0, 0, 0, 0, 0, 0, 0, 0, 0, 0, 0, 0, 1, 1, 0, 0, 0, 1, 0, 0, 0, 0, 0, 1, 0, 0, 0, 1, 0, 0, 0, 0, 0, 0, 0, 0, 2, 0, 1, 0, 0, 0, 0, 0, 0, 0, 0, 0, 0, 0, 0, 0, 0, 0, 0, 0, 0, 0, 0, 0, 0, 0, 1, 0, 0, 0, 0, 0, 0, 0, 0, 0, 0]}, {\"name\": \"8th\", \"type\": \"box\", \"x\": [\"Samsung\", \"Samsung\", \"Samsung\", \"Samsung\", \"Samsung\", \"Samsung\", \"Samsung\", \"Samsung\", \"Samsung\", \"Samsung\", \"Samsung\", \"Samsung\", \"Samsung\", \"Samsung\", \"Samsung\", \"Samsung\", \"Samsung\", \"Samsung\", \"Samsung\", \"Samsung\", \"Samsung\", \"Samsung\", \"Samsung\", \"LG\", \"LG\", \"LG\", \"LG\", \"LG\", \"LG\", \"LG\", \"LG\", \"LG\", \"LG\", \"LG\", \"LG\", \"Motorola\", \"Motorola\", \"Motorola\", \"HTC\", \"HTC\", \"HTC\", \"HTC\", \"HTC\", \"HTC\", \"HTC\", \"ZTE\", \"ZTE\", \"ZTE\", \"ZTE\", \"ZTE\", \"Alcatel\", \"Alcatel\", \"Alcatel\", \"Alcatel\", \"Huawei\", \"Kyocera\", \"Kyocera\"], \"y\": [0, 0, 0, 0, 0, 0, 0, 0, 0, 0, 0, 1, 0, 0, 0, 0, 2, 0, 0, 1, 0, 1, 1, 0, 0, 0, 0, 0, 0, 0, 0, 0, 0, 0, 0, 0, 0, 0, 0, 0, 0, 0, 0, 0, 0, 0, 0, 0, 0, 0, 0, 0, 0, 0, 0, 0, 0]}],\n",
       "                        {\"boxmode\": \"group\", \"colorway\": [\"rgb(60, 180, 75)\", \"rgb(230, 25, 75)\", \"rgb(0, 130, 200)\", \"rgb(245, 130, 48)\", \"rgb(145, 30, 180)\", \"rgb(240, 50, 230)\", \"rgb(0, 128, 128)\", \"rgb(170, 110, 40)\", \"rgb(0, 130, 200)\", \"rgb(128, 128, 128)\", \"rgb(128, 0, 0)\", \"rgb(170, 255, 195)\", \"rgb(128, 128, 0)\", \"rgb(255, 215, 180)\", \"rgb(0, 0, 128)\", \"rgb(128, 128, 128)\", \"rgb(255, 255, 255)\", \"rgb(230, 25, 75)\", \"rgb(0, 0, 0)\", \"rgb(255, 225, 25)\", \"rgb(255, 250, 200)\", \"rgb(250, 190, 190)\"], \"font\": {\"size\": 20}, \"legend\": {\"orientation\": \"h\", \"x\": 0.24, \"y\": 1.15}, \"plot_bgcolor\": \"rgba(0,0,0,0)\", \"template\": {\"data\": {\"bar\": [{\"error_x\": {\"color\": \"#2a3f5f\"}, \"error_y\": {\"color\": \"#2a3f5f\"}, \"marker\": {\"line\": {\"color\": \"#E5ECF6\", \"width\": 0.5}}, \"type\": \"bar\"}], \"barpolar\": [{\"marker\": {\"line\": {\"color\": \"#E5ECF6\", \"width\": 0.5}}, \"type\": \"barpolar\"}], \"carpet\": [{\"aaxis\": {\"endlinecolor\": \"#2a3f5f\", \"gridcolor\": \"white\", \"linecolor\": \"white\", \"minorgridcolor\": \"white\", \"startlinecolor\": \"#2a3f5f\"}, \"baxis\": {\"endlinecolor\": \"#2a3f5f\", \"gridcolor\": \"white\", \"linecolor\": \"white\", \"minorgridcolor\": \"white\", \"startlinecolor\": \"#2a3f5f\"}, \"type\": \"carpet\"}], \"choropleth\": [{\"colorbar\": {\"outlinewidth\": 0, \"ticks\": \"\"}, \"type\": \"choropleth\"}], \"contour\": [{\"colorbar\": {\"outlinewidth\": 0, \"ticks\": \"\"}, \"colorscale\": [[0.0, \"#0d0887\"], [0.1111111111111111, \"#46039f\"], [0.2222222222222222, \"#7201a8\"], [0.3333333333333333, \"#9c179e\"], [0.4444444444444444, \"#bd3786\"], [0.5555555555555556, \"#d8576b\"], [0.6666666666666666, \"#ed7953\"], [0.7777777777777778, \"#fb9f3a\"], [0.8888888888888888, \"#fdca26\"], [1.0, \"#f0f921\"]], \"type\": \"contour\"}], \"contourcarpet\": [{\"colorbar\": {\"outlinewidth\": 0, \"ticks\": \"\"}, \"type\": \"contourcarpet\"}], \"heatmap\": [{\"colorbar\": {\"outlinewidth\": 0, \"ticks\": \"\"}, \"colorscale\": [[0.0, \"#0d0887\"], [0.1111111111111111, \"#46039f\"], [0.2222222222222222, \"#7201a8\"], [0.3333333333333333, \"#9c179e\"], [0.4444444444444444, \"#bd3786\"], [0.5555555555555556, \"#d8576b\"], [0.6666666666666666, \"#ed7953\"], [0.7777777777777778, \"#fb9f3a\"], [0.8888888888888888, \"#fdca26\"], [1.0, \"#f0f921\"]], \"type\": \"heatmap\"}], \"heatmapgl\": [{\"colorbar\": {\"outlinewidth\": 0, \"ticks\": \"\"}, \"colorscale\": [[0.0, \"#0d0887\"], [0.1111111111111111, \"#46039f\"], [0.2222222222222222, \"#7201a8\"], [0.3333333333333333, \"#9c179e\"], [0.4444444444444444, \"#bd3786\"], [0.5555555555555556, \"#d8576b\"], [0.6666666666666666, \"#ed7953\"], [0.7777777777777778, \"#fb9f3a\"], [0.8888888888888888, \"#fdca26\"], [1.0, \"#f0f921\"]], \"type\": \"heatmapgl\"}], \"histogram\": [{\"marker\": {\"colorbar\": {\"outlinewidth\": 0, \"ticks\": \"\"}}, \"type\": \"histogram\"}], \"histogram2d\": [{\"colorbar\": {\"outlinewidth\": 0, \"ticks\": \"\"}, \"colorscale\": [[0.0, \"#0d0887\"], [0.1111111111111111, \"#46039f\"], [0.2222222222222222, \"#7201a8\"], [0.3333333333333333, \"#9c179e\"], [0.4444444444444444, \"#bd3786\"], [0.5555555555555556, \"#d8576b\"], [0.6666666666666666, \"#ed7953\"], [0.7777777777777778, \"#fb9f3a\"], [0.8888888888888888, \"#fdca26\"], [1.0, \"#f0f921\"]], \"type\": \"histogram2d\"}], \"histogram2dcontour\": [{\"colorbar\": {\"outlinewidth\": 0, \"ticks\": \"\"}, \"colorscale\": [[0.0, \"#0d0887\"], [0.1111111111111111, \"#46039f\"], [0.2222222222222222, \"#7201a8\"], [0.3333333333333333, \"#9c179e\"], [0.4444444444444444, \"#bd3786\"], [0.5555555555555556, \"#d8576b\"], [0.6666666666666666, \"#ed7953\"], [0.7777777777777778, \"#fb9f3a\"], [0.8888888888888888, \"#fdca26\"], [1.0, \"#f0f921\"]], \"type\": \"histogram2dcontour\"}], \"mesh3d\": [{\"colorbar\": {\"outlinewidth\": 0, \"ticks\": \"\"}, \"type\": \"mesh3d\"}], \"parcoords\": [{\"line\": {\"colorbar\": {\"outlinewidth\": 0, \"ticks\": \"\"}}, \"type\": \"parcoords\"}], \"pie\": [{\"automargin\": true, \"type\": \"pie\"}], \"scatter\": [{\"marker\": {\"colorbar\": {\"outlinewidth\": 0, \"ticks\": \"\"}}, \"type\": \"scatter\"}], \"scatter3d\": [{\"line\": {\"colorbar\": {\"outlinewidth\": 0, \"ticks\": \"\"}}, \"marker\": {\"colorbar\": {\"outlinewidth\": 0, \"ticks\": \"\"}}, \"type\": \"scatter3d\"}], \"scattercarpet\": [{\"marker\": {\"colorbar\": {\"outlinewidth\": 0, \"ticks\": \"\"}}, \"type\": \"scattercarpet\"}], \"scattergeo\": [{\"marker\": {\"colorbar\": {\"outlinewidth\": 0, \"ticks\": \"\"}}, \"type\": \"scattergeo\"}], \"scattergl\": [{\"marker\": {\"colorbar\": {\"outlinewidth\": 0, \"ticks\": \"\"}}, \"type\": \"scattergl\"}], \"scattermapbox\": [{\"marker\": {\"colorbar\": {\"outlinewidth\": 0, \"ticks\": \"\"}}, \"type\": \"scattermapbox\"}], \"scatterpolar\": [{\"marker\": {\"colorbar\": {\"outlinewidth\": 0, \"ticks\": \"\"}}, \"type\": \"scatterpolar\"}], \"scatterpolargl\": [{\"marker\": {\"colorbar\": {\"outlinewidth\": 0, \"ticks\": \"\"}}, \"type\": \"scatterpolargl\"}], \"scatterternary\": [{\"marker\": {\"colorbar\": {\"outlinewidth\": 0, \"ticks\": \"\"}}, \"type\": \"scatterternary\"}], \"surface\": [{\"colorbar\": {\"outlinewidth\": 0, \"ticks\": \"\"}, \"colorscale\": [[0.0, \"#0d0887\"], [0.1111111111111111, \"#46039f\"], [0.2222222222222222, \"#7201a8\"], [0.3333333333333333, \"#9c179e\"], [0.4444444444444444, \"#bd3786\"], [0.5555555555555556, \"#d8576b\"], [0.6666666666666666, \"#ed7953\"], [0.7777777777777778, \"#fb9f3a\"], [0.8888888888888888, \"#fdca26\"], [1.0, \"#f0f921\"]], \"type\": \"surface\"}], \"table\": [{\"cells\": {\"fill\": {\"color\": \"#EBF0F8\"}, \"line\": {\"color\": \"white\"}}, \"header\": {\"fill\": {\"color\": \"#C8D4E3\"}, \"line\": {\"color\": \"white\"}}, \"type\": \"table\"}]}, \"layout\": {\"annotationdefaults\": {\"arrowcolor\": \"#2a3f5f\", \"arrowhead\": 0, \"arrowwidth\": 1}, \"coloraxis\": {\"colorbar\": {\"outlinewidth\": 0, \"ticks\": \"\"}}, \"colorscale\": {\"diverging\": [[0, \"#8e0152\"], [0.1, \"#c51b7d\"], [0.2, \"#de77ae\"], [0.3, \"#f1b6da\"], [0.4, \"#fde0ef\"], [0.5, \"#f7f7f7\"], [0.6, \"#e6f5d0\"], [0.7, \"#b8e186\"], [0.8, \"#7fbc41\"], [0.9, \"#4d9221\"], [1, \"#276419\"]], \"sequential\": [[0.0, \"#0d0887\"], [0.1111111111111111, \"#46039f\"], [0.2222222222222222, \"#7201a8\"], [0.3333333333333333, \"#9c179e\"], [0.4444444444444444, \"#bd3786\"], [0.5555555555555556, \"#d8576b\"], [0.6666666666666666, \"#ed7953\"], [0.7777777777777778, \"#fb9f3a\"], [0.8888888888888888, \"#fdca26\"], [1.0, \"#f0f921\"]], \"sequentialminus\": [[0.0, \"#0d0887\"], [0.1111111111111111, \"#46039f\"], [0.2222222222222222, \"#7201a8\"], [0.3333333333333333, \"#9c179e\"], [0.4444444444444444, \"#bd3786\"], [0.5555555555555556, \"#d8576b\"], [0.6666666666666666, \"#ed7953\"], [0.7777777777777778, \"#fb9f3a\"], [0.8888888888888888, \"#fdca26\"], [1.0, \"#f0f921\"]]}, \"colorway\": [\"#636efa\", \"#EF553B\", \"#00cc96\", \"#ab63fa\", \"#FFA15A\", \"#19d3f3\", \"#FF6692\", \"#B6E880\", \"#FF97FF\", \"#FECB52\"], \"font\": {\"color\": \"#2a3f5f\"}, \"geo\": {\"bgcolor\": \"white\", \"lakecolor\": \"white\", \"landcolor\": \"#E5ECF6\", \"showlakes\": true, \"showland\": true, \"subunitcolor\": \"white\"}, \"hoverlabel\": {\"align\": \"left\"}, \"hovermode\": \"closest\", \"mapbox\": {\"style\": \"light\"}, \"paper_bgcolor\": \"white\", \"plot_bgcolor\": \"#E5ECF6\", \"polar\": {\"angularaxis\": {\"gridcolor\": \"white\", \"linecolor\": \"white\", \"ticks\": \"\"}, \"bgcolor\": \"#E5ECF6\", \"radialaxis\": {\"gridcolor\": \"white\", \"linecolor\": \"white\", \"ticks\": \"\"}}, \"scene\": {\"xaxis\": {\"backgroundcolor\": \"#E5ECF6\", \"gridcolor\": \"white\", \"gridwidth\": 2, \"linecolor\": \"white\", \"showbackground\": true, \"ticks\": \"\", \"zerolinecolor\": \"white\"}, \"yaxis\": {\"backgroundcolor\": \"#E5ECF6\", \"gridcolor\": \"white\", \"gridwidth\": 2, \"linecolor\": \"white\", \"showbackground\": true, \"ticks\": \"\", \"zerolinecolor\": \"white\"}, \"zaxis\": {\"backgroundcolor\": \"#E5ECF6\", \"gridcolor\": \"white\", \"gridwidth\": 2, \"linecolor\": \"white\", \"showbackground\": true, \"ticks\": \"\", \"zerolinecolor\": \"white\"}}, \"shapedefaults\": {\"line\": {\"color\": \"#2a3f5f\"}}, \"ternary\": {\"aaxis\": {\"gridcolor\": \"white\", \"linecolor\": \"white\", \"ticks\": \"\"}, \"baxis\": {\"gridcolor\": \"white\", \"linecolor\": \"white\", \"ticks\": \"\"}, \"bgcolor\": \"#E5ECF6\", \"caxis\": {\"gridcolor\": \"white\", \"linecolor\": \"white\", \"ticks\": \"\"}}, \"title\": {\"x\": 0.05}, \"xaxis\": {\"automargin\": true, \"gridcolor\": \"white\", \"linecolor\": \"white\", \"ticks\": \"\", \"title\": {\"standoff\": 15}, \"zerolinecolor\": \"white\", \"zerolinewidth\": 2}, \"yaxis\": {\"automargin\": true, \"gridcolor\": \"white\", \"linecolor\": \"white\", \"ticks\": \"\", \"title\": {\"standoff\": 15}, \"zerolinecolor\": \"white\", \"zerolinewidth\": 2}}}, \"yaxis\": {\"gridcolor\": \"rgb(219, 219, 219)\", \"showgrid\": true, \"title\": {\"text\": \"Number of Updates\"}}},\n",
       "                        {\"responsive\": true}\n",
       "                    ).then(function(){\n",
       "                            \n",
       "var gd = document.getElementById('fee50df3-aa0a-40f6-9e58-f6035b4055b6');\n",
       "var x = new MutationObserver(function (mutations, observer) {{\n",
       "        var display = window.getComputedStyle(gd).display;\n",
       "        if (!display || display === 'none') {{\n",
       "            console.log([gd, 'removed!']);\n",
       "            Plotly.purge(gd);\n",
       "            observer.disconnect();\n",
       "        }}\n",
       "}});\n",
       "\n",
       "// Listen for the removal of the full notebook cells\n",
       "var notebookContainer = gd.closest('#notebook-container');\n",
       "if (notebookContainer) {{\n",
       "    x.observe(notebookContainer, {childList: true});\n",
       "}}\n",
       "\n",
       "// Listen for the clearing of the current output cell\n",
       "var outputEl = gd.closest('.output');\n",
       "if (outputEl) {{\n",
       "    x.observe(outputEl, {childList: true});\n",
       "}}\n",
       "\n",
       "                        })\n",
       "                };\n",
       "                });\n",
       "            </script>\n",
       "        </div>"
      ]
     },
     "metadata": {},
     "output_type": "display_data"
    }
   ],
   "source": [
    "data=[]\n",
    "total_updates={}\n",
    "total_years={}\n",
    "total_updates_wZeroes={}\n",
    "total_man_wZeroes={}\n",
    "\n",
    "\n",
    "normedMan=[]\n",
    "for man in carrierDF.Manufacture.unique():\n",
    "    temp=carrierDF[carrierDF.Manufacture==man]\n",
    "    if len(temp.Model.unique())>2: # only include manfuactures with 3 or more phone models\n",
    "        normedMan.append(man)\n",
    "importantMan=list(set(normedMan)) # get a list of important manufacturers\n",
    "    \n",
    "# sort important manufactures based on number of updates\n",
    "manLengths=[]\n",
    "for man in importantMan:\n",
    "    manLengths.append(len(carrierDF[carrierDF.Manufacture==man]))\n",
    "importantMan = [x for _,x in sorted(zip(manLengths,importantMan),reverse=True)]\n",
    "   \n",
    "\n",
    "for yr in range(int(12/howManyMonths)*4):# for each year range,\n",
    "    properList_update_wZeroes=[]\n",
    "    properList_manu_wZeroes=[]\n",
    "    for man in importantMan:# for each manufacturer\n",
    "        properList_update_wZeroes.extend(freqPointsManAllDevices[man][yr])\n",
    "        properList_manu_wZeroes.extend([man for _ in range(len(freqPointsManAllDevices[man][yr]))]) # +\" period\"   \n",
    "    total_updates_wZeroes[yr]=properList_update_wZeroes.copy()\n",
    "    total_man_wZeroes[yr]=properList_manu_wZeroes.copy()\n",
    "    \n",
    "for yr in range(int(12/howManyMonths)*4): # per each year\n",
    "    formatGood=\"th\"\n",
    "    if yr==0:\n",
    "        formatGood=\"st\"\n",
    "    elif yr==1:\n",
    "        formatGood=\"nd\"\n",
    "    elif yr==2:\n",
    "        formatGood=\"rd\"\n",
    "        \n",
    "    data.append(go.Box(\n",
    "            x=total_man_wZeroes[yr], # needs to be each manufacturer\n",
    "            y=total_updates_wZeroes[yr],\n",
    "            name=str(yr+1)+formatGood,\n",
    "            #marker=dict(color='rgb'+str(lvlColor[man]))\n",
    "        ))\n",
    "    \n",
    "# Edit the layout\n",
    "colorway=['rgb(60, 180, 75)', 'rgb(230, 25, 75)', 'rgb(0, 130, 200)', 'rgb(245, 130, 48)', 'rgb(145, 30, 180)', 'rgb(240, 50, 230)', 'rgb(0, 128, 128)', 'rgb(170, 110, 40)', 'rgb(0, 130, 200)', 'rgb(128, 128, 128)','rgb(128, 0, 0)', 'rgb(170, 255, 195)', 'rgb(128, 128, 0)', 'rgb(255, 215, 180)', 'rgb(0, 0, 128)', 'rgb(128, 128, 128)', 'rgb(255, 255, 255)','rgb(230, 25, 75)',  'rgb(0, 0, 0)','rgb(255, 225, 25)',  'rgb(255, 250, 200)', 'rgb(250, 190, 190)']\n",
    "layout = dict(#title = \"Number of True Updates per 6 Month Period after Release per Manufacture \",\n",
    "              yaxis = dict(title = 'Number of Updates',showgrid=True, gridcolor='rgb(219, 219, 219)'),\n",
    "              #xaxis = dict(title = '6 Month Period',showgrid=True,zeroline=True,showline=True,zerolinecolor='#969696'),\n",
    "              plot_bgcolor='rgba(0,0,0,0)',\n",
    "              boxmode='group',\n",
    "              colorway=colorway,\n",
    "              legend_orientation=\"h\",\n",
    "              legend=dict(x=0.24, y=1.15), # for pt .33\n",
    "              font=dict(size=20)\n",
    "              )\n",
    "\n",
    "fig = dict(data=data, layout=layout)\n",
    "py.offline.iplot(fig, filename='release-years-frequency-per-carrier.png')\n",
    "\n",
    "\n",
    "if not \"Verizon\" in carrierDF.Carrier.values and saveFigs==True: # only save if no Verizon\n",
    "    pio.write_image(fig, 'manufacture-freq.pdf', width=1100, height=600)"
   ]
  },
  {
   "cell_type": "code",
   "execution_count": 11,
   "metadata": {
    "scrolled": false
   },
   "outputs": [
    {
     "name": "stdout",
     "output_type": "stream",
     "text": [
      "21\n"
     ]
    },
    {
     "data": {
      "application/vnd.plotly.v1+json": {
       "config": {
        "linkText": "Export to plot.ly",
        "plotlyServerURL": "https://plot.ly",
        "showLink": false
       },
       "data": [
        {
         "name": "1st",
         "type": "box",
         "x": [
          "Samsung",
          "Samsung",
          "Samsung",
          "Samsung",
          "Samsung",
          "Samsung",
          "Samsung",
          "Samsung",
          "Samsung",
          "Samsung",
          "Samsung",
          "Samsung",
          "Samsung",
          "Samsung",
          "Samsung",
          "Samsung",
          "Samsung",
          "Samsung",
          "Samsung",
          "Samsung",
          "Samsung",
          "Samsung",
          "Samsung",
          "Samsung",
          "Samsung",
          "Samsung",
          "Samsung",
          "Samsung",
          "Samsung",
          "Samsung",
          "Samsung",
          "Samsung",
          "Samsung",
          "Samsung",
          "Samsung",
          "Samsung",
          "Samsung",
          "Samsung",
          "LG",
          "LG",
          "LG",
          "LG",
          "LG",
          "LG",
          "LG",
          "LG",
          "LG",
          "LG",
          "LG",
          "LG",
          "LG",
          "LG",
          "LG",
          "LG",
          "LG",
          "LG",
          "LG",
          "LG",
          "LG",
          "LG",
          "LG",
          "LG",
          "LG",
          "LG",
          "LG",
          "LG",
          "LG",
          "LG",
          "LG",
          "LG",
          "LG",
          "Motorola",
          "Motorola",
          "Motorola",
          "Motorola",
          "Motorola",
          "Motorola",
          "Motorola",
          "Motorola",
          "Motorola",
          "Motorola",
          "Motorola",
          "Motorola",
          "Motorola",
          "HTC",
          "HTC",
          "HTC",
          "HTC",
          "HTC",
          "HTC",
          "ZTE",
          "ZTE",
          "ZTE",
          "ZTE",
          "ZTE",
          "ZTE",
          "BlackBerry",
          "Alcatel",
          "Alcatel",
          "Alcatel",
          "Huawei",
          "Huawei",
          "Huawei",
          "Revvl(T-Mobile)",
          "Revvl(T-Mobile)",
          "Revvl(T-Mobile)",
          "Revvl(T-Mobile)",
          "Google",
          "Google",
          "Kyocera",
          "Kyocera",
          "Kyocera",
          "Essential",
          "OnePlus",
          "Coolpad",
          "Coolpad",
          "Sonim",
          "RED",
          "CAT",
          "Razer"
         ],
         "y": [
          2,
          1,
          0,
          1,
          0,
          0,
          5,
          3,
          0,
          2,
          4,
          6,
          6,
          5,
          2,
          5,
          1,
          5,
          5,
          5,
          3,
          5,
          6,
          6,
          0,
          0,
          1,
          1,
          2,
          1,
          3,
          0,
          3,
          1,
          2,
          2,
          1,
          0,
          5,
          5,
          2,
          1,
          5,
          0,
          3,
          1,
          3,
          0,
          0,
          4,
          0,
          2,
          2,
          1,
          4,
          1,
          2,
          0,
          3,
          5,
          0,
          0,
          2,
          0,
          1,
          3,
          2,
          2,
          1,
          2,
          1,
          1,
          4,
          1,
          1,
          0,
          2,
          0,
          0,
          0,
          0,
          0,
          0,
          1,
          0,
          4,
          1,
          1,
          1,
          0,
          2,
          2,
          0,
          0,
          1,
          1,
          2,
          0,
          3,
          0,
          2,
          1,
          4,
          2,
          3,
          3,
          0,
          1,
          1,
          1,
          1,
          0,
          0,
          3,
          2,
          0,
          0,
          0,
          2,
          1
         ]
        },
        {
         "name": "2nd",
         "type": "box",
         "x": [
          "Samsung",
          "Samsung",
          "Samsung",
          "Samsung",
          "Samsung",
          "Samsung",
          "Samsung",
          "Samsung",
          "Samsung",
          "Samsung",
          "Samsung",
          "Samsung",
          "Samsung",
          "Samsung",
          "Samsung",
          "Samsung",
          "Samsung",
          "Samsung",
          "Samsung",
          "Samsung",
          "Samsung",
          "Samsung",
          "Samsung",
          "Samsung",
          "Samsung",
          "Samsung",
          "Samsung",
          "Samsung",
          "Samsung",
          "Samsung",
          "Samsung",
          "Samsung",
          "Samsung",
          "Samsung",
          "Samsung",
          "Samsung",
          "LG",
          "LG",
          "LG",
          "LG",
          "LG",
          "LG",
          "LG",
          "LG",
          "LG",
          "LG",
          "LG",
          "LG",
          "LG",
          "LG",
          "LG",
          "LG",
          "LG",
          "LG",
          "LG",
          "LG",
          "LG",
          "LG",
          "LG",
          "LG",
          "LG",
          "LG",
          "LG",
          "LG",
          "LG",
          "LG",
          "LG",
          "LG",
          "LG",
          "LG",
          "LG",
          "Motorola",
          "Motorola",
          "Motorola",
          "Motorola",
          "Motorola",
          "Motorola",
          "Motorola",
          "Motorola",
          "Motorola",
          "Motorola",
          "Motorola",
          "HTC",
          "HTC",
          "HTC",
          "HTC",
          "HTC",
          "HTC",
          "HTC",
          "HTC",
          "ZTE",
          "ZTE",
          "ZTE",
          "ZTE",
          "ZTE",
          "ZTE",
          "ZTE",
          "BlackBerry",
          "Alcatel",
          "Alcatel",
          "Alcatel",
          "Alcatel",
          "Huawei",
          "Huawei",
          "Huawei",
          "Revvl(T-Mobile)",
          "Revvl(T-Mobile)",
          "Kyocera",
          "Kyocera",
          "Essential",
          "Coolpad",
          "Coolpad",
          "Slate",
          "Slate",
          "Sonim",
          "Razer"
         ],
         "y": [
          2,
          2,
          0,
          2,
          1,
          0,
          3,
          2,
          0,
          2,
          5,
          6,
          6,
          3,
          3,
          0,
          1,
          3,
          4,
          5,
          6,
          5,
          5,
          5,
          1,
          0,
          2,
          2,
          1,
          4,
          1,
          1,
          1,
          2,
          3,
          1,
          0,
          4,
          3,
          3,
          6,
          1,
          0,
          0,
          4,
          0,
          0,
          1,
          3,
          4,
          1,
          2,
          6,
          2,
          4,
          2,
          0,
          3,
          4,
          1,
          1,
          0,
          3,
          0,
          4,
          3,
          3,
          3,
          3,
          2,
          2,
          0,
          2,
          2,
          0,
          1,
          2,
          0,
          0,
          1,
          1,
          1,
          0,
          1,
          2,
          1,
          0,
          1,
          1,
          1,
          0,
          2,
          1,
          1,
          1,
          1,
          1,
          5,
          1,
          0,
          1,
          0,
          1,
          0,
          3,
          0,
          1,
          1,
          1,
          0,
          0,
          1,
          0,
          1,
          2,
          0
         ]
        },
        {
         "name": "3rd",
         "type": "box",
         "x": [
          "Samsung",
          "Samsung",
          "Samsung",
          "Samsung",
          "Samsung",
          "Samsung",
          "Samsung",
          "Samsung",
          "Samsung",
          "Samsung",
          "Samsung",
          "Samsung",
          "Samsung",
          "Samsung",
          "Samsung",
          "Samsung",
          "Samsung",
          "Samsung",
          "Samsung",
          "Samsung",
          "Samsung",
          "Samsung",
          "Samsung",
          "Samsung",
          "Samsung",
          "Samsung",
          "Samsung",
          "Samsung",
          "Samsung",
          "Samsung",
          "Samsung",
          "LG",
          "LG",
          "LG",
          "LG",
          "LG",
          "LG",
          "LG",
          "LG",
          "LG",
          "LG",
          "LG",
          "LG",
          "LG",
          "LG",
          "LG",
          "LG",
          "LG",
          "LG",
          "LG",
          "LG",
          "LG",
          "LG",
          "LG",
          "LG",
          "LG",
          "LG",
          "LG",
          "Motorola",
          "Motorola",
          "Motorola",
          "Motorola",
          "Motorola",
          "Motorola",
          "Motorola",
          "HTC",
          "HTC",
          "HTC",
          "HTC",
          "HTC",
          "HTC",
          "HTC",
          "HTC",
          "HTC",
          "ZTE",
          "ZTE",
          "ZTE",
          "ZTE",
          "ZTE",
          "ZTE",
          "ZTE",
          "ZTE",
          "ZTE",
          "BlackBerry",
          "Alcatel",
          "Alcatel",
          "Alcatel",
          "Alcatel",
          "Alcatel",
          "Huawei",
          "Huawei",
          "Huawei",
          "Revvl(T-Mobile)",
          "Revvl(T-Mobile)",
          "Kyocera",
          "Kyocera",
          "Essential",
          "ASUS",
          "Coolpad",
          "Slate",
          "Slate",
          "Sony"
         ],
         "y": [
          2,
          0,
          2,
          2,
          0,
          5,
          2,
          2,
          3,
          6,
          6,
          6,
          6,
          5,
          6,
          4,
          6,
          6,
          5,
          6,
          3,
          3,
          0,
          1,
          1,
          2,
          3,
          0,
          1,
          0,
          0,
          2,
          5,
          4,
          3,
          0,
          4,
          0,
          1,
          0,
          4,
          0,
          0,
          2,
          1,
          1,
          1,
          3,
          3,
          0,
          0,
          4,
          1,
          2,
          2,
          2,
          2,
          0,
          4,
          0,
          0,
          0,
          5,
          0,
          0,
          0,
          0,
          2,
          1,
          0,
          0,
          1,
          0,
          1,
          2,
          0,
          0,
          0,
          0,
          0,
          0,
          1,
          1,
          4,
          2,
          1,
          2,
          1,
          0,
          0,
          0,
          2,
          0,
          1,
          0,
          0,
          2,
          1,
          0,
          1,
          1,
          0
         ]
        },
        {
         "name": "4th",
         "type": "box",
         "x": [
          "Samsung",
          "Samsung",
          "Samsung",
          "Samsung",
          "Samsung",
          "Samsung",
          "Samsung",
          "Samsung",
          "Samsung",
          "Samsung",
          "Samsung",
          "Samsung",
          "Samsung",
          "Samsung",
          "Samsung",
          "Samsung",
          "Samsung",
          "Samsung",
          "Samsung",
          "Samsung",
          "Samsung",
          "Samsung",
          "Samsung",
          "Samsung",
          "Samsung",
          "Samsung",
          "Samsung",
          "Samsung",
          "Samsung",
          "Samsung",
          "Samsung",
          "Samsung",
          "Samsung",
          "Samsung",
          "Samsung",
          "LG",
          "LG",
          "LG",
          "LG",
          "LG",
          "LG",
          "LG",
          "LG",
          "LG",
          "LG",
          "LG",
          "LG",
          "LG",
          "LG",
          "LG",
          "LG",
          "LG",
          "LG",
          "LG",
          "LG",
          "LG",
          "LG",
          "LG",
          "LG",
          "LG",
          "LG",
          "LG",
          "LG",
          "Motorola",
          "Motorola",
          "Motorola",
          "Motorola",
          "Motorola",
          "Motorola",
          "Motorola",
          "HTC",
          "HTC",
          "HTC",
          "HTC",
          "HTC",
          "HTC",
          "HTC",
          "HTC",
          "HTC",
          "HTC",
          "HTC",
          "ZTE",
          "ZTE",
          "ZTE",
          "ZTE",
          "ZTE",
          "ZTE",
          "ZTE",
          "ZTE",
          "ZTE",
          "BlackBerry",
          "Alcatel",
          "Alcatel",
          "Alcatel",
          "Alcatel",
          "Alcatel",
          "Alcatel",
          "Huawei",
          "Huawei",
          "Huawei",
          "Revvl(T-Mobile)",
          "Kyocera",
          "Kyocera",
          "Kyocera",
          "Essential",
          "ASUS",
          "Coolpad",
          "Slate",
          "Slate",
          "Sony",
          "Sony"
         ],
         "y": [
          1,
          0,
          0,
          2,
          0,
          2,
          2,
          6,
          6,
          6,
          4,
          4,
          0,
          6,
          5,
          5,
          6,
          4,
          5,
          6,
          4,
          6,
          0,
          1,
          1,
          2,
          0,
          5,
          0,
          1,
          1,
          2,
          0,
          1,
          0,
          2,
          5,
          2,
          4,
          0,
          4,
          1,
          0,
          0,
          3,
          1,
          0,
          0,
          2,
          0,
          1,
          2,
          1,
          0,
          0,
          2,
          2,
          3,
          2,
          1,
          1,
          1,
          2,
          2,
          0,
          0,
          1,
          0,
          1,
          0,
          0,
          0,
          3,
          1,
          0,
          0,
          0,
          1,
          2,
          0,
          0,
          2,
          0,
          1,
          0,
          1,
          0,
          1,
          0,
          1,
          5,
          0,
          0,
          0,
          1,
          1,
          0,
          0,
          0,
          0,
          1,
          1,
          1,
          0,
          3,
          0,
          0,
          0,
          0,
          1,
          0
         ]
        },
        {
         "name": "5th",
         "type": "box",
         "x": [
          "Samsung",
          "Samsung",
          "Samsung",
          "Samsung",
          "Samsung",
          "Samsung",
          "Samsung",
          "Samsung",
          "Samsung",
          "Samsung",
          "Samsung",
          "Samsung",
          "Samsung",
          "Samsung",
          "Samsung",
          "Samsung",
          "Samsung",
          "Samsung",
          "Samsung",
          "Samsung",
          "Samsung",
          "Samsung",
          "Samsung",
          "Samsung",
          "Samsung",
          "Samsung",
          "Samsung",
          "Samsung",
          "Samsung",
          "Samsung",
          "Samsung",
          "Samsung",
          "Samsung",
          "Samsung",
          "Samsung",
          "Samsung",
          "LG",
          "LG",
          "LG",
          "LG",
          "LG",
          "LG",
          "LG",
          "LG",
          "LG",
          "LG",
          "LG",
          "LG",
          "LG",
          "LG",
          "LG",
          "LG",
          "LG",
          "LG",
          "LG",
          "LG",
          "LG",
          "LG",
          "LG",
          "LG",
          "Motorola",
          "Motorola",
          "Motorola",
          "Motorola",
          "HTC",
          "HTC",
          "HTC",
          "HTC",
          "HTC",
          "HTC",
          "HTC",
          "HTC",
          "HTC",
          "HTC",
          "ZTE",
          "ZTE",
          "ZTE",
          "ZTE",
          "ZTE",
          "ZTE",
          "ZTE",
          "ZTE",
          "BlackBerry",
          "Alcatel",
          "Alcatel",
          "Alcatel",
          "Alcatel",
          "Alcatel",
          "Huawei",
          "Huawei",
          "Kyocera",
          "Kyocera",
          "Kyocera",
          "ASUS",
          "ASUS",
          "Coolpad",
          "Slate",
          "Slate",
          "Sony",
          "Sony"
         ],
         "y": [
          0,
          1,
          0,
          0,
          1,
          2,
          6,
          6,
          5,
          6,
          4,
          5,
          5,
          4,
          5,
          3,
          3,
          3,
          3,
          0,
          3,
          0,
          0,
          2,
          0,
          2,
          2,
          0,
          1,
          1,
          0,
          3,
          0,
          1,
          0,
          1,
          2,
          1,
          3,
          0,
          1,
          0,
          0,
          2,
          1,
          0,
          0,
          5,
          0,
          0,
          0,
          0,
          0,
          0,
          2,
          0,
          0,
          2,
          0,
          0,
          2,
          0,
          0,
          0,
          0,
          0,
          0,
          0,
          1,
          0,
          0,
          3,
          0,
          0,
          2,
          0,
          0,
          0,
          0,
          1,
          0,
          1,
          0,
          0,
          0,
          1,
          0,
          0,
          0,
          0,
          0,
          0,
          0,
          0,
          3,
          0,
          0,
          0,
          0,
          0
         ]
        },
        {
         "name": "6th",
         "type": "box",
         "x": [
          "Samsung",
          "Samsung",
          "Samsung",
          "Samsung",
          "Samsung",
          "Samsung",
          "Samsung",
          "Samsung",
          "Samsung",
          "Samsung",
          "Samsung",
          "Samsung",
          "Samsung",
          "Samsung",
          "Samsung",
          "Samsung",
          "Samsung",
          "Samsung",
          "Samsung",
          "Samsung",
          "Samsung",
          "Samsung",
          "Samsung",
          "Samsung",
          "Samsung",
          "Samsung",
          "Samsung",
          "Samsung",
          "Samsung",
          "Samsung",
          "Samsung",
          "Samsung",
          "Samsung",
          "LG",
          "LG",
          "LG",
          "LG",
          "LG",
          "LG",
          "LG",
          "LG",
          "LG",
          "LG",
          "LG",
          "LG",
          "LG",
          "LG",
          "LG",
          "LG",
          "LG",
          "LG",
          "LG",
          "LG",
          "LG",
          "LG",
          "Motorola",
          "Motorola",
          "Motorola",
          "Motorola",
          "HTC",
          "HTC",
          "HTC",
          "HTC",
          "HTC",
          "HTC",
          "HTC",
          "HTC",
          "HTC",
          "HTC",
          "ZTE",
          "ZTE",
          "ZTE",
          "ZTE",
          "ZTE",
          "ZTE",
          "ZTE",
          "Alcatel",
          "Alcatel",
          "Alcatel",
          "Alcatel",
          "Alcatel",
          "Huawei",
          "Huawei",
          "Kyocera",
          "Kyocera",
          "Kyocera",
          "ASUS",
          "ASUS",
          "Coolpad",
          "Slate",
          "Slate",
          "Sony",
          "Sony"
         ],
         "y": [
          0,
          0,
          0,
          0,
          0,
          5,
          4,
          5,
          5,
          4,
          5,
          6,
          5,
          5,
          6,
          6,
          0,
          1,
          0,
          2,
          0,
          4,
          1,
          0,
          1,
          2,
          2,
          0,
          1,
          0,
          1,
          1,
          0,
          0,
          0,
          0,
          0,
          0,
          0,
          0,
          0,
          0,
          0,
          3,
          0,
          0,
          0,
          0,
          0,
          0,
          3,
          1,
          0,
          1,
          1,
          1,
          0,
          0,
          0,
          0,
          0,
          0,
          0,
          0,
          0,
          0,
          0,
          1,
          0,
          0,
          0,
          0,
          0,
          0,
          0,
          0,
          0,
          0,
          0,
          0,
          0,
          0,
          0,
          0,
          0,
          0,
          0,
          1,
          0,
          0,
          0,
          0,
          0
         ]
        },
        {
         "name": "7th",
         "type": "box",
         "x": [
          "Samsung",
          "Samsung",
          "Samsung",
          "Samsung",
          "Samsung",
          "Samsung",
          "Samsung",
          "Samsung",
          "Samsung",
          "Samsung",
          "Samsung",
          "Samsung",
          "Samsung",
          "Samsung",
          "Samsung",
          "Samsung",
          "Samsung",
          "Samsung",
          "Samsung",
          "Samsung",
          "Samsung",
          "Samsung",
          "Samsung",
          "Samsung",
          "Samsung",
          "Samsung",
          "Samsung",
          "Samsung",
          "Samsung",
          "Samsung",
          "Samsung",
          "Samsung",
          "LG",
          "LG",
          "LG",
          "LG",
          "LG",
          "LG",
          "LG",
          "LG",
          "LG",
          "LG",
          "LG",
          "LG",
          "LG",
          "LG",
          "LG",
          "LG",
          "Motorola",
          "Motorola",
          "Motorola",
          "HTC",
          "HTC",
          "HTC",
          "HTC",
          "HTC",
          "HTC",
          "HTC",
          "HTC",
          "HTC",
          "HTC",
          "ZTE",
          "ZTE",
          "ZTE",
          "ZTE",
          "ZTE",
          "ZTE",
          "Alcatel",
          "Alcatel",
          "Alcatel",
          "Alcatel",
          "Alcatel",
          "Huawei",
          "Kyocera",
          "Kyocera",
          "ASUS",
          "ASUS",
          "Slate",
          "Slate",
          "Sony",
          "Sony"
         ],
         "y": [
          0,
          0,
          0,
          0,
          0,
          0,
          0,
          0,
          0,
          0,
          0,
          0,
          0,
          0,
          1,
          1,
          0,
          0,
          0,
          1,
          0,
          0,
          0,
          0,
          0,
          1,
          0,
          0,
          0,
          1,
          0,
          0,
          0,
          0,
          0,
          0,
          0,
          0,
          2,
          0,
          1,
          0,
          0,
          0,
          0,
          0,
          0,
          0,
          0,
          0,
          0,
          0,
          0,
          0,
          0,
          0,
          0,
          0,
          0,
          0,
          0,
          0,
          0,
          0,
          1,
          0,
          0,
          0,
          0,
          0,
          0,
          0,
          0,
          0,
          0,
          0,
          0,
          0,
          0,
          0,
          0
         ]
        },
        {
         "name": "8th",
         "type": "box",
         "x": [
          "Samsung",
          "Samsung",
          "Samsung",
          "Samsung",
          "Samsung",
          "Samsung",
          "Samsung",
          "Samsung",
          "Samsung",
          "Samsung",
          "Samsung",
          "Samsung",
          "Samsung",
          "Samsung",
          "Samsung",
          "Samsung",
          "Samsung",
          "Samsung",
          "Samsung",
          "Samsung",
          "Samsung",
          "Samsung",
          "Samsung",
          "LG",
          "LG",
          "LG",
          "LG",
          "LG",
          "LG",
          "LG",
          "LG",
          "LG",
          "LG",
          "LG",
          "LG",
          "Motorola",
          "Motorola",
          "Motorola",
          "HTC",
          "HTC",
          "HTC",
          "HTC",
          "HTC",
          "HTC",
          "HTC",
          "ZTE",
          "ZTE",
          "ZTE",
          "ZTE",
          "ZTE",
          "Alcatel",
          "Alcatel",
          "Alcatel",
          "Alcatel",
          "Huawei",
          "Kyocera",
          "Kyocera",
          "ASUS",
          "ASUS",
          "Slate",
          "Slate",
          "Sony",
          "Sony"
         ],
         "y": [
          0,
          0,
          0,
          0,
          0,
          0,
          0,
          0,
          0,
          0,
          0,
          1,
          0,
          0,
          0,
          0,
          2,
          0,
          0,
          1,
          0,
          1,
          1,
          0,
          0,
          0,
          0,
          0,
          0,
          0,
          0,
          0,
          0,
          0,
          0,
          0,
          0,
          0,
          0,
          0,
          0,
          0,
          0,
          0,
          0,
          0,
          0,
          0,
          0,
          0,
          0,
          0,
          0,
          0,
          0,
          0,
          0,
          0,
          0,
          0,
          0,
          0,
          0
         ]
        }
       ],
       "layout": {
        "boxmode": "group",
        "colorway": [
         "rgb(60, 180, 75)",
         "rgb(230, 25, 75)",
         "rgb(0, 130, 200)",
         "rgb(245, 130, 48)",
         "rgb(145, 30, 180)",
         "rgb(240, 50, 230)",
         "rgb(0, 128, 128)",
         "rgb(170, 110, 40)",
         "rgb(0, 130, 200)",
         "rgb(128, 128, 128)",
         "rgb(128, 0, 0)",
         "rgb(170, 255, 195)",
         "rgb(128, 128, 0)",
         "rgb(255, 215, 180)",
         "rgb(0, 0, 128)",
         "rgb(128, 128, 128)",
         "rgb(255, 255, 255)",
         "rgb(230, 25, 75)",
         "rgb(0, 0, 0)",
         "rgb(255, 225, 25)",
         "rgb(255, 250, 200)",
         "rgb(250, 190, 190)"
        ],
        "font": {
         "size": 20
        },
        "legend": {
         "orientation": "h",
         "x": 0.24,
         "y": 1.15
        },
        "plot_bgcolor": "rgba(0,0,0,0)",
        "template": {
         "data": {
          "bar": [
           {
            "error_x": {
             "color": "#2a3f5f"
            },
            "error_y": {
             "color": "#2a3f5f"
            },
            "marker": {
             "line": {
              "color": "#E5ECF6",
              "width": 0.5
             }
            },
            "type": "bar"
           }
          ],
          "barpolar": [
           {
            "marker": {
             "line": {
              "color": "#E5ECF6",
              "width": 0.5
             }
            },
            "type": "barpolar"
           }
          ],
          "carpet": [
           {
            "aaxis": {
             "endlinecolor": "#2a3f5f",
             "gridcolor": "white",
             "linecolor": "white",
             "minorgridcolor": "white",
             "startlinecolor": "#2a3f5f"
            },
            "baxis": {
             "endlinecolor": "#2a3f5f",
             "gridcolor": "white",
             "linecolor": "white",
             "minorgridcolor": "white",
             "startlinecolor": "#2a3f5f"
            },
            "type": "carpet"
           }
          ],
          "choropleth": [
           {
            "colorbar": {
             "outlinewidth": 0,
             "ticks": ""
            },
            "type": "choropleth"
           }
          ],
          "contour": [
           {
            "colorbar": {
             "outlinewidth": 0,
             "ticks": ""
            },
            "colorscale": [
             [
              0,
              "#0d0887"
             ],
             [
              0.1111111111111111,
              "#46039f"
             ],
             [
              0.2222222222222222,
              "#7201a8"
             ],
             [
              0.3333333333333333,
              "#9c179e"
             ],
             [
              0.4444444444444444,
              "#bd3786"
             ],
             [
              0.5555555555555556,
              "#d8576b"
             ],
             [
              0.6666666666666666,
              "#ed7953"
             ],
             [
              0.7777777777777778,
              "#fb9f3a"
             ],
             [
              0.8888888888888888,
              "#fdca26"
             ],
             [
              1,
              "#f0f921"
             ]
            ],
            "type": "contour"
           }
          ],
          "contourcarpet": [
           {
            "colorbar": {
             "outlinewidth": 0,
             "ticks": ""
            },
            "type": "contourcarpet"
           }
          ],
          "heatmap": [
           {
            "colorbar": {
             "outlinewidth": 0,
             "ticks": ""
            },
            "colorscale": [
             [
              0,
              "#0d0887"
             ],
             [
              0.1111111111111111,
              "#46039f"
             ],
             [
              0.2222222222222222,
              "#7201a8"
             ],
             [
              0.3333333333333333,
              "#9c179e"
             ],
             [
              0.4444444444444444,
              "#bd3786"
             ],
             [
              0.5555555555555556,
              "#d8576b"
             ],
             [
              0.6666666666666666,
              "#ed7953"
             ],
             [
              0.7777777777777778,
              "#fb9f3a"
             ],
             [
              0.8888888888888888,
              "#fdca26"
             ],
             [
              1,
              "#f0f921"
             ]
            ],
            "type": "heatmap"
           }
          ],
          "heatmapgl": [
           {
            "colorbar": {
             "outlinewidth": 0,
             "ticks": ""
            },
            "colorscale": [
             [
              0,
              "#0d0887"
             ],
             [
              0.1111111111111111,
              "#46039f"
             ],
             [
              0.2222222222222222,
              "#7201a8"
             ],
             [
              0.3333333333333333,
              "#9c179e"
             ],
             [
              0.4444444444444444,
              "#bd3786"
             ],
             [
              0.5555555555555556,
              "#d8576b"
             ],
             [
              0.6666666666666666,
              "#ed7953"
             ],
             [
              0.7777777777777778,
              "#fb9f3a"
             ],
             [
              0.8888888888888888,
              "#fdca26"
             ],
             [
              1,
              "#f0f921"
             ]
            ],
            "type": "heatmapgl"
           }
          ],
          "histogram": [
           {
            "marker": {
             "colorbar": {
              "outlinewidth": 0,
              "ticks": ""
             }
            },
            "type": "histogram"
           }
          ],
          "histogram2d": [
           {
            "colorbar": {
             "outlinewidth": 0,
             "ticks": ""
            },
            "colorscale": [
             [
              0,
              "#0d0887"
             ],
             [
              0.1111111111111111,
              "#46039f"
             ],
             [
              0.2222222222222222,
              "#7201a8"
             ],
             [
              0.3333333333333333,
              "#9c179e"
             ],
             [
              0.4444444444444444,
              "#bd3786"
             ],
             [
              0.5555555555555556,
              "#d8576b"
             ],
             [
              0.6666666666666666,
              "#ed7953"
             ],
             [
              0.7777777777777778,
              "#fb9f3a"
             ],
             [
              0.8888888888888888,
              "#fdca26"
             ],
             [
              1,
              "#f0f921"
             ]
            ],
            "type": "histogram2d"
           }
          ],
          "histogram2dcontour": [
           {
            "colorbar": {
             "outlinewidth": 0,
             "ticks": ""
            },
            "colorscale": [
             [
              0,
              "#0d0887"
             ],
             [
              0.1111111111111111,
              "#46039f"
             ],
             [
              0.2222222222222222,
              "#7201a8"
             ],
             [
              0.3333333333333333,
              "#9c179e"
             ],
             [
              0.4444444444444444,
              "#bd3786"
             ],
             [
              0.5555555555555556,
              "#d8576b"
             ],
             [
              0.6666666666666666,
              "#ed7953"
             ],
             [
              0.7777777777777778,
              "#fb9f3a"
             ],
             [
              0.8888888888888888,
              "#fdca26"
             ],
             [
              1,
              "#f0f921"
             ]
            ],
            "type": "histogram2dcontour"
           }
          ],
          "mesh3d": [
           {
            "colorbar": {
             "outlinewidth": 0,
             "ticks": ""
            },
            "type": "mesh3d"
           }
          ],
          "parcoords": [
           {
            "line": {
             "colorbar": {
              "outlinewidth": 0,
              "ticks": ""
             }
            },
            "type": "parcoords"
           }
          ],
          "pie": [
           {
            "automargin": true,
            "type": "pie"
           }
          ],
          "scatter": [
           {
            "marker": {
             "colorbar": {
              "outlinewidth": 0,
              "ticks": ""
             }
            },
            "type": "scatter"
           }
          ],
          "scatter3d": [
           {
            "line": {
             "colorbar": {
              "outlinewidth": 0,
              "ticks": ""
             }
            },
            "marker": {
             "colorbar": {
              "outlinewidth": 0,
              "ticks": ""
             }
            },
            "type": "scatter3d"
           }
          ],
          "scattercarpet": [
           {
            "marker": {
             "colorbar": {
              "outlinewidth": 0,
              "ticks": ""
             }
            },
            "type": "scattercarpet"
           }
          ],
          "scattergeo": [
           {
            "marker": {
             "colorbar": {
              "outlinewidth": 0,
              "ticks": ""
             }
            },
            "type": "scattergeo"
           }
          ],
          "scattergl": [
           {
            "marker": {
             "colorbar": {
              "outlinewidth": 0,
              "ticks": ""
             }
            },
            "type": "scattergl"
           }
          ],
          "scattermapbox": [
           {
            "marker": {
             "colorbar": {
              "outlinewidth": 0,
              "ticks": ""
             }
            },
            "type": "scattermapbox"
           }
          ],
          "scatterpolar": [
           {
            "marker": {
             "colorbar": {
              "outlinewidth": 0,
              "ticks": ""
             }
            },
            "type": "scatterpolar"
           }
          ],
          "scatterpolargl": [
           {
            "marker": {
             "colorbar": {
              "outlinewidth": 0,
              "ticks": ""
             }
            },
            "type": "scatterpolargl"
           }
          ],
          "scatterternary": [
           {
            "marker": {
             "colorbar": {
              "outlinewidth": 0,
              "ticks": ""
             }
            },
            "type": "scatterternary"
           }
          ],
          "surface": [
           {
            "colorbar": {
             "outlinewidth": 0,
             "ticks": ""
            },
            "colorscale": [
             [
              0,
              "#0d0887"
             ],
             [
              0.1111111111111111,
              "#46039f"
             ],
             [
              0.2222222222222222,
              "#7201a8"
             ],
             [
              0.3333333333333333,
              "#9c179e"
             ],
             [
              0.4444444444444444,
              "#bd3786"
             ],
             [
              0.5555555555555556,
              "#d8576b"
             ],
             [
              0.6666666666666666,
              "#ed7953"
             ],
             [
              0.7777777777777778,
              "#fb9f3a"
             ],
             [
              0.8888888888888888,
              "#fdca26"
             ],
             [
              1,
              "#f0f921"
             ]
            ],
            "type": "surface"
           }
          ],
          "table": [
           {
            "cells": {
             "fill": {
              "color": "#EBF0F8"
             },
             "line": {
              "color": "white"
             }
            },
            "header": {
             "fill": {
              "color": "#C8D4E3"
             },
             "line": {
              "color": "white"
             }
            },
            "type": "table"
           }
          ]
         },
         "layout": {
          "annotationdefaults": {
           "arrowcolor": "#2a3f5f",
           "arrowhead": 0,
           "arrowwidth": 1
          },
          "coloraxis": {
           "colorbar": {
            "outlinewidth": 0,
            "ticks": ""
           }
          },
          "colorscale": {
           "diverging": [
            [
             0,
             "#8e0152"
            ],
            [
             0.1,
             "#c51b7d"
            ],
            [
             0.2,
             "#de77ae"
            ],
            [
             0.3,
             "#f1b6da"
            ],
            [
             0.4,
             "#fde0ef"
            ],
            [
             0.5,
             "#f7f7f7"
            ],
            [
             0.6,
             "#e6f5d0"
            ],
            [
             0.7,
             "#b8e186"
            ],
            [
             0.8,
             "#7fbc41"
            ],
            [
             0.9,
             "#4d9221"
            ],
            [
             1,
             "#276419"
            ]
           ],
           "sequential": [
            [
             0,
             "#0d0887"
            ],
            [
             0.1111111111111111,
             "#46039f"
            ],
            [
             0.2222222222222222,
             "#7201a8"
            ],
            [
             0.3333333333333333,
             "#9c179e"
            ],
            [
             0.4444444444444444,
             "#bd3786"
            ],
            [
             0.5555555555555556,
             "#d8576b"
            ],
            [
             0.6666666666666666,
             "#ed7953"
            ],
            [
             0.7777777777777778,
             "#fb9f3a"
            ],
            [
             0.8888888888888888,
             "#fdca26"
            ],
            [
             1,
             "#f0f921"
            ]
           ],
           "sequentialminus": [
            [
             0,
             "#0d0887"
            ],
            [
             0.1111111111111111,
             "#46039f"
            ],
            [
             0.2222222222222222,
             "#7201a8"
            ],
            [
             0.3333333333333333,
             "#9c179e"
            ],
            [
             0.4444444444444444,
             "#bd3786"
            ],
            [
             0.5555555555555556,
             "#d8576b"
            ],
            [
             0.6666666666666666,
             "#ed7953"
            ],
            [
             0.7777777777777778,
             "#fb9f3a"
            ],
            [
             0.8888888888888888,
             "#fdca26"
            ],
            [
             1,
             "#f0f921"
            ]
           ]
          },
          "colorway": [
           "#636efa",
           "#EF553B",
           "#00cc96",
           "#ab63fa",
           "#FFA15A",
           "#19d3f3",
           "#FF6692",
           "#B6E880",
           "#FF97FF",
           "#FECB52"
          ],
          "font": {
           "color": "#2a3f5f"
          },
          "geo": {
           "bgcolor": "white",
           "lakecolor": "white",
           "landcolor": "#E5ECF6",
           "showlakes": true,
           "showland": true,
           "subunitcolor": "white"
          },
          "hoverlabel": {
           "align": "left"
          },
          "hovermode": "closest",
          "mapbox": {
           "style": "light"
          },
          "paper_bgcolor": "white",
          "plot_bgcolor": "#E5ECF6",
          "polar": {
           "angularaxis": {
            "gridcolor": "white",
            "linecolor": "white",
            "ticks": ""
           },
           "bgcolor": "#E5ECF6",
           "radialaxis": {
            "gridcolor": "white",
            "linecolor": "white",
            "ticks": ""
           }
          },
          "scene": {
           "xaxis": {
            "backgroundcolor": "#E5ECF6",
            "gridcolor": "white",
            "gridwidth": 2,
            "linecolor": "white",
            "showbackground": true,
            "ticks": "",
            "zerolinecolor": "white"
           },
           "yaxis": {
            "backgroundcolor": "#E5ECF6",
            "gridcolor": "white",
            "gridwidth": 2,
            "linecolor": "white",
            "showbackground": true,
            "ticks": "",
            "zerolinecolor": "white"
           },
           "zaxis": {
            "backgroundcolor": "#E5ECF6",
            "gridcolor": "white",
            "gridwidth": 2,
            "linecolor": "white",
            "showbackground": true,
            "ticks": "",
            "zerolinecolor": "white"
           }
          },
          "shapedefaults": {
           "line": {
            "color": "#2a3f5f"
           }
          },
          "ternary": {
           "aaxis": {
            "gridcolor": "white",
            "linecolor": "white",
            "ticks": ""
           },
           "baxis": {
            "gridcolor": "white",
            "linecolor": "white",
            "ticks": ""
           },
           "bgcolor": "#E5ECF6",
           "caxis": {
            "gridcolor": "white",
            "linecolor": "white",
            "ticks": ""
           }
          },
          "title": {
           "x": 0.05
          },
          "xaxis": {
           "automargin": true,
           "gridcolor": "white",
           "linecolor": "white",
           "ticks": "",
           "title": {
            "standoff": 15
           },
           "zerolinecolor": "white",
           "zerolinewidth": 2
          },
          "yaxis": {
           "automargin": true,
           "gridcolor": "white",
           "linecolor": "white",
           "ticks": "",
           "title": {
            "standoff": 15
           },
           "zerolinecolor": "white",
           "zerolinewidth": 2
          }
         }
        },
        "yaxis": {
         "gridcolor": "rgb(219, 219, 219)",
         "showgrid": true,
         "title": {
          "text": "Number of Updates"
         }
        }
       }
      },
      "text/html": [
       "<div>\n",
       "        \n",
       "        \n",
       "            <div id=\"0f28ed62-9256-4e7b-b1f9-805a8de23822\" class=\"plotly-graph-div\" style=\"height:525px; width:100%;\"></div>\n",
       "            <script type=\"text/javascript\">\n",
       "                require([\"plotly\"], function(Plotly) {\n",
       "                    window.PLOTLYENV=window.PLOTLYENV || {};\n",
       "                    \n",
       "                if (document.getElementById(\"0f28ed62-9256-4e7b-b1f9-805a8de23822\")) {\n",
       "                    Plotly.newPlot(\n",
       "                        '0f28ed62-9256-4e7b-b1f9-805a8de23822',\n",
       "                        [{\"name\": \"1st\", \"type\": \"box\", \"x\": [\"Samsung\", \"Samsung\", \"Samsung\", \"Samsung\", \"Samsung\", \"Samsung\", \"Samsung\", \"Samsung\", \"Samsung\", \"Samsung\", \"Samsung\", \"Samsung\", \"Samsung\", \"Samsung\", \"Samsung\", \"Samsung\", \"Samsung\", \"Samsung\", \"Samsung\", \"Samsung\", \"Samsung\", \"Samsung\", \"Samsung\", \"Samsung\", \"Samsung\", \"Samsung\", \"Samsung\", \"Samsung\", \"Samsung\", \"Samsung\", \"Samsung\", \"Samsung\", \"Samsung\", \"Samsung\", \"Samsung\", \"Samsung\", \"Samsung\", \"Samsung\", \"LG\", \"LG\", \"LG\", \"LG\", \"LG\", \"LG\", \"LG\", \"LG\", \"LG\", \"LG\", \"LG\", \"LG\", \"LG\", \"LG\", \"LG\", \"LG\", \"LG\", \"LG\", \"LG\", \"LG\", \"LG\", \"LG\", \"LG\", \"LG\", \"LG\", \"LG\", \"LG\", \"LG\", \"LG\", \"LG\", \"LG\", \"LG\", \"LG\", \"Motorola\", \"Motorola\", \"Motorola\", \"Motorola\", \"Motorola\", \"Motorola\", \"Motorola\", \"Motorola\", \"Motorola\", \"Motorola\", \"Motorola\", \"Motorola\", \"Motorola\", \"HTC\", \"HTC\", \"HTC\", \"HTC\", \"HTC\", \"HTC\", \"ZTE\", \"ZTE\", \"ZTE\", \"ZTE\", \"ZTE\", \"ZTE\", \"BlackBerry\", \"Alcatel\", \"Alcatel\", \"Alcatel\", \"Huawei\", \"Huawei\", \"Huawei\", \"Revvl(T-Mobile)\", \"Revvl(T-Mobile)\", \"Revvl(T-Mobile)\", \"Revvl(T-Mobile)\", \"Google\", \"Google\", \"Kyocera\", \"Kyocera\", \"Kyocera\", \"Essential\", \"OnePlus\", \"Coolpad\", \"Coolpad\", \"Sonim\", \"RED\", \"CAT\", \"Razer\"], \"y\": [2, 1, 0, 1, 0, 0, 5, 3, 0, 2, 4, 6, 6, 5, 2, 5, 1, 5, 5, 5, 3, 5, 6, 6, 0, 0, 1, 1, 2, 1, 3, 0, 3, 1, 2, 2, 1, 0, 5, 5, 2, 1, 5, 0, 3, 1, 3, 0, 0, 4, 0, 2, 2, 1, 4, 1, 2, 0, 3, 5, 0, 0, 2, 0, 1, 3, 2, 2, 1, 2, 1, 1, 4, 1, 1, 0, 2, 0, 0, 0, 0, 0, 0, 1, 0, 4, 1, 1, 1, 0, 2, 2, 0, 0, 1, 1, 2, 0, 3, 0, 2, 1, 4, 2, 3, 3, 0, 1, 1, 1, 1, 0, 0, 3, 2, 0, 0, 0, 2, 1]}, {\"name\": \"2nd\", \"type\": \"box\", \"x\": [\"Samsung\", \"Samsung\", \"Samsung\", \"Samsung\", \"Samsung\", \"Samsung\", \"Samsung\", \"Samsung\", \"Samsung\", \"Samsung\", \"Samsung\", \"Samsung\", \"Samsung\", \"Samsung\", \"Samsung\", \"Samsung\", \"Samsung\", \"Samsung\", \"Samsung\", \"Samsung\", \"Samsung\", \"Samsung\", \"Samsung\", \"Samsung\", \"Samsung\", \"Samsung\", \"Samsung\", \"Samsung\", \"Samsung\", \"Samsung\", \"Samsung\", \"Samsung\", \"Samsung\", \"Samsung\", \"Samsung\", \"Samsung\", \"LG\", \"LG\", \"LG\", \"LG\", \"LG\", \"LG\", \"LG\", \"LG\", \"LG\", \"LG\", \"LG\", \"LG\", \"LG\", \"LG\", \"LG\", \"LG\", \"LG\", \"LG\", \"LG\", \"LG\", \"LG\", \"LG\", \"LG\", \"LG\", \"LG\", \"LG\", \"LG\", \"LG\", \"LG\", \"LG\", \"LG\", \"LG\", \"LG\", \"LG\", \"LG\", \"Motorola\", \"Motorola\", \"Motorola\", \"Motorola\", \"Motorola\", \"Motorola\", \"Motorola\", \"Motorola\", \"Motorola\", \"Motorola\", \"Motorola\", \"HTC\", \"HTC\", \"HTC\", \"HTC\", \"HTC\", \"HTC\", \"HTC\", \"HTC\", \"ZTE\", \"ZTE\", \"ZTE\", \"ZTE\", \"ZTE\", \"ZTE\", \"ZTE\", \"BlackBerry\", \"Alcatel\", \"Alcatel\", \"Alcatel\", \"Alcatel\", \"Huawei\", \"Huawei\", \"Huawei\", \"Revvl(T-Mobile)\", \"Revvl(T-Mobile)\", \"Kyocera\", \"Kyocera\", \"Essential\", \"Coolpad\", \"Coolpad\", \"Slate\", \"Slate\", \"Sonim\", \"Razer\"], \"y\": [2, 2, 0, 2, 1, 0, 3, 2, 0, 2, 5, 6, 6, 3, 3, 0, 1, 3, 4, 5, 6, 5, 5, 5, 1, 0, 2, 2, 1, 4, 1, 1, 1, 2, 3, 1, 0, 4, 3, 3, 6, 1, 0, 0, 4, 0, 0, 1, 3, 4, 1, 2, 6, 2, 4, 2, 0, 3, 4, 1, 1, 0, 3, 0, 4, 3, 3, 3, 3, 2, 2, 0, 2, 2, 0, 1, 2, 0, 0, 1, 1, 1, 0, 1, 2, 1, 0, 1, 1, 1, 0, 2, 1, 1, 1, 1, 1, 5, 1, 0, 1, 0, 1, 0, 3, 0, 1, 1, 1, 0, 0, 1, 0, 1, 2, 0]}, {\"name\": \"3rd\", \"type\": \"box\", \"x\": [\"Samsung\", \"Samsung\", \"Samsung\", \"Samsung\", \"Samsung\", \"Samsung\", \"Samsung\", \"Samsung\", \"Samsung\", \"Samsung\", \"Samsung\", \"Samsung\", \"Samsung\", \"Samsung\", \"Samsung\", \"Samsung\", \"Samsung\", \"Samsung\", \"Samsung\", \"Samsung\", \"Samsung\", \"Samsung\", \"Samsung\", \"Samsung\", \"Samsung\", \"Samsung\", \"Samsung\", \"Samsung\", \"Samsung\", \"Samsung\", \"Samsung\", \"LG\", \"LG\", \"LG\", \"LG\", \"LG\", \"LG\", \"LG\", \"LG\", \"LG\", \"LG\", \"LG\", \"LG\", \"LG\", \"LG\", \"LG\", \"LG\", \"LG\", \"LG\", \"LG\", \"LG\", \"LG\", \"LG\", \"LG\", \"LG\", \"LG\", \"LG\", \"LG\", \"Motorola\", \"Motorola\", \"Motorola\", \"Motorola\", \"Motorola\", \"Motorola\", \"Motorola\", \"HTC\", \"HTC\", \"HTC\", \"HTC\", \"HTC\", \"HTC\", \"HTC\", \"HTC\", \"HTC\", \"ZTE\", \"ZTE\", \"ZTE\", \"ZTE\", \"ZTE\", \"ZTE\", \"ZTE\", \"ZTE\", \"ZTE\", \"BlackBerry\", \"Alcatel\", \"Alcatel\", \"Alcatel\", \"Alcatel\", \"Alcatel\", \"Huawei\", \"Huawei\", \"Huawei\", \"Revvl(T-Mobile)\", \"Revvl(T-Mobile)\", \"Kyocera\", \"Kyocera\", \"Essential\", \"ASUS\", \"Coolpad\", \"Slate\", \"Slate\", \"Sony\"], \"y\": [2, 0, 2, 2, 0, 5, 2, 2, 3, 6, 6, 6, 6, 5, 6, 4, 6, 6, 5, 6, 3, 3, 0, 1, 1, 2, 3, 0, 1, 0, 0, 2, 5, 4, 3, 0, 4, 0, 1, 0, 4, 0, 0, 2, 1, 1, 1, 3, 3, 0, 0, 4, 1, 2, 2, 2, 2, 0, 4, 0, 0, 0, 5, 0, 0, 0, 0, 2, 1, 0, 0, 1, 0, 1, 2, 0, 0, 0, 0, 0, 0, 1, 1, 4, 2, 1, 2, 1, 0, 0, 0, 2, 0, 1, 0, 0, 2, 1, 0, 1, 1, 0]}, {\"name\": \"4th\", \"type\": \"box\", \"x\": [\"Samsung\", \"Samsung\", \"Samsung\", \"Samsung\", \"Samsung\", \"Samsung\", \"Samsung\", \"Samsung\", \"Samsung\", \"Samsung\", \"Samsung\", \"Samsung\", \"Samsung\", \"Samsung\", \"Samsung\", \"Samsung\", \"Samsung\", \"Samsung\", \"Samsung\", \"Samsung\", \"Samsung\", \"Samsung\", \"Samsung\", \"Samsung\", \"Samsung\", \"Samsung\", \"Samsung\", \"Samsung\", \"Samsung\", \"Samsung\", \"Samsung\", \"Samsung\", \"Samsung\", \"Samsung\", \"Samsung\", \"LG\", \"LG\", \"LG\", \"LG\", \"LG\", \"LG\", \"LG\", \"LG\", \"LG\", \"LG\", \"LG\", \"LG\", \"LG\", \"LG\", \"LG\", \"LG\", \"LG\", \"LG\", \"LG\", \"LG\", \"LG\", \"LG\", \"LG\", \"LG\", \"LG\", \"LG\", \"LG\", \"LG\", \"Motorola\", \"Motorola\", \"Motorola\", \"Motorola\", \"Motorola\", \"Motorola\", \"Motorola\", \"HTC\", \"HTC\", \"HTC\", \"HTC\", \"HTC\", \"HTC\", \"HTC\", \"HTC\", \"HTC\", \"HTC\", \"HTC\", \"ZTE\", \"ZTE\", \"ZTE\", \"ZTE\", \"ZTE\", \"ZTE\", \"ZTE\", \"ZTE\", \"ZTE\", \"BlackBerry\", \"Alcatel\", \"Alcatel\", \"Alcatel\", \"Alcatel\", \"Alcatel\", \"Alcatel\", \"Huawei\", \"Huawei\", \"Huawei\", \"Revvl(T-Mobile)\", \"Kyocera\", \"Kyocera\", \"Kyocera\", \"Essential\", \"ASUS\", \"Coolpad\", \"Slate\", \"Slate\", \"Sony\", \"Sony\"], \"y\": [1, 0, 0, 2, 0, 2, 2, 6, 6, 6, 4, 4, 0, 6, 5, 5, 6, 4, 5, 6, 4, 6, 0, 1, 1, 2, 0, 5, 0, 1, 1, 2, 0, 1, 0, 2, 5, 2, 4, 0, 4, 1, 0, 0, 3, 1, 0, 0, 2, 0, 1, 2, 1, 0, 0, 2, 2, 3, 2, 1, 1, 1, 2, 2, 0, 0, 1, 0, 1, 0, 0, 0, 3, 1, 0, 0, 0, 1, 2, 0, 0, 2, 0, 1, 0, 1, 0, 1, 0, 1, 5, 0, 0, 0, 1, 1, 0, 0, 0, 0, 1, 1, 1, 0, 3, 0, 0, 0, 0, 1, 0]}, {\"name\": \"5th\", \"type\": \"box\", \"x\": [\"Samsung\", \"Samsung\", \"Samsung\", \"Samsung\", \"Samsung\", \"Samsung\", \"Samsung\", \"Samsung\", \"Samsung\", \"Samsung\", \"Samsung\", \"Samsung\", \"Samsung\", \"Samsung\", \"Samsung\", \"Samsung\", \"Samsung\", \"Samsung\", \"Samsung\", \"Samsung\", \"Samsung\", \"Samsung\", \"Samsung\", \"Samsung\", \"Samsung\", \"Samsung\", \"Samsung\", \"Samsung\", \"Samsung\", \"Samsung\", \"Samsung\", \"Samsung\", \"Samsung\", \"Samsung\", \"Samsung\", \"Samsung\", \"LG\", \"LG\", \"LG\", \"LG\", \"LG\", \"LG\", \"LG\", \"LG\", \"LG\", \"LG\", \"LG\", \"LG\", \"LG\", \"LG\", \"LG\", \"LG\", \"LG\", \"LG\", \"LG\", \"LG\", \"LG\", \"LG\", \"LG\", \"LG\", \"Motorola\", \"Motorola\", \"Motorola\", \"Motorola\", \"HTC\", \"HTC\", \"HTC\", \"HTC\", \"HTC\", \"HTC\", \"HTC\", \"HTC\", \"HTC\", \"HTC\", \"ZTE\", \"ZTE\", \"ZTE\", \"ZTE\", \"ZTE\", \"ZTE\", \"ZTE\", \"ZTE\", \"BlackBerry\", \"Alcatel\", \"Alcatel\", \"Alcatel\", \"Alcatel\", \"Alcatel\", \"Huawei\", \"Huawei\", \"Kyocera\", \"Kyocera\", \"Kyocera\", \"ASUS\", \"ASUS\", \"Coolpad\", \"Slate\", \"Slate\", \"Sony\", \"Sony\"], \"y\": [0, 1, 0, 0, 1, 2, 6, 6, 5, 6, 4, 5, 5, 4, 5, 3, 3, 3, 3, 0, 3, 0, 0, 2, 0, 2, 2, 0, 1, 1, 0, 3, 0, 1, 0, 1, 2, 1, 3, 0, 1, 0, 0, 2, 1, 0, 0, 5, 0, 0, 0, 0, 0, 0, 2, 0, 0, 2, 0, 0, 2, 0, 0, 0, 0, 0, 0, 0, 1, 0, 0, 3, 0, 0, 2, 0, 0, 0, 0, 1, 0, 1, 0, 0, 0, 1, 0, 0, 0, 0, 0, 0, 0, 0, 3, 0, 0, 0, 0, 0]}, {\"name\": \"6th\", \"type\": \"box\", \"x\": [\"Samsung\", \"Samsung\", \"Samsung\", \"Samsung\", \"Samsung\", \"Samsung\", \"Samsung\", \"Samsung\", \"Samsung\", \"Samsung\", \"Samsung\", \"Samsung\", \"Samsung\", \"Samsung\", \"Samsung\", \"Samsung\", \"Samsung\", \"Samsung\", \"Samsung\", \"Samsung\", \"Samsung\", \"Samsung\", \"Samsung\", \"Samsung\", \"Samsung\", \"Samsung\", \"Samsung\", \"Samsung\", \"Samsung\", \"Samsung\", \"Samsung\", \"Samsung\", \"Samsung\", \"LG\", \"LG\", \"LG\", \"LG\", \"LG\", \"LG\", \"LG\", \"LG\", \"LG\", \"LG\", \"LG\", \"LG\", \"LG\", \"LG\", \"LG\", \"LG\", \"LG\", \"LG\", \"LG\", \"LG\", \"LG\", \"LG\", \"Motorola\", \"Motorola\", \"Motorola\", \"Motorola\", \"HTC\", \"HTC\", \"HTC\", \"HTC\", \"HTC\", \"HTC\", \"HTC\", \"HTC\", \"HTC\", \"HTC\", \"ZTE\", \"ZTE\", \"ZTE\", \"ZTE\", \"ZTE\", \"ZTE\", \"ZTE\", \"Alcatel\", \"Alcatel\", \"Alcatel\", \"Alcatel\", \"Alcatel\", \"Huawei\", \"Huawei\", \"Kyocera\", \"Kyocera\", \"Kyocera\", \"ASUS\", \"ASUS\", \"Coolpad\", \"Slate\", \"Slate\", \"Sony\", \"Sony\"], \"y\": [0, 0, 0, 0, 0, 5, 4, 5, 5, 4, 5, 6, 5, 5, 6, 6, 0, 1, 0, 2, 0, 4, 1, 0, 1, 2, 2, 0, 1, 0, 1, 1, 0, 0, 0, 0, 0, 0, 0, 0, 0, 0, 0, 3, 0, 0, 0, 0, 0, 0, 3, 1, 0, 1, 1, 1, 0, 0, 0, 0, 0, 0, 0, 0, 0, 0, 0, 1, 0, 0, 0, 0, 0, 0, 0, 0, 0, 0, 0, 0, 0, 0, 0, 0, 0, 0, 0, 1, 0, 0, 0, 0, 0]}, {\"name\": \"7th\", \"type\": \"box\", \"x\": [\"Samsung\", \"Samsung\", \"Samsung\", \"Samsung\", \"Samsung\", \"Samsung\", \"Samsung\", \"Samsung\", \"Samsung\", \"Samsung\", \"Samsung\", \"Samsung\", \"Samsung\", \"Samsung\", \"Samsung\", \"Samsung\", \"Samsung\", \"Samsung\", \"Samsung\", \"Samsung\", \"Samsung\", \"Samsung\", \"Samsung\", \"Samsung\", \"Samsung\", \"Samsung\", \"Samsung\", \"Samsung\", \"Samsung\", \"Samsung\", \"Samsung\", \"Samsung\", \"LG\", \"LG\", \"LG\", \"LG\", \"LG\", \"LG\", \"LG\", \"LG\", \"LG\", \"LG\", \"LG\", \"LG\", \"LG\", \"LG\", \"LG\", \"LG\", \"Motorola\", \"Motorola\", \"Motorola\", \"HTC\", \"HTC\", \"HTC\", \"HTC\", \"HTC\", \"HTC\", \"HTC\", \"HTC\", \"HTC\", \"HTC\", \"ZTE\", \"ZTE\", \"ZTE\", \"ZTE\", \"ZTE\", \"ZTE\", \"Alcatel\", \"Alcatel\", \"Alcatel\", \"Alcatel\", \"Alcatel\", \"Huawei\", \"Kyocera\", \"Kyocera\", \"ASUS\", \"ASUS\", \"Slate\", \"Slate\", \"Sony\", \"Sony\"], \"y\": [0, 0, 0, 0, 0, 0, 0, 0, 0, 0, 0, 0, 0, 0, 1, 1, 0, 0, 0, 1, 0, 0, 0, 0, 0, 1, 0, 0, 0, 1, 0, 0, 0, 0, 0, 0, 0, 0, 2, 0, 1, 0, 0, 0, 0, 0, 0, 0, 0, 0, 0, 0, 0, 0, 0, 0, 0, 0, 0, 0, 0, 0, 0, 0, 1, 0, 0, 0, 0, 0, 0, 0, 0, 0, 0, 0, 0, 0, 0, 0, 0]}, {\"name\": \"8th\", \"type\": \"box\", \"x\": [\"Samsung\", \"Samsung\", \"Samsung\", \"Samsung\", \"Samsung\", \"Samsung\", \"Samsung\", \"Samsung\", \"Samsung\", \"Samsung\", \"Samsung\", \"Samsung\", \"Samsung\", \"Samsung\", \"Samsung\", \"Samsung\", \"Samsung\", \"Samsung\", \"Samsung\", \"Samsung\", \"Samsung\", \"Samsung\", \"Samsung\", \"LG\", \"LG\", \"LG\", \"LG\", \"LG\", \"LG\", \"LG\", \"LG\", \"LG\", \"LG\", \"LG\", \"LG\", \"Motorola\", \"Motorola\", \"Motorola\", \"HTC\", \"HTC\", \"HTC\", \"HTC\", \"HTC\", \"HTC\", \"HTC\", \"ZTE\", \"ZTE\", \"ZTE\", \"ZTE\", \"ZTE\", \"Alcatel\", \"Alcatel\", \"Alcatel\", \"Alcatel\", \"Huawei\", \"Kyocera\", \"Kyocera\", \"ASUS\", \"ASUS\", \"Slate\", \"Slate\", \"Sony\", \"Sony\"], \"y\": [0, 0, 0, 0, 0, 0, 0, 0, 0, 0, 0, 1, 0, 0, 0, 0, 2, 0, 0, 1, 0, 1, 1, 0, 0, 0, 0, 0, 0, 0, 0, 0, 0, 0, 0, 0, 0, 0, 0, 0, 0, 0, 0, 0, 0, 0, 0, 0, 0, 0, 0, 0, 0, 0, 0, 0, 0, 0, 0, 0, 0, 0, 0]}],\n",
       "                        {\"boxmode\": \"group\", \"colorway\": [\"rgb(60, 180, 75)\", \"rgb(230, 25, 75)\", \"rgb(0, 130, 200)\", \"rgb(245, 130, 48)\", \"rgb(145, 30, 180)\", \"rgb(240, 50, 230)\", \"rgb(0, 128, 128)\", \"rgb(170, 110, 40)\", \"rgb(0, 130, 200)\", \"rgb(128, 128, 128)\", \"rgb(128, 0, 0)\", \"rgb(170, 255, 195)\", \"rgb(128, 128, 0)\", \"rgb(255, 215, 180)\", \"rgb(0, 0, 128)\", \"rgb(128, 128, 128)\", \"rgb(255, 255, 255)\", \"rgb(230, 25, 75)\", \"rgb(0, 0, 0)\", \"rgb(255, 225, 25)\", \"rgb(255, 250, 200)\", \"rgb(250, 190, 190)\"], \"font\": {\"size\": 20}, \"legend\": {\"orientation\": \"h\", \"x\": 0.24, \"y\": 1.15}, \"plot_bgcolor\": \"rgba(0,0,0,0)\", \"template\": {\"data\": {\"bar\": [{\"error_x\": {\"color\": \"#2a3f5f\"}, \"error_y\": {\"color\": \"#2a3f5f\"}, \"marker\": {\"line\": {\"color\": \"#E5ECF6\", \"width\": 0.5}}, \"type\": \"bar\"}], \"barpolar\": [{\"marker\": {\"line\": {\"color\": \"#E5ECF6\", \"width\": 0.5}}, \"type\": \"barpolar\"}], \"carpet\": [{\"aaxis\": {\"endlinecolor\": \"#2a3f5f\", \"gridcolor\": \"white\", \"linecolor\": \"white\", \"minorgridcolor\": \"white\", \"startlinecolor\": \"#2a3f5f\"}, \"baxis\": {\"endlinecolor\": \"#2a3f5f\", \"gridcolor\": \"white\", \"linecolor\": \"white\", \"minorgridcolor\": \"white\", \"startlinecolor\": \"#2a3f5f\"}, \"type\": \"carpet\"}], \"choropleth\": [{\"colorbar\": {\"outlinewidth\": 0, \"ticks\": \"\"}, \"type\": \"choropleth\"}], \"contour\": [{\"colorbar\": {\"outlinewidth\": 0, \"ticks\": \"\"}, \"colorscale\": [[0.0, \"#0d0887\"], [0.1111111111111111, \"#46039f\"], [0.2222222222222222, \"#7201a8\"], [0.3333333333333333, \"#9c179e\"], [0.4444444444444444, \"#bd3786\"], [0.5555555555555556, \"#d8576b\"], [0.6666666666666666, \"#ed7953\"], [0.7777777777777778, \"#fb9f3a\"], [0.8888888888888888, \"#fdca26\"], [1.0, \"#f0f921\"]], \"type\": \"contour\"}], \"contourcarpet\": [{\"colorbar\": {\"outlinewidth\": 0, \"ticks\": \"\"}, \"type\": \"contourcarpet\"}], \"heatmap\": [{\"colorbar\": {\"outlinewidth\": 0, \"ticks\": \"\"}, \"colorscale\": [[0.0, \"#0d0887\"], [0.1111111111111111, \"#46039f\"], [0.2222222222222222, \"#7201a8\"], [0.3333333333333333, \"#9c179e\"], [0.4444444444444444, \"#bd3786\"], [0.5555555555555556, \"#d8576b\"], [0.6666666666666666, \"#ed7953\"], [0.7777777777777778, \"#fb9f3a\"], [0.8888888888888888, \"#fdca26\"], [1.0, \"#f0f921\"]], \"type\": \"heatmap\"}], \"heatmapgl\": [{\"colorbar\": {\"outlinewidth\": 0, \"ticks\": \"\"}, \"colorscale\": [[0.0, \"#0d0887\"], [0.1111111111111111, \"#46039f\"], [0.2222222222222222, \"#7201a8\"], [0.3333333333333333, \"#9c179e\"], [0.4444444444444444, \"#bd3786\"], [0.5555555555555556, \"#d8576b\"], [0.6666666666666666, \"#ed7953\"], [0.7777777777777778, \"#fb9f3a\"], [0.8888888888888888, \"#fdca26\"], [1.0, \"#f0f921\"]], \"type\": \"heatmapgl\"}], \"histogram\": [{\"marker\": {\"colorbar\": {\"outlinewidth\": 0, \"ticks\": \"\"}}, \"type\": \"histogram\"}], \"histogram2d\": [{\"colorbar\": {\"outlinewidth\": 0, \"ticks\": \"\"}, \"colorscale\": [[0.0, \"#0d0887\"], [0.1111111111111111, \"#46039f\"], [0.2222222222222222, \"#7201a8\"], [0.3333333333333333, \"#9c179e\"], [0.4444444444444444, \"#bd3786\"], [0.5555555555555556, \"#d8576b\"], [0.6666666666666666, \"#ed7953\"], [0.7777777777777778, \"#fb9f3a\"], [0.8888888888888888, \"#fdca26\"], [1.0, \"#f0f921\"]], \"type\": \"histogram2d\"}], \"histogram2dcontour\": [{\"colorbar\": {\"outlinewidth\": 0, \"ticks\": \"\"}, \"colorscale\": [[0.0, \"#0d0887\"], [0.1111111111111111, \"#46039f\"], [0.2222222222222222, \"#7201a8\"], [0.3333333333333333, \"#9c179e\"], [0.4444444444444444, \"#bd3786\"], [0.5555555555555556, \"#d8576b\"], [0.6666666666666666, \"#ed7953\"], [0.7777777777777778, \"#fb9f3a\"], [0.8888888888888888, \"#fdca26\"], [1.0, \"#f0f921\"]], \"type\": \"histogram2dcontour\"}], \"mesh3d\": [{\"colorbar\": {\"outlinewidth\": 0, \"ticks\": \"\"}, \"type\": \"mesh3d\"}], \"parcoords\": [{\"line\": {\"colorbar\": {\"outlinewidth\": 0, \"ticks\": \"\"}}, \"type\": \"parcoords\"}], \"pie\": [{\"automargin\": true, \"type\": \"pie\"}], \"scatter\": [{\"marker\": {\"colorbar\": {\"outlinewidth\": 0, \"ticks\": \"\"}}, \"type\": \"scatter\"}], \"scatter3d\": [{\"line\": {\"colorbar\": {\"outlinewidth\": 0, \"ticks\": \"\"}}, \"marker\": {\"colorbar\": {\"outlinewidth\": 0, \"ticks\": \"\"}}, \"type\": \"scatter3d\"}], \"scattercarpet\": [{\"marker\": {\"colorbar\": {\"outlinewidth\": 0, \"ticks\": \"\"}}, \"type\": \"scattercarpet\"}], \"scattergeo\": [{\"marker\": {\"colorbar\": {\"outlinewidth\": 0, \"ticks\": \"\"}}, \"type\": \"scattergeo\"}], \"scattergl\": [{\"marker\": {\"colorbar\": {\"outlinewidth\": 0, \"ticks\": \"\"}}, \"type\": \"scattergl\"}], \"scattermapbox\": [{\"marker\": {\"colorbar\": {\"outlinewidth\": 0, \"ticks\": \"\"}}, \"type\": \"scattermapbox\"}], \"scatterpolar\": [{\"marker\": {\"colorbar\": {\"outlinewidth\": 0, \"ticks\": \"\"}}, \"type\": \"scatterpolar\"}], \"scatterpolargl\": [{\"marker\": {\"colorbar\": {\"outlinewidth\": 0, \"ticks\": \"\"}}, \"type\": \"scatterpolargl\"}], \"scatterternary\": [{\"marker\": {\"colorbar\": {\"outlinewidth\": 0, \"ticks\": \"\"}}, \"type\": \"scatterternary\"}], \"surface\": [{\"colorbar\": {\"outlinewidth\": 0, \"ticks\": \"\"}, \"colorscale\": [[0.0, \"#0d0887\"], [0.1111111111111111, \"#46039f\"], [0.2222222222222222, \"#7201a8\"], [0.3333333333333333, \"#9c179e\"], [0.4444444444444444, \"#bd3786\"], [0.5555555555555556, \"#d8576b\"], [0.6666666666666666, \"#ed7953\"], [0.7777777777777778, \"#fb9f3a\"], [0.8888888888888888, \"#fdca26\"], [1.0, \"#f0f921\"]], \"type\": \"surface\"}], \"table\": [{\"cells\": {\"fill\": {\"color\": \"#EBF0F8\"}, \"line\": {\"color\": \"white\"}}, \"header\": {\"fill\": {\"color\": \"#C8D4E3\"}, \"line\": {\"color\": \"white\"}}, \"type\": \"table\"}]}, \"layout\": {\"annotationdefaults\": {\"arrowcolor\": \"#2a3f5f\", \"arrowhead\": 0, \"arrowwidth\": 1}, \"coloraxis\": {\"colorbar\": {\"outlinewidth\": 0, \"ticks\": \"\"}}, \"colorscale\": {\"diverging\": [[0, \"#8e0152\"], [0.1, \"#c51b7d\"], [0.2, \"#de77ae\"], [0.3, \"#f1b6da\"], [0.4, \"#fde0ef\"], [0.5, \"#f7f7f7\"], [0.6, \"#e6f5d0\"], [0.7, \"#b8e186\"], [0.8, \"#7fbc41\"], [0.9, \"#4d9221\"], [1, \"#276419\"]], \"sequential\": [[0.0, \"#0d0887\"], [0.1111111111111111, \"#46039f\"], [0.2222222222222222, \"#7201a8\"], [0.3333333333333333, \"#9c179e\"], [0.4444444444444444, \"#bd3786\"], [0.5555555555555556, \"#d8576b\"], [0.6666666666666666, \"#ed7953\"], [0.7777777777777778, \"#fb9f3a\"], [0.8888888888888888, \"#fdca26\"], [1.0, \"#f0f921\"]], \"sequentialminus\": [[0.0, \"#0d0887\"], [0.1111111111111111, \"#46039f\"], [0.2222222222222222, \"#7201a8\"], [0.3333333333333333, \"#9c179e\"], [0.4444444444444444, \"#bd3786\"], [0.5555555555555556, \"#d8576b\"], [0.6666666666666666, \"#ed7953\"], [0.7777777777777778, \"#fb9f3a\"], [0.8888888888888888, \"#fdca26\"], [1.0, \"#f0f921\"]]}, \"colorway\": [\"#636efa\", \"#EF553B\", \"#00cc96\", \"#ab63fa\", \"#FFA15A\", \"#19d3f3\", \"#FF6692\", \"#B6E880\", \"#FF97FF\", \"#FECB52\"], \"font\": {\"color\": \"#2a3f5f\"}, \"geo\": {\"bgcolor\": \"white\", \"lakecolor\": \"white\", \"landcolor\": \"#E5ECF6\", \"showlakes\": true, \"showland\": true, \"subunitcolor\": \"white\"}, \"hoverlabel\": {\"align\": \"left\"}, \"hovermode\": \"closest\", \"mapbox\": {\"style\": \"light\"}, \"paper_bgcolor\": \"white\", \"plot_bgcolor\": \"#E5ECF6\", \"polar\": {\"angularaxis\": {\"gridcolor\": \"white\", \"linecolor\": \"white\", \"ticks\": \"\"}, \"bgcolor\": \"#E5ECF6\", \"radialaxis\": {\"gridcolor\": \"white\", \"linecolor\": \"white\", \"ticks\": \"\"}}, \"scene\": {\"xaxis\": {\"backgroundcolor\": \"#E5ECF6\", \"gridcolor\": \"white\", \"gridwidth\": 2, \"linecolor\": \"white\", \"showbackground\": true, \"ticks\": \"\", \"zerolinecolor\": \"white\"}, \"yaxis\": {\"backgroundcolor\": \"#E5ECF6\", \"gridcolor\": \"white\", \"gridwidth\": 2, \"linecolor\": \"white\", \"showbackground\": true, \"ticks\": \"\", \"zerolinecolor\": \"white\"}, \"zaxis\": {\"backgroundcolor\": \"#E5ECF6\", \"gridcolor\": \"white\", \"gridwidth\": 2, \"linecolor\": \"white\", \"showbackground\": true, \"ticks\": \"\", \"zerolinecolor\": \"white\"}}, \"shapedefaults\": {\"line\": {\"color\": \"#2a3f5f\"}}, \"ternary\": {\"aaxis\": {\"gridcolor\": \"white\", \"linecolor\": \"white\", \"ticks\": \"\"}, \"baxis\": {\"gridcolor\": \"white\", \"linecolor\": \"white\", \"ticks\": \"\"}, \"bgcolor\": \"#E5ECF6\", \"caxis\": {\"gridcolor\": \"white\", \"linecolor\": \"white\", \"ticks\": \"\"}}, \"title\": {\"x\": 0.05}, \"xaxis\": {\"automargin\": true, \"gridcolor\": \"white\", \"linecolor\": \"white\", \"ticks\": \"\", \"title\": {\"standoff\": 15}, \"zerolinecolor\": \"white\", \"zerolinewidth\": 2}, \"yaxis\": {\"automargin\": true, \"gridcolor\": \"white\", \"linecolor\": \"white\", \"ticks\": \"\", \"title\": {\"standoff\": 15}, \"zerolinecolor\": \"white\", \"zerolinewidth\": 2}}}, \"yaxis\": {\"gridcolor\": \"rgb(219, 219, 219)\", \"showgrid\": true, \"title\": {\"text\": \"Number of Updates\"}}},\n",
       "                        {\"responsive\": true}\n",
       "                    ).then(function(){\n",
       "                            \n",
       "var gd = document.getElementById('0f28ed62-9256-4e7b-b1f9-805a8de23822');\n",
       "var x = new MutationObserver(function (mutations, observer) {{\n",
       "        var display = window.getComputedStyle(gd).display;\n",
       "        if (!display || display === 'none') {{\n",
       "            console.log([gd, 'removed!']);\n",
       "            Plotly.purge(gd);\n",
       "            observer.disconnect();\n",
       "        }}\n",
       "}});\n",
       "\n",
       "// Listen for the removal of the full notebook cells\n",
       "var notebookContainer = gd.closest('#notebook-container');\n",
       "if (notebookContainer) {{\n",
       "    x.observe(notebookContainer, {childList: true});\n",
       "}}\n",
       "\n",
       "// Listen for the clearing of the current output cell\n",
       "var outputEl = gd.closest('.output');\n",
       "if (outputEl) {{\n",
       "    x.observe(outputEl, {childList: true});\n",
       "}}\n",
       "\n",
       "                        })\n",
       "                };\n",
       "                });\n",
       "            </script>\n",
       "        </div>"
      ]
     },
     "metadata": {},
     "output_type": "display_data"
    },
    {
     "name": "stdout",
     "output_type": "stream",
     "text": [
      "REMEMBER TO TAKE OUT VERIZON\n",
      "REMEMBER TO TAKE OUT VERIZON\n",
      "REMEMBER TO TAKE OUT VERIZON\n"
     ]
    }
   ],
   "source": [
    "data=[]\n",
    "total_updates={}\n",
    "total_years={}\n",
    "total_updates_wZeroes={}\n",
    "total_man_wZeroes={}\n",
    "\n",
    "\n",
    "print(len(carrierDF.Manufacture.unique()))\n",
    "normedMan=[]\n",
    "for man in carrierDF.Manufacture.unique():\n",
    "    normedMan.append(man)\n",
    "importantMan=list(set(normedMan)) # get a list of important manufacturers\n",
    "    \n",
    "# sort important manufactures based on number of updates\n",
    "manLengths=[]\n",
    "for man in importantMan:\n",
    "    manLengths.append(len(carrierDF[carrierDF.Manufacture==man]))\n",
    "importantMan = [x for _,x in sorted(zip(manLengths,importantMan),reverse=True)]\n",
    "   \n",
    "\n",
    "for yr in range(int(12/howManyMonths)*4):# for each year range,\n",
    "    properList_update_wZeroes=[]\n",
    "    properList_manu_wZeroes=[]\n",
    "    for man in importantMan:# for each manufacturer\n",
    "        properList_update_wZeroes.extend(freqPointsManAllDevices[man][yr])\n",
    "        properList_manu_wZeroes.extend([man for _ in range(len(freqPointsManAllDevices[man][yr]))]) # +\" period\"   \n",
    "    total_updates_wZeroes[yr]=properList_update_wZeroes.copy()\n",
    "    total_man_wZeroes[yr]=properList_manu_wZeroes.copy()\n",
    "    \n",
    "for yr in range(int(12/howManyMonths)*4): # per each year\n",
    "    formatGood=\"th\"\n",
    "    if yr==0:\n",
    "        formatGood=\"st\"\n",
    "    elif yr==1:\n",
    "        formatGood=\"nd\"\n",
    "    elif yr==2:\n",
    "        formatGood=\"rd\"\n",
    "        \n",
    "    data.append(go.Box(\n",
    "            x=total_man_wZeroes[yr], # needs to be each manufacturer\n",
    "            y=total_updates_wZeroes[yr],\n",
    "            name=str(yr+1)+formatGood,\n",
    "            #marker=dict(color='rgb'+str(lvlColor[man]))\n",
    "        ))\n",
    "    \n",
    "# Edit the layout\n",
    "colorway=['rgb(60, 180, 75)', 'rgb(230, 25, 75)', 'rgb(0, 130, 200)', 'rgb(245, 130, 48)', 'rgb(145, 30, 180)', 'rgb(240, 50, 230)', 'rgb(0, 128, 128)', 'rgb(170, 110, 40)', 'rgb(0, 130, 200)', 'rgb(128, 128, 128)','rgb(128, 0, 0)', 'rgb(170, 255, 195)', 'rgb(128, 128, 0)', 'rgb(255, 215, 180)', 'rgb(0, 0, 128)', 'rgb(128, 128, 128)', 'rgb(255, 255, 255)','rgb(230, 25, 75)',  'rgb(0, 0, 0)','rgb(255, 225, 25)',  'rgb(255, 250, 200)', 'rgb(250, 190, 190)']\n",
    "layout = dict(#title = \"Number of True Updates per 6 Month Period after Release per Manufacture \",\n",
    "              yaxis = dict(title = 'Number of Updates',showgrid=True, gridcolor='rgb(219, 219, 219)'),\n",
    "              #xaxis = dict(title = '6 Month Period',showgrid=True,zeroline=True,showline=True,zerolinecolor='#969696'),\n",
    "              plot_bgcolor='rgba(0,0,0,0)',\n",
    "              boxmode='group',\n",
    "              colorway=colorway,\n",
    "              legend_orientation=\"h\",\n",
    "              legend=dict(x=0.24, y=1.15), # for pt .33\n",
    "              font=dict(size=20)\n",
    "              )\n",
    "\n",
    "fig = dict(data=data, layout=layout)\n",
    "py.offline.iplot(fig, filename='release-years-frequency-per-carrier.png')\n",
    "\n",
    "print(\"REMEMBER TO TAKE OUT VERIZON\")\n",
    "print(\"REMEMBER TO TAKE OUT VERIZON\")\n",
    "print(\"REMEMBER TO TAKE OUT VERIZON\")\n",
    "\n",
    "if not \"Verizon\" in carrierDF.Carrier.values and saveFigs==True: # only save if no Verizon\n",
    "    pio.write_image(fig, 'manufacture-freq-all.pdf', width=1100, height=600)"
   ]
  },
  {
   "cell_type": "code",
   "execution_count": 12,
   "metadata": {},
   "outputs": [
    {
     "name": "stdout",
     "output_type": "stream",
     "text": [
      "21\n"
     ]
    },
    {
     "data": {
      "application/vnd.plotly.v1+json": {
       "config": {
        "linkText": "Export to plot.ly",
        "plotlyServerURL": "https://plot.ly",
        "showLink": false
       },
       "data": [
        {
         "name": "1st",
         "type": "bar",
         "x": [
          "Samsung",
          "LG",
          "Motorola",
          "HTC",
          "ZTE",
          "Alcatel",
          "Huawei",
          "Revvl(T-Mobile)",
          "Google",
          "Kyocera",
          "Coolpad"
         ],
         "y": [
          6,
          5,
          4,
          4,
          2,
          3,
          4,
          3,
          1,
          1,
          2
         ]
        },
        {
         "name": "2nd",
         "type": "bar",
         "x": [
          "Samsung",
          "LG",
          "Motorola",
          "HTC",
          "ZTE",
          "Alcatel",
          "Huawei",
          "Revvl(T-Mobile)",
          "Kyocera",
          "Coolpad"
         ],
         "y": [
          6,
          6,
          2,
          2,
          2,
          1,
          3,
          1,
          1,
          1
         ]
        },
        {
         "name": "3rd",
         "type": "bar",
         "x": [
          "Samsung",
          "LG",
          "Motorola",
          "HTC",
          "ZTE",
          "Alcatel",
          "Huawei",
          "Revvl(T-Mobile)",
          "Kyocera",
          "Coolpad"
         ],
         "y": [
          6,
          5,
          5,
          2,
          2,
          2,
          2,
          1,
          0,
          0
         ]
        },
        {
         "name": "4th",
         "type": "bar",
         "x": [
          "Samsung",
          "LG",
          "Motorola",
          "HTC",
          "ZTE",
          "Alcatel",
          "Huawei",
          "Revvl(T-Mobile)",
          "Kyocera",
          "Coolpad"
         ],
         "y": [
          6,
          5,
          2,
          3,
          2,
          1,
          0,
          1,
          1,
          0
         ]
        },
        {
         "name": "5th",
         "type": "bar",
         "x": [
          "Samsung",
          "LG",
          "Motorola",
          "HTC",
          "ZTE",
          "Alcatel",
          "Huawei",
          "Kyocera",
          "Coolpad"
         ],
         "y": [
          6,
          5,
          2,
          3,
          2,
          1,
          0,
          0,
          0
         ]
        },
        {
         "name": "6th",
         "type": "bar",
         "x": [
          "Samsung",
          "LG",
          "Motorola",
          "HTC",
          "ZTE",
          "Alcatel",
          "Huawei",
          "Kyocera",
          "Coolpad"
         ],
         "y": [
          6,
          3,
          1,
          1,
          0,
          0,
          0,
          0,
          0
         ]
        },
        {
         "name": "7th",
         "type": "bar",
         "x": [
          "Samsung",
          "LG",
          "Motorola",
          "HTC",
          "ZTE",
          "Alcatel",
          "Huawei",
          "Kyocera"
         ],
         "y": [
          1,
          2,
          0,
          0,
          1,
          0,
          0,
          0
         ]
        },
        {
         "name": "8th",
         "type": "bar",
         "x": [
          "Samsung",
          "LG",
          "Motorola",
          "HTC",
          "ZTE",
          "Alcatel",
          "Huawei",
          "Kyocera"
         ],
         "y": [
          2,
          0,
          0,
          0,
          0,
          0,
          0,
          0
         ]
        }
       ],
       "layout": {
        "boxmode": "group",
        "colorway": [
         "rgb(60, 180, 75)",
         "rgb(230, 25, 75)",
         "rgb(0, 130, 200)",
         "rgb(245, 130, 48)",
         "rgb(145, 30, 180)",
         "rgb(240, 50, 230)",
         "rgb(0, 128, 128)",
         "rgb(170, 110, 40)",
         "rgb(0, 130, 200)",
         "rgb(128, 128, 128)",
         "rgb(128, 0, 0)",
         "rgb(170, 255, 195)",
         "rgb(128, 128, 0)",
         "rgb(255, 215, 180)",
         "rgb(0, 0, 128)",
         "rgb(128, 128, 128)",
         "rgb(255, 255, 255)",
         "rgb(230, 25, 75)",
         "rgb(0, 0, 0)",
         "rgb(255, 225, 25)",
         "rgb(255, 250, 200)",
         "rgb(250, 190, 190)"
        ],
        "font": {
         "size": 20
        },
        "legend": {
         "orientation": "h",
         "x": 0.24,
         "y": 1.15
        },
        "plot_bgcolor": "rgba(0,0,0,0)",
        "template": {
         "data": {
          "bar": [
           {
            "error_x": {
             "color": "#2a3f5f"
            },
            "error_y": {
             "color": "#2a3f5f"
            },
            "marker": {
             "line": {
              "color": "#E5ECF6",
              "width": 0.5
             }
            },
            "type": "bar"
           }
          ],
          "barpolar": [
           {
            "marker": {
             "line": {
              "color": "#E5ECF6",
              "width": 0.5
             }
            },
            "type": "barpolar"
           }
          ],
          "carpet": [
           {
            "aaxis": {
             "endlinecolor": "#2a3f5f",
             "gridcolor": "white",
             "linecolor": "white",
             "minorgridcolor": "white",
             "startlinecolor": "#2a3f5f"
            },
            "baxis": {
             "endlinecolor": "#2a3f5f",
             "gridcolor": "white",
             "linecolor": "white",
             "minorgridcolor": "white",
             "startlinecolor": "#2a3f5f"
            },
            "type": "carpet"
           }
          ],
          "choropleth": [
           {
            "colorbar": {
             "outlinewidth": 0,
             "ticks": ""
            },
            "type": "choropleth"
           }
          ],
          "contour": [
           {
            "colorbar": {
             "outlinewidth": 0,
             "ticks": ""
            },
            "colorscale": [
             [
              0,
              "#0d0887"
             ],
             [
              0.1111111111111111,
              "#46039f"
             ],
             [
              0.2222222222222222,
              "#7201a8"
             ],
             [
              0.3333333333333333,
              "#9c179e"
             ],
             [
              0.4444444444444444,
              "#bd3786"
             ],
             [
              0.5555555555555556,
              "#d8576b"
             ],
             [
              0.6666666666666666,
              "#ed7953"
             ],
             [
              0.7777777777777778,
              "#fb9f3a"
             ],
             [
              0.8888888888888888,
              "#fdca26"
             ],
             [
              1,
              "#f0f921"
             ]
            ],
            "type": "contour"
           }
          ],
          "contourcarpet": [
           {
            "colorbar": {
             "outlinewidth": 0,
             "ticks": ""
            },
            "type": "contourcarpet"
           }
          ],
          "heatmap": [
           {
            "colorbar": {
             "outlinewidth": 0,
             "ticks": ""
            },
            "colorscale": [
             [
              0,
              "#0d0887"
             ],
             [
              0.1111111111111111,
              "#46039f"
             ],
             [
              0.2222222222222222,
              "#7201a8"
             ],
             [
              0.3333333333333333,
              "#9c179e"
             ],
             [
              0.4444444444444444,
              "#bd3786"
             ],
             [
              0.5555555555555556,
              "#d8576b"
             ],
             [
              0.6666666666666666,
              "#ed7953"
             ],
             [
              0.7777777777777778,
              "#fb9f3a"
             ],
             [
              0.8888888888888888,
              "#fdca26"
             ],
             [
              1,
              "#f0f921"
             ]
            ],
            "type": "heatmap"
           }
          ],
          "heatmapgl": [
           {
            "colorbar": {
             "outlinewidth": 0,
             "ticks": ""
            },
            "colorscale": [
             [
              0,
              "#0d0887"
             ],
             [
              0.1111111111111111,
              "#46039f"
             ],
             [
              0.2222222222222222,
              "#7201a8"
             ],
             [
              0.3333333333333333,
              "#9c179e"
             ],
             [
              0.4444444444444444,
              "#bd3786"
             ],
             [
              0.5555555555555556,
              "#d8576b"
             ],
             [
              0.6666666666666666,
              "#ed7953"
             ],
             [
              0.7777777777777778,
              "#fb9f3a"
             ],
             [
              0.8888888888888888,
              "#fdca26"
             ],
             [
              1,
              "#f0f921"
             ]
            ],
            "type": "heatmapgl"
           }
          ],
          "histogram": [
           {
            "marker": {
             "colorbar": {
              "outlinewidth": 0,
              "ticks": ""
             }
            },
            "type": "histogram"
           }
          ],
          "histogram2d": [
           {
            "colorbar": {
             "outlinewidth": 0,
             "ticks": ""
            },
            "colorscale": [
             [
              0,
              "#0d0887"
             ],
             [
              0.1111111111111111,
              "#46039f"
             ],
             [
              0.2222222222222222,
              "#7201a8"
             ],
             [
              0.3333333333333333,
              "#9c179e"
             ],
             [
              0.4444444444444444,
              "#bd3786"
             ],
             [
              0.5555555555555556,
              "#d8576b"
             ],
             [
              0.6666666666666666,
              "#ed7953"
             ],
             [
              0.7777777777777778,
              "#fb9f3a"
             ],
             [
              0.8888888888888888,
              "#fdca26"
             ],
             [
              1,
              "#f0f921"
             ]
            ],
            "type": "histogram2d"
           }
          ],
          "histogram2dcontour": [
           {
            "colorbar": {
             "outlinewidth": 0,
             "ticks": ""
            },
            "colorscale": [
             [
              0,
              "#0d0887"
             ],
             [
              0.1111111111111111,
              "#46039f"
             ],
             [
              0.2222222222222222,
              "#7201a8"
             ],
             [
              0.3333333333333333,
              "#9c179e"
             ],
             [
              0.4444444444444444,
              "#bd3786"
             ],
             [
              0.5555555555555556,
              "#d8576b"
             ],
             [
              0.6666666666666666,
              "#ed7953"
             ],
             [
              0.7777777777777778,
              "#fb9f3a"
             ],
             [
              0.8888888888888888,
              "#fdca26"
             ],
             [
              1,
              "#f0f921"
             ]
            ],
            "type": "histogram2dcontour"
           }
          ],
          "mesh3d": [
           {
            "colorbar": {
             "outlinewidth": 0,
             "ticks": ""
            },
            "type": "mesh3d"
           }
          ],
          "parcoords": [
           {
            "line": {
             "colorbar": {
              "outlinewidth": 0,
              "ticks": ""
             }
            },
            "type": "parcoords"
           }
          ],
          "pie": [
           {
            "automargin": true,
            "type": "pie"
           }
          ],
          "scatter": [
           {
            "marker": {
             "colorbar": {
              "outlinewidth": 0,
              "ticks": ""
             }
            },
            "type": "scatter"
           }
          ],
          "scatter3d": [
           {
            "line": {
             "colorbar": {
              "outlinewidth": 0,
              "ticks": ""
             }
            },
            "marker": {
             "colorbar": {
              "outlinewidth": 0,
              "ticks": ""
             }
            },
            "type": "scatter3d"
           }
          ],
          "scattercarpet": [
           {
            "marker": {
             "colorbar": {
              "outlinewidth": 0,
              "ticks": ""
             }
            },
            "type": "scattercarpet"
           }
          ],
          "scattergeo": [
           {
            "marker": {
             "colorbar": {
              "outlinewidth": 0,
              "ticks": ""
             }
            },
            "type": "scattergeo"
           }
          ],
          "scattergl": [
           {
            "marker": {
             "colorbar": {
              "outlinewidth": 0,
              "ticks": ""
             }
            },
            "type": "scattergl"
           }
          ],
          "scattermapbox": [
           {
            "marker": {
             "colorbar": {
              "outlinewidth": 0,
              "ticks": ""
             }
            },
            "type": "scattermapbox"
           }
          ],
          "scatterpolar": [
           {
            "marker": {
             "colorbar": {
              "outlinewidth": 0,
              "ticks": ""
             }
            },
            "type": "scatterpolar"
           }
          ],
          "scatterpolargl": [
           {
            "marker": {
             "colorbar": {
              "outlinewidth": 0,
              "ticks": ""
             }
            },
            "type": "scatterpolargl"
           }
          ],
          "scatterternary": [
           {
            "marker": {
             "colorbar": {
              "outlinewidth": 0,
              "ticks": ""
             }
            },
            "type": "scatterternary"
           }
          ],
          "surface": [
           {
            "colorbar": {
             "outlinewidth": 0,
             "ticks": ""
            },
            "colorscale": [
             [
              0,
              "#0d0887"
             ],
             [
              0.1111111111111111,
              "#46039f"
             ],
             [
              0.2222222222222222,
              "#7201a8"
             ],
             [
              0.3333333333333333,
              "#9c179e"
             ],
             [
              0.4444444444444444,
              "#bd3786"
             ],
             [
              0.5555555555555556,
              "#d8576b"
             ],
             [
              0.6666666666666666,
              "#ed7953"
             ],
             [
              0.7777777777777778,
              "#fb9f3a"
             ],
             [
              0.8888888888888888,
              "#fdca26"
             ],
             [
              1,
              "#f0f921"
             ]
            ],
            "type": "surface"
           }
          ],
          "table": [
           {
            "cells": {
             "fill": {
              "color": "#EBF0F8"
             },
             "line": {
              "color": "white"
             }
            },
            "header": {
             "fill": {
              "color": "#C8D4E3"
             },
             "line": {
              "color": "white"
             }
            },
            "type": "table"
           }
          ]
         },
         "layout": {
          "annotationdefaults": {
           "arrowcolor": "#2a3f5f",
           "arrowhead": 0,
           "arrowwidth": 1
          },
          "coloraxis": {
           "colorbar": {
            "outlinewidth": 0,
            "ticks": ""
           }
          },
          "colorscale": {
           "diverging": [
            [
             0,
             "#8e0152"
            ],
            [
             0.1,
             "#c51b7d"
            ],
            [
             0.2,
             "#de77ae"
            ],
            [
             0.3,
             "#f1b6da"
            ],
            [
             0.4,
             "#fde0ef"
            ],
            [
             0.5,
             "#f7f7f7"
            ],
            [
             0.6,
             "#e6f5d0"
            ],
            [
             0.7,
             "#b8e186"
            ],
            [
             0.8,
             "#7fbc41"
            ],
            [
             0.9,
             "#4d9221"
            ],
            [
             1,
             "#276419"
            ]
           ],
           "sequential": [
            [
             0,
             "#0d0887"
            ],
            [
             0.1111111111111111,
             "#46039f"
            ],
            [
             0.2222222222222222,
             "#7201a8"
            ],
            [
             0.3333333333333333,
             "#9c179e"
            ],
            [
             0.4444444444444444,
             "#bd3786"
            ],
            [
             0.5555555555555556,
             "#d8576b"
            ],
            [
             0.6666666666666666,
             "#ed7953"
            ],
            [
             0.7777777777777778,
             "#fb9f3a"
            ],
            [
             0.8888888888888888,
             "#fdca26"
            ],
            [
             1,
             "#f0f921"
            ]
           ],
           "sequentialminus": [
            [
             0,
             "#0d0887"
            ],
            [
             0.1111111111111111,
             "#46039f"
            ],
            [
             0.2222222222222222,
             "#7201a8"
            ],
            [
             0.3333333333333333,
             "#9c179e"
            ],
            [
             0.4444444444444444,
             "#bd3786"
            ],
            [
             0.5555555555555556,
             "#d8576b"
            ],
            [
             0.6666666666666666,
             "#ed7953"
            ],
            [
             0.7777777777777778,
             "#fb9f3a"
            ],
            [
             0.8888888888888888,
             "#fdca26"
            ],
            [
             1,
             "#f0f921"
            ]
           ]
          },
          "colorway": [
           "#636efa",
           "#EF553B",
           "#00cc96",
           "#ab63fa",
           "#FFA15A",
           "#19d3f3",
           "#FF6692",
           "#B6E880",
           "#FF97FF",
           "#FECB52"
          ],
          "font": {
           "color": "#2a3f5f"
          },
          "geo": {
           "bgcolor": "white",
           "lakecolor": "white",
           "landcolor": "#E5ECF6",
           "showlakes": true,
           "showland": true,
           "subunitcolor": "white"
          },
          "hoverlabel": {
           "align": "left"
          },
          "hovermode": "closest",
          "mapbox": {
           "style": "light"
          },
          "paper_bgcolor": "white",
          "plot_bgcolor": "#E5ECF6",
          "polar": {
           "angularaxis": {
            "gridcolor": "white",
            "linecolor": "white",
            "ticks": ""
           },
           "bgcolor": "#E5ECF6",
           "radialaxis": {
            "gridcolor": "white",
            "linecolor": "white",
            "ticks": ""
           }
          },
          "scene": {
           "xaxis": {
            "backgroundcolor": "#E5ECF6",
            "gridcolor": "white",
            "gridwidth": 2,
            "linecolor": "white",
            "showbackground": true,
            "ticks": "",
            "zerolinecolor": "white"
           },
           "yaxis": {
            "backgroundcolor": "#E5ECF6",
            "gridcolor": "white",
            "gridwidth": 2,
            "linecolor": "white",
            "showbackground": true,
            "ticks": "",
            "zerolinecolor": "white"
           },
           "zaxis": {
            "backgroundcolor": "#E5ECF6",
            "gridcolor": "white",
            "gridwidth": 2,
            "linecolor": "white",
            "showbackground": true,
            "ticks": "",
            "zerolinecolor": "white"
           }
          },
          "shapedefaults": {
           "line": {
            "color": "#2a3f5f"
           }
          },
          "ternary": {
           "aaxis": {
            "gridcolor": "white",
            "linecolor": "white",
            "ticks": ""
           },
           "baxis": {
            "gridcolor": "white",
            "linecolor": "white",
            "ticks": ""
           },
           "bgcolor": "#E5ECF6",
           "caxis": {
            "gridcolor": "white",
            "linecolor": "white",
            "ticks": ""
           }
          },
          "title": {
           "x": 0.05
          },
          "xaxis": {
           "automargin": true,
           "gridcolor": "white",
           "linecolor": "white",
           "ticks": "",
           "title": {
            "standoff": 15
           },
           "zerolinecolor": "white",
           "zerolinewidth": 2
          },
          "yaxis": {
           "automargin": true,
           "gridcolor": "white",
           "linecolor": "white",
           "ticks": "",
           "title": {
            "standoff": 15
           },
           "zerolinecolor": "white",
           "zerolinewidth": 2
          }
         }
        },
        "yaxis": {
         "gridcolor": "rgb(219, 219, 219)",
         "showgrid": true,
         "title": {
          "text": "Number of Updates"
         }
        }
       }
      },
      "text/html": [
       "<div>\n",
       "        \n",
       "        \n",
       "            <div id=\"aa2efb9d-af92-4ce3-938a-ddb89580e73d\" class=\"plotly-graph-div\" style=\"height:525px; width:100%;\"></div>\n",
       "            <script type=\"text/javascript\">\n",
       "                require([\"plotly\"], function(Plotly) {\n",
       "                    window.PLOTLYENV=window.PLOTLYENV || {};\n",
       "                    \n",
       "                if (document.getElementById(\"aa2efb9d-af92-4ce3-938a-ddb89580e73d\")) {\n",
       "                    Plotly.newPlot(\n",
       "                        'aa2efb9d-af92-4ce3-938a-ddb89580e73d',\n",
       "                        [{\"name\": \"1st\", \"type\": \"bar\", \"x\": [\"Samsung\", \"LG\", \"Motorola\", \"HTC\", \"ZTE\", \"Alcatel\", \"Huawei\", \"Revvl(T-Mobile)\", \"Google\", \"Kyocera\", \"Coolpad\"], \"y\": [6, 5, 4, 4, 2, 3, 4, 3, 1, 1, 2]}, {\"name\": \"2nd\", \"type\": \"bar\", \"x\": [\"Samsung\", \"LG\", \"Motorola\", \"HTC\", \"ZTE\", \"Alcatel\", \"Huawei\", \"Revvl(T-Mobile)\", \"Kyocera\", \"Coolpad\"], \"y\": [6, 6, 2, 2, 2, 1, 3, 1, 1, 1]}, {\"name\": \"3rd\", \"type\": \"bar\", \"x\": [\"Samsung\", \"LG\", \"Motorola\", \"HTC\", \"ZTE\", \"Alcatel\", \"Huawei\", \"Revvl(T-Mobile)\", \"Kyocera\", \"Coolpad\"], \"y\": [6, 5, 5, 2, 2, 2, 2, 1, 0, 0]}, {\"name\": \"4th\", \"type\": \"bar\", \"x\": [\"Samsung\", \"LG\", \"Motorola\", \"HTC\", \"ZTE\", \"Alcatel\", \"Huawei\", \"Revvl(T-Mobile)\", \"Kyocera\", \"Coolpad\"], \"y\": [6, 5, 2, 3, 2, 1, 0, 1, 1, 0]}, {\"name\": \"5th\", \"type\": \"bar\", \"x\": [\"Samsung\", \"LG\", \"Motorola\", \"HTC\", \"ZTE\", \"Alcatel\", \"Huawei\", \"Kyocera\", \"Coolpad\"], \"y\": [6, 5, 2, 3, 2, 1, 0, 0, 0]}, {\"name\": \"6th\", \"type\": \"bar\", \"x\": [\"Samsung\", \"LG\", \"Motorola\", \"HTC\", \"ZTE\", \"Alcatel\", \"Huawei\", \"Kyocera\", \"Coolpad\"], \"y\": [6, 3, 1, 1, 0, 0, 0, 0, 0]}, {\"name\": \"7th\", \"type\": \"bar\", \"x\": [\"Samsung\", \"LG\", \"Motorola\", \"HTC\", \"ZTE\", \"Alcatel\", \"Huawei\", \"Kyocera\"], \"y\": [1, 2, 0, 0, 1, 0, 0, 0]}, {\"name\": \"8th\", \"type\": \"bar\", \"x\": [\"Samsung\", \"LG\", \"Motorola\", \"HTC\", \"ZTE\", \"Alcatel\", \"Huawei\", \"Kyocera\"], \"y\": [2, 0, 0, 0, 0, 0, 0, 0]}],\n",
       "                        {\"boxmode\": \"group\", \"colorway\": [\"rgb(60, 180, 75)\", \"rgb(230, 25, 75)\", \"rgb(0, 130, 200)\", \"rgb(245, 130, 48)\", \"rgb(145, 30, 180)\", \"rgb(240, 50, 230)\", \"rgb(0, 128, 128)\", \"rgb(170, 110, 40)\", \"rgb(0, 130, 200)\", \"rgb(128, 128, 128)\", \"rgb(128, 0, 0)\", \"rgb(170, 255, 195)\", \"rgb(128, 128, 0)\", \"rgb(255, 215, 180)\", \"rgb(0, 0, 128)\", \"rgb(128, 128, 128)\", \"rgb(255, 255, 255)\", \"rgb(230, 25, 75)\", \"rgb(0, 0, 0)\", \"rgb(255, 225, 25)\", \"rgb(255, 250, 200)\", \"rgb(250, 190, 190)\"], \"font\": {\"size\": 20}, \"legend\": {\"orientation\": \"h\", \"x\": 0.24, \"y\": 1.15}, \"plot_bgcolor\": \"rgba(0,0,0,0)\", \"template\": {\"data\": {\"bar\": [{\"error_x\": {\"color\": \"#2a3f5f\"}, \"error_y\": {\"color\": \"#2a3f5f\"}, \"marker\": {\"line\": {\"color\": \"#E5ECF6\", \"width\": 0.5}}, \"type\": \"bar\"}], \"barpolar\": [{\"marker\": {\"line\": {\"color\": \"#E5ECF6\", \"width\": 0.5}}, \"type\": \"barpolar\"}], \"carpet\": [{\"aaxis\": {\"endlinecolor\": \"#2a3f5f\", \"gridcolor\": \"white\", \"linecolor\": \"white\", \"minorgridcolor\": \"white\", \"startlinecolor\": \"#2a3f5f\"}, \"baxis\": {\"endlinecolor\": \"#2a3f5f\", \"gridcolor\": \"white\", \"linecolor\": \"white\", \"minorgridcolor\": \"white\", \"startlinecolor\": \"#2a3f5f\"}, \"type\": \"carpet\"}], \"choropleth\": [{\"colorbar\": {\"outlinewidth\": 0, \"ticks\": \"\"}, \"type\": \"choropleth\"}], \"contour\": [{\"colorbar\": {\"outlinewidth\": 0, \"ticks\": \"\"}, \"colorscale\": [[0.0, \"#0d0887\"], [0.1111111111111111, \"#46039f\"], [0.2222222222222222, \"#7201a8\"], [0.3333333333333333, \"#9c179e\"], [0.4444444444444444, \"#bd3786\"], [0.5555555555555556, \"#d8576b\"], [0.6666666666666666, \"#ed7953\"], [0.7777777777777778, \"#fb9f3a\"], [0.8888888888888888, \"#fdca26\"], [1.0, \"#f0f921\"]], \"type\": \"contour\"}], \"contourcarpet\": [{\"colorbar\": {\"outlinewidth\": 0, \"ticks\": \"\"}, \"type\": \"contourcarpet\"}], \"heatmap\": [{\"colorbar\": {\"outlinewidth\": 0, \"ticks\": \"\"}, \"colorscale\": [[0.0, \"#0d0887\"], [0.1111111111111111, \"#46039f\"], [0.2222222222222222, \"#7201a8\"], [0.3333333333333333, \"#9c179e\"], [0.4444444444444444, \"#bd3786\"], [0.5555555555555556, \"#d8576b\"], [0.6666666666666666, \"#ed7953\"], [0.7777777777777778, \"#fb9f3a\"], [0.8888888888888888, \"#fdca26\"], [1.0, \"#f0f921\"]], \"type\": \"heatmap\"}], \"heatmapgl\": [{\"colorbar\": {\"outlinewidth\": 0, \"ticks\": \"\"}, \"colorscale\": [[0.0, \"#0d0887\"], [0.1111111111111111, \"#46039f\"], [0.2222222222222222, \"#7201a8\"], [0.3333333333333333, \"#9c179e\"], [0.4444444444444444, \"#bd3786\"], [0.5555555555555556, \"#d8576b\"], [0.6666666666666666, \"#ed7953\"], [0.7777777777777778, \"#fb9f3a\"], [0.8888888888888888, \"#fdca26\"], [1.0, \"#f0f921\"]], \"type\": \"heatmapgl\"}], \"histogram\": [{\"marker\": {\"colorbar\": {\"outlinewidth\": 0, \"ticks\": \"\"}}, \"type\": \"histogram\"}], \"histogram2d\": [{\"colorbar\": {\"outlinewidth\": 0, \"ticks\": \"\"}, \"colorscale\": [[0.0, \"#0d0887\"], [0.1111111111111111, \"#46039f\"], [0.2222222222222222, \"#7201a8\"], [0.3333333333333333, \"#9c179e\"], [0.4444444444444444, \"#bd3786\"], [0.5555555555555556, \"#d8576b\"], [0.6666666666666666, \"#ed7953\"], [0.7777777777777778, \"#fb9f3a\"], [0.8888888888888888, \"#fdca26\"], [1.0, \"#f0f921\"]], \"type\": \"histogram2d\"}], \"histogram2dcontour\": [{\"colorbar\": {\"outlinewidth\": 0, \"ticks\": \"\"}, \"colorscale\": [[0.0, \"#0d0887\"], [0.1111111111111111, \"#46039f\"], [0.2222222222222222, \"#7201a8\"], [0.3333333333333333, \"#9c179e\"], [0.4444444444444444, \"#bd3786\"], [0.5555555555555556, \"#d8576b\"], [0.6666666666666666, \"#ed7953\"], [0.7777777777777778, \"#fb9f3a\"], [0.8888888888888888, \"#fdca26\"], [1.0, \"#f0f921\"]], \"type\": \"histogram2dcontour\"}], \"mesh3d\": [{\"colorbar\": {\"outlinewidth\": 0, \"ticks\": \"\"}, \"type\": \"mesh3d\"}], \"parcoords\": [{\"line\": {\"colorbar\": {\"outlinewidth\": 0, \"ticks\": \"\"}}, \"type\": \"parcoords\"}], \"pie\": [{\"automargin\": true, \"type\": \"pie\"}], \"scatter\": [{\"marker\": {\"colorbar\": {\"outlinewidth\": 0, \"ticks\": \"\"}}, \"type\": \"scatter\"}], \"scatter3d\": [{\"line\": {\"colorbar\": {\"outlinewidth\": 0, \"ticks\": \"\"}}, \"marker\": {\"colorbar\": {\"outlinewidth\": 0, \"ticks\": \"\"}}, \"type\": \"scatter3d\"}], \"scattercarpet\": [{\"marker\": {\"colorbar\": {\"outlinewidth\": 0, \"ticks\": \"\"}}, \"type\": \"scattercarpet\"}], \"scattergeo\": [{\"marker\": {\"colorbar\": {\"outlinewidth\": 0, \"ticks\": \"\"}}, \"type\": \"scattergeo\"}], \"scattergl\": [{\"marker\": {\"colorbar\": {\"outlinewidth\": 0, \"ticks\": \"\"}}, \"type\": \"scattergl\"}], \"scattermapbox\": [{\"marker\": {\"colorbar\": {\"outlinewidth\": 0, \"ticks\": \"\"}}, \"type\": \"scattermapbox\"}], \"scatterpolar\": [{\"marker\": {\"colorbar\": {\"outlinewidth\": 0, \"ticks\": \"\"}}, \"type\": \"scatterpolar\"}], \"scatterpolargl\": [{\"marker\": {\"colorbar\": {\"outlinewidth\": 0, \"ticks\": \"\"}}, \"type\": \"scatterpolargl\"}], \"scatterternary\": [{\"marker\": {\"colorbar\": {\"outlinewidth\": 0, \"ticks\": \"\"}}, \"type\": \"scatterternary\"}], \"surface\": [{\"colorbar\": {\"outlinewidth\": 0, \"ticks\": \"\"}, \"colorscale\": [[0.0, \"#0d0887\"], [0.1111111111111111, \"#46039f\"], [0.2222222222222222, \"#7201a8\"], [0.3333333333333333, \"#9c179e\"], [0.4444444444444444, \"#bd3786\"], [0.5555555555555556, \"#d8576b\"], [0.6666666666666666, \"#ed7953\"], [0.7777777777777778, \"#fb9f3a\"], [0.8888888888888888, \"#fdca26\"], [1.0, \"#f0f921\"]], \"type\": \"surface\"}], \"table\": [{\"cells\": {\"fill\": {\"color\": \"#EBF0F8\"}, \"line\": {\"color\": \"white\"}}, \"header\": {\"fill\": {\"color\": \"#C8D4E3\"}, \"line\": {\"color\": \"white\"}}, \"type\": \"table\"}]}, \"layout\": {\"annotationdefaults\": {\"arrowcolor\": \"#2a3f5f\", \"arrowhead\": 0, \"arrowwidth\": 1}, \"coloraxis\": {\"colorbar\": {\"outlinewidth\": 0, \"ticks\": \"\"}}, \"colorscale\": {\"diverging\": [[0, \"#8e0152\"], [0.1, \"#c51b7d\"], [0.2, \"#de77ae\"], [0.3, \"#f1b6da\"], [0.4, \"#fde0ef\"], [0.5, \"#f7f7f7\"], [0.6, \"#e6f5d0\"], [0.7, \"#b8e186\"], [0.8, \"#7fbc41\"], [0.9, \"#4d9221\"], [1, \"#276419\"]], \"sequential\": [[0.0, \"#0d0887\"], [0.1111111111111111, \"#46039f\"], [0.2222222222222222, \"#7201a8\"], [0.3333333333333333, \"#9c179e\"], [0.4444444444444444, \"#bd3786\"], [0.5555555555555556, \"#d8576b\"], [0.6666666666666666, \"#ed7953\"], [0.7777777777777778, \"#fb9f3a\"], [0.8888888888888888, \"#fdca26\"], [1.0, \"#f0f921\"]], \"sequentialminus\": [[0.0, \"#0d0887\"], [0.1111111111111111, \"#46039f\"], [0.2222222222222222, \"#7201a8\"], [0.3333333333333333, \"#9c179e\"], [0.4444444444444444, \"#bd3786\"], [0.5555555555555556, \"#d8576b\"], [0.6666666666666666, \"#ed7953\"], [0.7777777777777778, \"#fb9f3a\"], [0.8888888888888888, \"#fdca26\"], [1.0, \"#f0f921\"]]}, \"colorway\": [\"#636efa\", \"#EF553B\", \"#00cc96\", \"#ab63fa\", \"#FFA15A\", \"#19d3f3\", \"#FF6692\", \"#B6E880\", \"#FF97FF\", \"#FECB52\"], \"font\": {\"color\": \"#2a3f5f\"}, \"geo\": {\"bgcolor\": \"white\", \"lakecolor\": \"white\", \"landcolor\": \"#E5ECF6\", \"showlakes\": true, \"showland\": true, \"subunitcolor\": \"white\"}, \"hoverlabel\": {\"align\": \"left\"}, \"hovermode\": \"closest\", \"mapbox\": {\"style\": \"light\"}, \"paper_bgcolor\": \"white\", \"plot_bgcolor\": \"#E5ECF6\", \"polar\": {\"angularaxis\": {\"gridcolor\": \"white\", \"linecolor\": \"white\", \"ticks\": \"\"}, \"bgcolor\": \"#E5ECF6\", \"radialaxis\": {\"gridcolor\": \"white\", \"linecolor\": \"white\", \"ticks\": \"\"}}, \"scene\": {\"xaxis\": {\"backgroundcolor\": \"#E5ECF6\", \"gridcolor\": \"white\", \"gridwidth\": 2, \"linecolor\": \"white\", \"showbackground\": true, \"ticks\": \"\", \"zerolinecolor\": \"white\"}, \"yaxis\": {\"backgroundcolor\": \"#E5ECF6\", \"gridcolor\": \"white\", \"gridwidth\": 2, \"linecolor\": \"white\", \"showbackground\": true, \"ticks\": \"\", \"zerolinecolor\": \"white\"}, \"zaxis\": {\"backgroundcolor\": \"#E5ECF6\", \"gridcolor\": \"white\", \"gridwidth\": 2, \"linecolor\": \"white\", \"showbackground\": true, \"ticks\": \"\", \"zerolinecolor\": \"white\"}}, \"shapedefaults\": {\"line\": {\"color\": \"#2a3f5f\"}}, \"ternary\": {\"aaxis\": {\"gridcolor\": \"white\", \"linecolor\": \"white\", \"ticks\": \"\"}, \"baxis\": {\"gridcolor\": \"white\", \"linecolor\": \"white\", \"ticks\": \"\"}, \"bgcolor\": \"#E5ECF6\", \"caxis\": {\"gridcolor\": \"white\", \"linecolor\": \"white\", \"ticks\": \"\"}}, \"title\": {\"x\": 0.05}, \"xaxis\": {\"automargin\": true, \"gridcolor\": \"white\", \"linecolor\": \"white\", \"ticks\": \"\", \"title\": {\"standoff\": 15}, \"zerolinecolor\": \"white\", \"zerolinewidth\": 2}, \"yaxis\": {\"automargin\": true, \"gridcolor\": \"white\", \"linecolor\": \"white\", \"ticks\": \"\", \"title\": {\"standoff\": 15}, \"zerolinecolor\": \"white\", \"zerolinewidth\": 2}}}, \"yaxis\": {\"gridcolor\": \"rgb(219, 219, 219)\", \"showgrid\": true, \"title\": {\"text\": \"Number of Updates\"}}},\n",
       "                        {\"responsive\": true}\n",
       "                    ).then(function(){\n",
       "                            \n",
       "var gd = document.getElementById('aa2efb9d-af92-4ce3-938a-ddb89580e73d');\n",
       "var x = new MutationObserver(function (mutations, observer) {{\n",
       "        var display = window.getComputedStyle(gd).display;\n",
       "        if (!display || display === 'none') {{\n",
       "            console.log([gd, 'removed!']);\n",
       "            Plotly.purge(gd);\n",
       "            observer.disconnect();\n",
       "        }}\n",
       "}});\n",
       "\n",
       "// Listen for the removal of the full notebook cells\n",
       "var notebookContainer = gd.closest('#notebook-container');\n",
       "if (notebookContainer) {{\n",
       "    x.observe(notebookContainer, {childList: true});\n",
       "}}\n",
       "\n",
       "// Listen for the clearing of the current output cell\n",
       "var outputEl = gd.closest('.output');\n",
       "if (outputEl) {{\n",
       "    x.observe(outputEl, {childList: true});\n",
       "}}\n",
       "\n",
       "                        })\n",
       "                };\n",
       "                });\n",
       "            </script>\n",
       "        </div>"
      ]
     },
     "metadata": {},
     "output_type": "display_data"
    },
    {
     "name": "stdout",
     "output_type": "stream",
     "text": [
      "REMEMBER TO TAKE OUT VERIZON\n",
      "REMEMBER TO TAKE OUT VERIZON\n",
      "REMEMBER TO TAKE OUT VERIZON\n"
     ]
    }
   ],
   "source": [
    "# Get max of each..\n",
    "data=[]\n",
    "total_updates={}\n",
    "total_years={}\n",
    "total_updates_wZeroes={}\n",
    "total_man_wZeroes={}\n",
    "\n",
    "#remove manufactures with only two or less phones\n",
    "print(len(carrierDF.Manufacture.unique()))\n",
    "normedMan=[]\n",
    "for man in carrierDF.Manufacture.unique():\n",
    "    temp=carrierDF[carrierDF.Manufacture==man]\n",
    "    if len(temp.Model.unique())>2: # only include manfuactures with 3 or more phone models\n",
    "        normedMan.append(man)\n",
    "importantMan=list(set(normedMan)) # get a list of important manufacturers\n",
    "    \n",
    "# sort important manufactures based on number of updates\n",
    "manLengths=[]\n",
    "for man in importantMan:\n",
    "    manLengths.append(len(carrierDF[carrierDF.Manufacture==man]))\n",
    "importantMan = [x for _,x in sorted(zip(manLengths,importantMan),reverse=True)]\n",
    "   \n",
    "\n",
    "for yr in range(int(12/howManyMonths)*4):# for each year range,\n",
    "    properList_update_wZeroes=[]\n",
    "    properList_manu_wZeroes=[]\n",
    "    for man in importantMan:# for each manufacturer\n",
    "        #for calculating median\n",
    "        #properList_update_wZeroes.extend(freqPointsManAllDevices[man][yr])\n",
    "        #properList_manu_wZeroes.extend([man for _ in range(len(freqPointsManAllDevices[man][yr]))]) # +\" period\"  \n",
    "        \n",
    "        # For the max value\n",
    "        if len(freqPointsManAllDevices[man][yr])>0:\n",
    "            properList_update_wZeroes.append(max(freqPointsManAllDevices[man][yr]))\n",
    "            properList_manu_wZeroes.append(man)\n",
    "        \n",
    "    total_updates_wZeroes[yr]=properList_update_wZeroes.copy()\n",
    "    total_man_wZeroes[yr]=properList_manu_wZeroes.copy()\n",
    "    \n",
    "for yr in range(int(12/howManyMonths)*4): # per each year\n",
    "    formatGood=\"th\"\n",
    "    if yr==0:\n",
    "        formatGood=\"st\"\n",
    "    elif yr==1:\n",
    "        formatGood=\"nd\"\n",
    "    elif yr==2:\n",
    "        formatGood=\"rd\"\n",
    "        \n",
    "#     print(yr)\n",
    "#     print(total_man_wZeroes[yr])\n",
    "#     print(total_updates_wZeroes[yr])\n",
    "    data.append(go.Bar(\n",
    "            x=total_man_wZeroes[yr], # needs to be each manufacturer\n",
    "            y=total_updates_wZeroes[yr],\n",
    "            name=str(yr+1)+formatGood,\n",
    "            #marker=dict(color='rgb'+str(lvlColor[man]))\n",
    "        ))\n",
    "    \n",
    "# Edit the layout\n",
    "colorway=['rgb(60, 180, 75)', 'rgb(230, 25, 75)', 'rgb(0, 130, 200)', 'rgb(245, 130, 48)', 'rgb(145, 30, 180)', 'rgb(240, 50, 230)', 'rgb(0, 128, 128)', 'rgb(170, 110, 40)', 'rgb(0, 130, 200)', 'rgb(128, 128, 128)','rgb(128, 0, 0)', 'rgb(170, 255, 195)', 'rgb(128, 128, 0)', 'rgb(255, 215, 180)', 'rgb(0, 0, 128)', 'rgb(128, 128, 128)', 'rgb(255, 255, 255)','rgb(230, 25, 75)',  'rgb(0, 0, 0)','rgb(255, 225, 25)',  'rgb(255, 250, 200)', 'rgb(250, 190, 190)']\n",
    "layout = dict(#title = \"Number of True Updates per 6 Month Period after Release per Manufacture \",\n",
    "              yaxis = dict(title = 'Number of Updates',showgrid=True, gridcolor='rgb(219, 219, 219)'),\n",
    "              #xaxis = dict(title = '6 Month Period',showgrid=True,zeroline=True,showline=True,zerolinecolor='#969696'),\n",
    "              plot_bgcolor='rgba(0,0,0,0)',\n",
    "              boxmode='group',\n",
    "              colorway=colorway,\n",
    "              legend_orientation=\"h\",\n",
    "              legend=dict(x=0.24, y=1.15), # for pt .33\n",
    "              font=dict(size=20)\n",
    "              )\n",
    "\n",
    "fig = dict(data=data, layout=layout)\n",
    "py.offline.iplot(fig, filename='release-years-frequency-per-carrier.png')\n",
    "\n",
    "print(\"REMEMBER TO TAKE OUT VERIZON\")\n",
    "print(\"REMEMBER TO TAKE OUT VERIZON\")\n",
    "print(\"REMEMBER TO TAKE OUT VERIZON\")\n",
    "\n",
    "if not \"Verizon\" in carrierDF.Carrier.values and saveFigs==True: # only save if no Verizon\n",
    "    pio.write_image(fig, 'manufacture-freq-max.pdf', width=1100, height=600)\n"
   ]
  },
  {
   "cell_type": "code",
   "execution_count": 13,
   "metadata": {},
   "outputs": [
    {
     "data": {
      "application/vnd.plotly.v1+json": {
       "config": {
        "linkText": "Export to plot.ly",
        "plotlyServerURL": "https://plot.ly",
        "showLink": false
       },
       "data": [
        {
         "name": "1st",
         "type": "bar",
         "x": [
          "Samsung",
          "LG",
          "Motorola",
          "HTC",
          "Google",
          "Kyocera"
         ],
         "y": [
          6,
          5,
          4,
          4,
          1,
          1
         ]
        },
        {
         "name": "2nd",
         "type": "bar",
         "x": [
          "Samsung",
          "LG",
          "Motorola",
          "HTC",
          "Kyocera"
         ],
         "y": [
          6,
          6,
          2,
          2,
          1
         ]
        },
        {
         "name": "3rd",
         "type": "bar",
         "x": [
          "Samsung",
          "LG",
          "Motorola",
          "HTC",
          "Kyocera"
         ],
         "y": [
          6,
          5,
          5,
          2,
          0
         ]
        },
        {
         "name": "4th",
         "type": "bar",
         "x": [
          "Samsung",
          "LG",
          "Motorola",
          "HTC",
          "Kyocera"
         ],
         "y": [
          6,
          5,
          2,
          3,
          1
         ]
        },
        {
         "name": "5th",
         "type": "bar",
         "x": [
          "Samsung",
          "LG",
          "Motorola",
          "HTC",
          "Kyocera"
         ],
         "y": [
          6,
          5,
          2,
          3,
          0
         ]
        },
        {
         "name": "6th",
         "type": "bar",
         "x": [
          "Samsung",
          "LG",
          "Motorola",
          "HTC",
          "Kyocera"
         ],
         "y": [
          6,
          3,
          1,
          1,
          0
         ]
        },
        {
         "name": "7th",
         "type": "bar",
         "x": [
          "Samsung",
          "LG",
          "Motorola",
          "HTC",
          "Kyocera"
         ],
         "y": [
          1,
          2,
          0,
          0,
          0
         ]
        },
        {
         "name": "8th",
         "type": "bar",
         "x": [
          "Samsung",
          "LG",
          "Motorola",
          "HTC",
          "Kyocera"
         ],
         "y": [
          2,
          0,
          0,
          0,
          0
         ]
        }
       ],
       "layout": {
        "boxmode": "group",
        "colorway": [
         "rgb(60, 180, 75)",
         "rgb(230, 25, 75)",
         "rgb(0, 130, 200)",
         "rgb(245, 130, 48)",
         "rgb(145, 30, 180)",
         "rgb(240, 50, 230)",
         "rgb(0, 128, 128)",
         "rgb(170, 110, 40)",
         "rgb(0, 130, 200)",
         "rgb(128, 128, 128)",
         "rgb(128, 0, 0)",
         "rgb(170, 255, 195)",
         "rgb(128, 128, 0)",
         "rgb(255, 215, 180)",
         "rgb(0, 0, 128)",
         "rgb(128, 128, 128)",
         "rgb(255, 255, 255)",
         "rgb(230, 25, 75)",
         "rgb(0, 0, 0)",
         "rgb(255, 225, 25)",
         "rgb(255, 250, 200)",
         "rgb(250, 190, 190)"
        ],
        "font": {
         "size": 20
        },
        "legend": {
         "orientation": "h",
         "x": 0.24,
         "y": 1.15
        },
        "plot_bgcolor": "rgba(0,0,0,0)",
        "template": {
         "data": {
          "bar": [
           {
            "error_x": {
             "color": "#2a3f5f"
            },
            "error_y": {
             "color": "#2a3f5f"
            },
            "marker": {
             "line": {
              "color": "#E5ECF6",
              "width": 0.5
             }
            },
            "type": "bar"
           }
          ],
          "barpolar": [
           {
            "marker": {
             "line": {
              "color": "#E5ECF6",
              "width": 0.5
             }
            },
            "type": "barpolar"
           }
          ],
          "carpet": [
           {
            "aaxis": {
             "endlinecolor": "#2a3f5f",
             "gridcolor": "white",
             "linecolor": "white",
             "minorgridcolor": "white",
             "startlinecolor": "#2a3f5f"
            },
            "baxis": {
             "endlinecolor": "#2a3f5f",
             "gridcolor": "white",
             "linecolor": "white",
             "minorgridcolor": "white",
             "startlinecolor": "#2a3f5f"
            },
            "type": "carpet"
           }
          ],
          "choropleth": [
           {
            "colorbar": {
             "outlinewidth": 0,
             "ticks": ""
            },
            "type": "choropleth"
           }
          ],
          "contour": [
           {
            "colorbar": {
             "outlinewidth": 0,
             "ticks": ""
            },
            "colorscale": [
             [
              0,
              "#0d0887"
             ],
             [
              0.1111111111111111,
              "#46039f"
             ],
             [
              0.2222222222222222,
              "#7201a8"
             ],
             [
              0.3333333333333333,
              "#9c179e"
             ],
             [
              0.4444444444444444,
              "#bd3786"
             ],
             [
              0.5555555555555556,
              "#d8576b"
             ],
             [
              0.6666666666666666,
              "#ed7953"
             ],
             [
              0.7777777777777778,
              "#fb9f3a"
             ],
             [
              0.8888888888888888,
              "#fdca26"
             ],
             [
              1,
              "#f0f921"
             ]
            ],
            "type": "contour"
           }
          ],
          "contourcarpet": [
           {
            "colorbar": {
             "outlinewidth": 0,
             "ticks": ""
            },
            "type": "contourcarpet"
           }
          ],
          "heatmap": [
           {
            "colorbar": {
             "outlinewidth": 0,
             "ticks": ""
            },
            "colorscale": [
             [
              0,
              "#0d0887"
             ],
             [
              0.1111111111111111,
              "#46039f"
             ],
             [
              0.2222222222222222,
              "#7201a8"
             ],
             [
              0.3333333333333333,
              "#9c179e"
             ],
             [
              0.4444444444444444,
              "#bd3786"
             ],
             [
              0.5555555555555556,
              "#d8576b"
             ],
             [
              0.6666666666666666,
              "#ed7953"
             ],
             [
              0.7777777777777778,
              "#fb9f3a"
             ],
             [
              0.8888888888888888,
              "#fdca26"
             ],
             [
              1,
              "#f0f921"
             ]
            ],
            "type": "heatmap"
           }
          ],
          "heatmapgl": [
           {
            "colorbar": {
             "outlinewidth": 0,
             "ticks": ""
            },
            "colorscale": [
             [
              0,
              "#0d0887"
             ],
             [
              0.1111111111111111,
              "#46039f"
             ],
             [
              0.2222222222222222,
              "#7201a8"
             ],
             [
              0.3333333333333333,
              "#9c179e"
             ],
             [
              0.4444444444444444,
              "#bd3786"
             ],
             [
              0.5555555555555556,
              "#d8576b"
             ],
             [
              0.6666666666666666,
              "#ed7953"
             ],
             [
              0.7777777777777778,
              "#fb9f3a"
             ],
             [
              0.8888888888888888,
              "#fdca26"
             ],
             [
              1,
              "#f0f921"
             ]
            ],
            "type": "heatmapgl"
           }
          ],
          "histogram": [
           {
            "marker": {
             "colorbar": {
              "outlinewidth": 0,
              "ticks": ""
             }
            },
            "type": "histogram"
           }
          ],
          "histogram2d": [
           {
            "colorbar": {
             "outlinewidth": 0,
             "ticks": ""
            },
            "colorscale": [
             [
              0,
              "#0d0887"
             ],
             [
              0.1111111111111111,
              "#46039f"
             ],
             [
              0.2222222222222222,
              "#7201a8"
             ],
             [
              0.3333333333333333,
              "#9c179e"
             ],
             [
              0.4444444444444444,
              "#bd3786"
             ],
             [
              0.5555555555555556,
              "#d8576b"
             ],
             [
              0.6666666666666666,
              "#ed7953"
             ],
             [
              0.7777777777777778,
              "#fb9f3a"
             ],
             [
              0.8888888888888888,
              "#fdca26"
             ],
             [
              1,
              "#f0f921"
             ]
            ],
            "type": "histogram2d"
           }
          ],
          "histogram2dcontour": [
           {
            "colorbar": {
             "outlinewidth": 0,
             "ticks": ""
            },
            "colorscale": [
             [
              0,
              "#0d0887"
             ],
             [
              0.1111111111111111,
              "#46039f"
             ],
             [
              0.2222222222222222,
              "#7201a8"
             ],
             [
              0.3333333333333333,
              "#9c179e"
             ],
             [
              0.4444444444444444,
              "#bd3786"
             ],
             [
              0.5555555555555556,
              "#d8576b"
             ],
             [
              0.6666666666666666,
              "#ed7953"
             ],
             [
              0.7777777777777778,
              "#fb9f3a"
             ],
             [
              0.8888888888888888,
              "#fdca26"
             ],
             [
              1,
              "#f0f921"
             ]
            ],
            "type": "histogram2dcontour"
           }
          ],
          "mesh3d": [
           {
            "colorbar": {
             "outlinewidth": 0,
             "ticks": ""
            },
            "type": "mesh3d"
           }
          ],
          "parcoords": [
           {
            "line": {
             "colorbar": {
              "outlinewidth": 0,
              "ticks": ""
             }
            },
            "type": "parcoords"
           }
          ],
          "pie": [
           {
            "automargin": true,
            "type": "pie"
           }
          ],
          "scatter": [
           {
            "marker": {
             "colorbar": {
              "outlinewidth": 0,
              "ticks": ""
             }
            },
            "type": "scatter"
           }
          ],
          "scatter3d": [
           {
            "line": {
             "colorbar": {
              "outlinewidth": 0,
              "ticks": ""
             }
            },
            "marker": {
             "colorbar": {
              "outlinewidth": 0,
              "ticks": ""
             }
            },
            "type": "scatter3d"
           }
          ],
          "scattercarpet": [
           {
            "marker": {
             "colorbar": {
              "outlinewidth": 0,
              "ticks": ""
             }
            },
            "type": "scattercarpet"
           }
          ],
          "scattergeo": [
           {
            "marker": {
             "colorbar": {
              "outlinewidth": 0,
              "ticks": ""
             }
            },
            "type": "scattergeo"
           }
          ],
          "scattergl": [
           {
            "marker": {
             "colorbar": {
              "outlinewidth": 0,
              "ticks": ""
             }
            },
            "type": "scattergl"
           }
          ],
          "scattermapbox": [
           {
            "marker": {
             "colorbar": {
              "outlinewidth": 0,
              "ticks": ""
             }
            },
            "type": "scattermapbox"
           }
          ],
          "scatterpolar": [
           {
            "marker": {
             "colorbar": {
              "outlinewidth": 0,
              "ticks": ""
             }
            },
            "type": "scatterpolar"
           }
          ],
          "scatterpolargl": [
           {
            "marker": {
             "colorbar": {
              "outlinewidth": 0,
              "ticks": ""
             }
            },
            "type": "scatterpolargl"
           }
          ],
          "scatterternary": [
           {
            "marker": {
             "colorbar": {
              "outlinewidth": 0,
              "ticks": ""
             }
            },
            "type": "scatterternary"
           }
          ],
          "surface": [
           {
            "colorbar": {
             "outlinewidth": 0,
             "ticks": ""
            },
            "colorscale": [
             [
              0,
              "#0d0887"
             ],
             [
              0.1111111111111111,
              "#46039f"
             ],
             [
              0.2222222222222222,
              "#7201a8"
             ],
             [
              0.3333333333333333,
              "#9c179e"
             ],
             [
              0.4444444444444444,
              "#bd3786"
             ],
             [
              0.5555555555555556,
              "#d8576b"
             ],
             [
              0.6666666666666666,
              "#ed7953"
             ],
             [
              0.7777777777777778,
              "#fb9f3a"
             ],
             [
              0.8888888888888888,
              "#fdca26"
             ],
             [
              1,
              "#f0f921"
             ]
            ],
            "type": "surface"
           }
          ],
          "table": [
           {
            "cells": {
             "fill": {
              "color": "#EBF0F8"
             },
             "line": {
              "color": "white"
             }
            },
            "header": {
             "fill": {
              "color": "#C8D4E3"
             },
             "line": {
              "color": "white"
             }
            },
            "type": "table"
           }
          ]
         },
         "layout": {
          "annotationdefaults": {
           "arrowcolor": "#2a3f5f",
           "arrowhead": 0,
           "arrowwidth": 1
          },
          "coloraxis": {
           "colorbar": {
            "outlinewidth": 0,
            "ticks": ""
           }
          },
          "colorscale": {
           "diverging": [
            [
             0,
             "#8e0152"
            ],
            [
             0.1,
             "#c51b7d"
            ],
            [
             0.2,
             "#de77ae"
            ],
            [
             0.3,
             "#f1b6da"
            ],
            [
             0.4,
             "#fde0ef"
            ],
            [
             0.5,
             "#f7f7f7"
            ],
            [
             0.6,
             "#e6f5d0"
            ],
            [
             0.7,
             "#b8e186"
            ],
            [
             0.8,
             "#7fbc41"
            ],
            [
             0.9,
             "#4d9221"
            ],
            [
             1,
             "#276419"
            ]
           ],
           "sequential": [
            [
             0,
             "#0d0887"
            ],
            [
             0.1111111111111111,
             "#46039f"
            ],
            [
             0.2222222222222222,
             "#7201a8"
            ],
            [
             0.3333333333333333,
             "#9c179e"
            ],
            [
             0.4444444444444444,
             "#bd3786"
            ],
            [
             0.5555555555555556,
             "#d8576b"
            ],
            [
             0.6666666666666666,
             "#ed7953"
            ],
            [
             0.7777777777777778,
             "#fb9f3a"
            ],
            [
             0.8888888888888888,
             "#fdca26"
            ],
            [
             1,
             "#f0f921"
            ]
           ],
           "sequentialminus": [
            [
             0,
             "#0d0887"
            ],
            [
             0.1111111111111111,
             "#46039f"
            ],
            [
             0.2222222222222222,
             "#7201a8"
            ],
            [
             0.3333333333333333,
             "#9c179e"
            ],
            [
             0.4444444444444444,
             "#bd3786"
            ],
            [
             0.5555555555555556,
             "#d8576b"
            ],
            [
             0.6666666666666666,
             "#ed7953"
            ],
            [
             0.7777777777777778,
             "#fb9f3a"
            ],
            [
             0.8888888888888888,
             "#fdca26"
            ],
            [
             1,
             "#f0f921"
            ]
           ]
          },
          "colorway": [
           "#636efa",
           "#EF553B",
           "#00cc96",
           "#ab63fa",
           "#FFA15A",
           "#19d3f3",
           "#FF6692",
           "#B6E880",
           "#FF97FF",
           "#FECB52"
          ],
          "font": {
           "color": "#2a3f5f"
          },
          "geo": {
           "bgcolor": "white",
           "lakecolor": "white",
           "landcolor": "#E5ECF6",
           "showlakes": true,
           "showland": true,
           "subunitcolor": "white"
          },
          "hoverlabel": {
           "align": "left"
          },
          "hovermode": "closest",
          "mapbox": {
           "style": "light"
          },
          "paper_bgcolor": "white",
          "plot_bgcolor": "#E5ECF6",
          "polar": {
           "angularaxis": {
            "gridcolor": "white",
            "linecolor": "white",
            "ticks": ""
           },
           "bgcolor": "#E5ECF6",
           "radialaxis": {
            "gridcolor": "white",
            "linecolor": "white",
            "ticks": ""
           }
          },
          "scene": {
           "xaxis": {
            "backgroundcolor": "#E5ECF6",
            "gridcolor": "white",
            "gridwidth": 2,
            "linecolor": "white",
            "showbackground": true,
            "ticks": "",
            "zerolinecolor": "white"
           },
           "yaxis": {
            "backgroundcolor": "#E5ECF6",
            "gridcolor": "white",
            "gridwidth": 2,
            "linecolor": "white",
            "showbackground": true,
            "ticks": "",
            "zerolinecolor": "white"
           },
           "zaxis": {
            "backgroundcolor": "#E5ECF6",
            "gridcolor": "white",
            "gridwidth": 2,
            "linecolor": "white",
            "showbackground": true,
            "ticks": "",
            "zerolinecolor": "white"
           }
          },
          "shapedefaults": {
           "line": {
            "color": "#2a3f5f"
           }
          },
          "ternary": {
           "aaxis": {
            "gridcolor": "white",
            "linecolor": "white",
            "ticks": ""
           },
           "baxis": {
            "gridcolor": "white",
            "linecolor": "white",
            "ticks": ""
           },
           "bgcolor": "#E5ECF6",
           "caxis": {
            "gridcolor": "white",
            "linecolor": "white",
            "ticks": ""
           }
          },
          "title": {
           "x": 0.05
          },
          "xaxis": {
           "automargin": true,
           "gridcolor": "white",
           "linecolor": "white",
           "ticks": "",
           "title": {
            "standoff": 15
           },
           "zerolinecolor": "white",
           "zerolinewidth": 2
          },
          "yaxis": {
           "automargin": true,
           "gridcolor": "white",
           "linecolor": "white",
           "ticks": "",
           "title": {
            "standoff": 15
           },
           "zerolinecolor": "white",
           "zerolinewidth": 2
          }
         }
        },
        "yaxis": {
         "gridcolor": "rgb(219, 219, 219)",
         "showgrid": true,
         "title": {
          "text": "Max Number of Updates"
         }
        }
       }
      },
      "text/html": [
       "<div>\n",
       "        \n",
       "        \n",
       "            <div id=\"2cdface0-4901-48c6-8ea1-1a47adecb88d\" class=\"plotly-graph-div\" style=\"height:525px; width:100%;\"></div>\n",
       "            <script type=\"text/javascript\">\n",
       "                require([\"plotly\"], function(Plotly) {\n",
       "                    window.PLOTLYENV=window.PLOTLYENV || {};\n",
       "                    \n",
       "                if (document.getElementById(\"2cdface0-4901-48c6-8ea1-1a47adecb88d\")) {\n",
       "                    Plotly.newPlot(\n",
       "                        '2cdface0-4901-48c6-8ea1-1a47adecb88d',\n",
       "                        [{\"name\": \"1st\", \"type\": \"bar\", \"x\": [\"Samsung\", \"LG\", \"Motorola\", \"HTC\", \"Google\", \"Kyocera\"], \"y\": [6, 5, 4, 4, 1, 1]}, {\"name\": \"2nd\", \"type\": \"bar\", \"x\": [\"Samsung\", \"LG\", \"Motorola\", \"HTC\", \"Kyocera\"], \"y\": [6, 6, 2, 2, 1]}, {\"name\": \"3rd\", \"type\": \"bar\", \"x\": [\"Samsung\", \"LG\", \"Motorola\", \"HTC\", \"Kyocera\"], \"y\": [6, 5, 5, 2, 0]}, {\"name\": \"4th\", \"type\": \"bar\", \"x\": [\"Samsung\", \"LG\", \"Motorola\", \"HTC\", \"Kyocera\"], \"y\": [6, 5, 2, 3, 1]}, {\"name\": \"5th\", \"type\": \"bar\", \"x\": [\"Samsung\", \"LG\", \"Motorola\", \"HTC\", \"Kyocera\"], \"y\": [6, 5, 2, 3, 0]}, {\"name\": \"6th\", \"type\": \"bar\", \"x\": [\"Samsung\", \"LG\", \"Motorola\", \"HTC\", \"Kyocera\"], \"y\": [6, 3, 1, 1, 0]}, {\"name\": \"7th\", \"type\": \"bar\", \"x\": [\"Samsung\", \"LG\", \"Motorola\", \"HTC\", \"Kyocera\"], \"y\": [1, 2, 0, 0, 0]}, {\"name\": \"8th\", \"type\": \"bar\", \"x\": [\"Samsung\", \"LG\", \"Motorola\", \"HTC\", \"Kyocera\"], \"y\": [2, 0, 0, 0, 0]}],\n",
       "                        {\"boxmode\": \"group\", \"colorway\": [\"rgb(60, 180, 75)\", \"rgb(230, 25, 75)\", \"rgb(0, 130, 200)\", \"rgb(245, 130, 48)\", \"rgb(145, 30, 180)\", \"rgb(240, 50, 230)\", \"rgb(0, 128, 128)\", \"rgb(170, 110, 40)\", \"rgb(0, 130, 200)\", \"rgb(128, 128, 128)\", \"rgb(128, 0, 0)\", \"rgb(170, 255, 195)\", \"rgb(128, 128, 0)\", \"rgb(255, 215, 180)\", \"rgb(0, 0, 128)\", \"rgb(128, 128, 128)\", \"rgb(255, 255, 255)\", \"rgb(230, 25, 75)\", \"rgb(0, 0, 0)\", \"rgb(255, 225, 25)\", \"rgb(255, 250, 200)\", \"rgb(250, 190, 190)\"], \"font\": {\"size\": 20}, \"legend\": {\"orientation\": \"h\", \"x\": 0.24, \"y\": 1.15}, \"plot_bgcolor\": \"rgba(0,0,0,0)\", \"template\": {\"data\": {\"bar\": [{\"error_x\": {\"color\": \"#2a3f5f\"}, \"error_y\": {\"color\": \"#2a3f5f\"}, \"marker\": {\"line\": {\"color\": \"#E5ECF6\", \"width\": 0.5}}, \"type\": \"bar\"}], \"barpolar\": [{\"marker\": {\"line\": {\"color\": \"#E5ECF6\", \"width\": 0.5}}, \"type\": \"barpolar\"}], \"carpet\": [{\"aaxis\": {\"endlinecolor\": \"#2a3f5f\", \"gridcolor\": \"white\", \"linecolor\": \"white\", \"minorgridcolor\": \"white\", \"startlinecolor\": \"#2a3f5f\"}, \"baxis\": {\"endlinecolor\": \"#2a3f5f\", \"gridcolor\": \"white\", \"linecolor\": \"white\", \"minorgridcolor\": \"white\", \"startlinecolor\": \"#2a3f5f\"}, \"type\": \"carpet\"}], \"choropleth\": [{\"colorbar\": {\"outlinewidth\": 0, \"ticks\": \"\"}, \"type\": \"choropleth\"}], \"contour\": [{\"colorbar\": {\"outlinewidth\": 0, \"ticks\": \"\"}, \"colorscale\": [[0.0, \"#0d0887\"], [0.1111111111111111, \"#46039f\"], [0.2222222222222222, \"#7201a8\"], [0.3333333333333333, \"#9c179e\"], [0.4444444444444444, \"#bd3786\"], [0.5555555555555556, \"#d8576b\"], [0.6666666666666666, \"#ed7953\"], [0.7777777777777778, \"#fb9f3a\"], [0.8888888888888888, \"#fdca26\"], [1.0, \"#f0f921\"]], \"type\": \"contour\"}], \"contourcarpet\": [{\"colorbar\": {\"outlinewidth\": 0, \"ticks\": \"\"}, \"type\": \"contourcarpet\"}], \"heatmap\": [{\"colorbar\": {\"outlinewidth\": 0, \"ticks\": \"\"}, \"colorscale\": [[0.0, \"#0d0887\"], [0.1111111111111111, \"#46039f\"], [0.2222222222222222, \"#7201a8\"], [0.3333333333333333, \"#9c179e\"], [0.4444444444444444, \"#bd3786\"], [0.5555555555555556, \"#d8576b\"], [0.6666666666666666, \"#ed7953\"], [0.7777777777777778, \"#fb9f3a\"], [0.8888888888888888, \"#fdca26\"], [1.0, \"#f0f921\"]], \"type\": \"heatmap\"}], \"heatmapgl\": [{\"colorbar\": {\"outlinewidth\": 0, \"ticks\": \"\"}, \"colorscale\": [[0.0, \"#0d0887\"], [0.1111111111111111, \"#46039f\"], [0.2222222222222222, \"#7201a8\"], [0.3333333333333333, \"#9c179e\"], [0.4444444444444444, \"#bd3786\"], [0.5555555555555556, \"#d8576b\"], [0.6666666666666666, \"#ed7953\"], [0.7777777777777778, \"#fb9f3a\"], [0.8888888888888888, \"#fdca26\"], [1.0, \"#f0f921\"]], \"type\": \"heatmapgl\"}], \"histogram\": [{\"marker\": {\"colorbar\": {\"outlinewidth\": 0, \"ticks\": \"\"}}, \"type\": \"histogram\"}], \"histogram2d\": [{\"colorbar\": {\"outlinewidth\": 0, \"ticks\": \"\"}, \"colorscale\": [[0.0, \"#0d0887\"], [0.1111111111111111, \"#46039f\"], [0.2222222222222222, \"#7201a8\"], [0.3333333333333333, \"#9c179e\"], [0.4444444444444444, \"#bd3786\"], [0.5555555555555556, \"#d8576b\"], [0.6666666666666666, \"#ed7953\"], [0.7777777777777778, \"#fb9f3a\"], [0.8888888888888888, \"#fdca26\"], [1.0, \"#f0f921\"]], \"type\": \"histogram2d\"}], \"histogram2dcontour\": [{\"colorbar\": {\"outlinewidth\": 0, \"ticks\": \"\"}, \"colorscale\": [[0.0, \"#0d0887\"], [0.1111111111111111, \"#46039f\"], [0.2222222222222222, \"#7201a8\"], [0.3333333333333333, \"#9c179e\"], [0.4444444444444444, \"#bd3786\"], [0.5555555555555556, \"#d8576b\"], [0.6666666666666666, \"#ed7953\"], [0.7777777777777778, \"#fb9f3a\"], [0.8888888888888888, \"#fdca26\"], [1.0, \"#f0f921\"]], \"type\": \"histogram2dcontour\"}], \"mesh3d\": [{\"colorbar\": {\"outlinewidth\": 0, \"ticks\": \"\"}, \"type\": \"mesh3d\"}], \"parcoords\": [{\"line\": {\"colorbar\": {\"outlinewidth\": 0, \"ticks\": \"\"}}, \"type\": \"parcoords\"}], \"pie\": [{\"automargin\": true, \"type\": \"pie\"}], \"scatter\": [{\"marker\": {\"colorbar\": {\"outlinewidth\": 0, \"ticks\": \"\"}}, \"type\": \"scatter\"}], \"scatter3d\": [{\"line\": {\"colorbar\": {\"outlinewidth\": 0, \"ticks\": \"\"}}, \"marker\": {\"colorbar\": {\"outlinewidth\": 0, \"ticks\": \"\"}}, \"type\": \"scatter3d\"}], \"scattercarpet\": [{\"marker\": {\"colorbar\": {\"outlinewidth\": 0, \"ticks\": \"\"}}, \"type\": \"scattercarpet\"}], \"scattergeo\": [{\"marker\": {\"colorbar\": {\"outlinewidth\": 0, \"ticks\": \"\"}}, \"type\": \"scattergeo\"}], \"scattergl\": [{\"marker\": {\"colorbar\": {\"outlinewidth\": 0, \"ticks\": \"\"}}, \"type\": \"scattergl\"}], \"scattermapbox\": [{\"marker\": {\"colorbar\": {\"outlinewidth\": 0, \"ticks\": \"\"}}, \"type\": \"scattermapbox\"}], \"scatterpolar\": [{\"marker\": {\"colorbar\": {\"outlinewidth\": 0, \"ticks\": \"\"}}, \"type\": \"scatterpolar\"}], \"scatterpolargl\": [{\"marker\": {\"colorbar\": {\"outlinewidth\": 0, \"ticks\": \"\"}}, \"type\": \"scatterpolargl\"}], \"scatterternary\": [{\"marker\": {\"colorbar\": {\"outlinewidth\": 0, \"ticks\": \"\"}}, \"type\": \"scatterternary\"}], \"surface\": [{\"colorbar\": {\"outlinewidth\": 0, \"ticks\": \"\"}, \"colorscale\": [[0.0, \"#0d0887\"], [0.1111111111111111, \"#46039f\"], [0.2222222222222222, \"#7201a8\"], [0.3333333333333333, \"#9c179e\"], [0.4444444444444444, \"#bd3786\"], [0.5555555555555556, \"#d8576b\"], [0.6666666666666666, \"#ed7953\"], [0.7777777777777778, \"#fb9f3a\"], [0.8888888888888888, \"#fdca26\"], [1.0, \"#f0f921\"]], \"type\": \"surface\"}], \"table\": [{\"cells\": {\"fill\": {\"color\": \"#EBF0F8\"}, \"line\": {\"color\": \"white\"}}, \"header\": {\"fill\": {\"color\": \"#C8D4E3\"}, \"line\": {\"color\": \"white\"}}, \"type\": \"table\"}]}, \"layout\": {\"annotationdefaults\": {\"arrowcolor\": \"#2a3f5f\", \"arrowhead\": 0, \"arrowwidth\": 1}, \"coloraxis\": {\"colorbar\": {\"outlinewidth\": 0, \"ticks\": \"\"}}, \"colorscale\": {\"diverging\": [[0, \"#8e0152\"], [0.1, \"#c51b7d\"], [0.2, \"#de77ae\"], [0.3, \"#f1b6da\"], [0.4, \"#fde0ef\"], [0.5, \"#f7f7f7\"], [0.6, \"#e6f5d0\"], [0.7, \"#b8e186\"], [0.8, \"#7fbc41\"], [0.9, \"#4d9221\"], [1, \"#276419\"]], \"sequential\": [[0.0, \"#0d0887\"], [0.1111111111111111, \"#46039f\"], [0.2222222222222222, \"#7201a8\"], [0.3333333333333333, \"#9c179e\"], [0.4444444444444444, \"#bd3786\"], [0.5555555555555556, \"#d8576b\"], [0.6666666666666666, \"#ed7953\"], [0.7777777777777778, \"#fb9f3a\"], [0.8888888888888888, \"#fdca26\"], [1.0, \"#f0f921\"]], \"sequentialminus\": [[0.0, \"#0d0887\"], [0.1111111111111111, \"#46039f\"], [0.2222222222222222, \"#7201a8\"], [0.3333333333333333, \"#9c179e\"], [0.4444444444444444, \"#bd3786\"], [0.5555555555555556, \"#d8576b\"], [0.6666666666666666, \"#ed7953\"], [0.7777777777777778, \"#fb9f3a\"], [0.8888888888888888, \"#fdca26\"], [1.0, \"#f0f921\"]]}, \"colorway\": [\"#636efa\", \"#EF553B\", \"#00cc96\", \"#ab63fa\", \"#FFA15A\", \"#19d3f3\", \"#FF6692\", \"#B6E880\", \"#FF97FF\", \"#FECB52\"], \"font\": {\"color\": \"#2a3f5f\"}, \"geo\": {\"bgcolor\": \"white\", \"lakecolor\": \"white\", \"landcolor\": \"#E5ECF6\", \"showlakes\": true, \"showland\": true, \"subunitcolor\": \"white\"}, \"hoverlabel\": {\"align\": \"left\"}, \"hovermode\": \"closest\", \"mapbox\": {\"style\": \"light\"}, \"paper_bgcolor\": \"white\", \"plot_bgcolor\": \"#E5ECF6\", \"polar\": {\"angularaxis\": {\"gridcolor\": \"white\", \"linecolor\": \"white\", \"ticks\": \"\"}, \"bgcolor\": \"#E5ECF6\", \"radialaxis\": {\"gridcolor\": \"white\", \"linecolor\": \"white\", \"ticks\": \"\"}}, \"scene\": {\"xaxis\": {\"backgroundcolor\": \"#E5ECF6\", \"gridcolor\": \"white\", \"gridwidth\": 2, \"linecolor\": \"white\", \"showbackground\": true, \"ticks\": \"\", \"zerolinecolor\": \"white\"}, \"yaxis\": {\"backgroundcolor\": \"#E5ECF6\", \"gridcolor\": \"white\", \"gridwidth\": 2, \"linecolor\": \"white\", \"showbackground\": true, \"ticks\": \"\", \"zerolinecolor\": \"white\"}, \"zaxis\": {\"backgroundcolor\": \"#E5ECF6\", \"gridcolor\": \"white\", \"gridwidth\": 2, \"linecolor\": \"white\", \"showbackground\": true, \"ticks\": \"\", \"zerolinecolor\": \"white\"}}, \"shapedefaults\": {\"line\": {\"color\": \"#2a3f5f\"}}, \"ternary\": {\"aaxis\": {\"gridcolor\": \"white\", \"linecolor\": \"white\", \"ticks\": \"\"}, \"baxis\": {\"gridcolor\": \"white\", \"linecolor\": \"white\", \"ticks\": \"\"}, \"bgcolor\": \"#E5ECF6\", \"caxis\": {\"gridcolor\": \"white\", \"linecolor\": \"white\", \"ticks\": \"\"}}, \"title\": {\"x\": 0.05}, \"xaxis\": {\"automargin\": true, \"gridcolor\": \"white\", \"linecolor\": \"white\", \"ticks\": \"\", \"title\": {\"standoff\": 15}, \"zerolinecolor\": \"white\", \"zerolinewidth\": 2}, \"yaxis\": {\"automargin\": true, \"gridcolor\": \"white\", \"linecolor\": \"white\", \"ticks\": \"\", \"title\": {\"standoff\": 15}, \"zerolinecolor\": \"white\", \"zerolinewidth\": 2}}}, \"yaxis\": {\"gridcolor\": \"rgb(219, 219, 219)\", \"showgrid\": true, \"title\": {\"text\": \"Max Number of Updates\"}}},\n",
       "                        {\"responsive\": true}\n",
       "                    ).then(function(){\n",
       "                            \n",
       "var gd = document.getElementById('2cdface0-4901-48c6-8ea1-1a47adecb88d');\n",
       "var x = new MutationObserver(function (mutations, observer) {{\n",
       "        var display = window.getComputedStyle(gd).display;\n",
       "        if (!display || display === 'none') {{\n",
       "            console.log([gd, 'removed!']);\n",
       "            Plotly.purge(gd);\n",
       "            observer.disconnect();\n",
       "        }}\n",
       "}});\n",
       "\n",
       "// Listen for the removal of the full notebook cells\n",
       "var notebookContainer = gd.closest('#notebook-container');\n",
       "if (notebookContainer) {{\n",
       "    x.observe(notebookContainer, {childList: true});\n",
       "}}\n",
       "\n",
       "// Listen for the clearing of the current output cell\n",
       "var outputEl = gd.closest('.output');\n",
       "if (outputEl) {{\n",
       "    x.observe(outputEl, {childList: true});\n",
       "}}\n",
       "\n",
       "                        })\n",
       "                };\n",
       "                });\n",
       "            </script>\n",
       "        </div>"
      ]
     },
     "metadata": {},
     "output_type": "display_data"
    }
   ],
   "source": [
    "# Only the manufacturers shared across all carriers\n",
    "\n",
    "# Get max of each..\n",
    "data=[]\n",
    "total_updates={}\n",
    "total_years={}\n",
    "total_updates_wZeroes={}\n",
    "total_man_wZeroes={}\n",
    "normedMan=[]\n",
    "\n",
    "# #remove manufactures with only two or less phones\n",
    "# print(len(carrierDF.Manufacture.unique()))\n",
    "# normedMan=[]\n",
    "# for man in carrierDF.Manufacture.unique():\n",
    "#     temp=carrierDF[carrierDF.Manufacture==man]\n",
    "# #     if len(temp.Model.unique())>2: # only include manfuactures with 3 or more phone models\n",
    "#     normedMan.append(man)\n",
    "# importantMan=list(set(normedMan)) # get a list of important manufacturers\n",
    "    \n",
    "# Only include manufacturers shared across all carriers\n",
    "for man in carrierDF.Manufacture.unique():\n",
    "    temp=carrierDF[carrierDF.Manufacture==man]\n",
    "    if len(temp.Carrier.unique())>2: # meaning the 3 we care about exists\n",
    "        normedMan.append(man)\n",
    "importantMan=list(set(normedMan))    \n",
    " \n",
    "    \n",
    "# sort important manufactures based on number of updates\n",
    "manLengths=[]\n",
    "for man in importantMan:\n",
    "    manLengths.append(len(carrierDF[carrierDF.Manufacture==man]))\n",
    "importantMan = [x for _,x in sorted(zip(manLengths,importantMan),reverse=True)]\n",
    "   \n",
    "\n",
    "for yr in range(int(12/howManyMonths)*4):# for each year range,\n",
    "    properList_update_wZeroes=[]\n",
    "    properList_manu_wZeroes=[]\n",
    "    for man in importantMan:# for each manufacturer\n",
    "        #for calculating median\n",
    "        #properList_update_wZeroes.extend(freqPointsManAllDevices[man][yr])\n",
    "        #properList_manu_wZeroes.extend([man for _ in range(len(freqPointsManAllDevices[man][yr]))]) # +\" period\"  \n",
    "        \n",
    "        # For the max value\n",
    "        if len(freqPointsManAllDevices[man][yr])>0:\n",
    "            properList_update_wZeroes.append(max(freqPointsManAllDevices[man][yr]))\n",
    "            properList_manu_wZeroes.append(man)\n",
    "        \n",
    "    total_updates_wZeroes[yr]=properList_update_wZeroes.copy()\n",
    "    total_man_wZeroes[yr]=properList_manu_wZeroes.copy()\n",
    "    \n",
    "for yr in range(int(12/howManyMonths)*4): # per each year\n",
    "    formatGood=\"th\"\n",
    "    if yr==0:\n",
    "        formatGood=\"st\"\n",
    "    elif yr==1:\n",
    "        formatGood=\"nd\"\n",
    "    elif yr==2:\n",
    "        formatGood=\"rd\"\n",
    "        \n",
    "#     print(yr)\n",
    "#     print(total_man_wZeroes[yr])\n",
    "#     print(total_updates_wZeroes[yr])\n",
    "    data.append(go.Bar(\n",
    "            x=total_man_wZeroes[yr], # needs to be each manufacturer\n",
    "            y=total_updates_wZeroes[yr],\n",
    "            name=str(yr+1)+formatGood,\n",
    "            #marker=dict(color='rgb'+str(lvlColor[man]))\n",
    "        ))\n",
    "    \n",
    "# Edit the layout\n",
    "colorway=['rgb(60, 180, 75)', 'rgb(230, 25, 75)', 'rgb(0, 130, 200)', 'rgb(245, 130, 48)', 'rgb(145, 30, 180)', 'rgb(240, 50, 230)', 'rgb(0, 128, 128)', 'rgb(170, 110, 40)', 'rgb(0, 130, 200)', 'rgb(128, 128, 128)','rgb(128, 0, 0)', 'rgb(170, 255, 195)', 'rgb(128, 128, 0)', 'rgb(255, 215, 180)', 'rgb(0, 0, 128)', 'rgb(128, 128, 128)', 'rgb(255, 255, 255)','rgb(230, 25, 75)',  'rgb(0, 0, 0)','rgb(255, 225, 25)',  'rgb(255, 250, 200)', 'rgb(250, 190, 190)']\n",
    "layout = dict(#title = \"Number of True Updates per 6 Month Period after Release per Manufacture \",\n",
    "              yaxis = dict(title = 'Max Number of Updates',showgrid=True, gridcolor='rgb(219, 219, 219)'),\n",
    "              #xaxis = dict(title = '6 Month Period',showgrid=True,zeroline=True,showline=True,zerolinecolor='#969696'),\n",
    "              plot_bgcolor='rgba(0,0,0,0)',\n",
    "              boxmode='group',\n",
    "              colorway=colorway,\n",
    "              legend_orientation=\"h\",\n",
    "              legend=dict(x=0.24, y=1.15), # for pt .33\n",
    "              font=dict(size=20)\n",
    "              )\n",
    "\n",
    "fig = dict(data=data, layout=layout)\n",
    "py.offline.iplot(fig, filename='release-years-frequency-per-carrier.png')\n",
    "\n",
    "\n",
    "if not \"Verizon\" in carrierDF.Carrier.values and saveFigs==True: # only save if no Verizon\n",
    "    pio.write_image(fig, 'manufacture-freq-shared-max.pdf', width=1100, height=600)\n",
    "\n"
   ]
  },
  {
   "cell_type": "code",
   "execution_count": 14,
   "metadata": {},
   "outputs": [
    {
     "data": {
      "application/vnd.plotly.v1+json": {
       "config": {
        "linkText": "Export to plot.ly",
        "plotlyServerURL": "https://plot.ly",
        "showLink": false
       },
       "data": [
        {
         "name": "1st",
         "type": "bar",
         "x": [
          "Samsung",
          "LG",
          "Motorola",
          "HTC",
          "Google",
          "Kyocera"
         ],
         "y": [
          2,
          2,
          0,
          1,
          1,
          1
         ]
        },
        {
         "name": "2nd",
         "type": "bar",
         "x": [
          "Samsung",
          "LG",
          "Motorola",
          "HTC",
          "Kyocera"
         ],
         "y": [
          2,
          2,
          1,
          1,
          1
         ]
        },
        {
         "name": "3rd",
         "type": "bar",
         "x": [
          "Samsung",
          "LG",
          "Motorola",
          "HTC",
          "Kyocera"
         ],
         "y": [
          3,
          2,
          0,
          0,
          0
         ]
        },
        {
         "name": "4th",
         "type": "bar",
         "x": [
          "Samsung",
          "LG",
          "Motorola",
          "HTC",
          "Kyocera"
         ],
         "y": [
          2,
          1,
          0,
          0,
          1
         ]
        },
        {
         "name": "5th",
         "type": "bar",
         "x": [
          "Samsung",
          "LG",
          "Motorola",
          "HTC",
          "Kyocera"
         ],
         "y": [
          2,
          0,
          0,
          0,
          0
         ]
        },
        {
         "name": "6th",
         "type": "bar",
         "x": [
          "Samsung",
          "LG",
          "Motorola",
          "HTC",
          "Kyocera"
         ],
         "y": [
          1,
          0,
          0,
          0,
          0
         ]
        },
        {
         "name": "7th",
         "type": "bar",
         "x": [
          "Samsung",
          "LG",
          "Motorola",
          "HTC",
          "Kyocera"
         ],
         "y": [
          0,
          0,
          0,
          0,
          0
         ]
        },
        {
         "name": "8th",
         "type": "bar",
         "x": [
          "Samsung",
          "LG",
          "Motorola",
          "HTC",
          "Kyocera"
         ],
         "y": [
          0,
          0,
          0,
          0,
          0
         ]
        }
       ],
       "layout": {
        "boxmode": "group",
        "colorway": [
         "rgb(60, 180, 75)",
         "rgb(230, 25, 75)",
         "rgb(0, 130, 200)",
         "rgb(245, 130, 48)",
         "rgb(145, 30, 180)",
         "rgb(240, 50, 230)",
         "rgb(0, 128, 128)",
         "rgb(170, 110, 40)",
         "rgb(0, 130, 200)",
         "rgb(128, 128, 128)",
         "rgb(128, 0, 0)",
         "rgb(170, 255, 195)",
         "rgb(128, 128, 0)",
         "rgb(255, 215, 180)",
         "rgb(0, 0, 128)",
         "rgb(128, 128, 128)",
         "rgb(255, 255, 255)",
         "rgb(230, 25, 75)",
         "rgb(0, 0, 0)",
         "rgb(255, 225, 25)",
         "rgb(255, 250, 200)",
         "rgb(250, 190, 190)"
        ],
        "font": {
         "size": 20
        },
        "legend": {
         "orientation": "h",
         "x": 0.24,
         "y": 1.15
        },
        "plot_bgcolor": "rgba(0,0,0,0)",
        "template": {
         "data": {
          "bar": [
           {
            "error_x": {
             "color": "#2a3f5f"
            },
            "error_y": {
             "color": "#2a3f5f"
            },
            "marker": {
             "line": {
              "color": "#E5ECF6",
              "width": 0.5
             }
            },
            "type": "bar"
           }
          ],
          "barpolar": [
           {
            "marker": {
             "line": {
              "color": "#E5ECF6",
              "width": 0.5
             }
            },
            "type": "barpolar"
           }
          ],
          "carpet": [
           {
            "aaxis": {
             "endlinecolor": "#2a3f5f",
             "gridcolor": "white",
             "linecolor": "white",
             "minorgridcolor": "white",
             "startlinecolor": "#2a3f5f"
            },
            "baxis": {
             "endlinecolor": "#2a3f5f",
             "gridcolor": "white",
             "linecolor": "white",
             "minorgridcolor": "white",
             "startlinecolor": "#2a3f5f"
            },
            "type": "carpet"
           }
          ],
          "choropleth": [
           {
            "colorbar": {
             "outlinewidth": 0,
             "ticks": ""
            },
            "type": "choropleth"
           }
          ],
          "contour": [
           {
            "colorbar": {
             "outlinewidth": 0,
             "ticks": ""
            },
            "colorscale": [
             [
              0,
              "#0d0887"
             ],
             [
              0.1111111111111111,
              "#46039f"
             ],
             [
              0.2222222222222222,
              "#7201a8"
             ],
             [
              0.3333333333333333,
              "#9c179e"
             ],
             [
              0.4444444444444444,
              "#bd3786"
             ],
             [
              0.5555555555555556,
              "#d8576b"
             ],
             [
              0.6666666666666666,
              "#ed7953"
             ],
             [
              0.7777777777777778,
              "#fb9f3a"
             ],
             [
              0.8888888888888888,
              "#fdca26"
             ],
             [
              1,
              "#f0f921"
             ]
            ],
            "type": "contour"
           }
          ],
          "contourcarpet": [
           {
            "colorbar": {
             "outlinewidth": 0,
             "ticks": ""
            },
            "type": "contourcarpet"
           }
          ],
          "heatmap": [
           {
            "colorbar": {
             "outlinewidth": 0,
             "ticks": ""
            },
            "colorscale": [
             [
              0,
              "#0d0887"
             ],
             [
              0.1111111111111111,
              "#46039f"
             ],
             [
              0.2222222222222222,
              "#7201a8"
             ],
             [
              0.3333333333333333,
              "#9c179e"
             ],
             [
              0.4444444444444444,
              "#bd3786"
             ],
             [
              0.5555555555555556,
              "#d8576b"
             ],
             [
              0.6666666666666666,
              "#ed7953"
             ],
             [
              0.7777777777777778,
              "#fb9f3a"
             ],
             [
              0.8888888888888888,
              "#fdca26"
             ],
             [
              1,
              "#f0f921"
             ]
            ],
            "type": "heatmap"
           }
          ],
          "heatmapgl": [
           {
            "colorbar": {
             "outlinewidth": 0,
             "ticks": ""
            },
            "colorscale": [
             [
              0,
              "#0d0887"
             ],
             [
              0.1111111111111111,
              "#46039f"
             ],
             [
              0.2222222222222222,
              "#7201a8"
             ],
             [
              0.3333333333333333,
              "#9c179e"
             ],
             [
              0.4444444444444444,
              "#bd3786"
             ],
             [
              0.5555555555555556,
              "#d8576b"
             ],
             [
              0.6666666666666666,
              "#ed7953"
             ],
             [
              0.7777777777777778,
              "#fb9f3a"
             ],
             [
              0.8888888888888888,
              "#fdca26"
             ],
             [
              1,
              "#f0f921"
             ]
            ],
            "type": "heatmapgl"
           }
          ],
          "histogram": [
           {
            "marker": {
             "colorbar": {
              "outlinewidth": 0,
              "ticks": ""
             }
            },
            "type": "histogram"
           }
          ],
          "histogram2d": [
           {
            "colorbar": {
             "outlinewidth": 0,
             "ticks": ""
            },
            "colorscale": [
             [
              0,
              "#0d0887"
             ],
             [
              0.1111111111111111,
              "#46039f"
             ],
             [
              0.2222222222222222,
              "#7201a8"
             ],
             [
              0.3333333333333333,
              "#9c179e"
             ],
             [
              0.4444444444444444,
              "#bd3786"
             ],
             [
              0.5555555555555556,
              "#d8576b"
             ],
             [
              0.6666666666666666,
              "#ed7953"
             ],
             [
              0.7777777777777778,
              "#fb9f3a"
             ],
             [
              0.8888888888888888,
              "#fdca26"
             ],
             [
              1,
              "#f0f921"
             ]
            ],
            "type": "histogram2d"
           }
          ],
          "histogram2dcontour": [
           {
            "colorbar": {
             "outlinewidth": 0,
             "ticks": ""
            },
            "colorscale": [
             [
              0,
              "#0d0887"
             ],
             [
              0.1111111111111111,
              "#46039f"
             ],
             [
              0.2222222222222222,
              "#7201a8"
             ],
             [
              0.3333333333333333,
              "#9c179e"
             ],
             [
              0.4444444444444444,
              "#bd3786"
             ],
             [
              0.5555555555555556,
              "#d8576b"
             ],
             [
              0.6666666666666666,
              "#ed7953"
             ],
             [
              0.7777777777777778,
              "#fb9f3a"
             ],
             [
              0.8888888888888888,
              "#fdca26"
             ],
             [
              1,
              "#f0f921"
             ]
            ],
            "type": "histogram2dcontour"
           }
          ],
          "mesh3d": [
           {
            "colorbar": {
             "outlinewidth": 0,
             "ticks": ""
            },
            "type": "mesh3d"
           }
          ],
          "parcoords": [
           {
            "line": {
             "colorbar": {
              "outlinewidth": 0,
              "ticks": ""
             }
            },
            "type": "parcoords"
           }
          ],
          "pie": [
           {
            "automargin": true,
            "type": "pie"
           }
          ],
          "scatter": [
           {
            "marker": {
             "colorbar": {
              "outlinewidth": 0,
              "ticks": ""
             }
            },
            "type": "scatter"
           }
          ],
          "scatter3d": [
           {
            "line": {
             "colorbar": {
              "outlinewidth": 0,
              "ticks": ""
             }
            },
            "marker": {
             "colorbar": {
              "outlinewidth": 0,
              "ticks": ""
             }
            },
            "type": "scatter3d"
           }
          ],
          "scattercarpet": [
           {
            "marker": {
             "colorbar": {
              "outlinewidth": 0,
              "ticks": ""
             }
            },
            "type": "scattercarpet"
           }
          ],
          "scattergeo": [
           {
            "marker": {
             "colorbar": {
              "outlinewidth": 0,
              "ticks": ""
             }
            },
            "type": "scattergeo"
           }
          ],
          "scattergl": [
           {
            "marker": {
             "colorbar": {
              "outlinewidth": 0,
              "ticks": ""
             }
            },
            "type": "scattergl"
           }
          ],
          "scattermapbox": [
           {
            "marker": {
             "colorbar": {
              "outlinewidth": 0,
              "ticks": ""
             }
            },
            "type": "scattermapbox"
           }
          ],
          "scatterpolar": [
           {
            "marker": {
             "colorbar": {
              "outlinewidth": 0,
              "ticks": ""
             }
            },
            "type": "scatterpolar"
           }
          ],
          "scatterpolargl": [
           {
            "marker": {
             "colorbar": {
              "outlinewidth": 0,
              "ticks": ""
             }
            },
            "type": "scatterpolargl"
           }
          ],
          "scatterternary": [
           {
            "marker": {
             "colorbar": {
              "outlinewidth": 0,
              "ticks": ""
             }
            },
            "type": "scatterternary"
           }
          ],
          "surface": [
           {
            "colorbar": {
             "outlinewidth": 0,
             "ticks": ""
            },
            "colorscale": [
             [
              0,
              "#0d0887"
             ],
             [
              0.1111111111111111,
              "#46039f"
             ],
             [
              0.2222222222222222,
              "#7201a8"
             ],
             [
              0.3333333333333333,
              "#9c179e"
             ],
             [
              0.4444444444444444,
              "#bd3786"
             ],
             [
              0.5555555555555556,
              "#d8576b"
             ],
             [
              0.6666666666666666,
              "#ed7953"
             ],
             [
              0.7777777777777778,
              "#fb9f3a"
             ],
             [
              0.8888888888888888,
              "#fdca26"
             ],
             [
              1,
              "#f0f921"
             ]
            ],
            "type": "surface"
           }
          ],
          "table": [
           {
            "cells": {
             "fill": {
              "color": "#EBF0F8"
             },
             "line": {
              "color": "white"
             }
            },
            "header": {
             "fill": {
              "color": "#C8D4E3"
             },
             "line": {
              "color": "white"
             }
            },
            "type": "table"
           }
          ]
         },
         "layout": {
          "annotationdefaults": {
           "arrowcolor": "#2a3f5f",
           "arrowhead": 0,
           "arrowwidth": 1
          },
          "coloraxis": {
           "colorbar": {
            "outlinewidth": 0,
            "ticks": ""
           }
          },
          "colorscale": {
           "diverging": [
            [
             0,
             "#8e0152"
            ],
            [
             0.1,
             "#c51b7d"
            ],
            [
             0.2,
             "#de77ae"
            ],
            [
             0.3,
             "#f1b6da"
            ],
            [
             0.4,
             "#fde0ef"
            ],
            [
             0.5,
             "#f7f7f7"
            ],
            [
             0.6,
             "#e6f5d0"
            ],
            [
             0.7,
             "#b8e186"
            ],
            [
             0.8,
             "#7fbc41"
            ],
            [
             0.9,
             "#4d9221"
            ],
            [
             1,
             "#276419"
            ]
           ],
           "sequential": [
            [
             0,
             "#0d0887"
            ],
            [
             0.1111111111111111,
             "#46039f"
            ],
            [
             0.2222222222222222,
             "#7201a8"
            ],
            [
             0.3333333333333333,
             "#9c179e"
            ],
            [
             0.4444444444444444,
             "#bd3786"
            ],
            [
             0.5555555555555556,
             "#d8576b"
            ],
            [
             0.6666666666666666,
             "#ed7953"
            ],
            [
             0.7777777777777778,
             "#fb9f3a"
            ],
            [
             0.8888888888888888,
             "#fdca26"
            ],
            [
             1,
             "#f0f921"
            ]
           ],
           "sequentialminus": [
            [
             0,
             "#0d0887"
            ],
            [
             0.1111111111111111,
             "#46039f"
            ],
            [
             0.2222222222222222,
             "#7201a8"
            ],
            [
             0.3333333333333333,
             "#9c179e"
            ],
            [
             0.4444444444444444,
             "#bd3786"
            ],
            [
             0.5555555555555556,
             "#d8576b"
            ],
            [
             0.6666666666666666,
             "#ed7953"
            ],
            [
             0.7777777777777778,
             "#fb9f3a"
            ],
            [
             0.8888888888888888,
             "#fdca26"
            ],
            [
             1,
             "#f0f921"
            ]
           ]
          },
          "colorway": [
           "#636efa",
           "#EF553B",
           "#00cc96",
           "#ab63fa",
           "#FFA15A",
           "#19d3f3",
           "#FF6692",
           "#B6E880",
           "#FF97FF",
           "#FECB52"
          ],
          "font": {
           "color": "#2a3f5f"
          },
          "geo": {
           "bgcolor": "white",
           "lakecolor": "white",
           "landcolor": "#E5ECF6",
           "showlakes": true,
           "showland": true,
           "subunitcolor": "white"
          },
          "hoverlabel": {
           "align": "left"
          },
          "hovermode": "closest",
          "mapbox": {
           "style": "light"
          },
          "paper_bgcolor": "white",
          "plot_bgcolor": "#E5ECF6",
          "polar": {
           "angularaxis": {
            "gridcolor": "white",
            "linecolor": "white",
            "ticks": ""
           },
           "bgcolor": "#E5ECF6",
           "radialaxis": {
            "gridcolor": "white",
            "linecolor": "white",
            "ticks": ""
           }
          },
          "scene": {
           "xaxis": {
            "backgroundcolor": "#E5ECF6",
            "gridcolor": "white",
            "gridwidth": 2,
            "linecolor": "white",
            "showbackground": true,
            "ticks": "",
            "zerolinecolor": "white"
           },
           "yaxis": {
            "backgroundcolor": "#E5ECF6",
            "gridcolor": "white",
            "gridwidth": 2,
            "linecolor": "white",
            "showbackground": true,
            "ticks": "",
            "zerolinecolor": "white"
           },
           "zaxis": {
            "backgroundcolor": "#E5ECF6",
            "gridcolor": "white",
            "gridwidth": 2,
            "linecolor": "white",
            "showbackground": true,
            "ticks": "",
            "zerolinecolor": "white"
           }
          },
          "shapedefaults": {
           "line": {
            "color": "#2a3f5f"
           }
          },
          "ternary": {
           "aaxis": {
            "gridcolor": "white",
            "linecolor": "white",
            "ticks": ""
           },
           "baxis": {
            "gridcolor": "white",
            "linecolor": "white",
            "ticks": ""
           },
           "bgcolor": "#E5ECF6",
           "caxis": {
            "gridcolor": "white",
            "linecolor": "white",
            "ticks": ""
           }
          },
          "title": {
           "x": 0.05
          },
          "xaxis": {
           "automargin": true,
           "gridcolor": "white",
           "linecolor": "white",
           "ticks": "",
           "title": {
            "standoff": 15
           },
           "zerolinecolor": "white",
           "zerolinewidth": 2
          },
          "yaxis": {
           "automargin": true,
           "gridcolor": "white",
           "linecolor": "white",
           "ticks": "",
           "title": {
            "standoff": 15
           },
           "zerolinecolor": "white",
           "zerolinewidth": 2
          }
         }
        },
        "yaxis": {
         "gridcolor": "rgb(219, 219, 219)",
         "showgrid": true,
         "title": {
          "text": "Median Number of Updates"
         }
        }
       }
      },
      "text/html": [
       "<div>\n",
       "        \n",
       "        \n",
       "            <div id=\"c111baa4-fbb8-4562-81a8-2d2dac168696\" class=\"plotly-graph-div\" style=\"height:525px; width:100%;\"></div>\n",
       "            <script type=\"text/javascript\">\n",
       "                require([\"plotly\"], function(Plotly) {\n",
       "                    window.PLOTLYENV=window.PLOTLYENV || {};\n",
       "                    \n",
       "                if (document.getElementById(\"c111baa4-fbb8-4562-81a8-2d2dac168696\")) {\n",
       "                    Plotly.newPlot(\n",
       "                        'c111baa4-fbb8-4562-81a8-2d2dac168696',\n",
       "                        [{\"name\": \"1st\", \"type\": \"bar\", \"x\": [\"Samsung\", \"LG\", \"Motorola\", \"HTC\", \"Google\", \"Kyocera\"], \"y\": [2.0, 2, 0, 1.0, 1.0, 1]}, {\"name\": \"2nd\", \"type\": \"bar\", \"x\": [\"Samsung\", \"LG\", \"Motorola\", \"HTC\", \"Kyocera\"], \"y\": [2.0, 2, 1, 1.0, 1.0]}, {\"name\": \"3rd\", \"type\": \"bar\", \"x\": [\"Samsung\", \"LG\", \"Motorola\", \"HTC\", \"Kyocera\"], \"y\": [3, 2, 0, 0, 0.0]}, {\"name\": \"4th\", \"type\": \"bar\", \"x\": [\"Samsung\", \"LG\", \"Motorola\", \"HTC\", \"Kyocera\"], \"y\": [2, 1.0, 0, 0, 1]}, {\"name\": \"5th\", \"type\": \"bar\", \"x\": [\"Samsung\", \"LG\", \"Motorola\", \"HTC\", \"Kyocera\"], \"y\": [2.0, 0.0, 0.0, 0.0, 0]}, {\"name\": \"6th\", \"type\": \"bar\", \"x\": [\"Samsung\", \"LG\", \"Motorola\", \"HTC\", \"Kyocera\"], \"y\": [1, 0.0, 0.0, 0.0, 0]}, {\"name\": \"7th\", \"type\": \"bar\", \"x\": [\"Samsung\", \"LG\", \"Motorola\", \"HTC\", \"Kyocera\"], \"y\": [0.0, 0.0, 0, 0.0, 0.0]}, {\"name\": \"8th\", \"type\": \"bar\", \"x\": [\"Samsung\", \"LG\", \"Motorola\", \"HTC\", \"Kyocera\"], \"y\": [0, 0.0, 0, 0, 0.0]}],\n",
       "                        {\"boxmode\": \"group\", \"colorway\": [\"rgb(60, 180, 75)\", \"rgb(230, 25, 75)\", \"rgb(0, 130, 200)\", \"rgb(245, 130, 48)\", \"rgb(145, 30, 180)\", \"rgb(240, 50, 230)\", \"rgb(0, 128, 128)\", \"rgb(170, 110, 40)\", \"rgb(0, 130, 200)\", \"rgb(128, 128, 128)\", \"rgb(128, 0, 0)\", \"rgb(170, 255, 195)\", \"rgb(128, 128, 0)\", \"rgb(255, 215, 180)\", \"rgb(0, 0, 128)\", \"rgb(128, 128, 128)\", \"rgb(255, 255, 255)\", \"rgb(230, 25, 75)\", \"rgb(0, 0, 0)\", \"rgb(255, 225, 25)\", \"rgb(255, 250, 200)\", \"rgb(250, 190, 190)\"], \"font\": {\"size\": 20}, \"legend\": {\"orientation\": \"h\", \"x\": 0.24, \"y\": 1.15}, \"plot_bgcolor\": \"rgba(0,0,0,0)\", \"template\": {\"data\": {\"bar\": [{\"error_x\": {\"color\": \"#2a3f5f\"}, \"error_y\": {\"color\": \"#2a3f5f\"}, \"marker\": {\"line\": {\"color\": \"#E5ECF6\", \"width\": 0.5}}, \"type\": \"bar\"}], \"barpolar\": [{\"marker\": {\"line\": {\"color\": \"#E5ECF6\", \"width\": 0.5}}, \"type\": \"barpolar\"}], \"carpet\": [{\"aaxis\": {\"endlinecolor\": \"#2a3f5f\", \"gridcolor\": \"white\", \"linecolor\": \"white\", \"minorgridcolor\": \"white\", \"startlinecolor\": \"#2a3f5f\"}, \"baxis\": {\"endlinecolor\": \"#2a3f5f\", \"gridcolor\": \"white\", \"linecolor\": \"white\", \"minorgridcolor\": \"white\", \"startlinecolor\": \"#2a3f5f\"}, \"type\": \"carpet\"}], \"choropleth\": [{\"colorbar\": {\"outlinewidth\": 0, \"ticks\": \"\"}, \"type\": \"choropleth\"}], \"contour\": [{\"colorbar\": {\"outlinewidth\": 0, \"ticks\": \"\"}, \"colorscale\": [[0.0, \"#0d0887\"], [0.1111111111111111, \"#46039f\"], [0.2222222222222222, \"#7201a8\"], [0.3333333333333333, \"#9c179e\"], [0.4444444444444444, \"#bd3786\"], [0.5555555555555556, \"#d8576b\"], [0.6666666666666666, \"#ed7953\"], [0.7777777777777778, \"#fb9f3a\"], [0.8888888888888888, \"#fdca26\"], [1.0, \"#f0f921\"]], \"type\": \"contour\"}], \"contourcarpet\": [{\"colorbar\": {\"outlinewidth\": 0, \"ticks\": \"\"}, \"type\": \"contourcarpet\"}], \"heatmap\": [{\"colorbar\": {\"outlinewidth\": 0, \"ticks\": \"\"}, \"colorscale\": [[0.0, \"#0d0887\"], [0.1111111111111111, \"#46039f\"], [0.2222222222222222, \"#7201a8\"], [0.3333333333333333, \"#9c179e\"], [0.4444444444444444, \"#bd3786\"], [0.5555555555555556, \"#d8576b\"], [0.6666666666666666, \"#ed7953\"], [0.7777777777777778, \"#fb9f3a\"], [0.8888888888888888, \"#fdca26\"], [1.0, \"#f0f921\"]], \"type\": \"heatmap\"}], \"heatmapgl\": [{\"colorbar\": {\"outlinewidth\": 0, \"ticks\": \"\"}, \"colorscale\": [[0.0, \"#0d0887\"], [0.1111111111111111, \"#46039f\"], [0.2222222222222222, \"#7201a8\"], [0.3333333333333333, \"#9c179e\"], [0.4444444444444444, \"#bd3786\"], [0.5555555555555556, \"#d8576b\"], [0.6666666666666666, \"#ed7953\"], [0.7777777777777778, \"#fb9f3a\"], [0.8888888888888888, \"#fdca26\"], [1.0, \"#f0f921\"]], \"type\": \"heatmapgl\"}], \"histogram\": [{\"marker\": {\"colorbar\": {\"outlinewidth\": 0, \"ticks\": \"\"}}, \"type\": \"histogram\"}], \"histogram2d\": [{\"colorbar\": {\"outlinewidth\": 0, \"ticks\": \"\"}, \"colorscale\": [[0.0, \"#0d0887\"], [0.1111111111111111, \"#46039f\"], [0.2222222222222222, \"#7201a8\"], [0.3333333333333333, \"#9c179e\"], [0.4444444444444444, \"#bd3786\"], [0.5555555555555556, \"#d8576b\"], [0.6666666666666666, \"#ed7953\"], [0.7777777777777778, \"#fb9f3a\"], [0.8888888888888888, \"#fdca26\"], [1.0, \"#f0f921\"]], \"type\": \"histogram2d\"}], \"histogram2dcontour\": [{\"colorbar\": {\"outlinewidth\": 0, \"ticks\": \"\"}, \"colorscale\": [[0.0, \"#0d0887\"], [0.1111111111111111, \"#46039f\"], [0.2222222222222222, \"#7201a8\"], [0.3333333333333333, \"#9c179e\"], [0.4444444444444444, \"#bd3786\"], [0.5555555555555556, \"#d8576b\"], [0.6666666666666666, \"#ed7953\"], [0.7777777777777778, \"#fb9f3a\"], [0.8888888888888888, \"#fdca26\"], [1.0, \"#f0f921\"]], \"type\": \"histogram2dcontour\"}], \"mesh3d\": [{\"colorbar\": {\"outlinewidth\": 0, \"ticks\": \"\"}, \"type\": \"mesh3d\"}], \"parcoords\": [{\"line\": {\"colorbar\": {\"outlinewidth\": 0, \"ticks\": \"\"}}, \"type\": \"parcoords\"}], \"pie\": [{\"automargin\": true, \"type\": \"pie\"}], \"scatter\": [{\"marker\": {\"colorbar\": {\"outlinewidth\": 0, \"ticks\": \"\"}}, \"type\": \"scatter\"}], \"scatter3d\": [{\"line\": {\"colorbar\": {\"outlinewidth\": 0, \"ticks\": \"\"}}, \"marker\": {\"colorbar\": {\"outlinewidth\": 0, \"ticks\": \"\"}}, \"type\": \"scatter3d\"}], \"scattercarpet\": [{\"marker\": {\"colorbar\": {\"outlinewidth\": 0, \"ticks\": \"\"}}, \"type\": \"scattercarpet\"}], \"scattergeo\": [{\"marker\": {\"colorbar\": {\"outlinewidth\": 0, \"ticks\": \"\"}}, \"type\": \"scattergeo\"}], \"scattergl\": [{\"marker\": {\"colorbar\": {\"outlinewidth\": 0, \"ticks\": \"\"}}, \"type\": \"scattergl\"}], \"scattermapbox\": [{\"marker\": {\"colorbar\": {\"outlinewidth\": 0, \"ticks\": \"\"}}, \"type\": \"scattermapbox\"}], \"scatterpolar\": [{\"marker\": {\"colorbar\": {\"outlinewidth\": 0, \"ticks\": \"\"}}, \"type\": \"scatterpolar\"}], \"scatterpolargl\": [{\"marker\": {\"colorbar\": {\"outlinewidth\": 0, \"ticks\": \"\"}}, \"type\": \"scatterpolargl\"}], \"scatterternary\": [{\"marker\": {\"colorbar\": {\"outlinewidth\": 0, \"ticks\": \"\"}}, \"type\": \"scatterternary\"}], \"surface\": [{\"colorbar\": {\"outlinewidth\": 0, \"ticks\": \"\"}, \"colorscale\": [[0.0, \"#0d0887\"], [0.1111111111111111, \"#46039f\"], [0.2222222222222222, \"#7201a8\"], [0.3333333333333333, \"#9c179e\"], [0.4444444444444444, \"#bd3786\"], [0.5555555555555556, \"#d8576b\"], [0.6666666666666666, \"#ed7953\"], [0.7777777777777778, \"#fb9f3a\"], [0.8888888888888888, \"#fdca26\"], [1.0, \"#f0f921\"]], \"type\": \"surface\"}], \"table\": [{\"cells\": {\"fill\": {\"color\": \"#EBF0F8\"}, \"line\": {\"color\": \"white\"}}, \"header\": {\"fill\": {\"color\": \"#C8D4E3\"}, \"line\": {\"color\": \"white\"}}, \"type\": \"table\"}]}, \"layout\": {\"annotationdefaults\": {\"arrowcolor\": \"#2a3f5f\", \"arrowhead\": 0, \"arrowwidth\": 1}, \"coloraxis\": {\"colorbar\": {\"outlinewidth\": 0, \"ticks\": \"\"}}, \"colorscale\": {\"diverging\": [[0, \"#8e0152\"], [0.1, \"#c51b7d\"], [0.2, \"#de77ae\"], [0.3, \"#f1b6da\"], [0.4, \"#fde0ef\"], [0.5, \"#f7f7f7\"], [0.6, \"#e6f5d0\"], [0.7, \"#b8e186\"], [0.8, \"#7fbc41\"], [0.9, \"#4d9221\"], [1, \"#276419\"]], \"sequential\": [[0.0, \"#0d0887\"], [0.1111111111111111, \"#46039f\"], [0.2222222222222222, \"#7201a8\"], [0.3333333333333333, \"#9c179e\"], [0.4444444444444444, \"#bd3786\"], [0.5555555555555556, \"#d8576b\"], [0.6666666666666666, \"#ed7953\"], [0.7777777777777778, \"#fb9f3a\"], [0.8888888888888888, \"#fdca26\"], [1.0, \"#f0f921\"]], \"sequentialminus\": [[0.0, \"#0d0887\"], [0.1111111111111111, \"#46039f\"], [0.2222222222222222, \"#7201a8\"], [0.3333333333333333, \"#9c179e\"], [0.4444444444444444, \"#bd3786\"], [0.5555555555555556, \"#d8576b\"], [0.6666666666666666, \"#ed7953\"], [0.7777777777777778, \"#fb9f3a\"], [0.8888888888888888, \"#fdca26\"], [1.0, \"#f0f921\"]]}, \"colorway\": [\"#636efa\", \"#EF553B\", \"#00cc96\", \"#ab63fa\", \"#FFA15A\", \"#19d3f3\", \"#FF6692\", \"#B6E880\", \"#FF97FF\", \"#FECB52\"], \"font\": {\"color\": \"#2a3f5f\"}, \"geo\": {\"bgcolor\": \"white\", \"lakecolor\": \"white\", \"landcolor\": \"#E5ECF6\", \"showlakes\": true, \"showland\": true, \"subunitcolor\": \"white\"}, \"hoverlabel\": {\"align\": \"left\"}, \"hovermode\": \"closest\", \"mapbox\": {\"style\": \"light\"}, \"paper_bgcolor\": \"white\", \"plot_bgcolor\": \"#E5ECF6\", \"polar\": {\"angularaxis\": {\"gridcolor\": \"white\", \"linecolor\": \"white\", \"ticks\": \"\"}, \"bgcolor\": \"#E5ECF6\", \"radialaxis\": {\"gridcolor\": \"white\", \"linecolor\": \"white\", \"ticks\": \"\"}}, \"scene\": {\"xaxis\": {\"backgroundcolor\": \"#E5ECF6\", \"gridcolor\": \"white\", \"gridwidth\": 2, \"linecolor\": \"white\", \"showbackground\": true, \"ticks\": \"\", \"zerolinecolor\": \"white\"}, \"yaxis\": {\"backgroundcolor\": \"#E5ECF6\", \"gridcolor\": \"white\", \"gridwidth\": 2, \"linecolor\": \"white\", \"showbackground\": true, \"ticks\": \"\", \"zerolinecolor\": \"white\"}, \"zaxis\": {\"backgroundcolor\": \"#E5ECF6\", \"gridcolor\": \"white\", \"gridwidth\": 2, \"linecolor\": \"white\", \"showbackground\": true, \"ticks\": \"\", \"zerolinecolor\": \"white\"}}, \"shapedefaults\": {\"line\": {\"color\": \"#2a3f5f\"}}, \"ternary\": {\"aaxis\": {\"gridcolor\": \"white\", \"linecolor\": \"white\", \"ticks\": \"\"}, \"baxis\": {\"gridcolor\": \"white\", \"linecolor\": \"white\", \"ticks\": \"\"}, \"bgcolor\": \"#E5ECF6\", \"caxis\": {\"gridcolor\": \"white\", \"linecolor\": \"white\", \"ticks\": \"\"}}, \"title\": {\"x\": 0.05}, \"xaxis\": {\"automargin\": true, \"gridcolor\": \"white\", \"linecolor\": \"white\", \"ticks\": \"\", \"title\": {\"standoff\": 15}, \"zerolinecolor\": \"white\", \"zerolinewidth\": 2}, \"yaxis\": {\"automargin\": true, \"gridcolor\": \"white\", \"linecolor\": \"white\", \"ticks\": \"\", \"title\": {\"standoff\": 15}, \"zerolinecolor\": \"white\", \"zerolinewidth\": 2}}}, \"yaxis\": {\"gridcolor\": \"rgb(219, 219, 219)\", \"showgrid\": true, \"title\": {\"text\": \"Median Number of Updates\"}}},\n",
       "                        {\"responsive\": true}\n",
       "                    ).then(function(){\n",
       "                            \n",
       "var gd = document.getElementById('c111baa4-fbb8-4562-81a8-2d2dac168696');\n",
       "var x = new MutationObserver(function (mutations, observer) {{\n",
       "        var display = window.getComputedStyle(gd).display;\n",
       "        if (!display || display === 'none') {{\n",
       "            console.log([gd, 'removed!']);\n",
       "            Plotly.purge(gd);\n",
       "            observer.disconnect();\n",
       "        }}\n",
       "}});\n",
       "\n",
       "// Listen for the removal of the full notebook cells\n",
       "var notebookContainer = gd.closest('#notebook-container');\n",
       "if (notebookContainer) {{\n",
       "    x.observe(notebookContainer, {childList: true});\n",
       "}}\n",
       "\n",
       "// Listen for the clearing of the current output cell\n",
       "var outputEl = gd.closest('.output');\n",
       "if (outputEl) {{\n",
       "    x.observe(outputEl, {childList: true});\n",
       "}}\n",
       "\n",
       "                        })\n",
       "                };\n",
       "                });\n",
       "            </script>\n",
       "        </div>"
      ]
     },
     "metadata": {},
     "output_type": "display_data"
    }
   ],
   "source": [
    "# Only the manufacturers shared across all carriers\n",
    "\n",
    "# Get max of each..\n",
    "data=[]\n",
    "total_updates={}\n",
    "total_years={}\n",
    "total_updates_wZeroes={}\n",
    "total_man_wZeroes={}\n",
    "normedMan=[]\n",
    "\n",
    "# #remove manufactures with only two or less phones\n",
    "# print(len(carrierDF.Manufacture.unique()))\n",
    "# normedMan=[]\n",
    "# for man in carrierDF.Manufacture.unique():\n",
    "#     temp=carrierDF[carrierDF.Manufacture==man]\n",
    "# #     if len(temp.Model.unique())>2: # only include manfuactures with 3 or more phone models\n",
    "#     normedMan.append(man)\n",
    "# importantMan=list(set(normedMan)) # get a list of important manufacturers\n",
    "    \n",
    "# Only include manufacturers shared across all carriers\n",
    "for man in carrierDF.Manufacture.unique():\n",
    "    temp=carrierDF[carrierDF.Manufacture==man]\n",
    "    if len(temp.Carrier.unique())>2: # meaning the 3 we care about exists\n",
    "        normedMan.append(man)\n",
    "importantMan=list(set(normedMan))    \n",
    " \n",
    "    \n",
    "# sort important manufactures based on number of updates\n",
    "manLengths=[]\n",
    "for man in importantMan:\n",
    "    manLengths.append(len(carrierDF[carrierDF.Manufacture==man]))\n",
    "importantMan = [x for _,x in sorted(zip(manLengths,importantMan),reverse=True)]\n",
    "   \n",
    "\n",
    "for yr in range(int(12/howManyMonths)*4):# for each year range,\n",
    "    properList_update_wZeroes=[]\n",
    "    properList_manu_wZeroes=[]\n",
    "    for man in importantMan:# for each manufacturer\n",
    "        #for calculating median\n",
    "        #properList_update_wZeroes.extend(freqPointsManAllDevices[man][yr])\n",
    "        #properList_manu_wZeroes.extend([man for _ in range(len(freqPointsManAllDevices[man][yr]))]) # +\" period\"  \n",
    "        \n",
    "        # For the max value\n",
    "        if len(freqPointsManAllDevices[man][yr])>0:\n",
    "            properList_update_wZeroes.append(statistics.median(freqPointsManAllDevices[man][yr]))\n",
    "            properList_manu_wZeroes.append(man)\n",
    "        \n",
    "    total_updates_wZeroes[yr]=properList_update_wZeroes.copy()\n",
    "    total_man_wZeroes[yr]=properList_manu_wZeroes.copy()\n",
    "    \n",
    "for yr in range(int(12/howManyMonths)*4): # per each year\n",
    "    formatGood=\"th\"\n",
    "    if yr==0:\n",
    "        formatGood=\"st\"\n",
    "    elif yr==1:\n",
    "        formatGood=\"nd\"\n",
    "    elif yr==2:\n",
    "        formatGood=\"rd\"\n",
    "        \n",
    "#     print(yr)\n",
    "#     print(total_man_wZeroes[yr])\n",
    "#     print(total_updates_wZeroes[yr])\n",
    "    data.append(go.Bar(\n",
    "            x=total_man_wZeroes[yr], # needs to be each manufacturer\n",
    "            y=total_updates_wZeroes[yr],\n",
    "            name=str(yr+1)+formatGood,\n",
    "            #marker=dict(color='rgb'+str(lvlColor[man]))\n",
    "        ))\n",
    "    \n",
    "# Edit the layout\n",
    "colorway=['rgb(60, 180, 75)', 'rgb(230, 25, 75)', 'rgb(0, 130, 200)', 'rgb(245, 130, 48)', 'rgb(145, 30, 180)', 'rgb(240, 50, 230)', 'rgb(0, 128, 128)', 'rgb(170, 110, 40)', 'rgb(0, 130, 200)', 'rgb(128, 128, 128)','rgb(128, 0, 0)', 'rgb(170, 255, 195)', 'rgb(128, 128, 0)', 'rgb(255, 215, 180)', 'rgb(0, 0, 128)', 'rgb(128, 128, 128)', 'rgb(255, 255, 255)','rgb(230, 25, 75)',  'rgb(0, 0, 0)','rgb(255, 225, 25)',  'rgb(255, 250, 200)', 'rgb(250, 190, 190)']\n",
    "layout = dict(#title = \"Number of True Updates per 6 Month Period after Release per Manufacture \",\n",
    "              yaxis = dict(title = 'Median Number of Updates',showgrid=True, gridcolor='rgb(219, 219, 219)'),\n",
    "              #xaxis = dict(title = '6 Month Period',showgrid=True,zeroline=True,showline=True,zerolinecolor='#969696'),\n",
    "              plot_bgcolor='rgba(0,0,0,0)',\n",
    "              boxmode='group',\n",
    "              colorway=colorway,\n",
    "              legend_orientation=\"h\",\n",
    "              legend=dict(x=0.24, y=1.15), # for pt .33\n",
    "              font=dict(size=20)\n",
    "              )\n",
    "\n",
    "fig = dict(data=data, layout=layout)\n",
    "py.offline.iplot(fig, filename='release-years-frequency-per-carrier.png')\n",
    "\n",
    "\n",
    "if not \"Verizon\" in carrierDF.Carrier.values and saveFigs==True: # only save if no Verizon\n",
    "    pio.write_image(fig, 'manufacture-freq-shared-median.pdf', width=1100, height=600)\n",
    "\n"
   ]
  },
  {
   "cell_type": "code",
   "execution_count": 15,
   "metadata": {},
   "outputs": [
    {
     "data": {
      "application/vnd.plotly.v1+json": {
       "config": {
        "linkText": "Export to plot.ly",
        "plotlyServerURL": "https://plot.ly",
        "showLink": false
       },
       "data": [
        {
         "name": "1st",
         "type": "box",
         "x": [
          "Samsung",
          "Samsung",
          "Samsung",
          "Samsung",
          "Samsung",
          "Samsung",
          "Samsung",
          "Samsung",
          "Samsung",
          "Samsung",
          "Samsung",
          "Samsung",
          "Samsung",
          "Samsung",
          "Samsung",
          "Samsung",
          "Samsung",
          "Samsung",
          "Samsung",
          "Samsung",
          "Samsung",
          "Samsung",
          "Samsung",
          "Samsung",
          "Samsung",
          "Samsung",
          "Samsung",
          "Samsung",
          "Samsung",
          "Samsung",
          "Samsung",
          "Samsung",
          "Samsung",
          "Samsung",
          "Samsung",
          "Samsung",
          "Samsung",
          "Samsung",
          "LG",
          "LG",
          "LG",
          "LG",
          "LG",
          "LG",
          "LG",
          "LG",
          "LG",
          "LG",
          "LG",
          "LG",
          "LG",
          "LG",
          "LG",
          "LG",
          "LG",
          "LG",
          "LG",
          "LG",
          "LG",
          "LG",
          "LG",
          "LG",
          "LG",
          "LG",
          "LG",
          "LG",
          "LG",
          "LG",
          "LG",
          "LG",
          "LG",
          "Motorola",
          "Motorola",
          "Motorola",
          "Motorola",
          "Motorola",
          "Motorola",
          "Motorola",
          "Motorola",
          "Motorola",
          "Motorola",
          "Motorola",
          "Motorola",
          "Motorola",
          "HTC",
          "HTC",
          "HTC",
          "HTC",
          "HTC",
          "HTC",
          "Google",
          "Google",
          "Kyocera",
          "Kyocera",
          "Kyocera"
         ],
         "y": [
          2,
          1,
          0,
          1,
          0,
          0,
          5,
          3,
          0,
          2,
          4,
          6,
          6,
          5,
          2,
          5,
          1,
          5,
          5,
          5,
          3,
          5,
          6,
          6,
          0,
          0,
          1,
          1,
          2,
          1,
          3,
          0,
          3,
          1,
          2,
          2,
          1,
          0,
          5,
          5,
          2,
          1,
          5,
          0,
          3,
          1,
          3,
          0,
          0,
          4,
          0,
          2,
          2,
          1,
          4,
          1,
          2,
          0,
          3,
          5,
          0,
          0,
          2,
          0,
          1,
          3,
          2,
          2,
          1,
          2,
          1,
          1,
          4,
          1,
          1,
          0,
          2,
          0,
          0,
          0,
          0,
          0,
          0,
          1,
          0,
          4,
          1,
          1,
          1,
          0,
          1,
          1,
          1,
          1,
          0
         ]
        },
        {
         "name": "2nd",
         "type": "box",
         "x": [
          "Samsung",
          "Samsung",
          "Samsung",
          "Samsung",
          "Samsung",
          "Samsung",
          "Samsung",
          "Samsung",
          "Samsung",
          "Samsung",
          "Samsung",
          "Samsung",
          "Samsung",
          "Samsung",
          "Samsung",
          "Samsung",
          "Samsung",
          "Samsung",
          "Samsung",
          "Samsung",
          "Samsung",
          "Samsung",
          "Samsung",
          "Samsung",
          "Samsung",
          "Samsung",
          "Samsung",
          "Samsung",
          "Samsung",
          "Samsung",
          "Samsung",
          "Samsung",
          "Samsung",
          "Samsung",
          "Samsung",
          "Samsung",
          "LG",
          "LG",
          "LG",
          "LG",
          "LG",
          "LG",
          "LG",
          "LG",
          "LG",
          "LG",
          "LG",
          "LG",
          "LG",
          "LG",
          "LG",
          "LG",
          "LG",
          "LG",
          "LG",
          "LG",
          "LG",
          "LG",
          "LG",
          "LG",
          "LG",
          "LG",
          "LG",
          "LG",
          "LG",
          "LG",
          "LG",
          "LG",
          "LG",
          "LG",
          "LG",
          "Motorola",
          "Motorola",
          "Motorola",
          "Motorola",
          "Motorola",
          "Motorola",
          "Motorola",
          "Motorola",
          "Motorola",
          "Motorola",
          "Motorola",
          "HTC",
          "HTC",
          "HTC",
          "HTC",
          "HTC",
          "HTC",
          "HTC",
          "HTC",
          "Kyocera",
          "Kyocera"
         ],
         "y": [
          2,
          2,
          0,
          2,
          1,
          0,
          3,
          2,
          0,
          2,
          5,
          6,
          6,
          3,
          3,
          0,
          1,
          3,
          4,
          5,
          6,
          5,
          5,
          5,
          1,
          0,
          2,
          2,
          1,
          4,
          1,
          1,
          1,
          2,
          3,
          1,
          0,
          4,
          3,
          3,
          6,
          1,
          0,
          0,
          4,
          0,
          0,
          1,
          3,
          4,
          1,
          2,
          6,
          2,
          4,
          2,
          0,
          3,
          4,
          1,
          1,
          0,
          3,
          0,
          4,
          3,
          3,
          3,
          3,
          2,
          2,
          0,
          2,
          2,
          0,
          1,
          2,
          0,
          0,
          1,
          1,
          1,
          0,
          1,
          2,
          1,
          0,
          1,
          1,
          1,
          1,
          1
         ]
        },
        {
         "name": "3rd",
         "type": "box",
         "x": [
          "Samsung",
          "Samsung",
          "Samsung",
          "Samsung",
          "Samsung",
          "Samsung",
          "Samsung",
          "Samsung",
          "Samsung",
          "Samsung",
          "Samsung",
          "Samsung",
          "Samsung",
          "Samsung",
          "Samsung",
          "Samsung",
          "Samsung",
          "Samsung",
          "Samsung",
          "Samsung",
          "Samsung",
          "Samsung",
          "Samsung",
          "Samsung",
          "Samsung",
          "Samsung",
          "Samsung",
          "Samsung",
          "Samsung",
          "Samsung",
          "Samsung",
          "LG",
          "LG",
          "LG",
          "LG",
          "LG",
          "LG",
          "LG",
          "LG",
          "LG",
          "LG",
          "LG",
          "LG",
          "LG",
          "LG",
          "LG",
          "LG",
          "LG",
          "LG",
          "LG",
          "LG",
          "LG",
          "LG",
          "LG",
          "LG",
          "LG",
          "LG",
          "LG",
          "Motorola",
          "Motorola",
          "Motorola",
          "Motorola",
          "Motorola",
          "Motorola",
          "Motorola",
          "HTC",
          "HTC",
          "HTC",
          "HTC",
          "HTC",
          "HTC",
          "HTC",
          "HTC",
          "HTC",
          "Kyocera",
          "Kyocera"
         ],
         "y": [
          2,
          0,
          2,
          2,
          0,
          5,
          2,
          2,
          3,
          6,
          6,
          6,
          6,
          5,
          6,
          4,
          6,
          6,
          5,
          6,
          3,
          3,
          0,
          1,
          1,
          2,
          3,
          0,
          1,
          0,
          0,
          2,
          5,
          4,
          3,
          0,
          4,
          0,
          1,
          0,
          4,
          0,
          0,
          2,
          1,
          1,
          1,
          3,
          3,
          0,
          0,
          4,
          1,
          2,
          2,
          2,
          2,
          0,
          4,
          0,
          0,
          0,
          5,
          0,
          0,
          0,
          0,
          2,
          1,
          0,
          0,
          1,
          0,
          1,
          0,
          0
         ]
        },
        {
         "name": "4th",
         "type": "box",
         "x": [
          "Samsung",
          "Samsung",
          "Samsung",
          "Samsung",
          "Samsung",
          "Samsung",
          "Samsung",
          "Samsung",
          "Samsung",
          "Samsung",
          "Samsung",
          "Samsung",
          "Samsung",
          "Samsung",
          "Samsung",
          "Samsung",
          "Samsung",
          "Samsung",
          "Samsung",
          "Samsung",
          "Samsung",
          "Samsung",
          "Samsung",
          "Samsung",
          "Samsung",
          "Samsung",
          "Samsung",
          "Samsung",
          "Samsung",
          "Samsung",
          "Samsung",
          "Samsung",
          "Samsung",
          "Samsung",
          "Samsung",
          "LG",
          "LG",
          "LG",
          "LG",
          "LG",
          "LG",
          "LG",
          "LG",
          "LG",
          "LG",
          "LG",
          "LG",
          "LG",
          "LG",
          "LG",
          "LG",
          "LG",
          "LG",
          "LG",
          "LG",
          "LG",
          "LG",
          "LG",
          "LG",
          "LG",
          "LG",
          "LG",
          "LG",
          "Motorola",
          "Motorola",
          "Motorola",
          "Motorola",
          "Motorola",
          "Motorola",
          "Motorola",
          "HTC",
          "HTC",
          "HTC",
          "HTC",
          "HTC",
          "HTC",
          "HTC",
          "HTC",
          "HTC",
          "HTC",
          "HTC",
          "Kyocera",
          "Kyocera",
          "Kyocera"
         ],
         "y": [
          1,
          0,
          0,
          2,
          0,
          2,
          2,
          6,
          6,
          6,
          4,
          4,
          0,
          6,
          5,
          5,
          6,
          4,
          5,
          6,
          4,
          6,
          0,
          1,
          1,
          2,
          0,
          5,
          0,
          1,
          1,
          2,
          0,
          1,
          0,
          2,
          5,
          2,
          4,
          0,
          4,
          1,
          0,
          0,
          3,
          1,
          0,
          0,
          2,
          0,
          1,
          2,
          1,
          0,
          0,
          2,
          2,
          3,
          2,
          1,
          1,
          1,
          2,
          2,
          0,
          0,
          1,
          0,
          1,
          0,
          0,
          0,
          3,
          1,
          0,
          0,
          0,
          1,
          2,
          0,
          0,
          1,
          1,
          0
         ]
        },
        {
         "name": "5th",
         "type": "box",
         "x": [
          "Samsung",
          "Samsung",
          "Samsung",
          "Samsung",
          "Samsung",
          "Samsung",
          "Samsung",
          "Samsung",
          "Samsung",
          "Samsung",
          "Samsung",
          "Samsung",
          "Samsung",
          "Samsung",
          "Samsung",
          "Samsung",
          "Samsung",
          "Samsung",
          "Samsung",
          "Samsung",
          "Samsung",
          "Samsung",
          "Samsung",
          "Samsung",
          "Samsung",
          "Samsung",
          "Samsung",
          "Samsung",
          "Samsung",
          "Samsung",
          "Samsung",
          "Samsung",
          "Samsung",
          "Samsung",
          "Samsung",
          "Samsung",
          "LG",
          "LG",
          "LG",
          "LG",
          "LG",
          "LG",
          "LG",
          "LG",
          "LG",
          "LG",
          "LG",
          "LG",
          "LG",
          "LG",
          "LG",
          "LG",
          "LG",
          "LG",
          "LG",
          "LG",
          "LG",
          "LG",
          "LG",
          "LG",
          "Motorola",
          "Motorola",
          "Motorola",
          "Motorola",
          "HTC",
          "HTC",
          "HTC",
          "HTC",
          "HTC",
          "HTC",
          "HTC",
          "HTC",
          "HTC",
          "HTC",
          "Kyocera",
          "Kyocera",
          "Kyocera"
         ],
         "y": [
          0,
          1,
          0,
          0,
          1,
          2,
          6,
          6,
          5,
          6,
          4,
          5,
          5,
          4,
          5,
          3,
          3,
          3,
          3,
          0,
          3,
          0,
          0,
          2,
          0,
          2,
          2,
          0,
          1,
          1,
          0,
          3,
          0,
          1,
          0,
          1,
          2,
          1,
          3,
          0,
          1,
          0,
          0,
          2,
          1,
          0,
          0,
          5,
          0,
          0,
          0,
          0,
          0,
          0,
          2,
          0,
          0,
          2,
          0,
          0,
          2,
          0,
          0,
          0,
          0,
          0,
          0,
          0,
          1,
          0,
          0,
          3,
          0,
          0,
          0,
          0,
          0
         ]
        },
        {
         "name": "6th",
         "type": "box",
         "x": [
          "Samsung",
          "Samsung",
          "Samsung",
          "Samsung",
          "Samsung",
          "Samsung",
          "Samsung",
          "Samsung",
          "Samsung",
          "Samsung",
          "Samsung",
          "Samsung",
          "Samsung",
          "Samsung",
          "Samsung",
          "Samsung",
          "Samsung",
          "Samsung",
          "Samsung",
          "Samsung",
          "Samsung",
          "Samsung",
          "Samsung",
          "Samsung",
          "Samsung",
          "Samsung",
          "Samsung",
          "Samsung",
          "Samsung",
          "Samsung",
          "Samsung",
          "Samsung",
          "Samsung",
          "LG",
          "LG",
          "LG",
          "LG",
          "LG",
          "LG",
          "LG",
          "LG",
          "LG",
          "LG",
          "LG",
          "LG",
          "LG",
          "LG",
          "LG",
          "LG",
          "LG",
          "LG",
          "LG",
          "LG",
          "LG",
          "LG",
          "Motorola",
          "Motorola",
          "Motorola",
          "Motorola",
          "HTC",
          "HTC",
          "HTC",
          "HTC",
          "HTC",
          "HTC",
          "HTC",
          "HTC",
          "HTC",
          "HTC",
          "Kyocera",
          "Kyocera",
          "Kyocera"
         ],
         "y": [
          0,
          0,
          0,
          0,
          0,
          5,
          4,
          5,
          5,
          4,
          5,
          6,
          5,
          5,
          6,
          6,
          0,
          1,
          0,
          2,
          0,
          4,
          1,
          0,
          1,
          2,
          2,
          0,
          1,
          0,
          1,
          1,
          0,
          0,
          0,
          0,
          0,
          0,
          0,
          0,
          0,
          0,
          0,
          3,
          0,
          0,
          0,
          0,
          0,
          0,
          3,
          1,
          0,
          1,
          1,
          1,
          0,
          0,
          0,
          0,
          0,
          0,
          0,
          0,
          0,
          0,
          0,
          1,
          0,
          0,
          0,
          0
         ]
        },
        {
         "name": "7th",
         "type": "box",
         "x": [
          "Samsung",
          "Samsung",
          "Samsung",
          "Samsung",
          "Samsung",
          "Samsung",
          "Samsung",
          "Samsung",
          "Samsung",
          "Samsung",
          "Samsung",
          "Samsung",
          "Samsung",
          "Samsung",
          "Samsung",
          "Samsung",
          "Samsung",
          "Samsung",
          "Samsung",
          "Samsung",
          "Samsung",
          "Samsung",
          "Samsung",
          "Samsung",
          "Samsung",
          "Samsung",
          "Samsung",
          "Samsung",
          "Samsung",
          "Samsung",
          "Samsung",
          "Samsung",
          "LG",
          "LG",
          "LG",
          "LG",
          "LG",
          "LG",
          "LG",
          "LG",
          "LG",
          "LG",
          "LG",
          "LG",
          "LG",
          "LG",
          "LG",
          "LG",
          "Motorola",
          "Motorola",
          "Motorola",
          "HTC",
          "HTC",
          "HTC",
          "HTC",
          "HTC",
          "HTC",
          "HTC",
          "HTC",
          "HTC",
          "HTC",
          "Kyocera",
          "Kyocera"
         ],
         "y": [
          0,
          0,
          0,
          0,
          0,
          0,
          0,
          0,
          0,
          0,
          0,
          0,
          0,
          0,
          1,
          1,
          0,
          0,
          0,
          1,
          0,
          0,
          0,
          0,
          0,
          1,
          0,
          0,
          0,
          1,
          0,
          0,
          0,
          0,
          0,
          0,
          0,
          0,
          2,
          0,
          1,
          0,
          0,
          0,
          0,
          0,
          0,
          0,
          0,
          0,
          0,
          0,
          0,
          0,
          0,
          0,
          0,
          0,
          0,
          0,
          0,
          0,
          0
         ]
        },
        {
         "name": "8th",
         "type": "box",
         "x": [
          "Samsung",
          "Samsung",
          "Samsung",
          "Samsung",
          "Samsung",
          "Samsung",
          "Samsung",
          "Samsung",
          "Samsung",
          "Samsung",
          "Samsung",
          "Samsung",
          "Samsung",
          "Samsung",
          "Samsung",
          "Samsung",
          "Samsung",
          "Samsung",
          "Samsung",
          "Samsung",
          "Samsung",
          "Samsung",
          "Samsung",
          "LG",
          "LG",
          "LG",
          "LG",
          "LG",
          "LG",
          "LG",
          "LG",
          "LG",
          "LG",
          "LG",
          "LG",
          "Motorola",
          "Motorola",
          "Motorola",
          "HTC",
          "HTC",
          "HTC",
          "HTC",
          "HTC",
          "HTC",
          "HTC",
          "Kyocera",
          "Kyocera"
         ],
         "y": [
          0,
          0,
          0,
          0,
          0,
          0,
          0,
          0,
          0,
          0,
          0,
          1,
          0,
          0,
          0,
          0,
          2,
          0,
          0,
          1,
          0,
          1,
          1,
          0,
          0,
          0,
          0,
          0,
          0,
          0,
          0,
          0,
          0,
          0,
          0,
          0,
          0,
          0,
          0,
          0,
          0,
          0,
          0,
          0,
          0,
          0,
          0
         ]
        }
       ],
       "layout": {
        "boxmode": "group",
        "colorway": [
         "rgb(60, 180, 75)",
         "rgb(230, 25, 75)",
         "rgb(0, 130, 200)",
         "rgb(245, 130, 48)",
         "rgb(145, 30, 180)",
         "rgb(240, 50, 230)",
         "rgb(0, 128, 128)",
         "rgb(170, 110, 40)",
         "rgb(0, 130, 200)",
         "rgb(128, 128, 128)",
         "rgb(128, 0, 0)",
         "rgb(170, 255, 195)",
         "rgb(128, 128, 0)",
         "rgb(255, 215, 180)",
         "rgb(0, 0, 128)",
         "rgb(128, 128, 128)",
         "rgb(255, 255, 255)",
         "rgb(230, 25, 75)",
         "rgb(0, 0, 0)",
         "rgb(255, 225, 25)",
         "rgb(255, 250, 200)",
         "rgb(250, 190, 190)"
        ],
        "font": {
         "size": 20
        },
        "legend": {
         "orientation": "h",
         "x": 0.24,
         "y": 1.15
        },
        "plot_bgcolor": "rgba(0,0,0,0)",
        "template": {
         "data": {
          "bar": [
           {
            "error_x": {
             "color": "#2a3f5f"
            },
            "error_y": {
             "color": "#2a3f5f"
            },
            "marker": {
             "line": {
              "color": "#E5ECF6",
              "width": 0.5
             }
            },
            "type": "bar"
           }
          ],
          "barpolar": [
           {
            "marker": {
             "line": {
              "color": "#E5ECF6",
              "width": 0.5
             }
            },
            "type": "barpolar"
           }
          ],
          "carpet": [
           {
            "aaxis": {
             "endlinecolor": "#2a3f5f",
             "gridcolor": "white",
             "linecolor": "white",
             "minorgridcolor": "white",
             "startlinecolor": "#2a3f5f"
            },
            "baxis": {
             "endlinecolor": "#2a3f5f",
             "gridcolor": "white",
             "linecolor": "white",
             "minorgridcolor": "white",
             "startlinecolor": "#2a3f5f"
            },
            "type": "carpet"
           }
          ],
          "choropleth": [
           {
            "colorbar": {
             "outlinewidth": 0,
             "ticks": ""
            },
            "type": "choropleth"
           }
          ],
          "contour": [
           {
            "colorbar": {
             "outlinewidth": 0,
             "ticks": ""
            },
            "colorscale": [
             [
              0,
              "#0d0887"
             ],
             [
              0.1111111111111111,
              "#46039f"
             ],
             [
              0.2222222222222222,
              "#7201a8"
             ],
             [
              0.3333333333333333,
              "#9c179e"
             ],
             [
              0.4444444444444444,
              "#bd3786"
             ],
             [
              0.5555555555555556,
              "#d8576b"
             ],
             [
              0.6666666666666666,
              "#ed7953"
             ],
             [
              0.7777777777777778,
              "#fb9f3a"
             ],
             [
              0.8888888888888888,
              "#fdca26"
             ],
             [
              1,
              "#f0f921"
             ]
            ],
            "type": "contour"
           }
          ],
          "contourcarpet": [
           {
            "colorbar": {
             "outlinewidth": 0,
             "ticks": ""
            },
            "type": "contourcarpet"
           }
          ],
          "heatmap": [
           {
            "colorbar": {
             "outlinewidth": 0,
             "ticks": ""
            },
            "colorscale": [
             [
              0,
              "#0d0887"
             ],
             [
              0.1111111111111111,
              "#46039f"
             ],
             [
              0.2222222222222222,
              "#7201a8"
             ],
             [
              0.3333333333333333,
              "#9c179e"
             ],
             [
              0.4444444444444444,
              "#bd3786"
             ],
             [
              0.5555555555555556,
              "#d8576b"
             ],
             [
              0.6666666666666666,
              "#ed7953"
             ],
             [
              0.7777777777777778,
              "#fb9f3a"
             ],
             [
              0.8888888888888888,
              "#fdca26"
             ],
             [
              1,
              "#f0f921"
             ]
            ],
            "type": "heatmap"
           }
          ],
          "heatmapgl": [
           {
            "colorbar": {
             "outlinewidth": 0,
             "ticks": ""
            },
            "colorscale": [
             [
              0,
              "#0d0887"
             ],
             [
              0.1111111111111111,
              "#46039f"
             ],
             [
              0.2222222222222222,
              "#7201a8"
             ],
             [
              0.3333333333333333,
              "#9c179e"
             ],
             [
              0.4444444444444444,
              "#bd3786"
             ],
             [
              0.5555555555555556,
              "#d8576b"
             ],
             [
              0.6666666666666666,
              "#ed7953"
             ],
             [
              0.7777777777777778,
              "#fb9f3a"
             ],
             [
              0.8888888888888888,
              "#fdca26"
             ],
             [
              1,
              "#f0f921"
             ]
            ],
            "type": "heatmapgl"
           }
          ],
          "histogram": [
           {
            "marker": {
             "colorbar": {
              "outlinewidth": 0,
              "ticks": ""
             }
            },
            "type": "histogram"
           }
          ],
          "histogram2d": [
           {
            "colorbar": {
             "outlinewidth": 0,
             "ticks": ""
            },
            "colorscale": [
             [
              0,
              "#0d0887"
             ],
             [
              0.1111111111111111,
              "#46039f"
             ],
             [
              0.2222222222222222,
              "#7201a8"
             ],
             [
              0.3333333333333333,
              "#9c179e"
             ],
             [
              0.4444444444444444,
              "#bd3786"
             ],
             [
              0.5555555555555556,
              "#d8576b"
             ],
             [
              0.6666666666666666,
              "#ed7953"
             ],
             [
              0.7777777777777778,
              "#fb9f3a"
             ],
             [
              0.8888888888888888,
              "#fdca26"
             ],
             [
              1,
              "#f0f921"
             ]
            ],
            "type": "histogram2d"
           }
          ],
          "histogram2dcontour": [
           {
            "colorbar": {
             "outlinewidth": 0,
             "ticks": ""
            },
            "colorscale": [
             [
              0,
              "#0d0887"
             ],
             [
              0.1111111111111111,
              "#46039f"
             ],
             [
              0.2222222222222222,
              "#7201a8"
             ],
             [
              0.3333333333333333,
              "#9c179e"
             ],
             [
              0.4444444444444444,
              "#bd3786"
             ],
             [
              0.5555555555555556,
              "#d8576b"
             ],
             [
              0.6666666666666666,
              "#ed7953"
             ],
             [
              0.7777777777777778,
              "#fb9f3a"
             ],
             [
              0.8888888888888888,
              "#fdca26"
             ],
             [
              1,
              "#f0f921"
             ]
            ],
            "type": "histogram2dcontour"
           }
          ],
          "mesh3d": [
           {
            "colorbar": {
             "outlinewidth": 0,
             "ticks": ""
            },
            "type": "mesh3d"
           }
          ],
          "parcoords": [
           {
            "line": {
             "colorbar": {
              "outlinewidth": 0,
              "ticks": ""
             }
            },
            "type": "parcoords"
           }
          ],
          "pie": [
           {
            "automargin": true,
            "type": "pie"
           }
          ],
          "scatter": [
           {
            "marker": {
             "colorbar": {
              "outlinewidth": 0,
              "ticks": ""
             }
            },
            "type": "scatter"
           }
          ],
          "scatter3d": [
           {
            "line": {
             "colorbar": {
              "outlinewidth": 0,
              "ticks": ""
             }
            },
            "marker": {
             "colorbar": {
              "outlinewidth": 0,
              "ticks": ""
             }
            },
            "type": "scatter3d"
           }
          ],
          "scattercarpet": [
           {
            "marker": {
             "colorbar": {
              "outlinewidth": 0,
              "ticks": ""
             }
            },
            "type": "scattercarpet"
           }
          ],
          "scattergeo": [
           {
            "marker": {
             "colorbar": {
              "outlinewidth": 0,
              "ticks": ""
             }
            },
            "type": "scattergeo"
           }
          ],
          "scattergl": [
           {
            "marker": {
             "colorbar": {
              "outlinewidth": 0,
              "ticks": ""
             }
            },
            "type": "scattergl"
           }
          ],
          "scattermapbox": [
           {
            "marker": {
             "colorbar": {
              "outlinewidth": 0,
              "ticks": ""
             }
            },
            "type": "scattermapbox"
           }
          ],
          "scatterpolar": [
           {
            "marker": {
             "colorbar": {
              "outlinewidth": 0,
              "ticks": ""
             }
            },
            "type": "scatterpolar"
           }
          ],
          "scatterpolargl": [
           {
            "marker": {
             "colorbar": {
              "outlinewidth": 0,
              "ticks": ""
             }
            },
            "type": "scatterpolargl"
           }
          ],
          "scatterternary": [
           {
            "marker": {
             "colorbar": {
              "outlinewidth": 0,
              "ticks": ""
             }
            },
            "type": "scatterternary"
           }
          ],
          "surface": [
           {
            "colorbar": {
             "outlinewidth": 0,
             "ticks": ""
            },
            "colorscale": [
             [
              0,
              "#0d0887"
             ],
             [
              0.1111111111111111,
              "#46039f"
             ],
             [
              0.2222222222222222,
              "#7201a8"
             ],
             [
              0.3333333333333333,
              "#9c179e"
             ],
             [
              0.4444444444444444,
              "#bd3786"
             ],
             [
              0.5555555555555556,
              "#d8576b"
             ],
             [
              0.6666666666666666,
              "#ed7953"
             ],
             [
              0.7777777777777778,
              "#fb9f3a"
             ],
             [
              0.8888888888888888,
              "#fdca26"
             ],
             [
              1,
              "#f0f921"
             ]
            ],
            "type": "surface"
           }
          ],
          "table": [
           {
            "cells": {
             "fill": {
              "color": "#EBF0F8"
             },
             "line": {
              "color": "white"
             }
            },
            "header": {
             "fill": {
              "color": "#C8D4E3"
             },
             "line": {
              "color": "white"
             }
            },
            "type": "table"
           }
          ]
         },
         "layout": {
          "annotationdefaults": {
           "arrowcolor": "#2a3f5f",
           "arrowhead": 0,
           "arrowwidth": 1
          },
          "coloraxis": {
           "colorbar": {
            "outlinewidth": 0,
            "ticks": ""
           }
          },
          "colorscale": {
           "diverging": [
            [
             0,
             "#8e0152"
            ],
            [
             0.1,
             "#c51b7d"
            ],
            [
             0.2,
             "#de77ae"
            ],
            [
             0.3,
             "#f1b6da"
            ],
            [
             0.4,
             "#fde0ef"
            ],
            [
             0.5,
             "#f7f7f7"
            ],
            [
             0.6,
             "#e6f5d0"
            ],
            [
             0.7,
             "#b8e186"
            ],
            [
             0.8,
             "#7fbc41"
            ],
            [
             0.9,
             "#4d9221"
            ],
            [
             1,
             "#276419"
            ]
           ],
           "sequential": [
            [
             0,
             "#0d0887"
            ],
            [
             0.1111111111111111,
             "#46039f"
            ],
            [
             0.2222222222222222,
             "#7201a8"
            ],
            [
             0.3333333333333333,
             "#9c179e"
            ],
            [
             0.4444444444444444,
             "#bd3786"
            ],
            [
             0.5555555555555556,
             "#d8576b"
            ],
            [
             0.6666666666666666,
             "#ed7953"
            ],
            [
             0.7777777777777778,
             "#fb9f3a"
            ],
            [
             0.8888888888888888,
             "#fdca26"
            ],
            [
             1,
             "#f0f921"
            ]
           ],
           "sequentialminus": [
            [
             0,
             "#0d0887"
            ],
            [
             0.1111111111111111,
             "#46039f"
            ],
            [
             0.2222222222222222,
             "#7201a8"
            ],
            [
             0.3333333333333333,
             "#9c179e"
            ],
            [
             0.4444444444444444,
             "#bd3786"
            ],
            [
             0.5555555555555556,
             "#d8576b"
            ],
            [
             0.6666666666666666,
             "#ed7953"
            ],
            [
             0.7777777777777778,
             "#fb9f3a"
            ],
            [
             0.8888888888888888,
             "#fdca26"
            ],
            [
             1,
             "#f0f921"
            ]
           ]
          },
          "colorway": [
           "#636efa",
           "#EF553B",
           "#00cc96",
           "#ab63fa",
           "#FFA15A",
           "#19d3f3",
           "#FF6692",
           "#B6E880",
           "#FF97FF",
           "#FECB52"
          ],
          "font": {
           "color": "#2a3f5f"
          },
          "geo": {
           "bgcolor": "white",
           "lakecolor": "white",
           "landcolor": "#E5ECF6",
           "showlakes": true,
           "showland": true,
           "subunitcolor": "white"
          },
          "hoverlabel": {
           "align": "left"
          },
          "hovermode": "closest",
          "mapbox": {
           "style": "light"
          },
          "paper_bgcolor": "white",
          "plot_bgcolor": "#E5ECF6",
          "polar": {
           "angularaxis": {
            "gridcolor": "white",
            "linecolor": "white",
            "ticks": ""
           },
           "bgcolor": "#E5ECF6",
           "radialaxis": {
            "gridcolor": "white",
            "linecolor": "white",
            "ticks": ""
           }
          },
          "scene": {
           "xaxis": {
            "backgroundcolor": "#E5ECF6",
            "gridcolor": "white",
            "gridwidth": 2,
            "linecolor": "white",
            "showbackground": true,
            "ticks": "",
            "zerolinecolor": "white"
           },
           "yaxis": {
            "backgroundcolor": "#E5ECF6",
            "gridcolor": "white",
            "gridwidth": 2,
            "linecolor": "white",
            "showbackground": true,
            "ticks": "",
            "zerolinecolor": "white"
           },
           "zaxis": {
            "backgroundcolor": "#E5ECF6",
            "gridcolor": "white",
            "gridwidth": 2,
            "linecolor": "white",
            "showbackground": true,
            "ticks": "",
            "zerolinecolor": "white"
           }
          },
          "shapedefaults": {
           "line": {
            "color": "#2a3f5f"
           }
          },
          "ternary": {
           "aaxis": {
            "gridcolor": "white",
            "linecolor": "white",
            "ticks": ""
           },
           "baxis": {
            "gridcolor": "white",
            "linecolor": "white",
            "ticks": ""
           },
           "bgcolor": "#E5ECF6",
           "caxis": {
            "gridcolor": "white",
            "linecolor": "white",
            "ticks": ""
           }
          },
          "title": {
           "x": 0.05
          },
          "xaxis": {
           "automargin": true,
           "gridcolor": "white",
           "linecolor": "white",
           "ticks": "",
           "title": {
            "standoff": 15
           },
           "zerolinecolor": "white",
           "zerolinewidth": 2
          },
          "yaxis": {
           "automargin": true,
           "gridcolor": "white",
           "linecolor": "white",
           "ticks": "",
           "title": {
            "standoff": 15
           },
           "zerolinecolor": "white",
           "zerolinewidth": 2
          }
         }
        },
        "yaxis": {
         "gridcolor": "rgb(219, 219, 219)",
         "showgrid": true,
         "title": {
          "text": "Number of Updates"
         }
        }
       }
      },
      "text/html": [
       "<div>\n",
       "        \n",
       "        \n",
       "            <div id=\"7065e71e-6968-4acc-92ce-4ffcf800273a\" class=\"plotly-graph-div\" style=\"height:525px; width:100%;\"></div>\n",
       "            <script type=\"text/javascript\">\n",
       "                require([\"plotly\"], function(Plotly) {\n",
       "                    window.PLOTLYENV=window.PLOTLYENV || {};\n",
       "                    \n",
       "                if (document.getElementById(\"7065e71e-6968-4acc-92ce-4ffcf800273a\")) {\n",
       "                    Plotly.newPlot(\n",
       "                        '7065e71e-6968-4acc-92ce-4ffcf800273a',\n",
       "                        [{\"name\": \"1st\", \"type\": \"box\", \"x\": [\"Samsung\", \"Samsung\", \"Samsung\", \"Samsung\", \"Samsung\", \"Samsung\", \"Samsung\", \"Samsung\", \"Samsung\", \"Samsung\", \"Samsung\", \"Samsung\", \"Samsung\", \"Samsung\", \"Samsung\", \"Samsung\", \"Samsung\", \"Samsung\", \"Samsung\", \"Samsung\", \"Samsung\", \"Samsung\", \"Samsung\", \"Samsung\", \"Samsung\", \"Samsung\", \"Samsung\", \"Samsung\", \"Samsung\", \"Samsung\", \"Samsung\", \"Samsung\", \"Samsung\", \"Samsung\", \"Samsung\", \"Samsung\", \"Samsung\", \"Samsung\", \"LG\", \"LG\", \"LG\", \"LG\", \"LG\", \"LG\", \"LG\", \"LG\", \"LG\", \"LG\", \"LG\", \"LG\", \"LG\", \"LG\", \"LG\", \"LG\", \"LG\", \"LG\", \"LG\", \"LG\", \"LG\", \"LG\", \"LG\", \"LG\", \"LG\", \"LG\", \"LG\", \"LG\", \"LG\", \"LG\", \"LG\", \"LG\", \"LG\", \"Motorola\", \"Motorola\", \"Motorola\", \"Motorola\", \"Motorola\", \"Motorola\", \"Motorola\", \"Motorola\", \"Motorola\", \"Motorola\", \"Motorola\", \"Motorola\", \"Motorola\", \"HTC\", \"HTC\", \"HTC\", \"HTC\", \"HTC\", \"HTC\", \"Google\", \"Google\", \"Kyocera\", \"Kyocera\", \"Kyocera\"], \"y\": [2, 1, 0, 1, 0, 0, 5, 3, 0, 2, 4, 6, 6, 5, 2, 5, 1, 5, 5, 5, 3, 5, 6, 6, 0, 0, 1, 1, 2, 1, 3, 0, 3, 1, 2, 2, 1, 0, 5, 5, 2, 1, 5, 0, 3, 1, 3, 0, 0, 4, 0, 2, 2, 1, 4, 1, 2, 0, 3, 5, 0, 0, 2, 0, 1, 3, 2, 2, 1, 2, 1, 1, 4, 1, 1, 0, 2, 0, 0, 0, 0, 0, 0, 1, 0, 4, 1, 1, 1, 0, 1, 1, 1, 1, 0]}, {\"name\": \"2nd\", \"type\": \"box\", \"x\": [\"Samsung\", \"Samsung\", \"Samsung\", \"Samsung\", \"Samsung\", \"Samsung\", \"Samsung\", \"Samsung\", \"Samsung\", \"Samsung\", \"Samsung\", \"Samsung\", \"Samsung\", \"Samsung\", \"Samsung\", \"Samsung\", \"Samsung\", \"Samsung\", \"Samsung\", \"Samsung\", \"Samsung\", \"Samsung\", \"Samsung\", \"Samsung\", \"Samsung\", \"Samsung\", \"Samsung\", \"Samsung\", \"Samsung\", \"Samsung\", \"Samsung\", \"Samsung\", \"Samsung\", \"Samsung\", \"Samsung\", \"Samsung\", \"LG\", \"LG\", \"LG\", \"LG\", \"LG\", \"LG\", \"LG\", \"LG\", \"LG\", \"LG\", \"LG\", \"LG\", \"LG\", \"LG\", \"LG\", \"LG\", \"LG\", \"LG\", \"LG\", \"LG\", \"LG\", \"LG\", \"LG\", \"LG\", \"LG\", \"LG\", \"LG\", \"LG\", \"LG\", \"LG\", \"LG\", \"LG\", \"LG\", \"LG\", \"LG\", \"Motorola\", \"Motorola\", \"Motorola\", \"Motorola\", \"Motorola\", \"Motorola\", \"Motorola\", \"Motorola\", \"Motorola\", \"Motorola\", \"Motorola\", \"HTC\", \"HTC\", \"HTC\", \"HTC\", \"HTC\", \"HTC\", \"HTC\", \"HTC\", \"Kyocera\", \"Kyocera\"], \"y\": [2, 2, 0, 2, 1, 0, 3, 2, 0, 2, 5, 6, 6, 3, 3, 0, 1, 3, 4, 5, 6, 5, 5, 5, 1, 0, 2, 2, 1, 4, 1, 1, 1, 2, 3, 1, 0, 4, 3, 3, 6, 1, 0, 0, 4, 0, 0, 1, 3, 4, 1, 2, 6, 2, 4, 2, 0, 3, 4, 1, 1, 0, 3, 0, 4, 3, 3, 3, 3, 2, 2, 0, 2, 2, 0, 1, 2, 0, 0, 1, 1, 1, 0, 1, 2, 1, 0, 1, 1, 1, 1, 1]}, {\"name\": \"3rd\", \"type\": \"box\", \"x\": [\"Samsung\", \"Samsung\", \"Samsung\", \"Samsung\", \"Samsung\", \"Samsung\", \"Samsung\", \"Samsung\", \"Samsung\", \"Samsung\", \"Samsung\", \"Samsung\", \"Samsung\", \"Samsung\", \"Samsung\", \"Samsung\", \"Samsung\", \"Samsung\", \"Samsung\", \"Samsung\", \"Samsung\", \"Samsung\", \"Samsung\", \"Samsung\", \"Samsung\", \"Samsung\", \"Samsung\", \"Samsung\", \"Samsung\", \"Samsung\", \"Samsung\", \"LG\", \"LG\", \"LG\", \"LG\", \"LG\", \"LG\", \"LG\", \"LG\", \"LG\", \"LG\", \"LG\", \"LG\", \"LG\", \"LG\", \"LG\", \"LG\", \"LG\", \"LG\", \"LG\", \"LG\", \"LG\", \"LG\", \"LG\", \"LG\", \"LG\", \"LG\", \"LG\", \"Motorola\", \"Motorola\", \"Motorola\", \"Motorola\", \"Motorola\", \"Motorola\", \"Motorola\", \"HTC\", \"HTC\", \"HTC\", \"HTC\", \"HTC\", \"HTC\", \"HTC\", \"HTC\", \"HTC\", \"Kyocera\", \"Kyocera\"], \"y\": [2, 0, 2, 2, 0, 5, 2, 2, 3, 6, 6, 6, 6, 5, 6, 4, 6, 6, 5, 6, 3, 3, 0, 1, 1, 2, 3, 0, 1, 0, 0, 2, 5, 4, 3, 0, 4, 0, 1, 0, 4, 0, 0, 2, 1, 1, 1, 3, 3, 0, 0, 4, 1, 2, 2, 2, 2, 0, 4, 0, 0, 0, 5, 0, 0, 0, 0, 2, 1, 0, 0, 1, 0, 1, 0, 0]}, {\"name\": \"4th\", \"type\": \"box\", \"x\": [\"Samsung\", \"Samsung\", \"Samsung\", \"Samsung\", \"Samsung\", \"Samsung\", \"Samsung\", \"Samsung\", \"Samsung\", \"Samsung\", \"Samsung\", \"Samsung\", \"Samsung\", \"Samsung\", \"Samsung\", \"Samsung\", \"Samsung\", \"Samsung\", \"Samsung\", \"Samsung\", \"Samsung\", \"Samsung\", \"Samsung\", \"Samsung\", \"Samsung\", \"Samsung\", \"Samsung\", \"Samsung\", \"Samsung\", \"Samsung\", \"Samsung\", \"Samsung\", \"Samsung\", \"Samsung\", \"Samsung\", \"LG\", \"LG\", \"LG\", \"LG\", \"LG\", \"LG\", \"LG\", \"LG\", \"LG\", \"LG\", \"LG\", \"LG\", \"LG\", \"LG\", \"LG\", \"LG\", \"LG\", \"LG\", \"LG\", \"LG\", \"LG\", \"LG\", \"LG\", \"LG\", \"LG\", \"LG\", \"LG\", \"LG\", \"Motorola\", \"Motorola\", \"Motorola\", \"Motorola\", \"Motorola\", \"Motorola\", \"Motorola\", \"HTC\", \"HTC\", \"HTC\", \"HTC\", \"HTC\", \"HTC\", \"HTC\", \"HTC\", \"HTC\", \"HTC\", \"HTC\", \"Kyocera\", \"Kyocera\", \"Kyocera\"], \"y\": [1, 0, 0, 2, 0, 2, 2, 6, 6, 6, 4, 4, 0, 6, 5, 5, 6, 4, 5, 6, 4, 6, 0, 1, 1, 2, 0, 5, 0, 1, 1, 2, 0, 1, 0, 2, 5, 2, 4, 0, 4, 1, 0, 0, 3, 1, 0, 0, 2, 0, 1, 2, 1, 0, 0, 2, 2, 3, 2, 1, 1, 1, 2, 2, 0, 0, 1, 0, 1, 0, 0, 0, 3, 1, 0, 0, 0, 1, 2, 0, 0, 1, 1, 0]}, {\"name\": \"5th\", \"type\": \"box\", \"x\": [\"Samsung\", \"Samsung\", \"Samsung\", \"Samsung\", \"Samsung\", \"Samsung\", \"Samsung\", \"Samsung\", \"Samsung\", \"Samsung\", \"Samsung\", \"Samsung\", \"Samsung\", \"Samsung\", \"Samsung\", \"Samsung\", \"Samsung\", \"Samsung\", \"Samsung\", \"Samsung\", \"Samsung\", \"Samsung\", \"Samsung\", \"Samsung\", \"Samsung\", \"Samsung\", \"Samsung\", \"Samsung\", \"Samsung\", \"Samsung\", \"Samsung\", \"Samsung\", \"Samsung\", \"Samsung\", \"Samsung\", \"Samsung\", \"LG\", \"LG\", \"LG\", \"LG\", \"LG\", \"LG\", \"LG\", \"LG\", \"LG\", \"LG\", \"LG\", \"LG\", \"LG\", \"LG\", \"LG\", \"LG\", \"LG\", \"LG\", \"LG\", \"LG\", \"LG\", \"LG\", \"LG\", \"LG\", \"Motorola\", \"Motorola\", \"Motorola\", \"Motorola\", \"HTC\", \"HTC\", \"HTC\", \"HTC\", \"HTC\", \"HTC\", \"HTC\", \"HTC\", \"HTC\", \"HTC\", \"Kyocera\", \"Kyocera\", \"Kyocera\"], \"y\": [0, 1, 0, 0, 1, 2, 6, 6, 5, 6, 4, 5, 5, 4, 5, 3, 3, 3, 3, 0, 3, 0, 0, 2, 0, 2, 2, 0, 1, 1, 0, 3, 0, 1, 0, 1, 2, 1, 3, 0, 1, 0, 0, 2, 1, 0, 0, 5, 0, 0, 0, 0, 0, 0, 2, 0, 0, 2, 0, 0, 2, 0, 0, 0, 0, 0, 0, 0, 1, 0, 0, 3, 0, 0, 0, 0, 0]}, {\"name\": \"6th\", \"type\": \"box\", \"x\": [\"Samsung\", \"Samsung\", \"Samsung\", \"Samsung\", \"Samsung\", \"Samsung\", \"Samsung\", \"Samsung\", \"Samsung\", \"Samsung\", \"Samsung\", \"Samsung\", \"Samsung\", \"Samsung\", \"Samsung\", \"Samsung\", \"Samsung\", \"Samsung\", \"Samsung\", \"Samsung\", \"Samsung\", \"Samsung\", \"Samsung\", \"Samsung\", \"Samsung\", \"Samsung\", \"Samsung\", \"Samsung\", \"Samsung\", \"Samsung\", \"Samsung\", \"Samsung\", \"Samsung\", \"LG\", \"LG\", \"LG\", \"LG\", \"LG\", \"LG\", \"LG\", \"LG\", \"LG\", \"LG\", \"LG\", \"LG\", \"LG\", \"LG\", \"LG\", \"LG\", \"LG\", \"LG\", \"LG\", \"LG\", \"LG\", \"LG\", \"Motorola\", \"Motorola\", \"Motorola\", \"Motorola\", \"HTC\", \"HTC\", \"HTC\", \"HTC\", \"HTC\", \"HTC\", \"HTC\", \"HTC\", \"HTC\", \"HTC\", \"Kyocera\", \"Kyocera\", \"Kyocera\"], \"y\": [0, 0, 0, 0, 0, 5, 4, 5, 5, 4, 5, 6, 5, 5, 6, 6, 0, 1, 0, 2, 0, 4, 1, 0, 1, 2, 2, 0, 1, 0, 1, 1, 0, 0, 0, 0, 0, 0, 0, 0, 0, 0, 0, 3, 0, 0, 0, 0, 0, 0, 3, 1, 0, 1, 1, 1, 0, 0, 0, 0, 0, 0, 0, 0, 0, 0, 0, 1, 0, 0, 0, 0]}, {\"name\": \"7th\", \"type\": \"box\", \"x\": [\"Samsung\", \"Samsung\", \"Samsung\", \"Samsung\", \"Samsung\", \"Samsung\", \"Samsung\", \"Samsung\", \"Samsung\", \"Samsung\", \"Samsung\", \"Samsung\", \"Samsung\", \"Samsung\", \"Samsung\", \"Samsung\", \"Samsung\", \"Samsung\", \"Samsung\", \"Samsung\", \"Samsung\", \"Samsung\", \"Samsung\", \"Samsung\", \"Samsung\", \"Samsung\", \"Samsung\", \"Samsung\", \"Samsung\", \"Samsung\", \"Samsung\", \"Samsung\", \"LG\", \"LG\", \"LG\", \"LG\", \"LG\", \"LG\", \"LG\", \"LG\", \"LG\", \"LG\", \"LG\", \"LG\", \"LG\", \"LG\", \"LG\", \"LG\", \"Motorola\", \"Motorola\", \"Motorola\", \"HTC\", \"HTC\", \"HTC\", \"HTC\", \"HTC\", \"HTC\", \"HTC\", \"HTC\", \"HTC\", \"HTC\", \"Kyocera\", \"Kyocera\"], \"y\": [0, 0, 0, 0, 0, 0, 0, 0, 0, 0, 0, 0, 0, 0, 1, 1, 0, 0, 0, 1, 0, 0, 0, 0, 0, 1, 0, 0, 0, 1, 0, 0, 0, 0, 0, 0, 0, 0, 2, 0, 1, 0, 0, 0, 0, 0, 0, 0, 0, 0, 0, 0, 0, 0, 0, 0, 0, 0, 0, 0, 0, 0, 0]}, {\"name\": \"8th\", \"type\": \"box\", \"x\": [\"Samsung\", \"Samsung\", \"Samsung\", \"Samsung\", \"Samsung\", \"Samsung\", \"Samsung\", \"Samsung\", \"Samsung\", \"Samsung\", \"Samsung\", \"Samsung\", \"Samsung\", \"Samsung\", \"Samsung\", \"Samsung\", \"Samsung\", \"Samsung\", \"Samsung\", \"Samsung\", \"Samsung\", \"Samsung\", \"Samsung\", \"LG\", \"LG\", \"LG\", \"LG\", \"LG\", \"LG\", \"LG\", \"LG\", \"LG\", \"LG\", \"LG\", \"LG\", \"Motorola\", \"Motorola\", \"Motorola\", \"HTC\", \"HTC\", \"HTC\", \"HTC\", \"HTC\", \"HTC\", \"HTC\", \"Kyocera\", \"Kyocera\"], \"y\": [0, 0, 0, 0, 0, 0, 0, 0, 0, 0, 0, 1, 0, 0, 0, 0, 2, 0, 0, 1, 0, 1, 1, 0, 0, 0, 0, 0, 0, 0, 0, 0, 0, 0, 0, 0, 0, 0, 0, 0, 0, 0, 0, 0, 0, 0, 0]}],\n",
       "                        {\"boxmode\": \"group\", \"colorway\": [\"rgb(60, 180, 75)\", \"rgb(230, 25, 75)\", \"rgb(0, 130, 200)\", \"rgb(245, 130, 48)\", \"rgb(145, 30, 180)\", \"rgb(240, 50, 230)\", \"rgb(0, 128, 128)\", \"rgb(170, 110, 40)\", \"rgb(0, 130, 200)\", \"rgb(128, 128, 128)\", \"rgb(128, 0, 0)\", \"rgb(170, 255, 195)\", \"rgb(128, 128, 0)\", \"rgb(255, 215, 180)\", \"rgb(0, 0, 128)\", \"rgb(128, 128, 128)\", \"rgb(255, 255, 255)\", \"rgb(230, 25, 75)\", \"rgb(0, 0, 0)\", \"rgb(255, 225, 25)\", \"rgb(255, 250, 200)\", \"rgb(250, 190, 190)\"], \"font\": {\"size\": 20}, \"legend\": {\"orientation\": \"h\", \"x\": 0.24, \"y\": 1.15}, \"plot_bgcolor\": \"rgba(0,0,0,0)\", \"template\": {\"data\": {\"bar\": [{\"error_x\": {\"color\": \"#2a3f5f\"}, \"error_y\": {\"color\": \"#2a3f5f\"}, \"marker\": {\"line\": {\"color\": \"#E5ECF6\", \"width\": 0.5}}, \"type\": \"bar\"}], \"barpolar\": [{\"marker\": {\"line\": {\"color\": \"#E5ECF6\", \"width\": 0.5}}, \"type\": \"barpolar\"}], \"carpet\": [{\"aaxis\": {\"endlinecolor\": \"#2a3f5f\", \"gridcolor\": \"white\", \"linecolor\": \"white\", \"minorgridcolor\": \"white\", \"startlinecolor\": \"#2a3f5f\"}, \"baxis\": {\"endlinecolor\": \"#2a3f5f\", \"gridcolor\": \"white\", \"linecolor\": \"white\", \"minorgridcolor\": \"white\", \"startlinecolor\": \"#2a3f5f\"}, \"type\": \"carpet\"}], \"choropleth\": [{\"colorbar\": {\"outlinewidth\": 0, \"ticks\": \"\"}, \"type\": \"choropleth\"}], \"contour\": [{\"colorbar\": {\"outlinewidth\": 0, \"ticks\": \"\"}, \"colorscale\": [[0.0, \"#0d0887\"], [0.1111111111111111, \"#46039f\"], [0.2222222222222222, \"#7201a8\"], [0.3333333333333333, \"#9c179e\"], [0.4444444444444444, \"#bd3786\"], [0.5555555555555556, \"#d8576b\"], [0.6666666666666666, \"#ed7953\"], [0.7777777777777778, \"#fb9f3a\"], [0.8888888888888888, \"#fdca26\"], [1.0, \"#f0f921\"]], \"type\": \"contour\"}], \"contourcarpet\": [{\"colorbar\": {\"outlinewidth\": 0, \"ticks\": \"\"}, \"type\": \"contourcarpet\"}], \"heatmap\": [{\"colorbar\": {\"outlinewidth\": 0, \"ticks\": \"\"}, \"colorscale\": [[0.0, \"#0d0887\"], [0.1111111111111111, \"#46039f\"], [0.2222222222222222, \"#7201a8\"], [0.3333333333333333, \"#9c179e\"], [0.4444444444444444, \"#bd3786\"], [0.5555555555555556, \"#d8576b\"], [0.6666666666666666, \"#ed7953\"], [0.7777777777777778, \"#fb9f3a\"], [0.8888888888888888, \"#fdca26\"], [1.0, \"#f0f921\"]], \"type\": \"heatmap\"}], \"heatmapgl\": [{\"colorbar\": {\"outlinewidth\": 0, \"ticks\": \"\"}, \"colorscale\": [[0.0, \"#0d0887\"], [0.1111111111111111, \"#46039f\"], [0.2222222222222222, \"#7201a8\"], [0.3333333333333333, \"#9c179e\"], [0.4444444444444444, \"#bd3786\"], [0.5555555555555556, \"#d8576b\"], [0.6666666666666666, \"#ed7953\"], [0.7777777777777778, \"#fb9f3a\"], [0.8888888888888888, \"#fdca26\"], [1.0, \"#f0f921\"]], \"type\": \"heatmapgl\"}], \"histogram\": [{\"marker\": {\"colorbar\": {\"outlinewidth\": 0, \"ticks\": \"\"}}, \"type\": \"histogram\"}], \"histogram2d\": [{\"colorbar\": {\"outlinewidth\": 0, \"ticks\": \"\"}, \"colorscale\": [[0.0, \"#0d0887\"], [0.1111111111111111, \"#46039f\"], [0.2222222222222222, \"#7201a8\"], [0.3333333333333333, \"#9c179e\"], [0.4444444444444444, \"#bd3786\"], [0.5555555555555556, \"#d8576b\"], [0.6666666666666666, \"#ed7953\"], [0.7777777777777778, \"#fb9f3a\"], [0.8888888888888888, \"#fdca26\"], [1.0, \"#f0f921\"]], \"type\": \"histogram2d\"}], \"histogram2dcontour\": [{\"colorbar\": {\"outlinewidth\": 0, \"ticks\": \"\"}, \"colorscale\": [[0.0, \"#0d0887\"], [0.1111111111111111, \"#46039f\"], [0.2222222222222222, \"#7201a8\"], [0.3333333333333333, \"#9c179e\"], [0.4444444444444444, \"#bd3786\"], [0.5555555555555556, \"#d8576b\"], [0.6666666666666666, \"#ed7953\"], [0.7777777777777778, \"#fb9f3a\"], [0.8888888888888888, \"#fdca26\"], [1.0, \"#f0f921\"]], \"type\": \"histogram2dcontour\"}], \"mesh3d\": [{\"colorbar\": {\"outlinewidth\": 0, \"ticks\": \"\"}, \"type\": \"mesh3d\"}], \"parcoords\": [{\"line\": {\"colorbar\": {\"outlinewidth\": 0, \"ticks\": \"\"}}, \"type\": \"parcoords\"}], \"pie\": [{\"automargin\": true, \"type\": \"pie\"}], \"scatter\": [{\"marker\": {\"colorbar\": {\"outlinewidth\": 0, \"ticks\": \"\"}}, \"type\": \"scatter\"}], \"scatter3d\": [{\"line\": {\"colorbar\": {\"outlinewidth\": 0, \"ticks\": \"\"}}, \"marker\": {\"colorbar\": {\"outlinewidth\": 0, \"ticks\": \"\"}}, \"type\": \"scatter3d\"}], \"scattercarpet\": [{\"marker\": {\"colorbar\": {\"outlinewidth\": 0, \"ticks\": \"\"}}, \"type\": \"scattercarpet\"}], \"scattergeo\": [{\"marker\": {\"colorbar\": {\"outlinewidth\": 0, \"ticks\": \"\"}}, \"type\": \"scattergeo\"}], \"scattergl\": [{\"marker\": {\"colorbar\": {\"outlinewidth\": 0, \"ticks\": \"\"}}, \"type\": \"scattergl\"}], \"scattermapbox\": [{\"marker\": {\"colorbar\": {\"outlinewidth\": 0, \"ticks\": \"\"}}, \"type\": \"scattermapbox\"}], \"scatterpolar\": [{\"marker\": {\"colorbar\": {\"outlinewidth\": 0, \"ticks\": \"\"}}, \"type\": \"scatterpolar\"}], \"scatterpolargl\": [{\"marker\": {\"colorbar\": {\"outlinewidth\": 0, \"ticks\": \"\"}}, \"type\": \"scatterpolargl\"}], \"scatterternary\": [{\"marker\": {\"colorbar\": {\"outlinewidth\": 0, \"ticks\": \"\"}}, \"type\": \"scatterternary\"}], \"surface\": [{\"colorbar\": {\"outlinewidth\": 0, \"ticks\": \"\"}, \"colorscale\": [[0.0, \"#0d0887\"], [0.1111111111111111, \"#46039f\"], [0.2222222222222222, \"#7201a8\"], [0.3333333333333333, \"#9c179e\"], [0.4444444444444444, \"#bd3786\"], [0.5555555555555556, \"#d8576b\"], [0.6666666666666666, \"#ed7953\"], [0.7777777777777778, \"#fb9f3a\"], [0.8888888888888888, \"#fdca26\"], [1.0, \"#f0f921\"]], \"type\": \"surface\"}], \"table\": [{\"cells\": {\"fill\": {\"color\": \"#EBF0F8\"}, \"line\": {\"color\": \"white\"}}, \"header\": {\"fill\": {\"color\": \"#C8D4E3\"}, \"line\": {\"color\": \"white\"}}, \"type\": \"table\"}]}, \"layout\": {\"annotationdefaults\": {\"arrowcolor\": \"#2a3f5f\", \"arrowhead\": 0, \"arrowwidth\": 1}, \"coloraxis\": {\"colorbar\": {\"outlinewidth\": 0, \"ticks\": \"\"}}, \"colorscale\": {\"diverging\": [[0, \"#8e0152\"], [0.1, \"#c51b7d\"], [0.2, \"#de77ae\"], [0.3, \"#f1b6da\"], [0.4, \"#fde0ef\"], [0.5, \"#f7f7f7\"], [0.6, \"#e6f5d0\"], [0.7, \"#b8e186\"], [0.8, \"#7fbc41\"], [0.9, \"#4d9221\"], [1, \"#276419\"]], \"sequential\": [[0.0, \"#0d0887\"], [0.1111111111111111, \"#46039f\"], [0.2222222222222222, \"#7201a8\"], [0.3333333333333333, \"#9c179e\"], [0.4444444444444444, \"#bd3786\"], [0.5555555555555556, \"#d8576b\"], [0.6666666666666666, \"#ed7953\"], [0.7777777777777778, \"#fb9f3a\"], [0.8888888888888888, \"#fdca26\"], [1.0, \"#f0f921\"]], \"sequentialminus\": [[0.0, \"#0d0887\"], [0.1111111111111111, \"#46039f\"], [0.2222222222222222, \"#7201a8\"], [0.3333333333333333, \"#9c179e\"], [0.4444444444444444, \"#bd3786\"], [0.5555555555555556, \"#d8576b\"], [0.6666666666666666, \"#ed7953\"], [0.7777777777777778, \"#fb9f3a\"], [0.8888888888888888, \"#fdca26\"], [1.0, \"#f0f921\"]]}, \"colorway\": [\"#636efa\", \"#EF553B\", \"#00cc96\", \"#ab63fa\", \"#FFA15A\", \"#19d3f3\", \"#FF6692\", \"#B6E880\", \"#FF97FF\", \"#FECB52\"], \"font\": {\"color\": \"#2a3f5f\"}, \"geo\": {\"bgcolor\": \"white\", \"lakecolor\": \"white\", \"landcolor\": \"#E5ECF6\", \"showlakes\": true, \"showland\": true, \"subunitcolor\": \"white\"}, \"hoverlabel\": {\"align\": \"left\"}, \"hovermode\": \"closest\", \"mapbox\": {\"style\": \"light\"}, \"paper_bgcolor\": \"white\", \"plot_bgcolor\": \"#E5ECF6\", \"polar\": {\"angularaxis\": {\"gridcolor\": \"white\", \"linecolor\": \"white\", \"ticks\": \"\"}, \"bgcolor\": \"#E5ECF6\", \"radialaxis\": {\"gridcolor\": \"white\", \"linecolor\": \"white\", \"ticks\": \"\"}}, \"scene\": {\"xaxis\": {\"backgroundcolor\": \"#E5ECF6\", \"gridcolor\": \"white\", \"gridwidth\": 2, \"linecolor\": \"white\", \"showbackground\": true, \"ticks\": \"\", \"zerolinecolor\": \"white\"}, \"yaxis\": {\"backgroundcolor\": \"#E5ECF6\", \"gridcolor\": \"white\", \"gridwidth\": 2, \"linecolor\": \"white\", \"showbackground\": true, \"ticks\": \"\", \"zerolinecolor\": \"white\"}, \"zaxis\": {\"backgroundcolor\": \"#E5ECF6\", \"gridcolor\": \"white\", \"gridwidth\": 2, \"linecolor\": \"white\", \"showbackground\": true, \"ticks\": \"\", \"zerolinecolor\": \"white\"}}, \"shapedefaults\": {\"line\": {\"color\": \"#2a3f5f\"}}, \"ternary\": {\"aaxis\": {\"gridcolor\": \"white\", \"linecolor\": \"white\", \"ticks\": \"\"}, \"baxis\": {\"gridcolor\": \"white\", \"linecolor\": \"white\", \"ticks\": \"\"}, \"bgcolor\": \"#E5ECF6\", \"caxis\": {\"gridcolor\": \"white\", \"linecolor\": \"white\", \"ticks\": \"\"}}, \"title\": {\"x\": 0.05}, \"xaxis\": {\"automargin\": true, \"gridcolor\": \"white\", \"linecolor\": \"white\", \"ticks\": \"\", \"title\": {\"standoff\": 15}, \"zerolinecolor\": \"white\", \"zerolinewidth\": 2}, \"yaxis\": {\"automargin\": true, \"gridcolor\": \"white\", \"linecolor\": \"white\", \"ticks\": \"\", \"title\": {\"standoff\": 15}, \"zerolinecolor\": \"white\", \"zerolinewidth\": 2}}}, \"yaxis\": {\"gridcolor\": \"rgb(219, 219, 219)\", \"showgrid\": true, \"title\": {\"text\": \"Number of Updates\"}}},\n",
       "                        {\"responsive\": true}\n",
       "                    ).then(function(){\n",
       "                            \n",
       "var gd = document.getElementById('7065e71e-6968-4acc-92ce-4ffcf800273a');\n",
       "var x = new MutationObserver(function (mutations, observer) {{\n",
       "        var display = window.getComputedStyle(gd).display;\n",
       "        if (!display || display === 'none') {{\n",
       "            console.log([gd, 'removed!']);\n",
       "            Plotly.purge(gd);\n",
       "            observer.disconnect();\n",
       "        }}\n",
       "}});\n",
       "\n",
       "// Listen for the removal of the full notebook cells\n",
       "var notebookContainer = gd.closest('#notebook-container');\n",
       "if (notebookContainer) {{\n",
       "    x.observe(notebookContainer, {childList: true});\n",
       "}}\n",
       "\n",
       "// Listen for the clearing of the current output cell\n",
       "var outputEl = gd.closest('.output');\n",
       "if (outputEl) {{\n",
       "    x.observe(outputEl, {childList: true});\n",
       "}}\n",
       "\n",
       "                        })\n",
       "                };\n",
       "                });\n",
       "            </script>\n",
       "        </div>"
      ]
     },
     "metadata": {},
     "output_type": "display_data"
    },
    {
     "name": "stdout",
     "output_type": "stream",
     "text": [
      "REMEMBER TO TAKE OUT VERIZON\n",
      "REMEMBER TO TAKE OUT VERIZON\n",
      "REMEMBER TO TAKE OUT VERIZON\n"
     ]
    }
   ],
   "source": [
    "data=[]\n",
    "total_updates={}\n",
    "total_years={}\n",
    "total_updates_wZeroes={}\n",
    "total_man_wZeroes={}\n",
    "\n",
    "\n",
    "normedMan=[]\n",
    "for man in carrierDF.Manufacture.unique():\n",
    "    temp=carrierDF[carrierDF.Manufacture==man]\n",
    "    if len(temp.Carrier.unique())>2: # meaning the 3 we care about exists\n",
    "        normedMan.append(man)\n",
    "importantMan=list(set(normedMan)) # get a list of important manufacturers\n",
    "    \n",
    "# sort important manufactures based on number of updates\n",
    "manLengths=[]\n",
    "for man in importantMan:\n",
    "    manLengths.append(len(carrierDF[carrierDF.Manufacture==man]))\n",
    "importantMan = [x for _,x in sorted(zip(manLengths,importantMan),reverse=True)]\n",
    "   \n",
    "\n",
    "for yr in range(int(12/howManyMonths)*4):# for each year range,\n",
    "    properList_update_wZeroes=[]\n",
    "    properList_manu_wZeroes=[]\n",
    "    for man in importantMan:# for each manufacturer\n",
    "        properList_update_wZeroes.extend(freqPointsManAllDevices[man][yr])\n",
    "        properList_manu_wZeroes.extend([man for _ in range(len(freqPointsManAllDevices[man][yr]))]) # +\" period\"   \n",
    "    total_updates_wZeroes[yr]=properList_update_wZeroes.copy()\n",
    "    total_man_wZeroes[yr]=properList_manu_wZeroes.copy()\n",
    "    \n",
    "for yr in range(int(12/howManyMonths)*4): # per each year\n",
    "    formatGood=\"th\"\n",
    "    if yr==0:\n",
    "        formatGood=\"st\"\n",
    "    elif yr==1:\n",
    "        formatGood=\"nd\"\n",
    "    elif yr==2:\n",
    "        formatGood=\"rd\"\n",
    "        \n",
    "    data.append(go.Box(\n",
    "            x=total_man_wZeroes[yr], # needs to be each manufacturer\n",
    "            y=total_updates_wZeroes[yr],\n",
    "            name=str(yr+1)+formatGood,\n",
    "            #marker=dict(color='rgb'+str(lvlColor[man]))\n",
    "        ))\n",
    "    \n",
    "# Edit the layout\n",
    "colorway=['rgb(60, 180, 75)', 'rgb(230, 25, 75)', 'rgb(0, 130, 200)', 'rgb(245, 130, 48)', 'rgb(145, 30, 180)', 'rgb(240, 50, 230)', 'rgb(0, 128, 128)', 'rgb(170, 110, 40)', 'rgb(0, 130, 200)', 'rgb(128, 128, 128)','rgb(128, 0, 0)', 'rgb(170, 255, 195)', 'rgb(128, 128, 0)', 'rgb(255, 215, 180)', 'rgb(0, 0, 128)', 'rgb(128, 128, 128)', 'rgb(255, 255, 255)','rgb(230, 25, 75)',  'rgb(0, 0, 0)','rgb(255, 225, 25)',  'rgb(255, 250, 200)', 'rgb(250, 190, 190)']\n",
    "layout = dict(#title = \"Number of True Updates per 6 Month Period after Release per Manufacture \",\n",
    "              yaxis = dict(title = 'Number of Updates',showgrid=True, gridcolor='rgb(219, 219, 219)'),\n",
    "              #xaxis = dict(title = '6 Month Period',showgrid=True,zeroline=True,showline=True,zerolinecolor='#969696'),\n",
    "              plot_bgcolor='rgba(0,0,0,0)',\n",
    "              boxmode='group',\n",
    "              colorway=colorway,\n",
    "              legend_orientation=\"h\",\n",
    "              legend=dict(x=0.24, y=1.15), # for pt .33\n",
    "              font=dict(size=20)\n",
    "              )\n",
    "\n",
    "fig = dict(data=data, layout=layout)\n",
    "py.offline.iplot(fig, filename='release-years-frequency-per-carrier.png')\n",
    "\n",
    "print(\"REMEMBER TO TAKE OUT VERIZON\")\n",
    "print(\"REMEMBER TO TAKE OUT VERIZON\")\n",
    "print(\"REMEMBER TO TAKE OUT VERIZON\")\n",
    "\n",
    "if not \"Verizon\" in carrierDF.Carrier.values and saveFigs==True: # only save if no Verizon\n",
    "    pio.write_image(fig, 'manufacture-freq-shared.pdf', width=1100, height=600)"
   ]
  },
  {
   "cell_type": "code",
   "execution_count": 25,
   "metadata": {},
   "outputs": [
    {
     "data": {
      "application/vnd.plotly.v1+json": {
       "config": {
        "linkText": "Export to plot.ly",
        "plotlyServerURL": "https://plot.ly",
        "showLink": false
       },
       "data": [
        {
         "marker": {
          "color": "rgb(31, 119, 180)"
         },
         "type": "box",
         "x": [
          "Samsung",
          "Samsung",
          "Samsung",
          "Samsung",
          "Samsung",
          "Samsung",
          "Samsung",
          "Samsung",
          "Samsung",
          "Samsung",
          "Samsung",
          "Samsung",
          "Samsung",
          "Samsung",
          "Samsung",
          "Samsung",
          "Samsung",
          "Samsung",
          "Samsung",
          "Samsung",
          "Samsung",
          "Samsung",
          "Samsung",
          "Samsung",
          "Samsung",
          "Samsung",
          "Samsung",
          "Samsung",
          "Samsung",
          "Samsung",
          "Samsung",
          "Samsung",
          "Samsung",
          "Samsung",
          "Samsung",
          "Samsung",
          "Samsung",
          "Samsung",
          "LG",
          "LG",
          "LG",
          "LG",
          "LG",
          "LG",
          "LG",
          "LG",
          "LG",
          "LG",
          "LG",
          "LG",
          "LG",
          "LG",
          "LG",
          "LG",
          "LG",
          "LG",
          "LG",
          "LG",
          "LG",
          "LG",
          "LG",
          "LG",
          "LG",
          "LG",
          "LG",
          "LG",
          "LG",
          "LG",
          "LG",
          "LG",
          "LG",
          "Motorola",
          "Motorola",
          "Motorola",
          "Motorola",
          "Motorola",
          "Motorola",
          "Motorola",
          "Motorola",
          "Motorola",
          "Motorola",
          "Motorola",
          "Motorola",
          "Motorola",
          "HTC",
          "HTC",
          "HTC",
          "HTC",
          "HTC",
          "HTC",
          "Google",
          "Google",
          "Kyocera",
          "Kyocera",
          "Kyocera",
          "Samsung",
          "Samsung",
          "Samsung",
          "Samsung",
          "Samsung",
          "Samsung",
          "Samsung",
          "Samsung",
          "Samsung",
          "Samsung",
          "Samsung",
          "Samsung",
          "Samsung",
          "Samsung",
          "Samsung",
          "Samsung",
          "Samsung",
          "Samsung",
          "Samsung",
          "Samsung",
          "Samsung",
          "Samsung",
          "Samsung",
          "Samsung",
          "Samsung",
          "Samsung",
          "Samsung",
          "Samsung",
          "Samsung",
          "Samsung",
          "Samsung",
          "Samsung",
          "Samsung",
          "Samsung",
          "Samsung",
          "Samsung",
          "LG",
          "LG",
          "LG",
          "LG",
          "LG",
          "LG",
          "LG",
          "LG",
          "LG",
          "LG",
          "LG",
          "LG",
          "LG",
          "LG",
          "LG",
          "LG",
          "LG",
          "LG",
          "LG",
          "LG",
          "LG",
          "LG",
          "LG",
          "LG",
          "LG",
          "LG",
          "LG",
          "LG",
          "LG",
          "LG",
          "LG",
          "LG",
          "LG",
          "LG",
          "LG",
          "Motorola",
          "Motorola",
          "Motorola",
          "Motorola",
          "Motorola",
          "Motorola",
          "Motorola",
          "Motorola",
          "Motorola",
          "Motorola",
          "Motorola",
          "HTC",
          "HTC",
          "HTC",
          "HTC",
          "HTC",
          "HTC",
          "HTC",
          "HTC",
          "Kyocera",
          "Kyocera",
          "Samsung",
          "Samsung",
          "Samsung",
          "Samsung",
          "Samsung",
          "Samsung",
          "Samsung",
          "Samsung",
          "Samsung",
          "Samsung",
          "Samsung",
          "Samsung",
          "Samsung",
          "Samsung",
          "Samsung",
          "Samsung",
          "Samsung",
          "Samsung",
          "Samsung",
          "Samsung",
          "Samsung",
          "Samsung",
          "Samsung",
          "Samsung",
          "Samsung",
          "Samsung",
          "Samsung",
          "Samsung",
          "Samsung",
          "Samsung",
          "Samsung",
          "LG",
          "LG",
          "LG",
          "LG",
          "LG",
          "LG",
          "LG",
          "LG",
          "LG",
          "LG",
          "LG",
          "LG",
          "LG",
          "LG",
          "LG",
          "LG",
          "LG",
          "LG",
          "LG",
          "LG",
          "LG",
          "LG",
          "LG",
          "LG",
          "LG",
          "LG",
          "LG",
          "Motorola",
          "Motorola",
          "Motorola",
          "Motorola",
          "Motorola",
          "Motorola",
          "Motorola",
          "HTC",
          "HTC",
          "HTC",
          "HTC",
          "HTC",
          "HTC",
          "HTC",
          "HTC",
          "HTC",
          "Kyocera",
          "Kyocera",
          "Samsung",
          "Samsung",
          "Samsung",
          "Samsung",
          "Samsung",
          "Samsung",
          "Samsung",
          "Samsung",
          "Samsung",
          "Samsung",
          "Samsung",
          "Samsung",
          "Samsung",
          "Samsung",
          "Samsung",
          "Samsung",
          "Samsung",
          "Samsung",
          "Samsung",
          "Samsung",
          "Samsung",
          "Samsung",
          "Samsung",
          "Samsung",
          "Samsung",
          "Samsung",
          "Samsung",
          "Samsung",
          "Samsung",
          "Samsung",
          "Samsung",
          "Samsung",
          "Samsung",
          "Samsung",
          "Samsung",
          "LG",
          "LG",
          "LG",
          "LG",
          "LG",
          "LG",
          "LG",
          "LG",
          "LG",
          "LG",
          "LG",
          "LG",
          "LG",
          "LG",
          "LG",
          "LG",
          "LG",
          "LG",
          "LG",
          "LG",
          "LG",
          "LG",
          "LG",
          "LG",
          "LG",
          "LG",
          "LG",
          "LG",
          "Motorola",
          "Motorola",
          "Motorola",
          "Motorola",
          "Motorola",
          "Motorola",
          "Motorola",
          "HTC",
          "HTC",
          "HTC",
          "HTC",
          "HTC",
          "HTC",
          "HTC",
          "HTC",
          "HTC",
          "HTC",
          "HTC",
          "Kyocera",
          "Kyocera",
          "Kyocera",
          "Samsung",
          "Samsung",
          "Samsung",
          "Samsung",
          "Samsung",
          "Samsung",
          "Samsung",
          "Samsung",
          "Samsung",
          "Samsung",
          "Samsung",
          "Samsung",
          "Samsung",
          "Samsung",
          "Samsung",
          "Samsung",
          "Samsung",
          "Samsung",
          "Samsung",
          "Samsung",
          "Samsung",
          "Samsung",
          "Samsung",
          "Samsung",
          "Samsung",
          "Samsung",
          "Samsung",
          "Samsung",
          "Samsung",
          "Samsung",
          "Samsung",
          "Samsung",
          "Samsung",
          "Samsung",
          "Samsung",
          "Samsung",
          "LG",
          "LG",
          "LG",
          "LG",
          "LG",
          "LG",
          "LG",
          "LG",
          "LG",
          "LG",
          "LG",
          "LG",
          "LG",
          "LG",
          "LG",
          "LG",
          "LG",
          "LG",
          "LG",
          "LG",
          "LG",
          "LG",
          "LG",
          "LG",
          "Motorola",
          "Motorola",
          "Motorola",
          "Motorola",
          "HTC",
          "HTC",
          "HTC",
          "HTC",
          "HTC",
          "HTC",
          "HTC",
          "HTC",
          "HTC",
          "HTC",
          "Kyocera",
          "Kyocera",
          "Kyocera",
          "Samsung",
          "Samsung",
          "Samsung",
          "Samsung",
          "Samsung",
          "Samsung",
          "Samsung",
          "Samsung",
          "Samsung",
          "Samsung",
          "Samsung",
          "Samsung",
          "Samsung",
          "Samsung",
          "Samsung",
          "Samsung",
          "Samsung",
          "Samsung",
          "Samsung",
          "Samsung",
          "Samsung",
          "Samsung",
          "Samsung",
          "Samsung",
          "Samsung",
          "Samsung",
          "Samsung",
          "Samsung",
          "Samsung",
          "Samsung",
          "Samsung",
          "Samsung",
          "Samsung",
          "LG",
          "LG",
          "LG",
          "LG",
          "LG",
          "LG",
          "LG",
          "LG",
          "LG",
          "LG",
          "LG",
          "LG",
          "LG",
          "LG",
          "LG",
          "LG",
          "LG",
          "LG",
          "LG",
          "LG",
          "LG",
          "LG",
          "Motorola",
          "Motorola",
          "Motorola",
          "Motorola",
          "HTC",
          "HTC",
          "HTC",
          "HTC",
          "HTC",
          "HTC",
          "HTC",
          "HTC",
          "HTC",
          "HTC",
          "Kyocera",
          "Kyocera",
          "Kyocera",
          "Samsung",
          "Samsung",
          "Samsung",
          "Samsung",
          "Samsung",
          "Samsung",
          "Samsung",
          "Samsung",
          "Samsung",
          "Samsung",
          "Samsung",
          "Samsung",
          "Samsung",
          "Samsung",
          "Samsung",
          "Samsung",
          "Samsung",
          "Samsung",
          "Samsung",
          "Samsung",
          "Samsung",
          "Samsung",
          "Samsung",
          "Samsung",
          "Samsung",
          "Samsung",
          "Samsung",
          "Samsung",
          "Samsung",
          "Samsung",
          "Samsung",
          "Samsung",
          "LG",
          "LG",
          "LG",
          "LG",
          "LG",
          "LG",
          "LG",
          "LG",
          "LG",
          "LG",
          "LG",
          "LG",
          "LG",
          "LG",
          "LG",
          "LG",
          "Motorola",
          "Motorola",
          "Motorola",
          "HTC",
          "HTC",
          "HTC",
          "HTC",
          "HTC",
          "HTC",
          "HTC",
          "HTC",
          "HTC",
          "HTC",
          "Kyocera",
          "Kyocera",
          "Samsung",
          "Samsung",
          "Samsung",
          "Samsung",
          "Samsung",
          "Samsung",
          "Samsung",
          "Samsung",
          "Samsung",
          "Samsung",
          "Samsung",
          "Samsung",
          "Samsung",
          "Samsung",
          "Samsung",
          "Samsung",
          "Samsung",
          "Samsung",
          "Samsung",
          "Samsung",
          "Samsung",
          "Samsung",
          "Samsung",
          "LG",
          "LG",
          "LG",
          "LG",
          "LG",
          "LG",
          "LG",
          "LG",
          "LG",
          "LG",
          "LG",
          "LG",
          "Motorola",
          "Motorola",
          "Motorola",
          "HTC",
          "HTC",
          "HTC",
          "HTC",
          "HTC",
          "HTC",
          "HTC",
          "Kyocera",
          "Kyocera"
         ],
         "y": [
          2,
          1,
          0,
          1,
          0,
          0,
          5,
          3,
          0,
          2,
          4,
          6,
          6,
          5,
          2,
          5,
          1,
          5,
          5,
          5,
          3,
          5,
          6,
          6,
          0,
          0,
          1,
          1,
          2,
          1,
          3,
          0,
          3,
          1,
          2,
          2,
          1,
          0,
          5,
          5,
          2,
          1,
          5,
          0,
          3,
          1,
          3,
          0,
          0,
          4,
          0,
          2,
          2,
          1,
          4,
          1,
          2,
          0,
          3,
          5,
          0,
          0,
          2,
          0,
          1,
          3,
          2,
          2,
          1,
          2,
          1,
          1,
          4,
          1,
          1,
          0,
          2,
          0,
          0,
          0,
          0,
          0,
          0,
          1,
          0,
          4,
          1,
          1,
          1,
          0,
          1,
          1,
          1,
          1,
          0,
          2,
          2,
          0,
          2,
          1,
          0,
          3,
          2,
          0,
          2,
          5,
          6,
          6,
          3,
          3,
          0,
          1,
          3,
          4,
          5,
          6,
          5,
          5,
          5,
          1,
          0,
          2,
          2,
          1,
          4,
          1,
          1,
          1,
          2,
          3,
          1,
          0,
          4,
          3,
          3,
          6,
          1,
          0,
          0,
          4,
          0,
          0,
          1,
          3,
          4,
          1,
          2,
          6,
          2,
          4,
          2,
          0,
          3,
          4,
          1,
          1,
          0,
          3,
          0,
          4,
          3,
          3,
          3,
          3,
          2,
          2,
          0,
          2,
          2,
          0,
          1,
          2,
          0,
          0,
          1,
          1,
          1,
          0,
          1,
          2,
          1,
          0,
          1,
          1,
          1,
          1,
          1,
          2,
          0,
          2,
          2,
          0,
          5,
          2,
          2,
          3,
          6,
          6,
          6,
          6,
          5,
          6,
          4,
          6,
          6,
          5,
          6,
          3,
          3,
          0,
          1,
          1,
          2,
          3,
          0,
          1,
          0,
          0,
          2,
          5,
          4,
          3,
          0,
          4,
          0,
          1,
          0,
          4,
          0,
          0,
          2,
          1,
          1,
          1,
          3,
          3,
          0,
          0,
          4,
          1,
          2,
          2,
          2,
          2,
          0,
          4,
          0,
          0,
          0,
          5,
          0,
          0,
          0,
          0,
          2,
          1,
          0,
          0,
          1,
          0,
          1,
          0,
          0,
          1,
          0,
          0,
          2,
          0,
          2,
          2,
          6,
          6,
          6,
          4,
          4,
          0,
          6,
          5,
          5,
          6,
          4,
          5,
          6,
          4,
          6,
          0,
          1,
          1,
          2,
          0,
          5,
          0,
          1,
          1,
          2,
          0,
          1,
          0,
          2,
          5,
          2,
          4,
          0,
          4,
          1,
          0,
          0,
          3,
          1,
          0,
          0,
          2,
          0,
          1,
          2,
          1,
          0,
          0,
          2,
          2,
          3,
          2,
          1,
          1,
          1,
          2,
          2,
          0,
          0,
          1,
          0,
          1,
          0,
          0,
          0,
          3,
          1,
          0,
          0,
          0,
          1,
          2,
          0,
          0,
          1,
          1,
          0,
          0,
          1,
          0,
          0,
          1,
          2,
          6,
          6,
          5,
          6,
          4,
          5,
          5,
          4,
          5,
          3,
          3,
          3,
          3,
          0,
          3,
          0,
          0,
          2,
          0,
          2,
          2,
          0,
          1,
          1,
          0,
          3,
          0,
          1,
          0,
          1,
          2,
          1,
          3,
          0,
          1,
          0,
          0,
          2,
          1,
          0,
          0,
          5,
          0,
          0,
          0,
          0,
          0,
          0,
          2,
          0,
          0,
          2,
          0,
          0,
          2,
          0,
          0,
          0,
          0,
          0,
          0,
          0,
          1,
          0,
          0,
          3,
          0,
          0,
          0,
          0,
          0,
          0,
          0,
          0,
          0,
          0,
          5,
          4,
          5,
          5,
          4,
          5,
          6,
          5,
          5,
          6,
          6,
          0,
          1,
          0,
          2,
          0,
          4,
          1,
          0,
          1,
          2,
          2,
          0,
          1,
          0,
          1,
          1,
          0,
          0,
          0,
          0,
          0,
          0,
          0,
          0,
          0,
          0,
          0,
          3,
          0,
          0,
          0,
          0,
          0,
          0,
          3,
          1,
          0,
          1,
          1,
          1,
          0,
          0,
          0,
          0,
          0,
          0,
          0,
          0,
          0,
          0,
          0,
          1,
          0,
          0,
          0,
          0,
          0,
          0,
          0,
          0,
          0,
          0,
          0,
          0,
          0,
          0,
          0,
          0,
          0,
          0,
          1,
          1,
          0,
          0,
          0,
          1,
          0,
          0,
          0,
          0,
          0,
          1,
          0,
          0,
          0,
          1,
          0,
          0,
          0,
          0,
          0,
          0,
          0,
          0,
          2,
          0,
          1,
          0,
          0,
          0,
          0,
          0,
          0,
          0,
          0,
          0,
          0,
          0,
          0,
          0,
          0,
          0,
          0,
          0,
          0,
          0,
          0,
          0,
          0,
          0,
          0,
          0,
          0,
          0,
          0,
          0,
          0,
          0,
          0,
          0,
          1,
          0,
          0,
          0,
          0,
          2,
          0,
          0,
          1,
          0,
          1,
          1,
          0,
          0,
          0,
          0,
          0,
          0,
          0,
          0,
          0,
          0,
          0,
          0,
          0,
          0,
          0,
          0,
          0,
          0,
          0,
          0,
          0,
          0,
          0,
          0
         ]
        }
       ],
       "layout": {
        "boxmode": "group",
        "colorway": [
         "rgb(60, 180, 75)",
         "rgb(230, 25, 75)",
         "rgb(0, 130, 200)",
         "rgb(245, 130, 48)",
         "rgb(145, 30, 180)",
         "rgb(240, 50, 230)",
         "rgb(0, 128, 128)",
         "rgb(170, 110, 40)",
         "rgb(0, 130, 200)",
         "rgb(128, 128, 128)",
         "rgb(128, 0, 0)",
         "rgb(170, 255, 195)",
         "rgb(128, 128, 0)",
         "rgb(255, 215, 180)",
         "rgb(0, 0, 128)",
         "rgb(128, 128, 128)",
         "rgb(255, 255, 255)",
         "rgb(230, 25, 75)",
         "rgb(0, 0, 0)",
         "rgb(255, 225, 25)",
         "rgb(255, 250, 200)",
         "rgb(250, 190, 190)"
        ],
        "font": {
         "size": 20
        },
        "legend": {
         "orientation": "h",
         "x": 0.24,
         "y": 1.15
        },
        "plot_bgcolor": "rgba(0,0,0,0)",
        "template": {
         "data": {
          "bar": [
           {
            "error_x": {
             "color": "#2a3f5f"
            },
            "error_y": {
             "color": "#2a3f5f"
            },
            "marker": {
             "line": {
              "color": "#E5ECF6",
              "width": 0.5
             }
            },
            "type": "bar"
           }
          ],
          "barpolar": [
           {
            "marker": {
             "line": {
              "color": "#E5ECF6",
              "width": 0.5
             }
            },
            "type": "barpolar"
           }
          ],
          "carpet": [
           {
            "aaxis": {
             "endlinecolor": "#2a3f5f",
             "gridcolor": "white",
             "linecolor": "white",
             "minorgridcolor": "white",
             "startlinecolor": "#2a3f5f"
            },
            "baxis": {
             "endlinecolor": "#2a3f5f",
             "gridcolor": "white",
             "linecolor": "white",
             "minorgridcolor": "white",
             "startlinecolor": "#2a3f5f"
            },
            "type": "carpet"
           }
          ],
          "choropleth": [
           {
            "colorbar": {
             "outlinewidth": 0,
             "ticks": ""
            },
            "type": "choropleth"
           }
          ],
          "contour": [
           {
            "colorbar": {
             "outlinewidth": 0,
             "ticks": ""
            },
            "colorscale": [
             [
              0,
              "#0d0887"
             ],
             [
              0.1111111111111111,
              "#46039f"
             ],
             [
              0.2222222222222222,
              "#7201a8"
             ],
             [
              0.3333333333333333,
              "#9c179e"
             ],
             [
              0.4444444444444444,
              "#bd3786"
             ],
             [
              0.5555555555555556,
              "#d8576b"
             ],
             [
              0.6666666666666666,
              "#ed7953"
             ],
             [
              0.7777777777777778,
              "#fb9f3a"
             ],
             [
              0.8888888888888888,
              "#fdca26"
             ],
             [
              1,
              "#f0f921"
             ]
            ],
            "type": "contour"
           }
          ],
          "contourcarpet": [
           {
            "colorbar": {
             "outlinewidth": 0,
             "ticks": ""
            },
            "type": "contourcarpet"
           }
          ],
          "heatmap": [
           {
            "colorbar": {
             "outlinewidth": 0,
             "ticks": ""
            },
            "colorscale": [
             [
              0,
              "#0d0887"
             ],
             [
              0.1111111111111111,
              "#46039f"
             ],
             [
              0.2222222222222222,
              "#7201a8"
             ],
             [
              0.3333333333333333,
              "#9c179e"
             ],
             [
              0.4444444444444444,
              "#bd3786"
             ],
             [
              0.5555555555555556,
              "#d8576b"
             ],
             [
              0.6666666666666666,
              "#ed7953"
             ],
             [
              0.7777777777777778,
              "#fb9f3a"
             ],
             [
              0.8888888888888888,
              "#fdca26"
             ],
             [
              1,
              "#f0f921"
             ]
            ],
            "type": "heatmap"
           }
          ],
          "heatmapgl": [
           {
            "colorbar": {
             "outlinewidth": 0,
             "ticks": ""
            },
            "colorscale": [
             [
              0,
              "#0d0887"
             ],
             [
              0.1111111111111111,
              "#46039f"
             ],
             [
              0.2222222222222222,
              "#7201a8"
             ],
             [
              0.3333333333333333,
              "#9c179e"
             ],
             [
              0.4444444444444444,
              "#bd3786"
             ],
             [
              0.5555555555555556,
              "#d8576b"
             ],
             [
              0.6666666666666666,
              "#ed7953"
             ],
             [
              0.7777777777777778,
              "#fb9f3a"
             ],
             [
              0.8888888888888888,
              "#fdca26"
             ],
             [
              1,
              "#f0f921"
             ]
            ],
            "type": "heatmapgl"
           }
          ],
          "histogram": [
           {
            "marker": {
             "colorbar": {
              "outlinewidth": 0,
              "ticks": ""
             }
            },
            "type": "histogram"
           }
          ],
          "histogram2d": [
           {
            "colorbar": {
             "outlinewidth": 0,
             "ticks": ""
            },
            "colorscale": [
             [
              0,
              "#0d0887"
             ],
             [
              0.1111111111111111,
              "#46039f"
             ],
             [
              0.2222222222222222,
              "#7201a8"
             ],
             [
              0.3333333333333333,
              "#9c179e"
             ],
             [
              0.4444444444444444,
              "#bd3786"
             ],
             [
              0.5555555555555556,
              "#d8576b"
             ],
             [
              0.6666666666666666,
              "#ed7953"
             ],
             [
              0.7777777777777778,
              "#fb9f3a"
             ],
             [
              0.8888888888888888,
              "#fdca26"
             ],
             [
              1,
              "#f0f921"
             ]
            ],
            "type": "histogram2d"
           }
          ],
          "histogram2dcontour": [
           {
            "colorbar": {
             "outlinewidth": 0,
             "ticks": ""
            },
            "colorscale": [
             [
              0,
              "#0d0887"
             ],
             [
              0.1111111111111111,
              "#46039f"
             ],
             [
              0.2222222222222222,
              "#7201a8"
             ],
             [
              0.3333333333333333,
              "#9c179e"
             ],
             [
              0.4444444444444444,
              "#bd3786"
             ],
             [
              0.5555555555555556,
              "#d8576b"
             ],
             [
              0.6666666666666666,
              "#ed7953"
             ],
             [
              0.7777777777777778,
              "#fb9f3a"
             ],
             [
              0.8888888888888888,
              "#fdca26"
             ],
             [
              1,
              "#f0f921"
             ]
            ],
            "type": "histogram2dcontour"
           }
          ],
          "mesh3d": [
           {
            "colorbar": {
             "outlinewidth": 0,
             "ticks": ""
            },
            "type": "mesh3d"
           }
          ],
          "parcoords": [
           {
            "line": {
             "colorbar": {
              "outlinewidth": 0,
              "ticks": ""
             }
            },
            "type": "parcoords"
           }
          ],
          "pie": [
           {
            "automargin": true,
            "type": "pie"
           }
          ],
          "scatter": [
           {
            "marker": {
             "colorbar": {
              "outlinewidth": 0,
              "ticks": ""
             }
            },
            "type": "scatter"
           }
          ],
          "scatter3d": [
           {
            "line": {
             "colorbar": {
              "outlinewidth": 0,
              "ticks": ""
             }
            },
            "marker": {
             "colorbar": {
              "outlinewidth": 0,
              "ticks": ""
             }
            },
            "type": "scatter3d"
           }
          ],
          "scattercarpet": [
           {
            "marker": {
             "colorbar": {
              "outlinewidth": 0,
              "ticks": ""
             }
            },
            "type": "scattercarpet"
           }
          ],
          "scattergeo": [
           {
            "marker": {
             "colorbar": {
              "outlinewidth": 0,
              "ticks": ""
             }
            },
            "type": "scattergeo"
           }
          ],
          "scattergl": [
           {
            "marker": {
             "colorbar": {
              "outlinewidth": 0,
              "ticks": ""
             }
            },
            "type": "scattergl"
           }
          ],
          "scattermapbox": [
           {
            "marker": {
             "colorbar": {
              "outlinewidth": 0,
              "ticks": ""
             }
            },
            "type": "scattermapbox"
           }
          ],
          "scatterpolar": [
           {
            "marker": {
             "colorbar": {
              "outlinewidth": 0,
              "ticks": ""
             }
            },
            "type": "scatterpolar"
           }
          ],
          "scatterpolargl": [
           {
            "marker": {
             "colorbar": {
              "outlinewidth": 0,
              "ticks": ""
             }
            },
            "type": "scatterpolargl"
           }
          ],
          "scatterternary": [
           {
            "marker": {
             "colorbar": {
              "outlinewidth": 0,
              "ticks": ""
             }
            },
            "type": "scatterternary"
           }
          ],
          "surface": [
           {
            "colorbar": {
             "outlinewidth": 0,
             "ticks": ""
            },
            "colorscale": [
             [
              0,
              "#0d0887"
             ],
             [
              0.1111111111111111,
              "#46039f"
             ],
             [
              0.2222222222222222,
              "#7201a8"
             ],
             [
              0.3333333333333333,
              "#9c179e"
             ],
             [
              0.4444444444444444,
              "#bd3786"
             ],
             [
              0.5555555555555556,
              "#d8576b"
             ],
             [
              0.6666666666666666,
              "#ed7953"
             ],
             [
              0.7777777777777778,
              "#fb9f3a"
             ],
             [
              0.8888888888888888,
              "#fdca26"
             ],
             [
              1,
              "#f0f921"
             ]
            ],
            "type": "surface"
           }
          ],
          "table": [
           {
            "cells": {
             "fill": {
              "color": "#EBF0F8"
             },
             "line": {
              "color": "white"
             }
            },
            "header": {
             "fill": {
              "color": "#C8D4E3"
             },
             "line": {
              "color": "white"
             }
            },
            "type": "table"
           }
          ]
         },
         "layout": {
          "annotationdefaults": {
           "arrowcolor": "#2a3f5f",
           "arrowhead": 0,
           "arrowwidth": 1
          },
          "coloraxis": {
           "colorbar": {
            "outlinewidth": 0,
            "ticks": ""
           }
          },
          "colorscale": {
           "diverging": [
            [
             0,
             "#8e0152"
            ],
            [
             0.1,
             "#c51b7d"
            ],
            [
             0.2,
             "#de77ae"
            ],
            [
             0.3,
             "#f1b6da"
            ],
            [
             0.4,
             "#fde0ef"
            ],
            [
             0.5,
             "#f7f7f7"
            ],
            [
             0.6,
             "#e6f5d0"
            ],
            [
             0.7,
             "#b8e186"
            ],
            [
             0.8,
             "#7fbc41"
            ],
            [
             0.9,
             "#4d9221"
            ],
            [
             1,
             "#276419"
            ]
           ],
           "sequential": [
            [
             0,
             "#0d0887"
            ],
            [
             0.1111111111111111,
             "#46039f"
            ],
            [
             0.2222222222222222,
             "#7201a8"
            ],
            [
             0.3333333333333333,
             "#9c179e"
            ],
            [
             0.4444444444444444,
             "#bd3786"
            ],
            [
             0.5555555555555556,
             "#d8576b"
            ],
            [
             0.6666666666666666,
             "#ed7953"
            ],
            [
             0.7777777777777778,
             "#fb9f3a"
            ],
            [
             0.8888888888888888,
             "#fdca26"
            ],
            [
             1,
             "#f0f921"
            ]
           ],
           "sequentialminus": [
            [
             0,
             "#0d0887"
            ],
            [
             0.1111111111111111,
             "#46039f"
            ],
            [
             0.2222222222222222,
             "#7201a8"
            ],
            [
             0.3333333333333333,
             "#9c179e"
            ],
            [
             0.4444444444444444,
             "#bd3786"
            ],
            [
             0.5555555555555556,
             "#d8576b"
            ],
            [
             0.6666666666666666,
             "#ed7953"
            ],
            [
             0.7777777777777778,
             "#fb9f3a"
            ],
            [
             0.8888888888888888,
             "#fdca26"
            ],
            [
             1,
             "#f0f921"
            ]
           ]
          },
          "colorway": [
           "#636efa",
           "#EF553B",
           "#00cc96",
           "#ab63fa",
           "#FFA15A",
           "#19d3f3",
           "#FF6692",
           "#B6E880",
           "#FF97FF",
           "#FECB52"
          ],
          "font": {
           "color": "#2a3f5f"
          },
          "geo": {
           "bgcolor": "white",
           "lakecolor": "white",
           "landcolor": "#E5ECF6",
           "showlakes": true,
           "showland": true,
           "subunitcolor": "white"
          },
          "hoverlabel": {
           "align": "left"
          },
          "hovermode": "closest",
          "mapbox": {
           "style": "light"
          },
          "paper_bgcolor": "white",
          "plot_bgcolor": "#E5ECF6",
          "polar": {
           "angularaxis": {
            "gridcolor": "white",
            "linecolor": "white",
            "ticks": ""
           },
           "bgcolor": "#E5ECF6",
           "radialaxis": {
            "gridcolor": "white",
            "linecolor": "white",
            "ticks": ""
           }
          },
          "scene": {
           "xaxis": {
            "backgroundcolor": "#E5ECF6",
            "gridcolor": "white",
            "gridwidth": 2,
            "linecolor": "white",
            "showbackground": true,
            "ticks": "",
            "zerolinecolor": "white"
           },
           "yaxis": {
            "backgroundcolor": "#E5ECF6",
            "gridcolor": "white",
            "gridwidth": 2,
            "linecolor": "white",
            "showbackground": true,
            "ticks": "",
            "zerolinecolor": "white"
           },
           "zaxis": {
            "backgroundcolor": "#E5ECF6",
            "gridcolor": "white",
            "gridwidth": 2,
            "linecolor": "white",
            "showbackground": true,
            "ticks": "",
            "zerolinecolor": "white"
           }
          },
          "shapedefaults": {
           "line": {
            "color": "#2a3f5f"
           }
          },
          "ternary": {
           "aaxis": {
            "gridcolor": "white",
            "linecolor": "white",
            "ticks": ""
           },
           "baxis": {
            "gridcolor": "white",
            "linecolor": "white",
            "ticks": ""
           },
           "bgcolor": "#E5ECF6",
           "caxis": {
            "gridcolor": "white",
            "linecolor": "white",
            "ticks": ""
           }
          },
          "title": {
           "x": 0.05
          },
          "xaxis": {
           "automargin": true,
           "gridcolor": "white",
           "linecolor": "white",
           "ticks": "",
           "title": {
            "standoff": 15
           },
           "zerolinecolor": "white",
           "zerolinewidth": 2
          },
          "yaxis": {
           "automargin": true,
           "gridcolor": "white",
           "linecolor": "white",
           "ticks": "",
           "title": {
            "standoff": 15
           },
           "zerolinecolor": "white",
           "zerolinewidth": 2
          }
         }
        },
        "yaxis": {
         "gridcolor": "rgb(219, 219, 219)",
         "showgrid": true,
         "title": {
          "text": "Updates per 6-Months"
         }
        }
       }
      },
      "text/html": [
       "<div>\n",
       "        \n",
       "        \n",
       "            <div id=\"6dcb7b91-9c1b-48e1-89a9-0616add607d3\" class=\"plotly-graph-div\" style=\"height:525px; width:100%;\"></div>\n",
       "            <script type=\"text/javascript\">\n",
       "                require([\"plotly\"], function(Plotly) {\n",
       "                    window.PLOTLYENV=window.PLOTLYENV || {};\n",
       "                    \n",
       "                if (document.getElementById(\"6dcb7b91-9c1b-48e1-89a9-0616add607d3\")) {\n",
       "                    Plotly.newPlot(\n",
       "                        '6dcb7b91-9c1b-48e1-89a9-0616add607d3',\n",
       "                        [{\"marker\": {\"color\": \"rgb(31, 119, 180)\"}, \"type\": \"box\", \"x\": [\"Samsung\", \"Samsung\", \"Samsung\", \"Samsung\", \"Samsung\", \"Samsung\", \"Samsung\", \"Samsung\", \"Samsung\", \"Samsung\", \"Samsung\", \"Samsung\", \"Samsung\", \"Samsung\", \"Samsung\", \"Samsung\", \"Samsung\", \"Samsung\", \"Samsung\", \"Samsung\", \"Samsung\", \"Samsung\", \"Samsung\", \"Samsung\", \"Samsung\", \"Samsung\", \"Samsung\", \"Samsung\", \"Samsung\", \"Samsung\", \"Samsung\", \"Samsung\", \"Samsung\", \"Samsung\", \"Samsung\", \"Samsung\", \"Samsung\", \"Samsung\", \"LG\", \"LG\", \"LG\", \"LG\", \"LG\", \"LG\", \"LG\", \"LG\", \"LG\", \"LG\", \"LG\", \"LG\", \"LG\", \"LG\", \"LG\", \"LG\", \"LG\", \"LG\", \"LG\", \"LG\", \"LG\", \"LG\", \"LG\", \"LG\", \"LG\", \"LG\", \"LG\", \"LG\", \"LG\", \"LG\", \"LG\", \"LG\", \"LG\", \"Motorola\", \"Motorola\", \"Motorola\", \"Motorola\", \"Motorola\", \"Motorola\", \"Motorola\", \"Motorola\", \"Motorola\", \"Motorola\", \"Motorola\", \"Motorola\", \"Motorola\", \"HTC\", \"HTC\", \"HTC\", \"HTC\", \"HTC\", \"HTC\", \"Google\", \"Google\", \"Kyocera\", \"Kyocera\", \"Kyocera\", \"Samsung\", \"Samsung\", \"Samsung\", \"Samsung\", \"Samsung\", \"Samsung\", \"Samsung\", \"Samsung\", \"Samsung\", \"Samsung\", \"Samsung\", \"Samsung\", \"Samsung\", \"Samsung\", \"Samsung\", \"Samsung\", \"Samsung\", \"Samsung\", \"Samsung\", \"Samsung\", \"Samsung\", \"Samsung\", \"Samsung\", \"Samsung\", \"Samsung\", \"Samsung\", \"Samsung\", \"Samsung\", \"Samsung\", \"Samsung\", \"Samsung\", \"Samsung\", \"Samsung\", \"Samsung\", \"Samsung\", \"Samsung\", \"LG\", \"LG\", \"LG\", \"LG\", \"LG\", \"LG\", \"LG\", \"LG\", \"LG\", \"LG\", \"LG\", \"LG\", \"LG\", \"LG\", \"LG\", \"LG\", \"LG\", \"LG\", \"LG\", \"LG\", \"LG\", \"LG\", \"LG\", \"LG\", \"LG\", \"LG\", \"LG\", \"LG\", \"LG\", \"LG\", \"LG\", \"LG\", \"LG\", \"LG\", \"LG\", \"Motorola\", \"Motorola\", \"Motorola\", \"Motorola\", \"Motorola\", \"Motorola\", \"Motorola\", \"Motorola\", \"Motorola\", \"Motorola\", \"Motorola\", \"HTC\", \"HTC\", \"HTC\", \"HTC\", \"HTC\", \"HTC\", \"HTC\", \"HTC\", \"Kyocera\", \"Kyocera\", \"Samsung\", \"Samsung\", \"Samsung\", \"Samsung\", \"Samsung\", \"Samsung\", \"Samsung\", \"Samsung\", \"Samsung\", \"Samsung\", \"Samsung\", \"Samsung\", \"Samsung\", \"Samsung\", \"Samsung\", \"Samsung\", \"Samsung\", \"Samsung\", \"Samsung\", \"Samsung\", \"Samsung\", \"Samsung\", \"Samsung\", \"Samsung\", \"Samsung\", \"Samsung\", \"Samsung\", \"Samsung\", \"Samsung\", \"Samsung\", \"Samsung\", \"LG\", \"LG\", \"LG\", \"LG\", \"LG\", \"LG\", \"LG\", \"LG\", \"LG\", \"LG\", \"LG\", \"LG\", \"LG\", \"LG\", \"LG\", \"LG\", \"LG\", \"LG\", \"LG\", \"LG\", \"LG\", \"LG\", \"LG\", \"LG\", \"LG\", \"LG\", \"LG\", \"Motorola\", \"Motorola\", \"Motorola\", \"Motorola\", \"Motorola\", \"Motorola\", \"Motorola\", \"HTC\", \"HTC\", \"HTC\", \"HTC\", \"HTC\", \"HTC\", \"HTC\", \"HTC\", \"HTC\", \"Kyocera\", \"Kyocera\", \"Samsung\", \"Samsung\", \"Samsung\", \"Samsung\", \"Samsung\", \"Samsung\", \"Samsung\", \"Samsung\", \"Samsung\", \"Samsung\", \"Samsung\", \"Samsung\", \"Samsung\", \"Samsung\", \"Samsung\", \"Samsung\", \"Samsung\", \"Samsung\", \"Samsung\", \"Samsung\", \"Samsung\", \"Samsung\", \"Samsung\", \"Samsung\", \"Samsung\", \"Samsung\", \"Samsung\", \"Samsung\", \"Samsung\", \"Samsung\", \"Samsung\", \"Samsung\", \"Samsung\", \"Samsung\", \"Samsung\", \"LG\", \"LG\", \"LG\", \"LG\", \"LG\", \"LG\", \"LG\", \"LG\", \"LG\", \"LG\", \"LG\", \"LG\", \"LG\", \"LG\", \"LG\", \"LG\", \"LG\", \"LG\", \"LG\", \"LG\", \"LG\", \"LG\", \"LG\", \"LG\", \"LG\", \"LG\", \"LG\", \"LG\", \"Motorola\", \"Motorola\", \"Motorola\", \"Motorola\", \"Motorola\", \"Motorola\", \"Motorola\", \"HTC\", \"HTC\", \"HTC\", \"HTC\", \"HTC\", \"HTC\", \"HTC\", \"HTC\", \"HTC\", \"HTC\", \"HTC\", \"Kyocera\", \"Kyocera\", \"Kyocera\", \"Samsung\", \"Samsung\", \"Samsung\", \"Samsung\", \"Samsung\", \"Samsung\", \"Samsung\", \"Samsung\", \"Samsung\", \"Samsung\", \"Samsung\", \"Samsung\", \"Samsung\", \"Samsung\", \"Samsung\", \"Samsung\", \"Samsung\", \"Samsung\", \"Samsung\", \"Samsung\", \"Samsung\", \"Samsung\", \"Samsung\", \"Samsung\", \"Samsung\", \"Samsung\", \"Samsung\", \"Samsung\", \"Samsung\", \"Samsung\", \"Samsung\", \"Samsung\", \"Samsung\", \"Samsung\", \"Samsung\", \"Samsung\", \"LG\", \"LG\", \"LG\", \"LG\", \"LG\", \"LG\", \"LG\", \"LG\", \"LG\", \"LG\", \"LG\", \"LG\", \"LG\", \"LG\", \"LG\", \"LG\", \"LG\", \"LG\", \"LG\", \"LG\", \"LG\", \"LG\", \"LG\", \"LG\", \"Motorola\", \"Motorola\", \"Motorola\", \"Motorola\", \"HTC\", \"HTC\", \"HTC\", \"HTC\", \"HTC\", \"HTC\", \"HTC\", \"HTC\", \"HTC\", \"HTC\", \"Kyocera\", \"Kyocera\", \"Kyocera\", \"Samsung\", \"Samsung\", \"Samsung\", \"Samsung\", \"Samsung\", \"Samsung\", \"Samsung\", \"Samsung\", \"Samsung\", \"Samsung\", \"Samsung\", \"Samsung\", \"Samsung\", \"Samsung\", \"Samsung\", \"Samsung\", \"Samsung\", \"Samsung\", \"Samsung\", \"Samsung\", \"Samsung\", \"Samsung\", \"Samsung\", \"Samsung\", \"Samsung\", \"Samsung\", \"Samsung\", \"Samsung\", \"Samsung\", \"Samsung\", \"Samsung\", \"Samsung\", \"Samsung\", \"LG\", \"LG\", \"LG\", \"LG\", \"LG\", \"LG\", \"LG\", \"LG\", \"LG\", \"LG\", \"LG\", \"LG\", \"LG\", \"LG\", \"LG\", \"LG\", \"LG\", \"LG\", \"LG\", \"LG\", \"LG\", \"LG\", \"Motorola\", \"Motorola\", \"Motorola\", \"Motorola\", \"HTC\", \"HTC\", \"HTC\", \"HTC\", \"HTC\", \"HTC\", \"HTC\", \"HTC\", \"HTC\", \"HTC\", \"Kyocera\", \"Kyocera\", \"Kyocera\", \"Samsung\", \"Samsung\", \"Samsung\", \"Samsung\", \"Samsung\", \"Samsung\", \"Samsung\", \"Samsung\", \"Samsung\", \"Samsung\", \"Samsung\", \"Samsung\", \"Samsung\", \"Samsung\", \"Samsung\", \"Samsung\", \"Samsung\", \"Samsung\", \"Samsung\", \"Samsung\", \"Samsung\", \"Samsung\", \"Samsung\", \"Samsung\", \"Samsung\", \"Samsung\", \"Samsung\", \"Samsung\", \"Samsung\", \"Samsung\", \"Samsung\", \"Samsung\", \"LG\", \"LG\", \"LG\", \"LG\", \"LG\", \"LG\", \"LG\", \"LG\", \"LG\", \"LG\", \"LG\", \"LG\", \"LG\", \"LG\", \"LG\", \"LG\", \"Motorola\", \"Motorola\", \"Motorola\", \"HTC\", \"HTC\", \"HTC\", \"HTC\", \"HTC\", \"HTC\", \"HTC\", \"HTC\", \"HTC\", \"HTC\", \"Kyocera\", \"Kyocera\", \"Samsung\", \"Samsung\", \"Samsung\", \"Samsung\", \"Samsung\", \"Samsung\", \"Samsung\", \"Samsung\", \"Samsung\", \"Samsung\", \"Samsung\", \"Samsung\", \"Samsung\", \"Samsung\", \"Samsung\", \"Samsung\", \"Samsung\", \"Samsung\", \"Samsung\", \"Samsung\", \"Samsung\", \"Samsung\", \"Samsung\", \"LG\", \"LG\", \"LG\", \"LG\", \"LG\", \"LG\", \"LG\", \"LG\", \"LG\", \"LG\", \"LG\", \"LG\", \"Motorola\", \"Motorola\", \"Motorola\", \"HTC\", \"HTC\", \"HTC\", \"HTC\", \"HTC\", \"HTC\", \"HTC\", \"Kyocera\", \"Kyocera\"], \"y\": [2, 1, 0, 1, 0, 0, 5, 3, 0, 2, 4, 6, 6, 5, 2, 5, 1, 5, 5, 5, 3, 5, 6, 6, 0, 0, 1, 1, 2, 1, 3, 0, 3, 1, 2, 2, 1, 0, 5, 5, 2, 1, 5, 0, 3, 1, 3, 0, 0, 4, 0, 2, 2, 1, 4, 1, 2, 0, 3, 5, 0, 0, 2, 0, 1, 3, 2, 2, 1, 2, 1, 1, 4, 1, 1, 0, 2, 0, 0, 0, 0, 0, 0, 1, 0, 4, 1, 1, 1, 0, 1, 1, 1, 1, 0, 2, 2, 0, 2, 1, 0, 3, 2, 0, 2, 5, 6, 6, 3, 3, 0, 1, 3, 4, 5, 6, 5, 5, 5, 1, 0, 2, 2, 1, 4, 1, 1, 1, 2, 3, 1, 0, 4, 3, 3, 6, 1, 0, 0, 4, 0, 0, 1, 3, 4, 1, 2, 6, 2, 4, 2, 0, 3, 4, 1, 1, 0, 3, 0, 4, 3, 3, 3, 3, 2, 2, 0, 2, 2, 0, 1, 2, 0, 0, 1, 1, 1, 0, 1, 2, 1, 0, 1, 1, 1, 1, 1, 2, 0, 2, 2, 0, 5, 2, 2, 3, 6, 6, 6, 6, 5, 6, 4, 6, 6, 5, 6, 3, 3, 0, 1, 1, 2, 3, 0, 1, 0, 0, 2, 5, 4, 3, 0, 4, 0, 1, 0, 4, 0, 0, 2, 1, 1, 1, 3, 3, 0, 0, 4, 1, 2, 2, 2, 2, 0, 4, 0, 0, 0, 5, 0, 0, 0, 0, 2, 1, 0, 0, 1, 0, 1, 0, 0, 1, 0, 0, 2, 0, 2, 2, 6, 6, 6, 4, 4, 0, 6, 5, 5, 6, 4, 5, 6, 4, 6, 0, 1, 1, 2, 0, 5, 0, 1, 1, 2, 0, 1, 0, 2, 5, 2, 4, 0, 4, 1, 0, 0, 3, 1, 0, 0, 2, 0, 1, 2, 1, 0, 0, 2, 2, 3, 2, 1, 1, 1, 2, 2, 0, 0, 1, 0, 1, 0, 0, 0, 3, 1, 0, 0, 0, 1, 2, 0, 0, 1, 1, 0, 0, 1, 0, 0, 1, 2, 6, 6, 5, 6, 4, 5, 5, 4, 5, 3, 3, 3, 3, 0, 3, 0, 0, 2, 0, 2, 2, 0, 1, 1, 0, 3, 0, 1, 0, 1, 2, 1, 3, 0, 1, 0, 0, 2, 1, 0, 0, 5, 0, 0, 0, 0, 0, 0, 2, 0, 0, 2, 0, 0, 2, 0, 0, 0, 0, 0, 0, 0, 1, 0, 0, 3, 0, 0, 0, 0, 0, 0, 0, 0, 0, 0, 5, 4, 5, 5, 4, 5, 6, 5, 5, 6, 6, 0, 1, 0, 2, 0, 4, 1, 0, 1, 2, 2, 0, 1, 0, 1, 1, 0, 0, 0, 0, 0, 0, 0, 0, 0, 0, 0, 3, 0, 0, 0, 0, 0, 0, 3, 1, 0, 1, 1, 1, 0, 0, 0, 0, 0, 0, 0, 0, 0, 0, 0, 1, 0, 0, 0, 0, 0, 0, 0, 0, 0, 0, 0, 0, 0, 0, 0, 0, 0, 0, 1, 1, 0, 0, 0, 1, 0, 0, 0, 0, 0, 1, 0, 0, 0, 1, 0, 0, 0, 0, 0, 0, 0, 0, 2, 0, 1, 0, 0, 0, 0, 0, 0, 0, 0, 0, 0, 0, 0, 0, 0, 0, 0, 0, 0, 0, 0, 0, 0, 0, 0, 0, 0, 0, 0, 0, 0, 0, 0, 0, 1, 0, 0, 0, 0, 2, 0, 0, 1, 0, 1, 1, 0, 0, 0, 0, 0, 0, 0, 0, 0, 0, 0, 0, 0, 0, 0, 0, 0, 0, 0, 0, 0, 0, 0, 0]}],\n",
       "                        {\"boxmode\": \"group\", \"colorway\": [\"rgb(60, 180, 75)\", \"rgb(230, 25, 75)\", \"rgb(0, 130, 200)\", \"rgb(245, 130, 48)\", \"rgb(145, 30, 180)\", \"rgb(240, 50, 230)\", \"rgb(0, 128, 128)\", \"rgb(170, 110, 40)\", \"rgb(0, 130, 200)\", \"rgb(128, 128, 128)\", \"rgb(128, 0, 0)\", \"rgb(170, 255, 195)\", \"rgb(128, 128, 0)\", \"rgb(255, 215, 180)\", \"rgb(0, 0, 128)\", \"rgb(128, 128, 128)\", \"rgb(255, 255, 255)\", \"rgb(230, 25, 75)\", \"rgb(0, 0, 0)\", \"rgb(255, 225, 25)\", \"rgb(255, 250, 200)\", \"rgb(250, 190, 190)\"], \"font\": {\"size\": 20}, \"legend\": {\"orientation\": \"h\", \"x\": 0.24, \"y\": 1.15}, \"plot_bgcolor\": \"rgba(0,0,0,0)\", \"template\": {\"data\": {\"bar\": [{\"error_x\": {\"color\": \"#2a3f5f\"}, \"error_y\": {\"color\": \"#2a3f5f\"}, \"marker\": {\"line\": {\"color\": \"#E5ECF6\", \"width\": 0.5}}, \"type\": \"bar\"}], \"barpolar\": [{\"marker\": {\"line\": {\"color\": \"#E5ECF6\", \"width\": 0.5}}, \"type\": \"barpolar\"}], \"carpet\": [{\"aaxis\": {\"endlinecolor\": \"#2a3f5f\", \"gridcolor\": \"white\", \"linecolor\": \"white\", \"minorgridcolor\": \"white\", \"startlinecolor\": \"#2a3f5f\"}, \"baxis\": {\"endlinecolor\": \"#2a3f5f\", \"gridcolor\": \"white\", \"linecolor\": \"white\", \"minorgridcolor\": \"white\", \"startlinecolor\": \"#2a3f5f\"}, \"type\": \"carpet\"}], \"choropleth\": [{\"colorbar\": {\"outlinewidth\": 0, \"ticks\": \"\"}, \"type\": \"choropleth\"}], \"contour\": [{\"colorbar\": {\"outlinewidth\": 0, \"ticks\": \"\"}, \"colorscale\": [[0.0, \"#0d0887\"], [0.1111111111111111, \"#46039f\"], [0.2222222222222222, \"#7201a8\"], [0.3333333333333333, \"#9c179e\"], [0.4444444444444444, \"#bd3786\"], [0.5555555555555556, \"#d8576b\"], [0.6666666666666666, \"#ed7953\"], [0.7777777777777778, \"#fb9f3a\"], [0.8888888888888888, \"#fdca26\"], [1.0, \"#f0f921\"]], \"type\": \"contour\"}], \"contourcarpet\": [{\"colorbar\": {\"outlinewidth\": 0, \"ticks\": \"\"}, \"type\": \"contourcarpet\"}], \"heatmap\": [{\"colorbar\": {\"outlinewidth\": 0, \"ticks\": \"\"}, \"colorscale\": [[0.0, \"#0d0887\"], [0.1111111111111111, \"#46039f\"], [0.2222222222222222, \"#7201a8\"], [0.3333333333333333, \"#9c179e\"], [0.4444444444444444, \"#bd3786\"], [0.5555555555555556, \"#d8576b\"], [0.6666666666666666, \"#ed7953\"], [0.7777777777777778, \"#fb9f3a\"], [0.8888888888888888, \"#fdca26\"], [1.0, \"#f0f921\"]], \"type\": \"heatmap\"}], \"heatmapgl\": [{\"colorbar\": {\"outlinewidth\": 0, \"ticks\": \"\"}, \"colorscale\": [[0.0, \"#0d0887\"], [0.1111111111111111, \"#46039f\"], [0.2222222222222222, \"#7201a8\"], [0.3333333333333333, \"#9c179e\"], [0.4444444444444444, \"#bd3786\"], [0.5555555555555556, \"#d8576b\"], [0.6666666666666666, \"#ed7953\"], [0.7777777777777778, \"#fb9f3a\"], [0.8888888888888888, \"#fdca26\"], [1.0, \"#f0f921\"]], \"type\": \"heatmapgl\"}], \"histogram\": [{\"marker\": {\"colorbar\": {\"outlinewidth\": 0, \"ticks\": \"\"}}, \"type\": \"histogram\"}], \"histogram2d\": [{\"colorbar\": {\"outlinewidth\": 0, \"ticks\": \"\"}, \"colorscale\": [[0.0, \"#0d0887\"], [0.1111111111111111, \"#46039f\"], [0.2222222222222222, \"#7201a8\"], [0.3333333333333333, \"#9c179e\"], [0.4444444444444444, \"#bd3786\"], [0.5555555555555556, \"#d8576b\"], [0.6666666666666666, \"#ed7953\"], [0.7777777777777778, \"#fb9f3a\"], [0.8888888888888888, \"#fdca26\"], [1.0, \"#f0f921\"]], \"type\": \"histogram2d\"}], \"histogram2dcontour\": [{\"colorbar\": {\"outlinewidth\": 0, \"ticks\": \"\"}, \"colorscale\": [[0.0, \"#0d0887\"], [0.1111111111111111, \"#46039f\"], [0.2222222222222222, \"#7201a8\"], [0.3333333333333333, \"#9c179e\"], [0.4444444444444444, \"#bd3786\"], [0.5555555555555556, \"#d8576b\"], [0.6666666666666666, \"#ed7953\"], [0.7777777777777778, \"#fb9f3a\"], [0.8888888888888888, \"#fdca26\"], [1.0, \"#f0f921\"]], \"type\": \"histogram2dcontour\"}], \"mesh3d\": [{\"colorbar\": {\"outlinewidth\": 0, \"ticks\": \"\"}, \"type\": \"mesh3d\"}], \"parcoords\": [{\"line\": {\"colorbar\": {\"outlinewidth\": 0, \"ticks\": \"\"}}, \"type\": \"parcoords\"}], \"pie\": [{\"automargin\": true, \"type\": \"pie\"}], \"scatter\": [{\"marker\": {\"colorbar\": {\"outlinewidth\": 0, \"ticks\": \"\"}}, \"type\": \"scatter\"}], \"scatter3d\": [{\"line\": {\"colorbar\": {\"outlinewidth\": 0, \"ticks\": \"\"}}, \"marker\": {\"colorbar\": {\"outlinewidth\": 0, \"ticks\": \"\"}}, \"type\": \"scatter3d\"}], \"scattercarpet\": [{\"marker\": {\"colorbar\": {\"outlinewidth\": 0, \"ticks\": \"\"}}, \"type\": \"scattercarpet\"}], \"scattergeo\": [{\"marker\": {\"colorbar\": {\"outlinewidth\": 0, \"ticks\": \"\"}}, \"type\": \"scattergeo\"}], \"scattergl\": [{\"marker\": {\"colorbar\": {\"outlinewidth\": 0, \"ticks\": \"\"}}, \"type\": \"scattergl\"}], \"scattermapbox\": [{\"marker\": {\"colorbar\": {\"outlinewidth\": 0, \"ticks\": \"\"}}, \"type\": \"scattermapbox\"}], \"scatterpolar\": [{\"marker\": {\"colorbar\": {\"outlinewidth\": 0, \"ticks\": \"\"}}, \"type\": \"scatterpolar\"}], \"scatterpolargl\": [{\"marker\": {\"colorbar\": {\"outlinewidth\": 0, \"ticks\": \"\"}}, \"type\": \"scatterpolargl\"}], \"scatterternary\": [{\"marker\": {\"colorbar\": {\"outlinewidth\": 0, \"ticks\": \"\"}}, \"type\": \"scatterternary\"}], \"surface\": [{\"colorbar\": {\"outlinewidth\": 0, \"ticks\": \"\"}, \"colorscale\": [[0.0, \"#0d0887\"], [0.1111111111111111, \"#46039f\"], [0.2222222222222222, \"#7201a8\"], [0.3333333333333333, \"#9c179e\"], [0.4444444444444444, \"#bd3786\"], [0.5555555555555556, \"#d8576b\"], [0.6666666666666666, \"#ed7953\"], [0.7777777777777778, \"#fb9f3a\"], [0.8888888888888888, \"#fdca26\"], [1.0, \"#f0f921\"]], \"type\": \"surface\"}], \"table\": [{\"cells\": {\"fill\": {\"color\": \"#EBF0F8\"}, \"line\": {\"color\": \"white\"}}, \"header\": {\"fill\": {\"color\": \"#C8D4E3\"}, \"line\": {\"color\": \"white\"}}, \"type\": \"table\"}]}, \"layout\": {\"annotationdefaults\": {\"arrowcolor\": \"#2a3f5f\", \"arrowhead\": 0, \"arrowwidth\": 1}, \"coloraxis\": {\"colorbar\": {\"outlinewidth\": 0, \"ticks\": \"\"}}, \"colorscale\": {\"diverging\": [[0, \"#8e0152\"], [0.1, \"#c51b7d\"], [0.2, \"#de77ae\"], [0.3, \"#f1b6da\"], [0.4, \"#fde0ef\"], [0.5, \"#f7f7f7\"], [0.6, \"#e6f5d0\"], [0.7, \"#b8e186\"], [0.8, \"#7fbc41\"], [0.9, \"#4d9221\"], [1, \"#276419\"]], \"sequential\": [[0.0, \"#0d0887\"], [0.1111111111111111, \"#46039f\"], [0.2222222222222222, \"#7201a8\"], [0.3333333333333333, \"#9c179e\"], [0.4444444444444444, \"#bd3786\"], [0.5555555555555556, \"#d8576b\"], [0.6666666666666666, \"#ed7953\"], [0.7777777777777778, \"#fb9f3a\"], [0.8888888888888888, \"#fdca26\"], [1.0, \"#f0f921\"]], \"sequentialminus\": [[0.0, \"#0d0887\"], [0.1111111111111111, \"#46039f\"], [0.2222222222222222, \"#7201a8\"], [0.3333333333333333, \"#9c179e\"], [0.4444444444444444, \"#bd3786\"], [0.5555555555555556, \"#d8576b\"], [0.6666666666666666, \"#ed7953\"], [0.7777777777777778, \"#fb9f3a\"], [0.8888888888888888, \"#fdca26\"], [1.0, \"#f0f921\"]]}, \"colorway\": [\"#636efa\", \"#EF553B\", \"#00cc96\", \"#ab63fa\", \"#FFA15A\", \"#19d3f3\", \"#FF6692\", \"#B6E880\", \"#FF97FF\", \"#FECB52\"], \"font\": {\"color\": \"#2a3f5f\"}, \"geo\": {\"bgcolor\": \"white\", \"lakecolor\": \"white\", \"landcolor\": \"#E5ECF6\", \"showlakes\": true, \"showland\": true, \"subunitcolor\": \"white\"}, \"hoverlabel\": {\"align\": \"left\"}, \"hovermode\": \"closest\", \"mapbox\": {\"style\": \"light\"}, \"paper_bgcolor\": \"white\", \"plot_bgcolor\": \"#E5ECF6\", \"polar\": {\"angularaxis\": {\"gridcolor\": \"white\", \"linecolor\": \"white\", \"ticks\": \"\"}, \"bgcolor\": \"#E5ECF6\", \"radialaxis\": {\"gridcolor\": \"white\", \"linecolor\": \"white\", \"ticks\": \"\"}}, \"scene\": {\"xaxis\": {\"backgroundcolor\": \"#E5ECF6\", \"gridcolor\": \"white\", \"gridwidth\": 2, \"linecolor\": \"white\", \"showbackground\": true, \"ticks\": \"\", \"zerolinecolor\": \"white\"}, \"yaxis\": {\"backgroundcolor\": \"#E5ECF6\", \"gridcolor\": \"white\", \"gridwidth\": 2, \"linecolor\": \"white\", \"showbackground\": true, \"ticks\": \"\", \"zerolinecolor\": \"white\"}, \"zaxis\": {\"backgroundcolor\": \"#E5ECF6\", \"gridcolor\": \"white\", \"gridwidth\": 2, \"linecolor\": \"white\", \"showbackground\": true, \"ticks\": \"\", \"zerolinecolor\": \"white\"}}, \"shapedefaults\": {\"line\": {\"color\": \"#2a3f5f\"}}, \"ternary\": {\"aaxis\": {\"gridcolor\": \"white\", \"linecolor\": \"white\", \"ticks\": \"\"}, \"baxis\": {\"gridcolor\": \"white\", \"linecolor\": \"white\", \"ticks\": \"\"}, \"bgcolor\": \"#E5ECF6\", \"caxis\": {\"gridcolor\": \"white\", \"linecolor\": \"white\", \"ticks\": \"\"}}, \"title\": {\"x\": 0.05}, \"xaxis\": {\"automargin\": true, \"gridcolor\": \"white\", \"linecolor\": \"white\", \"ticks\": \"\", \"title\": {\"standoff\": 15}, \"zerolinecolor\": \"white\", \"zerolinewidth\": 2}, \"yaxis\": {\"automargin\": true, \"gridcolor\": \"white\", \"linecolor\": \"white\", \"ticks\": \"\", \"title\": {\"standoff\": 15}, \"zerolinecolor\": \"white\", \"zerolinewidth\": 2}}}, \"yaxis\": {\"gridcolor\": \"rgb(219, 219, 219)\", \"showgrid\": true, \"title\": {\"text\": \"Updates per 6-Months\"}}},\n",
       "                        {\"responsive\": true}\n",
       "                    ).then(function(){\n",
       "                            \n",
       "var gd = document.getElementById('6dcb7b91-9c1b-48e1-89a9-0616add607d3');\n",
       "var x = new MutationObserver(function (mutations, observer) {{\n",
       "        var display = window.getComputedStyle(gd).display;\n",
       "        if (!display || display === 'none') {{\n",
       "            console.log([gd, 'removed!']);\n",
       "            Plotly.purge(gd);\n",
       "            observer.disconnect();\n",
       "        }}\n",
       "}});\n",
       "\n",
       "// Listen for the removal of the full notebook cells\n",
       "var notebookContainer = gd.closest('#notebook-container');\n",
       "if (notebookContainer) {{\n",
       "    x.observe(notebookContainer, {childList: true});\n",
       "}}\n",
       "\n",
       "// Listen for the clearing of the current output cell\n",
       "var outputEl = gd.closest('.output');\n",
       "if (outputEl) {{\n",
       "    x.observe(outputEl, {childList: true});\n",
       "}}\n",
       "\n",
       "                        })\n",
       "                };\n",
       "                });\n",
       "            </script>\n",
       "        </div>"
      ]
     },
     "metadata": {},
     "output_type": "display_data"
    },
    {
     "name": "stdout",
     "output_type": "stream",
     "text": [
      "REMEMBER TO TAKE OUT VERIZON\n",
      "REMEMBER TO TAKE OUT VERIZON\n",
      "REMEMBER TO TAKE OUT VERIZON\n"
     ]
    }
   ],
   "source": [
    "data=[]\n",
    "total_updates={}\n",
    "total_years={}\n",
    "total_updates_wZeroes={}\n",
    "total_man_wZeroes={}\n",
    "\n",
    "\n",
    "normedMan=[]\n",
    "for man in carrierDF.Manufacture.unique():\n",
    "    temp=carrierDF[carrierDF.Manufacture==man]\n",
    "    if len(temp.Carrier.unique())>2: # meaning the 3 we care about exists\n",
    "        normedMan.append(man)\n",
    "importantMan=list(set(normedMan)) # get a list of important manufacturers\n",
    "    \n",
    "# sort important manufactures based on number of updates\n",
    "manLengths=[]\n",
    "for man in importantMan:\n",
    "    manLengths.append(len(carrierDF[carrierDF.Manufacture==man]))\n",
    "importantMan = [x for _,x in sorted(zip(manLengths,importantMan),reverse=True)]\n",
    "\n",
    "    \n",
    "for yr in range(int(12/howManyMonths)*4):# for each year range,\n",
    "    properList_update_wZeroes=[]\n",
    "    properList_manu_wZeroes=[]\n",
    "    for man in importantMan:# for each manufacturer\n",
    "        properList_update_wZeroes.extend(freqPointsManAllDevices[man][yr])\n",
    "        properList_manu_wZeroes.extend([man for _ in range(len(freqPointsManAllDevices[man][yr]))]) # +\" period\"   \n",
    "    total_updates_wZeroes[yr]=properList_update_wZeroes.copy()\n",
    "    total_man_wZeroes[yr]=properList_manu_wZeroes.copy()\n",
    "\n",
    "    \n",
    "eaMan_x=[]\n",
    "eaMan_y=[]\n",
    "for yr in range(int(12/howManyMonths)*4): # per each year\n",
    "    eaMan_x.extend(total_man_wZeroes[yr])\n",
    "    eaMan_y.extend(total_updates_wZeroes[yr])\n",
    "    \n",
    "  \n",
    "    \n",
    "        \n",
    "data.append(go.Box(\n",
    "        x=eaMan_x, # needs to be each manufacturer\n",
    "        y=eaMan_y,\n",
    "        marker=dict(color=\"rgb(31, 119, 180)\")\n",
    "    ))\n",
    "    \n",
    "# Edit the layout\n",
    "colorway=['rgb(60, 180, 75)', 'rgb(230, 25, 75)', 'rgb(0, 130, 200)', 'rgb(245, 130, 48)', 'rgb(145, 30, 180)', 'rgb(240, 50, 230)', 'rgb(0, 128, 128)', 'rgb(170, 110, 40)', 'rgb(0, 130, 200)', 'rgb(128, 128, 128)','rgb(128, 0, 0)', 'rgb(170, 255, 195)', 'rgb(128, 128, 0)', 'rgb(255, 215, 180)', 'rgb(0, 0, 128)', 'rgb(128, 128, 128)', 'rgb(255, 255, 255)','rgb(230, 25, 75)',  'rgb(0, 0, 0)','rgb(255, 225, 25)',  'rgb(255, 250, 200)', 'rgb(250, 190, 190)']\n",
    "layout = dict(#title = \"Number of True Updates per 6 Month Period after Release per Manufacture \",\n",
    "              yaxis = dict(title = 'Updates per 6-Months',showgrid=True, gridcolor='rgb(219, 219, 219)'),\n",
    "              #xaxis = dict(title = '6 Month Period',showgrid=True,zeroline=True,showline=True,zerolinecolor='#969696'),\n",
    "              plot_bgcolor='rgba(0,0,0,0)',\n",
    "              boxmode='group',\n",
    "              colorway=colorway,\n",
    "              legend_orientation=\"h\",\n",
    "              legend=dict(x=0.24, y=1.15), # for pt .33\n",
    "              font=dict(size=20)\n",
    "              )\n",
    "\n",
    "fig = dict(data=data, layout=layout)\n",
    "py.offline.iplot(fig, filename='release-years-frequency-per-carrier.png')\n",
    "\n",
    "print(\"REMEMBER TO TAKE OUT VERIZON\")\n",
    "print(\"REMEMBER TO TAKE OUT VERIZON\")\n",
    "print(\"REMEMBER TO TAKE OUT VERIZON\")\n",
    "\n",
    "if not \"Verizon\" in carrierDF.Carrier.values and saveFigs==True: # only save if no Verizon\n",
    "    pio.write_image(fig, 'manufacture-freq-perman.pdf', width=1100, height=600)"
   ]
  },
  {
   "cell_type": "code",
   "execution_count": 17,
   "metadata": {},
   "outputs": [],
   "source": [
    "# # For each model, calculate the frequency of updates within the first 4 years of it's release\n",
    "\n",
    "# # Get same models across carriers\n",
    "# sameModel=[]\n",
    "# sameManu=[]\n",
    "# for model in carrierDF.Model.unique():\n",
    "#     tempsDF=carrierDF[carrierDF.Model==model]\n",
    "#     if len(tempsDF.Carrier.unique())==3: # all three carriers \n",
    "#         sameModel.append(model)\n",
    "#         man=list(tempsDF.Manufacture.unique())[0]\n",
    "#         sameManu.append(list(tempsDF.Manufacture.unique())[0])\n",
    "        \n",
    "        \n",
    "# print(len(sameModel))\n",
    "# print(sameModel)\n",
    "\n",
    "\n",
    "\n",
    "# frequencyPairs_perMode={}\n",
    "# frequencyPairs_perMode_x={}\n",
    "# for car in carrierDF.Carrier.unique():\n",
    "#     frequencyPairs_perMode[car]={}\n",
    "#     frequencyPairs_perMode_x[car]={}\n",
    "#     for man in sameManu:\n",
    "#         frequencyPairs_perMode[car][man]=list()\n",
    "#         frequencyPairs_perMode_x[car][man]=list()\n",
    "            \n",
    "# for car in carrierDF.Carrier.unique():\n",
    "#     for model in sameModel:\n",
    "#         tempDFs=carrierDF[(carrierDF.Carrier==car) & (carrierDF.Model==model)]\n",
    "#         man=list(tempDFs.Manufacture.unique())[0]\n",
    "#         for index, year in enumerate(importantCols): # traverse through each year\n",
    "#             yrBEG=tempDFs[year[0]].iloc[0]#.unique()[0]\n",
    "#             yrEND=tempDFs[year[1]].iloc[0]#.unique()[0]\n",
    "\n",
    "#             if yrBEG >= THE_START_OF_TIMELINE and yrEND < THE_END_OF_TIMELINE: #the particular year/session is fully within our timeline :)\n",
    "#                 tempDF=tempDFs[(tempDFs.Bulletin_Level >= yrBEG) & (tempDFs.Bulletin_Level < yrEND)] # only look at bulletins released during this time\n",
    "\n",
    "#                 actualUpdates=0\n",
    "#                 if len(tempDF)>0: # meaning an update was reported but if DF==0, it didn't fall within that year\n",
    "#                     for bul in tempDF.Bulletin_Level.unique():\n",
    "#                         tmp=tempDF[tempDF.Bulletin_Level==bul]\n",
    "#                         if len(tmp)>0: \n",
    "#                             actualUpdates+=1 # for each update  \n",
    "#                 frequencyPairs_perMode[car][man].append(actualUpdates) # add the frequency to the list\n",
    "#                 frequencyPairs_perMode_x[car][man].append(man) # add the frequency to the list\n",
    "\n",
    "\n",
    "                \n",
    "# data=[]             \n",
    "# totalCarrier={}\n",
    "# totalCarrier_xAxis={}\n",
    "# for car in carrierDF.Carrier.unique():\n",
    "#     totalCarrier[car]=list()\n",
    "#     totalCarrier_xAxis[car]=list()\n",
    "\n",
    "# for car in carrierDF.Carrier.unique():\n",
    "#     tmp=[]\n",
    "#     tmp_x=[]\n",
    "#     for man in sameManu:\n",
    "#         tmp.extend(frequencyPairs_perMode[car][man])\n",
    "#         tmp_x.extend(frequencyPairs_perMode_x[car][man])\n",
    "#     totalCarrier[car].extend(tmp.copy())\n",
    "#     totalCarrier_xAxis[car].extend(tmp_x.copy())\n",
    "\n",
    "    \n",
    "# for car in carrierDF.Carrier.unique():\n",
    "#     data.append(go.Box(\n",
    "#             x=totalCarrier_xAxis[car], # needs to be each manufacturer\n",
    "#             y=totalCarrier[car],\n",
    "#             name=str(car),\n",
    "#             marker=dict(color='rgb'+str(lvlColor[car])),\n",
    "#             #boxpoints = 'all',\n",
    "#         ))\n",
    "    \n",
    "# # Edit the layout\n",
    "# colorway=['rgb(60, 180, 75)', 'rgb(230, 25, 75)', 'rgb(0, 130, 200)', 'rgb(245, 130, 48)', 'rgb(145, 30, 180)', 'rgb(240, 50, 230)', 'rgb(0, 128, 128)', 'rgb(170, 110, 40)', 'rgb(0, 130, 200)', 'rgb(128, 128, 128)','rgb(128, 0, 0)', 'rgb(170, 255, 195)', 'rgb(128, 128, 0)', 'rgb(255, 215, 180)', 'rgb(0, 0, 128)', 'rgb(128, 128, 128)', 'rgb(255, 255, 255)','rgb(230, 25, 75)',  'rgb(0, 0, 0)','rgb(255, 225, 25)',  'rgb(255, 250, 200)', 'rgb(250, 190, 190)']\n",
    "# layout = dict(#title = \"Number of True Updates per 6 Month Period after Release per Manufacture \",\n",
    "#               yaxis = dict(title = '6-month Update Frequency',showgrid=True, gridcolor='rgb(219, 219, 219)'),\n",
    "#               #xaxis = dict(title = '6 Month Period',showgrid=True,zeroline=True,showline=True,zerolinecolor='#969696'),\n",
    "#               plot_bgcolor='rgba(0,0,0,0)',\n",
    "#               boxmode='group',\n",
    "#               colorway=colorway,\n",
    "#               legend_orientation=\"h\",\n",
    "#               legend=dict(x=0.6, y=1.15), # for pt 14, 0.025\n",
    "#               font=dict(size=20)\n",
    "#               )\n",
    "\n",
    "# fig = dict(data=data, layout=layout)\n",
    "# py.offline.iplot(fig, filename='release-years-frequency-per-carrier.png')\n",
    "\n",
    "# if not \"Verizon\" in carrierDF.Carrier.values and saveFigs==True: # only save if no Verizon\n",
    "#     pio.write_image(fig, 'freq-manu-carrier-pairs.pdf', width=1000, height=600)\n",
    "\n"
   ]
  },
  {
   "cell_type": "code",
   "execution_count": 18,
   "metadata": {},
   "outputs": [],
   "source": [
    "# # # print(carrierDF[carrierDF.Manufacture==\"Google\"])\n",
    "# print(carrierDF[carrierDF.Model.str.contains(\"G5\")])"
   ]
  },
  {
   "cell_type": "code",
   "execution_count": 19,
   "metadata": {},
   "outputs": [],
   "source": [
    "# # exception here\n",
    "\n",
    "# data=[]\n",
    "# total_updates={}\n",
    "# total_years={}\n",
    "\n",
    "# total_updates_wZeroes={}\n",
    "# total_years_wZeroes={}\n",
    "\n",
    "\n",
    "# for car in carrierDF.Carrier.unique():\n",
    "#     properList_update=[]\n",
    "#     properList_years=[]\n",
    "#     properList_update_wZeroes=[]\n",
    "#     properList_years_wZeroes=[]\n",
    "#     for yr in range(int(12/howManyMonths)*4):\n",
    "#         formatGood=\"th\"\n",
    "#         if yr==0:\n",
    "#             formatGood=\"st\"\n",
    "#         elif yr==1:\n",
    "#             formatGood=\"nd\"\n",
    "#         elif yr==2:\n",
    "#             formatGood=\"rd\"\n",
    "        \n",
    "        \n",
    "#         properList_update.extend(freqPointsCar[car][yr])\n",
    "#         properList_years.extend([str(yr+1)+formatGood for _ in range(len(freqPointsCar[car][yr]))]) #+\" period\"\n",
    "        \n",
    "#         properList_update_wZeroes.extend(freqPointsCarAllDevices[car][yr])\n",
    "#         properList_years_wZeroes.extend([str(yr+1)+formatGood for _ in range(len(freqPointsCarAllDevices[car][yr]))]) #+\" period\"\n",
    "#     total_updates[car]=properList_update.copy()\n",
    "#     total_years[car]=properList_years.copy()\n",
    "    \n",
    "#     total_updates_wZeroes[car]=properList_update_wZeroes.copy()\n",
    "#     total_years_wZeroes[car]=properList_years_wZeroes.copy()\n",
    "    \n",
    "    \n",
    "# # for car in carrierDF.Carrier.unique():\n",
    "# #     data.append(go.Box(\n",
    "# #             x=total_years[car],\n",
    "# #             y=total_updates[car],\n",
    "# #             name=str(car),\n",
    "# #             marker=dict(color='rgb'+str(lvlColor[car]))\n",
    "# #         ))\n",
    "\n",
    "# for car in carrierDF.Carrier.unique():\n",
    "#     data.append(go.Box(\n",
    "#             x=total_years_wZeroes[car],\n",
    "#             y=total_updates_wZeroes[car],\n",
    "#             name=str(car),\n",
    "#             marker=dict(color='rgb'+str(lvlColor[car]))\n",
    "#         ))\n",
    "\n",
    "    \n",
    "# # Edit the layout\n",
    "# layout = dict(#title = \"Number of Updates per 6 Month Period after Release per Carrier\",\n",
    "#               yaxis = dict(title = 'Number of Updates',showgrid=True, gridcolor='rgb(219, 219, 219)'),\n",
    "#               #xaxis = dict(title = '6 Month Period'),\n",
    "#               plot_bgcolor='rgba(0,0,0,0)',\n",
    "#               boxmode='group',\n",
    "#               violinmode='group',\n",
    "#               legend_orientation=\"h\",\n",
    "#               legend=dict(x=0.60, y=1.1),\n",
    "#               font=dict(size=20)\n",
    "#               )\n",
    "\n",
    "# fig = dict(data=data, layout=layout)\n",
    "# py.offline.iplot(fig, filename='release-years-frequency-per-carrier.png')\n",
    "\n",
    "\n",
    "# # if not \"Verizon\" in carrierDF.Carrier.values and saveFigs==True: # only save if no Verizon\n",
    "# #     pio.write_image(fig, 'carrier-number-updates-released-per-year.pdf', width=1000, height=600)\n"
   ]
  },
  {
   "cell_type": "code",
   "execution_count": 20,
   "metadata": {},
   "outputs": [],
   "source": [
    "# data=[]\n",
    "# total_updates={}\n",
    "# total_years={}\n",
    "# total_updates_wZeroes={}\n",
    "# total_years_wZeroes={}\n",
    "\n",
    "# #remove manufactures with only two or less phones\n",
    "# print(len(carrierDF.Manufacture.unique()))\n",
    "# normedMan=[]\n",
    "# for man in carrierDF.Manufacture.unique():\n",
    "#     temp=carrierDF[carrierDF.Manufacture==man]\n",
    "#     if len(temp.Model.unique())>2: # only include manfuactures with 3 or more phone models\n",
    "#         normedMan.append(man)\n",
    "\n",
    "        \n",
    "# importantMan=[]\n",
    "# for man in normedMan:\n",
    "#     properList_update=[]\n",
    "#     properList_years=[]\n",
    "    \n",
    "#     properList_update_wZeroes=[]\n",
    "#     properList_years_wZeroes=[]\n",
    "#     for yr in range(int(12/howManyMonths)*4):\n",
    "#         formatGood=\"th\"\n",
    "#         if yr==0:\n",
    "#             formatGood=\"st\"\n",
    "#         elif yr==1:\n",
    "#             formatGood=\"nd\"\n",
    "#         elif yr==2:\n",
    "#             formatGood=\"rd\"\n",
    "        \n",
    "        \n",
    "#         properList_update.extend(freqPointsManAllDevices[man][yr])\n",
    "#         properList_years.extend([str(yr+1)+formatGood for _ in range(len(freqPointsManAllDevices[man][yr]))]) # +\" period\"\n",
    "        \n",
    "#         properList_update_wZeroes.extend(freqPointsManAllDevices[man][yr])\n",
    "#         properList_years_wZeroes.extend([str(yr+1)+formatGood for _ in range(len(freqPointsManAllDevices[man][yr]))]) # +\" period\"\n",
    "#         importantMan.append(man)\n",
    "#     total_updates[man]=properList_update.copy()\n",
    "#     total_years[man]=properList_years.copy()\n",
    "    \n",
    "#     total_updates_wZeroes[man]=properList_update_wZeroes.copy()\n",
    "#     total_years_wZeroes[man]=properList_years_wZeroes.copy()\n",
    "    \n",
    "# importantMan=list(set(importantMan))\n",
    "    \n",
    "# # sort important manufactures based on number of updates\n",
    "# manLengths=[]\n",
    "# for man in importantMan:\n",
    "#     manLengths.append(len(carrierDF[carrierDF.Manufacture==man]))\n",
    "    \n",
    "# print(importantMan)\n",
    "# importantMan\n",
    "# manLengths\n",
    "\n",
    "# importantMan = [x for _,x in sorted(zip(manLengths,importantMan),reverse=True)]\n",
    "   \n",
    "# # for man in importantMan:\n",
    "# #     data.append(go.Box(\n",
    "# #             x=total_years[man],\n",
    "# #             y=total_updates[man],\n",
    "# #             name=str(man),\n",
    "# #             #marker=dict(color='rgb'+str(lvlColor[man]))\n",
    "# #         ))\n",
    "    \n",
    "# for man in importantMan: # per 6-month period instead\n",
    "#     data.append(go.Box(\n",
    "#             x=total_years_wZeroes[man],\n",
    "#             y=total_updates_wZeroes[man],\n",
    "#             name=str(man),\n",
    "#             #marker=dict(color='rgb'+str(lvlColor[man]))\n",
    "#         ))\n",
    "\n",
    "# # Edit the layout\n",
    "# colorway=['rgb(60, 180, 75)', 'rgb(230, 25, 75)', 'rgb(0, 130, 200)', 'rgb(245, 130, 48)', 'rgb(145, 30, 180)', 'rgb(240, 50, 230)', 'rgb(0, 128, 128)', 'rgb(170, 110, 40)', 'rgb(0, 130, 200)', 'rgb(128, 128, 128)','rgb(128, 0, 0)', 'rgb(170, 255, 195)', 'rgb(128, 128, 0)', 'rgb(255, 215, 180)', 'rgb(0, 0, 128)', 'rgb(128, 128, 128)', 'rgb(255, 255, 255)','rgb(230, 25, 75)',  'rgb(0, 0, 0)','rgb(255, 225, 25)',  'rgb(255, 250, 200)', 'rgb(250, 190, 190)']\n",
    "# layout = dict(#title = \"Number of True Updates per 6 Month Period after Release per Manufacture \",\n",
    "#               yaxis = dict(title = 'Number of Updates',showgrid=True, gridcolor='rgb(219, 219, 219)'),\n",
    "#               #xaxis = dict(title = '6 Month Period',showgrid=True,zeroline=True,showline=True,zerolinecolor='#969696'),\n",
    "#               plot_bgcolor='rgba(0,0,0,0)',\n",
    "#               boxmode='group',\n",
    "#               colorway=colorway,\n",
    "#               legend_orientation=\"h\",\n",
    "#               legend=dict(x=0.2, y=1.15), # for pt 14, 0.025\n",
    "#               font=dict(size=14)\n",
    "#               )\n",
    "\n",
    "# fig = dict(data=data, layout=layout)\n",
    "# py.offline.iplot(fig, filename='release-years-frequency-per-carrier.png')\n",
    "\n",
    "# print(\"REMEMBER TO TAKE OUT VERIZON\")\n",
    "# print(\"REMEMBER TO TAKE OUT VERIZON\")\n",
    "# print(\"REMEMBER TO TAKE OUT VERIZON\")\n",
    "\n",
    "# # if not \"Verizon\" in carrierDF.Carrier.values and saveFigs==True: # only save if no Verizon\n",
    "# #     pio.write_image(fig, 'test-manufacture-freq.pdf', width=1100, height=600)"
   ]
  },
  {
   "cell_type": "code",
   "execution_count": 21,
   "metadata": {},
   "outputs": [],
   "source": [
    "###################### Manufacturers over time - two subplots ###################### \n",
    "####################################################################################\n",
    "\n",
    "# data=[]\n",
    "# total_updates={}\n",
    "# total_years={}\n",
    "\n",
    "# #remove manufactures with only two or less phones\n",
    "# print(len(carrierDF.Manufacture.unique()))\n",
    "# normedMan=[]\n",
    "# for man in carrierDF.Manufacture.unique():\n",
    "#     temp=carrierDF[carrierDF.Manufacture==man]\n",
    "#     if len(temp.Model.unique())>2: # only include manfuactures with 3 or more phone models\n",
    "#         normedMan.append(man)\n",
    "\n",
    "        \n",
    "# importantMan=[]\n",
    "# for man in normedMan:\n",
    "#     properList_update=[]\n",
    "#     properList_years=[]\n",
    "    \n",
    "#     properList_update_wZeroes=[]\n",
    "#     properList_years_wZeroes=[]\n",
    "#     for yr in range(int(12/howManyMonths)*4):\n",
    "#         formatGood=\"th\"\n",
    "#         if yr==0:\n",
    "#             formatGood=\"st\"\n",
    "#         elif yr==1:\n",
    "#             formatGood=\"nd\"\n",
    "#         elif yr==2:\n",
    "#             formatGood=\"rd\"\n",
    "        \n",
    "        \n",
    "#         properList_update.extend(freqPointsManAllDevices[man][yr])\n",
    "#         properList_years.extend([str(yr+1)+formatGood for _ in range(len(freqPointsManAllDevices[man][yr]))]) # +\" period\"\n",
    "        \n",
    "#         properList_update_wZeroes.extend(freqPointsManAllDevices[man][yr])\n",
    "#         properList_years_wZeroes.extend([str(yr+1)+formatGood for _ in range(len(freqPointsManAllDevices[man][yr]))]) # +\" period\"\n",
    "#         importantMan.append(man)\n",
    "#     total_updates[man]=properList_update.copy()\n",
    "#     total_years[man]=properList_years.copy()\n",
    "    \n",
    "#     total_updates_wZeroes[man]=properList_update_wZeroes.copy()\n",
    "#     total_years_wZeroes[man]=properList_years_wZeroes.copy()\n",
    "    \n",
    "# importantMan=list(set(importantMan))\n",
    "    \n",
    "# # sort important manufactures based on number of updates\n",
    "# manLengths=[]\n",
    "# for man in importantMan:\n",
    "#     manLengths.append(len(carrierDF[carrierDF.Manufacture==man]))\n",
    "    \n",
    "# print(importantMan)\n",
    "# importantMan\n",
    "# manLengths\n",
    "\n",
    "# importantMan = [x for _,x in sorted(zip(manLengths,importantMan),reverse=True)]\n",
    "   \n",
    "# # for man in importantMan:\n",
    "# #     data.append(go.Box(\n",
    "# #             x=total_years[man],\n",
    "# #             y=total_updates[man],\n",
    "# #             name=str(man),\n",
    "# #             #marker=dict(color='rgb'+str(lvlColor[man]))\n",
    "# #         ))\n",
    "    \n",
    "# twoPlots=int(len(importantMan)/2)\n",
    "# twoPlots=[twoPlots,len(importantMan)]\n",
    "# print(twoPlots)\n",
    "\n",
    "# from plotly.subplots import make_subplots\n",
    "# # exception here\n",
    "# fig = make_subplots(rows=2)\n",
    "\n",
    "# colorway=['rgb(60, 180, 75)', 'rgb(230, 25, 75)', 'rgb(0, 130, 200)', 'rgb(245, 130, 48)', 'rgb(145, 30, 180)', 'rgb(240, 50, 230)', 'rgb(0, 128, 128)', 'rgb(170, 110, 40)', 'rgb(0, 130, 200)', 'rgb(128, 128, 128)','rgb(128, 0, 0)', 'rgb(170, 255, 195)', 'rgb(128, 128, 0)', 'rgb(255, 215, 180)', 'rgb(0, 0, 128)', 'rgb(128, 128, 128)', 'rgb(255, 255, 255)','rgb(230, 25, 75)',  'rgb(0, 0, 0)','rgb(255, 225, 25)',  'rgb(255, 250, 200)', 'rgb(250, 190, 190)']\n",
    "\n",
    "# for index,man in enumerate(importantMan):\n",
    "#     if index<twoPlots[0]: # for the first five manufactures\n",
    "#         formatting=index\n",
    "#         fig.add_box(x=total_years_wZeroes[man], y=total_updates_wZeroes[man], name=str(man), marker_color = colorway[index],offsetgroup=formatting, row=1, col=1)\n",
    "#         #fig.add_trace(go.Box(x=total_years_wZeroes[man], y=total_updates_wZeroes[man], name=str(man)), 1, 1)\n",
    "#     else:\n",
    "#         formatting=index-twoPlots[0]\n",
    "#         fig.add_box(x=total_years_wZeroes[man], y=total_updates_wZeroes[man], name=str(man), marker_color = colorway[index],offsetgroup=formatting, row=2, col=1)\n",
    "#         #fig.add_trace(go.Box(x=total_years_wZeroes[man], y=total_updates_wZeroes[man], name=str(man)), 2, 2)\n",
    "        \n",
    "        \n",
    "# fig.update_layout(yaxis_title='Number of Updates',boxmode='group',colorway=colorway,font=dict(size=14),legend_orientation=\"h\",legend=dict(x=0, y=1.15))\n",
    "# fig.show()\n",
    "\n",
    "        \n",
    "\n",
    "        \n",
    "\n",
    "# # Edit the layout\n",
    "\n",
    "# # layout = dict(#title = \"Number of True Updates per 6 Month Period after Release per Manufacture \",\n",
    "# #               yaxis = dict(title = 'Number of Updates',showgrid=True, gridcolor='rgb(219, 219, 219)'),\n",
    "# #               #xaxis = dict(title = '6 Month Period',showgrid=True,zeroline=True,showline=True,zerolinecolor='#969696'),\n",
    "# #               plot_bgcolor='rgba(0,0,0,0)',\n",
    "# #               boxmode='group',\n",
    "# #               colorway=colorway,\n",
    "# #               legend_orientation=\"h\",\n",
    "# #               legend=dict(x=0.2, y=1.15), # for pt 14, 0.025\n",
    "# #               font=dict(size=14)\n",
    "# #               )\n",
    "\n",
    "# # fig = dict(data=data, layout=layout)\n",
    "# # py.offline.iplot(fig, filename='release-years-frequency-per-carrier.png')\n",
    "\n",
    "# # # print(\"REMEMBER TO TAKE OUT VERIZON\")\n",
    "# # # print(\"REMEMBER TO TAKE OUT VERIZON\")\n",
    "# # # print(\"REMEMBER TO TAKE OUT VERIZON\")\n",
    "\n",
    "# # # if not \"Verizon\" in carrierDF.Carrier.values and saveFigs==True: # only save if no Verizon\n",
    "# # #     pio.write_image(fig, 'test-manufacture-freq.pdf', width=1100, height=600)\n",
    "\n"
   ]
  },
  {
   "cell_type": "code",
   "execution_count": 22,
   "metadata": {},
   "outputs": [],
   "source": [
    "###################### Manufacturers over time - table ######################\n",
    "#############################################################################\n",
    "\n",
    "# # Graph the mean and standard deviation for manufactures per 6-month period\n",
    "\n",
    "# # pandas dataframe with\n",
    "#     # device manufacture\n",
    "#     # device name\n",
    "#     # 8 columns for each 6-month period\n",
    "#     # each column would be the mean and std dev\n",
    "\n",
    "# columnNames=['Manufacture','0','1','2','3','4','5','6','7']\n",
    "# newDF=[]\n",
    "# for man in importantMan:\n",
    "#     manRow=[man]\n",
    "#     for yr in range(int(12/6)*4):\n",
    "#         if len(freqPointsMan[man][yr])==0:\n",
    "#             manRow.append([0,0])\n",
    "#         else:\n",
    "#             manRow.append(freqPointsMan[man][yr])\n",
    "#     newDF.append(manRow)\n",
    "\n",
    "# newDF=pd.DataFrame(newDF, columns=columnNames)\n",
    "# # print(newDF.head())\n",
    "\n",
    "# colsOfInterest=[\"Manufacture\"]\n",
    "# stndOnly=[\"Manufacture\"]\n",
    "# stndOnlyfrmt=[\"Manufacture\"]\n",
    "# troubleshooting=[\"Manufacture\"]\n",
    "\n",
    "# for yr in range(int(12/6)*4): # per column, calculate the mean and standard dev\n",
    "#     newDF[str(yr+1)+\"_mean\"]=newDF[str(yr)].apply(lambda x: round(statistics.mean(x),2))\n",
    "#     newDF[str(yr+1)+\"_strd\"]=[round(statistics.stdev(x),2) if len(x)>1 else \"\" for x in newDF[str(yr)]]\n",
    "#     newDF[str(yr+1)+\"_var\"]=[round(statistics.variance(x),2) if len(x)>1 else \"\" for x in newDF[str(yr)]]\n",
    "#     newDF[str(yr+1)+\"_mnANDstrd\"]=newDF[str(yr+1)+\"_mean\"].map(str)+\"±\"+newDF[str(yr+1)+\"_strd\"].map(str)\n",
    "#     newDF[str(yr+1)+\"_troubleshooting\"]=[len(x) for x in newDF[str(yr)]]\n",
    "    \n",
    "    \n",
    "# #     colsOfInterest.append(str(yr)+\"_mean\")\n",
    "# #     colsOfInterest.append(str(yr)+\"_strd\")\n",
    "#     formatting=\"th\"\n",
    "#     if yr+1==1:\n",
    "#         formatting=\"st\"\n",
    "#     elif yr+1==2:\n",
    "#         formatting=\"nd\"\n",
    "#     elif yr+1==3:\n",
    "#         formatting=\"rd\"\n",
    "\n",
    "        \n",
    "#     colsOfInterest.append(str(yr+1)+\"_mnANDstrd\")\n",
    "#     stndOnly.append(colsOfInterest[-1])\n",
    "    \n",
    "#     colsOfInterest.append(str(yr+1)+\"_var\")\n",
    "#     stndOnlyfrmt.append(str(yr+1)+str(formatting))\n",
    "#     troubleshooting.append(str(yr+1)+\"_troubleshooting\")\n",
    "\n",
    "# # print(newDF.loc[:,colsOfInterest])\n",
    "# temp=newDF.loc[:,stndOnly]\n",
    "# temp.columns=stndOnlyfrmt\n",
    "# print(temp)\n",
    "# print(newDF.loc[:,troubleshooting])"
   ]
  },
  {
   "cell_type": "code",
   "execution_count": 23,
   "metadata": {
    "scrolled": false
   },
   "outputs": [],
   "source": [
    "# data=[]\n",
    "# total_updates={}\n",
    "# total_years={}\n",
    "\n",
    "\n",
    "# for man in carrierDF.Manufacture.unique():\n",
    "#     properList_update=[]\n",
    "#     properList_years=[]\n",
    "#     for yr in range(int(12/howManyMonths)*4):\n",
    "#         if len(freqPointsMan[man][yr])<1:\n",
    "#             properList_update.append(0)\n",
    "#         else:\n",
    "#             properList_update.append(statistics.mean(freqPointsMan[man][yr]))\n",
    "#         properList_years.append(yr+1)\n",
    "#     total_updates[man]=properList_update.copy()\n",
    "#     total_years[man]=properList_years.copy()\n",
    "\n",
    "\n",
    "\n",
    "    \n",
    "# for man in carrierDF.Manufacture.unique():\n",
    "#     data.append(go.Bar(\n",
    "#             x=total_years[man],\n",
    "#             y=total_updates[man],\n",
    "#             name=str(man),\n",
    "#             marker=dict(color='rgb'+str(lvlColor[man]))\n",
    "#         ))\n",
    "\n",
    "# # Edit the layout\n",
    "# layout = dict(title = \"Average Number of True Updates per 6 Month Period after Release per Manufacture\",\n",
    "#               yaxis = dict(title = 'Number of Updates per Phone Model',showgrid=True, gridcolor='rgb(219, 219, 219)'),\n",
    "#               xaxis = dict(title = '6 Month Periods Since Mobile Release'),\n",
    "#               plot_bgcolor='rgba(0,0,0,0)',\n",
    "#               boxmode='group',\n",
    "#               violinmode='group'\n",
    "\n",
    "#               )\n",
    "\n",
    "# fig = dict(data=data, layout=layout)\n",
    "# py.offline.iplot(fig, filename='release-years-frequency-per-carrier.png')\n",
    "# print(\"REMEMBER TO TAKE OUT VERIZON\")\n",
    "# print(\"REMEMBER TO TAKE OUT VERIZON\")\n",
    "# print(\"REMEMBER TO TAKE OUT VERIZON\")"
   ]
  },
  {
   "cell_type": "code",
   "execution_count": null,
   "metadata": {},
   "outputs": [],
   "source": []
  }
 ],
 "metadata": {
  "kernelspec": {
   "display_name": "Python 3",
   "language": "python",
   "name": "python3"
  },
  "language_info": {
   "codemirror_mode": {
    "name": "ipython",
    "version": 3
   },
   "file_extension": ".py",
   "mimetype": "text/x-python",
   "name": "python",
   "nbconvert_exporter": "python",
   "pygments_lexer": "ipython3",
   "version": "3.6.10"
  }
 },
 "nbformat": 4,
 "nbformat_minor": 2
}
