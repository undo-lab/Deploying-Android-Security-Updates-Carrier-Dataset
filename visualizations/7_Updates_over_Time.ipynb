{
 "cells": [
  {
   "cell_type": "code",
   "execution_count": 1,
   "metadata": {},
   "outputs": [
    {
     "data": {
      "text/html": [
       "        <script type=\"text/javascript\">\n",
       "        window.PlotlyConfig = {MathJaxConfig: 'local'};\n",
       "        if (window.MathJax) {MathJax.Hub.Config({SVG: {font: \"STIX-Web\"}});}\n",
       "        if (typeof require !== 'undefined') {\n",
       "        require.undef(\"plotly\");\n",
       "        requirejs.config({\n",
       "            paths: {\n",
       "                'plotly': ['https://cdn.plot.ly/plotly-latest.min']\n",
       "            }\n",
       "        });\n",
       "        require(['plotly'], function(Plotly) {\n",
       "            window._Plotly = Plotly;\n",
       "        });\n",
       "        }\n",
       "        </script>\n",
       "        "
      ]
     },
     "metadata": {},
     "output_type": "display_data"
    },
    {
     "name": "stdout",
     "output_type": "stream",
     "text": [
      "  Carrier Manufacture               Model Release_Date Bulletin_Level  \\\n",
      "0    AT&T     Alcatel  Alcatel IdealXCITE   2018-04-03     2018-02-01   \n",
      "1    AT&T     Alcatel  Alcatel IdealXCITE   2018-04-03     2018-04-01   \n",
      "2    AT&T     Alcatel  Alcatel IdealXCITE   2018-10-24     2018-08-01   \n",
      "3    AT&T     Alcatel  Alcatel IdealXCITE   2018-12-18     2018-10-01   \n",
      "4    AT&T  BlackBerry   BlackBerry KEYone   2017-09-26     2017-09-01   \n",
      "\n",
      "   difference Android_Level_Guessed  \\\n",
      "0        61.0                 False   \n",
      "1         2.0                  True   \n",
      "2        84.0                 False   \n",
      "3        78.0                 False   \n",
      "4        25.0                 False   \n",
      "\n",
      "                                               build  Year_Phone_Release  \\\n",
      "0        JO.2.0.c1-00150-8909_GEN_PACK-1 nan YAMUAM0                2017   \n",
      "1                                nan YB4UA40File nan                2017   \n",
      "2        JO.2.0.c1-00267-8909_GEN_PACK-2 nan YAYUAY0                2017   \n",
      "3        JO.2.0.c1-00267-8909_GEN_PACK-2 YB3UA30 nan                2017   \n",
      "4  MPSS.TA.2.3.c1-00333-8953_GEN_PACK-1.103777.4....                2017   \n",
      "\n",
      "   Month_Phone_Release  checker  \n",
      "0                    6        5  \n",
      "1                    6        1  \n",
      "2                    6        1  \n",
      "3                    6        5  \n",
      "4                    4        5  \n"
     ]
    }
   ],
   "source": [
    "# Answering question, has security update posture improved over time?\n",
    "\n",
    "import pandas as pd\n",
    "import numpy as np\n",
    "import researchpy # pip install researchpy\n",
    "import statistics\n",
    "import re \n",
    "import plotly as py\n",
    "import plotly.graph_objs as go\n",
    "py.offline.init_notebook_mode(connected=True)\n",
    "import plotly.io as pio\n",
    "%config InlineBackend.figure_format = 'svg'\n",
    "\n",
    "carrierDF=pd.read_csv('../data/allCarrierData_final.csv')\n",
    "carrierDF.Manufacture=carrierDF.Manufacture.str.replace(\"Samgung\",\"Samsung\")\n",
    "carrierDF.difference=carrierDF.difference.astype('float')\n",
    "print(carrierDF.head())"
   ]
  },
  {
   "cell_type": "code",
   "execution_count": 2,
   "metadata": {},
   "outputs": [
    {
     "name": "stdout",
     "output_type": "stream",
     "text": [
      "[2016 2017 2018 2019]\n",
      "2016\n",
      "Total Updates: 58\n",
      "Unique Devices: 19\n",
      "      Average Update per Device: 3.052\n",
      "Unique Bulletins: 10\n",
      "[74. 13. 46. 89.  4.]\n",
      "------------------------------------------------------------------------\n",
      "2017\n",
      "Total Updates: 92\n",
      "Unique Devices: 19\n",
      "      Average Update per Device: 4.842\n",
      "Unique Bulletins: 11\n",
      "[25. 30. 14. 26. 21.]\n",
      "------------------------------------------------------------------------\n",
      "2018\n",
      "Total Updates: 102\n",
      "Unique Devices: 30\n",
      "      Average Update per Device: 3.4\n",
      "Unique Bulletins: 12\n",
      "[101.  85.  24.  26.  25.]\n",
      "------------------------------------------------------------------------\n",
      "2019\n",
      "Total Updates: 70\n",
      "Unique Devices: 22\n",
      "      Average Update per Device: 3.181\n",
      "Unique Bulletins: 12\n",
      "[16.  7. 16. 24. 18.]\n",
      "------------------------------------------------------------------------\n"
     ]
    }
   ],
   "source": [
    "# Number of bulletins per year for a phone\n",
    "carrierDF=carrierDF[carrierDF.Carrier!=\"Verizon\"]\n",
    "allYears=carrierDF.Year_Phone_Release.unique()\n",
    "allYears=np.sort(allYears)\n",
    "allYears=np.delete(allYears,0)\n",
    "allYears=np.delete(allYears,0)\n",
    "allYears=np.delete(allYears,0)\n",
    "print(allYears)\n",
    "carrierDF['Bulletin_Level_Year']=carrierDF.Bulletin_Level.apply(lambda x: str(x)[:4])\n",
    "carrierDF['Release_Year']=carrierDF.Bulletin_Level.apply(lambda x: str(x)[:4])\n",
    "carrierDF['Bulletin_Level_Year']=carrierDF['Bulletin_Level_Year'].astype(int)\n",
    "carrierDF['Release_Year']=carrierDF['Release_Year'].astype(int)\n",
    "\n",
    "perRelease={}\n",
    "for year in allYears:\n",
    "    perRelease[year]=[]\n",
    "    \n",
    "for index,year in enumerate(allYears):\n",
    "    print(year)\n",
    "    tmp=carrierDF[carrierDF.Year_Phone_Release==year] # for each phone model released in proper year\n",
    "    tmp=tmp[tmp.Bulletin_Level_Year==year] # all bulletins applied in same year (treating as original)\n",
    "    tmp=tmp[tmp.Release_Year==year] # only looking at true updates (remove all updates released outside the year)\n",
    "    print(\"Total Updates: \"+str(len(tmp)))\n",
    "    print(\"Unique Devices: \"+str(len(tmp.Model.unique()))) \n",
    "    print(\"      Average Update per Device: \"+str(len(tmp)/len(tmp.Model.unique()))[:5])\n",
    "    print(\"Unique Bulletins: \"+str(len(tmp.Bulletin_Level.unique())))  \n",
    "    perRelease[year]=tmp.difference.values\n",
    "    print(perRelease[year][:5])\n",
    "    print(\"------------------------------------------------------------------------\")\n"
   ]
  },
  {
   "cell_type": "code",
   "execution_count": 3,
   "metadata": {},
   "outputs": [
    {
     "name": "stdout",
     "output_type": "stream",
     "text": [
      "2016\n",
      "21.517241379310345\n",
      "\n",
      "2017\n",
      "20.456521739130434\n",
      "\n",
      "2018\n",
      "25.519607843137255\n",
      "\n",
      "2019\n",
      "19.228571428571428\n",
      "\n"
     ]
    },
    {
     "data": {
      "application/vnd.plotly.v1+json": {
       "config": {
        "linkText": "Export to plot.ly",
        "plotlyServerURL": "https://plot.ly",
        "showLink": false
       },
       "data": [
        {
         "boxpoints": "all",
         "name": "2016",
         "type": "box",
         "y": [
          74,
          13,
          46,
          89,
          4,
          29,
          61,
          40,
          26,
          38,
          17,
          38,
          17,
          17,
          11,
          16,
          24,
          25,
          38,
          17,
          8,
          30,
          1,
          30,
          8,
          26,
          20,
          13,
          26,
          20,
          28,
          0,
          6,
          16,
          12,
          14,
          23,
          26,
          18,
          30,
          29,
          9,
          27,
          20,
          18,
          16,
          3,
          3,
          7,
          26,
          4,
          16,
          3,
          7,
          26,
          4,
          15,
          20
         ]
        },
        {
         "boxpoints": "all",
         "name": "2017",
         "type": "box",
         "y": [
          25,
          30,
          14,
          26,
          21,
          5,
          18,
          31,
          0,
          30,
          41,
          17,
          17,
          55,
          24,
          44,
          33,
          27,
          20,
          43,
          21,
          19,
          20,
          38,
          37,
          26,
          8,
          20,
          43,
          21,
          19,
          20,
          38,
          37,
          26,
          26,
          61,
          24,
          41,
          29,
          26,
          2,
          20,
          11,
          28,
          17,
          6,
          9,
          1,
          23,
          9,
          1,
          19,
          14,
          4,
          50,
          27,
          37,
          17,
          6,
          14,
          23,
          5,
          20,
          6,
          12,
          19,
          0,
          25,
          1,
          5,
          13,
          30,
          20,
          33,
          12,
          21,
          9,
          36,
          24,
          6,
          14,
          15,
          20,
          19,
          0,
          5,
          7,
          20,
          19,
          0,
          7
         ]
        },
        {
         "boxpoints": "all",
         "name": "2018",
         "type": "box",
         "y": [
          101,
          85,
          24,
          26,
          25,
          17,
          30,
          28,
          41,
          24,
          5,
          61,
          0,
          18,
          5,
          19,
          59,
          53,
          38,
          15,
          23,
          15,
          15,
          50,
          44,
          26,
          23,
          26,
          24,
          28,
          29,
          32,
          16,
          26,
          16,
          58,
          25,
          18,
          28,
          14,
          39,
          48,
          35,
          20,
          36,
          19,
          18,
          16,
          35,
          20,
          19,
          16,
          34,
          32,
          17,
          2,
          14,
          26,
          55,
          26,
          33,
          17,
          7,
          47,
          0,
          10,
          2,
          40,
          47,
          52,
          51,
          32,
          4,
          26,
          19,
          23,
          18,
          15,
          15,
          15,
          21,
          19,
          43,
          21,
          36,
          12,
          20,
          7,
          16,
          20,
          3,
          15,
          15,
          12,
          20,
          7,
          16,
          20,
          3,
          15,
          33,
          19
         ]
        },
        {
         "boxpoints": "all",
         "name": "2019",
         "type": "box",
         "y": [
          16,
          7,
          16,
          24,
          18,
          18,
          21,
          14,
          27,
          31,
          18,
          16,
          52,
          9,
          53,
          20,
          26,
          15,
          16,
          26,
          15,
          16,
          26,
          15,
          16,
          29,
          -6,
          29,
          -6,
          21,
          27,
          35,
          24,
          41,
          0,
          8,
          44,
          19,
          20,
          42,
          22,
          21,
          44,
          0,
          19,
          19,
          10,
          0,
          0,
          19,
          19,
          10,
          0,
          5,
          7,
          15,
          27,
          8,
          16,
          6,
          14,
          7,
          38,
          15,
          39,
          28,
          16,
          11,
          14,
          39
         ]
        }
       ],
       "layout": {
        "plot_bgcolor": "rgba(0,0,0,0)",
        "template": {
         "data": {
          "bar": [
           {
            "error_x": {
             "color": "#2a3f5f"
            },
            "error_y": {
             "color": "#2a3f5f"
            },
            "marker": {
             "line": {
              "color": "#E5ECF6",
              "width": 0.5
             }
            },
            "type": "bar"
           }
          ],
          "barpolar": [
           {
            "marker": {
             "line": {
              "color": "#E5ECF6",
              "width": 0.5
             }
            },
            "type": "barpolar"
           }
          ],
          "carpet": [
           {
            "aaxis": {
             "endlinecolor": "#2a3f5f",
             "gridcolor": "white",
             "linecolor": "white",
             "minorgridcolor": "white",
             "startlinecolor": "#2a3f5f"
            },
            "baxis": {
             "endlinecolor": "#2a3f5f",
             "gridcolor": "white",
             "linecolor": "white",
             "minorgridcolor": "white",
             "startlinecolor": "#2a3f5f"
            },
            "type": "carpet"
           }
          ],
          "choropleth": [
           {
            "colorbar": {
             "outlinewidth": 0,
             "ticks": ""
            },
            "type": "choropleth"
           }
          ],
          "contour": [
           {
            "colorbar": {
             "outlinewidth": 0,
             "ticks": ""
            },
            "colorscale": [
             [
              0,
              "#0d0887"
             ],
             [
              0.1111111111111111,
              "#46039f"
             ],
             [
              0.2222222222222222,
              "#7201a8"
             ],
             [
              0.3333333333333333,
              "#9c179e"
             ],
             [
              0.4444444444444444,
              "#bd3786"
             ],
             [
              0.5555555555555556,
              "#d8576b"
             ],
             [
              0.6666666666666666,
              "#ed7953"
             ],
             [
              0.7777777777777778,
              "#fb9f3a"
             ],
             [
              0.8888888888888888,
              "#fdca26"
             ],
             [
              1,
              "#f0f921"
             ]
            ],
            "type": "contour"
           }
          ],
          "contourcarpet": [
           {
            "colorbar": {
             "outlinewidth": 0,
             "ticks": ""
            },
            "type": "contourcarpet"
           }
          ],
          "heatmap": [
           {
            "colorbar": {
             "outlinewidth": 0,
             "ticks": ""
            },
            "colorscale": [
             [
              0,
              "#0d0887"
             ],
             [
              0.1111111111111111,
              "#46039f"
             ],
             [
              0.2222222222222222,
              "#7201a8"
             ],
             [
              0.3333333333333333,
              "#9c179e"
             ],
             [
              0.4444444444444444,
              "#bd3786"
             ],
             [
              0.5555555555555556,
              "#d8576b"
             ],
             [
              0.6666666666666666,
              "#ed7953"
             ],
             [
              0.7777777777777778,
              "#fb9f3a"
             ],
             [
              0.8888888888888888,
              "#fdca26"
             ],
             [
              1,
              "#f0f921"
             ]
            ],
            "type": "heatmap"
           }
          ],
          "heatmapgl": [
           {
            "colorbar": {
             "outlinewidth": 0,
             "ticks": ""
            },
            "colorscale": [
             [
              0,
              "#0d0887"
             ],
             [
              0.1111111111111111,
              "#46039f"
             ],
             [
              0.2222222222222222,
              "#7201a8"
             ],
             [
              0.3333333333333333,
              "#9c179e"
             ],
             [
              0.4444444444444444,
              "#bd3786"
             ],
             [
              0.5555555555555556,
              "#d8576b"
             ],
             [
              0.6666666666666666,
              "#ed7953"
             ],
             [
              0.7777777777777778,
              "#fb9f3a"
             ],
             [
              0.8888888888888888,
              "#fdca26"
             ],
             [
              1,
              "#f0f921"
             ]
            ],
            "type": "heatmapgl"
           }
          ],
          "histogram": [
           {
            "marker": {
             "colorbar": {
              "outlinewidth": 0,
              "ticks": ""
             }
            },
            "type": "histogram"
           }
          ],
          "histogram2d": [
           {
            "colorbar": {
             "outlinewidth": 0,
             "ticks": ""
            },
            "colorscale": [
             [
              0,
              "#0d0887"
             ],
             [
              0.1111111111111111,
              "#46039f"
             ],
             [
              0.2222222222222222,
              "#7201a8"
             ],
             [
              0.3333333333333333,
              "#9c179e"
             ],
             [
              0.4444444444444444,
              "#bd3786"
             ],
             [
              0.5555555555555556,
              "#d8576b"
             ],
             [
              0.6666666666666666,
              "#ed7953"
             ],
             [
              0.7777777777777778,
              "#fb9f3a"
             ],
             [
              0.8888888888888888,
              "#fdca26"
             ],
             [
              1,
              "#f0f921"
             ]
            ],
            "type": "histogram2d"
           }
          ],
          "histogram2dcontour": [
           {
            "colorbar": {
             "outlinewidth": 0,
             "ticks": ""
            },
            "colorscale": [
             [
              0,
              "#0d0887"
             ],
             [
              0.1111111111111111,
              "#46039f"
             ],
             [
              0.2222222222222222,
              "#7201a8"
             ],
             [
              0.3333333333333333,
              "#9c179e"
             ],
             [
              0.4444444444444444,
              "#bd3786"
             ],
             [
              0.5555555555555556,
              "#d8576b"
             ],
             [
              0.6666666666666666,
              "#ed7953"
             ],
             [
              0.7777777777777778,
              "#fb9f3a"
             ],
             [
              0.8888888888888888,
              "#fdca26"
             ],
             [
              1,
              "#f0f921"
             ]
            ],
            "type": "histogram2dcontour"
           }
          ],
          "mesh3d": [
           {
            "colorbar": {
             "outlinewidth": 0,
             "ticks": ""
            },
            "type": "mesh3d"
           }
          ],
          "parcoords": [
           {
            "line": {
             "colorbar": {
              "outlinewidth": 0,
              "ticks": ""
             }
            },
            "type": "parcoords"
           }
          ],
          "pie": [
           {
            "automargin": true,
            "type": "pie"
           }
          ],
          "scatter": [
           {
            "marker": {
             "colorbar": {
              "outlinewidth": 0,
              "ticks": ""
             }
            },
            "type": "scatter"
           }
          ],
          "scatter3d": [
           {
            "line": {
             "colorbar": {
              "outlinewidth": 0,
              "ticks": ""
             }
            },
            "marker": {
             "colorbar": {
              "outlinewidth": 0,
              "ticks": ""
             }
            },
            "type": "scatter3d"
           }
          ],
          "scattercarpet": [
           {
            "marker": {
             "colorbar": {
              "outlinewidth": 0,
              "ticks": ""
             }
            },
            "type": "scattercarpet"
           }
          ],
          "scattergeo": [
           {
            "marker": {
             "colorbar": {
              "outlinewidth": 0,
              "ticks": ""
             }
            },
            "type": "scattergeo"
           }
          ],
          "scattergl": [
           {
            "marker": {
             "colorbar": {
              "outlinewidth": 0,
              "ticks": ""
             }
            },
            "type": "scattergl"
           }
          ],
          "scattermapbox": [
           {
            "marker": {
             "colorbar": {
              "outlinewidth": 0,
              "ticks": ""
             }
            },
            "type": "scattermapbox"
           }
          ],
          "scatterpolar": [
           {
            "marker": {
             "colorbar": {
              "outlinewidth": 0,
              "ticks": ""
             }
            },
            "type": "scatterpolar"
           }
          ],
          "scatterpolargl": [
           {
            "marker": {
             "colorbar": {
              "outlinewidth": 0,
              "ticks": ""
             }
            },
            "type": "scatterpolargl"
           }
          ],
          "scatterternary": [
           {
            "marker": {
             "colorbar": {
              "outlinewidth": 0,
              "ticks": ""
             }
            },
            "type": "scatterternary"
           }
          ],
          "surface": [
           {
            "colorbar": {
             "outlinewidth": 0,
             "ticks": ""
            },
            "colorscale": [
             [
              0,
              "#0d0887"
             ],
             [
              0.1111111111111111,
              "#46039f"
             ],
             [
              0.2222222222222222,
              "#7201a8"
             ],
             [
              0.3333333333333333,
              "#9c179e"
             ],
             [
              0.4444444444444444,
              "#bd3786"
             ],
             [
              0.5555555555555556,
              "#d8576b"
             ],
             [
              0.6666666666666666,
              "#ed7953"
             ],
             [
              0.7777777777777778,
              "#fb9f3a"
             ],
             [
              0.8888888888888888,
              "#fdca26"
             ],
             [
              1,
              "#f0f921"
             ]
            ],
            "type": "surface"
           }
          ],
          "table": [
           {
            "cells": {
             "fill": {
              "color": "#EBF0F8"
             },
             "line": {
              "color": "white"
             }
            },
            "header": {
             "fill": {
              "color": "#C8D4E3"
             },
             "line": {
              "color": "white"
             }
            },
            "type": "table"
           }
          ]
         },
         "layout": {
          "annotationdefaults": {
           "arrowcolor": "#2a3f5f",
           "arrowhead": 0,
           "arrowwidth": 1
          },
          "coloraxis": {
           "colorbar": {
            "outlinewidth": 0,
            "ticks": ""
           }
          },
          "colorscale": {
           "diverging": [
            [
             0,
             "#8e0152"
            ],
            [
             0.1,
             "#c51b7d"
            ],
            [
             0.2,
             "#de77ae"
            ],
            [
             0.3,
             "#f1b6da"
            ],
            [
             0.4,
             "#fde0ef"
            ],
            [
             0.5,
             "#f7f7f7"
            ],
            [
             0.6,
             "#e6f5d0"
            ],
            [
             0.7,
             "#b8e186"
            ],
            [
             0.8,
             "#7fbc41"
            ],
            [
             0.9,
             "#4d9221"
            ],
            [
             1,
             "#276419"
            ]
           ],
           "sequential": [
            [
             0,
             "#0d0887"
            ],
            [
             0.1111111111111111,
             "#46039f"
            ],
            [
             0.2222222222222222,
             "#7201a8"
            ],
            [
             0.3333333333333333,
             "#9c179e"
            ],
            [
             0.4444444444444444,
             "#bd3786"
            ],
            [
             0.5555555555555556,
             "#d8576b"
            ],
            [
             0.6666666666666666,
             "#ed7953"
            ],
            [
             0.7777777777777778,
             "#fb9f3a"
            ],
            [
             0.8888888888888888,
             "#fdca26"
            ],
            [
             1,
             "#f0f921"
            ]
           ],
           "sequentialminus": [
            [
             0,
             "#0d0887"
            ],
            [
             0.1111111111111111,
             "#46039f"
            ],
            [
             0.2222222222222222,
             "#7201a8"
            ],
            [
             0.3333333333333333,
             "#9c179e"
            ],
            [
             0.4444444444444444,
             "#bd3786"
            ],
            [
             0.5555555555555556,
             "#d8576b"
            ],
            [
             0.6666666666666666,
             "#ed7953"
            ],
            [
             0.7777777777777778,
             "#fb9f3a"
            ],
            [
             0.8888888888888888,
             "#fdca26"
            ],
            [
             1,
             "#f0f921"
            ]
           ]
          },
          "colorway": [
           "#636efa",
           "#EF553B",
           "#00cc96",
           "#ab63fa",
           "#FFA15A",
           "#19d3f3",
           "#FF6692",
           "#B6E880",
           "#FF97FF",
           "#FECB52"
          ],
          "font": {
           "color": "#2a3f5f"
          },
          "geo": {
           "bgcolor": "white",
           "lakecolor": "white",
           "landcolor": "#E5ECF6",
           "showlakes": true,
           "showland": true,
           "subunitcolor": "white"
          },
          "hoverlabel": {
           "align": "left"
          },
          "hovermode": "closest",
          "mapbox": {
           "style": "light"
          },
          "paper_bgcolor": "white",
          "plot_bgcolor": "#E5ECF6",
          "polar": {
           "angularaxis": {
            "gridcolor": "white",
            "linecolor": "white",
            "ticks": ""
           },
           "bgcolor": "#E5ECF6",
           "radialaxis": {
            "gridcolor": "white",
            "linecolor": "white",
            "ticks": ""
           }
          },
          "scene": {
           "xaxis": {
            "backgroundcolor": "#E5ECF6",
            "gridcolor": "white",
            "gridwidth": 2,
            "linecolor": "white",
            "showbackground": true,
            "ticks": "",
            "zerolinecolor": "white"
           },
           "yaxis": {
            "backgroundcolor": "#E5ECF6",
            "gridcolor": "white",
            "gridwidth": 2,
            "linecolor": "white",
            "showbackground": true,
            "ticks": "",
            "zerolinecolor": "white"
           },
           "zaxis": {
            "backgroundcolor": "#E5ECF6",
            "gridcolor": "white",
            "gridwidth": 2,
            "linecolor": "white",
            "showbackground": true,
            "ticks": "",
            "zerolinecolor": "white"
           }
          },
          "shapedefaults": {
           "line": {
            "color": "#2a3f5f"
           }
          },
          "ternary": {
           "aaxis": {
            "gridcolor": "white",
            "linecolor": "white",
            "ticks": ""
           },
           "baxis": {
            "gridcolor": "white",
            "linecolor": "white",
            "ticks": ""
           },
           "bgcolor": "#E5ECF6",
           "caxis": {
            "gridcolor": "white",
            "linecolor": "white",
            "ticks": ""
           }
          },
          "title": {
           "x": 0.05
          },
          "xaxis": {
           "automargin": true,
           "gridcolor": "white",
           "linecolor": "white",
           "ticks": "",
           "title": {
            "standoff": 15
           },
           "zerolinecolor": "white",
           "zerolinewidth": 2
          },
          "yaxis": {
           "automargin": true,
           "gridcolor": "white",
           "linecolor": "white",
           "ticks": "",
           "title": {
            "standoff": 15
           },
           "zerolinecolor": "white",
           "zerolinewidth": 2
          }
         }
        },
        "xaxis": {
         "title": {
          "text": "Year Phone Released"
         }
        },
        "yaxis": {
         "gridcolor": "rgb(219, 219, 219)",
         "showgrid": true,
         "title": {
          "text": "Update Latency (days)"
         }
        }
       }
      },
      "text/html": [
       "<div>\n",
       "        \n",
       "        \n",
       "            <div id=\"c5883fb3-880c-4a48-b34d-bd4f0a256968\" class=\"plotly-graph-div\" style=\"height:525px; width:100%;\"></div>\n",
       "            <script type=\"text/javascript\">\n",
       "                require([\"plotly\"], function(Plotly) {\n",
       "                    window.PLOTLYENV=window.PLOTLYENV || {};\n",
       "                    \n",
       "                if (document.getElementById(\"c5883fb3-880c-4a48-b34d-bd4f0a256968\")) {\n",
       "                    Plotly.newPlot(\n",
       "                        'c5883fb3-880c-4a48-b34d-bd4f0a256968',\n",
       "                        [{\"boxpoints\": \"all\", \"name\": \"2016\", \"type\": \"box\", \"y\": [74.0, 13.0, 46.0, 89.0, 4.0, 29.0, 61.0, 40.0, 26.0, 38.0, 17.0, 38.0, 17.0, 17.0, 11.0, 16.0, 24.0, 25.0, 38.0, 17.0, 8.0, 30.0, 1.0, 30.0, 8.0, 26.0, 20.0, 13.0, 26.0, 20.0, 28.0, 0.0, 6.0, 16.0, 12.0, 14.0, 23.0, 26.0, 18.0, 30.0, 29.0, 9.0, 27.0, 20.0, 18.0, 16.0, 3.0, 3.0, 7.0, 26.0, 4.0, 16.0, 3.0, 7.0, 26.0, 4.0, 15.0, 20.0]}, {\"boxpoints\": \"all\", \"name\": \"2017\", \"type\": \"box\", \"y\": [25.0, 30.0, 14.0, 26.0, 21.0, 5.0, 18.0, 31.0, 0.0, 30.0, 41.0, 17.0, 17.0, 55.0, 24.0, 44.0, 33.0, 27.0, 20.0, 43.0, 21.0, 19.0, 20.0, 38.0, 37.0, 26.0, 8.0, 20.0, 43.0, 21.0, 19.0, 20.0, 38.0, 37.0, 26.0, 26.0, 61.0, 24.0, 41.0, 29.0, 26.0, 2.0, 20.0, 11.0, 28.0, 17.0, 6.0, 9.0, 1.0, 23.0, 9.0, 1.0, 19.0, 14.0, 4.0, 50.0, 27.0, 37.0, 17.0, 6.0, 14.0, 23.0, 5.0, 20.0, 6.0, 12.0, 19.0, 0.0, 25.0, 1.0, 5.0, 13.0, 30.0, 20.0, 33.0, 12.0, 21.0, 9.0, 36.0, 24.0, 6.0, 14.0, 15.0, 20.0, 19.0, 0.0, 5.0, 7.0, 20.0, 19.0, 0.0, 7.0]}, {\"boxpoints\": \"all\", \"name\": \"2018\", \"type\": \"box\", \"y\": [101.0, 85.0, 24.0, 26.0, 25.0, 17.0, 30.0, 28.0, 41.0, 24.0, 5.0, 61.0, 0.0, 18.0, 5.0, 19.0, 59.0, 53.0, 38.0, 15.0, 23.0, 15.0, 15.0, 50.0, 44.0, 26.0, 23.0, 26.0, 24.0, 28.0, 29.0, 32.0, 16.0, 26.0, 16.0, 58.0, 25.0, 18.0, 28.0, 14.0, 39.0, 48.0, 35.0, 20.0, 36.0, 19.0, 18.0, 16.0, 35.0, 20.0, 19.0, 16.0, 34.0, 32.0, 17.0, 2.0, 14.0, 26.0, 55.0, 26.0, 33.0, 17.0, 7.0, 47.0, 0.0, 10.0, 2.0, 40.0, 47.0, 52.0, 51.0, 32.0, 4.0, 26.0, 19.0, 23.0, 18.0, 15.0, 15.0, 15.0, 21.0, 19.0, 43.0, 21.0, 36.0, 12.0, 20.0, 7.0, 16.0, 20.0, 3.0, 15.0, 15.0, 12.0, 20.0, 7.0, 16.0, 20.0, 3.0, 15.0, 33.0, 19.0]}, {\"boxpoints\": \"all\", \"name\": \"2019\", \"type\": \"box\", \"y\": [16.0, 7.0, 16.0, 24.0, 18.0, 18.0, 21.0, 14.0, 27.0, 31.0, 18.0, 16.0, 52.0, 9.0, 53.0, 20.0, 26.0, 15.0, 16.0, 26.0, 15.0, 16.0, 26.0, 15.0, 16.0, 29.0, -6.0, 29.0, -6.0, 21.0, 27.0, 35.0, 24.0, 41.0, 0.0, 8.0, 44.0, 19.0, 20.0, 42.0, 22.0, 21.0, 44.0, 0.0, 19.0, 19.0, 10.0, 0.0, 0.0, 19.0, 19.0, 10.0, 0.0, 5.0, 7.0, 15.0, 27.0, 8.0, 16.0, 6.0, 14.0, 7.0, 38.0, 15.0, 39.0, 28.0, 16.0, 11.0, 14.0, 39.0]}],\n",
       "                        {\"plot_bgcolor\": \"rgba(0,0,0,0)\", \"template\": {\"data\": {\"bar\": [{\"error_x\": {\"color\": \"#2a3f5f\"}, \"error_y\": {\"color\": \"#2a3f5f\"}, \"marker\": {\"line\": {\"color\": \"#E5ECF6\", \"width\": 0.5}}, \"type\": \"bar\"}], \"barpolar\": [{\"marker\": {\"line\": {\"color\": \"#E5ECF6\", \"width\": 0.5}}, \"type\": \"barpolar\"}], \"carpet\": [{\"aaxis\": {\"endlinecolor\": \"#2a3f5f\", \"gridcolor\": \"white\", \"linecolor\": \"white\", \"minorgridcolor\": \"white\", \"startlinecolor\": \"#2a3f5f\"}, \"baxis\": {\"endlinecolor\": \"#2a3f5f\", \"gridcolor\": \"white\", \"linecolor\": \"white\", \"minorgridcolor\": \"white\", \"startlinecolor\": \"#2a3f5f\"}, \"type\": \"carpet\"}], \"choropleth\": [{\"colorbar\": {\"outlinewidth\": 0, \"ticks\": \"\"}, \"type\": \"choropleth\"}], \"contour\": [{\"colorbar\": {\"outlinewidth\": 0, \"ticks\": \"\"}, \"colorscale\": [[0.0, \"#0d0887\"], [0.1111111111111111, \"#46039f\"], [0.2222222222222222, \"#7201a8\"], [0.3333333333333333, \"#9c179e\"], [0.4444444444444444, \"#bd3786\"], [0.5555555555555556, \"#d8576b\"], [0.6666666666666666, \"#ed7953\"], [0.7777777777777778, \"#fb9f3a\"], [0.8888888888888888, \"#fdca26\"], [1.0, \"#f0f921\"]], \"type\": \"contour\"}], \"contourcarpet\": [{\"colorbar\": {\"outlinewidth\": 0, \"ticks\": \"\"}, \"type\": \"contourcarpet\"}], \"heatmap\": [{\"colorbar\": {\"outlinewidth\": 0, \"ticks\": \"\"}, \"colorscale\": [[0.0, \"#0d0887\"], [0.1111111111111111, \"#46039f\"], [0.2222222222222222, \"#7201a8\"], [0.3333333333333333, \"#9c179e\"], [0.4444444444444444, \"#bd3786\"], [0.5555555555555556, \"#d8576b\"], [0.6666666666666666, \"#ed7953\"], [0.7777777777777778, \"#fb9f3a\"], [0.8888888888888888, \"#fdca26\"], [1.0, \"#f0f921\"]], \"type\": \"heatmap\"}], \"heatmapgl\": [{\"colorbar\": {\"outlinewidth\": 0, \"ticks\": \"\"}, \"colorscale\": [[0.0, \"#0d0887\"], [0.1111111111111111, \"#46039f\"], [0.2222222222222222, \"#7201a8\"], [0.3333333333333333, \"#9c179e\"], [0.4444444444444444, \"#bd3786\"], [0.5555555555555556, \"#d8576b\"], [0.6666666666666666, \"#ed7953\"], [0.7777777777777778, \"#fb9f3a\"], [0.8888888888888888, \"#fdca26\"], [1.0, \"#f0f921\"]], \"type\": \"heatmapgl\"}], \"histogram\": [{\"marker\": {\"colorbar\": {\"outlinewidth\": 0, \"ticks\": \"\"}}, \"type\": \"histogram\"}], \"histogram2d\": [{\"colorbar\": {\"outlinewidth\": 0, \"ticks\": \"\"}, \"colorscale\": [[0.0, \"#0d0887\"], [0.1111111111111111, \"#46039f\"], [0.2222222222222222, \"#7201a8\"], [0.3333333333333333, \"#9c179e\"], [0.4444444444444444, \"#bd3786\"], [0.5555555555555556, \"#d8576b\"], [0.6666666666666666, \"#ed7953\"], [0.7777777777777778, \"#fb9f3a\"], [0.8888888888888888, \"#fdca26\"], [1.0, \"#f0f921\"]], \"type\": \"histogram2d\"}], \"histogram2dcontour\": [{\"colorbar\": {\"outlinewidth\": 0, \"ticks\": \"\"}, \"colorscale\": [[0.0, \"#0d0887\"], [0.1111111111111111, \"#46039f\"], [0.2222222222222222, \"#7201a8\"], [0.3333333333333333, \"#9c179e\"], [0.4444444444444444, \"#bd3786\"], [0.5555555555555556, \"#d8576b\"], [0.6666666666666666, \"#ed7953\"], [0.7777777777777778, \"#fb9f3a\"], [0.8888888888888888, \"#fdca26\"], [1.0, \"#f0f921\"]], \"type\": \"histogram2dcontour\"}], \"mesh3d\": [{\"colorbar\": {\"outlinewidth\": 0, \"ticks\": \"\"}, \"type\": \"mesh3d\"}], \"parcoords\": [{\"line\": {\"colorbar\": {\"outlinewidth\": 0, \"ticks\": \"\"}}, \"type\": \"parcoords\"}], \"pie\": [{\"automargin\": true, \"type\": \"pie\"}], \"scatter\": [{\"marker\": {\"colorbar\": {\"outlinewidth\": 0, \"ticks\": \"\"}}, \"type\": \"scatter\"}], \"scatter3d\": [{\"line\": {\"colorbar\": {\"outlinewidth\": 0, \"ticks\": \"\"}}, \"marker\": {\"colorbar\": {\"outlinewidth\": 0, \"ticks\": \"\"}}, \"type\": \"scatter3d\"}], \"scattercarpet\": [{\"marker\": {\"colorbar\": {\"outlinewidth\": 0, \"ticks\": \"\"}}, \"type\": \"scattercarpet\"}], \"scattergeo\": [{\"marker\": {\"colorbar\": {\"outlinewidth\": 0, \"ticks\": \"\"}}, \"type\": \"scattergeo\"}], \"scattergl\": [{\"marker\": {\"colorbar\": {\"outlinewidth\": 0, \"ticks\": \"\"}}, \"type\": \"scattergl\"}], \"scattermapbox\": [{\"marker\": {\"colorbar\": {\"outlinewidth\": 0, \"ticks\": \"\"}}, \"type\": \"scattermapbox\"}], \"scatterpolar\": [{\"marker\": {\"colorbar\": {\"outlinewidth\": 0, \"ticks\": \"\"}}, \"type\": \"scatterpolar\"}], \"scatterpolargl\": [{\"marker\": {\"colorbar\": {\"outlinewidth\": 0, \"ticks\": \"\"}}, \"type\": \"scatterpolargl\"}], \"scatterternary\": [{\"marker\": {\"colorbar\": {\"outlinewidth\": 0, \"ticks\": \"\"}}, \"type\": \"scatterternary\"}], \"surface\": [{\"colorbar\": {\"outlinewidth\": 0, \"ticks\": \"\"}, \"colorscale\": [[0.0, \"#0d0887\"], [0.1111111111111111, \"#46039f\"], [0.2222222222222222, \"#7201a8\"], [0.3333333333333333, \"#9c179e\"], [0.4444444444444444, \"#bd3786\"], [0.5555555555555556, \"#d8576b\"], [0.6666666666666666, \"#ed7953\"], [0.7777777777777778, \"#fb9f3a\"], [0.8888888888888888, \"#fdca26\"], [1.0, \"#f0f921\"]], \"type\": \"surface\"}], \"table\": [{\"cells\": {\"fill\": {\"color\": \"#EBF0F8\"}, \"line\": {\"color\": \"white\"}}, \"header\": {\"fill\": {\"color\": \"#C8D4E3\"}, \"line\": {\"color\": \"white\"}}, \"type\": \"table\"}]}, \"layout\": {\"annotationdefaults\": {\"arrowcolor\": \"#2a3f5f\", \"arrowhead\": 0, \"arrowwidth\": 1}, \"coloraxis\": {\"colorbar\": {\"outlinewidth\": 0, \"ticks\": \"\"}}, \"colorscale\": {\"diverging\": [[0, \"#8e0152\"], [0.1, \"#c51b7d\"], [0.2, \"#de77ae\"], [0.3, \"#f1b6da\"], [0.4, \"#fde0ef\"], [0.5, \"#f7f7f7\"], [0.6, \"#e6f5d0\"], [0.7, \"#b8e186\"], [0.8, \"#7fbc41\"], [0.9, \"#4d9221\"], [1, \"#276419\"]], \"sequential\": [[0.0, \"#0d0887\"], [0.1111111111111111, \"#46039f\"], [0.2222222222222222, \"#7201a8\"], [0.3333333333333333, \"#9c179e\"], [0.4444444444444444, \"#bd3786\"], [0.5555555555555556, \"#d8576b\"], [0.6666666666666666, \"#ed7953\"], [0.7777777777777778, \"#fb9f3a\"], [0.8888888888888888, \"#fdca26\"], [1.0, \"#f0f921\"]], \"sequentialminus\": [[0.0, \"#0d0887\"], [0.1111111111111111, \"#46039f\"], [0.2222222222222222, \"#7201a8\"], [0.3333333333333333, \"#9c179e\"], [0.4444444444444444, \"#bd3786\"], [0.5555555555555556, \"#d8576b\"], [0.6666666666666666, \"#ed7953\"], [0.7777777777777778, \"#fb9f3a\"], [0.8888888888888888, \"#fdca26\"], [1.0, \"#f0f921\"]]}, \"colorway\": [\"#636efa\", \"#EF553B\", \"#00cc96\", \"#ab63fa\", \"#FFA15A\", \"#19d3f3\", \"#FF6692\", \"#B6E880\", \"#FF97FF\", \"#FECB52\"], \"font\": {\"color\": \"#2a3f5f\"}, \"geo\": {\"bgcolor\": \"white\", \"lakecolor\": \"white\", \"landcolor\": \"#E5ECF6\", \"showlakes\": true, \"showland\": true, \"subunitcolor\": \"white\"}, \"hoverlabel\": {\"align\": \"left\"}, \"hovermode\": \"closest\", \"mapbox\": {\"style\": \"light\"}, \"paper_bgcolor\": \"white\", \"plot_bgcolor\": \"#E5ECF6\", \"polar\": {\"angularaxis\": {\"gridcolor\": \"white\", \"linecolor\": \"white\", \"ticks\": \"\"}, \"bgcolor\": \"#E5ECF6\", \"radialaxis\": {\"gridcolor\": \"white\", \"linecolor\": \"white\", \"ticks\": \"\"}}, \"scene\": {\"xaxis\": {\"backgroundcolor\": \"#E5ECF6\", \"gridcolor\": \"white\", \"gridwidth\": 2, \"linecolor\": \"white\", \"showbackground\": true, \"ticks\": \"\", \"zerolinecolor\": \"white\"}, \"yaxis\": {\"backgroundcolor\": \"#E5ECF6\", \"gridcolor\": \"white\", \"gridwidth\": 2, \"linecolor\": \"white\", \"showbackground\": true, \"ticks\": \"\", \"zerolinecolor\": \"white\"}, \"zaxis\": {\"backgroundcolor\": \"#E5ECF6\", \"gridcolor\": \"white\", \"gridwidth\": 2, \"linecolor\": \"white\", \"showbackground\": true, \"ticks\": \"\", \"zerolinecolor\": \"white\"}}, \"shapedefaults\": {\"line\": {\"color\": \"#2a3f5f\"}}, \"ternary\": {\"aaxis\": {\"gridcolor\": \"white\", \"linecolor\": \"white\", \"ticks\": \"\"}, \"baxis\": {\"gridcolor\": \"white\", \"linecolor\": \"white\", \"ticks\": \"\"}, \"bgcolor\": \"#E5ECF6\", \"caxis\": {\"gridcolor\": \"white\", \"linecolor\": \"white\", \"ticks\": \"\"}}, \"title\": {\"x\": 0.05}, \"xaxis\": {\"automargin\": true, \"gridcolor\": \"white\", \"linecolor\": \"white\", \"ticks\": \"\", \"title\": {\"standoff\": 15}, \"zerolinecolor\": \"white\", \"zerolinewidth\": 2}, \"yaxis\": {\"automargin\": true, \"gridcolor\": \"white\", \"linecolor\": \"white\", \"ticks\": \"\", \"title\": {\"standoff\": 15}, \"zerolinecolor\": \"white\", \"zerolinewidth\": 2}}}, \"xaxis\": {\"title\": {\"text\": \"Year Phone Released\"}}, \"yaxis\": {\"gridcolor\": \"rgb(219, 219, 219)\", \"showgrid\": true, \"title\": {\"text\": \"Update Latency (days)\"}}},\n",
       "                        {\"responsive\": true}\n",
       "                    ).then(function(){\n",
       "                            \n",
       "var gd = document.getElementById('c5883fb3-880c-4a48-b34d-bd4f0a256968');\n",
       "var x = new MutationObserver(function (mutations, observer) {{\n",
       "        var display = window.getComputedStyle(gd).display;\n",
       "        if (!display || display === 'none') {{\n",
       "            console.log([gd, 'removed!']);\n",
       "            Plotly.purge(gd);\n",
       "            observer.disconnect();\n",
       "        }}\n",
       "}});\n",
       "\n",
       "// Listen for the removal of the full notebook cells\n",
       "var notebookContainer = gd.closest('#notebook-container');\n",
       "if (notebookContainer) {{\n",
       "    x.observe(notebookContainer, {childList: true});\n",
       "}}\n",
       "\n",
       "// Listen for the clearing of the current output cell\n",
       "var outputEl = gd.closest('.output');\n",
       "if (outputEl) {{\n",
       "    x.observe(outputEl, {childList: true});\n",
       "}}\n",
       "\n",
       "                        })\n",
       "                };\n",
       "                });\n",
       "            </script>\n",
       "        </div>"
      ]
     },
     "metadata": {},
     "output_type": "display_data"
    }
   ],
   "source": [
    "data=[]\n",
    "for yr in allYears:\n",
    "        print(yr)\n",
    "        print(statistics.mean(perRelease[yr]))\n",
    "        print()\n",
    "        data.append(go.Box(\n",
    "                y=perRelease[yr],\n",
    "                name=str(yr),\n",
    "            boxpoints = 'all',\n",
    "            ))\n",
    "        \n",
    "# Edit the layout\n",
    "layout = dict(#title = \"Average Latency per 6 Month Periods after Release\",\n",
    "              yaxis = dict(title = 'Update Latency (days)',showgrid=True, gridcolor='rgb(219, 219, 219)'),\n",
    "              xaxis = dict(title = 'Year Phone Released'),\n",
    "              plot_bgcolor='rgba(0,0,0,0)',\n",
    "              )\n",
    "\n",
    "fig = dict(data=data, layout=layout)\n",
    "py.offline.iplot(fig, filename='avg-latency-since-release-years.png')"
   ]
  },
  {
   "cell_type": "code",
   "execution_count": 4,
   "metadata": {
    "scrolled": false
   },
   "outputs": [
    {
     "name": "stdout",
     "output_type": "stream",
     "text": [
      "Unique number of bulletins: \n",
      "53\n",
      "\n",
      "Unique number of bulletins: \n",
      "53\n",
      "\n"
     ]
    },
    {
     "data": {
      "application/vnd.plotly.v1+json": {
       "config": {
        "linkText": "Export to plot.ly",
        "plotlyServerURL": "https://plot.ly",
        "showLink": false
       },
       "data": [
        {
         "line": {
          "color": "deepskyblue"
         },
         "name": "Number of Updates",
         "type": "scatter",
         "x": [
          "2015-08-01T00:00:00.000000000",
          "2015-09-01T00:00:00.000000000",
          "2015-10-01T00:00:00.000000000",
          "2015-11-01T00:00:00.000000000",
          "2015-12-01T00:00:00.000000000",
          "2016-01-01T00:00:00.000000000",
          "2016-02-01T00:00:00.000000000",
          "2016-03-01T00:00:00.000000000",
          "2016-04-01T00:00:00.000000000",
          "2016-05-01T00:00:00.000000000",
          "2016-06-01T00:00:00.000000000",
          "2016-07-01T00:00:00.000000000",
          "2016-08-01T00:00:00.000000000",
          "2016-09-01T00:00:00.000000000",
          "2016-10-01T00:00:00.000000000",
          "2016-11-01T00:00:00.000000000",
          "2016-12-01T00:00:00.000000000",
          "2017-01-01T00:00:00.000000000",
          "2017-02-01T00:00:00.000000000",
          "2017-03-01T00:00:00.000000000",
          "2017-04-01T00:00:00.000000000",
          "2017-05-01T00:00:00.000000000",
          "2017-06-01T00:00:00.000000000",
          "2017-07-01T00:00:00.000000000",
          "2017-08-01T00:00:00.000000000",
          "2017-09-01T00:00:00.000000000",
          "2017-10-01T00:00:00.000000000",
          "2017-11-01T00:00:00.000000000",
          "2017-12-01T00:00:00.000000000",
          "2018-01-01T00:00:00.000000000",
          "2018-02-01T00:00:00.000000000",
          "2018-03-01T00:00:00.000000000",
          "2018-04-01T00:00:00.000000000",
          "2018-05-01T00:00:00.000000000",
          "2018-06-01T00:00:00.000000000",
          "2018-07-01T00:00:00.000000000",
          "2018-08-01T00:00:00.000000000",
          "2018-09-01T00:00:00.000000000",
          "2018-10-01T00:00:00.000000000",
          "2018-11-01T00:00:00.000000000",
          "2018-12-01T00:00:00.000000000",
          "2019-01-01T00:00:00.000000000",
          "2019-02-01T00:00:00.000000000",
          "2019-03-01T00:00:00.000000000",
          "2019-04-01T00:00:00.000000000",
          "2019-05-01T00:00:00.000000000",
          "2019-06-01T00:00:00.000000000",
          "2019-07-01T00:00:00.000000000",
          "2019-08-01T00:00:00.000000000",
          "2019-09-01T00:00:00.000000000",
          "2019-10-01T00:00:00.000000000",
          "2019-11-01T00:00:00.000000000",
          "2019-12-01T00:00:00.000000000"
         ],
         "y": [
          10,
          23,
          12,
          27,
          18,
          12,
          12,
          15,
          18,
          20,
          20,
          31,
          32,
          31,
          27,
          33,
          16,
          35,
          32,
          31,
          34,
          33,
          30,
          38,
          24,
          23,
          30,
          36,
          30,
          33,
          24,
          29,
          27,
          29,
          32,
          27,
          31,
          21,
          33,
          39,
          32,
          39,
          39,
          43,
          36,
          27,
          15,
          14,
          25,
          25,
          25,
          23,
          11
         ]
        },
        {
         "line": {
          "color": "dimgray"
         },
         "name": "Average Latency",
         "type": "scatter",
         "x": [
          "2015-08-01T00:00:00.000000000",
          "2015-09-01T00:00:00.000000000",
          "2015-10-01T00:00:00.000000000",
          "2015-11-01T00:00:00.000000000",
          "2015-12-01T00:00:00.000000000",
          "2016-01-01T00:00:00.000000000",
          "2016-02-01T00:00:00.000000000",
          "2016-03-01T00:00:00.000000000",
          "2016-04-01T00:00:00.000000000",
          "2016-05-01T00:00:00.000000000",
          "2016-06-01T00:00:00.000000000",
          "2016-07-01T00:00:00.000000000",
          "2016-08-01T00:00:00.000000000",
          "2016-09-01T00:00:00.000000000",
          "2016-10-01T00:00:00.000000000",
          "2016-11-01T00:00:00.000000000",
          "2016-12-01T00:00:00.000000000",
          "2017-01-01T00:00:00.000000000",
          "2017-02-01T00:00:00.000000000",
          "2017-03-01T00:00:00.000000000",
          "2017-04-01T00:00:00.000000000",
          "2017-05-01T00:00:00.000000000",
          "2017-06-01T00:00:00.000000000",
          "2017-07-01T00:00:00.000000000",
          "2017-08-01T00:00:00.000000000",
          "2017-09-01T00:00:00.000000000",
          "2017-10-01T00:00:00.000000000",
          "2017-11-01T00:00:00.000000000",
          "2017-12-01T00:00:00.000000000",
          "2018-01-01T00:00:00.000000000",
          "2018-02-01T00:00:00.000000000",
          "2018-03-01T00:00:00.000000000",
          "2018-04-01T00:00:00.000000000",
          "2018-05-01T00:00:00.000000000",
          "2018-06-01T00:00:00.000000000",
          "2018-07-01T00:00:00.000000000",
          "2018-08-01T00:00:00.000000000",
          "2018-09-01T00:00:00.000000000",
          "2018-10-01T00:00:00.000000000",
          "2018-11-01T00:00:00.000000000",
          "2018-12-01T00:00:00.000000000",
          "2019-01-01T00:00:00.000000000",
          "2019-02-01T00:00:00.000000000",
          "2019-03-01T00:00:00.000000000",
          "2019-04-01T00:00:00.000000000",
          "2019-05-01T00:00:00.000000000",
          "2019-06-01T00:00:00.000000000",
          "2019-07-01T00:00:00.000000000",
          "2019-08-01T00:00:00.000000000",
          "2019-09-01T00:00:00.000000000",
          "2019-10-01T00:00:00.000000000",
          "2019-11-01T00:00:00.000000000",
          "2019-12-01T00:00:00.000000000"
         ],
         "y": [
          13.8,
          14.391304347826088,
          9.166666666666666,
          15,
          11.88888888888889,
          9.833333333333334,
          10.166666666666666,
          19.533333333333335,
          17.27777777777778,
          18.6,
          23.35,
          22.64516129032258,
          21.34375,
          23.032258064516128,
          24.11111111111111,
          25.151515151515152,
          37.5,
          27.314285714285713,
          17.9375,
          25.387096774193548,
          21.705882352941178,
          24.393939393939394,
          22.9,
          22.55263157894737,
          24.125,
          20.91304347826087,
          29.866666666666667,
          23.36111111111111,
          18.566666666666666,
          25.727272727272727,
          28.75,
          30.655172413793103,
          24.85185185185185,
          39.827586206896555,
          21.40625,
          22.37037037037037,
          36.16129032258065,
          27.285714285714285,
          29.454545454545453,
          26.102564102564102,
          22.15625,
          31.512820512820515,
          22.23076923076923,
          29.74418604651163,
          26.083333333333332,
          22.14814814814815,
          20.133333333333333,
          23.857142857142858,
          24.68,
          29.96,
          24.48,
          17.782608695652176,
          14.727272727272727
         ]
        },
        {
         "line": {
          "color": "olive"
         },
         "name": "Median Latency",
         "type": "scatter",
         "x": [
          "2015-08-01T00:00:00.000000000",
          "2015-09-01T00:00:00.000000000",
          "2015-10-01T00:00:00.000000000",
          "2015-11-01T00:00:00.000000000",
          "2015-12-01T00:00:00.000000000",
          "2016-01-01T00:00:00.000000000",
          "2016-02-01T00:00:00.000000000",
          "2016-03-01T00:00:00.000000000",
          "2016-04-01T00:00:00.000000000",
          "2016-05-01T00:00:00.000000000",
          "2016-06-01T00:00:00.000000000",
          "2016-07-01T00:00:00.000000000",
          "2016-08-01T00:00:00.000000000",
          "2016-09-01T00:00:00.000000000",
          "2016-10-01T00:00:00.000000000",
          "2016-11-01T00:00:00.000000000",
          "2016-12-01T00:00:00.000000000",
          "2017-01-01T00:00:00.000000000",
          "2017-02-01T00:00:00.000000000",
          "2017-03-01T00:00:00.000000000",
          "2017-04-01T00:00:00.000000000",
          "2017-05-01T00:00:00.000000000",
          "2017-06-01T00:00:00.000000000",
          "2017-07-01T00:00:00.000000000",
          "2017-08-01T00:00:00.000000000",
          "2017-09-01T00:00:00.000000000",
          "2017-10-01T00:00:00.000000000",
          "2017-11-01T00:00:00.000000000",
          "2017-12-01T00:00:00.000000000",
          "2018-01-01T00:00:00.000000000",
          "2018-02-01T00:00:00.000000000",
          "2018-03-01T00:00:00.000000000",
          "2018-04-01T00:00:00.000000000",
          "2018-05-01T00:00:00.000000000",
          "2018-06-01T00:00:00.000000000",
          "2018-07-01T00:00:00.000000000",
          "2018-08-01T00:00:00.000000000",
          "2018-09-01T00:00:00.000000000",
          "2018-10-01T00:00:00.000000000",
          "2018-11-01T00:00:00.000000000",
          "2018-12-01T00:00:00.000000000",
          "2019-01-01T00:00:00.000000000",
          "2019-02-01T00:00:00.000000000",
          "2019-03-01T00:00:00.000000000",
          "2019-04-01T00:00:00.000000000",
          "2019-05-01T00:00:00.000000000",
          "2019-06-01T00:00:00.000000000",
          "2019-07-01T00:00:00.000000000",
          "2019-08-01T00:00:00.000000000",
          "2019-09-01T00:00:00.000000000",
          "2019-10-01T00:00:00.000000000",
          "2019-11-01T00:00:00.000000000",
          "2019-12-01T00:00:00.000000000"
         ],
         "y": [
          12.5,
          13,
          4,
          15,
          13,
          10,
          11,
          17,
          17.5,
          18,
          26,
          20,
          21,
          25,
          25,
          28,
          42,
          29,
          17.5,
          26,
          18,
          24,
          22,
          20,
          23.5,
          24,
          31.5,
          21,
          20,
          25,
          29.5,
          28,
          25,
          28,
          24,
          23,
          30,
          24,
          28,
          27,
          19,
          27,
          24,
          26,
          18,
          18,
          21,
          25,
          26,
          29,
          23,
          14,
          14
         ]
        }
       ],
       "layout": {
        "plot_bgcolor": "rgba(0,0,0,0)",
        "template": {
         "data": {
          "bar": [
           {
            "error_x": {
             "color": "#2a3f5f"
            },
            "error_y": {
             "color": "#2a3f5f"
            },
            "marker": {
             "line": {
              "color": "#E5ECF6",
              "width": 0.5
             }
            },
            "type": "bar"
           }
          ],
          "barpolar": [
           {
            "marker": {
             "line": {
              "color": "#E5ECF6",
              "width": 0.5
             }
            },
            "type": "barpolar"
           }
          ],
          "carpet": [
           {
            "aaxis": {
             "endlinecolor": "#2a3f5f",
             "gridcolor": "white",
             "linecolor": "white",
             "minorgridcolor": "white",
             "startlinecolor": "#2a3f5f"
            },
            "baxis": {
             "endlinecolor": "#2a3f5f",
             "gridcolor": "white",
             "linecolor": "white",
             "minorgridcolor": "white",
             "startlinecolor": "#2a3f5f"
            },
            "type": "carpet"
           }
          ],
          "choropleth": [
           {
            "colorbar": {
             "outlinewidth": 0,
             "ticks": ""
            },
            "type": "choropleth"
           }
          ],
          "contour": [
           {
            "colorbar": {
             "outlinewidth": 0,
             "ticks": ""
            },
            "colorscale": [
             [
              0,
              "#0d0887"
             ],
             [
              0.1111111111111111,
              "#46039f"
             ],
             [
              0.2222222222222222,
              "#7201a8"
             ],
             [
              0.3333333333333333,
              "#9c179e"
             ],
             [
              0.4444444444444444,
              "#bd3786"
             ],
             [
              0.5555555555555556,
              "#d8576b"
             ],
             [
              0.6666666666666666,
              "#ed7953"
             ],
             [
              0.7777777777777778,
              "#fb9f3a"
             ],
             [
              0.8888888888888888,
              "#fdca26"
             ],
             [
              1,
              "#f0f921"
             ]
            ],
            "type": "contour"
           }
          ],
          "contourcarpet": [
           {
            "colorbar": {
             "outlinewidth": 0,
             "ticks": ""
            },
            "type": "contourcarpet"
           }
          ],
          "heatmap": [
           {
            "colorbar": {
             "outlinewidth": 0,
             "ticks": ""
            },
            "colorscale": [
             [
              0,
              "#0d0887"
             ],
             [
              0.1111111111111111,
              "#46039f"
             ],
             [
              0.2222222222222222,
              "#7201a8"
             ],
             [
              0.3333333333333333,
              "#9c179e"
             ],
             [
              0.4444444444444444,
              "#bd3786"
             ],
             [
              0.5555555555555556,
              "#d8576b"
             ],
             [
              0.6666666666666666,
              "#ed7953"
             ],
             [
              0.7777777777777778,
              "#fb9f3a"
             ],
             [
              0.8888888888888888,
              "#fdca26"
             ],
             [
              1,
              "#f0f921"
             ]
            ],
            "type": "heatmap"
           }
          ],
          "heatmapgl": [
           {
            "colorbar": {
             "outlinewidth": 0,
             "ticks": ""
            },
            "colorscale": [
             [
              0,
              "#0d0887"
             ],
             [
              0.1111111111111111,
              "#46039f"
             ],
             [
              0.2222222222222222,
              "#7201a8"
             ],
             [
              0.3333333333333333,
              "#9c179e"
             ],
             [
              0.4444444444444444,
              "#bd3786"
             ],
             [
              0.5555555555555556,
              "#d8576b"
             ],
             [
              0.6666666666666666,
              "#ed7953"
             ],
             [
              0.7777777777777778,
              "#fb9f3a"
             ],
             [
              0.8888888888888888,
              "#fdca26"
             ],
             [
              1,
              "#f0f921"
             ]
            ],
            "type": "heatmapgl"
           }
          ],
          "histogram": [
           {
            "marker": {
             "colorbar": {
              "outlinewidth": 0,
              "ticks": ""
             }
            },
            "type": "histogram"
           }
          ],
          "histogram2d": [
           {
            "colorbar": {
             "outlinewidth": 0,
             "ticks": ""
            },
            "colorscale": [
             [
              0,
              "#0d0887"
             ],
             [
              0.1111111111111111,
              "#46039f"
             ],
             [
              0.2222222222222222,
              "#7201a8"
             ],
             [
              0.3333333333333333,
              "#9c179e"
             ],
             [
              0.4444444444444444,
              "#bd3786"
             ],
             [
              0.5555555555555556,
              "#d8576b"
             ],
             [
              0.6666666666666666,
              "#ed7953"
             ],
             [
              0.7777777777777778,
              "#fb9f3a"
             ],
             [
              0.8888888888888888,
              "#fdca26"
             ],
             [
              1,
              "#f0f921"
             ]
            ],
            "type": "histogram2d"
           }
          ],
          "histogram2dcontour": [
           {
            "colorbar": {
             "outlinewidth": 0,
             "ticks": ""
            },
            "colorscale": [
             [
              0,
              "#0d0887"
             ],
             [
              0.1111111111111111,
              "#46039f"
             ],
             [
              0.2222222222222222,
              "#7201a8"
             ],
             [
              0.3333333333333333,
              "#9c179e"
             ],
             [
              0.4444444444444444,
              "#bd3786"
             ],
             [
              0.5555555555555556,
              "#d8576b"
             ],
             [
              0.6666666666666666,
              "#ed7953"
             ],
             [
              0.7777777777777778,
              "#fb9f3a"
             ],
             [
              0.8888888888888888,
              "#fdca26"
             ],
             [
              1,
              "#f0f921"
             ]
            ],
            "type": "histogram2dcontour"
           }
          ],
          "mesh3d": [
           {
            "colorbar": {
             "outlinewidth": 0,
             "ticks": ""
            },
            "type": "mesh3d"
           }
          ],
          "parcoords": [
           {
            "line": {
             "colorbar": {
              "outlinewidth": 0,
              "ticks": ""
             }
            },
            "type": "parcoords"
           }
          ],
          "pie": [
           {
            "automargin": true,
            "type": "pie"
           }
          ],
          "scatter": [
           {
            "marker": {
             "colorbar": {
              "outlinewidth": 0,
              "ticks": ""
             }
            },
            "type": "scatter"
           }
          ],
          "scatter3d": [
           {
            "line": {
             "colorbar": {
              "outlinewidth": 0,
              "ticks": ""
             }
            },
            "marker": {
             "colorbar": {
              "outlinewidth": 0,
              "ticks": ""
             }
            },
            "type": "scatter3d"
           }
          ],
          "scattercarpet": [
           {
            "marker": {
             "colorbar": {
              "outlinewidth": 0,
              "ticks": ""
             }
            },
            "type": "scattercarpet"
           }
          ],
          "scattergeo": [
           {
            "marker": {
             "colorbar": {
              "outlinewidth": 0,
              "ticks": ""
             }
            },
            "type": "scattergeo"
           }
          ],
          "scattergl": [
           {
            "marker": {
             "colorbar": {
              "outlinewidth": 0,
              "ticks": ""
             }
            },
            "type": "scattergl"
           }
          ],
          "scattermapbox": [
           {
            "marker": {
             "colorbar": {
              "outlinewidth": 0,
              "ticks": ""
             }
            },
            "type": "scattermapbox"
           }
          ],
          "scatterpolar": [
           {
            "marker": {
             "colorbar": {
              "outlinewidth": 0,
              "ticks": ""
             }
            },
            "type": "scatterpolar"
           }
          ],
          "scatterpolargl": [
           {
            "marker": {
             "colorbar": {
              "outlinewidth": 0,
              "ticks": ""
             }
            },
            "type": "scatterpolargl"
           }
          ],
          "scatterternary": [
           {
            "marker": {
             "colorbar": {
              "outlinewidth": 0,
              "ticks": ""
             }
            },
            "type": "scatterternary"
           }
          ],
          "surface": [
           {
            "colorbar": {
             "outlinewidth": 0,
             "ticks": ""
            },
            "colorscale": [
             [
              0,
              "#0d0887"
             ],
             [
              0.1111111111111111,
              "#46039f"
             ],
             [
              0.2222222222222222,
              "#7201a8"
             ],
             [
              0.3333333333333333,
              "#9c179e"
             ],
             [
              0.4444444444444444,
              "#bd3786"
             ],
             [
              0.5555555555555556,
              "#d8576b"
             ],
             [
              0.6666666666666666,
              "#ed7953"
             ],
             [
              0.7777777777777778,
              "#fb9f3a"
             ],
             [
              0.8888888888888888,
              "#fdca26"
             ],
             [
              1,
              "#f0f921"
             ]
            ],
            "type": "surface"
           }
          ],
          "table": [
           {
            "cells": {
             "fill": {
              "color": "#EBF0F8"
             },
             "line": {
              "color": "white"
             }
            },
            "header": {
             "fill": {
              "color": "#C8D4E3"
             },
             "line": {
              "color": "white"
             }
            },
            "type": "table"
           }
          ]
         },
         "layout": {
          "annotationdefaults": {
           "arrowcolor": "#2a3f5f",
           "arrowhead": 0,
           "arrowwidth": 1
          },
          "coloraxis": {
           "colorbar": {
            "outlinewidth": 0,
            "ticks": ""
           }
          },
          "colorscale": {
           "diverging": [
            [
             0,
             "#8e0152"
            ],
            [
             0.1,
             "#c51b7d"
            ],
            [
             0.2,
             "#de77ae"
            ],
            [
             0.3,
             "#f1b6da"
            ],
            [
             0.4,
             "#fde0ef"
            ],
            [
             0.5,
             "#f7f7f7"
            ],
            [
             0.6,
             "#e6f5d0"
            ],
            [
             0.7,
             "#b8e186"
            ],
            [
             0.8,
             "#7fbc41"
            ],
            [
             0.9,
             "#4d9221"
            ],
            [
             1,
             "#276419"
            ]
           ],
           "sequential": [
            [
             0,
             "#0d0887"
            ],
            [
             0.1111111111111111,
             "#46039f"
            ],
            [
             0.2222222222222222,
             "#7201a8"
            ],
            [
             0.3333333333333333,
             "#9c179e"
            ],
            [
             0.4444444444444444,
             "#bd3786"
            ],
            [
             0.5555555555555556,
             "#d8576b"
            ],
            [
             0.6666666666666666,
             "#ed7953"
            ],
            [
             0.7777777777777778,
             "#fb9f3a"
            ],
            [
             0.8888888888888888,
             "#fdca26"
            ],
            [
             1,
             "#f0f921"
            ]
           ],
           "sequentialminus": [
            [
             0,
             "#0d0887"
            ],
            [
             0.1111111111111111,
             "#46039f"
            ],
            [
             0.2222222222222222,
             "#7201a8"
            ],
            [
             0.3333333333333333,
             "#9c179e"
            ],
            [
             0.4444444444444444,
             "#bd3786"
            ],
            [
             0.5555555555555556,
             "#d8576b"
            ],
            [
             0.6666666666666666,
             "#ed7953"
            ],
            [
             0.7777777777777778,
             "#fb9f3a"
            ],
            [
             0.8888888888888888,
             "#fdca26"
            ],
            [
             1,
             "#f0f921"
            ]
           ]
          },
          "colorway": [
           "#636efa",
           "#EF553B",
           "#00cc96",
           "#ab63fa",
           "#FFA15A",
           "#19d3f3",
           "#FF6692",
           "#B6E880",
           "#FF97FF",
           "#FECB52"
          ],
          "font": {
           "color": "#2a3f5f"
          },
          "geo": {
           "bgcolor": "white",
           "lakecolor": "white",
           "landcolor": "#E5ECF6",
           "showlakes": true,
           "showland": true,
           "subunitcolor": "white"
          },
          "hoverlabel": {
           "align": "left"
          },
          "hovermode": "closest",
          "mapbox": {
           "style": "light"
          },
          "paper_bgcolor": "white",
          "plot_bgcolor": "#E5ECF6",
          "polar": {
           "angularaxis": {
            "gridcolor": "white",
            "linecolor": "white",
            "ticks": ""
           },
           "bgcolor": "#E5ECF6",
           "radialaxis": {
            "gridcolor": "white",
            "linecolor": "white",
            "ticks": ""
           }
          },
          "scene": {
           "xaxis": {
            "backgroundcolor": "#E5ECF6",
            "gridcolor": "white",
            "gridwidth": 2,
            "linecolor": "white",
            "showbackground": true,
            "ticks": "",
            "zerolinecolor": "white"
           },
           "yaxis": {
            "backgroundcolor": "#E5ECF6",
            "gridcolor": "white",
            "gridwidth": 2,
            "linecolor": "white",
            "showbackground": true,
            "ticks": "",
            "zerolinecolor": "white"
           },
           "zaxis": {
            "backgroundcolor": "#E5ECF6",
            "gridcolor": "white",
            "gridwidth": 2,
            "linecolor": "white",
            "showbackground": true,
            "ticks": "",
            "zerolinecolor": "white"
           }
          },
          "shapedefaults": {
           "line": {
            "color": "#2a3f5f"
           }
          },
          "ternary": {
           "aaxis": {
            "gridcolor": "white",
            "linecolor": "white",
            "ticks": ""
           },
           "baxis": {
            "gridcolor": "white",
            "linecolor": "white",
            "ticks": ""
           },
           "bgcolor": "#E5ECF6",
           "caxis": {
            "gridcolor": "white",
            "linecolor": "white",
            "ticks": ""
           }
          },
          "title": {
           "x": 0.05
          },
          "xaxis": {
           "automargin": true,
           "gridcolor": "white",
           "linecolor": "white",
           "ticks": "",
           "title": {
            "standoff": 15
           },
           "zerolinecolor": "white",
           "zerolinewidth": 2
          },
          "yaxis": {
           "automargin": true,
           "gridcolor": "white",
           "linecolor": "white",
           "ticks": "",
           "title": {
            "standoff": 15
           },
           "zerolinecolor": "white",
           "zerolinewidth": 2
          }
         }
        },
        "xaxis": {
         "title": {
          "text": "Android Security Bulletins"
         }
        },
        "yaxis": {
         "gridcolor": "rgb(219, 219, 219)",
         "showgrid": true,
         "title": {
          "text": "Average Number of Updates"
         }
        }
       }
      },
      "text/html": [
       "<div>\n",
       "        \n",
       "        \n",
       "            <div id=\"f80f03f8-3dad-4700-ba6d-99e5cb117f9d\" class=\"plotly-graph-div\" style=\"height:525px; width:100%;\"></div>\n",
       "            <script type=\"text/javascript\">\n",
       "                require([\"plotly\"], function(Plotly) {\n",
       "                    window.PLOTLYENV=window.PLOTLYENV || {};\n",
       "                    \n",
       "                if (document.getElementById(\"f80f03f8-3dad-4700-ba6d-99e5cb117f9d\")) {\n",
       "                    Plotly.newPlot(\n",
       "                        'f80f03f8-3dad-4700-ba6d-99e5cb117f9d',\n",
       "                        [{\"line\": {\"color\": \"deepskyblue\"}, \"name\": \"Number of Updates\", \"type\": \"scatter\", \"x\": [\"2015-08-01T00:00:00.000000000\", \"2015-09-01T00:00:00.000000000\", \"2015-10-01T00:00:00.000000000\", \"2015-11-01T00:00:00.000000000\", \"2015-12-01T00:00:00.000000000\", \"2016-01-01T00:00:00.000000000\", \"2016-02-01T00:00:00.000000000\", \"2016-03-01T00:00:00.000000000\", \"2016-04-01T00:00:00.000000000\", \"2016-05-01T00:00:00.000000000\", \"2016-06-01T00:00:00.000000000\", \"2016-07-01T00:00:00.000000000\", \"2016-08-01T00:00:00.000000000\", \"2016-09-01T00:00:00.000000000\", \"2016-10-01T00:00:00.000000000\", \"2016-11-01T00:00:00.000000000\", \"2016-12-01T00:00:00.000000000\", \"2017-01-01T00:00:00.000000000\", \"2017-02-01T00:00:00.000000000\", \"2017-03-01T00:00:00.000000000\", \"2017-04-01T00:00:00.000000000\", \"2017-05-01T00:00:00.000000000\", \"2017-06-01T00:00:00.000000000\", \"2017-07-01T00:00:00.000000000\", \"2017-08-01T00:00:00.000000000\", \"2017-09-01T00:00:00.000000000\", \"2017-10-01T00:00:00.000000000\", \"2017-11-01T00:00:00.000000000\", \"2017-12-01T00:00:00.000000000\", \"2018-01-01T00:00:00.000000000\", \"2018-02-01T00:00:00.000000000\", \"2018-03-01T00:00:00.000000000\", \"2018-04-01T00:00:00.000000000\", \"2018-05-01T00:00:00.000000000\", \"2018-06-01T00:00:00.000000000\", \"2018-07-01T00:00:00.000000000\", \"2018-08-01T00:00:00.000000000\", \"2018-09-01T00:00:00.000000000\", \"2018-10-01T00:00:00.000000000\", \"2018-11-01T00:00:00.000000000\", \"2018-12-01T00:00:00.000000000\", \"2019-01-01T00:00:00.000000000\", \"2019-02-01T00:00:00.000000000\", \"2019-03-01T00:00:00.000000000\", \"2019-04-01T00:00:00.000000000\", \"2019-05-01T00:00:00.000000000\", \"2019-06-01T00:00:00.000000000\", \"2019-07-01T00:00:00.000000000\", \"2019-08-01T00:00:00.000000000\", \"2019-09-01T00:00:00.000000000\", \"2019-10-01T00:00:00.000000000\", \"2019-11-01T00:00:00.000000000\", \"2019-12-01T00:00:00.000000000\"], \"y\": [10, 23, 12, 27, 18, 12, 12, 15, 18, 20, 20, 31, 32, 31, 27, 33, 16, 35, 32, 31, 34, 33, 30, 38, 24, 23, 30, 36, 30, 33, 24, 29, 27, 29, 32, 27, 31, 21, 33, 39, 32, 39, 39, 43, 36, 27, 15, 14, 25, 25, 25, 23, 11]}, {\"line\": {\"color\": \"dimgray\"}, \"name\": \"Average Latency\", \"type\": \"scatter\", \"x\": [\"2015-08-01T00:00:00.000000000\", \"2015-09-01T00:00:00.000000000\", \"2015-10-01T00:00:00.000000000\", \"2015-11-01T00:00:00.000000000\", \"2015-12-01T00:00:00.000000000\", \"2016-01-01T00:00:00.000000000\", \"2016-02-01T00:00:00.000000000\", \"2016-03-01T00:00:00.000000000\", \"2016-04-01T00:00:00.000000000\", \"2016-05-01T00:00:00.000000000\", \"2016-06-01T00:00:00.000000000\", \"2016-07-01T00:00:00.000000000\", \"2016-08-01T00:00:00.000000000\", \"2016-09-01T00:00:00.000000000\", \"2016-10-01T00:00:00.000000000\", \"2016-11-01T00:00:00.000000000\", \"2016-12-01T00:00:00.000000000\", \"2017-01-01T00:00:00.000000000\", \"2017-02-01T00:00:00.000000000\", \"2017-03-01T00:00:00.000000000\", \"2017-04-01T00:00:00.000000000\", \"2017-05-01T00:00:00.000000000\", \"2017-06-01T00:00:00.000000000\", \"2017-07-01T00:00:00.000000000\", \"2017-08-01T00:00:00.000000000\", \"2017-09-01T00:00:00.000000000\", \"2017-10-01T00:00:00.000000000\", \"2017-11-01T00:00:00.000000000\", \"2017-12-01T00:00:00.000000000\", \"2018-01-01T00:00:00.000000000\", \"2018-02-01T00:00:00.000000000\", \"2018-03-01T00:00:00.000000000\", \"2018-04-01T00:00:00.000000000\", \"2018-05-01T00:00:00.000000000\", \"2018-06-01T00:00:00.000000000\", \"2018-07-01T00:00:00.000000000\", \"2018-08-01T00:00:00.000000000\", \"2018-09-01T00:00:00.000000000\", \"2018-10-01T00:00:00.000000000\", \"2018-11-01T00:00:00.000000000\", \"2018-12-01T00:00:00.000000000\", \"2019-01-01T00:00:00.000000000\", \"2019-02-01T00:00:00.000000000\", \"2019-03-01T00:00:00.000000000\", \"2019-04-01T00:00:00.000000000\", \"2019-05-01T00:00:00.000000000\", \"2019-06-01T00:00:00.000000000\", \"2019-07-01T00:00:00.000000000\", \"2019-08-01T00:00:00.000000000\", \"2019-09-01T00:00:00.000000000\", \"2019-10-01T00:00:00.000000000\", \"2019-11-01T00:00:00.000000000\", \"2019-12-01T00:00:00.000000000\"], \"y\": [13.8, 14.391304347826088, 9.166666666666666, 15.0, 11.88888888888889, 9.833333333333334, 10.166666666666666, 19.533333333333335, 17.27777777777778, 18.6, 23.35, 22.64516129032258, 21.34375, 23.032258064516128, 24.11111111111111, 25.151515151515152, 37.5, 27.314285714285713, 17.9375, 25.387096774193548, 21.705882352941178, 24.393939393939394, 22.9, 22.55263157894737, 24.125, 20.91304347826087, 29.866666666666667, 23.36111111111111, 18.566666666666666, 25.727272727272727, 28.75, 30.655172413793103, 24.85185185185185, 39.827586206896555, 21.40625, 22.37037037037037, 36.16129032258065, 27.285714285714285, 29.454545454545453, 26.102564102564102, 22.15625, 31.512820512820515, 22.23076923076923, 29.74418604651163, 26.083333333333332, 22.14814814814815, 20.133333333333333, 23.857142857142858, 24.68, 29.96, 24.48, 17.782608695652176, 14.727272727272727]}, {\"line\": {\"color\": \"olive\"}, \"name\": \"Median Latency\", \"type\": \"scatter\", \"x\": [\"2015-08-01T00:00:00.000000000\", \"2015-09-01T00:00:00.000000000\", \"2015-10-01T00:00:00.000000000\", \"2015-11-01T00:00:00.000000000\", \"2015-12-01T00:00:00.000000000\", \"2016-01-01T00:00:00.000000000\", \"2016-02-01T00:00:00.000000000\", \"2016-03-01T00:00:00.000000000\", \"2016-04-01T00:00:00.000000000\", \"2016-05-01T00:00:00.000000000\", \"2016-06-01T00:00:00.000000000\", \"2016-07-01T00:00:00.000000000\", \"2016-08-01T00:00:00.000000000\", \"2016-09-01T00:00:00.000000000\", \"2016-10-01T00:00:00.000000000\", \"2016-11-01T00:00:00.000000000\", \"2016-12-01T00:00:00.000000000\", \"2017-01-01T00:00:00.000000000\", \"2017-02-01T00:00:00.000000000\", \"2017-03-01T00:00:00.000000000\", \"2017-04-01T00:00:00.000000000\", \"2017-05-01T00:00:00.000000000\", \"2017-06-01T00:00:00.000000000\", \"2017-07-01T00:00:00.000000000\", \"2017-08-01T00:00:00.000000000\", \"2017-09-01T00:00:00.000000000\", \"2017-10-01T00:00:00.000000000\", \"2017-11-01T00:00:00.000000000\", \"2017-12-01T00:00:00.000000000\", \"2018-01-01T00:00:00.000000000\", \"2018-02-01T00:00:00.000000000\", \"2018-03-01T00:00:00.000000000\", \"2018-04-01T00:00:00.000000000\", \"2018-05-01T00:00:00.000000000\", \"2018-06-01T00:00:00.000000000\", \"2018-07-01T00:00:00.000000000\", \"2018-08-01T00:00:00.000000000\", \"2018-09-01T00:00:00.000000000\", \"2018-10-01T00:00:00.000000000\", \"2018-11-01T00:00:00.000000000\", \"2018-12-01T00:00:00.000000000\", \"2019-01-01T00:00:00.000000000\", \"2019-02-01T00:00:00.000000000\", \"2019-03-01T00:00:00.000000000\", \"2019-04-01T00:00:00.000000000\", \"2019-05-01T00:00:00.000000000\", \"2019-06-01T00:00:00.000000000\", \"2019-07-01T00:00:00.000000000\", \"2019-08-01T00:00:00.000000000\", \"2019-09-01T00:00:00.000000000\", \"2019-10-01T00:00:00.000000000\", \"2019-11-01T00:00:00.000000000\", \"2019-12-01T00:00:00.000000000\"], \"y\": [12.5, 13.0, 4.0, 15.0, 13.0, 10.0, 11.0, 17.0, 17.5, 18.0, 26.0, 20.0, 21.0, 25.0, 25.0, 28.0, 42.0, 29.0, 17.5, 26.0, 18.0, 24.0, 22.0, 20.0, 23.5, 24.0, 31.5, 21.0, 20.0, 25.0, 29.5, 28.0, 25.0, 28.0, 24.0, 23.0, 30.0, 24.0, 28.0, 27.0, 19.0, 27.0, 24.0, 26.0, 18.0, 18.0, 21.0, 25.0, 26.0, 29.0, 23.0, 14.0, 14.0]}],\n",
       "                        {\"plot_bgcolor\": \"rgba(0,0,0,0)\", \"template\": {\"data\": {\"bar\": [{\"error_x\": {\"color\": \"#2a3f5f\"}, \"error_y\": {\"color\": \"#2a3f5f\"}, \"marker\": {\"line\": {\"color\": \"#E5ECF6\", \"width\": 0.5}}, \"type\": \"bar\"}], \"barpolar\": [{\"marker\": {\"line\": {\"color\": \"#E5ECF6\", \"width\": 0.5}}, \"type\": \"barpolar\"}], \"carpet\": [{\"aaxis\": {\"endlinecolor\": \"#2a3f5f\", \"gridcolor\": \"white\", \"linecolor\": \"white\", \"minorgridcolor\": \"white\", \"startlinecolor\": \"#2a3f5f\"}, \"baxis\": {\"endlinecolor\": \"#2a3f5f\", \"gridcolor\": \"white\", \"linecolor\": \"white\", \"minorgridcolor\": \"white\", \"startlinecolor\": \"#2a3f5f\"}, \"type\": \"carpet\"}], \"choropleth\": [{\"colorbar\": {\"outlinewidth\": 0, \"ticks\": \"\"}, \"type\": \"choropleth\"}], \"contour\": [{\"colorbar\": {\"outlinewidth\": 0, \"ticks\": \"\"}, \"colorscale\": [[0.0, \"#0d0887\"], [0.1111111111111111, \"#46039f\"], [0.2222222222222222, \"#7201a8\"], [0.3333333333333333, \"#9c179e\"], [0.4444444444444444, \"#bd3786\"], [0.5555555555555556, \"#d8576b\"], [0.6666666666666666, \"#ed7953\"], [0.7777777777777778, \"#fb9f3a\"], [0.8888888888888888, \"#fdca26\"], [1.0, \"#f0f921\"]], \"type\": \"contour\"}], \"contourcarpet\": [{\"colorbar\": {\"outlinewidth\": 0, \"ticks\": \"\"}, \"type\": \"contourcarpet\"}], \"heatmap\": [{\"colorbar\": {\"outlinewidth\": 0, \"ticks\": \"\"}, \"colorscale\": [[0.0, \"#0d0887\"], [0.1111111111111111, \"#46039f\"], [0.2222222222222222, \"#7201a8\"], [0.3333333333333333, \"#9c179e\"], [0.4444444444444444, \"#bd3786\"], [0.5555555555555556, \"#d8576b\"], [0.6666666666666666, \"#ed7953\"], [0.7777777777777778, \"#fb9f3a\"], [0.8888888888888888, \"#fdca26\"], [1.0, \"#f0f921\"]], \"type\": \"heatmap\"}], \"heatmapgl\": [{\"colorbar\": {\"outlinewidth\": 0, \"ticks\": \"\"}, \"colorscale\": [[0.0, \"#0d0887\"], [0.1111111111111111, \"#46039f\"], [0.2222222222222222, \"#7201a8\"], [0.3333333333333333, \"#9c179e\"], [0.4444444444444444, \"#bd3786\"], [0.5555555555555556, \"#d8576b\"], [0.6666666666666666, \"#ed7953\"], [0.7777777777777778, \"#fb9f3a\"], [0.8888888888888888, \"#fdca26\"], [1.0, \"#f0f921\"]], \"type\": \"heatmapgl\"}], \"histogram\": [{\"marker\": {\"colorbar\": {\"outlinewidth\": 0, \"ticks\": \"\"}}, \"type\": \"histogram\"}], \"histogram2d\": [{\"colorbar\": {\"outlinewidth\": 0, \"ticks\": \"\"}, \"colorscale\": [[0.0, \"#0d0887\"], [0.1111111111111111, \"#46039f\"], [0.2222222222222222, \"#7201a8\"], [0.3333333333333333, \"#9c179e\"], [0.4444444444444444, \"#bd3786\"], [0.5555555555555556, \"#d8576b\"], [0.6666666666666666, \"#ed7953\"], [0.7777777777777778, \"#fb9f3a\"], [0.8888888888888888, \"#fdca26\"], [1.0, \"#f0f921\"]], \"type\": \"histogram2d\"}], \"histogram2dcontour\": [{\"colorbar\": {\"outlinewidth\": 0, \"ticks\": \"\"}, \"colorscale\": [[0.0, \"#0d0887\"], [0.1111111111111111, \"#46039f\"], [0.2222222222222222, \"#7201a8\"], [0.3333333333333333, \"#9c179e\"], [0.4444444444444444, \"#bd3786\"], [0.5555555555555556, \"#d8576b\"], [0.6666666666666666, \"#ed7953\"], [0.7777777777777778, \"#fb9f3a\"], [0.8888888888888888, \"#fdca26\"], [1.0, \"#f0f921\"]], \"type\": \"histogram2dcontour\"}], \"mesh3d\": [{\"colorbar\": {\"outlinewidth\": 0, \"ticks\": \"\"}, \"type\": \"mesh3d\"}], \"parcoords\": [{\"line\": {\"colorbar\": {\"outlinewidth\": 0, \"ticks\": \"\"}}, \"type\": \"parcoords\"}], \"pie\": [{\"automargin\": true, \"type\": \"pie\"}], \"scatter\": [{\"marker\": {\"colorbar\": {\"outlinewidth\": 0, \"ticks\": \"\"}}, \"type\": \"scatter\"}], \"scatter3d\": [{\"line\": {\"colorbar\": {\"outlinewidth\": 0, \"ticks\": \"\"}}, \"marker\": {\"colorbar\": {\"outlinewidth\": 0, \"ticks\": \"\"}}, \"type\": \"scatter3d\"}], \"scattercarpet\": [{\"marker\": {\"colorbar\": {\"outlinewidth\": 0, \"ticks\": \"\"}}, \"type\": \"scattercarpet\"}], \"scattergeo\": [{\"marker\": {\"colorbar\": {\"outlinewidth\": 0, \"ticks\": \"\"}}, \"type\": \"scattergeo\"}], \"scattergl\": [{\"marker\": {\"colorbar\": {\"outlinewidth\": 0, \"ticks\": \"\"}}, \"type\": \"scattergl\"}], \"scattermapbox\": [{\"marker\": {\"colorbar\": {\"outlinewidth\": 0, \"ticks\": \"\"}}, \"type\": \"scattermapbox\"}], \"scatterpolar\": [{\"marker\": {\"colorbar\": {\"outlinewidth\": 0, \"ticks\": \"\"}}, \"type\": \"scatterpolar\"}], \"scatterpolargl\": [{\"marker\": {\"colorbar\": {\"outlinewidth\": 0, \"ticks\": \"\"}}, \"type\": \"scatterpolargl\"}], \"scatterternary\": [{\"marker\": {\"colorbar\": {\"outlinewidth\": 0, \"ticks\": \"\"}}, \"type\": \"scatterternary\"}], \"surface\": [{\"colorbar\": {\"outlinewidth\": 0, \"ticks\": \"\"}, \"colorscale\": [[0.0, \"#0d0887\"], [0.1111111111111111, \"#46039f\"], [0.2222222222222222, \"#7201a8\"], [0.3333333333333333, \"#9c179e\"], [0.4444444444444444, \"#bd3786\"], [0.5555555555555556, \"#d8576b\"], [0.6666666666666666, \"#ed7953\"], [0.7777777777777778, \"#fb9f3a\"], [0.8888888888888888, \"#fdca26\"], [1.0, \"#f0f921\"]], \"type\": \"surface\"}], \"table\": [{\"cells\": {\"fill\": {\"color\": \"#EBF0F8\"}, \"line\": {\"color\": \"white\"}}, \"header\": {\"fill\": {\"color\": \"#C8D4E3\"}, \"line\": {\"color\": \"white\"}}, \"type\": \"table\"}]}, \"layout\": {\"annotationdefaults\": {\"arrowcolor\": \"#2a3f5f\", \"arrowhead\": 0, \"arrowwidth\": 1}, \"coloraxis\": {\"colorbar\": {\"outlinewidth\": 0, \"ticks\": \"\"}}, \"colorscale\": {\"diverging\": [[0, \"#8e0152\"], [0.1, \"#c51b7d\"], [0.2, \"#de77ae\"], [0.3, \"#f1b6da\"], [0.4, \"#fde0ef\"], [0.5, \"#f7f7f7\"], [0.6, \"#e6f5d0\"], [0.7, \"#b8e186\"], [0.8, \"#7fbc41\"], [0.9, \"#4d9221\"], [1, \"#276419\"]], \"sequential\": [[0.0, \"#0d0887\"], [0.1111111111111111, \"#46039f\"], [0.2222222222222222, \"#7201a8\"], [0.3333333333333333, \"#9c179e\"], [0.4444444444444444, \"#bd3786\"], [0.5555555555555556, \"#d8576b\"], [0.6666666666666666, \"#ed7953\"], [0.7777777777777778, \"#fb9f3a\"], [0.8888888888888888, \"#fdca26\"], [1.0, \"#f0f921\"]], \"sequentialminus\": [[0.0, \"#0d0887\"], [0.1111111111111111, \"#46039f\"], [0.2222222222222222, \"#7201a8\"], [0.3333333333333333, \"#9c179e\"], [0.4444444444444444, \"#bd3786\"], [0.5555555555555556, \"#d8576b\"], [0.6666666666666666, \"#ed7953\"], [0.7777777777777778, \"#fb9f3a\"], [0.8888888888888888, \"#fdca26\"], [1.0, \"#f0f921\"]]}, \"colorway\": [\"#636efa\", \"#EF553B\", \"#00cc96\", \"#ab63fa\", \"#FFA15A\", \"#19d3f3\", \"#FF6692\", \"#B6E880\", \"#FF97FF\", \"#FECB52\"], \"font\": {\"color\": \"#2a3f5f\"}, \"geo\": {\"bgcolor\": \"white\", \"lakecolor\": \"white\", \"landcolor\": \"#E5ECF6\", \"showlakes\": true, \"showland\": true, \"subunitcolor\": \"white\"}, \"hoverlabel\": {\"align\": \"left\"}, \"hovermode\": \"closest\", \"mapbox\": {\"style\": \"light\"}, \"paper_bgcolor\": \"white\", \"plot_bgcolor\": \"#E5ECF6\", \"polar\": {\"angularaxis\": {\"gridcolor\": \"white\", \"linecolor\": \"white\", \"ticks\": \"\"}, \"bgcolor\": \"#E5ECF6\", \"radialaxis\": {\"gridcolor\": \"white\", \"linecolor\": \"white\", \"ticks\": \"\"}}, \"scene\": {\"xaxis\": {\"backgroundcolor\": \"#E5ECF6\", \"gridcolor\": \"white\", \"gridwidth\": 2, \"linecolor\": \"white\", \"showbackground\": true, \"ticks\": \"\", \"zerolinecolor\": \"white\"}, \"yaxis\": {\"backgroundcolor\": \"#E5ECF6\", \"gridcolor\": \"white\", \"gridwidth\": 2, \"linecolor\": \"white\", \"showbackground\": true, \"ticks\": \"\", \"zerolinecolor\": \"white\"}, \"zaxis\": {\"backgroundcolor\": \"#E5ECF6\", \"gridcolor\": \"white\", \"gridwidth\": 2, \"linecolor\": \"white\", \"showbackground\": true, \"ticks\": \"\", \"zerolinecolor\": \"white\"}}, \"shapedefaults\": {\"line\": {\"color\": \"#2a3f5f\"}}, \"ternary\": {\"aaxis\": {\"gridcolor\": \"white\", \"linecolor\": \"white\", \"ticks\": \"\"}, \"baxis\": {\"gridcolor\": \"white\", \"linecolor\": \"white\", \"ticks\": \"\"}, \"bgcolor\": \"#E5ECF6\", \"caxis\": {\"gridcolor\": \"white\", \"linecolor\": \"white\", \"ticks\": \"\"}}, \"title\": {\"x\": 0.05}, \"xaxis\": {\"automargin\": true, \"gridcolor\": \"white\", \"linecolor\": \"white\", \"ticks\": \"\", \"title\": {\"standoff\": 15}, \"zerolinecolor\": \"white\", \"zerolinewidth\": 2}, \"yaxis\": {\"automargin\": true, \"gridcolor\": \"white\", \"linecolor\": \"white\", \"ticks\": \"\", \"title\": {\"standoff\": 15}, \"zerolinecolor\": \"white\", \"zerolinewidth\": 2}}}, \"xaxis\": {\"title\": {\"text\": \"Android Security Bulletins\"}}, \"yaxis\": {\"gridcolor\": \"rgb(219, 219, 219)\", \"showgrid\": true, \"title\": {\"text\": \"Average Number of Updates\"}}},\n",
       "                        {\"responsive\": true}\n",
       "                    ).then(function(){\n",
       "                            \n",
       "var gd = document.getElementById('f80f03f8-3dad-4700-ba6d-99e5cb117f9d');\n",
       "var x = new MutationObserver(function (mutations, observer) {{\n",
       "        var display = window.getComputedStyle(gd).display;\n",
       "        if (!display || display === 'none') {{\n",
       "            console.log([gd, 'removed!']);\n",
       "            Plotly.purge(gd);\n",
       "            observer.disconnect();\n",
       "        }}\n",
       "}});\n",
       "\n",
       "// Listen for the removal of the full notebook cells\n",
       "var notebookContainer = gd.closest('#notebook-container');\n",
       "if (notebookContainer) {{\n",
       "    x.observe(notebookContainer, {childList: true});\n",
       "}}\n",
       "\n",
       "// Listen for the clearing of the current output cell\n",
       "var outputEl = gd.closest('.output');\n",
       "if (outputEl) {{\n",
       "    x.observe(outputEl, {childList: true});\n",
       "}}\n",
       "\n",
       "                        })\n",
       "                };\n",
       "                });\n",
       "            </script>\n",
       "        </div>"
      ]
     },
     "metadata": {},
     "output_type": "display_data"
    }
   ],
   "source": [
    "# Per bulletin, look at the difference box plot\n",
    "carrierDF.Bulletin_Level=pd.to_datetime(carrierDF.Bulletin_Level)\n",
    "uniqueBulletins=carrierDF.Bulletin_Level.unique()\n",
    "uniqueBulletins.sort()\n",
    "print(\"Unique number of bulletins: \")\n",
    "print(len(uniqueBulletins))\n",
    "print()\n",
    "\n",
    "# print(uniqueBulletins)\n",
    "carrierDF['Bulletin_Level_Year']=carrierDF['Bulletin_Level_Year'].astype(int)\n",
    "\n",
    "\n",
    "data=[]\n",
    "data2=[]\n",
    "vals2=[[],[]]\n",
    "vals3=[[],[]]\n",
    "for bul in uniqueBulletins:\n",
    "    tmp=carrierDF[carrierDF.Bulletin_Level==bul]\n",
    "    bulTime=pd.to_datetime(str(bul))\n",
    "    tempX=[[bulTime.strftime(\"%Y\") for _ in tmp.difference.values]]\n",
    "    tempX.append([bulTime.strftime(\"%m\") for _ in tmp.difference.values])\n",
    "    data.append(go.Box(\n",
    "            #x=tempX.copy(), #[bulTime.strftime(\"%Y-%m\") for _ in tmp.difference.values],\n",
    "            y=tmp.difference.values,\n",
    "            name=bulTime.strftime(\"%m/%Y\"),#bulTime.strftime(\"%Y-%m\"), #str(bul)\n",
    "            showlegend=False,\n",
    "            marker=dict(color=\"rgb(31, 119, 180)\")\n",
    "            #boxpoints = 'all',\n",
    "        ))\n",
    "    \n",
    "#     vals2[0].append(str(bul))\n",
    "#     vals2[1].append(len(tmp))\n",
    "    \n",
    "#     vals3[0].append(str(bul))\n",
    "#     vals3[1].append(statistics.mean(tmp.difference.values))\n",
    "    \n",
    "# data2.append(go.Scatter(\n",
    "#             x=vals2[0],\n",
    "#             y=vals2[1],\n",
    "#             name=\"Number of Updates\",\n",
    "#             #boxpoints = 'all',\n",
    "#             line_color='deepskyblue'\n",
    "#         ))\n",
    "\n",
    "# data2.append(go.Scatter(\n",
    "#         x=vals3[0],\n",
    "#         y=vals3[1],\n",
    "#         name=\"Average Latency\",\n",
    "#         #boxpoints = 'all',\n",
    "#         line_color='dimgray'\n",
    "#     ))\n",
    "        \n",
    "# Edit the layout\n",
    "\n",
    "layout = dict(#title = \"Average Latency per 6 Month Periods after Release\",\n",
    "              yaxis = dict(title = 'Days',showgrid=True, gridcolor='rgb(219, 219, 219)'),\n",
    "#               xaxis = dict(title = 'Android Security Bulletin',ticks=\"inside\",tickwidth=2, tickcolor='rgb(219, 219, 219)',ticklen=15),\n",
    "              xaxis = dict(title = 'Android Security Bulletin',type=\"category\",tickmode=\"array\",tickformat = '%m/%Y',\n",
    "                                tickvals = [0,12, 24, 36, 48], # 52 for last section\n",
    "                                ticktext = [\"08/2015\",'08/2016', '08/2017', '08/2018', '08/2019'], # '12/2019'\n",
    "                                ticks=\"outside\",\n",
    "                                #type=\"multicategory\"\n",
    "                          ), #\n",
    "              plot_bgcolor='rgba(0,0,0,0)',\n",
    "              font=dict(size=20),\n",
    "              )\n",
    "\n",
    "\n",
    "fig = dict(data=data, layout=layout)\n",
    "# py.offline.iplot(fig, filename='avg-latency-since-release-years.png')\n",
    "\n",
    "pio.write_image(fig, 'latency-across-time.pdf', width=1100, height=600)\n",
    "\n",
    "\n",
    "# # Graph to display number of points\n",
    "# layout = dict(#title = \"Average Latency per 6 Month Periods after Release\",\n",
    "#               yaxis = dict(title = 'Number of Updates',showgrid=True, gridcolor='rgb(219, 219, 219)'),\n",
    "#               xaxis = dict(title = 'Android Security Bulletins'),\n",
    "#               plot_bgcolor='rgba(0,0,0,0)',\n",
    "#               )\n",
    "# fig = dict(data=data2, layout=layout)\n",
    "# py.offline.iplot(fig, filename='avg-latency-since-release-years.png')\n",
    "\n",
    "\n",
    "\n",
    "####################################################################################\n",
    "####################################################################################\n",
    "####################################################################################\n",
    "####################################################################################\n",
    "\n",
    "\n",
    "\n",
    "# Per bulletin, look at the difference box plot\n",
    "carrierDF.Bulletin_Level=pd.to_datetime(carrierDF.Bulletin_Level)\n",
    "uniqueBulletins=carrierDF.Bulletin_Level.unique()\n",
    "uniqueBulletins.sort()\n",
    "print(\"Unique number of bulletins: \")\n",
    "print(len(uniqueBulletins))\n",
    "print()\n",
    "\n",
    "# print(uniqueBulletins)\n",
    "carrierDF['Bulletin_Level_Year']=carrierDF['Bulletin_Level_Year'].astype(int)\n",
    "\n",
    "\n",
    "data=[]\n",
    "data2=[]\n",
    "vals2=[[],[]]\n",
    "vals3=[[],[]]\n",
    "vals4=[[],[]]\n",
    "for bul in uniqueBulletins:\n",
    "    tmp=carrierDF[carrierDF.Bulletin_Level==bul]\n",
    "    bulTime=pd.to_datetime(str(bul))\n",
    "    tempX=[[bulTime.strftime(\"%Y\") for _ in tmp.difference.values]]\n",
    "    tempX.append([bulTime.strftime(\"%m\") for _ in tmp.difference.values])\n",
    "    \n",
    "    vals2[0].append(str(bul))\n",
    "    vals2[1].append(len(tmp))\n",
    "    \n",
    "    vals3[0].append(str(bul))\n",
    "    vals3[1].append(statistics.mean(tmp.difference.values))\n",
    "    \n",
    "    vals4[0].append(str(bul))\n",
    "    vals4[1].append(statistics.median(tmp.difference.values))\n",
    "    \n",
    "data2.append(go.Scatter(\n",
    "            x=vals2[0],\n",
    "            y=vals2[1],\n",
    "            name=\"Number of Updates\",\n",
    "            #boxpoints = 'all',\n",
    "            line_color='deepskyblue'\n",
    "        ))\n",
    "\n",
    "data2.append(go.Scatter(\n",
    "        x=vals3[0],\n",
    "        y=vals3[1],\n",
    "        name=\"Average Latency\",\n",
    "        #boxpoints = 'all',\n",
    "        line_color='dimgray',\n",
    "    ))\n",
    "\n",
    "data2.append(go.Scatter(\n",
    "        x=vals4[0],\n",
    "        y=vals4[1],\n",
    "        name=\"Median Latency\",\n",
    "        #boxpoints = 'all',\n",
    "        line_color='olive'\n",
    "    ))\n",
    "\n",
    "\n",
    "# Graph to display number of points\n",
    "layout = dict(#title = \"Average Latency per 6 Month Periods after Release\",\n",
    "              yaxis = dict(title = 'Average Number of Updates',showgrid=True, gridcolor='rgb(219, 219, 219)'),\n",
    "              xaxis = dict(title = 'Android Security Bulletins'),\n",
    "              plot_bgcolor='rgba(0,0,0,0)',\n",
    "              )\n",
    "fig = dict(data=data2, layout=layout)\n",
    "py.offline.iplot(fig, filename='avg-latency-since-release-years.png')\n",
    "\n",
    "\n",
    "\n"
   ]
  },
  {
   "cell_type": "code",
   "execution_count": null,
   "metadata": {},
   "outputs": [],
   "source": []
  },
  {
   "cell_type": "code",
   "execution_count": 5,
   "metadata": {},
   "outputs": [
    {
     "data": {
      "application/vnd.plotly.v1+json": {
       "config": {
        "linkText": "Export to plot.ly",
        "plotlyServerURL": "https://plot.ly",
        "showLink": false
       },
       "data": [
        {
         "name": "2015-08-01T00:00:00.000000000",
         "showlegend": false,
         "type": "box",
         "y": [
          4,
          18,
          4,
          16,
          16,
          9,
          9,
          30,
          9,
          23
         ]
        },
        {
         "name": "2015-09-01T00:00:00.000000000",
         "showlegend": false,
         "type": "box",
         "y": [
          9,
          14,
          14,
          7,
          13,
          15,
          7,
          7,
          27,
          27,
          20,
          7,
          7,
          27,
          2,
          9,
          9,
          2,
          27,
          27,
          27,
          27,
          0
         ]
        },
        {
         "name": "2015-10-01T00:00:00.000000000",
         "showlegend": false,
         "type": "box",
         "y": [
          18,
          21,
          30,
          4,
          11,
          4,
          4,
          4,
          4,
          5,
          4,
          1
         ]
        },
        {
         "name": "2015-11-01T00:00:00.000000000",
         "showlegend": false,
         "type": "box",
         "y": [
          11,
          9,
          23,
          23,
          36,
          36,
          4,
          29,
          4,
          29,
          3,
          3,
          17,
          10,
          17,
          3,
          8,
          19,
          29,
          29,
          1,
          1,
          15,
          15,
          1,
          1,
          29
         ]
        },
        {
         "name": "2015-12-01T00:00:00.000000000",
         "showlegend": false,
         "type": "box",
         "y": [
          21,
          9,
          6,
          0,
          6,
          6,
          6,
          6,
          6,
          30,
          13,
          27,
          13,
          13,
          13,
          13,
          13,
          13
         ]
        },
        {
         "name": "2016-01-01T00:00:00.000000000",
         "showlegend": false,
         "type": "box",
         "y": [
          3,
          11,
          3,
          3,
          10,
          10,
          4,
          27,
          17,
          10,
          10,
          10
         ]
        },
        {
         "name": "2016-02-01T00:00:00.000000000",
         "showlegend": false,
         "type": "box",
         "y": [
          0,
          0,
          0,
          0,
          7,
          15,
          15,
          16,
          15,
          28,
          4,
          22
         ]
        },
        {
         "name": "2016-03-01T00:00:00.000000000",
         "showlegend": false,
         "type": "box",
         "y": [
          17,
          17,
          34,
          31,
          31,
          13,
          13,
          20,
          23,
          23,
          23,
          6,
          10,
          16,
          16
         ]
        },
        {
         "name": "2016-04-01T00:00:00.000000000",
         "showlegend": false,
         "type": "box",
         "y": [
          26,
          17,
          31,
          31,
          31,
          10,
          20,
          18,
          6,
          18,
          18,
          18,
          10,
          17,
          10,
          10,
          17,
          3
         ]
        },
        {
         "name": "2016-05-01T00:00:00.000000000",
         "showlegend": false,
         "type": "box",
         "y": [
          4,
          11,
          30,
          22,
          52,
          30,
          22,
          18,
          18,
          18,
          18,
          10,
          10,
          1,
          22,
          3,
          3,
          29,
          22,
          29
         ]
        },
        {
         "name": "2016-06-01T00:00:00.000000000",
         "showlegend": false,
         "type": "box",
         "y": [
          16,
          14,
          5,
          5,
          5,
          104,
          8,
          35,
          15,
          15,
          26,
          26,
          26,
          26,
          28,
          9,
          26,
          26,
          26,
          26
         ]
        },
        {
         "name": "2016-07-01T00:00:00.000000000",
         "showlegend": false,
         "type": "box",
         "y": [
          89,
          89,
          18,
          5,
          5,
          12,
          27,
          34,
          28,
          27,
          27,
          26,
          20,
          20,
          12,
          0,
          12,
          18,
          5,
          26,
          26,
          22,
          24,
          29,
          29,
          12,
          17,
          12,
          7,
          7,
          17
         ]
        },
        {
         "name": "2016-08-01T00:00:00.000000000",
         "showlegend": false,
         "type": "box",
         "y": [
          42,
          74,
          1,
          18,
          17,
          24,
          10,
          10,
          50,
          50,
          30,
          24,
          24,
          8,
          30,
          16,
          30,
          0,
          1,
          21,
          30,
          23,
          0,
          14,
          7,
          7,
          7,
          21,
          23,
          23,
          27,
          21
         ]
        },
        {
         "name": "2016-09-01T00:00:00.000000000",
         "showlegend": false,
         "type": "box",
         "y": [
          35,
          29,
          29,
          61,
          25,
          25,
          19,
          18,
          18,
          29,
          29,
          26,
          19,
          25,
          29,
          20,
          13,
          13,
          13,
          6,
          25,
          11,
          18,
          27,
          18,
          7,
          33,
          7,
          26,
          26
         ]
        },
        {
         "name": "2016-10-01T00:00:00.000000000",
         "showlegend": false,
         "type": "box",
         "y": [
          27,
          13,
          74,
          38,
          38,
          38,
          25,
          25,
          25,
          25,
          25,
          24,
          25,
          38,
          31,
          2,
          2,
          9,
          11,
          16,
          16,
          23,
          30,
          23,
          23,
          23
         ]
        },
        {
         "name": "2016-11-01T00:00:00.000000000",
         "showlegend": false,
         "type": "box",
         "y": [
          28,
          41,
          7,
          37,
          30,
          28,
          48,
          21,
          21,
          48,
          28,
          17,
          41,
          0,
          9,
          8,
          29,
          20,
          8,
          48,
          48,
          35,
          44,
          29,
          29,
          35,
          4,
          4,
          15,
          15,
          20,
          14
         ]
        },
        {
         "name": "2016-12-01T00:00:00.000000000",
         "showlegend": false,
         "type": "box",
         "y": [
          46,
          40,
          42,
          42,
          46,
          42,
          42,
          42,
          42,
          46,
          29,
          68,
          15,
          20,
          20,
          18
         ]
        },
        {
         "name": "2017-01-01T00:00:00.000000000",
         "showlegend": false,
         "type": "box",
         "y": [
          50,
          9,
          53,
          53,
          53,
          31,
          36,
          38,
          31,
          31,
          38,
          31,
          38,
          38,
          29,
          26,
          26,
          22,
          4,
          4,
          10,
          10,
          10,
          16,
          29,
          2,
          22,
          16,
          50,
          36,
          36,
          22,
          17,
          22
         ]
        },
        {
         "name": "2017-02-01T00:00:00.000000000",
         "showlegend": false,
         "type": "box",
         "y": [
          37,
          37,
          37,
          37,
          37,
          37,
          47,
          16,
          5,
          6,
          13,
          26,
          26,
          5,
          19,
          5,
          15,
          23,
          12,
          19,
          14,
          26,
          0,
          0,
          19,
          19,
          0,
          0,
          23
         ]
        },
        {
         "name": "2017-03-01T00:00:00.000000000",
         "showlegend": false,
         "type": "box",
         "y": [
          50,
          22,
          27,
          27,
          27,
          30,
          26,
          26,
          41,
          22,
          29,
          26,
          35,
          41,
          26,
          20,
          26,
          5,
          25,
          12,
          26,
          26,
          23,
          19,
          22,
          5,
          5,
          5,
          19,
          19,
          75
         ]
        },
        {
         "name": "2017-04-01T00:00:00.000000000",
         "showlegend": false,
         "type": "box",
         "y": [
          60,
          26,
          81,
          80,
          13,
          17,
          17,
          25,
          25,
          26,
          32,
          32,
          32,
          26,
          39,
          20,
          20,
          4,
          4,
          12,
          6,
          13,
          13,
          13,
          13,
          13,
          4,
          1,
          1,
          4,
          19,
          19
         ]
        },
        {
         "name": "2017-05-01T00:00:00.000000000",
         "showlegend": false,
         "type": "box",
         "y": [
          102,
          38,
          21,
          21,
          24,
          24,
          24,
          25,
          24,
          22,
          43,
          43,
          43,
          36,
          23,
          23,
          2,
          23,
          21,
          14,
          0,
          14,
          24,
          1,
          38,
          31,
          31,
          20,
          0,
          25,
          25,
          0,
          0
         ]
        },
        {
         "name": "2017-06-01T00:00:00.000000000",
         "showlegend": false,
         "type": "box",
         "y": [
          50,
          19,
          19,
          19,
          26,
          22,
          22,
          22,
          26,
          35,
          21,
          21,
          18,
          61,
          26,
          22,
          25,
          27,
          34,
          4,
          37,
          36,
          18,
          4,
          4,
          28,
          28,
          5,
          4
         ]
        },
        {
         "name": "2017-07-01T00:00:00.000000000",
         "showlegend": false,
         "type": "box",
         "y": [
          109,
          44,
          20,
          30,
          24,
          24,
          26,
          30,
          38,
          19,
          19,
          11,
          32,
          9,
          9,
          25,
          13,
          6,
          23,
          4,
          23,
          18,
          24,
          19,
          33,
          33,
          19,
          17,
          17,
          19,
          23,
          23,
          7,
          7,
          16
         ]
        },
        {
         "name": "2017-08-01T00:00:00.000000000",
         "showlegend": false,
         "type": "box",
         "y": [
          41,
          10,
          64,
          31,
          71,
          24,
          55,
          24,
          24,
          23,
          24,
          27,
          20,
          8,
          20,
          29,
          0,
          23,
          6,
          30,
          6,
          0,
          0,
          19
         ]
        },
        {
         "name": "2017-09-01T00:00:00.000000000",
         "showlegend": false,
         "type": "box",
         "y": [
          25,
          33,
          0,
          24,
          24,
          28,
          28,
          11,
          11,
          5,
          26,
          25,
          5,
          13,
          26,
          27,
          9,
          48,
          14,
          13,
          13,
          25
         ]
        },
        {
         "name": "2017-10-01T00:00:00.000000000",
         "showlegend": false,
         "type": "box",
         "y": [
          30,
          79,
          39,
          30,
          5,
          30,
          37,
          44,
          39,
          39,
          40,
          37,
          25,
          38,
          38,
          2,
          1,
          1,
          43,
          43,
          43,
          50,
          30,
          2,
          20,
          29,
          30,
          33,
          18,
          1
         ]
        },
        {
         "name": "2017-11-01T00:00:00.000000000",
         "showlegend": false,
         "type": "box",
         "y": [
          14,
          34,
          21,
          63,
          41,
          14,
          41,
          33,
          42,
          37,
          37,
          37,
          41,
          27,
          20,
          34,
          6,
          19,
          14,
          33,
          33,
          1,
          27,
          5,
          1,
          12,
          21,
          8,
          15,
          21,
          21,
          8,
          16,
          16,
          1
         ]
        },
        {
         "name": "2017-12-01T00:00:00.000000000",
         "showlegend": false,
         "type": "box",
         "y": [
          33,
          18,
          27,
          27,
          20,
          20,
          20,
          26,
          26,
          26,
          17,
          26,
          26,
          27,
          17,
          19,
          20,
          6,
          5,
          20,
          20,
          4,
          21,
          6,
          0,
          20,
          0,
          20,
          20,
          20
         ]
        },
        {
         "name": "2018-01-01T00:00:00.000000000",
         "showlegend": false,
         "type": "box",
         "y": [
          21,
          53,
          35,
          2,
          53,
          50,
          32,
          25,
          25,
          25,
          25,
          32,
          22,
          29,
          25,
          28,
          25,
          23,
          34,
          25,
          8,
          23,
          7,
          30,
          30,
          17,
          23,
          23,
          23,
          23,
          18,
          18,
          17
         ]
        },
        {
         "name": "2018-02-01T00:00:00.000000000",
         "showlegend": false,
         "type": "box",
         "y": [
          61,
          26,
          53,
          35,
          36,
          36,
          33,
          36,
          36,
          36,
          36,
          20,
          4,
          55,
          26,
          26,
          17,
          22,
          20,
          22,
          0,
          21,
          0
         ]
        },
        {
         "name": "2018-03-01T00:00:00.000000000",
         "showlegend": false,
         "type": "box",
         "y": [
          25,
          33,
          25,
          54,
          26,
          26,
          34,
          26,
          30,
          30,
          15,
          15,
          41,
          29,
          39,
          39,
          67,
          67,
          48,
          25,
          4,
          32,
          28,
          20,
          24,
          24,
          20,
          28,
          15
         ]
        },
        {
         "name": "2018-04-01T00:00:00.000000000",
         "showlegend": false,
         "type": "box",
         "y": [
          2,
          58,
          44,
          36,
          44,
          36,
          38,
          38,
          2,
          16,
          43,
          24,
          29,
          26,
          29,
          26,
          30,
          15,
          22,
          21,
          0,
          11,
          11,
          25,
          12,
          12
         ]
        },
        {
         "name": "2018-05-01T00:00:00.000000000",
         "showlegend": false,
         "type": "box",
         "y": [
          101,
          97,
          85,
          92,
          97,
          24,
          28,
          28,
          28,
          22,
          22,
          92,
          28,
          28,
          23,
          23,
          23,
          35,
          35,
          18,
          36,
          28,
          30,
          23,
          23,
          12,
          23,
          33,
          18
         ]
        },
        {
         "name": "2018-06-01T00:00:00.000000000",
         "showlegend": false,
         "type": "box",
         "y": [
          11,
          32,
          5,
          27,
          25,
          18,
          18,
          28,
          0,
          4,
          26,
          47,
          17,
          17,
          20,
          20,
          28,
          28,
          14,
          31,
          17,
          0,
          24,
          28,
          24,
          24,
          27,
          27,
          27,
          20,
          20
         ]
        },
        {
         "name": "2018-07-01T00:00:00.000000000",
         "showlegend": false,
         "type": "box",
         "y": [
          45,
          24,
          24,
          44,
          19,
          25,
          19,
          22,
          15,
          15,
          23,
          9,
          18,
          29,
          22,
          22,
          36,
          36,
          26,
          10,
          5,
          26,
          26,
          25,
          7,
          7
         ]
        },
        {
         "name": "2018-08-01T00:00:00.000000000",
         "showlegend": false,
         "type": "box",
         "y": [
          84,
          48,
          70,
          26,
          30,
          15,
          30,
          23,
          29,
          29,
          44,
          44,
          15,
          42,
          37,
          37,
          78,
          29,
          55,
          24,
          47,
          51,
          28,
          15,
          15,
          61,
          61,
          22,
          16,
          16
         ]
        },
        {
         "name": "2018-09-01T00:00:00.000000000",
         "showlegend": false,
         "type": "box",
         "y": [
          23,
          38,
          61,
          59,
          31,
          24,
          24,
          19,
          24,
          17,
          19,
          18,
          19,
          19,
          19,
          32,
          24,
          52,
          5,
          27,
          19
         ]
        },
        {
         "name": "2018-10-01T00:00:00.000000000",
         "showlegend": false,
         "type": "box",
         "y": [
          78,
          35,
          29,
          25,
          28,
          53,
          22,
          25,
          25,
          29,
          29,
          16,
          25,
          37,
          28,
          28,
          28,
          18,
          32,
          60,
          26,
          44,
          7,
          2,
          32,
          25,
          29,
          43,
          25,
          25,
          24,
          20,
          20
         ]
        },
        {
         "name": "2018-11-01T00:00:00.000000000",
         "showlegend": false,
         "type": "box",
         "y": [
          32,
          41,
          47,
          0,
          5,
          27,
          34,
          34,
          50,
          5,
          26,
          26,
          26,
          26,
          39,
          14,
          25,
          25,
          32,
          32,
          29,
          33,
          47,
          40,
          29,
          33,
          4,
          28,
          19,
          18,
          15,
          52,
          21,
          21,
          17,
          3,
          3,
          33
         ]
        },
        {
         "name": "2018-12-01T00:00:00.000000000",
         "showlegend": false,
         "type": "box",
         "y": [
          25,
          17,
          17,
          18,
          38,
          20,
          30,
          30,
          32,
          32,
          16,
          26,
          58,
          16,
          39,
          19,
          19,
          16,
          16,
          2,
          26,
          26,
          26,
          23,
          2,
          36,
          15,
          15,
          15,
          15,
          19
         ]
        },
        {
         "name": "2019-01-01T00:00:00.000000000",
         "showlegend": false,
         "type": "box",
         "y": [
          28,
          15,
          21,
          29,
          27,
          27,
          10,
          35,
          6,
          42,
          23,
          28,
          27,
          27,
          30,
          35,
          45,
          21,
          79,
          78,
          17,
          17,
          27,
          34,
          23,
          23,
          27,
          24,
          48,
          30,
          24,
          36,
          17,
          24,
          126,
          24,
          54,
          2,
          19
         ]
        },
        {
         "name": "2019-02-01T00:00:00.000000000",
         "showlegend": false,
         "type": "box",
         "y": [
          32,
          25,
          21,
          32,
          32,
          32,
          5,
          38,
          21,
          7,
          25,
          24,
          0,
          26,
          31,
          31,
          24,
          24,
          21,
          26,
          26,
          21,
          19,
          29,
          14,
          25,
          14,
          24,
          23,
          30,
          23,
          6,
          27,
          27,
          28,
          12,
          12,
          28
         ]
        },
        {
         "name": "2019-03-01T00:00:00.000000000",
         "showlegend": false,
         "type": "box",
         "y": [
          20,
          27,
          27,
          27,
          62,
          39,
          67,
          26,
          26,
          25,
          31,
          31,
          18,
          52,
          51,
          79,
          21,
          26,
          26,
          26,
          27,
          38,
          21,
          26,
          20,
          19,
          29,
          20,
          8,
          8,
          21,
          0,
          7,
          7,
          27,
          20,
          20,
          20,
          58
         ]
        },
        {
         "name": "2019-04-01T00:00:00.000000000",
         "showlegend": false,
         "type": "box",
         "y": [
          29,
          29,
          16,
          21,
          29,
          37,
          37,
          21,
          57,
          0,
          14,
          14,
          11,
          11,
          18,
          16,
          15,
          15,
          15,
          18,
          60,
          18,
          16,
          16,
          53,
          47,
          51,
          88,
          2,
          16,
          53,
          4,
          18,
          38,
          18,
          18
         ]
        },
        {
         "name": "2019-05-01T00:00:00.000000000",
         "showlegend": false,
         "type": "box",
         "y": [
          5,
          7,
          7,
          18,
          18,
          12,
          30,
          47,
          16,
          16,
          16,
          30,
          30,
          2,
          5,
          29,
          29,
          28,
          68,
          44,
          15,
          23,
          23,
          23,
          15,
          15,
          27
         ]
        },
        {
         "name": "2019-06-01T00:00:00.000000000",
         "showlegend": false,
         "type": "box",
         "y": [
          2,
          16,
          26,
          24,
          45,
          18,
          19,
          13,
          21,
          21,
          27,
          11,
          11,
          21,
          27
         ]
        },
        {
         "name": "2019-07-01T00:00:00.000000000",
         "showlegend": false,
         "type": "box",
         "y": [
          29,
          25,
          29,
          25,
          25,
          20,
          0,
          0,
          41,
          39,
          25
         ]
        },
        {
         "name": "2019-08-01T00:00:00.000000000",
         "showlegend": false,
         "type": "box",
         "y": [
          26,
          27,
          27,
          53,
          -6,
          -6,
          -6,
          -6,
          29,
          23,
          68,
          0,
          27,
          27,
          26,
          19,
          19,
          17,
          8,
          28,
          69,
          69,
          0,
          0,
          79
         ]
        },
        {
         "name": "2019-09-01T00:00:00.000000000",
         "showlegend": false,
         "type": "box",
         "y": [
          18,
          18,
          30,
          24,
          31,
          24,
          27,
          40,
          29,
          29,
          51,
          30,
          42,
          21,
          70,
          49,
          19,
          19,
          26,
          35,
          16,
          16,
          27,
          29
         ]
        },
        {
         "name": "2019-10-01T00:00:00.000000000",
         "showlegend": false,
         "type": "box",
         "y": [
          1,
          20,
          28,
          9,
          13,
          23,
          20,
          21,
          35,
          35,
          24,
          23,
          41,
          39,
          10,
          10,
          17,
          24,
          20,
          17,
          20,
          33,
          33
         ]
        },
        {
         "name": "2019-11-01T00:00:00.000000000",
         "showlegend": false,
         "type": "box",
         "y": [
          7,
          24,
          18,
          3,
          13,
          23,
          22,
          44,
          21,
          0,
          0,
          31,
          7,
          6,
          11,
          14,
          25,
          14,
          12,
          12,
          18,
          39
         ]
        },
        {
         "name": "2019-12-01T00:00:00.000000000",
         "showlegend": false,
         "type": "box",
         "y": [
          16,
          15,
          22,
          22,
          25,
          5,
          11,
          14,
          14,
          9,
          9
         ]
        }
       ],
       "layout": {
        "plot_bgcolor": "rgba(0,0,0,0)",
        "template": {
         "data": {
          "bar": [
           {
            "error_x": {
             "color": "#2a3f5f"
            },
            "error_y": {
             "color": "#2a3f5f"
            },
            "marker": {
             "line": {
              "color": "#E5ECF6",
              "width": 0.5
             }
            },
            "type": "bar"
           }
          ],
          "barpolar": [
           {
            "marker": {
             "line": {
              "color": "#E5ECF6",
              "width": 0.5
             }
            },
            "type": "barpolar"
           }
          ],
          "carpet": [
           {
            "aaxis": {
             "endlinecolor": "#2a3f5f",
             "gridcolor": "white",
             "linecolor": "white",
             "minorgridcolor": "white",
             "startlinecolor": "#2a3f5f"
            },
            "baxis": {
             "endlinecolor": "#2a3f5f",
             "gridcolor": "white",
             "linecolor": "white",
             "minorgridcolor": "white",
             "startlinecolor": "#2a3f5f"
            },
            "type": "carpet"
           }
          ],
          "choropleth": [
           {
            "colorbar": {
             "outlinewidth": 0,
             "ticks": ""
            },
            "type": "choropleth"
           }
          ],
          "contour": [
           {
            "colorbar": {
             "outlinewidth": 0,
             "ticks": ""
            },
            "colorscale": [
             [
              0,
              "#0d0887"
             ],
             [
              0.1111111111111111,
              "#46039f"
             ],
             [
              0.2222222222222222,
              "#7201a8"
             ],
             [
              0.3333333333333333,
              "#9c179e"
             ],
             [
              0.4444444444444444,
              "#bd3786"
             ],
             [
              0.5555555555555556,
              "#d8576b"
             ],
             [
              0.6666666666666666,
              "#ed7953"
             ],
             [
              0.7777777777777778,
              "#fb9f3a"
             ],
             [
              0.8888888888888888,
              "#fdca26"
             ],
             [
              1,
              "#f0f921"
             ]
            ],
            "type": "contour"
           }
          ],
          "contourcarpet": [
           {
            "colorbar": {
             "outlinewidth": 0,
             "ticks": ""
            },
            "type": "contourcarpet"
           }
          ],
          "heatmap": [
           {
            "colorbar": {
             "outlinewidth": 0,
             "ticks": ""
            },
            "colorscale": [
             [
              0,
              "#0d0887"
             ],
             [
              0.1111111111111111,
              "#46039f"
             ],
             [
              0.2222222222222222,
              "#7201a8"
             ],
             [
              0.3333333333333333,
              "#9c179e"
             ],
             [
              0.4444444444444444,
              "#bd3786"
             ],
             [
              0.5555555555555556,
              "#d8576b"
             ],
             [
              0.6666666666666666,
              "#ed7953"
             ],
             [
              0.7777777777777778,
              "#fb9f3a"
             ],
             [
              0.8888888888888888,
              "#fdca26"
             ],
             [
              1,
              "#f0f921"
             ]
            ],
            "type": "heatmap"
           }
          ],
          "heatmapgl": [
           {
            "colorbar": {
             "outlinewidth": 0,
             "ticks": ""
            },
            "colorscale": [
             [
              0,
              "#0d0887"
             ],
             [
              0.1111111111111111,
              "#46039f"
             ],
             [
              0.2222222222222222,
              "#7201a8"
             ],
             [
              0.3333333333333333,
              "#9c179e"
             ],
             [
              0.4444444444444444,
              "#bd3786"
             ],
             [
              0.5555555555555556,
              "#d8576b"
             ],
             [
              0.6666666666666666,
              "#ed7953"
             ],
             [
              0.7777777777777778,
              "#fb9f3a"
             ],
             [
              0.8888888888888888,
              "#fdca26"
             ],
             [
              1,
              "#f0f921"
             ]
            ],
            "type": "heatmapgl"
           }
          ],
          "histogram": [
           {
            "marker": {
             "colorbar": {
              "outlinewidth": 0,
              "ticks": ""
             }
            },
            "type": "histogram"
           }
          ],
          "histogram2d": [
           {
            "colorbar": {
             "outlinewidth": 0,
             "ticks": ""
            },
            "colorscale": [
             [
              0,
              "#0d0887"
             ],
             [
              0.1111111111111111,
              "#46039f"
             ],
             [
              0.2222222222222222,
              "#7201a8"
             ],
             [
              0.3333333333333333,
              "#9c179e"
             ],
             [
              0.4444444444444444,
              "#bd3786"
             ],
             [
              0.5555555555555556,
              "#d8576b"
             ],
             [
              0.6666666666666666,
              "#ed7953"
             ],
             [
              0.7777777777777778,
              "#fb9f3a"
             ],
             [
              0.8888888888888888,
              "#fdca26"
             ],
             [
              1,
              "#f0f921"
             ]
            ],
            "type": "histogram2d"
           }
          ],
          "histogram2dcontour": [
           {
            "colorbar": {
             "outlinewidth": 0,
             "ticks": ""
            },
            "colorscale": [
             [
              0,
              "#0d0887"
             ],
             [
              0.1111111111111111,
              "#46039f"
             ],
             [
              0.2222222222222222,
              "#7201a8"
             ],
             [
              0.3333333333333333,
              "#9c179e"
             ],
             [
              0.4444444444444444,
              "#bd3786"
             ],
             [
              0.5555555555555556,
              "#d8576b"
             ],
             [
              0.6666666666666666,
              "#ed7953"
             ],
             [
              0.7777777777777778,
              "#fb9f3a"
             ],
             [
              0.8888888888888888,
              "#fdca26"
             ],
             [
              1,
              "#f0f921"
             ]
            ],
            "type": "histogram2dcontour"
           }
          ],
          "mesh3d": [
           {
            "colorbar": {
             "outlinewidth": 0,
             "ticks": ""
            },
            "type": "mesh3d"
           }
          ],
          "parcoords": [
           {
            "line": {
             "colorbar": {
              "outlinewidth": 0,
              "ticks": ""
             }
            },
            "type": "parcoords"
           }
          ],
          "pie": [
           {
            "automargin": true,
            "type": "pie"
           }
          ],
          "scatter": [
           {
            "marker": {
             "colorbar": {
              "outlinewidth": 0,
              "ticks": ""
             }
            },
            "type": "scatter"
           }
          ],
          "scatter3d": [
           {
            "line": {
             "colorbar": {
              "outlinewidth": 0,
              "ticks": ""
             }
            },
            "marker": {
             "colorbar": {
              "outlinewidth": 0,
              "ticks": ""
             }
            },
            "type": "scatter3d"
           }
          ],
          "scattercarpet": [
           {
            "marker": {
             "colorbar": {
              "outlinewidth": 0,
              "ticks": ""
             }
            },
            "type": "scattercarpet"
           }
          ],
          "scattergeo": [
           {
            "marker": {
             "colorbar": {
              "outlinewidth": 0,
              "ticks": ""
             }
            },
            "type": "scattergeo"
           }
          ],
          "scattergl": [
           {
            "marker": {
             "colorbar": {
              "outlinewidth": 0,
              "ticks": ""
             }
            },
            "type": "scattergl"
           }
          ],
          "scattermapbox": [
           {
            "marker": {
             "colorbar": {
              "outlinewidth": 0,
              "ticks": ""
             }
            },
            "type": "scattermapbox"
           }
          ],
          "scatterpolar": [
           {
            "marker": {
             "colorbar": {
              "outlinewidth": 0,
              "ticks": ""
             }
            },
            "type": "scatterpolar"
           }
          ],
          "scatterpolargl": [
           {
            "marker": {
             "colorbar": {
              "outlinewidth": 0,
              "ticks": ""
             }
            },
            "type": "scatterpolargl"
           }
          ],
          "scatterternary": [
           {
            "marker": {
             "colorbar": {
              "outlinewidth": 0,
              "ticks": ""
             }
            },
            "type": "scatterternary"
           }
          ],
          "surface": [
           {
            "colorbar": {
             "outlinewidth": 0,
             "ticks": ""
            },
            "colorscale": [
             [
              0,
              "#0d0887"
             ],
             [
              0.1111111111111111,
              "#46039f"
             ],
             [
              0.2222222222222222,
              "#7201a8"
             ],
             [
              0.3333333333333333,
              "#9c179e"
             ],
             [
              0.4444444444444444,
              "#bd3786"
             ],
             [
              0.5555555555555556,
              "#d8576b"
             ],
             [
              0.6666666666666666,
              "#ed7953"
             ],
             [
              0.7777777777777778,
              "#fb9f3a"
             ],
             [
              0.8888888888888888,
              "#fdca26"
             ],
             [
              1,
              "#f0f921"
             ]
            ],
            "type": "surface"
           }
          ],
          "table": [
           {
            "cells": {
             "fill": {
              "color": "#EBF0F8"
             },
             "line": {
              "color": "white"
             }
            },
            "header": {
             "fill": {
              "color": "#C8D4E3"
             },
             "line": {
              "color": "white"
             }
            },
            "type": "table"
           }
          ]
         },
         "layout": {
          "annotationdefaults": {
           "arrowcolor": "#2a3f5f",
           "arrowhead": 0,
           "arrowwidth": 1
          },
          "coloraxis": {
           "colorbar": {
            "outlinewidth": 0,
            "ticks": ""
           }
          },
          "colorscale": {
           "diverging": [
            [
             0,
             "#8e0152"
            ],
            [
             0.1,
             "#c51b7d"
            ],
            [
             0.2,
             "#de77ae"
            ],
            [
             0.3,
             "#f1b6da"
            ],
            [
             0.4,
             "#fde0ef"
            ],
            [
             0.5,
             "#f7f7f7"
            ],
            [
             0.6,
             "#e6f5d0"
            ],
            [
             0.7,
             "#b8e186"
            ],
            [
             0.8,
             "#7fbc41"
            ],
            [
             0.9,
             "#4d9221"
            ],
            [
             1,
             "#276419"
            ]
           ],
           "sequential": [
            [
             0,
             "#0d0887"
            ],
            [
             0.1111111111111111,
             "#46039f"
            ],
            [
             0.2222222222222222,
             "#7201a8"
            ],
            [
             0.3333333333333333,
             "#9c179e"
            ],
            [
             0.4444444444444444,
             "#bd3786"
            ],
            [
             0.5555555555555556,
             "#d8576b"
            ],
            [
             0.6666666666666666,
             "#ed7953"
            ],
            [
             0.7777777777777778,
             "#fb9f3a"
            ],
            [
             0.8888888888888888,
             "#fdca26"
            ],
            [
             1,
             "#f0f921"
            ]
           ],
           "sequentialminus": [
            [
             0,
             "#0d0887"
            ],
            [
             0.1111111111111111,
             "#46039f"
            ],
            [
             0.2222222222222222,
             "#7201a8"
            ],
            [
             0.3333333333333333,
             "#9c179e"
            ],
            [
             0.4444444444444444,
             "#bd3786"
            ],
            [
             0.5555555555555556,
             "#d8576b"
            ],
            [
             0.6666666666666666,
             "#ed7953"
            ],
            [
             0.7777777777777778,
             "#fb9f3a"
            ],
            [
             0.8888888888888888,
             "#fdca26"
            ],
            [
             1,
             "#f0f921"
            ]
           ]
          },
          "colorway": [
           "#636efa",
           "#EF553B",
           "#00cc96",
           "#ab63fa",
           "#FFA15A",
           "#19d3f3",
           "#FF6692",
           "#B6E880",
           "#FF97FF",
           "#FECB52"
          ],
          "font": {
           "color": "#2a3f5f"
          },
          "geo": {
           "bgcolor": "white",
           "lakecolor": "white",
           "landcolor": "#E5ECF6",
           "showlakes": true,
           "showland": true,
           "subunitcolor": "white"
          },
          "hoverlabel": {
           "align": "left"
          },
          "hovermode": "closest",
          "mapbox": {
           "style": "light"
          },
          "paper_bgcolor": "white",
          "plot_bgcolor": "#E5ECF6",
          "polar": {
           "angularaxis": {
            "gridcolor": "white",
            "linecolor": "white",
            "ticks": ""
           },
           "bgcolor": "#E5ECF6",
           "radialaxis": {
            "gridcolor": "white",
            "linecolor": "white",
            "ticks": ""
           }
          },
          "scene": {
           "xaxis": {
            "backgroundcolor": "#E5ECF6",
            "gridcolor": "white",
            "gridwidth": 2,
            "linecolor": "white",
            "showbackground": true,
            "ticks": "",
            "zerolinecolor": "white"
           },
           "yaxis": {
            "backgroundcolor": "#E5ECF6",
            "gridcolor": "white",
            "gridwidth": 2,
            "linecolor": "white",
            "showbackground": true,
            "ticks": "",
            "zerolinecolor": "white"
           },
           "zaxis": {
            "backgroundcolor": "#E5ECF6",
            "gridcolor": "white",
            "gridwidth": 2,
            "linecolor": "white",
            "showbackground": true,
            "ticks": "",
            "zerolinecolor": "white"
           }
          },
          "shapedefaults": {
           "line": {
            "color": "#2a3f5f"
           }
          },
          "ternary": {
           "aaxis": {
            "gridcolor": "white",
            "linecolor": "white",
            "ticks": ""
           },
           "baxis": {
            "gridcolor": "white",
            "linecolor": "white",
            "ticks": ""
           },
           "bgcolor": "#E5ECF6",
           "caxis": {
            "gridcolor": "white",
            "linecolor": "white",
            "ticks": ""
           }
          },
          "title": {
           "x": 0.05
          },
          "xaxis": {
           "automargin": true,
           "gridcolor": "white",
           "linecolor": "white",
           "ticks": "",
           "title": {
            "standoff": 15
           },
           "zerolinecolor": "white",
           "zerolinewidth": 2
          },
          "yaxis": {
           "automargin": true,
           "gridcolor": "white",
           "linecolor": "white",
           "ticks": "",
           "title": {
            "standoff": 15
           },
           "zerolinecolor": "white",
           "zerolinewidth": 2
          }
         }
        },
        "xaxis": {
         "title": {
          "text": "Android Security Bulletins"
         }
        },
        "yaxis": {
         "gridcolor": "rgb(219, 219, 219)",
         "showgrid": true,
         "title": {
          "text": "Update Latency (days)"
         }
        }
       }
      },
      "text/html": [
       "<div>\n",
       "        \n",
       "        \n",
       "            <div id=\"7f893099-8262-43f0-84b8-b8ef5df9e2bc\" class=\"plotly-graph-div\" style=\"height:525px; width:100%;\"></div>\n",
       "            <script type=\"text/javascript\">\n",
       "                require([\"plotly\"], function(Plotly) {\n",
       "                    window.PLOTLYENV=window.PLOTLYENV || {};\n",
       "                    \n",
       "                if (document.getElementById(\"7f893099-8262-43f0-84b8-b8ef5df9e2bc\")) {\n",
       "                    Plotly.newPlot(\n",
       "                        '7f893099-8262-43f0-84b8-b8ef5df9e2bc',\n",
       "                        [{\"name\": \"2015-08-01T00:00:00.000000000\", \"showlegend\": false, \"type\": \"box\", \"y\": [4.0, 18.0, 4.0, 16.0, 16.0, 9.0, 9.0, 30.0, 9.0, 23.0]}, {\"name\": \"2015-09-01T00:00:00.000000000\", \"showlegend\": false, \"type\": \"box\", \"y\": [9.0, 14.0, 14.0, 7.0, 13.0, 15.0, 7.0, 7.0, 27.0, 27.0, 20.0, 7.0, 7.0, 27.0, 2.0, 9.0, 9.0, 2.0, 27.0, 27.0, 27.0, 27.0, 0.0]}, {\"name\": \"2015-10-01T00:00:00.000000000\", \"showlegend\": false, \"type\": \"box\", \"y\": [18.0, 21.0, 30.0, 4.0, 11.0, 4.0, 4.0, 4.0, 4.0, 5.0, 4.0, 1.0]}, {\"name\": \"2015-11-01T00:00:00.000000000\", \"showlegend\": false, \"type\": \"box\", \"y\": [11.0, 9.0, 23.0, 23.0, 36.0, 36.0, 4.0, 29.0, 4.0, 29.0, 3.0, 3.0, 17.0, 10.0, 17.0, 3.0, 8.0, 19.0, 29.0, 29.0, 1.0, 1.0, 15.0, 15.0, 1.0, 1.0, 29.0]}, {\"name\": \"2015-12-01T00:00:00.000000000\", \"showlegend\": false, \"type\": \"box\", \"y\": [21.0, 9.0, 6.0, 0.0, 6.0, 6.0, 6.0, 6.0, 6.0, 30.0, 13.0, 27.0, 13.0, 13.0, 13.0, 13.0, 13.0, 13.0]}, {\"name\": \"2016-01-01T00:00:00.000000000\", \"showlegend\": false, \"type\": \"box\", \"y\": [3.0, 11.0, 3.0, 3.0, 10.0, 10.0, 4.0, 27.0, 17.0, 10.0, 10.0, 10.0]}, {\"name\": \"2016-02-01T00:00:00.000000000\", \"showlegend\": false, \"type\": \"box\", \"y\": [0.0, 0.0, 0.0, 0.0, 7.0, 15.0, 15.0, 16.0, 15.0, 28.0, 4.0, 22.0]}, {\"name\": \"2016-03-01T00:00:00.000000000\", \"showlegend\": false, \"type\": \"box\", \"y\": [17.0, 17.0, 34.0, 31.0, 31.0, 13.0, 13.0, 20.0, 23.0, 23.0, 23.0, 6.0, 10.0, 16.0, 16.0]}, {\"name\": \"2016-04-01T00:00:00.000000000\", \"showlegend\": false, \"type\": \"box\", \"y\": [26.0, 17.0, 31.0, 31.0, 31.0, 10.0, 20.0, 18.0, 6.0, 18.0, 18.0, 18.0, 10.0, 17.0, 10.0, 10.0, 17.0, 3.0]}, {\"name\": \"2016-05-01T00:00:00.000000000\", \"showlegend\": false, \"type\": \"box\", \"y\": [4.0, 11.0, 30.0, 22.0, 52.0, 30.0, 22.0, 18.0, 18.0, 18.0, 18.0, 10.0, 10.0, 1.0, 22.0, 3.0, 3.0, 29.0, 22.0, 29.0]}, {\"name\": \"2016-06-01T00:00:00.000000000\", \"showlegend\": false, \"type\": \"box\", \"y\": [16.0, 14.0, 5.0, 5.0, 5.0, 104.0, 8.0, 35.0, 15.0, 15.0, 26.0, 26.0, 26.0, 26.0, 28.0, 9.0, 26.0, 26.0, 26.0, 26.0]}, {\"name\": \"2016-07-01T00:00:00.000000000\", \"showlegend\": false, \"type\": \"box\", \"y\": [89.0, 89.0, 18.0, 5.0, 5.0, 12.0, 27.0, 34.0, 28.0, 27.0, 27.0, 26.0, 20.0, 20.0, 12.0, 0.0, 12.0, 18.0, 5.0, 26.0, 26.0, 22.0, 24.0, 29.0, 29.0, 12.0, 17.0, 12.0, 7.0, 7.0, 17.0]}, {\"name\": \"2016-08-01T00:00:00.000000000\", \"showlegend\": false, \"type\": \"box\", \"y\": [42.0, 74.0, 1.0, 18.0, 17.0, 24.0, 10.0, 10.0, 50.0, 50.0, 30.0, 24.0, 24.0, 8.0, 30.0, 16.0, 30.0, 0.0, 1.0, 21.0, 30.0, 23.0, 0.0, 14.0, 7.0, 7.0, 7.0, 21.0, 23.0, 23.0, 27.0, 21.0]}, {\"name\": \"2016-09-01T00:00:00.000000000\", \"showlegend\": false, \"type\": \"box\", \"y\": [35.0, 29.0, 29.0, 61.0, 25.0, 25.0, 19.0, 18.0, 18.0, 29.0, 29.0, 26.0, 19.0, 25.0, 29.0, 20.0, 13.0, 13.0, 13.0, 6.0, 25.0, 11.0, 18.0, 27.0, 18.0, 7.0, 33.0, 7.0, 26.0, 26.0]}, {\"name\": \"2016-10-01T00:00:00.000000000\", \"showlegend\": false, \"type\": \"box\", \"y\": [27.0, 13.0, 74.0, 38.0, 38.0, 38.0, 25.0, 25.0, 25.0, 25.0, 25.0, 24.0, 25.0, 38.0, 31.0, 2.0, 2.0, 9.0, 11.0, 16.0, 16.0, 23.0, 30.0, 23.0, 23.0, 23.0]}, {\"name\": \"2016-11-01T00:00:00.000000000\", \"showlegend\": false, \"type\": \"box\", \"y\": [28.0, 41.0, 7.0, 37.0, 30.0, 28.0, 48.0, 21.0, 21.0, 48.0, 28.0, 17.0, 41.0, 0.0, 9.0, 8.0, 29.0, 20.0, 8.0, 48.0, 48.0, 35.0, 44.0, 29.0, 29.0, 35.0, 4.0, 4.0, 15.0, 15.0, 20.0, 14.0]}, {\"name\": \"2016-12-01T00:00:00.000000000\", \"showlegend\": false, \"type\": \"box\", \"y\": [46.0, 40.0, 42.0, 42.0, 46.0, 42.0, 42.0, 42.0, 42.0, 46.0, 29.0, 68.0, 15.0, 20.0, 20.0, 18.0]}, {\"name\": \"2017-01-01T00:00:00.000000000\", \"showlegend\": false, \"type\": \"box\", \"y\": [50.0, 9.0, 53.0, 53.0, 53.0, 31.0, 36.0, 38.0, 31.0, 31.0, 38.0, 31.0, 38.0, 38.0, 29.0, 26.0, 26.0, 22.0, 4.0, 4.0, 10.0, 10.0, 10.0, 16.0, 29.0, 2.0, 22.0, 16.0, 50.0, 36.0, 36.0, 22.0, 17.0, 22.0]}, {\"name\": \"2017-02-01T00:00:00.000000000\", \"showlegend\": false, \"type\": \"box\", \"y\": [37.0, 37.0, 37.0, 37.0, 37.0, 37.0, 47.0, 16.0, 5.0, 6.0, 13.0, 26.0, 26.0, 5.0, 19.0, 5.0, 15.0, 23.0, 12.0, 19.0, 14.0, 26.0, 0.0, 0.0, 19.0, 19.0, 0.0, 0.0, 23.0]}, {\"name\": \"2017-03-01T00:00:00.000000000\", \"showlegend\": false, \"type\": \"box\", \"y\": [50.0, 22.0, 27.0, 27.0, 27.0, 30.0, 26.0, 26.0, 41.0, 22.0, 29.0, 26.0, 35.0, 41.0, 26.0, 20.0, 26.0, 5.0, 25.0, 12.0, 26.0, 26.0, 23.0, 19.0, 22.0, 5.0, 5.0, 5.0, 19.0, 19.0, 75.0]}, {\"name\": \"2017-04-01T00:00:00.000000000\", \"showlegend\": false, \"type\": \"box\", \"y\": [60.0, 26.0, 81.0, 80.0, 13.0, 17.0, 17.0, 25.0, 25.0, 26.0, 32.0, 32.0, 32.0, 26.0, 39.0, 20.0, 20.0, 4.0, 4.0, 12.0, 6.0, 13.0, 13.0, 13.0, 13.0, 13.0, 4.0, 1.0, 1.0, 4.0, 19.0, 19.0]}, {\"name\": \"2017-05-01T00:00:00.000000000\", \"showlegend\": false, \"type\": \"box\", \"y\": [102.0, 38.0, 21.0, 21.0, 24.0, 24.0, 24.0, 25.0, 24.0, 22.0, 43.0, 43.0, 43.0, 36.0, 23.0, 23.0, 2.0, 23.0, 21.0, 14.0, 0.0, 14.0, 24.0, 1.0, 38.0, 31.0, 31.0, 20.0, 0.0, 25.0, 25.0, 0.0, 0.0]}, {\"name\": \"2017-06-01T00:00:00.000000000\", \"showlegend\": false, \"type\": \"box\", \"y\": [50.0, 19.0, 19.0, 19.0, 26.0, 22.0, 22.0, 22.0, 26.0, 35.0, 21.0, 21.0, 18.0, 61.0, 26.0, 22.0, 25.0, 27.0, 34.0, 4.0, 37.0, 36.0, 18.0, 4.0, 4.0, 28.0, 28.0, 5.0, 4.0]}, {\"name\": \"2017-07-01T00:00:00.000000000\", \"showlegend\": false, \"type\": \"box\", \"y\": [109.0, 44.0, 20.0, 30.0, 24.0, 24.0, 26.0, 30.0, 38.0, 19.0, 19.0, 11.0, 32.0, 9.0, 9.0, 25.0, 13.0, 6.0, 23.0, 4.0, 23.0, 18.0, 24.0, 19.0, 33.0, 33.0, 19.0, 17.0, 17.0, 19.0, 23.0, 23.0, 7.0, 7.0, 16.0]}, {\"name\": \"2017-08-01T00:00:00.000000000\", \"showlegend\": false, \"type\": \"box\", \"y\": [41.0, 10.0, 64.0, 31.0, 71.0, 24.0, 55.0, 24.0, 24.0, 23.0, 24.0, 27.0, 20.0, 8.0, 20.0, 29.0, 0.0, 23.0, 6.0, 30.0, 6.0, 0.0, 0.0, 19.0]}, {\"name\": \"2017-09-01T00:00:00.000000000\", \"showlegend\": false, \"type\": \"box\", \"y\": [25.0, 33.0, 0.0, 24.0, 24.0, 28.0, 28.0, 11.0, 11.0, 5.0, 26.0, 25.0, 5.0, 13.0, 26.0, 27.0, 9.0, 48.0, 14.0, 13.0, 13.0, 25.0]}, {\"name\": \"2017-10-01T00:00:00.000000000\", \"showlegend\": false, \"type\": \"box\", \"y\": [30.0, 79.0, 39.0, 30.0, 5.0, 30.0, 37.0, 44.0, 39.0, 39.0, 40.0, 37.0, 25.0, 38.0, 38.0, 2.0, 1.0, 1.0, 43.0, 43.0, 43.0, 50.0, 30.0, 2.0, 20.0, 29.0, 30.0, 33.0, 18.0, 1.0]}, {\"name\": \"2017-11-01T00:00:00.000000000\", \"showlegend\": false, \"type\": \"box\", \"y\": [14.0, 34.0, 21.0, 63.0, 41.0, 14.0, 41.0, 33.0, 42.0, 37.0, 37.0, 37.0, 41.0, 27.0, 20.0, 34.0, 6.0, 19.0, 14.0, 33.0, 33.0, 1.0, 27.0, 5.0, 1.0, 12.0, 21.0, 8.0, 15.0, 21.0, 21.0, 8.0, 16.0, 16.0, 1.0]}, {\"name\": \"2017-12-01T00:00:00.000000000\", \"showlegend\": false, \"type\": \"box\", \"y\": [33.0, 18.0, 27.0, 27.0, 20.0, 20.0, 20.0, 26.0, 26.0, 26.0, 17.0, 26.0, 26.0, 27.0, 17.0, 19.0, 20.0, 6.0, 5.0, 20.0, 20.0, 4.0, 21.0, 6.0, 0.0, 20.0, 0.0, 20.0, 20.0, 20.0]}, {\"name\": \"2018-01-01T00:00:00.000000000\", \"showlegend\": false, \"type\": \"box\", \"y\": [21.0, 53.0, 35.0, 2.0, 53.0, 50.0, 32.0, 25.0, 25.0, 25.0, 25.0, 32.0, 22.0, 29.0, 25.0, 28.0, 25.0, 23.0, 34.0, 25.0, 8.0, 23.0, 7.0, 30.0, 30.0, 17.0, 23.0, 23.0, 23.0, 23.0, 18.0, 18.0, 17.0]}, {\"name\": \"2018-02-01T00:00:00.000000000\", \"showlegend\": false, \"type\": \"box\", \"y\": [61.0, 26.0, 53.0, 35.0, 36.0, 36.0, 33.0, 36.0, 36.0, 36.0, 36.0, 20.0, 4.0, 55.0, 26.0, 26.0, 17.0, 22.0, 20.0, 22.0, 0.0, 21.0, 0.0]}, {\"name\": \"2018-03-01T00:00:00.000000000\", \"showlegend\": false, \"type\": \"box\", \"y\": [25.0, 33.0, 25.0, 54.0, 26.0, 26.0, 34.0, 26.0, 30.0, 30.0, 15.0, 15.0, 41.0, 29.0, 39.0, 39.0, 67.0, 67.0, 48.0, 25.0, 4.0, 32.0, 28.0, 20.0, 24.0, 24.0, 20.0, 28.0, 15.0]}, {\"name\": \"2018-04-01T00:00:00.000000000\", \"showlegend\": false, \"type\": \"box\", \"y\": [2.0, 58.0, 44.0, 36.0, 44.0, 36.0, 38.0, 38.0, 2.0, 16.0, 43.0, 24.0, 29.0, 26.0, 29.0, 26.0, 30.0, 15.0, 22.0, 21.0, 0.0, 11.0, 11.0, 25.0, 12.0, 12.0]}, {\"name\": \"2018-05-01T00:00:00.000000000\", \"showlegend\": false, \"type\": \"box\", \"y\": [101.0, 97.0, 85.0, 92.0, 97.0, 24.0, 28.0, 28.0, 28.0, 22.0, 22.0, 92.0, 28.0, 28.0, 23.0, 23.0, 23.0, 35.0, 35.0, 18.0, 36.0, 28.0, 30.0, 23.0, 23.0, 12.0, 23.0, 33.0, 18.0]}, {\"name\": \"2018-06-01T00:00:00.000000000\", \"showlegend\": false, \"type\": \"box\", \"y\": [11.0, 32.0, 5.0, 27.0, 25.0, 18.0, 18.0, 28.0, 0.0, 4.0, 26.0, 47.0, 17.0, 17.0, 20.0, 20.0, 28.0, 28.0, 14.0, 31.0, 17.0, 0.0, 24.0, 28.0, 24.0, 24.0, 27.0, 27.0, 27.0, 20.0, 20.0]}, {\"name\": \"2018-07-01T00:00:00.000000000\", \"showlegend\": false, \"type\": \"box\", \"y\": [45.0, 24.0, 24.0, 44.0, 19.0, 25.0, 19.0, 22.0, 15.0, 15.0, 23.0, 9.0, 18.0, 29.0, 22.0, 22.0, 36.0, 36.0, 26.0, 10.0, 5.0, 26.0, 26.0, 25.0, 7.0, 7.0]}, {\"name\": \"2018-08-01T00:00:00.000000000\", \"showlegend\": false, \"type\": \"box\", \"y\": [84.0, 48.0, 70.0, 26.0, 30.0, 15.0, 30.0, 23.0, 29.0, 29.0, 44.0, 44.0, 15.0, 42.0, 37.0, 37.0, 78.0, 29.0, 55.0, 24.0, 47.0, 51.0, 28.0, 15.0, 15.0, 61.0, 61.0, 22.0, 16.0, 16.0]}, {\"name\": \"2018-09-01T00:00:00.000000000\", \"showlegend\": false, \"type\": \"box\", \"y\": [23.0, 38.0, 61.0, 59.0, 31.0, 24.0, 24.0, 19.0, 24.0, 17.0, 19.0, 18.0, 19.0, 19.0, 19.0, 32.0, 24.0, 52.0, 5.0, 27.0, 19.0]}, {\"name\": \"2018-10-01T00:00:00.000000000\", \"showlegend\": false, \"type\": \"box\", \"y\": [78.0, 35.0, 29.0, 25.0, 28.0, 53.0, 22.0, 25.0, 25.0, 29.0, 29.0, 16.0, 25.0, 37.0, 28.0, 28.0, 28.0, 18.0, 32.0, 60.0, 26.0, 44.0, 7.0, 2.0, 32.0, 25.0, 29.0, 43.0, 25.0, 25.0, 24.0, 20.0, 20.0]}, {\"name\": \"2018-11-01T00:00:00.000000000\", \"showlegend\": false, \"type\": \"box\", \"y\": [32.0, 41.0, 47.0, 0.0, 5.0, 27.0, 34.0, 34.0, 50.0, 5.0, 26.0, 26.0, 26.0, 26.0, 39.0, 14.0, 25.0, 25.0, 32.0, 32.0, 29.0, 33.0, 47.0, 40.0, 29.0, 33.0, 4.0, 28.0, 19.0, 18.0, 15.0, 52.0, 21.0, 21.0, 17.0, 3.0, 3.0, 33.0]}, {\"name\": \"2018-12-01T00:00:00.000000000\", \"showlegend\": false, \"type\": \"box\", \"y\": [25.0, 17.0, 17.0, 18.0, 38.0, 20.0, 30.0, 30.0, 32.0, 32.0, 16.0, 26.0, 58.0, 16.0, 39.0, 19.0, 19.0, 16.0, 16.0, 2.0, 26.0, 26.0, 26.0, 23.0, 2.0, 36.0, 15.0, 15.0, 15.0, 15.0, 19.0]}, {\"name\": \"2019-01-01T00:00:00.000000000\", \"showlegend\": false, \"type\": \"box\", \"y\": [28.0, 15.0, 21.0, 29.0, 27.0, 27.0, 10.0, 35.0, 6.0, 42.0, 23.0, 28.0, 27.0, 27.0, 30.0, 35.0, 45.0, 21.0, 79.0, 78.0, 17.0, 17.0, 27.0, 34.0, 23.0, 23.0, 27.0, 24.0, 48.0, 30.0, 24.0, 36.0, 17.0, 24.0, 126.0, 24.0, 54.0, 2.0, 19.0]}, {\"name\": \"2019-02-01T00:00:00.000000000\", \"showlegend\": false, \"type\": \"box\", \"y\": [32.0, 25.0, 21.0, 32.0, 32.0, 32.0, 5.0, 38.0, 21.0, 7.0, 25.0, 24.0, 0.0, 26.0, 31.0, 31.0, 24.0, 24.0, 21.0, 26.0, 26.0, 21.0, 19.0, 29.0, 14.0, 25.0, 14.0, 24.0, 23.0, 30.0, 23.0, 6.0, 27.0, 27.0, 28.0, 12.0, 12.0, 28.0]}, {\"name\": \"2019-03-01T00:00:00.000000000\", \"showlegend\": false, \"type\": \"box\", \"y\": [20.0, 27.0, 27.0, 27.0, 62.0, 39.0, 67.0, 26.0, 26.0, 25.0, 31.0, 31.0, 18.0, 52.0, 51.0, 79.0, 21.0, 26.0, 26.0, 26.0, 27.0, 38.0, 21.0, 26.0, 20.0, 19.0, 29.0, 20.0, 8.0, 8.0, 21.0, 0.0, 7.0, 7.0, 27.0, 20.0, 20.0, 20.0, 58.0]}, {\"name\": \"2019-04-01T00:00:00.000000000\", \"showlegend\": false, \"type\": \"box\", \"y\": [29.0, 29.0, 16.0, 21.0, 29.0, 37.0, 37.0, 21.0, 57.0, 0.0, 14.0, 14.0, 11.0, 11.0, 18.0, 16.0, 15.0, 15.0, 15.0, 18.0, 60.0, 18.0, 16.0, 16.0, 53.0, 47.0, 51.0, 88.0, 2.0, 16.0, 53.0, 4.0, 18.0, 38.0, 18.0, 18.0]}, {\"name\": \"2019-05-01T00:00:00.000000000\", \"showlegend\": false, \"type\": \"box\", \"y\": [5.0, 7.0, 7.0, 18.0, 18.0, 12.0, 30.0, 47.0, 16.0, 16.0, 16.0, 30.0, 30.0, 2.0, 5.0, 29.0, 29.0, 28.0, 68.0, 44.0, 15.0, 23.0, 23.0, 23.0, 15.0, 15.0, 27.0]}, {\"name\": \"2019-06-01T00:00:00.000000000\", \"showlegend\": false, \"type\": \"box\", \"y\": [2.0, 16.0, 26.0, 24.0, 45.0, 18.0, 19.0, 13.0, 21.0, 21.0, 27.0, 11.0, 11.0, 21.0, 27.0]}, {\"name\": \"2019-07-01T00:00:00.000000000\", \"showlegend\": false, \"type\": \"box\", \"y\": [29.0, 25.0, 29.0, 25.0, 25.0, 20.0, 0.0, 0.0, 41.0, 39.0, 25.0]}, {\"name\": \"2019-08-01T00:00:00.000000000\", \"showlegend\": false, \"type\": \"box\", \"y\": [26.0, 27.0, 27.0, 53.0, -6.0, -6.0, -6.0, -6.0, 29.0, 23.0, 68.0, 0.0, 27.0, 27.0, 26.0, 19.0, 19.0, 17.0, 8.0, 28.0, 69.0, 69.0, 0.0, 0.0, 79.0]}, {\"name\": \"2019-09-01T00:00:00.000000000\", \"showlegend\": false, \"type\": \"box\", \"y\": [18.0, 18.0, 30.0, 24.0, 31.0, 24.0, 27.0, 40.0, 29.0, 29.0, 51.0, 30.0, 42.0, 21.0, 70.0, 49.0, 19.0, 19.0, 26.0, 35.0, 16.0, 16.0, 27.0, 29.0]}, {\"name\": \"2019-10-01T00:00:00.000000000\", \"showlegend\": false, \"type\": \"box\", \"y\": [1.0, 20.0, 28.0, 9.0, 13.0, 23.0, 20.0, 21.0, 35.0, 35.0, 24.0, 23.0, 41.0, 39.0, 10.0, 10.0, 17.0, 24.0, 20.0, 17.0, 20.0, 33.0, 33.0]}, {\"name\": \"2019-11-01T00:00:00.000000000\", \"showlegend\": false, \"type\": \"box\", \"y\": [7.0, 24.0, 18.0, 3.0, 13.0, 23.0, 22.0, 44.0, 21.0, 0.0, 0.0, 31.0, 7.0, 6.0, 11.0, 14.0, 25.0, 14.0, 12.0, 12.0, 18.0, 39.0]}, {\"name\": \"2019-12-01T00:00:00.000000000\", \"showlegend\": false, \"type\": \"box\", \"y\": [16.0, 15.0, 22.0, 22.0, 25.0, 5.0, 11.0, 14.0, 14.0, 9.0, 9.0]}],\n",
       "                        {\"plot_bgcolor\": \"rgba(0,0,0,0)\", \"template\": {\"data\": {\"bar\": [{\"error_x\": {\"color\": \"#2a3f5f\"}, \"error_y\": {\"color\": \"#2a3f5f\"}, \"marker\": {\"line\": {\"color\": \"#E5ECF6\", \"width\": 0.5}}, \"type\": \"bar\"}], \"barpolar\": [{\"marker\": {\"line\": {\"color\": \"#E5ECF6\", \"width\": 0.5}}, \"type\": \"barpolar\"}], \"carpet\": [{\"aaxis\": {\"endlinecolor\": \"#2a3f5f\", \"gridcolor\": \"white\", \"linecolor\": \"white\", \"minorgridcolor\": \"white\", \"startlinecolor\": \"#2a3f5f\"}, \"baxis\": {\"endlinecolor\": \"#2a3f5f\", \"gridcolor\": \"white\", \"linecolor\": \"white\", \"minorgridcolor\": \"white\", \"startlinecolor\": \"#2a3f5f\"}, \"type\": \"carpet\"}], \"choropleth\": [{\"colorbar\": {\"outlinewidth\": 0, \"ticks\": \"\"}, \"type\": \"choropleth\"}], \"contour\": [{\"colorbar\": {\"outlinewidth\": 0, \"ticks\": \"\"}, \"colorscale\": [[0.0, \"#0d0887\"], [0.1111111111111111, \"#46039f\"], [0.2222222222222222, \"#7201a8\"], [0.3333333333333333, \"#9c179e\"], [0.4444444444444444, \"#bd3786\"], [0.5555555555555556, \"#d8576b\"], [0.6666666666666666, \"#ed7953\"], [0.7777777777777778, \"#fb9f3a\"], [0.8888888888888888, \"#fdca26\"], [1.0, \"#f0f921\"]], \"type\": \"contour\"}], \"contourcarpet\": [{\"colorbar\": {\"outlinewidth\": 0, \"ticks\": \"\"}, \"type\": \"contourcarpet\"}], \"heatmap\": [{\"colorbar\": {\"outlinewidth\": 0, \"ticks\": \"\"}, \"colorscale\": [[0.0, \"#0d0887\"], [0.1111111111111111, \"#46039f\"], [0.2222222222222222, \"#7201a8\"], [0.3333333333333333, \"#9c179e\"], [0.4444444444444444, \"#bd3786\"], [0.5555555555555556, \"#d8576b\"], [0.6666666666666666, \"#ed7953\"], [0.7777777777777778, \"#fb9f3a\"], [0.8888888888888888, \"#fdca26\"], [1.0, \"#f0f921\"]], \"type\": \"heatmap\"}], \"heatmapgl\": [{\"colorbar\": {\"outlinewidth\": 0, \"ticks\": \"\"}, \"colorscale\": [[0.0, \"#0d0887\"], [0.1111111111111111, \"#46039f\"], [0.2222222222222222, \"#7201a8\"], [0.3333333333333333, \"#9c179e\"], [0.4444444444444444, \"#bd3786\"], [0.5555555555555556, \"#d8576b\"], [0.6666666666666666, \"#ed7953\"], [0.7777777777777778, \"#fb9f3a\"], [0.8888888888888888, \"#fdca26\"], [1.0, \"#f0f921\"]], \"type\": \"heatmapgl\"}], \"histogram\": [{\"marker\": {\"colorbar\": {\"outlinewidth\": 0, \"ticks\": \"\"}}, \"type\": \"histogram\"}], \"histogram2d\": [{\"colorbar\": {\"outlinewidth\": 0, \"ticks\": \"\"}, \"colorscale\": [[0.0, \"#0d0887\"], [0.1111111111111111, \"#46039f\"], [0.2222222222222222, \"#7201a8\"], [0.3333333333333333, \"#9c179e\"], [0.4444444444444444, \"#bd3786\"], [0.5555555555555556, \"#d8576b\"], [0.6666666666666666, \"#ed7953\"], [0.7777777777777778, \"#fb9f3a\"], [0.8888888888888888, \"#fdca26\"], [1.0, \"#f0f921\"]], \"type\": \"histogram2d\"}], \"histogram2dcontour\": [{\"colorbar\": {\"outlinewidth\": 0, \"ticks\": \"\"}, \"colorscale\": [[0.0, \"#0d0887\"], [0.1111111111111111, \"#46039f\"], [0.2222222222222222, \"#7201a8\"], [0.3333333333333333, \"#9c179e\"], [0.4444444444444444, \"#bd3786\"], [0.5555555555555556, \"#d8576b\"], [0.6666666666666666, \"#ed7953\"], [0.7777777777777778, \"#fb9f3a\"], [0.8888888888888888, \"#fdca26\"], [1.0, \"#f0f921\"]], \"type\": \"histogram2dcontour\"}], \"mesh3d\": [{\"colorbar\": {\"outlinewidth\": 0, \"ticks\": \"\"}, \"type\": \"mesh3d\"}], \"parcoords\": [{\"line\": {\"colorbar\": {\"outlinewidth\": 0, \"ticks\": \"\"}}, \"type\": \"parcoords\"}], \"pie\": [{\"automargin\": true, \"type\": \"pie\"}], \"scatter\": [{\"marker\": {\"colorbar\": {\"outlinewidth\": 0, \"ticks\": \"\"}}, \"type\": \"scatter\"}], \"scatter3d\": [{\"line\": {\"colorbar\": {\"outlinewidth\": 0, \"ticks\": \"\"}}, \"marker\": {\"colorbar\": {\"outlinewidth\": 0, \"ticks\": \"\"}}, \"type\": \"scatter3d\"}], \"scattercarpet\": [{\"marker\": {\"colorbar\": {\"outlinewidth\": 0, \"ticks\": \"\"}}, \"type\": \"scattercarpet\"}], \"scattergeo\": [{\"marker\": {\"colorbar\": {\"outlinewidth\": 0, \"ticks\": \"\"}}, \"type\": \"scattergeo\"}], \"scattergl\": [{\"marker\": {\"colorbar\": {\"outlinewidth\": 0, \"ticks\": \"\"}}, \"type\": \"scattergl\"}], \"scattermapbox\": [{\"marker\": {\"colorbar\": {\"outlinewidth\": 0, \"ticks\": \"\"}}, \"type\": \"scattermapbox\"}], \"scatterpolar\": [{\"marker\": {\"colorbar\": {\"outlinewidth\": 0, \"ticks\": \"\"}}, \"type\": \"scatterpolar\"}], \"scatterpolargl\": [{\"marker\": {\"colorbar\": {\"outlinewidth\": 0, \"ticks\": \"\"}}, \"type\": \"scatterpolargl\"}], \"scatterternary\": [{\"marker\": {\"colorbar\": {\"outlinewidth\": 0, \"ticks\": \"\"}}, \"type\": \"scatterternary\"}], \"surface\": [{\"colorbar\": {\"outlinewidth\": 0, \"ticks\": \"\"}, \"colorscale\": [[0.0, \"#0d0887\"], [0.1111111111111111, \"#46039f\"], [0.2222222222222222, \"#7201a8\"], [0.3333333333333333, \"#9c179e\"], [0.4444444444444444, \"#bd3786\"], [0.5555555555555556, \"#d8576b\"], [0.6666666666666666, \"#ed7953\"], [0.7777777777777778, \"#fb9f3a\"], [0.8888888888888888, \"#fdca26\"], [1.0, \"#f0f921\"]], \"type\": \"surface\"}], \"table\": [{\"cells\": {\"fill\": {\"color\": \"#EBF0F8\"}, \"line\": {\"color\": \"white\"}}, \"header\": {\"fill\": {\"color\": \"#C8D4E3\"}, \"line\": {\"color\": \"white\"}}, \"type\": \"table\"}]}, \"layout\": {\"annotationdefaults\": {\"arrowcolor\": \"#2a3f5f\", \"arrowhead\": 0, \"arrowwidth\": 1}, \"coloraxis\": {\"colorbar\": {\"outlinewidth\": 0, \"ticks\": \"\"}}, \"colorscale\": {\"diverging\": [[0, \"#8e0152\"], [0.1, \"#c51b7d\"], [0.2, \"#de77ae\"], [0.3, \"#f1b6da\"], [0.4, \"#fde0ef\"], [0.5, \"#f7f7f7\"], [0.6, \"#e6f5d0\"], [0.7, \"#b8e186\"], [0.8, \"#7fbc41\"], [0.9, \"#4d9221\"], [1, \"#276419\"]], \"sequential\": [[0.0, \"#0d0887\"], [0.1111111111111111, \"#46039f\"], [0.2222222222222222, \"#7201a8\"], [0.3333333333333333, \"#9c179e\"], [0.4444444444444444, \"#bd3786\"], [0.5555555555555556, \"#d8576b\"], [0.6666666666666666, \"#ed7953\"], [0.7777777777777778, \"#fb9f3a\"], [0.8888888888888888, \"#fdca26\"], [1.0, \"#f0f921\"]], \"sequentialminus\": [[0.0, \"#0d0887\"], [0.1111111111111111, \"#46039f\"], [0.2222222222222222, \"#7201a8\"], [0.3333333333333333, \"#9c179e\"], [0.4444444444444444, \"#bd3786\"], [0.5555555555555556, \"#d8576b\"], [0.6666666666666666, \"#ed7953\"], [0.7777777777777778, \"#fb9f3a\"], [0.8888888888888888, \"#fdca26\"], [1.0, \"#f0f921\"]]}, \"colorway\": [\"#636efa\", \"#EF553B\", \"#00cc96\", \"#ab63fa\", \"#FFA15A\", \"#19d3f3\", \"#FF6692\", \"#B6E880\", \"#FF97FF\", \"#FECB52\"], \"font\": {\"color\": \"#2a3f5f\"}, \"geo\": {\"bgcolor\": \"white\", \"lakecolor\": \"white\", \"landcolor\": \"#E5ECF6\", \"showlakes\": true, \"showland\": true, \"subunitcolor\": \"white\"}, \"hoverlabel\": {\"align\": \"left\"}, \"hovermode\": \"closest\", \"mapbox\": {\"style\": \"light\"}, \"paper_bgcolor\": \"white\", \"plot_bgcolor\": \"#E5ECF6\", \"polar\": {\"angularaxis\": {\"gridcolor\": \"white\", \"linecolor\": \"white\", \"ticks\": \"\"}, \"bgcolor\": \"#E5ECF6\", \"radialaxis\": {\"gridcolor\": \"white\", \"linecolor\": \"white\", \"ticks\": \"\"}}, \"scene\": {\"xaxis\": {\"backgroundcolor\": \"#E5ECF6\", \"gridcolor\": \"white\", \"gridwidth\": 2, \"linecolor\": \"white\", \"showbackground\": true, \"ticks\": \"\", \"zerolinecolor\": \"white\"}, \"yaxis\": {\"backgroundcolor\": \"#E5ECF6\", \"gridcolor\": \"white\", \"gridwidth\": 2, \"linecolor\": \"white\", \"showbackground\": true, \"ticks\": \"\", \"zerolinecolor\": \"white\"}, \"zaxis\": {\"backgroundcolor\": \"#E5ECF6\", \"gridcolor\": \"white\", \"gridwidth\": 2, \"linecolor\": \"white\", \"showbackground\": true, \"ticks\": \"\", \"zerolinecolor\": \"white\"}}, \"shapedefaults\": {\"line\": {\"color\": \"#2a3f5f\"}}, \"ternary\": {\"aaxis\": {\"gridcolor\": \"white\", \"linecolor\": \"white\", \"ticks\": \"\"}, \"baxis\": {\"gridcolor\": \"white\", \"linecolor\": \"white\", \"ticks\": \"\"}, \"bgcolor\": \"#E5ECF6\", \"caxis\": {\"gridcolor\": \"white\", \"linecolor\": \"white\", \"ticks\": \"\"}}, \"title\": {\"x\": 0.05}, \"xaxis\": {\"automargin\": true, \"gridcolor\": \"white\", \"linecolor\": \"white\", \"ticks\": \"\", \"title\": {\"standoff\": 15}, \"zerolinecolor\": \"white\", \"zerolinewidth\": 2}, \"yaxis\": {\"automargin\": true, \"gridcolor\": \"white\", \"linecolor\": \"white\", \"ticks\": \"\", \"title\": {\"standoff\": 15}, \"zerolinecolor\": \"white\", \"zerolinewidth\": 2}}}, \"xaxis\": {\"title\": {\"text\": \"Android Security Bulletins\"}}, \"yaxis\": {\"gridcolor\": \"rgb(219, 219, 219)\", \"showgrid\": true, \"title\": {\"text\": \"Update Latency (days)\"}}},\n",
       "                        {\"responsive\": true}\n",
       "                    ).then(function(){\n",
       "                            \n",
       "var gd = document.getElementById('7f893099-8262-43f0-84b8-b8ef5df9e2bc');\n",
       "var x = new MutationObserver(function (mutations, observer) {{\n",
       "        var display = window.getComputedStyle(gd).display;\n",
       "        if (!display || display === 'none') {{\n",
       "            console.log([gd, 'removed!']);\n",
       "            Plotly.purge(gd);\n",
       "            observer.disconnect();\n",
       "        }}\n",
       "}});\n",
       "\n",
       "// Listen for the removal of the full notebook cells\n",
       "var notebookContainer = gd.closest('#notebook-container');\n",
       "if (notebookContainer) {{\n",
       "    x.observe(notebookContainer, {childList: true});\n",
       "}}\n",
       "\n",
       "// Listen for the clearing of the current output cell\n",
       "var outputEl = gd.closest('.output');\n",
       "if (outputEl) {{\n",
       "    x.observe(outputEl, {childList: true});\n",
       "}}\n",
       "\n",
       "                        })\n",
       "                };\n",
       "                });\n",
       "            </script>\n",
       "        </div>"
      ]
     },
     "metadata": {},
     "output_type": "display_data"
    },
    {
     "data": {
      "application/vnd.plotly.v1+json": {
       "config": {
        "linkText": "Export to plot.ly",
        "plotlyServerURL": "https://plot.ly",
        "showLink": false
       },
       "data": [
        {
         "line": {
          "color": "deepskyblue"
         },
         "name": "Number of Updates",
         "type": "scatter",
         "x": [
          "2015-08-01T00:00:00.000000000",
          "2015-09-01T00:00:00.000000000",
          "2015-10-01T00:00:00.000000000",
          "2015-11-01T00:00:00.000000000",
          "2015-12-01T00:00:00.000000000",
          "2016-01-01T00:00:00.000000000",
          "2016-02-01T00:00:00.000000000",
          "2016-03-01T00:00:00.000000000",
          "2016-04-01T00:00:00.000000000",
          "2016-05-01T00:00:00.000000000",
          "2016-06-01T00:00:00.000000000",
          "2016-07-01T00:00:00.000000000",
          "2016-08-01T00:00:00.000000000",
          "2016-09-01T00:00:00.000000000",
          "2016-10-01T00:00:00.000000000",
          "2016-11-01T00:00:00.000000000",
          "2016-12-01T00:00:00.000000000",
          "2017-01-01T00:00:00.000000000",
          "2017-02-01T00:00:00.000000000",
          "2017-03-01T00:00:00.000000000",
          "2017-04-01T00:00:00.000000000",
          "2017-05-01T00:00:00.000000000",
          "2017-06-01T00:00:00.000000000",
          "2017-07-01T00:00:00.000000000",
          "2017-08-01T00:00:00.000000000",
          "2017-09-01T00:00:00.000000000",
          "2017-10-01T00:00:00.000000000",
          "2017-11-01T00:00:00.000000000",
          "2017-12-01T00:00:00.000000000",
          "2018-01-01T00:00:00.000000000",
          "2018-02-01T00:00:00.000000000",
          "2018-03-01T00:00:00.000000000",
          "2018-04-01T00:00:00.000000000",
          "2018-05-01T00:00:00.000000000",
          "2018-06-01T00:00:00.000000000",
          "2018-07-01T00:00:00.000000000",
          "2018-08-01T00:00:00.000000000",
          "2018-09-01T00:00:00.000000000",
          "2018-10-01T00:00:00.000000000",
          "2018-11-01T00:00:00.000000000",
          "2018-12-01T00:00:00.000000000",
          "2019-01-01T00:00:00.000000000",
          "2019-02-01T00:00:00.000000000",
          "2019-03-01T00:00:00.000000000",
          "2019-04-01T00:00:00.000000000",
          "2019-05-01T00:00:00.000000000",
          "2019-06-01T00:00:00.000000000",
          "2019-07-01T00:00:00.000000000",
          "2019-08-01T00:00:00.000000000",
          "2019-09-01T00:00:00.000000000",
          "2019-10-01T00:00:00.000000000",
          "2019-11-01T00:00:00.000000000",
          "2019-12-01T00:00:00.000000000"
         ],
         "y": [
          10,
          23,
          12,
          27,
          18,
          12,
          12,
          15,
          18,
          20,
          20,
          31,
          32,
          30,
          26,
          32,
          16,
          34,
          29,
          31,
          32,
          33,
          29,
          35,
          24,
          22,
          30,
          35,
          30,
          33,
          23,
          29,
          26,
          29,
          31,
          26,
          30,
          21,
          33,
          38,
          31,
          39,
          38,
          39,
          36,
          27,
          15,
          11,
          25,
          24,
          23,
          22,
          11
         ]
        },
        {
         "line": {
          "color": "dimgray"
         },
         "name": "Average Latency",
         "type": "scatter",
         "x": [
          "2015-08-01T00:00:00.000000000",
          "2015-09-01T00:00:00.000000000",
          "2015-10-01T00:00:00.000000000",
          "2015-11-01T00:00:00.000000000",
          "2015-12-01T00:00:00.000000000",
          "2016-01-01T00:00:00.000000000",
          "2016-02-01T00:00:00.000000000",
          "2016-03-01T00:00:00.000000000",
          "2016-04-01T00:00:00.000000000",
          "2016-05-01T00:00:00.000000000",
          "2016-06-01T00:00:00.000000000",
          "2016-07-01T00:00:00.000000000",
          "2016-08-01T00:00:00.000000000",
          "2016-09-01T00:00:00.000000000",
          "2016-10-01T00:00:00.000000000",
          "2016-11-01T00:00:00.000000000",
          "2016-12-01T00:00:00.000000000",
          "2017-01-01T00:00:00.000000000",
          "2017-02-01T00:00:00.000000000",
          "2017-03-01T00:00:00.000000000",
          "2017-04-01T00:00:00.000000000",
          "2017-05-01T00:00:00.000000000",
          "2017-06-01T00:00:00.000000000",
          "2017-07-01T00:00:00.000000000",
          "2017-08-01T00:00:00.000000000",
          "2017-09-01T00:00:00.000000000",
          "2017-10-01T00:00:00.000000000",
          "2017-11-01T00:00:00.000000000",
          "2017-12-01T00:00:00.000000000",
          "2018-01-01T00:00:00.000000000",
          "2018-02-01T00:00:00.000000000",
          "2018-03-01T00:00:00.000000000",
          "2018-04-01T00:00:00.000000000",
          "2018-05-01T00:00:00.000000000",
          "2018-06-01T00:00:00.000000000",
          "2018-07-01T00:00:00.000000000",
          "2018-08-01T00:00:00.000000000",
          "2018-09-01T00:00:00.000000000",
          "2018-10-01T00:00:00.000000000",
          "2018-11-01T00:00:00.000000000",
          "2018-12-01T00:00:00.000000000",
          "2019-01-01T00:00:00.000000000",
          "2019-02-01T00:00:00.000000000",
          "2019-03-01T00:00:00.000000000",
          "2019-04-01T00:00:00.000000000",
          "2019-05-01T00:00:00.000000000",
          "2019-06-01T00:00:00.000000000",
          "2019-07-01T00:00:00.000000000",
          "2019-08-01T00:00:00.000000000",
          "2019-09-01T00:00:00.000000000",
          "2019-10-01T00:00:00.000000000",
          "2019-11-01T00:00:00.000000000",
          "2019-12-01T00:00:00.000000000"
         ],
         "y": [
          13.8,
          14.391304347826088,
          9.166666666666666,
          15,
          11.88888888888889,
          9.833333333333334,
          10.166666666666666,
          19.533333333333335,
          17.27777777777778,
          18.6,
          23.35,
          22.64516129032258,
          21.34375,
          22.633333333333333,
          24.96153846153846,
          25.28125,
          37.5,
          27.61764705882353,
          19.310344827586206,
          25.387096774193548,
          22.1875,
          24.393939393939394,
          23.551724137931036,
          23.228571428571428,
          24.125,
          19.681818181818183,
          29.866666666666667,
          23.257142857142856,
          18.566666666666666,
          25.727272727272727,
          28.565217391304348,
          30.655172413793103,
          25,
          39.827586206896555,
          21.096774193548388,
          22.26923076923077,
          37.36666666666667,
          27.285714285714285,
          29.454545454545453,
          26.07894736842105,
          22.70967741935484,
          31.512820512820515,
          22.763157894736842,
          28.28205128205128,
          26.083333333333332,
          22.14814814814815,
          20.133333333333333,
          23.454545454545453,
          24.68,
          30,
          22.434782608695652,
          16.545454545454547,
          14.727272727272727
         ]
        }
       ],
       "layout": {
        "plot_bgcolor": "rgba(0,0,0,0)",
        "template": {
         "data": {
          "bar": [
           {
            "error_x": {
             "color": "#2a3f5f"
            },
            "error_y": {
             "color": "#2a3f5f"
            },
            "marker": {
             "line": {
              "color": "#E5ECF6",
              "width": 0.5
             }
            },
            "type": "bar"
           }
          ],
          "barpolar": [
           {
            "marker": {
             "line": {
              "color": "#E5ECF6",
              "width": 0.5
             }
            },
            "type": "barpolar"
           }
          ],
          "carpet": [
           {
            "aaxis": {
             "endlinecolor": "#2a3f5f",
             "gridcolor": "white",
             "linecolor": "white",
             "minorgridcolor": "white",
             "startlinecolor": "#2a3f5f"
            },
            "baxis": {
             "endlinecolor": "#2a3f5f",
             "gridcolor": "white",
             "linecolor": "white",
             "minorgridcolor": "white",
             "startlinecolor": "#2a3f5f"
            },
            "type": "carpet"
           }
          ],
          "choropleth": [
           {
            "colorbar": {
             "outlinewidth": 0,
             "ticks": ""
            },
            "type": "choropleth"
           }
          ],
          "contour": [
           {
            "colorbar": {
             "outlinewidth": 0,
             "ticks": ""
            },
            "colorscale": [
             [
              0,
              "#0d0887"
             ],
             [
              0.1111111111111111,
              "#46039f"
             ],
             [
              0.2222222222222222,
              "#7201a8"
             ],
             [
              0.3333333333333333,
              "#9c179e"
             ],
             [
              0.4444444444444444,
              "#bd3786"
             ],
             [
              0.5555555555555556,
              "#d8576b"
             ],
             [
              0.6666666666666666,
              "#ed7953"
             ],
             [
              0.7777777777777778,
              "#fb9f3a"
             ],
             [
              0.8888888888888888,
              "#fdca26"
             ],
             [
              1,
              "#f0f921"
             ]
            ],
            "type": "contour"
           }
          ],
          "contourcarpet": [
           {
            "colorbar": {
             "outlinewidth": 0,
             "ticks": ""
            },
            "type": "contourcarpet"
           }
          ],
          "heatmap": [
           {
            "colorbar": {
             "outlinewidth": 0,
             "ticks": ""
            },
            "colorscale": [
             [
              0,
              "#0d0887"
             ],
             [
              0.1111111111111111,
              "#46039f"
             ],
             [
              0.2222222222222222,
              "#7201a8"
             ],
             [
              0.3333333333333333,
              "#9c179e"
             ],
             [
              0.4444444444444444,
              "#bd3786"
             ],
             [
              0.5555555555555556,
              "#d8576b"
             ],
             [
              0.6666666666666666,
              "#ed7953"
             ],
             [
              0.7777777777777778,
              "#fb9f3a"
             ],
             [
              0.8888888888888888,
              "#fdca26"
             ],
             [
              1,
              "#f0f921"
             ]
            ],
            "type": "heatmap"
           }
          ],
          "heatmapgl": [
           {
            "colorbar": {
             "outlinewidth": 0,
             "ticks": ""
            },
            "colorscale": [
             [
              0,
              "#0d0887"
             ],
             [
              0.1111111111111111,
              "#46039f"
             ],
             [
              0.2222222222222222,
              "#7201a8"
             ],
             [
              0.3333333333333333,
              "#9c179e"
             ],
             [
              0.4444444444444444,
              "#bd3786"
             ],
             [
              0.5555555555555556,
              "#d8576b"
             ],
             [
              0.6666666666666666,
              "#ed7953"
             ],
             [
              0.7777777777777778,
              "#fb9f3a"
             ],
             [
              0.8888888888888888,
              "#fdca26"
             ],
             [
              1,
              "#f0f921"
             ]
            ],
            "type": "heatmapgl"
           }
          ],
          "histogram": [
           {
            "marker": {
             "colorbar": {
              "outlinewidth": 0,
              "ticks": ""
             }
            },
            "type": "histogram"
           }
          ],
          "histogram2d": [
           {
            "colorbar": {
             "outlinewidth": 0,
             "ticks": ""
            },
            "colorscale": [
             [
              0,
              "#0d0887"
             ],
             [
              0.1111111111111111,
              "#46039f"
             ],
             [
              0.2222222222222222,
              "#7201a8"
             ],
             [
              0.3333333333333333,
              "#9c179e"
             ],
             [
              0.4444444444444444,
              "#bd3786"
             ],
             [
              0.5555555555555556,
              "#d8576b"
             ],
             [
              0.6666666666666666,
              "#ed7953"
             ],
             [
              0.7777777777777778,
              "#fb9f3a"
             ],
             [
              0.8888888888888888,
              "#fdca26"
             ],
             [
              1,
              "#f0f921"
             ]
            ],
            "type": "histogram2d"
           }
          ],
          "histogram2dcontour": [
           {
            "colorbar": {
             "outlinewidth": 0,
             "ticks": ""
            },
            "colorscale": [
             [
              0,
              "#0d0887"
             ],
             [
              0.1111111111111111,
              "#46039f"
             ],
             [
              0.2222222222222222,
              "#7201a8"
             ],
             [
              0.3333333333333333,
              "#9c179e"
             ],
             [
              0.4444444444444444,
              "#bd3786"
             ],
             [
              0.5555555555555556,
              "#d8576b"
             ],
             [
              0.6666666666666666,
              "#ed7953"
             ],
             [
              0.7777777777777778,
              "#fb9f3a"
             ],
             [
              0.8888888888888888,
              "#fdca26"
             ],
             [
              1,
              "#f0f921"
             ]
            ],
            "type": "histogram2dcontour"
           }
          ],
          "mesh3d": [
           {
            "colorbar": {
             "outlinewidth": 0,
             "ticks": ""
            },
            "type": "mesh3d"
           }
          ],
          "parcoords": [
           {
            "line": {
             "colorbar": {
              "outlinewidth": 0,
              "ticks": ""
             }
            },
            "type": "parcoords"
           }
          ],
          "pie": [
           {
            "automargin": true,
            "type": "pie"
           }
          ],
          "scatter": [
           {
            "marker": {
             "colorbar": {
              "outlinewidth": 0,
              "ticks": ""
             }
            },
            "type": "scatter"
           }
          ],
          "scatter3d": [
           {
            "line": {
             "colorbar": {
              "outlinewidth": 0,
              "ticks": ""
             }
            },
            "marker": {
             "colorbar": {
              "outlinewidth": 0,
              "ticks": ""
             }
            },
            "type": "scatter3d"
           }
          ],
          "scattercarpet": [
           {
            "marker": {
             "colorbar": {
              "outlinewidth": 0,
              "ticks": ""
             }
            },
            "type": "scattercarpet"
           }
          ],
          "scattergeo": [
           {
            "marker": {
             "colorbar": {
              "outlinewidth": 0,
              "ticks": ""
             }
            },
            "type": "scattergeo"
           }
          ],
          "scattergl": [
           {
            "marker": {
             "colorbar": {
              "outlinewidth": 0,
              "ticks": ""
             }
            },
            "type": "scattergl"
           }
          ],
          "scattermapbox": [
           {
            "marker": {
             "colorbar": {
              "outlinewidth": 0,
              "ticks": ""
             }
            },
            "type": "scattermapbox"
           }
          ],
          "scatterpolar": [
           {
            "marker": {
             "colorbar": {
              "outlinewidth": 0,
              "ticks": ""
             }
            },
            "type": "scatterpolar"
           }
          ],
          "scatterpolargl": [
           {
            "marker": {
             "colorbar": {
              "outlinewidth": 0,
              "ticks": ""
             }
            },
            "type": "scatterpolargl"
           }
          ],
          "scatterternary": [
           {
            "marker": {
             "colorbar": {
              "outlinewidth": 0,
              "ticks": ""
             }
            },
            "type": "scatterternary"
           }
          ],
          "surface": [
           {
            "colorbar": {
             "outlinewidth": 0,
             "ticks": ""
            },
            "colorscale": [
             [
              0,
              "#0d0887"
             ],
             [
              0.1111111111111111,
              "#46039f"
             ],
             [
              0.2222222222222222,
              "#7201a8"
             ],
             [
              0.3333333333333333,
              "#9c179e"
             ],
             [
              0.4444444444444444,
              "#bd3786"
             ],
             [
              0.5555555555555556,
              "#d8576b"
             ],
             [
              0.6666666666666666,
              "#ed7953"
             ],
             [
              0.7777777777777778,
              "#fb9f3a"
             ],
             [
              0.8888888888888888,
              "#fdca26"
             ],
             [
              1,
              "#f0f921"
             ]
            ],
            "type": "surface"
           }
          ],
          "table": [
           {
            "cells": {
             "fill": {
              "color": "#EBF0F8"
             },
             "line": {
              "color": "white"
             }
            },
            "header": {
             "fill": {
              "color": "#C8D4E3"
             },
             "line": {
              "color": "white"
             }
            },
            "type": "table"
           }
          ]
         },
         "layout": {
          "annotationdefaults": {
           "arrowcolor": "#2a3f5f",
           "arrowhead": 0,
           "arrowwidth": 1
          },
          "coloraxis": {
           "colorbar": {
            "outlinewidth": 0,
            "ticks": ""
           }
          },
          "colorscale": {
           "diverging": [
            [
             0,
             "#8e0152"
            ],
            [
             0.1,
             "#c51b7d"
            ],
            [
             0.2,
             "#de77ae"
            ],
            [
             0.3,
             "#f1b6da"
            ],
            [
             0.4,
             "#fde0ef"
            ],
            [
             0.5,
             "#f7f7f7"
            ],
            [
             0.6,
             "#e6f5d0"
            ],
            [
             0.7,
             "#b8e186"
            ],
            [
             0.8,
             "#7fbc41"
            ],
            [
             0.9,
             "#4d9221"
            ],
            [
             1,
             "#276419"
            ]
           ],
           "sequential": [
            [
             0,
             "#0d0887"
            ],
            [
             0.1111111111111111,
             "#46039f"
            ],
            [
             0.2222222222222222,
             "#7201a8"
            ],
            [
             0.3333333333333333,
             "#9c179e"
            ],
            [
             0.4444444444444444,
             "#bd3786"
            ],
            [
             0.5555555555555556,
             "#d8576b"
            ],
            [
             0.6666666666666666,
             "#ed7953"
            ],
            [
             0.7777777777777778,
             "#fb9f3a"
            ],
            [
             0.8888888888888888,
             "#fdca26"
            ],
            [
             1,
             "#f0f921"
            ]
           ],
           "sequentialminus": [
            [
             0,
             "#0d0887"
            ],
            [
             0.1111111111111111,
             "#46039f"
            ],
            [
             0.2222222222222222,
             "#7201a8"
            ],
            [
             0.3333333333333333,
             "#9c179e"
            ],
            [
             0.4444444444444444,
             "#bd3786"
            ],
            [
             0.5555555555555556,
             "#d8576b"
            ],
            [
             0.6666666666666666,
             "#ed7953"
            ],
            [
             0.7777777777777778,
             "#fb9f3a"
            ],
            [
             0.8888888888888888,
             "#fdca26"
            ],
            [
             1,
             "#f0f921"
            ]
           ]
          },
          "colorway": [
           "#636efa",
           "#EF553B",
           "#00cc96",
           "#ab63fa",
           "#FFA15A",
           "#19d3f3",
           "#FF6692",
           "#B6E880",
           "#FF97FF",
           "#FECB52"
          ],
          "font": {
           "color": "#2a3f5f"
          },
          "geo": {
           "bgcolor": "white",
           "lakecolor": "white",
           "landcolor": "#E5ECF6",
           "showlakes": true,
           "showland": true,
           "subunitcolor": "white"
          },
          "hoverlabel": {
           "align": "left"
          },
          "hovermode": "closest",
          "mapbox": {
           "style": "light"
          },
          "paper_bgcolor": "white",
          "plot_bgcolor": "#E5ECF6",
          "polar": {
           "angularaxis": {
            "gridcolor": "white",
            "linecolor": "white",
            "ticks": ""
           },
           "bgcolor": "#E5ECF6",
           "radialaxis": {
            "gridcolor": "white",
            "linecolor": "white",
            "ticks": ""
           }
          },
          "scene": {
           "xaxis": {
            "backgroundcolor": "#E5ECF6",
            "gridcolor": "white",
            "gridwidth": 2,
            "linecolor": "white",
            "showbackground": true,
            "ticks": "",
            "zerolinecolor": "white"
           },
           "yaxis": {
            "backgroundcolor": "#E5ECF6",
            "gridcolor": "white",
            "gridwidth": 2,
            "linecolor": "white",
            "showbackground": true,
            "ticks": "",
            "zerolinecolor": "white"
           },
           "zaxis": {
            "backgroundcolor": "#E5ECF6",
            "gridcolor": "white",
            "gridwidth": 2,
            "linecolor": "white",
            "showbackground": true,
            "ticks": "",
            "zerolinecolor": "white"
           }
          },
          "shapedefaults": {
           "line": {
            "color": "#2a3f5f"
           }
          },
          "ternary": {
           "aaxis": {
            "gridcolor": "white",
            "linecolor": "white",
            "ticks": ""
           },
           "baxis": {
            "gridcolor": "white",
            "linecolor": "white",
            "ticks": ""
           },
           "bgcolor": "#E5ECF6",
           "caxis": {
            "gridcolor": "white",
            "linecolor": "white",
            "ticks": ""
           }
          },
          "title": {
           "x": 0.05
          },
          "xaxis": {
           "automargin": true,
           "gridcolor": "white",
           "linecolor": "white",
           "ticks": "",
           "title": {
            "standoff": 15
           },
           "zerolinecolor": "white",
           "zerolinewidth": 2
          },
          "yaxis": {
           "automargin": true,
           "gridcolor": "white",
           "linecolor": "white",
           "ticks": "",
           "title": {
            "standoff": 15
           },
           "zerolinecolor": "white",
           "zerolinewidth": 2
          }
         }
        },
        "xaxis": {
         "title": {
          "text": "Android Security Bulletins"
         }
        },
        "yaxis": {
         "gridcolor": "rgb(219, 219, 219)",
         "showgrid": true,
         "title": {
          "text": "Number of Updates"
         }
        }
       }
      },
      "text/html": [
       "<div>\n",
       "        \n",
       "        \n",
       "            <div id=\"6396e878-a67f-4c71-8e34-d1e59aaa161e\" class=\"plotly-graph-div\" style=\"height:525px; width:100%;\"></div>\n",
       "            <script type=\"text/javascript\">\n",
       "                require([\"plotly\"], function(Plotly) {\n",
       "                    window.PLOTLYENV=window.PLOTLYENV || {};\n",
       "                    \n",
       "                if (document.getElementById(\"6396e878-a67f-4c71-8e34-d1e59aaa161e\")) {\n",
       "                    Plotly.newPlot(\n",
       "                        '6396e878-a67f-4c71-8e34-d1e59aaa161e',\n",
       "                        [{\"line\": {\"color\": \"deepskyblue\"}, \"name\": \"Number of Updates\", \"type\": \"scatter\", \"x\": [\"2015-08-01T00:00:00.000000000\", \"2015-09-01T00:00:00.000000000\", \"2015-10-01T00:00:00.000000000\", \"2015-11-01T00:00:00.000000000\", \"2015-12-01T00:00:00.000000000\", \"2016-01-01T00:00:00.000000000\", \"2016-02-01T00:00:00.000000000\", \"2016-03-01T00:00:00.000000000\", \"2016-04-01T00:00:00.000000000\", \"2016-05-01T00:00:00.000000000\", \"2016-06-01T00:00:00.000000000\", \"2016-07-01T00:00:00.000000000\", \"2016-08-01T00:00:00.000000000\", \"2016-09-01T00:00:00.000000000\", \"2016-10-01T00:00:00.000000000\", \"2016-11-01T00:00:00.000000000\", \"2016-12-01T00:00:00.000000000\", \"2017-01-01T00:00:00.000000000\", \"2017-02-01T00:00:00.000000000\", \"2017-03-01T00:00:00.000000000\", \"2017-04-01T00:00:00.000000000\", \"2017-05-01T00:00:00.000000000\", \"2017-06-01T00:00:00.000000000\", \"2017-07-01T00:00:00.000000000\", \"2017-08-01T00:00:00.000000000\", \"2017-09-01T00:00:00.000000000\", \"2017-10-01T00:00:00.000000000\", \"2017-11-01T00:00:00.000000000\", \"2017-12-01T00:00:00.000000000\", \"2018-01-01T00:00:00.000000000\", \"2018-02-01T00:00:00.000000000\", \"2018-03-01T00:00:00.000000000\", \"2018-04-01T00:00:00.000000000\", \"2018-05-01T00:00:00.000000000\", \"2018-06-01T00:00:00.000000000\", \"2018-07-01T00:00:00.000000000\", \"2018-08-01T00:00:00.000000000\", \"2018-09-01T00:00:00.000000000\", \"2018-10-01T00:00:00.000000000\", \"2018-11-01T00:00:00.000000000\", \"2018-12-01T00:00:00.000000000\", \"2019-01-01T00:00:00.000000000\", \"2019-02-01T00:00:00.000000000\", \"2019-03-01T00:00:00.000000000\", \"2019-04-01T00:00:00.000000000\", \"2019-05-01T00:00:00.000000000\", \"2019-06-01T00:00:00.000000000\", \"2019-07-01T00:00:00.000000000\", \"2019-08-01T00:00:00.000000000\", \"2019-09-01T00:00:00.000000000\", \"2019-10-01T00:00:00.000000000\", \"2019-11-01T00:00:00.000000000\", \"2019-12-01T00:00:00.000000000\"], \"y\": [10, 23, 12, 27, 18, 12, 12, 15, 18, 20, 20, 31, 32, 30, 26, 32, 16, 34, 29, 31, 32, 33, 29, 35, 24, 22, 30, 35, 30, 33, 23, 29, 26, 29, 31, 26, 30, 21, 33, 38, 31, 39, 38, 39, 36, 27, 15, 11, 25, 24, 23, 22, 11]}, {\"line\": {\"color\": \"dimgray\"}, \"name\": \"Average Latency\", \"type\": \"scatter\", \"x\": [\"2015-08-01T00:00:00.000000000\", \"2015-09-01T00:00:00.000000000\", \"2015-10-01T00:00:00.000000000\", \"2015-11-01T00:00:00.000000000\", \"2015-12-01T00:00:00.000000000\", \"2016-01-01T00:00:00.000000000\", \"2016-02-01T00:00:00.000000000\", \"2016-03-01T00:00:00.000000000\", \"2016-04-01T00:00:00.000000000\", \"2016-05-01T00:00:00.000000000\", \"2016-06-01T00:00:00.000000000\", \"2016-07-01T00:00:00.000000000\", \"2016-08-01T00:00:00.000000000\", \"2016-09-01T00:00:00.000000000\", \"2016-10-01T00:00:00.000000000\", \"2016-11-01T00:00:00.000000000\", \"2016-12-01T00:00:00.000000000\", \"2017-01-01T00:00:00.000000000\", \"2017-02-01T00:00:00.000000000\", \"2017-03-01T00:00:00.000000000\", \"2017-04-01T00:00:00.000000000\", \"2017-05-01T00:00:00.000000000\", \"2017-06-01T00:00:00.000000000\", \"2017-07-01T00:00:00.000000000\", \"2017-08-01T00:00:00.000000000\", \"2017-09-01T00:00:00.000000000\", \"2017-10-01T00:00:00.000000000\", \"2017-11-01T00:00:00.000000000\", \"2017-12-01T00:00:00.000000000\", \"2018-01-01T00:00:00.000000000\", \"2018-02-01T00:00:00.000000000\", \"2018-03-01T00:00:00.000000000\", \"2018-04-01T00:00:00.000000000\", \"2018-05-01T00:00:00.000000000\", \"2018-06-01T00:00:00.000000000\", \"2018-07-01T00:00:00.000000000\", \"2018-08-01T00:00:00.000000000\", \"2018-09-01T00:00:00.000000000\", \"2018-10-01T00:00:00.000000000\", \"2018-11-01T00:00:00.000000000\", \"2018-12-01T00:00:00.000000000\", \"2019-01-01T00:00:00.000000000\", \"2019-02-01T00:00:00.000000000\", \"2019-03-01T00:00:00.000000000\", \"2019-04-01T00:00:00.000000000\", \"2019-05-01T00:00:00.000000000\", \"2019-06-01T00:00:00.000000000\", \"2019-07-01T00:00:00.000000000\", \"2019-08-01T00:00:00.000000000\", \"2019-09-01T00:00:00.000000000\", \"2019-10-01T00:00:00.000000000\", \"2019-11-01T00:00:00.000000000\", \"2019-12-01T00:00:00.000000000\"], \"y\": [13.8, 14.391304347826088, 9.166666666666666, 15.0, 11.88888888888889, 9.833333333333334, 10.166666666666666, 19.533333333333335, 17.27777777777778, 18.6, 23.35, 22.64516129032258, 21.34375, 22.633333333333333, 24.96153846153846, 25.28125, 37.5, 27.61764705882353, 19.310344827586206, 25.387096774193548, 22.1875, 24.393939393939394, 23.551724137931036, 23.228571428571428, 24.125, 19.681818181818183, 29.866666666666667, 23.257142857142856, 18.566666666666666, 25.727272727272727, 28.565217391304348, 30.655172413793103, 25.0, 39.827586206896555, 21.096774193548388, 22.26923076923077, 37.36666666666667, 27.285714285714285, 29.454545454545453, 26.07894736842105, 22.70967741935484, 31.512820512820515, 22.763157894736842, 28.28205128205128, 26.083333333333332, 22.14814814814815, 20.133333333333333, 23.454545454545453, 24.68, 30.0, 22.434782608695652, 16.545454545454547, 14.727272727272727]}],\n",
       "                        {\"plot_bgcolor\": \"rgba(0,0,0,0)\", \"template\": {\"data\": {\"bar\": [{\"error_x\": {\"color\": \"#2a3f5f\"}, \"error_y\": {\"color\": \"#2a3f5f\"}, \"marker\": {\"line\": {\"color\": \"#E5ECF6\", \"width\": 0.5}}, \"type\": \"bar\"}], \"barpolar\": [{\"marker\": {\"line\": {\"color\": \"#E5ECF6\", \"width\": 0.5}}, \"type\": \"barpolar\"}], \"carpet\": [{\"aaxis\": {\"endlinecolor\": \"#2a3f5f\", \"gridcolor\": \"white\", \"linecolor\": \"white\", \"minorgridcolor\": \"white\", \"startlinecolor\": \"#2a3f5f\"}, \"baxis\": {\"endlinecolor\": \"#2a3f5f\", \"gridcolor\": \"white\", \"linecolor\": \"white\", \"minorgridcolor\": \"white\", \"startlinecolor\": \"#2a3f5f\"}, \"type\": \"carpet\"}], \"choropleth\": [{\"colorbar\": {\"outlinewidth\": 0, \"ticks\": \"\"}, \"type\": \"choropleth\"}], \"contour\": [{\"colorbar\": {\"outlinewidth\": 0, \"ticks\": \"\"}, \"colorscale\": [[0.0, \"#0d0887\"], [0.1111111111111111, \"#46039f\"], [0.2222222222222222, \"#7201a8\"], [0.3333333333333333, \"#9c179e\"], [0.4444444444444444, \"#bd3786\"], [0.5555555555555556, \"#d8576b\"], [0.6666666666666666, \"#ed7953\"], [0.7777777777777778, \"#fb9f3a\"], [0.8888888888888888, \"#fdca26\"], [1.0, \"#f0f921\"]], \"type\": \"contour\"}], \"contourcarpet\": [{\"colorbar\": {\"outlinewidth\": 0, \"ticks\": \"\"}, \"type\": \"contourcarpet\"}], \"heatmap\": [{\"colorbar\": {\"outlinewidth\": 0, \"ticks\": \"\"}, \"colorscale\": [[0.0, \"#0d0887\"], [0.1111111111111111, \"#46039f\"], [0.2222222222222222, \"#7201a8\"], [0.3333333333333333, \"#9c179e\"], [0.4444444444444444, \"#bd3786\"], [0.5555555555555556, \"#d8576b\"], [0.6666666666666666, \"#ed7953\"], [0.7777777777777778, \"#fb9f3a\"], [0.8888888888888888, \"#fdca26\"], [1.0, \"#f0f921\"]], \"type\": \"heatmap\"}], \"heatmapgl\": [{\"colorbar\": {\"outlinewidth\": 0, \"ticks\": \"\"}, \"colorscale\": [[0.0, \"#0d0887\"], [0.1111111111111111, \"#46039f\"], [0.2222222222222222, \"#7201a8\"], [0.3333333333333333, \"#9c179e\"], [0.4444444444444444, \"#bd3786\"], [0.5555555555555556, \"#d8576b\"], [0.6666666666666666, \"#ed7953\"], [0.7777777777777778, \"#fb9f3a\"], [0.8888888888888888, \"#fdca26\"], [1.0, \"#f0f921\"]], \"type\": \"heatmapgl\"}], \"histogram\": [{\"marker\": {\"colorbar\": {\"outlinewidth\": 0, \"ticks\": \"\"}}, \"type\": \"histogram\"}], \"histogram2d\": [{\"colorbar\": {\"outlinewidth\": 0, \"ticks\": \"\"}, \"colorscale\": [[0.0, \"#0d0887\"], [0.1111111111111111, \"#46039f\"], [0.2222222222222222, \"#7201a8\"], [0.3333333333333333, \"#9c179e\"], [0.4444444444444444, \"#bd3786\"], [0.5555555555555556, \"#d8576b\"], [0.6666666666666666, \"#ed7953\"], [0.7777777777777778, \"#fb9f3a\"], [0.8888888888888888, \"#fdca26\"], [1.0, \"#f0f921\"]], \"type\": \"histogram2d\"}], \"histogram2dcontour\": [{\"colorbar\": {\"outlinewidth\": 0, \"ticks\": \"\"}, \"colorscale\": [[0.0, \"#0d0887\"], [0.1111111111111111, \"#46039f\"], [0.2222222222222222, \"#7201a8\"], [0.3333333333333333, \"#9c179e\"], [0.4444444444444444, \"#bd3786\"], [0.5555555555555556, \"#d8576b\"], [0.6666666666666666, \"#ed7953\"], [0.7777777777777778, \"#fb9f3a\"], [0.8888888888888888, \"#fdca26\"], [1.0, \"#f0f921\"]], \"type\": \"histogram2dcontour\"}], \"mesh3d\": [{\"colorbar\": {\"outlinewidth\": 0, \"ticks\": \"\"}, \"type\": \"mesh3d\"}], \"parcoords\": [{\"line\": {\"colorbar\": {\"outlinewidth\": 0, \"ticks\": \"\"}}, \"type\": \"parcoords\"}], \"pie\": [{\"automargin\": true, \"type\": \"pie\"}], \"scatter\": [{\"marker\": {\"colorbar\": {\"outlinewidth\": 0, \"ticks\": \"\"}}, \"type\": \"scatter\"}], \"scatter3d\": [{\"line\": {\"colorbar\": {\"outlinewidth\": 0, \"ticks\": \"\"}}, \"marker\": {\"colorbar\": {\"outlinewidth\": 0, \"ticks\": \"\"}}, \"type\": \"scatter3d\"}], \"scattercarpet\": [{\"marker\": {\"colorbar\": {\"outlinewidth\": 0, \"ticks\": \"\"}}, \"type\": \"scattercarpet\"}], \"scattergeo\": [{\"marker\": {\"colorbar\": {\"outlinewidth\": 0, \"ticks\": \"\"}}, \"type\": \"scattergeo\"}], \"scattergl\": [{\"marker\": {\"colorbar\": {\"outlinewidth\": 0, \"ticks\": \"\"}}, \"type\": \"scattergl\"}], \"scattermapbox\": [{\"marker\": {\"colorbar\": {\"outlinewidth\": 0, \"ticks\": \"\"}}, \"type\": \"scattermapbox\"}], \"scatterpolar\": [{\"marker\": {\"colorbar\": {\"outlinewidth\": 0, \"ticks\": \"\"}}, \"type\": \"scatterpolar\"}], \"scatterpolargl\": [{\"marker\": {\"colorbar\": {\"outlinewidth\": 0, \"ticks\": \"\"}}, \"type\": \"scatterpolargl\"}], \"scatterternary\": [{\"marker\": {\"colorbar\": {\"outlinewidth\": 0, \"ticks\": \"\"}}, \"type\": \"scatterternary\"}], \"surface\": [{\"colorbar\": {\"outlinewidth\": 0, \"ticks\": \"\"}, \"colorscale\": [[0.0, \"#0d0887\"], [0.1111111111111111, \"#46039f\"], [0.2222222222222222, \"#7201a8\"], [0.3333333333333333, \"#9c179e\"], [0.4444444444444444, \"#bd3786\"], [0.5555555555555556, \"#d8576b\"], [0.6666666666666666, \"#ed7953\"], [0.7777777777777778, \"#fb9f3a\"], [0.8888888888888888, \"#fdca26\"], [1.0, \"#f0f921\"]], \"type\": \"surface\"}], \"table\": [{\"cells\": {\"fill\": {\"color\": \"#EBF0F8\"}, \"line\": {\"color\": \"white\"}}, \"header\": {\"fill\": {\"color\": \"#C8D4E3\"}, \"line\": {\"color\": \"white\"}}, \"type\": \"table\"}]}, \"layout\": {\"annotationdefaults\": {\"arrowcolor\": \"#2a3f5f\", \"arrowhead\": 0, \"arrowwidth\": 1}, \"coloraxis\": {\"colorbar\": {\"outlinewidth\": 0, \"ticks\": \"\"}}, \"colorscale\": {\"diverging\": [[0, \"#8e0152\"], [0.1, \"#c51b7d\"], [0.2, \"#de77ae\"], [0.3, \"#f1b6da\"], [0.4, \"#fde0ef\"], [0.5, \"#f7f7f7\"], [0.6, \"#e6f5d0\"], [0.7, \"#b8e186\"], [0.8, \"#7fbc41\"], [0.9, \"#4d9221\"], [1, \"#276419\"]], \"sequential\": [[0.0, \"#0d0887\"], [0.1111111111111111, \"#46039f\"], [0.2222222222222222, \"#7201a8\"], [0.3333333333333333, \"#9c179e\"], [0.4444444444444444, \"#bd3786\"], [0.5555555555555556, \"#d8576b\"], [0.6666666666666666, \"#ed7953\"], [0.7777777777777778, \"#fb9f3a\"], [0.8888888888888888, \"#fdca26\"], [1.0, \"#f0f921\"]], \"sequentialminus\": [[0.0, \"#0d0887\"], [0.1111111111111111, \"#46039f\"], [0.2222222222222222, \"#7201a8\"], [0.3333333333333333, \"#9c179e\"], [0.4444444444444444, \"#bd3786\"], [0.5555555555555556, \"#d8576b\"], [0.6666666666666666, \"#ed7953\"], [0.7777777777777778, \"#fb9f3a\"], [0.8888888888888888, \"#fdca26\"], [1.0, \"#f0f921\"]]}, \"colorway\": [\"#636efa\", \"#EF553B\", \"#00cc96\", \"#ab63fa\", \"#FFA15A\", \"#19d3f3\", \"#FF6692\", \"#B6E880\", \"#FF97FF\", \"#FECB52\"], \"font\": {\"color\": \"#2a3f5f\"}, \"geo\": {\"bgcolor\": \"white\", \"lakecolor\": \"white\", \"landcolor\": \"#E5ECF6\", \"showlakes\": true, \"showland\": true, \"subunitcolor\": \"white\"}, \"hoverlabel\": {\"align\": \"left\"}, \"hovermode\": \"closest\", \"mapbox\": {\"style\": \"light\"}, \"paper_bgcolor\": \"white\", \"plot_bgcolor\": \"#E5ECF6\", \"polar\": {\"angularaxis\": {\"gridcolor\": \"white\", \"linecolor\": \"white\", \"ticks\": \"\"}, \"bgcolor\": \"#E5ECF6\", \"radialaxis\": {\"gridcolor\": \"white\", \"linecolor\": \"white\", \"ticks\": \"\"}}, \"scene\": {\"xaxis\": {\"backgroundcolor\": \"#E5ECF6\", \"gridcolor\": \"white\", \"gridwidth\": 2, \"linecolor\": \"white\", \"showbackground\": true, \"ticks\": \"\", \"zerolinecolor\": \"white\"}, \"yaxis\": {\"backgroundcolor\": \"#E5ECF6\", \"gridcolor\": \"white\", \"gridwidth\": 2, \"linecolor\": \"white\", \"showbackground\": true, \"ticks\": \"\", \"zerolinecolor\": \"white\"}, \"zaxis\": {\"backgroundcolor\": \"#E5ECF6\", \"gridcolor\": \"white\", \"gridwidth\": 2, \"linecolor\": \"white\", \"showbackground\": true, \"ticks\": \"\", \"zerolinecolor\": \"white\"}}, \"shapedefaults\": {\"line\": {\"color\": \"#2a3f5f\"}}, \"ternary\": {\"aaxis\": {\"gridcolor\": \"white\", \"linecolor\": \"white\", \"ticks\": \"\"}, \"baxis\": {\"gridcolor\": \"white\", \"linecolor\": \"white\", \"ticks\": \"\"}, \"bgcolor\": \"#E5ECF6\", \"caxis\": {\"gridcolor\": \"white\", \"linecolor\": \"white\", \"ticks\": \"\"}}, \"title\": {\"x\": 0.05}, \"xaxis\": {\"automargin\": true, \"gridcolor\": \"white\", \"linecolor\": \"white\", \"ticks\": \"\", \"title\": {\"standoff\": 15}, \"zerolinecolor\": \"white\", \"zerolinewidth\": 2}, \"yaxis\": {\"automargin\": true, \"gridcolor\": \"white\", \"linecolor\": \"white\", \"ticks\": \"\", \"title\": {\"standoff\": 15}, \"zerolinecolor\": \"white\", \"zerolinewidth\": 2}}}, \"xaxis\": {\"title\": {\"text\": \"Android Security Bulletins\"}}, \"yaxis\": {\"gridcolor\": \"rgb(219, 219, 219)\", \"showgrid\": true, \"title\": {\"text\": \"Number of Updates\"}}},\n",
       "                        {\"responsive\": true}\n",
       "                    ).then(function(){\n",
       "                            \n",
       "var gd = document.getElementById('6396e878-a67f-4c71-8e34-d1e59aaa161e');\n",
       "var x = new MutationObserver(function (mutations, observer) {{\n",
       "        var display = window.getComputedStyle(gd).display;\n",
       "        if (!display || display === 'none') {{\n",
       "            console.log([gd, 'removed!']);\n",
       "            Plotly.purge(gd);\n",
       "            observer.disconnect();\n",
       "        }}\n",
       "}});\n",
       "\n",
       "// Listen for the removal of the full notebook cells\n",
       "var notebookContainer = gd.closest('#notebook-container');\n",
       "if (notebookContainer) {{\n",
       "    x.observe(notebookContainer, {childList: true});\n",
       "}}\n",
       "\n",
       "// Listen for the clearing of the current output cell\n",
       "var outputEl = gd.closest('.output');\n",
       "if (outputEl) {{\n",
       "    x.observe(outputEl, {childList: true});\n",
       "}}\n",
       "\n",
       "                        })\n",
       "                };\n",
       "                });\n",
       "            </script>\n",
       "        </div>"
      ]
     },
     "metadata": {},
     "output_type": "display_data"
    }
   ],
   "source": [
    "# Per bulletin, look at the difference box plot\n",
    "carrierDF.Bulletin_Level=pd.to_datetime(carrierDF.Bulletin_Level)\n",
    "uniqueBulletins=carrierDF.Bulletin_Level.unique()\n",
    "uniqueBulletins.sort()\n",
    "\n",
    "\n",
    "\n",
    "# For each bulletin, only consider updates from phones within only 3 years\n",
    "#indices=(df['birth_date'] > start_date) & (df['birth_date'] <= end_date)\n",
    "carrierDF['Bulletin_Level_3ago']=carrierDF['Bulletin_Level'] - pd.DateOffset(years=3) # 3 years since bulletin released\n",
    "carrierDF['Phone_Released']= carrierDF.Year_Phone_Release.map(str) + \"/\" +carrierDF.Month_Phone_Release.map(str)\n",
    "carrierDF['Phone_Released']=carrierDF['Phone_Released'].apply(lambda x: re.sub(\"/([0-9])$\",r'/0\\1/01',x))\n",
    "carrierDF.Phone_Released=pd.to_datetime(carrierDF.Phone_Released)\n",
    "carrierDF_filtered3yr=carrierDF[(carrierDF.Phone_Released>carrierDF.Bulletin_Level_3ago)] # phones can only be released 3 years prior to the bulletin\n",
    "# checkMe=carrierDF_filtered3yr[carrierDF_filtered3yr.Bulletin_Level=='2019-10-01T00:00:00.000000000']\n",
    "# print(checkMe.Phone_Released.unique())\n",
    "data=[]\n",
    "data2=[]\n",
    "vals2=[[],[]]\n",
    "vals3=[[],[]]\n",
    "for bul in uniqueBulletins:\n",
    "    tmp=carrierDF_filtered3yr[carrierDF_filtered3yr.Bulletin_Level==bul]\n",
    "    \n",
    "    data.append(go.Box(\n",
    "            y=tmp.difference.values,\n",
    "            name=str(bul),\n",
    "            #boxpoints = 'all',\n",
    "            showlegend=False,\n",
    "        ))\n",
    "    \n",
    "    vals2[0].append(str(bul))\n",
    "    vals2[1].append(len(tmp))\n",
    "    \n",
    "    vals3[0].append(str(bul))\n",
    "    vals3[1].append(statistics.mean(tmp.difference.values))\n",
    "    \n",
    "data2.append(go.Scatter(\n",
    "            x=vals2[0],\n",
    "            y=vals2[1],\n",
    "            name=\"Number of Updates\",\n",
    "            #boxpoints = 'all',\n",
    "            line_color='deepskyblue'\n",
    "        ))\n",
    "\n",
    "data2.append(go.Scatter(\n",
    "        x=vals3[0],\n",
    "        y=vals3[1],\n",
    "        name=\"Average Latency\",\n",
    "        #boxpoints = 'all',\n",
    "        line_color='dimgray'\n",
    "    ))\n",
    "        \n",
    "# Edit the layout\n",
    "layout = dict(#title = \"Average Latency per 6 Month Periods after Release\",\n",
    "              yaxis = dict(title = 'Update Latency (days)',showgrid=True, gridcolor='rgb(219, 219, 219)'),\n",
    "              xaxis = dict(title = 'Android Security Bulletins'),\n",
    "              plot_bgcolor='rgba(0,0,0,0)',\n",
    "              )\n",
    "\n",
    "fig = dict(data=data, layout=layout)\n",
    "py.offline.iplot(fig, filename='avg-latency-since-release-years.png')\n",
    "\n",
    "\n",
    "# Graph to display number of points\n",
    "layout = dict(#title = \"Average Latency per 6 Month Periods after Release\",\n",
    "              yaxis = dict(title = 'Number of Updates',showgrid=True, gridcolor='rgb(219, 219, 219)'),\n",
    "              xaxis = dict(title = 'Android Security Bulletins'),\n",
    "              plot_bgcolor='rgba(0,0,0,0)',\n",
    "              \n",
    "              )\n",
    "fig = dict(data=data2, layout=layout)\n",
    "py.offline.iplot(fig, filename='avg-latency-since-release-years.png')\n",
    "\n",
    "\n",
    "\n"
   ]
  },
  {
   "cell_type": "code",
   "execution_count": null,
   "metadata": {},
   "outputs": [],
   "source": []
  }
 ],
 "metadata": {
  "kernelspec": {
   "display_name": "Python 3",
   "language": "python",
   "name": "python3"
  },
  "language_info": {
   "codemirror_mode": {
    "name": "ipython",
    "version": 3
   },
   "file_extension": ".py",
   "mimetype": "text/x-python",
   "name": "python",
   "nbconvert_exporter": "python",
   "pygments_lexer": "ipython3",
   "version": "3.6.10"
  }
 },
 "nbformat": 4,
 "nbformat_minor": 2
}
