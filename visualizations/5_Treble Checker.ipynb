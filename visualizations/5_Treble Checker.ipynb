{
 "cells": [
  {
   "cell_type": "code",
   "execution_count": 1,
   "metadata": {},
   "outputs": [
    {
     "data": {
      "text/html": [
       "        <script type=\"text/javascript\">\n",
       "        window.PlotlyConfig = {MathJaxConfig: 'local'};\n",
       "        if (window.MathJax) {MathJax.Hub.Config({SVG: {font: \"STIX-Web\"}});}\n",
       "        if (typeof require !== 'undefined') {\n",
       "        require.undef(\"plotly\");\n",
       "        requirejs.config({\n",
       "            paths: {\n",
       "                'plotly': ['https://cdn.plot.ly/plotly-latest.min']\n",
       "            }\n",
       "        });\n",
       "        require(['plotly'], function(Plotly) {\n",
       "            window._Plotly = Plotly;\n",
       "        });\n",
       "        }\n",
       "        </script>\n",
       "        "
      ]
     },
     "metadata": {},
     "output_type": "display_data"
    },
    {
     "name": "stdout",
     "output_type": "stream",
     "text": [
      "['alcatel 5v 5060d' 'alldocube m5' 'alldocube power m3' 'allview v3 viper'\n",
      " 'asus rog phone (zs600kl)' 'asus rog phone ii (zs660kl)'\n",
      " 'asus zenfone 5 (ze620kl)' 'asus zenfone 5z (zs620kl/zs621kl)'\n",
      " 'asus zenfone go' 'asus zenfone max m1 (zb555kl)'\n",
      " 'asus zenfone max m1 (zb556kl)' 'asus zenfone max pro m1'\n",
      " 'asus zenfone max pro m2' 'barnes & noble nook tablet 10.1'\n",
      " 'blackview a20' 'blackview a60' 'blackview a60 pro' 'blackview bv9500'\n",
      " 'blackview bv9500 pro' 'blackview bv9600 pro' 'blu vivo xl4'\n",
      " 'bq aquaris c' 'chuwi hi9 air' 'coolpad c558' 'coolpad cool changer 1c'\n",
      " 'coolpad cool changer s1' 'cubot p20' 'dexp a140' 'dexp a240' 'dexp b260'\n",
      " 'dexp bl250' 'doogee x5' 'doogee x5 max' 'doogee x5 pro' 'doogee x50'\n",
      " 'doogee y8' 'elephone soldier' 'elephone u pro' 'essential ph-1'\n",
      " 'f(x)tec pro1' 'general mobile gm 5' 'general mobile gm 5 plus'\n",
      " 'general mobile gm 8' 'general mobile gm 8 go' 'general mobile gm 9 pro'\n",
      " 'gome u9' 'google pixel' 'google pixel 2' 'google pixel 3'\n",
      " 'google pixel 3a' 'google pixel 4' 'htc u11 plus' 'htc u12 plus'\n",
      " 'huawei honor 6x' 'huawei honor 7a' 'huawei honor 7a pro'\n",
      " 'huawei honor 7c' 'huawei honor 7c pro' 'huawei honor 7x'\n",
      " 'huawei honor 8' 'huawei honor 8 lite' 'huawei honor 8 pro'\n",
      " 'huawei honor 9' 'huawei honor 9 lite' 'huawei honor v8'\n",
      " 'huawei honor view 10' 'huawei mate 9' 'huawei mate 10 lite'\n",
      " 'huawei mate 10 pro' 'huawei mate se' 'huawei mediapad m5 lite'\n",
      " 'huawei p smart' 'huawei p smart (2019)' 'huawei p smart z'\n",
      " 'huawei p8 lite (2017)' 'huawei p9' 'huawei p10' 'huawei p10 lite'\n",
      " 'huawei p20' 'huawei p20 lite' 'huawei p20 pro'\n",
      " 'huawei y6 / y6 prime (2018)' 'huawei y9 (2018)' 'infinix note 5'\n",
      " 'infinix zero 6' 'inoi 2 lite' 'itel a32f' 'jinga start lte'\n",
      " 'koolnee rainbow' 'lava z50' 'leagoo m8 pro' 'leagoo m13'\n",
      " 'leagoo power 5' 'leagoo t8s' 'leeco le 2' 'leeco le max 2'\n",
      " 'leeco le pro 3' 'lenovo k5 play' 'lenovo k6 / k6 power' 'lenovo k8 note'\n",
      " 'lenovo p2' 'lenovo s5' 'lenovo vibe a plus' 'lenovo z5'\n",
      " 'lenovo z6 youth edition' 'lg g7 thinq™️' 'lg v30' 'meizu 16th'\n",
      " 'meizu 16x' 'meizu m2 mini' 'meizu note 9' 'moto e5' 'moto e5 plus'\n",
      " 'moto g5' 'moto g5 plus' 'moto g5s' 'moto g5s plus' 'moto g6'\n",
      " 'moto g6 play' 'moto g6 plus' 'moto g7 power' 'moto g7 plus' 'moto x4'\n",
      " 'moto z' 'moto z play' 'moto z2 force' 'moto z2 play' 'moto z3 play'\n",
      " 'motorola one' 'motorola one power' 'nokia 1' 'nokia 1 plus' 'nokia 2.1'\n",
      " 'nokia 3.1' 'nokia 3.1 a' 'nokia 3.1 plus' 'nokia 3.1 plus c' 'nokia 3.2'\n",
      " 'nokia 4.2' 'nokia 5.1' 'nokia 5.1 plus (x5)' 'nokia 6 (2018)'\n",
      " 'nokia 6.1 plus (x6)' 'nokia 6.2' 'nokia 7' 'nokia 7 plus' 'nokia 7.1'\n",
      " 'nokia 7.2' 'nokia 8' 'nokia 8 sirocco' 'nokia 8.1 (x7)'\n",
      " 'nokia 9 pureview' 'nokia x71' 'oneplus 3' 'oneplus 5' 'oneplus 6'\n",
      " 'oneplus 6t' 'oneplus 7' 'oneplus 7 pro' 'oneplus 7t' 'oneplus 7t pro'\n",
      " 'oppo r11 / r11s' 'oukitel c10' 'oukitel c11 pro' 'oukitel k7 power'\n",
      " 'oukitel k8' 'prestigio muze g5 lte' 'razer phone' 'realme 1'\n",
      " 'realme 2 pro' 'realme 3 pro' 'realme x' 'realme xt' 'red hydrogen one'\n",
      " 'galaxy a6+ (2018)' 'galaxy a7 (2018)' 'galaxy a8' 'galaxy a8+'\n",
      " 'galaxy a10' 'galaxy a30' 'galaxy a40' 'galaxy a50' 'galaxy fold'\n",
      " 'galaxy j2 core' 'galaxy j4' 'galaxy j4+' 'galaxy j5 (2017)' 'galaxy j6'\n",
      " 'galaxy j7 (2017)' 'galaxy note 8' 'galaxy note 9' 'galaxy note 10'\n",
      " 'galaxy s3 neo' 'galaxy s6' 'galaxy s7' 'galaxy s8' 'galaxy s9'\n",
      " 'galaxy s10' 'galaxy s10e' 'galaxy tab a 10.1' 'galaxy tab s3 9.3'\n",
      " 'galaxy tab s4 10.5' 'sharp aquos s2 / c10' 'sharp aquos s3 / d10'\n",
      " 'google pixel xl' 'google pixel 2 xl' 'google pixel 3 xl'\n",
      " 'google pixel 3a xl' 'google pixel 4 xl' 'huawei p10 plus' 'nokia 2.1 v'\n",
      " 'nokia 3.1 c' 'oneplus 3t' 'oneplus 5t' 'galaxy s6 edge' 'galaxy s7 edge'\n",
      " 'galaxy s8+' 'galaxy s9+' 'galaxy s10+']\n"
     ]
    }
   ],
   "source": [
    "import pandas as pd\n",
    "import numpy as np\n",
    "import re\n",
    "import plotly as py\n",
    "import plotly.graph_objs as go\n",
    "py.offline.init_notebook_mode(connected=True)\n",
    "import plotly.io as pio\n",
    "%config InlineBackend.figure_format = 'svg'\n",
    "\n",
    "trebleNames=pd.read_csv(\"../data/TrebleNames.csv\")\n",
    "trebleNames=trebleNames.iloc[:,:4]\n",
    "trebleNames.columns=['Model','codename','imagType','arch']\n",
    "trebleNames.drop(columns=['codename','imagType','arch'],inplace=True)\n",
    "trebleNames.Model=trebleNames.Model.str.strip()\n",
    "trebleNames.Model=trebleNames.Model.str.lower()\n",
    "trebleNames[\"supported\"]=\"yes\"\n",
    "trebleNames=trebleNames.drop_duplicates()\n",
    "\n",
    "# print(trebleNames.head())\n",
    "\n",
    "# Normalize the model names\n",
    "trebleNames.Model=trebleNames.Model.str.replace(\"samsung \",\"\")\n",
    "dups=trebleNames[trebleNames.Model.str.contains(\" and \")]\n",
    "for index,value in dups.iterrows():\n",
    "    parsedManufactures=value[0].split(\" \")[0]\n",
    "    phones = value[0].split(\" and \")\n",
    "    secndPhone=parsedManufactures + \" \" + phones[1]\n",
    "    newData=[[secndPhone,value[1]]]\n",
    "    newPhone=pd.DataFrame(newData.copy(),columns=['Model', 'supported'])\n",
    "    trebleNames=trebleNames.append(newPhone.copy())\n",
    "    \n",
    "trebleNames.reset_index(drop=True,inplace=True)    \n",
    "\n",
    "trebleNames.Model=trebleNames.Model.str.replace(\" and .*$\",\"\")\n",
    "trebleNames.Model=trebleNames.Model.str.replace('nokia v',\"nokia 2.1 v\")\n",
    "trebleNames.Model=trebleNames.Model.str.replace('nokia c',\"nokia 3.1 c\")\n",
    "trebleNames.Model=trebleNames.Model.str.replace(' \\(exynos\\)',\"\")\n",
    "trebleNames.Model=trebleNames.Model.str.replace(' \\(snapdragon\\)',\"\")\n",
    "\n",
    "\n",
    "dups2=trebleNames[trebleNames.Model.str.contains(\"galaxy\")]\n",
    "for index,value in dups2.iterrows():\n",
    "    if \" plus\" in str(value.Model):\n",
    "        newVal=value.Model.replace(\" plus\",'+')\n",
    "        trebleNames.at[index,'Model']=newVal\n",
    "\n",
    "   \n",
    "print(trebleNames.Model.unique())\n",
    "\n",
    "trebleNames.Model=trebleNames.Model.str.replace('google ',\"\")\n",
    "trebleNames.Model=trebleNames.Model.str.replace('lg g7 thinq™️',\"lg g7 thinq\")\n",
    "trebleNames.Model=trebleNames.Model.str.replace('lg v30',\"v30\")\n",
    "\n",
    "trebleNames=trebleNames.drop_duplicates()"
   ]
  },
  {
   "cell_type": "code",
   "execution_count": 2,
   "metadata": {},
   "outputs": [
    {
     "name": "stdout",
     "output_type": "stream",
     "text": [
      "  Carrier Manufacture             Model_x Release_Date Bulletin_Level  \\\n",
      "0    AT&T     Alcatel  Alcatel IdealXCITE   2018-04-03     2018-02-01   \n",
      "1    AT&T     Alcatel  Alcatel IdealXCITE   2018-04-03     2018-04-01   \n",
      "2    AT&T     Alcatel  Alcatel IdealXCITE   2018-10-24     2018-08-01   \n",
      "3    AT&T     Alcatel  Alcatel IdealXCITE   2018-12-18     2018-10-01   \n",
      "4    AT&T  BlackBerry   BlackBerry KEYone   2017-09-26     2017-09-01   \n",
      "\n",
      "   difference Android_Level_Guessed  \\\n",
      "0        61.0                 False   \n",
      "1         2.0                  True   \n",
      "2        84.0                 False   \n",
      "3        78.0                 False   \n",
      "4        25.0                 False   \n",
      "\n",
      "                                               build  Year_Phone_Release  \\\n",
      "0        JO.2.0.c1-00150-8909_GEN_PACK-1 nan YAMUAM0              2017.0   \n",
      "1                                nan YB4UA40File nan              2017.0   \n",
      "2        JO.2.0.c1-00267-8909_GEN_PACK-2 nan YAYUAY0              2017.0   \n",
      "3        JO.2.0.c1-00267-8909_GEN_PACK-2 YB3UA30 nan              2017.0   \n",
      "4  MPSS.TA.2.3.c1-00333-8953_GEN_PACK-1.103777.4....              2017.0   \n",
      "\n",
      "   Month_Phone_Release  checker           ModelNorm Model_y supported  \n",
      "0                  6.0      5.0  alcatel idealxcite     NaN       NaN  \n",
      "1                  6.0      1.0  alcatel idealxcite     NaN       NaN  \n",
      "2                  6.0      1.0  alcatel idealxcite     NaN       NaN  \n",
      "3                  6.0      5.0  alcatel idealxcite     NaN       NaN  \n",
      "4                  4.0      5.0   blackberry keyone     NaN       NaN  \n"
     ]
    }
   ],
   "source": [
    "carrierData=pd.read_csv(\"../data/allCarrierData_final.csv\")\n",
    "carrierData[\"ModelNorm\"]=carrierData.Model.str.strip()\n",
    "carrierData[\"ModelNorm\"]=carrierData.ModelNorm.str.lower()\n",
    "    \n",
    "\n",
    "# remove outliers!!\n",
    "carrierData=carrierData[carrierData.difference>-10]\n",
    "\n",
    "#merge...\n",
    "testing=pd.merge(carrierData,trebleNames,left_on=['ModelNorm'],right_on=['Model'],how='outer')\n",
    "print(testing.head())"
   ]
  },
  {
   "cell_type": "code",
   "execution_count": 3,
   "metadata": {},
   "outputs": [
    {
     "name": "stdout",
     "output_type": "stream",
     "text": [
      "    Carrier Manufacture Model_x Release_Date Bulletin_Level  difference  \\\n",
      "221    AT&T          LG     V30   2017-10-06     2017-10-01         5.0   \n",
      "222    AT&T          LG     V30   2017-12-19     2017-12-01        18.0   \n",
      "223    AT&T          LG     V30   2018-02-23     2018-01-01        53.0   \n",
      "224    AT&T          LG     V30   2018-08-06     2018-05-01        97.0   \n",
      "225    AT&T          LG     V30   2019-11-19     2019-11-01        18.0   \n",
      "\n",
      "    Android_Level_Guessed            build  Year_Phone_Release  \\\n",
      "221                 False  nan nan H93120d              2017.0   \n",
      "222                  True      nan nan nan              2017.0   \n",
      "223                 False  nan nan H93111N              2017.0   \n",
      "224                 False  nan nan H93120c              2017.0   \n",
      "225                  None  nan nan H93120d              2017.0   \n",
      "\n",
      "     Month_Phone_Release  checker  \n",
      "221                  9.0      1.0  \n",
      "222                  9.0      1.0  \n",
      "223                  9.0      5.0  \n",
      "224                  9.0      1.0  \n",
      "225                  9.0      1.0  \n",
      "---------------------------------------------------------------------------\n",
      "  Carrier Manufacture             Model_x Release_Date Bulletin_Level  \\\n",
      "0    AT&T     Alcatel  Alcatel IdealXCITE   2018-04-03     2018-02-01   \n",
      "1    AT&T     Alcatel  Alcatel IdealXCITE   2018-04-03     2018-04-01   \n",
      "2    AT&T     Alcatel  Alcatel IdealXCITE   2018-10-24     2018-08-01   \n",
      "3    AT&T     Alcatel  Alcatel IdealXCITE   2018-12-18     2018-10-01   \n",
      "4    AT&T  BlackBerry   BlackBerry KEYone   2017-09-26     2017-09-01   \n",
      "\n",
      "   difference Android_Level_Guessed  \\\n",
      "0        61.0                 False   \n",
      "1         2.0                  True   \n",
      "2        84.0                 False   \n",
      "3        78.0                 False   \n",
      "4        25.0                 False   \n",
      "\n",
      "                                               build  Year_Phone_Release  \\\n",
      "0        JO.2.0.c1-00150-8909_GEN_PACK-1 nan YAMUAM0              2017.0   \n",
      "1                                nan YB4UA40File nan              2017.0   \n",
      "2        JO.2.0.c1-00267-8909_GEN_PACK-2 nan YAYUAY0              2017.0   \n",
      "3        JO.2.0.c1-00267-8909_GEN_PACK-2 YB3UA30 nan              2017.0   \n",
      "4  MPSS.TA.2.3.c1-00333-8953_GEN_PACK-1.103777.4....              2017.0   \n",
      "\n",
      "   Month_Phone_Release  checker  \n",
      "0                  6.0      5.0  \n",
      "1                  6.0      1.0  \n",
      "2                  6.0      1.0  \n",
      "3                  6.0      5.0  \n",
      "4                  4.0      5.0  \n"
     ]
    }
   ],
   "source": [
    "testing['supported']=testing.supported.astype(\"str\")\n",
    "testing['Model_x']=testing.Model_x.astype(\"str\")\n",
    "testing['Model_y']=testing.Model_y.astype(\"str\")\n",
    "testing['ModelNorm']=testing.ModelNorm.astype(\"str\")\n",
    "\n",
    "\n",
    "\n",
    "finalTrebleList=testing[testing.Model_x!='nan']\n",
    "finalTrebleList=finalTrebleList[finalTrebleList.supported=='yes']\n",
    "\n",
    "nonTrebleList=testing[testing.Model_x!='nan']\n",
    "nonTrebleList=nonTrebleList[nonTrebleList.supported=='nan']\n",
    "\n",
    "finalTrebleList.drop(columns=['ModelNorm','Model_y','supported'],inplace=True)\n",
    "nonTrebleList.drop(columns=['ModelNorm','Model_y','supported'],inplace=True)\n",
    "\n",
    "\n",
    "print(finalTrebleList.head())\n",
    "print(\"---------------------------------------------------------------------------\")\n",
    "print(nonTrebleList.head())\n"
   ]
  },
  {
   "cell_type": "code",
   "execution_count": 4,
   "metadata": {},
   "outputs": [
    {
     "name": "stdout",
     "output_type": "stream",
     "text": [
      "1920\n",
      "219\n",
      "2107\n",
      "542\n",
      "1378\n"
     ]
    }
   ],
   "source": [
    "print(len(carrierData))\n",
    "print(len(trebleNames))\n",
    "print(len(testing))\n",
    "print(len(finalTrebleList))\n",
    "print(len(nonTrebleList))"
   ]
  },
  {
   "cell_type": "code",
   "execution_count": 5,
   "metadata": {},
   "outputs": [
    {
     "data": {
      "application/vnd.plotly.v1+json": {
       "config": {
        "linkText": "Export to plot.ly",
        "plotlyServerURL": "https://plot.ly",
        "showLink": false
       },
       "data": [
        {
         "boxpoints": "all",
         "name": "Treble",
         "type": "box",
         "y": [
          5,
          18,
          53,
          97,
          18,
          17,
          17,
          20,
          30,
          34,
          43,
          5,
          0,
          24,
          23,
          25,
          27,
          28,
          75,
          45,
          28,
          44,
          61,
          0,
          32,
          40,
          58,
          23,
          50,
          29,
          25,
          21,
          42,
          38,
          37,
          29,
          32,
          24,
          22,
          24,
          24,
          39,
          20,
          25,
          33,
          3,
          18,
          18,
          26,
          27,
          43,
          26,
          25,
          39,
          9,
          15,
          13,
          10,
          26,
          23,
          29,
          36,
          1,
          4,
          17,
          21,
          23,
          24,
          26,
          62,
          1,
          3,
          23,
          50,
          29,
          25,
          21,
          42,
          31,
          26,
          32,
          24,
          22,
          24,
          24,
          39,
          20,
          25,
          3,
          18,
          18,
          26,
          27,
          25,
          43,
          26,
          39,
          9,
          15,
          13,
          10,
          26,
          23,
          29,
          36,
          1,
          4,
          17,
          21,
          0,
          23,
          24,
          21,
          26,
          62,
          1,
          3,
          17,
          26,
          20,
          13,
          34,
          25,
          67,
          17,
          37,
          28,
          25,
          19,
          23,
          24,
          56,
          48,
          16,
          3,
          3,
          7,
          26,
          4,
          19,
          19,
          25,
          28,
          23,
          13,
          16,
          20,
          18,
          11,
          61,
          25,
          15,
          27,
          32,
          25,
          17,
          21,
          31,
          45,
          44,
          17,
          11,
          16,
          24,
          25,
          38,
          17,
          16,
          26,
          39,
          22,
          35,
          38,
          27,
          25,
          37,
          28,
          26,
          20,
          2,
          43,
          33,
          67,
          17,
          37,
          28,
          25,
          19,
          23,
          24,
          56,
          48,
          16,
          3,
          7,
          26,
          4,
          19,
          19,
          25,
          28,
          23,
          13,
          16,
          20,
          18,
          11,
          61,
          25,
          15,
          27,
          32,
          25,
          17,
          21,
          31,
          45,
          44,
          20,
          43,
          21,
          19,
          20,
          38,
          37,
          26,
          36,
          30,
          38,
          22,
          18,
          15,
          29,
          24,
          25,
          34,
          30,
          27,
          32,
          27,
          37,
          4,
          50,
          23,
          36,
          32,
          27,
          18,
          30,
          19,
          0,
          5,
          7,
          69,
          20,
          14,
          16,
          31,
          34,
          22,
          21,
          25,
          22,
          20,
          43,
          21,
          19,
          20,
          38,
          37,
          26,
          36,
          30,
          38,
          22,
          18,
          15,
          29,
          24,
          25,
          34,
          30,
          27,
          32,
          27,
          37,
          37,
          23,
          32,
          18,
          30,
          19,
          0,
          7,
          69,
          20,
          14,
          16,
          31,
          34,
          22,
          21,
          25,
          22,
          15,
          48,
          35,
          20,
          36,
          19,
          18,
          16,
          26,
          38,
          16,
          12,
          20,
          7,
          16,
          20,
          3,
          15,
          12,
          20,
          18,
          11,
          0,
          33,
          12,
          9,
          35,
          14,
          40,
          19,
          20,
          15,
          13,
          13,
          29,
          24,
          31,
          32,
          21,
          30,
          18,
          10,
          15,
          35,
          20,
          19,
          16,
          26,
          16,
          13,
          15,
          12,
          20,
          7,
          16,
          20,
          3,
          15,
          12,
          20,
          18,
          11,
          0,
          33,
          12,
          9,
          29,
          24,
          31,
          32,
          21,
          30,
          18,
          10,
          6,
          7,
          0,
          5,
          2,
          20,
          3,
          15,
          7,
          -6,
          3,
          0,
          5,
          2,
          6,
          3,
          1,
          7,
          -6,
          3,
          0,
          5,
          2,
          6,
          3,
          1,
          23,
          26,
          25,
          67,
          26,
          28,
          0,
          10,
          2,
          40,
          19,
          47,
          68,
          29,
          29,
          23,
          54,
          31,
          42,
          64,
          51,
          36,
          31,
          21,
          79,
          26,
          27,
          31,
          20,
          43,
          29,
          15,
          32,
          26,
          15,
          16,
          7,
          15,
          27,
          8,
          16,
          6,
          14,
          38,
          36,
          14,
          28,
          22,
          16,
          24,
          26,
          15,
          16,
          38,
          36,
          19,
          30,
          28,
          16,
          24,
          26,
          15,
          16,
          7,
          38,
          15,
          39,
          28,
          16,
          11,
          14,
          38,
          36,
          19,
          30,
          28,
          16,
          24,
          29,
          -6,
          2,
          6,
          3,
          1,
          29,
          -6,
          2,
          6,
          3,
          1,
          0,
          7,
          72,
          33,
          30,
          19,
          2,
          8,
          88,
          3,
          0,
          5,
          2,
          6,
          1,
          3,
          0,
          5,
          4,
          2,
          6,
          3,
          3,
          0,
          5,
          4,
          2,
          6,
          3,
          1,
          20,
          3,
          8,
          20,
          3,
          8,
          3,
          0,
          5,
          2,
          6,
          1,
          36,
          30,
          28,
          39,
          21,
          65
         ]
        },
        {
         "boxpoints": "all",
         "name": "Non-Treble",
         "type": "box",
         "y": [
          61,
          2,
          84,
          78,
          25,
          30,
          14,
          21,
          26,
          25,
          58,
          11,
          45,
          23,
          35,
          32,
          25,
          28,
          32,
          29,
          10,
          5,
          21,
          9,
          14,
          18,
          42,
          35,
          27,
          28,
          30,
          27,
          15,
          25,
          16,
          9,
          12,
          79,
          74,
          13,
          46,
          53,
          33,
          89,
          74,
          50,
          109,
          101,
          29,
          78,
          51,
          25,
          31,
          45,
          28,
          25,
          57,
          24,
          89,
          79,
          53,
          97,
          48,
          45,
          1,
          29,
          41,
          43,
          28,
          5,
          4,
          29,
          50,
          22,
          60,
          50,
          41,
          33,
          34,
          35,
          1,
          27,
          26,
          18,
          30,
          29,
          16,
          26,
          21,
          6,
          2,
          20,
          20,
          24,
          19,
          51,
          24,
          26,
          21,
          25,
          32,
          26,
          2,
          20,
          22,
          28,
          44,
          29,
          5,
          32,
          6,
          14,
          23,
          5,
          20,
          6,
          8,
          18,
          28,
          78,
          32,
          29,
          24,
          29,
          45,
          17,
          84,
          54,
          16,
          7,
          16,
          14,
          27,
          35,
          23,
          55,
          33,
          52,
          61,
          81,
          44,
          9,
          27,
          20,
          29,
          26,
          4,
          26,
          27,
          23,
          25,
          26,
          28,
          80,
          19,
          102,
          10,
          39,
          33,
          35,
          44,
          70,
          29,
          17,
          25,
          85,
          24,
          26,
          25,
          17,
          21,
          21,
          44,
          26,
          42,
          39,
          14,
          26,
          55,
          26,
          33,
          36,
          26,
          28,
          29,
          40,
          35,
          11,
          30,
          28,
          41,
          15,
          63,
          92,
          24,
          2,
          54,
          24,
          40,
          9,
          13,
          64,
          30,
          4,
          36,
          34,
          29,
          16,
          24,
          6,
          27,
          4,
          30,
          32,
          36,
          27,
          25,
          29,
          47,
          17,
          13,
          21,
          4,
          104,
          15,
          31,
          0,
          30,
          41,
          50,
          44,
          38,
          47,
          45,
          51,
          12,
          21,
          22,
          5,
          28,
          14,
          25,
          29,
          22,
          88,
          58,
          71,
          21,
          24,
          12,
          13,
          46,
          28,
          28,
          9,
          21,
          18,
          5,
          16,
          58,
          14,
          53,
          70,
          26,
          38,
          53,
          27,
          38,
          19,
          17,
          38,
          53,
          27,
          27,
          25,
          38,
          7,
          53,
          27,
          20,
          31,
          17,
          19,
          59,
          53,
          38,
          20,
          15,
          15,
          23,
          23,
          27,
          21,
          55,
          17,
          26,
          36,
          48,
          29,
          17,
          9,
          1,
          55,
          41,
          26,
          29,
          37,
          36,
          24,
          6,
          28,
          23,
          52,
          30,
          27,
          18,
          48,
          22,
          76,
          14,
          8,
          18,
          13,
          18,
          18,
          21,
          30,
          15,
          15,
          21,
          23,
          23,
          26,
          49,
          55,
          17,
          26,
          34,
          34,
          29,
          18,
          25,
          37,
          42,
          31,
          37,
          26,
          25,
          21,
          19,
          6,
          20,
          30,
          35,
          27,
          20,
          26,
          26,
          9,
          29,
          26,
          29,
          23,
          48,
          5,
          13,
          31,
          33,
          48,
          16,
          18,
          0,
          19,
          19,
          10,
          0,
          18,
          19,
          24,
          18,
          0,
          19,
          19,
          10,
          0,
          5,
          18,
          19,
          24,
          33,
          29,
          23,
          27,
          35,
          17,
          27,
          17,
          25,
          30,
          42,
          36,
          37,
          26,
          25,
          21,
          19,
          4,
          6,
          23,
          22,
          15,
          34,
          26,
          9,
          29,
          26,
          29,
          23,
          48,
          5,
          13,
          31,
          33,
          48,
          14,
          24,
          19,
          25,
          28,
          46,
          38,
          37,
          41,
          26,
          24,
          26,
          30,
          24,
          37,
          41,
          27,
          32,
          36,
          26,
          36,
          24,
          30,
          6,
          23,
          18,
          18,
          13,
          5,
          4,
          23,
          22,
          26,
          22,
          2,
          1,
          13,
          17,
          12,
          7,
          35,
          0,
          4,
          20,
          19,
          0,
          8,
          0,
          23,
          20,
          21,
          23,
          27,
          26,
          34,
          4,
          22,
          55,
          24,
          44,
          33,
          27,
          25,
          36,
          26,
          44,
          28,
          25,
          22,
          30,
          31,
          22,
          27,
          20,
          29,
          32,
          27,
          29,
          14,
          28,
          26,
          29,
          43,
          23,
          19,
          16,
          27,
          31,
          21,
          18,
          30,
          14,
          15,
          20,
          0,
          0,
          12,
          6,
          4,
          21,
          26,
          17,
          31,
          11,
          31,
          34,
          22,
          18,
          27,
          25,
          22,
          23,
          18,
          28,
          14,
          39,
          34,
          31,
          16,
          47,
          26,
          19,
          43,
          21,
          36,
          0,
          18,
          23,
          21,
          41,
          17,
          35,
          24,
          7,
          39,
          27,
          14,
          32,
          21,
          25,
          15,
          7,
          10,
          20,
          30,
          13,
          7,
          12,
          21,
          10,
          18,
          25,
          31,
          37,
          6,
          15,
          28,
          26,
          9,
          1,
          13,
          10,
          22,
          17,
          33,
          44,
          1,
          5,
          16,
          9,
          10,
          18,
          25,
          48,
          42,
          31,
          37,
          20,
          30,
          26,
          24,
          48,
          42,
          38,
          35,
          32,
          25,
          22,
          26,
          23,
          40,
          20,
          25,
          36,
          34,
          31,
          25,
          14,
          24,
          19,
          25,
          28,
          46,
          38,
          47,
          41,
          26,
          24,
          26,
          30,
          24,
          37,
          42,
          26,
          32,
          36,
          26,
          36,
          28,
          6,
          23,
          18,
          18,
          26,
          13,
          27,
          33,
          22,
          2,
          1,
          13,
          17,
          12,
          7,
          35,
          0,
          4,
          0,
          19,
          0,
          8,
          23,
          20,
          23,
          27,
          26,
          34,
          4,
          22,
          8,
          8,
          27,
          23,
          24,
          19,
          24,
          21,
          27,
          60,
          20,
          17,
          21,
          28,
          25,
          33,
          27,
          25,
          22,
          24,
          17,
          28,
          27,
          27,
          25,
          27,
          17,
          25,
          9,
          29,
          41,
          20,
          18,
          20,
          92,
          31,
          0,
          26,
          61,
          24,
          41,
          62,
          30,
          1,
          38,
          57,
          50,
          35,
          21,
          30,
          0,
          6,
          16,
          4,
          11,
          1,
          44,
          14,
          101,
          14,
          16,
          29,
          36,
          3,
          0,
          34,
          31,
          5,
          0,
          5,
          5,
          11,
          30,
          28,
          22,
          18,
          6,
          18,
          27,
          27,
          6,
          7,
          11,
          8,
          10,
          23,
          23,
          2,
          27,
          4,
          1,
          7,
          4,
          27,
          10,
          29,
          13,
          11,
          28,
          17,
          4,
          2,
          19,
          26,
          23,
          28,
          26,
          18,
          22,
          51,
          32,
          24,
          14,
          29,
          51,
          45,
          23,
          23,
          24,
          27,
          26,
          22,
          36,
          3,
          0,
          31,
          31,
          5,
          5,
          2,
          21,
          6,
          3,
          0,
          31,
          31,
          5,
          5,
          21,
          2,
          28,
          29,
          32,
          25,
          27,
          31,
          18,
          16,
          9,
          6,
          0,
          15,
          31,
          33,
          30,
          28,
          24,
          28,
          29,
          33,
          54,
          20,
          68,
          16,
          30,
          18,
          4,
          26,
          25,
          18,
          25,
          30,
          39,
          44,
          60,
          31,
          53,
          51,
          54,
          31,
          16,
          15,
          28,
          23,
          4,
          18,
          17,
          26,
          35,
          0,
          30,
          52,
          9,
          0,
          13,
          52,
          79,
          27,
          33,
          2,
          30,
          24,
          6,
          10,
          0,
          13,
          10,
          4,
          7,
          4,
          19,
          13,
          1,
          78,
          24,
          33,
          34,
          88,
          55,
          25,
          53,
          20,
          42,
          22,
          30,
          20,
          12,
          16,
          24,
          20,
          26,
          13,
          38,
          8,
          32,
          25,
          25,
          17,
          11,
          23,
          9,
          1,
          19,
          47,
          42,
          39,
          26,
          17,
          11,
          29,
          12,
          27,
          27,
          0,
          34,
          2,
          32,
          48,
          21,
          22,
          33,
          20,
          21,
          29,
          42,
          38,
          31,
          31,
          53,
          18,
          21,
          28,
          17,
          1,
          6,
          79,
          17,
          29,
          27,
          1,
          10,
          0,
          18,
          10,
          10,
          28,
          17,
          22,
          23,
          4,
          1,
          0,
          18,
          0,
          2,
          26,
          44,
          25,
          27,
          56,
          17,
          19,
          28,
          58,
          27,
          79,
          18,
          18,
          26,
          23,
          23,
          66,
          22,
          10,
          17,
          10,
          30,
          5,
          88,
          7,
          4,
          10,
          7,
          2,
          21,
          21,
          9,
          22,
          3,
          4,
          13,
          15,
          11,
          30,
          11,
          4,
          12,
          19,
          59,
          8,
          18,
          68,
          13,
          15,
          14,
          4,
          7,
          4,
          5,
          0,
          15,
          10,
          5,
          11,
          7,
          6,
          17,
          25,
          16,
          21,
          4,
          4,
          14,
          23,
          10,
          15,
          12,
          6,
          23,
          30,
          19,
          22,
          29,
          23,
          30,
          5,
          4,
          29,
          29,
          60,
          26,
          24,
          12,
          19,
          0,
          25,
          1,
          5,
          7,
          26,
          31,
          24,
          44,
          26,
          17,
          7,
          47,
          17,
          20,
          53,
          25,
          29,
          47,
          52,
          24,
          19,
          24,
          29,
          51,
          18,
          19,
          22,
          14,
          5,
          29,
          20,
          30,
          126,
          13,
          30,
          20,
          22,
          15,
          24,
          5,
          29,
          41,
          32,
          62,
          20,
          17,
          10,
          26,
          2,
          5,
          23,
          5,
          22,
          10,
          7,
          23,
          18,
          26,
          28,
          29,
          46,
          30,
          8,
          44,
          19,
          9,
          17,
          2,
          23,
          24,
          15,
          13,
          18,
          19,
          21,
          16,
          24,
          2,
          21,
          44,
          30,
          7,
          14,
          1,
          16,
          22,
          20,
          50,
          13,
          37,
          6,
          19,
          29,
          1,
          15,
          4,
          27,
          21,
          0,
          23,
          7,
          39,
          56,
          38,
          31,
          27,
          27,
          15,
          19,
          16,
          4,
          22,
          29,
          27,
          0,
          22,
          15,
          20,
          75,
          25,
          29,
          29,
          14,
          52,
          46,
          15,
          105,
          13,
          43,
          13,
          75,
          62,
          1,
          54,
          45,
          14,
          56,
          26,
          38,
          7,
          47,
          0,
          75,
          14,
          21,
          0,
          0,
          67,
          5,
          1,
          44,
          14,
          33,
          3,
          8,
          16,
          4,
          29,
          29,
          2,
          2,
          29,
          29,
          7,
          1,
          1,
          19,
          44,
          19,
          18,
          22,
          20,
          36,
          6,
          19,
          19,
          50,
          7,
          39,
          9,
          18,
          46,
          22,
          27,
          27,
          16,
          17,
          40,
          69,
          4,
          28,
          0,
          107,
          46,
          22,
          58,
          28,
          27,
          17,
          26,
          21,
          81,
          48,
          24,
          69,
          48,
          24,
          69,
          32,
          36,
          5,
          8,
          27,
          48,
          91,
          44,
          32,
          24,
          98,
          35,
          23,
          20,
          54,
          23,
          26,
          32,
          22,
          24,
          40,
          43,
          21,
          44,
          52,
          53,
          24,
          3,
          7,
          39,
          16,
          7,
          10,
          72,
          5,
          62,
          20,
          -4,
          20,
          17,
          68,
          69,
          55,
          17,
          26,
          36,
          48,
          29,
          18,
          48,
          22,
          76,
          55,
          17,
          26,
          34,
          34,
          29,
          18,
          55,
          22,
          64,
          12,
          16,
          16,
          19,
          11,
          11,
          25,
          58,
          45,
          48,
          20,
          28,
          29,
          25,
          36,
          0,
          23,
          29,
          18,
          28,
          21,
          101,
          23,
          13,
          13,
          52,
          22,
          54,
          23,
          35,
          5,
          17,
          68,
          7,
          54,
          23,
          84,
          23,
          6,
          83,
          22,
          60,
          29,
          87,
          26,
          25,
          24,
          33,
          59,
          14
         ]
        }
       ],
       "layout": {
        "plot_bgcolor": "rgba(0,0,0,0)",
        "template": {
         "data": {
          "bar": [
           {
            "error_x": {
             "color": "#2a3f5f"
            },
            "error_y": {
             "color": "#2a3f5f"
            },
            "marker": {
             "line": {
              "color": "#E5ECF6",
              "width": 0.5
             }
            },
            "type": "bar"
           }
          ],
          "barpolar": [
           {
            "marker": {
             "line": {
              "color": "#E5ECF6",
              "width": 0.5
             }
            },
            "type": "barpolar"
           }
          ],
          "carpet": [
           {
            "aaxis": {
             "endlinecolor": "#2a3f5f",
             "gridcolor": "white",
             "linecolor": "white",
             "minorgridcolor": "white",
             "startlinecolor": "#2a3f5f"
            },
            "baxis": {
             "endlinecolor": "#2a3f5f",
             "gridcolor": "white",
             "linecolor": "white",
             "minorgridcolor": "white",
             "startlinecolor": "#2a3f5f"
            },
            "type": "carpet"
           }
          ],
          "choropleth": [
           {
            "colorbar": {
             "outlinewidth": 0,
             "ticks": ""
            },
            "type": "choropleth"
           }
          ],
          "contour": [
           {
            "colorbar": {
             "outlinewidth": 0,
             "ticks": ""
            },
            "colorscale": [
             [
              0,
              "#0d0887"
             ],
             [
              0.1111111111111111,
              "#46039f"
             ],
             [
              0.2222222222222222,
              "#7201a8"
             ],
             [
              0.3333333333333333,
              "#9c179e"
             ],
             [
              0.4444444444444444,
              "#bd3786"
             ],
             [
              0.5555555555555556,
              "#d8576b"
             ],
             [
              0.6666666666666666,
              "#ed7953"
             ],
             [
              0.7777777777777778,
              "#fb9f3a"
             ],
             [
              0.8888888888888888,
              "#fdca26"
             ],
             [
              1,
              "#f0f921"
             ]
            ],
            "type": "contour"
           }
          ],
          "contourcarpet": [
           {
            "colorbar": {
             "outlinewidth": 0,
             "ticks": ""
            },
            "type": "contourcarpet"
           }
          ],
          "heatmap": [
           {
            "colorbar": {
             "outlinewidth": 0,
             "ticks": ""
            },
            "colorscale": [
             [
              0,
              "#0d0887"
             ],
             [
              0.1111111111111111,
              "#46039f"
             ],
             [
              0.2222222222222222,
              "#7201a8"
             ],
             [
              0.3333333333333333,
              "#9c179e"
             ],
             [
              0.4444444444444444,
              "#bd3786"
             ],
             [
              0.5555555555555556,
              "#d8576b"
             ],
             [
              0.6666666666666666,
              "#ed7953"
             ],
             [
              0.7777777777777778,
              "#fb9f3a"
             ],
             [
              0.8888888888888888,
              "#fdca26"
             ],
             [
              1,
              "#f0f921"
             ]
            ],
            "type": "heatmap"
           }
          ],
          "heatmapgl": [
           {
            "colorbar": {
             "outlinewidth": 0,
             "ticks": ""
            },
            "colorscale": [
             [
              0,
              "#0d0887"
             ],
             [
              0.1111111111111111,
              "#46039f"
             ],
             [
              0.2222222222222222,
              "#7201a8"
             ],
             [
              0.3333333333333333,
              "#9c179e"
             ],
             [
              0.4444444444444444,
              "#bd3786"
             ],
             [
              0.5555555555555556,
              "#d8576b"
             ],
             [
              0.6666666666666666,
              "#ed7953"
             ],
             [
              0.7777777777777778,
              "#fb9f3a"
             ],
             [
              0.8888888888888888,
              "#fdca26"
             ],
             [
              1,
              "#f0f921"
             ]
            ],
            "type": "heatmapgl"
           }
          ],
          "histogram": [
           {
            "marker": {
             "colorbar": {
              "outlinewidth": 0,
              "ticks": ""
             }
            },
            "type": "histogram"
           }
          ],
          "histogram2d": [
           {
            "colorbar": {
             "outlinewidth": 0,
             "ticks": ""
            },
            "colorscale": [
             [
              0,
              "#0d0887"
             ],
             [
              0.1111111111111111,
              "#46039f"
             ],
             [
              0.2222222222222222,
              "#7201a8"
             ],
             [
              0.3333333333333333,
              "#9c179e"
             ],
             [
              0.4444444444444444,
              "#bd3786"
             ],
             [
              0.5555555555555556,
              "#d8576b"
             ],
             [
              0.6666666666666666,
              "#ed7953"
             ],
             [
              0.7777777777777778,
              "#fb9f3a"
             ],
             [
              0.8888888888888888,
              "#fdca26"
             ],
             [
              1,
              "#f0f921"
             ]
            ],
            "type": "histogram2d"
           }
          ],
          "histogram2dcontour": [
           {
            "colorbar": {
             "outlinewidth": 0,
             "ticks": ""
            },
            "colorscale": [
             [
              0,
              "#0d0887"
             ],
             [
              0.1111111111111111,
              "#46039f"
             ],
             [
              0.2222222222222222,
              "#7201a8"
             ],
             [
              0.3333333333333333,
              "#9c179e"
             ],
             [
              0.4444444444444444,
              "#bd3786"
             ],
             [
              0.5555555555555556,
              "#d8576b"
             ],
             [
              0.6666666666666666,
              "#ed7953"
             ],
             [
              0.7777777777777778,
              "#fb9f3a"
             ],
             [
              0.8888888888888888,
              "#fdca26"
             ],
             [
              1,
              "#f0f921"
             ]
            ],
            "type": "histogram2dcontour"
           }
          ],
          "mesh3d": [
           {
            "colorbar": {
             "outlinewidth": 0,
             "ticks": ""
            },
            "type": "mesh3d"
           }
          ],
          "parcoords": [
           {
            "line": {
             "colorbar": {
              "outlinewidth": 0,
              "ticks": ""
             }
            },
            "type": "parcoords"
           }
          ],
          "pie": [
           {
            "automargin": true,
            "type": "pie"
           }
          ],
          "scatter": [
           {
            "marker": {
             "colorbar": {
              "outlinewidth": 0,
              "ticks": ""
             }
            },
            "type": "scatter"
           }
          ],
          "scatter3d": [
           {
            "line": {
             "colorbar": {
              "outlinewidth": 0,
              "ticks": ""
             }
            },
            "marker": {
             "colorbar": {
              "outlinewidth": 0,
              "ticks": ""
             }
            },
            "type": "scatter3d"
           }
          ],
          "scattercarpet": [
           {
            "marker": {
             "colorbar": {
              "outlinewidth": 0,
              "ticks": ""
             }
            },
            "type": "scattercarpet"
           }
          ],
          "scattergeo": [
           {
            "marker": {
             "colorbar": {
              "outlinewidth": 0,
              "ticks": ""
             }
            },
            "type": "scattergeo"
           }
          ],
          "scattergl": [
           {
            "marker": {
             "colorbar": {
              "outlinewidth": 0,
              "ticks": ""
             }
            },
            "type": "scattergl"
           }
          ],
          "scattermapbox": [
           {
            "marker": {
             "colorbar": {
              "outlinewidth": 0,
              "ticks": ""
             }
            },
            "type": "scattermapbox"
           }
          ],
          "scatterpolar": [
           {
            "marker": {
             "colorbar": {
              "outlinewidth": 0,
              "ticks": ""
             }
            },
            "type": "scatterpolar"
           }
          ],
          "scatterpolargl": [
           {
            "marker": {
             "colorbar": {
              "outlinewidth": 0,
              "ticks": ""
             }
            },
            "type": "scatterpolargl"
           }
          ],
          "scatterternary": [
           {
            "marker": {
             "colorbar": {
              "outlinewidth": 0,
              "ticks": ""
             }
            },
            "type": "scatterternary"
           }
          ],
          "surface": [
           {
            "colorbar": {
             "outlinewidth": 0,
             "ticks": ""
            },
            "colorscale": [
             [
              0,
              "#0d0887"
             ],
             [
              0.1111111111111111,
              "#46039f"
             ],
             [
              0.2222222222222222,
              "#7201a8"
             ],
             [
              0.3333333333333333,
              "#9c179e"
             ],
             [
              0.4444444444444444,
              "#bd3786"
             ],
             [
              0.5555555555555556,
              "#d8576b"
             ],
             [
              0.6666666666666666,
              "#ed7953"
             ],
             [
              0.7777777777777778,
              "#fb9f3a"
             ],
             [
              0.8888888888888888,
              "#fdca26"
             ],
             [
              1,
              "#f0f921"
             ]
            ],
            "type": "surface"
           }
          ],
          "table": [
           {
            "cells": {
             "fill": {
              "color": "#EBF0F8"
             },
             "line": {
              "color": "white"
             }
            },
            "header": {
             "fill": {
              "color": "#C8D4E3"
             },
             "line": {
              "color": "white"
             }
            },
            "type": "table"
           }
          ]
         },
         "layout": {
          "annotationdefaults": {
           "arrowcolor": "#2a3f5f",
           "arrowhead": 0,
           "arrowwidth": 1
          },
          "coloraxis": {
           "colorbar": {
            "outlinewidth": 0,
            "ticks": ""
           }
          },
          "colorscale": {
           "diverging": [
            [
             0,
             "#8e0152"
            ],
            [
             0.1,
             "#c51b7d"
            ],
            [
             0.2,
             "#de77ae"
            ],
            [
             0.3,
             "#f1b6da"
            ],
            [
             0.4,
             "#fde0ef"
            ],
            [
             0.5,
             "#f7f7f7"
            ],
            [
             0.6,
             "#e6f5d0"
            ],
            [
             0.7,
             "#b8e186"
            ],
            [
             0.8,
             "#7fbc41"
            ],
            [
             0.9,
             "#4d9221"
            ],
            [
             1,
             "#276419"
            ]
           ],
           "sequential": [
            [
             0,
             "#0d0887"
            ],
            [
             0.1111111111111111,
             "#46039f"
            ],
            [
             0.2222222222222222,
             "#7201a8"
            ],
            [
             0.3333333333333333,
             "#9c179e"
            ],
            [
             0.4444444444444444,
             "#bd3786"
            ],
            [
             0.5555555555555556,
             "#d8576b"
            ],
            [
             0.6666666666666666,
             "#ed7953"
            ],
            [
             0.7777777777777778,
             "#fb9f3a"
            ],
            [
             0.8888888888888888,
             "#fdca26"
            ],
            [
             1,
             "#f0f921"
            ]
           ],
           "sequentialminus": [
            [
             0,
             "#0d0887"
            ],
            [
             0.1111111111111111,
             "#46039f"
            ],
            [
             0.2222222222222222,
             "#7201a8"
            ],
            [
             0.3333333333333333,
             "#9c179e"
            ],
            [
             0.4444444444444444,
             "#bd3786"
            ],
            [
             0.5555555555555556,
             "#d8576b"
            ],
            [
             0.6666666666666666,
             "#ed7953"
            ],
            [
             0.7777777777777778,
             "#fb9f3a"
            ],
            [
             0.8888888888888888,
             "#fdca26"
            ],
            [
             1,
             "#f0f921"
            ]
           ]
          },
          "colorway": [
           "#636efa",
           "#EF553B",
           "#00cc96",
           "#ab63fa",
           "#FFA15A",
           "#19d3f3",
           "#FF6692",
           "#B6E880",
           "#FF97FF",
           "#FECB52"
          ],
          "font": {
           "color": "#2a3f5f"
          },
          "geo": {
           "bgcolor": "white",
           "lakecolor": "white",
           "landcolor": "#E5ECF6",
           "showlakes": true,
           "showland": true,
           "subunitcolor": "white"
          },
          "hoverlabel": {
           "align": "left"
          },
          "hovermode": "closest",
          "mapbox": {
           "style": "light"
          },
          "paper_bgcolor": "white",
          "plot_bgcolor": "#E5ECF6",
          "polar": {
           "angularaxis": {
            "gridcolor": "white",
            "linecolor": "white",
            "ticks": ""
           },
           "bgcolor": "#E5ECF6",
           "radialaxis": {
            "gridcolor": "white",
            "linecolor": "white",
            "ticks": ""
           }
          },
          "scene": {
           "xaxis": {
            "backgroundcolor": "#E5ECF6",
            "gridcolor": "white",
            "gridwidth": 2,
            "linecolor": "white",
            "showbackground": true,
            "ticks": "",
            "zerolinecolor": "white"
           },
           "yaxis": {
            "backgroundcolor": "#E5ECF6",
            "gridcolor": "white",
            "gridwidth": 2,
            "linecolor": "white",
            "showbackground": true,
            "ticks": "",
            "zerolinecolor": "white"
           },
           "zaxis": {
            "backgroundcolor": "#E5ECF6",
            "gridcolor": "white",
            "gridwidth": 2,
            "linecolor": "white",
            "showbackground": true,
            "ticks": "",
            "zerolinecolor": "white"
           }
          },
          "shapedefaults": {
           "line": {
            "color": "#2a3f5f"
           }
          },
          "ternary": {
           "aaxis": {
            "gridcolor": "white",
            "linecolor": "white",
            "ticks": ""
           },
           "baxis": {
            "gridcolor": "white",
            "linecolor": "white",
            "ticks": ""
           },
           "bgcolor": "#E5ECF6",
           "caxis": {
            "gridcolor": "white",
            "linecolor": "white",
            "ticks": ""
           }
          },
          "title": {
           "x": 0.05
          },
          "xaxis": {
           "automargin": true,
           "gridcolor": "white",
           "linecolor": "white",
           "ticks": "",
           "title": {
            "standoff": 15
           },
           "zerolinecolor": "white",
           "zerolinewidth": 2
          },
          "yaxis": {
           "automargin": true,
           "gridcolor": "white",
           "linecolor": "white",
           "ticks": "",
           "title": {
            "standoff": 15
           },
           "zerolinecolor": "white",
           "zerolinewidth": 2
          }
         }
        },
        "title": {
         "text": "Days from Bulletins to Carrier Release Dates for Treble vs non-Treble"
        },
        "yaxis": {
         "gridcolor": "rgb(219, 219, 219)",
         "showgrid": true,
         "title": {
          "text": "Days"
         }
        }
       }
      },
      "text/html": [
       "<div>\n",
       "        \n",
       "        \n",
       "            <div id=\"53a4a38d-99d7-458c-95f4-700aa1877d21\" class=\"plotly-graph-div\" style=\"height:525px; width:100%;\"></div>\n",
       "            <script type=\"text/javascript\">\n",
       "                require([\"plotly\"], function(Plotly) {\n",
       "                    window.PLOTLYENV=window.PLOTLYENV || {};\n",
       "                    \n",
       "                if (document.getElementById(\"53a4a38d-99d7-458c-95f4-700aa1877d21\")) {\n",
       "                    Plotly.newPlot(\n",
       "                        '53a4a38d-99d7-458c-95f4-700aa1877d21',\n",
       "                        [{\"boxpoints\": \"all\", \"name\": \"Treble\", \"type\": \"box\", \"y\": [5.0, 18.0, 53.0, 97.0, 18.0, 17.0, 17.0, 20.0, 30.0, 34.0, 43.0, 5.0, 0.0, 24.0, 23.0, 25.0, 27.0, 28.0, 75.0, 45.0, 28.0, 44.0, 61.0, 0.0, 32.0, 40.0, 58.0, 23.0, 50.0, 29.0, 25.0, 21.0, 42.0, 38.0, 37.0, 29.0, 32.0, 24.0, 22.0, 24.0, 24.0, 39.0, 20.0, 25.0, 33.0, 3.0, 18.0, 18.0, 26.0, 27.0, 43.0, 26.0, 25.0, 39.0, 9.0, 15.0, 13.0, 10.0, 26.0, 23.0, 29.0, 36.0, 1.0, 4.0, 17.0, 21.0, 23.0, 24.0, 26.0, 62.0, 1.0, 3.0, 23.0, 50.0, 29.0, 25.0, 21.0, 42.0, 31.0, 26.0, 32.0, 24.0, 22.0, 24.0, 24.0, 39.0, 20.0, 25.0, 3.0, 18.0, 18.0, 26.0, 27.0, 25.0, 43.0, 26.0, 39.0, 9.0, 15.0, 13.0, 10.0, 26.0, 23.0, 29.0, 36.0, 1.0, 4.0, 17.0, 21.0, 0.0, 23.0, 24.0, 21.0, 26.0, 62.0, 1.0, 3.0, 17.0, 26.0, 20.0, 13.0, 34.0, 25.0, 67.0, 17.0, 37.0, 28.0, 25.0, 19.0, 23.0, 24.0, 56.0, 48.0, 16.0, 3.0, 3.0, 7.0, 26.0, 4.0, 19.0, 19.0, 25.0, 28.0, 23.0, 13.0, 16.0, 20.0, 18.0, 11.0, 61.0, 25.0, 15.0, 27.0, 32.0, 25.0, 17.0, 21.0, 31.0, 45.0, 44.0, 17.0, 11.0, 16.0, 24.0, 25.0, 38.0, 17.0, 16.0, 26.0, 39.0, 22.0, 35.0, 38.0, 27.0, 25.0, 37.0, 28.0, 26.0, 20.0, 2.0, 43.0, 33.0, 67.0, 17.0, 37.0, 28.0, 25.0, 19.0, 23.0, 24.0, 56.0, 48.0, 16.0, 3.0, 7.0, 26.0, 4.0, 19.0, 19.0, 25.0, 28.0, 23.0, 13.0, 16.0, 20.0, 18.0, 11.0, 61.0, 25.0, 15.0, 27.0, 32.0, 25.0, 17.0, 21.0, 31.0, 45.0, 44.0, 20.0, 43.0, 21.0, 19.0, 20.0, 38.0, 37.0, 26.0, 36.0, 30.0, 38.0, 22.0, 18.0, 15.0, 29.0, 24.0, 25.0, 34.0, 30.0, 27.0, 32.0, 27.0, 37.0, 4.0, 50.0, 23.0, 36.0, 32.0, 27.0, 18.0, 30.0, 19.0, 0.0, 5.0, 7.0, 69.0, 20.0, 14.0, 16.0, 31.0, 34.0, 22.0, 21.0, 25.0, 22.0, 20.0, 43.0, 21.0, 19.0, 20.0, 38.0, 37.0, 26.0, 36.0, 30.0, 38.0, 22.0, 18.0, 15.0, 29.0, 24.0, 25.0, 34.0, 30.0, 27.0, 32.0, 27.0, 37.0, 37.0, 23.0, 32.0, 18.0, 30.0, 19.0, 0.0, 7.0, 69.0, 20.0, 14.0, 16.0, 31.0, 34.0, 22.0, 21.0, 25.0, 22.0, 15.0, 48.0, 35.0, 20.0, 36.0, 19.0, 18.0, 16.0, 26.0, 38.0, 16.0, 12.0, 20.0, 7.0, 16.0, 20.0, 3.0, 15.0, 12.0, 20.0, 18.0, 11.0, 0.0, 33.0, 12.0, 9.0, 35.0, 14.0, 40.0, 19.0, 20.0, 15.0, 13.0, 13.0, 29.0, 24.0, 31.0, 32.0, 21.0, 30.0, 18.0, 10.0, 15.0, 35.0, 20.0, 19.0, 16.0, 26.0, 16.0, 13.0, 15.0, 12.0, 20.0, 7.0, 16.0, 20.0, 3.0, 15.0, 12.0, 20.0, 18.0, 11.0, 0.0, 33.0, 12.0, 9.0, 29.0, 24.0, 31.0, 32.0, 21.0, 30.0, 18.0, 10.0, 6.0, 7.0, 0.0, 5.0, 2.0, 20.0, 3.0, 15.0, 7.0, -6.0, 3.0, 0.0, 5.0, 2.0, 6.0, 3.0, 1.0, 7.0, -6.0, 3.0, 0.0, 5.0, 2.0, 6.0, 3.0, 1.0, 23.0, 26.0, 25.0, 67.0, 26.0, 28.0, 0.0, 10.0, 2.0, 40.0, 19.0, 47.0, 68.0, 29.0, 29.0, 23.0, 54.0, 31.0, 42.0, 64.0, 51.0, 36.0, 31.0, 21.0, 79.0, 26.0, 27.0, 31.0, 20.0, 43.0, 29.0, 15.0, 32.0, 26.0, 15.0, 16.0, 7.0, 15.0, 27.0, 8.0, 16.0, 6.0, 14.0, 38.0, 36.0, 14.0, 28.0, 22.0, 16.0, 24.0, 26.0, 15.0, 16.0, 38.0, 36.0, 19.0, 30.0, 28.0, 16.0, 24.0, 26.0, 15.0, 16.0, 7.0, 38.0, 15.0, 39.0, 28.0, 16.0, 11.0, 14.0, 38.0, 36.0, 19.0, 30.0, 28.0, 16.0, 24.0, 29.0, -6.0, 2.0, 6.0, 3.0, 1.0, 29.0, -6.0, 2.0, 6.0, 3.0, 1.0, 0.0, 7.0, 72.0, 33.0, 30.0, 19.0, 2.0, 8.0, 88.0, 3.0, 0.0, 5.0, 2.0, 6.0, 1.0, 3.0, 0.0, 5.0, 4.0, 2.0, 6.0, 3.0, 3.0, 0.0, 5.0, 4.0, 2.0, 6.0, 3.0, 1.0, 20.0, 3.0, 8.0, 20.0, 3.0, 8.0, 3.0, 0.0, 5.0, 2.0, 6.0, 1.0, 36.0, 30.0, 28.0, 39.0, 21.0, 65.0]}, {\"boxpoints\": \"all\", \"name\": \"Non-Treble\", \"type\": \"box\", \"y\": [61.0, 2.0, 84.0, 78.0, 25.0, 30.0, 14.0, 21.0, 26.0, 25.0, 58.0, 11.0, 45.0, 23.0, 35.0, 32.0, 25.0, 28.0, 32.0, 29.0, 10.0, 5.0, 21.0, 9.0, 14.0, 18.0, 42.0, 35.0, 27.0, 28.0, 30.0, 27.0, 15.0, 25.0, 16.0, 9.0, 12.0, 79.0, 74.0, 13.0, 46.0, 53.0, 33.0, 89.0, 74.0, 50.0, 109.0, 101.0, 29.0, 78.0, 51.0, 25.0, 31.0, 45.0, 28.0, 25.0, 57.0, 24.0, 89.0, 79.0, 53.0, 97.0, 48.0, 45.0, 1.0, 29.0, 41.0, 43.0, 28.0, 5.0, 4.0, 29.0, 50.0, 22.0, 60.0, 50.0, 41.0, 33.0, 34.0, 35.0, 1.0, 27.0, 26.0, 18.0, 30.0, 29.0, 16.0, 26.0, 21.0, 6.0, 2.0, 20.0, 20.0, 24.0, 19.0, 51.0, 24.0, 26.0, 21.0, 25.0, 32.0, 26.0, 2.0, 20.0, 22.0, 28.0, 44.0, 29.0, 5.0, 32.0, 6.0, 14.0, 23.0, 5.0, 20.0, 6.0, 8.0, 18.0, 28.0, 78.0, 32.0, 29.0, 24.0, 29.0, 45.0, 17.0, 84.0, 54.0, 16.0, 7.0, 16.0, 14.0, 27.0, 35.0, 23.0, 55.0, 33.0, 52.0, 61.0, 81.0, 44.0, 9.0, 27.0, 20.0, 29.0, 26.0, 4.0, 26.0, 27.0, 23.0, 25.0, 26.0, 28.0, 80.0, 19.0, 102.0, 10.0, 39.0, 33.0, 35.0, 44.0, 70.0, 29.0, 17.0, 25.0, 85.0, 24.0, 26.0, 25.0, 17.0, 21.0, 21.0, 44.0, 26.0, 42.0, 39.0, 14.0, 26.0, 55.0, 26.0, 33.0, 36.0, 26.0, 28.0, 29.0, 40.0, 35.0, 11.0, 30.0, 28.0, 41.0, 15.0, 63.0, 92.0, 24.0, 2.0, 54.0, 24.0, 40.0, 9.0, 13.0, 64.0, 30.0, 4.0, 36.0, 34.0, 29.0, 16.0, 24.0, 6.0, 27.0, 4.0, 30.0, 32.0, 36.0, 27.0, 25.0, 29.0, 47.0, 17.0, 13.0, 21.0, 4.0, 104.0, 15.0, 31.0, 0.0, 30.0, 41.0, 50.0, 44.0, 38.0, 47.0, 45.0, 51.0, 12.0, 21.0, 22.0, 5.0, 28.0, 14.0, 25.0, 29.0, 22.0, 88.0, 58.0, 71.0, 21.0, 24.0, 12.0, 13.0, 46.0, 28.0, 28.0, 9.0, 21.0, 18.0, 5.0, 16.0, 58.0, 14.0, 53.0, 70.0, 26.0, 38.0, 53.0, 27.0, 38.0, 19.0, 17.0, 38.0, 53.0, 27.0, 27.0, 25.0, 38.0, 7.0, 53.0, 27.0, 20.0, 31.0, 17.0, 19.0, 59.0, 53.0, 38.0, 20.0, 15.0, 15.0, 23.0, 23.0, 27.0, 21.0, 55.0, 17.0, 26.0, 36.0, 48.0, 29.0, 17.0, 9.0, 1.0, 55.0, 41.0, 26.0, 29.0, 37.0, 36.0, 24.0, 6.0, 28.0, 23.0, 52.0, 30.0, 27.0, 18.0, 48.0, 22.0, 76.0, 14.0, 8.0, 18.0, 13.0, 18.0, 18.0, 21.0, 30.0, 15.0, 15.0, 21.0, 23.0, 23.0, 26.0, 49.0, 55.0, 17.0, 26.0, 34.0, 34.0, 29.0, 18.0, 25.0, 37.0, 42.0, 31.0, 37.0, 26.0, 25.0, 21.0, 19.0, 6.0, 20.0, 30.0, 35.0, 27.0, 20.0, 26.0, 26.0, 9.0, 29.0, 26.0, 29.0, 23.0, 48.0, 5.0, 13.0, 31.0, 33.0, 48.0, 16.0, 18.0, 0.0, 19.0, 19.0, 10.0, 0.0, 18.0, 19.0, 24.0, 18.0, 0.0, 19.0, 19.0, 10.0, 0.0, 5.0, 18.0, 19.0, 24.0, 33.0, 29.0, 23.0, 27.0, 35.0, 17.0, 27.0, 17.0, 25.0, 30.0, 42.0, 36.0, 37.0, 26.0, 25.0, 21.0, 19.0, 4.0, 6.0, 23.0, 22.0, 15.0, 34.0, 26.0, 9.0, 29.0, 26.0, 29.0, 23.0, 48.0, 5.0, 13.0, 31.0, 33.0, 48.0, 14.0, 24.0, 19.0, 25.0, 28.0, 46.0, 38.0, 37.0, 41.0, 26.0, 24.0, 26.0, 30.0, 24.0, 37.0, 41.0, 27.0, 32.0, 36.0, 26.0, 36.0, 24.0, 30.0, 6.0, 23.0, 18.0, 18.0, 13.0, 5.0, 4.0, 23.0, 22.0, 26.0, 22.0, 2.0, 1.0, 13.0, 17.0, 12.0, 7.0, 35.0, 0.0, 4.0, 20.0, 19.0, 0.0, 8.0, 0.0, 23.0, 20.0, 21.0, 23.0, 27.0, 26.0, 34.0, 4.0, 22.0, 55.0, 24.0, 44.0, 33.0, 27.0, 25.0, 36.0, 26.0, 44.0, 28.0, 25.0, 22.0, 30.0, 31.0, 22.0, 27.0, 20.0, 29.0, 32.0, 27.0, 29.0, 14.0, 28.0, 26.0, 29.0, 43.0, 23.0, 19.0, 16.0, 27.0, 31.0, 21.0, 18.0, 30.0, 14.0, 15.0, 20.0, 0.0, 0.0, 12.0, 6.0, 4.0, 21.0, 26.0, 17.0, 31.0, 11.0, 31.0, 34.0, 22.0, 18.0, 27.0, 25.0, 22.0, 23.0, 18.0, 28.0, 14.0, 39.0, 34.0, 31.0, 16.0, 47.0, 26.0, 19.0, 43.0, 21.0, 36.0, 0.0, 18.0, 23.0, 21.0, 41.0, 17.0, 35.0, 24.0, 7.0, 39.0, 27.0, 14.0, 32.0, 21.0, 25.0, 15.0, 7.0, 10.0, 20.0, 30.0, 13.0, 7.0, 12.0, 21.0, 10.0, 18.0, 25.0, 31.0, 37.0, 6.0, 15.0, 28.0, 26.0, 9.0, 1.0, 13.0, 10.0, 22.0, 17.0, 33.0, 44.0, 1.0, 5.0, 16.0, 9.0, 10.0, 18.0, 25.0, 48.0, 42.0, 31.0, 37.0, 20.0, 30.0, 26.0, 24.0, 48.0, 42.0, 38.0, 35.0, 32.0, 25.0, 22.0, 26.0, 23.0, 40.0, 20.0, 25.0, 36.0, 34.0, 31.0, 25.0, 14.0, 24.0, 19.0, 25.0, 28.0, 46.0, 38.0, 47.0, 41.0, 26.0, 24.0, 26.0, 30.0, 24.0, 37.0, 42.0, 26.0, 32.0, 36.0, 26.0, 36.0, 28.0, 6.0, 23.0, 18.0, 18.0, 26.0, 13.0, 27.0, 33.0, 22.0, 2.0, 1.0, 13.0, 17.0, 12.0, 7.0, 35.0, 0.0, 4.0, 0.0, 19.0, 0.0, 8.0, 23.0, 20.0, 23.0, 27.0, 26.0, 34.0, 4.0, 22.0, 8.0, 8.0, 27.0, 23.0, 24.0, 19.0, 24.0, 21.0, 27.0, 60.0, 20.0, 17.0, 21.0, 28.0, 25.0, 33.0, 27.0, 25.0, 22.0, 24.0, 17.0, 28.0, 27.0, 27.0, 25.0, 27.0, 17.0, 25.0, 9.0, 29.0, 41.0, 20.0, 18.0, 20.0, 92.0, 31.0, 0.0, 26.0, 61.0, 24.0, 41.0, 62.0, 30.0, 1.0, 38.0, 57.0, 50.0, 35.0, 21.0, 30.0, 0.0, 6.0, 16.0, 4.0, 11.0, 1.0, 44.0, 14.0, 101.0, 14.0, 16.0, 29.0, 36.0, 3.0, 0.0, 34.0, 31.0, 5.0, 0.0, 5.0, 5.0, 11.0, 30.0, 28.0, 22.0, 18.0, 6.0, 18.0, 27.0, 27.0, 6.0, 7.0, 11.0, 8.0, 10.0, 23.0, 23.0, 2.0, 27.0, 4.0, 1.0, 7.0, 4.0, 27.0, 10.0, 29.0, 13.0, 11.0, 28.0, 17.0, 4.0, 2.0, 19.0, 26.0, 23.0, 28.0, 26.0, 18.0, 22.0, 51.0, 32.0, 24.0, 14.0, 29.0, 51.0, 45.0, 23.0, 23.0, 24.0, 27.0, 26.0, 22.0, 36.0, 3.0, 0.0, 31.0, 31.0, 5.0, 5.0, 2.0, 21.0, 6.0, 3.0, 0.0, 31.0, 31.0, 5.0, 5.0, 21.0, 2.0, 28.0, 29.0, 32.0, 25.0, 27.0, 31.0, 18.0, 16.0, 9.0, 6.0, 0.0, 15.0, 31.0, 33.0, 30.0, 28.0, 24.0, 28.0, 29.0, 33.0, 54.0, 20.0, 68.0, 16.0, 30.0, 18.0, 4.0, 26.0, 25.0, 18.0, 25.0, 30.0, 39.0, 44.0, 60.0, 31.0, 53.0, 51.0, 54.0, 31.0, 16.0, 15.0, 28.0, 23.0, 4.0, 18.0, 17.0, 26.0, 35.0, 0.0, 30.0, 52.0, 9.0, 0.0, 13.0, 52.0, 79.0, 27.0, 33.0, 2.0, 30.0, 24.0, 6.0, 10.0, 0.0, 13.0, 10.0, 4.0, 7.0, 4.0, 19.0, 13.0, 1.0, 78.0, 24.0, 33.0, 34.0, 88.0, 55.0, 25.0, 53.0, 20.0, 42.0, 22.0, 30.0, 20.0, 12.0, 16.0, 24.0, 20.0, 26.0, 13.0, 38.0, 8.0, 32.0, 25.0, 25.0, 17.0, 11.0, 23.0, 9.0, 1.0, 19.0, 47.0, 42.0, 39.0, 26.0, 17.0, 11.0, 29.0, 12.0, 27.0, 27.0, 0.0, 34.0, 2.0, 32.0, 48.0, 21.0, 22.0, 33.0, 20.0, 21.0, 29.0, 42.0, 38.0, 31.0, 31.0, 53.0, 18.0, 21.0, 28.0, 17.0, 1.0, 6.0, 79.0, 17.0, 29.0, 27.0, 1.0, 10.0, 0.0, 18.0, 10.0, 10.0, 28.0, 17.0, 22.0, 23.0, 4.0, 1.0, 0.0, 18.0, 0.0, 2.0, 26.0, 44.0, 25.0, 27.0, 56.0, 17.0, 19.0, 28.0, 58.0, 27.0, 79.0, 18.0, 18.0, 26.0, 23.0, 23.0, 66.0, 22.0, 10.0, 17.0, 10.0, 30.0, 5.0, 88.0, 7.0, 4.0, 10.0, 7.0, 2.0, 21.0, 21.0, 9.0, 22.0, 3.0, 4.0, 13.0, 15.0, 11.0, 30.0, 11.0, 4.0, 12.0, 19.0, 59.0, 8.0, 18.0, 68.0, 13.0, 15.0, 14.0, 4.0, 7.0, 4.0, 5.0, 0.0, 15.0, 10.0, 5.0, 11.0, 7.0, 6.0, 17.0, 25.0, 16.0, 21.0, 4.0, 4.0, 14.0, 23.0, 10.0, 15.0, 12.0, 6.0, 23.0, 30.0, 19.0, 22.0, 29.0, 23.0, 30.0, 5.0, 4.0, 29.0, 29.0, 60.0, 26.0, 24.0, 12.0, 19.0, 0.0, 25.0, 1.0, 5.0, 7.0, 26.0, 31.0, 24.0, 44.0, 26.0, 17.0, 7.0, 47.0, 17.0, 20.0, 53.0, 25.0, 29.0, 47.0, 52.0, 24.0, 19.0, 24.0, 29.0, 51.0, 18.0, 19.0, 22.0, 14.0, 5.0, 29.0, 20.0, 30.0, 126.0, 13.0, 30.0, 20.0, 22.0, 15.0, 24.0, 5.0, 29.0, 41.0, 32.0, 62.0, 20.0, 17.0, 10.0, 26.0, 2.0, 5.0, 23.0, 5.0, 22.0, 10.0, 7.0, 23.0, 18.0, 26.0, 28.0, 29.0, 46.0, 30.0, 8.0, 44.0, 19.0, 9.0, 17.0, 2.0, 23.0, 24.0, 15.0, 13.0, 18.0, 19.0, 21.0, 16.0, 24.0, 2.0, 21.0, 44.0, 30.0, 7.0, 14.0, 1.0, 16.0, 22.0, 20.0, 50.0, 13.0, 37.0, 6.0, 19.0, 29.0, 1.0, 15.0, 4.0, 27.0, 21.0, 0.0, 23.0, 7.0, 39.0, 56.0, 38.0, 31.0, 27.0, 27.0, 15.0, 19.0, 16.0, 4.0, 22.0, 29.0, 27.0, 0.0, 22.0, 15.0, 20.0, 75.0, 25.0, 29.0, 29.0, 14.0, 52.0, 46.0, 15.0, 105.0, 13.0, 43.0, 13.0, 75.0, 62.0, 1.0, 54.0, 45.0, 14.0, 56.0, 26.0, 38.0, 7.0, 47.0, 0.0, 75.0, 14.0, 21.0, 0.0, 0.0, 67.0, 5.0, 1.0, 44.0, 14.0, 33.0, 3.0, 8.0, 16.0, 4.0, 29.0, 29.0, 2.0, 2.0, 29.0, 29.0, 7.0, 1.0, 1.0, 19.0, 44.0, 19.0, 18.0, 22.0, 20.0, 36.0, 6.0, 19.0, 19.0, 50.0, 7.0, 39.0, 9.0, 18.0, 46.0, 22.0, 27.0, 27.0, 16.0, 17.0, 40.0, 69.0, 4.0, 28.0, 0.0, 107.0, 46.0, 22.0, 58.0, 28.0, 27.0, 17.0, 26.0, 21.0, 81.0, 48.0, 24.0, 69.0, 48.0, 24.0, 69.0, 32.0, 36.0, 5.0, 8.0, 27.0, 48.0, 91.0, 44.0, 32.0, 24.0, 98.0, 35.0, 23.0, 20.0, 54.0, 23.0, 26.0, 32.0, 22.0, 24.0, 40.0, 43.0, 21.0, 44.0, 52.0, 53.0, 24.0, 3.0, 7.0, 39.0, 16.0, 7.0, 10.0, 72.0, 5.0, 62.0, 20.0, -4.0, 20.0, 17.0, 68.0, 69.0, 55.0, 17.0, 26.0, 36.0, 48.0, 29.0, 18.0, 48.0, 22.0, 76.0, 55.0, 17.0, 26.0, 34.0, 34.0, 29.0, 18.0, 55.0, 22.0, 64.0, 12.0, 16.0, 16.0, 19.0, 11.0, 11.0, 25.0, 58.0, 45.0, 48.0, 20.0, 28.0, 29.0, 25.0, 36.0, 0.0, 23.0, 29.0, 18.0, 28.0, 21.0, 101.0, 23.0, 13.0, 13.0, 52.0, 22.0, 54.0, 23.0, 35.0, 5.0, 17.0, 68.0, 7.0, 54.0, 23.0, 84.0, 23.0, 6.0, 83.0, 22.0, 60.0, 29.0, 87.0, 26.0, 25.0, 24.0, 33.0, 59.0, 14.0]}],\n",
       "                        {\"plot_bgcolor\": \"rgba(0,0,0,0)\", \"template\": {\"data\": {\"bar\": [{\"error_x\": {\"color\": \"#2a3f5f\"}, \"error_y\": {\"color\": \"#2a3f5f\"}, \"marker\": {\"line\": {\"color\": \"#E5ECF6\", \"width\": 0.5}}, \"type\": \"bar\"}], \"barpolar\": [{\"marker\": {\"line\": {\"color\": \"#E5ECF6\", \"width\": 0.5}}, \"type\": \"barpolar\"}], \"carpet\": [{\"aaxis\": {\"endlinecolor\": \"#2a3f5f\", \"gridcolor\": \"white\", \"linecolor\": \"white\", \"minorgridcolor\": \"white\", \"startlinecolor\": \"#2a3f5f\"}, \"baxis\": {\"endlinecolor\": \"#2a3f5f\", \"gridcolor\": \"white\", \"linecolor\": \"white\", \"minorgridcolor\": \"white\", \"startlinecolor\": \"#2a3f5f\"}, \"type\": \"carpet\"}], \"choropleth\": [{\"colorbar\": {\"outlinewidth\": 0, \"ticks\": \"\"}, \"type\": \"choropleth\"}], \"contour\": [{\"colorbar\": {\"outlinewidth\": 0, \"ticks\": \"\"}, \"colorscale\": [[0.0, \"#0d0887\"], [0.1111111111111111, \"#46039f\"], [0.2222222222222222, \"#7201a8\"], [0.3333333333333333, \"#9c179e\"], [0.4444444444444444, \"#bd3786\"], [0.5555555555555556, \"#d8576b\"], [0.6666666666666666, \"#ed7953\"], [0.7777777777777778, \"#fb9f3a\"], [0.8888888888888888, \"#fdca26\"], [1.0, \"#f0f921\"]], \"type\": \"contour\"}], \"contourcarpet\": [{\"colorbar\": {\"outlinewidth\": 0, \"ticks\": \"\"}, \"type\": \"contourcarpet\"}], \"heatmap\": [{\"colorbar\": {\"outlinewidth\": 0, \"ticks\": \"\"}, \"colorscale\": [[0.0, \"#0d0887\"], [0.1111111111111111, \"#46039f\"], [0.2222222222222222, \"#7201a8\"], [0.3333333333333333, \"#9c179e\"], [0.4444444444444444, \"#bd3786\"], [0.5555555555555556, \"#d8576b\"], [0.6666666666666666, \"#ed7953\"], [0.7777777777777778, \"#fb9f3a\"], [0.8888888888888888, \"#fdca26\"], [1.0, \"#f0f921\"]], \"type\": \"heatmap\"}], \"heatmapgl\": [{\"colorbar\": {\"outlinewidth\": 0, \"ticks\": \"\"}, \"colorscale\": [[0.0, \"#0d0887\"], [0.1111111111111111, \"#46039f\"], [0.2222222222222222, \"#7201a8\"], [0.3333333333333333, \"#9c179e\"], [0.4444444444444444, \"#bd3786\"], [0.5555555555555556, \"#d8576b\"], [0.6666666666666666, \"#ed7953\"], [0.7777777777777778, \"#fb9f3a\"], [0.8888888888888888, \"#fdca26\"], [1.0, \"#f0f921\"]], \"type\": \"heatmapgl\"}], \"histogram\": [{\"marker\": {\"colorbar\": {\"outlinewidth\": 0, \"ticks\": \"\"}}, \"type\": \"histogram\"}], \"histogram2d\": [{\"colorbar\": {\"outlinewidth\": 0, \"ticks\": \"\"}, \"colorscale\": [[0.0, \"#0d0887\"], [0.1111111111111111, \"#46039f\"], [0.2222222222222222, \"#7201a8\"], [0.3333333333333333, \"#9c179e\"], [0.4444444444444444, \"#bd3786\"], [0.5555555555555556, \"#d8576b\"], [0.6666666666666666, \"#ed7953\"], [0.7777777777777778, \"#fb9f3a\"], [0.8888888888888888, \"#fdca26\"], [1.0, \"#f0f921\"]], \"type\": \"histogram2d\"}], \"histogram2dcontour\": [{\"colorbar\": {\"outlinewidth\": 0, \"ticks\": \"\"}, \"colorscale\": [[0.0, \"#0d0887\"], [0.1111111111111111, \"#46039f\"], [0.2222222222222222, \"#7201a8\"], [0.3333333333333333, \"#9c179e\"], [0.4444444444444444, \"#bd3786\"], [0.5555555555555556, \"#d8576b\"], [0.6666666666666666, \"#ed7953\"], [0.7777777777777778, \"#fb9f3a\"], [0.8888888888888888, \"#fdca26\"], [1.0, \"#f0f921\"]], \"type\": \"histogram2dcontour\"}], \"mesh3d\": [{\"colorbar\": {\"outlinewidth\": 0, \"ticks\": \"\"}, \"type\": \"mesh3d\"}], \"parcoords\": [{\"line\": {\"colorbar\": {\"outlinewidth\": 0, \"ticks\": \"\"}}, \"type\": \"parcoords\"}], \"pie\": [{\"automargin\": true, \"type\": \"pie\"}], \"scatter\": [{\"marker\": {\"colorbar\": {\"outlinewidth\": 0, \"ticks\": \"\"}}, \"type\": \"scatter\"}], \"scatter3d\": [{\"line\": {\"colorbar\": {\"outlinewidth\": 0, \"ticks\": \"\"}}, \"marker\": {\"colorbar\": {\"outlinewidth\": 0, \"ticks\": \"\"}}, \"type\": \"scatter3d\"}], \"scattercarpet\": [{\"marker\": {\"colorbar\": {\"outlinewidth\": 0, \"ticks\": \"\"}}, \"type\": \"scattercarpet\"}], \"scattergeo\": [{\"marker\": {\"colorbar\": {\"outlinewidth\": 0, \"ticks\": \"\"}}, \"type\": \"scattergeo\"}], \"scattergl\": [{\"marker\": {\"colorbar\": {\"outlinewidth\": 0, \"ticks\": \"\"}}, \"type\": \"scattergl\"}], \"scattermapbox\": [{\"marker\": {\"colorbar\": {\"outlinewidth\": 0, \"ticks\": \"\"}}, \"type\": \"scattermapbox\"}], \"scatterpolar\": [{\"marker\": {\"colorbar\": {\"outlinewidth\": 0, \"ticks\": \"\"}}, \"type\": \"scatterpolar\"}], \"scatterpolargl\": [{\"marker\": {\"colorbar\": {\"outlinewidth\": 0, \"ticks\": \"\"}}, \"type\": \"scatterpolargl\"}], \"scatterternary\": [{\"marker\": {\"colorbar\": {\"outlinewidth\": 0, \"ticks\": \"\"}}, \"type\": \"scatterternary\"}], \"surface\": [{\"colorbar\": {\"outlinewidth\": 0, \"ticks\": \"\"}, \"colorscale\": [[0.0, \"#0d0887\"], [0.1111111111111111, \"#46039f\"], [0.2222222222222222, \"#7201a8\"], [0.3333333333333333, \"#9c179e\"], [0.4444444444444444, \"#bd3786\"], [0.5555555555555556, \"#d8576b\"], [0.6666666666666666, \"#ed7953\"], [0.7777777777777778, \"#fb9f3a\"], [0.8888888888888888, \"#fdca26\"], [1.0, \"#f0f921\"]], \"type\": \"surface\"}], \"table\": [{\"cells\": {\"fill\": {\"color\": \"#EBF0F8\"}, \"line\": {\"color\": \"white\"}}, \"header\": {\"fill\": {\"color\": \"#C8D4E3\"}, \"line\": {\"color\": \"white\"}}, \"type\": \"table\"}]}, \"layout\": {\"annotationdefaults\": {\"arrowcolor\": \"#2a3f5f\", \"arrowhead\": 0, \"arrowwidth\": 1}, \"coloraxis\": {\"colorbar\": {\"outlinewidth\": 0, \"ticks\": \"\"}}, \"colorscale\": {\"diverging\": [[0, \"#8e0152\"], [0.1, \"#c51b7d\"], [0.2, \"#de77ae\"], [0.3, \"#f1b6da\"], [0.4, \"#fde0ef\"], [0.5, \"#f7f7f7\"], [0.6, \"#e6f5d0\"], [0.7, \"#b8e186\"], [0.8, \"#7fbc41\"], [0.9, \"#4d9221\"], [1, \"#276419\"]], \"sequential\": [[0.0, \"#0d0887\"], [0.1111111111111111, \"#46039f\"], [0.2222222222222222, \"#7201a8\"], [0.3333333333333333, \"#9c179e\"], [0.4444444444444444, \"#bd3786\"], [0.5555555555555556, \"#d8576b\"], [0.6666666666666666, \"#ed7953\"], [0.7777777777777778, \"#fb9f3a\"], [0.8888888888888888, \"#fdca26\"], [1.0, \"#f0f921\"]], \"sequentialminus\": [[0.0, \"#0d0887\"], [0.1111111111111111, \"#46039f\"], [0.2222222222222222, \"#7201a8\"], [0.3333333333333333, \"#9c179e\"], [0.4444444444444444, \"#bd3786\"], [0.5555555555555556, \"#d8576b\"], [0.6666666666666666, \"#ed7953\"], [0.7777777777777778, \"#fb9f3a\"], [0.8888888888888888, \"#fdca26\"], [1.0, \"#f0f921\"]]}, \"colorway\": [\"#636efa\", \"#EF553B\", \"#00cc96\", \"#ab63fa\", \"#FFA15A\", \"#19d3f3\", \"#FF6692\", \"#B6E880\", \"#FF97FF\", \"#FECB52\"], \"font\": {\"color\": \"#2a3f5f\"}, \"geo\": {\"bgcolor\": \"white\", \"lakecolor\": \"white\", \"landcolor\": \"#E5ECF6\", \"showlakes\": true, \"showland\": true, \"subunitcolor\": \"white\"}, \"hoverlabel\": {\"align\": \"left\"}, \"hovermode\": \"closest\", \"mapbox\": {\"style\": \"light\"}, \"paper_bgcolor\": \"white\", \"plot_bgcolor\": \"#E5ECF6\", \"polar\": {\"angularaxis\": {\"gridcolor\": \"white\", \"linecolor\": \"white\", \"ticks\": \"\"}, \"bgcolor\": \"#E5ECF6\", \"radialaxis\": {\"gridcolor\": \"white\", \"linecolor\": \"white\", \"ticks\": \"\"}}, \"scene\": {\"xaxis\": {\"backgroundcolor\": \"#E5ECF6\", \"gridcolor\": \"white\", \"gridwidth\": 2, \"linecolor\": \"white\", \"showbackground\": true, \"ticks\": \"\", \"zerolinecolor\": \"white\"}, \"yaxis\": {\"backgroundcolor\": \"#E5ECF6\", \"gridcolor\": \"white\", \"gridwidth\": 2, \"linecolor\": \"white\", \"showbackground\": true, \"ticks\": \"\", \"zerolinecolor\": \"white\"}, \"zaxis\": {\"backgroundcolor\": \"#E5ECF6\", \"gridcolor\": \"white\", \"gridwidth\": 2, \"linecolor\": \"white\", \"showbackground\": true, \"ticks\": \"\", \"zerolinecolor\": \"white\"}}, \"shapedefaults\": {\"line\": {\"color\": \"#2a3f5f\"}}, \"ternary\": {\"aaxis\": {\"gridcolor\": \"white\", \"linecolor\": \"white\", \"ticks\": \"\"}, \"baxis\": {\"gridcolor\": \"white\", \"linecolor\": \"white\", \"ticks\": \"\"}, \"bgcolor\": \"#E5ECF6\", \"caxis\": {\"gridcolor\": \"white\", \"linecolor\": \"white\", \"ticks\": \"\"}}, \"title\": {\"x\": 0.05}, \"xaxis\": {\"automargin\": true, \"gridcolor\": \"white\", \"linecolor\": \"white\", \"ticks\": \"\", \"title\": {\"standoff\": 15}, \"zerolinecolor\": \"white\", \"zerolinewidth\": 2}, \"yaxis\": {\"automargin\": true, \"gridcolor\": \"white\", \"linecolor\": \"white\", \"ticks\": \"\", \"title\": {\"standoff\": 15}, \"zerolinecolor\": \"white\", \"zerolinewidth\": 2}}}, \"title\": {\"text\": \"Days from Bulletins to Carrier Release Dates for Treble vs non-Treble\"}, \"yaxis\": {\"gridcolor\": \"rgb(219, 219, 219)\", \"showgrid\": true, \"title\": {\"text\": \"Days\"}}},\n",
       "                        {\"responsive\": true}\n",
       "                    ).then(function(){\n",
       "                            \n",
       "var gd = document.getElementById('53a4a38d-99d7-458c-95f4-700aa1877d21');\n",
       "var x = new MutationObserver(function (mutations, observer) {{\n",
       "        var display = window.getComputedStyle(gd).display;\n",
       "        if (!display || display === 'none') {{\n",
       "            console.log([gd, 'removed!']);\n",
       "            Plotly.purge(gd);\n",
       "            observer.disconnect();\n",
       "        }}\n",
       "}});\n",
       "\n",
       "// Listen for the removal of the full notebook cells\n",
       "var notebookContainer = gd.closest('#notebook-container');\n",
       "if (notebookContainer) {{\n",
       "    x.observe(notebookContainer, {childList: true});\n",
       "}}\n",
       "\n",
       "// Listen for the clearing of the current output cell\n",
       "var outputEl = gd.closest('.output');\n",
       "if (outputEl) {{\n",
       "    x.observe(outputEl, {childList: true});\n",
       "}}\n",
       "\n",
       "                        })\n",
       "                };\n",
       "                });\n",
       "            </script>\n",
       "        </div>"
      ]
     },
     "metadata": {},
     "output_type": "display_data"
    },
    {
     "name": "stdout",
     "output_type": "stream",
     "text": [
      "22.44649446494465\n",
      "26.21698113207547\n"
     ]
    }
   ],
   "source": [
    "######################################################\n",
    "######## Box Plots of Average of Each Carrier ########\n",
    "######################################################\n",
    "data=[]\n",
    "data.append(go.Box(\n",
    "    y=finalTrebleList.difference,\n",
    "    name=\"Treble\",\n",
    "    boxpoints = 'all',\n",
    "))\n",
    "data.append(go.Box(\n",
    "    y=nonTrebleList.difference,\n",
    "    name=\"Non-Treble\",\n",
    "    boxpoints = 'all',\n",
    "))\n",
    "\n",
    "\n",
    "# Edit the layout\n",
    "layout = dict(title = \"Days from Bulletins to Carrier Release Dates for Treble vs non-Treble\",\n",
    "              yaxis = dict(title = 'Days',showgrid=True, gridcolor='rgb(219, 219, 219)'),\n",
    "              plot_bgcolor='rgba(0,0,0,0)',\n",
    "              )\n",
    "\n",
    "fig = dict(data=data, layout=layout)\n",
    "py.offline.iplot(fig,filename='treble-vs-nonTreble')\n",
    "print(finalTrebleList.difference.mean())\n",
    "print(nonTrebleList.difference.mean())\n",
    "\n"
   ]
  },
  {
   "cell_type": "code",
   "execution_count": 6,
   "metadata": {},
   "outputs": [
    {
     "name": "stdout",
     "output_type": "stream",
     "text": [
      "    Carrier Manufacture Model_x Release_Date Bulletin_Level  difference  \\\n",
      "221    AT&T          LG     V30   2017-10-06     2017-10-01         5.0   \n",
      "\n",
      "    Android_Level_Guessed            build  Year_Phone_Release  \\\n",
      "221                 False  nan nan H93120d              2017.0   \n",
      "\n",
      "     Month_Phone_Release  checker  \n",
      "221                  9.0      1.0  \n",
      "---------------------------------------------\n",
      "  Carrier Manufacture             Model_x Release_Date Bulletin_Level  \\\n",
      "0    AT&T     Alcatel  Alcatel IdealXCITE   2018-04-03     2018-02-01   \n",
      "\n",
      "   difference Android_Level_Guessed  \\\n",
      "0        61.0                 False   \n",
      "\n",
      "                                         build  Year_Phone_Release  \\\n",
      "0  JO.2.0.c1-00150-8909_GEN_PACK-1 nan YAMUAM0              2017.0   \n",
      "\n",
      "   Month_Phone_Release  checker  \n",
      "0                  6.0      5.0  \n"
     ]
    }
   ],
   "source": [
    "print(finalTrebleList.iloc[:1])\n",
    "print(\"---------------------------------------------\")\n",
    "print(nonTrebleList.iloc[:1])"
   ]
  },
  {
   "cell_type": "code",
   "execution_count": 7,
   "metadata": {},
   "outputs": [],
   "source": [
    "#print(finalTrebleList[finalTrebleList.Carrier==\"Verizon\"])\n",
    "#print(nonTrebleList[nonTrebleList.Carrier==\"Verizon\"])"
   ]
  },
  {
   "cell_type": "code",
   "execution_count": 8,
   "metadata": {},
   "outputs": [
    {
     "data": {
      "text/plain": [
       "34"
      ]
     },
     "execution_count": 8,
     "metadata": {},
     "output_type": "execute_result"
    }
   ],
   "source": [
    "len(finalTrebleList.Model_x.unique())"
   ]
  },
  {
   "cell_type": "code",
   "execution_count": 9,
   "metadata": {},
   "outputs": [
    {
     "data": {
      "text/plain": [
       "234"
      ]
     },
     "execution_count": 9,
     "metadata": {},
     "output_type": "execute_result"
    }
   ],
   "source": [
    "len(nonTrebleList.Model_x.unique())"
   ]
  },
  {
   "cell_type": "code",
   "execution_count": 10,
   "metadata": {},
   "outputs": [
    {
     "name": "stdout",
     "output_type": "stream",
     "text": [
      "    Carrier Manufacture Model_x Release_Date Bulletin_Level  difference  \\\n",
      "221    AT&T          LG     V30   2017-10-06     2017-10-01         5.0   \n",
      "222    AT&T          LG     V30   2017-12-19     2017-12-01        18.0   \n",
      "223    AT&T          LG     V30   2018-02-23     2018-01-01        53.0   \n",
      "224    AT&T          LG     V30   2018-08-06     2018-05-01        97.0   \n",
      "225    AT&T          LG     V30   2019-11-19     2019-11-01        18.0   \n",
      "\n",
      "    Android_Level_Guessed            build  Year_Phone_Release  \\\n",
      "221                 False  nan nan H93120d              2017.0   \n",
      "222                  True      nan nan nan              2017.0   \n",
      "223                 False  nan nan H93111N              2017.0   \n",
      "224                 False  nan nan H93120c              2017.0   \n",
      "225                  None  nan nan H93120d              2017.0   \n",
      "\n",
      "     Month_Phone_Release  checker  \n",
      "221                  9.0      1.0  \n",
      "222                  9.0      1.0  \n",
      "223                  9.0      5.0  \n",
      "224                  9.0      1.0  \n",
      "225                  9.0      1.0  \n",
      "  Carrier Manufacture             Model_x Release_Date Bulletin_Level  \\\n",
      "0    AT&T     Alcatel  Alcatel IdealXCITE   2018-04-03     2018-02-01   \n",
      "1    AT&T     Alcatel  Alcatel IdealXCITE   2018-04-03     2018-04-01   \n",
      "2    AT&T     Alcatel  Alcatel IdealXCITE   2018-10-24     2018-08-01   \n",
      "3    AT&T     Alcatel  Alcatel IdealXCITE   2018-12-18     2018-10-01   \n",
      "4    AT&T  BlackBerry   BlackBerry KEYone   2017-09-26     2017-09-01   \n",
      "\n",
      "   difference Android_Level_Guessed  \\\n",
      "0        61.0                 False   \n",
      "1         2.0                  True   \n",
      "2        84.0                 False   \n",
      "3        78.0                 False   \n",
      "4        25.0                 False   \n",
      "\n",
      "                                               build  Year_Phone_Release  \\\n",
      "0        JO.2.0.c1-00150-8909_GEN_PACK-1 nan YAMUAM0              2017.0   \n",
      "1                                nan YB4UA40File nan              2017.0   \n",
      "2        JO.2.0.c1-00267-8909_GEN_PACK-2 nan YAYUAY0              2017.0   \n",
      "3        JO.2.0.c1-00267-8909_GEN_PACK-2 YB3UA30 nan              2017.0   \n",
      "4  MPSS.TA.2.3.c1-00333-8953_GEN_PACK-1.103777.4....              2017.0   \n",
      "\n",
      "   Month_Phone_Release  checker  \n",
      "0                  6.0      5.0  \n",
      "1                  6.0      1.0  \n",
      "2                  6.0      1.0  \n",
      "3                  6.0      5.0  \n",
      "4                  4.0      5.0  \n",
      "263\n",
      "30\n",
      "['V30' 'Moto g6 play' 'Galaxy S7' 'Galaxy S7 Edge' 'Galaxy S8'\n",
      " 'Galaxy S8+' 'Galaxy S9' 'Galaxy S9+' 'Essential PH-1' 'Moto Z3 play'\n",
      " 'OnePlus 6T' 'Moto g6' 'moto g6 play' 'LG G7 ThinQ' 'Pixel 3'\n",
      " 'Pixel 3 XL' 'Galaxy S10' 'Galaxy S10+' 'Galaxy S10e' 'Pixel' 'Pixel 2'\n",
      " 'Pixel 2 XL' 'Pixel XL' 'Galaxy A50' 'Pixel 3a' 'Pixel 3a XL'\n",
      " 'Moto g7 power' 'moto e5 plus' 'Pixel 4' 'Pixel 4 XL']\n",
      "--------------------------------------------\n",
      "368\n",
      "88\n"
     ]
    }
   ],
   "source": [
    "# Only consider 2019 bulletins\n",
    "finalTrebleList.Bulletin_Level=finalTrebleList.Bulletin_Level.astype(str)\n",
    "finalTrebleList.Bulletin_Level=finalTrebleList.Bulletin_Level.str.replace(\" [0:]*\",\"\")\n",
    "nonTrebleList.Bulletin_Level=nonTrebleList.Bulletin_Level.astype(str)\n",
    "nonTrebleList.Bulletin_Level=nonTrebleList.Bulletin_Level.str.replace(\" [0:]*\",\"\")\n",
    "print(finalTrebleList.head())\n",
    "print(nonTrebleList.head())\n",
    "\n",
    "correctBulls=['2019-01-01','2019-02-01','2019-03-01','2019-04-01','2019-05-01','2019-06-01',\n",
    "              '2019-07-01','2019-08-01','2019-09-01','2019-10-01','2019-11-01','2019-12-01']\n",
    "\n",
    "filteredTreble=finalTrebleList[finalTrebleList.Bulletin_Level==correctBulls[0]]\n",
    "for bull in correctBulls[1:]:\n",
    "    tempdf=finalTrebleList[finalTrebleList.Bulletin_Level==bull]\n",
    "    filteredTreble=filteredTreble.append(tempdf.copy(),ignore_index = True)\n",
    "\n",
    "filteredNonTreble=nonTrebleList[nonTrebleList.Bulletin_Level==correctBulls[0]]\n",
    "for bull in correctBulls[1:]:\n",
    "    tempdf=nonTrebleList[nonTrebleList.Bulletin_Level==bull]\n",
    "    filteredNonTreble=filteredNonTreble.append(tempdf.copy(),ignore_index = True)\n",
    "\n",
    "    \n",
    "print(len(filteredTreble))\n",
    "print(len(filteredTreble.Model_x.unique()))\n",
    "print(filteredTreble.Model_x.unique())\n",
    "print(\"--------------------------------------------\")\n",
    "print(len(filteredNonTreble))\n",
    "print(len(filteredNonTreble.Model_x.unique()))"
   ]
  },
  {
   "cell_type": "code",
   "execution_count": 11,
   "metadata": {},
   "outputs": [
    {
     "data": {
      "application/vnd.plotly.v1+json": {
       "config": {
        "linkText": "Export to plot.ly",
        "plotlyServerURL": "https://plot.ly",
        "showLink": false
       },
       "data": [
        {
         "boxpoints": "all",
         "name": "Treble",
         "showlegend": false,
         "type": "box",
         "y": [
          17,
          28,
          23,
          23,
          27,
          27,
          16,
          27,
          16,
          29,
          29,
          6,
          21,
          2,
          30,
          17,
          0,
          75,
          24,
          27,
          21,
          24,
          27,
          21,
          32,
          31,
          32,
          31,
          26,
          12,
          24,
          26,
          12,
          24,
          7,
          25,
          19,
          31,
          20,
          56,
          32,
          31,
          56,
          32,
          31,
          27,
          34,
          27,
          34,
          38,
          20,
          31,
          20,
          31,
          3,
          3,
          67,
          42,
          79,
          26,
          7,
          38,
          26,
          38,
          26,
          7,
          38,
          8,
          3,
          3,
          3,
          3,
          28,
          37,
          18,
          37,
          18,
          16,
          18,
          16,
          18,
          0,
          0,
          0,
          47,
          64,
          15,
          36,
          15,
          36,
          15,
          38,
          36,
          88,
          0,
          0,
          0,
          0,
          30,
          30,
          30,
          5,
          7,
          5,
          7,
          5,
          68,
          51,
          43,
          16,
          15,
          14,
          16,
          19,
          16,
          15,
          19,
          29,
          29,
          7,
          5,
          5,
          5,
          5,
          34,
          45,
          45,
          45,
          11,
          11,
          2,
          27,
          72,
          39,
          25,
          25,
          22,
          22,
          32,
          32,
          29,
          28,
          30,
          39,
          30,
          43,
          28,
          69,
          21,
          69,
          21,
          0,
          21,
          0,
          21,
          -6,
          -6,
          26,
          36,
          27,
          29,
          8,
          22,
          28,
          28,
          28,
          -6,
          -6,
          0,
          33,
          4,
          4,
          21,
          24,
          44,
          44,
          25,
          25,
          30,
          30,
          2,
          2,
          29,
          31,
          16,
          16,
          16,
          16,
          16,
          2,
          2,
          2,
          2,
          2,
          2,
          23,
          44,
          48,
          48,
          20,
          22,
          20,
          22,
          33,
          33,
          20,
          6,
          6,
          28,
          31,
          20,
          15,
          24,
          24,
          24,
          6,
          6,
          30,
          6,
          6,
          6,
          20,
          20,
          6,
          65,
          18,
          14,
          14,
          12,
          18,
          13,
          12,
          18,
          3,
          3,
          3,
          23,
          32,
          6,
          11,
          3,
          3,
          3,
          3,
          3,
          3,
          25,
          9,
          10,
          9,
          10,
          15,
          1,
          1,
          14,
          14,
          1,
          1,
          1,
          1,
          8,
          8,
          1
         ]
        },
        {
         "boxpoints": "all",
         "name": "Non-Treble",
         "showlegend": false,
         "type": "box",
         "y": [
          28,
          10,
          31,
          24,
          42,
          36,
          15,
          45,
          22,
          21,
          48,
          29,
          27,
          34,
          24,
          35,
          23,
          28,
          24,
          27,
          27,
          54,
          30,
          35,
          79,
          78,
          34,
          17,
          17,
          48,
          38,
          30,
          17,
          24,
          126,
          19,
          44,
          22,
          48,
          24,
          24,
          62,
          48,
          55,
          29,
          29,
          24,
          32,
          5,
          45,
          17,
          25,
          21,
          14,
          88,
          24,
          28,
          23,
          30,
          23,
          32,
          31,
          6,
          31,
          31,
          39,
          21,
          28,
          38,
          21,
          14,
          25,
          31,
          88,
          26,
          2,
          27,
          28,
          26,
          21,
          29,
          24,
          21,
          91,
          98,
          25,
          33,
          39,
          26,
          51,
          20,
          26,
          26,
          27,
          21,
          34,
          0,
          27,
          27,
          27,
          62,
          26,
          29,
          26,
          25,
          31,
          31,
          20,
          18,
          52,
          20,
          58,
          21,
          20,
          19,
          8,
          21,
          19,
          27,
          32,
          3,
          17,
          26,
          26,
          29,
          21,
          29,
          78,
          28,
          16,
          14,
          23,
          21,
          14,
          53,
          22,
          29,
          18,
          4,
          16,
          18,
          14,
          60,
          57,
          51,
          53,
          11,
          11,
          31,
          23,
          88,
          53,
          2,
          16,
          4,
          22,
          22,
          58,
          25,
          59,
          84,
          28,
          12,
          23,
          36,
          23,
          34,
          30,
          22,
          47,
          23,
          27,
          18,
          18,
          51,
          2,
          5,
          44,
          15,
          27,
          22,
          43,
          7,
          36,
          34,
          51,
          55,
          58,
          48,
          34,
          21,
          26,
          21,
          45,
          18,
          16,
          55,
          21,
          31,
          27,
          23,
          24,
          19,
          13,
          81,
          24,
          20,
          48,
          34,
          101,
          29,
          25,
          0,
          0,
          18,
          41,
          32,
          25,
          25,
          15,
          20,
          53,
          26,
          66,
          25,
          16,
          44,
          35,
          52,
          64,
          45,
          36,
          14,
          25,
          25,
          54,
          28,
          27,
          27,
          76,
          26,
          19,
          18,
          19,
          18,
          27,
          17,
          21,
          23,
          68,
          54,
          28,
          27,
          53,
          56,
          79,
          29,
          56,
          47,
          54,
          40,
          21,
          39,
          68,
          76,
          48,
          28,
          57,
          27,
          33,
          40,
          70,
          29,
          49,
          29,
          18,
          19,
          19,
          18,
          19,
          19,
          26,
          25,
          35,
          25,
          27,
          30,
          30,
          24,
          42,
          30,
          29,
          18,
          29,
          51,
          32,
          21,
          30,
          29,
          17,
          32,
          23,
          53,
          16,
          29,
          29,
          18,
          35,
          52,
          35,
          13,
          9,
          10,
          24,
          10,
          24,
          17,
          24,
          15,
          17,
          1,
          23,
          39,
          31,
          23,
          9,
          22,
          21,
          24,
          41,
          62,
          38,
          50,
          23,
          44,
          7,
          -4,
          69,
          24,
          45,
          7,
          24,
          21,
          21,
          0,
          0,
          31,
          7,
          7,
          25,
          22,
          21,
          18,
          44,
          39,
          31,
          40,
          20,
          10,
          20,
          21,
          16,
          5,
          11,
          10,
          22,
          22,
          8
         ]
        }
       ],
       "layout": {
        "font": {
         "size": 20
        },
        "plot_bgcolor": "rgba(0,0,0,0)",
        "template": {
         "data": {
          "bar": [
           {
            "error_x": {
             "color": "#2a3f5f"
            },
            "error_y": {
             "color": "#2a3f5f"
            },
            "marker": {
             "line": {
              "color": "#E5ECF6",
              "width": 0.5
             }
            },
            "type": "bar"
           }
          ],
          "barpolar": [
           {
            "marker": {
             "line": {
              "color": "#E5ECF6",
              "width": 0.5
             }
            },
            "type": "barpolar"
           }
          ],
          "carpet": [
           {
            "aaxis": {
             "endlinecolor": "#2a3f5f",
             "gridcolor": "white",
             "linecolor": "white",
             "minorgridcolor": "white",
             "startlinecolor": "#2a3f5f"
            },
            "baxis": {
             "endlinecolor": "#2a3f5f",
             "gridcolor": "white",
             "linecolor": "white",
             "minorgridcolor": "white",
             "startlinecolor": "#2a3f5f"
            },
            "type": "carpet"
           }
          ],
          "choropleth": [
           {
            "colorbar": {
             "outlinewidth": 0,
             "ticks": ""
            },
            "type": "choropleth"
           }
          ],
          "contour": [
           {
            "colorbar": {
             "outlinewidth": 0,
             "ticks": ""
            },
            "colorscale": [
             [
              0,
              "#0d0887"
             ],
             [
              0.1111111111111111,
              "#46039f"
             ],
             [
              0.2222222222222222,
              "#7201a8"
             ],
             [
              0.3333333333333333,
              "#9c179e"
             ],
             [
              0.4444444444444444,
              "#bd3786"
             ],
             [
              0.5555555555555556,
              "#d8576b"
             ],
             [
              0.6666666666666666,
              "#ed7953"
             ],
             [
              0.7777777777777778,
              "#fb9f3a"
             ],
             [
              0.8888888888888888,
              "#fdca26"
             ],
             [
              1,
              "#f0f921"
             ]
            ],
            "type": "contour"
           }
          ],
          "contourcarpet": [
           {
            "colorbar": {
             "outlinewidth": 0,
             "ticks": ""
            },
            "type": "contourcarpet"
           }
          ],
          "heatmap": [
           {
            "colorbar": {
             "outlinewidth": 0,
             "ticks": ""
            },
            "colorscale": [
             [
              0,
              "#0d0887"
             ],
             [
              0.1111111111111111,
              "#46039f"
             ],
             [
              0.2222222222222222,
              "#7201a8"
             ],
             [
              0.3333333333333333,
              "#9c179e"
             ],
             [
              0.4444444444444444,
              "#bd3786"
             ],
             [
              0.5555555555555556,
              "#d8576b"
             ],
             [
              0.6666666666666666,
              "#ed7953"
             ],
             [
              0.7777777777777778,
              "#fb9f3a"
             ],
             [
              0.8888888888888888,
              "#fdca26"
             ],
             [
              1,
              "#f0f921"
             ]
            ],
            "type": "heatmap"
           }
          ],
          "heatmapgl": [
           {
            "colorbar": {
             "outlinewidth": 0,
             "ticks": ""
            },
            "colorscale": [
             [
              0,
              "#0d0887"
             ],
             [
              0.1111111111111111,
              "#46039f"
             ],
             [
              0.2222222222222222,
              "#7201a8"
             ],
             [
              0.3333333333333333,
              "#9c179e"
             ],
             [
              0.4444444444444444,
              "#bd3786"
             ],
             [
              0.5555555555555556,
              "#d8576b"
             ],
             [
              0.6666666666666666,
              "#ed7953"
             ],
             [
              0.7777777777777778,
              "#fb9f3a"
             ],
             [
              0.8888888888888888,
              "#fdca26"
             ],
             [
              1,
              "#f0f921"
             ]
            ],
            "type": "heatmapgl"
           }
          ],
          "histogram": [
           {
            "marker": {
             "colorbar": {
              "outlinewidth": 0,
              "ticks": ""
             }
            },
            "type": "histogram"
           }
          ],
          "histogram2d": [
           {
            "colorbar": {
             "outlinewidth": 0,
             "ticks": ""
            },
            "colorscale": [
             [
              0,
              "#0d0887"
             ],
             [
              0.1111111111111111,
              "#46039f"
             ],
             [
              0.2222222222222222,
              "#7201a8"
             ],
             [
              0.3333333333333333,
              "#9c179e"
             ],
             [
              0.4444444444444444,
              "#bd3786"
             ],
             [
              0.5555555555555556,
              "#d8576b"
             ],
             [
              0.6666666666666666,
              "#ed7953"
             ],
             [
              0.7777777777777778,
              "#fb9f3a"
             ],
             [
              0.8888888888888888,
              "#fdca26"
             ],
             [
              1,
              "#f0f921"
             ]
            ],
            "type": "histogram2d"
           }
          ],
          "histogram2dcontour": [
           {
            "colorbar": {
             "outlinewidth": 0,
             "ticks": ""
            },
            "colorscale": [
             [
              0,
              "#0d0887"
             ],
             [
              0.1111111111111111,
              "#46039f"
             ],
             [
              0.2222222222222222,
              "#7201a8"
             ],
             [
              0.3333333333333333,
              "#9c179e"
             ],
             [
              0.4444444444444444,
              "#bd3786"
             ],
             [
              0.5555555555555556,
              "#d8576b"
             ],
             [
              0.6666666666666666,
              "#ed7953"
             ],
             [
              0.7777777777777778,
              "#fb9f3a"
             ],
             [
              0.8888888888888888,
              "#fdca26"
             ],
             [
              1,
              "#f0f921"
             ]
            ],
            "type": "histogram2dcontour"
           }
          ],
          "mesh3d": [
           {
            "colorbar": {
             "outlinewidth": 0,
             "ticks": ""
            },
            "type": "mesh3d"
           }
          ],
          "parcoords": [
           {
            "line": {
             "colorbar": {
              "outlinewidth": 0,
              "ticks": ""
             }
            },
            "type": "parcoords"
           }
          ],
          "pie": [
           {
            "automargin": true,
            "type": "pie"
           }
          ],
          "scatter": [
           {
            "marker": {
             "colorbar": {
              "outlinewidth": 0,
              "ticks": ""
             }
            },
            "type": "scatter"
           }
          ],
          "scatter3d": [
           {
            "line": {
             "colorbar": {
              "outlinewidth": 0,
              "ticks": ""
             }
            },
            "marker": {
             "colorbar": {
              "outlinewidth": 0,
              "ticks": ""
             }
            },
            "type": "scatter3d"
           }
          ],
          "scattercarpet": [
           {
            "marker": {
             "colorbar": {
              "outlinewidth": 0,
              "ticks": ""
             }
            },
            "type": "scattercarpet"
           }
          ],
          "scattergeo": [
           {
            "marker": {
             "colorbar": {
              "outlinewidth": 0,
              "ticks": ""
             }
            },
            "type": "scattergeo"
           }
          ],
          "scattergl": [
           {
            "marker": {
             "colorbar": {
              "outlinewidth": 0,
              "ticks": ""
             }
            },
            "type": "scattergl"
           }
          ],
          "scattermapbox": [
           {
            "marker": {
             "colorbar": {
              "outlinewidth": 0,
              "ticks": ""
             }
            },
            "type": "scattermapbox"
           }
          ],
          "scatterpolar": [
           {
            "marker": {
             "colorbar": {
              "outlinewidth": 0,
              "ticks": ""
             }
            },
            "type": "scatterpolar"
           }
          ],
          "scatterpolargl": [
           {
            "marker": {
             "colorbar": {
              "outlinewidth": 0,
              "ticks": ""
             }
            },
            "type": "scatterpolargl"
           }
          ],
          "scatterternary": [
           {
            "marker": {
             "colorbar": {
              "outlinewidth": 0,
              "ticks": ""
             }
            },
            "type": "scatterternary"
           }
          ],
          "surface": [
           {
            "colorbar": {
             "outlinewidth": 0,
             "ticks": ""
            },
            "colorscale": [
             [
              0,
              "#0d0887"
             ],
             [
              0.1111111111111111,
              "#46039f"
             ],
             [
              0.2222222222222222,
              "#7201a8"
             ],
             [
              0.3333333333333333,
              "#9c179e"
             ],
             [
              0.4444444444444444,
              "#bd3786"
             ],
             [
              0.5555555555555556,
              "#d8576b"
             ],
             [
              0.6666666666666666,
              "#ed7953"
             ],
             [
              0.7777777777777778,
              "#fb9f3a"
             ],
             [
              0.8888888888888888,
              "#fdca26"
             ],
             [
              1,
              "#f0f921"
             ]
            ],
            "type": "surface"
           }
          ],
          "table": [
           {
            "cells": {
             "fill": {
              "color": "#EBF0F8"
             },
             "line": {
              "color": "white"
             }
            },
            "header": {
             "fill": {
              "color": "#C8D4E3"
             },
             "line": {
              "color": "white"
             }
            },
            "type": "table"
           }
          ]
         },
         "layout": {
          "annotationdefaults": {
           "arrowcolor": "#2a3f5f",
           "arrowhead": 0,
           "arrowwidth": 1
          },
          "coloraxis": {
           "colorbar": {
            "outlinewidth": 0,
            "ticks": ""
           }
          },
          "colorscale": {
           "diverging": [
            [
             0,
             "#8e0152"
            ],
            [
             0.1,
             "#c51b7d"
            ],
            [
             0.2,
             "#de77ae"
            ],
            [
             0.3,
             "#f1b6da"
            ],
            [
             0.4,
             "#fde0ef"
            ],
            [
             0.5,
             "#f7f7f7"
            ],
            [
             0.6,
             "#e6f5d0"
            ],
            [
             0.7,
             "#b8e186"
            ],
            [
             0.8,
             "#7fbc41"
            ],
            [
             0.9,
             "#4d9221"
            ],
            [
             1,
             "#276419"
            ]
           ],
           "sequential": [
            [
             0,
             "#0d0887"
            ],
            [
             0.1111111111111111,
             "#46039f"
            ],
            [
             0.2222222222222222,
             "#7201a8"
            ],
            [
             0.3333333333333333,
             "#9c179e"
            ],
            [
             0.4444444444444444,
             "#bd3786"
            ],
            [
             0.5555555555555556,
             "#d8576b"
            ],
            [
             0.6666666666666666,
             "#ed7953"
            ],
            [
             0.7777777777777778,
             "#fb9f3a"
            ],
            [
             0.8888888888888888,
             "#fdca26"
            ],
            [
             1,
             "#f0f921"
            ]
           ],
           "sequentialminus": [
            [
             0,
             "#0d0887"
            ],
            [
             0.1111111111111111,
             "#46039f"
            ],
            [
             0.2222222222222222,
             "#7201a8"
            ],
            [
             0.3333333333333333,
             "#9c179e"
            ],
            [
             0.4444444444444444,
             "#bd3786"
            ],
            [
             0.5555555555555556,
             "#d8576b"
            ],
            [
             0.6666666666666666,
             "#ed7953"
            ],
            [
             0.7777777777777778,
             "#fb9f3a"
            ],
            [
             0.8888888888888888,
             "#fdca26"
            ],
            [
             1,
             "#f0f921"
            ]
           ]
          },
          "colorway": [
           "#636efa",
           "#EF553B",
           "#00cc96",
           "#ab63fa",
           "#FFA15A",
           "#19d3f3",
           "#FF6692",
           "#B6E880",
           "#FF97FF",
           "#FECB52"
          ],
          "font": {
           "color": "#2a3f5f"
          },
          "geo": {
           "bgcolor": "white",
           "lakecolor": "white",
           "landcolor": "#E5ECF6",
           "showlakes": true,
           "showland": true,
           "subunitcolor": "white"
          },
          "hoverlabel": {
           "align": "left"
          },
          "hovermode": "closest",
          "mapbox": {
           "style": "light"
          },
          "paper_bgcolor": "white",
          "plot_bgcolor": "#E5ECF6",
          "polar": {
           "angularaxis": {
            "gridcolor": "white",
            "linecolor": "white",
            "ticks": ""
           },
           "bgcolor": "#E5ECF6",
           "radialaxis": {
            "gridcolor": "white",
            "linecolor": "white",
            "ticks": ""
           }
          },
          "scene": {
           "xaxis": {
            "backgroundcolor": "#E5ECF6",
            "gridcolor": "white",
            "gridwidth": 2,
            "linecolor": "white",
            "showbackground": true,
            "ticks": "",
            "zerolinecolor": "white"
           },
           "yaxis": {
            "backgroundcolor": "#E5ECF6",
            "gridcolor": "white",
            "gridwidth": 2,
            "linecolor": "white",
            "showbackground": true,
            "ticks": "",
            "zerolinecolor": "white"
           },
           "zaxis": {
            "backgroundcolor": "#E5ECF6",
            "gridcolor": "white",
            "gridwidth": 2,
            "linecolor": "white",
            "showbackground": true,
            "ticks": "",
            "zerolinecolor": "white"
           }
          },
          "shapedefaults": {
           "line": {
            "color": "#2a3f5f"
           }
          },
          "ternary": {
           "aaxis": {
            "gridcolor": "white",
            "linecolor": "white",
            "ticks": ""
           },
           "baxis": {
            "gridcolor": "white",
            "linecolor": "white",
            "ticks": ""
           },
           "bgcolor": "#E5ECF6",
           "caxis": {
            "gridcolor": "white",
            "linecolor": "white",
            "ticks": ""
           }
          },
          "title": {
           "x": 0.05
          },
          "xaxis": {
           "automargin": true,
           "gridcolor": "white",
           "linecolor": "white",
           "ticks": "",
           "title": {
            "standoff": 15
           },
           "zerolinecolor": "white",
           "zerolinewidth": 2
          },
          "yaxis": {
           "automargin": true,
           "gridcolor": "white",
           "linecolor": "white",
           "ticks": "",
           "title": {
            "standoff": 15
           },
           "zerolinecolor": "white",
           "zerolinewidth": 2
          }
         }
        },
        "yaxis": {
         "gridcolor": "rgb(219, 219, 219)",
         "showgrid": true,
         "title": {
          "text": "Days"
         }
        }
       }
      },
      "text/html": [
       "<div>\n",
       "        \n",
       "        \n",
       "            <div id=\"d55f1a78-2bd2-4489-9a94-c2fcf3c746e5\" class=\"plotly-graph-div\" style=\"height:525px; width:100%;\"></div>\n",
       "            <script type=\"text/javascript\">\n",
       "                require([\"plotly\"], function(Plotly) {\n",
       "                    window.PLOTLYENV=window.PLOTLYENV || {};\n",
       "                    \n",
       "                if (document.getElementById(\"d55f1a78-2bd2-4489-9a94-c2fcf3c746e5\")) {\n",
       "                    Plotly.newPlot(\n",
       "                        'd55f1a78-2bd2-4489-9a94-c2fcf3c746e5',\n",
       "                        [{\"boxpoints\": \"all\", \"name\": \"Treble\", \"showlegend\": false, \"type\": \"box\", \"y\": [17.0, 28.0, 23.0, 23.0, 27.0, 27.0, 16.0, 27.0, 16.0, 29.0, 29.0, 6.0, 21.0, 2.0, 30.0, 17.0, 0.0, 75.0, 24.0, 27.0, 21.0, 24.0, 27.0, 21.0, 32.0, 31.0, 32.0, 31.0, 26.0, 12.0, 24.0, 26.0, 12.0, 24.0, 7.0, 25.0, 19.0, 31.0, 20.0, 56.0, 32.0, 31.0, 56.0, 32.0, 31.0, 27.0, 34.0, 27.0, 34.0, 38.0, 20.0, 31.0, 20.0, 31.0, 3.0, 3.0, 67.0, 42.0, 79.0, 26.0, 7.0, 38.0, 26.0, 38.0, 26.0, 7.0, 38.0, 8.0, 3.0, 3.0, 3.0, 3.0, 28.0, 37.0, 18.0, 37.0, 18.0, 16.0, 18.0, 16.0, 18.0, 0.0, 0.0, 0.0, 47.0, 64.0, 15.0, 36.0, 15.0, 36.0, 15.0, 38.0, 36.0, 88.0, 0.0, 0.0, 0.0, 0.0, 30.0, 30.0, 30.0, 5.0, 7.0, 5.0, 7.0, 5.0, 68.0, 51.0, 43.0, 16.0, 15.0, 14.0, 16.0, 19.0, 16.0, 15.0, 19.0, 29.0, 29.0, 7.0, 5.0, 5.0, 5.0, 5.0, 34.0, 45.0, 45.0, 45.0, 11.0, 11.0, 2.0, 27.0, 72.0, 39.0, 25.0, 25.0, 22.0, 22.0, 32.0, 32.0, 29.0, 28.0, 30.0, 39.0, 30.0, 43.0, 28.0, 69.0, 21.0, 69.0, 21.0, 0.0, 21.0, 0.0, 21.0, -6.0, -6.0, 26.0, 36.0, 27.0, 29.0, 8.0, 22.0, 28.0, 28.0, 28.0, -6.0, -6.0, 0.0, 33.0, 4.0, 4.0, 21.0, 24.0, 44.0, 44.0, 25.0, 25.0, 30.0, 30.0, 2.0, 2.0, 29.0, 31.0, 16.0, 16.0, 16.0, 16.0, 16.0, 2.0, 2.0, 2.0, 2.0, 2.0, 2.0, 23.0, 44.0, 48.0, 48.0, 20.0, 22.0, 20.0, 22.0, 33.0, 33.0, 20.0, 6.0, 6.0, 28.0, 31.0, 20.0, 15.0, 24.0, 24.0, 24.0, 6.0, 6.0, 30.0, 6.0, 6.0, 6.0, 20.0, 20.0, 6.0, 65.0, 18.0, 14.0, 14.0, 12.0, 18.0, 13.0, 12.0, 18.0, 3.0, 3.0, 3.0, 23.0, 32.0, 6.0, 11.0, 3.0, 3.0, 3.0, 3.0, 3.0, 3.0, 25.0, 9.0, 10.0, 9.0, 10.0, 15.0, 1.0, 1.0, 14.0, 14.0, 1.0, 1.0, 1.0, 1.0, 8.0, 8.0, 1.0]}, {\"boxpoints\": \"all\", \"name\": \"Non-Treble\", \"showlegend\": false, \"type\": \"box\", \"y\": [28.0, 10.0, 31.0, 24.0, 42.0, 36.0, 15.0, 45.0, 22.0, 21.0, 48.0, 29.0, 27.0, 34.0, 24.0, 35.0, 23.0, 28.0, 24.0, 27.0, 27.0, 54.0, 30.0, 35.0, 79.0, 78.0, 34.0, 17.0, 17.0, 48.0, 38.0, 30.0, 17.0, 24.0, 126.0, 19.0, 44.0, 22.0, 48.0, 24.0, 24.0, 62.0, 48.0, 55.0, 29.0, 29.0, 24.0, 32.0, 5.0, 45.0, 17.0, 25.0, 21.0, 14.0, 88.0, 24.0, 28.0, 23.0, 30.0, 23.0, 32.0, 31.0, 6.0, 31.0, 31.0, 39.0, 21.0, 28.0, 38.0, 21.0, 14.0, 25.0, 31.0, 88.0, 26.0, 2.0, 27.0, 28.0, 26.0, 21.0, 29.0, 24.0, 21.0, 91.0, 98.0, 25.0, 33.0, 39.0, 26.0, 51.0, 20.0, 26.0, 26.0, 27.0, 21.0, 34.0, 0.0, 27.0, 27.0, 27.0, 62.0, 26.0, 29.0, 26.0, 25.0, 31.0, 31.0, 20.0, 18.0, 52.0, 20.0, 58.0, 21.0, 20.0, 19.0, 8.0, 21.0, 19.0, 27.0, 32.0, 3.0, 17.0, 26.0, 26.0, 29.0, 21.0, 29.0, 78.0, 28.0, 16.0, 14.0, 23.0, 21.0, 14.0, 53.0, 22.0, 29.0, 18.0, 4.0, 16.0, 18.0, 14.0, 60.0, 57.0, 51.0, 53.0, 11.0, 11.0, 31.0, 23.0, 88.0, 53.0, 2.0, 16.0, 4.0, 22.0, 22.0, 58.0, 25.0, 59.0, 84.0, 28.0, 12.0, 23.0, 36.0, 23.0, 34.0, 30.0, 22.0, 47.0, 23.0, 27.0, 18.0, 18.0, 51.0, 2.0, 5.0, 44.0, 15.0, 27.0, 22.0, 43.0, 7.0, 36.0, 34.0, 51.0, 55.0, 58.0, 48.0, 34.0, 21.0, 26.0, 21.0, 45.0, 18.0, 16.0, 55.0, 21.0, 31.0, 27.0, 23.0, 24.0, 19.0, 13.0, 81.0, 24.0, 20.0, 48.0, 34.0, 101.0, 29.0, 25.0, 0.0, 0.0, 18.0, 41.0, 32.0, 25.0, 25.0, 15.0, 20.0, 53.0, 26.0, 66.0, 25.0, 16.0, 44.0, 35.0, 52.0, 64.0, 45.0, 36.0, 14.0, 25.0, 25.0, 54.0, 28.0, 27.0, 27.0, 76.0, 26.0, 19.0, 18.0, 19.0, 18.0, 27.0, 17.0, 21.0, 23.0, 68.0, 54.0, 28.0, 27.0, 53.0, 56.0, 79.0, 29.0, 56.0, 47.0, 54.0, 40.0, 21.0, 39.0, 68.0, 76.0, 48.0, 28.0, 57.0, 27.0, 33.0, 40.0, 70.0, 29.0, 49.0, 29.0, 18.0, 19.0, 19.0, 18.0, 19.0, 19.0, 26.0, 25.0, 35.0, 25.0, 27.0, 30.0, 30.0, 24.0, 42.0, 30.0, 29.0, 18.0, 29.0, 51.0, 32.0, 21.0, 30.0, 29.0, 17.0, 32.0, 23.0, 53.0, 16.0, 29.0, 29.0, 18.0, 35.0, 52.0, 35.0, 13.0, 9.0, 10.0, 24.0, 10.0, 24.0, 17.0, 24.0, 15.0, 17.0, 1.0, 23.0, 39.0, 31.0, 23.0, 9.0, 22.0, 21.0, 24.0, 41.0, 62.0, 38.0, 50.0, 23.0, 44.0, 7.0, -4.0, 69.0, 24.0, 45.0, 7.0, 24.0, 21.0, 21.0, 0.0, 0.0, 31.0, 7.0, 7.0, 25.0, 22.0, 21.0, 18.0, 44.0, 39.0, 31.0, 40.0, 20.0, 10.0, 20.0, 21.0, 16.0, 5.0, 11.0, 10.0, 22.0, 22.0, 8.0]}],\n",
       "                        {\"font\": {\"size\": 20}, \"plot_bgcolor\": \"rgba(0,0,0,0)\", \"template\": {\"data\": {\"bar\": [{\"error_x\": {\"color\": \"#2a3f5f\"}, \"error_y\": {\"color\": \"#2a3f5f\"}, \"marker\": {\"line\": {\"color\": \"#E5ECF6\", \"width\": 0.5}}, \"type\": \"bar\"}], \"barpolar\": [{\"marker\": {\"line\": {\"color\": \"#E5ECF6\", \"width\": 0.5}}, \"type\": \"barpolar\"}], \"carpet\": [{\"aaxis\": {\"endlinecolor\": \"#2a3f5f\", \"gridcolor\": \"white\", \"linecolor\": \"white\", \"minorgridcolor\": \"white\", \"startlinecolor\": \"#2a3f5f\"}, \"baxis\": {\"endlinecolor\": \"#2a3f5f\", \"gridcolor\": \"white\", \"linecolor\": \"white\", \"minorgridcolor\": \"white\", \"startlinecolor\": \"#2a3f5f\"}, \"type\": \"carpet\"}], \"choropleth\": [{\"colorbar\": {\"outlinewidth\": 0, \"ticks\": \"\"}, \"type\": \"choropleth\"}], \"contour\": [{\"colorbar\": {\"outlinewidth\": 0, \"ticks\": \"\"}, \"colorscale\": [[0.0, \"#0d0887\"], [0.1111111111111111, \"#46039f\"], [0.2222222222222222, \"#7201a8\"], [0.3333333333333333, \"#9c179e\"], [0.4444444444444444, \"#bd3786\"], [0.5555555555555556, \"#d8576b\"], [0.6666666666666666, \"#ed7953\"], [0.7777777777777778, \"#fb9f3a\"], [0.8888888888888888, \"#fdca26\"], [1.0, \"#f0f921\"]], \"type\": \"contour\"}], \"contourcarpet\": [{\"colorbar\": {\"outlinewidth\": 0, \"ticks\": \"\"}, \"type\": \"contourcarpet\"}], \"heatmap\": [{\"colorbar\": {\"outlinewidth\": 0, \"ticks\": \"\"}, \"colorscale\": [[0.0, \"#0d0887\"], [0.1111111111111111, \"#46039f\"], [0.2222222222222222, \"#7201a8\"], [0.3333333333333333, \"#9c179e\"], [0.4444444444444444, \"#bd3786\"], [0.5555555555555556, \"#d8576b\"], [0.6666666666666666, \"#ed7953\"], [0.7777777777777778, \"#fb9f3a\"], [0.8888888888888888, \"#fdca26\"], [1.0, \"#f0f921\"]], \"type\": \"heatmap\"}], \"heatmapgl\": [{\"colorbar\": {\"outlinewidth\": 0, \"ticks\": \"\"}, \"colorscale\": [[0.0, \"#0d0887\"], [0.1111111111111111, \"#46039f\"], [0.2222222222222222, \"#7201a8\"], [0.3333333333333333, \"#9c179e\"], [0.4444444444444444, \"#bd3786\"], [0.5555555555555556, \"#d8576b\"], [0.6666666666666666, \"#ed7953\"], [0.7777777777777778, \"#fb9f3a\"], [0.8888888888888888, \"#fdca26\"], [1.0, \"#f0f921\"]], \"type\": \"heatmapgl\"}], \"histogram\": [{\"marker\": {\"colorbar\": {\"outlinewidth\": 0, \"ticks\": \"\"}}, \"type\": \"histogram\"}], \"histogram2d\": [{\"colorbar\": {\"outlinewidth\": 0, \"ticks\": \"\"}, \"colorscale\": [[0.0, \"#0d0887\"], [0.1111111111111111, \"#46039f\"], [0.2222222222222222, \"#7201a8\"], [0.3333333333333333, \"#9c179e\"], [0.4444444444444444, \"#bd3786\"], [0.5555555555555556, \"#d8576b\"], [0.6666666666666666, \"#ed7953\"], [0.7777777777777778, \"#fb9f3a\"], [0.8888888888888888, \"#fdca26\"], [1.0, \"#f0f921\"]], \"type\": \"histogram2d\"}], \"histogram2dcontour\": [{\"colorbar\": {\"outlinewidth\": 0, \"ticks\": \"\"}, \"colorscale\": [[0.0, \"#0d0887\"], [0.1111111111111111, \"#46039f\"], [0.2222222222222222, \"#7201a8\"], [0.3333333333333333, \"#9c179e\"], [0.4444444444444444, \"#bd3786\"], [0.5555555555555556, \"#d8576b\"], [0.6666666666666666, \"#ed7953\"], [0.7777777777777778, \"#fb9f3a\"], [0.8888888888888888, \"#fdca26\"], [1.0, \"#f0f921\"]], \"type\": \"histogram2dcontour\"}], \"mesh3d\": [{\"colorbar\": {\"outlinewidth\": 0, \"ticks\": \"\"}, \"type\": \"mesh3d\"}], \"parcoords\": [{\"line\": {\"colorbar\": {\"outlinewidth\": 0, \"ticks\": \"\"}}, \"type\": \"parcoords\"}], \"pie\": [{\"automargin\": true, \"type\": \"pie\"}], \"scatter\": [{\"marker\": {\"colorbar\": {\"outlinewidth\": 0, \"ticks\": \"\"}}, \"type\": \"scatter\"}], \"scatter3d\": [{\"line\": {\"colorbar\": {\"outlinewidth\": 0, \"ticks\": \"\"}}, \"marker\": {\"colorbar\": {\"outlinewidth\": 0, \"ticks\": \"\"}}, \"type\": \"scatter3d\"}], \"scattercarpet\": [{\"marker\": {\"colorbar\": {\"outlinewidth\": 0, \"ticks\": \"\"}}, \"type\": \"scattercarpet\"}], \"scattergeo\": [{\"marker\": {\"colorbar\": {\"outlinewidth\": 0, \"ticks\": \"\"}}, \"type\": \"scattergeo\"}], \"scattergl\": [{\"marker\": {\"colorbar\": {\"outlinewidth\": 0, \"ticks\": \"\"}}, \"type\": \"scattergl\"}], \"scattermapbox\": [{\"marker\": {\"colorbar\": {\"outlinewidth\": 0, \"ticks\": \"\"}}, \"type\": \"scattermapbox\"}], \"scatterpolar\": [{\"marker\": {\"colorbar\": {\"outlinewidth\": 0, \"ticks\": \"\"}}, \"type\": \"scatterpolar\"}], \"scatterpolargl\": [{\"marker\": {\"colorbar\": {\"outlinewidth\": 0, \"ticks\": \"\"}}, \"type\": \"scatterpolargl\"}], \"scatterternary\": [{\"marker\": {\"colorbar\": {\"outlinewidth\": 0, \"ticks\": \"\"}}, \"type\": \"scatterternary\"}], \"surface\": [{\"colorbar\": {\"outlinewidth\": 0, \"ticks\": \"\"}, \"colorscale\": [[0.0, \"#0d0887\"], [0.1111111111111111, \"#46039f\"], [0.2222222222222222, \"#7201a8\"], [0.3333333333333333, \"#9c179e\"], [0.4444444444444444, \"#bd3786\"], [0.5555555555555556, \"#d8576b\"], [0.6666666666666666, \"#ed7953\"], [0.7777777777777778, \"#fb9f3a\"], [0.8888888888888888, \"#fdca26\"], [1.0, \"#f0f921\"]], \"type\": \"surface\"}], \"table\": [{\"cells\": {\"fill\": {\"color\": \"#EBF0F8\"}, \"line\": {\"color\": \"white\"}}, \"header\": {\"fill\": {\"color\": \"#C8D4E3\"}, \"line\": {\"color\": \"white\"}}, \"type\": \"table\"}]}, \"layout\": {\"annotationdefaults\": {\"arrowcolor\": \"#2a3f5f\", \"arrowhead\": 0, \"arrowwidth\": 1}, \"coloraxis\": {\"colorbar\": {\"outlinewidth\": 0, \"ticks\": \"\"}}, \"colorscale\": {\"diverging\": [[0, \"#8e0152\"], [0.1, \"#c51b7d\"], [0.2, \"#de77ae\"], [0.3, \"#f1b6da\"], [0.4, \"#fde0ef\"], [0.5, \"#f7f7f7\"], [0.6, \"#e6f5d0\"], [0.7, \"#b8e186\"], [0.8, \"#7fbc41\"], [0.9, \"#4d9221\"], [1, \"#276419\"]], \"sequential\": [[0.0, \"#0d0887\"], [0.1111111111111111, \"#46039f\"], [0.2222222222222222, \"#7201a8\"], [0.3333333333333333, \"#9c179e\"], [0.4444444444444444, \"#bd3786\"], [0.5555555555555556, \"#d8576b\"], [0.6666666666666666, \"#ed7953\"], [0.7777777777777778, \"#fb9f3a\"], [0.8888888888888888, \"#fdca26\"], [1.0, \"#f0f921\"]], \"sequentialminus\": [[0.0, \"#0d0887\"], [0.1111111111111111, \"#46039f\"], [0.2222222222222222, \"#7201a8\"], [0.3333333333333333, \"#9c179e\"], [0.4444444444444444, \"#bd3786\"], [0.5555555555555556, \"#d8576b\"], [0.6666666666666666, \"#ed7953\"], [0.7777777777777778, \"#fb9f3a\"], [0.8888888888888888, \"#fdca26\"], [1.0, \"#f0f921\"]]}, \"colorway\": [\"#636efa\", \"#EF553B\", \"#00cc96\", \"#ab63fa\", \"#FFA15A\", \"#19d3f3\", \"#FF6692\", \"#B6E880\", \"#FF97FF\", \"#FECB52\"], \"font\": {\"color\": \"#2a3f5f\"}, \"geo\": {\"bgcolor\": \"white\", \"lakecolor\": \"white\", \"landcolor\": \"#E5ECF6\", \"showlakes\": true, \"showland\": true, \"subunitcolor\": \"white\"}, \"hoverlabel\": {\"align\": \"left\"}, \"hovermode\": \"closest\", \"mapbox\": {\"style\": \"light\"}, \"paper_bgcolor\": \"white\", \"plot_bgcolor\": \"#E5ECF6\", \"polar\": {\"angularaxis\": {\"gridcolor\": \"white\", \"linecolor\": \"white\", \"ticks\": \"\"}, \"bgcolor\": \"#E5ECF6\", \"radialaxis\": {\"gridcolor\": \"white\", \"linecolor\": \"white\", \"ticks\": \"\"}}, \"scene\": {\"xaxis\": {\"backgroundcolor\": \"#E5ECF6\", \"gridcolor\": \"white\", \"gridwidth\": 2, \"linecolor\": \"white\", \"showbackground\": true, \"ticks\": \"\", \"zerolinecolor\": \"white\"}, \"yaxis\": {\"backgroundcolor\": \"#E5ECF6\", \"gridcolor\": \"white\", \"gridwidth\": 2, \"linecolor\": \"white\", \"showbackground\": true, \"ticks\": \"\", \"zerolinecolor\": \"white\"}, \"zaxis\": {\"backgroundcolor\": \"#E5ECF6\", \"gridcolor\": \"white\", \"gridwidth\": 2, \"linecolor\": \"white\", \"showbackground\": true, \"ticks\": \"\", \"zerolinecolor\": \"white\"}}, \"shapedefaults\": {\"line\": {\"color\": \"#2a3f5f\"}}, \"ternary\": {\"aaxis\": {\"gridcolor\": \"white\", \"linecolor\": \"white\", \"ticks\": \"\"}, \"baxis\": {\"gridcolor\": \"white\", \"linecolor\": \"white\", \"ticks\": \"\"}, \"bgcolor\": \"#E5ECF6\", \"caxis\": {\"gridcolor\": \"white\", \"linecolor\": \"white\", \"ticks\": \"\"}}, \"title\": {\"x\": 0.05}, \"xaxis\": {\"automargin\": true, \"gridcolor\": \"white\", \"linecolor\": \"white\", \"ticks\": \"\", \"title\": {\"standoff\": 15}, \"zerolinecolor\": \"white\", \"zerolinewidth\": 2}, \"yaxis\": {\"automargin\": true, \"gridcolor\": \"white\", \"linecolor\": \"white\", \"ticks\": \"\", \"title\": {\"standoff\": 15}, \"zerolinecolor\": \"white\", \"zerolinewidth\": 2}}}, \"yaxis\": {\"gridcolor\": \"rgb(219, 219, 219)\", \"showgrid\": true, \"title\": {\"text\": \"Days\"}}},\n",
       "                        {\"responsive\": true}\n",
       "                    ).then(function(){\n",
       "                            \n",
       "var gd = document.getElementById('d55f1a78-2bd2-4489-9a94-c2fcf3c746e5');\n",
       "var x = new MutationObserver(function (mutations, observer) {{\n",
       "        var display = window.getComputedStyle(gd).display;\n",
       "        if (!display || display === 'none') {{\n",
       "            console.log([gd, 'removed!']);\n",
       "            Plotly.purge(gd);\n",
       "            observer.disconnect();\n",
       "        }}\n",
       "}});\n",
       "\n",
       "// Listen for the removal of the full notebook cells\n",
       "var notebookContainer = gd.closest('#notebook-container');\n",
       "if (notebookContainer) {{\n",
       "    x.observe(notebookContainer, {childList: true});\n",
       "}}\n",
       "\n",
       "// Listen for the clearing of the current output cell\n",
       "var outputEl = gd.closest('.output');\n",
       "if (outputEl) {{\n",
       "    x.observe(outputEl, {childList: true});\n",
       "}}\n",
       "\n",
       "                        })\n",
       "                };\n",
       "                });\n",
       "            </script>\n",
       "        </div>"
      ]
     },
     "metadata": {},
     "output_type": "display_data"
    },
    {
     "name": "stdout",
     "output_type": "stream",
     "text": [
      "21.049429657794676\n",
      "30.559782608695652\n"
     ]
    }
   ],
   "source": [
    "######################################################\n",
    "######## Box Plots of Average of Each Carrier ########\n",
    "######################################################\n",
    "data=[]\n",
    "data.append(go.Box(\n",
    "    y=filteredTreble.difference,\n",
    "    name=\"Treble\",\n",
    "    boxpoints = 'all',\n",
    "    showlegend=False\n",
    "))\n",
    "data.append(go.Box(\n",
    "    y=filteredNonTreble.difference,\n",
    "    name=\"Non-Treble\",\n",
    "    boxpoints = 'all',\n",
    "    showlegend=False\n",
    "))\n",
    "\n",
    "\n",
    "# Edit the layout\n",
    "layout = dict(#title = \"Days from 2019 Bulletins to Carrier Release for Treble vs non-Treble\",\n",
    "              yaxis = dict(title = 'Days',showgrid=True, gridcolor='rgb(219, 219, 219)'),\n",
    "              plot_bgcolor='rgba(0,0,0,0)',\n",
    "              font=dict(size=20)\n",
    "              )\n",
    "\n",
    "fig = dict(data=data, layout=layout)\n",
    "py.offline.iplot(fig,filename='treble-vs-nonTreble-2019-buls.png')\n",
    "\n",
    "print(filteredTreble.difference.mean())\n",
    "print(filteredNonTreble.difference.mean())\n",
    "\n",
    "pio.write_image(fig, 'treble-carrier-2019.pdf', width=1100, height=600)"
   ]
  },
  {
   "cell_type": "code",
   "execution_count": null,
   "metadata": {},
   "outputs": [],
   "source": []
  }
 ],
 "metadata": {
  "kernelspec": {
   "display_name": "Python 3",
   "language": "python",
   "name": "python3"
  },
  "language_info": {
   "codemirror_mode": {
    "name": "ipython",
    "version": 3
   },
   "file_extension": ".py",
   "mimetype": "text/x-python",
   "name": "python",
   "nbconvert_exporter": "python",
   "pygments_lexer": "ipython3",
   "version": "3.6.10"
  }
 },
 "nbformat": 4,
 "nbformat_minor": 2
}
