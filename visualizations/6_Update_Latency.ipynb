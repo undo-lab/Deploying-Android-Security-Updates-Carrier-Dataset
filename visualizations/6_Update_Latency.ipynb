{
 "cells": [
  {
   "cell_type": "code",
   "execution_count": 1,
   "metadata": {},
   "outputs": [
    {
     "data": {
      "text/html": [
       "        <script type=\"text/javascript\">\n",
       "        window.PlotlyConfig = {MathJaxConfig: 'local'};\n",
       "        if (window.MathJax) {MathJax.Hub.Config({SVG: {font: \"STIX-Web\"}});}\n",
       "        if (typeof require !== 'undefined') {\n",
       "        require.undef(\"plotly\");\n",
       "        requirejs.config({\n",
       "            paths: {\n",
       "                'plotly': ['https://cdn.plot.ly/plotly-latest.min']\n",
       "            }\n",
       "        });\n",
       "        require(['plotly'], function(Plotly) {\n",
       "            window._Plotly = Plotly;\n",
       "        });\n",
       "        }\n",
       "        </script>\n",
       "        "
      ]
     },
     "metadata": {},
     "output_type": "display_data"
    },
    {
     "name": "stdout",
     "output_type": "stream",
     "text": [
      "  Carrier Manufacture               Model         Release_Date  \\\n",
      "0    AT&T     Alcatel  Alcatel IdealXCITE  2018-04-03 00:00:00   \n",
      "1    AT&T     Alcatel  Alcatel IdealXCITE  2018-04-03 00:00:00   \n",
      "2    AT&T     Alcatel  Alcatel IdealXCITE  2018-10-24 00:00:00   \n",
      "3    AT&T     Alcatel  Alcatel IdealXCITE  2018-12-18 00:00:00   \n",
      "4    AT&T  BlackBerry   BlackBerry KEYone  2017-09-26 00:00:00   \n",
      "\n",
      "        Bulletin_Level  difference Android_Level_Guessed  \\\n",
      "0  2018-02-01 00:00:00          61                 False   \n",
      "1  2018-04-01 00:00:00           2                  True   \n",
      "2  2018-08-01 00:00:00          84                 False   \n",
      "3  2018-10-01 00:00:00          78                 False   \n",
      "4  2017-09-01 00:00:00          25                 False   \n",
      "\n",
      "                                               build  Year_Phone_Release  \\\n",
      "0        JO.2.0.c1-00150-8909_GEN_PACK-1 nan YAMUAM0                2017   \n",
      "1                                nan YB4UA40File nan                2017   \n",
      "2        JO.2.0.c1-00267-8909_GEN_PACK-2 nan YAYUAY0                2017   \n",
      "3        JO.2.0.c1-00267-8909_GEN_PACK-2 YB3UA30 nan                2017   \n",
      "4  MPSS.TA.2.3.c1-00333-8953_GEN_PACK-1.103777.4....                2017   \n",
      "\n",
      "   Month_Phone_Release  checker  \n",
      "0                    6        5  \n",
      "1                    6        1  \n",
      "2                    6        1  \n",
      "3                    6        5  \n",
      "4                    4        5  \n"
     ]
    }
   ],
   "source": [
    "import pandas as pd\n",
    "import numpy as np\n",
    "import researchpy # pip install researchpy\n",
    "import statistics\n",
    "\n",
    "import plotly as py\n",
    "import plotly.graph_objs as go\n",
    "py.offline.init_notebook_mode(connected=True)\n",
    "import plotly.io as pio\n",
    "%config InlineBackend.figure_format = 'svg'\n",
    "\n",
    "carrierDF=pd.read_csv('../data/allCarrierData_final.csv')\n",
    "carrierDF.Manufacture=carrierDF.Manufacture.str.replace(\"Samgung\",\"Samsung\")\n",
    "carrierDF.Manufacture=carrierDF.Manufacture.str.replace(\"KYOCERA\",\"Kyocera\")\n",
    "carrierDF.Carrier=carrierDF.Carrier.str.replace(\"TMobile\",\"T-Mobile\")\n",
    "print(carrierDF.head())"
   ]
  },
  {
   "cell_type": "code",
   "execution_count": 2,
   "metadata": {},
   "outputs": [
    {
     "name": "stdout",
     "output_type": "stream",
     "text": [
      "['AT&T' 'Sprint' 'T-Mobile' 'Verizon']\n",
      "['Alcatel' 'BlackBerry' 'HTC' 'Huawei' 'Kyocera' 'LG' 'Motorola' 'RED'\n",
      " 'Razer' 'Samsung' 'ZTE' 'CAT' 'Coolpad' 'Essential' 'Google' 'Slate'\n",
      " 'Sonim' 'ASUS' 'OnePlus' 'Revvl(T-Mobile)' 'Sony' 'Nokia' 'Orbic' 'Palm'\n",
      " 'Verizon']\n"
     ]
    }
   ],
   "source": [
    "# Variables for looping\n",
    "uniqueCarriers=carrierDF.Carrier.unique()\n",
    "uniqueManufactures=carrierDF.Manufacture.unique()\n",
    "uniqueModels=carrierDF.Model.unique()\n",
    "uniqueBulletins=carrierDF.Bulletin_Level.unique()\n",
    "\n",
    "\n",
    "\n",
    "lvlColor={}\n",
    "carrierColors={'AT&T':[64, 190, 245],'Sprint':[255,162,0],'T-Mobile':[255,0,238],'Verizon':[255,21,0]}\n",
    "print(uniqueCarriers)\n",
    "for index,carrier in enumerate(uniqueCarriers):\n",
    "    if not carrier in lvlColor:\n",
    "        #randx=random.randint(0,255)\n",
    "        #randy=random.randint(0,255)\n",
    "        #randz=random.randint(0,255)\n",
    "        #lvlColor[carrier]=(randx, randy, randz)\n",
    "        lvlColor[carrier]=(carrierColors[carrier][0], carrierColors[carrier][1], carrierColors[carrier][2])\n",
    "\n",
    "manufactureColors={'BlackBerry':[38, 38, 38],'HTC':[189, 15, 108],'LG':[84, 201, 240],'Motorola':[1, 11, 120],\n",
    "                   'Samsung':[95, 201, 125],'Google':[137, 214, 60],'Huawei':[191, 11, 11],\n",
    "                   'Kyocera':[245, 118, 118],'ZTE':[102, 255, 247],'Essential':[20, 10, 46],\n",
    "                   'ASUS':[12, 55, 59],'OnePlus':[227, 34, 73],'Alcatel':[0, 188, 217],\n",
    "                   'RED':[219, 0, 0],'Razer':[219, 0, 0],'CAT':[255, 179, 0],'Coolpad':[237, 150, 0],\n",
    "                   'Slate':[50, 0, 61],\"Sonim\":[219, 0, 22],\"Sony\":[23, 23, 23],'Revvl(T-Mobile)':[255,0,238],\n",
    "                   \"Nokia\":[14, 0, 171],'Orbic':[139, 214, 0],\"Palm\":[255,21,0]}\n",
    "print(uniqueManufactures)\n",
    "# colors to work with: https://www.google.com/search?q=rgb+color+picker&oq=rgb+colo&aqs=chrome.0.69i59j0j69i57j0l3.1905j1j7&sourceid=chrome&ie=UTF-8\n",
    "for index,manufacture in enumerate(uniqueManufactures):\n",
    "    if not manufacture in lvlColor:\n",
    "        #randx=random.randint(0,255)\n",
    "        #randy=random.randint(0,255)\n",
    "        #randz=random.randint(0,255)\n",
    "        lvlColor[manufacture]=(manufactureColors[manufacture][0], manufactureColors[manufacture][1], manufactureColors[manufacture][2])\n",
    "        \n",
    "        \n",
    "        \n",
    "\n",
    "# print(uniqueModels)"
   ]
  },
  {
   "cell_type": "code",
   "execution_count": 3,
   "metadata": {},
   "outputs": [
    {
     "name": "stdout",
     "output_type": "stream",
     "text": [
      "20\n",
      "['One M9', 'G5', 'G6', 'G8 ThinQ', 'V20', 'Moto Z (2) Force', 'Galaxy J3 Emerge', 'Galaxy Note Edge', 'Galaxy Note5', 'Galaxy Note8', 'Galaxy Note9', 'Galaxy S5', 'Galaxy S6', 'Galaxy S6 Edge', 'Galaxy S7', 'Galaxy S7 Edge', 'Galaxy S8', 'Galaxy S8+', 'Galaxy S9', 'Galaxy S9+']\n"
     ]
    }
   ],
   "source": [
    "# Get same models across carriers\n",
    "sameModel=[]\n",
    "sameManu=[]\n",
    "for model in uniqueModels:\n",
    "    tempsDF=carrierDF[carrierDF.Model==model]\n",
    "    if len(tempsDF.Carrier.unique())==4: # all four carriers \n",
    "        sameModel.append(model)\n",
    "        man=list(tempsDF.Manufacture.unique())[0]\n",
    "        sameManu.append(list(tempsDF.Manufacture.unique())[0])\n",
    "        \n",
    "        \n",
    "print(len(sameModel))\n",
    "print(sameModel)\n",
    "        "
   ]
  },
  {
   "cell_type": "code",
   "execution_count": 4,
   "metadata": {},
   "outputs": [
    {
     "name": "stdout",
     "output_type": "stream",
     "text": [
      "24.248964803312628\n",
      "22.0\n",
      "AT&T\n",
      "28\n",
      "28.0\n",
      "Sprint\n",
      "20\n",
      "22\n",
      "T-Mobile\n",
      "17\n",
      "18\n",
      "Verizon\n",
      "21\n",
      "21.5\n"
     ]
    },
    {
     "data": {
      "application/vnd.plotly.v1+json": {
       "config": {
        "linkText": "Export to plot.ly",
        "plotlyServerURL": "https://plot.ly",
        "showLink": false
       },
       "data": [
        {
         "boxpoints": "all",
         "marker": {
          "color": "rgb(64, 190, 245)"
         },
         "name": "AT&T",
         "showlegend": false,
         "type": "box",
         "x": [
          "AT&T",
          "AT&T",
          "AT&T",
          "AT&T",
          "AT&T",
          "AT&T",
          "AT&T",
          "AT&T",
          "AT&T",
          "AT&T",
          "AT&T",
          "AT&T",
          "AT&T",
          "AT&T",
          "AT&T",
          "AT&T",
          "AT&T",
          "AT&T",
          "AT&T",
          "AT&T",
          "AT&T",
          "AT&T",
          "AT&T",
          "AT&T",
          "AT&T",
          "AT&T",
          "AT&T",
          "AT&T",
          "AT&T",
          "AT&T",
          "AT&T",
          "AT&T",
          "AT&T",
          "AT&T",
          "AT&T",
          "AT&T",
          "AT&T",
          "AT&T",
          "AT&T",
          "AT&T",
          "AT&T",
          "AT&T",
          "AT&T",
          "AT&T",
          "AT&T",
          "AT&T"
         ],
         "y": [
          36,
          37,
          38,
          35,
          21,
          36,
          35,
          31,
          28,
          20,
          25,
          37,
          27,
          24,
          24,
          29,
          28,
          12,
          19,
          27,
          27,
          31,
          28,
          43,
          89,
          29,
          32,
          59,
          23,
          7,
          37,
          33,
          27,
          31,
          16,
          34,
          24,
          16,
          15,
          21,
          32,
          35,
          22,
          17,
          16,
          1
         ]
        },
        {
         "boxpoints": "all",
         "marker": {
          "color": "rgb(255, 162, 0)"
         },
         "name": "Sprint",
         "showlegend": false,
         "type": "box",
         "x": [
          "Sprint",
          "Sprint",
          "Sprint",
          "Sprint",
          "Sprint",
          "Sprint",
          "Sprint",
          "Sprint",
          "Sprint",
          "Sprint",
          "Sprint",
          "Sprint",
          "Sprint",
          "Sprint",
          "Sprint",
          "Sprint",
          "Sprint",
          "Sprint",
          "Sprint",
          "Sprint",
          "Sprint",
          "Sprint",
          "Sprint",
          "Sprint",
          "Sprint",
          "Sprint",
          "Sprint",
          "Sprint",
          "Sprint",
          "Sprint",
          "Sprint",
          "Sprint",
          "Sprint",
          "Sprint",
          "Sprint",
          "Sprint",
          "Sprint",
          "Sprint",
          "Sprint",
          "Sprint",
          "Sprint",
          "Sprint",
          "Sprint",
          "Sprint",
          "Sprint",
          "Sprint",
          "Sprint",
          "Sprint",
          "Sprint"
         ],
         "y": [
          30,
          20,
          18,
          26,
          16,
          13,
          25,
          7,
          20,
          17,
          23,
          13,
          16,
          5,
          -1,
          22,
          19,
          12,
          14,
          21,
          18,
          19,
          1,
          22,
          24,
          27,
          24,
          25,
          25,
          26,
          35,
          25,
          25,
          36,
          26,
          23,
          32,
          16,
          23,
          24,
          20,
          19,
          4,
          3,
          25,
          46,
          13,
          29,
          28
         ]
        },
        {
         "boxpoints": "all",
         "marker": {
          "color": "rgb(255, 0, 238)"
         },
         "name": "T-Mobile",
         "showlegend": false,
         "type": "box",
         "x": [
          "T-Mobile",
          "T-Mobile",
          "T-Mobile",
          "T-Mobile",
          "T-Mobile",
          "T-Mobile",
          "T-Mobile",
          "T-Mobile",
          "T-Mobile",
          "T-Mobile",
          "T-Mobile",
          "T-Mobile",
          "T-Mobile",
          "T-Mobile",
          "T-Mobile",
          "T-Mobile",
          "T-Mobile",
          "T-Mobile",
          "T-Mobile",
          "T-Mobile",
          "T-Mobile",
          "T-Mobile",
          "T-Mobile",
          "T-Mobile",
          "T-Mobile",
          "T-Mobile",
          "T-Mobile",
          "T-Mobile",
          "T-Mobile",
          "T-Mobile",
          "T-Mobile",
          "T-Mobile",
          "T-Mobile",
          "T-Mobile",
          "T-Mobile",
          "T-Mobile",
          "T-Mobile",
          "T-Mobile",
          "T-Mobile",
          "T-Mobile",
          "T-Mobile",
          "T-Mobile",
          "T-Mobile",
          "T-Mobile",
          "T-Mobile",
          "T-Mobile",
          "T-Mobile",
          "T-Mobile",
          "T-Mobile",
          "T-Mobile",
          "T-Mobile",
          "T-Mobile",
          "T-Mobile"
         ],
         "y": [
          35,
          19,
          31,
          23,
          27,
          20,
          24,
          16,
          9,
          14,
          21,
          11,
          11,
          11,
          14,
          11,
          10,
          10,
          20,
          14,
          21,
          15,
          18,
          11,
          15,
          18,
          13,
          19,
          19,
          23,
          33,
          26,
          14,
          19,
          18,
          15,
          22,
          16,
          12,
          13,
          18,
          24,
          15,
          9,
          30,
          21,
          18,
          3,
          27,
          13,
          12,
          21,
          22
         ]
        },
        {
         "boxpoints": "all",
         "marker": {
          "color": "rgb(255, 21, 0)"
         },
         "name": "Verizon",
         "showlegend": false,
         "type": "box",
         "x": [
          "Verizon",
          "Verizon",
          "Verizon",
          "Verizon",
          "Verizon",
          "Verizon",
          "Verizon",
          "Verizon",
          "Verizon",
          "Verizon",
          "Verizon",
          "Verizon",
          "Verizon",
          "Verizon",
          "Verizon",
          "Verizon",
          "Verizon",
          "Verizon",
          "Verizon",
          "Verizon",
          "Verizon",
          "Verizon",
          "Verizon",
          "Verizon",
          "Verizon",
          "Verizon",
          "Verizon",
          "Verizon",
          "Verizon",
          "Verizon",
          "Verizon",
          "Verizon",
          "Verizon",
          "Verizon",
          "Verizon",
          "Verizon",
          "Verizon",
          "Verizon",
          "Verizon",
          "Verizon",
          "Verizon",
          "Verizon",
          "Verizon",
          "Verizon",
          "Verizon",
          "Verizon",
          "Verizon",
          "Verizon",
          "Verizon",
          "Verizon",
          "Verizon",
          "Verizon",
          "Verizon",
          "Verizon",
          "Verizon",
          "Verizon",
          "Verizon",
          "Verizon",
          "Verizon",
          "Verizon"
         ],
         "y": [
          31,
          39,
          37,
          25,
          25,
          46,
          23,
          13,
          3,
          5,
          64,
          0,
          22,
          26,
          11,
          11,
          31,
          56,
          11,
          37,
          4,
          19,
          42,
          27,
          33,
          21,
          26,
          27,
          13,
          23,
          33,
          39,
          42,
          18,
          31,
          40,
          13,
          9,
          21,
          36,
          6,
          17,
          16,
          33,
          70,
          -2,
          -5,
          2,
          13,
          22,
          2,
          22,
          7,
          0,
          22,
          11,
          -1,
          15,
          9,
          8
         ]
        }
       ],
       "layout": {
        "font": {
         "size": 20
        },
        "plot_bgcolor": "rgba(0,0,0,0)",
        "template": {
         "data": {
          "bar": [
           {
            "error_x": {
             "color": "#2a3f5f"
            },
            "error_y": {
             "color": "#2a3f5f"
            },
            "marker": {
             "line": {
              "color": "#E5ECF6",
              "width": 0.5
             }
            },
            "type": "bar"
           }
          ],
          "barpolar": [
           {
            "marker": {
             "line": {
              "color": "#E5ECF6",
              "width": 0.5
             }
            },
            "type": "barpolar"
           }
          ],
          "carpet": [
           {
            "aaxis": {
             "endlinecolor": "#2a3f5f",
             "gridcolor": "white",
             "linecolor": "white",
             "minorgridcolor": "white",
             "startlinecolor": "#2a3f5f"
            },
            "baxis": {
             "endlinecolor": "#2a3f5f",
             "gridcolor": "white",
             "linecolor": "white",
             "minorgridcolor": "white",
             "startlinecolor": "#2a3f5f"
            },
            "type": "carpet"
           }
          ],
          "choropleth": [
           {
            "colorbar": {
             "outlinewidth": 0,
             "ticks": ""
            },
            "type": "choropleth"
           }
          ],
          "contour": [
           {
            "colorbar": {
             "outlinewidth": 0,
             "ticks": ""
            },
            "colorscale": [
             [
              0,
              "#0d0887"
             ],
             [
              0.1111111111111111,
              "#46039f"
             ],
             [
              0.2222222222222222,
              "#7201a8"
             ],
             [
              0.3333333333333333,
              "#9c179e"
             ],
             [
              0.4444444444444444,
              "#bd3786"
             ],
             [
              0.5555555555555556,
              "#d8576b"
             ],
             [
              0.6666666666666666,
              "#ed7953"
             ],
             [
              0.7777777777777778,
              "#fb9f3a"
             ],
             [
              0.8888888888888888,
              "#fdca26"
             ],
             [
              1,
              "#f0f921"
             ]
            ],
            "type": "contour"
           }
          ],
          "contourcarpet": [
           {
            "colorbar": {
             "outlinewidth": 0,
             "ticks": ""
            },
            "type": "contourcarpet"
           }
          ],
          "heatmap": [
           {
            "colorbar": {
             "outlinewidth": 0,
             "ticks": ""
            },
            "colorscale": [
             [
              0,
              "#0d0887"
             ],
             [
              0.1111111111111111,
              "#46039f"
             ],
             [
              0.2222222222222222,
              "#7201a8"
             ],
             [
              0.3333333333333333,
              "#9c179e"
             ],
             [
              0.4444444444444444,
              "#bd3786"
             ],
             [
              0.5555555555555556,
              "#d8576b"
             ],
             [
              0.6666666666666666,
              "#ed7953"
             ],
             [
              0.7777777777777778,
              "#fb9f3a"
             ],
             [
              0.8888888888888888,
              "#fdca26"
             ],
             [
              1,
              "#f0f921"
             ]
            ],
            "type": "heatmap"
           }
          ],
          "heatmapgl": [
           {
            "colorbar": {
             "outlinewidth": 0,
             "ticks": ""
            },
            "colorscale": [
             [
              0,
              "#0d0887"
             ],
             [
              0.1111111111111111,
              "#46039f"
             ],
             [
              0.2222222222222222,
              "#7201a8"
             ],
             [
              0.3333333333333333,
              "#9c179e"
             ],
             [
              0.4444444444444444,
              "#bd3786"
             ],
             [
              0.5555555555555556,
              "#d8576b"
             ],
             [
              0.6666666666666666,
              "#ed7953"
             ],
             [
              0.7777777777777778,
              "#fb9f3a"
             ],
             [
              0.8888888888888888,
              "#fdca26"
             ],
             [
              1,
              "#f0f921"
             ]
            ],
            "type": "heatmapgl"
           }
          ],
          "histogram": [
           {
            "marker": {
             "colorbar": {
              "outlinewidth": 0,
              "ticks": ""
             }
            },
            "type": "histogram"
           }
          ],
          "histogram2d": [
           {
            "colorbar": {
             "outlinewidth": 0,
             "ticks": ""
            },
            "colorscale": [
             [
              0,
              "#0d0887"
             ],
             [
              0.1111111111111111,
              "#46039f"
             ],
             [
              0.2222222222222222,
              "#7201a8"
             ],
             [
              0.3333333333333333,
              "#9c179e"
             ],
             [
              0.4444444444444444,
              "#bd3786"
             ],
             [
              0.5555555555555556,
              "#d8576b"
             ],
             [
              0.6666666666666666,
              "#ed7953"
             ],
             [
              0.7777777777777778,
              "#fb9f3a"
             ],
             [
              0.8888888888888888,
              "#fdca26"
             ],
             [
              1,
              "#f0f921"
             ]
            ],
            "type": "histogram2d"
           }
          ],
          "histogram2dcontour": [
           {
            "colorbar": {
             "outlinewidth": 0,
             "ticks": ""
            },
            "colorscale": [
             [
              0,
              "#0d0887"
             ],
             [
              0.1111111111111111,
              "#46039f"
             ],
             [
              0.2222222222222222,
              "#7201a8"
             ],
             [
              0.3333333333333333,
              "#9c179e"
             ],
             [
              0.4444444444444444,
              "#bd3786"
             ],
             [
              0.5555555555555556,
              "#d8576b"
             ],
             [
              0.6666666666666666,
              "#ed7953"
             ],
             [
              0.7777777777777778,
              "#fb9f3a"
             ],
             [
              0.8888888888888888,
              "#fdca26"
             ],
             [
              1,
              "#f0f921"
             ]
            ],
            "type": "histogram2dcontour"
           }
          ],
          "mesh3d": [
           {
            "colorbar": {
             "outlinewidth": 0,
             "ticks": ""
            },
            "type": "mesh3d"
           }
          ],
          "parcoords": [
           {
            "line": {
             "colorbar": {
              "outlinewidth": 0,
              "ticks": ""
             }
            },
            "type": "parcoords"
           }
          ],
          "pie": [
           {
            "automargin": true,
            "type": "pie"
           }
          ],
          "scatter": [
           {
            "marker": {
             "colorbar": {
              "outlinewidth": 0,
              "ticks": ""
             }
            },
            "type": "scatter"
           }
          ],
          "scatter3d": [
           {
            "line": {
             "colorbar": {
              "outlinewidth": 0,
              "ticks": ""
             }
            },
            "marker": {
             "colorbar": {
              "outlinewidth": 0,
              "ticks": ""
             }
            },
            "type": "scatter3d"
           }
          ],
          "scattercarpet": [
           {
            "marker": {
             "colorbar": {
              "outlinewidth": 0,
              "ticks": ""
             }
            },
            "type": "scattercarpet"
           }
          ],
          "scattergeo": [
           {
            "marker": {
             "colorbar": {
              "outlinewidth": 0,
              "ticks": ""
             }
            },
            "type": "scattergeo"
           }
          ],
          "scattergl": [
           {
            "marker": {
             "colorbar": {
              "outlinewidth": 0,
              "ticks": ""
             }
            },
            "type": "scattergl"
           }
          ],
          "scattermapbox": [
           {
            "marker": {
             "colorbar": {
              "outlinewidth": 0,
              "ticks": ""
             }
            },
            "type": "scattermapbox"
           }
          ],
          "scatterpolar": [
           {
            "marker": {
             "colorbar": {
              "outlinewidth": 0,
              "ticks": ""
             }
            },
            "type": "scatterpolar"
           }
          ],
          "scatterpolargl": [
           {
            "marker": {
             "colorbar": {
              "outlinewidth": 0,
              "ticks": ""
             }
            },
            "type": "scatterpolargl"
           }
          ],
          "scatterternary": [
           {
            "marker": {
             "colorbar": {
              "outlinewidth": 0,
              "ticks": ""
             }
            },
            "type": "scatterternary"
           }
          ],
          "surface": [
           {
            "colorbar": {
             "outlinewidth": 0,
             "ticks": ""
            },
            "colorscale": [
             [
              0,
              "#0d0887"
             ],
             [
              0.1111111111111111,
              "#46039f"
             ],
             [
              0.2222222222222222,
              "#7201a8"
             ],
             [
              0.3333333333333333,
              "#9c179e"
             ],
             [
              0.4444444444444444,
              "#bd3786"
             ],
             [
              0.5555555555555556,
              "#d8576b"
             ],
             [
              0.6666666666666666,
              "#ed7953"
             ],
             [
              0.7777777777777778,
              "#fb9f3a"
             ],
             [
              0.8888888888888888,
              "#fdca26"
             ],
             [
              1,
              "#f0f921"
             ]
            ],
            "type": "surface"
           }
          ],
          "table": [
           {
            "cells": {
             "fill": {
              "color": "#EBF0F8"
             },
             "line": {
              "color": "white"
             }
            },
            "header": {
             "fill": {
              "color": "#C8D4E3"
             },
             "line": {
              "color": "white"
             }
            },
            "type": "table"
           }
          ]
         },
         "layout": {
          "annotationdefaults": {
           "arrowcolor": "#2a3f5f",
           "arrowhead": 0,
           "arrowwidth": 1
          },
          "coloraxis": {
           "colorbar": {
            "outlinewidth": 0,
            "ticks": ""
           }
          },
          "colorscale": {
           "diverging": [
            [
             0,
             "#8e0152"
            ],
            [
             0.1,
             "#c51b7d"
            ],
            [
             0.2,
             "#de77ae"
            ],
            [
             0.3,
             "#f1b6da"
            ],
            [
             0.4,
             "#fde0ef"
            ],
            [
             0.5,
             "#f7f7f7"
            ],
            [
             0.6,
             "#e6f5d0"
            ],
            [
             0.7,
             "#b8e186"
            ],
            [
             0.8,
             "#7fbc41"
            ],
            [
             0.9,
             "#4d9221"
            ],
            [
             1,
             "#276419"
            ]
           ],
           "sequential": [
            [
             0,
             "#0d0887"
            ],
            [
             0.1111111111111111,
             "#46039f"
            ],
            [
             0.2222222222222222,
             "#7201a8"
            ],
            [
             0.3333333333333333,
             "#9c179e"
            ],
            [
             0.4444444444444444,
             "#bd3786"
            ],
            [
             0.5555555555555556,
             "#d8576b"
            ],
            [
             0.6666666666666666,
             "#ed7953"
            ],
            [
             0.7777777777777778,
             "#fb9f3a"
            ],
            [
             0.8888888888888888,
             "#fdca26"
            ],
            [
             1,
             "#f0f921"
            ]
           ],
           "sequentialminus": [
            [
             0,
             "#0d0887"
            ],
            [
             0.1111111111111111,
             "#46039f"
            ],
            [
             0.2222222222222222,
             "#7201a8"
            ],
            [
             0.3333333333333333,
             "#9c179e"
            ],
            [
             0.4444444444444444,
             "#bd3786"
            ],
            [
             0.5555555555555556,
             "#d8576b"
            ],
            [
             0.6666666666666666,
             "#ed7953"
            ],
            [
             0.7777777777777778,
             "#fb9f3a"
            ],
            [
             0.8888888888888888,
             "#fdca26"
            ],
            [
             1,
             "#f0f921"
            ]
           ]
          },
          "colorway": [
           "#636efa",
           "#EF553B",
           "#00cc96",
           "#ab63fa",
           "#FFA15A",
           "#19d3f3",
           "#FF6692",
           "#B6E880",
           "#FF97FF",
           "#FECB52"
          ],
          "font": {
           "color": "#2a3f5f"
          },
          "geo": {
           "bgcolor": "white",
           "lakecolor": "white",
           "landcolor": "#E5ECF6",
           "showlakes": true,
           "showland": true,
           "subunitcolor": "white"
          },
          "hoverlabel": {
           "align": "left"
          },
          "hovermode": "closest",
          "mapbox": {
           "style": "light"
          },
          "paper_bgcolor": "white",
          "plot_bgcolor": "#E5ECF6",
          "polar": {
           "angularaxis": {
            "gridcolor": "white",
            "linecolor": "white",
            "ticks": ""
           },
           "bgcolor": "#E5ECF6",
           "radialaxis": {
            "gridcolor": "white",
            "linecolor": "white",
            "ticks": ""
           }
          },
          "scene": {
           "xaxis": {
            "backgroundcolor": "#E5ECF6",
            "gridcolor": "white",
            "gridwidth": 2,
            "linecolor": "white",
            "showbackground": true,
            "ticks": "",
            "zerolinecolor": "white"
           },
           "yaxis": {
            "backgroundcolor": "#E5ECF6",
            "gridcolor": "white",
            "gridwidth": 2,
            "linecolor": "white",
            "showbackground": true,
            "ticks": "",
            "zerolinecolor": "white"
           },
           "zaxis": {
            "backgroundcolor": "#E5ECF6",
            "gridcolor": "white",
            "gridwidth": 2,
            "linecolor": "white",
            "showbackground": true,
            "ticks": "",
            "zerolinecolor": "white"
           }
          },
          "shapedefaults": {
           "line": {
            "color": "#2a3f5f"
           }
          },
          "ternary": {
           "aaxis": {
            "gridcolor": "white",
            "linecolor": "white",
            "ticks": ""
           },
           "baxis": {
            "gridcolor": "white",
            "linecolor": "white",
            "ticks": ""
           },
           "bgcolor": "#E5ECF6",
           "caxis": {
            "gridcolor": "white",
            "linecolor": "white",
            "ticks": ""
           }
          },
          "title": {
           "x": 0.05
          },
          "xaxis": {
           "automargin": true,
           "gridcolor": "white",
           "linecolor": "white",
           "ticks": "",
           "title": {
            "standoff": 15
           },
           "zerolinecolor": "white",
           "zerolinewidth": 2
          },
          "yaxis": {
           "automargin": true,
           "gridcolor": "white",
           "linecolor": "white",
           "ticks": "",
           "title": {
            "standoff": 15
           },
           "zerolinecolor": "white",
           "zerolinewidth": 2
          }
         }
        },
        "yaxis": {
         "gridcolor": "rgb(219, 219, 219)",
         "showgrid": true,
         "title": {
          "text": "Days"
         }
        }
       }
      },
      "text/html": [
       "<div>\n",
       "        \n",
       "        \n",
       "            <div id=\"b09b26b6-eb9f-427a-aa4c-24f18f31408f\" class=\"plotly-graph-div\" style=\"height:525px; width:100%;\"></div>\n",
       "            <script type=\"text/javascript\">\n",
       "                require([\"plotly\"], function(Plotly) {\n",
       "                    window.PLOTLYENV=window.PLOTLYENV || {};\n",
       "                    \n",
       "                if (document.getElementById(\"b09b26b6-eb9f-427a-aa4c-24f18f31408f\")) {\n",
       "                    Plotly.newPlot(\n",
       "                        'b09b26b6-eb9f-427a-aa4c-24f18f31408f',\n",
       "                        [{\"boxpoints\": \"all\", \"marker\": {\"color\": \"rgb(64, 190, 245)\"}, \"name\": \"AT&T\", \"showlegend\": false, \"type\": \"box\", \"x\": [\"AT&T\", \"AT&T\", \"AT&T\", \"AT&T\", \"AT&T\", \"AT&T\", \"AT&T\", \"AT&T\", \"AT&T\", \"AT&T\", \"AT&T\", \"AT&T\", \"AT&T\", \"AT&T\", \"AT&T\", \"AT&T\", \"AT&T\", \"AT&T\", \"AT&T\", \"AT&T\", \"AT&T\", \"AT&T\", \"AT&T\", \"AT&T\", \"AT&T\", \"AT&T\", \"AT&T\", \"AT&T\", \"AT&T\", \"AT&T\", \"AT&T\", \"AT&T\", \"AT&T\", \"AT&T\", \"AT&T\", \"AT&T\", \"AT&T\", \"AT&T\", \"AT&T\", \"AT&T\", \"AT&T\", \"AT&T\", \"AT&T\", \"AT&T\", \"AT&T\", \"AT&T\"], \"y\": [36, 37, 38, 35, 21, 36, 35, 31, 28, 20, 25, 37, 27, 24, 24, 29, 28, 12, 19, 27, 27, 31, 28, 43, 89, 29, 32, 59, 23, 7, 37, 33, 27, 31, 16, 34, 24, 16, 15, 21, 32, 35, 22, 17, 16, 1]}, {\"boxpoints\": \"all\", \"marker\": {\"color\": \"rgb(255, 162, 0)\"}, \"name\": \"Sprint\", \"showlegend\": false, \"type\": \"box\", \"x\": [\"Sprint\", \"Sprint\", \"Sprint\", \"Sprint\", \"Sprint\", \"Sprint\", \"Sprint\", \"Sprint\", \"Sprint\", \"Sprint\", \"Sprint\", \"Sprint\", \"Sprint\", \"Sprint\", \"Sprint\", \"Sprint\", \"Sprint\", \"Sprint\", \"Sprint\", \"Sprint\", \"Sprint\", \"Sprint\", \"Sprint\", \"Sprint\", \"Sprint\", \"Sprint\", \"Sprint\", \"Sprint\", \"Sprint\", \"Sprint\", \"Sprint\", \"Sprint\", \"Sprint\", \"Sprint\", \"Sprint\", \"Sprint\", \"Sprint\", \"Sprint\", \"Sprint\", \"Sprint\", \"Sprint\", \"Sprint\", \"Sprint\", \"Sprint\", \"Sprint\", \"Sprint\", \"Sprint\", \"Sprint\", \"Sprint\"], \"y\": [30, 20, 18, 26, 16, 13, 25, 7, 20, 17, 23, 13, 16, 5, -1, 22, 19, 12, 14, 21, 18, 19, 1, 22, 24, 27, 24, 25, 25, 26, 35, 25, 25, 36, 26, 23, 32, 16, 23, 24, 20, 19, 4, 3, 25, 46, 13, 29, 28]}, {\"boxpoints\": \"all\", \"marker\": {\"color\": \"rgb(255, 0, 238)\"}, \"name\": \"T-Mobile\", \"showlegend\": false, \"type\": \"box\", \"x\": [\"T-Mobile\", \"T-Mobile\", \"T-Mobile\", \"T-Mobile\", \"T-Mobile\", \"T-Mobile\", \"T-Mobile\", \"T-Mobile\", \"T-Mobile\", \"T-Mobile\", \"T-Mobile\", \"T-Mobile\", \"T-Mobile\", \"T-Mobile\", \"T-Mobile\", \"T-Mobile\", \"T-Mobile\", \"T-Mobile\", \"T-Mobile\", \"T-Mobile\", \"T-Mobile\", \"T-Mobile\", \"T-Mobile\", \"T-Mobile\", \"T-Mobile\", \"T-Mobile\", \"T-Mobile\", \"T-Mobile\", \"T-Mobile\", \"T-Mobile\", \"T-Mobile\", \"T-Mobile\", \"T-Mobile\", \"T-Mobile\", \"T-Mobile\", \"T-Mobile\", \"T-Mobile\", \"T-Mobile\", \"T-Mobile\", \"T-Mobile\", \"T-Mobile\", \"T-Mobile\", \"T-Mobile\", \"T-Mobile\", \"T-Mobile\", \"T-Mobile\", \"T-Mobile\", \"T-Mobile\", \"T-Mobile\", \"T-Mobile\", \"T-Mobile\", \"T-Mobile\", \"T-Mobile\"], \"y\": [35, 19, 31, 23, 27, 20, 24, 16, 9, 14, 21, 11, 11, 11, 14, 11, 10, 10, 20, 14, 21, 15, 18, 11, 15, 18, 13, 19, 19, 23, 33, 26, 14, 19, 18, 15, 22, 16, 12, 13, 18, 24, 15, 9, 30, 21, 18, 3, 27, 13, 12, 21, 22]}, {\"boxpoints\": \"all\", \"marker\": {\"color\": \"rgb(255, 21, 0)\"}, \"name\": \"Verizon\", \"showlegend\": false, \"type\": \"box\", \"x\": [\"Verizon\", \"Verizon\", \"Verizon\", \"Verizon\", \"Verizon\", \"Verizon\", \"Verizon\", \"Verizon\", \"Verizon\", \"Verizon\", \"Verizon\", \"Verizon\", \"Verizon\", \"Verizon\", \"Verizon\", \"Verizon\", \"Verizon\", \"Verizon\", \"Verizon\", \"Verizon\", \"Verizon\", \"Verizon\", \"Verizon\", \"Verizon\", \"Verizon\", \"Verizon\", \"Verizon\", \"Verizon\", \"Verizon\", \"Verizon\", \"Verizon\", \"Verizon\", \"Verizon\", \"Verizon\", \"Verizon\", \"Verizon\", \"Verizon\", \"Verizon\", \"Verizon\", \"Verizon\", \"Verizon\", \"Verizon\", \"Verizon\", \"Verizon\", \"Verizon\", \"Verizon\", \"Verizon\", \"Verizon\", \"Verizon\", \"Verizon\", \"Verizon\", \"Verizon\", \"Verizon\", \"Verizon\", \"Verizon\", \"Verizon\", \"Verizon\", \"Verizon\", \"Verizon\", \"Verizon\"], \"y\": [31, 39, 37, 25, 25, 46, 23, 13, 3, 5, 64, 0, 22, 26, 11, 11, 31, 56, 11, 37, 4, 19, 42, 27, 33, 21, 26, 27, 13, 23, 33, 39, 42, 18, 31, 40, 13, 9, 21, 36, 6, 17, 16, 33, 70, -2, -5, 2, 13, 22, 2, 22, 7, 0, 22, 11, -1, 15, 9, 8]}],\n",
       "                        {\"font\": {\"size\": 20}, \"plot_bgcolor\": \"rgba(0,0,0,0)\", \"template\": {\"data\": {\"bar\": [{\"error_x\": {\"color\": \"#2a3f5f\"}, \"error_y\": {\"color\": \"#2a3f5f\"}, \"marker\": {\"line\": {\"color\": \"#E5ECF6\", \"width\": 0.5}}, \"type\": \"bar\"}], \"barpolar\": [{\"marker\": {\"line\": {\"color\": \"#E5ECF6\", \"width\": 0.5}}, \"type\": \"barpolar\"}], \"carpet\": [{\"aaxis\": {\"endlinecolor\": \"#2a3f5f\", \"gridcolor\": \"white\", \"linecolor\": \"white\", \"minorgridcolor\": \"white\", \"startlinecolor\": \"#2a3f5f\"}, \"baxis\": {\"endlinecolor\": \"#2a3f5f\", \"gridcolor\": \"white\", \"linecolor\": \"white\", \"minorgridcolor\": \"white\", \"startlinecolor\": \"#2a3f5f\"}, \"type\": \"carpet\"}], \"choropleth\": [{\"colorbar\": {\"outlinewidth\": 0, \"ticks\": \"\"}, \"type\": \"choropleth\"}], \"contour\": [{\"colorbar\": {\"outlinewidth\": 0, \"ticks\": \"\"}, \"colorscale\": [[0.0, \"#0d0887\"], [0.1111111111111111, \"#46039f\"], [0.2222222222222222, \"#7201a8\"], [0.3333333333333333, \"#9c179e\"], [0.4444444444444444, \"#bd3786\"], [0.5555555555555556, \"#d8576b\"], [0.6666666666666666, \"#ed7953\"], [0.7777777777777778, \"#fb9f3a\"], [0.8888888888888888, \"#fdca26\"], [1.0, \"#f0f921\"]], \"type\": \"contour\"}], \"contourcarpet\": [{\"colorbar\": {\"outlinewidth\": 0, \"ticks\": \"\"}, \"type\": \"contourcarpet\"}], \"heatmap\": [{\"colorbar\": {\"outlinewidth\": 0, \"ticks\": \"\"}, \"colorscale\": [[0.0, \"#0d0887\"], [0.1111111111111111, \"#46039f\"], [0.2222222222222222, \"#7201a8\"], [0.3333333333333333, \"#9c179e\"], [0.4444444444444444, \"#bd3786\"], [0.5555555555555556, \"#d8576b\"], [0.6666666666666666, \"#ed7953\"], [0.7777777777777778, \"#fb9f3a\"], [0.8888888888888888, \"#fdca26\"], [1.0, \"#f0f921\"]], \"type\": \"heatmap\"}], \"heatmapgl\": [{\"colorbar\": {\"outlinewidth\": 0, \"ticks\": \"\"}, \"colorscale\": [[0.0, \"#0d0887\"], [0.1111111111111111, \"#46039f\"], [0.2222222222222222, \"#7201a8\"], [0.3333333333333333, \"#9c179e\"], [0.4444444444444444, \"#bd3786\"], [0.5555555555555556, \"#d8576b\"], [0.6666666666666666, \"#ed7953\"], [0.7777777777777778, \"#fb9f3a\"], [0.8888888888888888, \"#fdca26\"], [1.0, \"#f0f921\"]], \"type\": \"heatmapgl\"}], \"histogram\": [{\"marker\": {\"colorbar\": {\"outlinewidth\": 0, \"ticks\": \"\"}}, \"type\": \"histogram\"}], \"histogram2d\": [{\"colorbar\": {\"outlinewidth\": 0, \"ticks\": \"\"}, \"colorscale\": [[0.0, \"#0d0887\"], [0.1111111111111111, \"#46039f\"], [0.2222222222222222, \"#7201a8\"], [0.3333333333333333, \"#9c179e\"], [0.4444444444444444, \"#bd3786\"], [0.5555555555555556, \"#d8576b\"], [0.6666666666666666, \"#ed7953\"], [0.7777777777777778, \"#fb9f3a\"], [0.8888888888888888, \"#fdca26\"], [1.0, \"#f0f921\"]], \"type\": \"histogram2d\"}], \"histogram2dcontour\": [{\"colorbar\": {\"outlinewidth\": 0, \"ticks\": \"\"}, \"colorscale\": [[0.0, \"#0d0887\"], [0.1111111111111111, \"#46039f\"], [0.2222222222222222, \"#7201a8\"], [0.3333333333333333, \"#9c179e\"], [0.4444444444444444, \"#bd3786\"], [0.5555555555555556, \"#d8576b\"], [0.6666666666666666, \"#ed7953\"], [0.7777777777777778, \"#fb9f3a\"], [0.8888888888888888, \"#fdca26\"], [1.0, \"#f0f921\"]], \"type\": \"histogram2dcontour\"}], \"mesh3d\": [{\"colorbar\": {\"outlinewidth\": 0, \"ticks\": \"\"}, \"type\": \"mesh3d\"}], \"parcoords\": [{\"line\": {\"colorbar\": {\"outlinewidth\": 0, \"ticks\": \"\"}}, \"type\": \"parcoords\"}], \"pie\": [{\"automargin\": true, \"type\": \"pie\"}], \"scatter\": [{\"marker\": {\"colorbar\": {\"outlinewidth\": 0, \"ticks\": \"\"}}, \"type\": \"scatter\"}], \"scatter3d\": [{\"line\": {\"colorbar\": {\"outlinewidth\": 0, \"ticks\": \"\"}}, \"marker\": {\"colorbar\": {\"outlinewidth\": 0, \"ticks\": \"\"}}, \"type\": \"scatter3d\"}], \"scattercarpet\": [{\"marker\": {\"colorbar\": {\"outlinewidth\": 0, \"ticks\": \"\"}}, \"type\": \"scattercarpet\"}], \"scattergeo\": [{\"marker\": {\"colorbar\": {\"outlinewidth\": 0, \"ticks\": \"\"}}, \"type\": \"scattergeo\"}], \"scattergl\": [{\"marker\": {\"colorbar\": {\"outlinewidth\": 0, \"ticks\": \"\"}}, \"type\": \"scattergl\"}], \"scattermapbox\": [{\"marker\": {\"colorbar\": {\"outlinewidth\": 0, \"ticks\": \"\"}}, \"type\": \"scattermapbox\"}], \"scatterpolar\": [{\"marker\": {\"colorbar\": {\"outlinewidth\": 0, \"ticks\": \"\"}}, \"type\": \"scatterpolar\"}], \"scatterpolargl\": [{\"marker\": {\"colorbar\": {\"outlinewidth\": 0, \"ticks\": \"\"}}, \"type\": \"scatterpolargl\"}], \"scatterternary\": [{\"marker\": {\"colorbar\": {\"outlinewidth\": 0, \"ticks\": \"\"}}, \"type\": \"scatterternary\"}], \"surface\": [{\"colorbar\": {\"outlinewidth\": 0, \"ticks\": \"\"}, \"colorscale\": [[0.0, \"#0d0887\"], [0.1111111111111111, \"#46039f\"], [0.2222222222222222, \"#7201a8\"], [0.3333333333333333, \"#9c179e\"], [0.4444444444444444, \"#bd3786\"], [0.5555555555555556, \"#d8576b\"], [0.6666666666666666, \"#ed7953\"], [0.7777777777777778, \"#fb9f3a\"], [0.8888888888888888, \"#fdca26\"], [1.0, \"#f0f921\"]], \"type\": \"surface\"}], \"table\": [{\"cells\": {\"fill\": {\"color\": \"#EBF0F8\"}, \"line\": {\"color\": \"white\"}}, \"header\": {\"fill\": {\"color\": \"#C8D4E3\"}, \"line\": {\"color\": \"white\"}}, \"type\": \"table\"}]}, \"layout\": {\"annotationdefaults\": {\"arrowcolor\": \"#2a3f5f\", \"arrowhead\": 0, \"arrowwidth\": 1}, \"coloraxis\": {\"colorbar\": {\"outlinewidth\": 0, \"ticks\": \"\"}}, \"colorscale\": {\"diverging\": [[0, \"#8e0152\"], [0.1, \"#c51b7d\"], [0.2, \"#de77ae\"], [0.3, \"#f1b6da\"], [0.4, \"#fde0ef\"], [0.5, \"#f7f7f7\"], [0.6, \"#e6f5d0\"], [0.7, \"#b8e186\"], [0.8, \"#7fbc41\"], [0.9, \"#4d9221\"], [1, \"#276419\"]], \"sequential\": [[0.0, \"#0d0887\"], [0.1111111111111111, \"#46039f\"], [0.2222222222222222, \"#7201a8\"], [0.3333333333333333, \"#9c179e\"], [0.4444444444444444, \"#bd3786\"], [0.5555555555555556, \"#d8576b\"], [0.6666666666666666, \"#ed7953\"], [0.7777777777777778, \"#fb9f3a\"], [0.8888888888888888, \"#fdca26\"], [1.0, \"#f0f921\"]], \"sequentialminus\": [[0.0, \"#0d0887\"], [0.1111111111111111, \"#46039f\"], [0.2222222222222222, \"#7201a8\"], [0.3333333333333333, \"#9c179e\"], [0.4444444444444444, \"#bd3786\"], [0.5555555555555556, \"#d8576b\"], [0.6666666666666666, \"#ed7953\"], [0.7777777777777778, \"#fb9f3a\"], [0.8888888888888888, \"#fdca26\"], [1.0, \"#f0f921\"]]}, \"colorway\": [\"#636efa\", \"#EF553B\", \"#00cc96\", \"#ab63fa\", \"#FFA15A\", \"#19d3f3\", \"#FF6692\", \"#B6E880\", \"#FF97FF\", \"#FECB52\"], \"font\": {\"color\": \"#2a3f5f\"}, \"geo\": {\"bgcolor\": \"white\", \"lakecolor\": \"white\", \"landcolor\": \"#E5ECF6\", \"showlakes\": true, \"showland\": true, \"subunitcolor\": \"white\"}, \"hoverlabel\": {\"align\": \"left\"}, \"hovermode\": \"closest\", \"mapbox\": {\"style\": \"light\"}, \"paper_bgcolor\": \"white\", \"plot_bgcolor\": \"#E5ECF6\", \"polar\": {\"angularaxis\": {\"gridcolor\": \"white\", \"linecolor\": \"white\", \"ticks\": \"\"}, \"bgcolor\": \"#E5ECF6\", \"radialaxis\": {\"gridcolor\": \"white\", \"linecolor\": \"white\", \"ticks\": \"\"}}, \"scene\": {\"xaxis\": {\"backgroundcolor\": \"#E5ECF6\", \"gridcolor\": \"white\", \"gridwidth\": 2, \"linecolor\": \"white\", \"showbackground\": true, \"ticks\": \"\", \"zerolinecolor\": \"white\"}, \"yaxis\": {\"backgroundcolor\": \"#E5ECF6\", \"gridcolor\": \"white\", \"gridwidth\": 2, \"linecolor\": \"white\", \"showbackground\": true, \"ticks\": \"\", \"zerolinecolor\": \"white\"}, \"zaxis\": {\"backgroundcolor\": \"#E5ECF6\", \"gridcolor\": \"white\", \"gridwidth\": 2, \"linecolor\": \"white\", \"showbackground\": true, \"ticks\": \"\", \"zerolinecolor\": \"white\"}}, \"shapedefaults\": {\"line\": {\"color\": \"#2a3f5f\"}}, \"ternary\": {\"aaxis\": {\"gridcolor\": \"white\", \"linecolor\": \"white\", \"ticks\": \"\"}, \"baxis\": {\"gridcolor\": \"white\", \"linecolor\": \"white\", \"ticks\": \"\"}, \"bgcolor\": \"#E5ECF6\", \"caxis\": {\"gridcolor\": \"white\", \"linecolor\": \"white\", \"ticks\": \"\"}}, \"title\": {\"x\": 0.05}, \"xaxis\": {\"automargin\": true, \"gridcolor\": \"white\", \"linecolor\": \"white\", \"ticks\": \"\", \"title\": {\"standoff\": 15}, \"zerolinecolor\": \"white\", \"zerolinewidth\": 2}, \"yaxis\": {\"automargin\": true, \"gridcolor\": \"white\", \"linecolor\": \"white\", \"ticks\": \"\", \"title\": {\"standoff\": 15}, \"zerolinecolor\": \"white\", \"zerolinewidth\": 2}}}, \"yaxis\": {\"gridcolor\": \"rgb(219, 219, 219)\", \"showgrid\": true, \"title\": {\"text\": \"Days\"}}},\n",
       "                        {\"responsive\": true}\n",
       "                    ).then(function(){\n",
       "                            \n",
       "var gd = document.getElementById('b09b26b6-eb9f-427a-aa4c-24f18f31408f');\n",
       "var x = new MutationObserver(function (mutations, observer) {{\n",
       "        var display = window.getComputedStyle(gd).display;\n",
       "        if (!display || display === 'none') {{\n",
       "            console.log([gd, 'removed!']);\n",
       "            Plotly.purge(gd);\n",
       "            observer.disconnect();\n",
       "        }}\n",
       "}});\n",
       "\n",
       "// Listen for the removal of the full notebook cells\n",
       "var notebookContainer = gd.closest('#notebook-container');\n",
       "if (notebookContainer) {{\n",
       "    x.observe(notebookContainer, {childList: true});\n",
       "}}\n",
       "\n",
       "// Listen for the clearing of the current output cell\n",
       "var outputEl = gd.closest('.output');\n",
       "if (outputEl) {{\n",
       "    x.observe(outputEl, {childList: true});\n",
       "}}\n",
       "\n",
       "                        })\n",
       "                };\n",
       "                });\n",
       "            </script>\n",
       "        </div>"
      ]
     },
     "metadata": {},
     "output_type": "display_data"
    }
   ],
   "source": [
    "# Graph overall latency for each carrier\n",
    "print(statistics.mean(carrierDF.difference))\n",
    "print(statistics.median(carrierDF.difference))\n",
    "\n",
    "uniqueCarrier=carrierDF.Carrier.unique()\n",
    "\n",
    "# Average each update for one bulletin\n",
    "perCar=[[] for _ in uniqueCarrier]\n",
    "perUpdate=[[] for _ in uniqueCarrier]\n",
    "\n",
    "for bul in carrierDF.Bulletin_Level.unique():\n",
    "    tmp=carrierDF[carrierDF.Bulletin_Level==bul]\n",
    "    for index,car in enumerate(uniqueCarrier):\n",
    "        tmp2=tmp[tmp.Carrier==car]\n",
    "        if len(tmp2.difference)>1:\n",
    "            newItem=statistics.mean(tmp2.difference.values)\n",
    "            perUpdate[index].append(newItem)\n",
    "            perCar[index].append(car)\n",
    "        elif len(tmp2.difference)==1:\n",
    "            newItem=tmp2.difference.values[0]\n",
    "            perUpdate[index].append(newItem)\n",
    "            perCar[index].append(car)\n",
    "\n",
    "\n",
    "\n",
    "data=[]\n",
    "for index,car in enumerate(uniqueCarrier):\n",
    "    print(car)\n",
    "    print(statistics.mean(perUpdate[index]))\n",
    "    print(statistics.median(perUpdate[index]))\n",
    "    data.append(go.Box(\n",
    "        x=perCar[index],\n",
    "        y=perUpdate[index],\n",
    "        name=str(car),\n",
    "        marker=dict(color='rgb'+str(lvlColor[car])),\n",
    "        showlegend=False,\n",
    "        boxpoints = 'all',\n",
    "    )) \n",
    "\n",
    "# Edit the layout\n",
    "layout = dict(#title = \"Update Latency across Carriers\",\n",
    "              #xaxis = dict(title = 'Carriers'),\n",
    "              yaxis = dict(title = 'Days',showgrid=True, gridcolor='rgb(219, 219, 219)'),\n",
    "              plot_bgcolor='rgba(0,0,0,0)',\n",
    "              font=dict(size=20)\n",
    "        )\n",
    "\n",
    "fig = dict(data=data, layout=layout)\n",
    "py.offline.iplot(fig)\n",
    "\n",
    "# pio.write_image(fig, 'avg-patch-delay-by-carrier-per-bulletin.pdf', width=1000, height=600)\n"
   ]
  },
  {
   "cell_type": "code",
   "execution_count": 5,
   "metadata": {
    "scrolled": false
   },
   "outputs": [
    {
     "name": "stdout",
     "output_type": "stream",
     "text": [
      "Number of Matching Models: 20\n",
      "LG\n",
      "29.863636363636363\n",
      "21.289473684210527\n",
      "21.0625\n",
      "36.53333333333333\n",
      "\n",
      "Samsung\n",
      "28.14814814814815\n",
      "17.24607329842932\n",
      "25.015267175572518\n",
      "24.05\n",
      "\n",
      "HTC\n",
      "30.0\n",
      "16.333333333333332\n",
      "29.0\n",
      "78.0\n",
      "\n",
      "Motorola\n",
      "35.125\n",
      "17.142857142857142\n",
      "47.0\n",
      "48.25\n",
      "\n",
      "NUMBER OF POINTS FOR SAMSUNG\n",
      "AT&T: 162\n",
      "Verizon: 80\n",
      "Sprint: 131\n",
      "T-Mobile: 191\n"
     ]
    },
    {
     "data": {
      "application/vnd.plotly.v1+json": {
       "config": {
        "linkText": "Export to plot.ly",
        "plotlyServerURL": "https://plot.ly",
        "showLink": false
       },
       "data": [
        {
         "marker": {
          "color": "rgb(64, 190, 245)"
         },
         "name": "AT&T",
         "type": "box",
         "x": [
          "HTC",
          "HTC",
          "HTC",
          "HTC",
          "HTC",
          "LG",
          "LG",
          "LG",
          "LG",
          "LG",
          "LG",
          "LG",
          "LG",
          "LG",
          "LG",
          "LG",
          "LG",
          "LG",
          "LG",
          "LG",
          "LG",
          "LG",
          "LG",
          "LG",
          "LG",
          "LG",
          "LG",
          "Motorola",
          "Motorola",
          "Motorola",
          "Motorola",
          "Motorola",
          "Motorola",
          "Motorola",
          "Motorola",
          "Samsung",
          "Samsung",
          "Samsung",
          "Samsung",
          "Samsung",
          "Samsung",
          "Samsung",
          "Samsung",
          "Samsung",
          "Samsung",
          "Samsung",
          "Samsung",
          "Samsung",
          "Samsung",
          "Samsung",
          "Samsung",
          "Samsung",
          "Samsung",
          "Samsung",
          "Samsung",
          "Samsung",
          "Samsung",
          "Samsung",
          "Samsung",
          "Samsung",
          "Samsung",
          "Samsung",
          "Samsung",
          "Samsung",
          "Samsung",
          "Samsung",
          "Samsung",
          "Samsung",
          "Samsung",
          "Samsung",
          "Samsung",
          "Samsung",
          "Samsung",
          "Samsung",
          "Samsung",
          "Samsung",
          "Samsung",
          "Samsung",
          "Samsung",
          "Samsung",
          "Samsung",
          "Samsung",
          "Samsung",
          "Samsung",
          "Samsung",
          "Samsung",
          "Samsung",
          "Samsung",
          "Samsung",
          "Samsung",
          "Samsung",
          "Samsung",
          "Samsung",
          "Samsung",
          "Samsung",
          "Samsung",
          "Samsung",
          "Samsung",
          "Samsung",
          "Samsung",
          "Samsung",
          "Samsung",
          "Samsung",
          "Samsung",
          "Samsung",
          "Samsung",
          "Samsung",
          "Samsung",
          "Samsung",
          "Samsung",
          "Samsung",
          "Samsung",
          "Samsung",
          "Samsung",
          "Samsung",
          "Samsung",
          "Samsung",
          "Samsung",
          "Samsung",
          "Samsung",
          "Samsung",
          "Samsung",
          "Samsung",
          "Samsung",
          "Samsung",
          "Samsung",
          "Samsung",
          "Samsung",
          "Samsung",
          "Samsung",
          "Samsung",
          "Samsung",
          "Samsung",
          "Samsung",
          "Samsung",
          "Samsung",
          "Samsung",
          "Samsung",
          "Samsung",
          "Samsung",
          "Samsung",
          "Samsung",
          "Samsung",
          "Samsung",
          "Samsung",
          "Samsung",
          "Samsung",
          "Samsung",
          "Samsung",
          "Samsung",
          "Samsung",
          "Samsung",
          "Samsung",
          "Samsung",
          "Samsung",
          "Samsung",
          "Samsung",
          "Samsung",
          "Samsung",
          "Samsung",
          "Samsung",
          "Samsung",
          "Samsung",
          "Samsung",
          "Samsung",
          "Samsung",
          "Samsung",
          "Samsung",
          "Samsung",
          "Samsung",
          "Samsung",
          "Samsung",
          "Samsung",
          "Samsung",
          "Samsung",
          "Samsung",
          "Samsung",
          "Samsung",
          "Samsung",
          "Samsung",
          "Samsung",
          "Samsung",
          "Samsung",
          "Samsung",
          "Samsung",
          "Samsung",
          "Samsung",
          "Samsung",
          "Samsung",
          "Samsung",
          "Samsung",
          "Samsung",
          "Samsung",
          "Samsung",
          "Samsung",
          "Samsung",
          "Samsung"
         ],
         "y": [
          18,
          42,
          35,
          27,
          28,
          4,
          29,
          50,
          22,
          60,
          50,
          41,
          33,
          34,
          35,
          26,
          21,
          25,
          32,
          16,
          7,
          16,
          40,
          9,
          13,
          64,
          30,
          31,
          0,
          30,
          41,
          50,
          44,
          38,
          47,
          17,
          18,
          25,
          37,
          42,
          31,
          37,
          26,
          25,
          21,
          19,
          14,
          24,
          19,
          25,
          28,
          46,
          38,
          37,
          41,
          26,
          24,
          26,
          30,
          24,
          37,
          41,
          27,
          32,
          36,
          26,
          36,
          24,
          55,
          24,
          44,
          33,
          27,
          25,
          36,
          26,
          44,
          28,
          25,
          22,
          30,
          31,
          22,
          27,
          20,
          29,
          32,
          27,
          29,
          22,
          23,
          21,
          10,
          18,
          25,
          31,
          37,
          23,
          50,
          29,
          25,
          21,
          42,
          38,
          37,
          29,
          32,
          24,
          22,
          24,
          24,
          39,
          20,
          25,
          33,
          23,
          50,
          29,
          25,
          21,
          42,
          31,
          26,
          32,
          24,
          22,
          24,
          24,
          39,
          20,
          25,
          17,
          17,
          11,
          16,
          24,
          25,
          38,
          17,
          16,
          26,
          39,
          22,
          35,
          38,
          27,
          25,
          37,
          28,
          20,
          43,
          21,
          19,
          20,
          38,
          37,
          26,
          36,
          30,
          38,
          22,
          18,
          15,
          29,
          24,
          25,
          34,
          30,
          27,
          32,
          27,
          37,
          20,
          43,
          21,
          19,
          20,
          38,
          37,
          26,
          36,
          30,
          38,
          22,
          18,
          15,
          29,
          24,
          25,
          34,
          30,
          27,
          32,
          27,
          37,
          15,
          15
         ]
        },
        {
         "marker": {
          "color": "rgb(255, 0, 238)"
         },
         "name": "T-Mobile",
         "type": "box",
         "x": [
          "HTC",
          "HTC",
          "HTC",
          "HTC",
          "HTC",
          "HTC",
          "LG",
          "LG",
          "LG",
          "LG",
          "LG",
          "LG",
          "LG",
          "LG",
          "LG",
          "LG",
          "LG",
          "LG",
          "LG",
          "LG",
          "LG",
          "LG",
          "LG",
          "LG",
          "LG",
          "LG",
          "LG",
          "LG",
          "LG",
          "LG",
          "LG",
          "LG",
          "LG",
          "LG",
          "LG",
          "LG",
          "LG",
          "LG",
          "LG",
          "LG",
          "LG",
          "LG",
          "LG",
          "LG",
          "Motorola",
          "Motorola",
          "Motorola",
          "Motorola",
          "Motorola",
          "Motorola",
          "Motorola",
          "Samsung",
          "Samsung",
          "Samsung",
          "Samsung",
          "Samsung",
          "Samsung",
          "Samsung",
          "Samsung",
          "Samsung",
          "Samsung",
          "Samsung",
          "Samsung",
          "Samsung",
          "Samsung",
          "Samsung",
          "Samsung",
          "Samsung",
          "Samsung",
          "Samsung",
          "Samsung",
          "Samsung",
          "Samsung",
          "Samsung",
          "Samsung",
          "Samsung",
          "Samsung",
          "Samsung",
          "Samsung",
          "Samsung",
          "Samsung",
          "Samsung",
          "Samsung",
          "Samsung",
          "Samsung",
          "Samsung",
          "Samsung",
          "Samsung",
          "Samsung",
          "Samsung",
          "Samsung",
          "Samsung",
          "Samsung",
          "Samsung",
          "Samsung",
          "Samsung",
          "Samsung",
          "Samsung",
          "Samsung",
          "Samsung",
          "Samsung",
          "Samsung",
          "Samsung",
          "Samsung",
          "Samsung",
          "Samsung",
          "Samsung",
          "Samsung",
          "Samsung",
          "Samsung",
          "Samsung",
          "Samsung",
          "Samsung",
          "Samsung",
          "Samsung",
          "Samsung",
          "Samsung",
          "Samsung",
          "Samsung",
          "Samsung",
          "Samsung",
          "Samsung",
          "Samsung",
          "Samsung",
          "Samsung",
          "Samsung",
          "Samsung",
          "Samsung",
          "Samsung",
          "Samsung",
          "Samsung",
          "Samsung",
          "Samsung",
          "Samsung",
          "Samsung",
          "Samsung",
          "Samsung",
          "Samsung",
          "Samsung",
          "Samsung",
          "Samsung",
          "Samsung",
          "Samsung",
          "Samsung",
          "Samsung",
          "Samsung",
          "Samsung",
          "Samsung",
          "Samsung",
          "Samsung",
          "Samsung",
          "Samsung",
          "Samsung",
          "Samsung",
          "Samsung",
          "Samsung",
          "Samsung",
          "Samsung",
          "Samsung",
          "Samsung",
          "Samsung",
          "Samsung",
          "Samsung",
          "Samsung",
          "Samsung",
          "Samsung",
          "Samsung",
          "Samsung",
          "Samsung",
          "Samsung",
          "Samsung",
          "Samsung",
          "Samsung",
          "Samsung",
          "Samsung",
          "Samsung",
          "Samsung",
          "Samsung",
          "Samsung",
          "Samsung",
          "Samsung",
          "Samsung",
          "Samsung",
          "Samsung",
          "Samsung",
          "Samsung",
          "Samsung",
          "Samsung",
          "Samsung",
          "Samsung",
          "Samsung",
          "Samsung",
          "Samsung",
          "Samsung",
          "Samsung",
          "Samsung",
          "Samsung",
          "Samsung",
          "Samsung",
          "Samsung",
          "Samsung",
          "Samsung",
          "Samsung",
          "Samsung",
          "Samsung",
          "Samsung",
          "Samsung",
          "Samsung",
          "Samsung",
          "Samsung",
          "Samsung",
          "Samsung",
          "Samsung",
          "Samsung",
          "Samsung",
          "Samsung",
          "Samsung",
          "Samsung",
          "Samsung",
          "Samsung",
          "Samsung",
          "Samsung",
          "Samsung",
          "Samsung",
          "Samsung",
          "Samsung",
          "Samsung",
          "Samsung",
          "Samsung",
          "Samsung",
          "Samsung",
          "Samsung",
          "Samsung",
          "Samsung",
          "Samsung",
          "Samsung",
          "Samsung",
          "Samsung",
          "Samsung",
          "Samsung",
          "Samsung",
          "Samsung"
         ],
         "y": [
          26,
          14,
          24,
          15,
          8,
          11,
          25,
          17,
          29,
          28,
          15,
          25,
          20,
          5,
          1,
          19,
          19,
          23,
          5,
          13,
          22,
          4,
          19,
          5,
          7,
          17,
          27,
          77,
          31,
          28,
          23,
          26,
          34,
          15,
          23,
          5,
          26,
          3,
          29,
          31,
          35,
          26,
          24,
          28,
          11,
          20,
          21,
          4,
          27,
          13,
          24,
          35,
          23,
          5,
          27,
          22,
          51,
          29,
          26,
          8,
          28,
          25,
          28,
          22,
          47,
          4,
          12,
          30,
          32,
          47,
          1,
          0,
          12,
          16,
          11,
          6,
          34,
          -1,
          3,
          19,
          18,
          -1,
          7,
          -1,
          22,
          19,
          20,
          22,
          26,
          25,
          13,
          14,
          19,
          -1,
          -1,
          11,
          5,
          3,
          20,
          25,
          16,
          30,
          10,
          18,
          42,
          20,
          -1,
          17,
          22,
          20,
          40,
          16,
          34,
          23,
          6,
          8,
          0,
          12,
          9,
          21,
          16,
          32,
          43,
          0,
          4,
          8,
          14,
          12,
          9,
          25,
          22,
          28,
          35,
          0,
          3,
          16,
          20,
          22,
          23,
          8,
          14,
          12,
          9,
          25,
          22,
          28,
          35,
          0,
          3,
          16,
          20,
          -1,
          22,
          23,
          20,
          15,
          2,
          2,
          6,
          25,
          3,
          18,
          18,
          24,
          27,
          22,
          12,
          15,
          19,
          17,
          10,
          60,
          24,
          14,
          26,
          31,
          24,
          15,
          2,
          6,
          25,
          3,
          18,
          18,
          24,
          27,
          22,
          12,
          15,
          19,
          17,
          10,
          60,
          24,
          14,
          26,
          31,
          24,
          18,
          -1,
          4,
          6,
          68,
          19,
          13,
          18,
          -1,
          6,
          68,
          19,
          13,
          11,
          19,
          6,
          15,
          19,
          2,
          14,
          11,
          19,
          17,
          10,
          -1,
          32,
          11,
          8,
          14,
          11,
          19,
          6,
          15,
          19,
          2,
          14,
          11,
          19,
          17,
          10,
          -1,
          32,
          11,
          8
         ]
        },
        {
         "marker": {
          "color": "rgb(255, 162, 0)"
         },
         "name": "Sprint",
         "type": "box",
         "x": [
          "HTC",
          "LG",
          "LG",
          "LG",
          "LG",
          "LG",
          "LG",
          "LG",
          "LG",
          "LG",
          "LG",
          "LG",
          "LG",
          "LG",
          "LG",
          "LG",
          "LG",
          "Motorola",
          "Motorola",
          "Samsung",
          "Samsung",
          "Samsung",
          "Samsung",
          "Samsung",
          "Samsung",
          "Samsung",
          "Samsung",
          "Samsung",
          "Samsung",
          "Samsung",
          "Samsung",
          "Samsung",
          "Samsung",
          "Samsung",
          "Samsung",
          "Samsung",
          "Samsung",
          "Samsung",
          "Samsung",
          "Samsung",
          "Samsung",
          "Samsung",
          "Samsung",
          "Samsung",
          "Samsung",
          "Samsung",
          "Samsung",
          "Samsung",
          "Samsung",
          "Samsung",
          "Samsung",
          "Samsung",
          "Samsung",
          "Samsung",
          "Samsung",
          "Samsung",
          "Samsung",
          "Samsung",
          "Samsung",
          "Samsung",
          "Samsung",
          "Samsung",
          "Samsung",
          "Samsung",
          "Samsung",
          "Samsung",
          "Samsung",
          "Samsung",
          "Samsung",
          "Samsung",
          "Samsung",
          "Samsung",
          "Samsung",
          "Samsung",
          "Samsung",
          "Samsung",
          "Samsung",
          "Samsung",
          "Samsung",
          "Samsung",
          "Samsung",
          "Samsung",
          "Samsung",
          "Samsung",
          "Samsung",
          "Samsung",
          "Samsung",
          "Samsung",
          "Samsung",
          "Samsung",
          "Samsung",
          "Samsung",
          "Samsung",
          "Samsung",
          "Samsung",
          "Samsung",
          "Samsung",
          "Samsung",
          "Samsung",
          "Samsung",
          "Samsung",
          "Samsung",
          "Samsung",
          "Samsung",
          "Samsung",
          "Samsung",
          "Samsung",
          "Samsung",
          "Samsung",
          "Samsung",
          "Samsung",
          "Samsung",
          "Samsung",
          "Samsung",
          "Samsung",
          "Samsung",
          "Samsung",
          "Samsung",
          "Samsung",
          "Samsung",
          "Samsung",
          "Samsung",
          "Samsung",
          "Samsung",
          "Samsung",
          "Samsung",
          "Samsung",
          "Samsung",
          "Samsung",
          "Samsung",
          "Samsung",
          "Samsung",
          "Samsung",
          "Samsung",
          "Samsung",
          "Samsung",
          "Samsung",
          "Samsung",
          "Samsung",
          "Samsung",
          "Samsung",
          "Samsung",
          "Samsung",
          "Samsung",
          "Samsung",
          "Samsung",
          "Samsung",
          "Samsung",
          "Samsung",
          "Samsung"
         ],
         "y": [
          29,
          0,
          26,
          25,
          1,
          19,
          21,
          27,
          43,
          28,
          4,
          31,
          13,
          3,
          35,
          33,
          28,
          44,
          50,
          8,
          0,
          54,
          40,
          25,
          28,
          36,
          5,
          19,
          29,
          34,
          26,
          19,
          25,
          25,
          29,
          5,
          22,
          17,
          17,
          12,
          4,
          3,
          22,
          21,
          25,
          21,
          13,
          27,
          25,
          28,
          42,
          22,
          18,
          15,
          26,
          30,
          20,
          17,
          29,
          17,
          27,
          13,
          38,
          33,
          30,
          15,
          46,
          25,
          5,
          14,
          27,
          25,
          2,
          17,
          17,
          25,
          26,
          42,
          25,
          24,
          38,
          2,
          17,
          17,
          25,
          26,
          24,
          42,
          25,
          38,
          25,
          19,
          12,
          33,
          24,
          66,
          16,
          36,
          27,
          24,
          18,
          22,
          23,
          55,
          47,
          25,
          19,
          1,
          42,
          32,
          66,
          16,
          36,
          27,
          24,
          18,
          22,
          23,
          55,
          47,
          3,
          49,
          22,
          35,
          31,
          26,
          17,
          29,
          36,
          22,
          31,
          17,
          29,
          47,
          34,
          19,
          35,
          18,
          17,
          15,
          25,
          37,
          15,
          34,
          19,
          18,
          15,
          25,
          15,
          12
         ]
        },
        {
         "marker": {
          "color": "rgb(255, 21, 0)"
         },
         "name": "Verizon",
         "type": "box",
         "x": [
          "HTC",
          "LG",
          "LG",
          "LG",
          "LG",
          "LG",
          "LG",
          "LG",
          "LG",
          "LG",
          "LG",
          "LG",
          "LG",
          "LG",
          "LG",
          "LG",
          "Motorola",
          "Motorola",
          "Motorola",
          "Motorola",
          "Samsung",
          "Samsung",
          "Samsung",
          "Samsung",
          "Samsung",
          "Samsung",
          "Samsung",
          "Samsung",
          "Samsung",
          "Samsung",
          "Samsung",
          "Samsung",
          "Samsung",
          "Samsung",
          "Samsung",
          "Samsung",
          "Samsung",
          "Samsung",
          "Samsung",
          "Samsung",
          "Samsung",
          "Samsung",
          "Samsung",
          "Samsung",
          "Samsung",
          "Samsung",
          "Samsung",
          "Samsung",
          "Samsung",
          "Samsung",
          "Samsung",
          "Samsung",
          "Samsung",
          "Samsung",
          "Samsung",
          "Samsung",
          "Samsung",
          "Samsung",
          "Samsung",
          "Samsung",
          "Samsung",
          "Samsung",
          "Samsung",
          "Samsung",
          "Samsung",
          "Samsung",
          "Samsung",
          "Samsung",
          "Samsung",
          "Samsung",
          "Samsung",
          "Samsung",
          "Samsung",
          "Samsung",
          "Samsung",
          "Samsung",
          "Samsung",
          "Samsung",
          "Samsung",
          "Samsung",
          "Samsung",
          "Samsung",
          "Samsung",
          "Samsung",
          "Samsung",
          "Samsung",
          "Samsung",
          "Samsung",
          "Samsung",
          "Samsung",
          "Samsung",
          "Samsung",
          "Samsung",
          "Samsung",
          "Samsung",
          "Samsung",
          "Samsung",
          "Samsung",
          "Samsung",
          "Samsung"
         ],
         "y": [
          78,
          18,
          50,
          23,
          28,
          44,
          16,
          83,
          53,
          22,
          54,
          32,
          51,
          46,
          16,
          12,
          28,
          21,
          87,
          57,
          17,
          47,
          21,
          75,
          15,
          33,
          3,
          21,
          30,
          33,
          21,
          17,
          26,
          24,
          38,
          26,
          13,
          31,
          20,
          24,
          14,
          6,
          9,
          15,
          25,
          61,
          0,
          2,
          25,
          61,
          0,
          2,
          16,
          20,
          30,
          44,
          43,
          16,
          20,
          30,
          44,
          43,
          15,
          30,
          33,
          21,
          20,
          24,
          21,
          15,
          30,
          33,
          21,
          20,
          24,
          21,
          34,
          13,
          39,
          18,
          19,
          14,
          12,
          12,
          28,
          23,
          30,
          31,
          20,
          29,
          17,
          9,
          28,
          23,
          30,
          31,
          20,
          29,
          17,
          9
         ]
        }
       ],
       "layout": {
        "boxmode": "group",
        "font": {
         "size": 20
        },
        "legend": {
         "orientation": "h",
         "x": 0.45,
         "y": 1.07
        },
        "plot_bgcolor": "rgba(0,0,0,0)",
        "template": {
         "data": {
          "bar": [
           {
            "error_x": {
             "color": "#2a3f5f"
            },
            "error_y": {
             "color": "#2a3f5f"
            },
            "marker": {
             "line": {
              "color": "#E5ECF6",
              "width": 0.5
             }
            },
            "type": "bar"
           }
          ],
          "barpolar": [
           {
            "marker": {
             "line": {
              "color": "#E5ECF6",
              "width": 0.5
             }
            },
            "type": "barpolar"
           }
          ],
          "carpet": [
           {
            "aaxis": {
             "endlinecolor": "#2a3f5f",
             "gridcolor": "white",
             "linecolor": "white",
             "minorgridcolor": "white",
             "startlinecolor": "#2a3f5f"
            },
            "baxis": {
             "endlinecolor": "#2a3f5f",
             "gridcolor": "white",
             "linecolor": "white",
             "minorgridcolor": "white",
             "startlinecolor": "#2a3f5f"
            },
            "type": "carpet"
           }
          ],
          "choropleth": [
           {
            "colorbar": {
             "outlinewidth": 0,
             "ticks": ""
            },
            "type": "choropleth"
           }
          ],
          "contour": [
           {
            "colorbar": {
             "outlinewidth": 0,
             "ticks": ""
            },
            "colorscale": [
             [
              0,
              "#0d0887"
             ],
             [
              0.1111111111111111,
              "#46039f"
             ],
             [
              0.2222222222222222,
              "#7201a8"
             ],
             [
              0.3333333333333333,
              "#9c179e"
             ],
             [
              0.4444444444444444,
              "#bd3786"
             ],
             [
              0.5555555555555556,
              "#d8576b"
             ],
             [
              0.6666666666666666,
              "#ed7953"
             ],
             [
              0.7777777777777778,
              "#fb9f3a"
             ],
             [
              0.8888888888888888,
              "#fdca26"
             ],
             [
              1,
              "#f0f921"
             ]
            ],
            "type": "contour"
           }
          ],
          "contourcarpet": [
           {
            "colorbar": {
             "outlinewidth": 0,
             "ticks": ""
            },
            "type": "contourcarpet"
           }
          ],
          "heatmap": [
           {
            "colorbar": {
             "outlinewidth": 0,
             "ticks": ""
            },
            "colorscale": [
             [
              0,
              "#0d0887"
             ],
             [
              0.1111111111111111,
              "#46039f"
             ],
             [
              0.2222222222222222,
              "#7201a8"
             ],
             [
              0.3333333333333333,
              "#9c179e"
             ],
             [
              0.4444444444444444,
              "#bd3786"
             ],
             [
              0.5555555555555556,
              "#d8576b"
             ],
             [
              0.6666666666666666,
              "#ed7953"
             ],
             [
              0.7777777777777778,
              "#fb9f3a"
             ],
             [
              0.8888888888888888,
              "#fdca26"
             ],
             [
              1,
              "#f0f921"
             ]
            ],
            "type": "heatmap"
           }
          ],
          "heatmapgl": [
           {
            "colorbar": {
             "outlinewidth": 0,
             "ticks": ""
            },
            "colorscale": [
             [
              0,
              "#0d0887"
             ],
             [
              0.1111111111111111,
              "#46039f"
             ],
             [
              0.2222222222222222,
              "#7201a8"
             ],
             [
              0.3333333333333333,
              "#9c179e"
             ],
             [
              0.4444444444444444,
              "#bd3786"
             ],
             [
              0.5555555555555556,
              "#d8576b"
             ],
             [
              0.6666666666666666,
              "#ed7953"
             ],
             [
              0.7777777777777778,
              "#fb9f3a"
             ],
             [
              0.8888888888888888,
              "#fdca26"
             ],
             [
              1,
              "#f0f921"
             ]
            ],
            "type": "heatmapgl"
           }
          ],
          "histogram": [
           {
            "marker": {
             "colorbar": {
              "outlinewidth": 0,
              "ticks": ""
             }
            },
            "type": "histogram"
           }
          ],
          "histogram2d": [
           {
            "colorbar": {
             "outlinewidth": 0,
             "ticks": ""
            },
            "colorscale": [
             [
              0,
              "#0d0887"
             ],
             [
              0.1111111111111111,
              "#46039f"
             ],
             [
              0.2222222222222222,
              "#7201a8"
             ],
             [
              0.3333333333333333,
              "#9c179e"
             ],
             [
              0.4444444444444444,
              "#bd3786"
             ],
             [
              0.5555555555555556,
              "#d8576b"
             ],
             [
              0.6666666666666666,
              "#ed7953"
             ],
             [
              0.7777777777777778,
              "#fb9f3a"
             ],
             [
              0.8888888888888888,
              "#fdca26"
             ],
             [
              1,
              "#f0f921"
             ]
            ],
            "type": "histogram2d"
           }
          ],
          "histogram2dcontour": [
           {
            "colorbar": {
             "outlinewidth": 0,
             "ticks": ""
            },
            "colorscale": [
             [
              0,
              "#0d0887"
             ],
             [
              0.1111111111111111,
              "#46039f"
             ],
             [
              0.2222222222222222,
              "#7201a8"
             ],
             [
              0.3333333333333333,
              "#9c179e"
             ],
             [
              0.4444444444444444,
              "#bd3786"
             ],
             [
              0.5555555555555556,
              "#d8576b"
             ],
             [
              0.6666666666666666,
              "#ed7953"
             ],
             [
              0.7777777777777778,
              "#fb9f3a"
             ],
             [
              0.8888888888888888,
              "#fdca26"
             ],
             [
              1,
              "#f0f921"
             ]
            ],
            "type": "histogram2dcontour"
           }
          ],
          "mesh3d": [
           {
            "colorbar": {
             "outlinewidth": 0,
             "ticks": ""
            },
            "type": "mesh3d"
           }
          ],
          "parcoords": [
           {
            "line": {
             "colorbar": {
              "outlinewidth": 0,
              "ticks": ""
             }
            },
            "type": "parcoords"
           }
          ],
          "pie": [
           {
            "automargin": true,
            "type": "pie"
           }
          ],
          "scatter": [
           {
            "marker": {
             "colorbar": {
              "outlinewidth": 0,
              "ticks": ""
             }
            },
            "type": "scatter"
           }
          ],
          "scatter3d": [
           {
            "line": {
             "colorbar": {
              "outlinewidth": 0,
              "ticks": ""
             }
            },
            "marker": {
             "colorbar": {
              "outlinewidth": 0,
              "ticks": ""
             }
            },
            "type": "scatter3d"
           }
          ],
          "scattercarpet": [
           {
            "marker": {
             "colorbar": {
              "outlinewidth": 0,
              "ticks": ""
             }
            },
            "type": "scattercarpet"
           }
          ],
          "scattergeo": [
           {
            "marker": {
             "colorbar": {
              "outlinewidth": 0,
              "ticks": ""
             }
            },
            "type": "scattergeo"
           }
          ],
          "scattergl": [
           {
            "marker": {
             "colorbar": {
              "outlinewidth": 0,
              "ticks": ""
             }
            },
            "type": "scattergl"
           }
          ],
          "scattermapbox": [
           {
            "marker": {
             "colorbar": {
              "outlinewidth": 0,
              "ticks": ""
             }
            },
            "type": "scattermapbox"
           }
          ],
          "scatterpolar": [
           {
            "marker": {
             "colorbar": {
              "outlinewidth": 0,
              "ticks": ""
             }
            },
            "type": "scatterpolar"
           }
          ],
          "scatterpolargl": [
           {
            "marker": {
             "colorbar": {
              "outlinewidth": 0,
              "ticks": ""
             }
            },
            "type": "scatterpolargl"
           }
          ],
          "scatterternary": [
           {
            "marker": {
             "colorbar": {
              "outlinewidth": 0,
              "ticks": ""
             }
            },
            "type": "scatterternary"
           }
          ],
          "surface": [
           {
            "colorbar": {
             "outlinewidth": 0,
             "ticks": ""
            },
            "colorscale": [
             [
              0,
              "#0d0887"
             ],
             [
              0.1111111111111111,
              "#46039f"
             ],
             [
              0.2222222222222222,
              "#7201a8"
             ],
             [
              0.3333333333333333,
              "#9c179e"
             ],
             [
              0.4444444444444444,
              "#bd3786"
             ],
             [
              0.5555555555555556,
              "#d8576b"
             ],
             [
              0.6666666666666666,
              "#ed7953"
             ],
             [
              0.7777777777777778,
              "#fb9f3a"
             ],
             [
              0.8888888888888888,
              "#fdca26"
             ],
             [
              1,
              "#f0f921"
             ]
            ],
            "type": "surface"
           }
          ],
          "table": [
           {
            "cells": {
             "fill": {
              "color": "#EBF0F8"
             },
             "line": {
              "color": "white"
             }
            },
            "header": {
             "fill": {
              "color": "#C8D4E3"
             },
             "line": {
              "color": "white"
             }
            },
            "type": "table"
           }
          ]
         },
         "layout": {
          "annotationdefaults": {
           "arrowcolor": "#2a3f5f",
           "arrowhead": 0,
           "arrowwidth": 1
          },
          "coloraxis": {
           "colorbar": {
            "outlinewidth": 0,
            "ticks": ""
           }
          },
          "colorscale": {
           "diverging": [
            [
             0,
             "#8e0152"
            ],
            [
             0.1,
             "#c51b7d"
            ],
            [
             0.2,
             "#de77ae"
            ],
            [
             0.3,
             "#f1b6da"
            ],
            [
             0.4,
             "#fde0ef"
            ],
            [
             0.5,
             "#f7f7f7"
            ],
            [
             0.6,
             "#e6f5d0"
            ],
            [
             0.7,
             "#b8e186"
            ],
            [
             0.8,
             "#7fbc41"
            ],
            [
             0.9,
             "#4d9221"
            ],
            [
             1,
             "#276419"
            ]
           ],
           "sequential": [
            [
             0,
             "#0d0887"
            ],
            [
             0.1111111111111111,
             "#46039f"
            ],
            [
             0.2222222222222222,
             "#7201a8"
            ],
            [
             0.3333333333333333,
             "#9c179e"
            ],
            [
             0.4444444444444444,
             "#bd3786"
            ],
            [
             0.5555555555555556,
             "#d8576b"
            ],
            [
             0.6666666666666666,
             "#ed7953"
            ],
            [
             0.7777777777777778,
             "#fb9f3a"
            ],
            [
             0.8888888888888888,
             "#fdca26"
            ],
            [
             1,
             "#f0f921"
            ]
           ],
           "sequentialminus": [
            [
             0,
             "#0d0887"
            ],
            [
             0.1111111111111111,
             "#46039f"
            ],
            [
             0.2222222222222222,
             "#7201a8"
            ],
            [
             0.3333333333333333,
             "#9c179e"
            ],
            [
             0.4444444444444444,
             "#bd3786"
            ],
            [
             0.5555555555555556,
             "#d8576b"
            ],
            [
             0.6666666666666666,
             "#ed7953"
            ],
            [
             0.7777777777777778,
             "#fb9f3a"
            ],
            [
             0.8888888888888888,
             "#fdca26"
            ],
            [
             1,
             "#f0f921"
            ]
           ]
          },
          "colorway": [
           "#636efa",
           "#EF553B",
           "#00cc96",
           "#ab63fa",
           "#FFA15A",
           "#19d3f3",
           "#FF6692",
           "#B6E880",
           "#FF97FF",
           "#FECB52"
          ],
          "font": {
           "color": "#2a3f5f"
          },
          "geo": {
           "bgcolor": "white",
           "lakecolor": "white",
           "landcolor": "#E5ECF6",
           "showlakes": true,
           "showland": true,
           "subunitcolor": "white"
          },
          "hoverlabel": {
           "align": "left"
          },
          "hovermode": "closest",
          "mapbox": {
           "style": "light"
          },
          "paper_bgcolor": "white",
          "plot_bgcolor": "#E5ECF6",
          "polar": {
           "angularaxis": {
            "gridcolor": "white",
            "linecolor": "white",
            "ticks": ""
           },
           "bgcolor": "#E5ECF6",
           "radialaxis": {
            "gridcolor": "white",
            "linecolor": "white",
            "ticks": ""
           }
          },
          "scene": {
           "xaxis": {
            "backgroundcolor": "#E5ECF6",
            "gridcolor": "white",
            "gridwidth": 2,
            "linecolor": "white",
            "showbackground": true,
            "ticks": "",
            "zerolinecolor": "white"
           },
           "yaxis": {
            "backgroundcolor": "#E5ECF6",
            "gridcolor": "white",
            "gridwidth": 2,
            "linecolor": "white",
            "showbackground": true,
            "ticks": "",
            "zerolinecolor": "white"
           },
           "zaxis": {
            "backgroundcolor": "#E5ECF6",
            "gridcolor": "white",
            "gridwidth": 2,
            "linecolor": "white",
            "showbackground": true,
            "ticks": "",
            "zerolinecolor": "white"
           }
          },
          "shapedefaults": {
           "line": {
            "color": "#2a3f5f"
           }
          },
          "ternary": {
           "aaxis": {
            "gridcolor": "white",
            "linecolor": "white",
            "ticks": ""
           },
           "baxis": {
            "gridcolor": "white",
            "linecolor": "white",
            "ticks": ""
           },
           "bgcolor": "#E5ECF6",
           "caxis": {
            "gridcolor": "white",
            "linecolor": "white",
            "ticks": ""
           }
          },
          "title": {
           "x": 0.05
          },
          "xaxis": {
           "automargin": true,
           "gridcolor": "white",
           "linecolor": "white",
           "ticks": "",
           "title": {
            "standoff": 15
           },
           "zerolinecolor": "white",
           "zerolinewidth": 2
          },
          "yaxis": {
           "automargin": true,
           "gridcolor": "white",
           "linecolor": "white",
           "ticks": "",
           "title": {
            "standoff": 15
           },
           "zerolinecolor": "white",
           "zerolinewidth": 2
          }
         }
        },
        "yaxis": {
         "gridcolor": "rgb(219, 219, 219)",
         "showgrid": true,
         "title": {
          "text": "Days"
         }
        }
       }
      },
      "text/html": [
       "<div>\n",
       "        \n",
       "        \n",
       "            <div id=\"e00f46d6-73ce-48d8-b399-7330a5922f89\" class=\"plotly-graph-div\" style=\"height:525px; width:100%;\"></div>\n",
       "            <script type=\"text/javascript\">\n",
       "                require([\"plotly\"], function(Plotly) {\n",
       "                    window.PLOTLYENV=window.PLOTLYENV || {};\n",
       "                    \n",
       "                if (document.getElementById(\"e00f46d6-73ce-48d8-b399-7330a5922f89\")) {\n",
       "                    Plotly.newPlot(\n",
       "                        'e00f46d6-73ce-48d8-b399-7330a5922f89',\n",
       "                        [{\"marker\": {\"color\": \"rgb(64, 190, 245)\"}, \"name\": \"AT&T\", \"type\": \"box\", \"x\": [\"HTC\", \"HTC\", \"HTC\", \"HTC\", \"HTC\", \"LG\", \"LG\", \"LG\", \"LG\", \"LG\", \"LG\", \"LG\", \"LG\", \"LG\", \"LG\", \"LG\", \"LG\", \"LG\", \"LG\", \"LG\", \"LG\", \"LG\", \"LG\", \"LG\", \"LG\", \"LG\", \"LG\", \"Motorola\", \"Motorola\", \"Motorola\", \"Motorola\", \"Motorola\", \"Motorola\", \"Motorola\", \"Motorola\", \"Samsung\", \"Samsung\", \"Samsung\", \"Samsung\", \"Samsung\", \"Samsung\", \"Samsung\", \"Samsung\", \"Samsung\", \"Samsung\", \"Samsung\", \"Samsung\", \"Samsung\", \"Samsung\", \"Samsung\", \"Samsung\", \"Samsung\", \"Samsung\", \"Samsung\", \"Samsung\", \"Samsung\", \"Samsung\", \"Samsung\", \"Samsung\", \"Samsung\", \"Samsung\", \"Samsung\", \"Samsung\", \"Samsung\", \"Samsung\", \"Samsung\", \"Samsung\", \"Samsung\", \"Samsung\", \"Samsung\", \"Samsung\", \"Samsung\", \"Samsung\", \"Samsung\", \"Samsung\", \"Samsung\", \"Samsung\", \"Samsung\", \"Samsung\", \"Samsung\", \"Samsung\", \"Samsung\", \"Samsung\", \"Samsung\", \"Samsung\", \"Samsung\", \"Samsung\", \"Samsung\", \"Samsung\", \"Samsung\", \"Samsung\", \"Samsung\", \"Samsung\", \"Samsung\", \"Samsung\", \"Samsung\", \"Samsung\", \"Samsung\", \"Samsung\", \"Samsung\", \"Samsung\", \"Samsung\", \"Samsung\", \"Samsung\", \"Samsung\", \"Samsung\", \"Samsung\", \"Samsung\", \"Samsung\", \"Samsung\", \"Samsung\", \"Samsung\", \"Samsung\", \"Samsung\", \"Samsung\", \"Samsung\", \"Samsung\", \"Samsung\", \"Samsung\", \"Samsung\", \"Samsung\", \"Samsung\", \"Samsung\", \"Samsung\", \"Samsung\", \"Samsung\", \"Samsung\", \"Samsung\", \"Samsung\", \"Samsung\", \"Samsung\", \"Samsung\", \"Samsung\", \"Samsung\", \"Samsung\", \"Samsung\", \"Samsung\", \"Samsung\", \"Samsung\", \"Samsung\", \"Samsung\", \"Samsung\", \"Samsung\", \"Samsung\", \"Samsung\", \"Samsung\", \"Samsung\", \"Samsung\", \"Samsung\", \"Samsung\", \"Samsung\", \"Samsung\", \"Samsung\", \"Samsung\", \"Samsung\", \"Samsung\", \"Samsung\", \"Samsung\", \"Samsung\", \"Samsung\", \"Samsung\", \"Samsung\", \"Samsung\", \"Samsung\", \"Samsung\", \"Samsung\", \"Samsung\", \"Samsung\", \"Samsung\", \"Samsung\", \"Samsung\", \"Samsung\", \"Samsung\", \"Samsung\", \"Samsung\", \"Samsung\", \"Samsung\", \"Samsung\", \"Samsung\", \"Samsung\", \"Samsung\", \"Samsung\", \"Samsung\", \"Samsung\", \"Samsung\", \"Samsung\", \"Samsung\", \"Samsung\", \"Samsung\", \"Samsung\", \"Samsung\", \"Samsung\", \"Samsung\", \"Samsung\", \"Samsung\", \"Samsung\", \"Samsung\"], \"y\": [18.0, 42.0, 35.0, 27.0, 28.0, 4.0, 29.0, 50.0, 22.0, 60.0, 50.0, 41.0, 33.0, 34.0, 35.0, 26.0, 21.0, 25.0, 32.0, 16.0, 7.0, 16.0, 40.0, 9.0, 13.0, 64.0, 30.0, 31.0, 0.0, 30.0, 41.0, 50.0, 44.0, 38.0, 47.0, 17.0, 18.0, 25.0, 37.0, 42.0, 31.0, 37.0, 26.0, 25.0, 21.0, 19.0, 14.0, 24.0, 19.0, 25.0, 28.0, 46.0, 38.0, 37.0, 41.0, 26.0, 24.0, 26.0, 30.0, 24.0, 37.0, 41.0, 27.0, 32.0, 36.0, 26.0, 36.0, 24.0, 55.0, 24.0, 44.0, 33.0, 27.0, 25.0, 36.0, 26.0, 44.0, 28.0, 25.0, 22.0, 30.0, 31.0, 22.0, 27.0, 20.0, 29.0, 32.0, 27.0, 29.0, 22.0, 23.0, 21.0, 10.0, 18.0, 25.0, 31.0, 37.0, 23.0, 50.0, 29.0, 25.0, 21.0, 42.0, 38.0, 37.0, 29.0, 32.0, 24.0, 22.0, 24.0, 24.0, 39.0, 20.0, 25.0, 33.0, 23.0, 50.0, 29.0, 25.0, 21.0, 42.0, 31.0, 26.0, 32.0, 24.0, 22.0, 24.0, 24.0, 39.0, 20.0, 25.0, 17.0, 17.0, 11.0, 16.0, 24.0, 25.0, 38.0, 17.0, 16.0, 26.0, 39.0, 22.0, 35.0, 38.0, 27.0, 25.0, 37.0, 28.0, 20.0, 43.0, 21.0, 19.0, 20.0, 38.0, 37.0, 26.0, 36.0, 30.0, 38.0, 22.0, 18.0, 15.0, 29.0, 24.0, 25.0, 34.0, 30.0, 27.0, 32.0, 27.0, 37.0, 20.0, 43.0, 21.0, 19.0, 20.0, 38.0, 37.0, 26.0, 36.0, 30.0, 38.0, 22.0, 18.0, 15.0, 29.0, 24.0, 25.0, 34.0, 30.0, 27.0, 32.0, 27.0, 37.0, 15.0, 15.0]}, {\"marker\": {\"color\": \"rgb(255, 0, 238)\"}, \"name\": \"T-Mobile\", \"type\": \"box\", \"x\": [\"HTC\", \"HTC\", \"HTC\", \"HTC\", \"HTC\", \"HTC\", \"LG\", \"LG\", \"LG\", \"LG\", \"LG\", \"LG\", \"LG\", \"LG\", \"LG\", \"LG\", \"LG\", \"LG\", \"LG\", \"LG\", \"LG\", \"LG\", \"LG\", \"LG\", \"LG\", \"LG\", \"LG\", \"LG\", \"LG\", \"LG\", \"LG\", \"LG\", \"LG\", \"LG\", \"LG\", \"LG\", \"LG\", \"LG\", \"LG\", \"LG\", \"LG\", \"LG\", \"LG\", \"LG\", \"Motorola\", \"Motorola\", \"Motorola\", \"Motorola\", \"Motorola\", \"Motorola\", \"Motorola\", \"Samsung\", \"Samsung\", \"Samsung\", \"Samsung\", \"Samsung\", \"Samsung\", \"Samsung\", \"Samsung\", \"Samsung\", \"Samsung\", \"Samsung\", \"Samsung\", \"Samsung\", \"Samsung\", \"Samsung\", \"Samsung\", \"Samsung\", \"Samsung\", \"Samsung\", \"Samsung\", \"Samsung\", \"Samsung\", \"Samsung\", \"Samsung\", \"Samsung\", \"Samsung\", \"Samsung\", \"Samsung\", \"Samsung\", \"Samsung\", \"Samsung\", \"Samsung\", \"Samsung\", \"Samsung\", \"Samsung\", \"Samsung\", \"Samsung\", \"Samsung\", \"Samsung\", \"Samsung\", \"Samsung\", \"Samsung\", \"Samsung\", \"Samsung\", \"Samsung\", \"Samsung\", \"Samsung\", \"Samsung\", \"Samsung\", \"Samsung\", \"Samsung\", \"Samsung\", \"Samsung\", \"Samsung\", \"Samsung\", \"Samsung\", \"Samsung\", \"Samsung\", \"Samsung\", \"Samsung\", \"Samsung\", \"Samsung\", \"Samsung\", \"Samsung\", \"Samsung\", \"Samsung\", \"Samsung\", \"Samsung\", \"Samsung\", \"Samsung\", \"Samsung\", \"Samsung\", \"Samsung\", \"Samsung\", \"Samsung\", \"Samsung\", \"Samsung\", \"Samsung\", \"Samsung\", \"Samsung\", \"Samsung\", \"Samsung\", \"Samsung\", \"Samsung\", \"Samsung\", \"Samsung\", \"Samsung\", \"Samsung\", \"Samsung\", \"Samsung\", \"Samsung\", \"Samsung\", \"Samsung\", \"Samsung\", \"Samsung\", \"Samsung\", \"Samsung\", \"Samsung\", \"Samsung\", \"Samsung\", \"Samsung\", \"Samsung\", \"Samsung\", \"Samsung\", \"Samsung\", \"Samsung\", \"Samsung\", \"Samsung\", \"Samsung\", \"Samsung\", \"Samsung\", \"Samsung\", \"Samsung\", \"Samsung\", \"Samsung\", \"Samsung\", \"Samsung\", \"Samsung\", \"Samsung\", \"Samsung\", \"Samsung\", \"Samsung\", \"Samsung\", \"Samsung\", \"Samsung\", \"Samsung\", \"Samsung\", \"Samsung\", \"Samsung\", \"Samsung\", \"Samsung\", \"Samsung\", \"Samsung\", \"Samsung\", \"Samsung\", \"Samsung\", \"Samsung\", \"Samsung\", \"Samsung\", \"Samsung\", \"Samsung\", \"Samsung\", \"Samsung\", \"Samsung\", \"Samsung\", \"Samsung\", \"Samsung\", \"Samsung\", \"Samsung\", \"Samsung\", \"Samsung\", \"Samsung\", \"Samsung\", \"Samsung\", \"Samsung\", \"Samsung\", \"Samsung\", \"Samsung\", \"Samsung\", \"Samsung\", \"Samsung\", \"Samsung\", \"Samsung\", \"Samsung\", \"Samsung\", \"Samsung\", \"Samsung\", \"Samsung\", \"Samsung\", \"Samsung\", \"Samsung\", \"Samsung\", \"Samsung\", \"Samsung\", \"Samsung\", \"Samsung\", \"Samsung\", \"Samsung\", \"Samsung\", \"Samsung\", \"Samsung\", \"Samsung\", \"Samsung\", \"Samsung\", \"Samsung\", \"Samsung\", \"Samsung\", \"Samsung\", \"Samsung\", \"Samsung\", \"Samsung\"], \"y\": [26.0, 14.0, 24.0, 15.0, 8.0, 11.0, 25.0, 17.0, 29.0, 28.0, 15.0, 25.0, 20.0, 5.0, 1.0, 19.0, 19.0, 23.0, 5.0, 13.0, 22.0, 4.0, 19.0, 5.0, 7.0, 17.0, 27.0, 77.0, 31.0, 28.0, 23.0, 26.0, 34.0, 15.0, 23.0, 5.0, 26.0, 3.0, 29.0, 31.0, 35.0, 26.0, 24.0, 28.0, 11.0, 20.0, 21.0, 4.0, 27.0, 13.0, 24.0, 35.0, 23.0, 5.0, 27.0, 22.0, 51.0, 29.0, 26.0, 8.0, 28.0, 25.0, 28.0, 22.0, 47.0, 4.0, 12.0, 30.0, 32.0, 47.0, 1.0, 0.0, 12.0, 16.0, 11.0, 6.0, 34.0, -1.0, 3.0, 19.0, 18.0, -1.0, 7.0, -1.0, 22.0, 19.0, 20.0, 22.0, 26.0, 25.0, 13.0, 14.0, 19.0, -1.0, -1.0, 11.0, 5.0, 3.0, 20.0, 25.0, 16.0, 30.0, 10.0, 18.0, 42.0, 20.0, -1.0, 17.0, 22.0, 20.0, 40.0, 16.0, 34.0, 23.0, 6.0, 8.0, 0.0, 12.0, 9.0, 21.0, 16.0, 32.0, 43.0, 0.0, 4.0, 8.0, 14.0, 12.0, 9.0, 25.0, 22.0, 28.0, 35.0, 0.0, 3.0, 16.0, 20.0, 22.0, 23.0, 8.0, 14.0, 12.0, 9.0, 25.0, 22.0, 28.0, 35.0, 0.0, 3.0, 16.0, 20.0, -1.0, 22.0, 23.0, 20.0, 15.0, 2.0, 2.0, 6.0, 25.0, 3.0, 18.0, 18.0, 24.0, 27.0, 22.0, 12.0, 15.0, 19.0, 17.0, 10.0, 60.0, 24.0, 14.0, 26.0, 31.0, 24.0, 15.0, 2.0, 6.0, 25.0, 3.0, 18.0, 18.0, 24.0, 27.0, 22.0, 12.0, 15.0, 19.0, 17.0, 10.0, 60.0, 24.0, 14.0, 26.0, 31.0, 24.0, 18.0, -1.0, 4.0, 6.0, 68.0, 19.0, 13.0, 18.0, -1.0, 6.0, 68.0, 19.0, 13.0, 11.0, 19.0, 6.0, 15.0, 19.0, 2.0, 14.0, 11.0, 19.0, 17.0, 10.0, -1.0, 32.0, 11.0, 8.0, 14.0, 11.0, 19.0, 6.0, 15.0, 19.0, 2.0, 14.0, 11.0, 19.0, 17.0, 10.0, -1.0, 32.0, 11.0, 8.0]}, {\"marker\": {\"color\": \"rgb(255, 162, 0)\"}, \"name\": \"Sprint\", \"type\": \"box\", \"x\": [\"HTC\", \"LG\", \"LG\", \"LG\", \"LG\", \"LG\", \"LG\", \"LG\", \"LG\", \"LG\", \"LG\", \"LG\", \"LG\", \"LG\", \"LG\", \"LG\", \"LG\", \"Motorola\", \"Motorola\", \"Samsung\", \"Samsung\", \"Samsung\", \"Samsung\", \"Samsung\", \"Samsung\", \"Samsung\", \"Samsung\", \"Samsung\", \"Samsung\", \"Samsung\", \"Samsung\", \"Samsung\", \"Samsung\", \"Samsung\", \"Samsung\", \"Samsung\", \"Samsung\", \"Samsung\", \"Samsung\", \"Samsung\", \"Samsung\", \"Samsung\", \"Samsung\", \"Samsung\", \"Samsung\", \"Samsung\", \"Samsung\", \"Samsung\", \"Samsung\", \"Samsung\", \"Samsung\", \"Samsung\", \"Samsung\", \"Samsung\", \"Samsung\", \"Samsung\", \"Samsung\", \"Samsung\", \"Samsung\", \"Samsung\", \"Samsung\", \"Samsung\", \"Samsung\", \"Samsung\", \"Samsung\", \"Samsung\", \"Samsung\", \"Samsung\", \"Samsung\", \"Samsung\", \"Samsung\", \"Samsung\", \"Samsung\", \"Samsung\", \"Samsung\", \"Samsung\", \"Samsung\", \"Samsung\", \"Samsung\", \"Samsung\", \"Samsung\", \"Samsung\", \"Samsung\", \"Samsung\", \"Samsung\", \"Samsung\", \"Samsung\", \"Samsung\", \"Samsung\", \"Samsung\", \"Samsung\", \"Samsung\", \"Samsung\", \"Samsung\", \"Samsung\", \"Samsung\", \"Samsung\", \"Samsung\", \"Samsung\", \"Samsung\", \"Samsung\", \"Samsung\", \"Samsung\", \"Samsung\", \"Samsung\", \"Samsung\", \"Samsung\", \"Samsung\", \"Samsung\", \"Samsung\", \"Samsung\", \"Samsung\", \"Samsung\", \"Samsung\", \"Samsung\", \"Samsung\", \"Samsung\", \"Samsung\", \"Samsung\", \"Samsung\", \"Samsung\", \"Samsung\", \"Samsung\", \"Samsung\", \"Samsung\", \"Samsung\", \"Samsung\", \"Samsung\", \"Samsung\", \"Samsung\", \"Samsung\", \"Samsung\", \"Samsung\", \"Samsung\", \"Samsung\", \"Samsung\", \"Samsung\", \"Samsung\", \"Samsung\", \"Samsung\", \"Samsung\", \"Samsung\", \"Samsung\", \"Samsung\", \"Samsung\", \"Samsung\", \"Samsung\", \"Samsung\", \"Samsung\", \"Samsung\"], \"y\": [29.0, 0.0, 26.0, 25.0, 1.0, 19.0, 21.0, 27.0, 43.0, 28.0, 4.0, 31.0, 13.0, 3.0, 35.0, 33.0, 28.0, 44.0, 50.0, 8.0, 0.0, 54.0, 40.0, 25.0, 28.0, 36.0, 5.0, 19.0, 29.0, 34.0, 26.0, 19.0, 25.0, 25.0, 29.0, 5.0, 22.0, 17.0, 17.0, 12.0, 4.0, 3.0, 22.0, 21.0, 25.0, 21.0, 13.0, 27.0, 25.0, 28.0, 42.0, 22.0, 18.0, 15.0, 26.0, 30.0, 20.0, 17.0, 29.0, 17.0, 27.0, 13.0, 38.0, 33.0, 30.0, 15.0, 46.0, 25.0, 5.0, 14.0, 27.0, 25.0, 2.0, 17.0, 17.0, 25.0, 26.0, 42.0, 25.0, 24.0, 38.0, 2.0, 17.0, 17.0, 25.0, 26.0, 24.0, 42.0, 25.0, 38.0, 25.0, 19.0, 12.0, 33.0, 24.0, 66.0, 16.0, 36.0, 27.0, 24.0, 18.0, 22.0, 23.0, 55.0, 47.0, 25.0, 19.0, 1.0, 42.0, 32.0, 66.0, 16.0, 36.0, 27.0, 24.0, 18.0, 22.0, 23.0, 55.0, 47.0, 3.0, 49.0, 22.0, 35.0, 31.0, 26.0, 17.0, 29.0, 36.0, 22.0, 31.0, 17.0, 29.0, 47.0, 34.0, 19.0, 35.0, 18.0, 17.0, 15.0, 25.0, 37.0, 15.0, 34.0, 19.0, 18.0, 15.0, 25.0, 15.0, 12.0]}, {\"marker\": {\"color\": \"rgb(255, 21, 0)\"}, \"name\": \"Verizon\", \"type\": \"box\", \"x\": [\"HTC\", \"LG\", \"LG\", \"LG\", \"LG\", \"LG\", \"LG\", \"LG\", \"LG\", \"LG\", \"LG\", \"LG\", \"LG\", \"LG\", \"LG\", \"LG\", \"Motorola\", \"Motorola\", \"Motorola\", \"Motorola\", \"Samsung\", \"Samsung\", \"Samsung\", \"Samsung\", \"Samsung\", \"Samsung\", \"Samsung\", \"Samsung\", \"Samsung\", \"Samsung\", \"Samsung\", \"Samsung\", \"Samsung\", \"Samsung\", \"Samsung\", \"Samsung\", \"Samsung\", \"Samsung\", \"Samsung\", \"Samsung\", \"Samsung\", \"Samsung\", \"Samsung\", \"Samsung\", \"Samsung\", \"Samsung\", \"Samsung\", \"Samsung\", \"Samsung\", \"Samsung\", \"Samsung\", \"Samsung\", \"Samsung\", \"Samsung\", \"Samsung\", \"Samsung\", \"Samsung\", \"Samsung\", \"Samsung\", \"Samsung\", \"Samsung\", \"Samsung\", \"Samsung\", \"Samsung\", \"Samsung\", \"Samsung\", \"Samsung\", \"Samsung\", \"Samsung\", \"Samsung\", \"Samsung\", \"Samsung\", \"Samsung\", \"Samsung\", \"Samsung\", \"Samsung\", \"Samsung\", \"Samsung\", \"Samsung\", \"Samsung\", \"Samsung\", \"Samsung\", \"Samsung\", \"Samsung\", \"Samsung\", \"Samsung\", \"Samsung\", \"Samsung\", \"Samsung\", \"Samsung\", \"Samsung\", \"Samsung\", \"Samsung\", \"Samsung\", \"Samsung\", \"Samsung\", \"Samsung\", \"Samsung\", \"Samsung\", \"Samsung\"], \"y\": [78.0, 18.0, 50.0, 23.0, 28.0, 44.0, 16.0, 83.0, 53.0, 22.0, 54.0, 32.0, 51.0, 46.0, 16.0, 12.0, 28.0, 21.0, 87.0, 57.0, 17.0, 47.0, 21.0, 75.0, 15.0, 33.0, 3.0, 21.0, 30.0, 33.0, 21.0, 17.0, 26.0, 24.0, 38.0, 26.0, 13.0, 31.0, 20.0, 24.0, 14.0, 6.0, 9.0, 15.0, 25.0, 61.0, 0.0, 2.0, 25.0, 61.0, 0.0, 2.0, 16.0, 20.0, 30.0, 44.0, 43.0, 16.0, 20.0, 30.0, 44.0, 43.0, 15.0, 30.0, 33.0, 21.0, 20.0, 24.0, 21.0, 15.0, 30.0, 33.0, 21.0, 20.0, 24.0, 21.0, 34.0, 13.0, 39.0, 18.0, 19.0, 14.0, 12.0, 12.0, 28.0, 23.0, 30.0, 31.0, 20.0, 29.0, 17.0, 9.0, 28.0, 23.0, 30.0, 31.0, 20.0, 29.0, 17.0, 9.0]}],\n",
       "                        {\"boxmode\": \"group\", \"font\": {\"size\": 20}, \"legend\": {\"orientation\": \"h\", \"x\": 0.45, \"y\": 1.07}, \"plot_bgcolor\": \"rgba(0,0,0,0)\", \"template\": {\"data\": {\"bar\": [{\"error_x\": {\"color\": \"#2a3f5f\"}, \"error_y\": {\"color\": \"#2a3f5f\"}, \"marker\": {\"line\": {\"color\": \"#E5ECF6\", \"width\": 0.5}}, \"type\": \"bar\"}], \"barpolar\": [{\"marker\": {\"line\": {\"color\": \"#E5ECF6\", \"width\": 0.5}}, \"type\": \"barpolar\"}], \"carpet\": [{\"aaxis\": {\"endlinecolor\": \"#2a3f5f\", \"gridcolor\": \"white\", \"linecolor\": \"white\", \"minorgridcolor\": \"white\", \"startlinecolor\": \"#2a3f5f\"}, \"baxis\": {\"endlinecolor\": \"#2a3f5f\", \"gridcolor\": \"white\", \"linecolor\": \"white\", \"minorgridcolor\": \"white\", \"startlinecolor\": \"#2a3f5f\"}, \"type\": \"carpet\"}], \"choropleth\": [{\"colorbar\": {\"outlinewidth\": 0, \"ticks\": \"\"}, \"type\": \"choropleth\"}], \"contour\": [{\"colorbar\": {\"outlinewidth\": 0, \"ticks\": \"\"}, \"colorscale\": [[0.0, \"#0d0887\"], [0.1111111111111111, \"#46039f\"], [0.2222222222222222, \"#7201a8\"], [0.3333333333333333, \"#9c179e\"], [0.4444444444444444, \"#bd3786\"], [0.5555555555555556, \"#d8576b\"], [0.6666666666666666, \"#ed7953\"], [0.7777777777777778, \"#fb9f3a\"], [0.8888888888888888, \"#fdca26\"], [1.0, \"#f0f921\"]], \"type\": \"contour\"}], \"contourcarpet\": [{\"colorbar\": {\"outlinewidth\": 0, \"ticks\": \"\"}, \"type\": \"contourcarpet\"}], \"heatmap\": [{\"colorbar\": {\"outlinewidth\": 0, \"ticks\": \"\"}, \"colorscale\": [[0.0, \"#0d0887\"], [0.1111111111111111, \"#46039f\"], [0.2222222222222222, \"#7201a8\"], [0.3333333333333333, \"#9c179e\"], [0.4444444444444444, \"#bd3786\"], [0.5555555555555556, \"#d8576b\"], [0.6666666666666666, \"#ed7953\"], [0.7777777777777778, \"#fb9f3a\"], [0.8888888888888888, \"#fdca26\"], [1.0, \"#f0f921\"]], \"type\": \"heatmap\"}], \"heatmapgl\": [{\"colorbar\": {\"outlinewidth\": 0, \"ticks\": \"\"}, \"colorscale\": [[0.0, \"#0d0887\"], [0.1111111111111111, \"#46039f\"], [0.2222222222222222, \"#7201a8\"], [0.3333333333333333, \"#9c179e\"], [0.4444444444444444, \"#bd3786\"], [0.5555555555555556, \"#d8576b\"], [0.6666666666666666, \"#ed7953\"], [0.7777777777777778, \"#fb9f3a\"], [0.8888888888888888, \"#fdca26\"], [1.0, \"#f0f921\"]], \"type\": \"heatmapgl\"}], \"histogram\": [{\"marker\": {\"colorbar\": {\"outlinewidth\": 0, \"ticks\": \"\"}}, \"type\": \"histogram\"}], \"histogram2d\": [{\"colorbar\": {\"outlinewidth\": 0, \"ticks\": \"\"}, \"colorscale\": [[0.0, \"#0d0887\"], [0.1111111111111111, \"#46039f\"], [0.2222222222222222, \"#7201a8\"], [0.3333333333333333, \"#9c179e\"], [0.4444444444444444, \"#bd3786\"], [0.5555555555555556, \"#d8576b\"], [0.6666666666666666, \"#ed7953\"], [0.7777777777777778, \"#fb9f3a\"], [0.8888888888888888, \"#fdca26\"], [1.0, \"#f0f921\"]], \"type\": \"histogram2d\"}], \"histogram2dcontour\": [{\"colorbar\": {\"outlinewidth\": 0, \"ticks\": \"\"}, \"colorscale\": [[0.0, \"#0d0887\"], [0.1111111111111111, \"#46039f\"], [0.2222222222222222, \"#7201a8\"], [0.3333333333333333, \"#9c179e\"], [0.4444444444444444, \"#bd3786\"], [0.5555555555555556, \"#d8576b\"], [0.6666666666666666, \"#ed7953\"], [0.7777777777777778, \"#fb9f3a\"], [0.8888888888888888, \"#fdca26\"], [1.0, \"#f0f921\"]], \"type\": \"histogram2dcontour\"}], \"mesh3d\": [{\"colorbar\": {\"outlinewidth\": 0, \"ticks\": \"\"}, \"type\": \"mesh3d\"}], \"parcoords\": [{\"line\": {\"colorbar\": {\"outlinewidth\": 0, \"ticks\": \"\"}}, \"type\": \"parcoords\"}], \"pie\": [{\"automargin\": true, \"type\": \"pie\"}], \"scatter\": [{\"marker\": {\"colorbar\": {\"outlinewidth\": 0, \"ticks\": \"\"}}, \"type\": \"scatter\"}], \"scatter3d\": [{\"line\": {\"colorbar\": {\"outlinewidth\": 0, \"ticks\": \"\"}}, \"marker\": {\"colorbar\": {\"outlinewidth\": 0, \"ticks\": \"\"}}, \"type\": \"scatter3d\"}], \"scattercarpet\": [{\"marker\": {\"colorbar\": {\"outlinewidth\": 0, \"ticks\": \"\"}}, \"type\": \"scattercarpet\"}], \"scattergeo\": [{\"marker\": {\"colorbar\": {\"outlinewidth\": 0, \"ticks\": \"\"}}, \"type\": \"scattergeo\"}], \"scattergl\": [{\"marker\": {\"colorbar\": {\"outlinewidth\": 0, \"ticks\": \"\"}}, \"type\": \"scattergl\"}], \"scattermapbox\": [{\"marker\": {\"colorbar\": {\"outlinewidth\": 0, \"ticks\": \"\"}}, \"type\": \"scattermapbox\"}], \"scatterpolar\": [{\"marker\": {\"colorbar\": {\"outlinewidth\": 0, \"ticks\": \"\"}}, \"type\": \"scatterpolar\"}], \"scatterpolargl\": [{\"marker\": {\"colorbar\": {\"outlinewidth\": 0, \"ticks\": \"\"}}, \"type\": \"scatterpolargl\"}], \"scatterternary\": [{\"marker\": {\"colorbar\": {\"outlinewidth\": 0, \"ticks\": \"\"}}, \"type\": \"scatterternary\"}], \"surface\": [{\"colorbar\": {\"outlinewidth\": 0, \"ticks\": \"\"}, \"colorscale\": [[0.0, \"#0d0887\"], [0.1111111111111111, \"#46039f\"], [0.2222222222222222, \"#7201a8\"], [0.3333333333333333, \"#9c179e\"], [0.4444444444444444, \"#bd3786\"], [0.5555555555555556, \"#d8576b\"], [0.6666666666666666, \"#ed7953\"], [0.7777777777777778, \"#fb9f3a\"], [0.8888888888888888, \"#fdca26\"], [1.0, \"#f0f921\"]], \"type\": \"surface\"}], \"table\": [{\"cells\": {\"fill\": {\"color\": \"#EBF0F8\"}, \"line\": {\"color\": \"white\"}}, \"header\": {\"fill\": {\"color\": \"#C8D4E3\"}, \"line\": {\"color\": \"white\"}}, \"type\": \"table\"}]}, \"layout\": {\"annotationdefaults\": {\"arrowcolor\": \"#2a3f5f\", \"arrowhead\": 0, \"arrowwidth\": 1}, \"coloraxis\": {\"colorbar\": {\"outlinewidth\": 0, \"ticks\": \"\"}}, \"colorscale\": {\"diverging\": [[0, \"#8e0152\"], [0.1, \"#c51b7d\"], [0.2, \"#de77ae\"], [0.3, \"#f1b6da\"], [0.4, \"#fde0ef\"], [0.5, \"#f7f7f7\"], [0.6, \"#e6f5d0\"], [0.7, \"#b8e186\"], [0.8, \"#7fbc41\"], [0.9, \"#4d9221\"], [1, \"#276419\"]], \"sequential\": [[0.0, \"#0d0887\"], [0.1111111111111111, \"#46039f\"], [0.2222222222222222, \"#7201a8\"], [0.3333333333333333, \"#9c179e\"], [0.4444444444444444, \"#bd3786\"], [0.5555555555555556, \"#d8576b\"], [0.6666666666666666, \"#ed7953\"], [0.7777777777777778, \"#fb9f3a\"], [0.8888888888888888, \"#fdca26\"], [1.0, \"#f0f921\"]], \"sequentialminus\": [[0.0, \"#0d0887\"], [0.1111111111111111, \"#46039f\"], [0.2222222222222222, \"#7201a8\"], [0.3333333333333333, \"#9c179e\"], [0.4444444444444444, \"#bd3786\"], [0.5555555555555556, \"#d8576b\"], [0.6666666666666666, \"#ed7953\"], [0.7777777777777778, \"#fb9f3a\"], [0.8888888888888888, \"#fdca26\"], [1.0, \"#f0f921\"]]}, \"colorway\": [\"#636efa\", \"#EF553B\", \"#00cc96\", \"#ab63fa\", \"#FFA15A\", \"#19d3f3\", \"#FF6692\", \"#B6E880\", \"#FF97FF\", \"#FECB52\"], \"font\": {\"color\": \"#2a3f5f\"}, \"geo\": {\"bgcolor\": \"white\", \"lakecolor\": \"white\", \"landcolor\": \"#E5ECF6\", \"showlakes\": true, \"showland\": true, \"subunitcolor\": \"white\"}, \"hoverlabel\": {\"align\": \"left\"}, \"hovermode\": \"closest\", \"mapbox\": {\"style\": \"light\"}, \"paper_bgcolor\": \"white\", \"plot_bgcolor\": \"#E5ECF6\", \"polar\": {\"angularaxis\": {\"gridcolor\": \"white\", \"linecolor\": \"white\", \"ticks\": \"\"}, \"bgcolor\": \"#E5ECF6\", \"radialaxis\": {\"gridcolor\": \"white\", \"linecolor\": \"white\", \"ticks\": \"\"}}, \"scene\": {\"xaxis\": {\"backgroundcolor\": \"#E5ECF6\", \"gridcolor\": \"white\", \"gridwidth\": 2, \"linecolor\": \"white\", \"showbackground\": true, \"ticks\": \"\", \"zerolinecolor\": \"white\"}, \"yaxis\": {\"backgroundcolor\": \"#E5ECF6\", \"gridcolor\": \"white\", \"gridwidth\": 2, \"linecolor\": \"white\", \"showbackground\": true, \"ticks\": \"\", \"zerolinecolor\": \"white\"}, \"zaxis\": {\"backgroundcolor\": \"#E5ECF6\", \"gridcolor\": \"white\", \"gridwidth\": 2, \"linecolor\": \"white\", \"showbackground\": true, \"ticks\": \"\", \"zerolinecolor\": \"white\"}}, \"shapedefaults\": {\"line\": {\"color\": \"#2a3f5f\"}}, \"ternary\": {\"aaxis\": {\"gridcolor\": \"white\", \"linecolor\": \"white\", \"ticks\": \"\"}, \"baxis\": {\"gridcolor\": \"white\", \"linecolor\": \"white\", \"ticks\": \"\"}, \"bgcolor\": \"#E5ECF6\", \"caxis\": {\"gridcolor\": \"white\", \"linecolor\": \"white\", \"ticks\": \"\"}}, \"title\": {\"x\": 0.05}, \"xaxis\": {\"automargin\": true, \"gridcolor\": \"white\", \"linecolor\": \"white\", \"ticks\": \"\", \"title\": {\"standoff\": 15}, \"zerolinecolor\": \"white\", \"zerolinewidth\": 2}, \"yaxis\": {\"automargin\": true, \"gridcolor\": \"white\", \"linecolor\": \"white\", \"ticks\": \"\", \"title\": {\"standoff\": 15}, \"zerolinecolor\": \"white\", \"zerolinewidth\": 2}}}, \"yaxis\": {\"gridcolor\": \"rgb(219, 219, 219)\", \"showgrid\": true, \"title\": {\"text\": \"Days\"}}},\n",
       "                        {\"responsive\": true}\n",
       "                    ).then(function(){\n",
       "                            \n",
       "var gd = document.getElementById('e00f46d6-73ce-48d8-b399-7330a5922f89');\n",
       "var x = new MutationObserver(function (mutations, observer) {{\n",
       "        var display = window.getComputedStyle(gd).display;\n",
       "        if (!display || display === 'none') {{\n",
       "            console.log([gd, 'removed!']);\n",
       "            Plotly.purge(gd);\n",
       "            observer.disconnect();\n",
       "        }}\n",
       "}});\n",
       "\n",
       "// Listen for the removal of the full notebook cells\n",
       "var notebookContainer = gd.closest('#notebook-container');\n",
       "if (notebookContainer) {{\n",
       "    x.observe(notebookContainer, {childList: true});\n",
       "}}\n",
       "\n",
       "// Listen for the clearing of the current output cell\n",
       "var outputEl = gd.closest('.output');\n",
       "if (outputEl) {{\n",
       "    x.observe(outputEl, {childList: true});\n",
       "}}\n",
       "\n",
       "                        })\n",
       "                };\n",
       "                });\n",
       "            </script>\n",
       "        </div>"
      ]
     },
     "metadata": {},
     "output_type": "display_data"
    }
   ],
   "source": [
    "data = []\n",
    "\n",
    "att=[[] for _ in range(2)]\n",
    "ver=[[] for _ in range(2)]\n",
    "tmobile=[[] for _ in range(2)]\n",
    "spt=[[] for _ in range(2)]\n",
    "\n",
    "matchMan=[]\n",
    "print(\"Number of Matching Models: \"+str(len(sameModel)))\n",
    "\n",
    "perCarMan={}\n",
    "perCarMan['AT&T']={}\n",
    "perCarMan['Verizon']={}\n",
    "perCarMan['T-Mobile']={}\n",
    "perCarMan['Sprint']={}\n",
    "\n",
    "carrierDF.difference=carrierDF.difference.astype(float)\n",
    "\n",
    "\n",
    "attC=0\n",
    "verC=0\n",
    "sprC=0\n",
    "tmobC=0\n",
    "\n",
    "\n",
    "for model in sameModel:\n",
    "    tempMan=carrierDF[carrierDF.Model==model]\n",
    "    matchMan.extend(tempMan.Manufacture.unique())\n",
    "    \n",
    "#     if matchMan[-1]==\"Samsung\":\n",
    "#         attC+=len(tempMan[tempMan.Carrier=='AT&T'])\n",
    "#         verC+=len(tempMan[tempMan.Carrier=='Verizon'])\n",
    "#         sprC+=len(tempMan[tempMan.Carrier=='T-Mobile'])\n",
    "#         tmobC+=len(tempMan[tempMan.Carrier=='Sprint'])\n",
    "    \n",
    "\n",
    "    # check att\n",
    "    newatt=tempMan[tempMan.Carrier=='AT&T']\n",
    "    att[0].extend(newatt.difference.values)\n",
    "    att[1].extend(newatt.Manufacture.values)\n",
    "    if att[1][-1] in perCarMan['AT&T']:\n",
    "        perCarMan['AT&T'][att[1][-1]]=np.concatenate((perCarMan['AT&T'][att[1][-1]],newatt.difference.values),axis=None)\n",
    "    else:\n",
    "        perCarMan['AT&T'][att[1][-1]]=newatt.difference.values\n",
    "        \n",
    "    # check verizon\n",
    "    newver=tempMan[tempMan.Carrier=='Verizon']\n",
    "    ver[0].extend(newver.difference.values)\n",
    "    ver[1].extend(newver.Manufacture.values)\n",
    "    if ver[1][-1] in perCarMan['Verizon']:\n",
    "        perCarMan['Verizon'][ver[1][-1]]=np.concatenate((perCarMan['Verizon'][ver[1][-1]],newver.difference.values),axis=None)\n",
    "    else:\n",
    "        perCarMan['Verizon'][ver[1][-1]]=newver.difference.values\n",
    "    \n",
    "    # check tmobile\n",
    "    newtmb=tempMan[tempMan.Carrier=='T-Mobile']\n",
    "    tmobile[0].extend(newtmb.difference.values)\n",
    "    tmobile[1].extend(newtmb.Manufacture.values)\n",
    "    if tmobile[1][-1] in perCarMan['T-Mobile']:\n",
    "        perCarMan['T-Mobile'][tmobile[1][-1]]=np.concatenate((perCarMan['T-Mobile'][tmobile[1][-1]],newtmb.difference.values),axis=None)\n",
    "    else:\n",
    "        perCarMan['T-Mobile'][tmobile[1][-1]]=newtmb.difference.values\n",
    "    \n",
    "    \n",
    "    # check sprint\n",
    "    newspt=tempMan[tempMan.Carrier=='Sprint']\n",
    "    spt[0].extend(newspt.difference.values)\n",
    "    spt[1].extend(newspt.Manufacture.values)\n",
    "    if spt[1][-1] in perCarMan['Sprint']:\n",
    "        perCarMan['Sprint'][spt[1][-1]]=np.concatenate((perCarMan['Sprint'][spt[1][-1]],newspt.difference.values),axis=None)\n",
    "    else:\n",
    "        perCarMan['Sprint'][spt[1][-1]]=newspt.difference.values\n",
    "\n",
    "# calculate the average per shared manufacture and carrier\n",
    "matchMan=list(set(matchMan))\n",
    "for man in matchMan:\n",
    "    print(man)\n",
    "    print(np.mean(perCarMan['AT&T'][man]))\n",
    "    print(np.mean(perCarMan['T-Mobile'][man]))\n",
    "    print(np.mean(perCarMan['Sprint'][man]))\n",
    "    print(np.mean(perCarMan['Verizon'][man]))\n",
    "    print()\n",
    "    \n",
    "    if man == \"Samsung\":\n",
    "        attC+=len(perCarMan['AT&T'][man])\n",
    "        verC+=len(perCarMan['Verizon'][man])\n",
    "        sprC+=len(perCarMan['Sprint'][man])\n",
    "        tmobC+=len(perCarMan['T-Mobile'][man])\n",
    "    \n",
    "print(\"NUMBER OF POINTS FOR SAMSUNG\")\n",
    "print(\"AT&T: \" + str(attC))\n",
    "print(\"Verizon: \" + str(verC))\n",
    "print(\"Sprint: \" + str(sprC))\n",
    "print(\"T-Mobile: \" + str(tmobC))\n",
    "    \n",
    "data=[]\n",
    "data.append(go.Box(\n",
    "    x=att[1],\n",
    "    y=att[0],\n",
    "    name=\"AT&T\",\n",
    "    marker=dict(\n",
    "                    color='rgb'+str(lvlColor[\"AT&T\"]),\n",
    "                )\n",
    ")) \n",
    "\n",
    "\n",
    "data.append(go.Box(\n",
    "    x=tmobile[1],\n",
    "    y=tmobile[0],\n",
    "    name=\"T-Mobile\",\n",
    "    marker=dict(\n",
    "                    color='rgb'+str(lvlColor[\"T-Mobile\"]),\n",
    "                )\n",
    "))\n",
    "\n",
    "data.append(go.Box(\n",
    "    x=spt[1],\n",
    "    y=spt[0],\n",
    "    name=\"Sprint\",\n",
    "    marker=dict(\n",
    "                    color='rgb'+str(lvlColor[\"Sprint\"]),\n",
    "                )\n",
    "))\n",
    " \n",
    "data.append(go.Box(\n",
    "    x=ver[1],\n",
    "    y=ver[0],\n",
    "    name=\"Verizon\",\n",
    "    marker=dict(\n",
    "                    color='rgb'+str(lvlColor[\"Verizon\"]),\n",
    "                )\n",
    "))    \n",
    "    \n",
    "# Edit the layout\n",
    "layout = dict(#title = \"Rollout Latency for Similiar Manufactures Across Carriers\",\n",
    "              #xaxis = dict(title = 'Manufacturers'),\n",
    "              yaxis = dict(title = 'Days',showgrid=True, gridcolor='rgb(219, 219, 219)'),\n",
    "              plot_bgcolor='rgba(0,0,0,0)',\n",
    "              boxmode='group',\n",
    "              legend_orientation=\"h\",\n",
    "              legend=dict(x=0.45, y=1.07),\n",
    "              font=dict(size=20)\n",
    "              )\n",
    "\n",
    "fig = dict(data=data, layout=layout)\n",
    "py.offline.iplot(fig)\n",
    "\n",
    "# pio.write_image(fig, 'carrier-manufacture-same-models.pdf', width=1000, height=600)\n"
   ]
  },
  {
   "cell_type": "code",
   "execution_count": null,
   "metadata": {
    "scrolled": false
   },
   "outputs": [
    {
     "name": "stdout",
     "output_type": "stream",
     "text": [
      "['Google', 'Revvl(T-Mobile)', 'HTC', 'Sony', 'BlackBerry', 'Samsung', 'LG', 'Alcatel', 'Coolpad', 'ZTE', 'Motorola', 'Verizon', 'ASUS', 'Kyocera']\n",
      "[2.19672131147541, 14.615384615384615, 19.852941176470587, 20.0, 23.68, 23.78944246737841, 24.240506329113924, 24.764705882352942, 26.5, 27.027027027027028, 31.853846153846153, 35.45454545454545, 37.36363636363637, 46.81481481481482]\n",
      "\n"
     ]
    },
    {
     "data": {
      "application/vnd.plotly.v1+json": {
       "config": {
        "linkText": "Export to plot.ly",
        "plotlyServerURL": "https://plot.ly",
        "showLink": false
       },
       "data": [
        {
         "boxpoints": "all",
         "marker": {
          "color": "rgb(137, 214, 60)"
         },
         "name": "Google",
         "showlegend": false,
         "type": "box",
         "y": [
          5,
          -7,
          -2,
          -5,
          1,
          5,
          2,
          0,
          5,
          -7,
          -2,
          -5,
          1,
          5,
          2,
          0,
          28,
          -7,
          1,
          5,
          2,
          0,
          28,
          -7,
          1,
          5,
          2,
          0,
          -2,
          -5,
          4,
          1,
          5,
          0,
          -2,
          -5,
          4,
          3,
          1,
          5,
          2,
          -2,
          -5,
          4,
          3,
          1,
          5,
          2,
          0,
          19,
          2,
          7,
          19,
          2,
          7,
          -2,
          -5,
          4,
          1,
          5,
          0
         ]
        },
        {
         "boxpoints": "all",
         "marker": {
          "color": "rgb(255, 0, 238)"
         },
         "name": "Revvl(T-Mobile)",
         "showlegend": false,
         "type": "box",
         "y": [
          8,
          16,
          1,
          22,
          23,
          14,
          12,
          17,
          18,
          20,
          15,
          23,
          1
         ]
        },
        {
         "boxpoints": "all",
         "marker": {
          "color": "rgb(189, 15, 108)"
         },
         "name": "HTC",
         "showlegend": false,
         "type": "box",
         "y": [
          9,
          13,
          18,
          42,
          35,
          27,
          28,
          29,
          26,
          14,
          24,
          15,
          8,
          11,
          78,
          29,
          -1,
          5,
          15,
          3,
          10,
          21.5,
          13,
          100,
          13,
          15,
          28,
          11,
          18,
          58,
          7,
          17,
          67,
          12,
          14,
          13,
          3,
          6,
          3,
          4,
          -1,
          14,
          9,
          4,
          10,
          6,
          -1,
          16,
          24,
          66,
          4
         ]
        },
        {
         "boxpoints": "all",
         "marker": {
          "color": "rgb(23, 23, 23)"
         },
         "name": "Sony",
         "showlegend": false,
         "type": "box",
         "y": [
          26,
          26,
          22,
          6
         ]
        },
        {
         "boxpoints": "all",
         "marker": {
          "color": "rgb(38, 38, 38)"
         },
         "name": "BlackBerry",
         "showlegend": false,
         "type": "box",
         "y": [
          25,
          30,
          14,
          21,
          26,
          25,
          58,
          11,
          45,
          23,
          35,
          32,
          25,
          28,
          32,
          29,
          9,
          4,
          20,
          -1,
          70,
          13,
          20,
          -1,
          -1
         ]
        },
        {
         "boxpoints": "all",
         "marker": {
          "color": "rgb(95, 201, 125)"
         },
         "name": "Samsung",
         "showlegend": false,
         "type": "box",
         "y": [
          5,
          15,
          57,
          13,
          69,
          26,
          38,
          53,
          27,
          38,
          19,
          17,
          38,
          53,
          27,
          27,
          25,
          38,
          7,
          53,
          27,
          20,
          30,
          17,
          19,
          59,
          53,
          38,
          20,
          14,
          14,
          22,
          28.5,
          26,
          20,
          54,
          16,
          25,
          47,
          28,
          17,
          15.5,
          0,
          54,
          33.5,
          25,
          28,
          36,
          35,
          5,
          22,
          34,
          29,
          50.5,
          47,
          21,
          14,
          7,
          17,
          12,
          17,
          17,
          20,
          30,
          15,
          14,
          20,
          22,
          27.5,
          25,
          38,
          54,
          16,
          25,
          33,
          18,
          25,
          37,
          42,
          31,
          37,
          26,
          25,
          21,
          19,
          5,
          19,
          29,
          29.5,
          27,
          19,
          25,
          25,
          8,
          28,
          22,
          47,
          4,
          12,
          30,
          32,
          47,
          15,
          18,
          -1,
          17.5,
          18,
          16,
          -1,
          18,
          -1,
          17.5,
          18,
          16,
          -1,
          4,
          33,
          28,
          22,
          26,
          34,
          16,
          26,
          17,
          25,
          30,
          42,
          36,
          37,
          26,
          25,
          21,
          19,
          15.5,
          5,
          22,
          21,
          19.5,
          30.5,
          25,
          8,
          22,
          47,
          4,
          12,
          30,
          32,
          47,
          14,
          24,
          19,
          25,
          28,
          46,
          38,
          37,
          41,
          26,
          24,
          26,
          30,
          24,
          37,
          41,
          27,
          32,
          36,
          26,
          36,
          24,
          29,
          8.5,
          22,
          16.5,
          17,
          9,
          1.5,
          3,
          20.5,
          21,
          25,
          16.333333333333332,
          1,
          0,
          11,
          34,
          18,
          -1,
          7,
          -1,
          22,
          19,
          20,
          22,
          29.5,
          21,
          55,
          24,
          44,
          33,
          27,
          25,
          36,
          26,
          44,
          28,
          25,
          22,
          30,
          31,
          22,
          27,
          20,
          29,
          32,
          27,
          29,
          13.5,
          27,
          12,
          28,
          20.5,
          16.5,
          18,
          15,
          26,
          21.666666666666668,
          26.5,
          10,
          25,
          13,
          19,
          20,
          24.5,
          16,
          30,
          10,
          17,
          26,
          22,
          23,
          17.5,
          34.5,
          16.5,
          38,
          33,
          34,
          15,
          34,
          22.5,
          12.5,
          35.5,
          18,
          29,
          18.5,
          6,
          9,
          20,
          29,
          12,
          6,
          11,
          7,
          21,
          10,
          18,
          25,
          31,
          37,
          5,
          14,
          21.5,
          25,
          8,
          0,
          12,
          9,
          21,
          32,
          43,
          0,
          4,
          15,
          9,
          10,
          18,
          25,
          48,
          42,
          31,
          37,
          20,
          23,
          50,
          29,
          25,
          21,
          42,
          38,
          37,
          29,
          32,
          24,
          22,
          24,
          24,
          39,
          20,
          25,
          33,
          8,
          13,
          17,
          25,
          26,
          42,
          25,
          23,
          40.666666666666664,
          8,
          12,
          22,
          28,
          35,
          0,
          3,
          16,
          20,
          25,
          0,
          2,
          23,
          50,
          29,
          25,
          21,
          42,
          31,
          26,
          32,
          24,
          22,
          24,
          24,
          39,
          20,
          25,
          8,
          13,
          17,
          25,
          26,
          13.5,
          42,
          12,
          40.666666666666664,
          8,
          12,
          22,
          28,
          35,
          0,
          16,
          20,
          22,
          20,
          25,
          0,
          2,
          30,
          26,
          24,
          48,
          42,
          38,
          35,
          32,
          25,
          22,
          26,
          23,
          40,
          20,
          25,
          36,
          34,
          31,
          25,
          14,
          24,
          19,
          25,
          28,
          46,
          38,
          47,
          41,
          26,
          24,
          26,
          30,
          24,
          37,
          42,
          26,
          32,
          36,
          26,
          36,
          28,
          17,
          25,
          12.5,
          18.5,
          30,
          23,
          66,
          16,
          48,
          25.5,
          24,
          16,
          22,
          23,
          38.666666666666664,
          47,
          15,
          2,
          2,
          3,
          18,
          18,
          24,
          12,
          15,
          19,
          17,
          10,
          24,
          44,
          43,
          17,
          11,
          16,
          24,
          25,
          38,
          17,
          16,
          26,
          39,
          22,
          35,
          38,
          27,
          25,
          37,
          28,
          25,
          12.5,
          12.5,
          42,
          23.5,
          66,
          16,
          48,
          25.5,
          24,
          16,
          22,
          23,
          38.666666666666664,
          47,
          15,
          2,
          25,
          3,
          18,
          18,
          27,
          22,
          12,
          19,
          17,
          10,
          24,
          44,
          43,
          8,
          20,
          43,
          21,
          19,
          20,
          38,
          37,
          26,
          36,
          30,
          38,
          22,
          18,
          15,
          29,
          24,
          25,
          34,
          30,
          27,
          32,
          27,
          37,
          3.5,
          49,
          22,
          35,
          31,
          20.5,
          17,
          29,
          18,
          -1,
          6,
          44,
          20,
          13,
          30,
          33,
          21,
          24,
          8,
          22.5,
          19,
          23.5,
          18,
          23,
          23.5,
          26,
          59,
          20,
          27,
          32,
          26,
          24,
          21,
          23,
          16,
          26,
          24,
          26,
          16,
          24,
          20,
          43,
          21,
          19,
          20,
          38,
          37,
          26,
          36,
          30,
          38,
          22,
          18,
          15,
          29,
          24,
          25,
          34,
          30,
          27,
          32,
          27,
          37,
          36,
          22,
          31,
          17,
          29,
          18,
          -1,
          6,
          44,
          20,
          13,
          15,
          30,
          33,
          21,
          24,
          15,
          47,
          34,
          17,
          26.666666666666668,
          18.5,
          16.666666666666668,
          13.666666666666666,
          19.666666666666668,
          28.666666666666668,
          16,
          11,
          16.5,
          7,
          10,
          9.5,
          32,
          14,
          8.5,
          28,
          31,
          29,
          15,
          34,
          19,
          18,
          14.5,
          19.666666666666668,
          16,
          13.333333333333334,
          14,
          11,
          6,
          15,
          19,
          2,
          24.5,
          10,
          9.5,
          32,
          8.5,
          28,
          31,
          29,
          24,
          52,
          19,
          35,
          21,
          16.5,
          42,
          28,
          31,
          19,
          17,
          15,
          19,
          25,
          12,
          37,
          7,
          31,
          24,
          24,
          16,
          10,
          22,
          8,
          0,
          18,
          46,
          41,
          38,
          25,
          16,
          10,
          22.666666666666668,
          24.5,
          14,
          26,
          14,
          15,
          5,
          13,
          27,
          23,
          31,
          24.5,
          16.5,
          29,
          27,
          15,
          23,
          22.666666666666668,
          28.666666666666668,
          15.666666666666666,
          33.5,
          27,
          15,
          10,
          13,
          23,
          28,
          8.5,
          22,
          16.5,
          17,
          18,
          9,
          26,
          19.5,
          16.333333333333332,
          1,
          0,
          34,
          -1,
          3,
          -1,
          18,
          -1,
          22,
          19,
          22,
          29.5,
          21,
          11,
          26,
          26,
          -1,
          33,
          1,
          31,
          42,
          20,
          21,
          32,
          19,
          22.5,
          41,
          30,
          30,
          52,
          20,
          27,
          16,
          0,
          5,
          78,
          8,
          28,
          26,
          9,
          -1,
          17,
          13,
          9,
          9,
          27,
          16,
          21,
          22,
          3,
          0,
          -1,
          17,
          -1,
          13.5,
          25,
          43,
          24,
          55,
          16,
          17.5,
          26,
          57,
          24,
          78,
          17,
          22,
          65,
          21,
          24.5,
          43,
          6,
          13,
          0,
          15,
          21,
          19,
          49,
          12,
          36,
          5,
          18,
          28,
          0,
          14,
          3,
          26,
          20,
          -1,
          22,
          6,
          34,
          55,
          37,
          54,
          16,
          25,
          35,
          47,
          28,
          17,
          47,
          21,
          75,
          54,
          16,
          25,
          33,
          33,
          28,
          17,
          54,
          21,
          63,
          11,
          7,
          15,
          15,
          11,
          18,
          14,
          10,
          6,
          10,
          6,
          24,
          57,
          44,
          47,
          19,
          27,
          28,
          24,
          35,
          -1,
          22,
          28,
          17,
          27,
          20
         ]
        },
        {
         "boxpoints": "all",
         "marker": {
          "color": "rgb(84, 201, 240)"
         },
         "name": "LG",
         "showlegend": false,
         "type": "box",
         "y": [
          1,
          29,
          41,
          42,
          27,
          4,
          0,
          4,
          29,
          50,
          22,
          60,
          50,
          41,
          33,
          34,
          35,
          0,
          26,
          25,
          17,
          29,
          28,
          15,
          25,
          20,
          5,
          1,
          19,
          19,
          23,
          18,
          50,
          23,
          26,
          21,
          25,
          32,
          25,
          10,
          19,
          14,
          22,
          60,
          29.5,
          20,
          37.5,
          5,
          13,
          22,
          4,
          5,
          27,
          23,
          16,
          83,
          53,
          16,
          7,
          16,
          17.5,
          29,
          42.5,
          54,
          61,
          81,
          44,
          8,
          26,
          19,
          28,
          25,
          3,
          25,
          26,
          22,
          24,
          25,
          27,
          80,
          19,
          102,
          10,
          39,
          33,
          35,
          44,
          70,
          29,
          17,
          25,
          85,
          24,
          26,
          25,
          17,
          21,
          21,
          48.5,
          28.5,
          38,
          31.5,
          13,
          25,
          25,
          27,
          28,
          39,
          34,
          11,
          30,
          28,
          41,
          15,
          63,
          92,
          24,
          2,
          54,
          24,
          40,
          9,
          13,
          64,
          30,
          3,
          29,
          33,
          28.5,
          15,
          5,
          26,
          3,
          31,
          35,
          26,
          20,
          20,
          46,
          5,
          18,
          53,
          97,
          18,
          16,
          16,
          19,
          29,
          33,
          42,
          29,
          27,
          21,
          17,
          13.5,
          17,
          26,
          26,
          5,
          6,
          10,
          7,
          9,
          22,
          1,
          26,
          3,
          0,
          6,
          3,
          26,
          22,
          9,
          7,
          28,
          15.5,
          32,
          24,
          53.5,
          30,
          28.5,
          -1,
          1,
          54.5,
          58.5,
          28,
          28,
          22,
          53,
          12,
          10,
          27,
          16,
          3,
          1,
          18,
          25,
          22,
          25,
          26.5,
          17,
          21,
          50,
          31,
          13,
          50,
          44,
          22,
          22,
          23,
          26,
          25,
          21,
          35,
          2,
          -1,
          30,
          30,
          4,
          4,
          1,
          20,
          5,
          2,
          -1,
          30,
          30,
          4,
          4,
          20,
          1,
          27,
          28,
          31,
          24,
          26,
          30,
          17,
          15,
          8,
          5,
          11,
          20.5,
          24.5,
          32,
          29,
          27,
          28,
          32,
          53,
          67,
          33,
          29,
          17,
          3,
          27,
          17,
          24,
          29,
          34,
          43,
          52,
          50,
          53,
          15,
          14,
          27,
          22,
          3,
          17,
          16,
          25,
          34,
          -1,
          20,
          3,
          3,
          13,
          22,
          9,
          14,
          11,
          5,
          22,
          29,
          18,
          21,
          28,
          22,
          29,
          4,
          3,
          28,
          28,
          59,
          25,
          23,
          11,
          18,
          -1,
          24,
          0,
          4,
          6,
          25,
          30,
          23,
          43,
          25,
          16,
          6,
          46,
          16,
          19,
          52,
          24,
          28,
          46,
          51,
          23,
          18,
          23,
          28,
          50,
          17,
          18,
          21,
          13,
          4,
          28,
          19,
          29,
          125,
          12,
          29,
          19,
          21,
          14,
          23,
          4,
          28,
          50.5,
          31,
          19,
          16,
          9,
          25,
          1,
          4,
          22,
          4,
          21,
          9,
          6,
          22,
          17,
          25,
          27,
          28,
          45,
          15,
          13,
          3,
          28,
          28,
          1,
          1,
          28,
          22,
          6,
          2,
          0,
          0,
          18,
          43,
          18,
          17,
          21,
          19,
          35,
          5,
          18,
          18,
          49,
          6,
          38,
          8,
          17,
          45,
          21,
          26,
          26,
          15,
          16,
          39
         ]
        },
        {
         "boxpoints": "all",
         "marker": {
          "color": "rgb(0, 188, 217)"
         },
         "name": "Alcatel",
         "showlegend": false,
         "type": "box",
         "y": [
          61,
          2,
          84,
          78,
          1,
          20,
          20,
          8,
          21,
          2,
          3,
          12,
          14,
          10,
          29,
          10,
          46
         ]
        },
        {
         "boxpoints": "all",
         "marker": {
          "color": "rgb(237, 150, 0)"
         },
         "name": "Coolpad",
         "showlegend": false,
         "type": "box",
         "y": [
          49,
          34,
          20,
          3
         ]
        },
        {
         "boxpoints": "all",
         "marker": {
          "color": "rgb(102, 255, 247)"
         },
         "name": "ZTE",
         "showlegend": false,
         "type": "box",
         "y": [
          9,
          29,
          41,
          20,
          18,
          20,
          92,
          31,
          0,
          26,
          61,
          24,
          41,
          62,
          30,
          1,
          14,
          18,
          15,
          3,
          21,
          28,
          26,
          -1,
          21,
          14,
          19,
          74,
          24,
          28,
          28,
          13,
          24,
          23,
          32,
          58,
          13
         ]
        },
        {
         "boxpoints": "all",
         "marker": {
          "color": "rgb(1, 11, 120)"
         },
         "name": "Motorola",
         "showlegend": false,
         "type": "box",
         "y": [
          5,
          21,
          3,
          103,
          14,
          31,
          0,
          30,
          41,
          50,
          44,
          38,
          47,
          32.5,
          50,
          11,
          20,
          21,
          4,
          27.5,
          50,
          24,
          57,
          71,
          21,
          25,
          11,
          10,
          45,
          27,
          20,
          29,
          51,
          8,
          -1,
          12,
          51,
          20,
          78,
          78,
          26,
          32,
          1,
          29,
          23,
          8.5,
          9,
          -1,
          12,
          9,
          3,
          6,
          3,
          18,
          0,
          77,
          23,
          25,
          26,
          30,
          -1,
          23,
          22,
          24,
          29,
          15.5,
          -1,
          71,
          29,
          68,
          3,
          22,
          -1,
          106,
          45,
          21,
          57,
          27,
          26,
          16,
          11,
          25,
          20,
          80,
          47,
          23,
          68,
          47,
          23,
          68,
          31,
          35,
          4,
          7,
          26,
          47,
          90,
          43,
          31,
          32,
          33,
          87,
          54,
          23,
          97,
          34,
          22,
          19,
          53,
          22,
          35,
          29,
          27,
          38,
          20,
          64,
          26,
          27,
          74,
          44,
          27,
          43,
          25,
          31,
          21,
          23,
          39,
          42,
          20,
          43
         ]
        },
        {
         "boxpoints": "all",
         "marker": {
          "color": "rgb(255, 21, 0)"
         },
         "name": "Verizon",
         "showlegend": false,
         "type": "box",
         "y": [
          12,
          8,
          51,
          21,
          53,
          22,
          34,
          4,
          16,
          67,
          6,
          53,
          22,
          83,
          22,
          5,
          82,
          21,
          59,
          28,
          86,
          25
         ]
        },
        {
         "boxpoints": "all",
         "marker": {
          "color": "rgb(12, 55, 59)"
         },
         "name": "ASUS",
         "showlegend": false,
         "type": "box",
         "y": [
          6,
          3,
          9,
          6,
          51,
          45,
          14,
          104,
          12,
          42,
          12,
          74,
          61,
          0,
          53,
          150,
          44,
          13,
          55,
          25,
          37,
          6
         ]
        },
        {
         "boxpoints": "all",
         "marker": {
          "color": "rgb(245, 118, 118)"
         },
         "name": "Kyocera",
         "showlegend": false,
         "type": "box",
         "y": [
          89,
          74,
          50,
          109,
          101,
          29,
          52,
          50,
          24,
          30,
          44,
          56,
          23,
          89,
          79,
          53,
          97,
          48,
          45,
          10,
          15,
          0,
          43,
          13,
          32,
          2,
          7
         ]
        }
       ],
       "layout": {
        "font": {
         "size": 20
        },
        "plot_bgcolor": "rgba(0,0,0,0)",
        "template": {
         "data": {
          "bar": [
           {
            "error_x": {
             "color": "#2a3f5f"
            },
            "error_y": {
             "color": "#2a3f5f"
            },
            "marker": {
             "line": {
              "color": "#E5ECF6",
              "width": 0.5
             }
            },
            "type": "bar"
           }
          ],
          "barpolar": [
           {
            "marker": {
             "line": {
              "color": "#E5ECF6",
              "width": 0.5
             }
            },
            "type": "barpolar"
           }
          ],
          "carpet": [
           {
            "aaxis": {
             "endlinecolor": "#2a3f5f",
             "gridcolor": "white",
             "linecolor": "white",
             "minorgridcolor": "white",
             "startlinecolor": "#2a3f5f"
            },
            "baxis": {
             "endlinecolor": "#2a3f5f",
             "gridcolor": "white",
             "linecolor": "white",
             "minorgridcolor": "white",
             "startlinecolor": "#2a3f5f"
            },
            "type": "carpet"
           }
          ],
          "choropleth": [
           {
            "colorbar": {
             "outlinewidth": 0,
             "ticks": ""
            },
            "type": "choropleth"
           }
          ],
          "contour": [
           {
            "colorbar": {
             "outlinewidth": 0,
             "ticks": ""
            },
            "colorscale": [
             [
              0,
              "#0d0887"
             ],
             [
              0.1111111111111111,
              "#46039f"
             ],
             [
              0.2222222222222222,
              "#7201a8"
             ],
             [
              0.3333333333333333,
              "#9c179e"
             ],
             [
              0.4444444444444444,
              "#bd3786"
             ],
             [
              0.5555555555555556,
              "#d8576b"
             ],
             [
              0.6666666666666666,
              "#ed7953"
             ],
             [
              0.7777777777777778,
              "#fb9f3a"
             ],
             [
              0.8888888888888888,
              "#fdca26"
             ],
             [
              1,
              "#f0f921"
             ]
            ],
            "type": "contour"
           }
          ],
          "contourcarpet": [
           {
            "colorbar": {
             "outlinewidth": 0,
             "ticks": ""
            },
            "type": "contourcarpet"
           }
          ],
          "heatmap": [
           {
            "colorbar": {
             "outlinewidth": 0,
             "ticks": ""
            },
            "colorscale": [
             [
              0,
              "#0d0887"
             ],
             [
              0.1111111111111111,
              "#46039f"
             ],
             [
              0.2222222222222222,
              "#7201a8"
             ],
             [
              0.3333333333333333,
              "#9c179e"
             ],
             [
              0.4444444444444444,
              "#bd3786"
             ],
             [
              0.5555555555555556,
              "#d8576b"
             ],
             [
              0.6666666666666666,
              "#ed7953"
             ],
             [
              0.7777777777777778,
              "#fb9f3a"
             ],
             [
              0.8888888888888888,
              "#fdca26"
             ],
             [
              1,
              "#f0f921"
             ]
            ],
            "type": "heatmap"
           }
          ],
          "heatmapgl": [
           {
            "colorbar": {
             "outlinewidth": 0,
             "ticks": ""
            },
            "colorscale": [
             [
              0,
              "#0d0887"
             ],
             [
              0.1111111111111111,
              "#46039f"
             ],
             [
              0.2222222222222222,
              "#7201a8"
             ],
             [
              0.3333333333333333,
              "#9c179e"
             ],
             [
              0.4444444444444444,
              "#bd3786"
             ],
             [
              0.5555555555555556,
              "#d8576b"
             ],
             [
              0.6666666666666666,
              "#ed7953"
             ],
             [
              0.7777777777777778,
              "#fb9f3a"
             ],
             [
              0.8888888888888888,
              "#fdca26"
             ],
             [
              1,
              "#f0f921"
             ]
            ],
            "type": "heatmapgl"
           }
          ],
          "histogram": [
           {
            "marker": {
             "colorbar": {
              "outlinewidth": 0,
              "ticks": ""
             }
            },
            "type": "histogram"
           }
          ],
          "histogram2d": [
           {
            "colorbar": {
             "outlinewidth": 0,
             "ticks": ""
            },
            "colorscale": [
             [
              0,
              "#0d0887"
             ],
             [
              0.1111111111111111,
              "#46039f"
             ],
             [
              0.2222222222222222,
              "#7201a8"
             ],
             [
              0.3333333333333333,
              "#9c179e"
             ],
             [
              0.4444444444444444,
              "#bd3786"
             ],
             [
              0.5555555555555556,
              "#d8576b"
             ],
             [
              0.6666666666666666,
              "#ed7953"
             ],
             [
              0.7777777777777778,
              "#fb9f3a"
             ],
             [
              0.8888888888888888,
              "#fdca26"
             ],
             [
              1,
              "#f0f921"
             ]
            ],
            "type": "histogram2d"
           }
          ],
          "histogram2dcontour": [
           {
            "colorbar": {
             "outlinewidth": 0,
             "ticks": ""
            },
            "colorscale": [
             [
              0,
              "#0d0887"
             ],
             [
              0.1111111111111111,
              "#46039f"
             ],
             [
              0.2222222222222222,
              "#7201a8"
             ],
             [
              0.3333333333333333,
              "#9c179e"
             ],
             [
              0.4444444444444444,
              "#bd3786"
             ],
             [
              0.5555555555555556,
              "#d8576b"
             ],
             [
              0.6666666666666666,
              "#ed7953"
             ],
             [
              0.7777777777777778,
              "#fb9f3a"
             ],
             [
              0.8888888888888888,
              "#fdca26"
             ],
             [
              1,
              "#f0f921"
             ]
            ],
            "type": "histogram2dcontour"
           }
          ],
          "mesh3d": [
           {
            "colorbar": {
             "outlinewidth": 0,
             "ticks": ""
            },
            "type": "mesh3d"
           }
          ],
          "parcoords": [
           {
            "line": {
             "colorbar": {
              "outlinewidth": 0,
              "ticks": ""
             }
            },
            "type": "parcoords"
           }
          ],
          "pie": [
           {
            "automargin": true,
            "type": "pie"
           }
          ],
          "scatter": [
           {
            "marker": {
             "colorbar": {
              "outlinewidth": 0,
              "ticks": ""
             }
            },
            "type": "scatter"
           }
          ],
          "scatter3d": [
           {
            "line": {
             "colorbar": {
              "outlinewidth": 0,
              "ticks": ""
             }
            },
            "marker": {
             "colorbar": {
              "outlinewidth": 0,
              "ticks": ""
             }
            },
            "type": "scatter3d"
           }
          ],
          "scattercarpet": [
           {
            "marker": {
             "colorbar": {
              "outlinewidth": 0,
              "ticks": ""
             }
            },
            "type": "scattercarpet"
           }
          ],
          "scattergeo": [
           {
            "marker": {
             "colorbar": {
              "outlinewidth": 0,
              "ticks": ""
             }
            },
            "type": "scattergeo"
           }
          ],
          "scattergl": [
           {
            "marker": {
             "colorbar": {
              "outlinewidth": 0,
              "ticks": ""
             }
            },
            "type": "scattergl"
           }
          ],
          "scattermapbox": [
           {
            "marker": {
             "colorbar": {
              "outlinewidth": 0,
              "ticks": ""
             }
            },
            "type": "scattermapbox"
           }
          ],
          "scatterpolar": [
           {
            "marker": {
             "colorbar": {
              "outlinewidth": 0,
              "ticks": ""
             }
            },
            "type": "scatterpolar"
           }
          ],
          "scatterpolargl": [
           {
            "marker": {
             "colorbar": {
              "outlinewidth": 0,
              "ticks": ""
             }
            },
            "type": "scatterpolargl"
           }
          ],
          "scatterternary": [
           {
            "marker": {
             "colorbar": {
              "outlinewidth": 0,
              "ticks": ""
             }
            },
            "type": "scatterternary"
           }
          ],
          "surface": [
           {
            "colorbar": {
             "outlinewidth": 0,
             "ticks": ""
            },
            "colorscale": [
             [
              0,
              "#0d0887"
             ],
             [
              0.1111111111111111,
              "#46039f"
             ],
             [
              0.2222222222222222,
              "#7201a8"
             ],
             [
              0.3333333333333333,
              "#9c179e"
             ],
             [
              0.4444444444444444,
              "#bd3786"
             ],
             [
              0.5555555555555556,
              "#d8576b"
             ],
             [
              0.6666666666666666,
              "#ed7953"
             ],
             [
              0.7777777777777778,
              "#fb9f3a"
             ],
             [
              0.8888888888888888,
              "#fdca26"
             ],
             [
              1,
              "#f0f921"
             ]
            ],
            "type": "surface"
           }
          ],
          "table": [
           {
            "cells": {
             "fill": {
              "color": "#EBF0F8"
             },
             "line": {
              "color": "white"
             }
            },
            "header": {
             "fill": {
              "color": "#C8D4E3"
             },
             "line": {
              "color": "white"
             }
            },
            "type": "table"
           }
          ]
         },
         "layout": {
          "annotationdefaults": {
           "arrowcolor": "#2a3f5f",
           "arrowhead": 0,
           "arrowwidth": 1
          },
          "coloraxis": {
           "colorbar": {
            "outlinewidth": 0,
            "ticks": ""
           }
          },
          "colorscale": {
           "diverging": [
            [
             0,
             "#8e0152"
            ],
            [
             0.1,
             "#c51b7d"
            ],
            [
             0.2,
             "#de77ae"
            ],
            [
             0.3,
             "#f1b6da"
            ],
            [
             0.4,
             "#fde0ef"
            ],
            [
             0.5,
             "#f7f7f7"
            ],
            [
             0.6,
             "#e6f5d0"
            ],
            [
             0.7,
             "#b8e186"
            ],
            [
             0.8,
             "#7fbc41"
            ],
            [
             0.9,
             "#4d9221"
            ],
            [
             1,
             "#276419"
            ]
           ],
           "sequential": [
            [
             0,
             "#0d0887"
            ],
            [
             0.1111111111111111,
             "#46039f"
            ],
            [
             0.2222222222222222,
             "#7201a8"
            ],
            [
             0.3333333333333333,
             "#9c179e"
            ],
            [
             0.4444444444444444,
             "#bd3786"
            ],
            [
             0.5555555555555556,
             "#d8576b"
            ],
            [
             0.6666666666666666,
             "#ed7953"
            ],
            [
             0.7777777777777778,
             "#fb9f3a"
            ],
            [
             0.8888888888888888,
             "#fdca26"
            ],
            [
             1,
             "#f0f921"
            ]
           ],
           "sequentialminus": [
            [
             0,
             "#0d0887"
            ],
            [
             0.1111111111111111,
             "#46039f"
            ],
            [
             0.2222222222222222,
             "#7201a8"
            ],
            [
             0.3333333333333333,
             "#9c179e"
            ],
            [
             0.4444444444444444,
             "#bd3786"
            ],
            [
             0.5555555555555556,
             "#d8576b"
            ],
            [
             0.6666666666666666,
             "#ed7953"
            ],
            [
             0.7777777777777778,
             "#fb9f3a"
            ],
            [
             0.8888888888888888,
             "#fdca26"
            ],
            [
             1,
             "#f0f921"
            ]
           ]
          },
          "colorway": [
           "#636efa",
           "#EF553B",
           "#00cc96",
           "#ab63fa",
           "#FFA15A",
           "#19d3f3",
           "#FF6692",
           "#B6E880",
           "#FF97FF",
           "#FECB52"
          ],
          "font": {
           "color": "#2a3f5f"
          },
          "geo": {
           "bgcolor": "white",
           "lakecolor": "white",
           "landcolor": "#E5ECF6",
           "showlakes": true,
           "showland": true,
           "subunitcolor": "white"
          },
          "hoverlabel": {
           "align": "left"
          },
          "hovermode": "closest",
          "mapbox": {
           "style": "light"
          },
          "paper_bgcolor": "white",
          "plot_bgcolor": "#E5ECF6",
          "polar": {
           "angularaxis": {
            "gridcolor": "white",
            "linecolor": "white",
            "ticks": ""
           },
           "bgcolor": "#E5ECF6",
           "radialaxis": {
            "gridcolor": "white",
            "linecolor": "white",
            "ticks": ""
           }
          },
          "scene": {
           "xaxis": {
            "backgroundcolor": "#E5ECF6",
            "gridcolor": "white",
            "gridwidth": 2,
            "linecolor": "white",
            "showbackground": true,
            "ticks": "",
            "zerolinecolor": "white"
           },
           "yaxis": {
            "backgroundcolor": "#E5ECF6",
            "gridcolor": "white",
            "gridwidth": 2,
            "linecolor": "white",
            "showbackground": true,
            "ticks": "",
            "zerolinecolor": "white"
           },
           "zaxis": {
            "backgroundcolor": "#E5ECF6",
            "gridcolor": "white",
            "gridwidth": 2,
            "linecolor": "white",
            "showbackground": true,
            "ticks": "",
            "zerolinecolor": "white"
           }
          },
          "shapedefaults": {
           "line": {
            "color": "#2a3f5f"
           }
          },
          "ternary": {
           "aaxis": {
            "gridcolor": "white",
            "linecolor": "white",
            "ticks": ""
           },
           "baxis": {
            "gridcolor": "white",
            "linecolor": "white",
            "ticks": ""
           },
           "bgcolor": "#E5ECF6",
           "caxis": {
            "gridcolor": "white",
            "linecolor": "white",
            "ticks": ""
           }
          },
          "title": {
           "x": 0.05
          },
          "xaxis": {
           "automargin": true,
           "gridcolor": "white",
           "linecolor": "white",
           "ticks": "",
           "title": {
            "standoff": 15
           },
           "zerolinecolor": "white",
           "zerolinewidth": 2
          },
          "yaxis": {
           "automargin": true,
           "gridcolor": "white",
           "linecolor": "white",
           "ticks": "",
           "title": {
            "standoff": 15
           },
           "zerolinecolor": "white",
           "zerolinewidth": 2
          }
         }
        },
        "yaxis": {
         "gridcolor": "rgb(219, 219, 219)",
         "showgrid": true,
         "title": {
          "text": "Days"
         }
        }
       }
      },
      "text/html": [
       "<div>\n",
       "        \n",
       "        \n",
       "            <div id=\"9bbd8f5e-fcb0-421a-b3c4-c9fa69566c6c\" class=\"plotly-graph-div\" style=\"height:525px; width:100%;\"></div>\n",
       "            <script type=\"text/javascript\">\n",
       "                require([\"plotly\"], function(Plotly) {\n",
       "                    window.PLOTLYENV=window.PLOTLYENV || {};\n",
       "                    \n",
       "                if (document.getElementById(\"9bbd8f5e-fcb0-421a-b3c4-c9fa69566c6c\")) {\n",
       "                    Plotly.newPlot(\n",
       "                        '9bbd8f5e-fcb0-421a-b3c4-c9fa69566c6c',\n",
       "                        [{\"boxpoints\": \"all\", \"marker\": {\"color\": \"rgb(137, 214, 60)\"}, \"name\": \"Google\", \"showlegend\": false, \"type\": \"box\", \"y\": [5.0, -7.0, -2.0, -5.0, 1.0, 5.0, 2.0, 0.0, 5.0, -7.0, -2.0, -5.0, 1.0, 5.0, 2.0, 0.0, 28.0, -7.0, 1.0, 5.0, 2.0, 0.0, 28.0, -7.0, 1.0, 5.0, 2.0, 0.0, -2.0, -5.0, 4.0, 1.0, 5.0, 0.0, -2.0, -5.0, 4.0, 3.0, 1.0, 5.0, 2.0, -2.0, -5.0, 4.0, 3.0, 1.0, 5.0, 2.0, 0.0, 19.0, 2.0, 7.0, 19.0, 2.0, 7.0, -2.0, -5.0, 4.0, 1.0, 5.0, 0.0]}, {\"boxpoints\": \"all\", \"marker\": {\"color\": \"rgb(255, 0, 238)\"}, \"name\": \"Revvl(T-Mobile)\", \"showlegend\": false, \"type\": \"box\", \"y\": [8.0, 16.0, 1.0, 22.0, 23.0, 14.0, 12.0, 17.0, 18.0, 20.0, 15.0, 23.0, 1.0]}, {\"boxpoints\": \"all\", \"marker\": {\"color\": \"rgb(189, 15, 108)\"}, \"name\": \"HTC\", \"showlegend\": false, \"type\": \"box\", \"y\": [9.0, 13.0, 18.0, 42.0, 35.0, 27.0, 28.0, 29.0, 26.0, 14.0, 24.0, 15.0, 8.0, 11.0, 78.0, 29.0, -1.0, 5.0, 15.0, 3.0, 10.0, 21.5, 13.0, 100.0, 13.0, 15.0, 28.0, 11.0, 18.0, 58.0, 7.0, 17.0, 67.0, 12.0, 14.0, 13.0, 3.0, 6.0, 3.0, 4.0, -1.0, 14.0, 9.0, 4.0, 10.0, 6.0, -1.0, 16.0, 24.0, 66.0, 4.0]}, {\"boxpoints\": \"all\", \"marker\": {\"color\": \"rgb(23, 23, 23)\"}, \"name\": \"Sony\", \"showlegend\": false, \"type\": \"box\", \"y\": [26.0, 26.0, 22.0, 6.0]}, {\"boxpoints\": \"all\", \"marker\": {\"color\": \"rgb(38, 38, 38)\"}, \"name\": \"BlackBerry\", \"showlegend\": false, \"type\": \"box\", \"y\": [25.0, 30.0, 14.0, 21.0, 26.0, 25.0, 58.0, 11.0, 45.0, 23.0, 35.0, 32.0, 25.0, 28.0, 32.0, 29.0, 9.0, 4.0, 20.0, -1.0, 70.0, 13.0, 20.0, -1.0, -1.0]}, {\"boxpoints\": \"all\", \"marker\": {\"color\": \"rgb(95, 201, 125)\"}, \"name\": \"Samsung\", \"showlegend\": false, \"type\": \"box\", \"y\": [5.0, 15.0, 57.0, 13.0, 69.0, 26.0, 38.0, 53.0, 27.0, 38.0, 19.0, 17.0, 38.0, 53.0, 27.0, 27.0, 25.0, 38.0, 7.0, 53.0, 27.0, 20.0, 30.0, 17.0, 19.0, 59.0, 53.0, 38.0, 20.0, 14.0, 14.0, 22.0, 28.5, 26.0, 20.0, 54.0, 16.0, 25.0, 47.0, 28.0, 17.0, 15.5, 0.0, 54.0, 33.5, 25.0, 28.0, 36.0, 35.0, 5.0, 22.0, 34.0, 29.0, 50.5, 47.0, 21.0, 14.0, 7.0, 17.0, 12.0, 17.0, 17.0, 20.0, 30.0, 15.0, 14.0, 20.0, 22.0, 27.5, 25.0, 38.0, 54.0, 16.0, 25.0, 33.0, 18.0, 25.0, 37.0, 42.0, 31.0, 37.0, 26.0, 25.0, 21.0, 19.0, 5.0, 19.0, 29.0, 29.5, 27.0, 19.0, 25.0, 25.0, 8.0, 28.0, 22.0, 47.0, 4.0, 12.0, 30.0, 32.0, 47.0, 15.0, 18.0, -1.0, 17.5, 18.0, 16.0, -1.0, 18.0, -1.0, 17.5, 18.0, 16.0, -1.0, 4.0, 33.0, 28.0, 22.0, 26.0, 34.0, 16.0, 26.0, 17.0, 25.0, 30.0, 42.0, 36.0, 37.0, 26.0, 25.0, 21.0, 19.0, 15.5, 5.0, 22.0, 21.0, 19.5, 30.5, 25.0, 8.0, 22.0, 47.0, 4.0, 12.0, 30.0, 32.0, 47.0, 14.0, 24.0, 19.0, 25.0, 28.0, 46.0, 38.0, 37.0, 41.0, 26.0, 24.0, 26.0, 30.0, 24.0, 37.0, 41.0, 27.0, 32.0, 36.0, 26.0, 36.0, 24.0, 29.0, 8.5, 22.0, 16.5, 17.0, 9.0, 1.5, 3.0, 20.5, 21.0, 25.0, 16.333333333333332, 1.0, 0.0, 11.0, 34.0, 18.0, -1.0, 7.0, -1.0, 22.0, 19.0, 20.0, 22.0, 29.5, 21.0, 55.0, 24.0, 44.0, 33.0, 27.0, 25.0, 36.0, 26.0, 44.0, 28.0, 25.0, 22.0, 30.0, 31.0, 22.0, 27.0, 20.0, 29.0, 32.0, 27.0, 29.0, 13.5, 27.0, 12.0, 28.0, 20.5, 16.5, 18.0, 15.0, 26.0, 21.666666666666668, 26.5, 10.0, 25.0, 13.0, 19.0, 20.0, 24.5, 16.0, 30.0, 10.0, 17.0, 26.0, 22.0, 23.0, 17.5, 34.5, 16.5, 38.0, 33.0, 34.0, 15.0, 34.0, 22.5, 12.5, 35.5, 18.0, 29.0, 18.5, 6.0, 9.0, 20.0, 29.0, 12.0, 6.0, 11.0, 7.0, 21.0, 10.0, 18.0, 25.0, 31.0, 37.0, 5.0, 14.0, 21.5, 25.0, 8.0, 0.0, 12.0, 9.0, 21.0, 32.0, 43.0, 0.0, 4.0, 15.0, 9.0, 10.0, 18.0, 25.0, 48.0, 42.0, 31.0, 37.0, 20.0, 23.0, 50.0, 29.0, 25.0, 21.0, 42.0, 38.0, 37.0, 29.0, 32.0, 24.0, 22.0, 24.0, 24.0, 39.0, 20.0, 25.0, 33.0, 8.0, 13.0, 17.0, 25.0, 26.0, 42.0, 25.0, 23.0, 40.666666666666664, 8.0, 12.0, 22.0, 28.0, 35.0, 0.0, 3.0, 16.0, 20.0, 25.0, 0.0, 2.0, 23.0, 50.0, 29.0, 25.0, 21.0, 42.0, 31.0, 26.0, 32.0, 24.0, 22.0, 24.0, 24.0, 39.0, 20.0, 25.0, 8.0, 13.0, 17.0, 25.0, 26.0, 13.5, 42.0, 12.0, 40.666666666666664, 8.0, 12.0, 22.0, 28.0, 35.0, 0.0, 16.0, 20.0, 22.0, 20.0, 25.0, 0.0, 2.0, 30.0, 26.0, 24.0, 48.0, 42.0, 38.0, 35.0, 32.0, 25.0, 22.0, 26.0, 23.0, 40.0, 20.0, 25.0, 36.0, 34.0, 31.0, 25.0, 14.0, 24.0, 19.0, 25.0, 28.0, 46.0, 38.0, 47.0, 41.0, 26.0, 24.0, 26.0, 30.0, 24.0, 37.0, 42.0, 26.0, 32.0, 36.0, 26.0, 36.0, 28.0, 17.0, 25.0, 12.5, 18.5, 30.0, 23.0, 66.0, 16.0, 48.0, 25.5, 24.0, 16.0, 22.0, 23.0, 38.666666666666664, 47.0, 15.0, 2.0, 2.0, 3.0, 18.0, 18.0, 24.0, 12.0, 15.0, 19.0, 17.0, 10.0, 24.0, 44.0, 43.0, 17.0, 11.0, 16.0, 24.0, 25.0, 38.0, 17.0, 16.0, 26.0, 39.0, 22.0, 35.0, 38.0, 27.0, 25.0, 37.0, 28.0, 25.0, 12.5, 12.5, 42.0, 23.5, 66.0, 16.0, 48.0, 25.5, 24.0, 16.0, 22.0, 23.0, 38.666666666666664, 47.0, 15.0, 2.0, 25.0, 3.0, 18.0, 18.0, 27.0, 22.0, 12.0, 19.0, 17.0, 10.0, 24.0, 44.0, 43.0, 8.0, 20.0, 43.0, 21.0, 19.0, 20.0, 38.0, 37.0, 26.0, 36.0, 30.0, 38.0, 22.0, 18.0, 15.0, 29.0, 24.0, 25.0, 34.0, 30.0, 27.0, 32.0, 27.0, 37.0, 3.5, 49.0, 22.0, 35.0, 31.0, 20.5, 17.0, 29.0, 18.0, -1.0, 6.0, 44.0, 20.0, 13.0, 30.0, 33.0, 21.0, 24.0, 8.0, 22.5, 19.0, 23.5, 18.0, 23.0, 23.5, 26.0, 59.0, 20.0, 27.0, 32.0, 26.0, 24.0, 21.0, 23.0, 16.0, 26.0, 24.0, 26.0, 16.0, 24.0, 20.0, 43.0, 21.0, 19.0, 20.0, 38.0, 37.0, 26.0, 36.0, 30.0, 38.0, 22.0, 18.0, 15.0, 29.0, 24.0, 25.0, 34.0, 30.0, 27.0, 32.0, 27.0, 37.0, 36.0, 22.0, 31.0, 17.0, 29.0, 18.0, -1.0, 6.0, 44.0, 20.0, 13.0, 15.0, 30.0, 33.0, 21.0, 24.0, 15.0, 47.0, 34.0, 17.0, 26.666666666666668, 18.5, 16.666666666666668, 13.666666666666666, 19.666666666666668, 28.666666666666668, 16.0, 11.0, 16.5, 7.0, 10.0, 9.5, 32.0, 14.0, 8.5, 28.0, 31.0, 29.0, 15.0, 34.0, 19.0, 18.0, 14.5, 19.666666666666668, 16.0, 13.333333333333334, 14.0, 11.0, 6.0, 15.0, 19.0, 2.0, 24.5, 10.0, 9.5, 32.0, 8.5, 28.0, 31.0, 29.0, 24.0, 52.0, 19.0, 35.0, 21.0, 16.5, 42.0, 28.0, 31.0, 19.0, 17.0, 15.0, 19.0, 25.0, 12.0, 37.0, 7.0, 31.0, 24.0, 24.0, 16.0, 10.0, 22.0, 8.0, 0.0, 18.0, 46.0, 41.0, 38.0, 25.0, 16.0, 10.0, 22.666666666666668, 24.5, 14.0, 26.0, 14.0, 15.0, 5.0, 13.0, 27.0, 23.0, 31.0, 24.5, 16.5, 29.0, 27.0, 15.0, 23.0, 22.666666666666668, 28.666666666666668, 15.666666666666666, 33.5, 27.0, 15.0, 10.0, 13.0, 23.0, 28.0, 8.5, 22.0, 16.5, 17.0, 18.0, 9.0, 26.0, 19.5, 16.333333333333332, 1.0, 0.0, 34.0, -1.0, 3.0, -1.0, 18.0, -1.0, 22.0, 19.0, 22.0, 29.5, 21.0, 11.0, 26.0, 26.0, -1.0, 33.0, 1.0, 31.0, 42.0, 20.0, 21.0, 32.0, 19.0, 22.5, 41.0, 30.0, 30.0, 52.0, 20.0, 27.0, 16.0, 0.0, 5.0, 78.0, 8.0, 28.0, 26.0, 9.0, -1.0, 17.0, 13.0, 9.0, 9.0, 27.0, 16.0, 21.0, 22.0, 3.0, 0.0, -1.0, 17.0, -1.0, 13.5, 25.0, 43.0, 24.0, 55.0, 16.0, 17.5, 26.0, 57.0, 24.0, 78.0, 17.0, 22.0, 65.0, 21.0, 24.5, 43.0, 6.0, 13.0, 0.0, 15.0, 21.0, 19.0, 49.0, 12.0, 36.0, 5.0, 18.0, 28.0, 0.0, 14.0, 3.0, 26.0, 20.0, -1.0, 22.0, 6.0, 34.0, 55.0, 37.0, 54.0, 16.0, 25.0, 35.0, 47.0, 28.0, 17.0, 47.0, 21.0, 75.0, 54.0, 16.0, 25.0, 33.0, 33.0, 28.0, 17.0, 54.0, 21.0, 63.0, 11.0, 7.0, 15.0, 15.0, 11.0, 18.0, 14.0, 10.0, 6.0, 10.0, 6.0, 24.0, 57.0, 44.0, 47.0, 19.0, 27.0, 28.0, 24.0, 35.0, -1.0, 22.0, 28.0, 17.0, 27.0, 20.0]}, {\"boxpoints\": \"all\", \"marker\": {\"color\": \"rgb(84, 201, 240)\"}, \"name\": \"LG\", \"showlegend\": false, \"type\": \"box\", \"y\": [1.0, 29.0, 41.0, 42.0, 27.0, 4.0, 0.0, 4.0, 29.0, 50.0, 22.0, 60.0, 50.0, 41.0, 33.0, 34.0, 35.0, 0.0, 26.0, 25.0, 17.0, 29.0, 28.0, 15.0, 25.0, 20.0, 5.0, 1.0, 19.0, 19.0, 23.0, 18.0, 50.0, 23.0, 26.0, 21.0, 25.0, 32.0, 25.0, 10.0, 19.0, 14.0, 22.0, 60.0, 29.5, 20.0, 37.5, 5.0, 13.0, 22.0, 4.0, 5.0, 27.0, 23.0, 16.0, 83.0, 53.0, 16.0, 7.0, 16.0, 17.5, 29.0, 42.5, 54.0, 61.0, 81.0, 44.0, 8.0, 26.0, 19.0, 28.0, 25.0, 3.0, 25.0, 26.0, 22.0, 24.0, 25.0, 27.0, 80.0, 19.0, 102.0, 10.0, 39.0, 33.0, 35.0, 44.0, 70.0, 29.0, 17.0, 25.0, 85.0, 24.0, 26.0, 25.0, 17.0, 21.0, 21.0, 48.5, 28.5, 38.0, 31.5, 13.0, 25.0, 25.0, 27.0, 28.0, 39.0, 34.0, 11.0, 30.0, 28.0, 41.0, 15.0, 63.0, 92.0, 24.0, 2.0, 54.0, 24.0, 40.0, 9.0, 13.0, 64.0, 30.0, 3.0, 29.0, 33.0, 28.5, 15.0, 5.0, 26.0, 3.0, 31.0, 35.0, 26.0, 20.0, 20.0, 46.0, 5.0, 18.0, 53.0, 97.0, 18.0, 16.0, 16.0, 19.0, 29.0, 33.0, 42.0, 29.0, 27.0, 21.0, 17.0, 13.5, 17.0, 26.0, 26.0, 5.0, 6.0, 10.0, 7.0, 9.0, 22.0, 1.0, 26.0, 3.0, 0.0, 6.0, 3.0, 26.0, 22.0, 9.0, 7.0, 28.0, 15.5, 32.0, 24.0, 53.5, 30.0, 28.5, -1.0, 1.0, 54.5, 58.5, 28.0, 28.0, 22.0, 53.0, 12.0, 10.0, 27.0, 16.0, 3.0, 1.0, 18.0, 25.0, 22.0, 25.0, 26.5, 17.0, 21.0, 50.0, 31.0, 13.0, 50.0, 44.0, 22.0, 22.0, 23.0, 26.0, 25.0, 21.0, 35.0, 2.0, -1.0, 30.0, 30.0, 4.0, 4.0, 1.0, 20.0, 5.0, 2.0, -1.0, 30.0, 30.0, 4.0, 4.0, 20.0, 1.0, 27.0, 28.0, 31.0, 24.0, 26.0, 30.0, 17.0, 15.0, 8.0, 5.0, 11.0, 20.5, 24.5, 32.0, 29.0, 27.0, 28.0, 32.0, 53.0, 67.0, 33.0, 29.0, 17.0, 3.0, 27.0, 17.0, 24.0, 29.0, 34.0, 43.0, 52.0, 50.0, 53.0, 15.0, 14.0, 27.0, 22.0, 3.0, 17.0, 16.0, 25.0, 34.0, -1.0, 20.0, 3.0, 3.0, 13.0, 22.0, 9.0, 14.0, 11.0, 5.0, 22.0, 29.0, 18.0, 21.0, 28.0, 22.0, 29.0, 4.0, 3.0, 28.0, 28.0, 59.0, 25.0, 23.0, 11.0, 18.0, -1.0, 24.0, 0.0, 4.0, 6.0, 25.0, 30.0, 23.0, 43.0, 25.0, 16.0, 6.0, 46.0, 16.0, 19.0, 52.0, 24.0, 28.0, 46.0, 51.0, 23.0, 18.0, 23.0, 28.0, 50.0, 17.0, 18.0, 21.0, 13.0, 4.0, 28.0, 19.0, 29.0, 125.0, 12.0, 29.0, 19.0, 21.0, 14.0, 23.0, 4.0, 28.0, 50.5, 31.0, 19.0, 16.0, 9.0, 25.0, 1.0, 4.0, 22.0, 4.0, 21.0, 9.0, 6.0, 22.0, 17.0, 25.0, 27.0, 28.0, 45.0, 15.0, 13.0, 3.0, 28.0, 28.0, 1.0, 1.0, 28.0, 22.0, 6.0, 2.0, 0.0, 0.0, 18.0, 43.0, 18.0, 17.0, 21.0, 19.0, 35.0, 5.0, 18.0, 18.0, 49.0, 6.0, 38.0, 8.0, 17.0, 45.0, 21.0, 26.0, 26.0, 15.0, 16.0, 39.0]}, {\"boxpoints\": \"all\", \"marker\": {\"color\": \"rgb(0, 188, 217)\"}, \"name\": \"Alcatel\", \"showlegend\": false, \"type\": \"box\", \"y\": [61.0, 2.0, 84.0, 78.0, 1.0, 20.0, 20.0, 8.0, 21.0, 2.0, 3.0, 12.0, 14.0, 10.0, 29.0, 10.0, 46.0]}, {\"boxpoints\": \"all\", \"marker\": {\"color\": \"rgb(237, 150, 0)\"}, \"name\": \"Coolpad\", \"showlegend\": false, \"type\": \"box\", \"y\": [49.0, 34.0, 20.0, 3.0]}, {\"boxpoints\": \"all\", \"marker\": {\"color\": \"rgb(102, 255, 247)\"}, \"name\": \"ZTE\", \"showlegend\": false, \"type\": \"box\", \"y\": [9.0, 29.0, 41.0, 20.0, 18.0, 20.0, 92.0, 31.0, 0.0, 26.0, 61.0, 24.0, 41.0, 62.0, 30.0, 1.0, 14.0, 18.0, 15.0, 3.0, 21.0, 28.0, 26.0, -1.0, 21.0, 14.0, 19.0, 74.0, 24.0, 28.0, 28.0, 13.0, 24.0, 23.0, 32.0, 58.0, 13.0]}, {\"boxpoints\": \"all\", \"marker\": {\"color\": \"rgb(1, 11, 120)\"}, \"name\": \"Motorola\", \"showlegend\": false, \"type\": \"box\", \"y\": [5.0, 21.0, 3.0, 103.0, 14.0, 31.0, 0.0, 30.0, 41.0, 50.0, 44.0, 38.0, 47.0, 32.5, 50.0, 11.0, 20.0, 21.0, 4.0, 27.5, 50.0, 24.0, 57.0, 71.0, 21.0, 25.0, 11.0, 10.0, 45.0, 27.0, 20.0, 29.0, 51.0, 8.0, -1.0, 12.0, 51.0, 20.0, 78.0, 78.0, 26.0, 32.0, 1.0, 29.0, 23.0, 8.5, 9.0, -1.0, 12.0, 9.0, 3.0, 6.0, 3.0, 18.0, 0.0, 77.0, 23.0, 25.0, 26.0, 30.0, -1.0, 23.0, 22.0, 24.0, 29.0, 15.5, -1.0, 71.0, 29.0, 68.0, 3.0, 22.0, -1.0, 106.0, 45.0, 21.0, 57.0, 27.0, 26.0, 16.0, 11.0, 25.0, 20.0, 80.0, 47.0, 23.0, 68.0, 47.0, 23.0, 68.0, 31.0, 35.0, 4.0, 7.0, 26.0, 47.0, 90.0, 43.0, 31.0, 32.0, 33.0, 87.0, 54.0, 23.0, 97.0, 34.0, 22.0, 19.0, 53.0, 22.0, 35.0, 29.0, 27.0, 38.0, 20.0, 64.0, 26.0, 27.0, 74.0, 44.0, 27.0, 43.0, 25.0, 31.0, 21.0, 23.0, 39.0, 42.0, 20.0, 43.0]}, {\"boxpoints\": \"all\", \"marker\": {\"color\": \"rgb(255, 21, 0)\"}, \"name\": \"Verizon\", \"showlegend\": false, \"type\": \"box\", \"y\": [12.0, 8.0, 51.0, 21.0, 53.0, 22.0, 34.0, 4.0, 16.0, 67.0, 6.0, 53.0, 22.0, 83.0, 22.0, 5.0, 82.0, 21.0, 59.0, 28.0, 86.0, 25.0]}, {\"boxpoints\": \"all\", \"marker\": {\"color\": \"rgb(12, 55, 59)\"}, \"name\": \"ASUS\", \"showlegend\": false, \"type\": \"box\", \"y\": [6.0, 3.0, 9.0, 6.0, 51.0, 45.0, 14.0, 104.0, 12.0, 42.0, 12.0, 74.0, 61.0, 0.0, 53.0, 150.0, 44.0, 13.0, 55.0, 25.0, 37.0, 6.0]}, {\"boxpoints\": \"all\", \"marker\": {\"color\": \"rgb(245, 118, 118)\"}, \"name\": \"Kyocera\", \"showlegend\": false, \"type\": \"box\", \"y\": [89.0, 74.0, 50.0, 109.0, 101.0, 29.0, 52.0, 50.0, 24.0, 30.0, 44.0, 56.0, 23.0, 89.0, 79.0, 53.0, 97.0, 48.0, 45.0, 10.0, 15.0, 0.0, 43.0, 13.0, 32.0, 2.0, 7.0]}],\n",
       "                        {\"font\": {\"size\": 20}, \"plot_bgcolor\": \"rgba(0,0,0,0)\", \"template\": {\"data\": {\"bar\": [{\"error_x\": {\"color\": \"#2a3f5f\"}, \"error_y\": {\"color\": \"#2a3f5f\"}, \"marker\": {\"line\": {\"color\": \"#E5ECF6\", \"width\": 0.5}}, \"type\": \"bar\"}], \"barpolar\": [{\"marker\": {\"line\": {\"color\": \"#E5ECF6\", \"width\": 0.5}}, \"type\": \"barpolar\"}], \"carpet\": [{\"aaxis\": {\"endlinecolor\": \"#2a3f5f\", \"gridcolor\": \"white\", \"linecolor\": \"white\", \"minorgridcolor\": \"white\", \"startlinecolor\": \"#2a3f5f\"}, \"baxis\": {\"endlinecolor\": \"#2a3f5f\", \"gridcolor\": \"white\", \"linecolor\": \"white\", \"minorgridcolor\": \"white\", \"startlinecolor\": \"#2a3f5f\"}, \"type\": \"carpet\"}], \"choropleth\": [{\"colorbar\": {\"outlinewidth\": 0, \"ticks\": \"\"}, \"type\": \"choropleth\"}], \"contour\": [{\"colorbar\": {\"outlinewidth\": 0, \"ticks\": \"\"}, \"colorscale\": [[0.0, \"#0d0887\"], [0.1111111111111111, \"#46039f\"], [0.2222222222222222, \"#7201a8\"], [0.3333333333333333, \"#9c179e\"], [0.4444444444444444, \"#bd3786\"], [0.5555555555555556, \"#d8576b\"], [0.6666666666666666, \"#ed7953\"], [0.7777777777777778, \"#fb9f3a\"], [0.8888888888888888, \"#fdca26\"], [1.0, \"#f0f921\"]], \"type\": \"contour\"}], \"contourcarpet\": [{\"colorbar\": {\"outlinewidth\": 0, \"ticks\": \"\"}, \"type\": \"contourcarpet\"}], \"heatmap\": [{\"colorbar\": {\"outlinewidth\": 0, \"ticks\": \"\"}, \"colorscale\": [[0.0, \"#0d0887\"], [0.1111111111111111, \"#46039f\"], [0.2222222222222222, \"#7201a8\"], [0.3333333333333333, \"#9c179e\"], [0.4444444444444444, \"#bd3786\"], [0.5555555555555556, \"#d8576b\"], [0.6666666666666666, \"#ed7953\"], [0.7777777777777778, \"#fb9f3a\"], [0.8888888888888888, \"#fdca26\"], [1.0, \"#f0f921\"]], \"type\": \"heatmap\"}], \"heatmapgl\": [{\"colorbar\": {\"outlinewidth\": 0, \"ticks\": \"\"}, \"colorscale\": [[0.0, \"#0d0887\"], [0.1111111111111111, \"#46039f\"], [0.2222222222222222, \"#7201a8\"], [0.3333333333333333, \"#9c179e\"], [0.4444444444444444, \"#bd3786\"], [0.5555555555555556, \"#d8576b\"], [0.6666666666666666, \"#ed7953\"], [0.7777777777777778, \"#fb9f3a\"], [0.8888888888888888, \"#fdca26\"], [1.0, \"#f0f921\"]], \"type\": \"heatmapgl\"}], \"histogram\": [{\"marker\": {\"colorbar\": {\"outlinewidth\": 0, \"ticks\": \"\"}}, \"type\": \"histogram\"}], \"histogram2d\": [{\"colorbar\": {\"outlinewidth\": 0, \"ticks\": \"\"}, \"colorscale\": [[0.0, \"#0d0887\"], [0.1111111111111111, \"#46039f\"], [0.2222222222222222, \"#7201a8\"], [0.3333333333333333, \"#9c179e\"], [0.4444444444444444, \"#bd3786\"], [0.5555555555555556, \"#d8576b\"], [0.6666666666666666, \"#ed7953\"], [0.7777777777777778, \"#fb9f3a\"], [0.8888888888888888, \"#fdca26\"], [1.0, \"#f0f921\"]], \"type\": \"histogram2d\"}], \"histogram2dcontour\": [{\"colorbar\": {\"outlinewidth\": 0, \"ticks\": \"\"}, \"colorscale\": [[0.0, \"#0d0887\"], [0.1111111111111111, \"#46039f\"], [0.2222222222222222, \"#7201a8\"], [0.3333333333333333, \"#9c179e\"], [0.4444444444444444, \"#bd3786\"], [0.5555555555555556, \"#d8576b\"], [0.6666666666666666, \"#ed7953\"], [0.7777777777777778, \"#fb9f3a\"], [0.8888888888888888, \"#fdca26\"], [1.0, \"#f0f921\"]], \"type\": \"histogram2dcontour\"}], \"mesh3d\": [{\"colorbar\": {\"outlinewidth\": 0, \"ticks\": \"\"}, \"type\": \"mesh3d\"}], \"parcoords\": [{\"line\": {\"colorbar\": {\"outlinewidth\": 0, \"ticks\": \"\"}}, \"type\": \"parcoords\"}], \"pie\": [{\"automargin\": true, \"type\": \"pie\"}], \"scatter\": [{\"marker\": {\"colorbar\": {\"outlinewidth\": 0, \"ticks\": \"\"}}, \"type\": \"scatter\"}], \"scatter3d\": [{\"line\": {\"colorbar\": {\"outlinewidth\": 0, \"ticks\": \"\"}}, \"marker\": {\"colorbar\": {\"outlinewidth\": 0, \"ticks\": \"\"}}, \"type\": \"scatter3d\"}], \"scattercarpet\": [{\"marker\": {\"colorbar\": {\"outlinewidth\": 0, \"ticks\": \"\"}}, \"type\": \"scattercarpet\"}], \"scattergeo\": [{\"marker\": {\"colorbar\": {\"outlinewidth\": 0, \"ticks\": \"\"}}, \"type\": \"scattergeo\"}], \"scattergl\": [{\"marker\": {\"colorbar\": {\"outlinewidth\": 0, \"ticks\": \"\"}}, \"type\": \"scattergl\"}], \"scattermapbox\": [{\"marker\": {\"colorbar\": {\"outlinewidth\": 0, \"ticks\": \"\"}}, \"type\": \"scattermapbox\"}], \"scatterpolar\": [{\"marker\": {\"colorbar\": {\"outlinewidth\": 0, \"ticks\": \"\"}}, \"type\": \"scatterpolar\"}], \"scatterpolargl\": [{\"marker\": {\"colorbar\": {\"outlinewidth\": 0, \"ticks\": \"\"}}, \"type\": \"scatterpolargl\"}], \"scatterternary\": [{\"marker\": {\"colorbar\": {\"outlinewidth\": 0, \"ticks\": \"\"}}, \"type\": \"scatterternary\"}], \"surface\": [{\"colorbar\": {\"outlinewidth\": 0, \"ticks\": \"\"}, \"colorscale\": [[0.0, \"#0d0887\"], [0.1111111111111111, \"#46039f\"], [0.2222222222222222, \"#7201a8\"], [0.3333333333333333, \"#9c179e\"], [0.4444444444444444, \"#bd3786\"], [0.5555555555555556, \"#d8576b\"], [0.6666666666666666, \"#ed7953\"], [0.7777777777777778, \"#fb9f3a\"], [0.8888888888888888, \"#fdca26\"], [1.0, \"#f0f921\"]], \"type\": \"surface\"}], \"table\": [{\"cells\": {\"fill\": {\"color\": \"#EBF0F8\"}, \"line\": {\"color\": \"white\"}}, \"header\": {\"fill\": {\"color\": \"#C8D4E3\"}, \"line\": {\"color\": \"white\"}}, \"type\": \"table\"}]}, \"layout\": {\"annotationdefaults\": {\"arrowcolor\": \"#2a3f5f\", \"arrowhead\": 0, \"arrowwidth\": 1}, \"coloraxis\": {\"colorbar\": {\"outlinewidth\": 0, \"ticks\": \"\"}}, \"colorscale\": {\"diverging\": [[0, \"#8e0152\"], [0.1, \"#c51b7d\"], [0.2, \"#de77ae\"], [0.3, \"#f1b6da\"], [0.4, \"#fde0ef\"], [0.5, \"#f7f7f7\"], [0.6, \"#e6f5d0\"], [0.7, \"#b8e186\"], [0.8, \"#7fbc41\"], [0.9, \"#4d9221\"], [1, \"#276419\"]], \"sequential\": [[0.0, \"#0d0887\"], [0.1111111111111111, \"#46039f\"], [0.2222222222222222, \"#7201a8\"], [0.3333333333333333, \"#9c179e\"], [0.4444444444444444, \"#bd3786\"], [0.5555555555555556, \"#d8576b\"], [0.6666666666666666, \"#ed7953\"], [0.7777777777777778, \"#fb9f3a\"], [0.8888888888888888, \"#fdca26\"], [1.0, \"#f0f921\"]], \"sequentialminus\": [[0.0, \"#0d0887\"], [0.1111111111111111, \"#46039f\"], [0.2222222222222222, \"#7201a8\"], [0.3333333333333333, \"#9c179e\"], [0.4444444444444444, \"#bd3786\"], [0.5555555555555556, \"#d8576b\"], [0.6666666666666666, \"#ed7953\"], [0.7777777777777778, \"#fb9f3a\"], [0.8888888888888888, \"#fdca26\"], [1.0, \"#f0f921\"]]}, \"colorway\": [\"#636efa\", \"#EF553B\", \"#00cc96\", \"#ab63fa\", \"#FFA15A\", \"#19d3f3\", \"#FF6692\", \"#B6E880\", \"#FF97FF\", \"#FECB52\"], \"font\": {\"color\": \"#2a3f5f\"}, \"geo\": {\"bgcolor\": \"white\", \"lakecolor\": \"white\", \"landcolor\": \"#E5ECF6\", \"showlakes\": true, \"showland\": true, \"subunitcolor\": \"white\"}, \"hoverlabel\": {\"align\": \"left\"}, \"hovermode\": \"closest\", \"mapbox\": {\"style\": \"light\"}, \"paper_bgcolor\": \"white\", \"plot_bgcolor\": \"#E5ECF6\", \"polar\": {\"angularaxis\": {\"gridcolor\": \"white\", \"linecolor\": \"white\", \"ticks\": \"\"}, \"bgcolor\": \"#E5ECF6\", \"radialaxis\": {\"gridcolor\": \"white\", \"linecolor\": \"white\", \"ticks\": \"\"}}, \"scene\": {\"xaxis\": {\"backgroundcolor\": \"#E5ECF6\", \"gridcolor\": \"white\", \"gridwidth\": 2, \"linecolor\": \"white\", \"showbackground\": true, \"ticks\": \"\", \"zerolinecolor\": \"white\"}, \"yaxis\": {\"backgroundcolor\": \"#E5ECF6\", \"gridcolor\": \"white\", \"gridwidth\": 2, \"linecolor\": \"white\", \"showbackground\": true, \"ticks\": \"\", \"zerolinecolor\": \"white\"}, \"zaxis\": {\"backgroundcolor\": \"#E5ECF6\", \"gridcolor\": \"white\", \"gridwidth\": 2, \"linecolor\": \"white\", \"showbackground\": true, \"ticks\": \"\", \"zerolinecolor\": \"white\"}}, \"shapedefaults\": {\"line\": {\"color\": \"#2a3f5f\"}}, \"ternary\": {\"aaxis\": {\"gridcolor\": \"white\", \"linecolor\": \"white\", \"ticks\": \"\"}, \"baxis\": {\"gridcolor\": \"white\", \"linecolor\": \"white\", \"ticks\": \"\"}, \"bgcolor\": \"#E5ECF6\", \"caxis\": {\"gridcolor\": \"white\", \"linecolor\": \"white\", \"ticks\": \"\"}}, \"title\": {\"x\": 0.05}, \"xaxis\": {\"automargin\": true, \"gridcolor\": \"white\", \"linecolor\": \"white\", \"ticks\": \"\", \"title\": {\"standoff\": 15}, \"zerolinecolor\": \"white\", \"zerolinewidth\": 2}, \"yaxis\": {\"automargin\": true, \"gridcolor\": \"white\", \"linecolor\": \"white\", \"ticks\": \"\", \"title\": {\"standoff\": 15}, \"zerolinecolor\": \"white\", \"zerolinewidth\": 2}}}, \"yaxis\": {\"gridcolor\": \"rgb(219, 219, 219)\", \"showgrid\": true, \"title\": {\"text\": \"Days\"}}},\n",
       "                        {\"responsive\": true}\n",
       "                    ).then(function(){\n",
       "                            \n",
       "var gd = document.getElementById('9bbd8f5e-fcb0-421a-b3c4-c9fa69566c6c');\n",
       "var x = new MutationObserver(function (mutations, observer) {{\n",
       "        var display = window.getComputedStyle(gd).display;\n",
       "        if (!display || display === 'none') {{\n",
       "            console.log([gd, 'removed!']);\n",
       "            Plotly.purge(gd);\n",
       "            observer.disconnect();\n",
       "        }}\n",
       "}});\n",
       "\n",
       "// Listen for the removal of the full notebook cells\n",
       "var notebookContainer = gd.closest('#notebook-container');\n",
       "if (notebookContainer) {{\n",
       "    x.observe(notebookContainer, {childList: true});\n",
       "}}\n",
       "\n",
       "// Listen for the clearing of the current output cell\n",
       "var outputEl = gd.closest('.output');\n",
       "if (outputEl) {{\n",
       "    x.observe(outputEl, {childList: true});\n",
       "}}\n",
       "\n",
       "                        })\n",
       "                };\n",
       "                });\n",
       "            </script>\n",
       "        </div>"
      ]
     },
     "metadata": {},
     "output_type": "display_data"
    }
   ],
   "source": [
    "#for each phone model, calculate the average delay on the same bulletin updated\n",
    "normalizedDF=[]\n",
    "\n",
    "\n",
    "for model in uniqueModels:\n",
    "    tmpDFmod=carrierDF[carrierDF.Model==model]\n",
    "    for bul in tmpDFmod.Bulletin_Level.unique():\n",
    "        row=[]\n",
    "        tmpDFbul=tmpDFmod[tmpDFmod.Bulletin_Level==bul]\n",
    "        \n",
    "        if len(tmpDFbul)>1: #then calculate the average\n",
    "            row.append(tmpDFbul.Manufacture.values[0])\n",
    "            row.append(tmpDFbul.Model.values[0])\n",
    "            row.append(tmpDFbul.Bulletin_Level.values[0])\n",
    "            row.append(tmpDFbul.difference.mean())\n",
    "            \n",
    "        else:\n",
    "            row.append(tmpDFbul.Manufacture.values[0])\n",
    "            row.append(tmpDFbul.Model.values[0])\n",
    "            row.append(tmpDFbul.Bulletin_Level.values[0])\n",
    "            row.append(tmpDFbul.difference.values[0])\n",
    "        normalizedDF.append(row.copy()) \n",
    "            \n",
    "normalizedDF=pd.DataFrame(normalizedDF, columns=['Manufacture','Model','Bulletin_Level','difference'])         \n",
    "normalizedDF['Bulletin_Year']=normalizedDF.Bulletin_Level.apply(lambda x: x[:4])\n",
    "\n",
    "\n",
    "sortedMan=[]\n",
    "meanMan=[]\n",
    "for man in uniqueManufactures:\n",
    "    tmps=normalizedDF[normalizedDF.Manufacture==man]\n",
    "    if len(tmps.Model.unique())>2: # only include manfuactures with 3 or more phone models\n",
    "        sortedMan.append(man)\n",
    "        meanMan.append(tmps.difference.mean())\n",
    "\n",
    "sortedMan = [x for _,x in sorted(zip(meanMan,sortedMan))]\n",
    "meanMan = sorted(meanMan)\n",
    "   \n",
    "print(sortedMan)\n",
    "print(meanMan)\n",
    "print()\n",
    "\n",
    "data=[]\n",
    "for man in sortedMan:\n",
    "    #tmps=carrierDF[carrierDF.Manufacture==man]\n",
    "    tmps=normalizedDF[normalizedDF.Manufacture==man]\n",
    "    data.append(go.Box(\n",
    "        y=tmps.difference.values,\n",
    "        name=str(man),\n",
    "        boxpoints = 'all',\n",
    "        marker=dict(\n",
    "                    color='rgb'+str(lvlColor[man]),\n",
    "                ),\n",
    "        showlegend=False\n",
    "    ))   \n",
    "#     print(man)\n",
    "#     print(len(tmps.difference.values))\n",
    "#     print()\n",
    "    \n",
    "# Edit the layout\n",
    "layout = dict(#title = \"Rollout Latency for Manufactures\",\n",
    "              #xaxis = dict(title = 'Manufacturers'),\n",
    "              yaxis = dict(title = 'Days',showgrid=True, gridcolor='rgb(219, 219, 219)'),\n",
    "              plot_bgcolor='rgba(0,0,0,0)',\n",
    "              font=dict(size=20)\n",
    "              )\n",
    "\n",
    "fig = dict(data=data, layout=layout)\n",
    "py.offline.iplot(fig)\n",
    "\n",
    "\n",
    "\n",
    "pio.write_image(fig, 'ALL-manufactures-rollout-latency-avgSameBulletin.pdf', width=1000, height=600)\n"
   ]
  },
  {
   "cell_type": "code",
   "execution_count": null,
   "metadata": {},
   "outputs": [],
   "source": []
  }
 ],
 "metadata": {
  "kernelspec": {
   "display_name": "Python 3",
   "language": "python",
   "name": "python3"
  },
  "language_info": {
   "codemirror_mode": {
    "name": "ipython",
    "version": 3
   },
   "file_extension": ".py",
   "mimetype": "text/x-python",
   "name": "python",
   "nbconvert_exporter": "python",
   "pygments_lexer": "ipython3",
   "version": "3.6.10"
  }
 },
 "nbformat": 4,
 "nbformat_minor": 2
}
