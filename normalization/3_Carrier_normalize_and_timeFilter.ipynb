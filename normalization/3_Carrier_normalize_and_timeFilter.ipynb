{
 "cells": [
  {
   "cell_type": "markdown",
   "metadata": {},
   "source": [
    "## Important Note\n",
    "Some manual data manipulation occurred on this dataset! If you're attempting to data clean from start (initial scrape) to finish, there may be some discrepancies."
   ]
  },
  {
   "cell_type": "code",
   "execution_count": 1,
   "metadata": {},
   "outputs": [
    {
     "name": "stdout",
     "output_type": "stream",
     "text": [
      "2024\n"
     ]
    }
   ],
   "source": [
    "#Import libraries\n",
    "import numpy as np\n",
    "import pandas as pd\n",
    "import matplotlib.pyplot as plt \n",
    "\n",
    "carrierDF=pd.read_csv('../data/allCarrierData_merged_years.csv')\n",
    "print(len(carrierDF))"
   ]
  },
  {
   "cell_type": "code",
   "execution_count": 2,
   "metadata": {},
   "outputs": [],
   "source": [
    "# Drop duplicates\n",
    "carrierDF.drop_duplicates(keep='first', inplace=True ) # drop whole duplicate rows\n",
    "#carrierDF[carrierDF.duplicated(keep=False)]"
   ]
  },
  {
   "cell_type": "code",
   "execution_count": 3,
   "metadata": {},
   "outputs": [
    {
     "name": "stdout",
     "output_type": "stream",
     "text": [
      "      Carrier Manufacture                Model Release_Date  \\\n",
      "1        AT&T     Alcatel   Alcatel IdealXCITE   2018-04-03   \n",
      "4        AT&T     Alcatel   Alcatel IdealXCITE   2018-12-18   \n",
      "5        AT&T  BlackBerry    BlackBerry KEYone   2017-09-26   \n",
      "7        AT&T  BlackBerry    BlackBerry KEYone   2017-10-31   \n",
      "8        AT&T  BlackBerry    BlackBerry KEYone   2017-11-15   \n",
      "...       ...         ...                  ...          ...   \n",
      "1949  Verizon     Samsung  Galaxy Tab 4 (10.1)   2017-01-12   \n",
      "1951  Verizon     Samsung   Galaxy Tab 4 (8.0)   2017-01-12   \n",
      "1974  Verizon     Samsung         Galaxy Tab S   2017-01-19   \n",
      "1996  Verizon        Sony           Xperia Z3v   2016-03-14   \n",
      "1998  Verizon     Verizon          Ellipsis 10   2017-07-14   \n",
      "\n",
      "           Bulletin_Level  difference Android_Level_Guessed  \\\n",
      "1              2018-02-05        57.0                 False   \n",
      "4              2018-10-05        74.0                 False   \n",
      "5              2017-09-05        21.0                 False   \n",
      "7              2017-10-05        26.0                 False   \n",
      "8              2017-11-06         9.0                 False   \n",
      "...                   ...         ...                   ...   \n",
      "1949  2017-01-05 00:00:00         7.0                  True   \n",
      "1951  2017-01-05 00:00:00         7.0                  True   \n",
      "1974  2017-01-05 00:00:00        14.0                  True   \n",
      "1996  2016-03-07 00:00:00         7.0                  True   \n",
      "1998  2017-07-05 00:00:00         9.0                  True   \n",
      "\n",
      "                                                  build  Year_Phone_Release  \\\n",
      "1           JO.2.0.c1-00150-8909_GEN_PACK-1 nan YAMUAM0                2017   \n",
      "4           JO.2.0.c1-00267-8909_GEN_PACK-2 YB3UA30 nan                2017   \n",
      "5     MPSS.TA.2.3.c1-00333-8953_GEN_PACK-1.103777.4....                2017   \n",
      "7     MPSS.TA.2.3.c1-00333-8953_GEN_PACK-1.103777.4....                2017   \n",
      "8     MPSS.TA.2.3.c1-00333-8953_GEN_PACK-1.103777.4....                2017   \n",
      "...                                                 ...                 ...   \n",
      "1949                                                NaN                2014   \n",
      "1951                                                NaN                2014   \n",
      "1974                                                NaN                2014   \n",
      "1996                                                NaN                2014   \n",
      "1998                                                NaN                2015   \n",
      "\n",
      "      Month_Phone_Release checker  \n",
      "1                       6      05  \n",
      "4                       6      05  \n",
      "5                       4      05  \n",
      "7                       4      05  \n",
      "8                       4      06  \n",
      "...                   ...     ...  \n",
      "1949                    6      05  \n",
      "1951                    6      05  \n",
      "1974                    6      05  \n",
      "1996                   10      07  \n",
      "1998                   11      05  \n",
      "\n",
      "[64 rows x 11 columns]\n"
     ]
    }
   ],
   "source": [
    "\n",
    "\n",
    "carrierDF['checker']=carrierDF.Bulletin_Level.apply(lambda x: str(x)[:10])\n",
    "carrierDF['checker']=carrierDF.checker.apply(lambda x: str(x)[-2:])\n",
    "print(carrierDF[carrierDF.checker!=\"01\"])"
   ]
  },
  {
   "cell_type": "code",
   "execution_count": 4,
   "metadata": {},
   "outputs": [
    {
     "name": "stdout",
     "output_type": "stream",
     "text": [
      "1975\n",
      "1975\n"
     ]
    }
   ],
   "source": [
    "######## Filter down to approprate timeline ########\n",
    "print(len(carrierDF))\n",
    "\n",
    "carrierDF.Bulletin_Level=carrierDF.Bulletin_Level.astype(str)\n",
    "carrierDF.Bulletin_Level=carrierDF.Bulletin_Level.str.replace(\" [0:]*\",\"\")\n",
    "carrierDF.Bulletin_Level=carrierDF.Bulletin_Level.apply(lambda x: str(x[:-2])+\"01\") # convert all bulletins to first day\n",
    "\n",
    "# setting the bad bulletins\n",
    "#badBulletins=['2019-09-01', '2019-08-01', '2019-07-01']\n",
    "\n",
    "# for badBul in badBulletins: # filtering...\n",
    "#     carrierDF=carrierDF[carrierDF.Bulletin_Level!=badBul]\n",
    "print(len(carrierDF))"
   ]
  },
  {
   "cell_type": "code",
   "execution_count": 5,
   "metadata": {
    "scrolled": true
   },
   "outputs": [
    {
     "data": {
      "text/html": [
       "<div>\n",
       "<style scoped>\n",
       "    .dataframe tbody tr th:only-of-type {\n",
       "        vertical-align: middle;\n",
       "    }\n",
       "\n",
       "    .dataframe tbody tr th {\n",
       "        vertical-align: top;\n",
       "    }\n",
       "\n",
       "    .dataframe thead th {\n",
       "        text-align: right;\n",
       "    }\n",
       "</style>\n",
       "<table border=\"1\" class=\"dataframe\">\n",
       "  <thead>\n",
       "    <tr style=\"text-align: right;\">\n",
       "      <th></th>\n",
       "      <th>Carrier</th>\n",
       "      <th>Manufacture</th>\n",
       "      <th>Model</th>\n",
       "      <th>Release_Date</th>\n",
       "      <th>Bulletin_Level</th>\n",
       "      <th>difference</th>\n",
       "      <th>Android_Level_Guessed</th>\n",
       "      <th>build</th>\n",
       "      <th>Year_Phone_Release</th>\n",
       "      <th>Month_Phone_Release</th>\n",
       "      <th>checker</th>\n",
       "    </tr>\n",
       "  </thead>\n",
       "  <tbody>\n",
       "    <tr>\n",
       "      <th>5</th>\n",
       "      <td>AT&amp;T</td>\n",
       "      <td>BlackBerry</td>\n",
       "      <td>BlackBerry KEYone</td>\n",
       "      <td>2017-09-26</td>\n",
       "      <td>2017-09-01</td>\n",
       "      <td>21.0</td>\n",
       "      <td>False</td>\n",
       "      <td>MPSS.TA.2.3.c1-00333-8953_GEN_PACK-1.103777.4....</td>\n",
       "      <td>2017</td>\n",
       "      <td>4</td>\n",
       "      <td>05</td>\n",
       "    </tr>\n",
       "    <tr>\n",
       "      <th>6</th>\n",
       "      <td>AT&amp;T</td>\n",
       "      <td>BlackBerry</td>\n",
       "      <td>BlackBerry KEYone</td>\n",
       "      <td>2017-09-26</td>\n",
       "      <td>2017-09-01</td>\n",
       "      <td>25.0</td>\n",
       "      <td>False</td>\n",
       "      <td>MPSS.TA.2.3.c1-00333-8953_GEN_PACK-1.103777.4....</td>\n",
       "      <td>2017</td>\n",
       "      <td>4</td>\n",
       "      <td>01</td>\n",
       "    </tr>\n",
       "    <tr>\n",
       "      <th>56</th>\n",
       "      <td>AT&amp;T</td>\n",
       "      <td>LG</td>\n",
       "      <td>G5</td>\n",
       "      <td>2017-12-05</td>\n",
       "      <td>2017-11-01</td>\n",
       "      <td>29.0</td>\n",
       "      <td>False</td>\n",
       "      <td>MPSS.TH.2.0.c1.4-00041-M8996FAAAANAZM-1.109835...</td>\n",
       "      <td>2016</td>\n",
       "      <td>4</td>\n",
       "      <td>06</td>\n",
       "    </tr>\n",
       "    <tr>\n",
       "      <th>57</th>\n",
       "      <td>AT&amp;T</td>\n",
       "      <td>LG</td>\n",
       "      <td>G5</td>\n",
       "      <td>2017-12-12</td>\n",
       "      <td>2017-11-01</td>\n",
       "      <td>41.0</td>\n",
       "      <td>False</td>\n",
       "      <td>MPSS.TH.2.0.c1.4-00013-M8996FAAAANAZM-2.44625....</td>\n",
       "      <td>2016</td>\n",
       "      <td>4</td>\n",
       "      <td>01</td>\n",
       "    </tr>\n",
       "    <tr>\n",
       "      <th>68</th>\n",
       "      <td>AT&amp;T</td>\n",
       "      <td>LG</td>\n",
       "      <td>G8 ThinQ</td>\n",
       "      <td>2019-11-08</td>\n",
       "      <td>2019-11-01</td>\n",
       "      <td>7.0</td>\n",
       "      <td>True</td>\n",
       "      <td>nan nan G820UM10m</td>\n",
       "      <td>2019</td>\n",
       "      <td>4</td>\n",
       "      <td>01</td>\n",
       "    </tr>\n",
       "    <tr>\n",
       "      <th>...</th>\n",
       "      <td>...</td>\n",
       "      <td>...</td>\n",
       "      <td>...</td>\n",
       "      <td>...</td>\n",
       "      <td>...</td>\n",
       "      <td>...</td>\n",
       "      <td>...</td>\n",
       "      <td>...</td>\n",
       "      <td>...</td>\n",
       "      <td>...</td>\n",
       "      <td>...</td>\n",
       "    </tr>\n",
       "    <tr>\n",
       "      <th>1951</th>\n",
       "      <td>Verizon</td>\n",
       "      <td>Samsung</td>\n",
       "      <td>Galaxy Tab 4 (8.0)</td>\n",
       "      <td>2017-01-12</td>\n",
       "      <td>2017-01-01</td>\n",
       "      <td>7.0</td>\n",
       "      <td>True</td>\n",
       "      <td>NaN</td>\n",
       "      <td>2014</td>\n",
       "      <td>6</td>\n",
       "      <td>05</td>\n",
       "    </tr>\n",
       "    <tr>\n",
       "      <th>1973</th>\n",
       "      <td>Verizon</td>\n",
       "      <td>Samsung</td>\n",
       "      <td>Galaxy Tab S</td>\n",
       "      <td>2017-01-19</td>\n",
       "      <td>2017-01-01</td>\n",
       "      <td>18.0</td>\n",
       "      <td>True</td>\n",
       "      <td>NaN</td>\n",
       "      <td>2014</td>\n",
       "      <td>6</td>\n",
       "      <td>01</td>\n",
       "    </tr>\n",
       "    <tr>\n",
       "      <th>1974</th>\n",
       "      <td>Verizon</td>\n",
       "      <td>Samsung</td>\n",
       "      <td>Galaxy Tab S</td>\n",
       "      <td>2017-01-19</td>\n",
       "      <td>2017-01-01</td>\n",
       "      <td>14.0</td>\n",
       "      <td>True</td>\n",
       "      <td>NaN</td>\n",
       "      <td>2014</td>\n",
       "      <td>6</td>\n",
       "      <td>05</td>\n",
       "    </tr>\n",
       "    <tr>\n",
       "      <th>1997</th>\n",
       "      <td>Verizon</td>\n",
       "      <td>Verizon</td>\n",
       "      <td>Ellipsis 10</td>\n",
       "      <td>2017-07-14</td>\n",
       "      <td>2017-07-01</td>\n",
       "      <td>13.0</td>\n",
       "      <td>True</td>\n",
       "      <td>NaN</td>\n",
       "      <td>2015</td>\n",
       "      <td>11</td>\n",
       "      <td>01</td>\n",
       "    </tr>\n",
       "    <tr>\n",
       "      <th>1998</th>\n",
       "      <td>Verizon</td>\n",
       "      <td>Verizon</td>\n",
       "      <td>Ellipsis 10</td>\n",
       "      <td>2017-07-14</td>\n",
       "      <td>2017-07-01</td>\n",
       "      <td>9.0</td>\n",
       "      <td>True</td>\n",
       "      <td>NaN</td>\n",
       "      <td>2015</td>\n",
       "      <td>11</td>\n",
       "      <td>05</td>\n",
       "    </tr>\n",
       "  </tbody>\n",
       "</table>\n",
       "<p>71 rows × 11 columns</p>\n",
       "</div>"
      ],
      "text/plain": [
       "      Carrier Manufacture               Model Release_Date Bulletin_Level  \\\n",
       "5        AT&T  BlackBerry   BlackBerry KEYone   2017-09-26     2017-09-01   \n",
       "6        AT&T  BlackBerry   BlackBerry KEYone   2017-09-26     2017-09-01   \n",
       "56       AT&T          LG                  G5   2017-12-05     2017-11-01   \n",
       "57       AT&T          LG                  G5   2017-12-12     2017-11-01   \n",
       "68       AT&T          LG            G8 ThinQ   2019-11-08     2019-11-01   \n",
       "...       ...         ...                 ...          ...            ...   \n",
       "1951  Verizon     Samsung  Galaxy Tab 4 (8.0)   2017-01-12     2017-01-01   \n",
       "1973  Verizon     Samsung        Galaxy Tab S   2017-01-19     2017-01-01   \n",
       "1974  Verizon     Samsung        Galaxy Tab S   2017-01-19     2017-01-01   \n",
       "1997  Verizon     Verizon         Ellipsis 10   2017-07-14     2017-07-01   \n",
       "1998  Verizon     Verizon         Ellipsis 10   2017-07-14     2017-07-01   \n",
       "\n",
       "      difference Android_Level_Guessed  \\\n",
       "5           21.0                 False   \n",
       "6           25.0                 False   \n",
       "56          29.0                 False   \n",
       "57          41.0                 False   \n",
       "68           7.0                  True   \n",
       "...          ...                   ...   \n",
       "1951         7.0                  True   \n",
       "1973        18.0                  True   \n",
       "1974        14.0                  True   \n",
       "1997        13.0                  True   \n",
       "1998         9.0                  True   \n",
       "\n",
       "                                                  build  Year_Phone_Release  \\\n",
       "5     MPSS.TA.2.3.c1-00333-8953_GEN_PACK-1.103777.4....                2017   \n",
       "6     MPSS.TA.2.3.c1-00333-8953_GEN_PACK-1.103777.4....                2017   \n",
       "56    MPSS.TH.2.0.c1.4-00041-M8996FAAAANAZM-1.109835...                2016   \n",
       "57    MPSS.TH.2.0.c1.4-00013-M8996FAAAANAZM-2.44625....                2016   \n",
       "68                                    nan nan G820UM10m                2019   \n",
       "...                                                 ...                 ...   \n",
       "1951                                                NaN                2014   \n",
       "1973                                                NaN                2014   \n",
       "1974                                                NaN                2014   \n",
       "1997                                                NaN                2015   \n",
       "1998                                                NaN                2015   \n",
       "\n",
       "      Month_Phone_Release checker  \n",
       "5                       4      05  \n",
       "6                       4      01  \n",
       "56                      4      06  \n",
       "57                      4      01  \n",
       "68                      4      01  \n",
       "...                   ...     ...  \n",
       "1951                    6      05  \n",
       "1973                    6      01  \n",
       "1974                    6      05  \n",
       "1997                   11      01  \n",
       "1998                   11      05  \n",
       "\n",
       "[71 rows x 11 columns]"
      ]
     },
     "execution_count": 5,
     "metadata": {},
     "output_type": "execute_result"
    }
   ],
   "source": [
    "carrierDF[carrierDF.duplicated(subset=['Carrier','Manufacture','Model','Bulletin_Level'],keep=False)]"
   ]
  },
  {
   "cell_type": "code",
   "execution_count": 6,
   "metadata": {},
   "outputs": [
    {
     "name": "stdout",
     "output_type": "stream",
     "text": [
      "1939\n",
      "AT&T\n",
      "394\n",
      "Sprint\n",
      "364\n",
      "TMobile\n",
      "658\n",
      "Verizon\n",
      "523\n"
     ]
    }
   ],
   "source": [
    "# Remove duplicate carrier, manufacture, phone, bulletin pairings. Keep the earliest release date\n",
    "carrierDF=carrierDF.sort_values(by=['Carrier','Manufacture','Model','Bulletin_Level','difference'])# Sort to properly drop duplicates if bulletins were normalized to the same (e.g., level 1 and 5 were both patched thus keep the first date)\n",
    "carrierDF.drop_duplicates(subset=['Carrier','Manufacture','Model','Bulletin_Level'],keep='first', inplace=True ) # drop the duplicates and keep the lowest difference\n",
    "print(len(carrierDF))\n",
    "\n",
    "for car in carrierDF.Carrier.unique():\n",
    "    print(car)\n",
    "    print(len(carrierDF[carrierDF.Carrier==car]))"
   ]
  },
  {
   "cell_type": "code",
   "execution_count": 7,
   "metadata": {},
   "outputs": [
    {
     "name": "stdout",
     "output_type": "stream",
     "text": [
      "1939\n"
     ]
    }
   ],
   "source": [
    "# errors in parsing verizon...\n",
    "carrierDF=carrierDF.sort_values(by=['Carrier','Manufacture','Model','Release_Date','Bulletin_Level'])\n",
    "carrierDF.drop_duplicates(subset=['Carrier','Manufacture','Model','Release_Date','Bulletin_Level'],keep='first', inplace=True ) \n",
    "\n",
    "print(len(carrierDF))"
   ]
  },
  {
   "cell_type": "code",
   "execution_count": 8,
   "metadata": {},
   "outputs": [
    {
     "name": "stdout",
     "output_type": "stream",
     "text": [
      "  Carrier Manufacture               Model Release_Date Bulletin_Level  \\\n",
      "0    AT&T        ASUS      ASUS PadFone X   2018-08-31     2018-04-01   \n",
      "1    AT&T     Alcatel  Alcatel IdealXCITE   2018-04-03     2018-02-01   \n",
      "2    AT&T     Alcatel  Alcatel IdealXCITE   2018-04-03     2018-04-01   \n",
      "3    AT&T     Alcatel  Alcatel IdealXCITE   2018-10-24     2018-08-01   \n",
      "4    AT&T     Alcatel  Alcatel IdealXCITE   2018-12-18     2018-10-01   \n",
      "\n",
      "   difference Android_Level_Guessed  \\\n",
      "0         152                  True   \n",
      "1          61                 False   \n",
      "2           2                  True   \n",
      "3          84                 False   \n",
      "4          78                 False   \n",
      "\n",
      "                                         build  Year_Phone_Release  \\\n",
      "0                 nan ATT_11.10.11.2File 3.4.0                2014   \n",
      "1  JO.2.0.c1-00150-8909_GEN_PACK-1 nan YAMUAM0                2017   \n",
      "2                          nan YB4UA40File nan                2017   \n",
      "3  JO.2.0.c1-00267-8909_GEN_PACK-2 nan YAYUAY0                2017   \n",
      "4  JO.2.0.c1-00267-8909_GEN_PACK-2 YB3UA30 nan                2017   \n",
      "\n",
      "   Month_Phone_Release checker  \n",
      "0                    7      01  \n",
      "1                    6      05  \n",
      "2                    6      01  \n",
      "3                    6      01  \n",
      "4                    6      05  \n"
     ]
    }
   ],
   "source": [
    "# Recalculate difference!\n",
    "carrierDF.Bulletin_Level=pd.to_datetime(carrierDF.Bulletin_Level)\n",
    "carrierDF.Release_Date=pd.to_datetime(carrierDF.Release_Date)\n",
    "\n",
    "newDif=carrierDF.Release_Date-carrierDF.Bulletin_Level\n",
    "newDif=newDif.apply(lambda x: x.days)\n",
    "carrierDF.difference=newDif.copy()\n",
    "print(carrierDF.head())"
   ]
  },
  {
   "cell_type": "code",
   "execution_count": 9,
   "metadata": {},
   "outputs": [],
   "source": [
    "# Remove outliers!!\n",
    "index=carrierDF[((carrierDF.Model=='Galaxy A6') & (carrierDF.difference==-312))].index\n",
    "carrierDF.at[index,'Release_Date']=pd.to_datetime(\"2019-05-24\")\n",
    "\n",
    "index=carrierDF[((carrierDF.Model=='Galaxy Tab A 8.0 (2018)') & (carrierDF.difference==-71))].index\n",
    "carrierDF.at[index,'Release_Date']=pd.to_datetime(\"2019-06-22\")\n",
    "\n",
    "#The following is a use case from using the assumption of the \"same\" year eventhough Jan starts a new year\n",
    "index=carrierDF[((carrierDF.Model=='Galaxy Note9') & (carrierDF.difference==-329))].index\n",
    "carrierDF.at[index,'Bulletin_Level']=pd.to_datetime(\"2018-12-01\")\n",
    "\n",
    "\n",
    "# Recalculate readjusted outliers\n",
    "carrierDF.Bulletin_Level=pd.to_datetime(carrierDF.Bulletin_Level)\n",
    "carrierDF.Release_Date=pd.to_datetime(carrierDF.Release_Date)\n",
    "\n",
    "newDif=carrierDF.Release_Date-carrierDF.Bulletin_Level\n",
    "newDif=newDif.apply(lambda x: x.days)\n",
    "carrierDF.difference=newDif.copy()\n",
    "\n",
    "carrierDF=carrierDF[carrierDF.difference>=-10]\n",
    "carrierDF=carrierDF[carrierDF.difference<=150]\n",
    "\n",
    "\n",
    "# Now change T-Mobile manufacturer to Revvl (T-Mobile)\n",
    "carrierDF.Manufacture=carrierDF.Manufacture.str.replace(\"T-Mobile\",\"Revvl(T-Mobile)\")\n",
    "carrierDF.Carrier=carrierDF.Carrier.str.replace(\"TMobile\",\"T-Mobile\")\n"
   ]
  },
  {
   "cell_type": "code",
   "execution_count": 10,
   "metadata": {},
   "outputs": [
    {
     "name": "stdout",
     "output_type": "stream",
     "text": [
      "1920\n",
      "268\n",
      "26\n",
      "\n",
      "AT&T\n",
      "392\n",
      "Sprint\n",
      "363\n",
      "T-Mobile\n",
      "657\n",
      "Verizon\n",
      "508\n"
     ]
    }
   ],
   "source": [
    "print(len(carrierDF))\n",
    "print(len(carrierDF.Model.unique()))\n",
    "print(len(carrierDF.Manufacture.unique()))\n",
    "print()\n",
    "for car in carrierDF.Carrier.unique():\n",
    "    print(car)\n",
    "    print(len(carrierDF[carrierDF.Carrier==car]))"
   ]
  },
  {
   "cell_type": "code",
   "execution_count": 11,
   "metadata": {},
   "outputs": [],
   "source": [
    "carrierDF.sort_values(by=['Carrier','Manufacture','Model','Release_Date'],inplace=True)\n",
    "carrierDF.to_csv('../data/allCarrierData_final.csv',index=False)"
   ]
  },
  {
   "cell_type": "code",
   "execution_count": 12,
   "metadata": {},
   "outputs": [
    {
     "name": "stdout",
     "output_type": "stream",
     "text": [
      "  Carrier Manufacture               Model Release_Date Bulletin_Level  \\\n",
      "1    AT&T     Alcatel  Alcatel IdealXCITE   2018-04-03     2018-02-01   \n",
      "2    AT&T     Alcatel  Alcatel IdealXCITE   2018-04-03     2018-04-01   \n",
      "3    AT&T     Alcatel  Alcatel IdealXCITE   2018-10-24     2018-08-01   \n",
      "4    AT&T     Alcatel  Alcatel IdealXCITE   2018-12-18     2018-10-01   \n",
      "5    AT&T  BlackBerry   BlackBerry KEYone   2017-09-26     2017-09-01   \n",
      "\n",
      "   difference Android_Level_Guessed  \\\n",
      "1          61                 False   \n",
      "2           2                  True   \n",
      "3          84                 False   \n",
      "4          78                 False   \n",
      "5          25                 False   \n",
      "\n",
      "                                               build  Year_Phone_Release  \\\n",
      "1        JO.2.0.c1-00150-8909_GEN_PACK-1 nan YAMUAM0                2017   \n",
      "2                                nan YB4UA40File nan                2017   \n",
      "3        JO.2.0.c1-00267-8909_GEN_PACK-2 nan YAYUAY0                2017   \n",
      "4        JO.2.0.c1-00267-8909_GEN_PACK-2 YB3UA30 nan                2017   \n",
      "5  MPSS.TA.2.3.c1-00333-8953_GEN_PACK-1.103777.4....                2017   \n",
      "\n",
      "   Month_Phone_Release checker  \n",
      "1                    6      05  \n",
      "2                    6      01  \n",
      "3                    6      01  \n",
      "4                    6      05  \n",
      "5                    4      05  \n"
     ]
    }
   ],
   "source": [
    "print(carrierDF.head())"
   ]
  },
  {
   "cell_type": "code",
   "execution_count": 13,
   "metadata": {},
   "outputs": [
    {
     "name": "stdout",
     "output_type": "stream",
     "text": [
      "['Alcatel' 'BlackBerry' 'HTC' 'Huawei' 'Kyocera' 'LG' 'Motorola' 'RED'\n",
      " 'Razer' 'Samsung' 'ZTE' 'CAT' 'Coolpad' 'Essential' 'Google' 'Slate'\n",
      " 'Sonim' 'ASUS' 'OnePlus' 'Revvl(T-Mobile)' 'Sony' 'KYOCERA' 'Nokia'\n",
      " 'Orbic' 'Palm' 'Verizon']\n"
     ]
    }
   ],
   "source": [
    "print(carrierDF.Manufacture.unique())"
   ]
  },
  {
   "cell_type": "code",
   "execution_count": 14,
   "metadata": {},
   "outputs": [],
   "source": [
    "# print(carrierDF[carrierDF.Model.str.contains(\"Gizmo\")])"
   ]
  },
  {
   "cell_type": "code",
   "execution_count": null,
   "metadata": {},
   "outputs": [],
   "source": []
  }
 ],
 "metadata": {
  "kernelspec": {
   "display_name": "Python 3",
   "language": "python",
   "name": "python3"
  },
  "language_info": {
   "codemirror_mode": {
    "name": "ipython",
    "version": 3
   },
   "file_extension": ".py",
   "mimetype": "text/x-python",
   "name": "python",
   "nbconvert_exporter": "python",
   "pygments_lexer": "ipython3",
   "version": "3.6.10"
  }
 },
 "nbformat": 4,
 "nbformat_minor": 2
}
