{
 "cells": [
  {
   "cell_type": "code",
   "execution_count": 1,
   "metadata": {},
   "outputs": [],
   "source": [
    "import pandas as pd\n",
    "import numpy as np\n",
    "\n"
   ]
  },
  {
   "cell_type": "code",
   "execution_count": 2,
   "metadata": {},
   "outputs": [
    {
     "name": "stdout",
     "output_type": "stream",
     "text": [
      "    Manufacture            Model Release_Date Bulletin_Level difference  \\\n",
      "29          HTC   HTC Desire 626   2015-09-10     2015-09-01          9   \n",
      "194     Samsung    Galaxy Note 5   2015-09-15     2015-09-01         14   \n",
      "320     Samsung  Galaxy S6 edge+   2015-09-15     2015-09-01         14   \n",
      "30          HTC       HTC One M9   2015-10-19     2015-10-01         18   \n",
      "252     Samsung        Galaxy S5   2015-10-22     2015-10-01         21   \n",
      "\n",
      "    Android_Level_Guessed                                              Build  \n",
      "29                   True                             nan 1.24.502.5 3.10.49  \n",
      "194                 False             G920AUCU1AOH5 LMY47X.N920AUCU1AOH5 nan  \n",
      "320                 False             G928AUCU2AO16 LMY47X.G928AUCU2AO16 nan  \n",
      "30                   True  01.01_U11440601_72.02.50602A_F 2.11.502.18 CL5...  \n",
      "252                 False             G900AUCU4CPA1 LMY47X.G900AUCU4CPA1 nan  \n",
      "440\n"
     ]
    }
   ],
   "source": [
    "# Clean AT&T\n",
    "dfatt=pd.read_csv('../data/att_final.csv')\n",
    "dfatt.drop(columns=['Extra_Details'],inplace=True)\n",
    "dfatt['Carrier_Release']=pd.to_datetime(dfatt['Carrier_Release'])\n",
    "dfatt['Security_Level']=pd.to_datetime(dfatt['Security_Level'])\n",
    "dfatt=dfatt.sort_values(by=['Carrier_Release'])\n",
    "dfatt['difference']=dfatt['Carrier_Release']-dfatt['Security_Level']\n",
    "dfatt['difference']=dfatt['difference'].dt.days\n",
    "dfatt=dfatt.loc[:,['Manufacture','Phone','Carrier_Release','Security_Level','difference','Android_Level_Guessed',\"Baseband\",\"Build_Num\",\"Software_Ver\"]]\n",
    "dfatt=dfatt.astype(str)\n",
    "dfatt['Build']=dfatt[\"Baseband\"]+\" \"+dfatt[\"Build_Num\"]+\" \"+dfatt[\"Software_Ver\"]\n",
    "dfatt.drop(columns=['Baseband',\"Build_Num\",\"Software_Ver\"], inplace=True)\n",
    "dfatt.columns=['Manufacture', 'Model', 'Release_Date', 'Bulletin_Level', 'difference','Android_Level_Guessed',\"Build\"]\n",
    "\n",
    "print(dfatt.head())\n",
    "print(len(dfatt))"
   ]
  },
  {
   "cell_type": "code",
   "execution_count": 3,
   "metadata": {},
   "outputs": [
    {
     "name": "stdout",
     "output_type": "stream",
     "text": [
      "  Manufacture       Model Bulletin_Level Release_Date  difference  \\\n",
      "0        ASUS  ZenFone AR     2017-09-01   2017-10-23          52   \n",
      "1        ASUS  ZenFone AR     2018-03-01   2018-04-16          46   \n",
      "2        ASUS  ZenFone AR     2018-04-01   2018-04-16          15   \n",
      "3        ASUS  ZenFone AR     2018-06-01   2018-09-14         105   \n",
      "4        ASUS  ZenFone AR     2018-09-01   2018-09-14          13   \n",
      "\n",
      "  Android_Level_Guessed         Version  \n",
      "0                 False             nan  \n",
      "1                 False             nan  \n",
      "2                   nan   v3.8.1 v3.8.1  \n",
      "3                 False             nan  \n",
      "4                   nan   v3.8.3 v3.8.3  \n",
      "612\n"
     ]
    }
   ],
   "source": [
    "# Clean Verizon\n",
    "dfver=pd.read_csv('../data/VerizonTotal.csv')#,names=['Manufacture','Model', 'Bulletin_Level', 'Release_Date','Details','Android_Level_Guessed'])\n",
    "dfver=dfver.astype(str)\n",
    "\n",
    "dfver.Model=dfver.Model.str.strip() #remove special characters\n",
    "dfver.Model=dfver.Model.str.replace(r\"\\xa0\",\" \") #remove special characters\n",
    "\n",
    "# Calculate the time difference\n",
    "dfver['Release_Date']=pd.to_datetime(dfver.Release_Date)\n",
    "dfver['Bulletin_Level']=pd.to_datetime(dfver.Bulletin_Level)\n",
    "dfver['difference']=dfver['Release_Date']-dfver['Bulletin_Level']\n",
    "dfver['difference']=dfver['difference'].dt.days\n",
    "dfver=dfver.loc[:,[\"Manufacture\",\"Model\",\"Bulletin_Level\",\"Release_Date\",\"difference\",\"Android_Level_Guessed\",\"Version\"]]\n",
    "print(dfver.head())\n",
    "print(len(dfver))\n"
   ]
  },
  {
   "cell_type": "code",
   "execution_count": 4,
   "metadata": {},
   "outputs": [
    {
     "name": "stdout",
     "output_type": "stream",
     "text": [
      "  Manufacture             Model Release_Date Bulletin_Level  difference  \\\n",
      "0   - Samsung  Galaxy J3 Emerge   2017-07-10     2017-07-01           9   \n",
      "1   - Samsung         Galaxy S8   2017-07-08     2017-06-01          37   \n",
      "2  Blackberry            KEYone   2019-01-11     2019-01-01          10   \n",
      "3  Blackberry            KEYone   2019-02-06     2019-02-01           5   \n",
      "4  Blackberry            KEYone   2019-04-22     2019-04-01          21   \n",
      "\n",
      "   Android_Level_Guessed Software_Version  \n",
      "0                   True    J327PVPU1AQF4  \n",
      "1                  False    G950USQU1AQFJ  \n",
      "2                  False     BBB100-3V016  \n",
      "3                  False     BBB100-3V017  \n",
      "4                  False     BBB100-3V019  \n",
      "369\n"
     ]
    }
   ],
   "source": [
    "# Clean Sprint\n",
    "dfsprnt=pd.read_csv('../data/sprint_final.csv',index_col=False)\n",
    "dfsprnt=dfsprnt.loc[:,['Manufacture','Model','Release_Date','Bulletin_Level','difference','Description','Android_Level_Guessed','Software_Version']]\n",
    "dfsprnt=dfsprnt.drop(columns=['Description'])\n",
    "\n",
    "# Calculate the time differences\n",
    "dfsprnt['Release_Date']=pd.to_datetime(dfsprnt['Release_Date'])\n",
    "dfsprnt['Bulletin_Level']=pd.to_datetime(dfsprnt['Bulletin_Level'])\n",
    "dfsprnt['difference']=dfsprnt['Release_Date']-dfsprnt['Bulletin_Level']\n",
    "dfsprnt['difference']=dfsprnt['difference'].dt.days\n",
    "\n",
    "dfsprnt.drop_duplicates(inplace=True)\n",
    "print(dfsprnt.head())\n",
    "print(len(dfsprnt))"
   ]
  },
  {
   "cell_type": "code",
   "execution_count": 5,
   "metadata": {},
   "outputs": [
    {
     "name": "stdout",
     "output_type": "stream",
     "text": [
      "  Manufacture      Model Release_Date Bulletin_Level  difference  \\\n",
      "0     Alcatel      3T 8\"   2018-12-03     2018-12-01           2   \n",
      "1     Alcatel      3T 8\"   2019-02-22     2019-02-01          21   \n",
      "2     Alcatel      3T 8\"   2019-03-22     2019-03-01          21   \n",
      "3     Alcatel  Fierce XL   2016-10-10     2016-10-01           9   \n",
      "4     Alcatel  Fierce XL   2017-01-23     2017-01-01          22   \n",
      "\n",
      "   Android_Level_Guessed                            VERSION_BUILD  \n",
      "0                   True  android 8.1.0baseband version: 1atrumr1  \n",
      "1                   True  android 8.1.0baseband version: 1atyumy1  \n",
      "2                   True  android 8.1.0baseband version: 1atzumz1  \n",
      "3                   True                   android 5.1 / d7q-umq2  \n",
      "4                   True                   android 5.1 / d7u-umu0  \n",
      "664\n"
     ]
    }
   ],
   "source": [
    "#Clean T-Mobile\n",
    "dftmob=pd.read_csv('../data/tmob_final_CLEANED.csv')#,names=['Release_Date','ENHANCEMENTS','Manufacture', 'Model', 'OS' , 'Android_Level_Guessed','Bulletin_Level', 'difference',],index_col=False)\n",
    "dftmob.drop(columns=['ENHANCEMENTS','OS_version'],inplace=True)\n",
    "dftmob=dftmob.loc[:,['Manufacture', 'Model', 'Release_Date' , 'Bulletin_Level' , 'difference','Android_Level_Guessed','VERSION_BUILD']]\n",
    "dftmob['Release_Date']=pd.to_datetime(dftmob['Release_Date'])\n",
    "dftmob['Bulletin_Level']=pd.to_datetime(dftmob['Bulletin_Level'])\n",
    "print(dftmob.head())\n",
    "print(len(dftmob))"
   ]
  },
  {
   "cell_type": "code",
   "execution_count": 6,
   "metadata": {},
   "outputs": [
    {
     "name": "stdout",
     "output_type": "stream",
     "text": [
      "Index(['Manufacture', 'Model', 'Bulletin_Level', 'Release_Date', 'difference',\n",
      "       'Android_Level_Guessed', 'Version'],\n",
      "      dtype='object')\n",
      "2085\n",
      "    Carrier Manufacture            Model Release_Date Bulletin_Level  \\\n",
      "29     AT&T         HTC   HTC Desire 626   2015-09-10     2015-09-01   \n",
      "194    AT&T     Samsung    Galaxy Note 5   2015-09-15     2015-09-01   \n",
      "320    AT&T     Samsung  Galaxy S6 edge+   2015-09-15     2015-09-01   \n",
      "30     AT&T         HTC       HTC One M9   2015-10-19     2015-10-01   \n",
      "252    AT&T     Samsung        Galaxy S5   2015-10-22     2015-10-01   \n",
      "\n",
      "    difference Android_Level_Guessed  \\\n",
      "29           9                  True   \n",
      "194         14                 False   \n",
      "320         14                 False   \n",
      "30          18                  True   \n",
      "252         21                 False   \n",
      "\n",
      "                                                 build  \n",
      "29                              nan 1.24.502.5 3.10.49  \n",
      "194             G920AUCU1AOH5 LMY47X.N920AUCU1AOH5 nan  \n",
      "320             G928AUCU2AO16 LMY47X.G928AUCU2AO16 nan  \n",
      "30   01.01_U11440601_72.02.50602A_F 2.11.502.18 CL5...  \n",
      "252             G900AUCU4CPA1 LMY47X.G900AUCU4CPA1 nan  \n"
     ]
    }
   ],
   "source": [
    "### NOTICE: A PROBLEM ARISES FOR PHONE MODEL NAMING AS GALAXY NOTE IS EITHER NOTE {DIGIT} OR NOTE{DIGIT}\n",
    "# ###################### COMBINE ALL DATA ######################\n",
    "# drop NaN values\n",
    "dfatt=dfatt.dropna(subset=['Bulletin_Level'])\n",
    "dfver=dfver.dropna(subset=['Bulletin_Level'])\n",
    "print(dfver.columns)\n",
    "\n",
    "# normalize columns names for future merge\n",
    "dfatt.columns=['Manufacture', 'Model', 'Release_Date', 'Bulletin_Level','difference','Android_Level_Guessed',\"build\"]\n",
    "dfatt['Carrier']=\"AT&T\"\n",
    "\n",
    "dfver.columns=['Manufacture', 'Model','Bulletin_Level','Release_Date', 'difference','Android_Level_Guessed',\"build\"]\n",
    "dfver['Carrier']=\"Verizon\"\n",
    "\n",
    "dftmob.columns=['Manufacture', 'Model', 'Release_Date', 'Bulletin_Level','difference','Android_Level_Guessed',\"build\"]\n",
    "dftmob['Carrier']=\"TMobile\"\n",
    "\n",
    "dfsprnt.columns=['Manufacture', 'Model', 'Release_Date', 'Bulletin_Level','difference','Android_Level_Guessed',\"build\"]\n",
    "dfsprnt['Carrier']=\"Sprint\"\n",
    "\n",
    "\n",
    "# append all together\n",
    "finalDF=dfatt\n",
    "finalDF=finalDF.append(dfver)\n",
    "finalDF=finalDF.append(dftmob)\n",
    "finalDF=finalDF.append(dfsprnt)\n",
    "\n",
    "# shift carrier columns\n",
    "columns=list(finalDF)\n",
    "columns.insert(0, columns.pop(columns.index('Carrier')))\n",
    "finalDF= finalDF.loc[:, columns]\n",
    "\n",
    "# sort by carrier, manufacture, model, bulletin level\n",
    "print(len(finalDF))\n",
    "print(finalDF.head())\n"
   ]
  },
  {
   "cell_type": "code",
   "execution_count": 7,
   "metadata": {
    "scrolled": true
   },
   "outputs": [],
   "source": [
    "#Remove outliers\n",
    "finalDF.difference=finalDF.difference.astype('double')\n",
    "\n",
    "# Save the remaining dataframe!!\n",
    "finalDF.to_csv('../data/allCarrierData_merged.csv',index=False)\n"
   ]
  },
  {
   "cell_type": "code",
   "execution_count": 8,
   "metadata": {},
   "outputs": [
    {
     "name": "stdout",
     "output_type": "stream",
     "text": [
      "    Carrier Manufacture                    Model         Release_Date  \\\n",
      "162    AT&T     Samsung     Galaxy Express prime           2016-04-18   \n",
      "154    AT&T     Samsung         Galaxy Express 3           2016-04-27   \n",
      "46     AT&T     Kyocera    Kyocera DuraForce Pro           2016-09-28   \n",
      "40     AT&T     Kyocera  Kyocera DuraForce PRO 2           2016-09-28   \n",
      "41     AT&T     Kyocera  Kyocera DuraForce PRO 2           2016-12-14   \n",
      "..      ...         ...                      ...                  ...   \n",
      "364  Sprint       Slate                 8 Tablet  2015-11-18 00:00:00   \n",
      "365  Sprint       Slate                 Slate 10  2016-05-11 00:00:00   \n",
      "366  Sprint       Slate                  Slate 8  2016-05-11 00:00:00   \n",
      "367  Sprint       Sonim                      XP8  2019-01-31 00:00:00   \n",
      "368  Sprint       Sonim                      XP8  2019-05-06 00:00:00   \n",
      "\n",
      "          Bulletin_Level  difference Android_Level_Guessed  \\\n",
      "162           2016-04-02        16.0                 False   \n",
      "154           2016-04-02        25.0                 False   \n",
      "46            2016-07-05        85.0                 False   \n",
      "40            2016-07-05        85.0                  True   \n",
      "41            2016-10-05        70.0                 False   \n",
      "..                   ...         ...                   ...   \n",
      "364  2015-11-01 00:00:00        17.0                  True   \n",
      "365  2016-05-01 00:00:00        10.0                  True   \n",
      "366  2016-05-01 00:00:00        10.0                  True   \n",
      "367  2019-01-01 00:00:00        30.0                 False   \n",
      "368  2019-05-01 00:00:00         5.0                  True   \n",
      "\n",
      "                                              build checker  \n",
      "162          J320AUCU2AQA1 MMB29K.J320AUCS2AQA1 nan      02  \n",
      "154          J120AUCU2APJ2 MMB29K.J120AUCU2APJ2 nan      02  \n",
      "46   nan nan 5.081AT (3GB RAM) or 1.050AT (2GB RAM)      05  \n",
      "40                                      nan nan nan      05  \n",
      "41                                  nan nan 1.100AT      05  \n",
      "..                                              ...     ...  \n",
      "364                                 NKS.01.45.00.04      00  \n",
      "365                                 NKJ.01.16.02.04      00  \n",
      "366                                 NKS.02.16.03.04      00  \n",
      "367                        8A.0.0-03-7.1.1-29.20.00      00  \n",
      "368                        8A.0.0-03-7.1.1-29.22.00      00  \n",
      "\n",
      "[1674 rows x 9 columns]\n"
     ]
    }
   ],
   "source": [
    "# All higher-level bulletins\n",
    "finalDF['checker']=finalDF.Bulletin_Level.apply(lambda x: str(x)[-2:])\n",
    "print(finalDF[finalDF.checker!=\"01\"])"
   ]
  },
  {
   "cell_type": "code",
   "execution_count": 9,
   "metadata": {},
   "outputs": [
    {
     "name": "stdout",
     "output_type": "stream",
     "text": [
      "['HTC Desire 626' 'Galaxy Note 5' 'Galaxy S6 edge+' 'HTC One M9'\n",
      " 'Galaxy S5' 'Galaxy S5 Active' 'LG V10' 'LG G Vista 2' 'Galaxy S6 edge'\n",
      " 'Galaxy S6' 'HTC Desire 610' 'ZTE Maven' 'LG V40 ThinQ' 'Motorola Moto X'\n",
      " 'AT&T AXIA' 'Galaxy S7' 'Galaxy S7 edge' 'Galaxy Express prime'\n",
      " 'Galaxy Express 3' 'LG G5' 'LG G4' 'Galaxy S7 active' 'Galaxy Note 4'\n",
      " 'Galaxy Note Edge' 'Galaxy S6 active' 'Kyocera DuraForce Pro'\n",
      " 'Kyocera DuraForce PRO 2' 'Huawei Ascend XT' 'ZTE Maven 2' 'LG K10'\n",
      " 'Galaxy J3 (2016)' 'LG V20' 'Galaxy Note9' 'Galaxy J7 (2018)'\n",
      " 'Motorola Moto e' 'Galaxy J3 (2017)' 'Galaxy Express Prime 2' 'Galaxy S8'\n",
      " 'Galaxy S8+' 'Alcatel ONETOUCH ALLURA' 'LG G6 (H871' 'LG  H871S)'\n",
      " 'LG Phoenix 3' 'Galaxy S4' 'Galaxy Note II' 'Galaxy S8 Active' 'LG K20'\n",
      " 'Motorola Moto Z2 Force Edition' 'Galaxy Note8' 'BlackBerry KEYone'\n",
      " 'ZTE Maven 3' 'LG X venture' 'LG V30' 'Motorola Moto e5 play'\n",
      " 'Galaxy J7 (J727A)' 'LG Prime 2' 'LG Stylo 5+' 'Galaxy Note 3'\n",
      " 'Galaxy S9' 'Galaxy  S9+' 'Alcatel IdealXCITE and CAMEOX'\n",
      " 'Motorola Moto G6 Play' 'Galaxy J3 (2018)' 'Galaxy Express Prime 3'\n",
      " 'LG V35 ThinQ' 'K30' 'LG Phoenix 4' 'ASUS PadFone X' 'LG Xpression Plus'\n",
      " 'RED Hydrogen One' 'Galaxy A6' 'Alcatel idealXtra' 'Razer Phone 2'\n",
      " 'LG G8' 'Galaxy  Note10+' 'Galaxy Note10' 'ZTE Axon M' 'Galaxy Fold'\n",
      " 'LG Xpression Plus 2' 'LG G8X ThinQ' 'ZenFone AR' 'ZenFone V'\n",
      " 'ZenFone V Live' 'ZenPad Z10' 'ZenPad Z8' 'ZenPad Z8s' 'Avalon'\n",
      " 'Avalon V' 'Classic' 'PRIV' 'Z10' 'Z30' 'PRO 2'\n",
      " 'PRO with Sapphire Shield' 'Nexus 6' 'Pixel' 'Pixel 2' 'Pixel 2 XL'\n",
      " 'Pixel 3' 'Pixel 3 XL' 'Pixel 3a' 'Pixel 3a XL' 'Pixel 4' 'Pixel 4 XL'\n",
      " 'Pixel Phone by Google' 'Pixel XL' 'Pixel XL Phone by Google' '10'\n",
      " 'Desire 526' 'Desire 530' 'Desire 626' 'One' 'One (M8)' 'One M9'\n",
      " 'DuraForce PRO 2' 'eTalk' 'Cadence' 'DuraForce PRO with Sapphire Shield'\n",
      " 'LTE' 'Brigadier' 'Exalt LTE' 'G Pad 10.1' 'G Pad 10.1 LTE' 'G Pad 7.0'\n",
      " 'G Pad 7.0 LTE' 'G Pad 8.3' 'G Pad 8.3 LTE' 'G Pad X8.3' 'G Vista' 'G2'\n",
      " 'G3' 'G4' 'G5' 'G6' 'G7 ThinQ' 'G8 ThinQ' 'K20 V' 'K4' 'K8 V'\n",
      " 'Optimus Zone 3' 'Stylo 2 V' 'Stylo 5' 'V10' 'V20' 'V30' 'V40 ThinQ'\n",
      " 'V50 ThinQ 5G' 'Watch Urbane 2nd Edition' 'ZONE 4' 'DROID MAXX 2'\n",
      " 'DROID MINI' 'DROID TURBO 2' 'Droid Mini' 'Droid TURBO' 'Droid Turbo'\n",
      " 'Droid Turbo 2' 'Moto G Play' 'Moto X' 'Moto X (2nd Gen.)'\n",
      " 'Moto Z Droid Edition' 'Moto Z Force Droid Edition'\n",
      " 'Moto Z Play Droid Edition' 'Moto e4' 'Moto e4 gold' 'Moto e4 plus'\n",
      " 'Moto e5 go' 'Moto e5 play' 'Moto g6' 'Moto g6 play' 'Moto g7 power'\n",
      " 'Moto z2 force' 'Moto z2 play' 'Moto z3' 'e 4  gold' 'e 4  plus'\n",
      " 'e 4  prepaid' 'e 5  go' 'e 5  play' 'e 6' 'e4' 'e4 gold' 'e4 plus'\n",
      " 'e4 prepaid' 'e5 go' 'e5 play' 'e6' 'g 6' 'g 6  play' 'g 7  power' 'g6'\n",
      " 'g6 play' 'g7 power' 'z 2  force edition' 'z 2  play' 'z 3' 'z 4'\n",
      " 'z2 force edition' 'z2 play' 'z3' 'z4' '6' '2 V' '3 V' 'Nokia 2 V'\n",
      " 'Orbic Wonder' 'Wonder' 'Palm Palm' 'Phone' 'HYDROGEN ONE' 'Galaxy A10e'\n",
      " 'Galaxy A20' 'Galaxy A50' 'Galaxy Core Prime' 'Galaxy J1'\n",
      " 'Galaxy J3 (3rd Gen.)' 'Galaxy J3 Eclipse' 'Galaxy J3 Mission'\n",
      " 'Galaxy J3 V (3rd Gen.)' 'Galaxy J7 (2nd Gen.)' 'Galaxy J7 V'\n",
      " 'Galaxy J7 V (2nd Gen.)' 'Galaxy Note\\x01' 'Galaxy Note Pro'\n",
      " 'Galaxy Note10+' 'Galaxy Note10+ 5G' 'Galaxy Note5' 'Galaxy S 4'\n",
      " 'Galaxy S 4 mini' 'Galaxy S 5' 'Galaxy S10' 'Galaxy S10 5G' 'Galaxy S10+'\n",
      " 'Galaxy S10e' 'Galaxy S4 mini' 'Galaxy S6 edge +' 'Galaxy S9+'\n",
      " 'Galaxy Tab 4 (10.1)' 'Galaxy Tab 4 (8.0)' 'Galaxy Tab A (10.5)'\n",
      " 'Galaxy Tab A (8.0)' 'Galaxy Tab E (8.0 - Refresh)' 'Galaxy Tab E (8.0)'\n",
      " 'Galaxy Tab E (9.6)' 'Galaxy Tab S' 'Galaxy Tab S2' 'Galaxy Tab S3'\n",
      " 'Galaxy Tab S4' 'Galaxy Tab S5e' 'Galaxy Tab S6' 'Gear S2 classic' 'XP5s'\n",
      " 'XP8' 'Xperia Z2 Tablet' 'Xperia Z3v' 'Ellipsis 10' 'Ellipsis 10 HD'\n",
      " 'Ellipsis 8' 'Ellipsis 8 HD' 'Ellipsis Kids' 'GizmoTab' 'GizmoTablet'\n",
      " 'Blade Vantage' 'Lucid3' 'Palm' '3T 8\"' 'Fierce XL' 'LINKZONE'\n",
      " 'ONETOUCH Fierce 2' 'ONETOUCH Pixi 7' 'ONETOUCH Pop 7' 'POP Astro'\n",
      " 'Catalyst' 'Desire 626s' 'Nexus 9' 'One LTE' 'One M8' 'U11 life'\n",
      " 'Hydro Wave' 'Aristo' 'Aristo 2 PLUS' 'Aristo 4+' 'G Flex' 'G Pad F 8.0'\n",
      " 'G Pad X 8.0' 'G Stylo' 'K10' 'K20 Plus' 'K40' 'Leon LTE' 'Nexus 5'\n",
      " 'Optimus L90' 'Q7+' 'Stylo 2 PLUS' 'Stylo 3 Plus' 'Stylo 4' 'V30/V30+'\n",
      " 'E 4th Generation' 'moto G7 power' 'moto z2 force edition' '6T' '7 Pro'\n",
      " 'Nexus 7 2013 LTE' 'Galaxy Avant' 'Galaxy GRAND Prime' 'Galaxy J3 Star'\n",
      " 'Galaxy J7' 'Galaxy J7 Prime' 'Galaxy J7 Star' 'Galaxy Light'\n",
      " 'Galaxy Note 10.1 2014 Edition' 'Galaxy S7 Edge' 'Galaxy Tab 3 7.0'\n",
      " 'Galaxy Tab 4' 'Galaxy Tab E 8.0' 'J3 Prime' 'S6 Edge Plus'\n",
      " 'Tab A (2018)' 'Tab A 8.0' 'Xperia Z1S 4G LTE' 'Xperia Z3' 'REVVL'\n",
      " 'REVVL 2' 'REVVL 2 PLUS' 'REVVL PLUS' 'Avid Plus' 'Avid Trio'\n",
      " 'Concord II' 'Obsidian' 'ZMAX' 'ZMAX Pro' 'Zinger' 'Galaxy J3 Emerge'\n",
      " 'KEYone' 'S48C' 'Illumina' 'Legacy Go' 'Essential Phone' '5G Hub'\n",
      " 'HTC 10' 'One A9' 'One E8' 'U 11' 'Nexus 6p' 'Hydro Vibe' 'Flex 2'\n",
      " 'G Pad F 7.0' 'G Pad F2 8.0' 'LG G Pad 7' 'LG G3' 'LG G6' 'Nexus 5x'\n",
      " 'Stylo 2' 'Stylo 3' 'Stylo 4+' 'Tribute Dynasty' 'Tribute Empire'\n",
      " 'Tribute HD' 'V30+' 'X charge' 'X power' 'E4 Plus' 'E5 Play' 'E5 Plus'\n",
      " 'G6 Play' 'G7 Play' 'Moto E4' 'Moto G4' 'Moto X Pure Edition' 'Z2 Force'\n",
      " 'Z3 Play' '7 Pro 5G' 'GS7 Special Edition' 'GS7 Edge Special Edition'\n",
      " 'Galaxy Grand Prime' 'Galaxy J3' 'Galaxy J3 Achieve' 'Galaxy J7 Perx'\n",
      " 'Galaxy J7 Refine' 'Galaxy Note 8' 'Galaxy Note 9' 'Galaxy S5 Sport'\n",
      " 'Galaxy S6 Edge' 'Galaxy S6 Edge+' 'Galaxy Tab A 10.5' 'Galaxy Tab A 8.0'\n",
      " 'Galaxy Tab E' '8 Tablet' 'Slate 10' 'Slate 8']\n"
     ]
    }
   ],
   "source": [
    "#print(finalDF.Model.unique())\n",
    "print(finalDF.Model.unique())"
   ]
  },
  {
   "cell_type": "code",
   "execution_count": null,
   "metadata": {},
   "outputs": [],
   "source": []
  }
 ],
 "metadata": {
  "kernelspec": {
   "display_name": "Python 3",
   "language": "python",
   "name": "python3"
  },
  "language_info": {
   "codemirror_mode": {
    "name": "ipython",
    "version": 3
   },
   "file_extension": ".py",
   "mimetype": "text/x-python",
   "name": "python",
   "nbconvert_exporter": "python",
   "pygments_lexer": "ipython3",
   "version": "3.6.10"
  }
 },
 "nbformat": 4,
 "nbformat_minor": 2
}
